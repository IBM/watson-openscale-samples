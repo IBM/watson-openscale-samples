{
    "cells": [
        {
            "cell_type": "markdown",
            "metadata": {
                "id": "9ec6e02f-b8a7-4e9b-8b70-4cc770a00815"
            },
            "source": [
                "<img src=\"https://github.com/pmservice/ai-openscale-tutorials/raw/master/notebooks/images/banner.png\" align=\"left\" alt=\"banner\">"
            ]
        },
        {
            "cell_type": "markdown",
            "metadata": {
                "id": "62b87ee0-6470-4fee-ad93-b752cfb20fd2"
            },
            "source": [
                "# IBM Watson OpenScale and Batch Processing:<br>Apache Spark on Cloud Pak for Data with IBM Analytics Engine"
            ]
        },
        {
            "cell_type": "markdown",
            "metadata": {
                "id": "a6a40839-4693-4954-977c-a06be10f1654"
            },
            "source": [
                "This notebook must be run in the Python 3.10 runtime environment. It requires Watson OpenScale service credentials.\n",
                "\n",
                "The notebook configures Watson OpenScale to monitor any WML online deployment as a self managed subscription on Openscale. For self managed subscriptions, all the monitors are run as jobs on user provided spark engine. Use the notebook to enable quality, drift, fairness and explainability monitoring and run on-demand evaluations. Before you can run the notebook, you must have the following resources:\n",
                "\n",
                "1. Configuration Archive generated using common configuration notebook [common configuration notebook](https://github.com/IBM/watson-openscale-samples/blob/main/Cloud%20Pak%20for%20Data/Batch%20Support/Configuration%20generation%20for%20OpenScale%20batch%20subscription.ipynb) and pre created WML deployment.\n",
                "2. Payload, feedback, drifted transactions, explanations queue and result tables to be created or validated in an Apache Hive datawarehouse. Please note, some of these maybe optional depending on your use-case."
            ]
        },
        {
            "cell_type": "markdown",
            "metadata": {
                "id": "2c379979-c5ad-4474-a0d6-a3e47ba52875"
            },
            "source": [
                "## Contents\n",
                "\n",
                "* [1. Setup](#setup)\n",
                "* [2. Configure Watson OpenScale](#openscale)\n",
                "* [3. Set up Subscription](#subscription)\n",
                "* [4. Quality monitoring](#quality)\n",
                "* [5. Drift monitoring](#drift)\n",
                "* [6. Fairness monitoring](#fairness)\n",
                "* [7. Explainability monitoring](#explainability)"
            ]
        },
        {
            "cell_type": "markdown",
            "metadata": {
                "id": "53c27c83-e746-43e4-96ba-62bb75548e79"
            },
            "source": [
                "# 1. Setup <a name=\"setup\"></a>"
            ]
        },
        {
            "cell_type": "markdown",
            "metadata": {
                "id": "4a5d6f70-033b-456b-b78b-2c60b681858b"
            },
            "source": [
                "### Installing Required Libraries\n",
                "\n",
                "First import some of the packages you need to use. After you finish installing the following software packages, restart the kernel.\n",
                "\n",
                "### Import configuration archive/package\n",
                "\n",
                "Configuration archive/package created using configuration notebook will be required to onboard model for monitoring in IBM Watson OpenScale. Provide path location of archive here.\n",
                "\n",
                "Please note if you are executing this notebook in IBM Watson Studio, first upload the configuration archive/package to project and use provided code snippet to download it to local directory of this notebook."
            ]
        },
        {
            "cell_type": "code",
            "execution_count": 1,
            "metadata": {
                "id": "83d173c5-052c-4665-a835-cf4fb9f3c736"
            },
            "outputs": [
                {
                    "name": "stdout",
                    "output_type": "stream",
                    "text": [
                        "env: PIP_DISABLE_PIP_VERSION_CHECK=1\n"
                    ]
                }
            ],
            "source": [
                "import warnings\n",
                "import tarfile\n",
                "warnings.filterwarnings(\"ignore\")\n",
                "%env PIP_DISABLE_PIP_VERSION_CHECK=1\n",
                "\n",
                "# Note: Restart kernel after the dependencies are installed\n",
                "!pip install --upgrade ibm-watson-openscale\n",
                "!pip install \"ibm_wos_utils~=5.0.0\"\n",
                "\n",
                "# # Download \"configuration_archive.tar.gz\" from project to local directory and \n",
                "# extract the artifacts\n",
                "# from ibm_watson_studio_lib import access_project_or_space\n",
                "# wslib = access_project_or_space()\n",
                "# wslib.download_file(\"configuration_archive.tar.gz\")\n",
                "archive_file_path = \"configuration_archive.tar.gz\"\n",
                "with tarfile.open('configuration_archive.tar.gz', \"r:gz\") as tar:\n",
                "    tar.extractall('.')\n",
                "# On unpacking the configuration archive, the files [common_configuration.json, drift_archive.tar.gz, \n",
                "# explainability.tar.gz, fairness_statistics.json] will be extracted to the current directory. \n",
                "# Output may differ depending on which monitors were enabled while running the \n",
                "# common configuration notebook"
            ]
        },
        {
            "cell_type": "code",
            "execution_count": 2,
            "metadata": {
                "id": "9f5c59b7-046b-4118-8595-c23b272e6ed2"
            },
            "outputs": [
                {
                    "name": "stdout",
                    "output_type": "stream",
                    "text": [
                        "Name: ibm-watson-openscale\n",
                        "Version: 3.0.39\n",
                        "Summary: Client library for IBM Watson OpenScale\n",
                        "Home-page: https://github.ibm.com/watson-developer-cloud/openscale-python-sdk\n",
                        "Author: IBM Watson OpenScale\n",
                        "Author-email: kishore.patel@in.ibm.com\n",
                        "License: Apache 2.0\n",
                        "Location: /opt/conda/envs/Python-RT24.1-Premium/lib/python3.11/site-packages\n",
                        "Requires: ibm-cloud-sdk-core, pandas, python-dateutil, requests\n",
                        "Required-by: \n"
                    ]
                }
            ],
            "source": [
                "!pip show ibm-watson-openscale"
            ]
        },
        {
            "cell_type": "markdown",
            "metadata": {
                "id": "f88fd4ce-007c-4e7d-89a6-74ac585c0ad4"
            },
            "source": [
                "## Configure credentials\n",
                "\n",
                "Provide your IBM Watson OpenScale and WML credentials in the following cell:"
            ]
        },
        {
            "cell_type": "code",
            "execution_count": 3,
            "metadata": {
                "id": "f30968d7-16d6-4239-80fa-4782845115dc"
            },
            "outputs": [],
            "source": [
                "WOS_CREDENTIALS = {\n",
                "    \"url\": \"<cluster-url>\",\n",
                "    \"username\": \"<username>\",\n",
                "    \"password\": \"<password>\",\n",
                "    \"instance_id\": \"<openscale instance id>\"\n",
                "}\n",
                "\n",
                "WML_CREDENTIALS = {\n",
                "    \"url\": \"<wml_url>\",\n",
                "    \"username\": \"<username\",\n",
                "    \"password\": \"<password>\",\n",
                "    \"instance_id\": \"<instance id>\"\n",
                "}"
            ]
        },
        {
            "cell_type": "markdown",
            "metadata": {
                "id": "751fb159-b95f-4791-93f3-6c29c21d99d2"
            },
            "source": [
                "## Specify model details"
            ]
        },
        {
            "cell_type": "markdown",
            "metadata": {
                "id": "9ee265c7-7f58-4ad5-afae-a1d1839ba573"
            },
            "source": [
                "### Service provider and subscription metadata"
            ]
        },
        {
            "cell_type": "code",
            "execution_count": 4,
            "metadata": {
                "id": "a43dcbc2-39e5-4a68-8d84-a81611e8fbeb"
            },
            "outputs": [],
            "source": [
                "# Service Provider\n",
                "\n",
                "SERVICE_PROVIDER_NAME = \"<service-provider-name>\"\n",
                "SERVICE_PROVIDER_DESCRIPTION = \"<service-provider-description>\"\n",
                "\n",
                "# Subscription\n",
                "\n",
                "SUBSCRIPTION_NAME = \"<subscription-name>\"\n",
                "SUBSCRIPTION_DESCRIPTION = \"<subscription-description>\""
            ]
        },
        {
            "cell_type": "markdown",
            "metadata": {
                "id": "9a252c34-7876-43b2-b6c0-f2db22856b25"
            },
            "source": [
                "### IBM Analytics Engine - Spark\n",
                "\n",
                "Make sure that the Apache Spark manager on IBM Analytics Engine is running, and then provide the following details:\n",
                "\n",
                "- IAE_SPARK_DISPLAY_NAME: _Display Name of the Spark instance in IBM Analytics Engine_\n",
                "- IAE_SPARK_JOBS_ENDPOINT: _Spark Jobs Endpoint for IBM Analytics Engine_\n",
                "- IBM_CPD_VOLUME: _IBM Cloud Pak for Data storage volume name_\n",
                "- IBM_CPD_USERNAME: _IBM Cloud Pak for Data username_\n",
                "- IBM_CPD_APIKEY: _IBM Cloud Pak for Data API key_\n",
                "- IAE_SPARK_DESCRIPTION: _Custom description for the Spark instance_"
            ]
        },
        {
            "cell_type": "code",
            "execution_count": 5,
            "metadata": {
                "id": "eddf9d71-8df4-4e5b-a3b2-da22c042805a"
            },
            "outputs": [],
            "source": [
                "IAE_SPARK_DISPLAY_NAME = \"<spark-engine-name>\"\n",
                "IAE_SPARK_JOBS_ENDPOINT = \"<spark-job-endpoint-for-ibm-analytics-engine>\"\n",
                "IBM_CPD_VOLUME = \"<ibm-cpd-volume>\"\n",
                "IBM_CPD_USERNAME = \"<ibm-cloud-pak-for-data-username>\"\n",
                "IBM_CPD_APIKEY = \"<ibm-cloud-pak-for-data-apikey>\"\n",
                "IAE_SPARK_NAME = \"<iae-spark-name>\"\n",
                "IAE_SPARK_DESCRIPTION = \"<iae-spark-description>\""
            ]
        },
        {
            "cell_type": "markdown",
            "metadata": {
                "id": "aff6731b-48d9-4290-af29-6e8fb29e2d9f"
            },
            "source": [
                "#### Provide Spark Resource Settings\n",
                "\n",
                "To configure how much of your Spark Cluster resources this job can consume, edit the following values:\n",
                "\n",
                "- max_num_executors: _Maximum Number of executors to launch for this session_\n",
                "- min_executors: _Minimum Number of executors to launch for this session_\n",
                "- executor_cores: _Number of cores to use for each executor_   \n",
                "- executor_memory: _Amount of memory (in GBs) to use per executor process_\n",
                "- driver_cores: _Number of cores to use for the driver process_\n",
                "- driver_memory: _Amount of memory (in GBs) to use for the driver process_"
            ]
        },
        {
            "cell_type": "code",
            "execution_count": 6,
            "metadata": {
                "id": "5ef23a21-39b2-43ea-86a1-6fee3b909ed7"
            },
            "outputs": [],
            "source": [
                "spark_parameters = {\n",
                "    \"max_num_executors\": 1,\n",
                "    \"min_num_executors\": 1,\n",
                "    \"executor_cores\": 1,\n",
                "    \"executor_memory\": 1,\n",
                "    \"driver_cores\": 1,\n",
                "    \"driver_memory\": 1\n",
                "}"
            ]
        },
        {
            "cell_type": "markdown",
            "metadata": {
                "id": "7e110fc8-0346-41cc-9700-440585806bdd"
            },
            "source": [
                "### Apache Hive\n",
                "\n",
                "To connect to Apache Hive, you must provide the following details:\n",
                "\n",
                "- HIVE_CONNECTION_NAME: _Custom display name for the Hive Connection_\n",
                "- HIVE_CONNECTION_DESCRIPTION: _Custom description for the Hive connection_\n",
                "- HIVE_METASTORE_URI: _Thrift URI for Hive Metastore to connect to_\n",
                "\n",
                "In case of a kerberos-enabled hive, provide additional details required to obtain the Hadoop delegation token:\n",
                "- HIVE_KERBEROS_PRINCIPAL: The kerberos principal used to generate the delegation token\n",
                "- DELEGATION_TOKEN_SECRET_URN: The secret_urn of the CP4D vault where the token is stored *OR*\n",
                "- DELEGATION_TOKEN_ENDPOINT: The REST endpoint which generates and returns the delegation token"
            ]
        },
        {
            "cell_type": "code",
            "execution_count": 7,
            "metadata": {
                "id": "b46e1745-1037-4c9b-8e91-991f792c6706"
            },
            "outputs": [],
            "source": [
                "HIVE_CONNECTION_NAME = \"<hive-connection-name>\"\n",
                "HIVE_CONNECTION_DESCRIPTION = \"<hive-connection-description>\"\n",
                "HIVE_METASTORE_URI = \"<hive-metastore-uri>\"\n",
                "\n",
                "# Flag to indicate if the Hive is secured with kerberos\n",
                "KERBEROS_ENABLED = False\n",
                "# Provide Hadoop delegation token details if KERBEROS_ENABLED is True\n",
                "# Provide either secret_urn of the CP4D vault OR the delegation token endpoint. One of the two fields is mandatory to fetch the delegation token.\n",
                "HIVE_KERBEROS_PRINCIPAL = \"<The kerberos principal used to generate the delegation token>\"\n",
                "DELEGATION_TOKEN_SECRET_URN = \"<The secret_urn of the CP4D vault where the token is stored>\"\n",
                "DELEGATION_TOKEN_ENDPOINT = \"<The REST endpoint which generates and returns the delegation token>\""
            ]
        },
        {
            "cell_type": "markdown",
            "metadata": {
                "id": "5ce020c5-8eac-4d57-b2f2-39da4e769c6a"
            },
            "source": [
                "### Feedback table metadata\n",
                "\n",
                "The quality monitor stores metadata in the feedback table. To configure the quality monitor, you must provide the following details. To skip quality monitoring, run the following cell to initialize variables with the value of `None`.\n",
                "\n",
                "- FEEDBACK_DATABASE_NAME: _Database name where feedback table is present_\n",
                "- FEEDBACK_SCHEMA_NAME: _Schema name where feedback table is present_\n",
                "- FEEDBACK_TABLE_NAME: _Name of the feedback table_"
            ]
        },
        {
            "cell_type": "code",
            "execution_count": 8,
            "metadata": {
                "id": "46276902-eeb5-49ac-9410-f4add43e3adb"
            },
            "outputs": [],
            "source": [
                "#feedback\n",
                "\n",
                "FEEDBACK_DATABASE_NAME = None\n",
                "FEEDBACK_TABLE_NAME = None"
            ]
        },
        {
            "cell_type": "markdown",
            "metadata": {
                "id": "d915a273-5512-46f2-b7d5-b1af4d65689a"
            },
            "source": [
                "### Payload and drift table metadata\n",
                "\n",
                "The drift monitor stores metadata in the payload and drift tables. To configure the drift monitor, you must provide the following details. To skip drift monitoring, run the following cell to initialize variables with the value of `None`.\n",
                "\n",
                "- PAYLOAD_DATABASE_NAME: _Database name where payload logging table is present_\n",
                "- PAYLOAD_SCHEMA_NAME: _Schema name where payload logging table is present_\n",
                "- PAYLOAD_TABLE_NAME: _Name of the payload logging table_\n",
                "- DRIFT_DATABASE_NAME: _Database name where drifted transactions table is present_\n",
                "- DRIFT_SCHEMA_NAME: _Schema name where drifted transactions table is present_\n",
                "- DRIFT_TABLE_NAME: _Name of the drifted transactions table_"
            ]
        },
        {
            "cell_type": "code",
            "execution_count": 9,
            "metadata": {
                "id": "c5918d2f-cd4b-4ee6-9821-40317485f8a1"
            },
            "outputs": [],
            "source": [
                "#payload logging\n",
                "\n",
                "PAYLOAD_DATABASE_NAME = None\n",
                "PAYLOAD_TABLE_NAME = None\n",
                "\n",
                "#drift\n",
                "\n",
                "DRIFT_DATABASE_NAME = None\n",
                "DRIFT_TABLE_NAME = None"
            ]
        },
        {
            "cell_type": "markdown",
            "metadata": {
                "id": "2640b5f2-be68-435a-92ca-12ce384a95d9"
            },
            "source": [
                "### Explainability table metadata\n",
                "\n",
                "The explainability monitor requires the queue and result tables. The payload table can also be used as the queue table. To configure the explainability monitor, you must provide the following details. To skip explainability monitoring, run the following cell to initialize variables with the value of `None`.\n",
                "\n",
                "- EXPLAINABILITY_DATABASE_NAME: _Database name where explanations queue, result tables are present_\n",
                "- EXPLAINABILITY_QUEUE_TABLE_NAME: _Name of the explanations queue table_\n",
                "- EXPLAINABILITY_RESULT_TABLE_NAME: _Name of the explanations result table_"
            ]
        },
        {
            "cell_type": "code",
            "execution_count": 10,
            "metadata": {
                "id": "7c10c17a-f553-439c-bb3c-54a2a10fd78c"
            },
            "outputs": [],
            "source": [
                "#explainability\n",
                "\n",
                "EXPLAINABILITY_DATABASE_NAME = None\n",
                "EXPLAINABILITY_QUEUE_TABLE_NAME = None\n",
                "EXPLAINABILITY_RESULT_TABLE_NAME = None"
            ]
        },
        {
            "cell_type": "markdown",
            "metadata": {
                "id": "5c169c94-2492-4738-948d-6693dc38d43c"
            },
            "source": [
                "# 2. Configure Watson OpenScale <a name=\"openscale\"></a>"
            ]
        },
        {
            "cell_type": "markdown",
            "metadata": {
                "id": "f90a66c0-3ce0-4233-a91c-b379bffd9f30"
            },
            "source": [
                "### Import the required libraries and set up the Watson OpenScale client"
            ]
        },
        {
            "cell_type": "code",
            "execution_count": 11,
            "metadata": {
                "id": "16fabc24-b7d0-4859-b500-9351f8833fdb"
            },
            "outputs": [],
            "source": [
                "from ibm_cloud_sdk_core.authenticators import CloudPakForDataAuthenticator\n",
                "from ibm_watson_openscale import *\n",
                "from ibm_watson_openscale.supporting_classes.enums import *\n",
                "from ibm_watson_openscale.supporting_classes import *\n",
                "from ibm_watson_openscale.base_classes.watson_open_scale_v2 import *\n",
                "\n",
                "authenticator = CloudPakForDataAuthenticator(\n",
                "        url=WOS_CREDENTIALS[\"url\"],\n",
                "        username=WOS_CREDENTIALS[\"username\"],\n",
                "        password=WOS_CREDENTIALS[\"password\"],\n",
                "        disable_ssl_verification=True\n",
                "    )\n",
                "\n",
                "wos_client = APIClient(authenticator=authenticator, service_url=WOS_CREDENTIALS[\"url\"], service_instance_id=WOS_CREDENTIALS[\"instance_id\"])\n",
                "data_mart_id=WOS_CREDENTIALS[\"instance_id\"]"
            ]
        },
        {
            "cell_type": "markdown",
            "metadata": {
                "id": "8e0fa3d4-2207-4699-bb38-f10e6e4c3a55"
            },
            "source": [
                "### Display Watson OpenScale datamart details"
            ]
        },
        {
            "cell_type": "code",
            "execution_count": 12,
            "metadata": {
                "id": "30fb3f08-4b30-4547-9c63-a66528472e01"
            },
            "outputs": [
                {
                    "data": {
                        "text/html": [
                            "<HTML>\n",
                            "        <body>\n",
                            "            <h3>Data Marts</h3>\n",
                            "            <table style='border: 1px solid #dddddd; font-family: Courier'>\n",
                            "                <th style='border: 1px solid #dddddd'>name</th><th style='border: 1px solid #dddddd'>description</th><th style='border: 1px solid #dddddd'>internal_database</th><th style='border: 1px solid #dddddd'>status</th><th style='border: 1px solid #dddddd'>created_at</th><th style='border: 1px solid #dddddd'>id</th>\n",
                            "                <tr><td style='border: 1px solid #dddddd'>AIOSFASTPATHICP-00000000-0000-0000-0000-000000000000</td><td style='border: 1px solid #dddddd'>Data Mart created by OpenScale ExpressPath</td><td style='border: 1px solid #dddddd'>False</td><td style='border: 1px solid #dddddd'>active</td><td style='border: 1px solid #dddddd'>2024-06-04 05:19:03.698000+00:00</td><td style='border: 1px solid #dddddd'>00000000-0000-0000-0000-000000000000</td></tr>\n",
                            "            </table>\n",
                            "        </body>\n",
                            "        </HTML>"
                        ],
                        "text/plain": [
                            "<IPython.core.display.HTML object>"
                        ]
                    },
                    "metadata": {},
                    "output_type": "display_data"
                }
            ],
            "source": [
                "wos_client.data_marts.show()"
            ]
        },
        {
            "cell_type": "markdown",
            "metadata": {
                "id": "3e444780-ecbd-4848-affd-6bc8d35efd3e"
            },
            "source": [
                "### Create a service provider"
            ]
        },
        {
            "cell_type": "code",
            "execution_count": 13,
            "metadata": {
                "id": "903193f5-14f3-451e-8abc-1cc814bbb4a6"
            },
            "outputs": [],
            "source": [
                "# Delete existing service provider with the same name as provided\n",
                "\n",
                "service_providers = wos_client.service_providers.list().result.service_providers\n",
                "for provider in service_providers:\n",
                "    if provider.entity.name == SERVICE_PROVIDER_NAME:\n",
                "        wos_client.service_providers.delete(service_provider_id=provider.metadata.id)\n",
                "        break"
            ]
        },
        {
            "cell_type": "code",
            "execution_count": 14,
            "metadata": {
                "id": "a90da5cb-c3b7-4ce6-9723-8becd72d31f0"
            },
            "outputs": [
                {
                    "name": "stdout",
                    "output_type": "stream",
                    "text": [
                        "\n",
                        "\n",
                        "=================================================================================\n",
                        "\n",
                        " Waiting for end of adding service provider e7e9f4fe-5a9d-4ac8-b284-8bc3dabb749b \n",
                        "\n",
                        "=================================================================================\n",
                        "\n",
                        "\n",
                        "\n",
                        "active\n",
                        "\n",
                        "-----------------------------------------------\n",
                        " Successfully finished adding service provider \n",
                        "-----------------------------------------------\n",
                        "\n",
                        "\n"
                    ]
                },
                {
                    "data": {
                        "text/html": [
                            "<HTML>\n",
                            "        <body>\n",
                            "            <h3>Service Providers</h3>\n",
                            "            <table style='border: 1px solid #dddddd; font-family: Courier'>\n",
                            "                <th style='border: 1px solid #dddddd'>instance_id</th><th style='border: 1px solid #dddddd'>status</th><th style='border: 1px solid #dddddd'>name</th><th style='border: 1px solid #dddddd'>service_type</th><th style='border: 1px solid #dddddd'>created_at</th><th style='border: 1px solid #dddddd'>id</th>\n",
                            "                <tr><td style='border: 1px solid #dddddd'>00000000-0000-0000-0000-000000000000</td><td style='border: 1px solid #dddddd'>active</td><td style='border: 1px solid #dddddd'>WML_IAE6</td><td style='border: 1px solid #dddddd'>watson_machine_learning</td><td style='border: 1px solid #dddddd'>2024-07-17 06:01:27.589000+00:00</td><td style='border: 1px solid #dddddd'>e7e9f4fe-5a9d-4ac8-b284-8bc3dabb749b</td></tr><tr><td style='border: 1px solid #dddddd'>None</td><td style='border: 1px solid #dddddd'>active</td><td style='border: 1px solid #dddddd'>Custom ML Provider Demo - All Monitors</td><td style='border: 1px solid #dddddd'>custom_machine_learning</td><td style='border: 1px solid #dddddd'>2024-07-15 06:22:52.902000+00:00</td><td style='border: 1px solid #dddddd'>812592fa-7a84-444e-8f1f-6891be056bcf</td></tr><tr><td style='border: 1px solid #dddddd'>99999999-9999-9999-9999-999999999999</td><td style='border: 1px solid #dddddd'>active</td><td style='border: 1px solid #dddddd'>Image Binary WML V2_test</td><td style='border: 1px solid #dddddd'>watson_machine_learning</td><td style='border: 1px solid #dddddd'>2024-07-09 14:59:27.678000+00:00</td><td style='border: 1px solid #dddddd'>0f363199-46fd-496e-8d92-e83129583ab4</td></tr><tr><td style='border: 1px solid #dddddd'>None</td><td style='border: 1px solid #dddddd'>active</td><td style='border: 1px solid #dddddd'>RC - OpenScale Headless Service Provider</td><td style='border: 1px solid #dddddd'>custom_machine_learning</td><td style='border: 1px solid #dddddd'>2024-07-09 13:44:40.294000+00:00</td><td style='border: 1px solid #dddddd'>76b7ac24-760c-4682-b6c9-c2b20bafc39b</td></tr><tr><td style='border: 1px solid #dddddd'>99999999-9999-9999-9999-999999999999</td><td style='border: 1px solid #dddddd'>active</td><td style='border: 1px solid #dddddd'>GCR Auto AI prod</td><td style='border: 1px solid #dddddd'>watson_machine_learning</td><td style='border: 1px solid #dddddd'>2024-07-04 06:42:11.028000+00:00</td><td style='border: 1px solid #dddddd'>43063a84-b760-479c-a2ca-bc5d60f929fd</td></tr><tr><td style='border: 1px solid #dddddd'>99999999-9999-9999-9999-999999999999</td><td style='border: 1px solid #dddddd'>active</td><td style='border: 1px solid #dddddd'>GCR AutoAI space Demo</td><td style='border: 1px solid #dddddd'>watson_machine_learning</td><td style='border: 1px solid #dddddd'>2024-07-03 14:31:13.702000+00:00</td><td style='border: 1px solid #dddddd'>0dcfefc6-3b44-4387-a2e1-b1a693f38f62</td></tr><tr><td style='border: 1px solid #dddddd'>None</td><td style='border: 1px solid #dddddd'>active</td><td style='border: 1px solid #dddddd'>IAE7</td><td style='border: 1px solid #dddddd'>custom_machine_learning</td><td style='border: 1px solid #dddddd'>2024-07-02 09:08:06.273000+00:00</td><td style='border: 1px solid #dddddd'>184e73a2-7fd8-4f3f-b994-bb648f6eb8ec</td></tr><tr><td style='border: 1px solid #dddddd'>None</td><td style='border: 1px solid #dddddd'>active</td><td style='border: 1px solid #dddddd'>IAE6</td><td style='border: 1px solid #dddddd'>custom_machine_learning</td><td style='border: 1px solid #dddddd'>2024-07-02 09:04:22.643000+00:00</td><td style='border: 1px solid #dddddd'>644befcd-6d36-4f4d-a30a-cd51a28b63fe</td></tr><tr><td style='border: 1px solid #dddddd'>None</td><td style='border: 1px solid #dddddd'>active</td><td style='border: 1px solid #dddddd'>WML_IAE5</td><td style='border: 1px solid #dddddd'>custom_machine_learning</td><td style='border: 1px solid #dddddd'>2024-07-02 08:43:08.723000+00:00</td><td style='border: 1px solid #dddddd'>e986a0d7-8187-4fed-ab2a-c614a9683cae</td></tr><tr><td style='border: 1px solid #dddddd'>None</td><td style='border: 1px solid #dddddd'>active</td><td style='border: 1px solid #dddddd'>WML_IAE4</td><td style='border: 1px solid #dddddd'>custom_machine_learning</td><td style='border: 1px solid #dddddd'>2024-07-02 07:00:41.816000+00:00</td><td style='border: 1px solid #dddddd'>d90c6bf2-49c6-4179-9876-8b85b0247d95</td></tr>\n",
                            "            </table>\n",
                            "        </body>\n",
                            "        </HTML>"
                        ],
                        "text/plain": [
                            "<IPython.core.display.HTML object>"
                        ]
                    },
                    "metadata": {},
                    "output_type": "display_data"
                },
                {
                    "name": "stdout",
                    "output_type": "stream",
                    "text": [
                        "Note: First 10 records were displayed.\n"
                    ]
                }
            ],
            "source": [
                "# Add Service Provider\n",
                "\n",
                "added_service_provider_result = wos_client.service_providers.add(\n",
                "        name=SERVICE_PROVIDER_NAME,\n",
                "        description=SERVICE_PROVIDER_DESCRIPTION,\n",
                "        service_type=ServiceTypes.WATSON_MACHINE_LEARNING,\n",
                "        credentials=WML_CREDENTIALS,\n",
                "        operational_space_id=\"production\",\n",
                "        background_mode=False\n",
                "    ).result\n",
                "\n",
                "service_provider_id = added_service_provider_result.metadata.id\n",
                "\n",
                "wos_client.service_providers.show()"
            ]
        },
        {
            "cell_type": "code",
            "execution_count": 15,
            "metadata": {
                "id": "efd1520a-f87a-46d1-8229-c7615345fb55"
            },
            "outputs": [
                {
                    "name": "stdout",
                    "output_type": "stream",
                    "text": [
                        "{\n",
                        "  \"metadata\": {\n",
                        "    \"id\": \"e7e9f4fe-5a9d-4ac8-b284-8bc3dabb749b\",\n",
                        "    \"crn\": \"crn:v1:bluemix:public:aiopenscale:us-south:a/na:00000000-0000-0000-0000-000000000000:service_provider:e7e9f4fe-5a9d-4ac8-b284-8bc3dabb749b\",\n",
                        "    \"url\": \"/v2/service_providers/e7e9f4fe-5a9d-4ac8-b284-8bc3dabb749b\",\n",
                        "    \"created_at\": \"2024-07-17T06:01:27.589000Z\",\n",
                        "    \"created_by\": \"cpadmin\"\n",
                        "  },\n",
                        "  \"entity\": {\n",
                        "    \"name\": \"WML_IAE6\",\n",
                        "    \"service_type\": \"watson_machine_learning\",\n",
                        "    \"instance_id\": \"00000000-0000-0000-0000-000000000000\",\n",
                        "    \"credentials\": {\n",
                        "      \"secret_id\": \"f080ea35-b89f-4c82-bfa3-fe3c9aa70c25\"\n",
                        "    },\n",
                        "    \"operational_space_id\": \"production\",\n",
                        "    \"status\": {\n",
                        "      \"state\": \"active\"\n",
                        "    }\n",
                        "  }\n",
                        "}\n"
                    ]
                }
            ],
            "source": [
                "service_provide_details = wos_client.service_providers.get(service_provider_id=service_provider_id).result\n",
                "print(service_provide_details)"
            ]
        },
        {
            "cell_type": "markdown",
            "metadata": {
                "id": "97374835-1ba6-4bd2-820d-169311758590"
            },
            "source": [
                "### Create integrated systems for Spark Engine and Hive"
            ]
        },
        {
            "cell_type": "code",
            "execution_count": 16,
            "metadata": {
                "id": "5253227f-1962-40d3-b085-df8e69a3be21"
            },
            "outputs": [
                {
                    "name": "stdout",
                    "output_type": "stream",
                    "text": [
                        "Deleting integrated system WML_IAEKB_Spark\n",
                        "Deleting integrated system WML_IAEKB_Spark\n",
                        "Deleting integrated system Hive_WML_IAE_temp\n",
                        "Deleting integrated system Hive_WML_IAE_temp\n"
                    ]
                }
            ],
            "source": [
                "# Delete existing spark and hive integrated systems if present\n",
                "\n",
                "integrated_systems = IntegratedSystems(wos_client).list().result.integrated_systems\n",
                "\n",
                "for system in integrated_systems:\n",
                "    if system.entity.name in (IAE_SPARK_NAME, HIVE_CONNECTION_NAME):\n",
                "        print(\"Deleting integrated system {}\".format(system.entity.name))\n",
                "        IntegratedSystems(wos_client).delete(integrated_system_id=system.metadata.id)"
            ]
        },
        {
            "cell_type": "markdown",
            "metadata": {
                "id": "af21e5ae-725b-467c-ada9-ac26cefff3e3"
            },
            "source": [
                "#### Spark Engine"
            ]
        },
        {
            "cell_type": "code",
            "execution_count": 17,
            "metadata": {
                "id": "9def9c18-3034-49ba-89f9-c4d7ee8a668b"
            },
            "outputs": [
                {
                    "name": "stdout",
                    "output_type": "stream",
                    "text": [
                        "{\n",
                        "  \"metadata\": {\n",
                        "    \"id\": \"5d8aa22c-1e5d-43f9-9594-d7a0c5bf704f\",\n",
                        "    \"crn\": \"crn:v1:bluemix:public:aiopenscale:us-south:a/na:00000000-0000-0000-0000-000000000000:integrated_system:5d8aa22c-1e5d-43f9-9594-d7a0c5bf704f\",\n",
                        "    \"url\": \"/v2/integrated_systems/5d8aa22c-1e5d-43f9-9594-d7a0c5bf704f\",\n",
                        "    \"created_at\": \"2024-07-17T06:01:36.601000Z\",\n",
                        "    \"created_by\": \"cpadmin\"\n",
                        "  },\n",
                        "  \"entity\": {\n",
                        "    \"name\": \"WML_IAEKB_Spark\",\n",
                        "    \"type\": \"spark\",\n",
                        "    \"description\": \"WML_IAEKB_Spark\",\n",
                        "    \"credentials\": {\n",
                        "      \"secret_id\": \"6c6d4a1a-cbdc-4aa7-a6e7-46b953f34eb3\"\n",
                        "    },\n",
                        "    \"connection\": {\n",
                        "      \"display_name\": \"IAEBatchSpark\",\n",
                        "      \"endpoint\": \"https://cpd-cpd-instance.apps.wos415nfs2672.cp.fyre.ibm.com/v4/analytics_engines/7d2a4875-563e-42d0-994f-518ebf6e1e42/spark_applications\",\n",
                        "      \"location_type\": \"cpd_iae\",\n",
                        "      \"volume\": \"cpd-instance::IAEBatchTest\"\n",
                        "    }\n",
                        "  }\n",
                        "}\n"
                    ]
                }
            ],
            "source": [
                "spark_integrated_system = IntegratedSystems(wos_client).add(\n",
                "    name=IAE_SPARK_NAME,\n",
                "    description=IAE_SPARK_DESCRIPTION,\n",
                "    type=\"spark\",\n",
                "    credentials={\n",
                "        \"username\": IBM_CPD_USERNAME,\n",
                "        \"apikey\": IBM_CPD_APIKEY\n",
                "    },\n",
                "    connection={\n",
                "        \"display_name\": IAE_SPARK_DISPLAY_NAME,\n",
                "        \"endpoint\": IAE_SPARK_JOBS_ENDPOINT,\n",
                "        \"volume\": IBM_CPD_VOLUME,\n",
                "        \"location_type\": \"cpd_iae\"\n",
                "    }\n",
                ").result\n",
                "\n",
                "spark_integrated_system_id = spark_integrated_system.metadata.id\n",
                "print(spark_integrated_system)"
            ]
        },
        {
            "cell_type": "markdown",
            "metadata": {
                "id": "3cc72495-baa9-4a82-9739-55f42955c473"
            },
            "source": [
                "#### Hive"
            ]
        },
        {
            "cell_type": "code",
            "execution_count": 18,
            "metadata": {
                "id": "27ac5450-513e-4bd9-a231-249625c4a6df"
            },
            "outputs": [
                {
                    "name": "stdout",
                    "output_type": "stream",
                    "text": [
                        "{\n",
                        "  \"metadata\": {\n",
                        "    \"id\": \"3003e604-c49a-4bd5-829e-a4fe2602152d\",\n",
                        "    \"crn\": \"crn:v1:bluemix:public:aiopenscale:us-south:a/na:00000000-0000-0000-0000-000000000000:integrated_system:3003e604-c49a-4bd5-829e-a4fe2602152d\",\n",
                        "    \"url\": \"/v2/integrated_systems/3003e604-c49a-4bd5-829e-a4fe2602152d\",\n",
                        "    \"created_at\": \"2024-07-17T06:01:38.889000Z\",\n",
                        "    \"created_by\": \"cpadmin\"\n",
                        "  },\n",
                        "  \"entity\": {\n",
                        "    \"name\": \"Hive_WML_IAE_temp\",\n",
                        "    \"type\": \"hive\",\n",
                        "    \"description\": \"Hive_WML_IAE_temp\",\n",
                        "    \"credentials\": {\n",
                        "      \"secret_id\": \"720a2d2c-37fb-499e-9893-ccdc913a9706\"\n",
                        "    },\n",
                        "    \"connection\": {\n",
                        "      \"location_type\": \"metastore\",\n",
                        "      \"metastore_url\": \"thrift://shillong1.fyre.ibm.com:9083\"\n",
                        "    }\n",
                        "  }\n",
                        "}\n"
                    ]
                }
            ],
            "source": [
                "hive_connection = {}\n",
                "hive_credentials = {}\n",
                "if HIVE_METASTORE_URI is not None:\n",
                "    hive_connection[\"metastore_url\"] = HIVE_METASTORE_URI\n",
                "    hive_connection[\"location_type\"] = \"metastore\"\n",
                "\n",
                "if KERBEROS_ENABLED is True:\n",
                "    hive_connection[\"kerberos_enabled\"] = True\n",
                "    hive_credentials[\"kerberos_principal\"] = HIVE_KERBEROS_PRINCIPAL\n",
                "    if DELEGATION_TOKEN_SECRET_URN:\n",
                "        hive_credentials[\"delegation_token_urn\"] = DELEGATION_TOKEN_SECRET_URN\n",
                "    if DELEGATION_TOKEN_ENDPOINT:\n",
                "        hive_credentials[\"delegation_token_endpoint\"] = DELEGATION_TOKEN_ENDPOINT\n",
                "\n",
                "hive_integrated_system = IntegratedSystems(wos_client).add(\n",
                "    name=HIVE_CONNECTION_NAME,\n",
                "    description=HIVE_CONNECTION_DESCRIPTION,\n",
                "    type=\"hive\",\n",
                "    credentials=hive_credentials,\n",
                "    connection=hive_connection\n",
                ").result\n",
                "\n",
                "hive_integrated_system_id=hive_integrated_system.metadata.id\n",
                "print(hive_integrated_system)"
            ]
        },
        {
            "cell_type": "markdown",
            "metadata": {
                "id": "b78f96ac-7662-41b5-883e-6da3f011c5da"
            },
            "source": [
                "# 3. Set up a subscription<a name=\"subscription\"></a>"
            ]
        },
        {
            "cell_type": "code",
            "execution_count": 19,
            "metadata": {
                "id": "b6cbe79a-a8fb-4cae-8524-0fe940c71a17"
            },
            "outputs": [
                {
                    "data": {
                        "text/html": [
                            "<HTML>\n",
                            "        <body>\n",
                            "            <h3>Subscriptions</h3>\n",
                            "            <table style='border: 1px solid #dddddd; font-family: Courier'>\n",
                            "                <th style='border: 1px solid #dddddd'>asset_id</th><th style='border: 1px solid #dddddd'>asset_type</th><th style='border: 1px solid #dddddd'>asset_name</th><th style='border: 1px solid #dddddd'>data_mart_id</th><th style='border: 1px solid #dddddd'>deployment_id</th><th style='border: 1px solid #dddddd'>deployment_name</th><th style='border: 1px solid #dddddd'>service_provider_id</th><th style='border: 1px solid #dddddd'>status</th><th style='border: 1px solid #dddddd'>created_at</th><th style='border: 1px solid #dddddd'>id</th>\n",
                            "                <tr><td style='border: 1px solid #dddddd'>5e068176-72b5-4931-ac79-9da5bab5acff</td><td style='border: 1px solid #dddddd'>model</td><td style='border: 1px solid #dddddd'>[asset] Custom ML Subscription - All Monitors</td><td style='border: 1px solid #dddddd'>00000000-0000-0000-0000-000000000000</td><td style='border: 1px solid #dddddd'>9304aa50-a77f-414c-a985-fa32f3449002</td><td style='border: 1px solid #dddddd'>[asset] Custom ML Subscription - All Monitors</td><td style='border: 1px solid #dddddd'>812592fa-7a84-444e-8f1f-6891be056bcf</td><td style='border: 1px solid #dddddd'>active</td><td style='border: 1px solid #dddddd'>2024-07-15 06:23:47.712000+00:00</td><td style='border: 1px solid #dddddd'>df2236c1-e96d-436c-a631-113a5f80cbcd</td></tr><tr><td style='border: 1px solid #dddddd'>172ef5c8-096b-4133-b159-f3d3c5586e5b</td><td style='border: 1px solid #dddddd'>model</td><td style='border: 1px solid #dddddd'>Dog-Cat binary</td><td style='border: 1px solid #dddddd'>00000000-0000-0000-0000-000000000000</td><td style='border: 1px solid #dddddd'>c99073b2-daab-4bb0-9fa8-82d97fb47f89</td><td style='border: 1px solid #dddddd'>Dog-Cat binary deployment</td><td style='border: 1px solid #dddddd'>0f363199-46fd-496e-8d92-e83129583ab4</td><td style='border: 1px solid #dddddd'>active</td><td style='border: 1px solid #dddddd'>2024-07-09 15:00:41.072000+00:00</td><td style='border: 1px solid #dddddd'>775afc50-ff8a-4846-9db2-6dcdc9916ae6</td></tr><tr><td style='border: 1px solid #dddddd'>25a7e048-2e21-4aec-b035-1863853951ab</td><td style='border: 1px solid #dddddd'>model</td><td style='border: 1px solid #dddddd'>[asset] RC - GCR Headless Subscription</td><td style='border: 1px solid #dddddd'>00000000-0000-0000-0000-000000000000</td><td style='border: 1px solid #dddddd'>aa6d890c-9ee6-4d54-aa8e-bb94b54daab0</td><td style='border: 1px solid #dddddd'>[asset] RC - GCR Headless Subscription</td><td style='border: 1px solid #dddddd'>76b7ac24-760c-4682-b6c9-c2b20bafc39b</td><td style='border: 1px solid #dddddd'>active</td><td style='border: 1px solid #dddddd'>2024-07-09 13:46:10.011000+00:00</td><td style='border: 1px solid #dddddd'>2d6b0008-6d7a-4830-9fb0-cb938dacbbb4</td></tr><tr><td style='border: 1px solid #dddddd'>91ad45c3-0bda-4ea3-a35f-7c814f7987ad</td><td style='border: 1px solid #dddddd'>model</td><td style='border: 1px solid #dddddd'>GCR AutoAI Demo - P4 Snap Random Forest Classifier - Model</td><td style='border: 1px solid #dddddd'>00000000-0000-0000-0000-000000000000</td><td style='border: 1px solid #dddddd'>5382d5ef-41f5-44b4-994a-8bd1d948b35e</td><td style='border: 1px solid #dddddd'>GCR Auto AI prod</td><td style='border: 1px solid #dddddd'>43063a84-b760-479c-a2ca-bc5d60f929fd</td><td style='border: 1px solid #dddddd'>active</td><td style='border: 1px solid #dddddd'>2024-07-04 06:42:29.105000+00:00</td><td style='border: 1px solid #dddddd'>dd9b03e6-fecd-47dc-b277-7d8545220c5d</td></tr><tr><td style='border: 1px solid #dddddd'>19754024-651a-4eff-a3e6-044e6c61867a</td><td style='border: 1px solid #dddddd'>model</td><td style='border: 1px solid #dddddd'>GCR AutoAI Demo - P4 Snap Random Forest Classifier - Model</td><td style='border: 1px solid #dddddd'>00000000-0000-0000-0000-000000000000</td><td style='border: 1px solid #dddddd'>452fdeb6-7b59-4f8f-b3f7-4ef8421c92cf</td><td style='border: 1px solid #dddddd'>GCR AutoAI Demo</td><td style='border: 1px solid #dddddd'>0dcfefc6-3b44-4387-a2e1-b1a693f38f62</td><td style='border: 1px solid #dddddd'>active</td><td style='border: 1px solid #dddddd'>2024-07-03 15:19:39.096000+00:00</td><td style='border: 1px solid #dddddd'>bbecb696-24aa-489b-9f4a-0fd70cd50214</td></tr><tr><td style='border: 1px solid #dddddd'>e3ac9fc3-bccf-4a4e-b37b-490bfb93dd81</td><td style='border: 1px solid #dddddd'>model</td><td style='border: 1px solid #dddddd'>GCR AutoAI - P2 XGB Classifier - Model</td><td style='border: 1px solid #dddddd'>00000000-0000-0000-0000-000000000000</td><td style='border: 1px solid #dddddd'>6399e6e8-df5a-4370-9af4-34b2f2e76bc6</td><td style='border: 1px solid #dddddd'>GCR Auto AI</td><td style='border: 1px solid #dddddd'>a7ca157a-de07-457a-8c4c-b1a2e998699c</td><td style='border: 1px solid #dddddd'>active</td><td style='border: 1px solid #dddddd'>2024-07-03 10:37:20.487000+00:00</td><td style='border: 1px solid #dddddd'>ce36911c-75f6-4f99-b4d2-b71e5d55a802</td></tr><tr><td style='border: 1px solid #dddddd'>592b902d-3dc9-4e56-8bcb-86cbf1a6d8a9</td><td style='border: 1px solid #dddddd'>model</td><td style='border: 1px solid #dddddd'>gcr - P2 XGB Classifier - Model</td><td style='border: 1px solid #dddddd'>00000000-0000-0000-0000-000000000000</td><td style='border: 1px solid #dddddd'>2b976af0-e4ab-4859-af7d-2f2287d864ad</td><td style='border: 1px solid #dddddd'>gcr model</td><td style='border: 1px solid #dddddd'>4d2f2fb2-6b64-4d58-8f13-257166e468e9</td><td style='border: 1px solid #dddddd'>active</td><td style='border: 1px solid #dddddd'>2024-07-02 15:33:17.454000+00:00</td><td style='border: 1px solid #dddddd'>e96278a6-7190-48f3-b8bd-945fa48cfe50</td></tr><tr><td style='border: 1px solid #dddddd'>327d8aea-ecfc-4990-9bb9-601a1695094d</td><td style='border: 1px solid #dddddd'>model</td><td style='border: 1px solid #dddddd'>GCR AutoAI - P2 XGB Classifier - Model</td><td style='border: 1px solid #dddddd'>00000000-0000-0000-0000-000000000000</td><td style='border: 1px solid #dddddd'>755c3e75-24b5-4839-8a8f-3f85c07a40c9</td><td style='border: 1px solid #dddddd'>GCR demo</td><td style='border: 1px solid #dddddd'>a7ca157a-de07-457a-8c4c-b1a2e998699c</td><td style='border: 1px solid #dddddd'>active</td><td style='border: 1px solid #dddddd'>2024-07-02 12:03:14.224000+00:00</td><td style='border: 1px solid #dddddd'>a0f86241-8bfc-4322-895a-2597512e1653</td></tr><tr><td style='border: 1px solid #dddddd'>b21904ef-7478-4dae-b93f-c120e95c9200</td><td style='border: 1px solid #dddddd'>model</td><td style='border: 1px solid #dddddd'>My SDK Batch Subscription-db2</td><td style='border: 1px solid #dddddd'>00000000-0000-0000-0000-000000000000</td><td style='border: 1px solid #dddddd'>a10a121b-2394-4fe7-9a2d-f0520abd212c</td><td style='border: 1px solid #dddddd'>My SDK Batch Subscription-db2</td><td style='border: 1px solid #dddddd'>644befcd-6d36-4f4d-a30a-cd51a28b63fe</td><td style='border: 1px solid #dddddd'>active</td><td style='border: 1px solid #dddddd'>2024-07-02 09:04:38.883000+00:00</td><td style='border: 1px solid #dddddd'>70c9c394-2530-4c0f-b0b2-6b81e44612d0</td></tr><tr><td style='border: 1px solid #dddddd'>7bf1d492-3275-405d-9b61-da4e2075e746</td><td style='border: 1px solid #dddddd'>model</td><td style='border: 1px solid #dddddd'>My SDK Batch Subscription-db2</td><td style='border: 1px solid #dddddd'>00000000-0000-0000-0000-000000000000</td><td style='border: 1px solid #dddddd'>a302d0d4-3f38-4ded-8688-3e4b2e9bb55c</td><td style='border: 1px solid #dddddd'>My SDK Batch Subscription-db2</td><td style='border: 1px solid #dddddd'>e986a0d7-8187-4fed-ab2a-c614a9683cae</td><td style='border: 1px solid #dddddd'>active</td><td style='border: 1px solid #dddddd'>2024-07-02 08:43:25.526000+00:00</td><td style='border: 1px solid #dddddd'>f4178567-4f9a-4b0e-b255-2babdb8b5f38</td></tr>\n",
                            "            </table>\n",
                            "        </body>\n",
                            "        </HTML>"
                        ],
                        "text/plain": [
                            "<IPython.core.display.HTML object>"
                        ]
                    },
                    "metadata": {},
                    "output_type": "display_data"
                },
                {
                    "name": "stdout",
                    "output_type": "stream",
                    "text": [
                        "Note: First 10 records were displayed.\n"
                    ]
                }
            ],
            "source": [
                "# Delete an existing subscription with the provided name\n",
                "\n",
                "subscriptions = wos_client.subscriptions.list().result.subscriptions\n",
                "for sub in subscriptions:\n",
                "    if sub.entity.deployment.name == SUBSCRIPTION_NAME:\n",
                "        wos_client.subscriptions.delete(subscription_id=sub.metadata.id)\n",
                "        break\n",
                "\n",
                "# Display all subscriptions\n",
                "wos_client.subscriptions.show()"
            ]
        },
        {
            "cell_type": "markdown",
            "metadata": {
                "id": "2d19e502-5e53-4ee1-b60f-4b0912b49998"
            },
            "source": [
                "### Set subscription metadata\n",
                "\n",
                "In the following cell, we expect you extracted Configuration Archive to current directory and it contains common_configuration.json. If not true, please update path to correct location. After you edit the path information, run the cell to set the asset details and properties, the deployment details, the analytics engine details, and to add the required tables as data sources."
            ]
        },
        {
            "cell_type": "code",
            "execution_count": 20,
            "metadata": {
                "id": "431e4689-cb82-4009-a1e8-631573e092c5"
            },
            "outputs": [
                {
                    "name": "stdout",
                    "output_type": "stream",
                    "text": [
                        "{\n",
                        "  \"url\": \"https://internal-nginx-svc:12443/ml/v4/deployments/2b976af0-e4ab-4859-af7d-2f2287d864ad/predictions\"\n",
                        "}\n"
                    ]
                }
            ],
            "source": [
                "import uuid\n",
                "import json\n",
                "# Provide the WML deployment io and space d\n",
                "deployment_uid = \"<wml_deployment_id>\"\n",
                "space_id = \"<wml_space_id>\"\n",
                "common_configuration = None\n",
                "\n",
                "with open(\"common_configuration.json\", \"r\") as fp:\n",
                "    configuration_json = json.load(fp)\n",
                "    common_configuration = configuration_json.get(\"common_configuration\")\n",
                "    if common_configuration is None:\n",
                "        raise Exception(\"Please provide the correct path to the common configuration JSON\")\n",
                "        \n",
                "asset_deployment_details = wos_client.service_providers.list_assets(\n",
                "    data_mart_id=data_mart_id, service_provider_id=service_provider_id, \n",
                "    deployment_id = deployment_uid, deployment_space_id = space_id).result['resources'][0]\n",
                "\n",
                "model_asset_details_from_deployment = wos_client.service_providers.get_deployment_asset(\n",
                "    data_mart_id=data_mart_id,service_provider_id=service_provider_id,deployment_id=deployment_uid,\n",
                "    deployment_space_id=space_id)\n",
                "\n",
                "scoring_endpoint = ScoringEndpointRequest(\n",
                "    url=model_asset_details_from_deployment['entity']['scoring_endpoint']['url'] )\n",
                "    \n",
                "# Set asset details\n",
                "asset = Asset(\n",
                "    asset_id=model_asset_details_from_deployment[\"entity\"][\"asset\"][\"asset_id\"],\n",
                "    url=model_asset_details_from_deployment[\"entity\"][\"asset\"][\"url\"],\n",
                "    name=SUBSCRIPTION_NAME,\n",
                "    asset_type=AssetTypes.MODEL,\n",
                "    input_data_type=InputDataType.STRUCTURED,\n",
                "    problem_type=common_configuration.get(\"problem_type\") if common_configuration.get(\"problem_type\") else common_configuration.get(\"model_type\")\n",
                ")\n",
                "\n",
                "# Set deployment details\n",
                "asset_deployment = AssetDeploymentRequest(\n",
                "    deployment_id=asset_deployment_details['metadata']['guid'],\n",
                "    name=SUBSCRIPTION_NAME,\n",
                "    description=SUBSCRIPTION_DESCRIPTION,\n",
                "    deployment_type=DeploymentTypes.ONLINE,\n",
                "    scoring_endpoint=scoring_endpoint\n",
                ")\n",
                "\n",
                "probability_fields = common_configuration.get(\"probability_fields\") if common_configuration.get(\"probability_fields\") else [common_configuration.get(\"probability\")]\n",
                "\n",
                "\n",
                "# Set asset properties \n",
                "asset_properties_request = AssetPropertiesRequest(\n",
                "    label_column=common_configuration[\"label_column\"],\n",
                "    probability_fields=probability_fields, # comment out this line for regression models as probability_fields is not applicable\n",
                "    prediction_field=common_configuration[\"prediction\"],\n",
                "    feature_fields=common_configuration[\"feature_columns\"],\n",
                "    categorical_fields=common_configuration[\"categorical_columns\"]\n",
                ")"
            ]
        },
        {
            "cell_type": "code",
            "execution_count": 21,
            "metadata": {
                "id": "cd54e0181ffa4670acbbe1eb432d9369"
            },
            "outputs": [],
            "source": [
                "# Set analytics engine details\n",
                "analytics_engine = AnalyticsEngine(\n",
                "    type=\"spark\",\n",
                "    integrated_system_id=spark_integrated_system_id,\n",
                "    parameters = spark_parameters\n",
                ")\n",
                "\n",
                "# Add selected tables as data sources\n",
                "data_sources = []\n",
                "if FEEDBACK_DATABASE_NAME is not None and FEEDBACK_TABLE_NAME is not None:\n",
                "    feedback_data_source = DataSource(\n",
                "        type=\"feedback\", \n",
                "        database_name=FEEDBACK_DATABASE_NAME,\n",
                "        schema_name=FEEDBACK_DATABASE_NAME,\n",
                "        table_name=FEEDBACK_TABLE_NAME,\n",
                "        connection=DataSourceConnection(\n",
                "            type=\"hive\", \n",
                "            integrated_system_id=hive_integrated_system_id\n",
                "        ),\n",
                "        parameters={\n",
                "            \"hive_storage_format\": \"<to_be_edited>\" #supported values are \"csv\", \"parquet\", \"orc\"\n",
                "        },\n",
                "        auto_create=True, #set it to False if table already exists\n",
                "        status=DataSourceStatus(state=\"new\")\n",
                "    )\n",
                "    data_sources.append(feedback_data_source)\n",
                "    \n",
                "if PAYLOAD_DATABASE_NAME is not None and PAYLOAD_TABLE_NAME is not None \\\n",
                "    and DRIFT_DATABASE_NAME is not None and DRIFT_TABLE_NAME is not None:\n",
                "    payload_logging_data_source = DataSource(\n",
                "        type=\"payload\", \n",
                "        database_name=PAYLOAD_DATABASE_NAME,\n",
                "        schema_name=PAYLOAD_DATABASE_NAME,\n",
                "        table_name=PAYLOAD_TABLE_NAME,\n",
                "        connection=DataSourceConnection(\n",
                "            type=\"hive\", \n",
                "            integrated_system_id=hive_integrated_system_id\n",
                "        ),\n",
                "        parameters={\n",
                "            \"hive_storage_format\": \"<to_be_edited>\" #supported values are \"csv\", \"parquet\", \"orc\"\n",
                "        },\n",
                "        auto_create=True, #set it to False if table already exists\n",
                "        status=DataSourceStatus(state=\"new\")\n",
                "    )\n",
                "    \n",
                "    drifted_transactions_table_data_source = DataSource(\n",
                "        type=\"drift\", \n",
                "        database_name=DRIFT_DATABASE_NAME,\n",
                "        schema_name=DRIFT_DATABASE_NAME,\n",
                "        table_name=DRIFT_TABLE_NAME,\n",
                "        connection=DataSourceConnection(\n",
                "            type=\"hive\", \n",
                "            integrated_system_id=hive_integrated_system_id\n",
                "        ),\n",
                "        auto_create=True, #set it to False if table already exists\n",
                "        status=DataSourceStatus(state=\"new\")\n",
                "    )\n",
                "    \n",
                "    data_sources.append(payload_logging_data_source)\n",
                "    data_sources.append(drifted_transactions_table_data_source)\n",
                "\n",
                "if EXPLAINABILITY_DATABASE_NAME is not None and \\\n",
                "    EXPLAINABILITY_QUEUE_TABLE_NAME is not None and \\\n",
                "        EXPLAINABILITY_RESULT_TABLE_NAME is not None:\n",
                "\n",
                "    explainability_queue_data_source = DataSource(\n",
                "        type=\"explain_queue\", \n",
                "        database_name=EXPLAINABILITY_DATABASE_NAME,\n",
                "        schema_name=EXPLAINABILITY_DATABASE_NAME,\n",
                "        table_name=EXPLAINABILITY_QUEUE_TABLE_NAME,\n",
                "        connection=DataSourceConnection(\n",
                "            type=\"hive\", \n",
                "            integrated_system_id=hive_integrated_system_id\n",
                "        ),\n",
                "        parameters={\n",
                "            \"hive_storage_format\": \"<to_be_edited>\" #supported values are \"csv\", \"parquet\", \"orc\"\n",
                "        },\n",
                "        auto_create=True, #set it to False if table already exists\n",
                "        status=DataSourceStatus(state=\"new\")\n",
                "    )\n",
                "    \n",
                "    data_sources.append(explainability_queue_data_source)\n",
                "\n",
                "    explainability_result_data_source = DataSource(\n",
                "        type=\"explain_result\", \n",
                "        database_name=EXPLAINABILITY_DATABASE_NAME,\n",
                "        schema_name=EXPLAINABILITY_DATABASE_NAME,\n",
                "        table_name=EXPLAINABILITY_RESULT_TABLE_NAME,\n",
                "        connection=DataSourceConnection(\n",
                "            type=\"hive\", \n",
                "            integrated_system_id=hive_integrated_system_id\n",
                "        ),\n",
                "        parameters={},\n",
                "        auto_create=True, #set it to False if table already exists\n",
                "        status=DataSourceStatus(state=\"new\")\n",
                "    )\n",
                "    \n",
                "    data_sources.append(explainability_result_data_source)"
            ]
        },
        {
            "cell_type": "code",
            "execution_count": 22,
            "metadata": {
                "id": "08d58a6d-0cc4-45be-beed-7dc48a1ec8bf"
            },
            "outputs": [
                {
                    "name": "stdout",
                    "output_type": "stream",
                    "text": [
                        "{\n",
                        "  \"metadata\": {\n",
                        "    \"id\": \"e2df4ec7-6c75-416f-a444-8d21389f7513\",\n",
                        "    \"crn\": \"crn:v1:bluemix:public:aiopenscale:us-south:a/na:00000000-0000-0000-0000-000000000000:subscription:e2df4ec7-6c75-416f-a444-8d21389f7513\",\n",
                        "    \"url\": \"/v2/subscriptions/e2df4ec7-6c75-416f-a444-8d21389f7513\",\n",
                        "    \"created_at\": \"2024-07-17T07:11:44.727000Z\",\n",
                        "    \"created_by\": \"cpadmin\"\n",
                        "  },\n",
                        "  \"entity\": {\n",
                        "    \"data_mart_id\": \"00000000-0000-0000-0000-000000000000\",\n",
                        "    \"service_provider_id\": \"4d2f2fb2-6b64-4d58-8f13-257166e468e9\",\n",
                        "    \"asset\": {\n",
                        "      \"asset_id\": \"592b902d-3dc9-4e56-8bcb-86cbf1a6d8a9\",\n",
                        "      \"url\": \"https://internal-nginx-svc:12443/ml/v4/models/592b902d-3dc9-4e56-8bcb-86cbf1a6d8a9?space_id=088c142e-f35e-4e48-a30c-ad55a6edeecc&version=2020-06-12\",\n",
                        "      \"name\": \"gcr - P2 XGB Classifier - Model\",\n",
                        "      \"asset_type\": \"model\",\n",
                        "      \"problem_type\": \"binary\",\n",
                        "      \"input_data_type\": \"structured\"\n",
                        "    },\n",
                        "    \"asset_properties\": {\n",
                        "      \"label_column\": \"Risk\",\n",
                        "      \"prediction_field\": \"prediction\",\n",
                        "      \"feature_fields\": [\n",
                        "        \"CheckingStatus\",\n",
                        "        \"LoanDuration\",\n",
                        "        \"CreditHistory\",\n",
                        "        \"LoanPurpose\",\n",
                        "        \"LoanAmount\",\n",
                        "        \"ExistingSavings\",\n",
                        "        \"EmploymentDuration\",\n",
                        "        \"InstallmentPercent\",\n",
                        "        \"Sex\",\n",
                        "        \"OthersOnLoan\",\n",
                        "        \"CurrentResidenceDuration\",\n",
                        "        \"OwnsProperty\",\n",
                        "        \"Age\",\n",
                        "        \"InstallmentPlans\",\n",
                        "        \"Housing\",\n",
                        "        \"ExistingCreditsCount\",\n",
                        "        \"Job\",\n",
                        "        \"Dependents\",\n",
                        "        \"Telephone\",\n",
                        "        \"ForeignWorker\"\n",
                        "      ],\n",
                        "      \"categorical_fields\": [\n",
                        "        \"CheckingStatus\",\n",
                        "        \"CreditHistory\",\n",
                        "        \"LoanPurpose\",\n",
                        "        \"ExistingSavings\",\n",
                        "        \"EmploymentDuration\",\n",
                        "        \"Sex\",\n",
                        "        \"OthersOnLoan\",\n",
                        "        \"OwnsProperty\",\n",
                        "        \"InstallmentPlans\",\n",
                        "        \"Housing\",\n",
                        "        \"Job\",\n",
                        "        \"Telephone\",\n",
                        "        \"ForeignWorker\"\n",
                        "      ],\n",
                        "      \"probability_fields\": [\n",
                        "        \"probability\"\n",
                        "      ]\n",
                        "    },\n",
                        "    \"deployment\": {\n",
                        "      \"deployment_id\": \"2b976af0-e4ab-4859-af7d-2f2287d864ad\",\n",
                        "      \"url\": \"https://internal-nginx-svc:12443/ml/v4/deployments/2b976af0-e4ab-4859-af7d-2f2287d864ad/predictions\",\n",
                        "      \"name\": \"gcr model\",\n",
                        "      \"deployment_type\": \"online\",\n",
                        "      \"scoring_endpoint\": {\n",
                        "        \"url\": \"https://internal-nginx-svc:12443/ml/v4/deployments/2b976af0-e4ab-4859-af7d-2f2287d864ad/predictions\"\n",
                        "      }\n",
                        "    },\n",
                        "    \"analytics_engine\": {\n",
                        "      \"type\": \"spark\",\n",
                        "      \"integrated_system_id\": \"5d8aa22c-1e5d-43f9-9594-d7a0c5bf704f\",\n",
                        "      \"parameters\": {\n",
                        "        \"executor_memory\": 1,\n",
                        "        \"executor_cores\": 1,\n",
                        "        \"driver_cores\": 1,\n",
                        "        \"max_num_executors\": 1,\n",
                        "        \"driver_memory\": 1,\n",
                        "        \"min_num_executors\": 1\n",
                        "      }\n",
                        "    },\n",
                        "    \"status\": {\n",
                        "      \"state\": \"preparing\"\n",
                        "    }\n",
                        "  }\n",
                        "}\n"
                    ]
                }
            ],
            "source": [
                "# Adding the subscription\n",
                "\n",
                "subscription_details = Subscriptions(wos_client).add(\n",
                "    data_mart_id=data_mart_id,\n",
                "    service_provider_id=service_provider_id,\n",
                "    asset=asset,\n",
                "    deployment=asset_deployment,\n",
                "    asset_properties=asset_properties_request,\n",
                "    analytics_engine=analytics_engine,\n",
                "    scoring_endpoint=scoring_endpoint).result\n",
                "\n",
                "subscription_id = subscription_details.metadata.id\n",
                "print(subscription_details)"
            ]
        },
        {
            "cell_type": "code",
            "execution_count": 23,
            "metadata": {
                "id": "3cca8df3-78fa-4f5d-8142-4033db8c65a8"
            },
            "outputs": [
                {
                    "name": "stdout",
                    "output_type": "stream",
                    "text": [
                        "preparing\n",
                        "active\n"
                    ]
                }
            ],
            "source": [
                "import time\n",
                "# Checking subscription status\n",
                "\n",
                "state = wos_client.subscriptions.get(subscription_id).result.entity.status.state\n",
                "\n",
                "while state not in [\"active\", \"error\"]:\n",
                "    state = wos_client.subscriptions.get(subscription_id).result.entity.status.state\n",
                "    print(state)\n",
                "    time.sleep(5)"
            ]
        },
        {
            "cell_type": "code",
            "execution_count": 24,
            "metadata": {
                "id": "b5dbd284-f928-4775-8c1d-84a0f58f215d"
            },
            "outputs": [
                {
                    "data": {
                        "text/plain": [
                            "<ibm_cloud_sdk_core.detailed_response.DetailedResponse at 0x7f130022b210>"
                        ]
                    },
                    "execution_count": 24,
                    "metadata": {},
                    "output_type": "execute_result"
                }
            ],
            "source": [
                "# Add training, output, and input data schemas to the subscription\n",
                "schemas_patch_document = [\n",
                "    JsonPatchOperation(op=OperationTypes.REPLACE, path='/asset_properties/training_data_schema', value=common_configuration[\"training_data_schema\"]),\n",
                "    JsonPatchOperation(op=OperationTypes.REPLACE, path='/asset_properties/input_data_schema', value=common_configuration[\"input_data_schema\"]),\n",
                "    JsonPatchOperation(op=OperationTypes.REPLACE, path='/asset_properties/output_data_schema', value=common_configuration[\"output_data_schema\"])\n",
                "]\n",
                "\n",
                "wos_client.subscriptions.update(subscription_id=subscription_id, patch_document=schemas_patch_document)\n",
                "\n",
                "# Add data_sources to the subscription\n",
                "data_sources_patch_document=[\n",
                "    JsonPatchOperation(op=OperationTypes.ADD, path='/data_sources', value=[data_source.to_dict() for data_source in data_sources])\n",
                "]\n",
                "\n",
                "wos_client.subscriptions.update(subscription_id=subscription_id, patch_document=data_sources_patch_document)"
            ]
        },
        {
            "cell_type": "code",
            "execution_count": 25,
            "metadata": {
                "id": "761b87722b6a44838193693f0b132be8"
            },
            "outputs": [
                {
                    "name": "stdout",
                    "output_type": "stream",
                    "text": [
                        "preparing\n",
                        "preparing\n",
                        "preparing\n",
                        "preparing\n",
                        "preparing\n",
                        "preparing\n",
                        "preparing\n",
                        "preparing\n",
                        "preparing\n",
                        "preparing\n",
                        "active\n"
                    ]
                }
            ],
            "source": [
                "import time\n",
                "\n",
                "# Checking subscription status after the patch operation\n",
                "\n",
                "state = wos_client.subscriptions.get(subscription_id).result.entity.status.state\n",
                "\n",
                "while state not in [\"active\", \"error\"]:\n",
                "    state = wos_client.subscriptions.get(subscription_id).result.entity.status.state\n",
                "    print(state)\n",
                "    time.sleep(5)"
            ]
        },
        {
            "cell_type": "markdown",
            "metadata": {
                "id": "3cd038b4-4588-41fd-8eec-9bc7ca2f08ed"
            },
            "source": [
                "# 4. Quality monitoring <a name=\"quality\"></a>"
            ]
        },
        {
            "cell_type": "markdown",
            "metadata": {
                "id": "6d90abe2-ceaa-4e53-964f-9a9006a5c0bf"
            },
            "source": [
                "### Enable the quality monitor\n",
                "\n",
                "In the following code cell, default values are set for the quality monitor. You can change the default values by updating the optional `min_feedback_data_size` attribute in the `parameters` dict and set the quality threshold in the `thresholds` list."
            ]
        },
        {
            "cell_type": "code",
            "execution_count": 26,
            "metadata": {
                "id": "8e3f9579-5f1f-47cf-9953-272c2cf541fa"
            },
            "outputs": [
                {
                    "name": "stdout",
                    "output_type": "stream",
                    "text": [
                        "{\n",
                        "  \"metadata\": {\n",
                        "    \"id\": \"004e8a8d-2589-4a87-95e3-782a91fac214\",\n",
                        "    \"crn\": \"crn:v1:bluemix:public:aiopenscale:us-south:a/na:00000000-0000-0000-0000-000000000000:monitor_instance:004e8a8d-2589-4a87-95e3-782a91fac214\",\n",
                        "    \"url\": \"/v2/monitor_instances/004e8a8d-2589-4a87-95e3-782a91fac214\",\n",
                        "    \"created_at\": \"2024-07-17T07:13:05.844000Z\",\n",
                        "    \"created_by\": \"cpadmin\"\n",
                        "  },\n",
                        "  \"entity\": {\n",
                        "    \"data_mart_id\": \"00000000-0000-0000-0000-000000000000\",\n",
                        "    \"monitor_definition_id\": \"quality\",\n",
                        "    \"target\": {\n",
                        "      \"target_type\": \"subscription\",\n",
                        "      \"target_id\": \"e2df4ec7-6c75-416f-a444-8d21389f7513\"\n",
                        "    },\n",
                        "    \"parameters\": {\n",
                        "      \"min_feedback_data_size\": 10\n",
                        "    },\n",
                        "    \"thresholds\": [\n",
                        "      {\n",
                        "        \"metric_id\": \"area_under_roc\",\n",
                        "        \"type\": \"lower_limit\",\n",
                        "        \"value\": 0.8\n",
                        "      }\n",
                        "    ],\n",
                        "    \"schedule\": {\n",
                        "      \"repeat_interval\": 1,\n",
                        "      \"repeat_unit\": \"week\",\n",
                        "      \"start_time\": {\n",
                        "        \"type\": \"relative\",\n",
                        "        \"delay_unit\": \"minute\",\n",
                        "        \"delay\": 10\n",
                        "      },\n",
                        "      \"repeat_type\": \"week\"\n",
                        "    },\n",
                        "    \"status\": {\n",
                        "      \"state\": \"preparing\"\n",
                        "    }\n",
                        "  }\n",
                        "}\n"
                    ]
                }
            ],
            "source": [
                "import time\n",
                "\n",
                "target = Target(\n",
                "    target_type=TargetTypes.SUBSCRIPTION,\n",
                "    target_id=subscription_id\n",
                ")\n",
                "\n",
                "parameters = {\n",
                "    \"min_feedback_data_size\": 200\n",
                "}\n",
                "\n",
                "thresholds = [{\n",
                "        \"metric_id\": \"area_under_roc\",\n",
                "        \"type\": \"lower_limit\",\n",
                "        \"value\": 0.8\n",
                "}]\n",
                "\n",
                "quality_monitor_details = wos_client.monitor_instances.create(\n",
                "    data_mart_id=data_mart_id,\n",
                "    monitor_definition_id=wos_client.monitor_definitions.MONITORS.QUALITY.ID,\n",
                "    target=target,\n",
                "    parameters=parameters,\n",
                "    thresholds=thresholds\n",
                ").result\n",
                "\n",
                "quality_monitor_instance_id = quality_monitor_details.metadata.id\n",
                "print(quality_monitor_details)"
            ]
        },
        {
            "cell_type": "markdown",
            "metadata": {
                "id": "b3a7e576-c875-4ddc-b7cb-0ebc2bb9d4a2"
            },
            "source": [
                "### Check monitor instance status"
            ]
        },
        {
            "cell_type": "code",
            "execution_count": 27,
            "metadata": {
                "id": "c136a34b-e0bf-4d0b-bac9-94ad19e46fc6"
            },
            "outputs": [
                {
                    "name": "stdout",
                    "output_type": "stream",
                    "text": [
                        "07:13:13 active\n"
                    ]
                }
            ],
            "source": [
                "quality_status = None\n",
                "from datetime import datetime\n",
                "\n",
                "while quality_status not in (\"active\", \"error\"):\n",
                "    monitor_instance_details = wos_client.monitor_instances.get(monitor_instance_id=quality_monitor_instance_id).result\n",
                "    quality_status = monitor_instance_details.entity.status.state\n",
                "    if quality_status not in (\"active\", \"error\"):\n",
                "        print(datetime.utcnow().strftime('%H:%M:%S'), quality_status)\n",
                "        time.sleep(30)\n",
                "        \n",
                "print(datetime.utcnow().strftime('%H:%M:%S'), quality_status)"
            ]
        },
        {
            "cell_type": "code",
            "execution_count": 28,
            "metadata": {
                "id": "591d8bfe-e676-4f02-bfba-8845736d3b5e"
            },
            "outputs": [
                {
                    "name": "stdout",
                    "output_type": "stream",
                    "text": [
                        "{\n",
                        "  \"metadata\": {\n",
                        "    \"id\": \"004e8a8d-2589-4a87-95e3-782a91fac214\",\n",
                        "    \"crn\": \"crn:v1:bluemix:public:aiopenscale:us-south:a/na:00000000-0000-0000-0000-000000000000:monitor_instance:004e8a8d-2589-4a87-95e3-782a91fac214\",\n",
                        "    \"url\": \"/v2/monitor_instances/004e8a8d-2589-4a87-95e3-782a91fac214\",\n",
                        "    \"created_at\": \"2024-07-17T07:13:05.844000Z\",\n",
                        "    \"created_by\": \"cpadmin\",\n",
                        "    \"modified_at\": \"2024-07-17T07:13:06.391000Z\",\n",
                        "    \"modified_by\": \"internal-service\"\n",
                        "  },\n",
                        "  \"entity\": {\n",
                        "    \"data_mart_id\": \"00000000-0000-0000-0000-000000000000\",\n",
                        "    \"monitor_definition_id\": \"quality\",\n",
                        "    \"target\": {\n",
                        "      \"target_type\": \"subscription\",\n",
                        "      \"target_id\": \"e2df4ec7-6c75-416f-a444-8d21389f7513\"\n",
                        "    },\n",
                        "    \"parameters\": {\n",
                        "      \"min_feedback_data_size\": 10\n",
                        "    },\n",
                        "    \"thresholds\": [\n",
                        "      {\n",
                        "        \"metric_id\": \"area_under_roc\",\n",
                        "        \"type\": \"lower_limit\",\n",
                        "        \"value\": 0.8\n",
                        "      }\n",
                        "    ],\n",
                        "    \"schedule\": {\n",
                        "      \"repeat_interval\": 1,\n",
                        "      \"repeat_unit\": \"week\",\n",
                        "      \"start_time\": {\n",
                        "        \"type\": \"relative\",\n",
                        "        \"delay_unit\": \"minute\",\n",
                        "        \"delay\": 10\n",
                        "      },\n",
                        "      \"repeat_type\": \"week\",\n",
                        "      \"status\": \"enabled\"\n",
                        "    },\n",
                        "    \"schedule_id\": \"44caaf0c-d545-4039-922c-c92bf6f89a87\",\n",
                        "    \"status\": {\n",
                        "      \"state\": \"active\"\n",
                        "    }\n",
                        "  }\n",
                        "}\n"
                    ]
                }
            ],
            "source": [
                "monitor_instance_details = wos_client.monitor_instances.get(monitor_instance_id=quality_monitor_instance_id).result\n",
                "print(monitor_instance_details)"
            ]
        },
        {
            "cell_type": "markdown",
            "metadata": {
                "id": "ff98f5d8-0014-48b1-8e33-b9d72012a909"
            },
            "source": [
                "### Run an on-demand evaluation\n",
                "\n",
                "Please make sure you have data in feedback table in hive. Quality evaluation will use this data for its metrics computation."
            ]
        },
        {
            "cell_type": "code",
            "execution_count": 29,
            "metadata": {
                "id": "5933f4ea-95e5-4902-9887-52bbfc6cc76e"
            },
            "outputs": [
                {
                    "name": "stdout",
                    "output_type": "stream",
                    "text": [
                        "{\n",
                        "  \"metadata\": {\n",
                        "    \"id\": \"98c55159-a5b6-4c0e-9beb-1b21c5582116\",\n",
                        "    \"crn\": \"crn:v1:bluemix:public:aiopenscale:us-south:a/na:00000000-0000-0000-0000-000000000000:run:98c55159-a5b6-4c0e-9beb-1b21c5582116\",\n",
                        "    \"url\": \"/v2/monitor_instances/9200be2d-ce34-4ca0-b7ca-ef82721fb31b/runs/98c55159-a5b6-4c0e-9beb-1b21c5582116\",\n",
                        "    \"created_at\": \"2024-07-17T10:52:04.252000Z\",\n",
                        "    \"created_by\": \"cpadmin\"\n",
                        "  },\n",
                        "  \"entity\": {\n",
                        "    \"parameters\": {\n",
                        "      \"last_processed_time\": \"2024-07-16T07:32:21.788398Z\",\n",
                        "      \"min_feedback_data_size\": 10\n",
                        "    },\n",
                        "    \"status\": {\n",
                        "      \"state\": \"running\",\n",
                        "      \"queued_at\": \"2024-07-17T10:52:04.238000Z\",\n",
                        "      \"started_at\": \"2024-07-17T10:52:04.252000Z\",\n",
                        "      \"operators\": []\n",
                        "    }\n",
                        "  }\n",
                        "}\n"
                    ]
                }
            ],
            "source": [
                "# Trigger on-demand run\n",
                "\n",
                "monitoring_run_details = wos_client.monitor_instances.run(monitor_instance_id=quality_monitor_instance_id).result\n",
                "monitoring_run_id=monitoring_run_details.metadata.id\n",
                "\n",
                "print(monitoring_run_details)"
            ]
        },
        {
            "cell_type": "code",
            "execution_count": 30,
            "metadata": {
                "id": "0e3f2916-c01a-484d-9450-7a105ccf98a2"
            },
            "outputs": [
                {
                    "name": "stdout",
                    "output_type": "stream",
                    "text": [
                        "10:57:12 finished\n"
                    ]
                }
            ],
            "source": [
                "# Check run status\n",
                "\n",
                "quality_run_status = None\n",
                "while quality_run_status not in (\"finished\", \"error\"):\n",
                "    monitoring_run_details = wos_client.monitor_instances.get_run_details(monitor_instance_id=quality_monitor_instance_id, monitoring_run_id=monitoring_run_id).result\n",
                "    quality_run_status = monitoring_run_details.entity.status.state\n",
                "    if quality_run_status not in (\"finished\", \"error\"):\n",
                "        print(datetime.utcnow().strftime(\"%H:%M:%S\"), quality_run_status)\n",
                "        time.sleep(30)\n",
                "        \n",
                "print(datetime.utcnow().strftime(\"%H:%M:%S\"), quality_run_status)"
            ]
        },
        {
            "cell_type": "markdown",
            "metadata": {
                "id": "cd3c2a31-d52e-4dfe-868a-e6cd9f953642"
            },
            "source": [
                "### Display quality metrics"
            ]
        },
        {
            "cell_type": "code",
            "execution_count": 31,
            "metadata": {
                "id": "13ec2812-3c8b-44f0-9bfe-66f80837e04b"
            },
            "outputs": [
                {
                    "name": "stdout",
                    "output_type": "stream",
                    "text": [
                        "{\n",
                        "  \"parameters\": {\n",
                        "    \"job_run_schedule_id\": \"2d41aa8b-a988-4188-9fc7-99725d90d765\",\n",
                        "    \"last_processed_time\": \"2024-07-16T07:32:21.788398Z\",\n",
                        "    \"min_feedback_data_size\": 10,\n",
                        "    \"total_records_processed\": 10\n",
                        "  },\n",
                        "  \"status\": {\n",
                        "    \"state\": \"finished\",\n",
                        "    \"queued_at\": \"2024-07-17T10:52:04.238000Z\",\n",
                        "    \"started_at\": \"2024-07-17T10:52:05.024000Z\",\n",
                        "    \"updated_at\": \"2024-07-17T10:57:06.816000Z\",\n",
                        "    \"completed_at\": \"2024-07-17T10:57:06.762000Z\",\n",
                        "    \"message\": \"Quality execution is completed.\",\n",
                        "    \"operators\": [\n",
                        "      {\n",
                        "        \"id\": \"original\",\n",
                        "        \"status\": {\n",
                        "          \"state\": \"finished\",\n",
                        "          \"completed_at\": \"2024-07-17T10:57:06.762000Z\"\n",
                        "        }\n",
                        "      }\n",
                        "    ]\n",
                        "  }\n",
                        "}\n"
                    ]
                },
                {
                    "data": {
                        "text/html": [
                            "<HTML>\n",
                            "        <body>\n",
                            "            <h3>004e8a8d-2589-4a87-95e3-782a91fac214 Monitor Runs Metrics from: 2024-07-10 10:57:13.676212  till: 2024-07-17 10:57:13.676216</h3>\n",
                            "            <table style='border: 1px solid #dddddd; font-family: Courier'>\n",
                            "                <th style='border: 1px solid #dddddd'>ts</th><th style='border: 1px solid #dddddd'>id</th><th style='border: 1px solid #dddddd'>measurement_id</th><th style='border: 1px solid #dddddd'>value</th><th style='border: 1px solid #dddddd'>lower_limit</th><th style='border: 1px solid #dddddd'>upper_limit</th><th style='border: 1px solid #dddddd'>tags</th><th style='border: 1px solid #dddddd'>monitor_definition_id</th><th style='border: 1px solid #dddddd'>monitor_instance_id</th><th style='border: 1px solid #dddddd'>run_id</th><th style='border: 1px solid #dddddd'>target_type</th><th style='border: 1px solid #dddddd'>target_id</th>\n",
                            "                \n",
                            "            </table>\n",
                            "        </body>\n",
                            "        </HTML>"
                        ],
                        "text/plain": [
                            "<IPython.core.display.HTML object>"
                        ]
                    },
                    "metadata": {},
                    "output_type": "display_data"
                }
            ],
            "source": [
                "print(monitoring_run_details.entity)\n",
                "wos_client.monitor_instances.show_metrics(monitor_instance_id=quality_monitor_instance_id)"
            ]
        },
        {
            "cell_type": "markdown",
            "metadata": {
                "id": "5090f31b-9f4d-452d-9ef6-64c42f8f571e"
            },
            "source": [
                "# 5. Drift monitoring <a name=\"drift\"></a>"
            ]
        },
        {
            "cell_type": "markdown",
            "metadata": {
                "id": "fc719938-796f-48d9-9cb3-32e278223a75"
            },
            "source": [
                "### Enable the drift monitor\n",
                "\n",
                "In the following code cell, type a path to the drift configuration tar ball."
            ]
        },
        {
            "cell_type": "code",
            "execution_count": 32,
            "metadata": {
                "id": "54a4a63e-7cbc-4e0c-862b-d485105e1cfa"
            },
            "outputs": [],
            "source": [
                "wos_client.monitor_instances.upload_drift_model(\n",
                "    model_path=\"drift_archive.tar.gz\",\n",
                "    data_mart_id=data_mart_id,\n",
                "    subscription_id=subscription_id\n",
                ").result"
            ]
        },
        {
            "cell_type": "markdown",
            "metadata": {
                "id": "cd397c89-d2d2-45d7-b1f7-6a09cf94dab3"
            },
            "source": [
                "In the following code cell, default values are set for the drift monitor. You can change the default values by updating the values in the `parameters` section. The `min_samples` parameter controls the number of minimum records required in an evaluation time window for drift analysis to be completed. The `drift_threshold` parameter sets the threshold in decimal format for the drift percentage to trigger an alert. The `train_drift_model` parameter controls whether to learn drift artefacts (drift model training and data constraints learning) by IBM Watson OpenScale via Spark job accessing training data table."
            ]
        },
        {
            "cell_type": "code",
            "execution_count": 33,
            "metadata": {
                "id": "ad99a513-6486-4920-8993-23eb1ddade27"
            },
            "outputs": [
                {
                    "name": "stdout",
                    "output_type": "stream",
                    "text": [
                        "{\n",
                        "  \"metadata\": {\n",
                        "    \"id\": \"bf710062-9d4b-4796-ae3f-79abeb43165d\",\n",
                        "    \"crn\": \"crn:v1:bluemix:public:aiopenscale:us-south:a/na:00000000-0000-0000-0000-000000000000:monitor_instance:bf710062-9d4b-4796-ae3f-79abeb43165d\",\n",
                        "    \"url\": \"/v2/monitor_instances/bf710062-9d4b-4796-ae3f-79abeb43165d\",\n",
                        "    \"created_at\": \"2024-07-17T11:38:05.978000Z\",\n",
                        "    \"created_by\": \"cpadmin\"\n",
                        "  },\n",
                        "  \"entity\": {\n",
                        "    \"data_mart_id\": \"00000000-0000-0000-0000-000000000000\",\n",
                        "    \"monitor_definition_id\": \"drift\",\n",
                        "    \"target\": {\n",
                        "      \"target_type\": \"subscription\",\n",
                        "      \"target_id\": \"e2df4ec7-6c75-416f-a444-8d21389f7513\"\n",
                        "    },\n",
                        "    \"parameters\": {\n",
                        "      \"drift_threshold\": 0.05,\n",
                        "      \"min_samples\": 10,\n",
                        "      \"train_drift_model\": false\n",
                        "    },\n",
                        "    \"thresholds\": [\n",
                        "      {\n",
                        "        \"metric_id\": \"drift_magnitude\",\n",
                        "        \"type\": \"upper_limit\",\n",
                        "        \"value\": 0.5\n",
                        "      },\n",
                        "      {\n",
                        "        \"metric_id\": \"predicted_accuracy\",\n",
                        "        \"type\": \"upper_limit\",\n",
                        "        \"value\": 0.8\n",
                        "      },\n",
                        "      {\n",
                        "        \"metric_id\": \"data_drift_magnitude\",\n",
                        "        \"type\": \"upper_limit\",\n",
                        "        \"value\": 0.1\n",
                        "      }\n",
                        "    ],\n",
                        "    \"schedule\": {\n",
                        "      \"repeat_interval\": 1,\n",
                        "      \"repeat_unit\": \"week\",\n",
                        "      \"start_time\": {\n",
                        "        \"type\": \"relative\",\n",
                        "        \"delay_unit\": \"minute\",\n",
                        "        \"delay\": 10\n",
                        "      },\n",
                        "      \"repeat_type\": \"week\"\n",
                        "    },\n",
                        "    \"status\": {\n",
                        "      \"state\": \"preparing\"\n",
                        "    }\n",
                        "  }\n",
                        "}\n"
                    ]
                }
            ],
            "source": [
                "import time\n",
                "\n",
                "target = Target(\n",
                "    target_type=TargetTypes.SUBSCRIPTION,\n",
                "    target_id=subscription_id\n",
                ")\n",
                "\n",
                "parameters = {\n",
                "    \"min_samples\": 100,\n",
                "    \"drift_threshold\": 0.05,\n",
                "    \"train_drift_model\": False\n",
                "}\n",
                "\n",
                "drift_monitor_details = wos_client.monitor_instances.create(\n",
                "    data_mart_id=data_mart_id,\n",
                "    monitor_definition_id=wos_client.monitor_definitions.MONITORS.DRIFT.ID,\n",
                "    target=target,\n",
                "    parameters=parameters\n",
                ").result\n",
                "\n",
                "drift_monitor_instance_id = drift_monitor_details.metadata.id\n",
                "print(drift_monitor_details)"
            ]
        },
        {
            "cell_type": "markdown",
            "metadata": {
                "id": "5b99f35c-ffbb-4232-9176-eff8d35df6c5"
            },
            "source": [
                "### Check monitor instance status"
            ]
        },
        {
            "cell_type": "code",
            "execution_count": 34,
            "metadata": {
                "id": "572aa9f5-afba-4b85-8f91-175802a1f1a8"
            },
            "outputs": [
                {
                    "name": "stdout",
                    "output_type": "stream",
                    "text": [
                        "11:38:13 active\n"
                    ]
                }
            ],
            "source": [
                "drift_status = None\n",
                "\n",
                "while drift_status not in (\"active\", \"error\"):\n",
                "    monitor_instance_details = wos_client.monitor_instances.get(monitor_instance_id=drift_monitor_instance_id).result\n",
                "    drift_status = monitor_instance_details.entity.status.state\n",
                "    if drift_status not in (\"active\", \"error\"):\n",
                "        print(datetime.utcnow().strftime('%H:%M:%S'), drift_status)\n",
                "        time.sleep(30)\n",
                "\n",
                "print(datetime.utcnow().strftime('%H:%M:%S'), drift_status)"
            ]
        },
        {
            "cell_type": "markdown",
            "metadata": {
                "id": "58a025e1-1a06-48d6-8eab-c8fcfd6f9809"
            },
            "source": [
                "### Run an on-demand evaluation\n",
                "Please make sure you have data in payload table in hive. Drift evaluation will use this data for its metrics computation."
            ]
        },
        {
            "cell_type": "code",
            "execution_count": 35,
            "metadata": {
                "id": "d5fb4af2-c40f-46f1-9b08-91b3b890571a"
            },
            "outputs": [
                {
                    "name": "stdout",
                    "output_type": "stream",
                    "text": [
                        "{\n",
                        "  \"metadata\": {\n",
                        "    \"id\": \"bf710062-9d4b-4796-ae3f-79abeb43165d\",\n",
                        "    \"crn\": \"crn:v1:bluemix:public:aiopenscale:us-south:a/na:00000000-0000-0000-0000-000000000000:monitor_instance:bf710062-9d4b-4796-ae3f-79abeb43165d\",\n",
                        "    \"url\": \"/v2/monitor_instances/bf710062-9d4b-4796-ae3f-79abeb43165d\",\n",
                        "    \"created_at\": \"2024-07-17T11:38:05.978000Z\",\n",
                        "    \"created_by\": \"cpadmin\",\n",
                        "    \"modified_at\": \"2024-07-17T11:38:07.122000Z\",\n",
                        "    \"modified_by\": \"internal-service\"\n",
                        "  },\n",
                        "  \"entity\": {\n",
                        "    \"data_mart_id\": \"00000000-0000-0000-0000-000000000000\",\n",
                        "    \"monitor_definition_id\": \"drift\",\n",
                        "    \"target\": {\n",
                        "      \"target_type\": \"subscription\",\n",
                        "      \"target_id\": \"e2df4ec7-6c75-416f-a444-8d21389f7513\"\n",
                        "    },\n",
                        "    \"parameters\": {\n",
                        "      \"config_status\": {\n",
                        "        \"model_name\": null,\n",
                        "        \"state\": \"finished\"\n",
                        "      },\n",
                        "      \"data_drift_enabled\": true,\n",
                        "      \"data_drift_threshold\": 0.1,\n",
                        "      \"drift_buffer_range\": [\n",
                        "        -4.5,\n",
                        "        4.5\n",
                        "      ],\n",
                        "      \"drift_model_version\": \"spark-3.4.2\",\n",
                        "      \"drift_threshold\": 0.05,\n",
                        "      \"min_samples\": 10,\n",
                        "      \"model_drift_enabled\": true,\n",
                        "      \"table_schema\": {\n",
                        "        \"fields\": [\n",
                        "          {\n",
                        "            \"length\": 64,\n",
                        "            \"metadata\": {},\n",
                        "            \"name\": \"scoring_id\",\n",
                        "            \"nullable\": false,\n",
                        "            \"type\": \"string\",\n",
                        "            \"unique\": true\n",
                        "          },\n",
                        "          {\n",
                        "            \"length\": null,\n",
                        "            \"metadata\": {},\n",
                        "            \"name\": \"scoring_timestamp\",\n",
                        "            \"nullable\": false,\n",
                        "            \"type\": \"timestamp\",\n",
                        "            \"unique\": false\n",
                        "          },\n",
                        "          {\n",
                        "            \"length\": 40,\n",
                        "            \"metadata\": {},\n",
                        "            \"name\": \"constraints_generation_id\",\n",
                        "            \"nullable\": false,\n",
                        "            \"type\": \"string\",\n",
                        "            \"unique\": false\n",
                        "          },\n",
                        "          {\n",
                        "            \"length\": 40,\n",
                        "            \"metadata\": {},\n",
                        "            \"name\": \"run_id\",\n",
                        "            \"nullable\": false,\n",
                        "            \"type\": \"string\",\n",
                        "            \"unique\": false\n",
                        "          },\n",
                        "          {\n",
                        "            \"length\": null,\n",
                        "            \"metadata\": {},\n",
                        "            \"name\": \"is_model_drift\",\n",
                        "            \"nullable\": false,\n",
                        "            \"type\": \"boolean\",\n",
                        "            \"unique\": false\n",
                        "          },\n",
                        "          {\n",
                        "            \"length\": null,\n",
                        "            \"metadata\": {},\n",
                        "            \"name\": \"drift_model_confidence\",\n",
                        "            \"nullable\": true,\n",
                        "            \"type\": \"float\",\n",
                        "            \"unique\": false\n",
                        "          },\n",
                        "          {\n",
                        "            \"length\": null,\n",
                        "            \"metadata\": {},\n",
                        "            \"name\": \"is_data_drift\",\n",
                        "            \"nullable\": false,\n",
                        "            \"type\": \"boolean\",\n",
                        "            \"unique\": false\n",
                        "          },\n",
                        "          {\n",
                        "            \"length\": 32000,\n",
                        "            \"metadata\": {},\n",
                        "            \"name\": \"categorical_distribution_constraint\",\n",
                        "            \"nullable\": true,\n",
                        "            \"type\": \"string\",\n",
                        "            \"unique\": false\n",
                        "          },\n",
                        "          {\n",
                        "            \"length\": 32000,\n",
                        "            \"metadata\": {},\n",
                        "            \"name\": \"numeric_range_constraint\",\n",
                        "            \"nullable\": true,\n",
                        "            \"type\": \"string\",\n",
                        "            \"unique\": false\n",
                        "          },\n",
                        "          {\n",
                        "            \"length\": 32000,\n",
                        "            \"metadata\": {},\n",
                        "            \"name\": \"catcat_distribution_constraint\",\n",
                        "            \"nullable\": true,\n",
                        "            \"type\": \"string\",\n",
                        "            \"unique\": false\n",
                        "          },\n",
                        "          {\n",
                        "            \"length\": 32000,\n",
                        "            \"metadata\": {},\n",
                        "            \"name\": \"catnum_range_constraint\",\n",
                        "            \"nullable\": true,\n",
                        "            \"type\": \"string\",\n",
                        "            \"unique\": false\n",
                        "          }\n",
                        "        ],\n",
                        "        \"type\": \"struct\"\n",
                        "      },\n",
                        "      \"train_accuracy\": 0.875,\n",
                        "      \"train_drift_model\": false,\n",
                        "      \"train_predicted_accuracy\": 0.625\n",
                        "    },\n",
                        "    \"thresholds\": [\n",
                        "      {\n",
                        "        \"metric_id\": \"drift_magnitude\",\n",
                        "        \"type\": \"upper_limit\",\n",
                        "        \"value\": 0.05\n",
                        "      },\n",
                        "      {\n",
                        "        \"metric_id\": \"data_drift_magnitude\",\n",
                        "        \"type\": \"upper_limit\",\n",
                        "        \"value\": 0.1\n",
                        "      }\n",
                        "    ],\n",
                        "    \"schedule\": {\n",
                        "      \"repeat_interval\": 1,\n",
                        "      \"repeat_unit\": \"week\",\n",
                        "      \"start_time\": {\n",
                        "        \"type\": \"relative\",\n",
                        "        \"delay_unit\": \"minute\",\n",
                        "        \"delay\": 10\n",
                        "      },\n",
                        "      \"repeat_type\": \"week\",\n",
                        "      \"status\": \"enabled\"\n",
                        "    },\n",
                        "    \"schedule_id\": \"d1e01dac-f60d-4653-85ce-b2095b6f6838\",\n",
                        "    \"status\": {\n",
                        "      \"state\": \"active\"\n",
                        "    }\n",
                        "  }\n",
                        "}\n"
                    ]
                }
            ],
            "source": [
                "# Check Drift monitor instance details\n",
                "\n",
                "monitor_instance_details = wos_client.monitor_instances.get(monitor_instance_id=drift_monitor_instance_id).result\n",
                "print(monitor_instance_details)"
            ]
        },
        {
            "cell_type": "code",
            "execution_count": 36,
            "metadata": {
                "id": "b88a5a85-8725-4434-8812-a64e13e56f00"
            },
            "outputs": [
                {
                    "name": "stdout",
                    "output_type": "stream",
                    "text": [
                        "{\n",
                        "  \"metadata\": {\n",
                        "    \"id\": \"a883cc9c-6330-4256-a8a1-e674094d2db6\",\n",
                        "    \"crn\": \"crn:v1:bluemix:public:aiopenscale:us-south:a/na:00000000-0000-0000-0000-000000000000:run:a883cc9c-6330-4256-a8a1-e674094d2db6\",\n",
                        "    \"url\": \"/v2/monitor_instances/bf710062-9d4b-4796-ae3f-79abeb43165d/runs/a883cc9c-6330-4256-a8a1-e674094d2db6\",\n",
                        "    \"created_at\": \"2024-07-17T11:38:16.240000Z\",\n",
                        "    \"created_by\": \"cpadmin\"\n",
                        "  },\n",
                        "  \"entity\": {\n",
                        "    \"parameters\": {\n",
                        "      \"config_status\": {\n",
                        "        \"model_name\": null,\n",
                        "        \"state\": \"finished\"\n",
                        "      },\n",
                        "      \"data_drift_enabled\": true,\n",
                        "      \"data_drift_threshold\": 0.1,\n",
                        "      \"drift_buffer_range\": [\n",
                        "        -4.5,\n",
                        "        4.5\n",
                        "      ],\n",
                        "      \"drift_model_version\": \"spark-3.4.2\",\n",
                        "      \"drift_threshold\": 0.05,\n",
                        "      \"min_samples\": 10,\n",
                        "      \"model_drift_enabled\": true,\n",
                        "      \"table_schema\": {\n",
                        "        \"fields\": [\n",
                        "          {\n",
                        "            \"length\": 64,\n",
                        "            \"metadata\": {},\n",
                        "            \"name\": \"scoring_id\",\n",
                        "            \"nullable\": false,\n",
                        "            \"type\": \"string\",\n",
                        "            \"unique\": true\n",
                        "          },\n",
                        "          {\n",
                        "            \"length\": null,\n",
                        "            \"metadata\": {},\n",
                        "            \"name\": \"scoring_timestamp\",\n",
                        "            \"nullable\": false,\n",
                        "            \"type\": \"timestamp\",\n",
                        "            \"unique\": false\n",
                        "          },\n",
                        "          {\n",
                        "            \"length\": 40,\n",
                        "            \"metadata\": {},\n",
                        "            \"name\": \"constraints_generation_id\",\n",
                        "            \"nullable\": false,\n",
                        "            \"type\": \"string\",\n",
                        "            \"unique\": false\n",
                        "          },\n",
                        "          {\n",
                        "            \"length\": 40,\n",
                        "            \"metadata\": {},\n",
                        "            \"name\": \"run_id\",\n",
                        "            \"nullable\": false,\n",
                        "            \"type\": \"string\",\n",
                        "            \"unique\": false\n",
                        "          },\n",
                        "          {\n",
                        "            \"length\": null,\n",
                        "            \"metadata\": {},\n",
                        "            \"name\": \"is_model_drift\",\n",
                        "            \"nullable\": false,\n",
                        "            \"type\": \"boolean\",\n",
                        "            \"unique\": false\n",
                        "          },\n",
                        "          {\n",
                        "            \"length\": null,\n",
                        "            \"metadata\": {},\n",
                        "            \"name\": \"drift_model_confidence\",\n",
                        "            \"nullable\": true,\n",
                        "            \"type\": \"float\",\n",
                        "            \"unique\": false\n",
                        "          },\n",
                        "          {\n",
                        "            \"length\": null,\n",
                        "            \"metadata\": {},\n",
                        "            \"name\": \"is_data_drift\",\n",
                        "            \"nullable\": false,\n",
                        "            \"type\": \"boolean\",\n",
                        "            \"unique\": false\n",
                        "          },\n",
                        "          {\n",
                        "            \"length\": 32000,\n",
                        "            \"metadata\": {},\n",
                        "            \"name\": \"categorical_distribution_constraint\",\n",
                        "            \"nullable\": true,\n",
                        "            \"type\": \"string\",\n",
                        "            \"unique\": false\n",
                        "          },\n",
                        "          {\n",
                        "            \"length\": 32000,\n",
                        "            \"metadata\": {},\n",
                        "            \"name\": \"numeric_range_constraint\",\n",
                        "            \"nullable\": true,\n",
                        "            \"type\": \"string\",\n",
                        "            \"unique\": false\n",
                        "          },\n",
                        "          {\n",
                        "            \"length\": 32000,\n",
                        "            \"metadata\": {},\n",
                        "            \"name\": \"catcat_distribution_constraint\",\n",
                        "            \"nullable\": true,\n",
                        "            \"type\": \"string\",\n",
                        "            \"unique\": false\n",
                        "          },\n",
                        "          {\n",
                        "            \"length\": 32000,\n",
                        "            \"metadata\": {},\n",
                        "            \"name\": \"catnum_range_constraint\",\n",
                        "            \"nullable\": true,\n",
                        "            \"type\": \"string\",\n",
                        "            \"unique\": false\n",
                        "          }\n",
                        "        ],\n",
                        "        \"type\": \"struct\"\n",
                        "      },\n",
                        "      \"train_accuracy\": 0.875,\n",
                        "      \"train_drift_model\": false,\n",
                        "      \"train_predicted_accuracy\": 0.625\n",
                        "    },\n",
                        "    \"status\": {\n",
                        "      \"state\": \"running\",\n",
                        "      \"queued_at\": \"2024-07-17T11:38:16.234000Z\",\n",
                        "      \"started_at\": \"2024-07-17T11:38:16.240000Z\",\n",
                        "      \"operators\": []\n",
                        "    }\n",
                        "  }\n",
                        "}\n"
                    ]
                }
            ],
            "source": [
                "# Trigger on-demand run\n",
                "\n",
                "monitoring_run_details = wos_client.monitor_instances.run(monitor_instance_id=drift_monitor_instance_id).result\n",
                "monitoring_run_id=monitoring_run_details.metadata.id\n",
                "\n",
                "print(monitoring_run_details)"
            ]
        },
        {
            "cell_type": "code",
            "execution_count": 37,
            "metadata": {
                "id": "d85f7f8d-928d-4f13-804f-59a71c2b4fd0"
            },
            "outputs": [
                {
                    "name": "stdout",
                    "output_type": "stream",
                    "text": [
                        "11:39:13 running\n",
                        "11:39:43 running\n",
                        "11:40:13 running\n",
                        "11:40:43 finished\n"
                    ]
                }
            ],
            "source": [
                "# Check run status\n",
                "\n",
                "drift_run_status = None\n",
                "while drift_run_status not in (\"finished\", \"error\"):\n",
                "    monitoring_run_details = wos_client.monitor_instances.get_run_details(monitor_instance_id=drift_monitor_instance_id, monitoring_run_id=monitoring_run_id).result\n",
                "    drift_run_status = monitoring_run_details.entity.status.state\n",
                "    if drift_run_status not in (\"finished\", \"error\"):\n",
                "        print(datetime.utcnow().strftime(\"%H:%M:%S\"), drift_run_status)\n",
                "        time.sleep(30)\n",
                "        \n",
                "print(datetime.utcnow().strftime(\"%H:%M:%S\"), drift_run_status)"
            ]
        },
        {
            "cell_type": "markdown",
            "metadata": {
                "id": "d00636a4-93b5-4703-97f9-499236ddd027"
            },
            "source": [
                "### Display drift metrics"
            ]
        },
        {
            "cell_type": "code",
            "execution_count": 38,
            "metadata": {
                "id": "60df059b-c066-47be-a814-f6ef50f36db9"
            },
            "outputs": [
                {
                    "data": {
                        "text/html": [
                            "<HTML>\n",
                            "        <body>\n",
                            "            <h3>bf710062-9d4b-4796-ae3f-79abeb43165d Monitor Runs Metrics from: 2024-07-10 11:40:43.313546  till: 2024-07-17 11:40:43.313551</h3>\n",
                            "            <table style='border: 1px solid #dddddd; font-family: Courier'>\n",
                            "                <th style='border: 1px solid #dddddd'>ts</th><th style='border: 1px solid #dddddd'>id</th><th style='border: 1px solid #dddddd'>measurement_id</th><th style='border: 1px solid #dddddd'>value</th><th style='border: 1px solid #dddddd'>lower_limit</th><th style='border: 1px solid #dddddd'>upper_limit</th><th style='border: 1px solid #dddddd'>tags</th><th style='border: 1px solid #dddddd'>monitor_definition_id</th><th style='border: 1px solid #dddddd'>monitor_instance_id</th><th style='border: 1px solid #dddddd'>run_id</th><th style='border: 1px solid #dddddd'>target_type</th><th style='border: 1px solid #dddddd'>target_id</th>\n",
                            "                <tr><td style='border: 1px solid #dddddd'>2024-07-17 11:38:18.069880+00:00</td><td style='border: 1px solid #dddddd'>data_drift_magnitude</td><td style='border: 1px solid #dddddd'>5721e547-660a-498d-93e5-c547d80be628</td><td style='border: 1px solid #dddddd'>0.0</td><td style='border: 1px solid #dddddd'>None</td><td style='border: 1px solid #dddddd'>0.1</td><td style='border: 1px solid #dddddd'>[]</td><td style='border: 1px solid #dddddd'>drift</td><td style='border: 1px solid #dddddd'>bf710062-9d4b-4796-ae3f-79abeb43165d</td><td style='border: 1px solid #dddddd'>a883cc9c-6330-4256-a8a1-e674094d2db6</td><td style='border: 1px solid #dddddd'>subscription</td><td style='border: 1px solid #dddddd'>e2df4ec7-6c75-416f-a444-8d21389f7513</td></tr><tr><td style='border: 1px solid #dddddd'>2024-07-17 11:38:18.069880+00:00</td><td style='border: 1px solid #dddddd'>drift_magnitude</td><td style='border: 1px solid #dddddd'>5721e547-660a-498d-93e5-c547d80be628</td><td style='border: 1px solid #dddddd'>0.013636363636363669</td><td style='border: 1px solid #dddddd'>None</td><td style='border: 1px solid #dddddd'>0.05</td><td style='border: 1px solid #dddddd'>[]</td><td style='border: 1px solid #dddddd'>drift</td><td style='border: 1px solid #dddddd'>bf710062-9d4b-4796-ae3f-79abeb43165d</td><td style='border: 1px solid #dddddd'>a883cc9c-6330-4256-a8a1-e674094d2db6</td><td style='border: 1px solid #dddddd'>subscription</td><td style='border: 1px solid #dddddd'>e2df4ec7-6c75-416f-a444-8d21389f7513</td></tr><tr><td style='border: 1px solid #dddddd'>2024-07-17 11:38:18.069880+00:00</td><td style='border: 1px solid #dddddd'>predicted_accuracy</td><td style='border: 1px solid #dddddd'>5721e547-660a-498d-93e5-c547d80be628</td><td style='border: 1px solid #dddddd'>0.8613636363636363</td><td style='border: 1px solid #dddddd'>None</td><td style='border: 1px solid #dddddd'>None</td><td style='border: 1px solid #dddddd'>[]</td><td style='border: 1px solid #dddddd'>drift</td><td style='border: 1px solid #dddddd'>bf710062-9d4b-4796-ae3f-79abeb43165d</td><td style='border: 1px solid #dddddd'>a883cc9c-6330-4256-a8a1-e674094d2db6</td><td style='border: 1px solid #dddddd'>subscription</td><td style='border: 1px solid #dddddd'>e2df4ec7-6c75-416f-a444-8d21389f7513</td></tr>\n",
                            "            </table>\n",
                            "        </body>\n",
                            "        </HTML>"
                        ],
                        "text/plain": [
                            "<IPython.core.display.HTML object>"
                        ]
                    },
                    "metadata": {},
                    "output_type": "display_data"
                }
            ],
            "source": [
                "wos_client.monitor_instances.show_metrics(monitor_instance_id=drift_monitor_instance_id)"
            ]
        },
        {
            "cell_type": "markdown",
            "metadata": {
                "id": "4f65f4d6-3eed-4f57-86aa-c70ba53c2a6d"
            },
            "source": [
                "# 6. Fairness monitoring <a name=\"fairness\"></a>"
            ]
        },
        {
            "cell_type": "markdown",
            "metadata": {
                "id": "beb1a400-2083-4fd4-815c-7678cbccdc82"
            },
            "source": [
                "### Enable the fairness monitor\n",
                "\n",
                "The following code cell, will enable the fairness monitor."
            ]
        },
        {
            "cell_type": "code",
            "execution_count": 39,
            "metadata": {
                "id": "adf2ab5c-ff27-4cbc-9e5e-da3d6049a48a"
            },
            "outputs": [
                {
                    "name": "stdout",
                    "output_type": "stream",
                    "text": [
                        "{\n",
                        "  \"metadata\": {\n",
                        "    \"id\": \"9b31235c-5d0a-45f0-8507-f589e15d7651\",\n",
                        "    \"crn\": \"crn:v1:bluemix:public:aiopenscale:us-south:a/na:00000000-0000-0000-0000-000000000000:monitor_instance:9b31235c-5d0a-45f0-8507-f589e15d7651\",\n",
                        "    \"url\": \"/v2/monitor_instances/9b31235c-5d0a-45f0-8507-f589e15d7651\",\n",
                        "    \"created_at\": \"2024-07-17T11:40:43.786000Z\",\n",
                        "    \"created_by\": \"cpadmin\"\n",
                        "  },\n",
                        "  \"entity\": {\n",
                        "    \"data_mart_id\": \"00000000-0000-0000-0000-000000000000\",\n",
                        "    \"monitor_definition_id\": \"fairness\",\n",
                        "    \"target\": {\n",
                        "      \"target_type\": \"subscription\",\n",
                        "      \"target_id\": \"e2df4ec7-6c75-416f-a444-8d21389f7513\"\n",
                        "    },\n",
                        "    \"parameters\": {\n",
                        "      \"training_data_last_processed_time\": \"2024-06-23T08:55:38.198019Z\",\n",
                        "      \"features\": [\n",
                        "        {\n",
                        "          \"minority\": [\n",
                        "            \"female\"\n",
                        "          ],\n",
                        "          \"feature\": \"Sex\",\n",
                        "          \"metric_ids\": [\n",
                        "            \"statistical_parity_difference\",\n",
                        "            \"fairness_value\"\n",
                        "          ],\n",
                        "          \"majority\": [\n",
                        "            \"male\"\n",
                        "          ],\n",
                        "          \"threshold\": 0.95\n",
                        "        },\n",
                        "        {\n",
                        "          \"minority\": [\n",
                        "            [\n",
                        "              18,\n",
                        "              25\n",
                        "            ]\n",
                        "          ],\n",
                        "          \"feature\": \"Age\",\n",
                        "          \"metric_ids\": [\n",
                        "            \"statistical_parity_difference\",\n",
                        "            \"fairness_value\"\n",
                        "          ],\n",
                        "          \"majority\": [\n",
                        "            [\n",
                        "              26,\n",
                        "              75\n",
                        "            ]\n",
                        "          ],\n",
                        "          \"threshold\": 0.95\n",
                        "        }\n",
                        "      ],\n",
                        "      \"training_data_measurements_computed\": false,\n",
                        "      \"sample_size_percent\": 75,\n",
                        "      \"favourable_class\": [\n",
                        "        \"No Risk\"\n",
                        "      ],\n",
                        "      \"training_data_distributions\": {\n",
                        "        \"fields\": [\n",
                        "          \"feature\",\n",
                        "          \"feature_value\",\n",
                        "          \"fav_count\",\n",
                        "          \"unfav_count\",\n",
                        "          \"group\"\n",
                        "        ],\n",
                        "        \"values\": [\n",
                        "          [\n",
                        "            \"Sex\",\n",
                        "            \"male\",\n",
                        "            416,\n",
                        "            212,\n",
                        "            \"reference\"\n",
                        "          ],\n",
                        "          [\n",
                        "            \"Sex\",\n",
                        "            \"female\",\n",
                        "            263,\n",
                        "            109,\n",
                        "            \"monitored\"\n",
                        "          ],\n",
                        "          [\n",
                        "            \"Age\",\n",
                        "            [\n",
                        "              26,\n",
                        "              75\n",
                        "            ],\n",
                        "            556,\n",
                        "            258,\n",
                        "            \"reference\"\n",
                        "          ],\n",
                        "          [\n",
                        "            \"Age\",\n",
                        "            [\n",
                        "              18,\n",
                        "              25\n",
                        "            ],\n",
                        "            123,\n",
                        "            63,\n",
                        "            \"monitored\"\n",
                        "          ]\n",
                        "        ]\n",
                        "      },\n",
                        "      \"training_data_records_count\": 1000,\n",
                        "      \"training_data_class_label\": \"Risk\",\n",
                        "      \"unfavourable_class\": [\n",
                        "        \"Risk\"\n",
                        "      ]\n",
                        "    },\n",
                        "    \"thresholds\": [\n",
                        "      {\n",
                        "        \"metric_id\": \"fairness_value\",\n",
                        "        \"type\": \"lower_limit\",\n",
                        "        \"value\": 85.0,\n",
                        "        \"specific_values\": [\n",
                        "          {\n",
                        "            \"value\": 95.0,\n",
                        "            \"applies_to\": [\n",
                        "              {\n",
                        "                \"type\": \"tag\",\n",
                        "                \"key\": \"feature\",\n",
                        "                \"value\": \"Sex\"\n",
                        "              }\n",
                        "            ]\n",
                        "          },\n",
                        "          {\n",
                        "            \"value\": 95.0,\n",
                        "            \"applies_to\": [\n",
                        "              {\n",
                        "                \"type\": \"tag\",\n",
                        "                \"key\": \"feature\",\n",
                        "                \"value\": \"Age\"\n",
                        "              }\n",
                        "            ]\n",
                        "          }\n",
                        "        ]\n",
                        "      },\n",
                        "      {\n",
                        "        \"metric_id\": \"fairness_value\",\n",
                        "        \"type\": \"upper_limit\",\n",
                        "        \"value\": 125.0,\n",
                        "        \"specific_values\": [\n",
                        "          {\n",
                        "            \"value\": 125.0,\n",
                        "            \"applies_to\": [\n",
                        "              {\n",
                        "                \"type\": \"tag\",\n",
                        "                \"key\": \"feature\",\n",
                        "                \"value\": \"Sex\"\n",
                        "              },\n",
                        "              {\n",
                        "                \"type\": \"tag\",\n",
                        "                \"key\": \"feature\",\n",
                        "                \"value\": \"Age\"\n",
                        "              }\n",
                        "            ]\n",
                        "          }\n",
                        "        ]\n",
                        "      },\n",
                        "      {\n",
                        "        \"metric_id\": \"statistical_parity_difference\",\n",
                        "        \"type\": \"lower_limit\",\n",
                        "        \"value\": -0.15,\n",
                        "        \"specific_values\": [\n",
                        "          {\n",
                        "            \"value\": -0.15,\n",
                        "            \"applies_to\": [\n",
                        "              {\n",
                        "                \"type\": \"tag\",\n",
                        "                \"key\": \"feature\",\n",
                        "                \"value\": \"Sex\"\n",
                        "              },\n",
                        "              {\n",
                        "                \"type\": \"tag\",\n",
                        "                \"key\": \"feature\",\n",
                        "                \"value\": \"Age\"\n",
                        "              }\n",
                        "            ]\n",
                        "          }\n",
                        "        ]\n",
                        "      },\n",
                        "      {\n",
                        "        \"metric_id\": \"statistical_parity_difference\",\n",
                        "        \"type\": \"upper_limit\",\n",
                        "        \"value\": 0.15,\n",
                        "        \"specific_values\": [\n",
                        "          {\n",
                        "            \"value\": 0.15,\n",
                        "            \"applies_to\": [\n",
                        "              {\n",
                        "                \"type\": \"tag\",\n",
                        "                \"key\": \"feature\",\n",
                        "                \"value\": \"Sex\"\n",
                        "              },\n",
                        "              {\n",
                        "                \"type\": \"tag\",\n",
                        "                \"key\": \"feature\",\n",
                        "                \"value\": \"Age\"\n",
                        "              }\n",
                        "            ]\n",
                        "          }\n",
                        "        ]\n",
                        "      }\n",
                        "    ],\n",
                        "    \"schedule\": {\n",
                        "      \"repeat_interval\": 1,\n",
                        "      \"repeat_unit\": \"week\",\n",
                        "      \"start_time\": {\n",
                        "        \"type\": \"relative\",\n",
                        "        \"delay_unit\": \"minute\",\n",
                        "        \"delay\": 10\n",
                        "      },\n",
                        "      \"repeat_type\": \"week\"\n",
                        "    },\n",
                        "    \"status\": {\n",
                        "      \"state\": \"preparing\"\n",
                        "    }\n",
                        "  }\n",
                        "}\n"
                    ]
                }
            ],
            "source": [
                "target = Target(\n",
                "    target_type=TargetTypes.SUBSCRIPTION,\n",
                "    target_id=subscription_id\n",
                ")\n",
                "\n",
                "fairness_statistics_json = None\n",
                "with open(\"fairness_statistics.json\", \"r\") as fp:\n",
                "    fairness_statistics_json = json.load(fp)\n",
                "    \n",
                "parameters = fairness_statistics_json[\"parameters\"]\n",
                "thresholds = fairness_statistics_json[\"thresholds\"]\n",
                "\n",
                "fairness_monitor_details = wos_client.monitor_instances.create(\n",
                "    data_mart_id=data_mart_id,\n",
                "    monitor_definition_id=wos_client.monitor_definitions.MONITORS.FAIRNESS.ID,\n",
                "    target=target,\n",
                "    parameters=parameters,\n",
                "    thresholds=thresholds\n",
                ").result\n",
                "\n",
                "fairness_monitor_instance_id = fairness_monitor_details.metadata.id\n",
                "print(fairness_monitor_details)"
            ]
        },
        {
            "cell_type": "markdown",
            "metadata": {
                "id": "0785fe3e-ffff-40ec-88db-395793cd1fc0"
            },
            "source": [
                "### Check monitor instance status"
            ]
        },
        {
            "cell_type": "code",
            "execution_count": 40,
            "metadata": {
                "id": "dcc4b37d-4505-42c9-a218-870f2bebd826"
            },
            "outputs": [
                {
                    "name": "stdout",
                    "output_type": "stream",
                    "text": [
                        "11:40:43 preparing\n",
                        "11:41:13 preparing\n",
                        "11:41:44 active\n"
                    ]
                }
            ],
            "source": [
                "fairness_state = fairness_monitor_details.entity.status.state\n",
                "\n",
                "while fairness_state not in (\"active\", \"error\"):\n",
                "    print(datetime.utcnow().strftime('%H:%M:%S'), fairness_state)\n",
                "    monitor_instance_details = wos_client.monitor_instances.get(monitor_instance_id=fairness_monitor_instance_id).result\n",
                "    fairness_state = monitor_instance_details.entity.status.state\n",
                "    time.sleep(30)\n",
                "\n",
                "print(datetime.utcnow().strftime('%H:%M:%S'), fairness_state)"
            ]
        },
        {
            "cell_type": "markdown",
            "metadata": {
                "id": "80c1e0ac-faa9-4779-9942-d4adc7ec0252"
            },
            "source": [
                "### Run an on-demand evaluation\n",
                "Please make sure you have data in payload table in hive. Fairness evaluation will use this data for its metrics computation."
            ]
        },
        {
            "cell_type": "code",
            "execution_count": 41,
            "metadata": {
                "id": "d16e9269-ca4b-4ce3-9b41-03c88174f01b"
            },
            "outputs": [
                {
                    "name": "stdout",
                    "output_type": "stream",
                    "text": [
                        "{\n",
                        "  \"metadata\": {\n",
                        "    \"id\": \"330005ca-b19a-494b-8b9a-b7a9595d8096\",\n",
                        "    \"crn\": \"crn:v1:bluemix:public:aiopenscale:us-south:a/na:00000000-0000-0000-0000-000000000000:run:330005ca-b19a-494b-8b9a-b7a9595d8096\",\n",
                        "    \"url\": \"/v2/monitor_instances/9b31235c-5d0a-45f0-8507-f589e15d7651/runs/330005ca-b19a-494b-8b9a-b7a9595d8096\",\n",
                        "    \"created_at\": \"2024-07-17T11:41:44.329000Z\",\n",
                        "    \"created_by\": \"cpadmin\"\n",
                        "  },\n",
                        "  \"entity\": {\n",
                        "    \"parameters\": {\n",
                        "      \"favourable_class\": [\n",
                        "        \"No Risk\"\n",
                        "      ],\n",
                        "      \"features\": [\n",
                        "        {\n",
                        "          \"feature\": \"Sex\",\n",
                        "          \"majority\": [\n",
                        "            \"male\"\n",
                        "          ],\n",
                        "          \"metric_ids\": [\n",
                        "            \"statistical_parity_difference\",\n",
                        "            \"fairness_value\"\n",
                        "          ],\n",
                        "          \"minority\": [\n",
                        "            \"female\"\n",
                        "          ],\n",
                        "          \"threshold\": 0.95\n",
                        "        },\n",
                        "        {\n",
                        "          \"feature\": \"Age\",\n",
                        "          \"majority\": [\n",
                        "            [\n",
                        "              26,\n",
                        "              75\n",
                        "            ]\n",
                        "          ],\n",
                        "          \"metric_ids\": [\n",
                        "            \"statistical_parity_difference\",\n",
                        "            \"fairness_value\"\n",
                        "          ],\n",
                        "          \"minority\": [\n",
                        "            [\n",
                        "              18,\n",
                        "              25\n",
                        "            ]\n",
                        "          ],\n",
                        "          \"threshold\": 0.95\n",
                        "        }\n",
                        "      ],\n",
                        "      \"sample_size_percent\": 75,\n",
                        "      \"training_data_class_label\": \"Risk\",\n",
                        "      \"training_data_distributions\": {\n",
                        "        \"fields\": [\n",
                        "          \"feature\",\n",
                        "          \"feature_value\",\n",
                        "          \"fav_count\",\n",
                        "          \"unfav_count\",\n",
                        "          \"group\"\n",
                        "        ],\n",
                        "        \"values\": [\n",
                        "          [\n",
                        "            \"Sex\",\n",
                        "            \"male\",\n",
                        "            416,\n",
                        "            212,\n",
                        "            \"reference\"\n",
                        "          ],\n",
                        "          [\n",
                        "            \"Sex\",\n",
                        "            \"female\",\n",
                        "            263,\n",
                        "            109,\n",
                        "            \"monitored\"\n",
                        "          ],\n",
                        "          [\n",
                        "            \"Age\",\n",
                        "            [\n",
                        "              26,\n",
                        "              75\n",
                        "            ],\n",
                        "            556,\n",
                        "            258,\n",
                        "            \"reference\"\n",
                        "          ],\n",
                        "          [\n",
                        "            \"Age\",\n",
                        "            [\n",
                        "              18,\n",
                        "              25\n",
                        "            ],\n",
                        "            123,\n",
                        "            63,\n",
                        "            \"monitored\"\n",
                        "          ]\n",
                        "        ]\n",
                        "      },\n",
                        "      \"training_data_last_processed_time\": \"2024-06-23T08:55:38.198019Z\",\n",
                        "      \"training_data_measurements_computed\": false,\n",
                        "      \"training_data_records_count\": 1000,\n",
                        "      \"unfavourable_class\": [\n",
                        "        \"Risk\"\n",
                        "      ]\n",
                        "    },\n",
                        "    \"status\": {\n",
                        "      \"state\": \"running\",\n",
                        "      \"queued_at\": \"2024-07-17T11:41:44.322000Z\",\n",
                        "      \"started_at\": \"2024-07-17T11:41:44.329000Z\",\n",
                        "      \"operators\": []\n",
                        "    }\n",
                        "  }\n",
                        "}\n"
                    ]
                }
            ],
            "source": [
                "# Trigger on-demand run\n",
                "\n",
                "monitoring_run_details = wos_client.monitor_instances.run(monitor_instance_id=fairness_monitor_instance_id).result\n",
                "monitoring_run_id=monitoring_run_details.metadata.id\n",
                "\n",
                "print(monitoring_run_details)"
            ]
        },
        {
            "cell_type": "code",
            "execution_count": 42,
            "metadata": {
                "id": "e1ac6adb-1163-471b-b78d-cfc4b8a170f9"
            },
            "outputs": [
                {
                    "name": "stdout",
                    "output_type": "stream",
                    "text": [
                        "11:49:31 running\n",
                        "11:50:02 finished\n"
                    ]
                }
            ],
            "source": [
                "# Check run status\n",
                "\n",
                "fairness_run_status = monitoring_run_details.entity.status.state\n",
                "while fairness_run_status not in (\"finished\", \"error\"):\n",
                "    print(datetime.utcnow().strftime(\"%H:%M:%S\"), fairness_run_status)\n",
                "    monitoring_run_details = wos_client.monitor_instances.get_run_details(monitor_instance_id=fairness_monitor_instance_id, monitoring_run_id=monitoring_run_id).result\n",
                "    fairness_run_status = monitoring_run_details.entity.status.state\n",
                "    time.sleep(30)\n",
                "        \n",
                "print(datetime.utcnow().strftime(\"%H:%M:%S\"), fairness_run_status)"
            ]
        },
        {
            "cell_type": "markdown",
            "metadata": {
                "id": "2a57fbb9-246e-4264-b5d6-d64a03884469"
            },
            "source": [
                "### Display fairness metrics"
            ]
        },
        {
            "cell_type": "code",
            "execution_count": 43,
            "metadata": {
                "id": "3675e747-e098-412e-9c42-f3031c828b48"
            },
            "outputs": [
                {
                    "data": {
                        "text/html": [
                            "<HTML>\n",
                            "        <body>\n",
                            "            <h3>9b31235c-5d0a-45f0-8507-f589e15d7651 Monitor Runs Metrics from: 2024-07-10 12:14:27.622858  till: 2024-07-17 12:14:27.622867</h3>\n",
                            "            <table style='border: 1px solid #dddddd; font-family: Courier'>\n",
                            "                <th style='border: 1px solid #dddddd'>ts</th><th style='border: 1px solid #dddddd'>id</th><th style='border: 1px solid #dddddd'>measurement_id</th><th style='border: 1px solid #dddddd'>value</th><th style='border: 1px solid #dddddd'>lower_limit</th><th style='border: 1px solid #dddddd'>upper_limit</th><th style='border: 1px solid #dddddd'>tags</th><th style='border: 1px solid #dddddd'>monitor_definition_id</th><th style='border: 1px solid #dddddd'>monitor_instance_id</th><th style='border: 1px solid #dddddd'>run_id</th><th style='border: 1px solid #dddddd'>target_type</th><th style='border: 1px solid #dddddd'>target_id</th>\n",
                            "                <tr><td style='border: 1px solid #dddddd'>2024-07-17 11:55:48.643147+00:00</td><td style='border: 1px solid #dddddd'>fairness_value</td><td style='border: 1px solid #dddddd'>d8c5c19d-0748-41a3-8be5-11b12ffe31cb</td><td style='border: 1px solid #dddddd'>175.00000000000003</td><td style='border: 1px solid #dddddd'>95.0</td><td style='border: 1px solid #dddddd'>125.0</td><td style='border: 1px solid #dddddd'>['feature:Sex', 'fairness_metric_type:fairness', 'feature_value:female']</td><td style='border: 1px solid #dddddd'>fairness</td><td style='border: 1px solid #dddddd'>9b31235c-5d0a-45f0-8507-f589e15d7651</td><td style='border: 1px solid #dddddd'>a653a968-db20-410e-a960-b752f88d56b1</td><td style='border: 1px solid #dddddd'>subscription</td><td style='border: 1px solid #dddddd'>e2df4ec7-6c75-416f-a444-8d21389f7513</td></tr><tr><td style='border: 1px solid #dddddd'>2024-07-17 11:55:48.643147+00:00</td><td style='border: 1px solid #dddddd'>statistical_parity_difference</td><td style='border: 1px solid #dddddd'>d8c5c19d-0748-41a3-8be5-11b12ffe31cb</td><td style='border: 1px solid #dddddd'>0.429</td><td style='border: 1px solid #dddddd'>-0.15</td><td style='border: 1px solid #dddddd'>0.15</td><td style='border: 1px solid #dddddd'>['feature:Sex', 'fairness_metric_type:fairness', 'feature_value:female']</td><td style='border: 1px solid #dddddd'>fairness</td><td style='border: 1px solid #dddddd'>9b31235c-5d0a-45f0-8507-f589e15d7651</td><td style='border: 1px solid #dddddd'>a653a968-db20-410e-a960-b752f88d56b1</td><td style='border: 1px solid #dddddd'>subscription</td><td style='border: 1px solid #dddddd'>e2df4ec7-6c75-416f-a444-8d21389f7513</td></tr><tr><td style='border: 1px solid #dddddd'>2024-07-17 11:55:48.643147+00:00</td><td style='border: 1px solid #dddddd'>fairness_value</td><td style='border: 1px solid #dddddd'>d8c5c19d-0748-41a3-8be5-11b12ffe31cb</td><td style='border: 1px solid #dddddd'>150.00000000000003</td><td style='border: 1px solid #dddddd'>95.0</td><td style='border: 1px solid #dddddd'>125.0</td><td style='border: 1px solid #dddddd'>['feature:Age', 'fairness_metric_type:fairness', 'feature_value:18-25']</td><td style='border: 1px solid #dddddd'>fairness</td><td style='border: 1px solid #dddddd'>9b31235c-5d0a-45f0-8507-f589e15d7651</td><td style='border: 1px solid #dddddd'>a653a968-db20-410e-a960-b752f88d56b1</td><td style='border: 1px solid #dddddd'>subscription</td><td style='border: 1px solid #dddddd'>e2df4ec7-6c75-416f-a444-8d21389f7513</td></tr><tr><td style='border: 1px solid #dddddd'>2024-07-17 11:55:48.643147+00:00</td><td style='border: 1px solid #dddddd'>statistical_parity_difference</td><td style='border: 1px solid #dddddd'>d8c5c19d-0748-41a3-8be5-11b12ffe31cb</td><td style='border: 1px solid #dddddd'>0.333</td><td style='border: 1px solid #dddddd'>-0.15</td><td style='border: 1px solid #dddddd'>0.15</td><td style='border: 1px solid #dddddd'>['feature:Age', 'fairness_metric_type:fairness', 'feature_value:18-25']</td><td style='border: 1px solid #dddddd'>fairness</td><td style='border: 1px solid #dddddd'>9b31235c-5d0a-45f0-8507-f589e15d7651</td><td style='border: 1px solid #dddddd'>a653a968-db20-410e-a960-b752f88d56b1</td><td style='border: 1px solid #dddddd'>subscription</td><td style='border: 1px solid #dddddd'>e2df4ec7-6c75-416f-a444-8d21389f7513</td></tr><tr><td style='border: 1px solid #dddddd'>2024-07-17 11:46:47.141503+00:00</td><td style='border: 1px solid #dddddd'>fairness_value</td><td style='border: 1px solid #dddddd'>e70c8239-e175-485b-8dcb-1c5fd6785f65</td><td style='border: 1px solid #dddddd'>175.00000000000003</td><td style='border: 1px solid #dddddd'>95.0</td><td style='border: 1px solid #dddddd'>125.0</td><td style='border: 1px solid #dddddd'>['feature:Sex', 'fairness_metric_type:fairness', 'feature_value:female']</td><td style='border: 1px solid #dddddd'>fairness</td><td style='border: 1px solid #dddddd'>9b31235c-5d0a-45f0-8507-f589e15d7651</td><td style='border: 1px solid #dddddd'>330005ca-b19a-494b-8b9a-b7a9595d8096</td><td style='border: 1px solid #dddddd'>subscription</td><td style='border: 1px solid #dddddd'>e2df4ec7-6c75-416f-a444-8d21389f7513</td></tr><tr><td style='border: 1px solid #dddddd'>2024-07-17 11:46:47.141503+00:00</td><td style='border: 1px solid #dddddd'>statistical_parity_difference</td><td style='border: 1px solid #dddddd'>e70c8239-e175-485b-8dcb-1c5fd6785f65</td><td style='border: 1px solid #dddddd'>0.429</td><td style='border: 1px solid #dddddd'>-0.15</td><td style='border: 1px solid #dddddd'>0.15</td><td style='border: 1px solid #dddddd'>['feature:Sex', 'fairness_metric_type:fairness', 'feature_value:female']</td><td style='border: 1px solid #dddddd'>fairness</td><td style='border: 1px solid #dddddd'>9b31235c-5d0a-45f0-8507-f589e15d7651</td><td style='border: 1px solid #dddddd'>330005ca-b19a-494b-8b9a-b7a9595d8096</td><td style='border: 1px solid #dddddd'>subscription</td><td style='border: 1px solid #dddddd'>e2df4ec7-6c75-416f-a444-8d21389f7513</td></tr><tr><td style='border: 1px solid #dddddd'>2024-07-17 11:46:47.141503+00:00</td><td style='border: 1px solid #dddddd'>fairness_value</td><td style='border: 1px solid #dddddd'>e70c8239-e175-485b-8dcb-1c5fd6785f65</td><td style='border: 1px solid #dddddd'>150.00000000000003</td><td style='border: 1px solid #dddddd'>95.0</td><td style='border: 1px solid #dddddd'>125.0</td><td style='border: 1px solid #dddddd'>['feature:Age', 'fairness_metric_type:fairness', 'feature_value:18-25']</td><td style='border: 1px solid #dddddd'>fairness</td><td style='border: 1px solid #dddddd'>9b31235c-5d0a-45f0-8507-f589e15d7651</td><td style='border: 1px solid #dddddd'>330005ca-b19a-494b-8b9a-b7a9595d8096</td><td style='border: 1px solid #dddddd'>subscription</td><td style='border: 1px solid #dddddd'>e2df4ec7-6c75-416f-a444-8d21389f7513</td></tr><tr><td style='border: 1px solid #dddddd'>2024-07-17 11:46:47.141503+00:00</td><td style='border: 1px solid #dddddd'>statistical_parity_difference</td><td style='border: 1px solid #dddddd'>e70c8239-e175-485b-8dcb-1c5fd6785f65</td><td style='border: 1px solid #dddddd'>0.333</td><td style='border: 1px solid #dddddd'>-0.15</td><td style='border: 1px solid #dddddd'>0.15</td><td style='border: 1px solid #dddddd'>['feature:Age', 'fairness_metric_type:fairness', 'feature_value:18-25']</td><td style='border: 1px solid #dddddd'>fairness</td><td style='border: 1px solid #dddddd'>9b31235c-5d0a-45f0-8507-f589e15d7651</td><td style='border: 1px solid #dddddd'>330005ca-b19a-494b-8b9a-b7a9595d8096</td><td style='border: 1px solid #dddddd'>subscription</td><td style='border: 1px solid #dddddd'>e2df4ec7-6c75-416f-a444-8d21389f7513</td></tr>\n",
                            "            </table>\n",
                            "        </body>\n",
                            "        </HTML>"
                        ],
                        "text/plain": [
                            "<IPython.core.display.HTML object>"
                        ]
                    },
                    "metadata": {},
                    "output_type": "display_data"
                }
            ],
            "source": [
                "wos_client.monitor_instances.show_metrics(monitor_instance_id=fairness_monitor_instance_id)"
            ]
        },
        {
            "cell_type": "markdown",
            "metadata": {
                "id": "94ee1c52-989a-4b2c-8a6c-d61e307a5d87"
            },
            "source": [
                "# 7. Explainability monitoring <a name=\"explainability\"></a>"
            ]
        },
        {
            "cell_type": "markdown",
            "metadata": {
                "id": "37a1a652-6ca7-4a84-9838-3bb107788d80"
            },
            "source": [
                "### Enable the explainability monitor"
            ]
        },
        {
            "cell_type": "markdown",
            "metadata": {
                "id": "d86ef9b4-395d-45ac-aee8-517ccff2f56d"
            },
            "source": [
                "#### Upload explainability configuration archive\n",
                "In the following code cell, type the path to the explainability configuration archive tar ball."
            ]
        },
        {
            "cell_type": "code",
            "execution_count": 44,
            "metadata": {
                "id": "cb7fc31c-9321-460a-bb07-6a6fbfe3d18f"
            },
            "outputs": [
                {
                    "name": "stdout",
                    "output_type": "stream",
                    "text": [
                        "Uploaded explainability archive successfully.\n"
                    ]
                }
            ],
            "source": [
                "with open(\"explainability.tar.gz\", mode=\"rb\") as explainability_tar:\n",
                "    wos_client.monitor_instances.upload_explainability_archive(subscription_id=subscription_id, archive=explainability_tar)\n",
                "\n",
                "print(\"Uploaded explainability archive successfully.\")"
            ]
        },
        {
            "cell_type": "code",
            "execution_count": 45,
            "metadata": {
                "id": "a05a2faa-8a2f-4e8f-b4ac-d688d826f559"
            },
            "outputs": [
                {
                    "name": "stdout",
                    "output_type": "stream",
                    "text": [
                        "{\n",
                        "  \"metadata\": {\n",
                        "    \"id\": \"c82f89f1-31fb-4572-a429-48a57c5b3e40\",\n",
                        "    \"crn\": \"crn:v1:bluemix:public:aiopenscale:us-south:a/na:00000000-0000-0000-0000-000000000000:monitor_instance:c82f89f1-31fb-4572-a429-48a57c5b3e40\",\n",
                        "    \"url\": \"/v2/monitor_instances/c82f89f1-31fb-4572-a429-48a57c5b3e40\",\n",
                        "    \"created_at\": \"2024-07-17T12:14:36.299000Z\",\n",
                        "    \"created_by\": \"cpadmin\"\n",
                        "  },\n",
                        "  \"entity\": {\n",
                        "    \"data_mart_id\": \"00000000-0000-0000-0000-000000000000\",\n",
                        "    \"monitor_definition_id\": \"explainability\",\n",
                        "    \"target\": {\n",
                        "      \"target_type\": \"subscription\",\n",
                        "      \"target_id\": \"e2df4ec7-6c75-416f-a444-8d21389f7513\"\n",
                        "    },\n",
                        "    \"parameters\": {},\n",
                        "    \"thresholds\": [\n",
                        "      {\n",
                        "        \"metric_id\": \"global_explanation_stability\",\n",
                        "        \"type\": \"lower_limit\",\n",
                        "        \"value\": 0.8\n",
                        "      }\n",
                        "    ],\n",
                        "    \"status\": {\n",
                        "      \"state\": \"preparing\"\n",
                        "    }\n",
                        "  }\n",
                        "}\n"
                    ]
                }
            ],
            "source": [
                "import time\n",
                "\n",
                "target = Target(\n",
                "    target_type=TargetTypes.SUBSCRIPTION,\n",
                "    target_id=subscription_id\n",
                ")\n",
                "\n",
                "parameters = {\n",
                "# Uncomment the below lines to enable lime global explanation. Available from Cloud Pak for Data version 4.6.4 onwards.\n",
                "#    \"global_explanation\": {\n",
                "#        \"enabled\": True,  # Flag to enable global explanation \n",
                "#        \"explanation_method\": \"lime\",\n",
                "#        \"sample_size\": 1000, # [Optional] The sample size of records to be used for generating payload data global explanation. If not specified entire data in the payload window is used.\n",
                "#    }\n",
                "}\n",
                "\n",
                "explainability_monitor_details = wos_client.monitor_instances.create(\n",
                "    data_mart_id=data_mart_id,\n",
                "    monitor_definition_id=wos_client.monitor_definitions.MONITORS.EXPLAINABILITY.ID,\n",
                "    target=target,\n",
                "    parameters=parameters\n",
                ").result\n",
                "\n",
                "explainability_monitor_instance_id = explainability_monitor_details.metadata.id\n",
                "print(explainability_monitor_details)\n"
            ]
        },
        {
            "cell_type": "markdown",
            "metadata": {
                "id": "c739d08f-ffd1-44be-a8a2-374935211c4b",
                "tags": []
            },
            "source": [
                "### Check monitor instance status"
            ]
        },
        {
            "cell_type": "code",
            "execution_count": 46,
            "metadata": {
                "id": "04f83904-1c33-4f0f-a2c1-ae74b4a4f382"
            },
            "outputs": [
                {
                    "name": "stdout",
                    "output_type": "stream",
                    "text": [
                        "04:59:02 active\n"
                    ]
                }
            ],
            "source": [
                "explainability_status = None\n",
                "\n",
                "while explainability_status not in (\"active\", \"error\"):\n",
                "    monitor_instance_details = wos_client.monitor_instances.get(monitor_instance_id=explainability_monitor_instance_id).result\n",
                "    explainability_status = monitor_instance_details.entity.status.state\n",
                "    if explainability_status not in (\"active\", \"error\"):\n",
                "        print(datetime.utcnow().strftime('%H:%M:%S'), explainability_status)\n",
                "        time.sleep(30)\n",
                "\n",
                "print(datetime.utcnow().strftime('%H:%M:%S'), explainability_status)"
            ]
        },
        {
            "cell_type": "markdown",
            "metadata": {
                "id": "5444b917-1c8e-469c-83a1-b6575a83c616"
            },
            "source": [
                "### Run an on-demand evaluation\n",
                "Please make sure you have data in Explain queue table in hive. Explainability will use this data for computing explanations."
            ]
        },
        {
            "cell_type": "code",
            "execution_count": 47,
            "metadata": {
                "id": "ee2a075c-4a44-4612-88a7-1d6783cbb382"
            },
            "outputs": [
                {
                    "name": "stdout",
                    "output_type": "stream",
                    "text": [
                        "{\n",
                        "  \"metadata\": {\n",
                        "    \"id\": \"c82f89f1-31fb-4572-a429-48a57c5b3e40\",\n",
                        "    \"crn\": \"crn:v1:bluemix:public:aiopenscale:us-south:a/na:00000000-0000-0000-0000-000000000000:monitor_instance:c82f89f1-31fb-4572-a429-48a57c5b3e40\",\n",
                        "    \"url\": \"/v2/monitor_instances/c82f89f1-31fb-4572-a429-48a57c5b3e40\",\n",
                        "    \"created_at\": \"2024-07-17T12:14:36.299000Z\",\n",
                        "    \"created_by\": \"cpadmin\",\n",
                        "    \"modified_at\": \"2024-07-17T12:17:46.510000Z\",\n",
                        "    \"modified_by\": \"internal-service\"\n",
                        "  },\n",
                        "  \"entity\": {\n",
                        "    \"data_mart_id\": \"00000000-0000-0000-0000-000000000000\",\n",
                        "    \"monitor_definition_id\": \"explainability\",\n",
                        "    \"target\": {\n",
                        "      \"target_type\": \"subscription\",\n",
                        "      \"target_id\": \"e2df4ec7-6c75-416f-a444-8d21389f7513\"\n",
                        "    },\n",
                        "    \"parameters\": {\n",
                        "      \"config_modified_at\": \"2024-07-17T12:17:46.401452Z\",\n",
                        "      \"contrastive\": {\n",
                        "        \"enabled\": true\n",
                        "      },\n",
                        "      \"explanations_count\": {\n",
                        "        \"failed\": 0,\n",
                        "        \"total\": 0\n",
                        "      },\n",
                        "      \"lime\": {\n",
                        "        \"enabled\": true,\n",
                        "        \"features_count\": 10,\n",
                        "        \"perturbations_count\": 5000\n",
                        "      },\n",
                        "      \"validate_table_job_app_id\": null,\n",
                        "      \"validate_table_job_id\": \"666748cb-3f55-4cf2-9a58-80479c7ec80c\",\n",
                        "      \"validate_table_job_output_path\": \"explainability_configuration/51dfbd64-98f5-4ee4-8778-a6c21c28a8c9/output/a85cccc7-1ec5-49c3-a685-b78539e6447f\",\n",
                        "      \"validate_table_job_poll_schedule_id\": \"2045b120-698d-44b4-b417-0f7a3a68c0c6\",\n",
                        "      \"validate_table_job_trace_id\": null\n",
                        "    },\n",
                        "    \"thresholds\": [\n",
                        "      {\n",
                        "        \"metric_id\": \"global_explanation_stability\",\n",
                        "        \"type\": \"lower_limit\",\n",
                        "        \"value\": 0.8\n",
                        "      }\n",
                        "    ],\n",
                        "    \"status\": {\n",
                        "      \"state\": \"active\"\n",
                        "    }\n",
                        "  }\n",
                        "}\n"
                    ]
                }
            ],
            "source": [
                "# Check Explainbility monitor instance details\n",
                "\n",
                "monitor_instance_details = wos_client.monitor_instances.get(monitor_instance_id=explainability_monitor_instance_id).result\n",
                "print(monitor_instance_details)"
            ]
        },
        {
            "cell_type": "code",
            "execution_count": 48,
            "metadata": {
                "id": "e1c6c25d-64af-4afa-a8d2-a2988747f0c6"
            },
            "outputs": [
                {
                    "name": "stdout",
                    "output_type": "stream",
                    "text": [
                        "{\n",
                        "  \"metadata\": {\n",
                        "    \"id\": \"92541a9d-8e65-411b-ba97-7e8e706f92c2\",\n",
                        "    \"crn\": \"crn:v1:bluemix:public:aiopenscale:us-south:a/na:00000000-0000-0000-0000-000000000000:run:92541a9d-8e65-411b-ba97-7e8e706f92c2\",\n",
                        "    \"url\": \"/v2/monitor_instances/c82f89f1-31fb-4572-a429-48a57c5b3e40/runs/92541a9d-8e65-411b-ba97-7e8e706f92c2\",\n",
                        "    \"created_at\": \"2024-07-22T04:59:22.112000Z\",\n",
                        "    \"created_by\": \"cpadmin\"\n",
                        "  },\n",
                        "  \"entity\": {\n",
                        "    \"parameters\": {\n",
                        "      \"config_modified_at\": \"2024-07-17T12:17:46.401452Z\",\n",
                        "      \"contrastive\": {\n",
                        "        \"enabled\": true\n",
                        "      },\n",
                        "      \"explanations_count\": {\n",
                        "        \"failed\": 0,\n",
                        "        \"total\": 0\n",
                        "      },\n",
                        "      \"lime\": {\n",
                        "        \"enabled\": true,\n",
                        "        \"features_count\": 10,\n",
                        "        \"perturbations_count\": 5000\n",
                        "      },\n",
                        "      \"validate_table_job_app_id\": null,\n",
                        "      \"validate_table_job_id\": \"666748cb-3f55-4cf2-9a58-80479c7ec80c\",\n",
                        "      \"validate_table_job_output_path\": \"explainability_configuration/51dfbd64-98f5-4ee4-8778-a6c21c28a8c9/output/a85cccc7-1ec5-49c3-a685-b78539e6447f\",\n",
                        "      \"validate_table_job_poll_schedule_id\": \"2045b120-698d-44b4-b417-0f7a3a68c0c6\",\n",
                        "      \"validate_table_job_trace_id\": null\n",
                        "    },\n",
                        "    \"status\": {\n",
                        "      \"state\": \"running\",\n",
                        "      \"queued_at\": \"2024-07-22T04:59:22.107000Z\",\n",
                        "      \"started_at\": \"2024-07-22T04:59:22.112000Z\",\n",
                        "      \"operators\": []\n",
                        "    }\n",
                        "  }\n",
                        "}\n"
                    ]
                }
            ],
            "source": [
                "# Trigger on-demand run\n",
                "\n",
                "monitoring_run_details = wos_client.monitor_instances.run(monitor_instance_id=explainability_monitor_instance_id).result\n",
                "monitoring_run_id=monitoring_run_details.metadata.id\n",
                "\n",
                "print(monitoring_run_details)"
            ]
        },
        {
            "cell_type": "code",
            "execution_count": 49,
            "metadata": {
                "id": "3f827a07-a570-4c46-a5f0-5f71bade9454"
            },
            "outputs": [
                {
                    "name": "stdout",
                    "output_type": "stream",
                    "text": [
                        "05:01:46 running\n",
                        "05:02:46 running\n",
                        "05:03:47 running\n",
                        "05:04:47 finished\n"
                    ]
                }
            ],
            "source": [
                "# Check run status\n",
                "\n",
                "explainability_run_status = None\n",
                "while explainability_run_status not in (\"finished\", \"error\"):\n",
                "    monitoring_run_details = wos_client.monitor_instances.get_run_details(monitor_instance_id=explainability_monitor_instance_id, monitoring_run_id=monitoring_run_id).result\n",
                "    explainability_run_status = monitoring_run_details.entity.status.state\n",
                "    if explainability_run_status not in (\"finished\", \"error\"):\n",
                "        print(datetime.utcnow().strftime(\"%H:%M:%S\"), explainability_run_status)\n",
                "        time.sleep(60)\n",
                "        \n",
                "print(datetime.utcnow().strftime(\"%H:%M:%S\"), explainability_run_status)"
            ]
        },
        {
            "cell_type": "code",
            "execution_count": null,
            "metadata": {
                "id": "d4b038b1-7af0-4b8a-9de1-582240ae3b56"
            },
            "outputs": [],
            "source": [
                "# View the global explanation stability metric. When lime global explanation is enabled, the monitor run computes global explanation and publishes global_explanation_stability metric.\n",
                "# wos_client.monitor_instances.show_metrics(monitor_instance_id=explainability_monitor_instance_id)"
            ]
        },
        {
            "cell_type": "markdown",
            "metadata": {
                "id": "26ac04ed-e76f-412e-b30e-2a96b5d5b81c"
            },
            "source": [
                "### Display sample explanations"
            ]
        },
        {
            "cell_type": "code",
            "execution_count": 50,
            "metadata": {
                "id": "1ae76e5a-b98f-4988-9007-ec8c92a97a91"
            },
            "outputs": [
                {
                    "name": "stdout",
                    "output_type": "stream",
                    "text": [
                        "{'total_count': 12, 'limit': 50, 'offset': 0, 'explanation_fields': ['explanation_task_id', 'scoring_id', 'created_at', 'finished_at', 'status', 'prediction', 'subscription_id', 'deployment_id', 'asset_name', 'deployment_name', 'probability', 'explanation_type'], 'explanation_values': [['47682a56-766c-4a77-8cd1-76760c50e24a', 'sc1', '2024-07-02T05:10:33.192446Z', '2024-07-02T05:10:33.192859Z', 'finished', 'No Risk', '7585a078-c1b6-4a77-9ab3-87be9fb6026c', '2b976af0-e4ab-4859-af7d-2f2287d864ad', 'gcr - P2 XGB Classifier - Model', 'gcr model', 0.8429199, 'lime'], ['df3ebfcd-874c-4f7f-9aa2-c586a8daf5a7', 'sc2', '2024-07-02T05:10:33.200075Z', '2024-07-02T05:10:33.200286Z', 'finished', 'No Risk', '7585a078-c1b6-4a77-9ab3-87be9fb6026c', '2b976af0-e4ab-4859-af7d-2f2287d864ad', 'gcr - P2 XGB Classifier - Model', 'gcr model', 0.8291593, 'lime'], ['550f0274-65de-434f-b3b2-ff2c6a0f1150', 'sc6', '2024-07-02T05:10:33.221617Z', '2024-07-02T05:10:33.221821Z', 'finished', 'No Risk', '7585a078-c1b6-4a77-9ab3-87be9fb6026c', '2b976af0-e4ab-4859-af7d-2f2287d864ad', 'gcr - P2 XGB Classifier - Model', 'gcr model', 0.6461633, 'lime'], ['e6c63d9d-0534-44e2-a981-45a4e0dd0630', 'sc4', '2024-07-02T05:10:33.211241Z', '2024-07-02T05:10:33.211419Z', 'finished', 'Risk', '7585a078-c1b6-4a77-9ab3-87be9fb6026c', '2b976af0-e4ab-4859-af7d-2f2287d864ad', 'gcr - P2 XGB Classifier - Model', 'gcr model', 0.65988374, 'lime'], ['f27c7363-b179-4632-abd4-8c7a4ce88d06', 'sc3', '2024-07-02T05:10:33.205263Z', '2024-07-02T05:10:33.205444Z', 'finished', 'No Risk', '7585a078-c1b6-4a77-9ab3-87be9fb6026c', '2b976af0-e4ab-4859-af7d-2f2287d864ad', 'gcr - P2 XGB Classifier - Model', 'gcr model', 0.7597326, 'lime'], ['248e5e86-9261-4771-9b22-6aa2cdf3bf0e', 'sc7', '2024-07-02T05:10:33.227859Z', '2024-07-02T05:10:33.228063Z', 'finished', 'No Risk', '7585a078-c1b6-4a77-9ab3-87be9fb6026c', '2b976af0-e4ab-4859-af7d-2f2287d864ad', 'gcr - P2 XGB Classifier - Model', 'gcr model', 0.75121385, 'lime'], ['1ed72bdd-1ca9-474c-927d-5e49158bf525', 'sc5', '2024-07-02T05:10:33.216591Z', '2024-07-02T05:10:33.216797Z', 'finished', 'Risk', '7585a078-c1b6-4a77-9ab3-87be9fb6026c', '2b976af0-e4ab-4859-af7d-2f2287d864ad', 'gcr - P2 XGB Classifier - Model', 'gcr model', 0.9297061, 'lime'], ['7e34ae71-4826-4b0d-b79d-bb675cc7e607', 'sc11', '2024-07-02T05:10:33.247624Z', '2024-07-02T05:10:33.247826Z', 'finished', 'No Risk', '7585a078-c1b6-4a77-9ab3-87be9fb6026c', '2b976af0-e4ab-4859-af7d-2f2287d864ad', 'gcr - P2 XGB Classifier - Model', 'gcr model', 0.8408344, 'lime'], ['d880ef26-6598-433b-99c3-36b61010791e', 'sc9', '2024-07-02T05:10:33.237846Z', '2024-07-02T05:10:33.238030Z', 'finished', 'Risk', '7585a078-c1b6-4a77-9ab3-87be9fb6026c', '2b976af0-e4ab-4859-af7d-2f2287d864ad', 'gcr - P2 XGB Classifier - Model', 'gcr model', 0.9297061, 'lime'], ['b5679c64-1252-49f2-8605-d436b2beec2f', 'sc8', '2024-07-02T05:10:33.232905Z', '2024-07-02T05:10:33.233091Z', 'finished', 'No Risk', '7585a078-c1b6-4a77-9ab3-87be9fb6026c', '2b976af0-e4ab-4859-af7d-2f2287d864ad', 'gcr - P2 XGB Classifier - Model', 'gcr model', 0.8600514, 'lime'], ['f356b3a9-f5d2-4e75-8233-fff1d8a86f67', 'sc10', '2024-07-02T05:10:33.242756Z', '2024-07-02T05:10:33.242938Z', 'finished', 'No Risk', '7585a078-c1b6-4a77-9ab3-87be9fb6026c', '2b976af0-e4ab-4859-af7d-2f2287d864ad', 'gcr - P2 XGB Classifier - Model', 'gcr model', 0.9790699, 'lime'], ['dbc2bead-410c-4140-8aa8-4c51d76238f4', 'sc12', '2024-07-02T05:10:33.252618Z', '2024-07-02T05:10:33.252811Z', 'finished', 'No Risk', '7585a078-c1b6-4a77-9ab3-87be9fb6026c', '2b976af0-e4ab-4859-af7d-2f2287d864ad', 'gcr - P2 XGB Classifier - Model', 'gcr model', 0.8408344, 'lime']]}\n"
                    ]
                }
            ],
            "source": [
                "explanations = wos_client.monitor_instances.get_all_explaination_tasks(subscription_id=subscription_id).result.to_dict()\n",
                "print(explanations)"
            ]
        },
        {
            "cell_type": "markdown",
            "metadata": {
                "id": "7879530640b049a18f45751445a9379b"
            },
            "source": [
                "### Generate on demand Contrastive explanation\n",
                "\n",
                "Choose any record from payload logging table or Explain Queue table and generate Lime, Contrastive explanations for the record. Please note that contrastive explanations are only supported for structured classification models. So specify the explanation_types accordingly. "
            ]
        },
        {
            "cell_type": "code",
            "execution_count": 51,
            "metadata": {
                "id": "46cc56218e9a4da987789c9a7cc3580f"
            },
            "outputs": [
                {
                    "name": "stdout",
                    "output_type": "stream",
                    "text": [
                        "Running explanations on scoring IDs: ['sc1']\n",
                        "Getting explanation for explanation task id: 9fc5d385-902c-40f0-822e-28df6f08faab\n",
                        "05:21:37 in_progress\n",
                        "05:22:38 in_progress\n",
                        "{\n",
                        "  \"metadata\": {\n",
                        "    \"explanation_task_id\": \"9fc5d385-902c-40f0-822e-28df6f08faab\",\n",
                        "    \"created_by\": \"1000331001\",\n",
                        "    \"created_at\": \"2024-07-22T05:22:56.223426Z\",\n",
                        "    \"updated_at\": \"2024-07-22T05:22:56.223510Z\"\n",
                        "  },\n",
                        "  \"entity\": {\n",
                        "    \"status\": {\n",
                        "      \"state\": \"finished\"\n",
                        "    },\n",
                        "    \"asset\": {\n",
                        "      \"id\": \"592b902d-3dc9-4e56-8bcb-86cbf1a6d8a9\",\n",
                        "      \"name\": \"gcr - P2 XGB Classifier - Model\",\n",
                        "      \"input_data_type\": \"structured\",\n",
                        "      \"problem_type\": \"binary\",\n",
                        "      \"deployment\": {\n",
                        "        \"id\": \"2b976af0-e4ab-4859-af7d-2f2287d864ad\",\n",
                        "        \"name\": \"gcr model\"\n",
                        "      }\n",
                        "    },\n",
                        "    \"input_features\": [\n",
                        "      {\n",
                        "        \"name\": \"CheckingStatus\",\n",
                        "        \"value\": \"less_0\",\n",
                        "        \"feature_type\": \"categorical\"\n",
                        "      },\n",
                        "      {\n",
                        "        \"name\": \"LoanDuration\",\n",
                        "        \"value\": 18,\n",
                        "        \"feature_type\": \"numerical\"\n",
                        "      },\n",
                        "      {\n",
                        "        \"name\": \"CreditHistory\",\n",
                        "        \"value\": \"credits_paid_to_date\",\n",
                        "        \"feature_type\": \"categorical\"\n",
                        "      },\n",
                        "      {\n",
                        "        \"name\": \"LoanPurpose\",\n",
                        "        \"value\": \"car_new\",\n",
                        "        \"feature_type\": \"categorical\"\n",
                        "      },\n",
                        "      {\n",
                        "        \"name\": \"LoanAmount\",\n",
                        "        \"value\": 462,\n",
                        "        \"feature_type\": \"numerical\"\n",
                        "      },\n",
                        "      {\n",
                        "        \"name\": \"ExistingSavings\",\n",
                        "        \"value\": \"less_100\",\n",
                        "        \"feature_type\": \"categorical\"\n",
                        "      },\n",
                        "      {\n",
                        "        \"name\": \"EmploymentDuration\",\n",
                        "        \"value\": \"1_to_4\",\n",
                        "        \"feature_type\": \"categorical\"\n",
                        "      },\n",
                        "      {\n",
                        "        \"name\": \"InstallmentPercent\",\n",
                        "        \"value\": 2,\n",
                        "        \"feature_type\": \"numerical\"\n",
                        "      },\n",
                        "      {\n",
                        "        \"name\": \"Sex\",\n",
                        "        \"value\": \"female\",\n",
                        "        \"feature_type\": \"categorical\"\n",
                        "      },\n",
                        "      {\n",
                        "        \"name\": \"OthersOnLoan\",\n",
                        "        \"value\": \"none\",\n",
                        "        \"feature_type\": \"categorical\"\n",
                        "      },\n",
                        "      {\n",
                        "        \"name\": \"CurrentResidenceDuration\",\n",
                        "        \"value\": 2,\n",
                        "        \"feature_type\": \"numerical\"\n",
                        "      },\n",
                        "      {\n",
                        "        \"name\": \"OwnsProperty\",\n",
                        "        \"value\": \"savings_insurance\",\n",
                        "        \"feature_type\": \"categorical\"\n",
                        "      },\n",
                        "      {\n",
                        "        \"name\": \"Age\",\n",
                        "        \"value\": 37,\n",
                        "        \"feature_type\": \"numerical\"\n",
                        "      },\n",
                        "      {\n",
                        "        \"name\": \"InstallmentPlans\",\n",
                        "        \"value\": \"stores\",\n",
                        "        \"feature_type\": \"categorical\"\n",
                        "      },\n",
                        "      {\n",
                        "        \"name\": \"Housing\",\n",
                        "        \"value\": \"own\",\n",
                        "        \"feature_type\": \"categorical\"\n",
                        "      },\n",
                        "      {\n",
                        "        \"name\": \"ExistingCreditsCount\",\n",
                        "        \"value\": 2,\n",
                        "        \"feature_type\": \"numerical\"\n",
                        "      },\n",
                        "      {\n",
                        "        \"name\": \"Job\",\n",
                        "        \"value\": \"skilled\",\n",
                        "        \"feature_type\": \"categorical\"\n",
                        "      },\n",
                        "      {\n",
                        "        \"name\": \"Dependents\",\n",
                        "        \"value\": 1,\n",
                        "        \"feature_type\": \"numerical\"\n",
                        "      },\n",
                        "      {\n",
                        "        \"name\": \"Telephone\",\n",
                        "        \"value\": \"none\",\n",
                        "        \"feature_type\": \"categorical\"\n",
                        "      },\n",
                        "      {\n",
                        "        \"name\": \"ForeignWorker\",\n",
                        "        \"value\": \"yes\",\n",
                        "        \"feature_type\": \"categorical\"\n",
                        "      }\n",
                        "    ],\n",
                        "    \"explanations\": [\n",
                        "      {\n",
                        "        \"pertinent_positive\": {\n",
                        "          \"features\": [\n",
                        "            {\n",
                        "              \"importance\": 0.0,\n",
                        "              \"feature_name\": \"CheckingStatus\",\n",
                        "              \"feature_value\": \"less_0\"\n",
                        "            },\n",
                        "            {\n",
                        "              \"importance\": 0.0,\n",
                        "              \"feature_name\": \"LoanDuration\",\n",
                        "              \"feature_value\": 18\n",
                        "            },\n",
                        "            {\n",
                        "              \"importance\": 0.0,\n",
                        "              \"feature_name\": \"CreditHistory\",\n",
                        "              \"feature_value\": \"credits_paid_to_date\"\n",
                        "            },\n",
                        "            {\n",
                        "              \"importance\": 0.0,\n",
                        "              \"feature_name\": \"LoanPurpose\",\n",
                        "              \"feature_value\": \"car_new\"\n",
                        "            },\n",
                        "            {\n",
                        "              \"importance\": 0.0,\n",
                        "              \"feature_name\": \"LoanAmount\",\n",
                        "              \"feature_value\": 462\n",
                        "            },\n",
                        "            {\n",
                        "              \"importance\": 0.0,\n",
                        "              \"feature_name\": \"ExistingSavings\",\n",
                        "              \"feature_value\": \"less_100\"\n",
                        "            },\n",
                        "            {\n",
                        "              \"importance\": 0.0,\n",
                        "              \"feature_name\": \"EmploymentDuration\",\n",
                        "              \"feature_value\": \"1_to_4\"\n",
                        "            },\n",
                        "            {\n",
                        "              \"importance\": 0.0,\n",
                        "              \"feature_name\": \"InstallmentPercent\",\n",
                        "              \"feature_value\": 2\n",
                        "            },\n",
                        "            {\n",
                        "              \"importance\": 0.0,\n",
                        "              \"feature_name\": \"Sex\",\n",
                        "              \"feature_value\": \"female\"\n",
                        "            },\n",
                        "            {\n",
                        "              \"importance\": 0.0,\n",
                        "              \"feature_name\": \"OthersOnLoan\",\n",
                        "              \"feature_value\": \"none\"\n",
                        "            },\n",
                        "            {\n",
                        "              \"importance\": 0.0,\n",
                        "              \"feature_name\": \"CurrentResidenceDuration\",\n",
                        "              \"feature_value\": 2\n",
                        "            },\n",
                        "            {\n",
                        "              \"importance\": 0.0,\n",
                        "              \"feature_name\": \"OwnsProperty\",\n",
                        "              \"feature_value\": \"savings_insurance\"\n",
                        "            },\n",
                        "            {\n",
                        "              \"importance\": 0.0,\n",
                        "              \"feature_name\": \"Age\",\n",
                        "              \"feature_value\": 37\n",
                        "            },\n",
                        "            {\n",
                        "              \"importance\": 0.0,\n",
                        "              \"feature_name\": \"InstallmentPlans\",\n",
                        "              \"feature_value\": \"stores\"\n",
                        "            },\n",
                        "            {\n",
                        "              \"importance\": 0.0,\n",
                        "              \"feature_name\": \"Housing\",\n",
                        "              \"feature_value\": \"own\"\n",
                        "            },\n",
                        "            {\n",
                        "              \"importance\": 0.0,\n",
                        "              \"feature_name\": \"ExistingCreditsCount\",\n",
                        "              \"feature_value\": 2\n",
                        "            },\n",
                        "            {\n",
                        "              \"importance\": 0.0,\n",
                        "              \"feature_name\": \"Job\",\n",
                        "              \"feature_value\": \"skilled\"\n",
                        "            },\n",
                        "            {\n",
                        "              \"importance\": 0.0,\n",
                        "              \"feature_name\": \"Dependents\",\n",
                        "              \"feature_value\": 1\n",
                        "            },\n",
                        "            {\n",
                        "              \"importance\": 0.0,\n",
                        "              \"feature_name\": \"Telephone\",\n",
                        "              \"feature_value\": \"none\"\n",
                        "            },\n",
                        "            {\n",
                        "              \"importance\": 0.0,\n",
                        "              \"feature_name\": \"ForeignWorker\",\n",
                        "              \"feature_value\": \"yes\"\n",
                        "            }\n",
                        "          ]\n",
                        "        },\n",
                        "        \"explanation_type\": \"contrastive\"\n",
                        "      },\n",
                        "      {\n",
                        "        \"explanation_type\": \"lime\",\n",
                        "        \"predictions\": [\n",
                        "          {\n",
                        "            \"value\": \"No Risk\",\n",
                        "            \"explanation_features\": [\n",
                        "              {\n",
                        "                \"raw_weight\": 0.18362901026541006,\n",
                        "                \"feature_name\": \"OthersOnLoan\",\n",
                        "                \"feature_value\": \"none\",\n",
                        "                \"weight\": 0.27261147711312095\n",
                        "              },\n",
                        "              {\n",
                        "                \"raw_weight\": 0.11402053184224271,\n",
                        "                \"feature_name\": \"CheckingStatus\",\n",
                        "                \"feature_value\": \"less_0\",\n",
                        "                \"weight\": 0.1692723037705799\n",
                        "              },\n",
                        "              {\n",
                        "                \"raw_weight\": -0.11200562942116268,\n",
                        "                \"feature_name\": \"Sex\",\n",
                        "                \"feature_value\": \"female\",\n",
                        "                \"weight\": -0.16628102518962193\n",
                        "              },\n",
                        "              {\n",
                        "                \"raw_weight\": 0.08687420770401552,\n",
                        "                \"feature_name\": \"Telephone\",\n",
                        "                \"feature_value\": \"none\",\n",
                        "                \"weight\": 0.12897148468530878\n",
                        "              },\n",
                        "              {\n",
                        "                \"raw_weight\": -0.05721427649290371,\n",
                        "                \"feature_name\": \"ExistingSavings\",\n",
                        "                \"feature_value\": \"less_100\",\n",
                        "                \"weight\": -0.0849390213678401\n",
                        "              },\n",
                        "              {\n",
                        "                \"raw_weight\": -0.03497337342520879,\n",
                        "                \"feature_name\": \"Job\",\n",
                        "                \"feature_value\": \"skilled\",\n",
                        "                \"weight\": -0.05192067950099315\n",
                        "              },\n",
                        "              {\n",
                        "                \"raw_weight\": 0.0347646831931725,\n",
                        "                \"feature_name\": \"Housing\",\n",
                        "                \"feature_value\": \"own\",\n",
                        "                \"weight\": 0.051610862700628854\n",
                        "              },\n",
                        "              {\n",
                        "                \"raw_weight\": 0.022104570947753307,\n",
                        "                \"feature_name\": \"InstallmentPlans\",\n",
                        "                \"feature_value\": \"stores\",\n",
                        "                \"weight\": 0.032815946283809544\n",
                        "              },\n",
                        "              {\n",
                        "                \"raw_weight\": -0.014605246305547421,\n",
                        "                \"feature_range\": {\n",
                        "                  \"max_inclusive\": true,\n",
                        "                  \"max\": 2.0\n",
                        "                },\n",
                        "                \"feature_name\": \"InstallmentPercent\",\n",
                        "                \"weight\": -0.021682618466447375\n",
                        "              },\n",
                        "              {\n",
                        "                \"raw_weight\": -0.013400837862639549,\n",
                        "                \"feature_name\": \"CreditHistory\",\n",
                        "                \"feature_value\": \"credits_paid_to_date\",\n",
                        "                \"weight\": -0.01989458092164949\n",
                        "              }\n",
                        "            ],\n",
                        "            \"probability\": 0.8429198878882673\n",
                        "          },\n",
                        "          {\n",
                        "            \"value\": \"Risk\",\n",
                        "            \"probability\": 0.15708011211173267\n",
                        "          }\n",
                        "        ]\n",
                        "      }\n",
                        "    ],\n",
                        "    \"scoring_id\": \"sc1\"\n",
                        "  }\n",
                        "}\n"
                    ]
                }
            ],
            "source": [
                "import time\n",
                " # Please enter scoring id(from payload table or Explain Queue table), for which you want to generate an explanation\n",
                " # scoring_ids = [\"<scoring_id_from_pl_or_explain_queue_table>\"]\n",
                "\n",
                "# As an example, we will generate a contrastive explanation for the first scoring id from the list of explanations generated above\n",
                "# as part of the Explainability monitor run\n",
                "scoring_ids = [explanations[\"explanation_values\"][0][1]]\n",
                "print(\"Running explanations on scoring IDs: {}\".format(scoring_ids))\n",
                "\n",
                "explanation_types = [\"lime\", \"contrastive\"]\n",
                "explanation_task_ids = wos_client.monitor_instances.explanation_tasks(scoring_ids=scoring_ids, subscription_id=subscription_id, explanation_types=explanation_types).result.metadata.explanation_task_ids\n",
                "explanation_task_id = explanation_task_ids[0]\n",
                "\n",
                "print(\"Getting explanation for explanation task id: {}\".format(explanation_task_id))\n",
                "explanation = wos_client.monitor_instances.get_explanation_tasks(explanation_task_id, subscription_id=subscription_id).result\n",
                "while explanation.entity.status.state not in (\"finished\", \"error\"):\n",
                "        explanation = wos_client.monitor_instances.get_explanation_tasks(explanation_task_id, subscription_id=subscription_id).result\n",
                "        explanation_run_status = explanation.entity.status.state\n",
                "        if explanation_run_status not in (\"finished\", \"error\"):\n",
                "            print(datetime.utcnow().strftime(\"%H:%M:%S\"), explanation_run_status)\n",
                "            time.sleep(60)\n",
                "            \n",
                "            \n",
                "print(explanation)"
            ]
        },
        {
            "cell_type": "markdown",
            "metadata": {
                "id": "694efb3641b44f25a5bd97bbada224e4"
            },
            "source": [
                "### Cleanup the untarred files"
            ]
        },
        {
            "cell_type": "code",
            "execution_count": null,
            "metadata": {
                "id": "843b2e53c5764050960445dbb8bc82ea"
            },
            "outputs": [],
            "source": [
                "import os\n",
                "files = [\"common_configuration.json\", \"explainability.tar.gz\", \"drift_archive.tar.gz\", \"fairness_statistics.json\"]\n",
                "for file in files:\n",
                "    if os.path.isfile(file):\n",
                "        os.remove(file)"
            ]
        },
        {
            "cell_type": "markdown",
            "metadata": {
                "id": "1133c179-35b3-4cc5-9894-200eee7455ac"
            },
            "source": [
                "## Congratulations!\n",
                "\n",
                "You have finished the Batch demo for IBM Watson OpenScale by using Apache Spark on Cloud Pak for Data IBM Analytics Engine. You can now view the [Watson OpenScale Dashboard](https://url-to-your-cp4d-cluster/aiopenscale). Click the tile for the **German Credit model** to see the quality, drift and fairness monitors. Click the timeseries graph to get detailed information on transactions during a specific time window."
            ]
        }
    ],
    "metadata": {
        "kernelspec": {
            "display_name": "Python 3.11",
            "language": "python",
            "name": "python3"
        },
        "language_info": {
            "codemirror_mode": {
                "name": "ipython",
                "version": 3
            },
            "file_extension": ".py",
            "mimetype": "text/x-python",
            "name": "python",
            "nbconvert_exporter": "python",
            "pygments_lexer": "ipython3",
            "version": "3.11.9"
        },
        "vscode": {
            "interpreter": {
                "hash": "37b82c9850f337b3f8e26ef3a35bf87c9f2cfa1e4ad2c96ec00819afd6ebf7e9"
            }
        }
    },
    "nbformat": 4,
    "nbformat_minor": 4
}