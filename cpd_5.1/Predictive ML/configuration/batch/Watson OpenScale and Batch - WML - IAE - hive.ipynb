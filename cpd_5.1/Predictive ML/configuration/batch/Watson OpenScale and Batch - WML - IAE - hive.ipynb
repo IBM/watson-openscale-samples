{
 "cells": [
  {
   "cell_type": "markdown",
   "metadata": {
    "id": "9ec6e02f-b8a7-4e9b-8b70-4cc770a00815"
   },
   "source": [
    "<img src=\"https://github.com/pmservice/ai-openscale-tutorials/raw/master/notebooks/images/banner.png\" align=\"left\" alt=\"banner\">"
   ]
  },
  {
   "cell_type": "markdown",
   "metadata": {
    "id": "62b87ee0-6470-4fee-ad93-b752cfb20fd2"
   },
   "source": [
    "# IBM Watson OpenScale and Batch Processing:<br>Apache Spark on Cloud Pak for Data with IBM Analytics Engine"
   ]
  },
  {
   "cell_type": "markdown",
   "metadata": {
    "id": "a6a40839-4693-4954-977c-a06be10f1654"
   },
   "source": [
    "This notebook must be run in the Python 3.10 runtime environment. It requires Watson OpenScale service credentials.\n",
    "\n",
    "The notebook configures Watson OpenScale to monitor any WML online deployment as a self managed subscription on Openscale. For self managed subscriptions, all the monitors are run as jobs on user provided spark engine. Use the notebook to enable quality, drift, drift v2, fairness and explainability monitoring and run on-demand evaluations. Before you can run the notebook, you must have the following resources:\n",
    "\n",
    "1. Configuration Archive generated using common configuration notebook [common configuration notebook](https://github.com/IBM/watson-openscale-samples/blob/main/Cloud%20Pak%20for%20Data/Batch%20Support/Configuration%20generation%20for%20OpenScale%20batch%20subscription.ipynb) and pre created WML deployment.\n",
    "2. Payload, feedback, drifted transactions, explanations queue and result tables to be created or validated in an Apache Hive datawarehouse. Please note, some of these maybe optional depending on your use-case."
   ]
  },
  {
   "cell_type": "markdown",
   "metadata": {
    "id": "2c379979-c5ad-4474-a0d6-a3e47ba52875"
   },
   "source": [
    "## Contents\n",
    "\n",
    "* [1. Setup](#setup)\n",
    "* [2. Configure Watson OpenScale](#openscale)\n",
    "* [3. Set up Subscription](#subscription)\n",
    "* [4. Quality monitoring](#quality)\n",
    "* [5. Drift monitoring](#drift)\n",
    "* [6. Drift v2 monitoring](#drift_v2)\n",
    "* [7. Fairness monitoring](#fairness)\n",
    "* [8. Explainability monitoring](#explainability)"
   ]
  },
  {
   "cell_type": "markdown",
   "metadata": {
    "id": "53c27c83-e746-43e4-96ba-62bb75548e79"
   },
   "source": [
    "# 1. Setup <a name=\"setup\"></a>"
   ]
  },
  {
   "cell_type": "markdown",
   "metadata": {
    "id": "4a5d6f70-033b-456b-b78b-2c60b681858b"
   },
   "source": [
    "### Installing Required Libraries\n",
    "\n",
    "First import some of the packages you need to use. After you finish installing the following software packages, restart the kernel.\n",
    "\n",
    "### Import configuration archive/package\n",
    "\n",
    "Configuration archive/package created using configuration notebook will be required to onboard model for monitoring in IBM Watson OpenScale. Provide path location of archive here.\n",
    "\n",
    "Please note if you are executing this notebook in IBM Watson Studio, first upload the configuration archive/package to project and use provided code snippet to download it to local directory of this notebook."
   ]
  },
  {
   "cell_type": "code",
   "execution_count": null,
   "metadata": {
    "id": "b51f3ccc-c85d-4211-8bfe-b248013df22d"
   },
   "outputs": [],
   "source": [
    "!pip install -U ibm-watson-openscale --no-cache | tail -n 1"
   ]
  },
  {
   "cell_type": "code",
   "execution_count": 270,
   "metadata": {
    "id": "83d173c5-052c-4665-a835-cf4fb9f3c736"
   },
   "outputs": [
    {
     "name": "stdout",
     "output_type": "stream",
     "text": [
      "env: PIP_DISABLE_PIP_VERSION_CHECK=1\n"
     ]
    }
   ],
   "source": [
    "import warnings\n",
    "import tarfile\n",
    "warnings.filterwarnings(\"ignore\")\n",
    "%env PIP_DISABLE_PIP_VERSION_CHECK=1\n",
    "\n",
    "# Note: Restart kernel after the dependencies are installed\n",
    "!pip install --upgrade ibm-watson-openscale\n",
    "!pip install \"ibm_wos_utils~=5.1.1\"\n",
    "\n",
    "# # Download \"configuration_archive.tar.gz\" from project to local directory and \n",
    "# extract the artifacts\n",
    "# from ibm_watson_studio_lib import access_project_or_space\n",
    "# wslib = access_project_or_space()\n",
    "# wslib.download_file(\"configuration_archive.tar.gz\")\n",
    "archive_file_path = \"configuration_archive.tar.gz\"\n",
    "with tarfile.open('configuration_archive.tar.gz', \"r:gz\") as tar:\n",
    "    tar.extractall('.')\n",
    "# On unpacking the configuration archive, the files [common_configuration.json, drift_archive.tar.gz, \n",
    "# explainability.tar.gz, fairness_statistics.json] will be extracted to the current directory. \n",
    "# Output may differ depending on which monitors were enabled while running the \n",
    "# common configuration notebook"
   ]
  },
  {
   "cell_type": "code",
   "execution_count": 271,
   "metadata": {
    "id": "9f5c59b7-046b-4118-8595-c23b272e6ed2"
   },
   "outputs": [
    {
     "name": "stdout",
     "output_type": "stream",
     "text": [
      "Name: ibm-watson-openscale\n",
      "Version: 3.0.42.2\n",
      "Summary: Client library for IBM Watson OpenScale\n",
      "Home-page: https://github.ibm.com/watson-developer-cloud/openscale-python-sdk\n",
      "Author: IBM Watson OpenScale\n",
      "Author-email: kishore.patel@in.ibm.com\n",
      "License: Apache 2.0\n",
      "Location: /opt/conda/envs/Python-RT24.1-Premium/lib/python3.11/site-packages\n",
      "Requires: ibm-cloud-sdk-core, pandas, python-dateutil, requests\n",
      "Required-by: \n"
     ]
    }
   ],
   "source": [
    "!pip show ibm-watson-openscale"
   ]
  },
  {
   "cell_type": "markdown",
   "metadata": {
    "id": "f88fd4ce-007c-4e7d-89a6-74ac585c0ad4"
   },
   "source": [
    "## Configure credentials\n",
    "\n",
    "Provide your IBM Watson OpenScale and WML credentials in the following cell:"
   ]
  },
  {
   "cell_type": "code",
   "execution_count": 274,
   "metadata": {
    "id": "f30968d7-16d6-4239-80fa-4782845115dc"
   },
   "outputs": [],
   "source": [
    "WOS_CREDENTIALS = {\n",
    "    \"url\": \"<cluster-url>\",\n",
    "    \"username\": \"<username>\",\n",
    "    \"password\": \"<password>\",\n",
    "    \"instance_id\": \"<openscale instance id>\"\n",
    "}\n",
    "\n",
    "WML_CREDENTIALS = {\n",
    "    \"url\": \"<wml_url>\",\n",
    "    \"username\": \"<username\",\n",
    "    \"password\": \"<password>\",\n",
    "    \"instance_id\": \"<instance id>\"\n",
    "}"
   ]
  },
  {
   "cell_type": "markdown",
   "metadata": {
    "id": "751fb159-b95f-4791-93f3-6c29c21d99d2"
   },
   "source": [
    "## Specify model details"
   ]
  },
  {
   "cell_type": "markdown",
   "metadata": {
    "id": "9ee265c7-7f58-4ad5-afae-a1d1839ba573"
   },
   "source": [
    "### Service provider and subscription metadata"
   ]
  },
  {
   "cell_type": "code",
   "execution_count": 275,
   "metadata": {
    "id": "a43dcbc2-39e5-4a68-8d84-a81611e8fbeb"
   },
   "outputs": [],
   "source": [
    "# Service Provider\n",
    "\n",
    "SERVICE_PROVIDER_NAME = \"<service-provider-name>\"\n",
    "SERVICE_PROVIDER_DESCRIPTION = \"<service-provider-description>\"\n",
    "\n",
    "# Subscription\n",
    "\n",
    "SUBSCRIPTION_NAME = \"<subscription-name>\"\n",
    "SUBSCRIPTION_DESCRIPTION = \"<subscription-description>\""
   ]
  },
  {
   "cell_type": "markdown",
   "metadata": {
    "id": "9a252c34-7876-43b2-b6c0-f2db22856b25"
   },
   "source": [
    "### IBM Analytics Engine - Spark\n",
    "\n",
    "Make sure that the Apache Spark manager on IBM Analytics Engine is running, and then provide the following details:\n",
    "\n",
    "- IAE_SPARK_DISPLAY_NAME: _Display Name of the Spark instance in IBM Analytics Engine_\n",
    "- IAE_SPARK_JOBS_ENDPOINT: _Spark Jobs Endpoint for IBM Analytics Engine_\n",
    "- IBM_CPD_VOLUME: _IBM Cloud Pak for Data storage volume name_\n",
    "- IBM_CPD_USERNAME: _IBM Cloud Pak for Data username_\n",
    "- IBM_CPD_APIKEY: _IBM Cloud Pak for Data API key_\n",
    "- IAE_SPARK_DESCRIPTION: _Custom description for the Spark instance_"
   ]
  },
  {
   "cell_type": "code",
   "execution_count": 276,
   "metadata": {
    "id": "eddf9d71-8df4-4e5b-a3b2-da22c042805a"
   },
   "outputs": [],
   "source": [
    "IAE_SPARK_DISPLAY_NAME = \"<spark-engine-name>\"\n",
    "IAE_SPARK_JOBS_ENDPOINT = \"<spark-job-endpoint-for-ibm-analytics-engine>\"\n",
    "IBM_CPD_VOLUME = \"<ibm-cpd-volume>\"\n",
    "IBM_CPD_USERNAME = \"<ibm-cloud-pak-for-data-username>\"\n",
    "IBM_CPD_APIKEY = \"<ibm-cloud-pak-for-data-apikey>\"\n",
    "IAE_SPARK_NAME = \"<iae-spark-name>\"\n",
    "IAE_SPARK_DESCRIPTION = \"<iae-spark-description>\""
   ]
  },
  {
   "cell_type": "markdown",
   "metadata": {
    "id": "aff6731b-48d9-4290-af29-6e8fb29e2d9f"
   },
   "source": [
    "#### Provide Spark Resource Settings\n",
    "\n",
    "To configure how much of your Spark Cluster resources this job can consume, edit the following values:\n",
    "\n",
    "- max_num_executors: _Maximum Number of executors to launch for this session_\n",
    "- min_executors: _Minimum Number of executors to launch for this session_\n",
    "- executor_cores: _Number of cores to use for each executor_   \n",
    "- executor_memory: _Amount of memory (in GBs) to use per executor process_\n",
    "- driver_cores: _Number of cores to use for the driver process_\n",
    "- driver_memory: _Amount of memory (in GBs) to use for the driver process_"
   ]
  },
  {
   "cell_type": "code",
   "execution_count": 277,
   "metadata": {
    "id": "5ef23a21-39b2-43ea-86a1-6fee3b909ed7"
   },
   "outputs": [],
   "source": [
    "spark_parameters = {\n",
    "    \"max_num_executors\": 1,\n",
    "    \"min_num_executors\": 1,\n",
    "    \"executor_cores\": 1,\n",
    "    \"executor_memory\": 1,\n",
    "    \"driver_cores\": 1,\n",
    "    \"driver_memory\": 1\n",
    "}"
   ]
  },
  {
   "cell_type": "markdown",
   "metadata": {
    "id": "7e110fc8-0346-41cc-9700-440585806bdd"
   },
   "source": [
    "### Apache Hive\n",
    "\n",
    "To connect to Apache Hive, you must provide the following details:\n",
    "\n",
    "- HIVE_CONNECTION_NAME: _Custom display name for the Hive Connection_\n",
    "- HIVE_CONNECTION_DESCRIPTION: _Custom description for the Hive connection_\n",
    "- HIVE_METASTORE_URI: _Thrift URI for Hive Metastore to connect to_\n",
    "\n",
    "In case of a kerberos-enabled hive, provide additional details required to obtain the Hadoop delegation token:\n",
    "- HIVE_KERBEROS_PRINCIPAL: The kerberos principal used to generate the delegation token\n",
    "- DELEGATION_TOKEN_SECRET_URN: The secret_urn of the CP4D vault where the token is stored *OR*\n",
    "- DELEGATION_TOKEN_ENDPOINT: The REST endpoint which generates and returns the delegation token"
   ]
  },
  {
   "cell_type": "code",
   "execution_count": 278,
   "metadata": {
    "id": "b46e1745-1037-4c9b-8e91-991f792c6706"
   },
   "outputs": [],
   "source": [
    "HIVE_CONNECTION_NAME = \"<hive-connection-name>\"\n",
    "HIVE_CONNECTION_DESCRIPTION = \"<hive-connection-description>\"\n",
    "HIVE_METASTORE_URI = \"<hive-metastore-uri>\"\n",
    "\n",
    "# Flag to indicate if the Hive is secured with kerberos\n",
    "KERBEROS_ENABLED = False\n",
    "# Provide Hadoop delegation token details if KERBEROS_ENABLED is True\n",
    "# Provide either secret_urn of the CP4D vault OR the delegation token endpoint. One of the two fields is mandatory to fetch the delegation token.\n",
    "HIVE_KERBEROS_PRINCIPAL = \"<The kerberos principal used to generate the delegation token>\"\n",
    "DELEGATION_TOKEN_SECRET_URN = \"<The secret_urn of the CP4D vault where the token is stored>\"\n",
    "DELEGATION_TOKEN_ENDPOINT = \"<The REST endpoint which generates and returns the delegation token>\""
   ]
  },
  {
   "cell_type": "markdown",
   "metadata": {
    "id": "5ce020c5-8eac-4d57-b2f2-39da4e769c6a"
   },
   "source": [
    "### Feedback table metadata\n",
    "\n",
    "The quality monitor stores metadata in the feedback table. To configure the quality monitor, you must provide the following details. To skip quality monitoring, run the following cell to initialize variables with the value of `None`.\n",
    "\n",
    "- FEEDBACK_DATABASE_NAME: _Database name where feedback table is present_\n",
    "- FEEDBACK_SCHEMA_NAME: _Schema name where feedback table is present_\n",
    "- FEEDBACK_TABLE_NAME: _Name of the feedback table_"
   ]
  },
  {
   "cell_type": "code",
   "execution_count": 279,
   "metadata": {
    "id": "46276902-eeb5-49ac-9410-f4add43e3adb"
   },
   "outputs": [],
   "source": [
    "#feedback\n",
    "\n",
    "FEEDBACK_DATABASE_NAME = None\n",
    "FEEDBACK_TABLE_NAME = None"
   ]
  },
  {
   "cell_type": "markdown",
   "metadata": {
    "id": "d915a273-5512-46f2-b7d5-b1af4d65689a"
   },
   "source": [
    "### Payload and drift table metadata\n",
    "\n",
    "The drift monitor stores metadata in the payload and drift tables. To configure the drift monitor, you must provide the following details. To skip drift monitoring, run the following cell to initialize variables with the value of `None`.\n",
    "\n",
    "- PAYLOAD_DATABASE_NAME: _Database name where payload logging table is present_\n",
    "- PAYLOAD_SCHEMA_NAME: _Schema name where payload logging table is present_\n",
    "- PAYLOAD_TABLE_NAME: _Name of the payload logging table_\n",
    "- DRIFT_DATABASE_NAME: _Database name where drifted transactions table is present_\n",
    "- DRIFT_SCHEMA_NAME: _Schema name where drifted transactions table is present_\n",
    "- DRIFT_TABLE_NAME: _Name of the drifted transactions table_"
   ]
  },
  {
   "cell_type": "code",
   "execution_count": 280,
   "metadata": {
    "id": "c5918d2f-cd4b-4ee6-9821-40317485f8a1"
   },
   "outputs": [],
   "source": [
    "#payload logging\n",
    "\n",
    "PAYLOAD_DATABASE_NAME = None\n",
    "PAYLOAD_TABLE_NAME = None\n",
    "\n",
    "#drift\n",
    "\n",
    "DRIFT_DATABASE_NAME = None\n",
    "DRIFT_TABLE_NAME = None"
   ]
  },
  {
   "cell_type": "markdown",
   "metadata": {
    "id": "2640b5f2-be68-435a-92ca-12ce384a95d9"
   },
   "source": [
    "### Explainability table metadata\n",
    "\n",
    "The explainability monitor requires the queue and result tables. The payload table can also be used as the queue table. To configure the explainability monitor, you must provide the following details. To skip explainability monitoring, run the following cell to initialize variables with the value of `None`.\n",
    "\n",
    "- EXPLAINABILITY_DATABASE_NAME: _Database name where explanations queue, result tables are present_\n",
    "- EXPLAINABILITY_QUEUE_TABLE_NAME: _Name of the explanations queue table_\n",
    "- EXPLAINABILITY_RESULT_TABLE_NAME: _Name of the explanations result table_"
   ]
  },
  {
   "cell_type": "code",
   "execution_count": 281,
   "metadata": {
    "id": "7c10c17a-f553-439c-bb3c-54a2a10fd78c"
   },
   "outputs": [],
   "source": [
    "#explainability\n",
    "\n",
    "EXPLAINABILITY_DATABASE_NAME = None\n",
    "EXPLAINABILITY_QUEUE_TABLE_NAME = None\n",
    "EXPLAINABILITY_RESULT_TABLE_NAME = None"
   ]
  },
  {
   "cell_type": "markdown",
   "metadata": {
    "id": "5c169c94-2492-4738-948d-6693dc38d43c"
   },
   "source": [
    "# 2. Configure Watson OpenScale <a name=\"openscale\"></a>"
   ]
  },
  {
   "cell_type": "markdown",
   "metadata": {
    "id": "f90a66c0-3ce0-4233-a91c-b379bffd9f30"
   },
   "source": [
    "### Import the required libraries and set up the Watson OpenScale client"
   ]
  },
  {
   "cell_type": "code",
   "execution_count": 282,
   "metadata": {
    "id": "16fabc24-b7d0-4859-b500-9351f8833fdb"
   },
   "outputs": [],
   "source": [
    "from ibm_cloud_sdk_core.authenticators import CloudPakForDataAuthenticator\n",
    "from ibm_watson_openscale import *\n",
    "from ibm_watson_openscale.supporting_classes.enums import *\n",
    "from ibm_watson_openscale.supporting_classes import *\n",
    "from ibm_watson_openscale.base_classes.watson_open_scale_v2 import *\n",
    "\n",
    "authenticator = CloudPakForDataAuthenticator(\n",
    "        url=WOS_CREDENTIALS[\"url\"],\n",
    "        username=WOS_CREDENTIALS[\"username\"],\n",
    "        password=WOS_CREDENTIALS[\"password\"],\n",
    "        disable_ssl_verification=True\n",
    "    )\n",
    "\n",
    "wos_client = APIClient(authenticator=authenticator, service_url=WOS_CREDENTIALS[\"url\"], service_instance_id=WOS_CREDENTIALS[\"instance_id\"])\n",
    "data_mart_id=WOS_CREDENTIALS[\"instance_id\"]"
   ]
  },
  {
   "cell_type": "markdown",
   "metadata": {
    "id": "8e0fa3d4-2207-4699-bb38-f10e6e4c3a55"
   },
   "source": [
    "### Display Watson OpenScale datamart details"
   ]
  },
  {
   "cell_type": "code",
   "execution_count": 283,
   "metadata": {
    "id": "30fb3f08-4b30-4547-9c63-a66528472e01"
   },
   "outputs": [
    {
     "data": {
      "text/html": [
       "<HTML>\n",
       "        <body>\n",
       "            <h3>Data Marts</h3>\n",
       "            <table style='border: 1px solid #dddddd; font-family: Courier'>\n",
       "                <th style='border: 1px solid #dddddd'>name</th><th style='border: 1px solid #dddddd'>description</th><th style='border: 1px solid #dddddd'>internal_database</th><th style='border: 1px solid #dddddd'>status</th><th style='border: 1px solid #dddddd'>created_at</th><th style='border: 1px solid #dddddd'>id</th>\n",
       "                <tr><td style='border: 1px solid #dddddd'>AIOSFASTPATHICP-00000000-0000-0000-0000-000000000000</td><td style='border: 1px solid #dddddd'>Data Mart created by OpenScale ExpressPath</td><td style='border: 1px solid #dddddd'>False</td><td style='border: 1px solid #dddddd'>active</td><td style='border: 1px solid #dddddd'>2024-11-28 19:42:06.911000+00:00</td><td style='border: 1px solid #dddddd'>00000000-0000-0000-0000-000000000000</td></tr>\n",
       "            </table>\n",
       "        </body>\n",
       "        </HTML>"
      ],
      "text/plain": [
       "<IPython.core.display.HTML object>"
      ]
     },
     "metadata": {},
     "output_type": "display_data"
    }
   ],
   "source": [
    "wos_client.data_marts.show()"
   ]
  },
  {
   "cell_type": "markdown",
   "metadata": {
    "id": "3e444780-ecbd-4848-affd-6bc8d35efd3e"
   },
   "source": [
    "### Create a service provider"
   ]
  },
  {
   "cell_type": "code",
   "execution_count": 284,
   "metadata": {
    "id": "903193f5-14f3-451e-8abc-1cc814bbb4a6"
   },
   "outputs": [],
   "source": [
    "# Delete existing service provider with the same name as provided\n",
    "\n",
    "service_providers = wos_client.service_providers.list().result.service_providers\n",
    "for provider in service_providers:\n",
    "    if provider.entity.name == SERVICE_PROVIDER_NAME:\n",
    "        wos_client.service_providers.delete(service_provider_id=provider.metadata.id)\n",
    "        break"
   ]
  },
  {
   "cell_type": "code",
   "execution_count": 285,
   "metadata": {
    "id": "a90da5cb-c3b7-4ce6-9723-8becd72d31f0"
   },
   "outputs": [
    {
     "data": {
      "text/html": [
       "<HTML>\n",
       "        <body>\n",
       "            <h3>Service Providers</h3>\n",
       "            <table style='border: 1px solid #dddddd; font-family: Courier'>\n",
       "                <th style='border: 1px solid #dddddd'>instance_id</th><th style='border: 1px solid #dddddd'>status</th><th style='border: 1px solid #dddddd'>name</th><th style='border: 1px solid #dddddd'>service_type</th><th style='border: 1px solid #dddddd'>created_at</th><th style='border: 1px solid #dddddd'>id</th>\n",
       "                <tr><td style='border: 1px solid #dddddd'>99999999-9999-9999-9999-999999999999</td><td style='border: 1px solid #dddddd'>active</td><td style='border: 1px solid #dddddd'>EXPLAIN BATCH</td><td style='border: 1px solid #dddddd'>watson_machine_learning</td><td style='border: 1px solid #dddddd'>2025-02-17 05:34:03.328000+00:00</td><td style='border: 1px solid #dddddd'>f90d01f6-0db1-444e-adfd-eccb75228494</td></tr><tr><td style='border: 1px solid #dddddd'>99999999-9999-9999-9999-999999999999</td><td style='border: 1px solid #dddddd'>active</td><td style='border: 1px solid #dddddd'>WML_TEST_GCR_FINAL</td><td style='border: 1px solid #dddddd'>watson_machine_learning</td><td style='border: 1px solid #dddddd'>2025-02-16 22:29:18.571000+00:00</td><td style='border: 1px solid #dddddd'>4b779d1c-c298-4fcd-b190-770b556ec7ab</td></tr><tr><td style='border: 1px solid #dddddd'>None</td><td style='border: 1px solid #dddddd'>active</td><td style='border: 1px solid #dddddd'>Biswas-Drift-V2-Batch-Remote</td><td style='border: 1px solid #dddddd'>custom_machine_learning</td><td style='border: 1px solid #dddddd'>2025-02-13 21:29:21.188000+00:00</td><td style='border: 1px solid #dddddd'>0b5e2615-43a8-47d0-9a5e-dac79c2b229f</td></tr><tr><td style='border: 1px solid #dddddd'>None</td><td style='border: 1px solid #dddddd'>active</td><td style='border: 1px solid #dddddd'>Final-Drift-V2-Batch - Hive-DO-NOT-DELETE</td><td style='border: 1px solid #dddddd'>custom_machine_learning</td><td style='border: 1px solid #dddddd'>2025-02-13 09:50:52.697000+00:00</td><td style='border: 1px solid #dddddd'>a700b804-2292-4fcd-93d7-e28a35ba7f6f</td></tr><tr><td style='border: 1px solid #dddddd'>None</td><td style='border: 1px solid #dddddd'>active</td><td style='border: 1px solid #dddddd'>CUSTOM_BATCH</td><td style='border: 1px solid #dddddd'>custom_machine_learning</td><td style='border: 1px solid #dddddd'>2025-02-13 08:23:50.242000+00:00</td><td style='border: 1px solid #dddddd'>ced3ab4b-5a9d-41b1-9dda-350e3f38dfac</td></tr><tr><td style='border: 1px solid #dddddd'>None</td><td style='border: 1px solid #dddddd'>active</td><td style='border: 1px solid #dddddd'>Drift-V2-Batch-</td><td style='border: 1px solid #dddddd'>custom_machine_learning</td><td style='border: 1px solid #dddddd'>2025-02-12 18:58:30.923000+00:00</td><td style='border: 1px solid #dddddd'>b6ac70cd-3666-4b7e-9e10-9d4a35b67a10</td></tr><tr><td style='border: 1px solid #dddddd'>None</td><td style='border: 1px solid #dddddd'>active</td><td style='border: 1px solid #dddddd'>DriftV2-Batch-</td><td style='border: 1px solid #dddddd'>custom_machine_learning</td><td style='border: 1px solid #dddddd'>2025-02-12 18:54:02.327000+00:00</td><td style='border: 1px solid #dddddd'>f939057e-305c-4e36-b300-215a0f855daa</td></tr><tr><td style='border: 1px solid #dddddd'>None</td><td style='border: 1px solid #dddddd'>active</td><td style='border: 1px solid #dddddd'>JDBC-DriftV2</td><td style='border: 1px solid #dddddd'>custom_machine_learning</td><td style='border: 1px solid #dddddd'>2025-02-12 17:55:41.394000+00:00</td><td style='border: 1px solid #dddddd'>bfd30f97-cd3b-41e2-ab4a-c1562d7f5e80</td></tr><tr><td style='border: 1px solid #dddddd'>99999999-9999-9999-9999-999999999999</td><td style='border: 1px solid #dddddd'>active</td><td style='border: 1px solid #dddddd'>SPACE_xgov_prod</td><td style='border: 1px solid #dddddd'>watson_machine_learning</td><td style='border: 1px solid #dddddd'>2025-02-11 06:06:41.995000+00:00</td><td style='border: 1px solid #dddddd'>8c640071-25e1-4be3-87c5-bf19b7dc9715</td></tr><tr><td style='border: 1px solid #dddddd'>99999999-9999-9999-9999-999999999999</td><td style='border: 1px solid #dddddd'>active</td><td style='border: 1px solid #dddddd'>SPACE_xgov_pre_prod</td><td style='border: 1px solid #dddddd'>watson_machine_learning</td><td style='border: 1px solid #dddddd'>2025-02-11 05:57:21.485000+00:00</td><td style='border: 1px solid #dddddd'>cfa4d4f3-2367-4b7f-a418-9a71f0bb8b1c</td></tr>\n",
       "            </table>\n",
       "        </body>\n",
       "        </HTML>"
      ],
      "text/plain": [
       "<IPython.core.display.HTML object>"
      ]
     },
     "metadata": {},
     "output_type": "display_data"
    },
    {
     "name": "stdout",
     "output_type": "stream",
     "text": [
      "Note: First 10 records were displayed.\n"
     ]
    }
   ],
   "source": [
    "# Add Service Provider\n",
    "\n",
    "added_service_provider_result = wos_client.service_providers.add(\n",
    "        name=SERVICE_PROVIDER_NAME,\n",
    "        description=SERVICE_PROVIDER_DESCRIPTION,\n",
    "        service_type=ServiceTypes.WATSON_MACHINE_LEARNING,\n",
    "        credentials=WML_CREDENTIALS,\n",
    "        operational_space_id=\"production\",\n",
    "        background_mode=False\n",
    "    ).result\n",
    "\n",
    "service_provider_id = added_service_provider_result.metadata.id\n",
    "\n",
    "wos_client.service_providers.show()"
   ]
  },
  {
   "cell_type": "code",
   "execution_count": 286,
   "metadata": {
    "id": "efd1520a-f87a-46d1-8229-c7615345fb55"
   },
   "outputs": [
    {
     "name": "stdout",
     "output_type": "stream",
     "text": [
      "{\n",
      "  \"metadata\": {\n",
      "    \"id\": \"4b779d1c-c298-4fcd-b190-770b556ec7ab\",\n",
      "    \"crn\": \"crn:v1:bluemix:public:aiopenscale:us-south:a/na:00000000-0000-0000-0000-000000000000:service_provider:4b779d1c-c298-4fcd-b190-770b556ec7ab\",\n",
      "    \"url\": \"/v2/service_providers/4b779d1c-c298-4fcd-b190-770b556ec7ab\",\n",
      "    \"created_at\": \"2025-02-16T22:29:18.571000Z\",\n",
      "    \"created_by\": \"cpadmin\"\n",
      "  },\n",
      "  \"entity\": {\n",
      "    \"name\": \"WML_TEST_GCR_FINAL\",\n",
      "    \"service_type\": \"watson_machine_learning\",\n",
      "    \"instance_id\": \"99999999-9999-9999-9999-999999999999\",\n",
      "    \"credentials\": {\n",
      "      \"secret_id\": \"b7b0310e-dccb-4901-a28b-51d2bdaa5b68\"\n",
      "    },\n",
      "    \"operational_space_id\": \"production\",\n",
      "    \"deployment_space_id\": \"2e5a959d-37cd-4947-9bb0-5f1102228670\",\n",
      "    \"status\": {\n",
      "      \"state\": \"active\"\n",
      "    }\n",
      "  }\n",
      "}\n"
     ]
    }
   ],
   "source": [
    "service_provide_details = wos_client.service_providers.get(service_provider_id=service_provider_id).result\n",
    "print(service_provide_details)"
   ]
  },
  {
   "cell_type": "markdown",
   "metadata": {
    "id": "97374835-1ba6-4bd2-820d-169311758590"
   },
   "source": [
    "### Create integrated systems for Spark Engine and Hive"
   ]
  },
  {
   "cell_type": "code",
   "execution_count": 287,
   "metadata": {
    "id": "5253227f-1962-40d3-b085-df8e69a3be21"
   },
   "outputs": [
    {
     "name": "stdout",
     "output_type": "stream",
     "text": [
      "Deleting integrated system WML-BATCH-GCR-HIVE-IAE\n",
      "Deleting integrated system WML-IAEBatchSpark\n"
     ]
    }
   ],
   "source": [
    "# Delete existing spark and hive integrated systems if present\n",
    "\n",
    "integrated_systems = IntegratedSystems(wos_client).list().result.integrated_systems\n",
    "\n",
    "for system in integrated_systems:\n",
    "    if system.entity.name in (IAE_SPARK_NAME, HIVE_CONNECTION_NAME):\n",
    "        print(\"Deleting integrated system {}\".format(system.entity.name))\n",
    "        IntegratedSystems(wos_client).delete(integrated_system_id=system.metadata.id)"
   ]
  },
  {
   "cell_type": "markdown",
   "metadata": {
    "id": "af21e5ae-725b-467c-ada9-ac26cefff3e3"
   },
   "source": [
    "#### Spark Engine"
   ]
  },
  {
   "cell_type": "code",
   "execution_count": 288,
   "metadata": {
    "id": "9def9c18-3034-49ba-89f9-c4d7ee8a668b"
   },
   "outputs": [
    {
     "name": "stdout",
     "output_type": "stream",
     "text": [
      "{\n",
      "  \"metadata\": {\n",
      "    \"id\": \"4ac944f3-3f8a-4e1f-b048-079f350cdf7e\",\n",
      "    \"crn\": \"crn:v1:bluemix:public:aiopenscale:us-south:a/na:00000000-0000-0000-0000-000000000000:integrated_system:4ac944f3-3f8a-4e1f-b048-079f350cdf7e\",\n",
      "    \"url\": \"/v2/integrated_systems/4ac944f3-3f8a-4e1f-b048-079f350cdf7e\",\n",
      "    \"created_at\": \"2025-02-17T05:40:10.495000Z\",\n",
      "    \"created_by\": \"cpadmin\"\n",
      "  },\n",
      "  \"entity\": {\n",
      "    \"name\": \"WML-IAEBatchSpark\",\n",
      "    \"type\": \"spark\",\n",
      "    \"description\": \"descF\",\n",
      "    \"credentials\": {\n",
      "      \"secret_id\": \"85a4858b-72d0-4a6b-8087-4706cf8bcb67\"\n",
      "    },\n",
      "    \"connection\": {\n",
      "      \"display_name\": \"IAEBatchSpark\",\n",
      "      \"endpoint\": \"https://cpd-cpd-instance.apps.osdev510pwx417gmc-1.cp.fyre.ibm.com/v4/analytics_engines/74dc7110-8603-4c64-961d-bdbb44296cfd/spark_applications\",\n",
      "      \"location_type\": \"cpd_iae\",\n",
      "      \"volume\": \"cpd-instance::IAEBatchTest\"\n",
      "    }\n",
      "  }\n",
      "}\n"
     ]
    }
   ],
   "source": [
    "spark_integrated_system = IntegratedSystems(wos_client).add(\n",
    "    name=IAE_SPARK_NAME,\n",
    "    description=IAE_SPARK_DESCRIPTION,\n",
    "    type=\"spark\",\n",
    "    credentials={\n",
    "        \"username\": IBM_CPD_USERNAME,\n",
    "        \"apikey\": IBM_CPD_APIKEY\n",
    "    },\n",
    "    connection={\n",
    "        \"display_name\": IAE_SPARK_DISPLAY_NAME,\n",
    "        \"endpoint\": IAE_SPARK_JOBS_ENDPOINT,\n",
    "        \"volume\": IBM_CPD_VOLUME,\n",
    "        \"location_type\": \"cpd_iae\"\n",
    "    }\n",
    ").result\n",
    "\n",
    "spark_integrated_system_id = spark_integrated_system.metadata.id\n",
    "print(spark_integrated_system)"
   ]
  },
  {
   "cell_type": "markdown",
   "metadata": {
    "id": "3cc72495-baa9-4a82-9739-55f42955c473"
   },
   "source": [
    "#### Hive"
   ]
  },
  {
   "cell_type": "code",
   "execution_count": 289,
   "metadata": {
    "id": "27ac5450-513e-4bd9-a231-249625c4a6df"
   },
   "outputs": [
    {
     "name": "stdout",
     "output_type": "stream",
     "text": [
      "{\n",
      "  \"metadata\": {\n",
      "    \"id\": \"0cc90b5d-6a36-44ea-89cf-50d2db366a79\",\n",
      "    \"crn\": \"crn:v1:bluemix:public:aiopenscale:us-south:a/na:00000000-0000-0000-0000-000000000000:integrated_system:0cc90b5d-6a36-44ea-89cf-50d2db366a79\",\n",
      "    \"url\": \"/v2/integrated_systems/0cc90b5d-6a36-44ea-89cf-50d2db366a79\",\n",
      "    \"created_at\": \"2025-02-17T05:40:11.181000Z\",\n",
      "    \"created_by\": \"cpadmin\"\n",
      "  },\n",
      "  \"entity\": {\n",
      "    \"name\": \"WML-BATCH-GCR-HIVE-IAE\",\n",
      "    \"type\": \"hive\",\n",
      "    \"description\": \"descFinal\",\n",
      "    \"credentials\": {\n",
      "      \"secret_id\": \"ed2fbef3-0a80-4b45-904a-cac1bdc04092\"\n",
      "    },\n",
      "    \"connection\": {\n",
      "      \"location_type\": \"metastore\",\n",
      "      \"metastore_url\": \"thrift://shillong1.fyre.ibm.com:9083\"\n",
      "    }\n",
      "  }\n",
      "}\n"
     ]
    }
   ],
   "source": [
    "hive_connection = {}\n",
    "hive_credentials = {}\n",
    "if HIVE_METASTORE_URI is not None:\n",
    "    hive_connection[\"metastore_url\"] = HIVE_METASTORE_URI\n",
    "    hive_connection[\"location_type\"] = \"metastore\"\n",
    "\n",
    "if KERBEROS_ENABLED is True:\n",
    "    hive_connection[\"kerberos_enabled\"] = True\n",
    "    hive_credentials[\"kerberos_principal\"] = HIVE_KERBEROS_PRINCIPAL\n",
    "    if DELEGATION_TOKEN_SECRET_URN:\n",
    "        hive_credentials[\"delegation_token_urn\"] = DELEGATION_TOKEN_SECRET_URN\n",
    "    if DELEGATION_TOKEN_ENDPOINT:\n",
    "        hive_credentials[\"delegation_token_endpoint\"] = DELEGATION_TOKEN_ENDPOINT\n",
    "\n",
    "hive_integrated_system = IntegratedSystems(wos_client).add(\n",
    "    name=HIVE_CONNECTION_NAME,\n",
    "    description=HIVE_CONNECTION_DESCRIPTION,\n",
    "    type=\"hive\",\n",
    "    credentials=hive_credentials,\n",
    "    connection=hive_connection\n",
    ").result\n",
    "\n",
    "hive_integrated_system_id=hive_integrated_system.metadata.id\n",
    "print(hive_integrated_system)"
   ]
  },
  {
   "cell_type": "markdown",
   "metadata": {
    "id": "b78f96ac-7662-41b5-883e-6da3f011c5da"
   },
   "source": [
    "# 3. Set up a subscription<a name=\"subscription\"></a>"
   ]
  },
  {
   "cell_type": "code",
   "execution_count": 291,
   "metadata": {
    "id": "b6cbe79a-a8fb-4cae-8524-0fe940c71a17"
   },
   "outputs": [],
   "source": [
    "# Delete an existing subscription with the provided name\n",
    "\n",
    "subscriptions = wos_client.subscriptions.list().result.subscriptions\n",
    "for sub in subscriptions:\n",
    "    if sub.entity.deployment.name == SUBSCRIPTION_NAME:\n",
    "        wos_client.subscriptions.delete(subscription_id=sub.metadata.id)\n",
    "        break\n",
    "\n",
    "# Display all subscriptions\n",
    "wos_client.subscriptions.show()"
   ]
  },
  {
   "cell_type": "markdown",
   "metadata": {
    "id": "2d19e502-5e53-4ee1-b60f-4b0912b49998"
   },
   "source": [
    "### Set subscription metadata\n",
    "\n",
    "In the following cell, we expect you extracted Configuration Archive to current directory and it contains common_configuration.json. If not true, please update path to correct location. After you edit the path information, run the cell to set the asset details and properties, the deployment details, the analytics engine details, and to add the required tables as data sources."
   ]
  },
  {
   "cell_type": "code",
   "execution_count": 292,
   "metadata": {
    "id": "431e4689-cb82-4009-a1e8-631573e092c5"
   },
   "outputs": [],
   "source": [
    "import uuid\n",
    "import json\n",
    "# Provide the WML deployment io and space d\n",
    "deployment_uid = \"<wml_deployment_id>\"\n",
    "space_id = \"<wml_space_id>\"\n",
    "common_configuration = None\n",
    "\n",
    "with open(\"common_configuration.json\", \"r\") as fp:\n",
    "    configuration_json = json.load(fp)\n",
    "    common_configuration = configuration_json.get(\"common_configuration\")\n",
    "    if common_configuration is None:\n",
    "        raise Exception(\"Please provide the correct path to the common configuration JSON\")\n",
    "        \n",
    "asset_deployment_details = wos_client.service_providers.list_assets(\n",
    "    data_mart_id=data_mart_id, service_provider_id=service_provider_id, \n",
    "    deployment_id = deployment_uid, deployment_space_id = space_id).result['resources'][0]\n",
    "\n",
    "model_asset_details_from_deployment = wos_client.service_providers.get_deployment_asset(\n",
    "    data_mart_id=data_mart_id,service_provider_id=service_provider_id,deployment_id=deployment_uid,\n",
    "    deployment_space_id=space_id)\n",
    "\n",
    "scoring_endpoint = ScoringEndpointRequest(\n",
    "    url=model_asset_details_from_deployment['entity']['scoring_endpoint']['url'] )\n",
    "    \n",
    "# Set asset details\n",
    "asset = Asset(\n",
    "    asset_id=model_asset_details_from_deployment[\"entity\"][\"asset\"][\"asset_id\"],\n",
    "    url=model_asset_details_from_deployment[\"entity\"][\"asset\"][\"url\"],\n",
    "    name=SUBSCRIPTION_NAME,\n",
    "    asset_type=AssetTypes.MODEL,\n",
    "    input_data_type=InputDataType.STRUCTURED,\n",
    "    problem_type=common_configuration.get(\"problem_type\") if common_configuration.get(\"problem_type\") else common_configuration.get(\"model_type\")\n",
    ")\n",
    "\n",
    "# Set deployment details\n",
    "asset_deployment = AssetDeploymentRequest(\n",
    "    deployment_id=asset_deployment_details['metadata']['guid'],\n",
    "    name=SUBSCRIPTION_NAME,\n",
    "    description=SUBSCRIPTION_DESCRIPTION,\n",
    "    deployment_type=DeploymentTypes.ONLINE,\n",
    "    scoring_endpoint=scoring_endpoint\n",
    ")\n",
    "\n",
    "probability_fields = common_configuration.get(\"probability_fields\") if common_configuration.get(\"probability_fields\") else [common_configuration.get(\"probability\")]\n",
    "\n",
    "\n",
    "# Set asset properties \n",
    "asset_properties_request = AssetPropertiesRequest(\n",
    "    label_column=common_configuration[\"label_column\"],\n",
    "    probability_fields=probability_fields, # comment out this line for regression models as probability_fields is not applicable\n",
    "    prediction_field=common_configuration[\"prediction\"],\n",
    "    feature_fields=common_configuration[\"feature_columns\"],\n",
    "    categorical_fields=common_configuration[\"categorical_columns\"]\n",
    ")"
   ]
  },
  {
   "cell_type": "code",
   "execution_count": 293,
   "metadata": {
    "id": "cd54e0181ffa4670acbbe1eb432d9369"
   },
   "outputs": [],
   "source": [
    "# Set analytics engine details\n",
    "analytics_engine = AnalyticsEngine(\n",
    "    type=\"spark\",\n",
    "    integrated_system_id=spark_integrated_system_id,\n",
    "    parameters = spark_parameters\n",
    ")\n",
    "\n",
    "# Add selected tables as data sources\n",
    "data_sources = []\n",
    "if FEEDBACK_DATABASE_NAME is not None and FEEDBACK_TABLE_NAME is not None:\n",
    "    feedback_data_source = DataSource(\n",
    "        type=\"feedback\", \n",
    "        database_name=FEEDBACK_DATABASE_NAME,\n",
    "        schema_name=FEEDBACK_DATABASE_NAME,\n",
    "        table_name=FEEDBACK_TABLE_NAME,\n",
    "        connection=DataSourceConnection(\n",
    "            type=\"hive\", \n",
    "            integrated_system_id=hive_integrated_system_id\n",
    "        ),\n",
    "        parameters={\n",
    "            \"hive_storage_format\": \"<to_be_edited>\" #supported values are \"csv\", \"parquet\", \"orc\"\n",
    "        },\n",
    "        auto_create=True, #set it to False if table already exists\n",
    "        status=DataSourceStatus(state=\"new\")\n",
    "    )\n",
    "    data_sources.append(feedback_data_source)\n",
    "    \n",
    "if PAYLOAD_DATABASE_NAME is not None and PAYLOAD_TABLE_NAME is not None \\\n",
    "    and DRIFT_DATABASE_NAME is not None and DRIFT_TABLE_NAME is not None:\n",
    "    payload_logging_data_source = DataSource(\n",
    "        type=\"payload\", \n",
    "        database_name=PAYLOAD_DATABASE_NAME,\n",
    "        schema_name=PAYLOAD_DATABASE_NAME,\n",
    "        table_name=PAYLOAD_TABLE_NAME,\n",
    "        connection=DataSourceConnection(\n",
    "            type=\"hive\", \n",
    "            integrated_system_id=hive_integrated_system_id\n",
    "        ),\n",
    "        parameters={\n",
    "            \"hive_storage_format\": \"<to_be_edited>\" #supported values are \"csv\", \"parquet\", \"orc\"\n",
    "        },\n",
    "        auto_create=True, #set it to False if table already exists\n",
    "        status=DataSourceStatus(state=\"new\")\n",
    "    )\n",
    "    \n",
    "    drifted_transactions_table_data_source = DataSource(\n",
    "        type=\"drift\", \n",
    "        database_name=DRIFT_DATABASE_NAME,\n",
    "        schema_name=DRIFT_DATABASE_NAME,\n",
    "        table_name=DRIFT_TABLE_NAME,\n",
    "        connection=DataSourceConnection(\n",
    "            type=\"hive\", \n",
    "            integrated_system_id=hive_integrated_system_id\n",
    "        ),\n",
    "        auto_create=True, #set it to False if table already exists\n",
    "        status=DataSourceStatus(state=\"new\")\n",
    "    )\n",
    "    \n",
    "    data_sources.append(payload_logging_data_source)\n",
    "    data_sources.append(drifted_transactions_table_data_source)\n",
    "\n",
    "if EXPLAINABILITY_DATABASE_NAME is not None and \\\n",
    "    EXPLAINABILITY_QUEUE_TABLE_NAME is not None and \\\n",
    "        EXPLAINABILITY_RESULT_TABLE_NAME is not None:\n",
    "\n",
    "    explainability_queue_data_source = DataSource(\n",
    "        type=\"explain_queue\", \n",
    "        database_name=EXPLAINABILITY_DATABASE_NAME,\n",
    "        schema_name=EXPLAINABILITY_DATABASE_NAME,\n",
    "        table_name=EXPLAINABILITY_QUEUE_TABLE_NAME,\n",
    "        connection=DataSourceConnection(\n",
    "            type=\"hive\", \n",
    "            integrated_system_id=hive_integrated_system_id\n",
    "        ),\n",
    "        parameters={\n",
    "            \"hive_storage_format\": \"<to_be_edited>\" #supported values are \"csv\", \"parquet\", \"orc\"\n",
    "        },\n",
    "        auto_create=True, #set it to False if table already exists\n",
    "        status=DataSourceStatus(state=\"new\")\n",
    "    )\n",
    "    \n",
    "    data_sources.append(explainability_queue_data_source)\n",
    "\n",
    "    explainability_result_data_source = DataSource(\n",
    "        type=\"explain_result\", \n",
    "        database_name=EXPLAINABILITY_DATABASE_NAME,\n",
    "        schema_name=EXPLAINABILITY_DATABASE_NAME,\n",
    "        table_name=EXPLAINABILITY_RESULT_TABLE_NAME,\n",
    "        connection=DataSourceConnection(\n",
    "            type=\"hive\", \n",
    "            integrated_system_id=hive_integrated_system_id\n",
    "        ),\n",
    "        parameters={},\n",
    "        auto_create=True, #set it to False if table already exists\n",
    "        status=DataSourceStatus(state=\"new\")\n",
    "    )\n",
    "    \n",
    "    data_sources.append(explainability_result_data_source)"
   ]
  },
  {
   "cell_type": "code",
   "execution_count": 294,
   "metadata": {
    "id": "08d58a6d-0cc4-45be-beed-7dc48a1ec8bf"
   },
   "outputs": [
    {
     "name": "stdout",
     "output_type": "stream",
     "text": [
      "{\n",
      "  \"metadata\": {\n",
      "    \"id\": \"d50db495-b481-4351-b7a0-3cd220e4ff8e\",\n",
      "    \"crn\": \"crn:v1:bluemix:public:aiopenscale:us-south:a/na:00000000-0000-0000-0000-000000000000:subscription:d50db495-b481-4351-b7a0-3cd220e4ff8e\",\n",
      "    \"url\": \"/v2/subscriptions/d50db495-b481-4351-b7a0-3cd220e4ff8e\",\n",
      "    \"created_at\": \"2025-02-17T05:42:32.335000Z\",\n",
      "    \"created_by\": \"cpadmin\"\n",
      "  },\n",
      "  \"entity\": {\n",
      "    \"data_mart_id\": \"00000000-0000-0000-0000-000000000000\",\n",
      "    \"service_provider_id\": \"4b779d1c-c298-4fcd-b190-770b556ec7ab\",\n",
      "    \"asset\": {\n",
      "      \"asset_id\": \"94faea99-844a-44fb-8382-3b7b216e9652\",\n",
      "      \"url\": \"https://internal-nginx-svc:12443/ml/v4/models/94faea99-844a-44fb-8382-3b7b216e9652?space_id=2e5a959d-37cd-4947-9bb0-5f1102228670&version=2020-06-12\",\n",
      "      \"name\": \"WML-Drift-V2-Batch-IAE-Hive-DO-NOT-DELETE\",\n",
      "      \"asset_type\": \"model\",\n",
      "      \"problem_type\": \"binary\",\n",
      "      \"input_data_type\": \"structured\"\n",
      "    },\n",
      "    \"asset_properties\": {\n",
      "      \"label_column\": \"Risk\",\n",
      "      \"prediction_field\": \"prediction\",\n",
      "      \"feature_fields\": [\n",
      "        \"CheckingStatus\",\n",
      "        \"LoanDuration\",\n",
      "        \"CreditHistory\",\n",
      "        \"LoanPurpose\",\n",
      "        \"LoanAmount\",\n",
      "        \"ExistingSavings\",\n",
      "        \"EmploymentDuration\",\n",
      "        \"InstallmentPercent\",\n",
      "        \"Sex\",\n",
      "        \"OthersOnLoan\",\n",
      "        \"CurrentResidenceDuration\",\n",
      "        \"OwnsProperty\",\n",
      "        \"Age\",\n",
      "        \"InstallmentPlans\",\n",
      "        \"Housing\",\n",
      "        \"ExistingCreditsCount\",\n",
      "        \"Job\",\n",
      "        \"Dependents\",\n",
      "        \"Telephone\",\n",
      "        \"ForeignWorker\"\n",
      "      ],\n",
      "      \"categorical_fields\": [\n",
      "        \"CheckingStatus\",\n",
      "        \"CreditHistory\",\n",
      "        \"LoanPurpose\",\n",
      "        \"ExistingSavings\",\n",
      "        \"EmploymentDuration\",\n",
      "        \"Sex\",\n",
      "        \"OthersOnLoan\",\n",
      "        \"OwnsProperty\",\n",
      "        \"InstallmentPlans\",\n",
      "        \"Housing\",\n",
      "        \"Job\",\n",
      "        \"Telephone\",\n",
      "        \"ForeignWorker\"\n",
      "      ],\n",
      "      \"probability_fields\": [\n",
      "        \"probability\"\n",
      "      ]\n",
      "    },\n",
      "    \"deployment\": {\n",
      "      \"deployment_id\": \"2df43684-de1e-4950-b13f-8f1b2cf9fdfe\",\n",
      "      \"name\": \"WML-Drift-V2-Batch-IAE-Hive-DO-NOT-DELETE\",\n",
      "      \"description\": \"descFinal\",\n",
      "      \"deployment_type\": \"online\",\n",
      "      \"scoring_endpoint\": {\n",
      "        \"url\": \"https://internal-nginx-svc:12443/ml/v4/deployments/2df43684-de1e-4950-b13f-8f1b2cf9fdfe/predictions\"\n",
      "      }\n",
      "    },\n",
      "    \"analytics_engine\": {\n",
      "      \"type\": \"spark\",\n",
      "      \"integrated_system_id\": \"4ac944f3-3f8a-4e1f-b048-079f350cdf7e\",\n",
      "      \"parameters\": {\n",
      "        \"executor_memory\": 1,\n",
      "        \"executor_cores\": 1,\n",
      "        \"driver_cores\": 1,\n",
      "        \"max_num_executors\": 1,\n",
      "        \"driver_memory\": 1,\n",
      "        \"min_num_executors\": 1\n",
      "      }\n",
      "    },\n",
      "    \"status\": {\n",
      "      \"state\": \"preparing\"\n",
      "    }\n",
      "  }\n",
      "}\n"
     ]
    }
   ],
   "source": [
    "# Adding the subscription\n",
    "\n",
    "subscription_details = Subscriptions(wos_client).add(\n",
    "    data_mart_id=data_mart_id,\n",
    "    service_provider_id=service_provider_id,\n",
    "    asset=asset,\n",
    "    deployment=asset_deployment,\n",
    "    asset_properties=asset_properties_request,\n",
    "    analytics_engine=analytics_engine,\n",
    "    scoring_endpoint=scoring_endpoint).result\n",
    "\n",
    "subscription_id = subscription_details.metadata.id\n",
    "print(subscription_details)"
   ]
  },
  {
   "cell_type": "code",
   "execution_count": 295,
   "metadata": {
    "id": "3cca8df3-78fa-4f5d-8142-4033db8c65a8"
   },
   "outputs": [
    {
     "name": "stdout",
     "output_type": "stream",
     "text": [
      "preparing\n",
      "active\n"
     ]
    }
   ],
   "source": [
    "import time\n",
    "# Checking subscription status\n",
    "\n",
    "state = wos_client.subscriptions.get(subscription_id).result.entity.status.state\n",
    "\n",
    "while state not in [\"active\", \"error\"]:\n",
    "    state = wos_client.subscriptions.get(subscription_id).result.entity.status.state\n",
    "    print(state)\n",
    "    time.sleep(5)"
   ]
  },
  {
   "cell_type": "code",
   "execution_count": 296,
   "metadata": {
    "id": "b5dbd284-f928-4775-8c1d-84a0f58f215d"
   },
   "outputs": [
    {
     "data": {
      "text/plain": [
       "<ibm_cloud_sdk_core.detailed_response.DetailedResponse at 0x7f7a1cee8850>"
      ]
     },
     "execution_count": 296,
     "metadata": {},
     "output_type": "execute_result"
    }
   ],
   "source": [
    "# Add training, output, and input data schemas to the subscription\n",
    "schemas_patch_document = [\n",
    "    JsonPatchOperation(op=OperationTypes.REPLACE, path='/asset_properties/training_data_schema', value=common_configuration[\"training_data_schema\"]),\n",
    "    JsonPatchOperation(op=OperationTypes.REPLACE, path='/asset_properties/input_data_schema', value=common_configuration[\"input_data_schema\"]),\n",
    "    JsonPatchOperation(op=OperationTypes.REPLACE, path='/asset_properties/output_data_schema', value=common_configuration[\"output_data_schema\"])\n",
    "]\n",
    "\n",
    "wos_client.subscriptions.update(subscription_id=subscription_id, patch_document=schemas_patch_document)\n",
    "\n",
    "# Add data_sources to the subscription\n",
    "data_sources_patch_document=[\n",
    "    JsonPatchOperation(op=OperationTypes.ADD, path='/data_sources', value=[data_source.to_dict() for data_source in data_sources])\n",
    "]\n",
    "\n",
    "wos_client.subscriptions.update(subscription_id=subscription_id, patch_document=data_sources_patch_document)"
   ]
  },
  {
   "cell_type": "code",
   "execution_count": 297,
   "metadata": {
    "id": "761b87722b6a44838193693f0b132be8"
   },
   "outputs": [
    {
     "name": "stdout",
     "output_type": "stream",
     "text": [
      "preparing\n",
      "preparing\n",
      "preparing\n",
      "preparing\n",
      "preparing\n",
      "preparing\n",
      "preparing\n",
      "preparing\n",
      "preparing\n",
      "preparing\n",
      "active\n"
     ]
    },
    {
     "name": "stdout",
     "output_type": "stream",
     "text": [
      "preparing\n"
     ]
    },
    {
     "name": "stdout",
     "output_type": "stream",
     "text": [
      "preparing\n"
     ]
    },
    {
     "name": "stdout",
     "output_type": "stream",
     "text": [
      "preparing\n"
     ]
    },
    {
     "name": "stdout",
     "output_type": "stream",
     "text": [
      "preparing\n"
     ]
    },
    {
     "name": "stdout",
     "output_type": "stream",
     "text": [
      "preparing\n"
     ]
    },
    {
     "name": "stdout",
     "output_type": "stream",
     "text": [
      "preparing\n"
     ]
    },
    {
     "name": "stdout",
     "output_type": "stream",
     "text": [
      "preparing\n"
     ]
    },
    {
     "name": "stdout",
     "output_type": "stream",
     "text": [
      "preparing\n"
     ]
    },
    {
     "name": "stdout",
     "output_type": "stream",
     "text": [
      "active\n"
     ]
    }
   ],
   "source": [
    "import time\n",
    "\n",
    "# Checking subscription status after the patch operation\n",
    "\n",
    "state = wos_client.subscriptions.get(subscription_id).result.entity.status.state\n",
    "\n",
    "while state not in [\"active\", \"error\"]:\n",
    "    state = wos_client.subscriptions.get(subscription_id).result.entity.status.state\n",
    "    print(state)\n",
    "    time.sleep(5)"
   ]
  },
  {
   "cell_type": "markdown",
   "metadata": {
    "id": "3cd038b4-4588-41fd-8eec-9bc7ca2f08ed"
   },
   "source": [
    "# 4. Quality monitoring <a name=\"quality\"></a>"
   ]
  },
  {
   "cell_type": "markdown",
   "metadata": {
    "id": "6d90abe2-ceaa-4e53-964f-9a9006a5c0bf"
   },
   "source": [
    "### Enable the quality monitor\n",
    "\n",
    "In the following code cell, default values are set for the quality monitor. You can change the default values by updating the optional `min_feedback_data_size` attribute in the `parameters` dict and set the quality threshold in the `thresholds` list."
   ]
  },
  {
   "cell_type": "code",
   "execution_count": 308,
   "metadata": {
    "id": "8e3f9579-5f1f-47cf-9953-272c2cf541fa"
   },
   "outputs": [
    {
     "name": "stdout",
     "output_type": "stream",
     "text": [
      "{\n",
      "  \"metadata\": {\n",
      "    \"id\": \"4fc26f94-0d7c-48be-8caf-3fc647c4ea90\",\n",
      "    \"crn\": \"crn:v1:bluemix:public:aiopenscale:us-south:a/na:00000000-0000-0000-0000-000000000000:monitor_instance:4fc26f94-0d7c-48be-8caf-3fc647c4ea90\",\n",
      "    \"url\": \"/v2/monitor_instances/4fc26f94-0d7c-48be-8caf-3fc647c4ea90\",\n",
      "    \"created_at\": \"2025-02-17T06:04:10.791000Z\",\n",
      "    \"created_by\": \"cpadmin\"\n",
      "  },\n",
      "  \"entity\": {\n",
      "    \"data_mart_id\": \"00000000-0000-0000-0000-000000000000\",\n",
      "    \"monitor_definition_id\": \"quality\",\n",
      "    \"target\": {\n",
      "      \"target_type\": \"subscription\",\n",
      "      \"target_id\": \"d50db495-b481-4351-b7a0-3cd220e4ff8e\"\n",
      "    },\n",
      "    \"parameters\": {\n",
      "      \"min_feedback_data_size\": 10\n",
      "    },\n",
      "    \"thresholds\": [\n",
      "      {\n",
      "        \"metric_id\": \"area_under_roc\",\n",
      "        \"type\": \"lower_limit\",\n",
      "        \"value\": 0.8\n",
      "      }\n",
      "    ],\n",
      "    \"schedule\": {\n",
      "      \"repeat_interval\": 1,\n",
      "      \"repeat_unit\": \"week\",\n",
      "      \"start_time\": {\n",
      "        \"type\": \"relative\",\n",
      "        \"delay_unit\": \"minute\",\n",
      "        \"delay\": 10\n",
      "      },\n",
      "      \"repeat_type\": \"week\"\n",
      "    },\n",
      "    \"status\": {\n",
      "      \"state\": \"preparing\"\n",
      "    }\n",
      "  }\n",
      "}\n"
     ]
    }
   ],
   "source": [
    "import time\n",
    "\n",
    "target = Target(\n",
    "    target_type=TargetTypes.SUBSCRIPTION,\n",
    "    target_id=subscription_id\n",
    ")\n",
    "\n",
    "parameters = {\n",
    "    \"min_feedback_data_size\": 10\n",
    "}\n",
    "\n",
    "thresholds = [{\n",
    "        \"metric_id\": \"area_under_roc\",\n",
    "        \"type\": \"lower_limit\",\n",
    "        \"value\": 0.8\n",
    "}]\n",
    "\n",
    "quality_monitor_details = wos_client.monitor_instances.create(\n",
    "    data_mart_id=data_mart_id,\n",
    "    monitor_definition_id=wos_client.monitor_definitions.MONITORS.QUALITY.ID,\n",
    "    target=target,\n",
    "    parameters=parameters,\n",
    "    thresholds=thresholds\n",
    ").result\n",
    "\n",
    "quality_monitor_instance_id = quality_monitor_details.metadata.id\n",
    "print(quality_monitor_details)"
   ]
  },
  {
   "cell_type": "markdown",
   "metadata": {
    "id": "b3a7e576-c875-4ddc-b7cb-0ebc2bb9d4a2"
   },
   "source": [
    "### Check monitor instance status"
   ]
  },
  {
   "cell_type": "code",
   "execution_count": 309,
   "metadata": {
    "id": "c136a34b-e0bf-4d0b-bac9-94ad19e46fc6"
   },
   "outputs": [
    {
     "name": "stdout",
     "output_type": "stream",
     "text": [
      "06:04:11 active\n"
     ]
    }
   ],
   "source": [
    "quality_status = None\n",
    "from datetime import datetime\n",
    "\n",
    "while quality_status not in (\"active\", \"error\"):\n",
    "    monitor_instance_details = wos_client.monitor_instances.get(monitor_instance_id=quality_monitor_instance_id).result\n",
    "    quality_status = monitor_instance_details.entity.status.state\n",
    "    if quality_status not in (\"active\", \"error\"):\n",
    "        print(datetime.utcnow().strftime('%H:%M:%S'), quality_status)\n",
    "        time.sleep(30)\n",
    "        \n",
    "print(datetime.utcnow().strftime('%H:%M:%S'), quality_status)"
   ]
  },
  {
   "cell_type": "code",
   "execution_count": 310,
   "metadata": {
    "id": "591d8bfe-e676-4f02-bfba-8845736d3b5e"
   },
   "outputs": [
    {
     "name": "stdout",
     "output_type": "stream",
     "text": [
      "{\n",
      "  \"metadata\": {\n",
      "    \"id\": \"4fc26f94-0d7c-48be-8caf-3fc647c4ea90\",\n",
      "    \"crn\": \"crn:v1:bluemix:public:aiopenscale:us-south:a/na:00000000-0000-0000-0000-000000000000:monitor_instance:4fc26f94-0d7c-48be-8caf-3fc647c4ea90\",\n",
      "    \"url\": \"/v2/monitor_instances/4fc26f94-0d7c-48be-8caf-3fc647c4ea90\",\n",
      "    \"created_at\": \"2025-02-17T06:04:10.791000Z\",\n",
      "    \"created_by\": \"cpadmin\",\n",
      "    \"modified_at\": \"2025-02-17T06:04:11.306000Z\",\n",
      "    \"modified_by\": \"internal-service\"\n",
      "  },\n",
      "  \"entity\": {\n",
      "    \"data_mart_id\": \"00000000-0000-0000-0000-000000000000\",\n",
      "    \"monitor_definition_id\": \"quality\",\n",
      "    \"target\": {\n",
      "      \"target_type\": \"subscription\",\n",
      "      \"target_id\": \"d50db495-b481-4351-b7a0-3cd220e4ff8e\"\n",
      "    },\n",
      "    \"parameters\": {\n",
      "      \"min_feedback_data_size\": 10\n",
      "    },\n",
      "    \"thresholds\": [\n",
      "      {\n",
      "        \"metric_id\": \"area_under_roc\",\n",
      "        \"type\": \"lower_limit\",\n",
      "        \"value\": 0.8\n",
      "      }\n",
      "    ],\n",
      "    \"schedule\": {\n",
      "      \"repeat_interval\": 1,\n",
      "      \"repeat_unit\": \"week\",\n",
      "      \"start_time\": {\n",
      "        \"type\": \"relative\",\n",
      "        \"delay_unit\": \"minute\",\n",
      "        \"delay\": 10\n",
      "      },\n",
      "      \"repeat_type\": \"week\",\n",
      "      \"status\": \"enabled\"\n",
      "    },\n",
      "    \"schedule_id\": \"233fd80c-eec0-45d2-ac8d-b6f9172ed9e8\",\n",
      "    \"status\": {\n",
      "      \"state\": \"active\"\n",
      "    }\n",
      "  }\n",
      "}\n"
     ]
    }
   ],
   "source": [
    "monitor_instance_details = wos_client.monitor_instances.get(monitor_instance_id=quality_monitor_instance_id).result\n",
    "print(monitor_instance_details)"
   ]
  },
  {
   "cell_type": "markdown",
   "metadata": {
    "id": "ff98f5d8-0014-48b1-8e33-b9d72012a909"
   },
   "source": [
    "### Run an on-demand evaluation\n",
    "\n",
    "Please make sure you have data in feedback table in hive. Quality evaluation will use this data for its metrics computation."
   ]
  },
  {
   "cell_type": "code",
   "execution_count": 311,
   "metadata": {
    "id": "5933f4ea-95e5-4902-9887-52bbfc6cc76e"
   },
   "outputs": [
    {
     "name": "stdout",
     "output_type": "stream",
     "text": [
      "{\n",
      "  \"metadata\": {\n",
      "    \"id\": \"a577ac88-fd5c-4e5f-a776-34f06008859f\",\n",
      "    \"crn\": \"crn:v1:bluemix:public:aiopenscale:us-south:a/na:00000000-0000-0000-0000-000000000000:run:a577ac88-fd5c-4e5f-a776-34f06008859f\",\n",
      "    \"url\": \"/v2/monitor_instances/4fc26f94-0d7c-48be-8caf-3fc647c4ea90/runs/a577ac88-fd5c-4e5f-a776-34f06008859f\",\n",
      "    \"created_at\": \"2025-02-17T06:04:11.730000Z\",\n",
      "    \"created_by\": \"cpadmin\"\n",
      "  },\n",
      "  \"entity\": {\n",
      "    \"triggered_by\": \"user\",\n",
      "    \"parameters\": {\n",
      "      \"min_feedback_data_size\": 10\n",
      "    },\n",
      "    \"status\": {\n",
      "      \"state\": \"running\",\n",
      "      \"queued_at\": \"2025-02-17T06:04:11.724000Z\",\n",
      "      \"started_at\": \"2025-02-17T06:04:11.730000Z\",\n",
      "      \"operators\": []\n",
      "    }\n",
      "  }\n",
      "}\n"
     ]
    }
   ],
   "source": [
    "# Trigger on-demand run\n",
    "\n",
    "monitoring_run_details = wos_client.monitor_instances.run(monitor_instance_id=quality_monitor_instance_id).result\n",
    "monitoring_run_id=monitoring_run_details.metadata.id\n",
    "\n",
    "print(monitoring_run_details)"
   ]
  },
  {
   "cell_type": "code",
   "execution_count": null,
   "metadata": {
    "id": "0e3f2916-c01a-484d-9450-7a105ccf98a2"
   },
   "outputs": [],
   "source": [
    "# Check run status\n",
    "\n",
    "quality_run_status = None\n",
    "while quality_run_status not in (\"finished\", \"error\"):\n",
    "    monitoring_run_details = wos_client.monitor_instances.get_run_details(monitor_instance_id=quality_monitor_instance_id, monitoring_run_id=monitoring_run_id).result\n",
    "    quality_run_status = monitoring_run_details.entity.status.state\n",
    "    if quality_run_status not in (\"finished\", \"error\"):\n",
    "        print(datetime.utcnow().strftime(\"%H:%M:%S\"), quality_run_status)\n",
    "        time.sleep(30)\n",
    "        \n",
    "print(datetime.utcnow().strftime(\"%H:%M:%S\"), quality_run_status)"
   ]
  },
  {
   "cell_type": "markdown",
   "metadata": {
    "id": "cd3c2a31-d52e-4dfe-868a-e6cd9f953642"
   },
   "source": [
    "### Display quality metrics"
   ]
  },
  {
   "cell_type": "code",
   "execution_count": 313,
   "metadata": {
    "id": "13ec2812-3c8b-44f0-9bfe-66f80837e04b"
   },
   "outputs": [
    {
     "name": "stdout",
     "output_type": "stream",
     "text": [
      "{\n",
      "  \"triggered_by\": \"user\",\n",
      "  \"parameters\": {\n",
      "    \"job_run_schedule_id\": \"d81ddded-f78a-4eea-a704-d780ccac824b\",\n",
      "    \"min_feedback_data_size\": 10,\n",
      "    \"total_records_processed\": 1000\n",
      "  },\n",
      "  \"status\": {\n",
      "    \"state\": \"finished\",\n",
      "    \"queued_at\": \"2025-02-17T06:04:11.724000Z\",\n",
      "    \"started_at\": \"2025-02-17T06:04:12.489000Z\",\n",
      "    \"updated_at\": \"2025-02-17T06:09:14.846000Z\",\n",
      "    \"completed_at\": \"2025-02-17T06:09:14.796000Z\",\n",
      "    \"message\": \"Quality execution is completed.\",\n",
      "    \"operators\": [\n",
      "      {\n",
      "        \"id\": \"original\",\n",
      "        \"status\": {\n",
      "          \"state\": \"finished\",\n",
      "          \"completed_at\": \"2025-02-17T06:09:14.796000Z\"\n",
      "        }\n",
      "      }\n",
      "    ]\n",
      "  }\n",
      "}\n"
     ]
    },
    {
     "data": {
      "text/html": [
       "<HTML>\n",
       "        <body>\n",
       "            <h3>4fc26f94-0d7c-48be-8caf-3fc647c4ea90 Monitor Runs Metrics from: 2025-02-10 06:09:42.794288  till: 2025-02-17 06:09:42.794292</h3>\n",
       "            <table style='border: 1px solid #dddddd; font-family: Courier'>\n",
       "                <th style='border: 1px solid #dddddd'>ts</th><th style='border: 1px solid #dddddd'>id</th><th style='border: 1px solid #dddddd'>measurement_id</th><th style='border: 1px solid #dddddd'>value</th><th style='border: 1px solid #dddddd'>lower_limit</th><th style='border: 1px solid #dddddd'>upper_limit</th><th style='border: 1px solid #dddddd'>tags</th><th style='border: 1px solid #dddddd'>monitor_definition_id</th><th style='border: 1px solid #dddddd'>monitor_instance_id</th><th style='border: 1px solid #dddddd'>run_id</th><th style='border: 1px solid #dddddd'>target_type</th><th style='border: 1px solid #dddddd'>target_id</th>\n",
       "                <tr><td style='border: 1px solid #dddddd'>2025-02-17 06:09:14.344839+00:00</td><td style='border: 1px solid #dddddd'>true_positive_rate</td><td style='border: 1px solid #dddddd'>5adab0c8-0ae8-48fe-98a2-5418c02f4747</td><td style='border: 1px solid #dddddd'>0.09968847352024922</td><td style='border: 1px solid #dddddd'>None</td><td style='border: 1px solid #dddddd'>None</td><td style='border: 1px solid #dddddd'>['model_type:original']</td><td style='border: 1px solid #dddddd'>quality</td><td style='border: 1px solid #dddddd'>4fc26f94-0d7c-48be-8caf-3fc647c4ea90</td><td style='border: 1px solid #dddddd'>a577ac88-fd5c-4e5f-a776-34f06008859f</td><td style='border: 1px solid #dddddd'>subscription</td><td style='border: 1px solid #dddddd'>d50db495-b481-4351-b7a0-3cd220e4ff8e</td></tr><tr><td style='border: 1px solid #dddddd'>2025-02-17 06:09:14.344839+00:00</td><td style='border: 1px solid #dddddd'>area_under_roc</td><td style='border: 1px solid #dddddd'>5adab0c8-0ae8-48fe-98a2-5418c02f4747</td><td style='border: 1px solid #dddddd'>0.4975614679825105</td><td style='border: 1px solid #dddddd'>0.8</td><td style='border: 1px solid #dddddd'>None</td><td style='border: 1px solid #dddddd'>['model_type:original']</td><td style='border: 1px solid #dddddd'>quality</td><td style='border: 1px solid #dddddd'>4fc26f94-0d7c-48be-8caf-3fc647c4ea90</td><td style='border: 1px solid #dddddd'>a577ac88-fd5c-4e5f-a776-34f06008859f</td><td style='border: 1px solid #dddddd'>subscription</td><td style='border: 1px solid #dddddd'>d50db495-b481-4351-b7a0-3cd220e4ff8e</td></tr><tr><td style='border: 1px solid #dddddd'>2025-02-17 06:09:14.344839+00:00</td><td style='border: 1px solid #dddddd'>precision</td><td style='border: 1px solid #dddddd'>5adab0c8-0ae8-48fe-98a2-5418c02f4747</td><td style='border: 1px solid #dddddd'>0.3106796116504854</td><td style='border: 1px solid #dddddd'>None</td><td style='border: 1px solid #dddddd'>None</td><td style='border: 1px solid #dddddd'>['model_type:original']</td><td style='border: 1px solid #dddddd'>quality</td><td style='border: 1px solid #dddddd'>4fc26f94-0d7c-48be-8caf-3fc647c4ea90</td><td style='border: 1px solid #dddddd'>a577ac88-fd5c-4e5f-a776-34f06008859f</td><td style='border: 1px solid #dddddd'>subscription</td><td style='border: 1px solid #dddddd'>d50db495-b481-4351-b7a0-3cd220e4ff8e</td></tr><tr><td style='border: 1px solid #dddddd'>2025-02-17 06:09:14.344839+00:00</td><td style='border: 1px solid #dddddd'>f1_measure</td><td style='border: 1px solid #dddddd'>5adab0c8-0ae8-48fe-98a2-5418c02f4747</td><td style='border: 1px solid #dddddd'>0.1509433962264151</td><td style='border: 1px solid #dddddd'>None</td><td style='border: 1px solid #dddddd'>None</td><td style='border: 1px solid #dddddd'>['model_type:original']</td><td style='border: 1px solid #dddddd'>quality</td><td style='border: 1px solid #dddddd'>4fc26f94-0d7c-48be-8caf-3fc647c4ea90</td><td style='border: 1px solid #dddddd'>a577ac88-fd5c-4e5f-a776-34f06008859f</td><td style='border: 1px solid #dddddd'>subscription</td><td style='border: 1px solid #dddddd'>d50db495-b481-4351-b7a0-3cd220e4ff8e</td></tr><tr><td style='border: 1px solid #dddddd'>2025-02-17 06:09:14.344839+00:00</td><td style='border: 1px solid #dddddd'>accuracy</td><td style='border: 1px solid #dddddd'>5adab0c8-0ae8-48fe-98a2-5418c02f4747</td><td style='border: 1px solid #dddddd'>0.64</td><td style='border: 1px solid #dddddd'>None</td><td style='border: 1px solid #dddddd'>None</td><td style='border: 1px solid #dddddd'>['model_type:original']</td><td style='border: 1px solid #dddddd'>quality</td><td style='border: 1px solid #dddddd'>4fc26f94-0d7c-48be-8caf-3fc647c4ea90</td><td style='border: 1px solid #dddddd'>a577ac88-fd5c-4e5f-a776-34f06008859f</td><td style='border: 1px solid #dddddd'>subscription</td><td style='border: 1px solid #dddddd'>d50db495-b481-4351-b7a0-3cd220e4ff8e</td></tr><tr><td style='border: 1px solid #dddddd'>2025-02-17 06:09:14.344839+00:00</td><td style='border: 1px solid #dddddd'>log_loss</td><td style='border: 1px solid #dddddd'>5adab0c8-0ae8-48fe-98a2-5418c02f4747</td><td style='border: 1px solid #dddddd'>0.6580384153493594</td><td style='border: 1px solid #dddddd'>None</td><td style='border: 1px solid #dddddd'>None</td><td style='border: 1px solid #dddddd'>['model_type:original']</td><td style='border: 1px solid #dddddd'>quality</td><td style='border: 1px solid #dddddd'>4fc26f94-0d7c-48be-8caf-3fc647c4ea90</td><td style='border: 1px solid #dddddd'>a577ac88-fd5c-4e5f-a776-34f06008859f</td><td style='border: 1px solid #dddddd'>subscription</td><td style='border: 1px solid #dddddd'>d50db495-b481-4351-b7a0-3cd220e4ff8e</td></tr><tr><td style='border: 1px solid #dddddd'>2025-02-17 06:09:14.344839+00:00</td><td style='border: 1px solid #dddddd'>false_positive_rate</td><td style='border: 1px solid #dddddd'>5adab0c8-0ae8-48fe-98a2-5418c02f4747</td><td style='border: 1px solid #dddddd'>0.10456553755522828</td><td style='border: 1px solid #dddddd'>None</td><td style='border: 1px solid #dddddd'>None</td><td style='border: 1px solid #dddddd'>['model_type:original']</td><td style='border: 1px solid #dddddd'>quality</td><td style='border: 1px solid #dddddd'>4fc26f94-0d7c-48be-8caf-3fc647c4ea90</td><td style='border: 1px solid #dddddd'>a577ac88-fd5c-4e5f-a776-34f06008859f</td><td style='border: 1px solid #dddddd'>subscription</td><td style='border: 1px solid #dddddd'>d50db495-b481-4351-b7a0-3cd220e4ff8e</td></tr><tr><td style='border: 1px solid #dddddd'>2025-02-17 06:09:14.344839+00:00</td><td style='border: 1px solid #dddddd'>area_under_pr</td><td style='border: 1px solid #dddddd'>5adab0c8-0ae8-48fe-98a2-5418c02f4747</td><td style='border: 1px solid #dddddd'>0.3153253939448931</td><td style='border: 1px solid #dddddd'>None</td><td style='border: 1px solid #dddddd'>None</td><td style='border: 1px solid #dddddd'>['model_type:original']</td><td style='border: 1px solid #dddddd'>quality</td><td style='border: 1px solid #dddddd'>4fc26f94-0d7c-48be-8caf-3fc647c4ea90</td><td style='border: 1px solid #dddddd'>a577ac88-fd5c-4e5f-a776-34f06008859f</td><td style='border: 1px solid #dddddd'>subscription</td><td style='border: 1px solid #dddddd'>d50db495-b481-4351-b7a0-3cd220e4ff8e</td></tr><tr><td style='border: 1px solid #dddddd'>2025-02-17 06:09:14.344839+00:00</td><td style='border: 1px solid #dddddd'>recall</td><td style='border: 1px solid #dddddd'>5adab0c8-0ae8-48fe-98a2-5418c02f4747</td><td style='border: 1px solid #dddddd'>0.09968847352024922</td><td style='border: 1px solid #dddddd'>None</td><td style='border: 1px solid #dddddd'>None</td><td style='border: 1px solid #dddddd'>['model_type:original']</td><td style='border: 1px solid #dddddd'>quality</td><td style='border: 1px solid #dddddd'>4fc26f94-0d7c-48be-8caf-3fc647c4ea90</td><td style='border: 1px solid #dddddd'>a577ac88-fd5c-4e5f-a776-34f06008859f</td><td style='border: 1px solid #dddddd'>subscription</td><td style='border: 1px solid #dddddd'>d50db495-b481-4351-b7a0-3cd220e4ff8e</td></tr>\n",
       "            </table>\n",
       "        </body>\n",
       "        </HTML>"
      ],
      "text/plain": [
       "<IPython.core.display.HTML object>"
      ]
     },
     "metadata": {},
     "output_type": "display_data"
    }
   ],
   "source": [
    "print(monitoring_run_details.entity)\n",
    "wos_client.monitor_instances.show_metrics(monitor_instance_id=quality_monitor_instance_id)"
   ]
  },
  {
   "cell_type": "markdown",
   "metadata": {
    "id": "5090f31b-9f4d-452d-9ef6-64c42f8f571e"
   },
   "source": [
    "# 5. Drift monitoring <a name=\"drift\"></a>"
   ]
  },
  {
   "cell_type": "markdown",
   "metadata": {
    "id": "fc719938-796f-48d9-9cb3-32e278223a75"
   },
   "source": [
    "### Enable the drift monitor\n",
    "\n",
    "In the following code cell, type a path to the drift configuration tar ball."
   ]
  },
  {
   "cell_type": "code",
   "execution_count": 314,
   "metadata": {
    "id": "b7bb8899-cce6-43d9-ae51-11a2994978b9"
   },
   "outputs": [
    {
     "data": {
      "text/plain": [
       "{'file_name': 'drift_archive.tar.gz',\n",
       " 'summary': ['loaded data', 'saved to file']}"
      ]
     },
     "execution_count": 314,
     "metadata": {},
     "output_type": "execute_result"
    }
   ],
   "source": [
    "from ibm_watson_studio_lib import access_project_or_space\n",
    "wslib = access_project_or_space()\n",
    "wslib.download_file(\"drift_archive.tar.gz\")"
   ]
  },
  {
   "cell_type": "code",
   "execution_count": 315,
   "metadata": {
    "id": "54a4a63e-7cbc-4e0c-862b-d485105e1cfa"
   },
   "outputs": [
    {
     "data": {
      "text/plain": [
       "{'data_constraints': {'id': 'eb7b77e5-29ab-4ac9-a60e-92a0fbfc2acc',\n",
       "  'version': '0.02_batch',\n",
       "  'columns': [{'name': 'Age',\n",
       "    'dtype': 'numeric_discrete',\n",
       "    'count': 1000,\n",
       "    'approx_count_distinct': 0,\n",
       "    'sparse': False,\n",
       "    'skip_learning': False},\n",
       "   {'name': 'CheckingStatus',\n",
       "    'dtype': 'categorical',\n",
       "    'count': 1000,\n",
       "    'approx_count_distinct': 0,\n",
       "    'sparse': False,\n",
       "    'skip_learning': False},\n",
       "   {'name': 'CreditHistory',\n",
       "    'dtype': 'categorical',\n",
       "    'count': 1000,\n",
       "    'approx_count_distinct': 0,\n",
       "    'sparse': False,\n",
       "    'skip_learning': False},\n",
       "   {'name': 'CurrentResidenceDuration',\n",
       "    'dtype': 'numeric_discrete',\n",
       "    'count': 1000,\n",
       "    'approx_count_distinct': 0,\n",
       "    'sparse': False,\n",
       "    'skip_learning': False},\n",
       "   {'name': 'Dependents',\n",
       "    'dtype': 'numeric_discrete',\n",
       "    'count': 1000,\n",
       "    'approx_count_distinct': 0,\n",
       "    'sparse': False,\n",
       "    'skip_learning': False},\n",
       "   {'name': 'EmploymentDuration',\n",
       "    'dtype': 'categorical',\n",
       "    'count': 1000,\n",
       "    'approx_count_distinct': 0,\n",
       "    'sparse': False,\n",
       "    'skip_learning': False},\n",
       "   {'name': 'ExistingCreditsCount',\n",
       "    'dtype': 'numeric_discrete',\n",
       "    'count': 1000,\n",
       "    'approx_count_distinct': 0,\n",
       "    'sparse': False,\n",
       "    'skip_learning': False},\n",
       "   {'name': 'ExistingSavings',\n",
       "    'dtype': 'categorical',\n",
       "    'count': 1000,\n",
       "    'approx_count_distinct': 0,\n",
       "    'sparse': False,\n",
       "    'skip_learning': False},\n",
       "   {'name': 'ForeignWorker',\n",
       "    'dtype': 'categorical',\n",
       "    'count': 1000,\n",
       "    'approx_count_distinct': 0,\n",
       "    'sparse': False,\n",
       "    'skip_learning': False},\n",
       "   {'name': 'Housing',\n",
       "    'dtype': 'categorical',\n",
       "    'count': 1000,\n",
       "    'approx_count_distinct': 0,\n",
       "    'sparse': False,\n",
       "    'skip_learning': False},\n",
       "   {'name': 'InstallmentPercent',\n",
       "    'dtype': 'numeric_discrete',\n",
       "    'count': 1000,\n",
       "    'approx_count_distinct': 0,\n",
       "    'sparse': False,\n",
       "    'skip_learning': False},\n",
       "   {'name': 'InstallmentPlans',\n",
       "    'dtype': 'categorical',\n",
       "    'count': 1000,\n",
       "    'approx_count_distinct': 0,\n",
       "    'sparse': False,\n",
       "    'skip_learning': False},\n",
       "   {'name': 'Job',\n",
       "    'dtype': 'categorical',\n",
       "    'count': 1000,\n",
       "    'approx_count_distinct': 0,\n",
       "    'sparse': False,\n",
       "    'skip_learning': False},\n",
       "   {'name': 'LoanAmount',\n",
       "    'dtype': 'numeric_continuous',\n",
       "    'count': 1000,\n",
       "    'approx_count_distinct': 0,\n",
       "    'sparse': False,\n",
       "    'skip_learning': True,\n",
       "    'skip_learning_reason': 'Total bins[29] are more than the specified limit[9] even after discarding off tails. Please consider changing the tail_discard_threshold parameter.'},\n",
       "   {'name': 'LoanDuration',\n",
       "    'dtype': 'numeric_discrete',\n",
       "    'count': 1000,\n",
       "    'approx_count_distinct': 0,\n",
       "    'sparse': False,\n",
       "    'skip_learning': False},\n",
       "   {'name': 'LoanPurpose',\n",
       "    'dtype': 'categorical',\n",
       "    'count': 1000,\n",
       "    'approx_count_distinct': 0,\n",
       "    'sparse': False,\n",
       "    'skip_learning': False},\n",
       "   {'name': 'OthersOnLoan',\n",
       "    'dtype': 'categorical',\n",
       "    'count': 1000,\n",
       "    'approx_count_distinct': 0,\n",
       "    'sparse': False,\n",
       "    'skip_learning': False},\n",
       "   {'name': 'OwnsProperty',\n",
       "    'dtype': 'categorical',\n",
       "    'count': 1000,\n",
       "    'approx_count_distinct': 0,\n",
       "    'sparse': False,\n",
       "    'skip_learning': False},\n",
       "   {'name': 'Sex',\n",
       "    'dtype': 'categorical',\n",
       "    'count': 1000,\n",
       "    'approx_count_distinct': 0,\n",
       "    'sparse': False,\n",
       "    'skip_learning': False},\n",
       "   {'name': 'Telephone',\n",
       "    'dtype': 'categorical',\n",
       "    'count': 1000,\n",
       "    'approx_count_distinct': 0,\n",
       "    'sparse': False,\n",
       "    'skip_learning': False}],\n",
       "  'constraints': [{'name': 'categorical_distribution_constraint',\n",
       "    'id': '34a0cf8306b7b5f9ea16c9c85aa6c2cd9c3c7a7baf378b3b3a586cc5',\n",
       "    'kind': 'single_column',\n",
       "    'columns': ['Age'],\n",
       "    'content': {'frequency_distribution': {'19': 88,\n",
       "      '20': 15,\n",
       "      '21': 12,\n",
       "      '22': 15,\n",
       "      '23': 14,\n",
       "      '24': 17,\n",
       "      '25': 25,\n",
       "      '26': 25,\n",
       "      '27': 25,\n",
       "      '28': 28,\n",
       "      '29': 35,\n",
       "      '30': 29,\n",
       "      '31': 30,\n",
       "      '32': 34,\n",
       "      '33': 34,\n",
       "      '34': 49,\n",
       "      '35': 37,\n",
       "      '36': 33,\n",
       "      '37': 38,\n",
       "      '38': 27,\n",
       "      '39': 28,\n",
       "      '40': 34,\n",
       "      '41': 27,\n",
       "      '42': 33,\n",
       "      '43': 28,\n",
       "      '44': 27,\n",
       "      '45': 18,\n",
       "      '46': 15,\n",
       "      '47': 33,\n",
       "      '48': 29,\n",
       "      '49': 14,\n",
       "      '50': 15,\n",
       "      '51': 13,\n",
       "      '52': 16,\n",
       "      '53': 9,\n",
       "      '54': 9,\n",
       "      '55': 6,\n",
       "      '56': 7,\n",
       "      '57': 8,\n",
       "      '58': 4,\n",
       "      '59': 2,\n",
       "      '60': 4,\n",
       "      '61': 4,\n",
       "      '62': 1,\n",
       "      '65': 2,\n",
       "      '66': 1,\n",
       "      '70': 2,\n",
       "      '71': 1}}},\n",
       "   {'name': 'categorical_distribution_constraint',\n",
       "    'id': 'fce31d6120bdc96431033d7971e1632cc9badd3c60363ae4feed38b3',\n",
       "    'kind': 'single_column',\n",
       "    'columns': ['CheckingStatus'],\n",
       "    'content': {'frequency_distribution': {'0_to_200': 259,\n",
       "      'greater_200': 82,\n",
       "      'less_0': 272,\n",
       "      'no_checking': 387}}},\n",
       "   {'name': 'categorical_distribution_constraint',\n",
       "    'id': 'b96568d7eae6a9ab785269102bdba9602b4caf2f76b042643b4f6a0d',\n",
       "    'kind': 'single_column',\n",
       "    'columns': ['CreditHistory'],\n",
       "    'content': {'frequency_distribution': {'all_credits_paid_back': 149,\n",
       "      'credits_paid_to_date': 320,\n",
       "      'no_credits': 20,\n",
       "      'outstanding_credit': 176,\n",
       "      'prior_payments_delayed': 335}}},\n",
       "   {'name': 'categorical_distribution_constraint',\n",
       "    'id': '5b2f519cfb9bc33330f9b405c3c88df715a59b1ddf32dce0ec08b636',\n",
       "    'kind': 'single_column',\n",
       "    'columns': ['CurrentResidenceDuration'],\n",
       "    'content': {'frequency_distribution': {'1': 129,\n",
       "      '2': 249,\n",
       "      '3': 361,\n",
       "      '4': 202,\n",
       "      '5': 58,\n",
       "      '6': 1}}},\n",
       "   {'name': 'categorical_distribution_constraint',\n",
       "    'id': 'c855980121069a93f9950e12b688a1ba9e9676e1325f537107d7f68b',\n",
       "    'kind': 'single_column',\n",
       "    'columns': ['Dependents'],\n",
       "    'content': {'frequency_distribution': {'1': 834, '2': 166}}},\n",
       "   {'name': 'categorical_distribution_constraint',\n",
       "    'id': 'a71f1417ba7f9516ae6bda8e8e28cef82447115f714142d523f04552',\n",
       "    'kind': 'single_column',\n",
       "    'columns': ['EmploymentDuration'],\n",
       "    'content': {'frequency_distribution': {'1_to_4': 297,\n",
       "      '4_to_7': 292,\n",
       "      'greater_7': 164,\n",
       "      'less_1': 185,\n",
       "      'unemployed': 62}}},\n",
       "   {'name': 'categorical_distribution_constraint',\n",
       "    'id': '44ec7c400aafe0ff4b1fb2381998a5aafd2ddf2d441da15eea674ece',\n",
       "    'kind': 'single_column',\n",
       "    'columns': ['ExistingCreditsCount'],\n",
       "    'content': {'frequency_distribution': {'1': 561,\n",
       "      '2': 406,\n",
       "      '3': 32,\n",
       "      '4': 1}}},\n",
       "   {'name': 'categorical_distribution_constraint',\n",
       "    'id': 'b3b66c873a880fb622030fee5cf5368ac03bdf1428d3250c463ed1a9',\n",
       "    'kind': 'single_column',\n",
       "    'columns': ['ExistingSavings'],\n",
       "    'content': {'frequency_distribution': {'100_to_500': 222,\n",
       "      '500_to_1000': 220,\n",
       "      'greater_1000': 111,\n",
       "      'less_100': 380,\n",
       "      'unknown': 67}}},\n",
       "   {'name': 'categorical_distribution_constraint',\n",
       "    'id': 'cab9fd7b97a4a330cdc560cc2b7c8f08043294481daf833b821966ab',\n",
       "    'kind': 'single_column',\n",
       "    'columns': ['ForeignWorker'],\n",
       "    'content': {'frequency_distribution': {'no': 27, 'yes': 973}}},\n",
       "   {'name': 'categorical_distribution_constraint',\n",
       "    'id': '561d62deccf81876924b3bc8cc6759ef66529f051c902dfb46815b86',\n",
       "    'kind': 'single_column',\n",
       "    'columns': ['Housing'],\n",
       "    'content': {'frequency_distribution': {'free': 155,\n",
       "      'own': 635,\n",
       "      'rent': 210}}},\n",
       "   {'name': 'categorical_distribution_constraint',\n",
       "    'id': 'ac0dbe11fedbf3b8f2ce2293760680554edf0cf4bc9168aabdb51375',\n",
       "    'kind': 'single_column',\n",
       "    'columns': ['InstallmentPercent'],\n",
       "    'content': {'frequency_distribution': {'1': 127,\n",
       "      '2': 227,\n",
       "      '3': 304,\n",
       "      '4': 245,\n",
       "      '5': 92,\n",
       "      '6': 5}}},\n",
       "   {'name': 'categorical_distribution_constraint',\n",
       "    'id': '81302bdcde5c291c5f06d5fdcf9a2121c3a8dbd703d47538766b0826',\n",
       "    'kind': 'single_column',\n",
       "    'columns': ['InstallmentPlans'],\n",
       "    'content': {'frequency_distribution': {'bank': 81,\n",
       "      'none': 700,\n",
       "      'stores': 219}}},\n",
       "   {'name': 'categorical_distribution_constraint',\n",
       "    'id': '66c27fbe48cd81e41d174e684717b570acbc0a1d6ca9266271c94df8',\n",
       "    'kind': 'single_column',\n",
       "    'columns': ['Job'],\n",
       "    'content': {'frequency_distribution': {'management_self-employed': 133,\n",
       "      'skilled': 685,\n",
       "      'unemployed': 59,\n",
       "      'unskilled': 123}}},\n",
       "   {'name': 'categorical_distribution_constraint',\n",
       "    'id': 'ea5135f8720b99037b990e890f5fbd451d822b31acb27dccae76e6fb',\n",
       "    'kind': 'single_column',\n",
       "    'columns': ['LoanDuration'],\n",
       "    'content': {'frequency_distribution': {'4': 94,\n",
       "      '5': 16,\n",
       "      '6': 8,\n",
       "      '7': 9,\n",
       "      '8': 33,\n",
       "      '9': 30,\n",
       "      '10': 25,\n",
       "      '11': 26,\n",
       "      '12': 24,\n",
       "      '13': 28,\n",
       "      '14': 35,\n",
       "      '15': 36,\n",
       "      '16': 30,\n",
       "      '17': 32,\n",
       "      '18': 17,\n",
       "      '19': 22,\n",
       "      '20': 28,\n",
       "      '21': 16,\n",
       "      '22': 15,\n",
       "      '23': 27,\n",
       "      '24': 39,\n",
       "      '25': 37,\n",
       "      '26': 31,\n",
       "      '27': 34,\n",
       "      '28': 27,\n",
       "      '29': 27,\n",
       "      '30': 35,\n",
       "      '31': 18,\n",
       "      '32': 27,\n",
       "      '33': 26,\n",
       "      '34': 15,\n",
       "      '35': 25,\n",
       "      '36': 19,\n",
       "      '37': 20,\n",
       "      '38': 11,\n",
       "      '39': 8,\n",
       "      '40': 10,\n",
       "      '41': 11,\n",
       "      '42': 6,\n",
       "      '43': 3,\n",
       "      '44': 5,\n",
       "      '45': 3,\n",
       "      '47': 1,\n",
       "      '48': 3,\n",
       "      '50': 2,\n",
       "      '51': 1,\n",
       "      '52': 1,\n",
       "      '56': 1,\n",
       "      '59': 1,\n",
       "      '60': 1,\n",
       "      '64': 1}}},\n",
       "   {'name': 'categorical_distribution_constraint',\n",
       "    'id': '113c92187e5cd61c233762648ed4644f6b01948b3766929d71493613',\n",
       "    'kind': 'single_column',\n",
       "    'columns': ['LoanPurpose'],\n",
       "    'content': {'frequency_distribution': {'appliances': 104,\n",
       "      'business': 29,\n",
       "      'car_new': 187,\n",
       "      'car_used': 178,\n",
       "      'education': 26,\n",
       "      'furniture': 180,\n",
       "      'other': 21,\n",
       "      'radio_tv': 145,\n",
       "      'repairs': 51,\n",
       "      'retraining': 31,\n",
       "      'vacation': 48}}},\n",
       "   {'name': 'categorical_distribution_constraint',\n",
       "    'id': 'ffac43520cec6a4fd539b01c4006a93aadd51afb68506179d6bdf0ba',\n",
       "    'kind': 'single_column',\n",
       "    'columns': ['OthersOnLoan'],\n",
       "    'content': {'frequency_distribution': {'co-applicant': 146,\n",
       "      'guarantor': 26,\n",
       "      'none': 828}}},\n",
       "   {'name': 'categorical_distribution_constraint',\n",
       "    'id': 'f6b42564c05751bedffd88155195f0758d1dfcaca84ef591bd08ca5f',\n",
       "    'kind': 'single_column',\n",
       "    'columns': ['OwnsProperty'],\n",
       "    'content': {'frequency_distribution': {'car_other': 294,\n",
       "      'real_estate': 213,\n",
       "      'savings_insurance': 335,\n",
       "      'unknown': 158}}},\n",
       "   {'name': 'categorical_distribution_constraint',\n",
       "    'id': 'e927819beaef28b63ba072c1d1fe01c2fc1733457d473e33b709c4ae',\n",
       "    'kind': 'single_column',\n",
       "    'columns': ['Sex'],\n",
       "    'content': {'frequency_distribution': {'female': 372, 'male': 628}}},\n",
       "   {'name': 'categorical_distribution_constraint',\n",
       "    'id': 'c5a847462ca34ec1616bc192465747cd75fbb428a343cb9ae2e2b74b',\n",
       "    'kind': 'single_column',\n",
       "    'columns': ['Telephone'],\n",
       "    'content': {'frequency_distribution': {'none': 580, 'yes': 420}}}],\n",
       "  'user_inputs': {'enable_two_col_learner': True,\n",
       "   'categorical_unique_threshold': 0.8,\n",
       "   'max_distinct_categories': 100000,\n",
       "   'max_ranges_modifier': 0.01,\n",
       "   'tail_discard_threshold': 0.01,\n",
       "   'user_overrides': []}},\n",
       " 'schema': {'id': 'eb7b77e5-29ab-4ac9-a60e-92a0fbfc2acc',\n",
       "  'columns': {'scoring_id': {'type': 'string',\n",
       "    'not_null': True,\n",
       "    'unique': True,\n",
       "    'length': 64},\n",
       "   'scoring_timestamp': {'type': 'timestamp',\n",
       "    'not_null': True,\n",
       "    'unique': False},\n",
       "   'constraints_generation_id': {'type': 'string',\n",
       "    'not_null': True,\n",
       "    'unique': False,\n",
       "    'length': 40},\n",
       "   'run_id': {'type': 'string',\n",
       "    'not_null': True,\n",
       "    'unique': False,\n",
       "    'length': 40},\n",
       "   'is_model_drift': {'type': 'boolean',\n",
       "    'not_null': True,\n",
       "    'unique': False,\n",
       "    'default': False},\n",
       "   'drift_model_confidence': {'type': 'float',\n",
       "    'not_null': False,\n",
       "    'unique': False},\n",
       "   'is_data_drift': {'type': 'boolean',\n",
       "    'not_null': True,\n",
       "    'unique': False,\n",
       "    'default': False},\n",
       "   'categorical_distribution_constraint': {'type': 'string',\n",
       "    'not_null': False,\n",
       "    'unique': False,\n",
       "    'length': 1000000},\n",
       "   'numeric_range_constraint': {'type': 'string',\n",
       "    'not_null': False,\n",
       "    'unique': False,\n",
       "    'length': 1000000},\n",
       "   'catcat_distribution_constraint': {'type': 'string',\n",
       "    'not_null': False,\n",
       "    'unique': False,\n",
       "    'length': 1000000},\n",
       "   'catnum_range_constraint': {'type': 'string',\n",
       "    'not_null': False,\n",
       "    'unique': False,\n",
       "    'length': 1000000}},\n",
       "  'bitmap': {'categorical_distribution_constraint': ['34a0cf8306b7b5f9ea16c9c85aa6c2cd9c3c7a7baf378b3b3a586cc5',\n",
       "    'fce31d6120bdc96431033d7971e1632cc9badd3c60363ae4feed38b3',\n",
       "    'b96568d7eae6a9ab785269102bdba9602b4caf2f76b042643b4f6a0d',\n",
       "    '5b2f519cfb9bc33330f9b405c3c88df715a59b1ddf32dce0ec08b636',\n",
       "    'c855980121069a93f9950e12b688a1ba9e9676e1325f537107d7f68b',\n",
       "    'a71f1417ba7f9516ae6bda8e8e28cef82447115f714142d523f04552',\n",
       "    '44ec7c400aafe0ff4b1fb2381998a5aafd2ddf2d441da15eea674ece',\n",
       "    'b3b66c873a880fb622030fee5cf5368ac03bdf1428d3250c463ed1a9',\n",
       "    'cab9fd7b97a4a330cdc560cc2b7c8f08043294481daf833b821966ab',\n",
       "    '561d62deccf81876924b3bc8cc6759ef66529f051c902dfb46815b86',\n",
       "    'ac0dbe11fedbf3b8f2ce2293760680554edf0cf4bc9168aabdb51375',\n",
       "    '81302bdcde5c291c5f06d5fdcf9a2121c3a8dbd703d47538766b0826',\n",
       "    '66c27fbe48cd81e41d174e684717b570acbc0a1d6ca9266271c94df8',\n",
       "    'ea5135f8720b99037b990e890f5fbd451d822b31acb27dccae76e6fb',\n",
       "    '113c92187e5cd61c233762648ed4644f6b01948b3766929d71493613',\n",
       "    'ffac43520cec6a4fd539b01c4006a93aadd51afb68506179d6bdf0ba',\n",
       "    'f6b42564c05751bedffd88155195f0758d1dfcaca84ef591bd08ca5f',\n",
       "    'e927819beaef28b63ba072c1d1fe01c2fc1733457d473e33b709c4ae',\n",
       "    'c5a847462ca34ec1616bc192465747cd75fbb428a343cb9ae2e2b74b'],\n",
       "   'numeric_range_constraint': [],\n",
       "   'catcat_distribution_constraint': [],\n",
       "   'catnum_range_constraint': []}},\n",
       " 'drift_model_properties': {'build_id': 'c153c13c741140e6a80cfe5d7d5852ba',\n",
       "  'drift_model_version': 'spark-3.4.2',\n",
       "  'feature_columns': ['CheckingStatus',\n",
       "   'LoanDuration',\n",
       "   'CreditHistory',\n",
       "   'LoanPurpose',\n",
       "   'LoanAmount',\n",
       "   'ExistingSavings',\n",
       "   'EmploymentDuration',\n",
       "   'InstallmentPercent',\n",
       "   'Sex',\n",
       "   'OthersOnLoan',\n",
       "   'CurrentResidenceDuration',\n",
       "   'OwnsProperty',\n",
       "   'Age',\n",
       "   'InstallmentPlans',\n",
       "   'Housing',\n",
       "   'ExistingCreditsCount',\n",
       "   'Job',\n",
       "   'Dependents',\n",
       "   'Telephone',\n",
       "   'ForeignWorker'],\n",
       "  'categorical_columns': ['CheckingStatus',\n",
       "   'CreditHistory',\n",
       "   'LoanPurpose',\n",
       "   'ExistingSavings',\n",
       "   'EmploymentDuration',\n",
       "   'Sex',\n",
       "   'OthersOnLoan',\n",
       "   'OwnsProperty',\n",
       "   'InstallmentPlans',\n",
       "   'Housing',\n",
       "   'Job',\n",
       "   'Telephone',\n",
       "   'ForeignWorker'],\n",
       "  'class_labels': ['No Risk', 'Risk'],\n",
       "  'prediction': 'prediction',\n",
       "  'predicted_labels': ['No Risk', 'Risk'],\n",
       "  'probability': 'probability',\n",
       "  'ddm_features': ['CheckingStatus',\n",
       "   'LoanDuration',\n",
       "   'CreditHistory',\n",
       "   'LoanPurpose',\n",
       "   'LoanAmount',\n",
       "   'ExistingSavings',\n",
       "   'EmploymentDuration',\n",
       "   'InstallmentPercent',\n",
       "   'Sex',\n",
       "   'OthersOnLoan',\n",
       "   'CurrentResidenceDuration',\n",
       "   'OwnsProperty',\n",
       "   'Age',\n",
       "   'InstallmentPlans',\n",
       "   'Housing',\n",
       "   'ExistingCreditsCount',\n",
       "   'Job',\n",
       "   'Dependents',\n",
       "   'Telephone',\n",
       "   'ForeignWorker',\n",
       "   'probability_c153c13c741140e6a80cfe5d7d5852ba_0',\n",
       "   'probability_c153c13c741140e6a80cfe5d7d5852ba_1',\n",
       "   'probability_diff_c153c13c741140e6a80cfe5d7d5852ba'],\n",
       "  'ddm_prediction': 'prediction_c153c13c741140e6a80cfe5d7d5852ba',\n",
       "  'ddm_probability_difference': 'probability_diff_c153c13c741140e6a80cfe5d7d5852ba',\n",
       "  'base_model_accuracy': 0.6390243902439025,\n",
       "  'base_predicted_accuracy': 0.8536585365853658,\n",
       "  'drift_model_path': '/openscale/Configuration_Job/a70d9125-1503-48c7-b936-315779763966/output/id/drift_detection_model'}}"
      ]
     },
     "execution_count": 315,
     "metadata": {},
     "output_type": "execute_result"
    }
   ],
   "source": [
    "wos_client.monitor_instances.upload_drift_model(\n",
    "    model_path=\"drift_archive.tar.gz\",\n",
    "    data_mart_id=data_mart_id,\n",
    "    subscription_id=subscription_id\n",
    ").result"
   ]
  },
  {
   "cell_type": "markdown",
   "metadata": {
    "id": "cd397c89-d2d2-45d7-b1f7-6a09cf94dab3"
   },
   "source": [
    "In the following code cell, default values are set for the drift monitor. You can change the default values by updating the values in the `parameters` section. The `min_samples` parameter controls the number of minimum records required in an evaluation time window for drift analysis to be completed. The `drift_threshold` parameter sets the threshold in decimal format for the drift percentage to trigger an alert. The `train_drift_model` parameter controls whether to learn drift artefacts (drift model training and data constraints learning) by IBM Watson OpenScale via Spark job accessing training data table."
   ]
  },
  {
   "cell_type": "code",
   "execution_count": 316,
   "metadata": {
    "id": "ad99a513-6486-4920-8993-23eb1ddade27"
   },
   "outputs": [
    {
     "name": "stdout",
     "output_type": "stream",
     "text": [
      "{\n",
      "  \"metadata\": {\n",
      "    \"id\": \"e770a137-bc26-4055-9ab2-84eafeab06b8\",\n",
      "    \"crn\": \"crn:v1:bluemix:public:aiopenscale:us-south:a/na:00000000-0000-0000-0000-000000000000:monitor_instance:e770a137-bc26-4055-9ab2-84eafeab06b8\",\n",
      "    \"url\": \"/v2/monitor_instances/e770a137-bc26-4055-9ab2-84eafeab06b8\",\n",
      "    \"created_at\": \"2025-02-17T06:09:44.345000Z\",\n",
      "    \"created_by\": \"cpadmin\"\n",
      "  },\n",
      "  \"entity\": {\n",
      "    \"data_mart_id\": \"00000000-0000-0000-0000-000000000000\",\n",
      "    \"monitor_definition_id\": \"drift\",\n",
      "    \"target\": {\n",
      "      \"target_type\": \"subscription\",\n",
      "      \"target_id\": \"d50db495-b481-4351-b7a0-3cd220e4ff8e\"\n",
      "    },\n",
      "    \"parameters\": {\n",
      "      \"drift_threshold\": 0.05,\n",
      "      \"min_samples\": 100,\n",
      "      \"train_drift_model\": false\n",
      "    },\n",
      "    \"thresholds\": [\n",
      "      {\n",
      "        \"metric_id\": \"drift_magnitude\",\n",
      "        \"type\": \"upper_limit\",\n",
      "        \"value\": 0.5\n",
      "      },\n",
      "      {\n",
      "        \"metric_id\": \"predicted_accuracy\",\n",
      "        \"type\": \"upper_limit\",\n",
      "        \"value\": 0.8\n",
      "      },\n",
      "      {\n",
      "        \"metric_id\": \"data_drift_magnitude\",\n",
      "        \"type\": \"upper_limit\",\n",
      "        \"value\": 0.1\n",
      "      }\n",
      "    ],\n",
      "    \"schedule\": {\n",
      "      \"repeat_interval\": 1,\n",
      "      \"repeat_unit\": \"week\",\n",
      "      \"start_time\": {\n",
      "        \"type\": \"relative\",\n",
      "        \"delay_unit\": \"minute\",\n",
      "        \"delay\": 10\n",
      "      },\n",
      "      \"repeat_type\": \"week\"\n",
      "    },\n",
      "    \"status\": {\n",
      "      \"state\": \"preparing\"\n",
      "    }\n",
      "  }\n",
      "}\n"
     ]
    }
   ],
   "source": [
    "import time\n",
    "\n",
    "target = Target(\n",
    "    target_type=TargetTypes.SUBSCRIPTION,\n",
    "    target_id=subscription_id\n",
    ")\n",
    "\n",
    "parameters = {\n",
    "    \"min_samples\": 100,\n",
    "    \"drift_threshold\": 0.05,\n",
    "    \"train_drift_model\": False\n",
    "}\n",
    "\n",
    "drift_monitor_details = wos_client.monitor_instances.create(\n",
    "    data_mart_id=data_mart_id,\n",
    "    monitor_definition_id=wos_client.monitor_definitions.MONITORS.DRIFT.ID,\n",
    "    target=target,\n",
    "    parameters=parameters\n",
    ").result\n",
    "\n",
    "drift_monitor_instance_id = drift_monitor_details.metadata.id\n",
    "print(drift_monitor_details)"
   ]
  },
  {
   "cell_type": "markdown",
   "metadata": {
    "id": "5b99f35c-ffbb-4232-9176-eff8d35df6c5"
   },
   "source": [
    "### Check monitor instance status"
   ]
  },
  {
   "cell_type": "code",
   "execution_count": 317,
   "metadata": {
    "id": "572aa9f5-afba-4b85-8f91-175802a1f1a8"
   },
   "outputs": [
    {
     "name": "stdout",
     "output_type": "stream",
     "text": [
      "06:09:44 preparing\n",
      "06:10:15 preparing\n",
      "06:10:45 preparing\n",
      "06:11:15 preparing\n",
      "06:11:45 preparing\n",
      "06:12:15 active\n"
     ]
    },
    {
     "name": "stdout",
     "output_type": "stream",
     "text": [
      "22:47:48 preparing\n"
     ]
    },
    {
     "name": "stdout",
     "output_type": "stream",
     "text": [
      "22:48:18 preparing\n"
     ]
    },
    {
     "name": "stdout",
     "output_type": "stream",
     "text": [
      "22:48:48 error\n"
     ]
    }
   ],
   "source": [
    "drift_status = None\n",
    "\n",
    "while drift_status not in (\"active\", \"error\"):\n",
    "    monitor_instance_details = wos_client.monitor_instances.get(monitor_instance_id=drift_monitor_instance_id).result\n",
    "    drift_status = monitor_instance_details.entity.status.state\n",
    "    if drift_status not in (\"active\", \"error\"):\n",
    "        print(datetime.utcnow().strftime('%H:%M:%S'), drift_status)\n",
    "        time.sleep(30)\n",
    "\n",
    "print(datetime.utcnow().strftime('%H:%M:%S'), drift_status)"
   ]
  },
  {
   "cell_type": "markdown",
   "metadata": {
    "id": "58a025e1-1a06-48d6-8eab-c8fcfd6f9809"
   },
   "source": [
    "### Run an on-demand evaluation\n",
    "Please make sure you have data in payload table in hive. Drift evaluation will use this data for its metrics computation."
   ]
  },
  {
   "cell_type": "code",
   "execution_count": 318,
   "metadata": {
    "id": "d5fb4af2-c40f-46f1-9b08-91b3b890571a"
   },
   "outputs": [
    {
     "name": "stdout",
     "output_type": "stream",
     "text": [
      "{\n",
      "  \"metadata\": {\n",
      "    \"id\": \"e770a137-bc26-4055-9ab2-84eafeab06b8\",\n",
      "    \"crn\": \"crn:v1:bluemix:public:aiopenscale:us-south:a/na:00000000-0000-0000-0000-000000000000:monitor_instance:e770a137-bc26-4055-9ab2-84eafeab06b8\",\n",
      "    \"url\": \"/v2/monitor_instances/e770a137-bc26-4055-9ab2-84eafeab06b8\",\n",
      "    \"created_at\": \"2025-02-17T06:09:44.345000Z\",\n",
      "    \"created_by\": \"cpadmin\",\n",
      "    \"modified_at\": \"2025-02-17T06:11:49.962000Z\",\n",
      "    \"modified_by\": \"internal-service\"\n",
      "  },\n",
      "  \"entity\": {\n",
      "    \"data_mart_id\": \"00000000-0000-0000-0000-000000000000\",\n",
      "    \"monitor_definition_id\": \"drift\",\n",
      "    \"target\": {\n",
      "      \"target_type\": \"subscription\",\n",
      "      \"target_id\": \"d50db495-b481-4351-b7a0-3cd220e4ff8e\"\n",
      "    },\n",
      "    \"parameters\": {\n",
      "      \"config_status\": {\n",
      "        \"model_name\": null,\n",
      "        \"state\": \"finished\"\n",
      "      },\n",
      "      \"data_drift_enabled\": true,\n",
      "      \"data_drift_threshold\": 0.1,\n",
      "      \"drift_buffer_range\": [\n",
      "        -4.5,\n",
      "        4.5\n",
      "      ],\n",
      "      \"drift_model_version\": null,\n",
      "      \"drift_threshold\": 0.05,\n",
      "      \"min_samples\": 100,\n",
      "      \"model_drift_enabled\": true,\n",
      "      \"table_schema\": {\n",
      "        \"fields\": [\n",
      "          {\n",
      "            \"length\": 64,\n",
      "            \"metadata\": {},\n",
      "            \"name\": \"scoring_id\",\n",
      "            \"nullable\": false,\n",
      "            \"type\": \"string\",\n",
      "            \"unique\": true\n",
      "          },\n",
      "          {\n",
      "            \"length\": null,\n",
      "            \"metadata\": {},\n",
      "            \"name\": \"scoring_timestamp\",\n",
      "            \"nullable\": false,\n",
      "            \"type\": \"timestamp\",\n",
      "            \"unique\": false\n",
      "          },\n",
      "          {\n",
      "            \"length\": 40,\n",
      "            \"metadata\": {},\n",
      "            \"name\": \"constraints_generation_id\",\n",
      "            \"nullable\": false,\n",
      "            \"type\": \"string\",\n",
      "            \"unique\": false\n",
      "          },\n",
      "          {\n",
      "            \"length\": 40,\n",
      "            \"metadata\": {},\n",
      "            \"name\": \"run_id\",\n",
      "            \"nullable\": false,\n",
      "            \"type\": \"string\",\n",
      "            \"unique\": false\n",
      "          },\n",
      "          {\n",
      "            \"length\": null,\n",
      "            \"metadata\": {},\n",
      "            \"name\": \"is_model_drift\",\n",
      "            \"nullable\": false,\n",
      "            \"type\": \"boolean\",\n",
      "            \"unique\": false\n",
      "          },\n",
      "          {\n",
      "            \"length\": null,\n",
      "            \"metadata\": {},\n",
      "            \"name\": \"drift_model_confidence\",\n",
      "            \"nullable\": true,\n",
      "            \"type\": \"float\",\n",
      "            \"unique\": false\n",
      "          },\n",
      "          {\n",
      "            \"length\": null,\n",
      "            \"metadata\": {},\n",
      "            \"name\": \"is_data_drift\",\n",
      "            \"nullable\": false,\n",
      "            \"type\": \"boolean\",\n",
      "            \"unique\": false\n",
      "          },\n",
      "          {\n",
      "            \"length\": 1000000,\n",
      "            \"metadata\": {},\n",
      "            \"name\": \"categorical_distribution_constraint\",\n",
      "            \"nullable\": true,\n",
      "            \"type\": \"string\",\n",
      "            \"unique\": false\n",
      "          },\n",
      "          {\n",
      "            \"length\": 1000000,\n",
      "            \"metadata\": {},\n",
      "            \"name\": \"numeric_range_constraint\",\n",
      "            \"nullable\": true,\n",
      "            \"type\": \"string\",\n",
      "            \"unique\": false\n",
      "          },\n",
      "          {\n",
      "            \"length\": 1000000,\n",
      "            \"metadata\": {},\n",
      "            \"name\": \"catcat_distribution_constraint\",\n",
      "            \"nullable\": true,\n",
      "            \"type\": \"string\",\n",
      "            \"unique\": false\n",
      "          },\n",
      "          {\n",
      "            \"length\": 1000000,\n",
      "            \"metadata\": {},\n",
      "            \"name\": \"catnum_range_constraint\",\n",
      "            \"nullable\": true,\n",
      "            \"type\": \"string\",\n",
      "            \"unique\": false\n",
      "          }\n",
      "        ],\n",
      "        \"type\": \"struct\"\n",
      "      },\n",
      "      \"train_accuracy\": 0.6390243902439025,\n",
      "      \"train_drift_model\": false,\n",
      "      \"train_predicted_accuracy\": 0.8536585365853658\n",
      "    },\n",
      "    \"thresholds\": [\n",
      "      {\n",
      "        \"metric_id\": \"drift_magnitude\",\n",
      "        \"type\": \"upper_limit\",\n",
      "        \"value\": 0.05\n",
      "      },\n",
      "      {\n",
      "        \"metric_id\": \"data_drift_magnitude\",\n",
      "        \"type\": \"upper_limit\",\n",
      "        \"value\": 0.1\n",
      "      }\n",
      "    ],\n",
      "    \"schedule\": {\n",
      "      \"repeat_interval\": 1,\n",
      "      \"repeat_unit\": \"week\",\n",
      "      \"start_time\": {\n",
      "        \"type\": \"relative\",\n",
      "        \"delay_unit\": \"minute\",\n",
      "        \"delay\": 10\n",
      "      },\n",
      "      \"repeat_type\": \"week\",\n",
      "      \"status\": \"enabled\"\n",
      "    },\n",
      "    \"schedule_id\": \"4825652a-c0d8-4231-841f-9035e31f0980\",\n",
      "    \"status\": {\n",
      "      \"state\": \"active\"\n",
      "    }\n",
      "  }\n",
      "}\n"
     ]
    }
   ],
   "source": [
    "# Check Drift monitor instance details\n",
    "\n",
    "monitor_instance_details = wos_client.monitor_instances.get(monitor_instance_id=drift_monitor_instance_id).result\n",
    "print(monitor_instance_details)"
   ]
  },
  {
   "cell_type": "code",
   "execution_count": 319,
   "metadata": {
    "id": "b88a5a85-8725-4434-8812-a64e13e56f00"
   },
   "outputs": [
    {
     "name": "stdout",
     "output_type": "stream",
     "text": [
      "{\n",
      "  \"metadata\": {\n",
      "    \"id\": \"0f7d09f1-1f92-49a5-8496-2f06136a0dee\",\n",
      "    \"crn\": \"crn:v1:bluemix:public:aiopenscale:us-south:a/na:00000000-0000-0000-0000-000000000000:run:0f7d09f1-1f92-49a5-8496-2f06136a0dee\",\n",
      "    \"url\": \"/v2/monitor_instances/e770a137-bc26-4055-9ab2-84eafeab06b8/runs/0f7d09f1-1f92-49a5-8496-2f06136a0dee\",\n",
      "    \"created_at\": \"2025-02-17T06:12:15.800000Z\",\n",
      "    \"created_by\": \"cpadmin\"\n",
      "  },\n",
      "  \"entity\": {\n",
      "    \"triggered_by\": \"user\",\n",
      "    \"parameters\": {\n",
      "      \"config_status\": {\n",
      "        \"model_name\": null,\n",
      "        \"state\": \"finished\"\n",
      "      },\n",
      "      \"data_drift_enabled\": true,\n",
      "      \"data_drift_threshold\": 0.1,\n",
      "      \"drift_buffer_range\": [\n",
      "        -4.5,\n",
      "        4.5\n",
      "      ],\n",
      "      \"drift_model_version\": null,\n",
      "      \"drift_threshold\": 0.05,\n",
      "      \"min_samples\": 100,\n",
      "      \"model_drift_enabled\": true,\n",
      "      \"table_schema\": {\n",
      "        \"fields\": [\n",
      "          {\n",
      "            \"length\": 64,\n",
      "            \"metadata\": {},\n",
      "            \"name\": \"scoring_id\",\n",
      "            \"nullable\": false,\n",
      "            \"type\": \"string\",\n",
      "            \"unique\": true\n",
      "          },\n",
      "          {\n",
      "            \"length\": null,\n",
      "            \"metadata\": {},\n",
      "            \"name\": \"scoring_timestamp\",\n",
      "            \"nullable\": false,\n",
      "            \"type\": \"timestamp\",\n",
      "            \"unique\": false\n",
      "          },\n",
      "          {\n",
      "            \"length\": 40,\n",
      "            \"metadata\": {},\n",
      "            \"name\": \"constraints_generation_id\",\n",
      "            \"nullable\": false,\n",
      "            \"type\": \"string\",\n",
      "            \"unique\": false\n",
      "          },\n",
      "          {\n",
      "            \"length\": 40,\n",
      "            \"metadata\": {},\n",
      "            \"name\": \"run_id\",\n",
      "            \"nullable\": false,\n",
      "            \"type\": \"string\",\n",
      "            \"unique\": false\n",
      "          },\n",
      "          {\n",
      "            \"length\": null,\n",
      "            \"metadata\": {},\n",
      "            \"name\": \"is_model_drift\",\n",
      "            \"nullable\": false,\n",
      "            \"type\": \"boolean\",\n",
      "            \"unique\": false\n",
      "          },\n",
      "          {\n",
      "            \"length\": null,\n",
      "            \"metadata\": {},\n",
      "            \"name\": \"drift_model_confidence\",\n",
      "            \"nullable\": true,\n",
      "            \"type\": \"float\",\n",
      "            \"unique\": false\n",
      "          },\n",
      "          {\n",
      "            \"length\": null,\n",
      "            \"metadata\": {},\n",
      "            \"name\": \"is_data_drift\",\n",
      "            \"nullable\": false,\n",
      "            \"type\": \"boolean\",\n",
      "            \"unique\": false\n",
      "          },\n",
      "          {\n",
      "            \"length\": 1000000,\n",
      "            \"metadata\": {},\n",
      "            \"name\": \"categorical_distribution_constraint\",\n",
      "            \"nullable\": true,\n",
      "            \"type\": \"string\",\n",
      "            \"unique\": false\n",
      "          },\n",
      "          {\n",
      "            \"length\": 1000000,\n",
      "            \"metadata\": {},\n",
      "            \"name\": \"numeric_range_constraint\",\n",
      "            \"nullable\": true,\n",
      "            \"type\": \"string\",\n",
      "            \"unique\": false\n",
      "          },\n",
      "          {\n",
      "            \"length\": 1000000,\n",
      "            \"metadata\": {},\n",
      "            \"name\": \"catcat_distribution_constraint\",\n",
      "            \"nullable\": true,\n",
      "            \"type\": \"string\",\n",
      "            \"unique\": false\n",
      "          },\n",
      "          {\n",
      "            \"length\": 1000000,\n",
      "            \"metadata\": {},\n",
      "            \"name\": \"catnum_range_constraint\",\n",
      "            \"nullable\": true,\n",
      "            \"type\": \"string\",\n",
      "            \"unique\": false\n",
      "          }\n",
      "        ],\n",
      "        \"type\": \"struct\"\n",
      "      },\n",
      "      \"train_accuracy\": 0.6390243902439025,\n",
      "      \"train_drift_model\": false,\n",
      "      \"train_predicted_accuracy\": 0.8536585365853658\n",
      "    },\n",
      "    \"status\": {\n",
      "      \"state\": \"running\",\n",
      "      \"queued_at\": \"2025-02-17T06:12:15.794000Z\",\n",
      "      \"started_at\": \"2025-02-17T06:12:15.800000Z\",\n",
      "      \"operators\": []\n",
      "    }\n",
      "  }\n",
      "}\n"
     ]
    }
   ],
   "source": [
    "# Trigger on-demand run\n",
    "\n",
    "monitoring_run_details = wos_client.monitor_instances.run(monitor_instance_id=drift_monitor_instance_id).result\n",
    "monitoring_run_id=monitoring_run_details.metadata.id\n",
    "\n",
    "print(monitoring_run_details)"
   ]
  },
  {
   "cell_type": "code",
   "execution_count": 320,
   "metadata": {
    "id": "d85f7f8d-928d-4f13-804f-59a71c2b4fd0"
   },
   "outputs": [
    {
     "name": "stdout",
     "output_type": "stream",
     "text": [
      "06:12:16 running\n",
      "06:12:46 running\n",
      "06:13:16 running\n",
      "06:13:46 running\n",
      "06:14:16 running\n",
      "06:14:46 finished\n"
     ]
    }
   ],
   "source": [
    "# Check run status\n",
    "\n",
    "drift_run_status = None\n",
    "while drift_run_status not in (\"finished\", \"error\"):\n",
    "    monitoring_run_details = wos_client.monitor_instances.get_run_details(monitor_instance_id=drift_monitor_instance_id, monitoring_run_id=monitoring_run_id).result\n",
    "    drift_run_status = monitoring_run_details.entity.status.state\n",
    "    if drift_run_status not in (\"finished\", \"error\"):\n",
    "        print(datetime.utcnow().strftime(\"%H:%M:%S\"), drift_run_status)\n",
    "        time.sleep(30)\n",
    "        \n",
    "print(datetime.utcnow().strftime(\"%H:%M:%S\"), drift_run_status)"
   ]
  },
  {
   "cell_type": "markdown",
   "metadata": {
    "id": "d00636a4-93b5-4703-97f9-499236ddd027"
   },
   "source": [
    "### Display drift metrics"
   ]
  },
  {
   "cell_type": "code",
   "execution_count": 321,
   "metadata": {
    "id": "60df059b-c066-47be-a814-f6ef50f36db9"
   },
   "outputs": [
    {
     "data": {
      "text/html": [
       "<HTML>\n",
       "        <body>\n",
       "            <h3>e770a137-bc26-4055-9ab2-84eafeab06b8 Monitor Runs Metrics from: 2025-02-10 06:14:46.616488  till: 2025-02-17 06:14:46.616492</h3>\n",
       "            <table style='border: 1px solid #dddddd; font-family: Courier'>\n",
       "                <th style='border: 1px solid #dddddd'>ts</th><th style='border: 1px solid #dddddd'>id</th><th style='border: 1px solid #dddddd'>measurement_id</th><th style='border: 1px solid #dddddd'>value</th><th style='border: 1px solid #dddddd'>lower_limit</th><th style='border: 1px solid #dddddd'>upper_limit</th><th style='border: 1px solid #dddddd'>tags</th><th style='border: 1px solid #dddddd'>monitor_definition_id</th><th style='border: 1px solid #dddddd'>monitor_instance_id</th><th style='border: 1px solid #dddddd'>run_id</th><th style='border: 1px solid #dddddd'>target_type</th><th style='border: 1px solid #dddddd'>target_id</th>\n",
       "                <tr><td style='border: 1px solid #dddddd'>2025-02-17 06:12:17.715183+00:00</td><td style='border: 1px solid #dddddd'>data_drift_magnitude</td><td style='border: 1px solid #dddddd'>845208d0-c5b5-48d6-a8a3-d60f9aeaa28c</td><td style='border: 1px solid #dddddd'>0.004807692307692308</td><td style='border: 1px solid #dddddd'>None</td><td style='border: 1px solid #dddddd'>0.1</td><td style='border: 1px solid #dddddd'>[]</td><td style='border: 1px solid #dddddd'>drift</td><td style='border: 1px solid #dddddd'>e770a137-bc26-4055-9ab2-84eafeab06b8</td><td style='border: 1px solid #dddddd'>0f7d09f1-1f92-49a5-8496-2f06136a0dee</td><td style='border: 1px solid #dddddd'>subscription</td><td style='border: 1px solid #dddddd'>d50db495-b481-4351-b7a0-3cd220e4ff8e</td></tr><tr><td style='border: 1px solid #dddddd'>2025-02-17 06:12:17.715183+00:00</td><td style='border: 1px solid #dddddd'>drift_magnitude</td><td style='border: 1px solid #dddddd'>845208d0-c5b5-48d6-a8a3-d60f9aeaa28c</td><td style='border: 1px solid #dddddd'>0.0</td><td style='border: 1px solid #dddddd'>None</td><td style='border: 1px solid #dddddd'>0.05</td><td style='border: 1px solid #dddddd'>[]</td><td style='border: 1px solid #dddddd'>drift</td><td style='border: 1px solid #dddddd'>e770a137-bc26-4055-9ab2-84eafeab06b8</td><td style='border: 1px solid #dddddd'>0f7d09f1-1f92-49a5-8496-2f06136a0dee</td><td style='border: 1px solid #dddddd'>subscription</td><td style='border: 1px solid #dddddd'>d50db495-b481-4351-b7a0-3cd220e4ff8e</td></tr><tr><td style='border: 1px solid #dddddd'>2025-02-17 06:12:17.715183+00:00</td><td style='border: 1px solid #dddddd'>predicted_accuracy</td><td style='border: 1px solid #dddddd'>845208d0-c5b5-48d6-a8a3-d60f9aeaa28c</td><td style='border: 1px solid #dddddd'>0.8076923076923077</td><td style='border: 1px solid #dddddd'>None</td><td style='border: 1px solid #dddddd'>None</td><td style='border: 1px solid #dddddd'>[]</td><td style='border: 1px solid #dddddd'>drift</td><td style='border: 1px solid #dddddd'>e770a137-bc26-4055-9ab2-84eafeab06b8</td><td style='border: 1px solid #dddddd'>0f7d09f1-1f92-49a5-8496-2f06136a0dee</td><td style='border: 1px solid #dddddd'>subscription</td><td style='border: 1px solid #dddddd'>d50db495-b481-4351-b7a0-3cd220e4ff8e</td></tr>\n",
       "            </table>\n",
       "        </body>\n",
       "        </HTML>"
      ],
      "text/plain": [
       "<IPython.core.display.HTML object>"
      ]
     },
     "metadata": {},
     "output_type": "display_data"
    }
   ],
   "source": [
    "wos_client.monitor_instances.show_metrics(monitor_instance_id=drift_monitor_instance_id)"
   ]
  },
  {
   "cell_type": "markdown",
   "metadata": {
    "id": "7993afa5-6f7f-4a13-a002-35d27559a387"
   },
   "source": [
    "# 6. Drift V2 monitoring <a name=\"drift_v2\"></a>"
   ]
  },
  {
   "cell_type": "markdown",
   "metadata": {
    "id": "bfd7212d-930e-46c0-a93b-d07901007f8d"
   },
   "source": [
    "### Enable the drift v2 monitor\n",
    "\n",
    "In the following code cell, type a path to the drift v2 configuration tar ball."
   ]
  },
  {
   "cell_type": "code",
   "execution_count": 298,
   "metadata": {
    "id": "8180a555-df31-4850-bd5d-c9761bf14752"
   },
   "outputs": [],
   "source": [
    "monitor_instances = wos_client.monitor_instances.list().result.monitor_instances\n",
    "for monitor_instance in monitor_instances:\n",
    "    monitor_def_id=monitor_instance.entity.monitor_definition_id\n",
    "    if monitor_def_id == \"drift_v2\" and monitor_instance.entity.target.target_id == subscription_id:\n",
    "        wos_client.monitor_instances.delete(monitor_instance.metadata.id)\n",
    "        print('Deleted existing drift_v2 monitor instance with id: ', monitor_instance.metadata.id)"
   ]
  },
  {
   "cell_type": "code",
   "execution_count": 299,
   "metadata": {
    "id": "f40ea5f4-feca-42c9-9353-349371b269d0"
   },
   "outputs": [
    {
     "data": {
      "text/plain": [
       "{'file_name': 'drift_v2_archive.tar.gz',\n",
       " 'summary': ['loaded data', 'saved to file']}"
      ]
     },
     "execution_count": 299,
     "metadata": {},
     "output_type": "execute_result"
    }
   ],
   "source": [
    "from ibm_watson_studio_lib import access_project_or_space\n",
    "wslib = access_project_or_space()\n",
    "wslib.download_file(\"drift_v2_archive.tar.gz\")"
   ]
  },
  {
   "cell_type": "code",
   "execution_count": 300,
   "metadata": {
    "id": "ade6aefb-9e87-45bb-8db7-935d9a95a2a8"
   },
   "outputs": [
    {
     "data": {
      "text/plain": [
       "{}"
      ]
     },
     "execution_count": 300,
     "metadata": {},
     "output_type": "execute_result"
    }
   ],
   "source": [
    "wos_client.monitor_instances.upload_drift_v2_archive(\n",
    "    archive_path=\"drift_v2_archive.tar.gz\",\n",
    "    data_mart_id=data_mart_id,\n",
    "    subscription_id=subscription_id\n",
    ").result"
   ]
  },
  {
   "cell_type": "code",
   "execution_count": 301,
   "metadata": {
    "id": "228528ca-904a-4a02-bfcc-b1b1b28cc0df"
   },
   "outputs": [
    {
     "data": {
      "text/plain": [
       "'c743722d-211f-4b87-8507-c0edc19434ae'"
      ]
     },
     "execution_count": 301,
     "metadata": {},
     "output_type": "execute_result"
    }
   ],
   "source": [
    "target = Target(\n",
    "    target_type=TargetTypes.SUBSCRIPTION,\n",
    "    target_id=subscription_id\n",
    ")\n",
    "\n",
    "parameters = {\n",
    "        \"min_samples\": 10,\n",
    "        \"max_samples\": 1000,\n",
    "        \"train_archive\": False\n",
    "    }\n",
    "drift_v2_monitor_details = wos_client.monitor_instances.create(\n",
    "    data_mart_id=data_mart_id,\n",
    "    monitor_definition_id=wos_client.monitor_definitions.MONITORS.DRIFT_V2.ID,\n",
    "    target=target,\n",
    "    parameters=parameters\n",
    ").result\n",
    "\n",
    "drift_v2_monitor_instance_id = drift_v2_monitor_details.metadata.id\n",
    "drift_v2_monitor_instance_id"
   ]
  },
  {
   "cell_type": "markdown",
   "metadata": {
    "id": "6ab7d0b1-e792-43eb-99cc-baf18e400a04"
   },
   "source": [
    "### Check monitor instance status"
   ]
  },
  {
   "cell_type": "code",
   "execution_count": 303,
   "metadata": {
    "id": "3863eafa-6649-4a1c-84ac-7c1b7068d05a"
   },
   "outputs": [
    {
     "name": "stdout",
     "output_type": "stream",
     "text": [
      "05:43:52 preparing\n",
      "05:44:22 active\n"
     ]
    }
   ],
   "source": [
    "drift_v2_status = None\n",
    "\n",
    "while drift_v2_status not in (\"active\", \"error\"):\n",
    "    monitor_instance_details = wos_client.monitor_instances.get(monitor_instance_id=drift_v2_monitor_instance_id).result\n",
    "    drift_v2_status = monitor_instance_details.entity.status.state\n",
    "    if drift_v2_status not in (\"active\", \"error\"):\n",
    "        print(datetime.now().strftime(\"%H:%M:%S\"), drift_v2_status)\n",
    "        time.sleep(30)\n",
    "\n",
    "print(datetime.now().strftime(\"%H:%M:%S\"), drift_v2_status)"
   ]
  },
  {
   "cell_type": "markdown",
   "metadata": {
    "id": "2dd54a85-d677-40f3-8f5b-f4d9671322e1"
   },
   "source": [
    "### Trigger on-demand monitor run"
   ]
  },
  {
   "cell_type": "code",
   "execution_count": 304,
   "metadata": {
    "id": "5eea1a85-f0e2-4391-b6bd-5fb9d39890fd"
   },
   "outputs": [
    {
     "name": "stdout",
     "output_type": "stream",
     "text": [
      "{\n",
      "  \"metadata\": {\n",
      "    \"id\": \"c743722d-211f-4b87-8507-c0edc19434ae\",\n",
      "    \"crn\": \"crn:v1:bluemix:public:aiopenscale:us-south:a/na:00000000-0000-0000-0000-000000000000:monitor_instance:c743722d-211f-4b87-8507-c0edc19434ae\",\n",
      "    \"url\": \"/v2/monitor_instances/c743722d-211f-4b87-8507-c0edc19434ae\",\n",
      "    \"created_at\": \"2025-02-17T05:43:52.366000Z\",\n",
      "    \"created_by\": \"cpadmin\",\n",
      "    \"modified_at\": \"2025-02-17T05:44:06.599000Z\",\n",
      "    \"modified_by\": \"internal-service\"\n",
      "  },\n",
      "  \"entity\": {\n",
      "    \"data_mart_id\": \"00000000-0000-0000-0000-000000000000\",\n",
      "    \"monitor_definition_id\": \"drift_v2\",\n",
      "    \"target\": {\n",
      "      \"target_type\": \"subscription\",\n",
      "      \"target_id\": \"d50db495-b481-4351-b7a0-3cd220e4ff8e\"\n",
      "    },\n",
      "    \"parameters\": {\n",
      "      \"advanced_controls\": {\n",
      "        \"enable_drift_v2_batch\": true\n",
      "      },\n",
      "      \"context\": {\n",
      "        \"baseline\": {\n",
      "          \"data_set_id\": \"e32f39c1-e782-4a55-89c6-66eb4e7bb3b1\"\n",
      "        },\n",
      "        \"copy_subscription\": {\n",
      "          \"enabled\": false,\n",
      "          \"source_id\": null\n",
      "        },\n",
      "        \"data_sets\": {\n",
      "          \"drift_insights\": \"1a53ba85-d585-4641-8301-747cc72634e4\",\n",
      "          \"drift_intervals\": \"fc395099-cb6c-456f-b094-fab3c5021180\",\n",
      "          \"drift_scores\": \"aecadedf-2bae-463b-acaf-72e426f72b80\",\n",
      "          \"drift_stats\": \"5918e464-751c-4d06-b6eb-f5260bc9d0da\"\n",
      "        },\n",
      "        \"feature_drift\": {\n",
      "          \"messages\": {}\n",
      "        },\n",
      "        \"global_explanation\": {},\n",
      "        \"last_evaluation\": {\n",
      "          \"last_record_window_end_timestamp\": \"2025-02-16T05:44:06.283774Z\",\n",
      "          \"last_record_window_start_timestamp\": null\n",
      "        },\n",
      "        \"model_quality_drift\": {\n",
      "          \"enabled\": false,\n",
      "          \"messages\": {},\n",
      "          \"meta_model\": null\n",
      "        },\n",
      "        \"output_drift\": {\n",
      "          \"messages\": {}\n",
      "        },\n",
      "        \"spark\": {}\n",
      "      },\n",
      "      \"features\": {\n",
      "        \"fields\": [\n",
      "          \"LoanDuration\",\n",
      "          \"LoanPurpose\",\n",
      "          \"CreditHistory\",\n",
      "          \"ExistingSavings\",\n",
      "          \"OthersOnLoan\",\n",
      "          \"Telephone\",\n",
      "          \"OwnsProperty\",\n",
      "          \"EmploymentDuration\",\n",
      "          \"Job\",\n",
      "          \"ExistingCreditsCount\",\n",
      "          \"InstallmentPlans\",\n",
      "          \"Age\",\n",
      "          \"Housing\",\n",
      "          \"InstallmentPercent\",\n",
      "          \"Sex\",\n",
      "          \"ForeignWorker\",\n",
      "          \"CurrentResidenceDuration\",\n",
      "          \"LoanAmount\",\n",
      "          \"Dependents\",\n",
      "          \"CheckingStatus\"\n",
      "        ],\n",
      "        \"importances\": {\n",
      "          \"Age\": 0.6642,\n",
      "          \"CheckingStatus\": 0.0003,\n",
      "          \"CreditHistory\": 0.9435,\n",
      "          \"CurrentResidenceDuration\": 0.3522,\n",
      "          \"Dependents\": 0.1817,\n",
      "          \"EmploymentDuration\": 0.7917,\n",
      "          \"ExistingCreditsCount\": 0.6914,\n",
      "          \"ExistingSavings\": 0.9385,\n",
      "          \"ForeignWorker\": 0.4277,\n",
      "          \"Housing\": 0.6495,\n",
      "          \"InstallmentPercent\": 0.5381,\n",
      "          \"InstallmentPlans\": 0.6862,\n",
      "          \"Job\": 0.7852,\n",
      "          \"LoanAmount\": 0.3352,\n",
      "          \"LoanDuration\": 0.9778,\n",
      "          \"LoanPurpose\": 0.9491,\n",
      "          \"OthersOnLoan\": 0.9273,\n",
      "          \"OwnsProperty\": 0.8625,\n",
      "          \"Sex\": 0.4906,\n",
      "          \"Telephone\": 0.8924\n",
      "        }\n",
      "      },\n",
      "      \"max_samples\": 1000,\n",
      "      \"min_samples\": 10,\n",
      "      \"most_important_features\": {\n",
      "        \"fields\": [\n",
      "          \"LoanDuration\",\n",
      "          \"LoanPurpose\",\n",
      "          \"CreditHistory\",\n",
      "          \"ExistingSavings\",\n",
      "          \"OthersOnLoan\",\n",
      "          \"Telephone\",\n",
      "          \"OwnsProperty\",\n",
      "          \"EmploymentDuration\",\n",
      "          \"Job\",\n",
      "          \"ExistingCreditsCount\"\n",
      "        ]\n",
      "      },\n",
      "      \"train_archive\": false\n",
      "    },\n",
      "    \"thresholds\": [\n",
      "      {\n",
      "        \"metric_id\": \"confidence_drift_score\",\n",
      "        \"type\": \"upper_limit\",\n",
      "        \"value\": 0.05\n",
      "      },\n",
      "      {\n",
      "        \"metric_id\": \"prediction_drift_score\",\n",
      "        \"type\": \"upper_limit\",\n",
      "        \"value\": 0.05\n",
      "      },\n",
      "      {\n",
      "        \"metric_id\": \"model_quality_score\",\n",
      "        \"type\": \"upper_limit\",\n",
      "        \"value\": 0.05\n",
      "      },\n",
      "      {\n",
      "        \"metric_id\": \"feature_drift_score\",\n",
      "        \"type\": \"upper_limit\",\n",
      "        \"specific_values\": [\n",
      "          {\n",
      "            \"value\": 0.05,\n",
      "            \"applies_to\": [\n",
      "              {\n",
      "                \"type\": \"tag\",\n",
      "                \"key\": \"field_type\",\n",
      "                \"value\": \"subscription\"\n",
      "              }\n",
      "            ]\n",
      "          }\n",
      "        ]\n",
      "      },\n",
      "      {\n",
      "        \"metric_id\": \"input_metadata_drift_score\",\n",
      "        \"type\": \"upper_limit\",\n",
      "        \"specific_values\": [\n",
      "          {\n",
      "            \"value\": 0.05,\n",
      "            \"applies_to\": [\n",
      "              {\n",
      "                \"type\": \"tag\",\n",
      "                \"key\": \"field_type\",\n",
      "                \"value\": \"subscription\"\n",
      "              }\n",
      "            ]\n",
      "          }\n",
      "        ]\n",
      "      }\n",
      "    ],\n",
      "    \"schedule\": {\n",
      "      \"repeat_interval\": 1,\n",
      "      \"repeat_unit\": \"week\",\n",
      "      \"start_time\": {\n",
      "        \"type\": \"relative\",\n",
      "        \"delay_unit\": \"minute\",\n",
      "        \"delay\": 10\n",
      "      },\n",
      "      \"repeat_type\": \"week\",\n",
      "      \"status\": \"enabled\"\n",
      "    },\n",
      "    \"schedule_id\": \"54f8c784-7b12-4d30-bfb6-7d2502cd3e12\",\n",
      "    \"status\": {\n",
      "      \"state\": \"active\"\n",
      "    }\n",
      "  }\n",
      "}\n"
     ]
    }
   ],
   "source": [
    "# Check Drift v2 monitor instance details\n",
    "\n",
    "monitor_instance_details = wos_client.monitor_instances.get(monitor_instance_id=drift_v2_monitor_instance_id).result\n",
    "print(monitor_instance_details)"
   ]
  },
  {
   "cell_type": "code",
   "execution_count": 305,
   "metadata": {
    "id": "8ba94545-000f-4e1a-ae85-fbcaba71aa8e"
   },
   "outputs": [
    {
     "name": "stdout",
     "output_type": "stream",
     "text": [
      "{\n",
      "  \"metadata\": {\n",
      "    \"id\": \"fcc4a397-328f-42e1-b74e-0266f863c65b\",\n",
      "    \"crn\": \"crn:v1:bluemix:public:aiopenscale:us-south:a/na:00000000-0000-0000-0000-000000000000:run:fcc4a397-328f-42e1-b74e-0266f863c65b\",\n",
      "    \"url\": \"/v2/monitor_instances/c743722d-211f-4b87-8507-c0edc19434ae/runs/fcc4a397-328f-42e1-b74e-0266f863c65b\",\n",
      "    \"created_at\": \"2025-02-17T05:44:23.040000Z\",\n",
      "    \"created_by\": \"cpadmin\"\n",
      "  },\n",
      "  \"entity\": {\n",
      "    \"triggered_by\": \"user\",\n",
      "    \"parameters\": {\n",
      "      \"advanced_controls\": {\n",
      "        \"enable_drift_v2_batch\": true\n",
      "      },\n",
      "      \"context\": {\n",
      "        \"baseline\": {\n",
      "          \"data_set_id\": \"e32f39c1-e782-4a55-89c6-66eb4e7bb3b1\"\n",
      "        },\n",
      "        \"copy_subscription\": {\n",
      "          \"enabled\": false,\n",
      "          \"source_id\": null\n",
      "        },\n",
      "        \"data_sets\": {\n",
      "          \"drift_insights\": \"1a53ba85-d585-4641-8301-747cc72634e4\",\n",
      "          \"drift_intervals\": \"fc395099-cb6c-456f-b094-fab3c5021180\",\n",
      "          \"drift_scores\": \"aecadedf-2bae-463b-acaf-72e426f72b80\",\n",
      "          \"drift_stats\": \"5918e464-751c-4d06-b6eb-f5260bc9d0da\"\n",
      "        },\n",
      "        \"feature_drift\": {\n",
      "          \"messages\": {}\n",
      "        },\n",
      "        \"global_explanation\": {},\n",
      "        \"last_evaluation\": {\n",
      "          \"last_record_window_end_timestamp\": \"2025-02-16T05:44:06.283774Z\",\n",
      "          \"last_record_window_start_timestamp\": null\n",
      "        },\n",
      "        \"model_quality_drift\": {\n",
      "          \"enabled\": false,\n",
      "          \"messages\": {},\n",
      "          \"meta_model\": null\n",
      "        },\n",
      "        \"output_drift\": {\n",
      "          \"messages\": {}\n",
      "        },\n",
      "        \"spark\": {}\n",
      "      },\n",
      "      \"features\": {\n",
      "        \"fields\": [\n",
      "          \"LoanDuration\",\n",
      "          \"LoanPurpose\",\n",
      "          \"CreditHistory\",\n",
      "          \"ExistingSavings\",\n",
      "          \"OthersOnLoan\",\n",
      "          \"Telephone\",\n",
      "          \"OwnsProperty\",\n",
      "          \"EmploymentDuration\",\n",
      "          \"Job\",\n",
      "          \"ExistingCreditsCount\",\n",
      "          \"InstallmentPlans\",\n",
      "          \"Age\",\n",
      "          \"Housing\",\n",
      "          \"InstallmentPercent\",\n",
      "          \"Sex\",\n",
      "          \"ForeignWorker\",\n",
      "          \"CurrentResidenceDuration\",\n",
      "          \"LoanAmount\",\n",
      "          \"Dependents\",\n",
      "          \"CheckingStatus\"\n",
      "        ],\n",
      "        \"importances\": {\n",
      "          \"Age\": 0.6642,\n",
      "          \"CheckingStatus\": 0.0003,\n",
      "          \"CreditHistory\": 0.9435,\n",
      "          \"CurrentResidenceDuration\": 0.3522,\n",
      "          \"Dependents\": 0.1817,\n",
      "          \"EmploymentDuration\": 0.7917,\n",
      "          \"ExistingCreditsCount\": 0.6914,\n",
      "          \"ExistingSavings\": 0.9385,\n",
      "          \"ForeignWorker\": 0.4277,\n",
      "          \"Housing\": 0.6495,\n",
      "          \"InstallmentPercent\": 0.5381,\n",
      "          \"InstallmentPlans\": 0.6862,\n",
      "          \"Job\": 0.7852,\n",
      "          \"LoanAmount\": 0.3352,\n",
      "          \"LoanDuration\": 0.9778,\n",
      "          \"LoanPurpose\": 0.9491,\n",
      "          \"OthersOnLoan\": 0.9273,\n",
      "          \"OwnsProperty\": 0.8625,\n",
      "          \"Sex\": 0.4906,\n",
      "          \"Telephone\": 0.8924\n",
      "        }\n",
      "      },\n",
      "      \"max_samples\": 1000,\n",
      "      \"min_samples\": 10,\n",
      "      \"most_important_features\": {\n",
      "        \"fields\": [\n",
      "          \"LoanDuration\",\n",
      "          \"LoanPurpose\",\n",
      "          \"CreditHistory\",\n",
      "          \"ExistingSavings\",\n",
      "          \"OthersOnLoan\",\n",
      "          \"Telephone\",\n",
      "          \"OwnsProperty\",\n",
      "          \"EmploymentDuration\",\n",
      "          \"Job\",\n",
      "          \"ExistingCreditsCount\"\n",
      "        ]\n",
      "      },\n",
      "      \"train_archive\": false\n",
      "    },\n",
      "    \"status\": {\n",
      "      \"state\": \"running\",\n",
      "      \"queued_at\": \"2025-02-17T05:44:23.035000Z\",\n",
      "      \"started_at\": \"2025-02-17T05:44:23.040000Z\",\n",
      "      \"operators\": []\n",
      "    }\n",
      "  }\n",
      "}\n"
     ]
    }
   ],
   "source": [
    "# Trigger on-demand run\n",
    "\n",
    "monitoring_run_details = wos_client.monitor_instances.run(monitor_instance_id=drift_v2_monitor_instance_id).result\n",
    "monitoring_run_id=monitoring_run_details.metadata.id\n",
    "\n",
    "print(monitoring_run_details)"
   ]
  },
  {
   "cell_type": "code",
   "execution_count": 306,
   "metadata": {
    "id": "294eaf90-438c-4d4b-a5ea-a10c94e18635"
   },
   "outputs": [
    {
     "name": "stdout",
     "output_type": "stream",
     "text": [
      "05:44:23 running\n",
      "05:44:53 running\n",
      "05:45:23 running\n",
      "05:45:53 running\n",
      "05:46:23 running\n",
      "05:46:53 running\n",
      "05:47:23 running\n",
      "05:47:53 running\n",
      "05:48:23 running\n",
      "05:48:53 running\n",
      "05:49:24 running\n",
      "05:49:54 running\n",
      "05:50:24 running\n",
      "05:50:54 running\n",
      "05:51:24 running\n",
      "05:51:54 running\n",
      "05:52:24 running\n",
      "05:52:54 running\n",
      "05:53:24 running\n",
      "05:53:54 running\n",
      "05:54:24 running\n",
      "05:54:54 running\n",
      "05:55:24 running\n",
      "05:55:54 running\n",
      "05:56:24 running\n",
      "05:56:54 running\n",
      "05:57:24 running\n",
      "05:57:54 running\n",
      "05:58:24 running\n",
      "05:58:54 running\n",
      "05:59:25 running\n",
      "05:59:55 running\n",
      "06:00:25 running\n",
      "06:00:55 finished\n"
     ]
    }
   ],
   "source": [
    "# Check run status\n",
    "drift_v2_run_status = None\n",
    "while drift_v2_run_status not in (\"finished\", \"error\"):\n",
    "    monitoring_run_details = wos_client.monitor_instances.get_run_details(monitor_instance_id=drift_v2_monitor_instance_id, monitoring_run_id=monitoring_run_id).result\n",
    "    drift_v2_run_status = monitoring_run_details.entity.status.state\n",
    "    if drift_v2_run_status not in (\"finished\", \"error\"):\n",
    "        print(datetime.now().strftime(\"%H:%M:%S\"), drift_v2_run_status)\n",
    "        time.sleep(30)\n",
    "        \n",
    "print(datetime.now().strftime(\"%H:%M:%S\"), drift_v2_run_status)\n"
   ]
  },
  {
   "cell_type": "markdown",
   "metadata": {
    "id": "dc461e71-c0ea-4bcb-bdb2-68504cc53a2d"
   },
   "source": [
    "### Check Drift V2 metrics"
   ]
  },
  {
   "cell_type": "code",
   "execution_count": 307,
   "metadata": {
    "id": "7c6efd84-da07-483d-8400-cf507d271828"
   },
   "outputs": [
    {
     "data": {
      "text/html": [
       "<HTML>\n",
       "        <body>\n",
       "            <h3>c743722d-211f-4b87-8507-c0edc19434ae Monitor Runs Metrics from: 2025-02-10 06:00:55.352616  till: 2025-02-17 06:00:55.352629</h3>\n",
       "            <table style='border: 1px solid #dddddd; font-family: Courier'>\n",
       "                <th style='border: 1px solid #dddddd'>ts</th><th style='border: 1px solid #dddddd'>id</th><th style='border: 1px solid #dddddd'>measurement_id</th><th style='border: 1px solid #dddddd'>value</th><th style='border: 1px solid #dddddd'>lower_limit</th><th style='border: 1px solid #dddddd'>upper_limit</th><th style='border: 1px solid #dddddd'>tags</th><th style='border: 1px solid #dddddd'>monitor_definition_id</th><th style='border: 1px solid #dddddd'>monitor_instance_id</th><th style='border: 1px solid #dddddd'>run_id</th><th style='border: 1px solid #dddddd'>target_type</th><th style='border: 1px solid #dddddd'>target_id</th>\n",
       "                <tr><td style='border: 1px solid #dddddd'>2025-02-17 05:56:35.329606+00:00</td><td style='border: 1px solid #dddddd'>records_processed</td><td style='border: 1px solid #dddddd'>8cbccb73-d744-444d-b025-1b4884b9c8a7</td><td style='border: 1px solid #dddddd'>208.0</td><td style='border: 1px solid #dddddd'>None</td><td style='border: 1px solid #dddddd'>None</td><td style='border: 1px solid #dddddd'>['algorithm_used:total_variation', 'computed_on:payload', 'field_type:class', 'field_name:Class Probability for No Risk']</td><td style='border: 1px solid #dddddd'>drift_v2</td><td style='border: 1px solid #dddddd'>c743722d-211f-4b87-8507-c0edc19434ae</td><td style='border: 1px solid #dddddd'>fcc4a397-328f-42e1-b74e-0266f863c65b</td><td style='border: 1px solid #dddddd'>subscription</td><td style='border: 1px solid #dddddd'>d50db495-b481-4351-b7a0-3cd220e4ff8e</td></tr><tr><td style='border: 1px solid #dddddd'>2025-02-17 05:56:35.329606+00:00</td><td style='border: 1px solid #dddddd'>confidence_drift_score</td><td style='border: 1px solid #dddddd'>8cbccb73-d744-444d-b025-1b4884b9c8a7</td><td style='border: 1px solid #dddddd'>0.4599</td><td style='border: 1px solid #dddddd'>None</td><td style='border: 1px solid #dddddd'>0.05</td><td style='border: 1px solid #dddddd'>['algorithm_used:total_variation', 'computed_on:payload', 'field_type:class', 'field_name:Class Probability for No Risk']</td><td style='border: 1px solid #dddddd'>drift_v2</td><td style='border: 1px solid #dddddd'>c743722d-211f-4b87-8507-c0edc19434ae</td><td style='border: 1px solid #dddddd'>fcc4a397-328f-42e1-b74e-0266f863c65b</td><td style='border: 1px solid #dddddd'>subscription</td><td style='border: 1px solid #dddddd'>d50db495-b481-4351-b7a0-3cd220e4ff8e</td></tr><tr><td style='border: 1px solid #dddddd'>2025-02-17 05:56:35.329606+00:00</td><td style='border: 1px solid #dddddd'>records_processed</td><td style='border: 1px solid #dddddd'>8cbccb73-d744-444d-b025-1b4884b9c8a7</td><td style='border: 1px solid #dddddd'>208.0</td><td style='border: 1px solid #dddddd'>None</td><td style='border: 1px solid #dddddd'>None</td><td style='border: 1px solid #dddddd'>['algorithm_used:overlap_coefficient', 'computed_on:payload', 'field_type:class', 'field_name:Class Probability for No Risk']</td><td style='border: 1px solid #dddddd'>drift_v2</td><td style='border: 1px solid #dddddd'>c743722d-211f-4b87-8507-c0edc19434ae</td><td style='border: 1px solid #dddddd'>fcc4a397-328f-42e1-b74e-0266f863c65b</td><td style='border: 1px solid #dddddd'>subscription</td><td style='border: 1px solid #dddddd'>d50db495-b481-4351-b7a0-3cd220e4ff8e</td></tr><tr><td style='border: 1px solid #dddddd'>2025-02-17 05:56:35.329606+00:00</td><td style='border: 1px solid #dddddd'>confidence_drift_score</td><td style='border: 1px solid #dddddd'>8cbccb73-d744-444d-b025-1b4884b9c8a7</td><td style='border: 1px solid #dddddd'>0.4605</td><td style='border: 1px solid #dddddd'>None</td><td style='border: 1px solid #dddddd'>0.05</td><td style='border: 1px solid #dddddd'>['algorithm_used:overlap_coefficient', 'computed_on:payload', 'field_type:class', 'field_name:Class Probability for No Risk']</td><td style='border: 1px solid #dddddd'>drift_v2</td><td style='border: 1px solid #dddddd'>c743722d-211f-4b87-8507-c0edc19434ae</td><td style='border: 1px solid #dddddd'>fcc4a397-328f-42e1-b74e-0266f863c65b</td><td style='border: 1px solid #dddddd'>subscription</td><td style='border: 1px solid #dddddd'>d50db495-b481-4351-b7a0-3cd220e4ff8e</td></tr><tr><td style='border: 1px solid #dddddd'>2025-02-17 05:56:43.697266+00:00</td><td style='border: 1px solid #dddddd'>records_processed</td><td style='border: 1px solid #dddddd'>4e162837-927f-45b4-a2eb-b26219414844</td><td style='border: 1px solid #dddddd'>208.0</td><td style='border: 1px solid #dddddd'>None</td><td style='border: 1px solid #dddddd'>None</td><td style='border: 1px solid #dddddd'>['algorithm_used:total_variation', 'computed_on:payload', 'field_type:class', 'field_name:Class Probability for Risk']</td><td style='border: 1px solid #dddddd'>drift_v2</td><td style='border: 1px solid #dddddd'>c743722d-211f-4b87-8507-c0edc19434ae</td><td style='border: 1px solid #dddddd'>fcc4a397-328f-42e1-b74e-0266f863c65b</td><td style='border: 1px solid #dddddd'>subscription</td><td style='border: 1px solid #dddddd'>d50db495-b481-4351-b7a0-3cd220e4ff8e</td></tr><tr><td style='border: 1px solid #dddddd'>2025-02-17 05:56:43.697266+00:00</td><td style='border: 1px solid #dddddd'>confidence_drift_score</td><td style='border: 1px solid #dddddd'>4e162837-927f-45b4-a2eb-b26219414844</td><td style='border: 1px solid #dddddd'>0.4589</td><td style='border: 1px solid #dddddd'>None</td><td style='border: 1px solid #dddddd'>0.05</td><td style='border: 1px solid #dddddd'>['algorithm_used:total_variation', 'computed_on:payload', 'field_type:class', 'field_name:Class Probability for Risk']</td><td style='border: 1px solid #dddddd'>drift_v2</td><td style='border: 1px solid #dddddd'>c743722d-211f-4b87-8507-c0edc19434ae</td><td style='border: 1px solid #dddddd'>fcc4a397-328f-42e1-b74e-0266f863c65b</td><td style='border: 1px solid #dddddd'>subscription</td><td style='border: 1px solid #dddddd'>d50db495-b481-4351-b7a0-3cd220e4ff8e</td></tr><tr><td style='border: 1px solid #dddddd'>2025-02-17 05:56:43.697266+00:00</td><td style='border: 1px solid #dddddd'>records_processed</td><td style='border: 1px solid #dddddd'>4e162837-927f-45b4-a2eb-b26219414844</td><td style='border: 1px solid #dddddd'>208.0</td><td style='border: 1px solid #dddddd'>None</td><td style='border: 1px solid #dddddd'>None</td><td style='border: 1px solid #dddddd'>['algorithm_used:overlap_coefficient', 'computed_on:payload', 'field_type:class', 'field_name:Class Probability for Risk']</td><td style='border: 1px solid #dddddd'>drift_v2</td><td style='border: 1px solid #dddddd'>c743722d-211f-4b87-8507-c0edc19434ae</td><td style='border: 1px solid #dddddd'>fcc4a397-328f-42e1-b74e-0266f863c65b</td><td style='border: 1px solid #dddddd'>subscription</td><td style='border: 1px solid #dddddd'>d50db495-b481-4351-b7a0-3cd220e4ff8e</td></tr><tr><td style='border: 1px solid #dddddd'>2025-02-17 05:56:43.697266+00:00</td><td style='border: 1px solid #dddddd'>confidence_drift_score</td><td style='border: 1px solid #dddddd'>4e162837-927f-45b4-a2eb-b26219414844</td><td style='border: 1px solid #dddddd'>0.4573</td><td style='border: 1px solid #dddddd'>None</td><td style='border: 1px solid #dddddd'>0.05</td><td style='border: 1px solid #dddddd'>['algorithm_used:overlap_coefficient', 'computed_on:payload', 'field_type:class', 'field_name:Class Probability for Risk']</td><td style='border: 1px solid #dddddd'>drift_v2</td><td style='border: 1px solid #dddddd'>c743722d-211f-4b87-8507-c0edc19434ae</td><td style='border: 1px solid #dddddd'>fcc4a397-328f-42e1-b74e-0266f863c65b</td><td style='border: 1px solid #dddddd'>subscription</td><td style='border: 1px solid #dddddd'>d50db495-b481-4351-b7a0-3cd220e4ff8e</td></tr><tr><td style='border: 1px solid #dddddd'>2025-02-17 05:56:47.116747+00:00</td><td style='border: 1px solid #dddddd'>records_processed</td><td style='border: 1px solid #dddddd'>3236f900-eb92-4fc0-a61b-013a95eba0d7</td><td style='border: 1px solid #dddddd'>208.0</td><td style='border: 1px solid #dddddd'>None</td><td style='border: 1px solid #dddddd'>None</td><td style='border: 1px solid #dddddd'>['algorithm_used:jensen_shannon', 'computed_on:payload', 'field_type:class', 'field_name:prediction']</td><td style='border: 1px solid #dddddd'>drift_v2</td><td style='border: 1px solid #dddddd'>c743722d-211f-4b87-8507-c0edc19434ae</td><td style='border: 1px solid #dddddd'>fcc4a397-328f-42e1-b74e-0266f863c65b</td><td style='border: 1px solid #dddddd'>subscription</td><td style='border: 1px solid #dddddd'>d50db495-b481-4351-b7a0-3cd220e4ff8e</td></tr><tr><td style='border: 1px solid #dddddd'>2025-02-17 05:56:47.116747+00:00</td><td style='border: 1px solid #dddddd'>prediction_drift_score</td><td style='border: 1px solid #dddddd'>3236f900-eb92-4fc0-a61b-013a95eba0d7</td><td style='border: 1px solid #dddddd'>0.0062</td><td style='border: 1px solid #dddddd'>None</td><td style='border: 1px solid #dddddd'>0.05</td><td style='border: 1px solid #dddddd'>['algorithm_used:jensen_shannon', 'computed_on:payload', 'field_type:class', 'field_name:prediction']</td><td style='border: 1px solid #dddddd'>drift_v2</td><td style='border: 1px solid #dddddd'>c743722d-211f-4b87-8507-c0edc19434ae</td><td style='border: 1px solid #dddddd'>fcc4a397-328f-42e1-b74e-0266f863c65b</td><td style='border: 1px solid #dddddd'>subscription</td><td style='border: 1px solid #dddddd'>d50db495-b481-4351-b7a0-3cd220e4ff8e</td></tr>\n",
       "            </table>\n",
       "        </body>\n",
       "        </HTML>"
      ],
      "text/plain": [
       "<IPython.core.display.HTML object>"
      ]
     },
     "metadata": {},
     "output_type": "display_data"
    },
    {
     "name": "stdout",
     "output_type": "stream",
     "text": [
      "Note: First 10 records were displayed.\n"
     ]
    }
   ],
   "source": [
    "wos_client.monitor_instances.show_metrics(monitor_instance_id=drift_v2_monitor_instance_id)"
   ]
  },
  {
   "cell_type": "markdown",
   "metadata": {
    "id": "4f65f4d6-3eed-4f57-86aa-c70ba53c2a6d"
   },
   "source": [
    "# 7. Fairness monitoring <a name=\"fairness\"></a>"
   ]
  },
  {
   "cell_type": "markdown",
   "metadata": {
    "id": "beb1a400-2083-4fd4-815c-7678cbccdc82"
   },
   "source": [
    "### Enable the fairness monitor\n",
    "\n",
    "The following code cell, will enable the fairness monitor."
   ]
  },
  {
   "cell_type": "code",
   "execution_count": 322,
   "metadata": {
    "id": "adf2ab5c-ff27-4cbc-9e5e-da3d6049a48a"
   },
   "outputs": [
    {
     "name": "stdout",
     "output_type": "stream",
     "text": [
      "{\n",
      "  \"metadata\": {\n",
      "    \"id\": \"709b1e3d-ab3e-4e6d-a62d-df4f17a535ff\",\n",
      "    \"crn\": \"crn:v1:bluemix:public:aiopenscale:us-south:a/na:00000000-0000-0000-0000-000000000000:monitor_instance:709b1e3d-ab3e-4e6d-a62d-df4f17a535ff\",\n",
      "    \"url\": \"/v2/monitor_instances/709b1e3d-ab3e-4e6d-a62d-df4f17a535ff\",\n",
      "    \"created_at\": \"2025-02-17T06:14:47.655000Z\",\n",
      "    \"created_by\": \"cpadmin\"\n",
      "  },\n",
      "  \"entity\": {\n",
      "    \"data_mart_id\": \"00000000-0000-0000-0000-000000000000\",\n",
      "    \"monitor_definition_id\": \"fairness\",\n",
      "    \"target\": {\n",
      "      \"target_type\": \"subscription\",\n",
      "      \"target_id\": \"d50db495-b481-4351-b7a0-3cd220e4ff8e\"\n",
      "    },\n",
      "    \"parameters\": {\n",
      "      \"training_data_last_processed_time\": \"2025-01-17T09:40:55.219953Z\",\n",
      "      \"min_records\": 100,\n",
      "      \"features\": [\n",
      "        {\n",
      "          \"minority\": [\n",
      "            \"female\"\n",
      "          ],\n",
      "          \"feature\": \"Sex\",\n",
      "          \"metric_ids\": [\n",
      "            \"fairness_value\",\n",
      "            \"statistical_parity_difference\",\n",
      "            \"average_odds_difference\",\n",
      "            \"average_abs_odds_difference\",\n",
      "            \"false_negative_rate_difference\",\n",
      "            \"false_positive_rate_difference\",\n",
      "            \"false_discovery_rate_difference\",\n",
      "            \"false_omission_rate_difference\",\n",
      "            \"error_rate_difference\"\n",
      "          ],\n",
      "          \"majority\": [\n",
      "            \"male\"\n",
      "          ],\n",
      "          \"threshold\": 0.95\n",
      "        },\n",
      "        {\n",
      "          \"minority\": [\n",
      "            [\n",
      "              18,\n",
      "              25\n",
      "            ]\n",
      "          ],\n",
      "          \"feature\": \"Age\",\n",
      "          \"metric_ids\": [\n",
      "            \"fairness_value\",\n",
      "            \"statistical_parity_difference\",\n",
      "            \"average_odds_difference\",\n",
      "            \"average_abs_odds_difference\",\n",
      "            \"false_negative_rate_difference\",\n",
      "            \"false_positive_rate_difference\",\n",
      "            \"false_discovery_rate_difference\",\n",
      "            \"false_omission_rate_difference\",\n",
      "            \"error_rate_difference\"\n",
      "          ],\n",
      "          \"majority\": [\n",
      "            [\n",
      "              26,\n",
      "              75\n",
      "            ]\n",
      "          ],\n",
      "          \"threshold\": 0.95\n",
      "        }\n",
      "      ],\n",
      "      \"training_data_measurements_computed\": false,\n",
      "      \"favourable_class\": [\n",
      "        \"No Risk\"\n",
      "      ],\n",
      "      \"training_data_distributions\": {\n",
      "        \"fields\": [\n",
      "          \"feature\",\n",
      "          \"feature_value\",\n",
      "          \"fav_count\",\n",
      "          \"unfav_count\",\n",
      "          \"group\"\n",
      "        ],\n",
      "        \"values\": [\n",
      "          [\n",
      "            \"Sex\",\n",
      "            \"male\",\n",
      "            23,\n",
      "            7,\n",
      "            \"reference\"\n",
      "          ],\n",
      "          [\n",
      "            \"Sex\",\n",
      "            \"female\",\n",
      "            17,\n",
      "            4,\n",
      "            \"monitored\"\n",
      "          ],\n",
      "          [\n",
      "            \"Age\",\n",
      "            [\n",
      "              26,\n",
      "              75\n",
      "            ],\n",
      "            34,\n",
      "            11,\n",
      "            \"reference\"\n",
      "          ],\n",
      "          [\n",
      "            \"Age\",\n",
      "            [\n",
      "              18,\n",
      "              25\n",
      "            ],\n",
      "            6,\n",
      "            0,\n",
      "            \"monitored\"\n",
      "          ]\n",
      "        ]\n",
      "      },\n",
      "      \"training_data_records_count\": 51,\n",
      "      \"training_data_class_label\": \"Risk\",\n",
      "      \"unfavourable_class\": [\n",
      "        \"Risk\"\n",
      "      ]\n",
      "    },\n",
      "    \"thresholds\": [\n",
      "      {\n",
      "        \"metric_id\": \"fairness_value\",\n",
      "        \"type\": \"lower_limit\",\n",
      "        \"value\": 85.0,\n",
      "        \"specific_values\": [\n",
      "          {\n",
      "            \"value\": 95.0,\n",
      "            \"applies_to\": [\n",
      "              {\n",
      "                \"type\": \"tag\",\n",
      "                \"key\": \"feature\",\n",
      "                \"value\": \"Sex\"\n",
      "              }\n",
      "            ]\n",
      "          },\n",
      "          {\n",
      "            \"value\": 95.0,\n",
      "            \"applies_to\": [\n",
      "              {\n",
      "                \"type\": \"tag\",\n",
      "                \"key\": \"feature\",\n",
      "                \"value\": \"Age\"\n",
      "              }\n",
      "            ]\n",
      "          }\n",
      "        ]\n",
      "      },\n",
      "      {\n",
      "        \"metric_id\": \"fairness_value\",\n",
      "        \"type\": \"upper_limit\",\n",
      "        \"value\": 125.0,\n",
      "        \"specific_values\": [\n",
      "          {\n",
      "            \"value\": 125.0,\n",
      "            \"applies_to\": [\n",
      "              {\n",
      "                \"type\": \"tag\",\n",
      "                \"key\": \"feature\",\n",
      "                \"value\": \"Sex\"\n",
      "              }\n",
      "            ]\n",
      "          }\n",
      "        ]\n",
      "      },\n",
      "      {\n",
      "        \"metric_id\": \"fairness_value\",\n",
      "        \"type\": \"lower_limit\",\n",
      "        \"value\": 85.0,\n",
      "        \"specific_values\": [\n",
      "          {\n",
      "            \"value\": 95.0,\n",
      "            \"applies_to\": [\n",
      "              {\n",
      "                \"type\": \"tag\",\n",
      "                \"key\": \"feature\",\n",
      "                \"value\": \"Sex\"\n",
      "              }\n",
      "            ]\n",
      "          },\n",
      "          {\n",
      "            \"value\": 95.0,\n",
      "            \"applies_to\": [\n",
      "              {\n",
      "                \"type\": \"tag\",\n",
      "                \"key\": \"feature\",\n",
      "                \"value\": \"Age\"\n",
      "              }\n",
      "            ]\n",
      "          }\n",
      "        ]\n",
      "      },\n",
      "      {\n",
      "        \"metric_id\": \"fairness_value\",\n",
      "        \"type\": \"upper_limit\",\n",
      "        \"value\": 125.0,\n",
      "        \"specific_values\": [\n",
      "          {\n",
      "            \"value\": 125.0,\n",
      "            \"applies_to\": [\n",
      "              {\n",
      "                \"type\": \"tag\",\n",
      "                \"key\": \"feature\",\n",
      "                \"value\": \"Age\"\n",
      "              }\n",
      "            ]\n",
      "          }\n",
      "        ]\n",
      "      },\n",
      "      {\n",
      "        \"metric_id\": \"statistical_parity_difference\",\n",
      "        \"type\": \"lower_limit\",\n",
      "        \"value\": -0.3,\n",
      "        \"specific_values\": [\n",
      "          {\n",
      "            \"value\": -0.3,\n",
      "            \"applies_to\": [\n",
      "              {\n",
      "                \"type\": \"tag\",\n",
      "                \"key\": \"feature\",\n",
      "                \"value\": \"Sex\"\n",
      "              }\n",
      "            ]\n",
      "          }\n",
      "        ]\n",
      "      },\n",
      "      {\n",
      "        \"metric_id\": \"statistical_parity_difference\",\n",
      "        \"type\": \"upper_limit\",\n",
      "        \"value\": 0.3,\n",
      "        \"specific_values\": [\n",
      "          {\n",
      "            \"value\": 0.3,\n",
      "            \"applies_to\": [\n",
      "              {\n",
      "                \"type\": \"tag\",\n",
      "                \"key\": \"feature\",\n",
      "                \"value\": \"Sex\"\n",
      "              }\n",
      "            ]\n",
      "          }\n",
      "        ]\n",
      "      },\n",
      "      {\n",
      "        \"metric_id\": \"statistical_parity_difference\",\n",
      "        \"type\": \"lower_limit\",\n",
      "        \"value\": -0.3,\n",
      "        \"specific_values\": [\n",
      "          {\n",
      "            \"value\": -0.3,\n",
      "            \"applies_to\": [\n",
      "              {\n",
      "                \"type\": \"tag\",\n",
      "                \"key\": \"feature\",\n",
      "                \"value\": \"Age\"\n",
      "              }\n",
      "            ]\n",
      "          }\n",
      "        ]\n",
      "      },\n",
      "      {\n",
      "        \"metric_id\": \"statistical_parity_difference\",\n",
      "        \"type\": \"upper_limit\",\n",
      "        \"value\": 0.3,\n",
      "        \"specific_values\": [\n",
      "          {\n",
      "            \"value\": 0.3,\n",
      "            \"applies_to\": [\n",
      "              {\n",
      "                \"type\": \"tag\",\n",
      "                \"key\": \"feature\",\n",
      "                \"value\": \"Age\"\n",
      "              }\n",
      "            ]\n",
      "          }\n",
      "        ]\n",
      "      },\n",
      "      {\n",
      "        \"metric_id\": \"average_odds_difference\",\n",
      "        \"type\": \"lower_limit\",\n",
      "        \"value\": -0.15\n",
      "      },\n",
      "      {\n",
      "        \"metric_id\": \"average_odds_difference\",\n",
      "        \"type\": \"upper_limit\",\n",
      "        \"value\": 0.15\n",
      "      },\n",
      "      {\n",
      "        \"metric_id\": \"average_abs_odds_difference\",\n",
      "        \"type\": \"lower_limit\",\n",
      "        \"value\": -0.15\n",
      "      },\n",
      "      {\n",
      "        \"metric_id\": \"average_abs_odds_difference\",\n",
      "        \"type\": \"upper_limit\",\n",
      "        \"value\": 0.15\n",
      "      },\n",
      "      {\n",
      "        \"metric_id\": \"false_negative_rate_difference\",\n",
      "        \"type\": \"lower_limit\",\n",
      "        \"value\": -0.15\n",
      "      },\n",
      "      {\n",
      "        \"metric_id\": \"false_negative_rate_difference\",\n",
      "        \"type\": \"upper_limit\",\n",
      "        \"value\": 0.15\n",
      "      },\n",
      "      {\n",
      "        \"metric_id\": \"false_positive_rate_difference\",\n",
      "        \"type\": \"lower_limit\",\n",
      "        \"value\": -0.15\n",
      "      },\n",
      "      {\n",
      "        \"metric_id\": \"false_positive_rate_difference\",\n",
      "        \"type\": \"upper_limit\",\n",
      "        \"value\": 0.15\n",
      "      },\n",
      "      {\n",
      "        \"metric_id\": \"false_discovery_rate_difference\",\n",
      "        \"type\": \"lower_limit\",\n",
      "        \"value\": -0.15\n",
      "      },\n",
      "      {\n",
      "        \"metric_id\": \"false_discovery_rate_difference\",\n",
      "        \"type\": \"upper_limit\",\n",
      "        \"value\": 0.15\n",
      "      },\n",
      "      {\n",
      "        \"metric_id\": \"false_omission_rate_difference\",\n",
      "        \"type\": \"lower_limit\",\n",
      "        \"value\": -0.15\n",
      "      },\n",
      "      {\n",
      "        \"metric_id\": \"false_omission_rate_difference\",\n",
      "        \"type\": \"upper_limit\",\n",
      "        \"value\": 0.15\n",
      "      },\n",
      "      {\n",
      "        \"metric_id\": \"error_rate_difference\",\n",
      "        \"type\": \"lower_limit\",\n",
      "        \"value\": -0.15\n",
      "      },\n",
      "      {\n",
      "        \"metric_id\": \"error_rate_difference\",\n",
      "        \"type\": \"upper_limit\",\n",
      "        \"value\": 0.15\n",
      "      }\n",
      "    ],\n",
      "    \"schedule\": {\n",
      "      \"repeat_interval\": 1,\n",
      "      \"repeat_unit\": \"week\",\n",
      "      \"start_time\": {\n",
      "        \"type\": \"relative\",\n",
      "        \"delay_unit\": \"minute\",\n",
      "        \"delay\": 10\n",
      "      },\n",
      "      \"repeat_type\": \"week\"\n",
      "    },\n",
      "    \"status\": {\n",
      "      \"state\": \"preparing\"\n",
      "    }\n",
      "  }\n",
      "}\n"
     ]
    }
   ],
   "source": [
    "target = Target(\n",
    "    target_type=TargetTypes.SUBSCRIPTION,\n",
    "    target_id=subscription_id\n",
    ")\n",
    "\n",
    "fairness_statistics_json = None\n",
    "with open(\"fairness_statistics.json\", \"r\") as fp:\n",
    "    fairness_statistics_json = json.load(fp)\n",
    "    \n",
    "parameters = fairness_statistics_json[\"parameters\"]\n",
    "thresholds = fairness_statistics_json[\"thresholds\"]\n",
    "\n",
    "fairness_monitor_details = wos_client.monitor_instances.create(\n",
    "    data_mart_id=data_mart_id,\n",
    "    monitor_definition_id=wos_client.monitor_definitions.MONITORS.FAIRNESS.ID,\n",
    "    target=target,\n",
    "    parameters=parameters,\n",
    "    thresholds=thresholds\n",
    ").result\n",
    "\n",
    "fairness_monitor_instance_id = fairness_monitor_details.metadata.id\n",
    "print(fairness_monitor_details)"
   ]
  },
  {
   "cell_type": "markdown",
   "metadata": {
    "id": "0785fe3e-ffff-40ec-88db-395793cd1fc0"
   },
   "source": [
    "### Check monitor instance status"
   ]
  },
  {
   "cell_type": "code",
   "execution_count": 323,
   "metadata": {
    "id": "dcc4b37d-4505-42c9-a218-870f2bebd826"
   },
   "outputs": [
    {
     "name": "stdout",
     "output_type": "stream",
     "text": [
      "06:14:47 preparing\n",
      "06:15:18 preparing\n",
      "06:15:48 active\n"
     ]
    }
   ],
   "source": [
    "fairness_state = fairness_monitor_details.entity.status.state\n",
    "\n",
    "while fairness_state not in (\"active\", \"error\"):\n",
    "    print(datetime.utcnow().strftime('%H:%M:%S'), fairness_state)\n",
    "    monitor_instance_details = wos_client.monitor_instances.get(monitor_instance_id=fairness_monitor_instance_id).result\n",
    "    fairness_state = monitor_instance_details.entity.status.state\n",
    "    time.sleep(30)\n",
    "\n",
    "print(datetime.utcnow().strftime('%H:%M:%S'), fairness_state)"
   ]
  },
  {
   "cell_type": "markdown",
   "metadata": {
    "id": "80c1e0ac-faa9-4779-9942-d4adc7ec0252"
   },
   "source": [
    "### Run an on-demand evaluation\n",
    "Please make sure you have data in payload table in hive. Fairness evaluation will use this data for its metrics computation."
   ]
  },
  {
   "cell_type": "code",
   "execution_count": 324,
   "metadata": {
    "id": "d16e9269-ca4b-4ce3-9b41-03c88174f01b"
   },
   "outputs": [
    {
     "name": "stdout",
     "output_type": "stream",
     "text": [
      "{\n",
      "  \"metadata\": {\n",
      "    \"id\": \"bedee9eb-d818-4de5-96bd-976311dbdafe\",\n",
      "    \"crn\": \"crn:v1:bluemix:public:aiopenscale:us-south:a/na:00000000-0000-0000-0000-000000000000:run:bedee9eb-d818-4de5-96bd-976311dbdafe\",\n",
      "    \"url\": \"/v2/monitor_instances/709b1e3d-ab3e-4e6d-a62d-df4f17a535ff/runs/bedee9eb-d818-4de5-96bd-976311dbdafe\",\n",
      "    \"created_at\": \"2025-02-17T06:15:48.436000Z\",\n",
      "    \"created_by\": \"cpadmin\"\n",
      "  },\n",
      "  \"entity\": {\n",
      "    \"triggered_by\": \"user\",\n",
      "    \"parameters\": {\n",
      "      \"favourable_class\": [\n",
      "        \"No Risk\"\n",
      "      ],\n",
      "      \"features\": [\n",
      "        {\n",
      "          \"feature\": \"Sex\",\n",
      "          \"majority\": [\n",
      "            \"male\"\n",
      "          ],\n",
      "          \"metric_ids\": [\n",
      "            \"fairness_value\",\n",
      "            \"statistical_parity_difference\",\n",
      "            \"average_odds_difference\",\n",
      "            \"average_abs_odds_difference\",\n",
      "            \"false_negative_rate_difference\",\n",
      "            \"false_positive_rate_difference\",\n",
      "            \"false_discovery_rate_difference\",\n",
      "            \"false_omission_rate_difference\",\n",
      "            \"error_rate_difference\"\n",
      "          ],\n",
      "          \"minority\": [\n",
      "            \"female\"\n",
      "          ],\n",
      "          \"threshold\": 0.95\n",
      "        },\n",
      "        {\n",
      "          \"feature\": \"Age\",\n",
      "          \"majority\": [\n",
      "            [\n",
      "              26,\n",
      "              75\n",
      "            ]\n",
      "          ],\n",
      "          \"metric_ids\": [\n",
      "            \"fairness_value\",\n",
      "            \"statistical_parity_difference\",\n",
      "            \"average_odds_difference\",\n",
      "            \"average_abs_odds_difference\",\n",
      "            \"false_negative_rate_difference\",\n",
      "            \"false_positive_rate_difference\",\n",
      "            \"false_discovery_rate_difference\",\n",
      "            \"false_omission_rate_difference\",\n",
      "            \"error_rate_difference\"\n",
      "          ],\n",
      "          \"minority\": [\n",
      "            [\n",
      "              18,\n",
      "              25\n",
      "            ]\n",
      "          ],\n",
      "          \"threshold\": 0.95\n",
      "        }\n",
      "      ],\n",
      "      \"min_records\": 100,\n",
      "      \"training_data_class_label\": \"Risk\",\n",
      "      \"training_data_distributions\": {\n",
      "        \"fields\": [\n",
      "          \"feature\",\n",
      "          \"feature_value\",\n",
      "          \"fav_count\",\n",
      "          \"unfav_count\",\n",
      "          \"group\"\n",
      "        ],\n",
      "        \"values\": [\n",
      "          [\n",
      "            \"Sex\",\n",
      "            \"male\",\n",
      "            23,\n",
      "            7,\n",
      "            \"reference\"\n",
      "          ],\n",
      "          [\n",
      "            \"Sex\",\n",
      "            \"female\",\n",
      "            17,\n",
      "            4,\n",
      "            \"monitored\"\n",
      "          ],\n",
      "          [\n",
      "            \"Age\",\n",
      "            [\n",
      "              26,\n",
      "              75\n",
      "            ],\n",
      "            34,\n",
      "            11,\n",
      "            \"reference\"\n",
      "          ],\n",
      "          [\n",
      "            \"Age\",\n",
      "            [\n",
      "              18,\n",
      "              25\n",
      "            ],\n",
      "            6,\n",
      "            0,\n",
      "            \"monitored\"\n",
      "          ]\n",
      "        ]\n",
      "      },\n",
      "      \"training_data_last_processed_time\": \"2025-01-17T09:40:55.219953Z\",\n",
      "      \"training_data_measurements_computed\": false,\n",
      "      \"training_data_records_count\": 51,\n",
      "      \"unfavourable_class\": [\n",
      "        \"Risk\"\n",
      "      ]\n",
      "    },\n",
      "    \"status\": {\n",
      "      \"state\": \"running\",\n",
      "      \"queued_at\": \"2025-02-17T06:15:48.430000Z\",\n",
      "      \"started_at\": \"2025-02-17T06:15:48.436000Z\",\n",
      "      \"operators\": []\n",
      "    }\n",
      "  }\n",
      "}\n"
     ]
    }
   ],
   "source": [
    "# Trigger on-demand run\n",
    "\n",
    "monitoring_run_details = wos_client.monitor_instances.run(monitor_instance_id=fairness_monitor_instance_id).result\n",
    "monitoring_run_id=monitoring_run_details.metadata.id\n",
    "\n",
    "print(monitoring_run_details)"
   ]
  },
  {
   "cell_type": "code",
   "execution_count": 325,
   "metadata": {
    "id": "e1ac6adb-1163-471b-b78d-cfc4b8a170f9"
   },
   "outputs": [
    {
     "name": "stdout",
     "output_type": "stream",
     "text": [
      "06:15:48 running\n",
      "06:16:18 running\n",
      "06:16:48 running\n",
      "06:17:18 running\n",
      "06:17:49 running\n",
      "06:18:19 running\n",
      "06:18:49 running\n",
      "06:19:19 running\n",
      "06:19:49 running\n",
      "06:20:19 running\n",
      "06:20:49 running\n",
      "06:21:19 running\n",
      "06:21:49 finished\n"
     ]
    }
   ],
   "source": [
    "# Check run status\n",
    "\n",
    "fairness_run_status = monitoring_run_details.entity.status.state\n",
    "while fairness_run_status not in (\"finished\", \"error\"):\n",
    "    print(datetime.utcnow().strftime(\"%H:%M:%S\"), fairness_run_status)\n",
    "    monitoring_run_details = wos_client.monitor_instances.get_run_details(monitor_instance_id=fairness_monitor_instance_id, monitoring_run_id=monitoring_run_id).result\n",
    "    fairness_run_status = monitoring_run_details.entity.status.state\n",
    "    time.sleep(30)\n",
    "        \n",
    "print(datetime.utcnow().strftime(\"%H:%M:%S\"), fairness_run_status)"
   ]
  },
  {
   "cell_type": "markdown",
   "metadata": {
    "id": "2a57fbb9-246e-4264-b5d6-d64a03884469"
   },
   "source": [
    "### Display fairness metrics"
   ]
  },
  {
   "cell_type": "code",
   "execution_count": 326,
   "metadata": {
    "id": "3675e747-e098-412e-9c42-f3031c828b48"
   },
   "outputs": [
    {
     "data": {
      "text/html": [
       "<HTML>\n",
       "        <body>\n",
       "            <h3>709b1e3d-ab3e-4e6d-a62d-df4f17a535ff Monitor Runs Metrics from: 2025-02-10 06:21:49.492607  till: 2025-02-17 06:21:49.492619</h3>\n",
       "            <table style='border: 1px solid #dddddd; font-family: Courier'>\n",
       "                <th style='border: 1px solid #dddddd'>ts</th><th style='border: 1px solid #dddddd'>id</th><th style='border: 1px solid #dddddd'>measurement_id</th><th style='border: 1px solid #dddddd'>value</th><th style='border: 1px solid #dddddd'>lower_limit</th><th style='border: 1px solid #dddddd'>upper_limit</th><th style='border: 1px solid #dddddd'>tags</th><th style='border: 1px solid #dddddd'>monitor_definition_id</th><th style='border: 1px solid #dddddd'>monitor_instance_id</th><th style='border: 1px solid #dddddd'>run_id</th><th style='border: 1px solid #dddddd'>target_type</th><th style='border: 1px solid #dddddd'>target_id</th>\n",
       "                <tr><td style='border: 1px solid #dddddd'>2025-02-17 06:20:51.414159+00:00</td><td style='border: 1px solid #dddddd'>false_positive_rate_difference</td><td style='border: 1px solid #dddddd'>fec463cd-088b-4b56-8696-e238da3a6eb0</td><td style='border: 1px solid #dddddd'>-0.141</td><td style='border: 1px solid #dddddd'>-0.15</td><td style='border: 1px solid #dddddd'>0.15</td><td style='border: 1px solid #dddddd'>['feature:Sex', 'fairness_metric_type:fairness', 'feature_value:female']</td><td style='border: 1px solid #dddddd'>fairness</td><td style='border: 1px solid #dddddd'>709b1e3d-ab3e-4e6d-a62d-df4f17a535ff</td><td style='border: 1px solid #dddddd'>bedee9eb-d818-4de5-96bd-976311dbdafe</td><td style='border: 1px solid #dddddd'>subscription</td><td style='border: 1px solid #dddddd'>d50db495-b481-4351-b7a0-3cd220e4ff8e</td></tr><tr><td style='border: 1px solid #dddddd'>2025-02-17 06:20:51.414159+00:00</td><td style='border: 1px solid #dddddd'>false_negative_rate_difference</td><td style='border: 1px solid #dddddd'>fec463cd-088b-4b56-8696-e238da3a6eb0</td><td style='border: 1px solid #dddddd'>0.115</td><td style='border: 1px solid #dddddd'>-0.15</td><td style='border: 1px solid #dddddd'>0.15</td><td style='border: 1px solid #dddddd'>['feature:Sex', 'fairness_metric_type:fairness', 'feature_value:female']</td><td style='border: 1px solid #dddddd'>fairness</td><td style='border: 1px solid #dddddd'>709b1e3d-ab3e-4e6d-a62d-df4f17a535ff</td><td style='border: 1px solid #dddddd'>bedee9eb-d818-4de5-96bd-976311dbdafe</td><td style='border: 1px solid #dddddd'>subscription</td><td style='border: 1px solid #dddddd'>d50db495-b481-4351-b7a0-3cd220e4ff8e</td></tr><tr><td style='border: 1px solid #dddddd'>2025-02-17 06:20:51.414159+00:00</td><td style='border: 1px solid #dddddd'>error_rate_difference</td><td style='border: 1px solid #dddddd'>fec463cd-088b-4b56-8696-e238da3a6eb0</td><td style='border: 1px solid #dddddd'>0.0</td><td style='border: 1px solid #dddddd'>-0.15</td><td style='border: 1px solid #dddddd'>0.15</td><td style='border: 1px solid #dddddd'>['feature:Sex', 'fairness_metric_type:fairness', 'feature_value:female']</td><td style='border: 1px solid #dddddd'>fairness</td><td style='border: 1px solid #dddddd'>709b1e3d-ab3e-4e6d-a62d-df4f17a535ff</td><td style='border: 1px solid #dddddd'>bedee9eb-d818-4de5-96bd-976311dbdafe</td><td style='border: 1px solid #dddddd'>subscription</td><td style='border: 1px solid #dddddd'>d50db495-b481-4351-b7a0-3cd220e4ff8e</td></tr><tr><td style='border: 1px solid #dddddd'>2025-02-17 06:20:51.414159+00:00</td><td style='border: 1px solid #dddddd'>false_omission_rate_difference</td><td style='border: 1px solid #dddddd'>fec463cd-088b-4b56-8696-e238da3a6eb0</td><td style='border: 1px solid #dddddd'>-0.007</td><td style='border: 1px solid #dddddd'>-0.15</td><td style='border: 1px solid #dddddd'>0.15</td><td style='border: 1px solid #dddddd'>['feature:Sex', 'fairness_metric_type:fairness', 'feature_value:female']</td><td style='border: 1px solid #dddddd'>fairness</td><td style='border: 1px solid #dddddd'>709b1e3d-ab3e-4e6d-a62d-df4f17a535ff</td><td style='border: 1px solid #dddddd'>bedee9eb-d818-4de5-96bd-976311dbdafe</td><td style='border: 1px solid #dddddd'>subscription</td><td style='border: 1px solid #dddddd'>d50db495-b481-4351-b7a0-3cd220e4ff8e</td></tr><tr><td style='border: 1px solid #dddddd'>2025-02-17 06:20:51.414159+00:00</td><td style='border: 1px solid #dddddd'>fairness_value</td><td style='border: 1px solid #dddddd'>fec463cd-088b-4b56-8696-e238da3a6eb0</td><td style='border: 1px solid #dddddd'>103.9911308203991</td><td style='border: 1px solid #dddddd'>95.0</td><td style='border: 1px solid #dddddd'>125.0</td><td style='border: 1px solid #dddddd'>['feature:Sex', 'fairness_metric_type:fairness', 'feature_value:female']</td><td style='border: 1px solid #dddddd'>fairness</td><td style='border: 1px solid #dddddd'>709b1e3d-ab3e-4e6d-a62d-df4f17a535ff</td><td style='border: 1px solid #dddddd'>bedee9eb-d818-4de5-96bd-976311dbdafe</td><td style='border: 1px solid #dddddd'>subscription</td><td style='border: 1px solid #dddddd'>d50db495-b481-4351-b7a0-3cd220e4ff8e</td></tr><tr><td style='border: 1px solid #dddddd'>2025-02-17 06:20:51.414159+00:00</td><td style='border: 1px solid #dddddd'>statistical_parity_difference</td><td style='border: 1px solid #dddddd'>fec463cd-088b-4b56-8696-e238da3a6eb0</td><td style='border: 1px solid #dddddd'>0.031</td><td style='border: 1px solid #dddddd'>-0.3</td><td style='border: 1px solid #dddddd'>0.3</td><td style='border: 1px solid #dddddd'>['feature:Sex', 'fairness_metric_type:fairness', 'feature_value:female']</td><td style='border: 1px solid #dddddd'>fairness</td><td style='border: 1px solid #dddddd'>709b1e3d-ab3e-4e6d-a62d-df4f17a535ff</td><td style='border: 1px solid #dddddd'>bedee9eb-d818-4de5-96bd-976311dbdafe</td><td style='border: 1px solid #dddddd'>subscription</td><td style='border: 1px solid #dddddd'>d50db495-b481-4351-b7a0-3cd220e4ff8e</td></tr><tr><td style='border: 1px solid #dddddd'>2025-02-17 06:20:51.414159+00:00</td><td style='border: 1px solid #dddddd'>false_discovery_rate_difference</td><td style='border: 1px solid #dddddd'>fec463cd-088b-4b56-8696-e238da3a6eb0</td><td style='border: 1px solid #dddddd'>-0.051</td><td style='border: 1px solid #dddddd'>-0.15</td><td style='border: 1px solid #dddddd'>0.15</td><td style='border: 1px solid #dddddd'>['feature:Sex', 'fairness_metric_type:fairness', 'feature_value:female']</td><td style='border: 1px solid #dddddd'>fairness</td><td style='border: 1px solid #dddddd'>709b1e3d-ab3e-4e6d-a62d-df4f17a535ff</td><td style='border: 1px solid #dddddd'>bedee9eb-d818-4de5-96bd-976311dbdafe</td><td style='border: 1px solid #dddddd'>subscription</td><td style='border: 1px solid #dddddd'>d50db495-b481-4351-b7a0-3cd220e4ff8e</td></tr><tr><td style='border: 1px solid #dddddd'>2025-02-17 06:20:51.414159+00:00</td><td style='border: 1px solid #dddddd'>average_odds_difference</td><td style='border: 1px solid #dddddd'>fec463cd-088b-4b56-8696-e238da3a6eb0</td><td style='border: 1px solid #dddddd'>-0.128</td><td style='border: 1px solid #dddddd'>-0.15</td><td style='border: 1px solid #dddddd'>0.15</td><td style='border: 1px solid #dddddd'>['feature:Sex', 'fairness_metric_type:fairness', 'feature_value:female']</td><td style='border: 1px solid #dddddd'>fairness</td><td style='border: 1px solid #dddddd'>709b1e3d-ab3e-4e6d-a62d-df4f17a535ff</td><td style='border: 1px solid #dddddd'>bedee9eb-d818-4de5-96bd-976311dbdafe</td><td style='border: 1px solid #dddddd'>subscription</td><td style='border: 1px solid #dddddd'>d50db495-b481-4351-b7a0-3cd220e4ff8e</td></tr><tr><td style='border: 1px solid #dddddd'>2025-02-17 06:20:51.414159+00:00</td><td style='border: 1px solid #dddddd'>average_abs_odds_difference</td><td style='border: 1px solid #dddddd'>fec463cd-088b-4b56-8696-e238da3a6eb0</td><td style='border: 1px solid #dddddd'>0.128</td><td style='border: 1px solid #dddddd'>-0.15</td><td style='border: 1px solid #dddddd'>0.15</td><td style='border: 1px solid #dddddd'>['feature:Sex', 'fairness_metric_type:fairness', 'feature_value:female']</td><td style='border: 1px solid #dddddd'>fairness</td><td style='border: 1px solid #dddddd'>709b1e3d-ab3e-4e6d-a62d-df4f17a535ff</td><td style='border: 1px solid #dddddd'>bedee9eb-d818-4de5-96bd-976311dbdafe</td><td style='border: 1px solid #dddddd'>subscription</td><td style='border: 1px solid #dddddd'>d50db495-b481-4351-b7a0-3cd220e4ff8e</td></tr><tr><td style='border: 1px solid #dddddd'>2025-02-17 06:20:51.414159+00:00</td><td style='border: 1px solid #dddddd'>false_positive_rate_difference</td><td style='border: 1px solid #dddddd'>fec463cd-088b-4b56-8696-e238da3a6eb0</td><td style='border: 1px solid #dddddd'>0.006</td><td style='border: 1px solid #dddddd'>-0.15</td><td style='border: 1px solid #dddddd'>0.15</td><td style='border: 1px solid #dddddd'>['feature:Age', 'fairness_metric_type:fairness', 'feature_value:18-25']</td><td style='border: 1px solid #dddddd'>fairness</td><td style='border: 1px solid #dddddd'>709b1e3d-ab3e-4e6d-a62d-df4f17a535ff</td><td style='border: 1px solid #dddddd'>bedee9eb-d818-4de5-96bd-976311dbdafe</td><td style='border: 1px solid #dddddd'>subscription</td><td style='border: 1px solid #dddddd'>d50db495-b481-4351-b7a0-3cd220e4ff8e</td></tr>\n",
       "            </table>\n",
       "        </body>\n",
       "        </HTML>"
      ],
      "text/plain": [
       "<IPython.core.display.HTML object>"
      ]
     },
     "metadata": {},
     "output_type": "display_data"
    },
    {
     "name": "stdout",
     "output_type": "stream",
     "text": [
      "Note: First 10 records were displayed.\n"
     ]
    }
   ],
   "source": [
    "wos_client.monitor_instances.show_metrics(monitor_instance_id=fairness_monitor_instance_id)"
   ]
  },
  {
   "cell_type": "markdown",
   "metadata": {
    "id": "94ee1c52-989a-4b2c-8a6c-d61e307a5d87"
   },
   "source": [
    "# 8. Explainability monitoring <a name=\"explainability\"></a>"
   ]
  },
  {
   "cell_type": "markdown",
   "metadata": {
    "id": "37a1a652-6ca7-4a84-9838-3bb107788d80"
   },
   "source": [
    "### Enable the explainability monitor"
   ]
  },
  {
   "cell_type": "markdown",
   "metadata": {
    "id": "d86ef9b4-395d-45ac-aee8-517ccff2f56d"
   },
   "source": [
    "#### Upload explainability configuration archive\n",
    "In the following code cell, type the path to the explainability configuration archive tar ball."
   ]
  },
  {
   "cell_type": "code",
   "execution_count": 336,
   "metadata": {
    "id": "7294d937-0809-40b2-accb-cfb6ccb44914"
   },
   "outputs": [
    {
     "name": "stdout",
     "output_type": "stream",
     "text": [
      "Deleted existing explainability monitor instance with id:  7d0f8427-8c35-46f3-a18c-e9d5970ba034\n"
     ]
    }
   ],
   "source": [
    "monitor_instances = wos_client.monitor_instances.list().result.monitor_instances\n",
    "for monitor_instance in monitor_instances:\n",
    "    monitor_def_id=monitor_instance.entity.monitor_definition_id\n",
    "    if monitor_def_id == \"explainability\" and monitor_instance.entity.target.target_id == subscription_id:\n",
    "        wos_client.monitor_instances.delete(monitor_instance.metadata.id)\n",
    "        print('Deleted existing explainability monitor instance with id: ', monitor_instance.metadata.id)"
   ]
  },
  {
   "cell_type": "code",
   "execution_count": 337,
   "metadata": {
    "id": "d95deb7a-7649-41ff-90bb-c12d17a2b7ce"
   },
   "outputs": [
    {
     "data": {
      "text/plain": [
       "{'file_name': 'explainability.tar.gz',\n",
       " 'summary': ['loaded data', 'saved to file']}"
      ]
     },
     "execution_count": 337,
     "metadata": {},
     "output_type": "execute_result"
    }
   ],
   "source": [
    "from ibm_watson_studio_lib import access_project_or_space\n",
    "wslib = access_project_or_space()\n",
    "wslib.download_file(\"explainability.tar.gz\")"
   ]
  },
  {
   "cell_type": "code",
   "execution_count": 338,
   "metadata": {
    "id": "cb7fc31c-9321-460a-bb07-6a6fbfe3d18f"
   },
   "outputs": [
    {
     "name": "stdout",
     "output_type": "stream",
     "text": [
      "Uploaded explainability archive successfully.\n"
     ]
    }
   ],
   "source": [
    "with open(\"explainability.tar.gz\", mode=\"rb\") as explainability_tar:\n",
    "    wos_client.monitor_instances.upload_explainability_archive(subscription_id=subscription_id, archive=explainability_tar)\n",
    "\n",
    "print(\"Uploaded explainability archive successfully.\")"
   ]
  },
  {
   "cell_type": "code",
   "execution_count": 339,
   "metadata": {
    "id": "a05a2faa-8a2f-4e8f-b4ac-d688d826f559"
   },
   "outputs": [
    {
     "name": "stdout",
     "output_type": "stream",
     "text": [
      "{\n",
      "  \"metadata\": {\n",
      "    \"id\": \"fd1a1e53-c8b0-4c3a-b4c7-8a827f448978\",\n",
      "    \"crn\": \"crn:v1:bluemix:public:aiopenscale:us-south:a/na:00000000-0000-0000-0000-000000000000:monitor_instance:fd1a1e53-c8b0-4c3a-b4c7-8a827f448978\",\n",
      "    \"url\": \"/v2/monitor_instances/fd1a1e53-c8b0-4c3a-b4c7-8a827f448978\",\n",
      "    \"created_at\": \"2025-02-17T06:26:54.265000Z\",\n",
      "    \"created_by\": \"cpadmin\"\n",
      "  },\n",
      "  \"entity\": {\n",
      "    \"data_mart_id\": \"00000000-0000-0000-0000-000000000000\",\n",
      "    \"monitor_definition_id\": \"explainability\",\n",
      "    \"target\": {\n",
      "      \"target_type\": \"subscription\",\n",
      "      \"target_id\": \"d50db495-b481-4351-b7a0-3cd220e4ff8e\"\n",
      "    },\n",
      "    \"parameters\": {},\n",
      "    \"thresholds\": [\n",
      "      {\n",
      "        \"metric_id\": \"global_explanation_stability\",\n",
      "        \"type\": \"lower_limit\",\n",
      "        \"value\": 0.8\n",
      "      }\n",
      "    ],\n",
      "    \"status\": {\n",
      "      \"state\": \"preparing\"\n",
      "    }\n",
      "  }\n",
      "}\n"
     ]
    }
   ],
   "source": [
    "import time\n",
    "\n",
    "target = Target(\n",
    "    target_type=TargetTypes.SUBSCRIPTION,\n",
    "    target_id=subscription_id\n",
    ")\n",
    "\n",
    "parameters = {\n",
    "# Uncomment the below lines to enable lime global explanation. Available from Cloud Pak for Data version 4.6.4 onwards.\n",
    "#    \"global_explanation\": {\n",
    "#        \"enabled\": True,  # Flag to enable global explanation \n",
    "#        \"explanation_method\": \"lime\",\n",
    "#        \"sample_size\": 1000, # [Optional] The sample size of records to be used for generating payload data global explanation. If not specified entire data in the payload window is used.\n",
    "#    }\n",
    "}\n",
    "\n",
    "explainability_monitor_details = wos_client.monitor_instances.create(\n",
    "    data_mart_id=data_mart_id,\n",
    "    monitor_definition_id=wos_client.monitor_definitions.MONITORS.EXPLAINABILITY.ID,\n",
    "    target=target,\n",
    "    parameters=parameters\n",
    ").result\n",
    "\n",
    "explainability_monitor_instance_id = explainability_monitor_details.metadata.id\n",
    "print(explainability_monitor_details)\n"
   ]
  },
  {
   "cell_type": "markdown",
   "metadata": {
    "id": "c739d08f-ffd1-44be-a8a2-374935211c4b",
    "tags": []
   },
   "source": [
    "### Check monitor instance status"
   ]
  },
  {
   "cell_type": "code",
   "execution_count": 340,
   "metadata": {
    "id": "04f83904-1c33-4f0f-a2c1-ae74b4a4f382"
   },
   "outputs": [
    {
     "name": "stdout",
     "output_type": "stream",
     "text": [
      "06:26:57 active\n"
     ]
    }
   ],
   "source": [
    "explainability_status = None\n",
    "\n",
    "while explainability_status not in (\"active\", \"error\"):\n",
    "    monitor_instance_details = wos_client.monitor_instances.get(monitor_instance_id=explainability_monitor_instance_id).result\n",
    "    explainability_status = monitor_instance_details.entity.status.state\n",
    "    if explainability_status not in (\"active\", \"error\"):\n",
    "        print(datetime.utcnow().strftime('%H:%M:%S'), explainability_status)\n",
    "        time.sleep(30)\n",
    "\n",
    "print(datetime.utcnow().strftime('%H:%M:%S'), explainability_status)"
   ]
  },
  {
   "cell_type": "markdown",
   "metadata": {
    "id": "5444b917-1c8e-469c-83a1-b6575a83c616"
   },
   "source": [
    "### Run an on-demand evaluation\n",
    "Please make sure you have data in Explain queue table in hive. Explainability will use this data for computing explanations."
   ]
  },
  {
   "cell_type": "code",
   "execution_count": 341,
   "metadata": {
    "id": "ee2a075c-4a44-4612-88a7-1d6783cbb382"
   },
   "outputs": [
    {
     "name": "stdout",
     "output_type": "stream",
     "text": [
      "{\n",
      "  \"metadata\": {\n",
      "    \"id\": \"fd1a1e53-c8b0-4c3a-b4c7-8a827f448978\",\n",
      "    \"crn\": \"crn:v1:bluemix:public:aiopenscale:us-south:a/na:00000000-0000-0000-0000-000000000000:monitor_instance:fd1a1e53-c8b0-4c3a-b4c7-8a827f448978\",\n",
      "    \"url\": \"/v2/monitor_instances/fd1a1e53-c8b0-4c3a-b4c7-8a827f448978\",\n",
      "    \"created_at\": \"2025-02-17T06:26:54.265000Z\",\n",
      "    \"created_by\": \"cpadmin\",\n",
      "    \"modified_at\": \"2025-02-17T06:26:55.903000Z\",\n",
      "    \"modified_by\": \"internal-service\"\n",
      "  },\n",
      "  \"entity\": {\n",
      "    \"data_mart_id\": \"00000000-0000-0000-0000-000000000000\",\n",
      "    \"monitor_definition_id\": \"explainability\",\n",
      "    \"target\": {\n",
      "      \"target_type\": \"subscription\",\n",
      "      \"target_id\": \"d50db495-b481-4351-b7a0-3cd220e4ff8e\"\n",
      "    },\n",
      "    \"parameters\": {\n",
      "      \"config_modified_at\": \"2025-02-17T06:26:55.732287Z\",\n",
      "      \"contrastive\": {\n",
      "        \"enabled\": true\n",
      "      },\n",
      "      \"explanations_count\": {\n",
      "        \"failed\": 0,\n",
      "        \"total\": 0\n",
      "      },\n",
      "      \"lime\": {\n",
      "        \"enabled\": true,\n",
      "        \"features_count\": 10,\n",
      "        \"perturbations_count\": 10000\n",
      "      }\n",
      "    },\n",
      "    \"thresholds\": [\n",
      "      {\n",
      "        \"metric_id\": \"global_explanation_stability\",\n",
      "        \"type\": \"lower_limit\",\n",
      "        \"value\": 0.8\n",
      "      }\n",
      "    ],\n",
      "    \"status\": {\n",
      "      \"state\": \"active\"\n",
      "    }\n",
      "  }\n",
      "}\n"
     ]
    }
   ],
   "source": [
    "# Check Explainbility monitor instance details\n",
    "\n",
    "monitor_instance_details = wos_client.monitor_instances.get(monitor_instance_id=explainability_monitor_instance_id).result\n",
    "print(monitor_instance_details)"
   ]
  },
  {
   "cell_type": "code",
   "execution_count": 342,
   "metadata": {
    "id": "e1c6c25d-64af-4afa-a8d2-a2988747f0c6"
   },
   "outputs": [
    {
     "name": "stdout",
     "output_type": "stream",
     "text": [
      "{\n",
      "  \"metadata\": {\n",
      "    \"id\": \"474a9ae7-0e75-4f58-b59c-4df483e00496\",\n",
      "    \"crn\": \"crn:v1:bluemix:public:aiopenscale:us-south:a/na:00000000-0000-0000-0000-000000000000:run:474a9ae7-0e75-4f58-b59c-4df483e00496\",\n",
      "    \"url\": \"/v2/monitor_instances/fd1a1e53-c8b0-4c3a-b4c7-8a827f448978/runs/474a9ae7-0e75-4f58-b59c-4df483e00496\",\n",
      "    \"created_at\": \"2025-02-17T06:27:03.279000Z\",\n",
      "    \"created_by\": \"cpadmin\"\n",
      "  },\n",
      "  \"entity\": {\n",
      "    \"triggered_by\": \"user\",\n",
      "    \"parameters\": {\n",
      "      \"config_modified_at\": \"2025-02-17T06:26:55.732287Z\",\n",
      "      \"contrastive\": {\n",
      "        \"enabled\": true\n",
      "      },\n",
      "      \"explanations_count\": {\n",
      "        \"failed\": 0,\n",
      "        \"total\": 0\n",
      "      },\n",
      "      \"lime\": {\n",
      "        \"enabled\": true,\n",
      "        \"features_count\": 10,\n",
      "        \"perturbations_count\": 10000\n",
      "      }\n",
      "    },\n",
      "    \"status\": {\n",
      "      \"state\": \"running\",\n",
      "      \"queued_at\": \"2025-02-17T06:27:03.273000Z\",\n",
      "      \"started_at\": \"2025-02-17T06:27:03.279000Z\",\n",
      "      \"operators\": []\n",
      "    }\n",
      "  }\n",
      "}\n"
     ]
    }
   ],
   "source": [
    "# Trigger on-demand run\n",
    "\n",
    "monitoring_run_details = wos_client.monitor_instances.run(monitor_instance_id=explainability_monitor_instance_id).result\n",
    "monitoring_run_id=monitoring_run_details.metadata.id\n",
    "\n",
    "print(monitoring_run_details)"
   ]
  },
  {
   "cell_type": "code",
   "execution_count": 343,
   "metadata": {
    "id": "3f827a07-a570-4c46-a5f0-5f71bade9454"
   },
   "outputs": [
    {
     "name": "stdout",
     "output_type": "stream",
     "text": [
      "06:27:04 running\n",
      "06:28:04 running\n",
      "06:29:04 running\n",
      "06:30:04 running\n",
      "06:31:04 running\n",
      "06:32:04 running\n",
      "06:33:04 finished\n"
     ]
    }
   ],
   "source": [
    "# Check run status\n",
    "\n",
    "explainability_run_status = None\n",
    "while explainability_run_status not in (\"finished\", \"error\"):\n",
    "    monitoring_run_details = wos_client.monitor_instances.get_run_details(monitor_instance_id=explainability_monitor_instance_id, monitoring_run_id=monitoring_run_id).result\n",
    "    explainability_run_status = monitoring_run_details.entity.status.state\n",
    "    if explainability_run_status not in (\"finished\", \"error\"):\n",
    "        print(datetime.utcnow().strftime(\"%H:%M:%S\"), explainability_run_status)\n",
    "        time.sleep(60)\n",
    "        \n",
    "print(datetime.utcnow().strftime(\"%H:%M:%S\"), explainability_run_status)"
   ]
  },
  {
   "cell_type": "code",
   "execution_count": 344,
   "metadata": {
    "id": "d4b038b1-7af0-4b8a-9de1-582240ae3b56"
   },
   "outputs": [],
   "source": [
    "# View the global explanation stability metric. When lime global explanation is enabled, the monitor run computes global explanation and publishes global_explanation_stability metric.\n",
    "# wos_client.monitor_instances.show_metrics(monitor_instance_id=explainability_monitor_instance_id)"
   ]
  },
  {
   "cell_type": "markdown",
   "metadata": {
    "id": "26ac04ed-e76f-412e-b30e-2a96b5d5b81c"
   },
   "source": [
    "### Display sample explanations"
   ]
  },
  {
   "cell_type": "code",
   "execution_count": 345,
   "metadata": {
    "id": "1ae76e5a-b98f-4988-9007-ec8c92a97a91"
   },
   "outputs": [
    {
     "name": "stdout",
     "output_type": "stream",
     "text": [
      "{'total_count': 10, 'limit': 50, 'offset': 0, 'explanation_fields': ['explanation_task_id', 'scoring_id', 'created_at', 'finished_at', 'status', 'prediction', 'subscription_id', 'deployment_id', 'asset_name', 'deployment_name', 'probability', 'explanation_type'], 'explanation_values': [['c0f4a565-9cc7-407c-80aa-dcb7441b6274', '9b456a92-550b-42a4-8511-51de1ac0974a', '2025-02-17T06:28:03.724236Z', '2025-02-17T06:28:03.724545Z', 'finished', 'No Risk', 'd50db495-b481-4351-b7a0-3cd220e4ff8e', '2df43684-de1e-4950-b13f-8f1b2cf9fdfe', 'WML-Drift-V2-Batch-IAE-Hive-DO-NOT-DELETE', 'WML-Drift-V2-Batch-IAE-Hive-DO-NOT-DELETE', 0.54, 'lime'], ['085ac80b-0eab-41d4-b851-0ba13bf33a80', 'bd2e17cb-3186-496c-ab9e-ec340c62f74b', '2025-02-17T06:28:03.739849Z', '2025-02-17T06:28:03.740026Z', 'finished', 'Risk', 'd50db495-b481-4351-b7a0-3cd220e4ff8e', '2df43684-de1e-4950-b13f-8f1b2cf9fdfe', 'WML-Drift-V2-Batch-IAE-Hive-DO-NOT-DELETE', 'WML-Drift-V2-Batch-IAE-Hive-DO-NOT-DELETE', 0.83, 'lime'], ['2e052f1f-cce4-4b69-a660-580148a394bc', '11a4add7-c9de-4900-a5dc-96c5b1990638', '2025-02-17T06:28:03.752017Z', '2025-02-17T06:28:03.752167Z', 'finished', 'No Risk', 'd50db495-b481-4351-b7a0-3cd220e4ff8e', '2df43684-de1e-4950-b13f-8f1b2cf9fdfe', 'WML-Drift-V2-Batch-IAE-Hive-DO-NOT-DELETE', 'WML-Drift-V2-Batch-IAE-Hive-DO-NOT-DELETE', 0.64, 'lime'], ['605ecbe1-c394-4c2e-8a98-ee4b216ae172', '9af21997-245a-40dc-8c84-a1edfac717b4', '2025-02-17T06:28:03.748150Z', '2025-02-17T06:28:03.748301Z', 'finished', 'No Risk', 'd50db495-b481-4351-b7a0-3cd220e4ff8e', '2df43684-de1e-4950-b13f-8f1b2cf9fdfe', 'WML-Drift-V2-Batch-IAE-Hive-DO-NOT-DELETE', 'WML-Drift-V2-Batch-IAE-Hive-DO-NOT-DELETE', 0.67, 'lime'], ['0adf8e4e-8222-4ae5-a745-9173ea63ac6d', '7ef6fe09-630d-4060-be14-6705975440fe', '2025-02-17T06:28:03.744213Z', '2025-02-17T06:28:03.744393Z', 'finished', 'No Risk', 'd50db495-b481-4351-b7a0-3cd220e4ff8e', '2df43684-de1e-4950-b13f-8f1b2cf9fdfe', 'WML-Drift-V2-Batch-IAE-Hive-DO-NOT-DELETE', 'WML-Drift-V2-Batch-IAE-Hive-DO-NOT-DELETE', 0.75, 'lime'], ['ca322d9a-1027-4217-ace0-12438d4b1437', 'f6ec8588-97da-4224-878c-7de35f499e7e', '2025-02-17T06:28:05.097768Z', '2025-02-17T06:28:05.098060Z', 'finished', 'No Risk', 'd50db495-b481-4351-b7a0-3cd220e4ff8e', '2df43684-de1e-4950-b13f-8f1b2cf9fdfe', 'WML-Drift-V2-Batch-IAE-Hive-DO-NOT-DELETE', 'WML-Drift-V2-Batch-IAE-Hive-DO-NOT-DELETE', 0.59, 'lime'], ['66db045a-1f13-4a44-9d59-70f985f5c8b4', '6b8cf144-390d-4e22-92a6-b23a190d8b31', '2025-02-17T06:28:05.107767Z', '2025-02-17T06:28:05.108052Z', 'finished', 'No Risk', 'd50db495-b481-4351-b7a0-3cd220e4ff8e', '2df43684-de1e-4950-b13f-8f1b2cf9fdfe', 'WML-Drift-V2-Batch-IAE-Hive-DO-NOT-DELETE', 'WML-Drift-V2-Batch-IAE-Hive-DO-NOT-DELETE', 0.66, 'lime'], ['7450f6f2-97a9-479c-b0cd-4af64a19995f', 'a8d00240-ee15-4bf1-8330-e1a34b2866d4', '2025-02-17T06:28:05.117622Z', '2025-02-17T06:28:05.117864Z', 'finished', 'No Risk', 'd50db495-b481-4351-b7a0-3cd220e4ff8e', '2df43684-de1e-4950-b13f-8f1b2cf9fdfe', 'WML-Drift-V2-Batch-IAE-Hive-DO-NOT-DELETE', 'WML-Drift-V2-Batch-IAE-Hive-DO-NOT-DELETE', 0.6, 'lime'], ['5b33e876-e249-4266-84e0-bd6bf8097613', '9c7f1f7c-caa3-4d07-9af4-08add8f58e43', '2025-02-17T06:28:05.112777Z', '2025-02-17T06:28:05.112965Z', 'finished', 'No Risk', 'd50db495-b481-4351-b7a0-3cd220e4ff8e', '2df43684-de1e-4950-b13f-8f1b2cf9fdfe', 'WML-Drift-V2-Batch-IAE-Hive-DO-NOT-DELETE', 'WML-Drift-V2-Batch-IAE-Hive-DO-NOT-DELETE', 0.64, 'lime'], ['3e7ff22d-5a59-44d7-b3cc-bce288e78af8', '0829d3ac-dfec-4b27-a2a1-76c8c5f84154', '2025-02-17T06:28:05.102737Z', '2025-02-17T06:28:05.102964Z', 'finished', 'No Risk', 'd50db495-b481-4351-b7a0-3cd220e4ff8e', '2df43684-de1e-4950-b13f-8f1b2cf9fdfe', 'WML-Drift-V2-Batch-IAE-Hive-DO-NOT-DELETE', 'WML-Drift-V2-Batch-IAE-Hive-DO-NOT-DELETE', 0.71, 'lime']]}\n"
     ]
    }
   ],
   "source": [
    "explanations = wos_client.monitor_instances.get_all_explaination_tasks(subscription_id=subscription_id).result.to_dict()\n",
    "print(explanations)"
   ]
  },
  {
   "cell_type": "markdown",
   "metadata": {
    "id": "7879530640b049a18f45751445a9379b"
   },
   "source": [
    "### Generate on demand Contrastive explanation\n",
    "\n",
    "Choose any record from payload logging table or Explain Queue table and generate Lime, Contrastive explanations for the record. Please note that contrastive explanations are only supported for structured classification models. So specify the explanation_types accordingly. "
   ]
  },
  {
   "cell_type": "code",
   "execution_count": 346,
   "metadata": {
    "id": "46cc56218e9a4da987789c9a7cc3580f"
   },
   "outputs": [
    {
     "name": "stdout",
     "output_type": "stream",
     "text": [
      "Running explanations on scoring IDs: ['9b456a92-550b-42a4-8511-51de1ac0974a']\n",
      "Getting explanation for explanation task id: 40043996-2f7b-4133-91e0-93f3fd9223e0\n",
      "06:33:13 in_progress\n",
      "06:34:16 in_progress\n",
      "{\n",
      "  \"metadata\": {\n",
      "    \"explanation_task_id\": \"40043996-2f7b-4133-91e0-93f3fd9223e0\",\n",
      "    \"created_by\": \"1000331001\",\n",
      "    \"created_at\": \"2025-02-17T06:33:09.990888Z\",\n",
      "    \"updated_at\": \"2025-02-17T06:34:14.470381Z\"\n",
      "  },\n",
      "  \"entity\": {\n",
      "    \"status\": {\n",
      "      \"state\": \"finished\"\n",
      "    },\n",
      "    \"asset\": {\n",
      "      \"id\": \"94faea99-844a-44fb-8382-3b7b216e9652\",\n",
      "      \"name\": \"WML-Drift-V2-Batch-IAE-Hive-DO-NOT-DELETE\",\n",
      "      \"input_data_type\": \"structured\",\n",
      "      \"problem_type\": \"binary\",\n",
      "      \"deployment\": {\n",
      "        \"id\": \"2df43684-de1e-4950-b13f-8f1b2cf9fdfe\",\n",
      "        \"name\": \"WML-Drift-V2-Batch-IAE-Hive-DO-NOT-DELETE\"\n",
      "      }\n",
      "    },\n",
      "    \"input_features\": [\n",
      "      {\n",
      "        \"name\": \"CheckingStatus\",\n",
      "        \"value\": \"no_checking\",\n",
      "        \"feature_type\": \"categorical\"\n",
      "      },\n",
      "      {\n",
      "        \"name\": \"LoanDuration\",\n",
      "        \"value\": 25,\n",
      "        \"feature_type\": \"numerical\"\n",
      "      },\n",
      "      {\n",
      "        \"name\": \"CreditHistory\",\n",
      "        \"value\": \"credits_paid_to_date\",\n",
      "        \"feature_type\": \"categorical\"\n",
      "      },\n",
      "      {\n",
      "        \"name\": \"LoanPurpose\",\n",
      "        \"value\": \"car_new\",\n",
      "        \"feature_type\": \"categorical\"\n",
      "      },\n",
      "      {\n",
      "        \"name\": \"LoanAmount\",\n",
      "        \"value\": 2852,\n",
      "        \"feature_type\": \"numerical\"\n",
      "      },\n",
      "      {\n",
      "        \"name\": \"ExistingSavings\",\n",
      "        \"value\": \"unknown\",\n",
      "        \"feature_type\": \"categorical\"\n",
      "      },\n",
      "      {\n",
      "        \"name\": \"EmploymentDuration\",\n",
      "        \"value\": \"unemployed\",\n",
      "        \"feature_type\": \"categorical\"\n",
      "      },\n",
      "      {\n",
      "        \"name\": \"InstallmentPercent\",\n",
      "        \"value\": 4,\n",
      "        \"feature_type\": \"numerical\"\n",
      "      },\n",
      "      {\n",
      "        \"name\": \"Sex\",\n",
      "        \"value\": \"female\",\n",
      "        \"feature_type\": \"categorical\"\n",
      "      },\n",
      "      {\n",
      "        \"name\": \"OthersOnLoan\",\n",
      "        \"value\": \"none\",\n",
      "        \"feature_type\": \"categorical\"\n",
      "      },\n",
      "      {\n",
      "        \"name\": \"CurrentResidenceDuration\",\n",
      "        \"value\": 4,\n",
      "        \"feature_type\": \"numerical\"\n",
      "      },\n",
      "      {\n",
      "        \"name\": \"OwnsProperty\",\n",
      "        \"value\": \"car_other\",\n",
      "        \"feature_type\": \"categorical\"\n",
      "      },\n",
      "      {\n",
      "        \"name\": \"Age\",\n",
      "        \"value\": 50,\n",
      "        \"feature_type\": \"numerical\"\n",
      "      },\n",
      "      {\n",
      "        \"name\": \"InstallmentPlans\",\n",
      "        \"value\": \"bank\",\n",
      "        \"feature_type\": \"categorical\"\n",
      "      },\n",
      "      {\n",
      "        \"name\": \"Housing\",\n",
      "        \"value\": \"own\",\n",
      "        \"feature_type\": \"categorical\"\n",
      "      },\n",
      "      {\n",
      "        \"name\": \"ExistingCreditsCount\",\n",
      "        \"value\": 1,\n",
      "        \"feature_type\": \"numerical\"\n",
      "      },\n",
      "      {\n",
      "        \"name\": \"Job\",\n",
      "        \"value\": \"skilled\",\n",
      "        \"feature_type\": \"categorical\"\n",
      "      },\n",
      "      {\n",
      "        \"name\": \"Dependents\",\n",
      "        \"value\": 1,\n",
      "        \"feature_type\": \"numerical\"\n",
      "      },\n",
      "      {\n",
      "        \"name\": \"Telephone\",\n",
      "        \"value\": \"none\",\n",
      "        \"feature_type\": \"categorical\"\n",
      "      },\n",
      "      {\n",
      "        \"name\": \"ForeignWorker\",\n",
      "        \"value\": \"yes\",\n",
      "        \"feature_type\": \"categorical\"\n",
      "      }\n",
      "    ],\n",
      "    \"perturbed\": false,\n",
      "    \"explanations\": [\n",
      "      {\n",
      "        \"explanation_type\": \"contrastive\",\n",
      "        \"pertinent_positive\": {\n",
      "          \"features\": [\n",
      "            {\n",
      "              \"feature_name\": \"CheckingStatus\",\n",
      "              \"feature_value\": \"no_checking\",\n",
      "              \"importance\": 0.0\n",
      "            },\n",
      "            {\n",
      "              \"feature_name\": \"LoanDuration\",\n",
      "              \"feature_value\": 25,\n",
      "              \"importance\": 0.0\n",
      "            },\n",
      "            {\n",
      "              \"feature_name\": \"CreditHistory\",\n",
      "              \"feature_value\": \"credits_paid_to_date\",\n",
      "              \"importance\": 0.0\n",
      "            },\n",
      "            {\n",
      "              \"feature_name\": \"LoanPurpose\",\n",
      "              \"feature_value\": \"car_new\",\n",
      "              \"importance\": 0.0\n",
      "            },\n",
      "            {\n",
      "              \"feature_name\": \"LoanAmount\",\n",
      "              \"feature_value\": 2852,\n",
      "              \"importance\": 0.0\n",
      "            },\n",
      "            {\n",
      "              \"feature_name\": \"ExistingSavings\",\n",
      "              \"feature_value\": \"unknown\",\n",
      "              \"importance\": 0.0\n",
      "            },\n",
      "            {\n",
      "              \"feature_name\": \"EmploymentDuration\",\n",
      "              \"feature_value\": \"unemployed\",\n",
      "              \"importance\": 0.0\n",
      "            },\n",
      "            {\n",
      "              \"feature_name\": \"InstallmentPercent\",\n",
      "              \"feature_value\": 4,\n",
      "              \"importance\": 0.0\n",
      "            },\n",
      "            {\n",
      "              \"feature_name\": \"Sex\",\n",
      "              \"feature_value\": \"female\",\n",
      "              \"importance\": 0.0\n",
      "            },\n",
      "            {\n",
      "              \"feature_name\": \"OthersOnLoan\",\n",
      "              \"feature_value\": \"none\",\n",
      "              \"importance\": 0.0\n",
      "            },\n",
      "            {\n",
      "              \"feature_name\": \"CurrentResidenceDuration\",\n",
      "              \"feature_value\": 4,\n",
      "              \"importance\": 0.0\n",
      "            },\n",
      "            {\n",
      "              \"feature_name\": \"OwnsProperty\",\n",
      "              \"feature_value\": \"car_other\",\n",
      "              \"importance\": 0.0\n",
      "            },\n",
      "            {\n",
      "              \"feature_name\": \"Age\",\n",
      "              \"feature_value\": 50,\n",
      "              \"importance\": 0.0\n",
      "            },\n",
      "            {\n",
      "              \"feature_name\": \"InstallmentPlans\",\n",
      "              \"feature_value\": \"bank\",\n",
      "              \"importance\": 0.0\n",
      "            },\n",
      "            {\n",
      "              \"feature_name\": \"Housing\",\n",
      "              \"feature_value\": \"own\",\n",
      "              \"importance\": 0.0\n",
      "            },\n",
      "            {\n",
      "              \"feature_name\": \"ExistingCreditsCount\",\n",
      "              \"feature_value\": 1,\n",
      "              \"importance\": 0.0\n",
      "            },\n",
      "            {\n",
      "              \"feature_name\": \"Job\",\n",
      "              \"feature_value\": \"skilled\",\n",
      "              \"importance\": 0.0\n",
      "            },\n",
      "            {\n",
      "              \"feature_name\": \"Dependents\",\n",
      "              \"feature_value\": 1,\n",
      "              \"importance\": 0.0\n",
      "            },\n",
      "            {\n",
      "              \"feature_name\": \"Telephone\",\n",
      "              \"feature_value\": \"none\",\n",
      "              \"importance\": 0.0\n",
      "            },\n",
      "            {\n",
      "              \"feature_name\": \"ForeignWorker\",\n",
      "              \"feature_value\": \"yes\",\n",
      "              \"importance\": 0.0\n",
      "            }\n",
      "          ]\n",
      "        },\n",
      "        \"pertinent_negative\": {\n",
      "          \"features\": [\n",
      "            {\n",
      "              \"feature_name\": \"Age\",\n",
      "              \"feature_value\": 29,\n",
      "              \"importance\": 1.0\n",
      "            },\n",
      "            {\n",
      "              \"feature_name\": \"CheckingStatus\",\n",
      "              \"feature_value\": \"no_checking\",\n",
      "              \"importance\": 0.0\n",
      "            },\n",
      "            {\n",
      "              \"feature_name\": \"LoanDuration\",\n",
      "              \"feature_value\": 25,\n",
      "              \"importance\": 0.0\n",
      "            },\n",
      "            {\n",
      "              \"feature_name\": \"CreditHistory\",\n",
      "              \"feature_value\": \"credits_paid_to_date\",\n",
      "              \"importance\": 0.0\n",
      "            },\n",
      "            {\n",
      "              \"feature_name\": \"LoanPurpose\",\n",
      "              \"feature_value\": \"car_new\",\n",
      "              \"importance\": 0.0\n",
      "            },\n",
      "            {\n",
      "              \"feature_name\": \"LoanAmount\",\n",
      "              \"feature_value\": 2852,\n",
      "              \"importance\": 0.0\n",
      "            },\n",
      "            {\n",
      "              \"feature_name\": \"ExistingSavings\",\n",
      "              \"feature_value\": \"unknown\",\n",
      "              \"importance\": 0.0\n",
      "            },\n",
      "            {\n",
      "              \"feature_name\": \"EmploymentDuration\",\n",
      "              \"feature_value\": \"unemployed\",\n",
      "              \"importance\": 0.0\n",
      "            },\n",
      "            {\n",
      "              \"feature_name\": \"InstallmentPercent\",\n",
      "              \"feature_value\": 4,\n",
      "              \"importance\": 0.0\n",
      "            },\n",
      "            {\n",
      "              \"feature_name\": \"Sex\",\n",
      "              \"feature_value\": \"female\",\n",
      "              \"importance\": 0.0\n",
      "            },\n",
      "            {\n",
      "              \"feature_name\": \"OthersOnLoan\",\n",
      "              \"feature_value\": \"none\",\n",
      "              \"importance\": 0.0\n",
      "            },\n",
      "            {\n",
      "              \"feature_name\": \"CurrentResidenceDuration\",\n",
      "              \"feature_value\": 4,\n",
      "              \"importance\": 0.0\n",
      "            },\n",
      "            {\n",
      "              \"feature_name\": \"OwnsProperty\",\n",
      "              \"feature_value\": \"car_other\",\n",
      "              \"importance\": 0.0\n",
      "            },\n",
      "            {\n",
      "              \"feature_name\": \"InstallmentPlans\",\n",
      "              \"feature_value\": \"bank\",\n",
      "              \"importance\": 0.0\n",
      "            },\n",
      "            {\n",
      "              \"feature_name\": \"Housing\",\n",
      "              \"feature_value\": \"own\",\n",
      "              \"importance\": 0.0\n",
      "            },\n",
      "            {\n",
      "              \"feature_name\": \"ExistingCreditsCount\",\n",
      "              \"feature_value\": 1,\n",
      "              \"importance\": 0.0\n",
      "            },\n",
      "            {\n",
      "              \"feature_name\": \"Job\",\n",
      "              \"feature_value\": \"skilled\",\n",
      "              \"importance\": 0.0\n",
      "            },\n",
      "            {\n",
      "              \"feature_name\": \"Dependents\",\n",
      "              \"feature_value\": 1,\n",
      "              \"importance\": 0.0\n",
      "            },\n",
      "            {\n",
      "              \"feature_name\": \"Telephone\",\n",
      "              \"feature_value\": \"none\",\n",
      "              \"importance\": 0.0\n",
      "            },\n",
      "            {\n",
      "              \"feature_name\": \"ForeignWorker\",\n",
      "              \"feature_value\": \"yes\",\n",
      "              \"importance\": 0.0\n",
      "            }\n",
      "          ],\n",
      "          \"prediction\": \"No Risk\",\n",
      "          \"probability\": 0.5943418060777088,\n",
      "          \"is_pn_closest_point_to_pp\": false\n",
      "        }\n",
      "      },\n",
      "      {\n",
      "        \"explanation_type\": \"lime\",\n",
      "        \"predictions\": [\n",
      "          {\n",
      "            \"value\": \"Risk\",\n",
      "            \"probability\": 0.588274739849743,\n",
      "            \"explanation_features\": [\n",
      "              {\n",
      "                \"feature_name\": \"Age\",\n",
      "                \"weight\": 0.2030558444560718,\n",
      "                \"raw_weight\": 0.06507228718328406,\n",
      "                \"feature_range\": {\n",
      "                  \"min\": 48.0,\n",
      "                  \"min_inclusive\": false,\n",
      "                  \"max\": 52.0,\n",
      "                  \"max_inclusive\": true\n",
      "                }\n",
      "              },\n",
      "              {\n",
      "                \"feature_name\": \"CurrentResidenceDuration\",\n",
      "                \"weight\": 0.1458347582855542,\n",
      "                \"raw_weight\": 0.04673493293375941,\n",
      "                \"feature_range\": {\n",
      "                  \"min\": 3.0,\n",
      "                  \"min_inclusive\": false,\n",
      "                  \"max\": 4.0,\n",
      "                  \"max_inclusive\": true\n",
      "                }\n",
      "              },\n",
      "              {\n",
      "                \"feature_name\": \"Telephone\",\n",
      "                \"weight\": -0.12001373106890316,\n",
      "                \"raw_weight\": -0.03846019795673783,\n",
      "                \"feature_value\": \"none\"\n",
      "              },\n",
      "              {\n",
      "                \"feature_name\": \"LoanDuration\",\n",
      "                \"weight\": 0.11669932117962012,\n",
      "                \"raw_weight\": 0.03739804565702798,\n",
      "                \"feature_range\": {\n",
      "                  \"min\": 20.0,\n",
      "                  \"min_inclusive\": false,\n",
      "                  \"max\": 27.0,\n",
      "                  \"max_inclusive\": true\n",
      "                }\n",
      "              },\n",
      "              {\n",
      "                \"feature_name\": \"OwnsProperty\",\n",
      "                \"weight\": -0.1114571464116687,\n",
      "                \"raw_weight\": -0.035718112223548815,\n",
      "                \"feature_value\": \"savings_insurance\"\n",
      "              },\n",
      "              {\n",
      "                \"feature_name\": \"LoanAmount\",\n",
      "                \"weight\": -0.09337970597596569,\n",
      "                \"raw_weight\": -0.029924925631348742,\n",
      "                \"feature_range\": {\n",
      "                  \"min\": 2407.0,\n",
      "                  \"min_inclusive\": false,\n",
      "                  \"max\": 3693.0,\n",
      "                  \"max_inclusive\": true\n",
      "                }\n",
      "              },\n",
      "              {\n",
      "                \"feature_name\": \"Sex\",\n",
      "                \"weight\": -0.08581447842074112,\n",
      "                \"raw_weight\": -0.027500535132276127,\n",
      "                \"feature_value\": \"male\"\n",
      "              },\n",
      "              {\n",
      "                \"feature_name\": \"Dependents\",\n",
      "                \"weight\": -0.04594256587451984,\n",
      "                \"raw_weight\": -0.01472298346561729,\n",
      "                \"feature_range\": {\n",
      "                  \"max\": 1.0,\n",
      "                  \"max_inclusive\": true\n",
      "                }\n",
      "              },\n",
      "              {\n",
      "                \"feature_name\": \"CreditHistory\",\n",
      "                \"weight\": 0.04222362378534029,\n",
      "                \"raw_weight\": 0.013531192762457067,\n",
      "                \"feature_value\": \"prior_payments_delayed\"\n",
      "              },\n",
      "              {\n",
      "                \"feature_name\": \"ExistingCreditsCount\",\n",
      "                \"weight\": -0.03557882454161508,\n",
      "                \"raw_weight\": -0.011401767304050736,\n",
      "                \"feature_range\": {\n",
      "                  \"max\": 1.0,\n",
      "                  \"max_inclusive\": true\n",
      "                }\n",
      "              }\n",
      "            ]\n",
      "          },\n",
      "          {\n",
      "            \"value\": \"0.0\",\n",
      "            \"probability\": 0.411725260150257\n",
      "          }\n",
      "        ]\n",
      "      }\n",
      "    ],\n",
      "    \"scoring_id\": \"9b456a92-550b-42a4-8511-51de1ac0974a\"\n",
      "  }\n",
      "}\n"
     ]
    }
   ],
   "source": [
    "import time\n",
    " # Please enter scoring id(from payload table or Explain Queue table), for which you want to generate an explanation\n",
    " # scoring_ids = [\"<scoring_id_from_pl_or_explain_queue_table>\"]\n",
    "\n",
    "# As an example, we will generate a contrastive explanation for the first scoring id from the list of explanations generated above\n",
    "# as part of the Explainability monitor run\n",
    "scoring_ids = [explanations[\"explanation_values\"][0][1]]\n",
    "print(\"Running explanations on scoring IDs: {}\".format(scoring_ids))\n",
    "\n",
    "explanation_types = [\"lime\", \"contrastive\"]\n",
    "explanation_task_ids = wos_client.monitor_instances.explanation_tasks(scoring_ids=scoring_ids, subscription_id=subscription_id, explanation_types=explanation_types).result.metadata.explanation_task_ids\n",
    "explanation_task_id = explanation_task_ids[0]\n",
    "\n",
    "print(\"Getting explanation for explanation task id: {}\".format(explanation_task_id))\n",
    "explanation = wos_client.monitor_instances.get_explanation_tasks(explanation_task_id, subscription_id=subscription_id).result\n",
    "while explanation.entity.status.state not in (\"finished\", \"error\"):\n",
    "        explanation = wos_client.monitor_instances.get_explanation_tasks(explanation_task_id, subscription_id=subscription_id).result\n",
    "        explanation_run_status = explanation.entity.status.state\n",
    "        if explanation_run_status not in (\"finished\", \"error\"):\n",
    "            print(datetime.utcnow().strftime(\"%H:%M:%S\"), explanation_run_status)\n",
    "            time.sleep(60)\n",
    "            \n",
    "            \n",
    "print(explanation)"
   ]
  },
  {
   "cell_type": "markdown",
   "metadata": {
    "id": "694efb3641b44f25a5bd97bbada224e4"
   },
   "source": [
    "### Cleanup the untarred files"
   ]
  },
  {
   "cell_type": "code",
   "execution_count": null,
   "metadata": {
    "id": "843b2e53c5764050960445dbb8bc82ea"
   },
   "outputs": [],
   "source": [
    "import os\n",
    "files = [\"common_configuration.json\", \"explainability.tar.gz\", \"drift_archive.tar.gz\", \"fairness_statistics.json\"]\n",
    "for file in files:\n",
    "    if os.path.isfile(file):\n",
    "        os.remove(file)"
   ]
  },
  {
   "cell_type": "markdown",
   "metadata": {
    "id": "1133c179-35b3-4cc5-9894-200eee7455ac"
   },
   "source": [
    "## Congratulations!\n",
    "\n",
    "You have finished the Batch demo for IBM Watson OpenScale by using Apache Spark on Cloud Pak for Data IBM Analytics Engine. You can now view the [Watson OpenScale Dashboard](https://url-to-your-cp4d-cluster/aiopenscale). Click the tile for the **German Credit model** to see the quality, drift and fairness monitors. Click the timeseries graph to get detailed information on transactions during a specific time window."
   ]
  }
 ],
 "metadata": {
  "kernelspec": {
   "display_name": "Python 3.11",
   "language": "python",
   "name": "python3"
  },
  "language_info": {
   "codemirror_mode": {
    "name": "ipython",
    "version": 3
   },
   "file_extension": ".py",
   "mimetype": "text/x-python",
   "name": "python",
   "nbconvert_exporter": "python",
   "pygments_lexer": "ipython3",
   "version": "3.11.9"
  },
  "vscode": {
   "interpreter": {
    "hash": "37b82c9850f337b3f8e26ef3a35bf87c9f2cfa1e4ad2c96ec00819afd6ebf7e9"
   }
  }
 },
 "nbformat": 4,
 "nbformat_minor": 4
}
