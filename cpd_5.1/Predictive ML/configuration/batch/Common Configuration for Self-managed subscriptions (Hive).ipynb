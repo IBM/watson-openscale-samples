{
    "cells": [
        {
            "cell_type": "markdown",
            "metadata": {
                "id": "6792c4d9-6be5-47b9-a28d-0f5223b0f158"
            },
            "source": [
                "<img src=\"https://github.com/pmservice/ai-openscale-tutorials/raw/master/notebooks/images/banner.png\" align=\"left\" alt=\"banner\">"
            ]
        },
        {
            "cell_type": "markdown",
            "metadata": {
                "id": "76d458a8-9e85-4867-bbf3-a5eddef732f6"
            },
            "source": [
                "# Notebook for generating configuration for batch subscriptions in IBM Watson OpenScale in IBM Cloud Pak for Data v5.0\n",
                "\n",
                "This notebook shows how to generate the following artefacts:\n",
                "1. Configuration JSON needed to configure an IBM Watson OpenScale subscription.\n",
                "2. Drift Configuration Archive\n",
                "3. Explainability Perturbations Archive\n",
                "3. DDLs for creating Feedback, Payload, Drifted Transactions and Explanations tables\n",
                "\n",
                "The user needs to provide the necessary inputs (where marked) and download the generated artefacts. These artefacts \n",
                "have to be then uploaded to IBM Watson OpenScale UI. \n",
                "\n",
                "PS: This notebook can only generate artefacts for one model at a time. For multiple models, this notebook needs to be run for each model separately.\n",
                "\n",
                "**Contents:**\n",
                "1. [Installing Dependencies](#Installing-Dependencies)\n",
                "2. [Select IBM Watson OpenScale Services](#Select-IBM-Watson-OpenScale-Services)\n",
                "3. [Read sample scoring data](#Read-sample-scoring-data)\n",
                "4. [Specify Model Inputs](#Specify-Model-Inputs)\n",
                "5. [Generate Common Configuration](#Generate-Common-Configuration)\n",
                "6. [Generate DDL for creating Scored Training data table](#Generate-DDL-for-creating-Scored-Training-data-table)\n",
                "6. [Generate DDL for creating Feedback table](#Generate-DDL-for-creating-Feedback-table)\n",
                "7. [Generate DDL for creating Payload table](#Generate-DDL-for-creating-Payload-table)\n",
                "8. [Provide Spark Connection Details](#Provide-Spark-Connection-Details)\n",
                "9. [Provide Storage Inputs](#Provide-Storage-Inputs)\n",
                "10. [Provide Spark Resource Settings [Optional]](#Provide-Spark-Resource-Settings-[Optional])\n",
                "11. [Provide Additional Spark Settings [Optional]](#Provide-Additional-Spark-Settings-[Optional])\n",
                "12. [Provide Drift Parameters [Optional]](#Provide-Drift-Parameters-[Optional])\n",
                "13. [Provide Fairness Parameters [Optional]](#Provide-Fairness-Parameters-[Optional])\n",
                "14. [Run Configuration Job](#Run-Configuration-Job)\n",
                "15. [Download Configuration JSON](#Download-Configuration-JSON)\n",
                "16. [Download Drift Archive](#Download-Drift-Archive)\n",
                "17. [Generate DDL for creating Drifted Transactions Table](#Generate-DDL-for-creating-Drifted-Transactions-table)\n",
                "18. [Generate Perturbations csv](#Generate-Perturbations-csv)\n",
                "19. [Generate DDL for creating Explanations Queue table](#Generate-DDL-for-creating-Explanations-Queue-table)\n",
                "20. [Generate DDL for creating Explanations Table](#Generate-DDL-for-creating-Explanations-Table)\n",
                "21. [Create Configuration Archive](#Create-Configuration-Archive)"
            ]
        },
        {
            "cell_type": "markdown",
            "metadata": {
                "id": "bb5042ca-9088-4e3b-8646-93a6d487c96e"
            },
            "source": [
                "### Installing Dependencies"
            ]
        },
        {
            "cell_type": "code",
            "execution_count": 1,
            "metadata": {
                "id": "e0d9c1b3-fc8d-458f-9315-00afdfe15763",
                "scrolled": true
            },
            "outputs": [
                {
                    "name": "stdout",
                    "output_type": "stream",
                    "text": [
                        "Requirement already satisfied: py4j==0.10.9.7 in /opt/conda/envs/Python-RT24.1-Premium/lib/python3.11/site-packages (from pyspark) (0.10.9.7)\n"
                    ]
                }
            ],
            "source": [
                "# Note: Restart kernel after the dependencies are installed\n",
                "import sys\n",
                "\n",
                "PYTHON = sys.executable\n",
                "\n",
                "!$PYTHON -m pip install --no-warn-conflicts pyspark | tail -n 1  "
            ]
        },
        {
            "cell_type": "markdown",
            "metadata": {
                "id": "66131eaa-1add-4533-9b53-74264aa17b1f"
            },
            "source": [
                "**Note:** For IBM Watson OpenScale Cloud Pak for Data version 5.0"
            ]
        },
        {
            "cell_type": "code",
            "execution_count": 2,
            "metadata": {
                "id": "f082d724-4801-4e28-8b88-c9be134c2fb7"
            },
            "outputs": [
                {
                    "name": "stdout",
                    "output_type": "stream",
                    "text": [
                        "Requirement already satisfied: s3transfer<0.8.0,>=0.7.0 in /opt/conda/envs/Python-RT24.1-Premium/lib/python3.11/site-packages (from boto3->ibm-wos-utils>=5.0.0) (0.7.0)\n"
                    ]
                }
            ],
            "source": [
                "# When this notebook is to be run on a zLinux cluster,\n",
                "# install scikit-learn==1.5.1 using conda before installing ibm-wos-utils\n",
                "# !conda install scikit-learn=1.5.1\n",
                "\n",
                "!$PYTHON -m pip install --no-warn-conflicts \"ibm-wos-utils~=5.1.1\" | tail -n 1"
            ]
        },
        {
            "cell_type": "markdown",
            "metadata": {
                "id": "2b411f70-2544-4a65-ad09-a369cb8fb7c7"
            },
            "source": [
                "### Select IBM Watson OpenScale Services\n",
                "\n",
                "Details of the service-specific flags available:\n",
                "\n",
                "- ENABLE_QUALITY: Flag to allow generation of common configuration details needed if quality alone is selected\n",
                "- ENABLE_FAIRNESS : Flag to allow generation of fairness specific data distribution needed for configuration\n",
                "- ENABLE_MODEL_DRIFT: Flag to allow generation of Drift Archive containing relevant information for Model Drift.\n",
                "- ENABLE_DATA_DRIFT: Flag to allow generation of Drift Archive containing relevant information for Data Drift.\n",
                "- ENABLE_EXPLAINABILITY : Flag to allow generation of explainability configuration and perturbations"
            ]
        },
        {
            "cell_type": "code",
            "execution_count": 3,
            "metadata": {
                "id": "42053e7d-6cb2-4918-bd51-ef885c545537"
            },
            "outputs": [],
            "source": [
                "# ----------------------------------------------------------------------------------------------------\n",
                "# IBM Confidential\n",
                "# OCO Source Materials\n",
                "# 5737-H76\n",
                "# Copyright IBM Corp. 2020, 2023\n",
                "# The source code for this Notebook is not published or other-wise divested of its trade\n",
                "# secrets, irrespective of what has been deposited with the U.S.Copyright Office.\n",
                "# ----------------------------------------------------------------------------------------------------\n",
                "\n",
                "VERSION = \"hive-2.0.9\"\n",
                "\n",
                "# Version history\n",
                "\n",
                "# hive-2.0.9 : Upgrade ibm-wos-utils to 5.0.0\n",
                "# hive-2.0.8 : Upgrade ibm-wos-utils to 4.8.0\n",
                "# hive-2.0.7 : Upgrade ibm-wos-utils to 4.7.0 (scikit-learn has been upgraded to 1.1.1)\n",
                "# hive-2.0.6 : Upgrade ibm-wos-utils to 4.6.0 and update explainability archive with stats.\n",
                "# hive-2.0.5 : Changed the way drift archive is created.\n",
                "# hive-2.0.4 : Upgrade ibm-wos-utils to 4.1.1 (scikit-learn has been upgraded to 1.0.2)\n",
                "# hive-2.0.3 : Add two drift tuning parameters: max_ranges_modifier and tail_discard_threshold; Upgrade ibm-wos-utils to 4.0.34\n",
                "# hive-2.0.2 : Upgrade ibm-wos-utils to 4.0.31\n",
                "# hive-2.0.1 : Make notebook compatible for zLinux environments; Upgrade ibm-wos-utils to 4.0.25\n",
                "# hive-2.0   : Upgrade ibm-wos-utils to 4.0.24\n",
                "# 2.0        : Added support for fairness and explainability\n",
                "# 1.0        : Initial release"
            ]
        },
        {
            "cell_type": "code",
            "execution_count": 4,
            "metadata": {
                "id": "eb0108bc-163e-4a6f-9b48-19729195935e"
            },
            "outputs": [],
            "source": [
                "# Optional Input: Keep an identifiable name. This id is used to append to various table creation DDLs.\n",
                "# A random UUID is used if this is not present.\n",
                "# NOTEBOOK_RUN_ID = \"some_identifiable_name\"\n",
                "NOTEBOOK_RUN_ID = None\n",
                "\n",
                "\n",
                "# Service Configuration Flags\n",
                "ENABLE_QUALITY = True\n",
                "ENABLE_MODEL_DRIFT = True\n",
                "ENABLE_DATA_DRIFT = True\n",
                "ENABLE_EXPLAINABILITY = True\n",
                "ENABLE_FAIRNESS = True\n",
                "\n",
                "RUN_JOB = ENABLE_QUALITY or ENABLE_MODEL_DRIFT or ENABLE_DATA_DRIFT or ENABLE_EXPLAINABILITY or ENABLE_FAIRNESS"
            ]
        },
        {
            "cell_type": "code",
            "execution_count": 5,
            "metadata": {
                "id": "2be55011-f953-4987-b800-f2c72afa48a4"
            },
            "outputs": [
                {
                    "name": "stderr",
                    "output_type": "stream",
                    "text": [
                        "Setting default log level to \"WARN\".\n",
                        "To adjust logging level use sc.setLogLevel(newLevel). For SparkR, use setLogLevel(newLevel).\n",
                        "24/06/26 12:40:39 WARN NativeCodeLoader: Unable to load native-hadoop library for your platform... using builtin-java classes where applicable\n"
                    ]
                }
            ],
            "source": [
                "from pyspark.sql import SparkSession\n",
                "spark = SparkSession.builder.appName(\n",
                "    \"Common Configuration Generation\").getOrCreate()"
            ]
        },
        {
            "cell_type": "markdown",
            "metadata": {
                "id": "6f9ca0ea-7317-482e-aa7d-50936a8d87d8"
            },
            "source": [
                "### Read sample scoring data\n",
                "\n",
                "A sample scoring data is required to infer the schema of the complete data, so the size of the sample should be chosen accordingly. \n",
                "\n",
                "Additionally, the sample scoring data should have the following fields:\n",
                "1. Feature Columns\n",
                "2. Label/Target Column\n",
                "3. Prediction Column (with same data type as the label column)\n",
                "4. Probability Column (an array of model probabilities for all the class labels. Not required for regression models)"
            ]
        },
        {
            "cell_type": "markdown",
            "metadata": {
                "id": "00f3129f-3e45-4a05-be8d-d5edef356d70"
            },
            "source": [
                "**STORAGE_FORMAT** : One of [\"csv\", \"parquet\", \"orc\"]\n",
                "\n",
                "**Note:** \n",
                "1. Please select the format in which your training data is stored in Hive. The same format will be used to generate the various CREATE DDLs in this notebook.\n",
                "2. ORC format is not supported for zLinux environments"
            ]
        },
        {
            "cell_type": "code",
            "execution_count": 6,
            "metadata": {
                "id": "8cdce70d-38b2-4668-a60f-4ca0610314d8"
            },
            "outputs": [],
            "source": [
                "STORAGE_FORMAT = \"csv\"\n",
                "# STORAGE_FORMAT = \"parquet\"\n",
                "# STORAGE_FORMAT = \"orc\""
            ]
        },
        {
            "cell_type": "markdown",
            "metadata": {
                "id": "ec93eff7-9cf7-44f2-8d39-97f1e1d3f8a5"
            },
            "source": [
                "\n",
                "The sample data should be of type `pyspark.sql.dataframe.DataFrame`. The cell below gives samples on:\n",
                "- how to read a CSV file from the local system into a Pyspark Dataframe.\n",
                "- how to read parquet files in a directory from the local system into a Pyspark Dataframe.\n",
                "- how to read orc files in a directory from the local system into a Pyspark Dataframe. [Not supported for zLinux environments]\n",
                "\n",
                "It is important that the same storage format is chosen as the training data, otherwise there could be schema mismatches."
            ]
        },
        {
            "cell_type": "code",
            "execution_count": 7,
            "metadata": {
                "id": "c5778f0d-2990-415d-be21-8fc9bdcc5a23"
            },
            "outputs": [
                {
                    "name": "stderr",
                    "output_type": "stream",
                    "text": [
                        "                                                                                \r"
                    ]
                },
                {
                    "name": "stdout",
                    "output_type": "stream",
                    "text": [
                        "root\n",
                        " |-- CheckingStatus: string (nullable = true)\n",
                        " |-- LoanDuration: integer (nullable = true)\n",
                        " |-- CreditHistory: string (nullable = true)\n",
                        " |-- LoanPurpose: string (nullable = true)\n",
                        " |-- LoanAmount: integer (nullable = true)\n",
                        " |-- ExistingSavings: string (nullable = true)\n",
                        " |-- EmploymentDuration: string (nullable = true)\n",
                        " |-- InstallmentPercent: integer (nullable = true)\n",
                        " |-- Sex: string (nullable = true)\n",
                        " |-- OthersOnLoan: string (nullable = true)\n",
                        " |-- CurrentResidenceDuration: integer (nullable = true)\n",
                        " |-- OwnsProperty: string (nullable = true)\n",
                        " |-- Age: integer (nullable = true)\n",
                        " |-- InstallmentPlans: string (nullable = true)\n",
                        " |-- Housing: string (nullable = true)\n",
                        " |-- ExistingCreditsCount: integer (nullable = true)\n",
                        " |-- Job: string (nullable = true)\n",
                        " |-- Dependents: integer (nullable = true)\n",
                        " |-- Telephone: string (nullable = true)\n",
                        " |-- ForeignWorker: string (nullable = true)\n",
                        " |-- Risk: string (nullable = true)\n",
                        " |-- prediction: string (nullable = true)\n",
                        " |-- probability: string (nullable = true)\n",
                        "\n"
                    ]
                }
            ],
            "source": [
                "if STORAGE_FORMAT == \"csv\":\n",
                "    # Load a csv or a directory containing csv files as PySpark DataFrame\n",
                "    # spark_df = spark.read.csv(\"/path/to/dir/containing/csv/files\", header=True, inferSchema=True)\n",
                "    pass\n",
                "\n",
                "elif STORAGE_FORMAT == \"parquet\":\n",
                "    # Load a directory containing parquet files as PySpark DataFrame\n",
                "    # spark_df = spark.read.parquet(\"/path/to/dir/containing/parquet/files\")\n",
                "    pass\n",
                "    \n",
                "elif STORAGE_FORMAT == \"orc\":\n",
                "    # Load a directory containing orc files as PySpark DataFrame\n",
                "    # spark_df = spark.read.orc(\"/path/to/dir/containing/orc/files\")\n",
                "    pass\n",
                "\n",
                "else:\n",
                "    # Load data from any source which matches the schema of the training data\n",
                "    pass\n",
                "\n",
                "spark_df.printSchema()"
            ]
        },
        {
            "cell_type": "markdown",
            "metadata": {
                "id": "168f27c4-6e60-4b45-9724-227e71998138"
            },
            "source": [
                "### Specify Model Inputs"
            ]
        },
        {
            "cell_type": "markdown",
            "metadata": {
                "id": "b00d3b51-a45b-4280-831b-7b5fcdc538d8"
            },
            "source": [
                "#### Specify the Model Type\n",
                "\n",
                "- Specify **binary** if the model is a binary classifier.\n",
                "- Specify **multiclass** if the model is a multi-class classifier.\n",
                "- Specify **regression** if the model is a regressor."
            ]
        },
        {
            "cell_type": "code",
            "execution_count": 8,
            "metadata": {
                "id": "bc509efe-79b3-4b49-90de-b90239f104e8"
            },
            "outputs": [],
            "source": [
                "MODEL_TYPE = \"binary\"\n",
                "# MODEL_TYPE = \"multiclass\"\n",
                "# MODEL_TYPE = \"regression\""
            ]
        },
        {
            "cell_type": "markdown",
            "metadata": {
                "id": "8f1afaa5-8bf0-4289-87e1-8b8ed59828aa"
            },
            "source": [
                "#### Provide Column Details \n",
                "\n",
                "To proceed with this notebook, the following information is required.:\n",
                "\n",
                "- **LABEL_COLUMN**: The column which contains the target field (also known as label column or the class label).\n",
                "- **PREDICTION_COLUMN**: The column containing the model output. This should be of the same data type as the label column.\n",
                "- **PROBABILITY_COLUMN**: The column (of type array) containing the model probabilities for all the possible prediction outcomes. This is not required for regression models.\n",
                "- **CLASS_PROBABILITIES**: The columns (of type double) containing the model probabilities of class labels. This is not required for regression models. For example, for Go Sales model deployed in MS Azure ML Studio, value of this property would be `[\"Scored Probabilities for Class \\\"Camping Equipment\\\"\", \"Scored Probabilities for Class \\\"Mountaineering Equipment\\\"\", \"Scored Probabilities for Class \\\"Personal Accessories\\\"\"]`. Please note escaping double quotes is a must-have requirement for above example.\n",
                "- **PROTECTED_ATTRIBUTES**: [Optional] The columns which exist in training data but are not used to train the model. This is required to monitor fairness on non-feature columns i.e Indirect Bias."
            ]
        },
        {
            "cell_type": "code",
            "execution_count": 9,
            "metadata": {
                "id": "832d2c6e-a616-4b51-bb19-9dac49d15cc2"
            },
            "outputs": [],
            "source": [
                "LABEL_COLUMN = \"<label_column>\"\n",
                "PREDICTION_COLUMN = \"<model prediction column>\"\n",
                "PROBABILITY_COLUMN = \"<model probability column. ignored in case of regression models>\"\n",
                "CLASS_PROBABILITIES = [\"<list of columns containing class probabilities. Ignored in case of regression models>\"]\n",
                "# [Optional] Provide list of protected attributes i.e non-feature columns present in the data.\n",
                "PROTECTED_ATTRIBUTES = []"
            ]
        },
        {
            "cell_type": "markdown",
            "metadata": {
                "id": "e762bae7-90c0-47f3-ad80-60180fd9f6ff"
            },
            "source": [
                "Based on the sample data and key columns provided above, the notebook will deduce the feature columns and the categorical columns. They will be printed in the output of this cell. If you wish to make changes to them, you can do so in the subsequent cell."
            ]
        },
        {
            "cell_type": "code",
            "execution_count": 10,
            "metadata": {
                "id": "6bf53d95-c966-45f4-a2be-fb33a2173c79"
            },
            "outputs": [
                {
                    "name": "stdout",
                    "output_type": "stream",
                    "text": [
                        "Feature Columns : ['CheckingStatus', 'LoanDuration', 'CreditHistory', 'LoanPurpose', 'LoanAmount', 'ExistingSavings', 'EmploymentDuration', 'InstallmentPercent', 'Sex', 'OthersOnLoan', 'CurrentResidenceDuration', 'OwnsProperty', 'Age', 'InstallmentPlans', 'Housing', 'ExistingCreditsCount', 'Job', 'Dependents', 'Telephone', 'ForeignWorker']\n",
                        "Categorical Columns : ['CheckingStatus', 'CreditHistory', 'LoanPurpose', 'ExistingSavings', 'EmploymentDuration', 'Sex', 'OthersOnLoan', 'OwnsProperty', 'InstallmentPlans', 'Housing', 'Job', 'Telephone', 'ForeignWorker']\n"
                    ]
                }
            ],
            "source": [
                "from pyspark.sql.types import BooleanType, StringType\n",
                "\n",
                "feature_columns = spark_df.columns.copy()\n",
                "feature_columns.remove(LABEL_COLUMN)\n",
                "feature_columns.remove(PREDICTION_COLUMN)\n",
                "\n",
                "if MODEL_TYPE != \"regression\":\n",
                "    feature_columns.remove(PROBABILITY_COLUMN)\n",
                "\n",
                "if PROTECTED_ATTRIBUTES:\n",
                "    for protected_attribute in PROTECTED_ATTRIBUTES:\n",
                "        feature_columns.remove(protected_attribute)\n",
                "\n",
                "print(\"Feature Columns : {}\".format(feature_columns))\n",
                "\n",
                "categorical_columns = [f.name for f in spark_df.schema.fields if isinstance(f.dataType, (BooleanType, StringType)) and f.name in feature_columns]\n",
                "print(\"Categorical Columns : {}\".format(categorical_columns))"
            ]
        },
        {
            "cell_type": "code",
            "execution_count": 11,
            "metadata": {
                "id": "528d95cf-b69e-4633-9eb1-a388faa31719"
            },
            "outputs": [],
            "source": [
                "config_info = {\n",
                "    \"problem_type\": MODEL_TYPE,\n",
                "    \"model_type\": MODEL_TYPE,\n",
                "    \"label_column\": LABEL_COLUMN,\n",
                "    \"prediction\": PREDICTION_COLUMN,\n",
                "    \"probability\": PROBABILITY_COLUMN,\n",
                "    \"class_probabilities\": CLASS_PROBABILITIES\n",
                "}\n",
                "\n",
                "config_info[\"feature_columns\"] = feature_columns\n",
                "config_info[\"categorical_columns\"] = categorical_columns\n",
                "config_info[\"protected_attributes\"] = PROTECTED_ATTRIBUTES"
            ]
        },
        {
            "cell_type": "code",
            "execution_count": 12,
            "metadata": {
                "id": "41389001-e200-48d3-ad61-2861e86abad3"
            },
            "outputs": [],
            "source": [
                "from ibm_wos_utils.joblib.utils.notebook_utils import validate_config_info\n",
                "validate_config_info(config_info)"
            ]
        },
        {
            "cell_type": "markdown",
            "metadata": {
                "id": "12575e16-f292-4f03-9801-587d121c7936"
            },
            "source": [
                "### Generate Common Configuration\n",
                "\n",
                "IBM Watson OpenScale requires two additional fields - a unique identifier for each record in your feedback/payload tables (\"scoring_id\") and a timestamp field (\"scoring_timestamp\") denoting when that record entered the table. These fields are automatically added in the common configuration. \n",
                "\n",
                "Please make sure that these fields are present in the respective tables."
            ]
        },
        {
            "cell_type": "code",
            "execution_count": 13,
            "metadata": {
                "id": "eedd4dee-2da6-4236-8b9f-e184e4d2ae01"
            },
            "outputs": [],
            "source": [
                "from ibm_wos_utils.joblib.utils.notebook_utils import generate_schemas\n",
                "\n",
                "common_config = config_info.copy()\n",
                "common_configuration = generate_schemas(spark_df, common_config)\n",
                "\n",
                "config_json = {}\n",
                "config_json[\"common_configuration\"] = common_configuration\n",
                "config_json[\"batch_notebook_version\"] = VERSION"
            ]
        },
        {
            "cell_type": "markdown",
            "metadata": {
                "id": "4fddbc54-773b-4be4-86c9-f279b4a73a03"
            },
            "source": [
                "### Generate DDL for creating Scored Training data table"
            ]
        },
        {
            "cell_type": "code",
            "execution_count": 14,
            "metadata": {
                "id": "9bcbf51e-b783-48b9-b1b7-ef34a5c3cabc"
            },
            "outputs": [
                {
                    "name": "stdout",
                    "output_type": "stream",
                    "text": [
                        "CREATE TABLE IF NOT EXISTS scored_training_table_cc_hive (`CheckingStatus` string, `LoanDuration` int, `CreditHistory` string, `LoanPurpose` string, `LoanAmount` int, `ExistingSavings` string, `EmploymentDuration` string, `InstallmentPercent` int, `Sex` string, `OthersOnLoan` string, `CurrentResidenceDuration` int, `OwnsProperty` string, `Age` int, `InstallmentPlans` string, `Housing` string, `ExistingCreditsCount` int, `Job` string, `Dependents` int, `Telephone` string, `ForeignWorker` string, `Risk` string, `prediction` string, `probability` array<double>) ROW FORMAT DELIMITED FIELDS TERMINATED BY ',' COLLECTION ITEMS TERMINATED BY '|' STORED AS TEXTFILE ;\n"
                    ]
                }
            ],
            "source": [
                "from ibm_wos_utils.joblib.utils.ddl_utils import generate_scored_training_table_ddl\n",
                "\n",
                "# Database Name where Scored Training Table should be created. If None or \"\", the default database is used.\n",
                "SCORED_TRAINING_DATABASE_NAME = None\n",
                "\n",
                "# Path to the Scored Training Data in HDFS. Leave as None if you wish to load data later.\n",
                "path_to_hdfs_directory = None\n",
                "\n",
                "# Additional Table Properties that are required for table creation.\n",
                "# Please set the table property `skip.header.line.count` as shown \n",
                "# if the scored training data is stored as CSV and it contains the header row.\n",
                "# Leave as None if no additional properties are required.\n",
                "# table_properties = {\n",
                "#     \"skip.header.line.count\": 1\n",
                "# }\n",
                "table_properties = None\n",
                "\n",
                "create_ddl = generate_scored_training_table_ddl(config_json, database_name=SCORED_TRAINING_DATABASE_NAME,\\\n",
                "                                         table_suffix=NOTEBOOK_RUN_ID, stored_as=STORAGE_FORMAT,\\\n",
                "                                         path_to_hdfs_directory=path_to_hdfs_directory,\\\n",
                "                                         table_properties=table_properties)\n",
                "print(create_ddl)"
            ]
        },
        {
            "cell_type": "markdown",
            "metadata": {
                "id": "985ea1af-7408-48ac-8f8b-63f484954200"
            },
            "source": [
                "### Generate DDL for creating Feedback table\n"
            ]
        },
        {
            "cell_type": "code",
            "execution_count": 15,
            "metadata": {
                "id": "e28a7210-b473-4109-9e87-d4772d4a6757"
            },
            "outputs": [
                {
                    "name": "stdout",
                    "output_type": "stream",
                    "text": [
                        "CREATE TABLE IF NOT EXISTS feedback_table_cc_hive (`CheckingStatus` string, `LoanDuration` int, `CreditHistory` string, `LoanPurpose` string, `LoanAmount` int, `ExistingSavings` string, `EmploymentDuration` string, `InstallmentPercent` int, `Sex` string, `OthersOnLoan` string, `CurrentResidenceDuration` int, `OwnsProperty` string, `Age` int, `InstallmentPlans` string, `Housing` string, `ExistingCreditsCount` int, `Job` string, `Dependents` int, `Telephone` string, `ForeignWorker` string, `Risk` string, `prediction` string, `probability` array<double>, `scoring_id` string, `scoring_timestamp` timestamp) ROW FORMAT DELIMITED FIELDS TERMINATED BY ',' COLLECTION ITEMS TERMINATED BY '|' STORED AS TEXTFILE ;\n",
                        "CREATE INDEX feedback_table_cc_hive_index ON feedback_table_cc_hive (scoring_timestamp) AS 'COMPACT' WITH DEFERRED REBUILD;\n",
                        "ALTER INDEX feedback_table_cc_hive_index ON feedback_table_cc_hive REBUILD;\n"
                    ]
                }
            ],
            "source": [
                "from ibm_wos_utils.joblib.utils.ddl_utils import generate_feedback_table_ddl\n",
                "\n",
                "# Database Name where Feedback Table should be created. If None or \"\", the default database is used.\n",
                "FEEDBACK_DATABASE_NAME = None\n",
                "\n",
                "# Path to the Feedback Data in HDFS. Leave as None if you wish to load data later.\n",
                "path_to_hdfs_directory = None\n",
                "\n",
                "# Additional Table Properties that are required for table creation.\n",
                "# Please set the table property `skip.header.line.count` as shown \n",
                "# if the feedback data is stored as CSV and it contains the header row.\n",
                "# Leave as None if no additional properties are required.\n",
                "# table_properties = {\n",
                "#     \"skip.header.line.count\": 1\n",
                "# }\n",
                "table_properties = None\n",
                "\n",
                "if ENABLE_QUALITY:\n",
                "    create_ddl = generate_feedback_table_ddl(config_json, database_name=FEEDBACK_DATABASE_NAME,\\\n",
                "                                             table_suffix=NOTEBOOK_RUN_ID, stored_as=STORAGE_FORMAT,\\\n",
                "                                             path_to_hdfs_directory=path_to_hdfs_directory,\\\n",
                "                                             table_properties=table_properties)\n",
                "    print(create_ddl)"
            ]
        },
        {
            "cell_type": "markdown",
            "metadata": {
                "id": "03c8d701-9487-4782-aaa1-7ecaeae2ae71"
            },
            "source": [
                "### Generate DDL for creating Payload table\n",
                "\n",
                "_Please make sure that the `scoring_timestamp` column in your payload data does not have NULL values_"
            ]
        },
        {
            "cell_type": "code",
            "execution_count": 16,
            "metadata": {
                "id": "544f7c4a-8eed-4bb4-965a-0c9335ebecea"
            },
            "outputs": [
                {
                    "name": "stdout",
                    "output_type": "stream",
                    "text": [
                        "CREATE TABLE IF NOT EXISTS payload_table_cc_hive (`CheckingStatus` string, `LoanDuration` int, `CreditHistory` string, `LoanPurpose` string, `LoanAmount` int, `ExistingSavings` string, `EmploymentDuration` string, `InstallmentPercent` int, `Sex` string, `OthersOnLoan` string, `CurrentResidenceDuration` int, `OwnsProperty` string, `Age` int, `InstallmentPlans` string, `Housing` string, `ExistingCreditsCount` int, `Job` string, `Dependents` int, `Telephone` string, `ForeignWorker` string, `prediction` string, `probability` array<double>, `scoring_id` string, `scoring_timestamp` timestamp) ROW FORMAT DELIMITED FIELDS TERMINATED BY ',' COLLECTION ITEMS TERMINATED BY '|' STORED AS TEXTFILE ;\n",
                        "CREATE INDEX payload_table_cc_hive_index ON payload_table_cc_hive (scoring_timestamp) AS 'COMPACT' WITH DEFERRED REBUILD;\n",
                        "ALTER INDEX payload_table_cc_hive_index ON payload_table_cc_hive REBUILD;\n"
                    ]
                }
            ],
            "source": [
                "from ibm_wos_utils.joblib.utils.ddl_utils import generate_payload_table_ddl\n",
                "\n",
                "# Database Name where Payload Table should be created. If None or \"\", the default database is used.\n",
                "PAYLOAD_DATABASE_NAME = None\n",
                "\n",
                "# Path to the Payload Data in HDFS. Leave as None if you wish to load data later.\n",
                "path_to_hdfs_directory = None\n",
                "\n",
                "# Additional Table Properties that are required for table creation.\n",
                "# Please set the table property `skip.header.line.count` as shown \n",
                "# if the payload data is stored as CSV and it contains the header row.\n",
                "# Leave as None if no additional properties are required.\n",
                "# table_properties = {\n",
                "#     \"skip.header.line.count\": 1\n",
                "# }\n",
                "table_properties = None\n",
                "\n",
                "if ENABLE_MODEL_DRIFT or ENABLE_DATA_DRIFT or ENABLE_EXPLAINABILITY or ENABLE_FAIRNESS:\n",
                "    create_ddl = generate_payload_table_ddl(config_json, database_name=PAYLOAD_DATABASE_NAME,\\\n",
                "                                            table_suffix=NOTEBOOK_RUN_ID, stored_as=STORAGE_FORMAT,\\\n",
                "                                            path_to_hdfs_directory=path_to_hdfs_directory,\\\n",
                "                                            table_properties=table_properties)\n",
                "    print(create_ddl)"
            ]
        },
        {
            "cell_type": "markdown",
            "metadata": {
                "id": "6d772cf3-7888-4d94-91dc-4f8c70f1ad7c"
            },
            "source": [
                "### Provide Spark Connection Details\n",
                "\n",
                "1. If your job is going to run on Spark cluster as part of an IBM Analytics Engine instance on IBM Cloud Pak for Data, enter the following details:\n",
                "    \n",
                "    - **IAE_SPARK_DISPLAY_NAME**: Display Name of the Spark instance in IBM Analytics Engine\n",
                "    - **IAE_SPARK_JOBS_ENDPOINT**: Spark Jobs Endpoint for IBM Analytics Engine\n",
                "    - **IBM_CPD_VOLUME**: IBM Cloud Pak for Data storage volume name\n",
                "    - **IBM_CPD_USERNAME**: IBM Cloud Pak for Data username\n",
                "    - **IBM_CPD_APIKEY**: IBM Cloud Pak for Data API key\n",
                "\n",
                "\n",
                "2. If your job is going to run on Spark Cluster as part of a Remote Hadoop Ecosystem, enter the following details:\n",
                "\n",
                "    - **SPARK_MANAGER_ENDPOINT**: Endpoint URL where the Spark Manager Application is running\n",
                "    - **SPARK_MANAGER_USERNAME**: Username to connect to Spark Manager Application\n",
                "    - **SPARK_MANAGER_PASSWORD**: Password to connect to Spark Manager Application"
            ]
        },
        {
            "cell_type": "markdown",
            "metadata": {
                "id": "ff9cc1e4-2b96-4898-b4dc-6323eafa2107"
            },
            "source": [
                "#### Credentials Block for Spark in IAE"
            ]
        },
        {
            "cell_type": "code",
            "execution_count": 17,
            "metadata": {
                "id": "2167df29-cf3b-477e-b1ba-884dcf52b7ce"
            },
            "outputs": [],
            "source": [
                "from ibm_wos_utils.joblib.utils.constants import SparkType\n",
                "\n",
                "IAE_SPARK_DISPLAY_NAME = \"<Display Name of the Spark instance in IBM Analytics Engine>\"\n",
                "IAE_SPARK_JOBS_ENDPOINT = \"<Spark Jobs Endpoint for IBM Analytics Engine>\"\n",
                "IBM_CPD_VOLUME = \"<IBM Cloud Pak for Data storage volume name>\"\n",
                "IBM_CPD_USERNAME = \"<IBM Cloud Pak for Data username>\"\n",
                "IBM_CPD_APIKEY = \"<IBM Cloud Pak for Data API key>\"\n",
                "\n",
                "# Credentials Block for Spark in IAE\n",
                "credentials = {\n",
                "    \"connection\": {\n",
                "        \"display_name\": IAE_SPARK_DISPLAY_NAME,\n",
                "        \"endpoint\": IAE_SPARK_JOBS_ENDPOINT,\n",
                "        \"location_type\": SparkType.IAE_SPARK.value,\n",
                "        \"volume\": IBM_CPD_VOLUME\n",
                "    },\n",
                "    \"credentials\": {\n",
                "        \"username\": IBM_CPD_USERNAME,\n",
                "        \"apikey\": IBM_CPD_APIKEY\n",
                "    }\n",
                "}"
            ]
        },
        {
            "cell_type": "markdown",
            "metadata": {
                "id": "5ee55b06-4158-4e79-a847-b0d037e79d8c"
            },
            "source": [
                "#### Credentials Block for Spark in Remote Hadoop Ecosystem"
            ]
        },
        {
            "cell_type": "code",
            "execution_count": 18,
            "metadata": {
                "id": "14e9ef44-be8f-4a27-92d7-69e9ab63c64a"
            },
            "outputs": [],
            "source": [
                "from ibm_wos_utils.joblib.utils.constants import SparkType\n",
                "\n",
                "SPARK_MANAGER_ENDPOINT = \"<Endpoint URL where Spark Manager Application is running>\"\n",
                "SPARK_MANAGER_USERNAME = \"<Username to connect to Spark Manager Application>\"\n",
                "SPARK_MANAGER_PASSWORD = \"<Password to connect to Spark Manager Application>\"\n",
                "\n",
                "# Credentials Block for Spark in Remote Hadoop Ecosystem\n",
                "credentials = {\n",
                "    \"connection\": {\n",
                "        \"endpoint\": SPARK_MANAGER_ENDPOINT,\n",
                "        \"location_type\": SparkType.REMOTE_SPARK.value\n",
                "    },\n",
                "    \"credentials\": {\n",
                "        \"username\": SPARK_MANAGER_USERNAME,\n",
                "        \"password\": SPARK_MANAGER_PASSWORD\n",
                "    }\n",
                "}"
            ]
        },
        {
            "cell_type": "markdown",
            "metadata": {
                "id": "31076adf-f603-4705-b313-a6a564fe8f8f"
            },
            "source": [
                "### Provide Storage Inputs\n",
                "\n",
                "Enter Hive details. \n",
                " - **HIVE_METASTORE_URI**: Thrift URI for Hive Metastore to connect to\n",
                " - **TRAINING_DATABASE_NAME**: Name of the Database in Hive that has training table/view\n",
                " - **TRAINING_TABLE_NAME**: Name of the Table in HIve that has the scored training data.\n"
            ]
        },
        {
            "cell_type": "code",
            "execution_count": 19,
            "metadata": {
                "id": "81ff2465-5c62-4233-a484-23d3acc4f666"
            },
            "outputs": [],
            "source": [
                "HIVE_METASTORE_URI = \"<Thrift URI for Hive Metastore to connect to>\"\n",
                "TRAINING_DATABASE_NAME = \"<Name of the Database in Hive that has training table/view>\"\n",
                "TRAINING_TABLE_NAME = \"<Name of the Table in Hive that has the scored training data>\"\n",
                "\n",
                "# Flag to indicate if the Hive is secured with kerberos and spark in IAE is used\n",
                "KERBEROS_ENABLED = False \n",
                "# Provide Hadoop delegation token details if KERBEROS_ENABLED is True\n",
                "# Provide either secret_urn of the CP4D vault OR the delegation token endpoint. One of the two fields is mandatory to fetch the delegation token.\n",
                "HIVE_KERBEROS_PRINCIPAL = \"<The kerberos principal used to generate the delegation token>\"\n",
                "DELEGATION_TOKEN_SECRET_URN = \"<The secret_urn of the CP4D vault where the token is stored>\"\n",
                "DELEGATION_TOKEN_ENDPOINT = \"<The REST endpoint which generates and returns the delegation token>\""
            ]
        },
        {
            "cell_type": "code",
            "execution_count": 20,
            "metadata": {
                "id": "527316f3-a5fc-42ee-8070-bbf7822eaa4f"
            },
            "outputs": [],
            "source": [
                "storage_credentials = {}\n",
                "storage_details = {\n",
                "    \"type\": \"hive\",\n",
                "    \"connection\": {\n",
                "        \"metastore_url\": HIVE_METASTORE_URI,\n",
                "    },\n",
                "    \"credentials\": storage_credentials\n",
                "}\n",
                "\n",
                "# If KERBEROS_ENABLED is True, add the Hadoop delegation token details to storage_details\n",
                "if KERBEROS_ENABLED is True:\n",
                "    storage_details[\"connection\"][\"kerberos_enabled\"] = True\n",
                "    storage_details[\"credentials\"][\"kerberos_principal\"] = HIVE_KERBEROS_PRINCIPAL\n",
                "    if DELEGATION_TOKEN_SECRET_URN:\n",
                "        storage_details[\"credentials\"][\"delegation_token_urn\"] = DELEGATION_TOKEN_SECRET_URN\n",
                "    if DELEGATION_TOKEN_ENDPOINT:\n",
                "        storage_details[\"credentials\"][\"delegation_token_endpoint\"] = DELEGATION_TOKEN_ENDPOINT\n",
                "\n",
                "tables = [\n",
                "    {\n",
                "        \"database\": TRAINING_DATABASE_NAME,\n",
                "        \"table\": TRAINING_TABLE_NAME,\n",
                "        \"type\": \"training\"\n",
                "    }\n",
                "]"
            ]
        },
        {
            "cell_type": "markdown",
            "metadata": {
                "id": "57562917-5c4f-4006-8c6b-970589c9e300"
            },
            "source": [
                "### Provide Spark Resource Settings [Optional]\n",
                "\n",
                "Configure how much of your Spark Cluster resources can this job consume. Leave the variable `spark_settings` to `None` or `{}` if no customisation is required."
            ]
        },
        {
            "cell_type": "code",
            "execution_count": 21,
            "metadata": {
                "id": "2c710722-6d2a-4af7-b8d6-2ea2bcd695fa"
            },
            "outputs": [],
            "source": [
                "\"\"\"\n",
                "spark_settings = {\n",
                "    # max_num_executors: Maximum Number of executors to launch for this session\n",
                "    \"max_num_executors\": 2,\n",
                "    \n",
                "    # min_executors: Minimum Number of executors to launch for this session\n",
                "    \"min_executors\": 1,\n",
                "    \n",
                "    # executor_cores: Number of cores to use for each executor\n",
                "    \"executor_cores\": 2,\n",
                "    \n",
                "    # executor_memory: Amount of memory (in GBs) to use per executor process\n",
                "    \"executor_memory\": 1,\n",
                "    \n",
                "    #driver_cores: Number of cores to use for the driver process\n",
                "    \"driver_cores\": 2,\n",
                "    \n",
                "    # driver_memory: Amount of memory (in GBs) to use for the driver process \n",
                "    \"driver_memory\": 1\n",
                "}\n",
                "\"\"\"\n",
                "spark_settings = None"
            ]
        },
        {
            "cell_type": "markdown",
            "metadata": {
                "id": "649f1013-d32a-4843-9ea4-9fe2e7edda1d"
            },
            "source": [
                "### Provide Additional Spark Settings [Optional]\n",
                "\n",
                "Any other Spark property that can be set via **SparkConf**, provide them in the next cell. These properties are sent to the Spark cluster verbatim. Leave the variable `conf` to `None` or `{}` if no additional property is required.\n",
                "\n",
                "- [A list of available properties for Spark 2.4.6](https://spark.apache.org/docs/2.4.6/configuration.html#available-properties)"
            ]
        },
        {
            "cell_type": "code",
            "execution_count": 22,
            "metadata": {
                "id": "a08ff3fc-4e9a-43b0-98f3-2cc06c034321"
            },
            "outputs": [],
            "source": [
                "\"\"\"\n",
                "conf = {\n",
                "    \"spark.yarn.maxAppAttempts\": 1\n",
                "}\n",
                "\"\"\"\n",
                "\n",
                "conf = None"
            ]
        },
        {
            "cell_type": "markdown",
            "metadata": {
                "id": "1795560b-41e9-47c6-9f30-30ffb4f7aea3"
            },
            "source": [
                "### Provide Drift Parameters [Optional]\n",
                "\n",
                "Provide the optional drift parameters in this cell. Leave the variable `drift_parameters` to `None` or `{}` if no additional parameter is required."
            ]
        },
        {
            "cell_type": "code",
            "execution_count": 23,
            "metadata": {
                "id": "98813c51-d8cd-4ac3-affc-44f65634c51f"
            },
            "outputs": [],
            "source": [
                "\"\"\"\n",
                "drift_parameters = {\n",
                "    \"model_drift\": {\n",
                "        # enable_drift_model_tuning - Controls whether there will be Hyper-Parameter \n",
                "        # Optimisation in the Drift Detection Model. Default: False\n",
                "        \"enable_drift_model_tuning\": True,\n",
                "        \n",
                "        # max_bins - Specify the maximum number of categories in categorical columns.\n",
                "        # Default: OpenScale will determine an approximate value. Use this only in cases\n",
                "        # where OpenScale approximation fails.\n",
                "        \"max_bins\": 10,\n",
                "    },\n",
                "    \"data_drift\": {\n",
                "        # enable_two_col_learner - Enable learning of data constraints on two column \n",
                "        # combinations. Default: True\n",
                "        \"enable_two_col_learner\": True,\n",
                "        \n",
                "        # use_alt_learner - Boolean parameter which switches learning method to help \n",
                "        # with performance during constraint learning process. Default: False\n",
                "        \"use_alt_learner\": False,\n",
                "        \n",
                "        # categorical_unique_threshold - Used to discard categorical columns with a\n",
                "        # large number of unique values relative to total rows in the column.\n",
                "        # Should be between 0 and 1. Default: 0.8\n",
                "        \"categorical_unique_threshold\": 0.7,\n",
                "        \n",
                "        # max_distinct_categories - Used to discard categorical columns with a large\n",
                "        # absolute number of unique categories. Also, used for not learning\n",
                "        # categorical-categorical constraint, if potential combinations of two columns\n",
                "        # are more than this number. Default: 100000\n",
                "        \"max_distinct_categories\": 10000\n",
                "\n",
                "        # max_ranges_modifier - Affects the number of ranges we find for a numerical column.\n",
                "        # For a numerical column, we learn multiple ranges instead of one min-max depending\n",
                "        # on how sparse data is. This modifier combined with approximate distinct values in\n",
                "        # the column defines the upper limit on how many bins to divide data into during\n",
                "        # multiple ranges computation. This can either be a float or a dictionary of column\n",
                "        # names and float values. Its value should be greater than 0. Default: 0.01\n",
                "        # 1. float: This value is applied for all numerical columns. Default value of 0.01\n",
                "        # indicates total number of bins used during computation of ranges are not more than\n",
                "        # 1% of distinct values in the column.\n",
                "        # 2. dict of str -> float: A column name -> value, dict can be used to over-ride\n",
                "        # individual modifier for each column. If not provided for a column, default value\n",
                "        # of 0.01 will be used.\n",
                "        \"max_ranges_modifier\": 0.01,\n",
                "            \n",
                "        # tail_discard_threshold -- Used to discard off values from either end of data\n",
                "        # distribution in a column if the data is found to have large ranges which results in\n",
                "        # data being divided into a large number of bins for multiple ranges computation. This\n",
                "        # threshold will be used if the these bins are found be greater than\n",
                "        # `max_ranges_modifier * approx_distinct_count` for a column. Default value indicates\n",
                "        # that 1 percentile data from either ends will be discarded. Its value can be between\n",
                "        # 0 and 0.1. Default: 0.01\n",
                "        \"tail_discard_threshold\": 0.01,\n",
                "        \n",
                "        # user_overrides - Used to override drift constraint learning to selectively learn \n",
                "        # constraints on feature columns. Its a list of configuration, each specifying \n",
                "        # whether to learn distribution and/or range constraint on given set of columns.\n",
                "        # First configuration of a given column would take preference.\n",
                "        # \n",
                "        # \"constraint_type\" can have two possible values : single|double - signifying \n",
                "        # if this configuration is for single column or two column constraint learning.\n",
                "        #\n",
                "        # \"learn_distribution_constraint\" : True|False - signifying whether to learn \n",
                "        # distribution constraint for given config or not.\n",
                "        #\n",
                "        # \"learn_range_constraint\" : True|False - signifying whether to learn range \n",
                "        # constraint for given config or not. Only applicable to numerical feature columns.\n",
                "        # \n",
                "        # \"features\" : [] - provides either a list of feature columns to be governed by \n",
                "        # given configuration for constraint learning.\n",
                "        # Its a list of strings containing feature column names if \"constraint_type\" is \"single\".\n",
                "        # Its a list of list of strings containing feature column names if \"constraint_type\" if \n",
                "        # \"double\". If only one column name is provided, all of the two column constraints \n",
                "        # involving this column will be dictated by given configuration during constraint learning.\n",
                "        # This list is case-insensitive.\n",
                "        #\n",
                "        # In the example below, first config block says do not learn distribution and range single \n",
                "        # column constraints for features \"MARITAL_STATUS\", \"PROFESSION\", \"IS_TENT\" and \"age\".\n",
                "        # Second config block says do not learn distribution and range two column constraints \n",
                "        # where \"IS_TENT\", \"PROFESSION\", and \"AGE\" are one of the two columns. Whereas, specifically, \n",
                "        # do not learn two column distribution and range constraint on combination of \"MARITAL_STATUS\" \n",
                "        # and \"PURCHASE_AMOUNT\".\n",
                "        \"user_overrides\": [\n",
                "            {\n",
                "                \"constraint_type\": \"single\",\n",
                "                \"learn_distribution_constraint\": False,\n",
                "                \"learn_range_constraint\": False,\n",
                "                \"features\": [\n",
                "                  \"MARITAL_STATUS\",\n",
                "                  \"PROFESSION\",\n",
                "                  \"IS_TENT\",\n",
                "                  \"age\"\n",
                "                ]\n",
                "            },\n",
                "            {\n",
                "                \"constraint_type\": \"double\",\n",
                "                \"learn_distribution_constraint\": False,\n",
                "                \"learn_range_constraint\": False,\n",
                "                \"features\": [\n",
                "                  [\n",
                "                    \"IS_TENT\"\n",
                "                  ],\n",
                "                  [\n",
                "                    \"MARITAL_STATUS\"\n",
                "                    \"PURCHASE_AMOUNT\"\n",
                "                  ],\n",
                "                  [\n",
                "                    \"PROFESSION\"\n",
                "                  ],\n",
                "                  [\n",
                "                    \"AGE\"\n",
                "                  ]\n",
                "                ]\n",
                "            }\n",
                "        ]\n",
                "    }\n",
                "}\n",
                "\"\"\"\n",
                "drift_parameters = {\n",
                "    \"model_drift\": {\n",
                "        \"enable\": True\n",
                "    },\n",
                "    \"data_drift\": {\n",
                "        \"enable\": True\n",
                "    }\n",
                "}"
            ]
        },
        {
            "cell_type": "markdown",
            "metadata": {
                "id": "ee5cc49b-22b8-4b00-9f08-59d9c2dc557f"
            },
            "source": [
                "### Provide Fairness Parameters [REQUIRED if `ENABLE_FAIRNESS` is set to True]\n",
                "\n",
                "Provide the fairness parameters in this cell. Leave the variable `fairness_parameters` to `None` or `{}` if fairness is not to be enabled."
            ]
        },
        {
            "cell_type": "code",
            "execution_count": 24,
            "metadata": {
                "id": "e90ce007-cd64-452c-8955-ea337ca11bda"
            },
            "outputs": [],
            "source": [
                "\"\"\"\n",
                "fairness_parameters = {\n",
                "    \"features\": [\n",
                "        {\n",
                "            \"feature\": \"<The fairness attribute name>\", # The feature on which the fairness check is to be done\n",
                "            \"majority\": [<majority groups/ranges for categorical/numerical columns respectively>],\n",
                "            \"minority\": [<minority groups/ranges for categorical/numerical columns respectively>],\n",
                "            \"threshold\": <The threshold value between 0 and 1> [OPTIONAL, default value is 0.8]\n",
                "        }\n",
                "    ],\n",
                "    \"class_label\": LABEL_COLUMN,\n",
                "    \"favourable_class\": [<favourable classes/ranges for classification/regression models repectively>],\n",
                "    \"unfavourable_class\": [<unfavourable classes/ranges for classification/regression models repectively>],\n",
                "    \"min_records\": <The minimum number of records on which the fairness check is to be done> [OPTIONAL]\n",
                "\n",
                "    # The following parameters are only supported for subscriptions with a synchronous scoring endpoint.\n",
                "    \n",
                "    \"perform_perturbation\": <(Boolean) Whether the user wants to calculate the balanced (payload + perturbed) data.>,\n",
                "    \"sample_size_percent\": <(Integer 1-100) How much percentage of data to be read for balanced data calculation.>,\n",
                "    \"numerical_perturb_count_per_row\": <[Optional] The number of perturbed rows to be generated per row for numerical perturbation. [Default: 2]>,\n",
                "    \"float_decimal_place_precision\": <[Optional] The decimal place precision to be used for numerical perturbation when data is float.>,\n",
                "    \"numerical_perturb_seed\": <[Optional] The seed to be used for numerical perturbation while picking up random values.>,\n",
                "    \"scoring_page_size\": <[Optional] The size of the page in the number of rows. [Default: 1000]>\n",
                "}\n",
                "\"\"\"\n",
                "\n",
                "fairness_parameters = None"
            ]
        },
        {
            "cell_type": "markdown",
            "metadata": {
                "id": "0153e077-630c-44ac-bfda-647f225c5f14"
            },
            "source": [
                "### Run Configuration Job"
            ]
        },
        {
            "cell_type": "code",
            "execution_count": 25,
            "metadata": {
                "id": "330d51fe-0d88-4d7a-b9ec-42149eb1341e"
            },
            "outputs": [],
            "source": [
                "SHOW_PROGRESS = True\n",
                "\n",
                "arguments = {\n",
                "    \"batch_notebook_version\": VERSION,\n",
                "    \"common_configuration\" : common_configuration,\n",
                "    \"enable_data_drift\": ENABLE_DATA_DRIFT,\n",
                "    \"enable_model_drift\": ENABLE_MODEL_DRIFT,\n",
                "    \"enable_explainability\": ENABLE_EXPLAINABILITY,\n",
                "    \"enable_fairness\": ENABLE_FAIRNESS,\n",
                "    \"monitoring_run_id\": NOTEBOOK_RUN_ID,\n",
                "    \"storage\": storage_details,\n",
                "    \"tables\": tables,\n",
                "    \"show_progress\": SHOW_PROGRESS\n",
                "}\n",
                "\n",
                "if ENABLE_MODEL_DRIFT or ENABLE_DATA_DRIFT:\n",
                "    arguments[\"drift_parameters\"] = drift_parameters\n",
                "    \n",
                "if ENABLE_FAIRNESS:\n",
                "    if fairness_parameters is None or fairness_parameters == {}:\n",
                "        raise ValueError(\"Fairness parameters are required if fairness is enabled.\")\n",
                "    arguments[\"fairness_parameters\"] = fairness_parameters\n",
                "\n",
                "job_params = {\n",
                "    \"arguments\": arguments,\n",
                "    \"spark_settings\": spark_settings,\n",
                "    \"dependency_zip\": [],\n",
                "    \"conf\": conf\n",
                "}"
            ]
        },
        {
            "cell_type": "markdown",
            "metadata": {
                "id": "96d1bed8-a338-4359-a62d-31f072a93afa"
            },
            "source": [
                "The following cell will run the Configuration job. If `SHOW_PROGRESS` is `True`, it will also print the status of job in the output section. Please wait for the status to be **FINISHED**.\n",
                "\n",
                "A successful job status goes through the following values:\n",
                "1. STARTED\n",
                "2. Model Drift Configuration STARTED\n",
                "3. Data Drift Configuration STARTED\n",
                "    - Data Drift: Summary Stats Calculated\n",
                "    - Data Drift: Column Stats calculated.\n",
                "    - Data Drift: (number/total) CategoricalDistributionConstraint columns processed\n",
                "    - Data Drift: (number/total) NumericRangeConstraint columns processed\n",
                "    - Data Drift: (number/total) CategoricalNumericRangeConstraint columns processed\n",
                "    - Data Drift: (number/total) CatCatDistributionConstraint columns processed\n",
                "4. Explainability Configuration STARTED\n",
                "5. Explainability Configuration COMPLETED\n",
                "6. Fairness Configuration STARTED\n",
                "7. Fairness Configuration COMPLETED\n",
                "8. FINISHED\n",
                "\n",
                "If at anytime there is a failure, you will see a **FAILED** status with an exception trace. "
            ]
        },
        {
            "cell_type": "code",
            "execution_count": 26,
            "metadata": {
                "id": "820741e5-8f57-4e09-abd7-493af2f8fb35"
            },
            "outputs": [
                {
                    "name": "stdout",
                    "output_type": "stream",
                    "text": [
                        "Application ID: None; Job ID: 7ef0055a-5b0d-48fb-a95b-31f04cf665c7; Status: FINISHED.\n",
                        "Total Run Time: 4 minutes 54 seconds \n"
                    ]
                }
            ],
            "source": [
                "from ibm_wos_utils.joblib.clients.engine_client import EngineClient\n",
                "from ibm_wos_utils.common.batch.jobs.configuration import Configuration\n",
                "from ibm_wos_utils.joblib.utils.notebook_utils import JobStatus\n",
                "\n",
                "if RUN_JOB:\n",
                "    job_name=\"Configuration_Job\"\n",
                "    client = EngineClient(credentials=credentials)\n",
                "    job_response = client.engine.run_job(job_name=job_name, job_class=Configuration,\n",
                "                                        job_args=job_params, background=True)\n",
                "\n",
                "    # Print Job Status.\n",
                "    if SHOW_PROGRESS:\n",
                "        JobStatus(client, job_response).print_status()"
            ]
        },
        {
            "cell_type": "markdown",
            "metadata": {
                "id": "fecb7416-1b67-49af-9962-f6868fbbbf6c"
            },
            "source": [
                "If `SHOW_PROGRESS` is `False`, you can run the below cell to check the job status at any point manually."
            ]
        },
        {
            "cell_type": "code",
            "execution_count": 27,
            "metadata": {
                "id": "556ec2bc-e86c-43f9-b9c5-177dcc89cfa3"
            },
            "outputs": [],
            "source": [
                "if not SHOW_PROGRESS and RUN_JOB:\n",
                "    job_id = job_response.get(\"id\")\n",
                "    print(client.engine.get_job_status(job_id))"
            ]
        },
        {
            "cell_type": "markdown",
            "metadata": {
                "id": "20395c37-bdfb-47da-bdee-ef6e3d79b20d"
            },
            "source": [
                "### Download Configuration JSON"
            ]
        },
        {
            "cell_type": "code",
            "execution_count": 28,
            "metadata": {
                "id": "b941ef1e-859b-49a6-bccb-ce10ebd232e0"
            },
            "outputs": [
                {
                    "data": {
                        "text/html": [
                            "<a download=\"configuration.json\" href=\"data:text/json;base64,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\" target=\"_blank\">Download Configuration JSON</a>"
                        ],
                        "text/plain": [
                            "<IPython.core.display.HTML object>"
                        ]
                    },
                    "metadata": {},
                    "output_type": "display_data"
                }
            ],
            "source": [
                "import json\n",
                "from ibm_wos_utils.joblib.utils.notebook_utils import create_download_link\n",
                "\n",
                "if RUN_JOB:\n",
                "        configuration = client.engine.get_file(job_response.get(\n",
                "                \"output_file_path\") + \"/configuration.json\")\n",
                "        config=json.loads(json.loads(configuration).get(\"configuration\"))\n",
                "else:\n",
                "        config = config_json\n",
                "        \n",
                "# handle class probabilities explicitly\n",
                "from ibm_wos_utils.joblib.utils.param_utils import get\n",
                "\n",
                "class_probabilities = get(common_configuration, \"class_probabilities\")\n",
                "if class_probabilities:\n",
                "    # clean up any class probability columns already added\n",
                "    updated_output_data_schema_fields = []\n",
                "    for field in get(config, \"common_configuration.output_data_schema.fields\"):\n",
                "        if get(field, \"metadata.modeling_role\") == \"class_probability\":\n",
                "            continue\n",
                "\n",
                "        updated_output_data_schema_fields.append(field)\n",
                "\n",
                "    # add class probabilities to output_data_schema\n",
                "    for class_probability in class_probabilities:\n",
                "        updated_output_data_schema_fields.append({\n",
                "            \"name\": class_probability,\n",
                "            \"type\": \"double\",\n",
                "            \"nullable\": True,\n",
                "            \"metadata\": {\n",
                "                \"modeling_role\": \"class_probability\"\n",
                "            }\n",
                "        })\n",
                "\n",
                "    config[\"common_configuration\"][\"output_data_schema\"][\"fields\"] = updated_output_data_schema_fields\n",
                "    config[\"common_configuration\"][\"probability_fields\"] = class_probabilities\n",
                "\n",
                "display(create_download_link(config, \"config\"))"
            ]
        },
        {
            "cell_type": "markdown",
            "metadata": {
                "id": "1f95d41b-dd01-4b33-802d-eb27d93443ef"
            },
            "source": [
                "### Download Drift Archive\n"
            ]
        },
        {
            "cell_type": "code",
            "execution_count": 29,
            "metadata": {
                "id": "5c648ccb-9ceb-4ffb-b82d-b3eaea6354d1"
            },
            "outputs": [],
            "source": [
                "import os\n",
                "from ibm_wos_utils.joblib.utils.notebook_utils import create_download_link\n",
                "    \n",
                "if ENABLE_MODEL_DRIFT or ENABLE_DATA_DRIFT:\n",
                "    drift_archive = client.engine.get_file(job_response.get(\n",
                "            \"output_file_path\") + \"/drift_configuration\")\n",
                "\n",
                "    with open(\"tmp_drift.tar.gz\", mode=\"wb\") as tf:\n",
                "        tf.write(drift_archive)\n",
                "        tf.flush()\n",
                "        drift_archive = spark.sparkContext.sequenceFile(tf.name).collect()[0][1]\n",
                "    os.remove(\"tmp_drift.tar.gz\")"
            ]
        },
        {
            "cell_type": "markdown",
            "metadata": {
                "id": "cffd3596-8cd1-494c-9b0b-65a135e6928b"
            },
            "source": [
                "If `ENABLE_MODEL_DRIFT` is True, and the `MODEL_TYPE` is not `regression`, the below cell checks the training quality of the drift detection model that helps detect the drop in the accuracy. If the trained drift detection model did not meet the quality standards, a message is displayed to the user saying that the drop in the accuracy cannot be detected. By default, the drift model is generated without any hyperparameter optimisation, i.e. `enable_drift_model_tuning` is `False`. The user can try running the configuration job again by setting `enable_drift_model_tuning` as `True` in the `drift_parameters` above."
            ]
        },
        {
            "cell_type": "code",
            "execution_count": 30,
            "metadata": {
                "id": "c1dcb47a-e9c0-42a1-b97a-aa09b8278c4b"
            },
            "outputs": [],
            "source": [
                "from ibm_wos_utils.joblib.utils.notebook_utils import check_for_ddm_quality\n",
                "\n",
                "if ENABLE_MODEL_DRIFT and (MODEL_TYPE != \"regression\"):\n",
                "    check_for_ddm_quality(drift_archive)"
            ]
        },
        {
            "cell_type": "code",
            "execution_count": 31,
            "metadata": {
                "id": "bbe7b434-7331-43d2-875d-d9fd1753463f"
            },
            "outputs": [
                {
                    "data": {
                        "text/html": [
                            "<a download=\"drift.tar.gz\" href=\"data:text/json;base64,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\" target=\"_blank\">Download Drift Configuration Archive</a>"
                        ],
                        "text/plain": [
                            "<IPython.core.display.HTML object>"
                        ]
                    },
                    "metadata": {},
                    "output_type": "display_data"
                }
            ],
            "source": [
                "if ENABLE_MODEL_DRIFT or ENABLE_DATA_DRIFT:\n",
                "    display(create_download_link(drift_archive, \"drift\", client))"
            ]
        },
        {
            "cell_type": "markdown",
            "metadata": {
                "id": "2cb81ff8-729d-471c-9e3d-bbc8001cde73"
            },
            "source": [
                "### Generate DDL for creating Drifted Transactions table\n"
            ]
        },
        {
            "cell_type": "code",
            "execution_count": 32,
            "metadata": {
                "id": "d6c6a3df-93d6-4a8b-b70e-253443279430"
            },
            "outputs": [
                {
                    "name": "stdout",
                    "output_type": "stream",
                    "text": [
                        "CREATE TABLE IF NOT EXISTS drifted_transactions_table_cc_hive (`scoring_id` string, `scoring_timestamp` timestamp, `constraints_generation_id` string, `run_id` string, `is_model_drift` boolean, `drift_model_confidence` float, `is_data_drift` boolean, `categorical_distribution_constraint` string, `numeric_range_constraint` string, `catcat_distribution_constraint` string, `catnum_range_constraint` string) ROW FORMAT DELIMITED FIELDS TERMINATED BY ',' STORED AS TEXTFILE ;\n",
                        "CREATE INDEX drifted_transactions_table_cc_hive_index ON TABLE None.drifted_transactions_table_cc_hive (run_id, is_model_drift, is_data_drift) AS 'BITMAP' WITH DEFERRED REBUILD;\n",
                        "ALTER INDEX drifted_transactions_table_cc_hive_index ON None.drifted_transactions_table_cc_hive REBUILD;\n"
                    ]
                }
            ],
            "source": [
                "from ibm_wos_utils.joblib.utils.ddl_utils import generate_drift_table_ddl\n",
                "\n",
                "# Database Name where Drifted Transactions Table should be created. If None or \"\", the default database is used.\n",
                "DRIFT_DATABASE_NAME = None\n",
                "\n",
                "if ENABLE_MODEL_DRIFT or ENABLE_DATA_DRIFT:\n",
                "    print(generate_drift_table_ddl(drift_archive, database_name=DRIFT_DATABASE_NAME, table_suffix=NOTEBOOK_RUN_ID))"
            ]
        },
        {
            "cell_type": "markdown",
            "metadata": {
                "id": "3e1b3103-6ae2-4891-879e-b7961edd764d"
            },
            "source": [
                "### Generate Perturbations csv"
            ]
        },
        {
            "cell_type": "code",
            "execution_count": 33,
            "metadata": {
                "id": "ad2d2cf7-0d10-4bbf-9e00-28c19ed9f317"
            },
            "outputs": [],
            "source": [
                "import pandas as pd\n",
                "from ibm_wos_utils.explainability.utils.perturbations import Perturbations\n",
                "\n",
                "if ENABLE_EXPLAINABILITY:\n",
                "    perturbations_count = 10000 # Default value for the number of perturbations to be generated as part of perturbations.csv file.\n",
                "    # Please modify the perturbations_count variable according to your usecase.\n",
                "    perturbations=Perturbations(training_stats=config.get(\"explainability_configuration\"), problem_type=MODEL_TYPE, perturbations_count=perturbations_count)\n",
                "    perturbs_df = perturbations.generate_perturbations()\n",
                "    perturbs_df.to_csv(\"perturbations.csv\",index=False)"
            ]
        },
        {
            "cell_type": "markdown",
            "metadata": {
                "id": "91aa29a8-ab80-4afa-8902-fbd7e5329a85"
            },
            "source": [
                "The perturbations required for explainability are stored in the file perturbations.csv in the above step.\n",
                "The user should score these perturbations against the user model and provide the scoring output as a dataframe with **probability** and **prediction** columns.\n",
                "\n",
                "Please note that the probability and prediction column names in the data frame should be same as PREDICTION_COLUMN and PROBABILITY_COLUMN provided in this notebook.\n",
                "\n",
                "Note: For regression model probability column is not required."
            ]
        },
        {
            "cell_type": "code",
            "execution_count": 34,
            "metadata": {
                "id": "71b9a917-cd5d-437e-a5eb-f8cf39cdcce3"
            },
            "outputs": [
                {
                    "data": {
                        "text/plain": [
                            "{'file_name': 'scored_perturbations_gcr.csv',\n",
                            " 'summary': ['loaded data', 'saved to file']}"
                        ]
                    },
                    "execution_count": 34,
                    "metadata": {},
                    "output_type": "execute_result"
                }
            ],
            "source": [
                "from ibm_watson_studio_lib import access_project_or_space\n",
                "wslib = access_project_or_space()\n",
                "wslib.download_file(\"scored_perturbations.csv\")"
            ]
        },
        {
            "cell_type": "code",
            "execution_count": 35,
            "metadata": {
                "id": "258422f9-8309-4831-8d83-9f8344e1603c"
            },
            "outputs": [
                {
                    "data": {
                        "text/html": [
                            "<a download=\"explainability.tar.gz\" href=\"data:text/json;base64,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\" target=\"_blank\">Download Explainability Configuration Archive</a>"
                        ],
                        "text/plain": [
                            "<IPython.core.display.HTML object>"
                        ]
                    },
                    "metadata": {},
                    "output_type": "display_data"
                }
            ],
            "source": [
                "from ibm_wos_utils.joblib.utils.notebook_utils import create_archive\n",
                "from json import dumps\n",
                "\n",
                "if ENABLE_EXPLAINABILITY:\n",
                "    # Load a csv output of scored perturbations as pandas DataFrame\n",
                "    scored_perturbations = pd.read_csv(\"scored_perturbations.csv\")\n",
                "    archive_data = {\n",
                "        \"perturbations.csv\": scored_perturbations.to_csv(index=False),\n",
                "        \"training_statistics.json\": dumps({\"training_statistics\": config.get(\"explainability_configuration\")})\n",
                "    }\n",
                "    display(create_archive(data=archive_data, archive_name=\"explainability\"))"
            ]
        },
        {
            "cell_type": "markdown",
            "metadata": {
                "id": "a55797df-d38e-49f0-b379-cfbd64106836"
            },
            "source": [
                "### Generate DDL for creating Explanations Queue table [Optional]\n",
                "\n",
                "Provide details for creating a separate Explanations Queue table. IBM Watson OpenScale will be generating Explanations for all the transactions in this table. Alternatively, the payload table created in the notebook above can also be used for this purpose."
            ]
        },
        {
            "cell_type": "code",
            "execution_count": 36,
            "metadata": {
                "id": "e9e14aac-7f63-42fa-9b51-7eaa68c6b183"
            },
            "outputs": [
                {
                    "name": "stdout",
                    "output_type": "stream",
                    "text": [
                        "CREATE TABLE IF NOT EXISTS explanations_queue_table_cc_hive (`CheckingStatus` string, `LoanDuration` int, `CreditHistory` string, `LoanPurpose` string, `LoanAmount` int, `ExistingSavings` string, `EmploymentDuration` string, `InstallmentPercent` int, `Sex` string, `OthersOnLoan` string, `CurrentResidenceDuration` int, `OwnsProperty` string, `Age` int, `InstallmentPlans` string, `Housing` string, `ExistingCreditsCount` int, `Job` string, `Dependents` int, `Telephone` string, `ForeignWorker` string, `prediction` string, `probability` array<double>, `scoring_id` string, `scoring_timestamp` timestamp) ROW FORMAT DELIMITED FIELDS TERMINATED BY ',' COLLECTION ITEMS TERMINATED BY '|' STORED AS TEXTFILE ;\n",
                        "CREATE INDEX explanations_queue_table_cc_hive_index ON explanations_queue_table_cc_hive (scoring_timestamp) AS 'COMPACT' WITH DEFERRED REBUILD;\n",
                        "ALTER INDEX explanations_queue_table_cc_hive_index ON explanations_queue_table_cc_hive REBUILD;\n"
                    ]
                }
            ],
            "source": [
                "from ibm_wos_utils.joblib.utils.ddl_utils import generate_payload_table_ddl\n",
                "\n",
                "# Database Name where Explanations Queue Table should be created. If None or \"\", the default database is used.\n",
                "EXPLANATIONS_QUEUE_DATABASE_NAME = None\n",
                "\n",
                "# Path to the Explanations Queue Data in HDFS. Leave as None if you wish to load data later.\n",
                "path_to_hdfs_directory = None\n",
                "\n",
                "# Additional Table Properties that are required for table creation.\n",
                "# Please set the table property `skip.header.line.count` as shown \n",
                "# if the payload data is stored as CSV and it contains the header row.\n",
                "# Leave as None if no additional properties are required.\n",
                "# table_properties = {\n",
                "#     \"skip.header.line.count\": 1\n",
                "# }\n",
                "table_properties = None\n",
                "\n",
                "if ENABLE_EXPLAINABILITY:\n",
                "    create_ddl = generate_payload_table_ddl(config_json, database_name=EXPLANATIONS_QUEUE_DATABASE_NAME,\\\n",
                "                                            table_prefix=\"explanations_queue\",table_suffix=NOTEBOOK_RUN_ID, stored_as=STORAGE_FORMAT,\\\n",
                "                                            path_to_hdfs_directory=path_to_hdfs_directory,\\\n",
                "                                            table_properties=table_properties)\n",
                "    print(create_ddl)"
            ]
        },
        {
            "cell_type": "markdown",
            "metadata": {
                "id": "56fafab7-bbf7-4a7b-b838-88cf28ffe5ba"
            },
            "source": [
                "### Generate DDL for creating Explanations Table"
            ]
        },
        {
            "cell_type": "code",
            "execution_count": 37,
            "metadata": {
                "id": "766b509e-9bb1-4fdd-b124-ac4ec7948bde"
            },
            "outputs": [
                {
                    "name": "stdout",
                    "output_type": "stream",
                    "text": [
                        "CREATE TABLE IF NOT EXISTS explanations_table_cc_hive (`asset_name` string, `binding_id` string, `created_at` timestamp, `created_by` string, `data_mart_id` string, `deployment_id` string, `deployment_name` string, `error` binary, `explanation` binary, `explanation_input` binary, `explanation_output` binary, `explanation_type` string, `finished_at` timestamp, `object_hash` string, `prediction` string, `probability` float, `request_id` string, `scoring_id` string, `status` string, `subscription_id` string) STORED AS ORC ;\n"
                    ]
                }
            ],
            "source": [
                "from ibm_wos_utils.joblib.utils.ddl_utils import generate_explanations_table_ddl\n",
                "\n",
                "# Database Name where Explanations Table should be created. If None or \"\", the default database is used.\n",
                "EXPLANATIONS_DATABASE_NAME = None\n",
                "\n",
                "# Path to the Explanations table Data in HDFS. If not provided hive will determine automatically.\n",
                "path_to_hdfs_directory = None\n",
                "\n",
                "if ENABLE_EXPLAINABILITY:\n",
                "    # For zLinux environments, please uncomment this to generate DDL.\n",
                "    # print(generate_explanations_table_ddl(database_name=EXPLANATIONS_DATABASE_NAME, table_suffix=NOTEBOOK_RUN_ID, path_to_hdfs_directory=path_to_hdfs_directory, stored_as=\"csv\"))\n",
                "    \n",
                "    # For all other environments, please use this to generate DDL.\n",
                "    print(generate_explanations_table_ddl(database_name=EXPLANATIONS_DATABASE_NAME, table_suffix=NOTEBOOK_RUN_ID, path_to_hdfs_directory=path_to_hdfs_directory))\n",
                "    "
            ]
        },
        {
            "cell_type": "markdown",
            "metadata": {
                "id": "2975e467-a8c0-4c54-ac16-933965a2a931"
            },
            "source": [
                "### Create Configuration Archive\n",
                "Collect all the artefacts generated above - configuration json, drift archive, explain archive - and bundle them into an archive. This archive is used as is by IBM Watson OpenScale UI/SDK to onboard model for monitoring. \n",
                "UI/SDK will identify the different artefacts and appropriately upload to respective monitors."
            ]
        },
        {
            "cell_type": "code",
            "execution_count": 38,
            "metadata": {
                "id": "b60eb7c6-dd15-4a06-8074-198e24c68dc3"
            },
            "outputs": [],
            "source": [
                "import tarfile\n",
                "import json\n",
                "\n",
                "# update flags in configuration json\n",
                "config[\"common_configuration\"][\"enable_drift\"] = True if ENABLE_MODEL_DRIFT or ENABLE_DATA_DRIFT else False\n",
                "config[\"common_configuration\"][\"enable_explainability\"] = ENABLE_EXPLAINABILITY\n",
                "config[\"common_configuration\"][\"enable_fairness\"] = ENABLE_FAIRNESS\n",
                "config[\"common_configuration\"][\"enable_quality\"] = ENABLE_QUALITY\n",
                "\n",
                "# write to local\n",
                "with open(\"common_configuration.json\", \"wb\") as f:\n",
                "    f.write(json.dumps(config).encode('utf-8'))\n",
                "\n",
                "if ENABLE_FAIRNESS:\n",
                "    # write fairness_statistics.json to local\n",
                "    with open(\"fairness_statistics.json\", \"wb\") as f:\n",
                "        f.write(json.dumps(config.get(\"fairness_configuration\")).encode('utf-8'))\n",
                "\n",
                "if ENABLE_MODEL_DRIFT or ENABLE_DATA_DRIFT:\n",
                "    # build and write drift archive to local\n",
                "    with open(\"drift_archive.tar.gz\", \"wb\") as f:\n",
                "        from ibm_wos_utils.joblib.utils.notebook_utils import bundle_drift_model\n",
                "        f.write(bundle_drift_model(drift_archive, client))\n",
                "\n",
                "if ENABLE_EXPLAINABILITY:\n",
                "    # build and write explain archive to local\n",
                "    from io import BytesIO\n",
                "    with BytesIO() as archive:\n",
                "        with tarfile.open(fileobj=archive, mode=\"w:gz\") as tf:\n",
                "            for filename, filedata in archive_data.items():\n",
                "                content = BytesIO(filedata.encode(\"utf8\"))\n",
                "                tarinfo = tarfile.TarInfo(filename)\n",
                "                tarinfo.size = len(content.getvalue())\n",
                "                tf.addfile(\n",
                "                    tarinfo=tarinfo, fileobj=content)\n",
                "\n",
                "        with open(\"explainability.tar.gz\", \"wb\") as f:\n",
                "            f.write(archive.getvalue())\n",
                "\n",
                "with tarfile.open(\"configuration_archive.tar.gz\", \"w:gz\") as f:\n",
                "    # collect all files from local and write to configuration archive\n",
                "    f.add(\"common_configuration.json\", arcname=\"common_configuration.json\")\n",
                "    \n",
                "    if ENABLE_MODEL_DRIFT or ENABLE_DATA_DRIFT:\n",
                "        f.add(\"drift_archive.tar.gz\", arcname=\"drift_archive.tar.gz\")\n",
                "        \n",
                "    if ENABLE_EXPLAINABILITY:\n",
                "        f.add(\"explainability.tar.gz\", arcname=\"explainability.tar.gz\")\n",
                "        \n",
                "    if ENABLE_FAIRNESS:\n",
                "        f.add(\"fairness_statistics.json\", arcname=\"fairness_statistics.json\")"
            ]
        },
        {
            "cell_type": "code",
            "execution_count": 39,
            "metadata": {
                "id": "a8734669-acb1-4eaa-926b-2e0666be1015"
            },
            "outputs": [
                {
                    "data": {
                        "text/html": [
                            "<a download=\"configuration_archive.tar.gz\" href=\"data:text/json;base64,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\" target=\"_blank\">Download Configuration Archive</a>"
                        ],
                        "text/plain": [
                            "<IPython.core.display.HTML object>"
                        ]
                    },
                    "execution_count": 39,
                    "metadata": {},
                    "output_type": "execute_result"
                }
            ],
            "source": [
                "# create download link for configuration package\n",
                "from io import BytesIO\n",
                "import base64\n",
                "\n",
                "data = None\n",
                "with open('configuration_archive.tar.gz', 'rb') as f:\n",
                "    # read configuration archive from local\n",
                "    data = f.read()\n",
                "\n",
                "format_args = {\n",
                "    \"payload\": base64.b64encode(data).decode(),\n",
                "    \"title\": \"Download Configuration Archive\",\n",
                "    \"filename\": \"configuration_archive.tar.gz\"\n",
                "}\n",
                "\n",
                "from IPython.display import HTML\n",
                "html = '<a download=\"{filename}\" href=\"data:text/json;base64,{payload}\" target=\"_blank\">{title}</a>'\n",
                "HTML(html.format(**format_args))"
            ]
        },
        {
            "cell_type": "markdown",
            "metadata": {
                "id": "1b2f295d-730b-4113-b3fd-1ce5ffd1a4ef"
            },
            "source": [
                "#### Authors\n",
                "Developed by [Prem Piyush Goyal](mailto:prempiyush@in.ibm.com), [Pratap Kishore Varma V](mailto:pvemulam@in.ibm.com)"
            ]
        }
    ],
    "metadata": {
        "kernelspec": {
            "display_name": "Python 3.11",
            "language": "python",
            "name": "python3"
        },
        "language_info": {
            "codemirror_mode": {
                "name": "ipython",
                "version": 3
            },
            "file_extension": ".py",
            "mimetype": "text/x-python",
            "name": "python",
            "nbconvert_exporter": "python",
            "pygments_lexer": "ipython3",
            "version": "3.11.9"
        },
        "vscode": {
            "interpreter": {
                "hash": "301f5018d300c6eb6119f5ed999379f124efc62cb3f23918facbbc5aa749f0e0"
            }
        }
    },
    "nbformat": 4,
    "nbformat_minor": 4
}
