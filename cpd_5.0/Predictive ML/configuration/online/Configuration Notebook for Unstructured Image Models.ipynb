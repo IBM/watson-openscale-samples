{
    "cells": [
        {
            "cell_type": "markdown",
            "id": "345cc5d9",
            "metadata": {
                "id": "f0a7d61d-c526-4cdb-bd0b-e2b42b056349"
            },
            "source": [
                "<img src=\"https://github.com/pmservice/ai-openscale-tutorials/raw/master/notebooks/images/banner.png\" align=\"left\" alt=\"banner\">"
            ]
        },
        {
            "cell_type": "markdown",
            "id": "a867c1b4",
            "metadata": {
                "id": "d144b198-fa56-4a17-8f6b-e8d0757a07b3"
            },
            "source": [
                "# IBM watsonx.governance - Generate Drift v2 Archive for Unstructured Image models\n",
                "\n",
                "This notebook demonstrates how to generate a configuration archive for monitoring deployments in IBM watsonx.governance. This configuration is targetted for `System-Managed` monitored deployments.\n",
                "\n",
                "***Target audience for this notebook:***\n",
                "This notebook is targetted for users who fall in the below category:\n",
                "- Users who want to monitor their subscriptions created on unstructured image data in IBM watsonx.governance\n",
                "\n",
                "User must provide the necessary inputs where marked. Generated configuration package can be used in IBM watsonx.governance UI while configuring monitoring of a model deployment in IBM watsonx.governance.\n",
                "\n",
                "**Contents:**\n",
                "1. [Setting up the environment](#setting-up-the-environment) - Pre-requisites: Install Libraries and required dependencies\n",
                "2. [Training Data](#training-data) - Read the training data as a pandas DataFrame\n",
                "3. [User Inputs Section](#user-inputs-section) - Provide Model Details, IBM watsonx.governance Services and their configuration\n",
                "4. [Drift v2 Archive](#generate-configuration-archive)\n",
                "5. [Integrating Unstructured Image Subscriptions with a Defined Training Data Schema](#integrating-unstructured-image-subscriptions-with-a-defined-training-data-schema)\n",
                "6. [Drift Configuration](#drift-configuration)\n",
                "7. [Definitions](#definitions)"
            ]
        },
        {
            "cell_type": "markdown",
            "id": "4fcd79c5",
            "metadata": {
                "id": "0f3d3024-ab36-4a68-b2a5-810cf66ac94f"
            },
            "source": [
                "## Setting up the environment"
            ]
        },
        {
            "cell_type": "code",
            "execution_count": null,
            "id": "553280f4",
            "metadata": {
                "id": "6c7e3ed1-402e-4105-a7c9-55dcd635ef66"
            },
            "outputs": [],
            "source": [
                "%pip install --upgrade \"ibm-metrics-plugin[notebook]~=5.0.3\" \"ibm-watson-openscale~=3.0.34\" | tail -n 1"
            ]
        },
        {
            "cell_type": "code",
            "execution_count": 1,
            "id": "57774483",
            "metadata": {
                "id": "882afca9-9b23-4149-9a72-a3a464b17fde"
            },
            "outputs": [],
            "source": [
                "# ----------------------------------------------------------------------------------------------------\n",
                "# IBM Confidential\n",
                "# OCO Source Materials\n",
                "# 5900-A3Q, 5737-H76\n",
                "# Copyright IBM Corp. 2024\n",
                "# The source code for this Notebook is not published or other-wise divested of its trade \n",
                "# secrets, irrespective of what has been deposited with the U.S.Copyright Office.\n",
                "# ----------------------------------------------------------------------------------------------------\n",
                "\n",
                "VERSION = \"1.0.0\""
            ]
        },
        {
            "cell_type": "markdown",
            "id": "e5a737d3",
            "metadata": {
                "id": "93b6b00f-38ba-4117-9740-bc4a1b23e8a5"
            },
            "source": [
                "## Training Data\n",
                "\n",
                "Training data can either of the following:\n",
                "- CSV : The training data can be organized in a CSV format with columns for image paths, labels, and optional meta columns. Set the `training_data_df` in the below section if the training data is a csv file.\n",
                "- String: Pointing to a local directory where subfolders denote distinct labels. For instance, if \"/images\" is provided, subdirectories like \"/images/cats\" and \"/images/dogs\" will correspond to labels for images within. Set the `image_dir` in the below section if the training data is an image directory.\n",
                "\n",
                "*Note: Pandas' read\\_csv method converts the columns to its data types. If you want the column type to not be interpreted, specify the dtype param to read_csv method in this cell. More on this method [here](https://pandas.pydata.org/pandas-docs/stable/reference/api/pandas.read_csv.html)*\n",
                "\n",
                "*Note: By default NA values will be dropped while computing training data distribution. Please ensure to handle the NA values during Pandas' read\\_csv method*"
            ]
        },
        {
            "cell_type": "code",
            "execution_count": 2,
            "id": "8334ebb6",
            "metadata": {
                "id": "6a2a43af-c2ca-4682-8720-aa2d2716beed"
            },
            "outputs": [
                {
                    "name": "stdout",
                    "output_type": "stream",
                    "text": [
                        "      id gender masterCategory subCategory  articleType baseColour  season  \\\n",
                        "0  15970    Men        Apparel     Topwear       Shirts  Navy Blue    Fall   \n",
                        "1  39386    Men        Apparel  Bottomwear        Jeans       Blue  Summer   \n",
                        "2  59263  Women    Accessories     Watches      Watches     Silver  Winter   \n",
                        "3  21379    Men        Apparel  Bottomwear  Track Pants      Black    Fall   \n",
                        "4  53759    Men        Apparel     Topwear      Tshirts       Grey  Summer   \n",
                        "\n",
                        "   year   usage                             productDisplayName  \\\n",
                        "0  2011  Casual               Turtle Check Men Navy Blue Shirt   \n",
                        "1  2012  Casual             Peter England Men Party Blue Jeans   \n",
                        "2  2016  Casual                       Titan Women Silver Watch   \n",
                        "3  2011  Casual  Manchester United Men Solid Black Track Pants   \n",
                        "4  2012  Casual                          Puma Men Grey T-shirt   \n",
                        "\n",
                        "                               path  predictedLabel  \n",
                        "0  fashion_dataset/images/15970.jpg               1  \n",
                        "1  fashion_dataset/images/39386.jpg               1  \n",
                        "2  fashion_dataset/images/59263.jpg               0  \n",
                        "3  fashion_dataset/images/21379.jpg               1  \n",
                        "4  fashion_dataset/images/53759.jpg               1  \n",
                        "Columns:['id', 'gender', 'masterCategory', 'subCategory', 'articleType', 'baseColour', 'season', 'year', 'usage', 'productDisplayName', 'path', 'predictedLabel']\n"
                    ]
                }
            ],
            "source": [
                "import pandas as pd\n",
                "\n",
                "image_dir = None  # <- If your images are in a directory, set this to the path of the directory\n",
                "\n",
                "training_data_df = pd.read_csv(\"TO BE EDITED\")\n",
                "\n",
                "print(training_data_df.head())\n",
                "print(\"Columns:{}\".format(list(training_data_df.columns.values)))"
            ]
        },
        {
            "cell_type": "markdown",
            "id": "5f0c4767",
            "metadata": {
                "id": "7cc584fe-1dee-43ec-8747-a6d3d91250cd"
            },
            "source": [
                "## User Inputs Section\n",
                "\n",
                "##### _1. Provide Common Parameters_:\n",
                "\n",
                "Provide the common parameters like the basic model details like type, feature columns, etc. Read more about these [here](#common-parameters). \n",
                "\n",
                "##### _2. Provide Drift v2 Parameters_\n",
                "Read more about these parameters [here](#drift-v2-parameters)\n",
                "\n",
                "\n",
                "##### _3. Provide a scoring function_\n",
                "The scoring function is required and it should adhere to the following guidelines.\n",
                "\n",
                "- The input of the scoring function should accept `training_data`, which will be a `pandas.DataFrame`. For image models dataframe should include `image_path_column` and corresponding `image_label`. The `schema` parameter is a dictionary specifying the column names for various components in the scoring response, such as, `image_path_column`, `prediction_column`, `probability_column`, `input_token_count_column`, `output_token_count_column`, `prediction_probability_column`, and `label_column`, depending on the input data type, whether it's structured/prompt/unstructured image data.\n",
                "- The output of the scoring function should return:\n",
                "    - a `pandas.DataFrame` with all columns of the input DataFrame, with additional columns varying based on the `problem_type`.\n",
                "    - For binary and multiclass problems, both `probability_column` and `prediction_column` are included. \n",
                "    - For regression, only `prediction_column` is included.\n",
                "    - Prompt asset related problems may include columns like `input_token_count_column`, `output_token_count_column`, and `prediction_probability_column`.\n",
                "    - For unstructured_image input types, the `label_column` is also included in the output DataFrame.\n",
                "- The data type of the label column and prediction column should be same. Moreover, the label column and the prediction column array should have the same unique class labels\n",
                "- A host of different scoring function templates are provided [here](https://github.com/IBM/watson-openscale-samples/wiki/Score-function-templates-for-IBM-Watson-OpenScale)"
            ]
        },
        {
            "cell_type": "code",
            "execution_count": 3,
            "id": "35258152",
            "metadata": {
                "id": "ff803175-130c-4ceb-bec5-a719bcfcfc0a"
            },
            "outputs": [],
            "source": [
                "image_dir = \"TO BE EDITED\" "
            ]
        },
        {
            "cell_type": "code",
            "execution_count": 4,
            "id": "97033396",
            "metadata": {
                "id": "6906cb78-0886-4984-978a-0ad9908e8726"
            },
            "outputs": [],
            "source": [
                "\n",
                "common_parameters = {\n",
                "    \"problem_type\" : \"TO_BE_EDITED\",\n",
                "    \"input_data_type\": \"unstructured_image\",\n",
                "    \"asset_type\": \"model\",\n",
                "    \"meta_columns\": [\"TO_BE_EDITED\"], # <-  Not required if the model doesn't have any meta columns\n",
                "    \"label_column\": \"TO_BE_EDITED\",\n",
                "    \"prediction_column\": \"TO_BE_EDITED\",\n",
                "    \"probability_column\": \"TO_BE_EDITED\", # <- Not required for Regression problems.\n",
                "    \"image_path_column\": \"TO_BE_EDITED\", \n",
                "    \"enable_drift_v2\": True,\n",
                "    \"notebook_version\": VERSION\n",
                "}\n",
                "\n",
                "drift_v2_parameters = {\n",
                "    # \"max_samples\": 10000\n",
                "    \"important_input_metadata_columns\" : [\"TO_BE_EDITED\"] # <- Add this if input metadata drift to be calculated and meta columns are available\n",
                "}\n",
                "\n",
                "\n",
                "scoring_fn = None\n",
                "scoring_batch_size = None #Change this to control how many rows get score at a time. Default values for image models is 50 and for others, it is 5000"
            ]
        },
        {
            "cell_type": "markdown",
            "id": "6abb2879",
            "metadata": {
                "id": "f953a22f-c6cd-461f-9700-a52170cfb26a"
            },
            "source": [
                "## Drift v2 Archive\n",
                "\n",
                "Run the following code to generate the drift v2 archive for the IBM watsonx.governance monitors. This archive is used as is by IBM watsonx.governance UI/SDK to onboard model for monitoring. UI/SDK will identify the drift v2 artifacts and appropriately upload to the monitor."
            ]
        },
        {
            "cell_type": "code",
            "execution_count": 5,
            "id": "0fc16aef",
            "metadata": {
                "id": "6bb14689-156e-43a2-be32-d027ba6025ff"
            },
            "outputs": [
                {
                    "name": "stdout",
                    "output_type": "stream",
                    "text": [
                        "       id gender masterCategory subCategory            articleType baseColour  \\\n",
                        "0   59263  Women    Accessories     Watches                Watches     Silver   \n",
                        "1   30039    Men    Accessories     Watches                Watches      Black   \n",
                        "2   29114    Men    Accessories       Socks                  Socks  Navy Blue   \n",
                        "3   29928    Men    Accessories     Watches                Watches      Black   \n",
                        "4   47957  Women    Accessories        Bags               Handbags       Blue   \n",
                        "5   12369    Men        Apparel     Topwear                 Shirts     Purple   \n",
                        "6   39386    Men        Apparel  Bottomwear                  Jeans       Blue   \n",
                        "7   15970    Men        Apparel     Topwear                 Shirts  Navy Blue   \n",
                        "8   53759    Men        Apparel     Topwear                Tshirts       Grey   \n",
                        "9   21379    Men        Apparel  Bottomwear            Track Pants      Black   \n",
                        "10   9204    Men       Footwear       Shoes           Casual Shoes      Black   \n",
                        "11  18653    Men       Footwear  Flip Flops             Flip Flops      Black   \n",
                        "12  46885   Boys       Footwear  Flip Flops             Flip Flops  Navy Blue   \n",
                        "13  49696    Men     Free Items  Free Gifts                   Ties       Blue   \n",
                        "14  43993  Women  Personal Care   Fragrance  Perfume and Body Mist       Pink   \n",
                        "\n",
                        "    season  year   usage                               productDisplayName  \\\n",
                        "0   Winter  2016  Casual                         Titan Women Silver Watch   \n",
                        "1   Winter  2016  Casual                           Skagen Men Black Watch   \n",
                        "2   Summer  2012  Casual                         Puma Men Pack of 3 Socks   \n",
                        "3   Winter  2016  Casual          Police Men Black Dial Watch PL12889JVSB   \n",
                        "4   Summer  2012  Casual                        Murcia Women Blue Handbag   \n",
                        "5     Fall  2011  Formal            Reid & Taylor Men Check Purple Shirts   \n",
                        "6   Summer  2012  Casual               Peter England Men Party Blue Jeans   \n",
                        "7     Fall  2011  Casual                 Turtle Check Men Navy Blue Shirt   \n",
                        "8   Summer  2012  Casual                            Puma Men Grey T-shirt   \n",
                        "9     Fall  2011  Casual    Manchester United Men Solid Black Track Pants   \n",
                        "10  Summer  2011  Casual  Puma Men Future Cat Remix SF Black Casual Shoes   \n",
                        "11    Fall  2011  Casual                Fila Men Cush Flex Black Slippers   \n",
                        "12    Fall  2012  Casual                   Ben 10 Boys Navy Blue Slippers   \n",
                        "13  Summer  2012  Formal                   Park Avenue Blue Patterned Tie   \n",
                        "14  Spring  2017  Casual                     Police Women Passion Perfume   \n",
                        "\n",
                        "    predictedLabel  prediction_classes  \\\n",
                        "0                0                 0.0   \n",
                        "1                0                 0.0   \n",
                        "2                0                 0.0   \n",
                        "3                0                 0.0   \n",
                        "4                0                 0.0   \n",
                        "5                1                 1.0   \n",
                        "6                1                 1.0   \n",
                        "7                1                 1.0   \n",
                        "8                1                 1.0   \n",
                        "9                1                 1.0   \n",
                        "10               2                 2.0   \n",
                        "11               2                 2.0   \n",
                        "12               2                 2.0   \n",
                        "13               3                 4.0   \n",
                        "14               4                 4.0   \n",
                        "\n",
                        "                                          probability  \n",
                        "0   [0.9987484812736511, 0.001231048139743507, 1.3...  \n",
                        "1   [0.9999999403953552, 7.756831635341577e-12, 1....  \n",
                        "2   [0.9999999403953552, 1.2472899667426748e-24, 6...  \n",
                        "3   [0.9999999403953552, 9.246679009274035e-18, 3....  \n",
                        "4   [0.9999998211860657, 9.115026955441863e-08, 3....  \n",
                        "5   [7.043776911568045e-15, 0.9999999403953552, 1....  \n",
                        "6   [2.8865493178997466e-16, 0.9999999403953552, 1...  \n",
                        "7   [1.3362461609650398e-21, 0.9999999403953552, 4...  \n",
                        "8   [1.529904848899871e-22, 1.0, 1.861542131226965...  \n",
                        "9   [3.841250475964113e-16, 1.0, 1.107290127550354...  \n",
                        "10  [2.122013368285941e-22, 4.3302156753696306e-24...  \n",
                        "11  [2.177118619932361e-14, 5.413797912109545e-20,...  \n",
                        "12  [2.719694748520851e-05, 2.9017644542642454e-14...  \n",
                        "13  [0.011799630708992481, 0.0072028543800115585, ...  \n",
                        "14  [1.8675065938111857e-09, 4.057294518133858e-07...  \n",
                        "       id gender masterCategory subCategory            articleType baseColour  \\\n",
                        "0   15970    Men        Apparel     Topwear                 Shirts  Navy Blue   \n",
                        "1   39386    Men        Apparel  Bottomwear                  Jeans       Blue   \n",
                        "2   59263  Women    Accessories     Watches                Watches     Silver   \n",
                        "3   21379    Men        Apparel  Bottomwear            Track Pants      Black   \n",
                        "4   53759    Men        Apparel     Topwear                Tshirts       Grey   \n",
                        "5    1855    Men        Apparel     Topwear                Tshirts       Grey   \n",
                        "6   30805    Men        Apparel     Topwear                 Shirts      Green   \n",
                        "7   26960  Women        Apparel     Topwear                 Shirts     Purple   \n",
                        "8   29114    Men    Accessories       Socks                  Socks  Navy Blue   \n",
                        "9   30039    Men    Accessories     Watches                Watches      Black   \n",
                        "10   9204    Men       Footwear       Shoes           Casual Shoes      Black   \n",
                        "11  48123  Women    Accessories       Belts                  Belts      Black   \n",
                        "12  18653    Men       Footwear  Flip Flops             Flip Flops      Black   \n",
                        "13  47957  Women    Accessories        Bags               Handbags       Blue   \n",
                        "14  46885   Boys       Footwear  Flip Flops             Flip Flops  Navy Blue   \n",
                        "15  12369    Men        Apparel     Topwear                 Shirts     Purple   \n",
                        "16  29928    Men    Accessories     Watches                Watches      Black   \n",
                        "17  42419  Girls        Apparel     Topwear                   Tops      White   \n",
                        "18  51832  Women        Apparel   Innerwear                    Bra      Beige   \n",
                        "19  43993  Women  Personal Care   Fragrance  Perfume and Body Mist       Pink   \n",
                        "20  49696    Men     Free Items  Free Gifts                   Ties       Blue   \n",
                        "\n",
                        "    season  year   usage                               productDisplayName  \\\n",
                        "0     Fall  2011  Casual                 Turtle Check Men Navy Blue Shirt   \n",
                        "1   Summer  2012  Casual               Peter England Men Party Blue Jeans   \n",
                        "2   Winter  2016  Casual                         Titan Women Silver Watch   \n",
                        "3     Fall  2011  Casual    Manchester United Men Solid Black Track Pants   \n",
                        "4   Summer  2012  Casual                            Puma Men Grey T-shirt   \n",
                        "5   Summer  2011  Casual             Inkfruit Mens Chain Reaction T-shirt   \n",
                        "6   Summer  2012  Ethnic                 Fabindia Men Striped Green Shirt   \n",
                        "7   Summer  2012  Casual                    Jealous 21 Women Purple Shirt   \n",
                        "8   Summer  2012  Casual                         Puma Men Pack of 3 Socks   \n",
                        "9   Winter  2016  Casual                           Skagen Men Black Watch   \n",
                        "10  Summer  2011  Casual  Puma Men Future Cat Remix SF Black Casual Shoes   \n",
                        "11  Summer  2012  Casual           Fossil Women Black Huarache Weave Belt   \n",
                        "12    Fall  2011  Casual                Fila Men Cush Flex Black Slippers   \n",
                        "13  Summer  2012  Casual                        Murcia Women Blue Handbag   \n",
                        "14    Fall  2012  Casual                   Ben 10 Boys Navy Blue Slippers   \n",
                        "15    Fall  2011  Formal            Reid & Taylor Men Check Purple Shirts   \n",
                        "16  Winter  2016  Casual          Police Men Black Dial Watch PL12889JVSB   \n",
                        "17  Summer  2012  Casual               Gini and Jony Girls Knit White Top   \n",
                        "18  Summer  2016  Casual             Bwitch Beige Full-Coverage Bra BW335   \n",
                        "19  Spring  2017  Casual                     Police Women Passion Perfume   \n",
                        "20  Summer  2012  Formal                   Park Avenue Blue Patterned Tie   \n",
                        "\n",
                        "    predictedLabel  prediction_classes  \\\n",
                        "0                1                 1.0   \n",
                        "1                1                 1.0   \n",
                        "2                0                 0.0   \n",
                        "3                1                 1.0   \n",
                        "4                1                 1.0   \n",
                        "5                1                 1.0   \n",
                        "6                1                 1.0   \n",
                        "7                1                 1.0   \n",
                        "8                0                 0.0   \n",
                        "9                0                 0.0   \n",
                        "10               2                 2.0   \n",
                        "11               0                 0.0   \n",
                        "12               2                 2.0   \n",
                        "13               0                 0.0   \n",
                        "14               2                 2.0   \n",
                        "15               1                 1.0   \n",
                        "16               0                 0.0   \n",
                        "17               1                 1.0   \n",
                        "18               1                 1.0   \n",
                        "19               4                 4.0   \n",
                        "20               3                 4.0   \n",
                        "\n",
                        "                                          probability  \n",
                        "0   [1.3362359625712571e-21, 0.9999999403953552, 4...  \n",
                        "1   [2.8865493178997466e-16, 0.9999999403953552, 1...  \n",
                        "2   [0.9987484812736511, 0.0012310469755902886, 1....  \n",
                        "3   [3.841250211266317e-16, 0.9999999403953552, 1....  \n",
                        "4   [1.5299105286983885e-22, 0.9999999403953552, 1...  \n",
                        "5   [1.1150293844577658e-19, 0.9999999403953552, 1...  \n",
                        "6   [3.9552703750874026e-16, 0.9999999403953552, 8...  \n",
                        "7   [2.747365393402512e-16, 0.9999999403953552, 5....  \n",
                        "8   [0.9999999403953552, 1.2472994330735375e-24, 6...  \n",
                        "9   [0.9999999403953552, 7.756831635341577e-12, 1....  \n",
                        "10  [2.1220131158504514e-22, 4.330231847018188e-24...  \n",
                        "11  [0.9999999403953552, 3.217785446562393e-30, 1....  \n",
                        "12  [2.1771142153610354e-14, 5.413818268507432e-20...  \n",
                        "13  [0.9999998211860657, 9.115009191873469e-08, 3....  \n",
                        "14  [2.719689473451581e-05, 2.9017644542642454e-14...  \n",
                        "15  [7.043776911568045e-15, 0.9999999403953552, 1....  \n",
                        "16  [1.0, 9.246679836454648e-18, 3.265455160233413...  \n",
                        "17  [5.45118950867618e-07, 0.999996542930603, 2.84...  \n",
                        "18  [1.3204067288337396e-13, 1.0, 1.44180178907049...  \n",
                        "19  [1.8675065938111857e-09, 4.057294518133858e-07...  \n",
                        "20  [0.011799619533121586, 0.0072028543800115585, ...  \n",
                        "{\"component_id\": \"metrics-plugin\", \"log_level\": \"WARNING\", \"message_details\": \"Bin Width is 0. Disabling operations and insights.\", \"timestamp\": \"2024-06-16T12:08:28.444511Z\", \"logSourceCRN\": \"\", \"saveServiceCopy\": false, \"filename\": \"/opt/conda/envs/Python-RT24.1-Premium/lib/python3.11/asyncio/tasks.py\", \"method\": \"__step\", \"line_number\": \"277\", \"worker_id\": 1438, \"column\": \"Class Probability for 3\", \"drift_data_set_id\": \"ddd6ebd1-e4af-46b8-8f12-00689a5f37fa\"}\n"
                    ]
                },
                {
                    "data": {
                        "text/html": [
                            "<a download=\"configuration_archive.tar.gz\" href=\"data:text/json;base64,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\" target=\"_blank\">Download Common Configuration Package</a>"
                        ],
                        "text/plain": [
                            "<IPython.core.display.HTML object>"
                        ]
                    },
                    "metadata": {},
                    "output_type": "display_data"
                }
            ],
            "source": [
                "from ibm_watson_openscale.utils.configuration_utility import ConfigurationUtility\n",
                "from ibm_watson_openscale.utils import convert_directory_to_dataframe\n",
                "\n",
                "if \"image_dir\" in locals():\n",
                "    training_data_df = convert_directory_to_dataframe(\n",
                "        image_dir, **common_parameters)\n",
                "\n",
                "config_util = ConfigurationUtility(\n",
                "    training_data=training_data_df,\n",
                "    common_parameters=common_parameters,\n",
                "    scoring_fn=scoring_fn,\n",
                "    batch_size=scoring_batch_size)\n",
                "\n",
                "config_util.create_drift_configuration_package(\n",
                "    drift_v2_parameters=drift_v2_parameters if \"drift_v2_parameters\" in locals() else {},\n",
                "    display_link=True)"
            ]
        },
        {
            "cell_type": "markdown",
            "id": "1afe7bde",
            "metadata": {
                "id": "dc649f06-f12a-49e9-90ce-b437c828279b"
            },
            "source": [
                "## Integrating Unstructured Image Subscriptions with a Defined Training Data Schema\n",
                "\n",
                "Configure the training_data_schema for Unstructured Image Subscriptions with the Following Code"
            ]
        },
        {
            "cell_type": "markdown",
            "id": "3f1000c4",
            "metadata": {
                "id": "65241aa6-ec3e-4369-baff-e2d7fc48c6ea"
            },
            "source": [
                "##### _1. Configure Credentials_:"
            ]
        },
        {
            "cell_type": "code",
            "execution_count": 6,
            "id": "22287b0c",
            "metadata": {
                "id": "a8fa390f-9b0c-4445-b4ae-859556180b83"
            },
            "outputs": [],
            "source": [
                "CLOUD_API_KEY = \"Your API Key\"\n",
                "IAM_URL=\"https://iam.ng.bluemix.net/oidc/token\"\n",
                "WOS_URL=\"https://aiopenscale.cloud.ibm.com\"\n"
            ]
        },
        {
            "cell_type": "markdown",
            "id": "b235afaa",
            "metadata": {
                "id": "c372ee1b-db50-4558-a4c4-8ff262ea413b"
            },
            "source": [
                "##### _2. Connect with watsonx.gov instance_:"
            ]
        },
        {
            "cell_type": "code",
            "execution_count": 7,
            "id": "90ea293f",
            "metadata": {
                "id": "fa4a25f6-a8de-4a2d-ac9a-0213bd972751"
            },
            "outputs": [
                {
                    "data": {
                        "text/plain": [
                            "'3.0.36.15'"
                        ]
                    },
                    "execution_count": 48,
                    "metadata": {},
                    "output_type": "execute_result"
                }
            ],
            "source": [
                "from ibm_cloud_sdk_core.authenticators import IAMAuthenticator\n",
                "from ibm_watson_openscale import APIClient\n",
                "from ibm_watson_openscale.supporting_classes.enums import OperationTypes, TargetTypes\n",
                "from ibm_watson_openscale.supporting_classes import Target\n",
                "from ibm_watson_openscale.base_classes.watson_open_scale_v2 import JsonPatchOperation\n",
                "\n",
                "\n",
                "authenticator = IAMAuthenticator(apikey=CLOUD_API_KEY, url=IAM_URL)\n",
                "wos_client = APIClient(authenticator=authenticator,service_url=WOS_URL)\n",
                "wos_client.version"
            ]
        },
        {
            "cell_type": "markdown",
            "id": "b718d89b",
            "metadata": {
                "id": "3361f571-ef3b-4648-a7bc-10e8179c3ab8"
            },
            "source": [
                "##### _3. Setting up subscription id and datamart id_:"
            ]
        },
        {
            "cell_type": "code",
            "execution_count": 8,
            "id": "35d61787",
            "metadata": {
                "id": "c2813eb2-f12c-4cf1-ab2e-df91e58fe8ba"
            },
            "outputs": [
                {
                    "data": {
                        "text/html": [
                            "<HTML>\n",
                            "        <body>\n",
                            "            <h3>Data Marts</h3>\n",
                            "            <table style='border: 1px solid #dddddd; font-family: Courier'>\n",
                            "                <th style='border: 1px solid #dddddd'>name</th><th style='border: 1px solid #dddddd'>description</th><th style='border: 1px solid #dddddd'>internal_database</th><th style='border: 1px solid #dddddd'>status</th><th style='border: 1px solid #dddddd'>created_at</th><th style='border: 1px solid #dddddd'>id</th>\n",
                            "                <tr><td style='border: 1px solid #dddddd'>AIOSFASTPATHYS1DEV-75DCF3BE-EB58-489E-942C-2A0689468177</td><td style='border: 1px solid #dddddd'>None</td><td style='border: 1px solid #dddddd'>True</td><td style='border: 1px solid #dddddd'>active</td><td style='border: 1px solid #dddddd'>2024-05-12 08:22:03.343000+00:00</td><td style='border: 1px solid #dddddd'>75dcf3be-eb58-489e-942c-2a0689468177</td></tr>\n",
                            "            </table>\n",
                            "        </body>\n",
                            "        </HTML>"
                        ],
                        "text/plain": [
                            "<IPython.core.display.HTML object>"
                        ]
                    },
                    "metadata": {},
                    "output_type": "display_data"
                }
            ],
            "source": [
                "wos_client.data_marts.show()\n",
                "data_mart_id=\"TO BE EDITED\""
            ]
        },
        {
            "cell_type": "code",
            "execution_count": 9,
            "id": "9c9fd69d",
            "metadata": {
                "id": "b9760083-8fe4-4666-abcb-9bafc222532e"
            },
            "outputs": [
                {
                    "data": {
                        "text/html": [
                            "<HTML>\n",
                            "        <body>\n",
                            "            <h3>Subscriptions</h3>\n",
                            "            <table style='border: 1px solid #dddddd; font-family: Courier'>\n",
                            "                <th style='border: 1px solid #dddddd'>asset_id</th><th style='border: 1px solid #dddddd'>asset_type</th><th style='border: 1px solid #dddddd'>asset_name</th><th style='border: 1px solid #dddddd'>data_mart_id</th><th style='border: 1px solid #dddddd'>deployment_id</th><th style='border: 1px solid #dddddd'>deployment_name</th><th style='border: 1px solid #dddddd'>service_provider_id</th><th style='border: 1px solid #dddddd'>status</th><th style='border: 1px solid #dddddd'>created_at</th><th style='border: 1px solid #dddddd'>id</th>\n",
                            "                <tr><td style='border: 1px solid #dddddd'>ae4de717-b1dd-41ac-abe8-b96c7c2e1388</td><td style='border: 1px solid #dddddd'>model</td><td style='border: 1px solid #dddddd'>Fashion Image Classifier</td><td style='border: 1px solid #dddddd'>75dcf3be-eb58-489e-942c-2a0689468177</td><td style='border: 1px solid #dddddd'>767f6481-aaf3-440e-a7bc-776e92906e27</td><td style='border: 1px solid #dddddd'>Fashion Image Classifier deployment</td><td style='border: 1px solid #dddddd'>53d7a352-634e-4c87-a7eb-58ec52d8c628</td><td style='border: 1px solid #dddddd'>active</td><td style='border: 1px solid #dddddd'>2024-06-06 09:06:13.754000+00:00</td><td style='border: 1px solid #dddddd'>11082c3d-d9de-4c3b-a59d-7a6d49846e4d</td></tr><tr><td style='border: 1px solid #dddddd'>cdacb9c3-fde5-4529-a97e-e732afc38bb6</td><td style='border: 1px solid #dddddd'>model</td><td style='border: 1px solid #dddddd'>gosales_two_model</td><td style='border: 1px solid #dddddd'>75dcf3be-eb58-489e-942c-2a0689468177</td><td style='border: 1px solid #dddddd'>3ce8243e-6ef6-41c3-8c3b-08e8190beeb2</td><td style='border: 1px solid #dddddd'>Gosales_two_3</td><td style='border: 1px solid #dddddd'>53d7a352-634e-4c87-a7eb-58ec52d8c628</td><td style='border: 1px solid #dddddd'>active</td><td style='border: 1px solid #dddddd'>2024-05-21 01:26:42.713000+00:00</td><td style='border: 1px solid #dddddd'>45aabc34-be71-474d-8412-a9fab4323fc8</td></tr><tr><td style='border: 1px solid #dddddd'>8b352c13-a2a2-409a-84f8-3097d25d648f</td><td style='border: 1px solid #dddddd'>model</td><td style='border: 1px solid #dddddd'>GermanCreditRiskModelPreProdYS1DEV</td><td style='border: 1px solid #dddddd'>75dcf3be-eb58-489e-942c-2a0689468177</td><td style='border: 1px solid #dddddd'>3522e2cf-a41e-4817-a1cf-5bcbd914019d</td><td style='border: 1px solid #dddddd'>GermanCreditRiskModelPreProdYS1DEV</td><td style='border: 1px solid #dddddd'>3b437b8b-ec37-451e-8a91-dc7e64a97f43</td><td style='border: 1px solid #dddddd'>active</td><td style='border: 1px solid #dddddd'>2024-05-12 08:25:21.924000+00:00</td><td style='border: 1px solid #dddddd'>275b134b-3c0c-417b-9404-db2ff5ec800f</td></tr><tr><td style='border: 1px solid #dddddd'>5e3654aa-f889-4717-ae70-b6906deb08c9</td><td style='border: 1px solid #dddddd'>model</td><td style='border: 1px solid #dddddd'>GermanCreditRiskModelYS1DEV</td><td style='border: 1px solid #dddddd'>75dcf3be-eb58-489e-942c-2a0689468177</td><td style='border: 1px solid #dddddd'>7700ae34-7c0e-4742-9edc-f58ae89a4892</td><td style='border: 1px solid #dddddd'>GermanCreditRiskModelYS1DEV</td><td style='border: 1px solid #dddddd'>4ceb9294-2dc9-4582-8a78-a6bb86c9b1b0</td><td style='border: 1px solid #dddddd'>active</td><td style='border: 1px solid #dddddd'>2024-05-12 08:27:48.013000+00:00</td><td style='border: 1px solid #dddddd'>8c7ec566-cce7-4ee9-84e9-5912137e2221</td></tr><tr><td style='border: 1px solid #dddddd'>e8b52763-cc42-4fd0-ac4f-7acb7044d608</td><td style='border: 1px solid #dddddd'>model</td><td style='border: 1px solid #dddddd'>GermanCreditRiskModelChallengerYS1DEV</td><td style='border: 1px solid #dddddd'>75dcf3be-eb58-489e-942c-2a0689468177</td><td style='border: 1px solid #dddddd'>1a86e270-6814-43af-b729-c2f0abf9d731</td><td style='border: 1px solid #dddddd'>GermanCreditRiskModelChallengerYS1DEV</td><td style='border: 1px solid #dddddd'>3b437b8b-ec37-451e-8a91-dc7e64a97f43</td><td style='border: 1px solid #dddddd'>active</td><td style='border: 1px solid #dddddd'>2024-05-12 08:22:52.697000+00:00</td><td style='border: 1px solid #dddddd'>1c1ecfd6-b042-4f35-b7c4-4d362e2a9abe</td></tr>\n",
                            "            </table>\n",
                            "        </body>\n",
                            "        </HTML>"
                        ],
                        "text/plain": [
                            "<IPython.core.display.HTML object>"
                        ]
                    },
                    "metadata": {},
                    "output_type": "display_data"
                }
            ],
            "source": [
                "wos_client.subscriptions.show()\n",
                "subscription_id=\"TO BE EDITED\""
            ]
        },
        {
            "cell_type": "markdown",
            "id": "48875219",
            "metadata": {
                "id": "d3841660-7624-44c9-a481-629d5ec6cfe3"
            },
            "source": [
                "##### _4. Patch the subscription_:\n",
                "\n",
                "Update the subscription with `training_data_schema` which contains the information about the label column. Specify the label column datatype below."
            ]
        },
        {
            "cell_type": "code",
            "execution_count": 10,
            "id": "7da5a215",
            "metadata": {
                "id": "598041f7-24d5-4456-b622-a98e0290248f"
            },
            "outputs": [
                {
                    "data": {
                        "text/plain": [
                            "<ibm_cloud_sdk_core.detailed_response.DetailedResponse at 0x7fa1ac73a3b0>"
                        ]
                    },
                    "execution_count": 53,
                    "metadata": {},
                    "output_type": "execute_result"
                }
            ],
            "source": [
                "\n",
                "\n",
                "subscription = wos_client.subscriptions.get(subscription_id=subscription_id).result\n",
                "prediction_column_data = list(filter(lambda f: f[\"name\"] == common_parameters.get(\"prediction_column\"), subscription.entity.asset_properties.output_data_schema.fields))\n",
                "prediction_column_dtype = prediction_column_data[0].get(\"type\") if prediction_column_data else None\n",
                "\n",
                "training_data_schema = {\"type\": \"struct\",\n",
                "    \"id\": \"1\",\n",
                "    \"fields\": [{\"name\": common_parameters.get(\"label_column\"), \"type\": prediction_column_dtype, \"nullable\": True,\"metadata\": {\"modeling_role\": \"target\"}},   \n",
                "     ]}\n",
                "training_data_schema_patch_document=[\n",
                "    JsonPatchOperation(op=OperationTypes.REPLACE, path=\"/asset_properties/training_data_schema\", value=training_data_schema)\n",
                "]\n",
                "\n",
                "wos_client.subscriptions.update(subscription_id=subscription_id, patch_document=training_data_schema_patch_document)"
            ]
        },
        {
            "cell_type": "markdown",
            "id": "f06b227f",
            "metadata": {
                "id": "ab1a71c7-1e35-442b-8416-a063141c4b96"
            },
            "source": [
                "## Drift Configuration"
            ]
        },
        {
            "cell_type": "markdown",
            "id": "af45f163",
            "metadata": {
                "id": "aa7aabfa-dd89-4e38-ad32-48b678ee6e9f"
            },
            "source": [
                "##### _Upload drift archive_"
            ]
        },
        {
            "cell_type": "code",
            "execution_count": null,
            "id": "15de3179",
            "metadata": {},
            "outputs": [],
            "source": [
                "archive_path = \"TO BE EDITED\" #The path to generated drift v2 archive"
            ]
        },
        {
            "cell_type": "code",
            "execution_count": 11,
            "id": "74152ff2",
            "metadata": {
                "id": "486d0838-6d36-4300-8829-0c27925ca8dc"
            },
            "outputs": [
                {
                    "data": {
                        "text/plain": [
                            "{}"
                        ]
                    },
                    "execution_count": 11,
                    "metadata": {},
                    "output_type": "execute_result"
                }
            ],
            "source": [
                "wos_client.monitor_instances.upload_drift_v2_archive(\n",
                "    archive_path=archive_path,\n",
                "    subscription_id=subscription_id\n",
                ").result"
            ]
        },
        {
            "cell_type": "markdown",
            "id": "83b49b8a",
            "metadata": {
                "id": "0cd5745c-ab69-499d-8203-cb454d8ea19c"
            },
            "source": [
                "##### _Enable the drift monitor_"
            ]
        },
        {
            "cell_type": "code",
            "execution_count": 12,
            "id": "af0e7f0c",
            "metadata": {
                "id": "5166ec4d-f781-4553-a157-8ac111cea126"
            },
            "outputs": [
                {
                    "name": "stdout",
                    "output_type": "stream",
                    "text": [
                        "{\n",
                        "  \"metadata\": {\n",
                        "    \"id\": \"efe61670-fe05-452f-a9b6-3312ef0aeaf6\",\n",
                        "    \"crn\": \"crn:v1:bluemix:public:aiopenscale:us-south:a/dcbe4da3c9574b28aa0e128376cfcef4:75dcf3be-eb58-489e-942c-2a0689468177:monitor_instance:efe61670-fe05-452f-a9b6-3312ef0aeaf6\",\n",
                        "    \"url\": \"/v2/monitor_instances/efe61670-fe05-452f-a9b6-3312ef0aeaf6\",\n",
                        "    \"created_at\": \"2024-06-06T09:12:38.686000Z\",\n",
                        "    \"created_by\": \"IBMid-662005298W\"\n",
                        "  },\n",
                        "  \"entity\": {\n",
                        "    \"data_mart_id\": \"75dcf3be-eb58-489e-942c-2a0689468177\",\n",
                        "    \"monitor_definition_id\": \"drift_v2\",\n",
                        "    \"target\": {\n",
                        "      \"target_type\": \"subscription\",\n",
                        "      \"target_id\": \"11082c3d-d9de-4c3b-a59d-7a6d49846e4d\"\n",
                        "    },\n",
                        "    \"parameters\": {\n",
                        "      \"train_archive\": false\n",
                        "    },\n",
                        "    \"thresholds\": [\n",
                        "      {\n",
                        "        \"metric_id\": \"confidence_drift_score\",\n",
                        "        \"type\": \"upper_limit\",\n",
                        "        \"value\": 0.05\n",
                        "      },\n",
                        "      {\n",
                        "        \"metric_id\": \"prediction_drift_score\",\n",
                        "        \"type\": \"upper_limit\",\n",
                        "        \"value\": 0.05\n",
                        "      },\n",
                        "      {\n",
                        "        \"metric_id\": \"model_quality_score\",\n",
                        "        \"type\": \"upper_limit\",\n",
                        "        \"value\": 0.05\n",
                        "      },\n",
                        "      {\n",
                        "        \"metric_id\": \"feature_drift_score\",\n",
                        "        \"type\": \"upper_limit\",\n",
                        "        \"specific_values\": [\n",
                        "          {\n",
                        "            \"value\": 0.05,\n",
                        "            \"applies_to\": [\n",
                        "              {\n",
                        "                \"type\": \"tag\",\n",
                        "                \"key\": \"field_type\",\n",
                        "                \"value\": \"subscription\"\n",
                        "              }\n",
                        "            ]\n",
                        "          }\n",
                        "        ]\n",
                        "      },\n",
                        "      {\n",
                        "        \"metric_id\": \"input_metadata_drift_score\",\n",
                        "        \"type\": \"upper_limit\",\n",
                        "        \"specific_values\": [\n",
                        "          {\n",
                        "            \"value\": 0.05,\n",
                        "            \"applies_to\": [\n",
                        "              {\n",
                        "                \"type\": \"tag\",\n",
                        "                \"key\": \"field_type\",\n",
                        "                \"value\": \"subscription\"\n",
                        "              }\n",
                        "            ]\n",
                        "          }\n",
                        "        ]\n",
                        "      },\n",
                        "      {\n",
                        "        \"metric_id\": \"output_metadata_drift_score\",\n",
                        "        \"type\": \"upper_limit\",\n",
                        "        \"specific_values\": [\n",
                        "          {\n",
                        "            \"value\": 0.05,\n",
                        "            \"applies_to\": [\n",
                        "              {\n",
                        "                \"type\": \"tag\",\n",
                        "                \"key\": \"field_type\",\n",
                        "                \"value\": \"subscription\"\n",
                        "              }\n",
                        "            ]\n",
                        "          }\n",
                        "        ]\n",
                        "      },\n",
                        "      {\n",
                        "        \"metric_id\": \"embedding_drift_score\",\n",
                        "        \"type\": \"upper_limit\",\n",
                        "        \"specific_values\": [\n",
                        "          {\n",
                        "            \"value\": 0.05,\n",
                        "            \"applies_to\": [\n",
                        "              {\n",
                        "                \"type\": \"tag\",\n",
                        "                \"key\": \"field_type\",\n",
                        "                \"value\": \"subscription\"\n",
                        "              }\n",
                        "            ]\n",
                        "          }\n",
                        "        ]\n",
                        "      }\n",
                        "    ],\n",
                        "    \"schedule\": {\n",
                        "      \"repeat_interval\": 1,\n",
                        "      \"repeat_unit\": \"day\",\n",
                        "      \"start_time\": {\n",
                        "        \"type\": \"relative\",\n",
                        "        \"delay_unit\": \"minute\",\n",
                        "        \"delay\": 2\n",
                        "      },\n",
                        "      \"repeat_type\": \"day\"\n",
                        "    },\n",
                        "    \"status\": {\n",
                        "      \"state\": \"preparing\"\n",
                        "    }\n",
                        "  }\n",
                        "}\n"
                    ]
                }
            ],
            "source": [
                "import time\n",
                "\n",
                "target = Target(\n",
                "    target_type=TargetTypes.SUBSCRIPTION,\n",
                "    target_id=subscription_id\n",
                ")\n",
                "\n",
                "parameters = {\n",
                "        #\"min_samples\": 10,\n",
                "        #\"max_samples\": 1000,\n",
                "        \"train_archive\": False\n",
                "    }\n",
                "\n",
                "drift_monitor_details = wos_client.monitor_instances.create(\n",
                "    data_mart_id=data_mart_id,\n",
                "    monitor_definition_id=wos_client.monitor_definitions.MONITORS.DRIFT_V2.ID,\n",
                "    target=target,\n",
                "    parameters=parameters\n",
                ").result\n",
                "\n",
                "drift_monitor_instance_id = drift_monitor_details.metadata.id\n",
                "print(drift_monitor_details)"
            ]
        },
        {
            "cell_type": "markdown",
            "id": "58012329",
            "metadata": {
                "id": "f3e9eded-1e12-4233-993f-86afef5668f1"
            },
            "source": [
                "## Definitions"
            ]
        },
        {
            "cell_type": "markdown",
            "id": "4681fcdd",
            "metadata": {
                "id": "1443c658-4cef-40ee-a4fa-13e703951129"
            },
            "source": [
                "### Common Parameters\n",
                "\n",
                "| Parameter | Description | Default Value | Possible Value(s) |\n",
                "|:-|:-|:-|:-|\n",
                "| problem_type | Enumeration classifying if your model is a binary or a multi-class classifier or a regressor. |  | `binary`, `multiclass`, `regression` |\n",
                "| input_data_type | The type of your input data. |  | `unstructured_image`|\n",
                "| label_column | The column which contains the target field (also known as label column or the class label). |  | A string value referring column name |\n",
                "| feature_columns | Columns identified as features by model. The order of the feature columns should be same as that of the subscription. Use helper methods to compute these if required. |  | A list of column names |\n",
                "| categorical_columns | Feature columns identified as categorical by model. Use helper methods to compute these if required. |  | A list of column names |\n",
                "| prediction_column | The column containing the model output. This should be of the same data type as the label column. |  | A string value referring column name |\n",
                "| image_path_column | The column containing the path of each image. |  | A string value referring column name |\n",
                "| probability_column | The column (of type array) containing the model probabilities for all the possible prediction outcomes. This is not required for regression models. One of `probability_column` or `class_probabilities` must be specified for classification models. If both are specified, `class_probabilities` is preferred.|  | A string value referring column name |\n",
                "| class_probabilities | The columns (of type double) containing the model probabilities of class labels. This is not required for regression models. For example, for Go Sales model deployed in MS Azure ML Studio, value of this property would be `[\"Scored Probabilities for Class \\\"Camping Equipment\\\"\", \"Scored Probabilities for Class \\\"Mountaineering Equipment\\\"\", \"Scored Probabilities for Class \\\"Personal Accessories\\\"\"]`. Please note escaping double quotes is a must-have requirement for above example. One of `probability_column` or `class_probabilities` must be specified for classification models. If both are specified, `class_probabilities` is preferred. |  | A list of column names |\n",
                "| enable_drift_v2 | Boolean value to allow generation of Drift v2 Archive. | `True` | `True` or `False` |\n",
                "\n",
                "\n",
                "### Drift v2 Parameters\n",
                "\n",
                "| Parameter | Description | Default Value | Possible Value(s) |\n",
                "| :- | :- | :- | :- |\n",
                "| max_samples | Defines maximum sample size on which the drift v2 archive is created. | None | |"
            ]
        }
    ],
    "metadata": {
        "kernelspec": {
            "display_name": "Python 3 (ipykernel)",
            "language": "python",
            "name": "python3"
        },
        "language_info": {
            "codemirror_mode": {
                "name": "ipython",
                "version": 3
            },
            "file_extension": ".py",
            "mimetype": "text/x-python",
            "name": "python",
            "nbconvert_exporter": "python",
            "pygments_lexer": "ipython3",
            "version": "3.10.14"
        }
    },
    "nbformat": 4,
    "nbformat_minor": 5
}