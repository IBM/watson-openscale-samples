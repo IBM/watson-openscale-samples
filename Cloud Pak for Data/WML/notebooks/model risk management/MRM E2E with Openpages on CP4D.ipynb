{
 "cells": [
  {
   "cell_type": "markdown",
   "metadata": {
    "id": "968913f3-8cb5-42a3-99d0-a40ef9b6f18a"
   },
   "source": [
    "<img src=\"https://github.com/pmservice/ai-openscale-tutorials/raw/master/notebooks/images/banner.png\" align=\"left\" alt=\"banner\">"
   ]
  },
  {
   "cell_type": "markdown",
   "metadata": {
    "id": "4f7234e8-ee83-41dd-9596-89b0b50274fe"
   },
   "source": [
    "This notebook should be run using Default Spark 3.2.x & Python 3.9 runtime environment. If you are viewing this in Watson Studio and do not see Python 3.9.x with Spark in the upper right corner of your screen, please update the runtime now. It requires service credentials for the following services:\n",
    "\n",
    "<li>Watson OpenScale\n",
    "<li>Watson Machine Learning\n",
    "<li>Db2"
   ]
  },
  {
   "cell_type": "markdown",
   "metadata": {
    "id": "8a116e3e-792c-47a3-b287-e0c69d8f0cbe"
   },
   "source": [
    "## Credentials for IBM Cloud Pak for Data\n",
    "In the following code boxes, you need to replace the sample data with your own credentials. You can acquire the information from your system administrator or through the Cloud Pak for Data dashboard."
   ]
  },
  {
   "cell_type": "markdown",
   "metadata": {
    "id": "b91dea91-2604-47fc-897f-ead599a28538"
   },
   "source": [
    "### Obtaining your Watson OpenScale credentials\n",
    "You can retrieve the URL by running the following command: `oc get route -n namespace1 --no-headers | awk '{print $2}'`\n",
    "Replace the `namespace1` variable with your namespace.\n",
    "\n",
    "You should have been assigned a username and password when you were added to the Cloud Pak for Data system. You might need to ask either your database administrator or your system administrator for some of the information."
   ]
  },
  {
   "cell_type": "code",
   "execution_count": null,
   "metadata": {
    "id": "ea185c7c-00e5-4217-871e-2932711a5a89"
   },
   "outputs": [],
   "source": [
    "############################################################################################\n",
    "# Paste your Watson OpenScale credentials into the following section and then run this cell.\n",
    "############################################################################################\n",
    "WOS_CREDENTIALS = {\n",
    "      \"url\": \"<CP4D cluster URL>\",\n",
    "      \"username\": \"*****\",\n",
    "      \"password\": \"*****\"\n",
    "  }\n"
   ]
  },
  {
   "cell_type": "markdown",
   "metadata": {
    "id": "62a99f39-d6c4-4b3c-8629-829a71f226bd"
   },
   "source": [
    "### Your Watson OpenScale GUID\n",
    "For most systems, the default GUID is already entered for you. You would only need to update this particular entry if the GUID was changed from the default."
   ]
  },
  {
   "cell_type": "code",
   "execution_count": null,
   "metadata": {
    "id": "febe1223-e2c8-4087-9447-b04435c6ac7f"
   },
   "outputs": [],
   "source": [
    "WOS_GUID=\"00000000-0000-0000-0000-000000000000\""
   ]
  },
  {
   "cell_type": "markdown",
   "metadata": {
    "id": "3d4a05b2-7a03-46af-b833-e38c8f5ce433"
   },
   "source": [
    "### Your Watson OpenScale GUID\n",
    "For most systems, the default GUID is already entered for you. You would only need to update this particular entry if the GUID was changed from the default."
   ]
  },
  {
   "cell_type": "code",
   "execution_count": null,
   "metadata": {
    "id": "b4b6654e-7ae0-4831-8728-422c2ede1de0"
   },
   "outputs": [],
   "source": [
    "WML_CREDENTIALS = WOS_CREDENTIALS.copy()\n",
    "WML_CREDENTIALS['instance_id']='openshift'\n",
    "WML_CREDENTIALS['version']='4.5' #If your env is CP4D 4.x.x then specify \"4.x.x\" instead of \"4.5\"\n",
    "WML_CREDENTIALS"
   ]
  },
  {
   "cell_type": "markdown",
   "metadata": {
    "id": "2f472554-d55b-4314-addb-34dd6c23ddb6"
   },
   "source": [
    "### Your database credentials and schema\n",
    "Normally, you must obtain the database credentials and schema name from your database administrator, however, if you deployed one of the database options from the Cloud Pak for Data UI, you should be able to retrieve credentials yourself by going to My data and right-clicking on the database tile."
   ]
  },
  {
   "cell_type": "code",
   "execution_count": null,
   "metadata": {
    "id": "f17f892f-1d20-4171-a9e4-e2f9bd2e9498"
   },
   "outputs": [],
   "source": [
    "####################################################################################\n",
    "# Paste your database credentials into the following section and then run this cell.\n",
    "####################################################################################\n",
    "DATABASE_CREDENTIALS = {\n",
    "      \"db\": \"SAMPLE\",\n",
    "      \"db_type\": \"db2\",\n",
    "      \"hostname\": \"<host>\",\n",
    "      \"password\": \"******\",\n",
    "      \"port\": \"<port>\",\n",
    "      \"username\": \"*****\"\n",
    "  }"
   ]
  },
  {
   "cell_type": "code",
   "execution_count": null,
   "metadata": {
    "id": "130f9cab-b28e-4387-a050-bc419ec7b639"
   },
   "outputs": [],
   "source": [
    "SCHEMA_NAME = \"<schema_name>\""
   ]
  },
  {
   "cell_type": "markdown",
   "metadata": {
    "id": "a9996c97-00bc-4669-8be9-9602db090306"
   },
   "source": [
    "## Integration system credentials (IBM OpenPages MRG) \n",
    "As part of the closed beta, you were sent an email message from IBM that provides the URL, username, and password of an IBM OpenPages system that you can use. Replace the following credentials with the ones that you received in that email message. Please make sure to provide the location of Openpages instance as \"location\" and fill it with \"ibmcloud\" or \"cp4d\". By default the value for location will be \"cp4d\"."
   ]
  },
  {
   "cell_type": "code",
   "execution_count": null,
   "metadata": {
    "id": "58179477-a7ea-46d3-8639-7e7a71575137"
   },
   "outputs": [],
   "source": [
    "#########################################################################################\n",
    "# Paste your IBM OpenPages credentials into the following section and then run this cell.\n",
    "#########################################################################################\n",
    "OPENPAGES_CREDENTIALS = {\n",
    "     \"url\": \"<Openpages URL>\",\n",
    "     \"username\": \"*****\",\n",
    "     \"password\": \"*****\"\n",
    "     # \"location\": \"*****\"\n",
    "  }"
   ]
  },
  {
   "cell_type": "markdown",
   "metadata": {
    "id": "bea08a1d-efcb-41ea-a745-4267c9ac9ff7"
   },
   "source": [
    "## Model ID\n",
    "For the model that you create, copy the `model_id` from the OpenPages Model URL from the browser address bar. For example, if you create a model and view it in the OpenPages UI, you might see a URL such as \"https://mrgbeta.op-ibm.com/app/jspview/react/grc/task-view/7916?\". In this example, the `model_id` is **7916**. Paste that value into the following code cell."
   ]
  },
  {
   "cell_type": "code",
   "execution_count": null,
   "metadata": {
    "id": "b7cd4e79-3812-45f2-a2af-c9cc1f725a58"
   },
   "outputs": [],
   "source": [
    "####################################################################\n",
    "# Paste your model ID in the following field and then run this cell.\n",
    "####################################################################\n",
    "openpages_model_id=\"<model_id>\""
   ]
  },
  {
   "cell_type": "markdown",
   "metadata": {
    "id": "b35b37cf-dc1b-4cd7-93f3-e9428294c3a2"
   },
   "source": [
    "## Package installation\n",
    "The following opensource packages must be installed into this notebook instance so that they are available to use during processing."
   ]
  },
  {
   "cell_type": "code",
   "execution_count": null,
   "metadata": {
    "id": "0a4906d8-8155-4983-a314-914e9fe9cd98"
   },
   "outputs": [],
   "source": [
    "!rm -rf /home/spark/shared/user-libs/python3.6*\n",
    "\n",
    "#If you are running this notebook in non IBM Watson Studio env then uncomment the below pip statements and run it\n",
    "#!pip install --upgrade pyspark==3.2.0  --no-cache | tail -n 1\n",
    "#!pip install numpy==1.20.1 --no-cache | tail -n 1\n",
    "#!pip install scikit-learn==0.23.1 --no-cache | tail -n 1\n",
    "#!pip install --upgrade pandas==1.2.3 --no-cache | tail -n 1\n",
    "#!pip install --upgrade SciPy --no-cache | tail -n 1\n",
    "\n",
    "!pip install --upgrade ibm-watson-machine-learning --user | tail -n 1\n",
    "!pip install --upgrade ibm_watson_openscale --no-cache | tail -n 1"
   ]
  },
  {
   "cell_type": "markdown",
   "metadata": {
    "id": "c3c3c3f2-34a2-4d8b-9a8e-0ba26b56eaeb"
   },
   "source": [
    "## Load the training data from Github\n",
    "So you don't have to manually generate training data, we've provided a sample and placed it in a publicly available Github repo."
   ]
  },
  {
   "cell_type": "code",
   "execution_count": null,
   "metadata": {
    "id": "b7baf81e-49e9-4658-ae58-43a8d494dd94"
   },
   "outputs": [],
   "source": [
    "!rm german_credit_data_biased_training.csv\n",
    "!wget https://raw.githubusercontent.com/pmservice/ai-openscale-tutorials/master/assets/historical_data/german_credit_risk/wml/german_credit_data_biased_training.csv"
   ]
  },
  {
   "cell_type": "code",
   "execution_count": null,
   "metadata": {
    "id": "78fdc41f-fedd-4c67-a5a6-6369ece571c5"
   },
   "outputs": [],
   "source": [
    "import json\n",
    "import requests\n",
    "import base64\n",
    "from requests.auth import HTTPBasicAuth\n",
    "import time"
   ]
  },
  {
   "cell_type": "markdown",
   "metadata": {
    "id": "59d18c2d-87b6-40b9-83d1-7d5cdb7f8738"
   },
   "source": [
    "# Deploy the models\n",
    "\n",
    "The following cells deploy both the pre-prod and challenger models into the Watson Machine Learning instance."
   ]
  },
  {
   "cell_type": "code",
   "execution_count": null,
   "metadata": {
    "id": "3a9a92db-3283-4a32-bbdd-efd1d3229733"
   },
   "outputs": [],
   "source": [
    "PRE_PROD_MODEL_NAME=\"German Credit Risk Model - PreProd\"\n",
    "PRE_PROD_DEPLOYMENT_NAME=\"German Credit Risk Model - PreProd\"\n",
    "\n",
    "PRE_PROD_CHALLENGER_MODEL_NAME=\"German Credit Risk Model - Challenger\"\n",
    "PRE_PROD_CHALLENGER_DEPLOYMENT_NAME=\"German Credit Risk Model - Challenger\"\n",
    "\n",
    "PRE_PROD_SPACE_NAME=\"wml_preprod\""
   ]
  },
  {
   "cell_type": "markdown",
   "metadata": {
    "id": "33f8c143-b900-4616-9f5b-287891dde7ea"
   },
   "source": [
    "## Initialize WML client and set the space_id parameter\n",
    "Analytic spaces are used to categorize assets and can be associated with a project inside of Watson Studio."
   ]
  },
  {
   "cell_type": "code",
   "execution_count": null,
   "metadata": {
    "id": "6ab80789-141f-4404-9f27-c1097a979edf"
   },
   "outputs": [],
   "source": [
    "from ibm_watson_machine_learning import APIClient\n",
    "wml_client = APIClient(WML_CREDENTIALS)\n",
    "print(wml_client.service_instance.get_url())\n",
    "\n",
    "wml_client.spaces.list()\n",
    "\n",
    "# Find and set the default space\n",
    "space_name=PRE_PROD_SPACE_NAME\n",
    "spaces = wml_client.spaces.get_details()['resources']\n",
    "space_id = None\n",
    "for space in spaces:\n",
    "    if space['entity']['name'] == space_name:\n",
    "        space_id = space[\"metadata\"][\"id\"]\n",
    "        print(space_id)\n",
    "if space_id is None:\n",
    "    space_id = wml_client.spaces.store(\n",
    "        meta_props={wml_client.spaces.ConfigurationMetaNames.NAME: space_name})[\"metadata\"][\"id\"]\n",
    "\n",
    "wml_client.set.default_space(space_id)\n",
    "\n"
   ]
  },
  {
   "cell_type": "code",
   "execution_count": null,
   "metadata": {
    "id": "35c292be1eee4a87806e83bfa8c96500"
   },
   "outputs": [],
   "source": [
    "wml_client.version"
   ]
  },
  {
   "cell_type": "markdown",
   "metadata": {
    "id": "cb16f23a-8466-4b34-a264-837ea7889d95"
   },
   "source": [
    "## Deploy the Spark Credit Risk Model to WML\n",
    "\n",
    "The following cell deploys the Spark version of the German Credit Risk Model to the specified Machine Learning instance in the specified deployment space. You'll notice that this version of the German Credit Risk model has an auc-roc score around 71%."
   ]
  },
  {
   "cell_type": "code",
   "execution_count": null,
   "metadata": {
    "id": "76334df0-8942-4ba5-9798-7d0d33990741"
   },
   "outputs": [],
   "source": [
    "import numpy \n",
    "numpy.version.version\n",
    "\n",
    "import pandas as pd\n",
    "import json\n",
    "\n",
    "from pyspark import SparkContext, SQLContext\n",
    "from pyspark.ml import Pipeline\n",
    "from pyspark.ml.classification import RandomForestClassifier,GBTClassifier\n",
    "from pyspark.ml.evaluation import BinaryClassificationEvaluator\n",
    "from pyspark.ml.feature import StringIndexer, VectorAssembler, IndexToString\n",
    "from pyspark.sql.types import StructType, DoubleType, StringType, ArrayType\n",
    "\n",
    "from pyspark.sql import SparkSession\n",
    "from pyspark import SparkFiles\n",
    "\n",
    "spark = SparkSession.builder.getOrCreate()\n",
    "pd_data = pd.read_csv(\"german_credit_data_biased_training.csv\", sep=\",\", header=0)\n",
    "spark_df = spark.read.csv(path=\"german_credit_data_biased_training.csv\", sep=\",\", header=True, inferSchema=True)\n",
    "spark_df.head()\n",
    "\n",
    "(train_data, test_data) = spark_df.randomSplit([0.9, 0.1], 24)\n",
    "print(\"Number of records for training: \" + str(train_data.count()))\n",
    "print(\"Number of records for evaluation: \" + str(test_data.count()))\n",
    "\n",
    "si_CheckingStatus = StringIndexer(inputCol='CheckingStatus', outputCol='CheckingStatus_IX')\n",
    "si_CreditHistory = StringIndexer(inputCol='CreditHistory', outputCol='CreditHistory_IX')\n",
    "si_LoanPurpose = StringIndexer(inputCol='LoanPurpose', outputCol='LoanPurpose_IX')\n",
    "si_ExistingSavings = StringIndexer(inputCol='ExistingSavings', outputCol='ExistingSavings_IX')\n",
    "si_EmploymentDuration = StringIndexer(inputCol='EmploymentDuration', outputCol='EmploymentDuration_IX')\n",
    "si_Sex = StringIndexer(inputCol='Sex', outputCol='Sex_IX')\n",
    "si_OthersOnLoan = StringIndexer(inputCol='OthersOnLoan', outputCol='OthersOnLoan_IX')\n",
    "si_OwnsProperty = StringIndexer(inputCol='OwnsProperty', outputCol='OwnsProperty_IX')\n",
    "si_InstallmentPlans = StringIndexer(inputCol='InstallmentPlans', outputCol='InstallmentPlans_IX')\n",
    "si_Housing = StringIndexer(inputCol='Housing', outputCol='Housing_IX')\n",
    "si_Job = StringIndexer(inputCol='Job', outputCol='Job_IX')\n",
    "si_Telephone = StringIndexer(inputCol='Telephone', outputCol='Telephone_IX')\n",
    "si_ForeignWorker = StringIndexer(inputCol='ForeignWorker', outputCol='ForeignWorker_IX')\n",
    "si_Label = StringIndexer(inputCol=\"Risk\", outputCol=\"label\").fit(spark_df)\n",
    "label_converter = IndexToString(inputCol=\"prediction\", outputCol=\"predictedLabel\", labels=si_Label.labels)\n",
    "\n",
    "va_features = VectorAssembler(\n",
    "inputCols=[\"CheckingStatus_IX\", \"CreditHistory_IX\", \"LoanPurpose_IX\", \"ExistingSavings_IX\",\n",
    "           \"EmploymentDuration_IX\", \"Sex_IX\", \"OthersOnLoan_IX\", \"OwnsProperty_IX\", \"InstallmentPlans_IX\",\n",
    "           \"Housing_IX\", \"Job_IX\", \"Telephone_IX\", \"ForeignWorker_IX\", \"LoanDuration\", \"LoanAmount\",\n",
    "           \"InstallmentPercent\", \"CurrentResidenceDuration\", \"LoanDuration\", \"Age\", \"ExistingCreditsCount\",\n",
    "           \"Dependents\"], outputCol=\"features\")\n",
    "\n",
    "classifier=GBTClassifier(featuresCol=\"features\")\n",
    "\n",
    "pipeline = Pipeline(\n",
    "stages=[si_CheckingStatus, si_CreditHistory, si_EmploymentDuration, si_ExistingSavings, si_ForeignWorker,\n",
    "        si_Housing, si_InstallmentPlans, si_Job, si_LoanPurpose, si_OthersOnLoan,\n",
    "        si_OwnsProperty, si_Sex, si_Telephone, si_Label, va_features, classifier, label_converter])\n",
    "\n",
    "model = pipeline.fit(train_data)\n",
    "predictions = model.transform(test_data)\n",
    "evaluator = BinaryClassificationEvaluator(rawPredictionCol=\"prediction\")\n",
    "auc = evaluator.evaluate(predictions)\n",
    "\n",
    "print(\"Accuracy = %g\" % auc)\n",
    "\n",
    "# Remove existing model and deployment\n",
    "MODEL_NAME=PRE_PROD_MODEL_NAME\n",
    "DEPLOYMENT_NAME=PRE_PROD_DEPLOYMENT_NAME\n",
    "\n",
    "deployment_details = wml_client.deployments.get_details()\n",
    "for deployment in deployment_details['resources']:\n",
    "    deployment_id = wml_client.deployments.get_id(deployment)\n",
    "    model_id = deployment['entity']['asset']['id']\n",
    "    if deployment['entity']['name'] == DEPLOYMENT_NAME:\n",
    "        print('Deleting deployment id', deployment_id)\n",
    "        wml_client.deployments.delete(deployment_id)\n",
    "        print('Deleting model id', model_id)\n",
    "        wml_client.repository.delete(model_id)\n",
    "wml_client.repository.list_models()\n",
    "\n",
    "# Save Model\n",
    "software_spec_uid = wml_client.software_specifications.get_id_by_name(\"spark-mllib_3.2\")\n",
    "model_props_rf = {\n",
    "    wml_client.repository.ModelMetaNames.NAME: MODEL_NAME,\n",
    "    wml_client.repository.ModelMetaNames.DESCRIPTION: MODEL_NAME,\n",
    "    wml_client.repository.ModelMetaNames.SOFTWARE_SPEC_UID: software_spec_uid,\n",
    "    wml_client.repository.ModelMetaNames.TYPE: 'mllib_3.2'\n",
    "}\n",
    "print(model_props_rf)\n",
    "published_model_details = wml_client.repository.store_model(model=model, meta_props=model_props_rf, training_data=train_data, pipeline=pipeline)\n",
    "print(published_model_details)\n",
    "\n",
    "# List models in the repository\n",
    "wml_client.repository.list_models()\n",
    "\n",
    "# Get the model UID\n",
    "pre_prod_model_uid = wml_client.repository.get_model_uid(published_model_details)\n",
    "pre_prod_model_uid\n",
    "\n",
    "\n",
    "# Deploy model\n",
    "wml_deployments = wml_client.deployments.get_details()\n",
    "pre_prod_deployment_uid = None\n",
    "for deployment in wml_deployments['resources']:\n",
    "    if DEPLOYMENT_NAME == deployment['entity']['name']:\n",
    "        pre_prod_deployment_uid = wml_client.deployments.get_id(deployment)\n",
    "        break\n",
    "\n",
    "if pre_prod_deployment_uid is None:\n",
    "    print(\"Deploying model...\")\n",
    "    meta_props = {\n",
    "        wml_client.deployments.ConfigurationMetaNames.NAME: DEPLOYMENT_NAME,\n",
    "        wml_client.deployments.ConfigurationMetaNames.DESCRIPTION: DEPLOYMENT_NAME,\n",
    "        wml_client.deployments.ConfigurationMetaNames.ONLINE: {}\n",
    "    }\n",
    "    deployment = wml_client.deployments.create(artifact_uid=pre_prod_model_uid, name=DEPLOYMENT_NAME, meta_props=meta_props)\n",
    "    pre_prod_deployment_uid = wml_client.deployments.get_id(deployment)\n",
    "\n",
    "print(\"Model id: {}\".format(pre_prod_model_uid))\n",
    "print(\"Deployment id: {}\".format(pre_prod_deployment_uid))\n",
    "\n",
    "pre_prod_deployment_uid=wml_client.deployments.get_id(deployment)\n",
    "pre_prod_deployment_uid\n",
    "\n",
    "fields = [\"CheckingStatus\",\"LoanDuration\",\"CreditHistory\",\"LoanPurpose\",\"LoanAmount\",\"ExistingSavings\",\"EmploymentDuration\",\"InstallmentPercent\",\"Sex\",\"OthersOnLoan\",\"CurrentResidenceDuration\",\"OwnsProperty\",\"Age\",\"InstallmentPlans\",\"Housing\",\"ExistingCreditsCount\",\"Job\",\"Dependents\",\"Telephone\",\"ForeignWorker\"]\n",
    "values = [\n",
    "  [\"no_checking\",13,\"credits_paid_to_date\",\"car_new\",1343,\"100_to_500\",\"1_to_4\",2,\"female\",\"none\",3,\"savings_insurance\",46,\"none\",\"own\",2,\"skilled\",1,\"none\",\"yes\"],\n",
    "  [\"no_checking\",24,\"prior_payments_delayed\",\"furniture\",4567,\"500_to_1000\",\"1_to_4\",4,\"male\",\"none\",4,\"savings_insurance\",36,\"none\",\"free\",2,\"management_self-employed\",1,\"none\",\"yes\"],\n",
    "  [\"0_to_200\",26,\"all_credits_paid_back\",\"car_new\",863,\"less_100\",\"less_1\",2,\"female\",\"co-applicant\",2,\"real_estate\",38,\"none\",\"own\",1,\"skilled\",1,\"none\",\"yes\"],\n",
    "  [\"0_to_200\",14,\"no_credits\",\"car_new\",2368,\"less_100\",\"1_to_4\",3,\"female\",\"none\",3,\"real_estate\",29,\"none\",\"own\",1,\"skilled\",1,\"none\",\"yes\"],\n",
    "  [\"0_to_200\",4,\"no_credits\",\"car_new\",250,\"less_100\",\"unemployed\",2,\"female\",\"none\",3,\"real_estate\",23,\"none\",\"rent\",1,\"management_self-employed\",1,\"none\",\"yes\"],\n",
    "  [\"no_checking\",17,\"credits_paid_to_date\",\"car_new\",832,\"100_to_500\",\"1_to_4\",2,\"male\",\"none\",2,\"real_estate\",42,\"none\",\"own\",1,\"skilled\",1,\"none\",\"yes\"],\n",
    "  [\"no_checking\",33,\"outstanding_credit\",\"appliances\",5696,\"unknown\",\"greater_7\",4,\"male\",\"co-applicant\",4,\"unknown\",54,\"none\",\"free\",2,\"skilled\",1,\"yes\",\"yes\"],\n",
    "  [\"0_to_200\",13,\"prior_payments_delayed\",\"retraining\",1375,\"100_to_500\",\"4_to_7\",3,\"male\",\"none\",3,\"real_estate\",37,\"none\",\"own\",2,\"management_self-employed\",1,\"none\",\"yes\"]\n",
    "]\n",
    "\n",
    "payload_scoring = {\"fields\": fields,\"values\": values}\n",
    "payload = {\n",
    "    wml_client.deployments.ScoringMetaNames.INPUT_DATA: [payload_scoring]\n",
    "}\n",
    "scoring_response = wml_client.deployments.score(pre_prod_deployment_uid, payload)\n",
    "\n",
    "scoring_response"
   ]
  },
  {
   "cell_type": "markdown",
   "metadata": {
    "id": "60def73f-e179-4083-91c7-215debf39eba"
   },
   "source": [
    "## Deploy the Scikit-Learn Credit Risk Model to Watson Machine Learning\n",
    "\n",
    "The following cell deploys the Scikit-learn version of the German Credit Risk Model to the specified Machine Learning instance in the specified deployment space. This version of the German Credit Risk model has an auc-roc score around 85% and will be called the \"Challenger.\"\n",
    "\n",
    "Note : If you are running this notebook on python 3.10, then use `runtime-22.2-py3.10` and `scikit-learn_1.1` as software specifications name and ModelMetaNames.TYPE respectively"
   ]
  },
  {
   "cell_type": "code",
   "execution_count": null,
   "metadata": {
    "id": "50193e3df87b49008440e9693efc2a47"
   },
   "outputs": [],
   "source": [
    "import sklearn\n",
    "sklearn.__version__"
   ]
  },
  {
   "cell_type": "code",
   "execution_count": null,
   "metadata": {
    "id": "178d5505-d7d6-44c7-83cd-3d72fe821adb"
   },
   "outputs": [],
   "source": [
    "import pandas as pd\n",
    "import json\n",
    "import sys\n",
    "import numpy\n",
    "import sklearn\n",
    "import sklearn.ensemble\n",
    "numpy.set_printoptions(threshold=sys.maxsize)\n",
    "#from sklearn.ensemble.gradient_boosting import GradientBoostingClassifier\n",
    "from sklearn.ensemble import GradientBoostingClassifier\n",
    "from sklearn.utils.multiclass import type_of_target\n",
    "from sklearn.model_selection import train_test_split\n",
    "from sklearn.pipeline import Pipeline\n",
    "from sklearn.impute import SimpleImputer\n",
    "from sklearn.preprocessing import StandardScaler, OrdinalEncoder\n",
    "from sklearn.compose import ColumnTransformer\n",
    "from sklearn.model_selection import cross_validate\n",
    "from sklearn.metrics import get_scorer\n",
    "from sklearn.model_selection import cross_validate\n",
    "from sklearn.metrics import classification_report\n",
    "\n",
    "data_df=pd.read_csv (\"german_credit_data_biased_training.csv\")\n",
    "\n",
    "data_df.head()\n",
    "\n",
    "target_label_name = \"Risk\"\n",
    "feature_cols= data_df.drop(columns=[target_label_name])\n",
    "label= data_df[target_label_name]\n",
    "\n",
    "# Set model evaluation properties\n",
    "optimization_metric = 'roc_auc'\n",
    "random_state = 33\n",
    "cv_num_folds = 3\n",
    "holdout_fraction = 0.1\n",
    "\n",
    "if type_of_target(label.values) in ['multiclass', 'binary']:\n",
    "    X_train, X_holdout, y_train, y_holdout = train_test_split(feature_cols, label, test_size=holdout_fraction, random_state=random_state, stratify=label.values)\n",
    "else:\n",
    "    X_train, X_holdout, y_train, y_holdout = train_test_split(feature_cols, label, test_size=holdout_fraction, random_state=random_state)\n",
    "\n",
    "# Data preprocessing transformer generation\n",
    "\n",
    "numeric_transformer = Pipeline(steps=[\n",
    "    ('imputer', SimpleImputer(strategy='median')),\n",
    "    ('scaler', StandardScaler())])\n",
    "categorical_transformer = Pipeline(steps=[\n",
    "    ('imputer', SimpleImputer(strategy='most_frequent')),\n",
    "    ('OrdinalEncoder', OrdinalEncoder(categories='auto',dtype=numpy.float64 ))])\n",
    "\n",
    "numeric_features = feature_cols.select_dtypes(include=['int64', 'float64']).columns\n",
    "categorical_features = feature_cols.select_dtypes(include=['object']).columns\n",
    "\n",
    "preprocessor = ColumnTransformer(\n",
    "    transformers=[\n",
    "        ('num', numeric_transformer, numeric_features),\n",
    "        ('cat', categorical_transformer, categorical_features)])\n",
    "\n",
    "# Initiate model and create pipeline\n",
    "model=GradientBoostingClassifier()\n",
    "gbt_pipeline = Pipeline(steps=[('preprocessor', preprocessor), ('classifier', model)])\n",
    "model_gbt=gbt_pipeline.fit(X_train, y_train)\n",
    "\n",
    "y_pred = model_gbt.predict(X_holdout)\n",
    "\n",
    "\n",
    "# Evaluate model performance on test data and Cross validation\n",
    "scorer = get_scorer(optimization_metric)\n",
    "scorer(model_gbt,X_holdout, y_holdout)\n",
    "\n",
    "# Cross validation -3 folds\n",
    "cv_results = cross_validate(model_gbt,X_train,y_train, scoring={optimization_metric:scorer})\n",
    "numpy.mean(cv_results['test_' + optimization_metric])\n",
    "\n",
    "print(classification_report(y_pred, y_holdout))\n",
    "\n",
    "\n",
    "# Remove existing model and deployment\n",
    "MODEL_NAME=PRE_PROD_CHALLENGER_MODEL_NAME\n",
    "DEPLOYMENT_NAME=PRE_PROD_CHALLENGER_DEPLOYMENT_NAME\n",
    "\n",
    "deployment_details = wml_client.deployments.get_details()\n",
    "for deployment in deployment_details['resources']:\n",
    "    deployment_id = wml_client.deployments.get_id(deployment)\n",
    "    model_id = deployment['entity']['asset']['id']\n",
    "    if deployment['entity']['name'] == DEPLOYMENT_NAME:\n",
    "        print('Deleting deployment id', deployment_id)\n",
    "        wml_client.deployments.delete(deployment_id)\n",
    "        print('Deleting model id', model_id)\n",
    "        wml_client.repository.delete(model_id)\n",
    "wml_client.repository.list_models()\n",
    "\n",
    "# Store Model\n",
    "software_spec_uid = wml_client.software_specifications.get_id_by_name(\"runtime-22.1-py3.9\")\n",
    "model_props_gbt = {\n",
    "    wml_client.repository.ModelMetaNames.NAME: MODEL_NAME,\n",
    "    wml_client.repository.ModelMetaNames.DESCRIPTION: MODEL_NAME,\n",
    "    wml_client.repository.ModelMetaNames.SOFTWARE_SPEC_UID: software_spec_uid,\n",
    "    wml_client.repository.ModelMetaNames.TYPE: \"scikit-learn_1.0\"\n",
    "}\n",
    "\n",
    "published_model_details = wml_client.repository.store_model(model=model_gbt, meta_props=model_props_gbt, training_data=feature_cols,training_target=label)\n",
    "print(published_model_details)\n",
    "\n",
    "# List models in the repository\n",
    "wml_client.repository.list_models()\n",
    "\n",
    "# Get the model UID\n",
    "challenger_model_uid = wml_client.repository.get_model_id(published_model_details)\n",
    "print('challenger_model_uid ', challenger_model_uid)\n",
    "\n",
    "\n",
    "# Deploy model\n",
    "wml_deployments = wml_client.deployments.get_details()\n",
    "challenger_deployment_uid = None\n",
    "for deployment in wml_deployments['resources']:\n",
    "    if DEPLOYMENT_NAME == deployment['entity']['name']:\n",
    "        challenger_deployment_uid = wml_client.deployments.get_id(deployment)\n",
    "        break\n",
    "\n",
    "if challenger_deployment_uid is None:\n",
    "    print(\"Deploying model...\")\n",
    "    meta_props = {\n",
    "        wml_client.deployments.ConfigurationMetaNames.NAME: DEPLOYMENT_NAME,\n",
    "        wml_client.deployments.ConfigurationMetaNames.DESCRIPTION: DEPLOYMENT_NAME,\n",
    "        wml_client.deployments.ConfigurationMetaNames.ONLINE: {}\n",
    "    }\n",
    "    deployment = wml_client.deployments.create(artifact_uid=challenger_model_uid, meta_props=meta_props)\n",
    "    challenger_deployment_uid = wml_client.deployments.get_id(deployment)\n",
    "\n",
    "print(\"Model id: {}\".format(challenger_model_uid))\n",
    "print(\"Deployment id: {}\".format(challenger_deployment_uid))\n",
    "\n",
    "challenger_deployment_uid=wml_client.deployments.get_id(deployment)\n",
    "challenger_deployment_uid\n",
    "\n",
    "\n",
    "# Sample scoring\n",
    "fields = [\"CheckingStatus\",\"LoanDuration\",\"CreditHistory\",\"LoanPurpose\",\"LoanAmount\",\"ExistingSavings\",\"EmploymentDuration\",\"InstallmentPercent\",\"Sex\",\"OthersOnLoan\",\"CurrentResidenceDuration\",\"OwnsProperty\",\"Age\",\"InstallmentPlans\",\"Housing\",\"ExistingCreditsCount\",\"Job\",\"Dependents\",\"Telephone\",\"ForeignWorker\"]\n",
    "values = [\n",
    "  [\"no_checking\",13,\"credits_paid_to_date\",\"car_new\",1343,\"100_to_500\",\"1_to_4\",2,\"female\",\"none\",3,\"savings_insurance\",46,\"none\",\"own\",2,\"skilled\",1,\"none\",\"yes\"],\n",
    "  [\"no_checking\",24,\"prior_payments_delayed\",\"furniture\",4567,\"500_to_1000\",\"1_to_4\",4,\"male\",\"none\",4,\"savings_insurance\",36,\"none\",\"free\",2,\"management_self-employed\",1,\"none\",\"yes\"],\n",
    "  [\"0_to_200\",26,\"all_credits_paid_back\",\"car_new\",863,\"less_100\",\"less_1\",2,\"female\",\"co-applicant\",2,\"real_estate\",38,\"none\",\"own\",1,\"skilled\",1,\"none\",\"yes\"],\n",
    "  [\"0_to_200\",14,\"no_credits\",\"car_new\",2368,\"less_100\",\"1_to_4\",3,\"female\",\"none\",3,\"real_estate\",29,\"none\",\"own\",1,\"skilled\",1,\"none\",\"yes\"],\n",
    "  [\"0_to_200\",4,\"no_credits\",\"car_new\",250,\"less_100\",\"unemployed\",2,\"female\",\"none\",3,\"real_estate\",23,\"none\",\"rent\",1,\"management_self-employed\",1,\"none\",\"yes\"],\n",
    "  [\"no_checking\",17,\"credits_paid_to_date\",\"car_new\",832,\"100_to_500\",\"1_to_4\",2,\"male\",\"none\",2,\"real_estate\",42,\"none\",\"own\",1,\"skilled\",1,\"none\",\"yes\"],\n",
    "  [\"no_checking\",33,\"outstanding_credit\",\"appliances\",5696,\"unknown\",\"greater_7\",4,\"male\",\"co-applicant\",4,\"unknown\",54,\"none\",\"free\",2,\"skilled\",1,\"yes\",\"yes\"],\n",
    "  [\"0_to_200\",13,\"prior_payments_delayed\",\"retraining\",1375,\"100_to_500\",\"4_to_7\",3,\"male\",\"none\",3,\"real_estate\",37,\"none\",\"own\",2,\"management_self-employed\",1,\"none\",\"yes\"]\n",
    "]\n",
    "\n",
    "payload_scoring = {\"fields\": fields,\"values\": values}\n",
    "payload = {\n",
    "    wml_client.deployments.ScoringMetaNames.INPUT_DATA: [payload_scoring]\n",
    "}\n",
    "scoring_response = wml_client.deployments.score(challenger_deployment_uid, payload)\n",
    "\n",
    "scoring_response\n"
   ]
  },
  {
   "cell_type": "markdown",
   "metadata": {
    "id": "6d66e647-0b3e-483e-8223-55d79934f20c"
   },
   "source": [
    "# Configure OpenScale \n",
    "The notebook will now import the necessary libraries and set up a Python OpenScale client."
   ]
  },
  {
   "cell_type": "code",
   "execution_count": null,
   "metadata": {
    "id": "94363246-f6e0-4a95-af54-9d8513854dbe"
   },
   "outputs": [],
   "source": [
    "from ibm_cloud_sdk_core.authenticators import CloudPakForDataAuthenticator\n",
    "from ibm_watson_openscale import APIClient\n",
    "from ibm_watson_openscale.utils import *\n",
    "from ibm_watson_openscale.supporting_classes import *\n",
    "from ibm_watson_openscale.supporting_classes.enums import *\n",
    "from ibm_watson_openscale.supporting_classes.payload_record import PayloadRecord\n",
    "import uuid"
   ]
  },
  {
   "cell_type": "code",
   "execution_count": null,
   "metadata": {
    "id": "9c822f42-7763-4fe5-bbf7-ed6fb6ae4722"
   },
   "outputs": [],
   "source": [
    "authenticator = CloudPakForDataAuthenticator(\n",
    "        url=WOS_CREDENTIALS['url'],\n",
    "        username=WOS_CREDENTIALS['username'],\n",
    "        password=WOS_CREDENTIALS['password'],\n",
    "        disable_ssl_verification=True\n",
    "    )\n",
    "\n",
    "wos_client = APIClient(service_url=WOS_CREDENTIALS['url'],authenticator=authenticator)\n",
    "wos_client.version"
   ]
  },
  {
   "cell_type": "markdown",
   "metadata": {
    "id": "444021dc-f467-4b55-9c19-2a42e2725985"
   },
   "source": [
    "## Create schema and datamart\n",
    "\n",
    "### Set up datamart\n",
    "Watson OpenScale uses a database to store payload logs and calculated metrics. If an OpenScale datamart exists in Db2, the existing datamart will be used and no data will be overwritten."
   ]
  },
  {
   "cell_type": "code",
   "execution_count": null,
   "metadata": {
    "id": "78d73bc1b8f84765bf0eb36e4c637d17"
   },
   "outputs": [],
   "source": [
    "wos_client.data_marts.show()"
   ]
  },
  {
   "cell_type": "code",
   "execution_count": null,
   "metadata": {
    "id": "af7f338d-cd56-45f9-8817-40bb176d523d"
   },
   "outputs": [],
   "source": [
    "data_marts = wos_client.data_marts.list().result.data_marts\n",
    "if len(data_marts) == 0:\n",
    "    if DATABASE_CREDENTIALS is not None:\n",
    "        if SCHEMA_NAME is None: \n",
    "            print(\"Please specify the SCHEMA_NAME and rerun the cell\")\n",
    "\n",
    "        print(\"Setting up external datamart\")\n",
    "        added_data_mart_result = wos_client.data_marts.add(\n",
    "                background_mode=False,\n",
    "                name=\"WOS Data Mart\",\n",
    "                description=\"Data Mart created by WOS tutorial notebook\",\n",
    "                database_configuration=DatabaseConfigurationRequest(\n",
    "                  database_type=DatabaseType.DB2,\n",
    "                    credentials=PrimaryStorageCredentialsLong(\n",
    "                        hostname=DATABASE_CREDENTIALS[\"hostname\"],\n",
    "                        username=DATABASE_CREDENTIALS[\"username\"],\n",
    "                        password=DATABASE_CREDENTIALS[\"password\"],\n",
    "                        db=DATABASE_CREDENTIALS[\"db\"],\n",
    "                        port=DATABASE_CREDENTIALS[\"port\"]\n",
    "                    ),\n",
    "                    location=LocationSchemaName(\n",
    "                        schema_name= SCHEMA_NAME\n",
    "                    )\n",
    "                )\n",
    "             ).result\n",
    "    else:\n",
    "        print(\"Setting up internal datamart\")\n",
    "        added_data_mart_result = wos_client.data_marts.add(\n",
    "                background_mode=False,\n",
    "                name=\"WOS Data Mart\",\n",
    "                description=\"Data Mart created by WOS tutorial notebook\", \n",
    "                internal_database = True).result\n",
    "        \n",
    "    data_mart_id = added_data_mart_result.metadata.id\n",
    "    \n",
    "else:\n",
    "    data_mart_id=data_marts[0].metadata.id\n",
    "    print(\"Using existing datamart {}\".format(data_mart_id))"
   ]
  },
  {
   "cell_type": "code",
   "execution_count": null,
   "metadata": {
    "id": "4a6c18b3207f4ff98bf21621df5a2ec9"
   },
   "outputs": [],
   "source": [
    "data_mart_id"
   ]
  },
  {
   "cell_type": "markdown",
   "metadata": {
    "id": "59cf3a5b-78be-4d10-8ae8-069a98b48fa2"
   },
   "source": [
    "## Generate an ICP token\n",
    "\n",
    "The following is a function that will generate an ICP access token used to interact with the Watson OpenScale APIs"
   ]
  },
  {
   "cell_type": "code",
   "execution_count": null,
   "metadata": {
    "id": "9e6c7b03-7506-4ad4-b656-7f29e2349ea8"
   },
   "outputs": [],
   "source": [
    "import requests\n",
    "import urllib3\n",
    "from http import HTTPStatus\n",
    "\n",
    "def get_iamtoken(url, username, password):\n",
    "    fqdn = urllib3.util.parse_url(url).netloc\n",
    "    domain = '.'.join(fqdn.split('.')[1:])\n",
    "    token_url = 'https://cp-console.{}/idprovider/v1/auth/identitytoken'.format(domain)\n",
    "    data = {\n",
    "        'grant_type': 'password',\n",
    "        'username': username,\n",
    "        'password': password,\n",
    "        'scope': 'openid'\n",
    "    }\n",
    "    return requests.post(token_url, data, verify=False)\n",
    "\n",
    "def get_accesstoken(url, username, iamtoken):\n",
    "    url = '{}/v1/preauth/validateAuth'.format(url)\n",
    "    headers = {\n",
    "        'Content-type': 'application/json',\n",
    "        'username': username,\n",
    "        'iam-token': iamtoken\n",
    "    }\n",
    "    return requests.get(url, headers=headers, verify=False)\n",
    "\n",
    "def generate_access_token():\n",
    "    url=WOS_CREDENTIALS['url']\n",
    "    username=WOS_CREDENTIALS['username']\n",
    "    password=WOS_CREDENTIALS['password'] \n",
    "    response = get_iamtoken(url,username,password)\n",
    "    #service is not available when iamintegration=false so fall back to old way of generating code\n",
    "    if response.status_code==HTTPStatus.SERVICE_UNAVAILABLE:\n",
    "        url = '{}/v1/preauth/validateAuth'.format(url)\n",
    "        headers = {'Content-type': 'application/json'}\n",
    "        data = {\n",
    "            'grant_type': 'password',\n",
    "            'username': username,\n",
    "            'password': password\n",
    "        }\n",
    "        return requests.get(url, headers=headers, auth= (username,password),verify=False).json()['accessToken']\n",
    "        \n",
    "    else:\n",
    "        return get_accesstoken(url,username, response.json()['access_token']).json()['accessToken']"
   ]
  },
  {
   "cell_type": "markdown",
   "metadata": {
    "id": "4b0c9239-899e-4748-80e2-b901a4d26741"
   },
   "source": [
    "## Bind WML machine learning instance as Pre-Prod\n",
    "\n",
    "Watson OpenScale needs to be bound to the Watson Machine Learning instance to capture payload data into and out of the model. If a binding with name \"WML Pre-Prod\" already exists, this code will delete that binding a create a new one.\n",
    "\n",
    "**Note**: Binding with name `WML Pre-Prod` is assumed to be only created by this notebook."
   ]
  },
  {
   "cell_type": "code",
   "execution_count": null,
   "metadata": {
    "id": "d97136a95b184de8b794d14318367aad"
   },
   "outputs": [],
   "source": [
    "SERVICE_PROVIDER_NAME = \"WML Pre-Prod\"\n",
    "SERVICE_PROVIDER_DESCRIPTION = \"Added by tutorial WOS notebook.\""
   ]
  },
  {
   "cell_type": "code",
   "execution_count": null,
   "metadata": {
    "id": "33c581b9-fc49-4885-90d9-d25e2f78762a"
   },
   "outputs": [],
   "source": [
    "service_providers = wos_client.service_providers.list().result.service_providers\n",
    "for service_provider in service_providers:\n",
    "    service_instance_name = service_provider.entity.name\n",
    "    if service_instance_name == SERVICE_PROVIDER_NAME:\n",
    "        service_provider_id = service_provider.metadata.id\n",
    "        wos_client.service_providers.delete(service_provider_id)\n",
    "        print(\"Deleted existing service_provider for WML instance: {}\".format(service_provider_id))"
   ]
  },
  {
   "cell_type": "code",
   "execution_count": null,
   "metadata": {
    "id": "60add123-1273-4190-97bd-1c3ff5769fba"
   },
   "outputs": [],
   "source": [
    "added_service_provider_result = wos_client.service_providers.add(\n",
    "        name=SERVICE_PROVIDER_NAME,\n",
    "        description=SERVICE_PROVIDER_DESCRIPTION,\n",
    "        service_type=ServiceTypes.WATSON_MACHINE_LEARNING,\n",
    "        deployment_space_id = space_id,\n",
    "        operational_space_id = \"pre_production\",\n",
    "        credentials=WMLCredentialsCP4D(\n",
    "            url=WML_CREDENTIALS[\"url\"],\n",
    "            username=WML_CREDENTIALS[\"username\"],\n",
    "            password=WML_CREDENTIALS[\"password\"],\n",
    "            instance_id=WML_CREDENTIALS[\"instance_id\"]\n",
    "        ),\n",
    "        background_mode=False\n",
    "    ).result\n",
    "service_provider_id = added_service_provider_result.metadata.id"
   ]
  },
  {
   "cell_type": "code",
   "execution_count": null,
   "metadata": {
    "id": "3bb0b46e-a5d3-4fff-a746-7d3aae5a7d1f"
   },
   "outputs": [],
   "source": [
    "wos_client.service_providers.show()"
   ]
  },
  {
   "cell_type": "markdown",
   "metadata": {
    "id": "0272beea-9837-4bc9-9798-18324240e250"
   },
   "source": [
    "## Create an integration to IBM OpenPages\n",
    "\n",
    "To push metrics from Watson OpenScale to IBM OpenPages, a connection must be established between the two services."
   ]
  },
  {
   "cell_type": "code",
   "execution_count": null,
   "metadata": {
    "id": "077c4762-6e89-444b-bc2e-9d6b90b7c296"
   },
   "outputs": [],
   "source": [
    "headers = {}\n",
    "headers[\"Content-Type\"] = \"application/json\"\n",
    "headers[\"Authorization\"] = \"Bearer {}\".format(generate_access_token())\n",
    "\n",
    "INTEGRATED_SYSTEMS_URL = WOS_CREDENTIALS[\"url\"] + \"/openscale/{0}/v2/integrated_systems\".format(WOS_GUID)\n",
    "\n",
    "payload = {\n",
    "    \"name\": \"OpenPages Connection\",\n",
    "    \"type\": \"open_pages\",\n",
    "    \"description\": \"Integration with OpenPages\",\n",
    "    \"credentials\": OPENPAGES_CREDENTIALS\n",
    "}\n",
    "\n",
    "response = requests.post(INTEGRATED_SYSTEMS_URL, json=payload, headers=headers, verify=False)\n",
    "json_data = response.json()\n",
    "print(json_data)\n",
    "\n",
    "if \"metadata\" in json_data and \"id\" in json_data[\"metadata\"]:\n",
    "    integrated_system_id = json_data[\"metadata\"][\"id\"]\n",
    "    print(integrated_system_id)"
   ]
  },
  {
   "cell_type": "markdown",
   "metadata": {
    "id": "7ebeaba2-1ef8-441b-8a70-cb8bf8c73865"
   },
   "source": [
    "## Subscriptions\n",
    "### Remove existing PreProd and Challenger credit risk subscriptions\n",
    "This code removes previous subscriptions with name `German Credit Risk Model - PreProd` and `German Credit Risk Model - Challenger` to refresh the monitors with the new model and new data."
   ]
  },
  {
   "cell_type": "code",
   "execution_count": null,
   "metadata": {
    "id": "987e9389-4cb2-4817-97e6-d50fe7a241ed"
   },
   "outputs": [],
   "source": [
    "subscriptions = wos_client.subscriptions.list().result.subscriptions\n",
    "for subscription in subscriptions:\n",
    "    sub_name = subscription.entity.asset.name\n",
    "    if sub_name == PRE_PROD_MODEL_NAME or sub_name == PRE_PROD_CHALLENGER_MODEL_NAME:\n",
    "        wos_client.subscriptions.delete(subscription.metadata.id)\n",
    "        print('Deleted existing subscription for', sub_name)"
   ]
  },
  {
   "cell_type": "code",
   "execution_count": null,
   "metadata": {
    "id": "32b7805b67ea46af83e2e0cb55b3f677"
   },
   "outputs": [],
   "source": [
    "wos_client.subscriptions.show()"
   ]
  },
  {
   "cell_type": "code",
   "execution_count": null,
   "metadata": {
    "id": "3b900ee8ed16456e82db4c5d45ef88fe"
   },
   "outputs": [],
   "source": [
    "# Create preprod subscription\n",
    "pre_prod_deployment = wml_client.deployments.get_details(deployment_uid=pre_prod_deployment_uid)\n",
    "pre_prod_asset_details=wos_client.service_providers.get_deployment_asset(data_mart_id=data_mart_id,service_provider_id=service_provider_id,deployment_id=pre_prod_deployment_uid,deployment_space_id=space_id)\n",
    "pre_prod_asset = Asset(\n",
    "    asset_id=pre_prod_asset_details[\"entity\"][\"asset\"][\"asset_id\"],\n",
    "    name=pre_prod_asset_details[\"entity\"][\"asset\"][\"name\"],\n",
    "    url=pre_prod_asset_details[\"entity\"][\"asset\"][\"url\"],\n",
    "    asset_type=AssetTypes.MODEL,\n",
    "    input_data_type=InputDataType.STRUCTURED,\n",
    "    problem_type=ProblemType.BINARY_CLASSIFICATION,\n",
    "    model_type='mllib_3.2'\n",
    ")\n",
    "pre_prod_asset_deployment = AssetDeploymentRequest(\n",
    "    deployment_id=pre_prod_deployment_uid,\n",
    "    name=PRE_PROD_DEPLOYMENT_NAME,\n",
    "    deployment_type=DeploymentTypes.ONLINE,\n",
    "    url=pre_prod_deployment[\"entity\"][\"status\"][\"online_url\"][\"url\"]\n",
    ")\n",
    "\n",
    "pre_prod_asset_properties_request = AssetPropertiesRequest(\n",
    "    label_column=\"Risk\",\n",
    "    probability_fields=[\"probability\"],\n",
    "    prediction_field=\"predictedLabel\",\n",
    "    feature_fields=[\"CheckingStatus\",\"LoanDuration\",\"CreditHistory\",\"LoanPurpose\",\"LoanAmount\",\"ExistingSavings\",\"EmploymentDuration\",\"InstallmentPercent\",\"Sex\",\"OthersOnLoan\",\"CurrentResidenceDuration\",\"OwnsProperty\",\"Age\",\"InstallmentPlans\",\"Housing\",\"ExistingCreditsCount\",\"Job\",\"Dependents\",\"Telephone\",\"ForeignWorker\"],\n",
    "    categorical_fields=[\"CheckingStatus\",\"CreditHistory\",\"LoanPurpose\",\"ExistingSavings\",\"EmploymentDuration\",\"Sex\",\"OthersOnLoan\",\"OwnsProperty\",\"InstallmentPlans\",\"Housing\",\"Job\",\"Telephone\",\"ForeignWorker\"]\n",
    ")"
   ]
  },
  {
   "cell_type": "code",
   "execution_count": null,
   "metadata": {
    "id": "d3902de0ac9c4707b975623eac635ac3"
   },
   "outputs": [],
   "source": [
    "pre_prod_asset_details"
   ]
  },
  {
   "cell_type": "code",
   "execution_count": null,
   "metadata": {
    "id": "67443902-29ae-4f39-a0af-369e8c2b7ab1"
   },
   "outputs": [],
   "source": [
    "pre_prod_subscription = wos_client.subscriptions.add(\n",
    "        data_mart_id=data_mart_id,\n",
    "        service_provider_id=service_provider_id,\n",
    "        asset=pre_prod_asset,\n",
    "        deployment=pre_prod_asset_deployment,\n",
    "        asset_properties=pre_prod_asset_properties_request).result\n",
    "pre_prod_subscription_id = pre_prod_subscription.metadata.id\n",
    "print(pre_prod_subscription_id)"
   ]
  },
  {
   "cell_type": "code",
   "execution_count": null,
   "metadata": {
    "id": "92e408de-7e75-4df5-9ea9-20c43253bfc5"
   },
   "outputs": [],
   "source": [
    "# Create challenger subscription\n",
    "challenger_deployment = wml_client.deployments.get_details(deployment_uid=challenger_deployment_uid)\n",
    "challenger_asset_details=wos_client.service_providers.get_deployment_asset(data_mart_id=data_mart_id,service_provider_id=service_provider_id,deployment_id=challenger_deployment_uid,deployment_space_id=space_id)\n",
    "challenger_asset = Asset(\n",
    "    asset_id=challenger_asset_details[\"entity\"][\"asset\"][\"asset_id\"],\n",
    "    name=challenger_asset_details[\"entity\"][\"asset\"][\"name\"],\n",
    "    url=challenger_asset_details[\"entity\"][\"asset\"][\"url\"],\n",
    "    asset_type=AssetTypes.MODEL,\n",
    "    input_data_type=InputDataType.STRUCTURED,\n",
    "    problem_type=ProblemType.BINARY_CLASSIFICATION,\n",
    "    model_type='scikit-learn_0.23'\n",
    ")\n",
    "challenger_asset_deployment = AssetDeploymentRequest(\n",
    "    deployment_id=challenger_deployment_uid,\n",
    "    name=PRE_PROD_CHALLENGER_DEPLOYMENT_NAME,\n",
    "    deployment_type=DeploymentTypes.ONLINE,\n",
    "    url=challenger_deployment[\"entity\"][\"status\"][\"online_url\"][\"url\"]\n",
    ")\n",
    "\n",
    "challenger_asset_properties_request = AssetPropertiesRequest(\n",
    "    label_column=\"Risk\",\n",
    "    probability_fields=[\"probability\"],\n",
    "    prediction_field=\"prediction\",\n",
    "    feature_fields=[\"CheckingStatus\",\"LoanDuration\",\"CreditHistory\",\"LoanPurpose\",\"LoanAmount\",\"ExistingSavings\",\"EmploymentDuration\",\"InstallmentPercent\",\"Sex\",\"OthersOnLoan\",\"CurrentResidenceDuration\",\"OwnsProperty\",\"Age\",\"InstallmentPlans\",\"Housing\",\"ExistingCreditsCount\",\"Job\",\"Dependents\",\"Telephone\",\"ForeignWorker\"],\n",
    "    categorical_fields=[\"CheckingStatus\",\"CreditHistory\",\"LoanPurpose\",\"ExistingSavings\",\"EmploymentDuration\",\"Sex\",\"OthersOnLoan\",\"OwnsProperty\",\"InstallmentPlans\",\"Housing\",\"Job\",\"Telephone\",\"ForeignWorker\"]\n",
    ")"
   ]
  },
  {
   "cell_type": "code",
   "execution_count": null,
   "metadata": {
    "id": "951027ef14c94d659d39fdc571d3ddbc"
   },
   "outputs": [],
   "source": [
    "challenger_subscription = wos_client.subscriptions.add(\n",
    "        data_mart_id=data_mart_id,\n",
    "        service_provider_id=service_provider_id,\n",
    "        asset=challenger_asset,\n",
    "        deployment=challenger_asset_deployment,\n",
    "        asset_properties=challenger_asset_properties_request).result\n",
    "challenger_subscription_id = challenger_subscription.metadata.id\n",
    "print(challenger_subscription_id)"
   ]
  },
  {
   "cell_type": "code",
   "execution_count": null,
   "metadata": {
    "id": "dbd05839-fac8-4f66-8800-d36ec5d31ac7"
   },
   "outputs": [],
   "source": [
    "wos_client.subscriptions.show()"
   ]
  },
  {
   "cell_type": "code",
   "execution_count": null,
   "metadata": {
    "id": "b123565b-aa22-4e18-b601-25817ebff9f0"
   },
   "outputs": [],
   "source": [
    "pre_prod_subscription_id"
   ]
  },
  {
   "cell_type": "code",
   "execution_count": null,
   "metadata": {
    "id": "d51b3056-6e8e-4914-a98f-958a53c00210"
   },
   "outputs": [],
   "source": [
    "challenger_subscription_id"
   ]
  },
  {
   "cell_type": "markdown",
   "metadata": {
    "id": "5d16d0e9-9d15-47d3-9001-e7e25f8d8420"
   },
   "source": [
    "## Patch the training data reference in both the preprod & challenger subscription"
   ]
  },
  {
   "cell_type": "code",
   "execution_count": null,
   "metadata": {
    "id": "c5dd05f6-5b6a-424c-8596-5f0d1fca403c"
   },
   "outputs": [],
   "source": [
    "headers = {}\n",
    "headers[\"Content-Type\"] = \"application/json\"\n",
    "headers[\"Authorization\"] = \"Bearer {}\".format(generate_access_token())\n",
    "\n",
    "training_data_reference = {\n",
    "  \"connection\": {\n",
    "    \"connection_string\": \"jdbc:db2://dashdb-txn-sbox-yp-dal09-03.services.dal.bluemix.net:50000/BLUDB:retrieveMessagesFromServerOnGetMessage=true;\",\n",
    "    \"database_name\": \"BLUDB\",\n",
    "    \"hostname\": \"dashdb-txn-sbox-yp-dal09-03.services.dal.bluemix.net\",\n",
    "    \"password\": \"khhz72v+6mcwwkfv\",\n",
    "    \"username\": \"cmb91569\"\n",
    "  },\n",
    "  \"location\": {\n",
    "    \"schema_name\": \"CMB91569\",\n",
    "    \"table_name\": \"CREDIT_RISK_TRAIN_DATA\"\n",
    "  },\n",
    "  \"name\": \"German credit risk training data\",\n",
    "  \"type\": \"db2\"\n",
    "}\n",
    "\n",
    "payload = [\n",
    " {\n",
    "   \"op\": \"replace\",\n",
    "   \"path\": \"/asset_properties/training_data_reference\",\n",
    "   \"value\": training_data_reference\n",
    " }\n",
    "]"
   ]
  },
  {
   "cell_type": "code",
   "execution_count": null,
   "metadata": {
    "id": "5f8350cd073a41078c1d49c0afcf06df"
   },
   "outputs": [],
   "source": [
    "response = wos_client.subscriptions.update(pre_prod_subscription_id, payload)\n",
    "response.result.to_dict()"
   ]
  },
  {
   "cell_type": "code",
   "execution_count": null,
   "metadata": {
    "id": "a90a8863-d279-48af-8a91-272c6c8ea102"
   },
   "outputs": [],
   "source": [
    "response = wos_client.subscriptions.update(challenger_subscription_id, payload)\n",
    "response.result.to_dict()"
   ]
  },
  {
   "cell_type": "markdown",
   "metadata": {
    "id": "75289b15-faeb-4dfe-a420-1bd3e7fb60e1"
   },
   "source": [
    "### Score the model so we can configure monitors\n",
    "Now that the WML service has been bound and the subscription has been created, we need to send a request to the model before we configure OpenScale. This allows OpenScale to create a payload log in the datamart with the correct schema, so it can capture data coming into and out of the model. First, the code gets the model deployment's endpoint URL, and then sends a few records for predictions."
   ]
  },
  {
   "cell_type": "code",
   "execution_count": null,
   "metadata": {
    "id": "41491ac0-c360-42ec-9f55-4cd0c5e32407"
   },
   "outputs": [],
   "source": [
    "fields = [\"CheckingStatus\",\"LoanDuration\",\"CreditHistory\",\"LoanPurpose\",\"LoanAmount\",\"ExistingSavings\",\"EmploymentDuration\",\"InstallmentPercent\",\"Sex\",\"OthersOnLoan\",\"CurrentResidenceDuration\",\"OwnsProperty\",\"Age\",\"InstallmentPlans\",\"Housing\",\"ExistingCreditsCount\",\"Job\",\"Dependents\",\"Telephone\",\"ForeignWorker\"]\n",
    "values = [\n",
    "  [\"no_checking\",13,\"credits_paid_to_date\",\"car_new\",1343,\"100_to_500\",\"1_to_4\",2,\"female\",\"none\",3,\"savings_insurance\",46,\"none\",\"own\",2,\"skilled\",1,\"none\",\"yes\"],\n",
    "  [\"no_checking\",24,\"prior_payments_delayed\",\"furniture\",4567,\"500_to_1000\",\"1_to_4\",4,\"male\",\"none\",4,\"savings_insurance\",36,\"none\",\"free\",2,\"management_self-employed\",1,\"none\",\"yes\"],\n",
    "  [\"0_to_200\",26,\"all_credits_paid_back\",\"car_new\",863,\"less_100\",\"less_1\",2,\"female\",\"co-applicant\",2,\"real_estate\",38,\"none\",\"own\",1,\"skilled\",1,\"none\",\"yes\"],\n",
    "  [\"0_to_200\",14,\"no_credits\",\"car_new\",2368,\"less_100\",\"1_to_4\",3,\"female\",\"none\",3,\"real_estate\",29,\"none\",\"own\",1,\"skilled\",1,\"none\",\"yes\"],\n",
    "  [\"0_to_200\",4,\"no_credits\",\"car_new\",250,\"less_100\",\"unemployed\",2,\"female\",\"none\",3,\"real_estate\",23,\"none\",\"rent\",1,\"management_self-employed\",1,\"none\",\"yes\"],\n",
    "  [\"no_checking\",17,\"credits_paid_to_date\",\"car_new\",832,\"100_to_500\",\"1_to_4\",2,\"male\",\"none\",2,\"real_estate\",42,\"none\",\"own\",1,\"skilled\",1,\"none\",\"yes\"],\n",
    "  [\"no_checking\",33,\"outstanding_credit\",\"appliances\",5696,\"unknown\",\"greater_7\",4,\"male\",\"co-applicant\",4,\"unknown\",54,\"none\",\"free\",2,\"skilled\",1,\"yes\",\"yes\"],\n",
    "  [\"0_to_200\",13,\"prior_payments_delayed\",\"retraining\",1375,\"100_to_500\",\"4_to_7\",3,\"male\",\"none\",3,\"real_estate\",37,\"none\",\"own\",2,\"management_self-employed\",1,\"none\",\"yes\"]\n",
    "]\n",
    "\n",
    "payload_scoring = {\"fields\": fields,\"values\": values}"
   ]
  },
  {
   "cell_type": "code",
   "execution_count": null,
   "metadata": {
    "id": "eacd013d-8e52-430e-9c9f-3fb42a4add4d"
   },
   "outputs": [],
   "source": [
    "payload = {\n",
    "    wml_client.deployments.ScoringMetaNames.INPUT_DATA: [payload_scoring]\n",
    "}\n",
    "scoring_response = wml_client.deployments.score(pre_prod_deployment_uid, payload)\n",
    "\n",
    "print('Single record Scoring result:', '\\n fields:', scoring_response['predictions'][0]['fields'], '\\n values: ', scoring_response['predictions'][0]['values'][0])"
   ]
  },
  {
   "cell_type": "code",
   "execution_count": null,
   "metadata": {
    "id": "1e48deef-7631-4ee1-8ec4-d15f10313c59"
   },
   "outputs": [],
   "source": [
    "time.sleep(10)\n",
    "pre_prod_pl_data_set_id = None\n",
    "pre_prod_pl_data_set_id = wos_client.data_sets.list(type=DataSetTypes.PAYLOAD_LOGGING, \n",
    "                                                target_target_id=pre_prod_subscription_id, \n",
    "                                                target_target_type=TargetTypes.SUBSCRIPTION).result.data_sets[0].metadata.id\n",
    "if pre_prod_pl_data_set_id is None:\n",
    "    print(\"Payload data set not found. Please check subscription status.\")\n",
    "else:\n",
    "    print(\"Payload data set id: \", pre_prod_pl_data_set_id)\n",
    "    pl_records_count = wos_client.data_sets.get_records_count(pre_prod_pl_data_set_id)\n",
    "    print(\"Number of records in the payload logging table: {}\".format(pl_records_count))\n",
    "    if pl_records_count == 0:\n",
    "        print(\"Automatic payload logging did not happen, performing explicit payload logging.\")\n",
    "        wos_client.data_sets.store_records(data_set_id=pre_prod_pl_data_set_id, request_body=[PayloadRecord(\n",
    "                       scoring_id=\"mrm_\"+str(uuid.uuid4()),\n",
    "                       request=payload_scoring,\n",
    "                       response=scoring_response['predictions'][0]\n",
    "                   )])\n",
    "        time.sleep(5)\n",
    "        pl_records_count = wos_client.data_sets.get_records_count(pre_prod_pl_data_set_id)\n",
    "        print(\"Number of records in the payload logging table: {}\".format(pl_records_count))"
   ]
  },
  {
   "cell_type": "code",
   "execution_count": null,
   "metadata": {
    "id": "b3360e3b-a588-4b14-9dff-ab766209c501"
   },
   "outputs": [],
   "source": [
    "payload = {\n",
    "    wml_client.deployments.ScoringMetaNames.INPUT_DATA: [payload_scoring]\n",
    "}\n",
    "scoring_response = wml_client.deployments.score(challenger_deployment_uid, payload)\n",
    "\n",
    "print('Single record Scoring result:', '\\n fields:', scoring_response['predictions'][0]['fields'], '\\n values: ', scoring_response['predictions'][0]['values'][0])"
   ]
  },
  {
   "cell_type": "code",
   "execution_count": null,
   "metadata": {
    "id": "1f7b180e-46e0-4e14-90de-0b4f9a701a02"
   },
   "outputs": [],
   "source": [
    "from ibm_watson_openscale.supporting_classes import *\n",
    "time.sleep(10)\n",
    "challenger_pl_data_set_id = None\n",
    "challenger_pl_data_set_id = wos_client.data_sets.list(type=DataSetTypes.PAYLOAD_LOGGING, \n",
    "                                                target_target_id=challenger_subscription_id, \n",
    "                                                target_target_type=TargetTypes.SUBSCRIPTION).result.data_sets[0].metadata.id\n",
    "if challenger_pl_data_set_id is None:\n",
    "    print(\"Payload data set not found. Please check subscription status.\")\n",
    "else:\n",
    "    print(\"Payload data set id: \", challenger_pl_data_set_id)\n",
    "    pl_records_count = wos_client.data_sets.get_records_count(challenger_pl_data_set_id)\n",
    "    print(\"Number of records in the payload logging table: {}\".format(pl_records_count))\n",
    "    if pl_records_count == 0:\n",
    "        print(\"Automatic payload logging did not happen, performing explicit payload logging.\")\n",
    "        wos_client.data_sets.store_records(data_set_id=challenger_pl_data_set_id, request_body=[PayloadRecord(\n",
    "                       scoring_id=\"mrm_\"+str(uuid.uuid4()),\n",
    "                       request=payload_scoring,\n",
    "                       response=scoring_response['predictions'][0]\n",
    "                   )])\n",
    "        time.sleep(5)\n",
    "        pl_records_count = wos_client.data_sets.get_records_count(challenger_pl_data_set_id)\n",
    "        print(\"Number of records in the payload logging table: {}\".format(pl_records_count))"
   ]
  },
  {
   "cell_type": "markdown",
   "metadata": {
    "id": "9f743917-8bd6-4b0b-a7a4-22e323f9ca0f"
   },
   "source": [
    "# Quality monitoring\n",
    "\n",
    "## Enable quality monitoring\n",
    "The code below waits ten seconds to allow the payload logging table to be set up before it begins enabling monitors. First, it turns on the quality (accuracy) monitor and sets an alert threshold of 80%. OpenScale will show an alert on the dashboard if the model accuracy measurement (area under the curve, in the case of a binary classifier) falls below this threshold.\n",
    "\n",
    "The second paramater supplied, min_records, specifies the minimum number of feedback records OpenScale needs before it calculates a new measurement. The quality monitor runs hourly, but the accuracy reading in the dashboard will not change until an additional 50 feedback records have been added, via the user interface, the Python client, or the supplied feedback endpoint."
   ]
  },
  {
   "cell_type": "code",
   "execution_count": null,
   "metadata": {
    "id": "951aeb7a-ea55-4391-9406-a3008b6078f5",
    "scrolled": true
   },
   "outputs": [],
   "source": [
    "time.sleep(10)\n",
    "target = Target(\n",
    "        target_type=TargetTypes.SUBSCRIPTION,\n",
    "        target_id=pre_prod_subscription_id\n",
    ")\n",
    "parameters = {\n",
    "    \"min_feedback_data_size\": 100,\n",
    "    \"threshold\": 0.8\n",
    "}\n",
    "pre_prod_quality_monitor_details = wos_client.monitor_instances.create(\n",
    "    data_mart_id=data_mart_id,\n",
    "    background_mode=False,\n",
    "    monitor_definition_id=wos_client.monitor_definitions.MONITORS.QUALITY.ID,\n",
    "    target=target,\n",
    "    parameters=parameters\n",
    ").result"
   ]
  },
  {
   "cell_type": "code",
   "execution_count": null,
   "metadata": {
    "id": "d285aae9-f0c4-4de0-abad-beebe4472f56"
   },
   "outputs": [],
   "source": [
    "time.sleep(10)\n",
    "target = Target(\n",
    "        target_type=TargetTypes.SUBSCRIPTION,\n",
    "        target_id=challenger_subscription_id\n",
    ")\n",
    "parameters = {\n",
    "    \"min_feedback_data_size\": 100,\n",
    "    \"threshold\": 0.8\n",
    "}\n",
    "challenger_quality_monitor_details = wos_client.monitor_instances.create(\n",
    "    data_mart_id=data_mart_id,\n",
    "    background_mode=False,\n",
    "    monitor_definition_id=wos_client.monitor_definitions.MONITORS.QUALITY.ID,\n",
    "    target=target,\n",
    "    parameters=parameters\n",
    ").result"
   ]
  },
  {
   "cell_type": "markdown",
   "metadata": {
    "id": "13e15202-a809-4dea-81ef-29307bdac80e"
   },
   "source": [
    "# Fairness, drift monitoring and explanations \n",
    "\n",
    "## Fairness configuration\n",
    "The code below configures fairness monitoring for our model. It turns on monitoring for two features, Sex and Age. In each case, we must specify:\n",
    "\n",
    "Which model feature to monitor\n",
    "One or more majority groups, which are values of that feature that we expect to receive a higher percentage of favorable outcomes\n",
    "One or more minority groups, which are values of that feature that we expect to receive a higher percentage of unfavorable outcomes\n",
    "The threshold at which we would like OpenScale to display an alert if the fairness measurement falls below (in this case, 80%)\n",
    "Additionally, we must specify which outcomes from the model are favourable outcomes, and which are unfavourable. We must also provide the number of records OpenScale will use to calculate the fairness score. In this case, OpenScale's fairness monitor will run hourly, but will not calculate a new fairness rating until at least 100 records have been added. Finally, to calculate fairness, OpenScale must perform some calculations on the training data, so we provide the dataframe containing the data."
   ]
  },
  {
   "cell_type": "code",
   "execution_count": null,
   "metadata": {
    "id": "dc3be33f-48e0-4be9-b52b-660f2a0438ca"
   },
   "outputs": [],
   "source": [
    "target = Target(\n",
    "    target_type=TargetTypes.SUBSCRIPTION,\n",
    "    target_id=pre_prod_subscription_id\n",
    "\n",
    ")\n",
    "parameters = {\n",
    "    \"features\": [\n",
    "        {\"feature\": \"Sex\",\n",
    "         \"majority\": ['male'],\n",
    "         \"minority\": ['female']\n",
    "         },\n",
    "        {\"feature\": \"Age\",\n",
    "         \"majority\": [[26, 75]],\n",
    "         \"minority\": [[18, 25]]\n",
    "         }\n",
    "    ],\n",
    "    \"favourable_class\": [\"No Risk\"],\n",
    "    \"unfavourable_class\": [\"Risk\"],\n",
    "    \"min_records\": 100\n",
    "}\n",
    "thresholds = [{\n",
    "    \"metric_id\": \"fairness_value\",\n",
    "    \"specific_values\": [{\n",
    "            \"applies_to\": [{\n",
    "                \"key\": \"feature\",\n",
    "                \"type\": \"tag\",\n",
    "                \"value\": \"Age\"\n",
    "            }],\n",
    "            \"value\": 95\n",
    "        },\n",
    "        {\n",
    "            \"applies_to\": [{\n",
    "                \"key\": \"feature\",\n",
    "                \"type\": \"tag\",\n",
    "                \"value\": \"Sex\"\n",
    "            }],\n",
    "            \"value\": 95\n",
    "        }\n",
    "    ],\n",
    "    \"type\": \"lower_limit\",\n",
    "    \"value\": 80.0\n",
    "}]\n",
    "\n",
    "pre_prod_fairness_monitor_details = wos_client.monitor_instances.create(\n",
    "    data_mart_id=data_mart_id,\n",
    "    background_mode=False,\n",
    "    monitor_definition_id=wos_client.monitor_definitions.MONITORS.FAIRNESS.ID,\n",
    "    target=target,\n",
    "    parameters=parameters,\n",
    "    thresholds=thresholds).result\n",
    "pre_prod_fairness_monitor_details.metadata.id"
   ]
  },
  {
   "cell_type": "code",
   "execution_count": null,
   "metadata": {
    "id": "0f7fef90-5b12-42dd-971f-602b1808054d"
   },
   "outputs": [],
   "source": [
    "target = Target(\n",
    "    target_type=TargetTypes.SUBSCRIPTION,\n",
    "    target_id=challenger_subscription_id\n",
    "\n",
    ")\n",
    "parameters = {\n",
    "    \"features\": [\n",
    "        {\"feature\": \"Sex\",\n",
    "         \"majority\": ['male'],\n",
    "         \"minority\": ['female']\n",
    "         },\n",
    "        {\"feature\": \"Age\",\n",
    "         \"majority\": [[26, 75]],\n",
    "         \"minority\": [[18, 25]]\n",
    "         }\n",
    "    ],\n",
    "    \"favourable_class\": [\"No Risk\"],\n",
    "    \"unfavourable_class\": [\"Risk\"],\n",
    "    \"min_records\": 100\n",
    "}\n",
    "thresholds = [{\n",
    "    \"metric_id\": \"fairness_value\",\n",
    "    \"specific_values\": [{\n",
    "            \"applies_to\": [{\n",
    "                \"key\": \"feature\",\n",
    "                \"type\": \"tag\",\n",
    "                \"value\": \"Age\"\n",
    "            }],\n",
    "            \"value\": 95\n",
    "        },\n",
    "        {\n",
    "            \"applies_to\": [{\n",
    "                \"key\": \"feature\",\n",
    "                \"type\": \"tag\",\n",
    "                \"value\": \"Sex\"\n",
    "            }],\n",
    "            \"value\": 95\n",
    "        }\n",
    "    ],\n",
    "    \"type\": \"lower_limit\",\n",
    "    \"value\": 80.0\n",
    "}]\n",
    "\n",
    "challenger_fairness_monitor_details = wos_client.monitor_instances.create(\n",
    "    data_mart_id=data_mart_id,\n",
    "    background_mode=False,\n",
    "    monitor_definition_id=wos_client.monitor_definitions.MONITORS.FAIRNESS.ID,\n",
    "    target=target,\n",
    "    parameters=parameters,\n",
    "    thresholds=thresholds).result\n",
    "challenger_fairness_monitor_details.metadata.id"
   ]
  },
  {
   "cell_type": "markdown",
   "metadata": {
    "id": "6626044b-78a6-4788-beb3-93b83c1adb9b"
   },
   "source": [
    "## Drift configuration\n",
    "\n",
    "Enable the drift configuration for both the subscription created with a threshold of 10% and minimal sample as 100 records."
   ]
  },
  {
   "cell_type": "code",
   "execution_count": null,
   "metadata": {
    "id": "2d39d4ac-31eb-4855-88bb-afb23c7f4c39"
   },
   "outputs": [],
   "source": [
    "monitor_instances = wos_client.monitor_instances.list().result.monitor_instances\n",
    "for monitor_instance in monitor_instances:\n",
    "    monitor_def_id=monitor_instance.entity.monitor_definition_id\n",
    "    if monitor_def_id == wos_client.monitor_definitions.MONITORS.DRIFT.ID and monitor_instance.entity.target.target_id == pre_prod_subscription_id:\n",
    "        wos_client.monitor_instances.delete(monitor_instance.metadata.id)\n",
    "        print('Deleted existing drift monitor instance with id: ', monitor_instance.metadata.id)\n",
    "\n",
    "\n",
    "target = Target(\n",
    "    target_type=TargetTypes.SUBSCRIPTION,\n",
    "    target_id=pre_prod_subscription_id\n",
    "\n",
    ")\n",
    "parameters = {\n",
    "    \"min_samples\": 100,\n",
    "    \"train_drift_model\": True,\n",
    "    \"enable_model_drift\": False,\n",
    "    \"enable_data_drift\": True\n",
    "}\n",
    "\n",
    "pre_prod_drift_monitor_details = wos_client.monitor_instances.create(\n",
    "    data_mart_id=data_mart_id,\n",
    "    background_mode=False,\n",
    "    monitor_definition_id=wos_client.monitor_definitions.MONITORS.DRIFT.ID,\n",
    "    target=target,\n",
    "    parameters=parameters\n",
    ").result\n",
    "\n",
    "pre_prod_drift_monitor_details.metadata.id"
   ]
  },
  {
   "cell_type": "code",
   "execution_count": null,
   "metadata": {
    "id": "3351a278-ea8e-4767-b266-d69aca03028b"
   },
   "outputs": [],
   "source": [
    "monitor_instances = wos_client.monitor_instances.list().result.monitor_instances\n",
    "for monitor_instance in monitor_instances:\n",
    "    monitor_def_id=monitor_instance.entity.monitor_definition_id\n",
    "    if monitor_def_id == wos_client.monitor_definitions.MONITORS.DRIFT.ID and monitor_instance.entity.target.target_id == challenger_subscription_id:\n",
    "        wos_client.monitor_instances.delete(monitor_instance.metadata.id)\n",
    "        print('Deleted existing drift monitor instance with id: ', monitor_instance.metadata.id)\n",
    "\n",
    "\n",
    "target = Target(\n",
    "    target_type=TargetTypes.SUBSCRIPTION,\n",
    "    target_id=challenger_subscription_id\n",
    "\n",
    ")\n",
    "parameters = {\n",
    "    \"min_samples\": 100,\n",
    "    \"train_drift_model\": True,\n",
    "    \"enable_model_drift\": False,\n",
    "    \"enable_data_drift\": True\n",
    "}\n",
    "\n",
    "challenger_drift_monitor_details = wos_client.monitor_instances.create(\n",
    "    data_mart_id=data_mart_id,\n",
    "    background_mode=False,\n",
    "    monitor_definition_id=wos_client.monitor_definitions.MONITORS.DRIFT.ID,\n",
    "    target=target,\n",
    "    parameters=parameters\n",
    ").result\n",
    "\n",
    "challenger_drift_monitor_details.metadata.id"
   ]
  },
  {
   "cell_type": "markdown",
   "metadata": {
    "id": "cd722c63-9ac7-47f6-8929-a614056c997f"
   },
   "source": [
    "## Configure Explainability\n",
    "Finally, we provide OpenScale with the training data to enable and configure the explainability features."
   ]
  },
  {
   "cell_type": "code",
   "execution_count": null,
   "metadata": {
    "id": "2c008c5b-70ff-4dbe-92b1-06e4781e5df1"
   },
   "outputs": [],
   "source": [
    "target = Target(\n",
    "    target_type=TargetTypes.SUBSCRIPTION,\n",
    "    target_id=pre_prod_subscription_id\n",
    ")\n",
    "parameters = {\n",
    "    \"enabled\": True\n",
    "}\n",
    "pre_prod_explain_monitor_details = wos_client.monitor_instances.create(\n",
    "    data_mart_id=data_mart_id,\n",
    "    background_mode=False,\n",
    "    monitor_definition_id=wos_client.monitor_definitions.MONITORS.EXPLAINABILITY.ID,\n",
    "    target=target,\n",
    "    parameters=parameters\n",
    ").result\n",
    "\n",
    "pre_prod_explain_monitor_details.metadata.id\n"
   ]
  },
  {
   "cell_type": "code",
   "execution_count": null,
   "metadata": {
    "id": "58f069b8adbd4632b03f6718715c0cde"
   },
   "outputs": [],
   "source": [
    "target = Target(\n",
    "    target_type=TargetTypes.SUBSCRIPTION,\n",
    "    target_id=challenger_subscription_id\n",
    ")\n",
    "parameters = {\n",
    "    \"enabled\": True\n",
    "}\n",
    "challenger_explain_monitor_details = wos_client.monitor_instances.create(\n",
    "    data_mart_id=data_mart_id,\n",
    "    background_mode=False,\n",
    "    monitor_definition_id=wos_client.monitor_definitions.MONITORS.EXPLAINABILITY.ID,\n",
    "    target=target,\n",
    "    parameters=parameters\n",
    ").result\n",
    "\n",
    "challenger_explain_monitor_details.metadata.id"
   ]
  },
  {
   "cell_type": "markdown",
   "metadata": {
    "id": "e13c1f8b-ba92-4775-9acb-781f8796436b"
   },
   "source": [
    "## Enable model risk management (MRM) \n",
    "\n",
    "We enable the MRM configuration for both the subscriptions"
   ]
  },
  {
   "cell_type": "code",
   "execution_count": null,
   "metadata": {
    "id": "c43ca07fbc8a445d86da2d96b3ec4ca8"
   },
   "outputs": [],
   "source": [
    "target = Target(\n",
    "    target_type=TargetTypes.SUBSCRIPTION,\n",
    "    target_id=pre_prod_subscription_id\n",
    ")\n",
    "parameters = {\n",
    "}\n",
    "pre_prod_mrm_monitor_details = wos_client.monitor_instances.create(\n",
    "    data_mart_id=data_mart_id,\n",
    "    background_mode=False,\n",
    "    monitor_definition_id='mrm',\n",
    "    target=target,\n",
    "    parameters=parameters\n",
    ").result\n",
    "\n",
    "pre_prod_mrm_instance_id = pre_prod_mrm_monitor_details.metadata.id"
   ]
  },
  {
   "cell_type": "code",
   "execution_count": null,
   "metadata": {
    "id": "fa0b8ff607804d24bd21a27b7a7e3e3b"
   },
   "outputs": [],
   "source": [
    "target = Target(\n",
    "    target_type=TargetTypes.SUBSCRIPTION,\n",
    "    target_id=challenger_subscription_id\n",
    ")\n",
    "parameters = {\n",
    "}\n",
    "challenger_mrm_monitor_details = wos_client.monitor_instances.create(\n",
    "    data_mart_id=data_mart_id,\n",
    "    background_mode=False,\n",
    "    monitor_definition_id='mrm',\n",
    "    target=target,\n",
    "    parameters=parameters\n",
    ").result\n",
    "\n",
    "challenger_mrm_instance_id = challenger_mrm_monitor_details.metadata.id"
   ]
  },
  {
   "cell_type": "code",
   "execution_count": null,
   "metadata": {
    "id": "e98894c5dda44926b5c6aff1646b1005"
   },
   "outputs": [],
   "source": [
    "wos_client.monitor_instances.show()"
   ]
  },
  {
   "cell_type": "markdown",
   "metadata": {
    "id": "9b13ca29-fcec-47a1-92e1-3c88c8e0f3f7"
   },
   "source": [
    "## Patch the integration reference in the pre-prod subscription"
   ]
  },
  {
   "cell_type": "code",
   "execution_count": null,
   "metadata": {
    "id": "fc4d655a-b7f4-4a93-9f59-84af44740626"
   },
   "outputs": [],
   "source": [
    "payload = [\n",
    "  {\n",
    "    \"op\": \"add\",\n",
    "    \"path\": \"/integration_reference\",\n",
    "    \"value\": {\n",
    "        \"integrated_system_id\": integrated_system_id,\n",
    "        \"external_id\": openpages_model_id\n",
    "    }\n",
    "  }\n",
    "]"
   ]
  },
  {
   "cell_type": "code",
   "execution_count": null,
   "metadata": {
    "id": "16c821db7c9740939c4a4d55f22a1097"
   },
   "outputs": [],
   "source": [
    "response = wos_client.subscriptions.update(pre_prod_subscription_id, payload)\n",
    "response.result.to_dict()"
   ]
  },
  {
   "cell_type": "code",
   "execution_count": null,
   "metadata": {
    "id": "b89eaaf88342447c811f624880a90fbc"
   },
   "outputs": [],
   "source": [
    "response = wos_client.subscriptions.update(challenger_subscription_id, payload)\n",
    "response.result.to_dict()"
   ]
  },
  {
   "cell_type": "markdown",
   "metadata": {
    "id": "6a050eb6-b070-4789-af86-0602cb1af95a"
   },
   "source": [
    "## Create test data sets from the training data "
   ]
  },
  {
   "cell_type": "code",
   "execution_count": null,
   "metadata": {
    "id": "76a4364f-caf8-46fc-8b21-b5c8d99f71d4"
   },
   "outputs": [],
   "source": [
    "test_data_1 = pd_data[1:201]\n",
    "test_data_1.to_csv(\"german_credit_risk_test_data_1.csv\", encoding=\"utf-8\", index=False)\n",
    "test_data_2 = pd_data[201:401]\n",
    "test_data_2.to_csv(\"german_credit_risk_test_data_2.csv\", encoding=\"utf-8\", index=False)\n",
    "test_data_3 = pd_data[401:601]\n",
    "test_data_3.to_csv(\"german_credit_risk_test_data_3.csv\", encoding=\"utf-8\", index=False)\n",
    "test_data_4 = pd_data[601:801]\n",
    "test_data_4.to_csv(\"german_credit_risk_test_data_4.csv\", encoding=\"utf-8\", index=False)"
   ]
  },
  {
   "cell_type": "markdown",
   "metadata": {
    "id": "9a859d02-9000-4640-875e-75e21f631919"
   },
   "source": [
    "## Function to upload, evaluate and check the status of the evaluation\n",
    "\n",
    "This function will upload the test data CSV and trigger the risk evaluation. It will iterate and check the status of the evaluation until its finished with a finite wait duration"
   ]
  },
  {
   "cell_type": "code",
   "execution_count": null,
   "metadata": {
    "id": "bfccd770-08e0-492e-87c2-b3b0cc73ad58"
   },
   "outputs": [],
   "source": [
    "def upload_and_evaluate(file_name, mrm_instance_id):\n",
    "    \n",
    "    print(\"Running upload and evaluate for {}\".format(file_name))\n",
    "    import json\n",
    "    import time\n",
    "    from datetime import datetime\n",
    "\n",
    "    status = None\n",
    "    monitoring_run_id = None\n",
    "    GET_UPLOAD_AND_EVALUATION_STATUS_RETRIES = 32\n",
    "    GET_UPLOAD_AND_EVALUATION_STATUS_INTERVAL = 10\n",
    "    \n",
    "    if file_name is not None:\n",
    "        \n",
    "        headers = {}\n",
    "        headers[\"Content-Type\"] = \"text/csv\"\n",
    "        headers[\"Authorization\"] = \"Bearer {}\".format(generate_access_token())\n",
    "        \n",
    "        POST_EVALUATIONS_URL = WOS_CREDENTIALS[\"url\"] + \"/openscale/{0}/v2/monitoring_services/mrm/monitor_instances/{1}/risk_evaluations?test_data_set_name={2}\".format(WOS_GUID, mrm_instance_id, file_name)\n",
    "\n",
    "        with open(file_name) as file:\n",
    "            f = file.read()\n",
    "            b = bytearray(f, 'utf-8')\n",
    "\n",
    "        response = requests.post(POST_EVALUATIONS_URL, data=bytes(b), headers=headers, verify=False)\n",
    "        if response.ok is False:\n",
    "            print(\"Upload and evalaute for {0} failed with {1}: {2}\".format(file_name, response.status_code, response.reason))\n",
    "            return\n",
    "        \n",
    "        headers = {}\n",
    "        headers[\"Content-Type\"] = \"application/json\"\n",
    "        headers[\"Authorization\"] = \"Bearer {}\".format(generate_access_token())\n",
    "\n",
    "        GET_EVALUATIONS_URL = WOS_CREDENTIALS[\"url\"] + \"/openscale/{0}/v2/monitoring_services/mrm/monitor_instances/{1}/risk_evaluations\".format(WOS_GUID, mrm_instance_id)\n",
    "        \n",
    "        for i in range(GET_UPLOAD_AND_EVALUATION_STATUS_RETRIES):\n",
    "        \n",
    "            response = requests.get(GET_EVALUATIONS_URL, headers=headers, verify=False)\n",
    "            if response.ok is False:\n",
    "                print(\"Getting status of upload and evalaute for {0} failed with {1}: {2}\".format(file_name, response.status_code, response.reason))\n",
    "                return\n",
    "\n",
    "            response = json.loads(response.text)\n",
    "            if \"metadata\" in response and \"id\" in response[\"metadata\"]:\n",
    "                monitoring_run_id = response[\"metadata\"][\"id\"]\n",
    "            if \"entity\" in response and \"status\" in response[\"entity\"]:\n",
    "                status = response[\"entity\"][\"status\"][\"state\"]\n",
    "            \n",
    "            if status is not None:\n",
    "                print(datetime.utcnow().strftime('%H:%M:%S'), status.lower())\n",
    "                if status.lower() in [\"finished\", \"completed\"]:\n",
    "                    break\n",
    "                elif \"error\" in status.lower():\n",
    "                    print(response)\n",
    "                    break\n",
    "\n",
    "            time.sleep(GET_UPLOAD_AND_EVALUATION_STATUS_INTERVAL)\n",
    "\n",
    "    return status, monitoring_run_id"
   ]
  },
  {
   "cell_type": "markdown",
   "metadata": {
    "id": "85dfeacb-52c8-4380-bfe7-08d6d28eff56"
   },
   "source": [
    "## Perform Risk Evaluations\n",
    "\n",
    "We now start performing evaluations of smaller data sets against both the PreProd and Challenger subscriptions"
   ]
  },
  {
   "cell_type": "code",
   "execution_count": null,
   "metadata": {
    "id": "cc2fe2df-19f4-41f0-9a80-e746e397ed8a"
   },
   "outputs": [],
   "source": [
    "upload_and_evaluate(\"german_credit_risk_test_data_1.csv\", pre_prod_mrm_instance_id)"
   ]
  },
  {
   "cell_type": "code",
   "execution_count": null,
   "metadata": {
    "id": "71cefcf8-2c60-45a9-87ef-d23279fc06b3"
   },
   "outputs": [],
   "source": [
    "upload_and_evaluate(\"german_credit_risk_test_data_2.csv\", pre_prod_mrm_instance_id)"
   ]
  },
  {
   "cell_type": "code",
   "execution_count": null,
   "metadata": {
    "id": "5cbc1cb3-08cb-4b04-923a-3ebaec929438"
   },
   "outputs": [],
   "source": [
    "upload_and_evaluate(\"german_credit_risk_test_data_3.csv\", pre_prod_mrm_instance_id)"
   ]
  },
  {
   "cell_type": "code",
   "execution_count": null,
   "metadata": {
    "id": "7e4d0ee0-4452-49b8-a7f1-cce3ac41cb8f"
   },
   "outputs": [],
   "source": [
    "upload_and_evaluate(\"german_credit_risk_test_data_4.csv\", pre_prod_mrm_instance_id)"
   ]
  },
  {
   "cell_type": "code",
   "execution_count": null,
   "metadata": {
    "id": "6c44912b-05c9-4e3b-ad3f-f56bb982f88d"
   },
   "outputs": [],
   "source": [
    "upload_and_evaluate(\"german_credit_risk_test_data_1.csv\", challenger_mrm_instance_id)"
   ]
  },
  {
   "cell_type": "code",
   "execution_count": null,
   "metadata": {
    "id": "217941be-48cb-4be7-8b35-3ed2f9bf6f01"
   },
   "outputs": [],
   "source": [
    "upload_and_evaluate(\"german_credit_risk_test_data_2.csv\", challenger_mrm_instance_id)"
   ]
  },
  {
   "cell_type": "code",
   "execution_count": null,
   "metadata": {
    "id": "fa2f44a1-815a-428f-96ab-180f255eda64"
   },
   "outputs": [],
   "source": [
    "upload_and_evaluate(\"german_credit_risk_test_data_3.csv\", challenger_mrm_instance_id)"
   ]
  },
  {
   "cell_type": "code",
   "execution_count": null,
   "metadata": {
    "id": "2e03dd93-dfa2-4095-a1d8-0eb127cceeb6"
   },
   "outputs": [],
   "source": [
    "upload_and_evaluate(\"german_credit_risk_test_data_4.csv\", challenger_mrm_instance_id)"
   ]
  },
  {
   "cell_type": "markdown",
   "metadata": {
    "id": "426f03ef-de4a-4bc4-9756-744349f5b660"
   },
   "source": [
    "## Explore the Model Risk Management UI\n",
    "\n",
    "Here is a quick recap of what we have done so far.\n",
    "\n",
    "1. We've deployed two Credit Risk Model to a WML instance that is designated as Pre-Production\n",
    "2. We've created subscriptions of these two model deployments in OpenScale\n",
    "3. Configured all monitors supported by OpenScale for these subscriptions\n",
    "4. We've performed a few risk evaluations against both these susbscription with the same set of test data\n",
    "\n",
    "Now, please explore the Model Risk Management UI to visualize the results, compare the performance of models, download the evaluation report as PDF. For more information, refer to the Beta Guide section \"Work in Watson OpenScale.\"\n",
    "\n",
    "Link to OpenScale : https://CLUSTER_URL/aiopenscale/insights"
   ]
  },
  {
   "cell_type": "markdown",
   "metadata": {
    "id": "215eb279-37e0-4834-b34c-846b33c2700e"
   },
   "source": [
    "# Promote pre-production model to production \n",
    "\n",
    "After you have reviewed the evaluation results of the PreProd Vs Challenger and if you make the decision to promote the Challenger model to Production, the first thing you need to do is to deploy the model into a WML instance that is designated as Production instance"
   ]
  },
  {
   "cell_type": "markdown",
   "metadata": {
    "id": "98667af1-fea5-4a7f-a547-179582280646"
   },
   "source": [
    "## Deploy model to production WML instance "
   ]
  },
  {
   "cell_type": "code",
   "execution_count": null,
   "metadata": {
    "id": "e4081ad4-010c-478e-b5b2-f762da9869c0"
   },
   "outputs": [],
   "source": [
    "PROD_MODEL_NAME=\"German Credit Risk Model - Prod\"\n",
    "PROD_DEPLOYMENT_NAME=\"German Credit Risk Model - Prod\"\n",
    "\n",
    "PROD_SPACE_NAME=\"prod\""
   ]
  },
  {
   "cell_type": "code",
   "execution_count": null,
   "metadata": {
    "id": "4d07ab26-cf94-41f1-b5bb-c8272a5e6fe7"
   },
   "outputs": [],
   "source": [
    "wml_client.spaces.list()\n",
    "\n",
    "# Find and set the default space\n",
    "space_name=PROD_SPACE_NAME\n",
    "spaces = wml_client.spaces.get_details()['resources']\n",
    "space_id = None\n",
    "for space in spaces:\n",
    "    if space['entity']['name'] == space_name:\n",
    "        space_id = space[\"metadata\"][\"id\"]\n",
    "if space_id is None:\n",
    "    space_id = wml_client.spaces.store(\n",
    "        meta_props={wml_client.spaces.ConfigurationMetaNames.NAME: space_name})[\"metadata\"][\"id\"]\n",
    "wml_client.set.default_space(space_id)"
   ]
  },
  {
   "cell_type": "code",
   "execution_count": null,
   "metadata": {
    "id": "24dc7643-4d5e-4003-ad6c-4b3ed347f156"
   },
   "outputs": [],
   "source": [
    "import numpy \n",
    "numpy.version.version\n",
    "\n",
    "import pandas as pd\n",
    "import json\n",
    "\n",
    "from pyspark import SparkContext, SQLContext\n",
    "from pyspark.ml import Pipeline\n",
    "from pyspark.ml.classification import RandomForestClassifier,GBTClassifier\n",
    "from pyspark.ml.evaluation import BinaryClassificationEvaluator\n",
    "from pyspark.ml.feature import StringIndexer, VectorAssembler, IndexToString\n",
    "from pyspark.sql.types import StructType, DoubleType, StringType, ArrayType\n",
    "\n",
    "from pyspark.sql import SparkSession\n",
    "from pyspark import SparkFiles\n",
    "\n",
    "spark = SparkSession.builder.getOrCreate()\n",
    "pd_data = pd.read_csv(\"german_credit_data_biased_training.csv\", sep=\",\", header=0)\n",
    "spark_df = spark.read.csv(path=\"german_credit_data_biased_training.csv\", sep=\",\", header=True, inferSchema=True)\n",
    "spark_df.head()\n",
    "\n",
    "(train_data, test_data) = spark_df.randomSplit([0.9, 0.1], 24)\n",
    "print(\"Number of records for training: \" + str(train_data.count()))\n",
    "print(\"Number of records for evaluation: \" + str(test_data.count()))\n",
    "\n",
    "si_CheckingStatus = StringIndexer(inputCol='CheckingStatus', outputCol='CheckingStatus_IX')\n",
    "si_CreditHistory = StringIndexer(inputCol='CreditHistory', outputCol='CreditHistory_IX')\n",
    "si_LoanPurpose = StringIndexer(inputCol='LoanPurpose', outputCol='LoanPurpose_IX')\n",
    "si_ExistingSavings = StringIndexer(inputCol='ExistingSavings', outputCol='ExistingSavings_IX')\n",
    "si_EmploymentDuration = StringIndexer(inputCol='EmploymentDuration', outputCol='EmploymentDuration_IX')\n",
    "si_Sex = StringIndexer(inputCol='Sex', outputCol='Sex_IX')\n",
    "si_OthersOnLoan = StringIndexer(inputCol='OthersOnLoan', outputCol='OthersOnLoan_IX')\n",
    "si_OwnsProperty = StringIndexer(inputCol='OwnsProperty', outputCol='OwnsProperty_IX')\n",
    "si_InstallmentPlans = StringIndexer(inputCol='InstallmentPlans', outputCol='InstallmentPlans_IX')\n",
    "si_Housing = StringIndexer(inputCol='Housing', outputCol='Housing_IX')\n",
    "si_Job = StringIndexer(inputCol='Job', outputCol='Job_IX')\n",
    "si_Telephone = StringIndexer(inputCol='Telephone', outputCol='Telephone_IX')\n",
    "si_ForeignWorker = StringIndexer(inputCol='ForeignWorker', outputCol='ForeignWorker_IX')\n",
    "si_Label = StringIndexer(inputCol=\"Risk\", outputCol=\"label\").fit(spark_df)\n",
    "label_converter = IndexToString(inputCol=\"prediction\", outputCol=\"predictedLabel\", labels=si_Label.labels)\n",
    "\n",
    "va_features = VectorAssembler(\n",
    "inputCols=[\"CheckingStatus_IX\", \"CreditHistory_IX\", \"LoanPurpose_IX\", \"ExistingSavings_IX\",\n",
    "           \"EmploymentDuration_IX\", \"Sex_IX\", \"OthersOnLoan_IX\", \"OwnsProperty_IX\", \"InstallmentPlans_IX\",\n",
    "           \"Housing_IX\", \"Job_IX\", \"Telephone_IX\", \"ForeignWorker_IX\", \"LoanDuration\", \"LoanAmount\",\n",
    "           \"InstallmentPercent\", \"CurrentResidenceDuration\", \"LoanDuration\", \"Age\", \"ExistingCreditsCount\",\n",
    "           \"Dependents\"], outputCol=\"features\")\n",
    "\n",
    "classifier=GBTClassifier(featuresCol=\"features\")\n",
    "\n",
    "pipeline = Pipeline(\n",
    "stages=[si_CheckingStatus, si_CreditHistory, si_EmploymentDuration, si_ExistingSavings, si_ForeignWorker,\n",
    "        si_Housing, si_InstallmentPlans, si_Job, si_LoanPurpose, si_OthersOnLoan,\n",
    "        si_OwnsProperty, si_Sex, si_Telephone, si_Label, va_features, classifier, label_converter])\n",
    "\n",
    "model = pipeline.fit(train_data)\n",
    "predictions = model.transform(test_data)\n",
    "evaluator = BinaryClassificationEvaluator(rawPredictionCol=\"prediction\")\n",
    "auc = evaluator.evaluate(predictions)\n",
    "\n",
    "print(\"Accuracy = %g\" % auc)\n",
    "\n",
    "# Remove existing model and deployment\n",
    "MODEL_NAME=PROD_MODEL_NAME\n",
    "DEPLOYMENT_NAME=PROD_DEPLOYMENT_NAME\n",
    "\n",
    "deployment_details = wml_client.deployments.get_details()\n",
    "for deployment in deployment_details['resources']:\n",
    "    deployment_id = wml_client.deployments.get_id(deployment)\n",
    "    model_id = deployment['entity']['asset']['id']\n",
    "    if deployment['entity']['name'] == DEPLOYMENT_NAME:\n",
    "        print('Deleting deployment id', deployment_id)\n",
    "        wml_client.deployments.delete(deployment_id)\n",
    "        print('Deleting model id', model_id)\n",
    "        wml_client.repository.delete(model_id)\n",
    "wml_client.repository.list_models()\n",
    "\n",
    "# Save Model\n",
    "software_spec_uid = wml_client.software_specifications.get_id_by_name(\"spark-mllib_3.2\")\n",
    "model_props_rf = {\n",
    "    wml_client.repository.ModelMetaNames.NAME: MODEL_NAME,\n",
    "    wml_client.repository.ModelMetaNames.DESCRIPTION: MODEL_NAME,\n",
    "    wml_client.repository.ModelMetaNames.SOFTWARE_SPEC_UID: software_spec_uid,\n",
    "    wml_client.repository.ModelMetaNames.TYPE: 'mllib_3.2'\n",
    "}\n",
    "published_model_details = wml_client.repository.store_model(model=model, meta_props=model_props_rf, training_data=train_data, pipeline=pipeline)\n",
    "print(published_model_details)\n",
    "\n",
    "# List models in the repository\n",
    "wml_client.repository.list_models()\n",
    "\n",
    "# Get the model UID\n",
    "prod_model_uid = wml_client.repository.get_model_id(published_model_details)\n",
    "prod_model_uid\n",
    "\n",
    "\n",
    "# Deploy model\n",
    "wml_deployments = wml_client.deployments.get_details()\n",
    "prod_deployment_uid = None\n",
    "for deployment in wml_deployments['resources']:\n",
    "    if DEPLOYMENT_NAME == deployment['entity']['name']:\n",
    "        prod_deployment_uid = wml_client.deployments.get_id(deployment)\n",
    "        break\n",
    "\n",
    "if prod_deployment_uid is None:\n",
    "    print(\"Deploying model...\")\n",
    "    meta_props = {\n",
    "        wml_client.deployments.ConfigurationMetaNames.NAME: DEPLOYMENT_NAME,\n",
    "        wml_client.deployments.ConfigurationMetaNames.DESCRIPTION: DEPLOYMENT_NAME,\n",
    "        wml_client.deployments.ConfigurationMetaNames.ONLINE: {}\n",
    "    }\n",
    "    deployment = wml_client.deployments.create(artifact_uid=prod_model_uid, name=DEPLOYMENT_NAME, meta_props=meta_props)\n",
    "    prod_deployment_uid = wml_client.deployments.get_id(deployment)\n",
    "\n",
    "print(\"Model id: {}\".format(prod_model_uid))\n",
    "print(\"Deployment id: {}\".format(prod_deployment_uid))\n",
    "\n",
    "prod_deployment_uid=wml_client.deployments.get_id(deployment)\n",
    "prod_deployment_uid\n",
    "\n",
    "fields = [\"CheckingStatus\",\"LoanDuration\",\"CreditHistory\",\"LoanPurpose\",\"LoanAmount\",\"ExistingSavings\",\"EmploymentDuration\",\"InstallmentPercent\",\"Sex\",\"OthersOnLoan\",\"CurrentResidenceDuration\",\"OwnsProperty\",\"Age\",\"InstallmentPlans\",\"Housing\",\"ExistingCreditsCount\",\"Job\",\"Dependents\",\"Telephone\",\"ForeignWorker\"]\n",
    "values = [\n",
    "  [\"no_checking\",13,\"credits_paid_to_date\",\"car_new\",1343,\"100_to_500\",\"1_to_4\",2,\"female\",\"none\",3,\"savings_insurance\",46,\"none\",\"own\",2,\"skilled\",1,\"none\",\"yes\"],\n",
    "  [\"no_checking\",24,\"prior_payments_delayed\",\"furniture\",4567,\"500_to_1000\",\"1_to_4\",4,\"male\",\"none\",4,\"savings_insurance\",36,\"none\",\"free\",2,\"management_self-employed\",1,\"none\",\"yes\"],\n",
    "  [\"0_to_200\",26,\"all_credits_paid_back\",\"car_new\",863,\"less_100\",\"less_1\",2,\"female\",\"co-applicant\",2,\"real_estate\",38,\"none\",\"own\",1,\"skilled\",1,\"none\",\"yes\"],\n",
    "  [\"0_to_200\",14,\"no_credits\",\"car_new\",2368,\"less_100\",\"1_to_4\",3,\"female\",\"none\",3,\"real_estate\",29,\"none\",\"own\",1,\"skilled\",1,\"none\",\"yes\"],\n",
    "  [\"0_to_200\",4,\"no_credits\",\"car_new\",250,\"less_100\",\"unemployed\",2,\"female\",\"none\",3,\"real_estate\",23,\"none\",\"rent\",1,\"management_self-employed\",1,\"none\",\"yes\"],\n",
    "  [\"no_checking\",17,\"credits_paid_to_date\",\"car_new\",832,\"100_to_500\",\"1_to_4\",2,\"male\",\"none\",2,\"real_estate\",42,\"none\",\"own\",1,\"skilled\",1,\"none\",\"yes\"],\n",
    "  [\"no_checking\",33,\"outstanding_credit\",\"appliances\",5696,\"unknown\",\"greater_7\",4,\"male\",\"co-applicant\",4,\"unknown\",54,\"none\",\"free\",2,\"skilled\",1,\"yes\",\"yes\"],\n",
    "  [\"0_to_200\",13,\"prior_payments_delayed\",\"retraining\",1375,\"100_to_500\",\"4_to_7\",3,\"male\",\"none\",3,\"real_estate\",37,\"none\",\"own\",2,\"management_self-employed\",1,\"none\",\"yes\"]\n",
    "]\n",
    "\n",
    "payload_scoring = {\"fields\": fields,\"values\": values}\n",
    "payload = {\n",
    "    wml_client.deployments.ScoringMetaNames.INPUT_DATA: [payload_scoring]\n",
    "}\n",
    "scoring_response = wml_client.deployments.score(prod_deployment_uid, payload)\n",
    "\n",
    "print('Single record scoring result:', '\\n fields:', scoring_response['predictions'][0]['fields'], '\\n values: ', scoring_response['predictions'][0]['values'][0])"
   ]
  },
  {
   "cell_type": "code",
   "execution_count": null,
   "metadata": {
    "id": "f6896d25dd824acb9799523b6ed6b651"
   },
   "outputs": [],
   "source": [
    "wml_client.deployments.get_details(prod_deployment_uid)"
   ]
  },
  {
   "cell_type": "markdown",
   "metadata": {
    "id": "15003742-8f20-4747-82c9-20fdd6279d86"
   },
   "source": [
    "## Bind WML machine learning instance as Prod\n",
    "\n",
    "Watson OpenScale needs to be bound to the Watson Machine Learning instance to capture payload data into and out of the model. If a binding with name \"WML Prod\" already exists, this code will delete that binding a create a new one.\n",
    "\n",
    "**Note**: Binding with name `WML Prod` is assumed to be only created by this notebook."
   ]
  },
  {
   "cell_type": "code",
   "execution_count": null,
   "metadata": {
    "id": "164bd39becbd45d286cbc17a6b999ca0"
   },
   "outputs": [],
   "source": [
    "SERVICE_PROVIDER_NAME = 'WML Prod'\n",
    "SERVICE_PROVIDER_DESCRIPTION = 'Prod service provider created by MRM tutorial'"
   ]
  },
  {
   "cell_type": "code",
   "execution_count": null,
   "metadata": {
    "id": "28366db5-b7b4-4cc8-aae1-1205bfaa15f1"
   },
   "outputs": [],
   "source": [
    "service_providers = wos_client.service_providers.list().result.service_providers\n",
    "for service_provider in service_providers:\n",
    "    service_instance_name = service_provider.entity.name\n",
    "    if service_instance_name == SERVICE_PROVIDER_NAME:\n",
    "        service_provider_id = service_provider.metadata.id\n",
    "        wos_client.service_providers.delete(service_provider_id)\n",
    "        print(\"Deleted existing service_provider for WML instance: {}\".format(service_provider_id))"
   ]
  },
  {
   "cell_type": "code",
   "execution_count": null,
   "metadata": {
    "id": "d011bc288a184df987ffb5ecc782adba"
   },
   "outputs": [],
   "source": [
    "added_service_provider_result = wos_client.service_providers.add(\n",
    "        name=SERVICE_PROVIDER_NAME,\n",
    "        description=SERVICE_PROVIDER_DESCRIPTION,\n",
    "        service_type=ServiceTypes.WATSON_MACHINE_LEARNING,\n",
    "        deployment_space_id = space_id,\n",
    "        operational_space_id = \"production\",\n",
    "        credentials=WMLCredentialsCP4D(\n",
    "            url=WML_CREDENTIALS[\"url\"],\n",
    "            username=WML_CREDENTIALS[\"username\"],\n",
    "            password=WML_CREDENTIALS[\"password\"],\n",
    "            instance_id=WML_CREDENTIALS[\"instance_id\"]\n",
    "        ),\n",
    "        background_mode=False\n",
    "    ).result\n",
    "service_provider_id = added_service_provider_result.metadata.id\n",
    "service_provider_id"
   ]
  },
  {
   "cell_type": "code",
   "execution_count": null,
   "metadata": {
    "id": "d351eda7-2aed-48b3-95ce-2763e6c71688"
   },
   "outputs": [],
   "source": [
    "added_service_provider_result.to_dict()"
   ]
  },
  {
   "cell_type": "markdown",
   "metadata": {
    "id": "37ec5e99-a8d0-43c6-8c3d-7570023a71cf"
   },
   "source": [
    "## Remove existing prod subscription\n",
    "\n",
    "This code removes previous subscription that matches the name `German Credit Risk Model - Prod` as it is expected this subscription is created only via this notebook."
   ]
  },
  {
   "cell_type": "code",
   "execution_count": null,
   "metadata": {
    "id": "c77139ad-8952-42fe-bfcc-c91bc76438bf"
   },
   "outputs": [],
   "source": [
    "subscriptions = wos_client.subscriptions.list().result.subscriptions\n",
    "for subscription in subscriptions:\n",
    "    sub_name = subscription.entity.asset.name\n",
    "    if sub_name == PROD_MODEL_NAME:\n",
    "        wos_client.subscriptions.delete(subscription.metadata.id)\n",
    "        print('Deleted existing subscription for', sub_name)"
   ]
  },
  {
   "cell_type": "markdown",
   "metadata": {
    "id": "1be0d17e-11eb-4a06-b376-a1a03827ea7a"
   },
   "source": [
    "# Import configuration settings from pre-prod model\n",
    "\n",
    "With MRM we provide a important feature that lets you copy the configuration settings of your pre-production subscription to the production subscription. To try this out\n",
    "\n",
    "1. Navigate to Model Monitors view in Insights dashboard of OpenScale\n",
    "2. Click on the Add to dashboard\n",
    "3. Select the production model deployment from WML production machine learning provider and click on Configure\n",
    "4. In Selections saved dialog, click on Configure monitors\n",
    "4. In Model Governance, click on Begin and choose the same OpenPages model that was linked to the pre-production model and click on Save\n",
    "5. You will be presented with an dialog about the OpenPages model being associated with another subscription and if you'd like to import settings.\n",
    "6. Click on Import and confirm\n",
    "\n",
    "All the configuration settings are now copied into the production subscription\n",
    "\n",
    "\n",
    "<b>Note: The next set of cells should be executed only after finishing the import settings from the OpenScale dashboard</b>"
   ]
  },
  {
   "cell_type": "markdown",
   "metadata": {
    "id": "bf9715aa-cbca-4e41-9078-5d3a9525ebb7"
   },
   "source": [
    "## Score the production model so that we can trigger monitors\n",
    "\n",
    "Now that the production subscription is configured by copying the configuration, there would be schedules created for each of the monitors to run on a scheduled basis. \n",
    "Quality, Fairness and Mrm will run hourly. Drift will run once in three hours.\n",
    "\n",
    "For this demo purpose, we will trigger the monitors on-demand so that we can see the model summary dashboard without having to wait the entire hour. \n",
    "To do that lets first push some records in the Payload Logging table."
   ]
  },
  {
   "cell_type": "code",
   "execution_count": null,
   "metadata": {
    "id": "041e607a-563a-47df-9316-c8898c4d56bd"
   },
   "outputs": [],
   "source": [
    "df = pd_data.sample(n=400)\n",
    "df = df.drop(['Risk'], axis=1)\n",
    "fields = df.columns.tolist()\n",
    "values = df.values.tolist()\n",
    "\n",
    "payload_scoring = {\"fields\": fields,\"values\": values}"
   ]
  },
  {
   "cell_type": "code",
   "execution_count": null,
   "metadata": {
    "id": "e22a78d1-4d47-4327-b862-f8c113dc561c"
   },
   "outputs": [],
   "source": [
    "payload = {\n",
    "    wml_client.deployments.ScoringMetaNames.INPUT_DATA: [payload_scoring]\n",
    "}\n",
    "scoring_response = wml_client.deployments.score(prod_deployment_uid, payload)\n",
    "\n",
    "print('Single record scoring result:', '\\n fields:', scoring_response['predictions'][0]['fields'], '\\n values: ', scoring_response['predictions'][0]['values'][0])"
   ]
  },
  {
   "cell_type": "code",
   "execution_count": null,
   "metadata": {
    "id": "75cd2a27-8dc7-4f2b-9d99-6881c810b876"
   },
   "outputs": [],
   "source": [
    "subscriptions = wos_client.subscriptions.list().result.subscriptions\n",
    "for subscription in subscriptions:\n",
    "    sub_name = subscription.entity.asset.name\n",
    "    if sub_name == PROD_MODEL_NAME:\n",
    "        prod_subscription = subscription\n",
    "prod_subscription_id = prod_subscription.metadata.id\n",
    "print(prod_subscription_id)"
   ]
  },
  {
   "cell_type": "code",
   "execution_count": null,
   "metadata": {
    "id": "f793e126be92449096066d686c5746b6"
   },
   "outputs": [],
   "source": [
    "res = wos_client.subscriptions.get(prod_subscription_id).result.to_dict()\n",
    "res"
   ]
  },
  {
   "cell_type": "code",
   "execution_count": null,
   "metadata": {
    "id": "04f0c84a-6e72-474a-8e0b-ce4c658809a1"
   },
   "outputs": [],
   "source": [
    "time.sleep(10)\n",
    "prod_pl_data_set_id = None\n",
    "prod_pl_data_set_id = wos_client.data_sets.list(type=DataSetTypes.PAYLOAD_LOGGING, \n",
    "                                                target_target_id=prod_subscription_id, \n",
    "                                                target_target_type=TargetTypes.SUBSCRIPTION).result.data_sets[0].metadata.id\n",
    "if prod_pl_data_set_id is None:\n",
    "    print(\"Payload data set not found. Please check subscription status.\")\n",
    "else:\n",
    "    print(\"Payload data set id: \", prod_pl_data_set_id)\n",
    "    pl_records_count = wos_client.data_sets.get_records_count(prod_pl_data_set_id)\n",
    "    print(\"Number of records in the payload logging table: {}\".format(pl_records_count))\n",
    "    if pl_records_count == 0:\n",
    "        print(\"Automatic payload logging did not happen, performing explicit payload logging.\")\n",
    "        wos_client.data_sets.store_records(data_set_id=prod_pl_data_set_id, request_body=[PayloadRecord(\n",
    "                       scoring_id='mrm_'+str(uuid.uuid4()),\n",
    "                       request=payload_scoring,\n",
    "                       response=scoring_response['predictions'][0]\n",
    "                   )])\n",
    "        time.sleep(5)\n",
    "        pl_records_count = wos_client.data_sets.get_records_count(prod_pl_data_set_id)\n",
    "        print(\"Number of records in the payload logging table: {}\".format(pl_records_count))"
   ]
  },
  {
   "cell_type": "markdown",
   "metadata": {
    "id": "bbb399a4-c647-4e78-8181-934b6646931c"
   },
   "source": [
    "## Fetch all monitor instances"
   ]
  },
  {
   "cell_type": "code",
   "execution_count": null,
   "metadata": {
    "id": "0852a68b-67b3-4d14-b7b1-c06192d09923"
   },
   "outputs": [],
   "source": [
    "monitor_instances = wos_client.monitor_instances.list(target_target_id=prod_subscription_id).result.monitor_instances\n",
    "for monitor_instance in monitor_instances:\n",
    "    monitor_def_id=monitor_instance.entity.monitor_definition_id\n",
    "    if monitor_def_id == wos_client.monitor_definitions.MONITORS.QUALITY.ID:\n",
    "        quality_monitor_instance_id = monitor_instance.metadata.id\n",
    "    if monitor_def_id == wos_client.monitor_definitions.MONITORS.DRIFT.ID:\n",
    "        drift_monitor_instance_id = monitor_instance.metadata.id\n",
    "    if monitor_def_id == wos_client.monitor_definitions.MONITORS.FAIRNESS.ID:\n",
    "        fairness_monitor_instance_id = monitor_instance.metadata.id\n",
    "    if monitor_def_id == 'mrm':\n",
    "        mrm_monitor_instance_id = monitor_instance.metadata.id\n",
    "                    \n",
    "print(\"Quality monitor instance id - {0}\".format(quality_monitor_instance_id))\n",
    "print(\"Drift monitor instance id - {0}\".format(drift_monitor_instance_id))\n",
    "print(\"Fairness monitor instance id - {0}\".format(fairness_monitor_instance_id))\n",
    "print(\"MRM monitor instance id - {0}\".format(mrm_monitor_instance_id))"
   ]
  },
  {
   "cell_type": "markdown",
   "metadata": {
    "id": "3ea2b1bc-d181-4ec1-95ea-37e64d3e586f"
   },
   "source": [
    "## Run on-demand Quality"
   ]
  },
  {
   "cell_type": "markdown",
   "metadata": {
    "id": "f6c54f32bc9e44899f84e36b5f0b5ebd"
   },
   "source": [
    "### Feedback logging\n",
    "\n",
    "The code below downloads and stores enough feedback data to meet the minimum threshold so that OpenScale can calculate a new accuracy measurement. It then kicks off the accuracy monitor. The monitors run hourly, or can be initiated via the Python API, the REST API, or the graphical user interface.\n"
   ]
  },
  {
   "cell_type": "code",
   "execution_count": null,
   "metadata": {
    "id": "07861f904230444a85225b0814103bfb"
   },
   "outputs": [],
   "source": [
    "feedback_dataset_id = None\n",
    "feedback_dataset = wos_client.data_sets.list(type=DataSetTypes.FEEDBACK, \n",
    "                                                target_target_id=prod_subscription_id, \n",
    "                                                target_target_type=TargetTypes.SUBSCRIPTION).result\n",
    "feedback_dataset_id = feedback_dataset.data_sets[0].metadata.id\n",
    "if feedback_dataset_id is None:\n",
    "    print(\"Feedback data set not found. Please check quality monitor status.\")\n",
    "print(feedback_dataset_id)"
   ]
  },
  {
   "cell_type": "code",
   "execution_count": null,
   "metadata": {
    "id": "394b4292b27d42a58fb27034b6170bdd"
   },
   "outputs": [],
   "source": [
    "!rm additional_feedback_data_v2.json\n",
    "!wget https://raw.githubusercontent.com/pmservice/ai-openscale-tutorials/master/assets/historical_data/german_credit_risk/wml/additional_feedback_data_v2.json"
   ]
  },
  {
   "cell_type": "code",
   "execution_count": null,
   "metadata": {
    "id": "077e9013ba414ad8b4c15bfa3413cb22"
   },
   "outputs": [],
   "source": [
    "with open('additional_feedback_data_v2.json') as feedback_file:\n",
    "    additional_feedback_data = json.load(feedback_file)\n",
    "wos_client.data_sets.store_records(feedback_dataset_id, request_body=additional_feedback_data, background_mode=False).result"
   ]
  },
  {
   "cell_type": "code",
   "execution_count": null,
   "metadata": {
    "id": "10b0d41eaba14fc883405ab8e0393a5f"
   },
   "outputs": [],
   "source": [
    "time.sleep(5)\n",
    "feedback_records_count = wos_client.data_sets.get_records_count(data_set_id=feedback_dataset_id)\n",
    "print('Number of records in the feedback table: ', feedback_records_count)"
   ]
  },
  {
   "cell_type": "code",
   "execution_count": null,
   "metadata": {
    "id": "daa085fd-1821-485b-8681-d0751192d42d"
   },
   "outputs": [],
   "source": [
    "if quality_monitor_instance_id is not None:\n",
    "    run_details = wos_client.monitor_instances.run(monitor_instance_id=quality_monitor_instance_id, background_mode=False).result"
   ]
  },
  {
   "cell_type": "code",
   "execution_count": null,
   "metadata": {
    "id": "0e25e9071bae47b6b8d96c0c3a74055c"
   },
   "outputs": [],
   "source": [
    "wos_client.monitor_instances.show_metrics(monitor_instance_id=quality_monitor_instance_id)"
   ]
  },
  {
   "cell_type": "markdown",
   "metadata": {
    "id": "df8145d0-f3b9-4fbb-8605-7608c84731be"
   },
   "source": [
    "## Run on-demand Drift"
   ]
  },
  {
   "cell_type": "code",
   "execution_count": null,
   "metadata": {
    "id": "1d167f82-54e9-491e-959a-da4689fb8dff"
   },
   "outputs": [],
   "source": [
    "if drift_monitor_instance_id is not None:\n",
    "    run_details = wos_client.monitor_instances.run(monitor_instance_id=drift_monitor_instance_id, background_mode=False).result"
   ]
  },
  {
   "cell_type": "code",
   "execution_count": null,
   "metadata": {
    "id": "b9ab6682-e76f-4507-ae4d-0c420c352ce0"
   },
   "outputs": [],
   "source": [
    "wos_client.monitor_instances.show_metrics(monitor_instance_id=drift_monitor_instance_id)"
   ]
  },
  {
   "cell_type": "markdown",
   "metadata": {
    "id": "3cdf7ea4-5854-4a83-8680-f1effda282d2"
   },
   "source": [
    "## Run on-demand Fairness"
   ]
  },
  {
   "cell_type": "code",
   "execution_count": null,
   "metadata": {
    "id": "1bebebf0-f118-4eab-8273-0935ef82dccc"
   },
   "outputs": [],
   "source": [
    "if fairness_monitor_instance_id is not None:\n",
    "    run_details = wos_client.monitor_instances.run(monitor_instance_id=fairness_monitor_instance_id, background_mode=False).result"
   ]
  },
  {
   "cell_type": "code",
   "execution_count": null,
   "metadata": {
    "id": "12629b95-2a2d-4aca-9227-7b798e82fcc5"
   },
   "outputs": [],
   "source": [
    "wos_client.monitor_instances.show_metrics(monitor_instance_id=fairness_monitor_instance_id)"
   ]
  },
  {
   "cell_type": "markdown",
   "metadata": {
    "id": "40354858-c9b1-4d10-a1f7-225a7f1c5afa"
   },
   "source": [
    "## Run on-demand MRM"
   ]
  },
  {
   "cell_type": "code",
   "execution_count": null,
   "metadata": {
    "id": "d9812595-255b-4046-842e-53488dbf7b31"
   },
   "outputs": [],
   "source": [
    "if mrm_monitor_instance_id is not None:\n",
    "    run_details = wos_client.monitor_instances.run(monitor_instance_id=mrm_monitor_instance_id, triggered_by='user', background_mode=False).result"
   ]
  },
  {
   "cell_type": "code",
   "execution_count": null,
   "metadata": {
    "id": "3c3f5422-2c19-4fdc-bd80-046b5ed35833"
   },
   "outputs": [],
   "source": [
    "wos_client.monitor_instances.show_metrics(monitor_instance_id=mrm_monitor_instance_id)"
   ]
  },
  {
   "cell_type": "code",
   "execution_count": null,
   "metadata": {
    "id": "e1190e4518b44901b0a3b30158533b4f"
   },
   "outputs": [],
   "source": []
  },
  {
   "cell_type": "markdown",
   "metadata": {
    "id": "69ff86e6-b02a-4963-941f-cfd41cd179db"
   },
   "source": [
    "## Refresh the model summary of the production subscription in the OpenScale dashboard\n",
    "\n",
    "This brings us to the end of this demo exercise. Thank you for trying it out."
   ]
  },
  {
   "cell_type": "code",
   "execution_count": null,
   "metadata": {
    "id": "d75882aa-4186-46b0-be65-85afe9bcc0ac"
   },
   "outputs": [],
   "source": []
  }
 ],
 "metadata": {
  "kernelspec": {
   "display_name": "Python 3 (ipykernel)",
   "language": "python",
   "name": "python3"
  },
  "language_info": {
   "codemirror_mode": {
    "name": "ipython",
    "version": 3
   },
   "file_extension": ".py",
   "mimetype": "text/x-python",
   "name": "python",
   "nbconvert_exporter": "python",
   "pygments_lexer": "ipython3",
   "version": "3.9.5"
  },
  "varInspector": {
   "cols": {
    "lenName": 16,
    "lenType": 16,
    "lenVar": 40
   },
   "kernels_config": {
    "python": {
     "delete_cmd_postfix": "",
     "delete_cmd_prefix": "del ",
     "library": "var_list.py",
     "varRefreshCmd": "print(var_dic_list())"
    },
    "r": {
     "delete_cmd_postfix": ") ",
     "delete_cmd_prefix": "rm(",
     "library": "var_list.r",
     "varRefreshCmd": "cat(var_dic_list()) "
    }
   },
   "types_to_exclude": [
    "module",
    "function",
    "builtin_function_or_method",
    "instance",
    "_Feature"
   ],
   "window_display": false
  }
 },
 "nbformat": 4,
 "nbformat_minor": 4
}
