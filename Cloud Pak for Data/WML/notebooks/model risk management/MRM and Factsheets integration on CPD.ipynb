{
 "cells": [
  {
   "cell_type": "markdown",
   "metadata": {
    "id": "902d68f2-2df2-4df9-87b6-e55bda94bca3"
   },
   "source": [
    "<img src=\"https://github.com/pmservice/ai-openscale-tutorials/raw/master/notebooks/images/banner.png\" align=\"left\" alt=\"banner\">"
   ]
  },
  {
   "cell_type": "markdown",
   "metadata": {
    "id": "3ad514b6-2e0a-4f7d-8ffa-d6aa3ae7dee9"
   },
   "source": [
    "This notebook should be run with **Default Spark 3.4 & Python 3.9** or **Python 3.10** runtime environment. \n",
    "\n",
    "If you are viewing this in Watson Studio and do not see Python 3.9.x in the upper right corner of your screen, please update the runtime now.\n",
    "\n",
    "It requires service credentials for the following services:\n",
    "  * Watson OpenScale\n",
    "  * Watson Machine Learning \n",
    "  * DB2\n",
    "  \n",
    "The notebook will train, create and deploy a German Credit Risk model, and configure OpenScale to monitor that deployment. Model Evaluation will also be triggered and published Fact will be retrieved.\n",
    "\n",
    "**Note**: The AI Factsheets add-on must be installed on the CPD cluster for the facts to be published and retrieved successfully."
   ]
  },
  {
   "cell_type": "markdown",
   "metadata": {
    "id": "d003619e-9cc1-4840-9a4e-2faa5c627f61"
   },
   "source": [
    "### Contents\n",
    "\n",
    "- [Setup](#setup)\n",
    "- [Model Building and Deployment](#model)\n",
    "- [Configure OpenScale](#openscale)\n",
    "- [Monitor Configurations](#monitor)\n",
    "- [MRM Evaluation](#mrm)"
   ]
  },
  {
   "cell_type": "markdown",
   "metadata": {
    "id": "a53dcf29-97e2-4609-9dcc-13668572614d"
   },
   "source": [
    "# 1. Setup <a name=\"setup\"></a>"
   ]
  },
  {
   "cell_type": "markdown",
   "metadata": {
    "id": "516df632-58c8-4eca-aff0-f52c12042dc6"
   },
   "source": [
    "## 1.1 Package installation"
   ]
  },
  {
   "cell_type": "code",
   "execution_count": 1,
   "metadata": {
    "ExecuteTime": {
     "end_time": "2024-09-05T05:12:39.583743Z",
     "start_time": "2024-09-05T05:12:39.576723Z"
    },
    "id": "7513d0eb-71c8-40ab-b4f3-d27b18193c23",
    "msg_id": "bb99d2ec-2878-4ed8-b63a-fa294abbc758"
   },
   "outputs": [],
   "source": [
    "import warnings\n",
    "warnings.filterwarnings('ignore')"
   ]
  },
  {
   "cell_type": "code",
   "execution_count": null,
   "metadata": {
    "id": "36bc0a86683f4a03876cbb3c5cf5a2a7",
    "msg_id": "660eaacf-171d-4070-954e-7fdd55257c36"
   },
   "outputs": [],
   "source": [
    "# Install WML and WOS SDKs\n",
    "\n",
    "!pip install --upgrade ibm-watson-machine-learning | tail -n 1\n",
    "!pip install --upgrade ibm-watson-openscale==1.0.359 --no-cache | tail -n 1"
   ]
  },
  {
   "cell_type": "code",
   "execution_count": null,
   "metadata": {
    "id": "5d87e790-5836-43e6-81f3-c34751992a65",
    "msg_id": "a83d8b77-a7a1-4cdc-b21e-0a9357c576be"
   },
   "outputs": [],
   "source": [
    "# Install pyspark if runtime environment doesn't include Spark\n",
    "\n",
    "!pip install --upgrade pyspark==3.3.0 --no-cache | tail -n 1"
   ]
  },
  {
   "cell_type": "markdown",
   "metadata": {
    "id": "3503cf3c-0ddd-4b66-a9ea-c267937207ab"
   },
   "source": [
    "**Note** - Restart the kernel now to use the updated libraries."
   ]
  },
  {
   "cell_type": "markdown",
   "metadata": {
    "id": "2587e52f-db09-46af-98c3-74a33fcde83c"
   },
   "source": [
    "## 1.2 Configure credentials\n",
    "\n",
    "Provide OpenScale, Watson Machine Learning, and DB2 service credentials."
   ]
  },
  {
   "cell_type": "code",
   "execution_count": 2,
   "metadata": {
    "ExecuteTime": {
     "end_time": "2024-09-05T05:12:42.006861Z",
     "start_time": "2024-09-05T05:12:42.002638Z"
    },
    "id": "ed4ec16a-c557-4d65-8afa-9cec64f58006",
    "msg_id": "e3731f55-c7ca-4f45-8db5-ab79fef1cc1d"
   },
   "outputs": [],
   "source": [
    "cpd_url = \"***\"\n",
    "cpd_username = \"***\"\n",
    "cpd_password = \"***\"\n",
    "\n",
    "cpd_url = cpd_url.rstrip(\"/\")\n",
    "\n",
    "WOS_CREDENTIALS = {\n",
    "    \"url\": cpd_url,\n",
    "    \"username\": cpd_username,\n",
    "    \"password\": cpd_password\n",
    "}\n",
    "\n",
    "WML_CREDENTIALS = {\n",
    "    \"url\": \"***\",\n",
    "    \"password\": \"***\",\n",
    "    \"username\": \"***\",\n",
    "    \"instance_id\": \"***\",\n",
    "    \"version\": \"4.7\"\n",
    "}\n",
    "\n",
    "DB2_CREDENTIALS = {\n",
    "    \"hostname\": \"***\",\n",
    "    \"username\": \"***\",\n",
    "    \"password\": \"***\",\n",
    "    \"database_name\": \"***\",\n",
    "    \"port\": 50000,\n",
    "    \"ssl\": True\n",
    "}\n",
    "\n",
    "# Location details of German Credit Risk training data\n",
    "TRAINING_DATA_SCHEMA_NAME = \"***\"\n",
    "TRAINING_DATA_TABLE_NAME = \"***\"\n",
    "\n",
    "# Location details of German Credit Risk evaluation data \n",
    "EVALUATION_DATA_SCHEMA_NAME = \"***\"\n",
    "EVALUATION_DATA_TABLE_NAME = TEST_DATA_SET_NAME = \"***\""
   ]
  },
  {
   "cell_type": "markdown",
   "metadata": {
    "id": "08a093e2-1e64-4e10-8d72-fb2177e0c6dc"
   },
   "source": [
    "# 2. Model Building and Deployment <a name=\"model\"></a>\n",
    "\n",
    "In this section you will learn how to train Spark MLLib model and next deploy it as web-service using Watson Machine Learning service."
   ]
  },
  {
   "cell_type": "markdown",
   "metadata": {
    "id": "aa3bef1d-f97e-49dd-bf24-abac17df40cd"
   },
   "source": [
    "## 2.1 Load the training data from Github <a name=\"model\"></a>"
   ]
  },
  {
   "cell_type": "code",
   "execution_count": 3,
   "metadata": {
    "id": "3aa63bdb-6bea-43a8-9d2d-dc4b2521f496",
    "msg_id": "b44199d9-8de1-4c07-b473-1f11306e5449"
   },
   "outputs": [
    {
     "name": "stdout",
     "output_type": "stream",
     "text": [
      "--2024-09-03 11:21:34--  https://raw.githubusercontent.com/IBM/watson-openscale-samples/main/Cloud%20Pak%20for%20Data/WML/assets/data/credit_risk/german_credit_data_biased_training.csv\n",
      "Resolving raw.githubusercontent.com (raw.githubusercontent.com)... 185.199.111.133, 185.199.110.133, 185.199.108.133, ...\n",
      "Connecting to raw.githubusercontent.com (raw.githubusercontent.com)|185.199.111.133|:443... connected.\n",
      "HTTP request sent, awaiting response... 200 OK\n",
      "Length: 689622 (673K) [text/plain]\n",
      "Saving to: ‘german_credit_data_biased_training.csv’\n",
      "\n",
      "german_credit_data_ 100%[===================>] 673.46K  --.-KB/s    in 0.02s   \n",
      "\n",
      "2024-09-03 11:21:34 (36.5 MB/s) - ‘german_credit_data_biased_training.csv’ saved [689622/689622]\n",
      "\n"
     ]
    }
   ],
   "source": [
    "!rm german_credit_data_biased_training.csv\n",
    "!wget https://raw.githubusercontent.com/IBM/watson-openscale-samples/main/Cloud%20Pak%20for%20Data/WML/assets/data/credit_risk/german_credit_data_biased_training.csv\n",
    "!rm credit_risk_test_data.csv\n",
    "!wget https://raw.githubusercontent.com/IBM/watson-openscale-samples/main/Cloud%20Pak%20for%20Data/WML/assets/data/credit_risk/credit_risk_test_data.csv"
   ]
  },
  {
   "cell_type": "code",
   "execution_count": 4,
   "metadata": {
    "id": "b52cd3cf-0588-4bdf-8eeb-d52ba3a2c61a",
    "msg_id": "0c2ab156-2906-4999-ace3-3f741893edb2"
   },
   "outputs": [
    {
     "data": {
      "text/plain": [
       "Row(CheckingStatus='0_to_200', LoanDuration=31, CreditHistory='credits_paid_to_date', LoanPurpose='other', LoanAmount=1889, ExistingSavings='100_to_500', EmploymentDuration='less_1', InstallmentPercent=3, Sex='female', OthersOnLoan='none', CurrentResidenceDuration=3, OwnsProperty='savings_insurance', Age=32, InstallmentPlans='none', Housing='own', ExistingCreditsCount=1, Job='skilled', Dependents=1, Telephone='none', ForeignWorker='yes', Risk='No Risk')"
      ]
     },
     "execution_count": 4,
     "metadata": {},
     "output_type": "execute_result"
    }
   ],
   "source": [
    "from pyspark.sql import SparkSession\n",
    "import pandas as pd\n",
    "import json\n",
    "import time\n",
    "spark = SparkSession.builder.getOrCreate()\n",
    "df_data = spark.read.csv(path=\"german_credit_data_biased_training.csv\", sep=\",\", header=True, inferSchema=True)\n",
    "df_data.head()"
   ]
  },
  {
   "cell_type": "markdown",
   "metadata": {
    "id": "e0cbc3a9-aab6-4f80-a178-255ad1f39f7c"
   },
   "source": [
    "## 2.2 Explore data"
   ]
  },
  {
   "cell_type": "code",
   "execution_count": 5,
   "metadata": {
    "id": "6562d1a0-00f7-4c75-8cd8-fd768a6b2d1d",
    "msg_id": "0d5f804f-9b0c-4d2f-9ed7-62306a2473c7"
   },
   "outputs": [
    {
     "name": "stdout",
     "output_type": "stream",
     "text": [
      "root\n",
      " |-- CheckingStatus: string (nullable = true)\n",
      " |-- LoanDuration: integer (nullable = true)\n",
      " |-- CreditHistory: string (nullable = true)\n",
      " |-- LoanPurpose: string (nullable = true)\n",
      " |-- LoanAmount: integer (nullable = true)\n",
      " |-- ExistingSavings: string (nullable = true)\n",
      " |-- EmploymentDuration: string (nullable = true)\n",
      " |-- InstallmentPercent: integer (nullable = true)\n",
      " |-- Sex: string (nullable = true)\n",
      " |-- OthersOnLoan: string (nullable = true)\n",
      " |-- CurrentResidenceDuration: integer (nullable = true)\n",
      " |-- OwnsProperty: string (nullable = true)\n",
      " |-- Age: integer (nullable = true)\n",
      " |-- InstallmentPlans: string (nullable = true)\n",
      " |-- Housing: string (nullable = true)\n",
      " |-- ExistingCreditsCount: integer (nullable = true)\n",
      " |-- Job: string (nullable = true)\n",
      " |-- Dependents: integer (nullable = true)\n",
      " |-- Telephone: string (nullable = true)\n",
      " |-- ForeignWorker: string (nullable = true)\n",
      " |-- Risk: string (nullable = true)\n",
      "\n"
     ]
    }
   ],
   "source": [
    "df_data.printSchema()"
   ]
  },
  {
   "cell_type": "code",
   "execution_count": 6,
   "metadata": {
    "id": "37450bbd-d7fa-45e1-9cd3-1e7194b3e585",
    "msg_id": "1c2a6956-f78f-4bd2-b064-ad61906c9373"
   },
   "outputs": [
    {
     "name": "stdout",
     "output_type": "stream",
     "text": [
      "Number of records: 5000\n"
     ]
    }
   ],
   "source": [
    "print(\"Number of records: \" + str(df_data.count()))"
   ]
  },
  {
   "cell_type": "markdown",
   "metadata": {},
   "source": [
    "### 2.2.1 Storing training data and testing data to database.\n",
    "> #### If training data and testing data already stored in database skip next 3 cells.\n",
    "> ##### creating connection to database..."
   ]
  },
  {
   "cell_type": "code",
   "execution_count": 7,
   "metadata": {
    "ExecuteTime": {
     "end_time": "2024-09-05T05:13:21.129628Z",
     "start_time": "2024-09-05T05:13:18.782333Z"
    },
    "msg_id": "959f1c70-5c95-4fe5-b377-d769005a3f9b"
   },
   "outputs": [
    {
     "name": "stdout",
     "output_type": "stream",
     "text": [
      "Connected to database:  bludb as user:  zqj21624 on host:  1bbf73c5-d84a-4bb0-85b9-ab1a4348f4a4.c3n41cmd0nqnrk39u98g.databases.appdomain.cloud\n"
     ]
    }
   ],
   "source": [
    "import pandas as pd\n",
    "import ibm_db\n",
    "\n",
    "# Creating Connection to Database\n",
    "dsn_hostname = DB2_CREDENTIALS['hostname']\n",
    "dsn_uid = DB2_CREDENTIALS[\"username\"]\n",
    "dsn_pwd = DB2_CREDENTIALS[\"password\"]\n",
    "dsn_database = DB2_CREDENTIALS[\"database_name\"]\n",
    "dsn_port = DB2_CREDENTIALS[\"port\"]\n",
    "dsn_security = \"SSL\"\n",
    "conn = None\n",
    "dsn = (\n",
    "    \"DATABASE={0};\"\n",
    "    \"HOSTNAME={1};\"\n",
    "    \"PORT={2};\"\n",
    "    \"UID={3};\"\n",
    "    \"PWD={4};\"\n",
    "    \"SECURITY={5};\").format(dsn_database, dsn_hostname, dsn_port, dsn_uid, dsn_pwd, dsn_security)\n",
    "try:\n",
    "    conn = ibm_db.connect(dsn, \"\", \"\")\n",
    "    print(\"Connected to database: \", dsn_database, \"as user: \", dsn_uid, \"on host: \", dsn_hostname)\n",
    "except Exception as e:\n",
    "    print(\"Unable to connect: \", ibm_db.conn_errormsg())"
   ]
  },
  {
   "cell_type": "markdown",
   "metadata": {},
   "source": [
    "### Extracting data's from csv to store in database."
   ]
  },
  {
   "cell_type": "code",
   "execution_count": 8,
   "metadata": {
    "ExecuteTime": {
     "end_time": "2024-09-05T05:14:05.888047Z",
     "start_time": "2024-09-05T05:14:05.879834Z"
    },
    "msg_id": "d1c08e5f-a520-4976-9bd1-01d7d98d08e9"
   },
   "outputs": [],
   "source": [
    "def create_table(df, table, schema):\n",
    "    # Extracting column based on csv features\n",
    "    columns = []\n",
    "    for column_name, dtype in df.dtypes.items():\n",
    "        if pd.api.types.is_integer_dtype(dtype):\n",
    "            columns.append(f'\"{column_name}\" INT')\n",
    "        elif pd.api.types.is_float_dtype(dtype):\n",
    "            columns.append(f'\"{column_name}\" FLOAT')\n",
    "        elif pd.api.types.is_bool_dtype(dtype):\n",
    "            columns.append(f'\"{column_name}\" BOOLEAN')\n",
    "        elif pd.api.types.is_datetime64_any_dtype(dtype):\n",
    "            columns.append(f'\"{column_name}\" TIMESTAMP')\n",
    "        else:\n",
    "            columns.append(f'\"{column_name}\" VARCHAR(255)')\n",
    "    # Deleting table if already exist.\n",
    "    try:\n",
    "        drop_table = f\"DROP TABLE {schema}.{table}\"\n",
    "        ibm_db.exec_immediate(conn, drop_table)\n",
    "        print(\"Table Deleted, Creating new table\")\n",
    "    except Exception as e:\n",
    "        print(\"Creating new table\")\n",
    "    # Creating new table\n",
    "    create_table_sql = f\"CREATE TABLE {schema}.{table} ({', '.join(columns)})\"\n",
    "    try:\n",
    "        ibm_db.exec_immediate(conn, create_table_sql)\n",
    "        print(f\"Table '{table}' created successfully.\")\n",
    "    except Exception as e:\n",
    "        print(\"Table creation failed, Please try again. \",e)\n",
    "\n",
    "def insert_column(df, table, values):\n",
    "    print(\"Inserting rows into table\")\n",
    "    try:\n",
    "        columns = ', '.join(map(lambda col: f'\"{col}\"', df.columns))\n",
    "        insert_sql = f\"INSERT INTO {table} ({columns}) VALUES {values}\"\n",
    "        ibm_db.exec_immediate(conn, insert_sql)\n",
    "        ibm_db.commit(conn)\n",
    "        print(\"Data inserted successfully.\")\n",
    "    except Exception as e:\n",
    "        print(\"Data insertion unsuccessfully.\", e)\n",
    "\n",
    "\n",
    "def extract_values_from_csv(df):\n",
    "    print(\"Extracting values\")\n",
    "    values = []\n",
    "    count = 0\n",
    "    for index, row in df.iterrows():\n",
    "        sd = str(tuple(row))\n",
    "        values.append(sd)\n",
    "        count += 1\n",
    "    final_value = \",\".join(values)\n",
    "    print(f\"Extracted {count} rows from csv file.\")\n",
    "    return final_value"
   ]
  },
  {
   "cell_type": "markdown",
   "metadata": {},
   "source": [
    "### Inserting training data and testing data into database"
   ]
  },
  {
   "cell_type": "code",
   "execution_count": 9,
   "metadata": {
    "ExecuteTime": {
     "end_time": "2024-09-05T05:14:26.933920Z",
     "start_time": "2024-09-05T05:14:06.889024Z"
    },
    "msg_id": "b65a1407-71b0-4cce-a67f-28c3cd0d28d4"
   },
   "outputs": [
    {
     "name": "stdout",
     "output_type": "stream",
     "text": [
      "..............Inserting training data.............\n",
      "Creating new table\n",
      "Table 'TRAINING_DATA' created successfully.\n",
      "Extracting values\n",
      "Extracted 5000 rows from csv file.\n",
      "Inserting rows into table\n",
      "Data inserted successfully.\n",
      "..............Inserting test data.............\n",
      "Table Deleted, Creating new table\n",
      "Table 'TESTING_DATA' created successfully.\n",
      "Extracting values\n",
      "Extracted 1000 rows from csv file.\n",
      "Inserting rows into table\n",
      "Data inserted successfully.\n",
      "..............Closing connection.............\n",
      "..............Connection closed..............\n"
     ]
    }
   ],
   "source": [
    "# Inserting training_data to database.\n",
    "print(\"..............Inserting training data.............\")\n",
    "csv_file_path = 'german_credit_data_biased_training.csv'\n",
    "data = pd.read_csv(csv_file_path)\n",
    "table_name = TRAINING_DATA_TABLE_NAME\n",
    "create_table(df=data, table=table_name, schema=TRAINING_DATA_SCHEMA_NAME)\n",
    "value = extract_values_from_csv(df=data)\n",
    "insert_column(table=table_name, df=data, values=value)\n",
    "\n",
    "# Inserting test_data to database\n",
    "print(\"..............Inserting test data.............\")\n",
    "csv_file_path = 'credit_risk_test_data.csv'\n",
    "data = pd.read_csv(csv_file_path)\n",
    "table_name = EVALUATION_DATA_TABLE_NAME\n",
    "create_table(df=data, table=table_name, schema=EVALUATION_DATA_SCHEMA_NAME)\n",
    "value = extract_values_from_csv(df=data)\n",
    "insert_column(table=table_name, df=data, values=value)\n",
    "\n",
    "print(\"..............Closing connection.............\")\n",
    "ibm_db.close(conn)\n",
    "print(\"..............Connection closed..............\")"
   ]
  },
  {
   "cell_type": "markdown",
   "metadata": {
    "id": "9a9e577d-9292-4b6a-b5ec-193821af2444"
   },
   "source": [
    "## 2.3 Create a model"
   ]
  },
  {
   "cell_type": "code",
   "execution_count": 10,
   "metadata": {
    "id": "7c4d03bd-e43e-4cc6-a8fb-c350f5d39e49",
    "msg_id": "ece251f1-b696-4a86-a445-cacd3768cf18"
   },
   "outputs": [
    {
     "name": "stdout",
     "output_type": "stream",
     "text": [
      "Number of records for training: 4005\n",
      "Number of records for evaluation: 995\n",
      "root\n",
      " |-- CheckingStatus: string (nullable = true)\n",
      " |-- LoanDuration: integer (nullable = true)\n",
      " |-- CreditHistory: string (nullable = true)\n",
      " |-- LoanPurpose: string (nullable = true)\n",
      " |-- LoanAmount: integer (nullable = true)\n",
      " |-- ExistingSavings: string (nullable = true)\n",
      " |-- EmploymentDuration: string (nullable = true)\n",
      " |-- InstallmentPercent: integer (nullable = true)\n",
      " |-- Sex: string (nullable = true)\n",
      " |-- OthersOnLoan: string (nullable = true)\n",
      " |-- CurrentResidenceDuration: integer (nullable = true)\n",
      " |-- OwnsProperty: string (nullable = true)\n",
      " |-- Age: integer (nullable = true)\n",
      " |-- InstallmentPlans: string (nullable = true)\n",
      " |-- Housing: string (nullable = true)\n",
      " |-- ExistingCreditsCount: integer (nullable = true)\n",
      " |-- Job: string (nullable = true)\n",
      " |-- Dependents: integer (nullable = true)\n",
      " |-- Telephone: string (nullable = true)\n",
      " |-- ForeignWorker: string (nullable = true)\n",
      " |-- Risk: string (nullable = true)\n",
      "\n"
     ]
    }
   ],
   "source": [
    "spark_df = df_data\n",
    "(train_data, test_data) = spark_df.randomSplit([0.8, 0.2], 24)\n",
    "\n",
    "print(\"Number of records for training: \" + str(train_data.count()))\n",
    "print(\"Number of records for evaluation: \" + str(test_data.count()))\n",
    "\n",
    "spark_df.printSchema()"
   ]
  },
  {
   "cell_type": "markdown",
   "metadata": {
    "id": "d11700e7-bb13-4025-a753-f96ffeffc934"
   },
   "source": [
    "The code below creates a **Random Forest Classifier** with Spark, setting up string indexers for the categorical features and the label column. Finally, this notebook creates a pipeline including the indexers and the model and does an initial **Area Under ROC** evaluation of the model."
   ]
  },
  {
   "cell_type": "code",
   "execution_count": 11,
   "metadata": {
    "id": "15a1f237-bad4-4ebd-8f8a-bd84380209c7",
    "msg_id": "f206b30b-1835-49fb-b239-da5ce07963de"
   },
   "outputs": [],
   "source": [
    "from pyspark.ml.feature import StringIndexer, IndexToString, VectorAssembler\n",
    "from pyspark.ml.evaluation import BinaryClassificationEvaluator\n",
    "from pyspark.ml import Pipeline\n",
    "\n",
    "features = [x for x in spark_df.columns if x != 'Risk']\n",
    "categorical_features = ['CheckingStatus', 'CreditHistory', 'LoanPurpose', 'ExistingSavings', 'EmploymentDuration', 'Sex', 'OthersOnLoan', 'OwnsProperty', 'InstallmentPlans', 'Housing', 'Job', 'Telephone', 'ForeignWorker']\n",
    "categorical_num_features = [x + '_IX' for x in categorical_features]\n",
    "si_list = [StringIndexer(inputCol=x, outputCol=y) for x, y in zip(categorical_features, categorical_num_features)]\n",
    "va_features = VectorAssembler(inputCols=categorical_num_features + [x for x in features if x not in categorical_features], outputCol=\"features\")\n",
    "si_label = StringIndexer(inputCol=\"Risk\", outputCol=\"label\").fit(spark_df)\n",
    "label_converter = IndexToString(inputCol=\"prediction\", outputCol=\"predictedLabel\", labels=si_label.labels)"
   ]
  },
  {
   "cell_type": "code",
   "execution_count": 12,
   "metadata": {
    "id": "fb7070e4-d15f-4701-b808-b7e87b5a4e89",
    "msg_id": "ce24a59c-027a-47aa-abdf-ce7d822b0928"
   },
   "outputs": [],
   "source": [
    "from pyspark.ml.classification import RandomForestClassifier\n",
    "\n",
    "classifier = RandomForestClassifier(featuresCol=\"features\")\n",
    "pipeline = Pipeline(stages= si_list + [si_label, va_features, classifier, label_converter])\n",
    "\n",
    "model = pipeline.fit(train_data)"
   ]
  },
  {
   "cell_type": "code",
   "execution_count": 13,
   "metadata": {
    "id": "5e781bbd-f3d5-41df-8fa4-6b0876951bcd",
    "msg_id": "8780e590-17a5-45b3-925b-f69034aa0b55"
   },
   "outputs": [
    {
     "name": "stdout",
     "output_type": "stream",
     "text": [
      "areaUnderROC = 0.727776 areaUnderPR = 0.685996\n"
     ]
    }
   ],
   "source": [
    "predictions = model.transform(test_data)\n",
    "evaluatorDT = BinaryClassificationEvaluator(rawPredictionCol=\"prediction\",  metricName='areaUnderROC')\n",
    "area_under_curve = evaluatorDT.evaluate(predictions)\n",
    "\n",
    "evaluatorDT = BinaryClassificationEvaluator(rawPredictionCol=\"prediction\",  metricName='areaUnderPR')\n",
    "area_under_PR = evaluatorDT.evaluate(predictions)\n",
    "\n",
    "# Default evaluation is areaUnderROC\n",
    "print(\"areaUnderROC = %g\" % area_under_curve, \"areaUnderPR = %g\" % area_under_PR)"
   ]
  },
  {
   "cell_type": "markdown",
   "metadata": {
    "id": "4ba8547f-853c-4622-b805-4f0766032fd0"
   },
   "source": [
    "## 2.4 Create and Save the Model\n",
    "\n",
    "Save and deploy the German Credit Risk model into the WML instance that is designated as **Pre-Production**."
   ]
  },
  {
   "cell_type": "code",
   "execution_count": 14,
   "metadata": {
    "id": "259ee74c-6d06-4384-9986-71aec948d51b",
    "msg_id": "3923643b-9c26-45ef-a112-537d59e6a722"
   },
   "outputs": [],
   "source": [
    "PRE_PROD_MODEL_NAME = \"GCR Model\"\n",
    "PRE_PROD_DEPLOYMENT_NAME = \"GCR Model Deployment\"\n",
    "SPACE_ID = \"*********\""
   ]
  },
  {
   "cell_type": "code",
   "execution_count": 15,
   "metadata": {
    "id": "0d06b302-6dd0-4c40-ac25-b688dc7a7aad",
    "msg_id": "ceeade49-6c31-4c42-9bf5-e84ce67ce56c"
   },
   "outputs": [
    {
     "name": "stdout",
     "output_type": "stream",
     "text": [
      "1.0.355\n"
     ]
    },
    {
     "data": {
      "text/plain": [
       "'SUCCESS'"
      ]
     },
     "execution_count": 15,
     "metadata": {},
     "output_type": "execute_result"
    }
   ],
   "source": [
    "from ibm_watson_machine_learning import APIClient\n",
    "\n",
    "wml_client = APIClient(WML_CREDENTIALS)\n",
    "print(wml_client.version)\n",
    "wml_client.set.default_space(SPACE_ID)"
   ]
  },
  {
   "cell_type": "markdown",
   "metadata": {
    "id": "cbe9586b-0486-4518-a7a0-d8595b559416"
   },
   "source": [
    "### 2.4.1 Cleaning up existing model, deployments, subscriptions"
   ]
  },
  {
   "cell_type": "code",
   "execution_count": 16,
   "metadata": {
    "id": "c0d2d21f-f6f5-4a49-84c0-61e131be9aa1",
    "msg_id": "9e405a0c-9cc9-4825-a1e9-8326d82d97bf"
   },
   "outputs": [
    {
     "name": "stdout",
     "output_type": "stream",
     "text": [
      "------------------------------------  ---------  ------------------------  ---------  ----------  ----------------\n",
      "ID                                    NAME       CREATED                   TYPE       SPEC_STATE  SPEC_REPLACEMENT\n",
      "d080e2d9-b305-4ebc-8642-22573f01409d  GCR Model  2024-09-03T08:30:39.002Z  mllib_3.3  deprecated  spark-mllib_3.4\n",
      "------------------------------------  ---------  ------------------------  ---------  ----------  ----------------\n"
     ]
    },
    {
     "data": {
      "text/html": [
       "<div>\n",
       "<style scoped>\n",
       "    .dataframe tbody tr th:only-of-type {\n",
       "        vertical-align: middle;\n",
       "    }\n",
       "\n",
       "    .dataframe tbody tr th {\n",
       "        vertical-align: top;\n",
       "    }\n",
       "\n",
       "    .dataframe thead th {\n",
       "        text-align: right;\n",
       "    }\n",
       "</style>\n",
       "<table border=\"1\" class=\"dataframe\">\n",
       "  <thead>\n",
       "    <tr style=\"text-align: right;\">\n",
       "      <th></th>\n",
       "      <th>ID</th>\n",
       "      <th>NAME</th>\n",
       "      <th>CREATED</th>\n",
       "      <th>TYPE</th>\n",
       "      <th>SPEC_STATE</th>\n",
       "      <th>SPEC_REPLACEMENT</th>\n",
       "    </tr>\n",
       "  </thead>\n",
       "  <tbody>\n",
       "    <tr>\n",
       "      <th>0</th>\n",
       "      <td>d080e2d9-b305-4ebc-8642-22573f01409d</td>\n",
       "      <td>GCR Model</td>\n",
       "      <td>2024-09-03T08:30:39.002Z</td>\n",
       "      <td>mllib_3.3</td>\n",
       "      <td>deprecated</td>\n",
       "      <td>spark-mllib_3.4</td>\n",
       "    </tr>\n",
       "  </tbody>\n",
       "</table>\n",
       "</div>"
      ],
      "text/plain": [
       "                                     ID       NAME                   CREATED  \\\n",
       "0  d080e2d9-b305-4ebc-8642-22573f01409d  GCR Model  2024-09-03T08:30:39.002Z   \n",
       "\n",
       "        TYPE  SPEC_STATE SPEC_REPLACEMENT  \n",
       "0  mllib_3.3  deprecated  spark-mllib_3.4  "
      ]
     },
     "execution_count": 16,
     "metadata": {},
     "output_type": "execute_result"
    }
   ],
   "source": [
    "from ibm_watson_machine_learning.wml_client_error import WMLClientError\n",
    "\n",
    "deployments_list = wml_client.deployments.get_details()\n",
    "models_to_delete = []\n",
    "deployments_deleted = []\n",
    "for deployment in deployments_list[\"resources\"]:\n",
    "    model_id = deployment[\"entity\"][\"asset\"][\"id\"]\n",
    "    dep_model_name = wml_client.repository.get_details(model_id)[\"metadata\"][\"name\"]\n",
    "    deployment_id = deployment[\"metadata\"][\"id\"]\n",
    "    if deployment[\"metadata\"][\"name\"] == PRE_PROD_DEPLOYMENT_NAME or dep_model_name == PRE_PROD_MODEL_NAME:\n",
    "        deployments_deleted.append(deployment_id)\n",
    "        if model_id not in models_to_delete:\n",
    "            models_to_delete.append(model_id)\n",
    "\n",
    "for deployment_id in deployments_deleted:\n",
    "    try:\n",
    "        print(\"Deleting deployment id\", deployment_id)\n",
    "        wml_client.deployments.delete(deployment_id)\n",
    "    except WMLClientError as wce:\n",
    "        if \"deployment_does_not_exist\" in wce.error_msg:\n",
    "            # Shadow deployment\n",
    "            pass\n",
    "        else:\n",
    "            raise wce\n",
    "\n",
    "for model_id in models_to_delete:\n",
    "    print(\"Deleting model id\", model_id)\n",
    "    wml_client.repository.delete(model_id)\n",
    "wml_client.repository.list_models()"
   ]
  },
  {
   "cell_type": "markdown",
   "metadata": {
    "id": "79710cd8-55e3-4fec-84d7-316dd7bb414c"
   },
   "source": [
    "### 2.4.2 Save the Model"
   ]
  },
  {
   "cell_type": "code",
   "execution_count": 17,
   "metadata": {
    "id": "02fc9d6a-4bfa-4537-bcfa-c4d6678dece7",
    "msg_id": "95999844-87d6-4535-8951-fc9c1a1697c6"
   },
   "outputs": [
    {
     "name": "stdout",
     "output_type": "stream",
     "text": [
      "Note: Warnings!! :  Software specification spark-mllib_3.3 specified for the wml_model is deprecated and will be removed in the future. We recommend you use spark-mllib_3.4 instead. For details see Supported Frameworks https://www.ibm.com/docs/en/cloud-paks/cp-data/4.0?topic=specifications-supported-deployment-frameworks\n",
      "Model UID:03655de9-b000-4f6a-b54b-2f1ef29a8598\n"
     ]
    }
   ],
   "source": [
    "model_props = {\n",
    "    wml_client.repository.ModelMetaNames.NAME: PRE_PROD_MODEL_NAME,\n",
    "    wml_client.repository.ModelMetaNames.TYPE: 'mllib_3.3',\n",
    "    wml_client.repository.ModelMetaNames.SOFTWARE_SPEC_UID: wml_client.software_specifications.get_id_by_name(\"spark-mllib_3.3\")\n",
    "}\n",
    "\n",
    "published_model_details = wml_client.repository.store_model(model=model, meta_props=model_props, \n",
    "                                                        training_data=train_data, pipeline=pipeline)\n",
    "model_uid = wml_client.repository.get_model_id(published_model_details)\n",
    "print(\"Model UID:\" + model_uid)"
   ]
  },
  {
   "cell_type": "markdown",
   "metadata": {
    "id": "7c613b44-d0f4-4109-acf3-e4682dcb8a83"
   },
   "source": [
    "## 2.5 Deploy the Model\n",
    "\n",
    "The next section of the notebook deploys the model as a RESTful web service in Watson Machine Learning. The deployed model will have a scoring URL you can use to send data to the model for predictions."
   ]
  },
  {
   "cell_type": "code",
   "execution_count": 18,
   "metadata": {
    "id": "fa6d7296-c474-494a-acc1-f92882467191",
    "msg_id": "b01b84ee-e6cb-4eb9-acf4-f5a4be0bc6c9"
   },
   "outputs": [
    {
     "name": "stdout",
     "output_type": "stream",
     "text": [
      "\n",
      "\n",
      "#######################################################################################\n",
      "\n",
      "Synchronous deployment creation for uid: '03655de9-b000-4f6a-b54b-2f1ef29a8598' started\n",
      "\n",
      "#######################################################################################\n",
      "\n",
      "\n",
      "initializing\n",
      "Note: Software specification spark-mllib_3.3 is deprecated. Use spark-mllib_3.4 software specification instead when saving a spark model. For details, see https://www.ibm.com/support/producthub/icpdata/docs/content/SSQNUZ_latest/wsj/wmls/wmls-deploy-python-types.html.\n",
      "..........\n",
      "ready\n",
      "\n",
      "\n",
      "------------------------------------------------------------------------------------------------\n",
      "Successfully finished deployment creation, deployment_uid='a781b922-0a05-4523-b355-bec0377f2646'\n",
      "------------------------------------------------------------------------------------------------\n",
      "\n",
      "\n",
      "Scoring URL: https://cpd-cpd-instance.apps.wxg416nfs2822.cp.fyre.ibm.com/ml/v4/deployments/a781b922-0a05-4523-b355-bec0377f2646/predictions\n",
      "Model id: 03655de9-b000-4f6a-b54b-2f1ef29a8598\n",
      "Deployment id: a781b922-0a05-4523-b355-bec0377f2646\n"
     ]
    }
   ],
   "source": [
    "deployment_details = wml_client.deployments.create(\n",
    "    model_uid, \n",
    "    meta_props={\n",
    "        wml_client.deployments.ConfigurationMetaNames.NAME: \"{}\".format(PRE_PROD_DEPLOYMENT_NAME),\n",
    "        wml_client.deployments.ConfigurationMetaNames.ONLINE: {}\n",
    "    }\n",
    ")\n",
    "\n",
    "scoring_url = wml_client.deployments.get_scoring_href(deployment_details)\n",
    "deployment_uid = wml_client.deployments.get_uid(deployment_details)\n",
    "\n",
    "print(\"Scoring URL: {}\".format(scoring_url))\n",
    "print(\"Model id: {}\".format(model_uid))\n",
    "print(\"Deployment id: {}\".format(deployment_uid))"
   ]
  },
  {
   "cell_type": "markdown",
   "metadata": {
    "id": "a99a8d30-9a6a-4671-ac7e-0597603b60e1"
   },
   "source": [
    "### 2.5.1 Sample scoring"
   ]
  },
  {
   "cell_type": "code",
   "execution_count": 19,
   "metadata": {
    "id": "48ab20a1-7e11-46b2-aef6-5993160ef8ad",
    "msg_id": "65ea43ee-1123-4861-a37c-8fa1e22800e5"
   },
   "outputs": [],
   "source": [
    "fields = [\"CheckingStatus\", \"LoanDuration\", \"CreditHistory\", \"LoanPurpose\", \"LoanAmount\", \"ExistingSavings\",\n",
    "                  \"EmploymentDuration\", \"InstallmentPercent\", \"Sex\", \"OthersOnLoan\", \"CurrentResidenceDuration\",\n",
    "                  \"OwnsProperty\", \"Age\", \"InstallmentPlans\", \"Housing\", \"ExistingCreditsCount\", \"Job\", \"Dependents\",\n",
    "                  \"Telephone\", \"ForeignWorker\"]\n",
    "values = [\n",
    "            [\"no_checking\", 13, \"credits_paid_to_date\", \"car_new\", 1343, \"100_to_500\", \"1_to_4\", 2, \"female\", \"none\", 3,\n",
    "             \"savings_insurance\", 46, \"none\", \"own\", 2, \"skilled\", 1, \"none\", \"yes\"],\n",
    "            [\"no_checking\", 24, \"prior_payments_delayed\", \"furniture\", 4567, \"500_to_1000\", \"1_to_4\", 4, \"male\", \"none\",\n",
    "             4, \"savings_insurance\", 36, \"none\", \"free\", 2, \"management_self-employed\", 1, \"none\", \"yes\"],\n",
    "        ]\n",
    "\n",
    "scoring_payload = {\"input_data\": [{\"fields\": fields, \"values\": values}]}"
   ]
  },
  {
   "cell_type": "code",
   "execution_count": 20,
   "metadata": {
    "id": "2068a984-8da7-4030-906c-faa236330a42",
    "msg_id": "f352e58b-acd6-4151-9eae-d7b2dab164c8"
   },
   "outputs": [
    {
     "data": {
      "text/plain": [
       "{'predictions': [{'fields': ['CheckingStatus',\n",
       "    'LoanDuration',\n",
       "    'CreditHistory',\n",
       "    'LoanPurpose',\n",
       "    'LoanAmount',\n",
       "    'ExistingSavings',\n",
       "    'EmploymentDuration',\n",
       "    'InstallmentPercent',\n",
       "    'Sex',\n",
       "    'OthersOnLoan',\n",
       "    'CurrentResidenceDuration',\n",
       "    'OwnsProperty',\n",
       "    'Age',\n",
       "    'InstallmentPlans',\n",
       "    'Housing',\n",
       "    'ExistingCreditsCount',\n",
       "    'Job',\n",
       "    'Dependents',\n",
       "    'Telephone',\n",
       "    'ForeignWorker',\n",
       "    'CheckingStatus_IX',\n",
       "    'CreditHistory_IX',\n",
       "    'LoanPurpose_IX',\n",
       "    'ExistingSavings_IX',\n",
       "    'EmploymentDuration_IX',\n",
       "    'Sex_IX',\n",
       "    'OthersOnLoan_IX',\n",
       "    'OwnsProperty_IX',\n",
       "    'InstallmentPlans_IX',\n",
       "    'Housing_IX',\n",
       "    'Job_IX',\n",
       "    'Telephone_IX',\n",
       "    'ForeignWorker_IX',\n",
       "    'label',\n",
       "    'features',\n",
       "    'rawPrediction',\n",
       "    'probability',\n",
       "    'prediction',\n",
       "    'predictedLabel'],\n",
       "   'values': [['no_checking',\n",
       "     13,\n",
       "     'credits_paid_to_date',\n",
       "     'car_new',\n",
       "     1343,\n",
       "     '100_to_500',\n",
       "     '1_to_4',\n",
       "     2,\n",
       "     'female',\n",
       "     'none',\n",
       "     3,\n",
       "     'savings_insurance',\n",
       "     46,\n",
       "     'none',\n",
       "     'own',\n",
       "     2,\n",
       "     'skilled',\n",
       "     1,\n",
       "     'none',\n",
       "     'yes',\n",
       "     0.0,\n",
       "     1.0,\n",
       "     0.0,\n",
       "     1.0,\n",
       "     0.0,\n",
       "     1.0,\n",
       "     0.0,\n",
       "     0.0,\n",
       "     0.0,\n",
       "     0.0,\n",
       "     0.0,\n",
       "     0.0,\n",
       "     0.0,\n",
       "     0.0,\n",
       "     [20,\n",
       "      [1, 3, 5, 13, 14, 15, 16, 17, 18, 19],\n",
       "      [1.0, 1.0, 1.0, 13.0, 1343.0, 2.0, 3.0, 46.0, 2.0, 1.0]],\n",
       "     [13.028948708129635, 6.971051291870364],\n",
       "     [0.6514474354064818, 0.34855256459351824],\n",
       "     0.0,\n",
       "     'No Risk'],\n",
       "    ['no_checking',\n",
       "     24,\n",
       "     'prior_payments_delayed',\n",
       "     'furniture',\n",
       "     4567,\n",
       "     '500_to_1000',\n",
       "     '1_to_4',\n",
       "     4,\n",
       "     'male',\n",
       "     'none',\n",
       "     4,\n",
       "     'savings_insurance',\n",
       "     36,\n",
       "     'none',\n",
       "     'free',\n",
       "     2,\n",
       "     'management_self-employed',\n",
       "     1,\n",
       "     'none',\n",
       "     'yes',\n",
       "     0.0,\n",
       "     0.0,\n",
       "     1.0,\n",
       "     2.0,\n",
       "     0.0,\n",
       "     0.0,\n",
       "     0.0,\n",
       "     0.0,\n",
       "     0.0,\n",
       "     2.0,\n",
       "     2.0,\n",
       "     0.0,\n",
       "     0.0,\n",
       "     0.0,\n",
       "     [20,\n",
       "      [2, 3, 9, 10, 13, 14, 15, 16, 17, 18, 19],\n",
       "      [1.0, 2.0, 2.0, 2.0, 24.0, 4567.0, 4.0, 4.0, 36.0, 2.0, 1.0]],\n",
       "     [12.826673138565422, 7.1733268614345755],\n",
       "     [0.6413336569282712, 0.35866634307172884],\n",
       "     0.0,\n",
       "     'No Risk']]}]}"
      ]
     },
     "execution_count": 20,
     "metadata": {},
     "output_type": "execute_result"
    }
   ],
   "source": [
    "scoring_response = wml_client.deployments.score(deployment_uid, scoring_payload)\n",
    "scoring_response"
   ]
  },
  {
   "cell_type": "markdown",
   "metadata": {
    "id": "f42e76c1-e8ec-48f4-aab7-87e254c997d2"
   },
   "source": [
    "# 3. Configure OpenScale <a name=\"openscale\"></a>\n",
    "\n",
    "The subsequent cells will now import the necessary libraries and set up a Python OpenScale client."
   ]
  },
  {
   "cell_type": "code",
   "execution_count": 21,
   "metadata": {
    "id": "10ba9d55-48ae-43c5-adf2-78dc0ce2b7a0",
    "msg_id": "bc8bf36f-c83b-4caf-8b6c-6ff01bfcb9fb"
   },
   "outputs": [],
   "source": [
    "from ibm_cloud_sdk_core.authenticators import CloudPakForDataAuthenticator\n",
    "from ibm_watson_openscale import APIClient\n",
    "from ibm_watson_openscale.supporting_classes.enums import *\n",
    "from ibm_watson_openscale.supporting_classes import *"
   ]
  },
  {
   "cell_type": "markdown",
   "metadata": {
    "id": "45117df4-19dc-498b-a808-835d0e977ac8"
   },
   "source": [
    "### 3.1 Initialize the APIClient"
   ]
  },
  {
   "cell_type": "code",
   "execution_count": 22,
   "metadata": {
    "id": "900292c5-3c4b-41fd-b6f6-6680d2aac825",
    "msg_id": "01343c12-ad7d-4bf0-9a1d-1a880740c93a"
   },
   "outputs": [
    {
     "name": "stdout",
     "output_type": "stream",
     "text": [
      "3.0.36\n"
     ]
    }
   ],
   "source": [
    "from ibm_cloud_sdk_core.authenticators import CloudPakForDataAuthenticator\n",
    "from ibm_watson_openscale import APIClient as WOSAPIClient\n",
    "\n",
    "SERVICE_INSTANCE_ID = DATA_MART_ID = \"00000000-0000-0000-0000-000000000000\"\n",
    "wos_client = WOSAPIClient(\n",
    "    authenticator=CloudPakForDataAuthenticator(\n",
    "        url=cpd_url,\n",
    "        username=cpd_username,\n",
    "        password=cpd_password,\n",
    "        disable_ssl_verification=True\n",
    "    ),\n",
    "    service_url=cpd_url,\n",
    "    service_instance_id=SERVICE_INSTANCE_ID\n",
    ")\n",
    "\n",
    "print(wos_client.version)"
   ]
  },
  {
   "cell_type": "code",
   "execution_count": 23,
   "metadata": {
    "id": "95b9875c-180d-43fa-9825-a5c815756ff7",
    "msg_id": "cc065b38-60b3-4c4b-8ee3-fe99a5f5b047"
   },
   "outputs": [
    {
     "data": {
      "text/html": [
       "<HTML>\n",
       "        <body>\n",
       "            <h3>Service Providers</h3>\n",
       "            <table style='border: 1px solid #dddddd; font-family: Courier'>\n",
       "                <th style='border: 1px solid #dddddd'>instance_id</th><th style='border: 1px solid #dddddd'>status</th><th style='border: 1px solid #dddddd'>name</th><th style='border: 1px solid #dddddd'>service_type</th><th style='border: 1px solid #dddddd'>created_at</th><th style='border: 1px solid #dddddd'>id</th>\n",
       "                <tr><td style='border: 1px solid #dddddd'>99999999-9999-9999-9999-999999999999</td><td style='border: 1px solid #dddddd'>active</td><td style='border: 1px solid #dddddd'>Venktesh_ml</td><td style='border: 1px solid #dddddd'>watson_machine_learning</td><td style='border: 1px solid #dddddd'>2024-09-03 06:37:51.447000+00:00</td><td style='border: 1px solid #dddddd'>bd6a7cf2-0083-41e9-b6de-e6375a0aa45b</td></tr><tr><td style='border: 1px solid #dddddd'>99999999-9999-9999-9999-999999999999</td><td style='border: 1px solid #dddddd'>active</td><td style='border: 1px solid #dddddd'>PROJECT_kp</td><td style='border: 1px solid #dddddd'>watson_machine_learning</td><td style='border: 1px solid #dddddd'>2024-08-29 14:01:24.021000+00:00</td><td style='border: 1px solid #dddddd'>b8a8853d-0c69-4036-8668-0e4b6ac3fec6</td></tr><tr><td style='border: 1px solid #dddddd'>99999999-9999-9999-9999-999999999999</td><td style='border: 1px solid #dddddd'>active</td><td style='border: 1px solid #dddddd'>ForShyamUse</td><td style='border: 1px solid #dddddd'>watson_machine_learning</td><td style='border: 1px solid #dddddd'>2024-08-21 08:11:28.250000+00:00</td><td style='border: 1px solid #dddddd'>f93c584f-35bd-486f-a40a-e7f8c211b724</td></tr><tr><td style='border: 1px solid #dddddd'>None</td><td style='border: 1px solid #dddddd'>active</td><td style='border: 1px solid #dddddd'>batch_subscription_notebook</td><td style='border: 1px solid #dddddd'>custom_machine_learning</td><td style='border: 1px solid #dddddd'>2024-08-20 12:50:52.921000+00:00</td><td style='border: 1px solid #dddddd'>68923d3b-e72f-4750-83fe-201a162ee031</td></tr><tr><td style='border: 1px solid #dddddd'>None</td><td style='border: 1px solid #dddddd'>active</td><td style='border: 1px solid #dddddd'>CUSTOM_APIKEY_CLOUD_WITHOUTAPI_PREPROD</td><td style='border: 1px solid #dddddd'>custom_machine_learning</td><td style='border: 1px solid #dddddd'>2024-08-20 12:00:19.739000+00:00</td><td style='border: 1px solid #dddddd'>1314bd04-6dae-4f50-9a6a-e0c564e3b2df</td></tr><tr><td style='border: 1px solid #dddddd'>None</td><td style='border: 1px solid #dddddd'>active</td><td style='border: 1px solid #dddddd'>CUSTOM_APIKEY_CLOUD_WITHOUTAPI</td><td style='border: 1px solid #dddddd'>custom_machine_learning</td><td style='border: 1px solid #dddddd'>2024-08-20 12:00:19.568000+00:00</td><td style='border: 1px solid #dddddd'>19470576-e1e7-480d-b36f-a138aecdf279</td></tr><tr><td style='border: 1px solid #dddddd'>4ca7ec1c-6b35-48ef-a45c-0434c6985058</td><td style='border: 1px solid #dddddd'>active</td><td style='border: 1px solid #dddddd'>MRM_WMLV4_CLOUD_PREPROD</td><td style='border: 1px solid #dddddd'>watson_machine_learning</td><td style='border: 1px solid #dddddd'>2024-08-20 12:00:19.337000+00:00</td><td style='border: 1px solid #dddddd'>eec6ca29-5365-4abd-96d3-a4c359db00c5</td></tr><tr><td style='border: 1px solid #dddddd'>4ca7ec1c-6b35-48ef-a45c-0434c6985058</td><td style='border: 1px solid #dddddd'>active</td><td style='border: 1px solid #dddddd'>MRM_WMLV4_CLOUD_PROD</td><td style='border: 1px solid #dddddd'>watson_machine_learning</td><td style='border: 1px solid #dddddd'>2024-08-20 12:00:15.776000+00:00</td><td style='border: 1px solid #dddddd'>8a7e2984-4a00-4d85-9940-e7f601b8973b</td></tr><tr><td style='border: 1px solid #dddddd'>None</td><td style='border: 1px solid #dddddd'>active</td><td style='border: 1px solid #dddddd'>CUSTOM_HLS_PREPROD</td><td style='border: 1px solid #dddddd'>custom_machine_learning</td><td style='border: 1px solid #dddddd'>2024-08-20 12:00:10.857000+00:00</td><td style='border: 1px solid #dddddd'>1b3f7bad-3867-4bf8-a64c-f9e3a8b3df86</td></tr><tr><td style='border: 1px solid #dddddd'>None</td><td style='border: 1px solid #dddddd'>active</td><td style='border: 1px solid #dddddd'>CUSTOM_BATCH_PROD</td><td style='border: 1px solid #dddddd'>custom_machine_learning</td><td style='border: 1px solid #dddddd'>2024-08-20 12:00:10.695000+00:00</td><td style='border: 1px solid #dddddd'>67a22c04-8572-465f-a5e1-e3f2ea1d0767</td></tr>\n",
       "            </table>\n",
       "        </body>\n",
       "        </HTML>"
      ],
      "text/plain": [
       "<IPython.core.display.HTML object>"
      ]
     },
     "metadata": {},
     "output_type": "display_data"
    },
    {
     "name": "stdout",
     "output_type": "stream",
     "text": [
      "Note: First 10 records were displayed.\n"
     ]
    }
   ],
   "source": [
    "# Listing service providers\n",
    "\n",
    "wos_client.service_providers.show()"
   ]
  },
  {
   "cell_type": "code",
   "execution_count": 24,
   "metadata": {
    "id": "e02460cd-5f41-4cbc-a425-53a0cfa4fb0c",
    "msg_id": "ce1fd27d-9fef-40d2-9821-1fa8f1d25c60"
   },
   "outputs": [],
   "source": [
    "# Copy the ID of your service provider from the `id` column in the output of the cell above\n",
    "\n",
    "SERVICE_PROVIDER_ID = \"bd6a7cf2-0083-41e9-b6de-e6375a0aa45b\""
   ]
  },
  {
   "cell_type": "markdown",
   "metadata": {
    "id": "a7b179ab-930c-4380-9d73-df0fe8afd0b7"
   },
   "source": [
    "### 3.2 Add Subscription"
   ]
  },
  {
   "cell_type": "code",
   "execution_count": 25,
   "metadata": {
    "id": "b583b56c-70f6-498b-bf58-986ec96208b9",
    "msg_id": "b54a94c2-767d-48fc-ae59-24ebacea981d"
   },
   "outputs": [
    {
     "data": {
      "text/html": [
       "<HTML>\n",
       "        <body>\n",
       "            <h3>Subscriptions</h3>\n",
       "            <table style='border: 1px solid #dddddd; font-family: Courier'>\n",
       "                <th style='border: 1px solid #dddddd'>asset_id</th><th style='border: 1px solid #dddddd'>asset_name</th><th style='border: 1px solid #dddddd'>data_mart_id</th><th style='border: 1px solid #dddddd'>deployment_id</th><th style='border: 1px solid #dddddd'>deployment_name</th><th style='border: 1px solid #dddddd'>service_provider_id</th><th style='border: 1px solid #dddddd'>status</th><th style='border: 1px solid #dddddd'>created_at</th><th style='border: 1px solid #dddddd'>id</th>\n",
       "                <tr><td style='border: 1px solid #dddddd'>03655de9-b000-4f6a-b54b-2f1ef29a8598</td><td style='border: 1px solid #dddddd'>GCR Model</td><td style='border: 1px solid #dddddd'>00000000-0000-0000-0000-000000000000</td><td style='border: 1px solid #dddddd'>a781b922-0a05-4523-b355-bec0377f2646</td><td style='border: 1px solid #dddddd'>GCR Model Deployment</td><td style='border: 1px solid #dddddd'>bd6a7cf2-0083-41e9-b6de-e6375a0aa45b</td><td style='border: 1px solid #dddddd'>active</td><td style='border: 1px solid #dddddd'>2024-09-03 10:35:16.177000+00:00</td><td style='border: 1px solid #dddddd'>9e6a663a-edbf-479b-9b3a-e2d882bb2558</td></tr><tr><td style='border: 1px solid #dddddd'>6c692383-4065-48e5-a21d-540648b4b2fa</td><td style='border: 1px solid #dddddd'>Drift-ScikitGolfMulti_default_py3.10</td><td style='border: 1px solid #dddddd'>00000000-0000-0000-0000-000000000000</td><td style='border: 1px solid #dddddd'>70f8c361-acb9-4eac-a98f-3a475daa154b</td><td style='border: 1px solid #dddddd'>dep_ScikitGolfMulti_default_py3.10</td><td style='border: 1px solid #dddddd'>f93c584f-35bd-486f-a40a-e7f8c211b724</td><td style='border: 1px solid #dddddd'>active</td><td style='border: 1px solid #dddddd'>2024-09-02 05:35:00.011000+00:00</td><td style='border: 1px solid #dddddd'>b3b32e48-f2d2-4f3b-a46f-6951071f395a</td></tr><tr><td style='border: 1px solid #dddddd'>5e87945c-6075-498b-8cb7-2c7b8b564a51</td><td style='border: 1px solid #dddddd'>new golf model - P9 Snap Decision Tree Classifier - Model</td><td style='border: 1px solid #dddddd'>00000000-0000-0000-0000-000000000000</td><td style='border: 1px solid #dddddd'>8d5e9a72-9040-4045-ad52-3aea108bcd4c</td><td style='border: 1px solid #dddddd'>new golf model</td><td style='border: 1px solid #dddddd'>f93c584f-35bd-486f-a40a-e7f8c211b724</td><td style='border: 1px solid #dddddd'>active</td><td style='border: 1px solid #dddddd'>2024-08-23 10:18:20.656000+00:00</td><td style='border: 1px solid #dddddd'>9925ef6b-29db-4c48-bbd0-ad8e47b4a0b4</td></tr><tr><td style='border: 1px solid #dddddd'>b043fb38-e53c-4ac5-a462-9013a2dfdd8c</td><td style='border: 1px solid #dddddd'>house price regression again - P5 Snap Boosting Machine Regressor - Model</td><td style='border: 1px solid #dddddd'>00000000-0000-0000-0000-000000000000</td><td style='border: 1px solid #dddddd'>1abcc8a5-8c5f-48ed-8562-d7cb10ce2b51</td><td style='border: 1px solid #dddddd'>house price regression again - P5 Snap Boosting Machine Regressor - Model</td><td style='border: 1px solid #dddddd'>f93c584f-35bd-486f-a40a-e7f8c211b724</td><td style='border: 1px solid #dddddd'>active</td><td style='border: 1px solid #dddddd'>2024-08-22 08:20:18.049000+00:00</td><td style='border: 1px solid #dddddd'>6251098f-3190-43f3-85ad-dc9124174a6d</td></tr><tr><td style='border: 1px solid #dddddd'>10f198c7-ded1-4ef5-a439-fb9553cb56f2</td><td style='border: 1px solid #dddddd'>MNIST Model</td><td style='border: 1px solid #dddddd'>00000000-0000-0000-0000-000000000000</td><td style='border: 1px solid #dddddd'>501ac5ac-a2da-492e-b66f-463a5a122415</td><td style='border: 1px solid #dddddd'>MNIST Model deployment</td><td style='border: 1px solid #dddddd'>f93c584f-35bd-486f-a40a-e7f8c211b724</td><td style='border: 1px solid #dddddd'>active</td><td style='border: 1px solid #dddddd'>2024-08-21 09:22:54.789000+00:00</td><td style='border: 1px solid #dddddd'>65d229c3-3744-47c5-9555-48112310e8d9</td></tr><tr><td style='border: 1px solid #dddddd'>962f754d-370b-4cdc-a29b-ab68b9cc00e1</td><td style='border: 1px solid #dddddd'>text classifier - P1 Snap Boosting Machine Classifier - Model</td><td style='border: 1px solid #dddddd'>00000000-0000-0000-0000-000000000000</td><td style='border: 1px solid #dddddd'>ec82fccd-2512-4e1a-85ed-845e867ee3c4</td><td style='border: 1px solid #dddddd'>text classifier</td><td style='border: 1px solid #dddddd'>f93c584f-35bd-486f-a40a-e7f8c211b724</td><td style='border: 1px solid #dddddd'>active</td><td style='border: 1px solid #dddddd'>2024-08-21 08:32:25.193000+00:00</td><td style='border: 1px solid #dddddd'>12c86fe3-9bf0-4bd2-b041-dd15395b97f9</td></tr><tr><td style='border: 1px solid #dddddd'>4f55e65a-a2bc-48ab-b21f-64e40d0bbb2c</td><td style='border: 1px solid #dddddd'>GCR_model - P2 LGBM Classifier - Model</td><td style='border: 1px solid #dddddd'>00000000-0000-0000-0000-000000000000</td><td style='border: 1px solid #dddddd'>88f959f9-9c3d-4a55-bca4-64b759da4d0c</td><td style='border: 1px solid #dddddd'>GCR_model</td><td style='border: 1px solid #dddddd'>f93c584f-35bd-486f-a40a-e7f8c211b724</td><td style='border: 1px solid #dddddd'>active</td><td style='border: 1px solid #dddddd'>2024-08-21 08:11:37.687000+00:00</td><td style='border: 1px solid #dddddd'>c189ad5e-4301-4b2c-8a17-1a674d1e236f</td></tr><tr><td style='border: 1px solid #dddddd'>8fafe58b-5c9a-44ce-b672-195c1f082565</td><td style='border: 1px solid #dddddd'>boston_sales_regression - P10 LGBM Regressor - Model</td><td style='border: 1px solid #dddddd'>00000000-0000-0000-0000-000000000000</td><td style='border: 1px solid #dddddd'>9f707899-d417-4ec3-969f-c76426406c97</td><td style='border: 1px solid #dddddd'>bostonsales_regression_online</td><td style='border: 1px solid #dddddd'>68923d3b-e72f-4750-83fe-201a162ee031</td><td style='border: 1px solid #dddddd'>active</td><td style='border: 1px solid #dddddd'>2024-08-21 03:32:29.544000+00:00</td><td style='border: 1px solid #dddddd'>8864335e-02fc-4658-beb9-0fcac1443342</td></tr><tr><td style='border: 1px solid #dddddd'>2093ba9b-9fbd-4747-ba94-ced5053ea2b9</td><td style='border: 1px solid #dddddd'>regression type - P4 Ridge - Model</td><td style='border: 1px solid #dddddd'>00000000-0000-0000-0000-000000000000</td><td style='border: 1px solid #dddddd'>84acf458-b88f-495c-a3bf-49123c59348f</td><td style='border: 1px solid #dddddd'>online_subscription_regression_type</td><td style='border: 1px solid #dddddd'>68923d3b-e72f-4750-83fe-201a162ee031</td><td style='border: 1px solid #dddddd'>active</td><td style='border: 1px solid #dddddd'>2024-08-20 14:10:35.105000+00:00</td><td style='border: 1px solid #dddddd'>d491644e-86d5-41f1-bf91-c1f31c71686d</td></tr><tr><td style='border: 1px solid #dddddd'>aab8c94d-433e-46bd-b32d-f87144afbd11</td><td style='border: 1px solid #dddddd'>batch_subscription_regression_model</td><td style='border: 1px solid #dddddd'>00000000-0000-0000-0000-000000000000</td><td style='border: 1px solid #dddddd'>7360e7d2-2a76-45d9-a802-90289263417d</td><td style='border: 1px solid #dddddd'>batch_subscription_regression_model</td><td style='border: 1px solid #dddddd'>68923d3b-e72f-4750-83fe-201a162ee031</td><td style='border: 1px solid #dddddd'>active</td><td style='border: 1px solid #dddddd'>2024-08-20 12:51:27.757000+00:00</td><td style='border: 1px solid #dddddd'>a47223ca-8f81-4f4b-85c6-945b55804226</td></tr>\n",
       "            </table>\n",
       "        </body>\n",
       "        </HTML>"
      ],
      "text/plain": [
       "<IPython.core.display.HTML object>"
      ]
     },
     "metadata": {},
     "output_type": "display_data"
    },
    {
     "name": "stdout",
     "output_type": "stream",
     "text": [
      "Note: First 10 records were displayed.\n"
     ]
    }
   ],
   "source": [
    "# Remove existing credit risk subscription\n",
    "\n",
    "wos_client.subscriptions.show()"
   ]
  },
  {
   "cell_type": "code",
   "execution_count": 26,
   "metadata": {
    "id": "36e509f9-49bd-4d6a-b653-afd0d5596ed7",
    "msg_id": "62000495-bbb5-4147-9924-a99ea41f01f8"
   },
   "outputs": [
    {
     "name": "stdout",
     "output_type": "stream",
     "text": [
      "Deleted existing subscription for model 03655de9-b000-4f6a-b54b-2f1ef29a8598\n"
     ]
    }
   ],
   "source": [
    "subscriptions = wos_client.subscriptions.list().result.subscriptions\n",
    "for subscription in subscriptions:\n",
    "    sub_model_id = subscription.entity.asset.asset_id\n",
    "    if sub_model_id == model_uid:\n",
    "        wos_client.subscriptions.delete(subscription.metadata.id)\n",
    "        print('Deleted existing subscription for model', sub_model_id)"
   ]
  },
  {
   "cell_type": "code",
   "execution_count": 27,
   "metadata": {
    "id": "26727b2e-d527-479c-8d00-7ec16d505235",
    "msg_id": "04c0c4af-2762-429c-a3c2-694d9a37f911"
   },
   "outputs": [
    {
     "data": {
      "text/plain": [
       "{'metadata': {'guid': 'a781b922-0a05-4523-b355-bec0377f2646',\n",
       "  'created_at': '2024-09-03T10:14:18.306Z',\n",
       "  'modified_at': '2024-09-03T10:14:18.306Z'},\n",
       " 'entity': {'name': 'GCR Model Deployment',\n",
       "  'type': 'online',\n",
       "  'scoring_endpoint': {'url': 'https://internal-nginx-svc:12443/ml/v4/deployments/a781b922-0a05-4523-b355-bec0377f2646/predictions'},\n",
       "  'asset': {},\n",
       "  'asset_properties': {}}}"
      ]
     },
     "execution_count": 27,
     "metadata": {},
     "output_type": "execute_result"
    }
   ],
   "source": [
    "asset_deployment_details = wos_client.service_providers.list_assets(data_mart_id=DATA_MART_ID, \n",
    "    service_provider_id=SERVICE_PROVIDER_ID, deployment_id = deployment_uid, deployment_space_id=SPACE_ID).result['resources'][0]\n",
    "asset_deployment_details"
   ]
  },
  {
   "cell_type": "code",
   "execution_count": 28,
   "metadata": {
    "id": "f62a2af4-9707-4f99-9c5e-3bb5166a2834",
    "msg_id": "53d9cee3-4067-4983-814a-f41cc67c2806"
   },
   "outputs": [
    {
     "data": {
      "text/plain": [
       "{'metadata': {'guid': 'a781b922-0a05-4523-b355-bec0377f2646',\n",
       "  'created_at': '2024-09-03T10:14:18.306Z',\n",
       "  'modified_at': '2024-09-03T10:14:18.306Z'},\n",
       " 'entity': {'name': 'GCR Model Deployment',\n",
       "  'type': 'online',\n",
       "  'scoring_endpoint': {'url': 'https://internal-nginx-svc:12443/ml/v4/deployments/a781b922-0a05-4523-b355-bec0377f2646/predictions'},\n",
       "  'asset': {'asset_id': '03655de9-b000-4f6a-b54b-2f1ef29a8598',\n",
       "   'url': 'https://internal-nginx-svc:12443/ml/v4/models/03655de9-b000-4f6a-b54b-2f1ef29a8598?space_id=be4c13b3-80fe-483c-a33b-68ddda21ae3e&version=2020-06-12',\n",
       "   'name': 'GCR Model',\n",
       "   'asset_type': 'model',\n",
       "   'created_at': '2024-09-03T10:13:57.890Z',\n",
       "   'modified_at': '2024-09-03T10:14:17.748Z'},\n",
       "  'asset_properties': {'model_type': 'mllib_3.3',\n",
       "   'runtime_environment': 'spark-3.3.0',\n",
       "   'label_column': 'Risk',\n",
       "   'input_data_schema': {'type': 'struct',\n",
       "    'id': '1',\n",
       "    'fields': [{'name': 'CheckingStatus',\n",
       "      'type': 'string',\n",
       "      'nullable': True,\n",
       "      'metadata': {}},\n",
       "     {'name': 'LoanDuration',\n",
       "      'type': 'integer',\n",
       "      'nullable': True,\n",
       "      'metadata': {}},\n",
       "     {'name': 'CreditHistory',\n",
       "      'type': 'string',\n",
       "      'nullable': True,\n",
       "      'metadata': {}},\n",
       "     {'name': 'LoanPurpose',\n",
       "      'type': 'string',\n",
       "      'nullable': True,\n",
       "      'metadata': {}},\n",
       "     {'name': 'LoanAmount',\n",
       "      'type': 'integer',\n",
       "      'nullable': True,\n",
       "      'metadata': {}},\n",
       "     {'name': 'ExistingSavings',\n",
       "      'type': 'string',\n",
       "      'nullable': True,\n",
       "      'metadata': {}},\n",
       "     {'name': 'EmploymentDuration',\n",
       "      'type': 'string',\n",
       "      'nullable': True,\n",
       "      'metadata': {}},\n",
       "     {'name': 'InstallmentPercent',\n",
       "      'type': 'integer',\n",
       "      'nullable': True,\n",
       "      'metadata': {}},\n",
       "     {'name': 'Sex', 'type': 'string', 'nullable': True, 'metadata': {}},\n",
       "     {'name': 'OthersOnLoan',\n",
       "      'type': 'string',\n",
       "      'nullable': True,\n",
       "      'metadata': {}},\n",
       "     {'name': 'CurrentResidenceDuration',\n",
       "      'type': 'integer',\n",
       "      'nullable': True,\n",
       "      'metadata': {}},\n",
       "     {'name': 'OwnsProperty',\n",
       "      'type': 'string',\n",
       "      'nullable': True,\n",
       "      'metadata': {}},\n",
       "     {'name': 'Age', 'type': 'integer', 'nullable': True, 'metadata': {}},\n",
       "     {'name': 'InstallmentPlans',\n",
       "      'type': 'string',\n",
       "      'nullable': True,\n",
       "      'metadata': {}},\n",
       "     {'name': 'Housing', 'type': 'string', 'nullable': True, 'metadata': {}},\n",
       "     {'name': 'ExistingCreditsCount',\n",
       "      'type': 'integer',\n",
       "      'nullable': True,\n",
       "      'metadata': {}},\n",
       "     {'name': 'Job', 'type': 'string', 'nullable': True, 'metadata': {}},\n",
       "     {'name': 'Dependents',\n",
       "      'type': 'integer',\n",
       "      'nullable': True,\n",
       "      'metadata': {}},\n",
       "     {'name': 'Telephone', 'type': 'string', 'nullable': True, 'metadata': {}},\n",
       "     {'name': 'ForeignWorker',\n",
       "      'type': 'string',\n",
       "      'nullable': True,\n",
       "      'metadata': {}}]},\n",
       "   'training_data_schema': {'type': 'struct',\n",
       "    'id': '1',\n",
       "    'fields': [{'name': 'CheckingStatus',\n",
       "      'type': 'string',\n",
       "      'nullable': True,\n",
       "      'metadata': {}},\n",
       "     {'name': 'LoanDuration',\n",
       "      'type': 'integer',\n",
       "      'nullable': True,\n",
       "      'metadata': {}},\n",
       "     {'name': 'CreditHistory',\n",
       "      'type': 'string',\n",
       "      'nullable': True,\n",
       "      'metadata': {}},\n",
       "     {'name': 'LoanPurpose',\n",
       "      'type': 'string',\n",
       "      'nullable': True,\n",
       "      'metadata': {}},\n",
       "     {'name': 'LoanAmount',\n",
       "      'type': 'integer',\n",
       "      'nullable': True,\n",
       "      'metadata': {}},\n",
       "     {'name': 'ExistingSavings',\n",
       "      'type': 'string',\n",
       "      'nullable': True,\n",
       "      'metadata': {}},\n",
       "     {'name': 'EmploymentDuration',\n",
       "      'type': 'string',\n",
       "      'nullable': True,\n",
       "      'metadata': {}},\n",
       "     {'name': 'InstallmentPercent',\n",
       "      'type': 'integer',\n",
       "      'nullable': True,\n",
       "      'metadata': {}},\n",
       "     {'name': 'Sex', 'type': 'string', 'nullable': True, 'metadata': {}},\n",
       "     {'name': 'OthersOnLoan',\n",
       "      'type': 'string',\n",
       "      'nullable': True,\n",
       "      'metadata': {}},\n",
       "     {'name': 'CurrentResidenceDuration',\n",
       "      'type': 'integer',\n",
       "      'nullable': True,\n",
       "      'metadata': {}},\n",
       "     {'name': 'OwnsProperty',\n",
       "      'type': 'string',\n",
       "      'nullable': True,\n",
       "      'metadata': {}},\n",
       "     {'name': 'Age', 'type': 'integer', 'nullable': True, 'metadata': {}},\n",
       "     {'name': 'InstallmentPlans',\n",
       "      'type': 'string',\n",
       "      'nullable': True,\n",
       "      'metadata': {}},\n",
       "     {'name': 'Housing', 'type': 'string', 'nullable': True, 'metadata': {}},\n",
       "     {'name': 'ExistingCreditsCount',\n",
       "      'type': 'integer',\n",
       "      'nullable': True,\n",
       "      'metadata': {}},\n",
       "     {'name': 'Job', 'type': 'string', 'nullable': True, 'metadata': {}},\n",
       "     {'name': 'Dependents',\n",
       "      'type': 'integer',\n",
       "      'nullable': True,\n",
       "      'metadata': {}},\n",
       "     {'name': 'Telephone', 'type': 'string', 'nullable': True, 'metadata': {}},\n",
       "     {'name': 'ForeignWorker',\n",
       "      'type': 'string',\n",
       "      'nullable': True,\n",
       "      'metadata': {}},\n",
       "     {'name': 'Risk',\n",
       "      'type': 'string',\n",
       "      'nullable': True,\n",
       "      'metadata': {'modeling_role': 'target'}}]}}}}"
      ]
     },
     "execution_count": 28,
     "metadata": {},
     "output_type": "execute_result"
    }
   ],
   "source": [
    "model_asset_details_from_deployment=wos_client.service_providers.get_deployment_asset(data_mart_id=DATA_MART_ID,\n",
    "    service_provider_id=SERVICE_PROVIDER_ID, deployment_id=deployment_uid, deployment_space_id=SPACE_ID)\n",
    "model_asset_details_from_deployment"
   ]
  },
  {
   "cell_type": "code",
   "execution_count": 29,
   "metadata": {
    "id": "c3e1b973-1c6f-40d1-a1cb-f0bac9a55eb1",
    "msg_id": "4e92a19f-3aff-4748-9d49-6370612f9f4c"
   },
   "outputs": [
    {
     "name": "stdout",
     "output_type": "stream",
     "text": [
      "\n",
      "\n",
      "=============================================================================\n",
      "\n",
      " Waiting for end of adding subscription 126b84d3-3b9d-4ef8-8a96-201ba9606ee0 \n",
      "\n",
      "=============================================================================\n",
      "\n",
      "\n",
      "\n",
      "active\n",
      "\n",
      "-------------------------------------------\n",
      " Successfully finished adding subscription \n",
      "-------------------------------------------\n",
      "\n",
      "\n"
     ]
    },
    {
     "data": {
      "text/plain": [
       "'126b84d3-3b9d-4ef8-8a96-201ba9606ee0'"
      ]
     },
     "execution_count": 29,
     "metadata": {},
     "output_type": "execute_result"
    }
   ],
   "source": [
    "subscription_details = wos_client.subscriptions.add(\n",
    "        data_mart_id=DATA_MART_ID,\n",
    "        background_mode=False,\n",
    "        service_provider_id=SERVICE_PROVIDER_ID,\n",
    "        asset=Asset(\n",
    "            asset_id=model_asset_details_from_deployment[\"entity\"][\"asset\"][\"asset_id\"],\n",
    "            name=model_asset_details_from_deployment[\"entity\"][\"asset\"][\"name\"],\n",
    "            url=model_asset_details_from_deployment[\"entity\"][\"asset\"][\"url\"],\n",
    "            asset_type=AssetTypes.MODEL,\n",
    "            input_data_type=InputDataType.STRUCTURED,\n",
    "            problem_type=ProblemType.BINARY_CLASSIFICATION\n",
    "        ),\n",
    "        deployment=AssetDeploymentRequest(\n",
    "            deployment_id=asset_deployment_details['metadata']['guid'],\n",
    "            name=asset_deployment_details['entity']['name'],\n",
    "            deployment_type= DeploymentTypes.ONLINE,\n",
    "            url=asset_deployment_details['entity']['scoring_endpoint']['url']\n",
    "        ),\n",
    "        asset_properties=AssetPropertiesRequest(\n",
    "            label_column='Risk',\n",
    "            probability_fields=['probability'],\n",
    "            prediction_field='predictedLabel',\n",
    "            feature_fields = [\"CheckingStatus\",\"LoanDuration\",\"CreditHistory\",\"LoanPurpose\",\"LoanAmount\",\"ExistingSavings\",\"EmploymentDuration\",\"InstallmentPercent\",\"Sex\",\"OthersOnLoan\",\"CurrentResidenceDuration\",\"OwnsProperty\",\"Age\",\"InstallmentPlans\",\"Housing\",\"ExistingCreditsCount\",\"Job\",\"Dependents\",\"Telephone\",\"ForeignWorker\"],\n",
    "            categorical_fields = [\"CheckingStatus\",\"CreditHistory\",\"LoanPurpose\",\"ExistingSavings\",\"EmploymentDuration\",\"Sex\",\"OthersOnLoan\",\"OwnsProperty\",\"InstallmentPlans\",\"Housing\",\"Job\",\"Telephone\",\"ForeignWorker\"],\n",
    "            training_data_reference=TrainingDataReference(\n",
    "            type=\"db2\",\n",
    "            location=DB2TrainingDataReferenceLocation(\n",
    "                    table_name=TRAINING_DATA_TABLE_NAME,\n",
    "                    schema_name=TRAINING_DATA_SCHEMA_NAME\n",
    "                ),\n",
    "                connection=DB2TrainingDataReferenceConnection.from_dict(DB2_CREDENTIALS)\n",
    "            ),\n",
    "            training_data_schema=SparkStruct.from_dict(model_asset_details_from_deployment[\"entity\"][\"asset_properties\"][\"training_data_schema\"])\n",
    "        )\n",
    "    ).result\n",
    "\n",
    "subscription_id = subscription_details.metadata.id\n",
    "subscription_id"
   ]
  },
  {
   "cell_type": "code",
   "execution_count": 30,
   "metadata": {
    "id": "30b79ea6-b648-4a28-ad63-f13f6e99a7f5",
    "msg_id": "812d504f-c98f-4282-aebf-670ad1bb8f5c"
   },
   "outputs": [
    {
     "name": "stdout",
     "output_type": "stream",
     "text": [
      "Payload data set id:  4e2b4898-d40f-4caa-8c24-4b6cfafaa728\n"
     ]
    }
   ],
   "source": [
    "# Check Payload Logging table status\n",
    "\n",
    "import time\n",
    "\n",
    "time.sleep(5)\n",
    "payload_data_set_id = None\n",
    "payload_data_set_id = wos_client.data_sets.list(\n",
    "    type=DataSetTypes.PAYLOAD_LOGGING, \n",
    "    target_target_id=subscription_id, \n",
    "    target_target_type=TargetTypes.SUBSCRIPTION).result.data_sets[0].metadata.id\n",
    "\n",
    "if payload_data_set_id is None:\n",
    "    print(\"Payload data set not found. Please check subscription status.\")\n",
    "else:\n",
    "    print(\"Payload data set id: \", payload_data_set_id)"
   ]
  },
  {
   "cell_type": "code",
   "execution_count": 31,
   "metadata": {
    "id": "e8bb95e7-c217-46cc-8fb5-22f0668459ab",
    "msg_id": "a9d9562d-5d1a-425e-a5a9-a8d5e2034805"
   },
   "outputs": [
    {
     "data": {
      "text/html": [
       "<HTML>\n",
       "        <body>\n",
       "            <h3>Data sets</h3>\n",
       "            <table style='border: 1px solid #dddddd; font-family: Courier'>\n",
       "                <th style='border: 1px solid #dddddd'>data_mart_id</th><th style='border: 1px solid #dddddd'>status</th><th style='border: 1px solid #dddddd'>target_id</th><th style='border: 1px solid #dddddd'>target_type</th><th style='border: 1px solid #dddddd'>type</th><th style='border: 1px solid #dddddd'>created_at</th><th style='border: 1px solid #dddddd'>id</th>\n",
       "                <tr><td style='border: 1px solid #dddddd'>00000000-0000-0000-0000-000000000000</td><td style='border: 1px solid #dddddd'>active</td><td style='border: 1px solid #dddddd'>126b84d3-3b9d-4ef8-8a96-201ba9606ee0</td><td style='border: 1px solid #dddddd'>subscription</td><td style='border: 1px solid #dddddd'>payload_logging_error</td><td style='border: 1px solid #dddddd'>2024-09-03 11:25:17.890000+00:00</td><td style='border: 1px solid #dddddd'>ac37d611-4365-4a63-8f05-13f5ffc0069b</td></tr><tr><td style='border: 1px solid #dddddd'>00000000-0000-0000-0000-000000000000</td><td style='border: 1px solid #dddddd'>active</td><td style='border: 1px solid #dddddd'>126b84d3-3b9d-4ef8-8a96-201ba9606ee0</td><td style='border: 1px solid #dddddd'>subscription</td><td style='border: 1px solid #dddddd'>manual_labeling</td><td style='border: 1px solid #dddddd'>2024-09-03 11:25:17.679000+00:00</td><td style='border: 1px solid #dddddd'>737338b0-cc01-4f24-9d98-082afd1e19f7</td></tr><tr><td style='border: 1px solid #dddddd'>00000000-0000-0000-0000-000000000000</td><td style='border: 1px solid #dddddd'>active</td><td style='border: 1px solid #dddddd'>126b84d3-3b9d-4ef8-8a96-201ba9606ee0</td><td style='border: 1px solid #dddddd'>subscription</td><td style='border: 1px solid #dddddd'>payload_logging</td><td style='border: 1px solid #dddddd'>2024-09-03 11:25:17.401000+00:00</td><td style='border: 1px solid #dddddd'>4e2b4898-d40f-4caa-8c24-4b6cfafaa728</td></tr><tr><td style='border: 1px solid #dddddd'>00000000-0000-0000-0000-000000000000</td><td style='border: 1px solid #dddddd'>active</td><td style='border: 1px solid #dddddd'>c189ad5e-4301-4b2c-8a17-1a674d1e236f</td><td style='border: 1px solid #dddddd'>subscription</td><td style='border: 1px solid #dddddd'>model_health</td><td style='border: 1px solid #dddddd'>2024-08-21 08:11:40.878000+00:00</td><td style='border: 1px solid #dddddd'>cc714034-8b40-4f41-8057-98744d1ca971</td></tr><tr><td style='border: 1px solid #dddddd'>00000000-0000-0000-0000-000000000000</td><td style='border: 1px solid #dddddd'>active</td><td style='border: 1px solid #dddddd'>b3b32e48-f2d2-4f3b-a46f-6951071f395a</td><td style='border: 1px solid #dddddd'>subscription</td><td style='border: 1px solid #dddddd'>model_health</td><td style='border: 1px solid #dddddd'>2024-09-02 05:35:03.247000+00:00</td><td style='border: 1px solid #dddddd'>bb8ed13e-8cd0-4562-a684-fb6af1a34afc</td></tr><tr><td style='border: 1px solid #dddddd'>00000000-0000-0000-0000-000000000000</td><td style='border: 1px solid #dddddd'>active</td><td style='border: 1px solid #dddddd'>b3b32e48-f2d2-4f3b-a46f-6951071f395a</td><td style='border: 1px solid #dddddd'>subscription</td><td style='border: 1px solid #dddddd'>payload_logging_error</td><td style='border: 1px solid #dddddd'>2024-09-02 05:35:01.617000+00:00</td><td style='border: 1px solid #dddddd'>36f944fd-03a7-4a41-a0c0-e582b9cc286b</td></tr><tr><td style='border: 1px solid #dddddd'>00000000-0000-0000-0000-000000000000</td><td style='border: 1px solid #dddddd'>active</td><td style='border: 1px solid #dddddd'>b3b32e48-f2d2-4f3b-a46f-6951071f395a</td><td style='border: 1px solid #dddddd'>subscription</td><td style='border: 1px solid #dddddd'>training</td><td style='border: 1px solid #dddddd'>2024-09-02 05:35:01.504000+00:00</td><td style='border: 1px solid #dddddd'>dfb9f441-2745-4ad0-9b56-f109eaf8260a</td></tr><tr><td style='border: 1px solid #dddddd'>00000000-0000-0000-0000-000000000000</td><td style='border: 1px solid #dddddd'>active</td><td style='border: 1px solid #dddddd'>b3b32e48-f2d2-4f3b-a46f-6951071f395a</td><td style='border: 1px solid #dddddd'>subscription</td><td style='border: 1px solid #dddddd'>manual_labeling</td><td style='border: 1px solid #dddddd'>2024-09-02 05:35:01.358000+00:00</td><td style='border: 1px solid #dddddd'>b070ce8d-6214-46e0-8bfb-56adc69f31d0</td></tr><tr><td style='border: 1px solid #dddddd'>00000000-0000-0000-0000-000000000000</td><td style='border: 1px solid #dddddd'>active</td><td style='border: 1px solid #dddddd'>b3b32e48-f2d2-4f3b-a46f-6951071f395a</td><td style='border: 1px solid #dddddd'>subscription</td><td style='border: 1px solid #dddddd'>payload_logging</td><td style='border: 1px solid #dddddd'>2024-09-02 05:35:01.188000+00:00</td><td style='border: 1px solid #dddddd'>948f0f0f-e0ac-4c8b-a230-0cc5629de337</td></tr><tr><td style='border: 1px solid #dddddd'>00000000-0000-0000-0000-000000000000</td><td style='border: 1px solid #dddddd'>active</td><td style='border: 1px solid #dddddd'>c189ad5e-4301-4b2c-8a17-1a674d1e236f</td><td style='border: 1px solid #dddddd'>subscription</td><td style='border: 1px solid #dddddd'>payload_logging</td><td style='border: 1px solid #dddddd'>2024-08-21 08:11:39.165000+00:00</td><td style='border: 1px solid #dddddd'>aa7af68d-94fc-4d1f-836c-adec2405b068</td></tr>\n",
       "            </table>\n",
       "        </body>\n",
       "        </HTML>"
      ],
      "text/plain": [
       "<IPython.core.display.HTML object>"
      ]
     },
     "metadata": {},
     "output_type": "display_data"
    },
    {
     "name": "stdout",
     "output_type": "stream",
     "text": [
      "Note: First 10 records were displayed.\n"
     ]
    }
   ],
   "source": [
    "# List all Subscription Data Sets\n",
    "\n",
    "wos_client.data_sets.show()"
   ]
  },
  {
   "cell_type": "markdown",
   "metadata": {
    "id": "a4ee1c3f-5848-4753-bf56-1986dc7cbbc7"
   },
   "source": [
    "### 3.3 Score the model before Monitor Configurations\n",
    "\n",
    "Now that the WML service has been bound and the subscription has been created, we need to send a request to the model before we configure OpenScale. This allows OpenScale to create a payload log in the datamart with the correct schema, so it can capture data coming into and out of the model."
   ]
  },
  {
   "cell_type": "code",
   "execution_count": 32,
   "metadata": {
    "id": "c45f7cad-0b8e-4dce-929f-66dcf29bddca",
    "msg_id": "348b5086-fd25-4874-b54f-847f1fb2e523"
   },
   "outputs": [
    {
     "name": "stdout",
     "output_type": "stream",
     "text": [
      "Single record scoring result: \n",
      " fields: ['CheckingStatus', 'LoanDuration', 'CreditHistory', 'LoanPurpose', 'LoanAmount', 'ExistingSavings', 'EmploymentDuration', 'InstallmentPercent', 'Sex', 'OthersOnLoan', 'CurrentResidenceDuration', 'OwnsProperty', 'Age', 'InstallmentPlans', 'Housing', 'ExistingCreditsCount', 'Job', 'Dependents', 'Telephone', 'ForeignWorker', 'CheckingStatus_IX', 'CreditHistory_IX', 'LoanPurpose_IX', 'ExistingSavings_IX', 'EmploymentDuration_IX', 'Sex_IX', 'OthersOnLoan_IX', 'OwnsProperty_IX', 'InstallmentPlans_IX', 'Housing_IX', 'Job_IX', 'Telephone_IX', 'ForeignWorker_IX', 'label', 'features', 'rawPrediction', 'probability', 'prediction', 'predictedLabel'] \n",
      " values:  ['no_checking', 13, 'credits_paid_to_date', 'car_new', 1343, '100_to_500', '1_to_4', 2, 'female', 'none', 3, 'savings_insurance', 46, 'none', 'own', 2, 'skilled', 1, 'none', 'yes', 0.0, 1.0, 0.0, 1.0, 0.0, 1.0, 0.0, 0.0, 0.0, 0.0, 0.0, 0.0, 0.0, 0.0, [20, [1, 3, 5, 13, 14, 15, 16, 17, 18, 19], [1.0, 1.0, 1.0, 13.0, 1343.0, 2.0, 3.0, 46.0, 2.0, 1.0]], [13.028948708129635, 6.971051291870364], [0.6514474354064818, 0.34855256459351824], 0.0, 'No Risk']\n"
     ]
    }
   ],
   "source": [
    "fields = [\"CheckingStatus\",\"LoanDuration\",\"CreditHistory\",\"LoanPurpose\",\"LoanAmount\",\"ExistingSavings\",\"EmploymentDuration\",\"InstallmentPercent\",\"Sex\",\"OthersOnLoan\",\"CurrentResidenceDuration\",\"OwnsProperty\",\"Age\",\"InstallmentPlans\",\"Housing\",\"ExistingCreditsCount\",\"Job\",\"Dependents\",\"Telephone\",\"ForeignWorker\"]\n",
    "values = [\n",
    "  [\"no_checking\",13,\"credits_paid_to_date\",\"car_new\",1343,\"100_to_500\",\"1_to_4\",2,\"female\",\"none\",3,\"savings_insurance\",46,\"none\",\"own\",2,\"skilled\",1,\"none\",\"yes\"],\n",
    "  [\"no_checking\",24,\"prior_payments_delayed\",\"furniture\",4567,\"500_to_1000\",\"1_to_4\",4,\"male\",\"none\",4,\"savings_insurance\",36,\"none\",\"free\",2,\"management_self-employed\",1,\"none\",\"yes\"],\n",
    "  [\"0_to_200\",26,\"all_credits_paid_back\",\"car_new\",863,\"less_100\",\"less_1\",2,\"female\",\"co-applicant\",2,\"real_estate\",38,\"none\",\"own\",1,\"skilled\",1,\"none\",\"yes\"],\n",
    "  [\"0_to_200\",14,\"no_credits\",\"car_new\",2368,\"less_100\",\"1_to_4\",3,\"female\",\"none\",3,\"real_estate\",29,\"none\",\"own\",1,\"skilled\",1,\"none\",\"yes\"],\n",
    "  [\"0_to_200\",4,\"no_credits\",\"car_new\",250,\"less_100\",\"unemployed\",2,\"female\",\"none\",3,\"real_estate\",23,\"none\",\"rent\",1,\"management_self-employed\",1,\"none\",\"yes\"],\n",
    "  [\"no_checking\",17,\"credits_paid_to_date\",\"car_new\",832,\"100_to_500\",\"1_to_4\",2,\"male\",\"none\",2,\"real_estate\",42,\"none\",\"own\",1,\"skilled\",1,\"none\",\"yes\"],\n",
    "  [\"no_checking\",33,\"outstanding_credit\",\"appliances\",5696,\"unknown\",\"greater_7\",4,\"male\",\"co-applicant\",4,\"unknown\",54,\"none\",\"free\",2,\"skilled\",1,\"yes\",\"yes\"],\n",
    "  [\"0_to_200\",13,\"prior_payments_delayed\",\"retraining\",1375,\"100_to_500\",\"4_to_7\",3,\"male\",\"none\",3,\"real_estate\",37,\"none\",\"own\",2,\"management_self-employed\",1,\"none\",\"yes\"]\n",
    "]\n",
    "\n",
    "payload_scoring = {\"fields\": fields,\"values\": values}\n",
    "payload = {\n",
    "    wml_client.deployments.ScoringMetaNames.INPUT_DATA: [payload_scoring]\n",
    "}\n",
    "scoring_response = wml_client.deployments.score(deployment_uid, payload)\n",
    "\n",
    "print('Single record scoring result:', '\\n fields:', scoring_response['predictions'][0]['fields'], '\\n values: ', scoring_response['predictions'][0]['values'][0])"
   ]
  },
  {
   "cell_type": "code",
   "execution_count": 33,
   "metadata": {
    "id": "0a0738f4-00c6-43f2-83b8-9b5922e86f8d",
    "msg_id": "6545fbbf-6d6c-4f72-8a0e-3cf37b5bb98a"
   },
   "outputs": [
    {
     "name": "stdout",
     "output_type": "stream",
     "text": [
      "Number of records in the payload logging table: 8\n"
     ]
    }
   ],
   "source": [
    "# Check whether WML payload logging worked; else manually store payload records\n",
    "\n",
    "import uuid\n",
    "from ibm_watson_openscale.supporting_classes.payload_record import PayloadRecord\n",
    "time.sleep(5)\n",
    "pl_records_count = wos_client.data_sets.get_records_count(payload_data_set_id)\n",
    "print(\"Number of records in the payload logging table: {}\".format(pl_records_count))\n",
    "if pl_records_count == 0:\n",
    "    print(\"Payload logging did not happen, performing explicit payload logging.\")\n",
    "    wos_client.data_sets.store_records(data_set_id=payload_data_set_id, request_body=[PayloadRecord(\n",
    "                   scoring_id=str(uuid.uuid4()),\n",
    "                   request=payload_scoring,\n",
    "                   response={\"fields\": scoring_response['predictions'][0]['fields'], \"values\":scoring_response['predictions'][0]['values']},\n",
    "                   response_time=460\n",
    "               )])\n",
    "    time.sleep(5)\n",
    "    pl_records_count = wos_client.data_sets.get_records_count(payload_data_set_id)\n",
    "    print(\"Number of records in the payload logging table: {}\".format(pl_records_count))"
   ]
  },
  {
   "cell_type": "markdown",
   "metadata": {
    "id": "7fc7c9b5-53b5-43a0-9f79-046601dc65c2"
   },
   "source": [
    "# 4. Monitor Configurations <a name=\"monitor\"></a>"
   ]
  },
  {
   "cell_type": "markdown",
   "metadata": {
    "id": "f55bf10b-85c2-4509-a213-45f6349c6049"
   },
   "source": [
    "### 4.1 Quality Monitor"
   ]
  },
  {
   "cell_type": "markdown",
   "metadata": {
    "id": "acea4e6a-3bbe-4015-b876-e3c8f62f3241"
   },
   "source": [
    "The cell below waits ten seconds to allow the payload logging table to be set up before it begins enabling monitors. First, it turns on the quality (accuracy) monitor and sets an alert threshold of 80%.\n",
    "\n",
    "The second paramater supplied, `min_feedback_data_size`, specifies the minimum number of feedback records OpenScale needs before it calculates a new measurement and `max_rows_per_evaluation` specifies the maximum number of the records for which quality metrics can be evaluated. The quality monitor runs hourly, but the accuracy reading in the dashboard will not change until an additional 50 feedback records have been added, via the user interface, the Python client, or the supplied feedback logging endpoint."
   ]
  },
  {
   "cell_type": "code",
   "execution_count": 34,
   "metadata": {
    "id": "78a0a128-ed48-47cb-b9eb-9087f8527b37",
    "msg_id": "fd102c39-3daf-438d-a613-c31ff1aa0a4e"
   },
   "outputs": [
    {
     "name": "stdout",
     "output_type": "stream",
     "text": [
      "\n",
      "\n",
      "===================================================================================\n",
      "\n",
      " Waiting for end of monitor instance creation 721cf5fd-4fb9-45ac-b7b1-e134cc36d668 \n",
      "\n",
      "===================================================================================\n",
      "\n",
      "\n",
      "\n",
      "preparing\n",
      "active\n",
      "\n",
      "---------------------------------------\n",
      " Monitor instance successfully created \n",
      "---------------------------------------\n",
      "\n",
      "\n"
     ]
    }
   ],
   "source": [
    "import time\n",
    "\n",
    "time.sleep(10)\n",
    "max_records = None\n",
    "#Update the max_records value when you want to consider it during quality metrics evaluation\n",
    "#max_records = 80\n",
    "\n",
    "target = Target(\n",
    "    target_type=TargetTypes.SUBSCRIPTION,\n",
    "    target_id=subscription_id\n",
    ")\n",
    "\n",
    "parameters =  dict()\n",
    "parameters[\"min_feedback_data_size\"] = 50\n",
    "if max_records is not None:\n",
    "    parameters[\"max_rows_per_evaluation\"] = max_records\n",
    "\n",
    "thresholds = [\n",
    "    {\n",
    "        \"metric_id\": \"area_under_roc\",\n",
    "        \"type\": \"lower_limit\",\n",
    "        \"value\": 0.8\n",
    "    }\n",
    "]\n",
    "\n",
    "quality_monitor_details = wos_client.monitor_instances.create(\n",
    "    data_mart_id=DATA_MART_ID,\n",
    "    background_mode=False,\n",
    "    monitor_definition_id=wos_client.monitor_definitions.MONITORS.QUALITY.ID,\n",
    "    target=target,\n",
    "    parameters=parameters,\n",
    "    thresholds=thresholds\n",
    ").result"
   ]
  },
  {
   "cell_type": "markdown",
   "metadata": {
    "id": "4eb6106f-507d-4da4-9067-733264ae8a7d"
   },
   "source": [
    "### 4.2 Fairness Monitor"
   ]
  },
  {
   "cell_type": "markdown",
   "metadata": {
    "id": "4b1e8b9f-55f3-4ba6-98cc-c993dd56ca7c"
   },
   "source": [
    "The code below configures fairness monitoring for our model. It turns on monitoring for two features, `Sex` and `Age`. In each case, we must specify:\n",
    "  * Which model feature to monitor.\n",
    "  * One or more **majority** groups, which are values of that feature that we expect to receive a higher percentage of favorable outcomes.\n",
    "  * One or more **minority** groups, which are values of that feature that we expect to receive a higher percentage of unfavorable outcomes.\n",
    "  * The threshold at which we would like OpenScale to display an alert if the fairness measurement falls below (in this case, 95%).\n",
    "\n",
    "Additionally, we must specify which outcomes from the model are favourable outcomes, and which are unfavourable. We must also provide the number of records OpenScale will use to calculate the fairness score."
   ]
  },
  {
   "cell_type": "code",
   "execution_count": 35,
   "metadata": {
    "id": "3246422f-101a-4c6e-8743-e6d1f201c464",
    "msg_id": "7aab914e-d975-4bca-94c6-556b484f748d"
   },
   "outputs": [
    {
     "name": "stdout",
     "output_type": "stream",
     "text": [
      "\n",
      "\n",
      "===================================================================================\n",
      "\n",
      " Waiting for end of monitor instance creation 832c4cf9-b262-4526-9bea-56b22271fe77 \n",
      "\n",
      "===================================================================================\n",
      "\n",
      "\n",
      "\n",
      "active\n",
      "\n",
      "---------------------------------------\n",
      " Monitor instance successfully created \n",
      "---------------------------------------\n",
      "\n",
      "\n"
     ]
    },
    {
     "data": {
      "text/plain": [
       "'832c4cf9-b262-4526-9bea-56b22271fe77'"
      ]
     },
     "execution_count": 35,
     "metadata": {},
     "output_type": "execute_result"
    }
   ],
   "source": [
    "target = Target(\n",
    "    target_type=TargetTypes.SUBSCRIPTION,\n",
    "    target_id=subscription_id\n",
    ")\n",
    "\n",
    "parameters = {\n",
    "    \"features\": [\n",
    "        {\"feature\": \"Sex\",\n",
    "         \"majority\": ['male'],\n",
    "         \"minority\": ['female'],\n",
    "         \"threshold\": 0.95\n",
    "         },\n",
    "        {\"feature\": \"Age\",\n",
    "         \"majority\": [[26, 75]],\n",
    "         \"minority\": [[18, 25]],\n",
    "         \"threshold\": 0.95\n",
    "         }\n",
    "    ],\n",
    "    \"favourable_class\": [\"No Risk\"],\n",
    "    \"unfavourable_class\": [\"Risk\"],\n",
    "    \"min_records\": 50\n",
    "}\n",
    "\n",
    "fairness_monitor_details = wos_client.monitor_instances.create(\n",
    "    data_mart_id=DATA_MART_ID,\n",
    "    background_mode=False,\n",
    "    monitor_definition_id=wos_client.monitor_definitions.MONITORS.FAIRNESS.ID,\n",
    "    target=target,\n",
    "    parameters=parameters).result\n",
    "\n",
    "fairness_monitor_instance_id =fairness_monitor_details.metadata.id\n",
    "fairness_monitor_instance_id"
   ]
  },
  {
   "cell_type": "markdown",
   "metadata": {
    "id": "e5433d53-fdbb-4aa3-88a9-e37eec6a729a"
   },
   "source": [
    "### 4.3 Drift Monitor"
   ]
  },
  {
   "cell_type": "code",
   "execution_count": 36,
   "metadata": {
    "id": "c8c4f7a1-21fd-4cde-83cf-81c08e630942",
    "msg_id": "b0f6fa29-7b1c-4ad2-847d-3c649e773872"
   },
   "outputs": [
    {
     "name": "stdout",
     "output_type": "stream",
     "text": [
      "\n",
      "\n",
      "===================================================================================\n",
      "\n",
      " Waiting for end of monitor instance creation 96fd0556-48ff-49d7-9304-2de7d614b96d \n",
      "\n",
      "===================================================================================\n",
      "\n",
      "\n",
      "\n",
      "preparing...............\n",
      "active\n",
      "\n",
      "---------------------------------------\n",
      " Monitor instance successfully created \n",
      "---------------------------------------\n",
      "\n",
      "\n"
     ]
    },
    {
     "data": {
      "text/plain": [
       "'96fd0556-48ff-49d7-9304-2de7d614b96d'"
      ]
     },
     "execution_count": 36,
     "metadata": {},
     "output_type": "execute_result"
    }
   ],
   "source": [
    "target = Target(\n",
    "    target_type=TargetTypes.SUBSCRIPTION,\n",
    "    target_id=subscription_id\n",
    ")\n",
    "\n",
    "parameters = {\n",
    "    \"min_samples\": 50,\n",
    "    \"drift_threshold\": 0.1,\n",
    "    \"train_drift_model\": True,\n",
    "    \"enable_model_drift\": True,\n",
    "    \"enable_data_drift\": True\n",
    "}\n",
    "\n",
    "drift_monitor_details = wos_client.monitor_instances.create(\n",
    "    data_mart_id=DATA_MART_ID,\n",
    "    background_mode=False,\n",
    "    monitor_definition_id=wos_client.monitor_definitions.MONITORS.DRIFT.ID,\n",
    "    target=target,\n",
    "    parameters=parameters\n",
    ").result\n",
    "\n",
    "drift_monitor_instance_id = drift_monitor_details.metadata.id\n",
    "drift_monitor_instance_id"
   ]
  },
  {
   "cell_type": "markdown",
   "metadata": {
    "id": "41fe18c5-eadf-45be-a47a-ba111c9ca522"
   },
   "source": [
    "### 4.4 Explainability"
   ]
  },
  {
   "cell_type": "code",
   "execution_count": 37,
   "metadata": {
    "id": "166c4ed2-d5df-4229-94a8-982116b058e6",
    "msg_id": "00f3957b-6da9-4531-a4e3-3e46c040eb7a"
   },
   "outputs": [
    {
     "name": "stdout",
     "output_type": "stream",
     "text": [
      "\n",
      "\n",
      "===================================================================================\n",
      "\n",
      " Waiting for end of monitor instance creation e5cca546-b5a4-4ac3-b57d-2aad33aba3b6 \n",
      "\n",
      "===================================================================================\n",
      "\n",
      "\n",
      "\n",
      "active\n",
      "\n",
      "---------------------------------------\n",
      " Monitor instance successfully created \n",
      "---------------------------------------\n",
      "\n",
      "\n"
     ]
    }
   ],
   "source": [
    "target = Target(\n",
    "    target_type=TargetTypes.SUBSCRIPTION,\n",
    "    target_id=subscription_id\n",
    ")\n",
    "parameters = {\n",
    "    \"enabled\": True\n",
    "}\n",
    "explainability_details = wos_client.monitor_instances.create(\n",
    "    data_mart_id=DATA_MART_ID,\n",
    "    background_mode=False,\n",
    "    monitor_definition_id=wos_client.monitor_definitions.MONITORS.EXPLAINABILITY.ID,\n",
    "    target=target,\n",
    "    parameters=parameters\n",
    ").result\n",
    "\n",
    "explainability_monitor_id = explainability_details.metadata.id"
   ]
  },
  {
   "cell_type": "code",
   "execution_count": 38,
   "metadata": {
    "id": "50442029-d063-417d-913a-45bae68ab36f",
    "msg_id": "f4ac28bd-283c-4bd5-b8c3-299268b87b02"
   },
   "outputs": [
    {
     "name": "stdout",
     "output_type": "stream",
     "text": [
      "Running explanations on scoring IDs: ['MRM_c8826f59-dd83-4f7b-8853-f05390db349e-5-1']\n",
      "{\n",
      "  \"metadata\": {\n",
      "    \"explanation_task_ids\": [\n",
      "      \"48b376bf-366b-4c54-8172-916dc5883b32\"\n",
      "    ],\n",
      "    \"created_by\": \"1000331001\",\n",
      "    \"created_at\": \"2024-09-03T13:58:05.524195Z\"\n",
      "  }\n",
      "}\n"
     ]
    }
   ],
   "source": [
    "# Run Sample Explanation\n",
    "\n",
    "pl_records_resp = wos_client.data_sets.get_list_of_records(data_set_id=payload_data_set_id, limit=1, offset=0).result\n",
    "scoring_ids = [pl_records_resp[\"records\"][0][\"entity\"][\"values\"][\"scoring_id\"]]\n",
    "\n",
    "print(\"Running explanations on scoring IDs: {}\".format(scoring_ids))\n",
    "explanation_types = [\"lime\", \"contrastive\"]\n",
    "result = wos_client.monitor_instances.explanation_tasks(scoring_ids=scoring_ids, explanation_types=explanation_types, subscription_id=subscription_id).result\n",
    "\n",
    "print(result)"
   ]
  },
  {
   "cell_type": "markdown",
   "metadata": {
    "id": "853d614e-732f-4f1e-a4ad-aa9dca13c535"
   },
   "source": [
    "### 4.5 MRM Monitor"
   ]
  },
  {
   "cell_type": "code",
   "execution_count": 39,
   "metadata": {
    "id": "e401efb0-57f7-4faf-9c77-a72f47e5d231",
    "msg_id": "6ffc88ad-9da2-4889-830c-8166da25bc5e"
   },
   "outputs": [
    {
     "name": "stdout",
     "output_type": "stream",
     "text": [
      "\n",
      "\n",
      "===================================================================================\n",
      "\n",
      " Waiting for end of monitor instance creation c5b75aa5-f86d-4a52-b723-fdabd96bc331 \n",
      "\n",
      "===================================================================================\n",
      "\n",
      "\n",
      "\n",
      "active\n",
      "\n",
      "---------------------------------------\n",
      " Monitor instance successfully created \n",
      "---------------------------------------\n",
      "\n",
      "\n"
     ]
    },
    {
     "data": {
      "text/plain": [
       "'c5b75aa5-f86d-4a52-b723-fdabd96bc331'"
      ]
     },
     "execution_count": 39,
     "metadata": {},
     "output_type": "execute_result"
    }
   ],
   "source": [
    "# Configuring MRM\n",
    "\n",
    "target = Target(\n",
    "    target_type=TargetTypes.SUBSCRIPTION,\n",
    "    target_id=subscription_id\n",
    ")\n",
    "parameters = {\n",
    "    \"enabled\": True\n",
    "}\n",
    "mrm_details = wos_client.monitor_instances.create(\n",
    "    data_mart_id=DATA_MART_ID,\n",
    "    background_mode=False,\n",
    "    monitor_definition_id=\"mrm\",\n",
    "    target=target,\n",
    "    parameters=parameters\n",
    ").result\n",
    "\n",
    "MRM_MONITOR_INSTANCE_ID = mrm_details.metadata.id\n",
    "MRM_MONITOR_INSTANCE_ID"
   ]
  },
  {
   "cell_type": "code",
   "execution_count": 40,
   "metadata": {
    "id": "baa151826ff248bb8b9b02e92df03d03",
    "msg_id": "12e8b6f4-6d4a-493b-827a-f4c8dcbac91f"
   },
   "outputs": [
    {
     "data": {
      "text/html": [
       "<HTML>\n",
       "        <body>\n",
       "            <h3>Monitor definitions</h3>\n",
       "            <table style='border: 1px solid #dddddd; font-family: Courier'>\n",
       "                <th style='border: 1px solid #dddddd'>monitor id</th><th style='border: 1px solid #dddddd'>monitor name</th><th style='border: 1px solid #dddddd'>metrics names</th>\n",
       "                <tr><td style='border: 1px solid #dddddd'>custom_monitor_def_t5</td><td style='border: 1px solid #dddddd'>custom_monitor_def_t5</td><td style='border: 1px solid #dddddd'>['specificityt5m1', 'sensitivityt5m2', 'specificityt5m3', 'sensitivityt5m4', 'specificityt5m5', 'sensitivityt5m6', 'specificityt5m7', 'sensitivityt5m8', 'specificityt5m9', 'sensitivityt5m0']</td></tr><tr><td style='border: 1px solid #dddddd'>custom_monitor_def_t4</td><td style='border: 1px solid #dddddd'>custom_monitor_def_t4</td><td style='border: 1px solid #dddddd'>['specificityt4m1']</td></tr><tr><td style='border: 1px solid #dddddd'>custom_monitor_def_t3</td><td style='border: 1px solid #dddddd'>custom_monitor_def_t3</td><td style='border: 1px solid #dddddd'>['sensitivityt3m2', 'specificityt3m1']</td></tr><tr><td style='border: 1px solid #dddddd'>custom_monitor_def_t2</td><td style='border: 1px solid #dddddd'>custom_monitor_def_t2</td><td style='border: 1px solid #dddddd'>['sensitivityt2m2', 'specificityt2m1']</td></tr><tr><td style='border: 1px solid #dddddd'>custom_monitor_def_t1</td><td style='border: 1px solid #dddddd'>custom_monitor_def_t1</td><td style='border: 1px solid #dddddd'>['sensitivityt1m2', 'specificityt1m1']</td></tr><tr><td style='border: 1px solid #dddddd'>fairness</td><td style='border: 1px solid #dddddd'>Fairness</td><td style='border: 1px solid #dddddd'>['Disparate impact', 'Average odds difference', 'False discovery rate difference', 'Error rate difference', 'False negative rate difference', 'False omission rate difference', 'False positive rate difference', 'True positive rate difference', 'Average absolute odds difference', 'Statistical parity difference', 'Impact score']</td></tr><tr><td style='border: 1px solid #dddddd'>model_health</td><td style='border: 1px solid #dddddd'>Model health</td><td style='border: 1px solid #dddddd'>['Total scoring requests', 'Total records', 'Average records', 'Median records', 'Maximum records', 'Minimum records', 'Total payload size', 'Average payload size', 'Median payload size', 'Minimum payload size', 'Maximum payload size', 'Average API throughput', 'Minimum API throughput', 'Maximum API throughput', 'Median API throughput', 'Average API latency', 'Minimum API latency', 'Maximum API latency', 'Median API latency', 'Average record throughput', 'Minimum record throughput', 'Maximum record throughput', 'Median record throughput', 'Average record latency', 'Minimum record latency', 'Maximum record latency', 'Median record latency', 'Users', 'Errors', 'Data errors', 'System errors', 'Total input token count', 'Average input token count', 'Median input token count', 'Maximum input token count', 'Minimum input token count', 'Total output token count', 'Average output token count', 'Median output token count', 'Maximum output token count', 'Minimum output token count']</td></tr><tr><td style='border: 1px solid #dddddd'>performance</td><td style='border: 1px solid #dddddd'>Performance</td><td style='border: 1px solid #dddddd'>['Number of records']</td></tr><tr><td style='border: 1px solid #dddddd'>data_health</td><td style='border: 1px solid #dddddd'>Data Health</td><td style='border: 1px solid #dddddd'>['Absence Count', 'Empty Strings', 'Data Type Mismatch', 'Class Confusion', 'Duplicate Rows', 'Unique Columns']</td></tr><tr><td style='border: 1px solid #dddddd'>explainability</td><td style='border: 1px solid #dddddd'>Explainability</td><td style='border: 1px solid #dddddd'>['Global explanation stability']</td></tr>\n",
       "            </table>\n",
       "        </body>\n",
       "        </HTML>"
      ],
      "text/plain": [
       "<IPython.core.display.HTML object>"
      ]
     },
     "metadata": {},
     "output_type": "display_data"
    },
    {
     "name": "stdout",
     "output_type": "stream",
     "text": [
      "Note: First 10 records were displayed.\n"
     ]
    }
   ],
   "source": [
    "wos_client.monitor_definitions.show()"
   ]
  },
  {
   "cell_type": "markdown",
   "metadata": {
    "id": "ef5d09b9-37b0-4624-b125-3e69ec0ae55e"
   },
   "source": [
    "## 5. MRM Evaluation <a name=\"mrm\"></a>"
   ]
  },
  {
   "cell_type": "code",
   "execution_count": 41,
   "metadata": {
    "id": "760284c9-ea56-4154-8e2d-bd52a79671bc",
    "msg_id": "3f8e6cb3-6579-429d-9c20-68f70f840e9c"
   },
   "outputs": [
    {
     "name": "stdout",
     "output_type": "stream",
     "text": [
      "{'evaluation_id': '2a24bf79-1936-4bc0-8fd7-02b9b42baaaf', 'evaluation_date': '2024-09-03T13:58:44.284000Z', 'publish_metrics': 'false', 'evaluation_tests': ['drift', 'fairness', 'quality', 'explainability', 'drift_v2'], 'evaluation_start_time': '2024-09-03T13:58:47.294869Z', 'status': {'state': 'UPLOAD_IN_PROGRESS'}}\n"
     ]
    }
   ],
   "source": [
    "import time\n",
    "import requests\n",
    "import json\n",
    "\n",
    "time.sleep(20)\n",
    "\n",
    "payload = json.dumps({\n",
    "  \"type\": \"db2\",\n",
    "  \"connection\": DB2_CREDENTIALS,\n",
    "  \"location\": {\n",
    "    \"schema_name\": EVALUATION_DATA_SCHEMA_NAME,\n",
    "    \"table_name\": EVALUATION_DATA_TABLE_NAME\n",
    "    }\n",
    "})\n",
    "\n",
    "file_name = \"test_data.json\"\n",
    "\n",
    "with open(file_name, 'w') as file:\n",
    "    file.write(payload)\n",
    "\n",
    "response = wos_client.monitor_instances.mrm.evaluate_risk(\n",
    "                monitor_instance_id = MRM_MONITOR_INSTANCE_ID,\n",
    "                test_data_set_name = TEST_DATA_SET_NAME,\n",
    "                test_data_path = file_name,\n",
    "                content_type = \"application/json\")\n",
    "\n",
    "print(response.result._to_dict())"
   ]
  },
  {
   "cell_type": "markdown",
   "metadata": {
    "id": "15a1194b-845b-491f-855d-94fe95c2192d"
   },
   "source": [
    "### 5.1 Checking MRM evaluation progress"
   ]
  },
  {
   "cell_type": "code",
   "execution_count": 42,
   "metadata": {
    "id": "0ba8672d-f949-42b4-b81c-9d6601f39c1e",
    "msg_id": "769801b1-e4ee-4903-881b-a5cf9e7deec9"
   },
   "outputs": [
    {
     "name": "stdout",
     "output_type": "stream",
     "text": [
      "UPLOAD_IN_PROGRESS\n",
      "EVALUATION_IN_PROGRESS\n",
      "EVALUATION_IN_PROGRESS\n",
      "EVALUATION_COMPLETED\n"
     ]
    }
   ],
   "source": [
    "import time\n",
    "\n",
    "def get_risk_evaluations():\n",
    "    \n",
    "    response = wos_client.monitor_instances.mrm.get_risk_evaluation(\n",
    "                    monitor_instance_id = MRM_MONITOR_INSTANCE_ID).result\n",
    "    \n",
    "    return response._to_dict()\n",
    "\n",
    "risk_evaluations_resp = get_risk_evaluations()\n",
    "\n",
    "while risk_evaluations_resp[\"entity\"][\"status\"][\"state\"] == \"UPLOAD_IN_PROGRESS\":\n",
    "    print(\"UPLOAD_IN_PROGRESS\")\n",
    "    time.sleep(50)\n",
    "    risk_evaluations_resp = get_risk_evaluations()\n",
    "\n",
    "while risk_evaluations_resp[\"entity\"][\"status\"][\"state\"] not in [\"finished\", \"error\"]:\n",
    "    print(\"EVALUATION_IN_PROGRESS\")\n",
    "    time.sleep(50)\n",
    "    risk_evaluations_resp = get_risk_evaluations()\n",
    "\n",
    "mrm_evaluation_state = risk_evaluations_resp[\"entity\"][\"status\"][\"state\"]\n",
    "if mrm_evaluation_state == \"finished\":\n",
    "    print(\"EVALUATION_COMPLETED\")\n",
    "else:\n",
    "    print(\"MRM evaluation failed with state {}, error {}\".format(mrm_evaluation_state, risk_evaluations_resp.json()[\"entity\"][\"status\"]))"
   ]
  },
  {
   "cell_type": "markdown",
   "metadata": {
    "id": "5b4cac67-f5c0-44f6-a64c-d1f27e06fb0a"
   },
   "source": [
    "### 5.2 Get Published Fact"
   ]
  },
  {
   "cell_type": "code",
   "execution_count": 43,
   "metadata": {
    "id": "077fd4b3-ca47-42f4-afcb-0c318d56ca45",
    "msg_id": "a60ef698-f465-4ecc-a210-b649fb3c932a"
   },
   "outputs": [
    {
     "name": "stdout",
     "output_type": "stream",
     "text": [
      "{\n",
      "    \"name\": \"GCR Model\",\n",
      "    \"description\": \"\",\n",
      "    \"asset_type\": \"wml_model\",\n",
      "    \"created_at\": \"2024-09-03T10:13:57Z\",\n",
      "    \"owner_id\": \"1000331001\",\n",
      "    \"asset_id\": \"03655de9-b000-4f6a-b54b-2f1ef29a8598\",\n",
      "    \"creator_id\": \"1000331001\",\n",
      "    \"asset_details\": {\n",
      "        \"id\": \"03655de9-b000-4f6a-b54b-2f1ef29a8598\",\n",
      "        \"name\": \"GCR Model\",\n",
      "        \"description\": \"\",\n",
      "        \"created\": \"2024-09-03T10:13:57Z\",\n",
      "        \"created_by\": \"1000331001\",\n",
      "        \"last_modified\": \"2024-09-03T14:00:56Z\",\n",
      "        \"asset_type\": \"wml_model\"\n",
      "    },\n",
      "    \"space_details\": {\n",
      "        \"space_id\": \"be4c13b3-80fe-483c-a33b-68ddda21ae3e\",\n",
      "        \"phase_name\": \"Undefined\",\n",
      "        \"name\": \"Venktesh_preProd\",\n",
      "        \"description\": \"\",\n",
      "        \"space_type\": \"pre-production\",\n",
      "        \"created_by\": \"1000331001\",\n",
      "        \"created_at\": \"2024-09-03T05:18:58.922Z\"\n",
      "    },\n",
      "    \"warning_message_details\": {\n",
      "        \"display_usecase_warning\": false\n",
      "    },\n",
      "    \"model_information\": {\n",
      "        \"input_type\": \"structured\",\n",
      "        \"algorithm\": \"\",\n",
      "        \"prediction_type\": \"binary\",\n",
      "        \"software_spec\": \"spark-mllib_3.3\",\n",
      "        \"software_spec_id\": \"d11f2434-4fc7-58b7-8a62-755da64fdaf8\",\n",
      "        \"model_description\": \"\",\n",
      "        \"asset_type\": \"wml_model\",\n",
      "        \"model_type\": \"mllib_3.3\",\n",
      "        \"label_column\": \"Risk\",\n",
      "        \"model_id\": \"03655de9-b000-4f6a-b54b-2f1ef29a8598\",\n",
      "        \"model_name\": \"GCR Model\",\n",
      "        \"last_modified\": \"2024-09-03T14:00:56Z\",\n",
      "        \"created\": \"2024-09-03T10:13:57Z\",\n",
      "        \"created_by\": \"1000331001\"\n",
      "    },\n",
      "    \"model_identity_information\": {\n",
      "        \"model_identity_key\": \"41b554cf-ee8e-45f1-9012-0092b63ac6f8\"\n",
      "    },\n",
      "    \"training_information\": {\n",
      "        \"training_data_references\": [\n",
      "            {\n",
      "                \"training_data\": \"\",\n",
      "                \"training_data_href\": \"\",\n",
      "                \"source_type\": \"\",\n",
      "                \"source\": \"\",\n",
      "                \"source_href\": \"\",\n",
      "                \"source_path\": \"\",\n",
      "                \"training_data_exists\": true,\n",
      "                \"source_exists\": true,\n",
      "                \"type\": \"External data asset (File System)\",\n",
      "                \"id\": \"1\"\n",
      "            }\n",
      "        ],\n",
      "        \"hyper_parameters\": \"\",\n",
      "        \"features\": 20,\n",
      "        \"hybrid_pipeline\": []\n",
      "    },\n",
      "    \"deployment_details\": {\n",
      "        \"id\": \"a781b922-0a05-4523-b355-bec0377f2646\",\n",
      "        \"openscale_details\": {\n",
      "            \"href\": \"https://cpd-cpd-instance.apps.wxg416nfs2822.cp.fyre.ibm.com/aiopenscale/insights/126b84d3-3b9d-4ef8-8a96-201ba9606ee0\",\n",
      "            \"service_instance_id\": \"00000000-0000-0000-0000-000000000000\",\n",
      "            \"subscription_id\": \"126b84d3-3b9d-4ef8-8a96-201ba9606ee0\",\n",
      "            \"service_provider\": {\n",
      "                \"id\": \"bd6a7cf2-0083-41e9-b6de-e6375a0aa45b\",\n",
      "                \"type\": \"watson_machine_learning\",\n",
      "                \"name\": \"Venktesh_ml\",\n",
      "                \"environment_type\": \"pre_production\"\n",
      "            },\n",
      "            \"evaluation_details\": {\n",
      "                \"evaluated_by\": \"1000331001\",\n",
      "                \"evaluation_date\": \"2024-09-03T13:59:20.694000Z\",\n",
      "                \"evaluation_id\": \"04272659-aebb-48ef-b0d6-d7297f9e989c\",\n",
      "                \"asset\": {\n",
      "                    \"name\": \"TESTING_DATA\",\n",
      "                    \"type\": \"DB2\"\n",
      "                }\n",
      "            }\n",
      "        },\n",
      "        \"fairness\": {\n",
      "            \"features\": [\n",
      "                {\n",
      "                    \"name\": \"Sex\",\n",
      "                    \"metrics\": {\n",
      "                        \"fairness_score\": {\n",
      "                            \"individual_scores\": [\n",
      "                                {\n",
      "                                    \"group_name\": \"female\",\n",
      "                                    \"value\": 0.97368\n",
      "                                }\n",
      "                            ],\n",
      "                            \"name\": \"Fairness value\",\n",
      "                            \"value\": 0.97368,\n",
      "                            \"lower_limit\": 0.8,\n",
      "                            \"breach_status\": \"GREEN\",\n",
      "                            \"href\": \"https://cpd-cpd-instance.apps.wxg416nfs2822.cp.fyre.ibm.com/aiopenscale/insights/126b84d3-3b9d-4ef8-8a96-201ba9606ee0/fairness/Sex/2024-09-03T13:59:20.694000Z/8c270666-419d-421b-941f-6b382654f8e7/metric/disparate_impact\"\n",
      "                        }\n",
      "                    },\n",
      "                    \"monitored_group\": [\n",
      "                        \"female\"\n",
      "                    ],\n",
      "                    \"reference_group\": [\n",
      "                        \"male\"\n",
      "                    ],\n",
      "                    \"individual_scores\": [\n",
      "                        {\n",
      "                            \"group_name\": \"female\",\n",
      "                            \"value\": 0.97368\n",
      "                        }\n",
      "                    ],\n",
      "                    \"href\": \"https://cpd-cpd-instance.apps.wxg416nfs2822.cp.fyre.ibm.com/aiopenscale/insights/126b84d3-3b9d-4ef8-8a96-201ba9606ee0/fairness/Sex/2024-09-03T13:59:20.694000Z/8c270666-419d-421b-941f-6b382654f8e7/metric/disparate_impact\",\n",
      "                    \"summary\": {\n",
      "                        \"score\": 0.97368,\n",
      "                        \"breach_status\": \"GREEN\",\n",
      "                        \"name\": \"Fairness value\",\n",
      "                        \"href\": \"https://cpd-cpd-instance.apps.wxg416nfs2822.cp.fyre.ibm.com/aiopenscale/insights/126b84d3-3b9d-4ef8-8a96-201ba9606ee0/fairness/Sex/2024-09-03T13:59:20.694000Z/8c270666-419d-421b-941f-6b382654f8e7/metric/disparate_impact\"\n",
      "                    }\n",
      "                },\n",
      "                {\n",
      "                    \"name\": \"Age\",\n",
      "                    \"metrics\": {\n",
      "                        \"fairness_score\": {\n",
      "                            \"individual_scores\": [\n",
      "                                {\n",
      "                                    \"group_name\": [\n",
      "                                        18,\n",
      "                                        25\n",
      "                                    ],\n",
      "                                    \"value\": 1.1081100000000002\n",
      "                                }\n",
      "                            ],\n",
      "                            \"name\": \"Fairness value\",\n",
      "                            \"value\": 1.1081100000000002,\n",
      "                            \"lower_limit\": 0.8,\n",
      "                            \"breach_status\": \"GREEN\",\n",
      "                            \"href\": \"https://cpd-cpd-instance.apps.wxg416nfs2822.cp.fyre.ibm.com/aiopenscale/insights/126b84d3-3b9d-4ef8-8a96-201ba9606ee0/fairness/Age/2024-09-03T13:59:20.694000Z/8c270666-419d-421b-941f-6b382654f8e7/metric/disparate_impact\"\n",
      "                        }\n",
      "                    },\n",
      "                    \"monitored_group\": [\n",
      "                        [\n",
      "                            18,\n",
      "                            25\n",
      "                        ]\n",
      "                    ],\n",
      "                    \"reference_group\": [\n",
      "                        [\n",
      "                            26,\n",
      "                            75\n",
      "                        ]\n",
      "                    ],\n",
      "                    \"individual_scores\": [\n",
      "                        {\n",
      "                            \"group_name\": [\n",
      "                                18,\n",
      "                                25\n",
      "                            ],\n",
      "                            \"value\": 1.1081100000000002\n",
      "                        }\n",
      "                    ],\n",
      "                    \"href\": \"https://cpd-cpd-instance.apps.wxg416nfs2822.cp.fyre.ibm.com/aiopenscale/insights/126b84d3-3b9d-4ef8-8a96-201ba9606ee0/fairness/Age/2024-09-03T13:59:20.694000Z/8c270666-419d-421b-941f-6b382654f8e7/metric/disparate_impact\",\n",
      "                    \"summary\": {\n",
      "                        \"score\": 1.1081100000000002,\n",
      "                        \"breach_status\": \"GREEN\",\n",
      "                        \"name\": \"Fairness value\",\n",
      "                        \"href\": \"https://cpd-cpd-instance.apps.wxg416nfs2822.cp.fyre.ibm.com/aiopenscale/insights/126b84d3-3b9d-4ef8-8a96-201ba9606ee0/fairness/Age/2024-09-03T13:59:20.694000Z/8c270666-419d-421b-941f-6b382654f8e7/metric/disparate_impact\"\n",
      "                    }\n",
      "                }\n",
      "            ],\n",
      "            \"summary\": {\n",
      "                \"score\": 0.97368,\n",
      "                \"breach_status\": \"GREEN\"\n",
      "            },\n",
      "            \"records_evaluated\": 50,\n",
      "            \"type\": \"system\",\n",
      "            \"evaluation_timestamp\": \"2024-09-03T13:59:31.838020Z\",\n",
      "            \"evaluation_details\": {\n",
      "                \"evaluated_by\": \"1000331001\",\n",
      "                \"evaluation_date\": \"2024-09-03T13:59:20.694000Z\",\n",
      "                \"evaluation_id\": \"04272659-aebb-48ef-b0d6-d7297f9e989c\",\n",
      "                \"asset\": {\n",
      "                    \"name\": \"TESTING_DATA\",\n",
      "                    \"type\": \"DB2\"\n",
      "                }\n",
      "            }\n",
      "        },\n",
      "        \"drift\": {\n",
      "            \"metrics\": {\n",
      "                \"data_drift_magnitude\": {\n",
      "                    \"name\": \"Drop in data consistency\",\n",
      "                    \"value\": 0.0554,\n",
      "                    \"upper_limit\": 0.1,\n",
      "                    \"breach_status\": \"GREEN\",\n",
      "                    \"href\": \"https://cpd-cpd-instance.apps.wxg416nfs2822.cp.fyre.ibm.com/aiopenscale/insights/126b84d3-3b9d-4ef8-8a96-201ba9606ee0/drift/data_drift_magnitude/cf789c08-222c-475d-bcce-176ebbd2ecc6/2024-09-03T13:59:20.694000Z\"\n",
      "                },\n",
      "                \"drift_magnitude\": {\n",
      "                    \"name\": \"Drop in accuracy\",\n",
      "                    \"value\": 0,\n",
      "                    \"upper_limit\": 0.1,\n",
      "                    \"breach_status\": \"GREEN\",\n",
      "                    \"href\": \"https://cpd-cpd-instance.apps.wxg416nfs2822.cp.fyre.ibm.com/aiopenscale/insights/126b84d3-3b9d-4ef8-8a96-201ba9606ee0/drift/drift_magnitude/cf789c08-222c-475d-bcce-176ebbd2ecc6/2024-09-03T13:59:20.694000Z\"\n",
      "                },\n",
      "                \"predicted_accuracy\": {\n",
      "                    \"value\": 0.8016,\n",
      "                    \"name\": \"Predicted Accuracy\"\n",
      "                },\n",
      "                \"base_accuracy\": {\n",
      "                    \"value\": 0.799,\n",
      "                    \"name\": \"Base Accuracy\"\n",
      "                }\n",
      "            },\n",
      "            \"summary\": {\n",
      "                \"score\": 0.0554,\n",
      "                \"breach_status\": \"GREEN\",\n",
      "                \"name\": \"Drop in data consistency\",\n",
      "                \"href\": \"https://cpd-cpd-instance.apps.wxg416nfs2822.cp.fyre.ibm.com/aiopenscale/insights/126b84d3-3b9d-4ef8-8a96-201ba9606ee0/drift/data_drift_magnitude/cf789c08-222c-475d-bcce-176ebbd2ecc6/2024-09-03T13:59:20.694000Z\"\n",
      "            },\n",
      "            \"records_evaluated\": 5000,\n",
      "            \"href\": \"https://cpd-cpd-instance.apps.wxg416nfs2822.cp.fyre.ibm.com/aiopenscale/insights/126b84d3-3b9d-4ef8-8a96-201ba9606ee0/drift/data_drift_magnitude/cf789c08-222c-475d-bcce-176ebbd2ecc6/2024-09-03T13:59:20.694000Z\",\n",
      "            \"type\": \"system\",\n",
      "            \"evaluation_timestamp\": \"2024-09-03T13:59:24.765012Z\",\n",
      "            \"evaluation_details\": {\n",
      "                \"evaluated_by\": \"1000331001\",\n",
      "                \"evaluation_date\": \"2024-09-03T13:59:20.694000Z\",\n",
      "                \"evaluation_id\": \"04272659-aebb-48ef-b0d6-d7297f9e989c\",\n",
      "                \"asset\": {\n",
      "                    \"name\": \"TESTING_DATA\",\n",
      "                    \"type\": \"DB2\"\n",
      "                }\n",
      "            }\n",
      "        },\n",
      "        \"quality\": {\n",
      "            \"metrics\": {\n",
      "                \"true_positive_rate\": {\n",
      "                    \"name\": \"True positive rate (TPR)\",\n",
      "                    \"value\": 0.555688622754491,\n",
      "                    \"breach_status\": \"GREEN\",\n",
      "                    \"href\": \"https://cpd-cpd-instance.apps.wxg416nfs2822.cp.fyre.ibm.com/aiopenscale/insights/126b84d3-3b9d-4ef8-8a96-201ba9606ee0/quality/true_positive_rate/fb7d81cf-ab5e-42fa-9ffd-01504a4ac8c7\"\n",
      "                },\n",
      "                \"area_under_roc\": {\n",
      "                    \"name\": \"Area under roc\",\n",
      "                    \"value\": 0.740306773839708,\n",
      "                    \"lower_limit\": 0.8,\n",
      "                    \"breach_status\": \"RED\",\n",
      "                    \"href\": \"https://cpd-cpd-instance.apps.wxg416nfs2822.cp.fyre.ibm.com/aiopenscale/insights/126b84d3-3b9d-4ef8-8a96-201ba9606ee0/quality/area_under_roc/fb7d81cf-ab5e-42fa-9ffd-01504a4ac8c7\"\n",
      "                },\n",
      "                \"precision\": {\n",
      "                    \"name\": \"Precision\",\n",
      "                    \"value\": 0.7877758913412564,\n",
      "                    \"breach_status\": \"GREEN\",\n",
      "                    \"href\": \"https://cpd-cpd-instance.apps.wxg416nfs2822.cp.fyre.ibm.com/aiopenscale/insights/126b84d3-3b9d-4ef8-8a96-201ba9606ee0/quality/precision/fb7d81cf-ab5e-42fa-9ffd-01504a4ac8c7\"\n",
      "                },\n",
      "                \"f1_measure\": {\n",
      "                    \"name\": \"F1-measure\",\n",
      "                    \"value\": 0.651685393258427,\n",
      "                    \"breach_status\": \"GREEN\",\n",
      "                    \"href\": \"https://cpd-cpd-instance.apps.wxg416nfs2822.cp.fyre.ibm.com/aiopenscale/insights/126b84d3-3b9d-4ef8-8a96-201ba9606ee0/quality/f1_measure/fb7d81cf-ab5e-42fa-9ffd-01504a4ac8c7\"\n",
      "                },\n",
      "                \"accuracy\": {\n",
      "                    \"name\": \"Accuracy\",\n",
      "                    \"value\": 0.8016,\n",
      "                    \"breach_status\": \"GREEN\",\n",
      "                    \"href\": \"https://cpd-cpd-instance.apps.wxg416nfs2822.cp.fyre.ibm.com/aiopenscale/insights/126b84d3-3b9d-4ef8-8a96-201ba9606ee0/quality/accuracy/fb7d81cf-ab5e-42fa-9ffd-01504a4ac8c7\"\n",
      "                },\n",
      "                \"log_loss\": {\n",
      "                    \"name\": \"Logarithmic loss\",\n",
      "                    \"value\": 0.44245723349428984,\n",
      "                    \"breach_status\": \"GREEN\",\n",
      "                    \"href\": \"https://cpd-cpd-instance.apps.wxg416nfs2822.cp.fyre.ibm.com/aiopenscale/insights/126b84d3-3b9d-4ef8-8a96-201ba9606ee0/quality/log_loss/fb7d81cf-ab5e-42fa-9ffd-01504a4ac8c7\"\n",
      "                },\n",
      "                \"false_positive_rate\": {\n",
      "                    \"name\": \"False positive rate (FPR)\",\n",
      "                    \"value\": 0.07507507507507508,\n",
      "                    \"breach_status\": \"GREEN\",\n",
      "                    \"href\": \"https://cpd-cpd-instance.apps.wxg416nfs2822.cp.fyre.ibm.com/aiopenscale/insights/126b84d3-3b9d-4ef8-8a96-201ba9606ee0/quality/false_positive_rate/fb7d81cf-ab5e-42fa-9ffd-01504a4ac8c7\"\n",
      "                },\n",
      "                \"area_under_pr\": {\n",
      "                    \"name\": \"Area under pr\",\n",
      "                    \"value\": 0.6869669957199354,\n",
      "                    \"breach_status\": \"GREEN\",\n",
      "                    \"href\": \"https://cpd-cpd-instance.apps.wxg416nfs2822.cp.fyre.ibm.com/aiopenscale/insights/126b84d3-3b9d-4ef8-8a96-201ba9606ee0/quality/area_under_pr/fb7d81cf-ab5e-42fa-9ffd-01504a4ac8c7\"\n",
      "                },\n",
      "                \"recall\": {\n",
      "                    \"name\": \"Recall\",\n",
      "                    \"value\": 0.555688622754491,\n",
      "                    \"breach_status\": \"GREEN\",\n",
      "                    \"href\": \"https://cpd-cpd-instance.apps.wxg416nfs2822.cp.fyre.ibm.com/aiopenscale/insights/126b84d3-3b9d-4ef8-8a96-201ba9606ee0/quality/recall/fb7d81cf-ab5e-42fa-9ffd-01504a4ac8c7\"\n",
      "                },\n",
      "                \"label_skew\": {\n",
      "                    \"name\": \"Label skew\",\n",
      "                    \"value\": 0.7039271819935705,\n",
      "                    \"breach_status\": \"GREEN\",\n",
      "                    \"href\": \"https://cpd-cpd-instance.apps.wxg416nfs2822.cp.fyre.ibm.com/aiopenscale/insights/126b84d3-3b9d-4ef8-8a96-201ba9606ee0/quality/label_skew/fb7d81cf-ab5e-42fa-9ffd-01504a4ac8c7\"\n",
      "                },\n",
      "                \"matthews_correlation_coefficient\": {\n",
      "                    \"name\": \"Matthews correlation coefficient\",\n",
      "                    \"value\": 0.5341440246553119,\n",
      "                    \"breach_status\": \"GREEN\",\n",
      "                    \"href\": \"https://cpd-cpd-instance.apps.wxg416nfs2822.cp.fyre.ibm.com/aiopenscale/insights/126b84d3-3b9d-4ef8-8a96-201ba9606ee0/quality/matthews_correlation_coefficient/fb7d81cf-ab5e-42fa-9ffd-01504a4ac8c7\"\n",
      "                },\n",
      "                \"brier_score\": {\n",
      "                    \"name\": \"Brier score\",\n",
      "                    \"value\": 0.499665466458507,\n",
      "                    \"breach_status\": \"GREEN\",\n",
      "                    \"href\": \"https://cpd-cpd-instance.apps.wxg416nfs2822.cp.fyre.ibm.com/aiopenscale/insights/126b84d3-3b9d-4ef8-8a96-201ba9606ee0/quality/brier_score/fb7d81cf-ab5e-42fa-9ffd-01504a4ac8c7\"\n",
      "                },\n",
      "                \"gini_coefficient\": {\n",
      "                    \"name\": \"Gini coefficient\",\n",
      "                    \"value\": 0.480613547679416,\n",
      "                    \"breach_status\": \"GREEN\",\n",
      "                    \"href\": \"https://cpd-cpd-instance.apps.wxg416nfs2822.cp.fyre.ibm.com/aiopenscale/insights/126b84d3-3b9d-4ef8-8a96-201ba9606ee0/quality/gini_coefficient/fb7d81cf-ab5e-42fa-9ffd-01504a4ac8c7\"\n",
      "                }\n",
      "            },\n",
      "            \"summary\": {\n",
      "                \"score\": 0.740306773839708,\n",
      "                \"breach_status\": \"RED\",\n",
      "                \"name\": \"Area under roc\",\n",
      "                \"href\": \"https://cpd-cpd-instance.apps.wxg416nfs2822.cp.fyre.ibm.com/aiopenscale/insights/126b84d3-3b9d-4ef8-8a96-201ba9606ee0/quality/area_under_roc/fb7d81cf-ab5e-42fa-9ffd-01504a4ac8c7\"\n",
      "            },\n",
      "            \"records_evaluated\": 10000,\n",
      "            \"href\": \"https://cpd-cpd-instance.apps.wxg416nfs2822.cp.fyre.ibm.com/aiopenscale/insights/126b84d3-3b9d-4ef8-8a96-201ba9606ee0/quality/area_under_roc/fb7d81cf-ab5e-42fa-9ffd-01504a4ac8c7\",\n",
      "            \"type\": \"system\",\n",
      "            \"evaluation_timestamp\": \"2024-09-03T13:59:24.447Z\",\n",
      "            \"evaluation_details\": {\n",
      "                \"evaluated_by\": \"1000331001\",\n",
      "                \"evaluation_date\": \"2024-09-03T13:59:20.694000Z\",\n",
      "                \"evaluation_id\": \"04272659-aebb-48ef-b0d6-d7297f9e989c\",\n",
      "                \"asset\": {\n",
      "                    \"name\": \"TESTING_DATA\",\n",
      "                    \"type\": \"DB2\"\n",
      "                }\n",
      "            }\n",
      "        },\n",
      "        \"evaluation_details\": {\n",
      "            \"evaluated_by\": \"1000331001\",\n",
      "            \"evaluation_date\": \"2024-09-03T13:59:20.694000Z\",\n",
      "            \"evaluation_id\": \"04272659-aebb-48ef-b0d6-d7297f9e989c\",\n",
      "            \"asset\": {\n",
      "                \"name\": \"TESTING_DATA\",\n",
      "                \"type\": \"Db2\"\n",
      "            },\n",
      "            \"openscale_instance_href\": \"https://cpd-cpd-instance.apps.wxg416nfs2822.cp.fyre.ibm.com/aiopenscale/insights/126b84d3-3b9d-4ef8-8a96-201ba9606ee0\"\n",
      "        },\n",
      "        \"data_sources\": [\n",
      "            {\n",
      "                \"type\": \"feedback\",\n",
      "                \"storage_type\": \"db2\",\n",
      "                \"is_internal_database\": false,\n",
      "                \"host\": \"9.46.198.205\",\n",
      "                \"port\": 50000,\n",
      "                \"database_name\": \"SAMPLE\",\n",
      "                \"schema_name\": \"AIOSFASTPATHICP-00000000-0000-0000-0000-000000000000\",\n",
      "                \"table_name\": \"Feedback_126b84d3-3b9d-4ef8-8a96-201ba9606ee0\"\n",
      "            },\n",
      "            {\n",
      "                \"type\": \"payload_logging\",\n",
      "                \"storage_type\": \"db2\",\n",
      "                \"is_internal_database\": false,\n",
      "                \"host\": \"9.46.198.205\",\n",
      "                \"port\": 50000,\n",
      "                \"database_name\": \"SAMPLE\",\n",
      "                \"schema_name\": \"AIOSFASTPATHICP-00000000-0000-0000-0000-000000000000\",\n",
      "                \"table_name\": \"Payload_126b84d3-3b9d-4ef8-8a96-201ba9606ee0\"\n",
      "            }\n",
      "        ],\n",
      "        \"scoring_urls\": [\n",
      "            \"https://cpd-cpd-instance.apps.wxg416nfs2822.cp.fyre.ibm.com/ml/v4/deployments/a781b922-0a05-4523-b355-bec0377f2646/predictions\"\n",
      "        ],\n",
      "        \"created_on\": \"2024-09-03T10:14:18.306Z\",\n",
      "        \"last_modified\": \"2024-09-03T10:14:18.306Z\",\n",
      "        \"last_modified_by\": \"1000331001\",\n",
      "        \"deployment_tags\": [],\n",
      "        \"name\": \"GCR Model Deployment\",\n",
      "        \"description\": \"\",\n",
      "        \"model_revision\": \"\",\n",
      "        \"deployment_type\": \"Online\",\n",
      "        \"deployment_copies\": \"1\"\n",
      "    },\n",
      "    \"schemas\": {\n",
      "        \"input\": [\n",
      "            {\n",
      "                \"fields\": [\n",
      "                    {\n",
      "                        \"metadata\": {},\n",
      "                        \"name\": \"CheckingStatus\",\n",
      "                        \"nullable\": true,\n",
      "                        \"type\": \"string\"\n",
      "                    },\n",
      "                    {\n",
      "                        \"metadata\": {},\n",
      "                        \"name\": \"LoanDuration\",\n",
      "                        \"nullable\": true,\n",
      "                        \"type\": \"integer\"\n",
      "                    },\n",
      "                    {\n",
      "                        \"metadata\": {},\n",
      "                        \"name\": \"CreditHistory\",\n",
      "                        \"nullable\": true,\n",
      "                        \"type\": \"string\"\n",
      "                    },\n",
      "                    {\n",
      "                        \"metadata\": {},\n",
      "                        \"name\": \"LoanPurpose\",\n",
      "                        \"nullable\": true,\n",
      "                        \"type\": \"string\"\n",
      "                    },\n",
      "                    {\n",
      "                        \"metadata\": {},\n",
      "                        \"name\": \"LoanAmount\",\n",
      "                        \"nullable\": true,\n",
      "                        \"type\": \"integer\"\n",
      "                    },\n",
      "                    {\n",
      "                        \"metadata\": {},\n",
      "                        \"name\": \"ExistingSavings\",\n",
      "                        \"nullable\": true,\n",
      "                        \"type\": \"string\"\n",
      "                    },\n",
      "                    {\n",
      "                        \"metadata\": {},\n",
      "                        \"name\": \"EmploymentDuration\",\n",
      "                        \"nullable\": true,\n",
      "                        \"type\": \"string\"\n",
      "                    },\n",
      "                    {\n",
      "                        \"metadata\": {},\n",
      "                        \"name\": \"InstallmentPercent\",\n",
      "                        \"nullable\": true,\n",
      "                        \"type\": \"integer\"\n",
      "                    },\n",
      "                    {\n",
      "                        \"metadata\": {},\n",
      "                        \"name\": \"Sex\",\n",
      "                        \"nullable\": true,\n",
      "                        \"type\": \"string\"\n",
      "                    },\n",
      "                    {\n",
      "                        \"metadata\": {},\n",
      "                        \"name\": \"OthersOnLoan\",\n",
      "                        \"nullable\": true,\n",
      "                        \"type\": \"string\"\n",
      "                    },\n",
      "                    {\n",
      "                        \"metadata\": {},\n",
      "                        \"name\": \"CurrentResidenceDuration\",\n",
      "                        \"nullable\": true,\n",
      "                        \"type\": \"integer\"\n",
      "                    },\n",
      "                    {\n",
      "                        \"metadata\": {},\n",
      "                        \"name\": \"OwnsProperty\",\n",
      "                        \"nullable\": true,\n",
      "                        \"type\": \"string\"\n",
      "                    },\n",
      "                    {\n",
      "                        \"metadata\": {},\n",
      "                        \"name\": \"Age\",\n",
      "                        \"nullable\": true,\n",
      "                        \"type\": \"integer\"\n",
      "                    },\n",
      "                    {\n",
      "                        \"metadata\": {},\n",
      "                        \"name\": \"InstallmentPlans\",\n",
      "                        \"nullable\": true,\n",
      "                        \"type\": \"string\"\n",
      "                    },\n",
      "                    {\n",
      "                        \"metadata\": {},\n",
      "                        \"name\": \"Housing\",\n",
      "                        \"nullable\": true,\n",
      "                        \"type\": \"string\"\n",
      "                    },\n",
      "                    {\n",
      "                        \"metadata\": {},\n",
      "                        \"name\": \"ExistingCreditsCount\",\n",
      "                        \"nullable\": true,\n",
      "                        \"type\": \"integer\"\n",
      "                    },\n",
      "                    {\n",
      "                        \"metadata\": {},\n",
      "                        \"name\": \"Job\",\n",
      "                        \"nullable\": true,\n",
      "                        \"type\": \"string\"\n",
      "                    },\n",
      "                    {\n",
      "                        \"metadata\": {},\n",
      "                        \"name\": \"Dependents\",\n",
      "                        \"nullable\": true,\n",
      "                        \"type\": \"integer\"\n",
      "                    },\n",
      "                    {\n",
      "                        \"metadata\": {},\n",
      "                        \"name\": \"Telephone\",\n",
      "                        \"nullable\": true,\n",
      "                        \"type\": \"string\"\n",
      "                    },\n",
      "                    {\n",
      "                        \"metadata\": {},\n",
      "                        \"name\": \"ForeignWorker\",\n",
      "                        \"nullable\": true,\n",
      "                        \"type\": \"string\"\n",
      "                    }\n",
      "                ],\n",
      "                \"id\": \"1\",\n",
      "                \"type\": \"struct\"\n",
      "            }\n",
      "        ],\n",
      "        \"output\": []\n",
      "    },\n",
      "    \"additional_details\": {},\n",
      "    \"attachments\": {\n",
      "        \"phases\": []\n",
      "    }\n",
      "}\n"
     ]
    }
   ],
   "source": [
    "import time,requests,json\n",
    "\n",
    "def get_published_fact():\n",
    "\n",
    "    url = \"{}/v1/aigov/model_inventory/models/{}/system_facts?space_id={}&deployment_id={}\".format(\n",
    "        cpd_url, model_uid, SPACE_ID, deployment_uid)\n",
    "    \n",
    "    headers = {\n",
    "        'Authorization': 'Bearer {}'.format(wos_client.authenticator.token_manager.get_token()),\n",
    "        'Accept': 'application/json'\n",
    "    }\n",
    "\n",
    "    response = requests.request(\"GET\", url, headers=headers, verify=False)\n",
    "    return response\n",
    "\n",
    "# Wait for a minute before fetching the published Fact\n",
    "time.sleep(60)\n",
    "\n",
    "published_fact = get_published_fact()\n",
    "print(json.dumps(published_fact.json(), indent=4))"
   ]
  },
  {
   "cell_type": "markdown",
   "metadata": {},
   "source": [
    "Congratulations! You have reached the end of the demo notebook. Thanks for trying it out :)"
   ]
  },
  {
   "cell_type": "markdown",
   "metadata": {
    "id": "ef44eb79-f30e-45d7-aab2-691fd304088e"
   },
   "source": [
    "### Authors\n",
    "Developed by [Harshit Sharma](mailto:harshit2@in.ibm.com), Staff Software Engineer, Watson OpenScale"
   ]
  }
 ],
 "metadata": {
  "kernelspec": {
   "display_name": "Python 3 (ipykernel)",
   "language": "python",
   "name": "python3"
  },
  "language_info": {
   "codemirror_mode": {
    "name": "ipython",
    "version": 3
   },
   "file_extension": ".py",
   "mimetype": "text/x-python",
   "name": "python",
   "nbconvert_exporter": "python",
   "pygments_lexer": "ipython3",
   "version": "3.10.14"
  }
 },
 "nbformat": 4,
 "nbformat_minor": 4
}
