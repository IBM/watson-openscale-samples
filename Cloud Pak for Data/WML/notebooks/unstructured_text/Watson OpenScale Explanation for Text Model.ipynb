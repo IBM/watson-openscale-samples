{
 "cells": [
  {
   "cell_type": "markdown",
   "metadata": {},
   "source": [
    "<img src=\"https://github.com/pmservice/ai-openscale-tutorials/raw/master/notebooks/images/banner.png\" align=\"left\" alt=\"banner\">"
   ]
  },
  {
   "cell_type": "markdown",
   "metadata": {},
   "source": [
    "# Tutorial on generating an explanation for a text-based model on Watson OpenScale"
   ]
  },
  {
   "cell_type": "markdown",
   "metadata": {},
   "source": [
    "This notebook includes steps for creating a text-based watson-machine-learning model, creating a subscription, configuring explainability, and finally generating an explanation for a transaction."
   ]
  },
  {
   "cell_type": "markdown",
   "metadata": {},
   "source": [
    "### Contents\n",
    "- [1. Setup](#setup)\n",
    "- [2. Creating and deploying a text-based model](#deploy)\n",
    "- [3. Subscriptions](#subscription)\n",
    "- [4. Explainability](#explainability)"
   ]
  },
  {
   "cell_type": "markdown",
   "metadata": {},
   "source": [
    "**Note**: This notebook works correctly with kernel `Python 3.10.x` with pyspark 3.3.x."
   ]
  },
  {
   "cell_type": "markdown",
   "metadata": {},
   "source": [
    "<a id=\"setup\"></a>\n",
    "## 1. Setup\n",
    "\n",
    "### 1.1 Install Watson OpenScale and WML packages"
   ]
  },
  {
   "cell_type": "code",
   "execution_count": null,
   "metadata": {},
   "outputs": [],
   "source": [
    "!pip install --upgrade ibm-watson-openscale --no-cache --user| tail -n 1"
   ]
  },
  {
   "cell_type": "code",
   "execution_count": null,
   "metadata": {},
   "outputs": [],
   "source": [
    "!pip install --upgrade ibm-watson-machine-learning --no-cache | tail -n 1"
   ]
  },
  {
   "cell_type": "markdown",
   "metadata": {},
   "source": [
    "Note: Restart the kernel to assure the new libraries are being used."
   ]
  },
  {
   "cell_type": "markdown",
   "metadata": {},
   "source": [
    "### 1.2 Configure credentials"
   ]
  },
  {
   "cell_type": "markdown",
   "metadata": {},
   "source": [
    "- WOS_CREDENTIALS (CP4D)\n",
    "- WML_CREDENTIALS (CP4D)\n",
    "- DATABASE_CREDENTIALS (DB2 on CP4D or Cloud Object Storage (COS))\n",
    "- SCHEMA_NAME"
   ]
  },
  {
   "cell_type": "code",
   "execution_count": 1,
   "metadata": {},
   "outputs": [],
   "source": [
    "WOS_CREDENTIALS = {\n",
    "    \"url\": \"***\",\n",
    "    \"username\": \"***\",\n",
    "    \"password\": \"***\"\n",
    "}"
   ]
  },
  {
   "cell_type": "code",
   "execution_count": 2,
   "metadata": {},
   "outputs": [],
   "source": [
    "WML_CREDENTIALS = {\n",
    "                   \"url\": \"***\",\n",
    "                   \"username\": \"***\",\n",
    "                   \"password\" : \"***\",\n",
    "                   \"instance_id\": \"wml_local\",\n",
    "                   \"version\" : \"4.6\" #If your env is CP4D 4.x.x then specify \"4.x.x\" instead of \"4.6\"\n",
    "                  }"
   ]
  },
  {
   "cell_type": "markdown",
   "metadata": {},
   "source": [
    "## 2. Creating and deploying a text-based model <a id=\"deploy\"></a>"
   ]
  },
  {
   "cell_type": "markdown",
   "metadata": {},
   "source": [
    "The dataset used is the UCI-ML SMS Spam Collection Dataset which can be found here: https://archive.ics.uci.edu/ml/machine-learning-databases/00228/. It is a binary classification dataset with the labels being 'ham' and 'spam'."
   ]
  },
  {
   "cell_type": "markdown",
   "metadata": {},
   "source": [
    "### 2.1 Loading the training data"
   ]
  },
  {
   "cell_type": "code",
   "execution_count": 3,
   "metadata": {},
   "outputs": [
    {
     "name": "stdout",
     "output_type": "stream",
     "text": [
      "--2024-08-07 12:20:05--  https://raw.githubusercontent.com/IBM/watson-openscale-samples/main/IBM%20Cloud/WML/assets/data/spam_detection/SMSSpam.csv\n",
      "Resolving raw.githubusercontent.com (raw.githubusercontent.com)... 185.199.111.133, 185.199.109.133, 185.199.108.133, ...\n",
      "Connecting to raw.githubusercontent.com (raw.githubusercontent.com)|185.199.111.133|:443... connected.\n",
      "HTTP request sent, awaiting response... 200 OK\n",
      "Length: 480803 (470K) [text/plain]\n",
      "Saving to: ‘SMSSpam.csv’\n",
      "\n",
      "SMSSpam.csv         100%[===================>] 469.53K  --.-KB/s    in 0.06s   \n",
      "\n",
      "2024-08-07 12:20:05 (7.60 MB/s) - ‘SMSSpam.csv’ saved [480803/480803]\n",
      "\n"
     ]
    }
   ],
   "source": [
    "!rm -rf SMSSpam.csv\n",
    "!wget 'https://raw.githubusercontent.com/IBM/watson-openscale-samples/main/IBM%20Cloud/WML/assets/data/spam_detection/SMSSpam.csv'"
   ]
  },
  {
   "cell_type": "code",
   "execution_count": 4,
   "metadata": {},
   "outputs": [],
   "source": [
    "# The training data is downloaded and saved as 'SMSSpam.csv' in this step from public link\n",
    "\n",
    "# !pip install pandas\n",
    "# !rm smsspamcollection.zip\n",
    "# !wget https://archive.ics.uci.edu/ml/machine-learning-databases/00228/smsspamcollection.zip\n",
    "# !unzip smsspamcollection.zip\n",
    "#pd.read_csv(\"smsspamcollection.zip\",sep=\"\\t\",header=None, encoding=\"utf-8\").to_csv(\"SMSSpam.csv\", header=[\"label\", \"text\"], sep=\",\", index=False)\n",
    "\n",
    "# !rm SMSSpamCollection\n",
    "# !rm readme\n",
    "# !rm smsspamcollection.zip"
   ]
  },
  {
   "cell_type": "markdown",
   "metadata": {},
   "source": [
    "### 2.2 Creating a model"
   ]
  },
  {
   "cell_type": "markdown",
   "metadata": {},
   "source": [
    "**Note**: Skip the pyspark install step below if you are using a Spark kernel on Watson Studio."
   ]
  },
  {
   "cell_type": "code",
   "execution_count": null,
   "metadata": {},
   "outputs": [],
   "source": [
    "!pip install --upgrade pyspark==3.3.0"
   ]
  },
  {
   "cell_type": "markdown",
   "metadata": {},
   "source": [
    "**Note**: When running this notebook locally, If the `SparkSession` import fails below, set 'SPARK_HOME' environment variable with the path to `pyspark` installation."
   ]
  },
  {
   "cell_type": "code",
   "execution_count": 5,
   "metadata": {},
   "outputs": [
    {
     "name": "stderr",
     "output_type": "stream",
     "text": [
      "24/08/07 12:20:12 WARN Utils: Your hostname, Nelwins-MacBook-Pro.local resolves to a loopback address: 127.0.0.1; using 192.168.0.103 instead (on interface en0)\n",
      "24/08/07 12:20:12 WARN Utils: Set SPARK_LOCAL_IP if you need to bind to another address\n",
      "Setting default log level to \"WARN\".\n",
      "To adjust logging level use sc.setLogLevel(newLevel). For SparkR, use setLogLevel(newLevel).\n",
      "24/08/07 12:20:13 WARN NativeCodeLoader: Unable to load native-hadoop library for your platform... using builtin-java classes where applicable\n",
      "24/08/07 12:20:13 WARN Utils: Service 'SparkUI' could not bind on port 4040. Attempting port 4041.\n"
     ]
    },
    {
     "name": "stdout",
     "output_type": "stream",
     "text": [
      "+-----+-----------------------------------------------------------------------------------------------------------------------------------------------------------+\n",
      "|label|text                                                                                                                                                       |\n",
      "+-----+-----------------------------------------------------------------------------------------------------------------------------------------------------------+\n",
      "|ham  |Go until jurong point, crazy.. Available only in bugis n great world la e buffet... Cine there got amore wat...                                            |\n",
      "|ham  |Ok lar... Joking wif u oni...                                                                                                                              |\n",
      "|spam |Free entry in 2 a wkly comp to win FA Cup final tkts 21st May 2005. Text FA to 87121 to receive entry question(std txt rate)T&C's apply 08452810075over18's|\n",
      "|ham  |U dun say so early hor... U c already then say...                                                                                                          |\n",
      "|ham  |Nah I don't think he goes to usf, he lives around here though                                                                                              |\n",
      "+-----+-----------------------------------------------------------------------------------------------------------------------------------------------------------+\n",
      "only showing top 5 rows\n",
      "\n"
     ]
    }
   ],
   "source": [
    "import pandas as pd\n",
    "from pyspark.sql import SparkSession\n",
    "\n",
    "spark = SparkSession.builder.getOrCreate()\n",
    "df = spark.read.csv(path=\"SMSSpam.csv\", header=True, multiLine=True, escape='\"')\n",
    "df.show(5, truncate = False)"
   ]
  },
  {
   "cell_type": "code",
   "execution_count": 6,
   "metadata": {},
   "outputs": [
    {
     "name": "stdout",
     "output_type": "stream",
     "text": [
      "Total count of data set: 5572\n",
      "Total count of training data set: 4454\n",
      "Total count of test data set: 1118\n"
     ]
    }
   ],
   "source": [
    "train_df, test_df = df.randomSplit([0.8, 0.2], seed=12345)\n",
    "print(\"Total count of data set: {}\".format(df.count()))\n",
    "print(\"Total count of training data set: {}\".format(train_df.count()))\n",
    "print(\"Total count of test data set: {}\".format(test_df.count()))"
   ]
  },
  {
   "cell_type": "code",
   "execution_count": 7,
   "metadata": {},
   "outputs": [
    {
     "name": "stderr",
     "output_type": "stream",
     "text": [
      "[nltk_data] Downloading package punkt to /Users/nelwin/nltk_data...\n",
      "[nltk_data]   Package punkt is already up-to-date!\n",
      "[nltk_data] Downloading package stopwords to\n",
      "[nltk_data]     /Users/nelwin/nltk_data...\n",
      "[nltk_data]   Package stopwords is already up-to-date!\n"
     ]
    },
    {
     "name": "stderr",
     "output_type": "stream",
     "text": [
      "24/08/07 12:20:24 WARN GarbageCollectionMetrics: To enable non-built-in garbage collector(s) List(G1 Concurrent GC), users should configure it(them) to spark.eventLog.gcMetrics.youngGenerationGarbageCollectors or spark.eventLog.gcMetrics.oldGenerationGarbageCollectors\n"
     ]
    }
   ],
   "source": [
    "!pip install nltk\n",
    "from pyspark.ml.feature import StringIndexer, IndexToString, CountVectorizer, Tokenizer, IDF, StopWordsRemover\n",
    "from pyspark.ml.classification import GBTClassifier\n",
    "from pyspark.ml.evaluation import BinaryClassificationEvaluator\n",
    "from pyspark.ml import Pipeline, Model\n",
    "import nltk\n",
    "from nltk.tokenize import word_tokenize\n",
    "from nltk.corpus import stopwords\n",
    "\n",
    "nltk.download('punkt')\n",
    "nltk.download('stopwords')\n",
    "stop_words = list(set(stopwords.words('english')))\n",
    "\n",
    "stringIndexer_label = StringIndexer(inputCol=\"label\", outputCol=\"label_ix\").fit(df)\n",
    "tokenizer = Tokenizer(inputCol=\"text\", outputCol=\"words\")\n",
    "stopword_remover = StopWordsRemover(inputCol=\"words\", outputCol=\"filtered_words\").setStopWords(stop_words)\n",
    "count = CountVectorizer(inputCol=\"filtered_words\", outputCol=\"rawFeatures\")\n",
    "idf = IDF(inputCol=\"rawFeatures\", outputCol=\"features\")\n",
    "nb = GBTClassifier(labelCol=\"label_ix\")\n",
    "labelConverter = IndexToString(inputCol=\"prediction\", outputCol=\"predictionLabel\", labels=stringIndexer_label.labels)"
   ]
  },
  {
   "cell_type": "code",
   "execution_count": 8,
   "metadata": {},
   "outputs": [
    {
     "name": "stderr",
     "output_type": "stream",
     "text": [
      "                                                                                \r"
     ]
    },
    {
     "name": "stdout",
     "output_type": "stream",
     "text": [
      "Area under ROC curve = 0.856224\n"
     ]
    },
    {
     "name": "stderr",
     "output_type": "stream",
     "text": [
      "24/08/07 12:20:45 WARN InstanceBuilder: Failed to load implementation from:dev.ludovic.netlib.blas.JNIBLAS\n",
      "24/08/07 12:20:45 WARN InstanceBuilder: Failed to load implementation from:dev.ludovic.netlib.blas.VectorBLAS\n"
     ]
    }
   ],
   "source": [
    "pipeline = Pipeline(stages=[stringIndexer_label, tokenizer, stopword_remover, count, idf, nb, labelConverter])\n",
    "model = pipeline.fit(train_df)\n",
    "predictions = model.transform(test_df)\n",
    "evaluator = BinaryClassificationEvaluator(labelCol=\"label_ix\", rawPredictionCol=\"prediction\", metricName=\"areaUnderROC\")\n",
    "auc = evaluator.evaluate(predictions)\n",
    "\n",
    "print(\"Area under ROC curve = %g\" % auc)"
   ]
  },
  {
   "cell_type": "code",
   "execution_count": 9,
   "metadata": {},
   "outputs": [
    {
     "data": {
      "text/plain": [
       "'1.0.360'"
      ]
     },
     "execution_count": 9,
     "metadata": {},
     "output_type": "execute_result"
    }
   ],
   "source": [
    "import json\n",
    "from ibm_watson_machine_learning import APIClient\n",
    "\n",
    "wml_client = APIClient(WML_CREDENTIALS)\n",
    "wml_client.version"
   ]
  },
  {
   "cell_type": "code",
   "execution_count": 10,
   "metadata": {},
   "outputs": [
    {
     "name": "stdout",
     "output_type": "stream",
     "text": [
      "------------------------------------  -------------------------------------------------------------------  ------------------------\n",
      "ID                                    NAME                                                                 CREATED\n",
      "7e5a8be6-9103-4c22-9c43-b66f3d8364de  poojitha_notebooks_space                                             2024-06-29T13:53:46.645Z\n",
      "16ccd855-46bd-43ed-8219-5f00ac565d08  shreya-space                                                         2024-06-26T04:29:17.302Z\n",
      "bc3b9797-c509-4fb4-a424-f67b1e2ed4be  QUALITY_WMLV4_PREPROD                                                2024-06-23T12:23:04.790Z\n",
      "e396e187-2977-47b4-ade3-1539f9f10adc  QUALITY_WMLV4_PROD                                                   2024-06-23T12:22:54.422Z\n",
      "40c4d032-0339-4da6-bfec-4bdb096c9650  shreya                                                               2024-06-20T10:54:20.088Z\n",
      "088c142e-f35e-4e48-a30c-ad55a6edeecc  notebooks 5.0                                                        2024-06-13T04:42:07.336Z\n",
      "b9b3d3b4-6e26-4e16-807d-e8bf5e7d6984  MRM_WMLV4_PREPROD                                                    2024-06-12T15:49:26.571Z\n",
      "d22e2b6b-917c-4427-a40c-1a439352a742  MRM_WMLV4_PROD                                                       2024-06-12T15:49:16.185Z\n",
      "ce15e0f6-be30-4349-af47-35ae15983bf1  openscale-express-path-preprod-00000000-0000-0000-0000-000000000000  2024-06-04T05:18:51.988Z\n",
      "6264dc0e-087a-4dea-bcbc-6bd872b510fb  openscale-express-path-00000000-0000-0000-0000-000000000000          2024-06-04T05:18:30.811Z\n",
      "------------------------------------  -------------------------------------------------------------------  ------------------------\n"
     ]
    },
    {
     "data": {
      "text/html": [
       "<div>\n",
       "<style scoped>\n",
       "    .dataframe tbody tr th:only-of-type {\n",
       "        vertical-align: middle;\n",
       "    }\n",
       "\n",
       "    .dataframe tbody tr th {\n",
       "        vertical-align: top;\n",
       "    }\n",
       "\n",
       "    .dataframe thead th {\n",
       "        text-align: right;\n",
       "    }\n",
       "</style>\n",
       "<table border=\"1\" class=\"dataframe\">\n",
       "  <thead>\n",
       "    <tr style=\"text-align: right;\">\n",
       "      <th></th>\n",
       "      <th>ID</th>\n",
       "      <th>NAME</th>\n",
       "      <th>CREATED</th>\n",
       "    </tr>\n",
       "  </thead>\n",
       "  <tbody>\n",
       "    <tr>\n",
       "      <th>0</th>\n",
       "      <td>7e5a8be6-9103-4c22-9c43-b66f3d8364de</td>\n",
       "      <td>poojitha_notebooks_space</td>\n",
       "      <td>2024-06-29T13:53:46.645Z</td>\n",
       "    </tr>\n",
       "    <tr>\n",
       "      <th>1</th>\n",
       "      <td>16ccd855-46bd-43ed-8219-5f00ac565d08</td>\n",
       "      <td>shreya-space</td>\n",
       "      <td>2024-06-26T04:29:17.302Z</td>\n",
       "    </tr>\n",
       "    <tr>\n",
       "      <th>2</th>\n",
       "      <td>bc3b9797-c509-4fb4-a424-f67b1e2ed4be</td>\n",
       "      <td>QUALITY_WMLV4_PREPROD</td>\n",
       "      <td>2024-06-23T12:23:04.790Z</td>\n",
       "    </tr>\n",
       "    <tr>\n",
       "      <th>3</th>\n",
       "      <td>e396e187-2977-47b4-ade3-1539f9f10adc</td>\n",
       "      <td>QUALITY_WMLV4_PROD</td>\n",
       "      <td>2024-06-23T12:22:54.422Z</td>\n",
       "    </tr>\n",
       "    <tr>\n",
       "      <th>4</th>\n",
       "      <td>40c4d032-0339-4da6-bfec-4bdb096c9650</td>\n",
       "      <td>shreya</td>\n",
       "      <td>2024-06-20T10:54:20.088Z</td>\n",
       "    </tr>\n",
       "    <tr>\n",
       "      <th>5</th>\n",
       "      <td>088c142e-f35e-4e48-a30c-ad55a6edeecc</td>\n",
       "      <td>notebooks 5.0</td>\n",
       "      <td>2024-06-13T04:42:07.336Z</td>\n",
       "    </tr>\n",
       "    <tr>\n",
       "      <th>6</th>\n",
       "      <td>b9b3d3b4-6e26-4e16-807d-e8bf5e7d6984</td>\n",
       "      <td>MRM_WMLV4_PREPROD</td>\n",
       "      <td>2024-06-12T15:49:26.571Z</td>\n",
       "    </tr>\n",
       "    <tr>\n",
       "      <th>7</th>\n",
       "      <td>d22e2b6b-917c-4427-a40c-1a439352a742</td>\n",
       "      <td>MRM_WMLV4_PROD</td>\n",
       "      <td>2024-06-12T15:49:16.185Z</td>\n",
       "    </tr>\n",
       "    <tr>\n",
       "      <th>8</th>\n",
       "      <td>ce15e0f6-be30-4349-af47-35ae15983bf1</td>\n",
       "      <td>openscale-express-path-preprod-00000000-0000-0...</td>\n",
       "      <td>2024-06-04T05:18:51.988Z</td>\n",
       "    </tr>\n",
       "    <tr>\n",
       "      <th>9</th>\n",
       "      <td>6264dc0e-087a-4dea-bcbc-6bd872b510fb</td>\n",
       "      <td>openscale-express-path-00000000-0000-0000-0000...</td>\n",
       "      <td>2024-06-04T05:18:30.811Z</td>\n",
       "    </tr>\n",
       "  </tbody>\n",
       "</table>\n",
       "</div>"
      ],
      "text/plain": [
       "                                     ID  \\\n",
       "0  7e5a8be6-9103-4c22-9c43-b66f3d8364de   \n",
       "1  16ccd855-46bd-43ed-8219-5f00ac565d08   \n",
       "2  bc3b9797-c509-4fb4-a424-f67b1e2ed4be   \n",
       "3  e396e187-2977-47b4-ade3-1539f9f10adc   \n",
       "4  40c4d032-0339-4da6-bfec-4bdb096c9650   \n",
       "5  088c142e-f35e-4e48-a30c-ad55a6edeecc   \n",
       "6  b9b3d3b4-6e26-4e16-807d-e8bf5e7d6984   \n",
       "7  d22e2b6b-917c-4427-a40c-1a439352a742   \n",
       "8  ce15e0f6-be30-4349-af47-35ae15983bf1   \n",
       "9  6264dc0e-087a-4dea-bcbc-6bd872b510fb   \n",
       "\n",
       "                                                NAME                   CREATED  \n",
       "0                           poojitha_notebooks_space  2024-06-29T13:53:46.645Z  \n",
       "1                                       shreya-space  2024-06-26T04:29:17.302Z  \n",
       "2                              QUALITY_WMLV4_PREPROD  2024-06-23T12:23:04.790Z  \n",
       "3                                 QUALITY_WMLV4_PROD  2024-06-23T12:22:54.422Z  \n",
       "4                                             shreya  2024-06-20T10:54:20.088Z  \n",
       "5                                     notebooks 5.0   2024-06-13T04:42:07.336Z  \n",
       "6                                  MRM_WMLV4_PREPROD  2024-06-12T15:49:26.571Z  \n",
       "7                                     MRM_WMLV4_PROD  2024-06-12T15:49:16.185Z  \n",
       "8  openscale-express-path-preprod-00000000-0000-0...  2024-06-04T05:18:51.988Z  \n",
       "9  openscale-express-path-00000000-0000-0000-0000...  2024-06-04T05:18:30.811Z  "
      ]
     },
     "execution_count": 10,
     "metadata": {},
     "output_type": "execute_result"
    }
   ],
   "source": [
    "wml_client.spaces.list(limit=10)"
   ]
  },
  {
   "cell_type": "code",
   "execution_count": 11,
   "metadata": {},
   "outputs": [
    {
     "data": {
      "text/plain": [
       "'SUCCESS'"
      ]
     },
     "execution_count": 11,
     "metadata": {},
     "output_type": "execute_result"
    }
   ],
   "source": [
    "WML_SPACE_ID='***' # use space id here\n",
    "wml_client.set.default_space(WML_SPACE_ID)"
   ]
  },
  {
   "cell_type": "code",
   "execution_count": 12,
   "metadata": {},
   "outputs": [],
   "source": [
    "MODEL_NAME = \"Text Binary Classifier\""
   ]
  },
  {
   "cell_type": "code",
   "execution_count": 13,
   "metadata": {},
   "outputs": [
    {
     "name": "stdout",
     "output_type": "stream",
     "text": [
      "Software Specification ID: d11f2434-4fc7-58b7-8a62-755da64fdaf8\n"
     ]
    }
   ],
   "source": [
    "software_spec_uid = wml_client.software_specifications.get_id_by_name(\"spark-mllib_3.3\")\n",
    "print(\"Software Specification ID: {}\".format(software_spec_uid))\n",
    "model_props = {\n",
    "        wml_client._models.ConfigurationMetaNames.NAME:\"{}\".format(MODEL_NAME),\n",
    "        wml_client._models.ConfigurationMetaNames.TYPE: \"mllib_3.3\",\n",
    "        wml_client._models.ConfigurationMetaNames.SOFTWARE_SPEC_UID: software_spec_uid,\n",
    "        wml_client._models.ConfigurationMetaNames.LABEL_FIELD: \"label\",\n",
    "    }"
   ]
  },
  {
   "cell_type": "code",
   "execution_count": 14,
   "metadata": {},
   "outputs": [
    {
     "name": "stdout",
     "output_type": "stream",
     "text": [
      "Storing model ...\n"
     ]
    },
    {
     "name": "stderr",
     "output_type": "stream",
     "text": [
      "                                                                                \r"
     ]
    },
    {
     "name": "stdout",
     "output_type": "stream",
     "text": [
      "Note: Warnings!! :  Software specification spark-mllib_3.3 specified for the wml_model is deprecated and will be removed in the future. We recommend you use spark-mllib_3.4 instead. For details see Supported Frameworks https://www.ibm.com/docs/en/cloud-paks/cp-data/4.0?topic=specifications-supported-deployment-frameworks\n",
      "Done\n",
      "Model ID: 20516963-37ff-4769-a41f-b509827f3076\n"
     ]
    }
   ],
   "source": [
    "print(\"Storing model ...\")\n",
    "published_model_details = wml_client.repository.store_model(\n",
    "    model=model, \n",
    "    meta_props=model_props, \n",
    "    training_data=train_df, \n",
    "    pipeline=pipeline)\n",
    "\n",
    "model_uid = wml_client.repository.get_model_id(published_model_details)\n",
    "print(\"Done\")\n",
    "print(\"Model ID: {}\".format(model_uid))"
   ]
  },
  {
   "cell_type": "markdown",
   "metadata": {},
   "source": [
    "### 2.3 Deploying the model"
   ]
  },
  {
   "cell_type": "code",
   "execution_count": 15,
   "metadata": {},
   "outputs": [
    {
     "name": "stdout",
     "output_type": "stream",
     "text": [
      "\n",
      "\n",
      "#######################################################################################\n",
      "\n",
      "Synchronous deployment creation for uid: '20516963-37ff-4769-a41f-b509827f3076' started\n",
      "\n",
      "#######################################################################################\n",
      "\n",
      "\n",
      "initializing\n",
      "Note: Software specification spark-mllib_3.3 is deprecated. Use spark-mllib_3.4 software specification instead when saving a spark model. For details, see https://www.ibm.com/support/producthub/icpdata/docs/content/SSQNUZ_latest/wsj/wmls/wmls-deploy-python-types.html.\n",
      "\n",
      "ready\n",
      "\n",
      "\n",
      "------------------------------------------------------------------------------------------------\n",
      "Successfully finished deployment creation, deployment_uid='18c8f8d4-cfbf-4fbb-a51a-5ac59d2e9e20'\n",
      "------------------------------------------------------------------------------------------------\n",
      "\n",
      "\n",
      "Scoring URL:https://cpd-cpd-instance.apps.wos415nfs2672.cp.fyre.ibm.com/ml/v4/deployments/18c8f8d4-cfbf-4fbb-a51a-5ac59d2e9e20/predictions\n",
      "Model id: 20516963-37ff-4769-a41f-b509827f3076\n",
      "Deployment id: 18c8f8d4-cfbf-4fbb-a51a-5ac59d2e9e20\n"
     ]
    }
   ],
   "source": [
    "deployment_details = wml_client.deployments.create(\n",
    "    model_uid, \n",
    "    meta_props={\n",
    "        wml_client.deployments.ConfigurationMetaNames.NAME: \"{}\".format(MODEL_NAME + \" deployment\"),\n",
    "        wml_client.deployments.ConfigurationMetaNames.ONLINE: {}\n",
    "    }\n",
    ")\n",
    "scoring_url = wml_client.deployments.get_scoring_href(deployment_details)\n",
    "deployment_uid=wml_client.deployments.get_id(deployment_details)\n",
    "\n",
    "print(\"Scoring URL:\" + scoring_url)\n",
    "print(\"Model id: {}\".format(model_uid))\n",
    "print(\"Deployment id: {}\".format(deployment_uid))"
   ]
  },
  {
   "cell_type": "markdown",
   "metadata": {},
   "source": [
    "## 3. Subscriptions <a id=\"subscription\"></a>"
   ]
  },
  {
   "cell_type": "markdown",
   "metadata": {},
   "source": [
    "### 3.1 Configuring OS"
   ]
  },
  {
   "cell_type": "code",
   "execution_count": 16,
   "metadata": {},
   "outputs": [
    {
     "data": {
      "text/plain": [
       "'3.0.39'"
      ]
     },
     "execution_count": 16,
     "metadata": {},
     "output_type": "execute_result"
    }
   ],
   "source": [
    "from ibm_cloud_sdk_core.authenticators import CloudPakForDataAuthenticator\n",
    "from ibm_watson_openscale import APIClient\n",
    "\n",
    "from ibm_watson_openscale import *\n",
    "from ibm_watson_openscale.supporting_classes.enums import *\n",
    "from ibm_watson_openscale.supporting_classes import *\n",
    "\n",
    "\n",
    "authenticator = CloudPakForDataAuthenticator(\n",
    "        url=WOS_CREDENTIALS['url'],\n",
    "        username=WOS_CREDENTIALS['username'],\n",
    "        password=WOS_CREDENTIALS['password'],\n",
    "        disable_ssl_verification=True\n",
    "    )\n",
    "\n",
    "wos_client = APIClient(service_url=WOS_CREDENTIALS['url'],authenticator=authenticator)\n",
    "wos_client.version"
   ]
  },
  {
   "cell_type": "markdown",
   "metadata": {},
   "source": [
    "**Note**: Please re-run the above cell if it doesn't work the first time."
   ]
  },
  {
   "cell_type": "code",
   "execution_count": 17,
   "metadata": {},
   "outputs": [],
   "source": [
    "#DB_CREDENTIALS= {\"hostname\":\"\",\"username\":\"\",\"password\":\"\",\"database\":\"\",\"port\":\"\",\"ssl\":True,\"sslmode\":\"\",\"certificate_base64\":\"\"}\n",
    "DB_CREDENTIALS = None\n",
    "KEEP_MY_INTERNAL_POSTGRES = True"
   ]
  },
  {
   "cell_type": "code",
   "execution_count": 18,
   "metadata": {},
   "outputs": [
    {
     "name": "stdout",
     "output_type": "stream",
     "text": [
      "Using existing datamart 00000000-0000-0000-0000-000000000000\n"
     ]
    }
   ],
   "source": [
    "data_marts = wos_client.data_marts.list().result.data_marts\n",
    "if len(data_marts) == 0:\n",
    "    if DB_CREDENTIALS is not None:\n",
    "        if SCHEMA_NAME is None: \n",
    "            print(\"Please specify the SCHEMA_NAME and rerun the cell\")\n",
    "\n",
    "        print('Setting up external datamart')\n",
    "        added_data_mart_result = wos_client.data_marts.add(\n",
    "                background_mode=False,\n",
    "                name=\"WOS Data Mart\",\n",
    "                description=\"Data Mart created by WOS tutorial notebook\",\n",
    "                database_configuration=DatabaseConfigurationRequest(\n",
    "                  database_type=DatabaseType.POSTGRESQL,\n",
    "                    credentials=PrimaryStorageCredentialsLong(\n",
    "                        hostname=DB_CREDENTIALS['hostname'],\n",
    "                        username=DB_CREDENTIALS['username'],\n",
    "                        password=DB_CREDENTIALS['password'],\n",
    "                        db=DB_CREDENTIALS['database'],\n",
    "                        port=DB_CREDENTIALS['port'],\n",
    "                        ssl=True,\n",
    "                        sslmode=DB_CREDENTIALS['sslmode'],\n",
    "                        certificate_base64=DB_CREDENTIALS['certificate_base64']\n",
    "                    ),\n",
    "                    location=LocationSchemaName(\n",
    "                        schema_name= SCHEMA_NAME\n",
    "                    )\n",
    "                )\n",
    "             ).result\n",
    "    else:\n",
    "        print('Setting up internal datamart')\n",
    "        added_data_mart_result = wos_client.data_marts.add(\n",
    "                background_mode=False,\n",
    "                name=\"WOS Data Mart\",\n",
    "                description=\"Data Mart created by WOS tutorial notebook\", \n",
    "                internal_database = True).result\n",
    "        \n",
    "    data_mart_id = added_data_mart_result.metadata.id\n",
    "    \n",
    "else:\n",
    "    data_mart_id=data_marts[0].metadata.id\n",
    "    print('Using existing datamart {}'.format(data_mart_id))"
   ]
  },
  {
   "cell_type": "code",
   "execution_count": 19,
   "metadata": {},
   "outputs": [],
   "source": [
    "SERVICE_PROVIDER_NAME = \"Watson Machine Learning V2_test\"\n",
    "SERVICE_PROVIDER_DESCRIPTION = \"Added by tutorial WOS notebook.\""
   ]
  },
  {
   "cell_type": "code",
   "execution_count": 20,
   "metadata": {},
   "outputs": [],
   "source": [
    "service_providers = wos_client.service_providers.list().result.service_providers\n",
    "for service_provider in service_providers:\n",
    "    service_instance_name = service_provider.entity.name\n",
    "    if service_instance_name == SERVICE_PROVIDER_NAME:\n",
    "        service_provider_id = service_provider.metadata.id\n",
    "        wos_client.service_providers.delete(service_provider_id)\n",
    "        print(\"Deleted existing service_provider for WML instance: {}\".format(service_provider_id))"
   ]
  },
  {
   "cell_type": "code",
   "execution_count": 21,
   "metadata": {},
   "outputs": [
    {
     "name": "stdout",
     "output_type": "stream",
     "text": [
      "\n",
      "\n",
      "=================================================================================\n",
      "\n",
      " Waiting for end of adding service provider b9fd3cb5-c7a4-4b5c-a90c-684676276352 \n",
      "\n",
      "=================================================================================\n",
      "\n",
      "\n",
      "\n",
      "active\n",
      "\n",
      "-----------------------------------------------\n",
      " Successfully finished adding service provider \n",
      "-----------------------------------------------\n",
      "\n",
      "\n"
     ]
    }
   ],
   "source": [
    "added_service_provider_result = wos_client.service_providers.add(\n",
    "        name=SERVICE_PROVIDER_NAME,\n",
    "        description=SERVICE_PROVIDER_DESCRIPTION,\n",
    "        service_type=ServiceTypes.WATSON_MACHINE_LEARNING,\n",
    "        deployment_space_id = WML_SPACE_ID,\n",
    "        operational_space_id = \"production\",\n",
    "        credentials=WMLCredentialsCP4D(),\n",
    "        background_mode=False\n",
    "    ).result\n",
    "service_provider_id = added_service_provider_result.metadata.id"
   ]
  },
  {
   "cell_type": "code",
   "execution_count": 22,
   "metadata": {},
   "outputs": [
    {
     "data": {
      "text/plain": [
       "{'metadata': {'guid': '18c8f8d4-cfbf-4fbb-a51a-5ac59d2e9e20',\n",
       "  'created_at': '2024-08-07T06:51:15.201Z',\n",
       "  'modified_at': '2024-08-07T06:51:15.201Z'},\n",
       " 'entity': {'name': 'Text Binary Classifier deployment',\n",
       "  'type': 'online',\n",
       "  'scoring_endpoint': {'url': 'https://internal-nginx-svc:12443/ml/v4/deployments/18c8f8d4-cfbf-4fbb-a51a-5ac59d2e9e20/predictions'},\n",
       "  'asset': {},\n",
       "  'asset_properties': {}}}"
      ]
     },
     "execution_count": 22,
     "metadata": {},
     "output_type": "execute_result"
    }
   ],
   "source": [
    "asset_deployment_details_list = wos_client.service_providers.list_assets(data_mart_id=data_mart_id, service_provider_id=service_provider_id, deployment_space_id = WML_SPACE_ID).result['resources']\n",
    "DEPLOYMENT_NAME='Text Binary Classifier deployment' # use the model name here \n",
    "asset_deployment_details = [asset for asset in asset_deployment_details_list if asset['entity'][\"name\"]==DEPLOYMENT_NAME]\n",
    "\n",
    "if len(asset_deployment_details)>0:\n",
    "    [asset_deployment_details] = asset_deployment_details\n",
    "else:\n",
    "    raise ValueError('deployment with name \"{}\" not found.'.format(DEPLOYMENT_NAME))\n",
    "asset_deployment_details"
   ]
  },
  {
   "cell_type": "code",
   "execution_count": 23,
   "metadata": {},
   "outputs": [
    {
     "data": {
      "text/plain": [
       "{'metadata': {'guid': '18c8f8d4-cfbf-4fbb-a51a-5ac59d2e9e20',\n",
       "  'created_at': '2024-08-07T06:51:15.201Z',\n",
       "  'modified_at': '2024-08-07T06:51:15.201Z'},\n",
       " 'entity': {'name': 'Text Binary Classifier deployment',\n",
       "  'type': 'online',\n",
       "  'scoring_endpoint': {'url': 'https://internal-nginx-svc:12443/ml/v4/deployments/18c8f8d4-cfbf-4fbb-a51a-5ac59d2e9e20/predictions'},\n",
       "  'asset': {'asset_id': '20516963-37ff-4769-a41f-b509827f3076',\n",
       "   'url': 'https://internal-nginx-svc:12443/ml/v4/models/20516963-37ff-4769-a41f-b509827f3076?space_id=7e5a8be6-9103-4c22-9c43-b66f3d8364de&version=2020-06-12',\n",
       "   'name': 'Text Binary Classifier',\n",
       "   'asset_type': 'model',\n",
       "   'created_at': '2024-08-07T06:51:06.899Z',\n",
       "   'modified_at': '2024-08-07T06:51:12.207Z'},\n",
       "  'asset_properties': {'model_type': 'mllib_3.3',\n",
       "   'runtime_environment': 'spark-3.3.0',\n",
       "   'label_column': 'label',\n",
       "   'input_data_schema': {'type': 'struct',\n",
       "    'id': '1',\n",
       "    'fields': [{'name': 'text',\n",
       "      'type': 'string',\n",
       "      'nullable': True,\n",
       "      'metadata': {}}]},\n",
       "   'training_data_schema': {'type': 'struct',\n",
       "    'id': '1',\n",
       "    'fields': [{'name': 'label',\n",
       "      'type': 'string',\n",
       "      'nullable': True,\n",
       "      'metadata': {'modeling_role': 'target'}},\n",
       "     {'name': 'text', 'type': 'string', 'nullable': True, 'metadata': {}}]}}}}"
      ]
     },
     "execution_count": 23,
     "metadata": {},
     "output_type": "execute_result"
    }
   ],
   "source": [
    "model_asset_details_from_deployment=wos_client.service_providers.get_deployment_asset(data_mart_id=data_mart_id,service_provider_id=service_provider_id,deployment_id=deployment_uid,deployment_space_id=WML_SPACE_ID)\n",
    "model_asset_details_from_deployment"
   ]
  },
  {
   "cell_type": "markdown",
   "metadata": {},
   "source": [
    "### 3.2 Subscribe the asset"
   ]
  },
  {
   "cell_type": "code",
   "execution_count": 24,
   "metadata": {},
   "outputs": [],
   "source": [
    "subscriptions = wos_client.subscriptions.list().result.subscriptions\n",
    "for subscription in subscriptions:\n",
    "    sub_model_id = subscription.entity.asset.asset_id\n",
    "    if sub_model_id == model_uid:\n",
    "        wos_client.subscriptions.delete(subscription.metadata.id)\n",
    "        print('Deleted existing subscription for model', sub_model_id)"
   ]
  },
  {
   "cell_type": "code",
   "execution_count": 25,
   "metadata": {},
   "outputs": [],
   "source": [
    "from ibm_watson_openscale.base_classes.watson_open_scale_v2 import ScoringEndpointRequest"
   ]
  },
  {
   "cell_type": "code",
   "execution_count": 26,
   "metadata": {},
   "outputs": [
    {
     "data": {
      "text/plain": [
       "'d673e127-dd69-4b05-a204-5b90332d7e72'"
      ]
     },
     "execution_count": 26,
     "metadata": {},
     "output_type": "execute_result"
    }
   ],
   "source": [
    "subscription_details = wos_client.subscriptions.add(\n",
    "        data_mart_id=data_mart_id,\n",
    "        service_provider_id=service_provider_id,\n",
    "        asset=Asset(\n",
    "            asset_id=model_asset_details_from_deployment[\"entity\"][\"asset\"][\"asset_id\"],\n",
    "            name=model_asset_details_from_deployment[\"entity\"][\"asset\"][\"name\"],\n",
    "            url=model_asset_details_from_deployment[\"entity\"][\"asset\"][\"url\"],\n",
    "            asset_type=AssetTypes.MODEL,\n",
    "            input_data_type=InputDataType.UNSTRUCTURED_TEXT,\n",
    "            problem_type=ProblemType.BINARY_CLASSIFICATION\n",
    "        ),\n",
    "        deployment=AssetDeploymentRequest(\n",
    "            deployment_id=asset_deployment_details['metadata']['guid'],\n",
    "            name=asset_deployment_details['entity']['name'],\n",
    "            deployment_type= DeploymentTypes.ONLINE,\n",
    "            url=model_asset_details_from_deployment['entity']['asset']['url'],\n",
    "            scoring_endpoint=ScoringEndpointRequest(url=scoring_url) # scoring model without shadow deployment\n",
    "        ),\n",
    "        asset_properties=AssetPropertiesRequest(\n",
    "            label_column='label',\n",
    "            probability_fields=['probability'],\n",
    "            prediction_field='predictionLabel',\n",
    "            feature_fields = [\"text\"],\n",
    "            categorical_fields = [\"text\"],\n",
    "            training_data_schema=SparkStruct.from_dict(model_asset_details_from_deployment[\"entity\"][\"asset_properties\"][\"training_data_schema\"])\n",
    "        )\n",
    "    ).result\n",
    "subscription_id = subscription_details.metadata.id\n",
    "subscription_id\n"
   ]
  },
  {
   "cell_type": "code",
   "execution_count": 27,
   "metadata": {},
   "outputs": [
    {
     "name": "stdout",
     "output_type": "stream",
     "text": [
      "Payload data set id:  506eb78a-57a1-4e15-96a3-c83b4e6584d3\n"
     ]
    }
   ],
   "source": [
    "import time\n",
    "\n",
    "time.sleep(5)\n",
    "payload_data_set_id = None\n",
    "payload_data_set_id = wos_client.data_sets.list(type=DataSetTypes.PAYLOAD_LOGGING, \n",
    "                                                target_target_id=subscription_id, \n",
    "                                                target_target_type=TargetTypes.SUBSCRIPTION).result.data_sets[0].metadata.id\n",
    "if payload_data_set_id is None:\n",
    "    print(\"Payload data set not found. Please check subscription status.\")\n",
    "else:\n",
    "    print(\"Payload data set id: \", payload_data_set_id)"
   ]
  },
  {
   "cell_type": "markdown",
   "metadata": {},
   "source": [
    "### 3.3 Get subscription"
   ]
  },
  {
   "cell_type": "code",
   "execution_count": 28,
   "metadata": {},
   "outputs": [
    {
     "data": {
      "text/html": [
       "<HTML>\n",
       "        <body>\n",
       "            <h3>Subscriptions</h3>\n",
       "            <table style='border: 1px solid #dddddd; font-family: Courier'>\n",
       "                <th style='border: 1px solid #dddddd'>asset_id</th><th style='border: 1px solid #dddddd'>asset_type</th><th style='border: 1px solid #dddddd'>asset_name</th><th style='border: 1px solid #dddddd'>data_mart_id</th><th style='border: 1px solid #dddddd'>deployment_id</th><th style='border: 1px solid #dddddd'>deployment_name</th><th style='border: 1px solid #dddddd'>service_provider_id</th><th style='border: 1px solid #dddddd'>status</th><th style='border: 1px solid #dddddd'>created_at</th><th style='border: 1px solid #dddddd'>id</th>\n",
       "                <tr><td style='border: 1px solid #dddddd'>20516963-37ff-4769-a41f-b509827f3076</td><td style='border: 1px solid #dddddd'>model</td><td style='border: 1px solid #dddddd'>Text Binary Classifier</td><td style='border: 1px solid #dddddd'>00000000-0000-0000-0000-000000000000</td><td style='border: 1px solid #dddddd'>18c8f8d4-cfbf-4fbb-a51a-5ac59d2e9e20</td><td style='border: 1px solid #dddddd'>Text Binary Classifier deployment</td><td style='border: 1px solid #dddddd'>b9fd3cb5-c7a4-4b5c-a90c-684676276352</td><td style='border: 1px solid #dddddd'>active</td><td style='border: 1px solid #dddddd'>2024-08-07 06:51:41.900000+00:00</td><td style='border: 1px solid #dddddd'>d673e127-dd69-4b05-a204-5b90332d7e72</td></tr><tr><td style='border: 1px solid #dddddd'>67e11064-81b2-4ea8-addf-b39c218299b4</td><td style='border: 1px solid #dddddd'>model</td><td style='border: 1px solid #dddddd'>German Credit Risk Model - Challenger</td><td style='border: 1px solid #dddddd'>00000000-0000-0000-0000-000000000000</td><td style='border: 1px solid #dddddd'>978e26e1-509c-4e03-b20a-baacfbbe222b</td><td style='border: 1px solid #dddddd'>German Credit Risk Model - Challenger</td><td style='border: 1px solid #dddddd'>81655d73-6ea3-44ae-9876-86df1fa6390d</td><td style='border: 1px solid #dddddd'>active</td><td style='border: 1px solid #dddddd'>2024-08-07 06:07:38.473000+00:00</td><td style='border: 1px solid #dddddd'>c0174a6c-d8e6-458b-8549-cd03d7df486e</td></tr><tr><td style='border: 1px solid #dddddd'>f1b4fe35-1a75-4dca-a9b3-bc5dd7ed43db</td><td style='border: 1px solid #dddddd'>model</td><td style='border: 1px solid #dddddd'>German Credit Risk Model - PreProd</td><td style='border: 1px solid #dddddd'>00000000-0000-0000-0000-000000000000</td><td style='border: 1px solid #dddddd'>42b13344-baa1-45a0-89ca-ef662387f691</td><td style='border: 1px solid #dddddd'>German Credit Risk Model - PreProd</td><td style='border: 1px solid #dddddd'>81655d73-6ea3-44ae-9876-86df1fa6390d</td><td style='border: 1px solid #dddddd'>active</td><td style='border: 1px solid #dddddd'>2024-08-07 06:07:24.153000+00:00</td><td style='border: 1px solid #dddddd'>61003e50-20d6-4ce8-a379-013a03c44229</td></tr><tr><td style='border: 1px solid #dddddd'>a4a1a71d-2a44-43f8-b92a-ba3c80dc36fd</td><td style='border: 1px solid #dddddd'>model</td><td style='border: 1px solid #dddddd'>Credit Risk python Fn Model</td><td style='border: 1px solid #dddddd'>00000000-0000-0000-0000-000000000000</td><td style='border: 1px solid #dddddd'>90b19695-de03-41b9-b820-2d3e11c2f662</td><td style='border: 1px solid #dddddd'>dep_Credit Risk python Fn Model</td><td style='border: 1px solid #dddddd'>e413a76d-802c-44f3-8c55-300c5aa2659b</td><td style='border: 1px solid #dddddd'>active</td><td style='border: 1px solid #dddddd'>2024-08-06 13:32:53.985000+00:00</td><td style='border: 1px solid #dddddd'>77c99979-8408-40b7-ab3a-e3c0a8a80aab</td></tr><tr><td style='border: 1px solid #dddddd'>eed8b225-19e5-4460-9b6f-7271dc1e3ff2</td><td style='border: 1px solid #dddddd'>model</td><td style='border: 1px solid #dddddd'>Adult Census Income Classifier Model</td><td style='border: 1px solid #dddddd'>00000000-0000-0000-0000-000000000000</td><td style='border: 1px solid #dddddd'>038b8c68-6615-4c0d-8d46-15783d6ab9c8</td><td style='border: 1px solid #dddddd'>Adult Census Income Classifier Deployment</td><td style='border: 1px solid #dddddd'>c3601bc6-22c9-45a1-b016-c29cf0bf64b4</td><td style='border: 1px solid #dddddd'>active</td><td style='border: 1px solid #dddddd'>2024-08-06 13:26:09.549000+00:00</td><td style='border: 1px solid #dddddd'>c274e76c-6bb9-43ce-ba64-127a3db95ede</td></tr><tr><td style='border: 1px solid #dddddd'>438ca544-9bd1-48c2-8e8d-3de4ef4ca79b</td><td style='border: 1px solid #dddddd'>model</td><td style='border: 1px solid #dddddd'>WML_IAE4</td><td style='border: 1px solid #dddddd'>00000000-0000-0000-0000-000000000000</td><td style='border: 1px solid #dddddd'>78a0af9e-1014-4fb1-b22a-5e11f4fd70e7</td><td style='border: 1px solid #dddddd'>WML_IAE4</td><td style='border: 1px solid #dddddd'>d90c6bf2-49c6-4179-9876-8b85b0247d95</td><td style='border: 1px solid #dddddd'>active</td><td style='border: 1px solid #dddddd'>2024-07-02 07:03:31.504000+00:00</td><td style='border: 1px solid #dddddd'>e34b9b87-b6e1-4c53-b92e-cb80dea042be</td></tr><tr><td style='border: 1px solid #dddddd'>592b902d-3dc9-4e56-8bcb-86cbf1a6d8a9</td><td style='border: 1px solid #dddddd'>model</td><td style='border: 1px solid #dddddd'>gcr - P2 XGB Classifier - Model</td><td style='border: 1px solid #dddddd'>00000000-0000-0000-0000-000000000000</td><td style='border: 1px solid #dddddd'>2b976af0-e4ab-4859-af7d-2f2287d864ad</td><td style='border: 1px solid #dddddd'>gcr model</td><td style='border: 1px solid #dddddd'>4d2f2fb2-6b64-4d58-8f13-257166e468e9</td><td style='border: 1px solid #dddddd'>active</td><td style='border: 1px solid #dddddd'>2024-07-17 07:11:44.727000+00:00</td><td style='border: 1px solid #dddddd'>e2df4ec7-6c75-416f-a444-8d21389f7513</td></tr><tr><td style='border: 1px solid #dddddd'>e3ac9fc3-bccf-4a4e-b37b-490bfb93dd81</td><td style='border: 1px solid #dddddd'>model</td><td style='border: 1px solid #dddddd'>GCR AutoAI - P2 XGB Classifier - Model</td><td style='border: 1px solid #dddddd'>00000000-0000-0000-0000-000000000000</td><td style='border: 1px solid #dddddd'>6399e6e8-df5a-4370-9af4-34b2f2e76bc6</td><td style='border: 1px solid #dddddd'>GCR Auto AI</td><td style='border: 1px solid #dddddd'>a7ca157a-de07-457a-8c4c-b1a2e998699c</td><td style='border: 1px solid #dddddd'>active</td><td style='border: 1px solid #dddddd'>2024-07-03 10:37:20.487000+00:00</td><td style='border: 1px solid #dddddd'>ce36911c-75f6-4f99-b4d2-b71e5d55a802</td></tr><tr><td style='border: 1px solid #dddddd'>592b902d-3dc9-4e56-8bcb-86cbf1a6d8a9</td><td style='border: 1px solid #dddddd'>model</td><td style='border: 1px solid #dddddd'>gcr - P2 XGB Classifier - Model</td><td style='border: 1px solid #dddddd'>00000000-0000-0000-0000-000000000000</td><td style='border: 1px solid #dddddd'>2b976af0-e4ab-4859-af7d-2f2287d864ad</td><td style='border: 1px solid #dddddd'>gcr model</td><td style='border: 1px solid #dddddd'>4d2f2fb2-6b64-4d58-8f13-257166e468e9</td><td style='border: 1px solid #dddddd'>active</td><td style='border: 1px solid #dddddd'>2024-07-02 15:33:17.454000+00:00</td><td style='border: 1px solid #dddddd'>e96278a6-7190-48f3-b8bd-945fa48cfe50</td></tr><tr><td style='border: 1px solid #dddddd'>327d8aea-ecfc-4990-9bb9-601a1695094d</td><td style='border: 1px solid #dddddd'>model</td><td style='border: 1px solid #dddddd'>GCR AutoAI - P2 XGB Classifier - Model</td><td style='border: 1px solid #dddddd'>00000000-0000-0000-0000-000000000000</td><td style='border: 1px solid #dddddd'>755c3e75-24b5-4839-8a8f-3f85c07a40c9</td><td style='border: 1px solid #dddddd'>GCR demo</td><td style='border: 1px solid #dddddd'>a7ca157a-de07-457a-8c4c-b1a2e998699c</td><td style='border: 1px solid #dddddd'>active</td><td style='border: 1px solid #dddddd'>2024-07-02 12:03:14.224000+00:00</td><td style='border: 1px solid #dddddd'>a0f86241-8bfc-4322-895a-2597512e1653</td></tr>\n",
       "            </table>\n",
       "        </body>\n",
       "        </HTML>"
      ],
      "text/plain": [
       "<IPython.core.display.HTML object>"
      ]
     },
     "metadata": {},
     "output_type": "display_data"
    },
    {
     "name": "stdout",
     "output_type": "stream",
     "text": [
      "Note: First 10 records were displayed.\n"
     ]
    }
   ],
   "source": [
    "wos_client.subscriptions.show()"
   ]
  },
  {
   "cell_type": "code",
   "execution_count": 29,
   "metadata": {},
   "outputs": [
    {
     "data": {
      "text/plain": [
       "{'metadata': {'id': 'd673e127-dd69-4b05-a204-5b90332d7e72',\n",
       "  'crn': 'crn:v1:bluemix:public:aiopenscale:us-south:a/na:00000000-0000-0000-0000-000000000000:subscription:d673e127-dd69-4b05-a204-5b90332d7e72',\n",
       "  'url': '/v2/subscriptions/d673e127-dd69-4b05-a204-5b90332d7e72',\n",
       "  'created_at': '2024-08-07T06:51:41.900000Z',\n",
       "  'created_by': 'cpadmin',\n",
       "  'modified_at': '2024-08-07T06:51:43.905000Z',\n",
       "  'modified_by': 'cpadmin'},\n",
       " 'entity': {'data_mart_id': '00000000-0000-0000-0000-000000000000',\n",
       "  'service_provider_id': 'b9fd3cb5-c7a4-4b5c-a90c-684676276352',\n",
       "  'asset': {'asset_id': '20516963-37ff-4769-a41f-b509827f3076',\n",
       "   'url': 'https://internal-nginx-svc:12443/ml/v4/models/20516963-37ff-4769-a41f-b509827f3076?space_id=7e5a8be6-9103-4c22-9c43-b66f3d8364de&version=2020-06-12',\n",
       "   'name': 'Text Binary Classifier',\n",
       "   'asset_type': 'model',\n",
       "   'problem_type': 'binary',\n",
       "   'input_data_type': 'unstructured_text'},\n",
       "  'asset_properties': {'training_data_schema': {'type': 'struct',\n",
       "    'fields': [{'metadata': {'modeling_role': 'target'},\n",
       "      'name': 'label',\n",
       "      'nullable': True,\n",
       "      'type': 'string'},\n",
       "     {'metadata': {'measure': 'discrete', 'modeling_role': 'feature'},\n",
       "      'name': 'text',\n",
       "      'nullable': True,\n",
       "      'type': 'string'}],\n",
       "    'id': '1'},\n",
       "   'output_data_schema': {'type': 'struct',\n",
       "    'fields': [{'metadata': {'columnInfo': {'columnLength': 64},\n",
       "       'measure': 'discrete',\n",
       "       'modeling_role': 'feature'},\n",
       "      'name': 'text',\n",
       "      'nullable': True,\n",
       "      'type': 'string'},\n",
       "     {'metadata': {'modeling_role': 'prediction-probability'},\n",
       "      'name': 'prediction_probability',\n",
       "      'nullable': True,\n",
       "      'type': 'double'},\n",
       "     {'metadata': {'columnInfo': {'columnLength': 128},\n",
       "       'modeling_role': 'record-id',\n",
       "       'primary_key': True},\n",
       "      'name': 'scoring_id',\n",
       "      'nullable': False,\n",
       "      'type': 'string'},\n",
       "     {'metadata': {'modeling_role': 'record-timestamp'},\n",
       "      'name': 'scoring_timestamp',\n",
       "      'nullable': False,\n",
       "      'type': 'timestamp'},\n",
       "     {'metadata': {},\n",
       "      'name': 'deployment_id',\n",
       "      'nullable': False,\n",
       "      'type': 'string'},\n",
       "     {'metadata': {},\n",
       "      'name': 'asset_revision',\n",
       "      'nullable': True,\n",
       "      'type': 'string'},\n",
       "     {'metadata': {'modeling_role': 'probability'},\n",
       "      'name': 'ProbabilityVector',\n",
       "      'nullable': True,\n",
       "      'type': {'containsNull': True,\n",
       "       'elementType': 'double',\n",
       "       'type': 'array'}}]},\n",
       "   'label_column': 'label',\n",
       "   'prediction_field': 'predictionLabel',\n",
       "   'feature_fields': ['text'],\n",
       "   'categorical_fields': ['text'],\n",
       "   'probability_fields': ['probability']},\n",
       "  'deployment': {'deployment_id': '18c8f8d4-cfbf-4fbb-a51a-5ac59d2e9e20',\n",
       "   'url': 'https://internal-nginx-svc:12443/ml/v4/models/20516963-37ff-4769-a41f-b509827f3076?space_id=7e5a8be6-9103-4c22-9c43-b66f3d8364de&version=2020-06-12',\n",
       "   'name': 'Text Binary Classifier deployment',\n",
       "   'deployment_type': 'online',\n",
       "   'scoring_endpoint': {'url': 'https://cpd-cpd-instance.apps.wos415nfs2672.cp.fyre.ibm.com/ml/v4/deployments/18c8f8d4-cfbf-4fbb-a51a-5ac59d2e9e20/predictions'}},\n",
       "  'status': {'state': 'active'}}}"
      ]
     },
     "execution_count": 29,
     "metadata": {},
     "output_type": "execute_result"
    }
   ],
   "source": [
    "wos_client.subscriptions.get(subscription_id).result.to_dict()"
   ]
  },
  {
   "cell_type": "markdown",
   "metadata": {},
   "source": [
    "### 3.4 Score the model and get transaction-id"
   ]
  },
  {
   "cell_type": "code",
   "execution_count": 30,
   "metadata": {},
   "outputs": [
    {
     "name": "stdout",
     "output_type": "stream",
     "text": [
      "{'predictions': [{'fields': ['text', 'label_ix', 'words', 'filtered_words', 'rawFeatures', 'features', 'rawPrediction', 'probability', 'prediction', 'predictionLabel'], 'values': [['SIX chances to win CASH! From 100 to 20,000 pounds txt> CSH11 and send to 87575. Cost 150p/day, 6days, 16+ TsandCs apply Reply HL 4 info', 0.0, ['six', 'chances', 'to', 'win', 'cash!', 'from', '100', 'to', '20,000', 'pounds', 'txt>', 'csh11', 'and', 'send', 'to', '87575.', 'cost', '150p/day,', '6days,', '16+', 'tsandcs', 'apply', 'reply', 'hl', '4', 'info'], ['six', 'chances', 'win', 'cash!', '100', '20,000', 'pounds', 'txt>', 'csh11', 'send', '87575.', 'cost', '150p/day,', '6days,', '16+', 'tsandcs', 'apply', 'reply', 'hl', '4', 'info'], [11799, [8, 18, 40, 102, 313, 400, 408, 510, 527, 1032, 1444, 1682, 1894, 2833, 2844, 2864, 3487, 3543, 4111, 4338, 4522], [1.0, 1.0, 1.0, 1.0, 1.0, 1.0, 1.0, 1.0, 1.0, 1.0, 1.0, 1.0, 1.0, 1.0, 1.0, 1.0, 1.0, 1.0, 1.0, 1.0, 1.0]], [11799, [8, 18, 40, 102, 313, 400, 408, 510, 527, 1032, 1444, 1682, 1894, 2833, 2844, 2864, 3487, 3543, 4111, 4338, 4522], [3.1547582677444233, 3.425048597484335, 3.8799937628558694, 4.489759334476764, 5.310739886546594, 5.511410582008745, 5.511410582008745, 5.6937321388027, 5.7627250102896515, 6.322340798225074, 6.610022870676855, 6.792344427470809, 6.792344427470809, 7.3031700512368, 7.3031700512368, 7.3031700512368, 7.3031700512368, 7.3031700512368, 7.3031700512368, 7.3031700512368, 7.3031700512368]], [-0.8872835159807275, 0.8872835159807275], [0.1449752928556198, 0.8550247071443802], 1.0, 'spam']]}]}\n"
     ]
    }
   ],
   "source": [
    "text = \"SIX chances to win CASH! From 100 to 20,000 pounds txt> CSH11 and send to 87575. Cost 150p/day, 6days, 16+ TsandCs apply Reply HL 4 info\"\n",
    "payload = {\"input_data\": [{\"fields\": [\"text\"], \"values\": [[text]]}]}\n",
    "\n",
    "response = wml_client.deployments.score(deployment_uid,payload)\n",
    "print(response)"
   ]
  },
  {
   "cell_type": "code",
   "execution_count": 31,
   "metadata": {},
   "outputs": [
    {
     "data": {
      "text/plain": [
       "1"
      ]
     },
     "execution_count": 31,
     "metadata": {},
     "output_type": "execute_result"
    }
   ],
   "source": [
    "wos_client.data_sets.get_records_count(payload_data_set_id)"
   ]
  },
  {
   "cell_type": "markdown",
   "metadata": {},
   "source": [
    "## 4. Explainability"
   ]
  },
  {
   "cell_type": "markdown",
   "metadata": {},
   "source": [
    "### 4.1 Configure Explainability"
   ]
  },
  {
   "cell_type": "code",
   "execution_count": 32,
   "metadata": {},
   "outputs": [
    {
     "name": "stdout",
     "output_type": "stream",
     "text": [
      "\n",
      "\n",
      "===================================================================================\n",
      "\n",
      " Waiting for end of monitor instance creation 3a4799d7-29cf-45e2-885e-0f74be401631 \n",
      "\n",
      "===================================================================================\n",
      "\n",
      "\n",
      "\n",
      "preparing\n",
      "active\n",
      "\n",
      "---------------------------------------\n",
      " Monitor instance successfully created \n",
      "---------------------------------------\n",
      "\n",
      "\n"
     ]
    }
   ],
   "source": [
    "target = Target(\n",
    "    target_type=TargetTypes.SUBSCRIPTION,\n",
    "    target_id=subscription_id\n",
    ")\n",
    "parameters = {\n",
    "    \"enabled\": True\n",
    "}\n",
    "explainability_details = wos_client.monitor_instances.create(\n",
    "    data_mart_id=data_mart_id,\n",
    "    background_mode=False,\n",
    "    monitor_definition_id=wos_client.monitor_definitions.MONITORS.EXPLAINABILITY.ID,\n",
    "    target=target,\n",
    "    parameters=parameters\n",
    ").result\n",
    "\n",
    "explainability_monitor_id = explainability_details.metadata.id"
   ]
  },
  {
   "cell_type": "markdown",
   "metadata": {},
   "source": [
    "### 4.2 Get explanation for the transaction\n",
    "\n",
    "Generate LIME or SHAP explanation as needed."
   ]
  },
  {
   "cell_type": "code",
   "execution_count": 33,
   "metadata": {},
   "outputs": [
    {
     "name": "stdout",
     "output_type": "stream",
     "text": [
      "Running explanations on scoring IDs: ['8e130860e92435e295d538a4a2980d86-1']\n",
      "{\n",
      "  \"metadata\": {\n",
      "    \"explanation_task_ids\": [\n",
      "      \"e6e1a981-1d64-42da-a94e-5aaa3d7e0d3b\"\n",
      "    ],\n",
      "    \"created_by\": \"1000331001\",\n",
      "    \"created_at\": \"2024-08-07T06:52:23.539044Z\"\n",
      "  }\n",
      "}\n"
     ]
    }
   ],
   "source": [
    "pl_records_resp = wos_client.data_sets.get_list_of_records(data_set_id=payload_data_set_id, limit=1, offset=0).result\n",
    "scoring_ids = [pl_records_resp[\"records\"][0][\"entity\"][\"values\"][\"scoring_id\"]]\n",
    "print(\"Running explanations on scoring IDs: {}\".format(scoring_ids))\n",
    "explanation_types = [\"lime\"] # Specify [\"shap\"] to generate SHAP explanation\n",
    "result = wos_client.monitor_instances.explanation_tasks(scoring_ids=scoring_ids, explanation_types=explanation_types, subscription_id=subscription_id).result\n",
    "print(result)"
   ]
  },
  {
   "cell_type": "code",
   "execution_count": 34,
   "metadata": {},
   "outputs": [
    {
     "data": {
      "text/plain": [
       "{'metadata': {'explanation_task_id': 'e6e1a981-1d64-42da-a94e-5aaa3d7e0d3b',\n",
       "  'created_by': '1000331001',\n",
       "  'created_at': '2024-08-07T06:52:23.539044Z'},\n",
       " 'entity': {'status': {'state': 'in_progress'},\n",
       "  'asset': {'id': '20516963-37ff-4769-a41f-b509827f3076',\n",
       "   'name': 'Text Binary Classifier',\n",
       "   'input_data_type': 'unstructured_text',\n",
       "   'problem_type': 'binary',\n",
       "   'deployment': {'id': '18c8f8d4-cfbf-4fbb-a51a-5ac59d2e9e20',\n",
       "    'name': 'Text Binary Classifier deployment'}},\n",
       "  'scoring_id': '8e130860e92435e295d538a4a2980d86-1'}}"
      ]
     },
     "execution_count": 34,
     "metadata": {},
     "output_type": "execute_result"
    }
   ],
   "source": [
    "explanation_task_id=result.to_dict()['metadata']['explanation_task_ids'][0]\n",
    "wos_client.monitor_instances.get_explanation_tasks(explanation_task_id=explanation_task_id, subscription_id=subscription_id).result.to_dict()"
   ]
  }
 ],
 "metadata": {
  "kernelspec": {
   "display_name": "Python 3 (ipykernel)",
   "language": "python",
   "name": "python3"
  },
  "language_info": {
   "codemirror_mode": {
    "name": "ipython",
    "version": 3
   },
   "file_extension": ".py",
   "mimetype": "text/x-python",
   "name": "python",
   "nbconvert_exporter": "python",
   "pygments_lexer": "ipython3",
   "version": "3.10.14"
  },
  "varInspector": {
   "cols": {
    "lenName": 16,
    "lenType": 16,
    "lenVar": 40
   },
   "kernels_config": {
    "python": {
     "delete_cmd_postfix": "",
     "delete_cmd_prefix": "del ",
     "library": "var_list.py",
     "varRefreshCmd": "print(var_dic_list())"
    },
    "r": {
     "delete_cmd_postfix": ") ",
     "delete_cmd_prefix": "rm(",
     "library": "var_list.r",
     "varRefreshCmd": "cat(var_dic_list()) "
    }
   },
   "types_to_exclude": [
    "module",
    "function",
    "builtin_function_or_method",
    "instance",
    "_Feature"
   ],
   "window_display": false
  }
 },
 "nbformat": 4,
 "nbformat_minor": 2
}
