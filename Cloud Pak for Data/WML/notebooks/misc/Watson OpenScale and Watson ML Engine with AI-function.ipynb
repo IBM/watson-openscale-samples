{
    "cells": [
        {
            "cell_type": "markdown",
            "metadata": {
                "id": "130546d4-d72c-46f1-a506-246ace42ad56"
            },
            "source": [
                "<img src=\"https://github.com/pmservice/ai-openscale-tutorials/raw/master/notebooks/images/banner.png\" align=\"left\" alt=\"banner\">"
            ]
        },
        {
            "cell_type": "markdown",
            "metadata": {
                "id": "a6d32920-c6f8-4df6-91a7-925640a9920a"
            },
            "source": [
                "# Working with Watson Machine Learning"
            ]
        },
        {
            "cell_type": "markdown",
            "metadata": {
                "id": "ab7073b7-baf8-48ba-b9fb-e39e497596aa"
            },
            "source": [
                "This notebook should be run using with **Default Spark 3.3 & Python 3.10** or **Python 3.9** runtime environment. **If you are viewing this in Watson Studio and do not see Python 3.10.x in the upper right corner of your screen, please update the runtime now.** It requires service credentials for the following services:\n",
                "  * Watson OpenScale\n",
                "  * Watson Machine Learning \n",
                "  * DB2\n",
                "\n",
                "  \n",
                "The notebook will train, create and deploy a German Credit Risk model, configure OpenScale to monitor that deployment, and inject seven days' worth of historical records and measurements for viewing in the OpenScale Insights dashboard."
            ]
        },
        {
            "cell_type": "markdown",
            "metadata": {
                "id": "75d4d5c7-59e0-47b6-8073-d5fe7b60a28a"
            },
            "source": [
                "### Contents\n",
                "\n",
                "- [Setup](#setup)\n",
                "- [Model building and deployment](#model)\n",
                "- [OpenScale configuration](#openscale)\n",
                "- [Quality monitor and feedback logging](#quality)\n",
                "- [Fairness, drift monitoring and explanations](#fairness)\n",
                "- [Custom monitors and metrics](#custom)\n",
                "- [Historical data](#historical)"
            ]
        },
        {
            "cell_type": "markdown",
            "metadata": {
                "id": "8c3c7fcc-8701-45f3-ab34-af1b093b590c"
            },
            "source": [
                "# Setup <a name=\"setup\"></a>"
            ]
        },
        {
            "cell_type": "markdown",
            "metadata": {
                "id": "8b4212ee-4116-4a47-a586-f0997df1ec53"
            },
            "source": [
                "## Package installation"
            ]
        },
        {
            "cell_type": "code",
            "execution_count": 1,
            "metadata": {
                "id": "57a4e88e-7792-4ef9-b8c2-c96cd25e7da8"
            },
            "outputs": [],
            "source": [
                "import warnings\n",
                "warnings.filterwarnings('ignore')"
            ]
        },
        {
            "cell_type": "code",
            "execution_count": 2,
            "metadata": {
                "id": "2eb75b61-93b5-4139-96d5-fae98c8c9173",
                "scrolled": true
            },
            "outputs": [
                {
                    "name": "stdout",
                    "output_type": "stream",
                    "text": [
                        "Requirement already satisfied: py4j==0.10.9.5 in /opt/conda/envs/Python-RT24.1-Premium/lib/python3.11/site-packages (from pyspark==3.3.0) (0.10.9.5)\r\n"
                    ]
                },
                {
                    "name": "stdout",
                    "output_type": "stream",
                    "text": [
                        "Requirement already satisfied: six>=1.10.0 in /opt/conda/envs/Python-RT24.1-Premium/lib/python3.11/site-packages (from lomond->ibm-watson-machine-learning) (1.16.0)\r\n"
                    ]
                },
                {
                    "name": "stdout",
                    "output_type": "stream",
                    "text": [
                        "Requirement already satisfied: certifi>=2017.4.17 in /opt/conda/envs/Python-RT24.1-Premium/lib/python3.11/site-packages (from requests<3.0,>=2.0->ibm-watson-openscale) (2024.7.4)\r\n"
                    ]
                }
            ],
            "source": [
                "!pip install --upgrade pyspark==3.3.0 --no-cache | tail -n 1\n",
                "\n",
                "#If you are running this notebook in non IBM Watson Studio env then uncomment the below pip statements and run it\n",
                "#!pip install --upgrade pandas==1.2.3 --no-cache | tail -n 1 \n",
                "#!pip install --upgrade requests==2.23 --no-cache | tail -n 1\n",
                "#!pip install numpy==1.20.1 --no-cache | tail -n 1\n",
                "#!pip install SciPy --no-cache | tail -n 1\n",
                "#!pip install lime --no-cache | tail -n 1\n",
                "\n",
                "!pip install --upgrade ibm-watson-machine-learning --user | tail -n 1\n",
                "!pip install --upgrade ibm-watson-openscale --no-cache | tail -n 1"
            ]
        },
        {
            "cell_type": "markdown",
            "metadata": {
                "id": "cd55a125-14e4-440c-a2ee-c58813d75f9e"
            },
            "source": [
                "### Action: restart the kernel!"
            ]
        },
        {
            "cell_type": "markdown",
            "metadata": {
                "id": "39964944-8353-41ab-bf19-72dec9dd3eae"
            },
            "source": [
                "## Configure credentials"
            ]
        },
        {
            "cell_type": "markdown",
            "metadata": {
                "id": "2abe81f0-cd47-4fe0-9b5c-505712c17752"
            },
            "source": [
                "- WOS_CREDENTIALS (CP4D)\n",
                "- WML_CREDENTIALS (CP4D)\n",
                "- DATABASE_CREDENTIALS (DB2 on CP4D or Cloud Object Storage (COS))\n",
                "- SCHEMA_NAME"
            ]
        },
        {
            "cell_type": "code",
            "execution_count": 3,
            "metadata": {
                "id": "3f499be0-0ed7-46c9-9bf4-753c2529525f"
            },
            "outputs": [],
            "source": [
                "WOS_CREDENTIALS = {\n",
                "    \"url\": \"<URL>\",\n",
                "    \"username\": \"<USER>\",\n",
                "    \"password\": \"<PASSWORD>\"\n",
                "}"
            ]
        },
        {
            "cell_type": "code",
            "execution_count": 4,
            "metadata": {
                "id": "4515adc7fa8b46ac8e6e9ac59d396b7f"
            },
            "outputs": [],
            "source": [
                "WML_CREDENTIALS = {\n",
                "                   \"url\": WOS_CREDENTIALS['url'],\n",
                "                   \"username\": WOS_CREDENTIALS['username'],\n",
                "                   \"password\": WOS_CREDENTIALS['password'],\n",
                "                   \"instance_id\": \"openshift\",\n",
                "                   \"version\" : \"4.5\" #If your env is CP4D 4.x.x then specify \"4.x.x\" instead of \"4.5\"  \n",
                "                  }"
            ]
        },
        {
            "cell_type": "code",
            "execution_count": 5,
            "metadata": {
                "id": "feafb75f-4fb1-4dcf-85c3-07d4b5d888a4"
            },
            "outputs": [],
            "source": [
                "#IBM DB2 database connection format example. This is required if you don't have any existing datamarts\n",
                "DATABASE_CREDENTIALS = {\n",
                "    \"hostname\":\"***\",\n",
                "    \"username\":\"***\",\n",
                "    \"password\":\"***\",\n",
                "    \"database\":\"***\",\n",
                "    \"port\":\"***\",\n",
                "    \"ssl\":\"***\",\n",
                "    \"sslmode\":\"***\",\n",
                "    \"certificate_base64\":\"***\"}"
            ]
        },
        {
            "cell_type": "markdown",
            "metadata": {
                "id": "3161161a-242a-4938-abc5-25ff8095748b"
            },
            "source": [
                "### Action: put created schema name below."
            ]
        },
        {
            "cell_type": "code",
            "execution_count": 6,
            "metadata": {
                "id": "973fda16-bc37-46d7-b193-2d775de597d6"
            },
            "outputs": [],
            "source": [
                "#This is required if you don't have any existing datamarts\n",
                "SCHEMA_NAME = '<SCHEMA_NAME>'"
            ]
        },
        {
            "cell_type": "markdown",
            "metadata": {
                "id": "749014a4-f65f-4e78-94d0-ee2738519721"
            },
            "source": [
                "## Run the notebook\n",
                "\n",
                "At this point, the notebook is ready to run. You can either run the cells one at a time, or click the **Kernel** option above and select **Restart and Run All** to run all the cells."
            ]
        },
        {
            "cell_type": "markdown",
            "metadata": {
                "id": "f4fe0e5c-dead-4c2a-a5fc-de179245bdf0"
            },
            "source": [
                "# Model building and deployment <a name=\"model\"></a>"
            ]
        },
        {
            "cell_type": "markdown",
            "metadata": {
                "id": "f9c44abc-9abb-4e6c-86bc-cb02dd7e8bb8"
            },
            "source": [
                "In this section you will learn how to train Spark MLLib model and next deploy it as web-service using Watson Machine Learning service."
            ]
        },
        {
            "cell_type": "markdown",
            "metadata": {
                "id": "b69186c1-b491-40a7-a657-4ca112e82209"
            },
            "source": [
                "## Load the training data from github"
            ]
        },
        {
            "cell_type": "code",
            "execution_count": 7,
            "metadata": {
                "id": "e1a634fc-4524-494c-842f-3f9a0d4cba9c",
                "scrolled": true
            },
            "outputs": [
                {
                    "name": "stdout",
                    "output_type": "stream",
                    "text": [
                        "--2024-09-06 09:33:16--  https://raw.githubusercontent.com/IBM/watson-openscale-samples/main/Cloud%20Pak%20for%20Data/WML/assets/data/credit_risk/german_credit_data_biased_training.csv\r\n"
                    ]
                },
                {
                    "name": "stdout",
                    "output_type": "stream",
                    "text": [
                        "Resolving raw.githubusercontent.com (raw.githubusercontent.com)... 185.199.109.133, 185.199.110.133, 185.199.111.133, ...\r\n",
                        "Connecting to raw.githubusercontent.com (raw.githubusercontent.com)|185.199.109.133|:443... connected.\r\n",
                        "HTTP request sent, awaiting response... "
                    ]
                },
                {
                    "name": "stdout",
                    "output_type": "stream",
                    "text": [
                        "200 OK\r\n",
                        "Length: 689622 (673K) [text/plain]\r\n",
                        "Saving to: ‘german_credit_data_biased_training.csv’\r\n",
                        "\r\n",
                        "\r          german_cr   0%[                    ]       0  --.-KB/s               \rgerman_credit_data_ 100%[===================>] 673.46K  --.-KB/s    in 0.02s   \r\n",
                        "\r\n",
                        "2024-09-06 09:33:16 (36.1 MB/s) - ‘german_credit_data_biased_training.csv’ saved [689622/689622]\r\n",
                        "\r\n"
                    ]
                }
            ],
            "source": [
                "!rm german_credit_data_biased_training.csv\n",
                "!wget https://raw.githubusercontent.com/IBM/watson-openscale-samples/main/Cloud%20Pak%20for%20Data/WML/assets/data/credit_risk/german_credit_data_biased_training.csv"
            ]
        },
        {
            "cell_type": "code",
            "execution_count": 8,
            "metadata": {
                "id": "7a7b9f92-0fdb-4eb9-9c56-3f56653e08c5",
                "scrolled": true
            },
            "outputs": [
                {
                    "name": "stderr",
                    "output_type": "stream",
                    "text": [
                        "Setting default log level to \"WARN\".\n",
                        "To adjust logging level use sc.setLogLevel(newLevel). For SparkR, use setLogLevel(newLevel).\n"
                    ]
                },
                {
                    "name": "stdout",
                    "output_type": "stream",
                    "text": [
                        "24/09/06 09:33:21 WARN NativeCodeLoader: Unable to load native-hadoop library for your platform... using builtin-java classes where applicable\n"
                    ]
                },
                {
                    "name": "stdout",
                    "output_type": "stream",
                    "text": [
                        "24/09/06 09:33:22 WARN Utils: Service 'SparkUI' could not bind on port 4040. Attempting port 4041.\n"
                    ]
                },
                {
                    "name": "stderr",
                    "output_type": "stream",
                    "text": [
                        "\r[Stage 0:>                                                          (0 + 1) / 1]\r"
                    ]
                },
                {
                    "name": "stderr",
                    "output_type": "stream",
                    "text": [
                        "\r                                                                                \r"
                    ]
                },
                {
                    "data": {
                        "text/plain": [
                            "Row(CheckingStatus='0_to_200', LoanDuration=31, CreditHistory='credits_paid_to_date', LoanPurpose='other', LoanAmount=1889, ExistingSavings='100_to_500', EmploymentDuration='less_1', InstallmentPercent=3, Sex='female', OthersOnLoan='none', CurrentResidenceDuration=3, OwnsProperty='savings_insurance', Age=32, InstallmentPlans='none', Housing='own', ExistingCreditsCount=1, Job='skilled', Dependents=1, Telephone='none', ForeignWorker='yes', Risk='No Risk')"
                        ]
                    },
                    "execution_count": 8,
                    "metadata": {},
                    "output_type": "execute_result"
                }
            ],
            "source": [
                "from pyspark.sql import SparkSession\n",
                "import pandas as pd\n",
                "import json\n",
                "\n",
                "spark = SparkSession.builder.getOrCreate()\n",
                "pd_data = pd.read_csv(\"german_credit_data_biased_training.csv\", sep=\",\", header=0)\n",
                "df_data = spark.read.csv(path=\"german_credit_data_biased_training.csv\", sep=\",\", header=True, inferSchema=True)\n",
                "df_data.head()"
            ]
        },
        {
            "cell_type": "markdown",
            "metadata": {
                "id": "84a9f61c-d459-4063-8b42-8c74d6fed26e"
            },
            "source": [
                "## Explore data"
            ]
        },
        {
            "cell_type": "code",
            "execution_count": 9,
            "metadata": {
                "id": "08482041-a3cb-4649-9faa-ba434680a545",
                "scrolled": true
            },
            "outputs": [
                {
                    "name": "stdout",
                    "output_type": "stream",
                    "text": [
                        "root\n",
                        " |-- CheckingStatus: string (nullable = true)\n",
                        " |-- LoanDuration: integer (nullable = true)\n",
                        " |-- CreditHistory: string (nullable = true)\n",
                        " |-- LoanPurpose: string (nullable = true)\n",
                        " |-- LoanAmount: integer (nullable = true)\n",
                        " |-- ExistingSavings: string (nullable = true)\n",
                        " |-- EmploymentDuration: string (nullable = true)\n",
                        " |-- InstallmentPercent: integer (nullable = true)\n",
                        " |-- Sex: string (nullable = true)\n",
                        " |-- OthersOnLoan: string (nullable = true)\n",
                        " |-- CurrentResidenceDuration: integer (nullable = true)\n",
                        " |-- OwnsProperty: string (nullable = true)\n",
                        " |-- Age: integer (nullable = true)\n",
                        " |-- InstallmentPlans: string (nullable = true)\n",
                        " |-- Housing: string (nullable = true)\n",
                        " |-- ExistingCreditsCount: integer (nullable = true)\n",
                        " |-- Job: string (nullable = true)\n",
                        " |-- Dependents: integer (nullable = true)\n",
                        " |-- Telephone: string (nullable = true)\n",
                        " |-- ForeignWorker: string (nullable = true)\n",
                        " |-- Risk: string (nullable = true)\n",
                        "\n"
                    ]
                }
            ],
            "source": [
                "df_data.printSchema()"
            ]
        },
        {
            "cell_type": "code",
            "execution_count": 10,
            "metadata": {
                "id": "f82e8b88-d2f7-47a8-910c-86ee276db604",
                "scrolled": true
            },
            "outputs": [
                {
                    "name": "stdout",
                    "output_type": "stream",
                    "text": [
                        "Number of records: 5000\n"
                    ]
                }
            ],
            "source": [
                "print(\"Number of records: \" + str(df_data.count()))"
            ]
        },
        {
            "cell_type": "code",
            "execution_count": 11,
            "metadata": {
                "id": "353ac205-d447-46b1-bfeb-39457db0536f",
                "pixiedust": {
                    "displayParams": {
                        "aggregation": "COUNT",
                        "chartsize": "51",
                        "handlerId": "pieChart",
                        "keyFields": "Risk",
                        "mpld3": "false",
                        "rendererId": "bokeh"
                    },
                    "pixieapp": {
                        "name": "Spark German Risk Model - Final",
                        "runtime": "spark-mllib_2.3",
                        "type": "mllib_2.3"
                    }
                }
            },
            "outputs": [
                {
                    "data": {
                        "text/plain": [
                            "DataFrame[CheckingStatus: string, LoanDuration: int, CreditHistory: string, LoanPurpose: string, LoanAmount: int, ExistingSavings: string, EmploymentDuration: string, InstallmentPercent: int, Sex: string, OthersOnLoan: string, CurrentResidenceDuration: int, OwnsProperty: string, Age: int, InstallmentPlans: string, Housing: string, ExistingCreditsCount: int, Job: string, Dependents: int, Telephone: string, ForeignWorker: string, Risk: string]"
                        ]
                    },
                    "metadata": {},
                    "output_type": "display_data"
                }
            ],
            "source": [
                "display(df_data)"
            ]
        },
        {
            "cell_type": "markdown",
            "metadata": {
                "id": "7478be73-75c1-4f83-9a13-3b807a7b3925"
            },
            "source": [
                "## Create a model"
            ]
        },
        {
            "cell_type": "code",
            "execution_count": 12,
            "metadata": {
                "id": "c210dca2-86ee-4a2d-bb00-907359668466",
                "scrolled": true
            },
            "outputs": [
                {
                    "name": "stderr",
                    "output_type": "stream",
                    "text": [
                        "\r[Stage 6:>                                                          (0 + 1) / 1]\r\r                                                                                \r"
                    ]
                },
                {
                    "name": "stdout",
                    "output_type": "stream",
                    "text": [
                        "Number of records for training: 4005\n"
                    ]
                },
                {
                    "name": "stdout",
                    "output_type": "stream",
                    "text": [
                        "Number of records for evaluation: 995\n",
                        "root\n",
                        " |-- CheckingStatus: string (nullable = true)\n",
                        " |-- LoanDuration: integer (nullable = true)\n",
                        " |-- CreditHistory: string (nullable = true)\n",
                        " |-- LoanPurpose: string (nullable = true)\n",
                        " |-- LoanAmount: integer (nullable = true)\n",
                        " |-- ExistingSavings: string (nullable = true)\n",
                        " |-- EmploymentDuration: string (nullable = true)\n",
                        " |-- InstallmentPercent: integer (nullable = true)\n",
                        " |-- Sex: string (nullable = true)\n",
                        " |-- OthersOnLoan: string (nullable = true)\n",
                        " |-- CurrentResidenceDuration: integer (nullable = true)\n",
                        " |-- OwnsProperty: string (nullable = true)\n",
                        " |-- Age: integer (nullable = true)\n",
                        " |-- InstallmentPlans: string (nullable = true)\n",
                        " |-- Housing: string (nullable = true)\n",
                        " |-- ExistingCreditsCount: integer (nullable = true)\n",
                        " |-- Job: string (nullable = true)\n",
                        " |-- Dependents: integer (nullable = true)\n",
                        " |-- Telephone: string (nullable = true)\n",
                        " |-- ForeignWorker: string (nullable = true)\n",
                        " |-- Risk: string (nullable = true)\n",
                        "\n"
                    ]
                }
            ],
            "source": [
                "spark_df = df_data\n",
                "(train_data, test_data) = spark_df.randomSplit([0.8, 0.2], 24)\n",
                "\n",
                "MODEL_NAME = \"Spark German Risk Model - AI Function\"\n",
                "DEPLOYMENT_NAME = \"Spark German Risk Deployment - AI Function\"\n",
                "\n",
                "print(\"Number of records for training: \" + str(train_data.count()))\n",
                "print(\"Number of records for evaluation: \" + str(test_data.count()))\n",
                "\n",
                "spark_df.printSchema()"
            ]
        },
        {
            "cell_type": "markdown",
            "metadata": {
                "id": "001138a9-3891-4b23-a4f6-716bfc09a7cb"
            },
            "source": [
                "The code below creates a Random Forest Classifier with Spark, setting up string indexers for the categorical features and the label column. Finally, this notebook creates a pipeline including the indexers and the model, and does an initial Area Under ROC evaluation of the model."
            ]
        },
        {
            "cell_type": "code",
            "execution_count": 13,
            "metadata": {
                "id": "3e9dfabb-15fc-4ea0-aaeb-b58c1cc5ec51",
                "scrolled": true
            },
            "outputs": [],
            "source": [
                "from pyspark.ml.feature import OneHotEncoder, StringIndexer, IndexToString, VectorAssembler\n",
                "from pyspark.ml.evaluation import BinaryClassificationEvaluator\n",
                "from pyspark.ml import Pipeline, Model\n",
                "from pyspark.ml.feature import SQLTransformer\n",
                "\n",
                "features = [x for x in spark_df.columns if x != 'Risk']\n",
                "categorical_features = ['CheckingStatus', 'CreditHistory', 'LoanPurpose', 'ExistingSavings', 'EmploymentDuration', 'Sex', 'OthersOnLoan', 'OwnsProperty', 'InstallmentPlans', 'Housing', 'Job', 'Telephone', 'ForeignWorker']\n",
                "categorical_num_features = [x + '_IX' for x in categorical_features]\n",
                "si_list = [StringIndexer(inputCol=x, outputCol=y) for x, y in zip(categorical_features, categorical_num_features)]\n",
                "va_features = VectorAssembler(inputCols=categorical_num_features + [x for x in features if x not in categorical_features], outputCol=\"features\")"
            ]
        },
        {
            "cell_type": "code",
            "execution_count": 14,
            "metadata": {
                "id": "a42978de-e7a6-4c3c-a075-98f555ddc8c8",
                "scrolled": true
            },
            "outputs": [
                {
                    "name": "stderr",
                    "output_type": "stream",
                    "text": [
                        "\r[Stage 12:>                                                         (0 + 1) / 1]\r"
                    ]
                },
                {
                    "name": "stderr",
                    "output_type": "stream",
                    "text": [
                        "\r                                                                                \r"
                    ]
                }
            ],
            "source": [
                "si_label = StringIndexer(inputCol=\"Risk\", outputCol=\"label\").fit(spark_df)\n",
                "label_converter = IndexToString(inputCol=\"prediction\", outputCol=\"predictedLabel\", labels=si_label.labels)"
            ]
        },
        {
            "cell_type": "code",
            "execution_count": 15,
            "metadata": {
                "id": "99a07071-6748-4927-955e-86a463c55167",
                "scrolled": true
            },
            "outputs": [
                {
                    "name": "stderr",
                    "output_type": "stream",
                    "text": [
                        "\r[Stage 58:>                                                         (0 + 1) / 1]\r"
                    ]
                },
                {
                    "name": "stderr",
                    "output_type": "stream",
                    "text": [
                        "\r                                                                                \r"
                    ]
                }
            ],
            "source": [
                "from pyspark.ml.classification import RandomForestClassifier\n",
                "\n",
                "classifier = RandomForestClassifier(featuresCol=\"features\")\n",
                "pipeline = Pipeline(stages= si_list + [si_label, va_features, classifier, label_converter])\n",
                "\n",
                "risk_model = pipeline.fit(train_data)"
            ]
        },
        {
            "cell_type": "markdown",
            "metadata": {
                "id": "50b6dcdc-e0da-473f-8633-914b94b5f715"
            },
            "source": [
                "**Note**: If you want filter features from model output please replace `*` with feature names to be retained in `SQLTransformer` statement."
            ]
        },
        {
            "cell_type": "code",
            "execution_count": 16,
            "metadata": {
                "id": "8a29125b-03b6-4565-8993-056acf9ff0a6",
                "scrolled": true
            },
            "outputs": [
                {
                    "name": "stdout",
                    "output_type": "stream",
                    "text": [
                        "areaUnderROC = 0.724137 areaUnderPR = 0.680805\n"
                    ]
                }
            ],
            "source": [
                "predictions = risk_model.transform(test_data)\n",
                "evaluatorDT = BinaryClassificationEvaluator(rawPredictionCol=\"prediction\",  metricName='areaUnderROC')\n",
                "area_under_curve = evaluatorDT.evaluate(predictions)\n",
                "\n",
                "evaluatorDT = BinaryClassificationEvaluator(rawPredictionCol=\"prediction\",  metricName='areaUnderPR')\n",
                "area_under_PR = evaluatorDT.evaluate(predictions)\n",
                "#default evaluation is areaUnderROC\n",
                "print(\"areaUnderROC = %g\" % area_under_curve, \"areaUnderPR = %g\" % area_under_PR)"
            ]
        },
        {
            "cell_type": "code",
            "execution_count": 17,
            "metadata": {
                "id": "f8800524-71b7-4193-9f3a-24e92d23a17f"
            },
            "outputs": [
                {
                    "name": "stdout",
                    "output_type": "stream",
                    "text": [
                        "24/09/06 09:33:58 WARN package: Truncated the string representation of a plan since it was too large. This behavior can be adjusted by setting 'spark.sql.debug.maxToStringFields'.\n"
                    ]
                },
                {
                    "name": "stdout",
                    "output_type": "stream",
                    "text": [
                        "              precision    recall  f1-score   support\n",
                        "\n",
                        "        Risk       0.78      0.92      0.85       646\n",
                        "     No Risk       0.78      0.53      0.63       349\n",
                        "\n",
                        "    accuracy                           0.78       995\n",
                        "   macro avg       0.78      0.72      0.74       995\n",
                        "weighted avg       0.78      0.78      0.77       995\n",
                        "\n"
                    ]
                }
            ],
            "source": [
                "# extra code: evaluate more metrics by exporting them into pandas and numpy\n",
                "from sklearn.metrics import classification_report\n",
                "y_pred = predictions.toPandas()['prediction']\n",
                "y_pred = ['Risk' if pred == 1.0 else 'No Risk' for pred in y_pred]\n",
                "y_test = test_data.toPandas()['Risk']\n",
                "print(classification_report(y_test, y_pred, target_names=['Risk', 'No Risk']))"
            ]
        },
        {
            "cell_type": "markdown",
            "metadata": {
                "id": "60195a0348f64265a6bc2722e89db376"
            },
            "source": [
                "## Save training data to Cloud Object Storage"
            ]
        },
        {
            "cell_type": "markdown",
            "metadata": {
                "id": "8842f7f8d5644ae697bf756ff3cc8cec"
            },
            "source": [
                "## Cloud object storage details\n",
                "In next cells, you will need to paste some credentials to Cloud Object Storage. If you haven't worked with COS yet please visit getting started with COS tutorial. You can find COS_API_KEY_ID and COS_RESOURCE_CRN variables in Service Credentials in menu of your COS instance. Used COS Service Credentials must be created with Role parameter set as Writer. Later training data file will be loaded to the bucket of your instance and used as training refecence in subsription.\n",
                "COS_ENDPOINT variable can be found in Endpoint field of the menu."
            ]
        },
        {
            "cell_type": "code",
            "execution_count": 18,
            "metadata": {
                "id": "490ee79fecb94755a1e0fba50f62ab2b"
            },
            "outputs": [],
            "source": [
                "IAM_URL=\"https://iam.ng.bluemix.net/oidc/token\""
            ]
        },
        {
            "cell_type": "code",
            "execution_count": 19,
            "metadata": {
                "id": "dffd7c56da1745368ac1a5dc3016f1fa"
            },
            "outputs": [],
            "source": [
                "COS_API_KEY_ID = \"<COS_API_KEY>\"\n",
                "COS_RESOURCE_CRN = \"<RESOURCE_INSTANCE_ID>\"\n",
                "COS_ENDPOINT = \"<COS_ENDPOINT>\" # Current list avaiable at https://control.cloud-object-storage.cloud.ibm.com/v2/endpoints"
            ]
        },
        {
            "cell_type": "code",
            "execution_count": 20,
            "metadata": {
                "id": "0d0b0f4dbd584cf98fdae398087a023f"
            },
            "outputs": [],
            "source": [
                "BUCKET_NAME = \"<BUCKET_NAME>\" #example: \"credit-risk-training-data\""
            ]
        },
        {
            "cell_type": "code",
            "execution_count": 21,
            "metadata": {
                "id": "da2ce7a982104d0e87e8c42d58722779"
            },
            "outputs": [],
            "source": [
                "training_data_file_name=\"german_credit_data_biased_training.csv\""
            ]
        },
        {
            "cell_type": "code",
            "execution_count": 22,
            "metadata": {
                "id": "6effe3cf584040cd80f3c95567547ef8"
            },
            "outputs": [],
            "source": [
                "import ibm_boto3\n",
                "from ibm_botocore.client import Config, ClientError\n",
                "\n",
                "cos_client = ibm_boto3.resource(\"s3\",\n",
                "    ibm_api_key_id=COS_API_KEY_ID,\n",
                "    ibm_service_instance_id=COS_RESOURCE_CRN,\n",
                "    ibm_auth_endpoint=\"https://iam.bluemix.net/oidc/token\",\n",
                "    config=Config(signature_version=\"oauth\"),\n",
                "    endpoint_url=COS_ENDPOINT\n",
                ")"
            ]
        },
        {
            "cell_type": "code",
            "execution_count": 23,
            "metadata": {
                "id": "5102d0a46bb6496e9f2e819920c90d82"
            },
            "outputs": [],
            "source": [
                "with open(training_data_file_name, \"rb\") as file_data:\n",
                "    cos_client.Object(BUCKET_NAME, training_data_file_name).upload_fileobj(\n",
                "        Fileobj=file_data\n",
                "    )"
            ]
        },
        {
            "cell_type": "markdown",
            "metadata": {
                "id": "e27918b3-79da-4acf-b56d-7d7141b42b0c"
            },
            "source": [
                "## Publish the model"
            ]
        },
        {
            "cell_type": "markdown",
            "metadata": {
                "id": "c744359c-5462-4c4d-a83b-c9bc7b340299"
            },
            "source": [
                "In this section, the notebook uses Watson Machine Learning to save the model (including the pipeline) to the WML instance. Previous versions of the model are removed so that the notebook can be run again, resetting all data for another demo."
            ]
        },
        {
            "cell_type": "code",
            "execution_count": 24,
            "metadata": {
                "id": "678d87c3-5537-4c5a-be6b-5ef1d0ce24e4"
            },
            "outputs": [
                {
                    "data": {
                        "text/plain": [
                            "'1.0.360'"
                        ]
                    },
                    "execution_count": 24,
                    "metadata": {},
                    "output_type": "execute_result"
                }
            ],
            "source": [
                "import json\n",
                "from ibm_watson_machine_learning import APIClient\n",
                "\n",
                "wml_client = APIClient(WML_CREDENTIALS)\n",
                "wml_client.version"
            ]
        },
        {
            "cell_type": "code",
            "execution_count": 25,
            "metadata": {
                "id": "735b2e1f-5561-4068-97b0-cfbca2dc3e29"
            },
            "outputs": [
                {
                    "name": "stdout",
                    "output_type": "stream",
                    "text": [
                        "02f94eae-b785-4f2b-a8c8-4d28a3dd0273\n"
                    ]
                },
                {
                    "data": {
                        "text/plain": [
                            "'SUCCESS'"
                        ]
                    },
                    "execution_count": 25,
                    "metadata": {},
                    "output_type": "execute_result"
                }
            ],
            "source": [
                "space_name = \"<SPACE_NAME>\"\n",
                "# create the space and set it as default\n",
                "space_meta_data = {\n",
                "        wml_client.spaces.ConfigurationMetaNames.NAME : space_name,\n",
                "        wml_client.spaces.ConfigurationMetaNames.DESCRIPTION : 'tutorial_space'\n",
                "}\n",
                "spaces = wml_client.spaces.get_details()['resources']\n",
                "space_id = None\n",
                "for space in spaces:\n",
                "    if space['entity']['name'] == space_name:\n",
                "        space_id = space[\"metadata\"][\"id\"]\n",
                "if space_id is None:\n",
                "    space_id = wml_client.spaces.store(meta_props=space_meta_data)[\"metadata\"][\"id\"]\n",
                "\n",
                "print(space_id)\n",
                "wml_client.set.default_space(space_id)"
            ]
        },
        {
            "cell_type": "markdown",
            "metadata": {
                "id": "bcc57977-7a37-4626-91d2-3853ef427bed"
            },
            "source": [
                "### Remove existing model and deployment"
            ]
        },
        {
            "cell_type": "code",
            "execution_count": 26,
            "metadata": {
                "id": "dfa0cc14-cead-4d07-bd0e-60584e5d996d",
                "scrolled": true
            },
            "outputs": [
                {
                    "name": "stdout",
                    "output_type": "stream",
                    "text": [
                        "Deleting deployment id a73a0a99-df71-48df-baf6-868dc331f5cb\n",
                        "Deleting model id ede5f782-b3c1-44d6-a469-3d2611e775fa\n"
                    ]
                },
                {
                    "name": "stdout",
                    "output_type": "stream",
                    "text": [
                        "--  ----  -------  ----  ----------  ----------------\n",
                        "ID  NAME  CREATED  TYPE  SPEC_STATE  SPEC_REPLACEMENT\n",
                        "--  ----  -------  ----  ----------  ----------------\n"
                    ]
                },
                {
                    "data": {
                        "text/html": [
                            "<div>\n",
                            "<style scoped>\n",
                            "    .dataframe tbody tr th:only-of-type {\n",
                            "        vertical-align: middle;\n",
                            "    }\n",
                            "\n",
                            "    .dataframe tbody tr th {\n",
                            "        vertical-align: top;\n",
                            "    }\n",
                            "\n",
                            "    .dataframe thead th {\n",
                            "        text-align: right;\n",
                            "    }\n",
                            "</style>\n",
                            "<table border=\"1\" class=\"dataframe\">\n",
                            "  <thead>\n",
                            "    <tr style=\"text-align: right;\">\n",
                            "      <th></th>\n",
                            "      <th>ID</th>\n",
                            "      <th>NAME</th>\n",
                            "      <th>CREATED</th>\n",
                            "      <th>TYPE</th>\n",
                            "      <th>SPEC_STATE</th>\n",
                            "      <th>SPEC_REPLACEMENT</th>\n",
                            "    </tr>\n",
                            "  </thead>\n",
                            "  <tbody>\n",
                            "  </tbody>\n",
                            "</table>\n",
                            "</div>"
                        ],
                        "text/plain": [
                            "Empty DataFrame\n",
                            "Columns: [ID, NAME, CREATED, TYPE, SPEC_STATE, SPEC_REPLACEMENT]\n",
                            "Index: []"
                        ]
                    },
                    "execution_count": 26,
                    "metadata": {},
                    "output_type": "execute_result"
                }
            ],
            "source": [
                "deployments_list = wml_client.deployments.get_details()\n",
                "for deployment in deployments_list[\"resources\"]:\n",
                "    model_id = deployment[\"entity\"][\"asset\"][\"id\"]\n",
                "    deployment_id = deployment[\"metadata\"][\"id\"]\n",
                "    if deployment[\"metadata\"][\"name\"] == DEPLOYMENT_NAME:\n",
                "        print(\"Deleting deployment id\", deployment_id)\n",
                "        wml_client.deployments.delete(deployment_id)\n",
                "        print(\"Deleting model id\", model_id)\n",
                "        wml_client.repository.delete(model_id)\n",
                "wml_client.repository.list_models()"
            ]
        },
        {
            "cell_type": "markdown",
            "metadata": {
                "id": "ed0e969b-814b-4e80-bc2e-d34aa4988371"
            },
            "source": [
                "#### Add training data reference either from DB2 on CP4D or Cloud Object Storage"
            ]
        },
        {
            "cell_type": "code",
            "execution_count": 27,
            "metadata": {
                "id": "bd73ba77-a991-4b2f-82e4-17b5ea603e2d"
            },
            "outputs": [
                {
                    "name": "stdout",
                    "output_type": "stream",
                    "text": [
                        "Creating connections...\n"
                    ]
                },
                {
                    "name": "stdout",
                    "output_type": "stream",
                    "text": [
                        "SUCCESS\n"
                    ]
                }
            ],
            "source": [
                "# COS training data reference example format\n",
                "datasource_type = wml_client.connections.get_datasource_type_uid_by_name('bluemixcloudobjectstorage')\n",
                "conn_meta_props= {\n",
                "    wml_client.connections.ConfigurationMetaNames.NAME: \"Connection My COS \",\n",
                "    wml_client.connections.ConfigurationMetaNames.DATASOURCE_TYPE: datasource_type,\n",
                "    wml_client.connections.ConfigurationMetaNames.DESCRIPTION: \"Connection to my COS\",\n",
                "    wml_client.connections.ConfigurationMetaNames.PROPERTIES: {\n",
                "        'bucket': BUCKET_NAME,\n",
                "        'api_key': COS_API_KEY_ID,\n",
                "        'resource_instance_id': COS_RESOURCE_CRN,\n",
                "        'iam_url': \"https://iam.ng.bluemix.net/oidc/token\",\n",
                "        'url': COS_ENDPOINT\n",
                "    }\n",
                "}\n",
                "\n",
                "conn_details = wml_client.connections.create(meta_props=conn_meta_props)\n",
                "connection_id = wml_client.connections.get_uid(conn_details)\n",
                "\n",
                "training_data_references = [\n",
                "    {\n",
                "        \"id\": \"German Credit Risk\", \n",
                "        \"type\": \"connection_asset\",\n",
                "        \"connection\": {\n",
                "            \"id\": connection_id,\n",
                "            \"href\": \"/v2/connections/\" + connection_id + \"?space_id=\" + space_id\n",
                "\n",
                "        },\n",
                "        \"location\": {\n",
                "            \"bucket\": BUCKET_NAME,\n",
                "            \"file_name\": training_data_file_name\n",
                "        }\n",
                "    }    \n",
                "]\n"
            ]
        },
        {
            "cell_type": "code",
            "execution_count": 28,
            "metadata": {
                "id": "45893978c72045868efa13ccf94da8d1"
            },
            "outputs": [
                {
                    "name": "stdout",
                    "output_type": "stream",
                    "text": [
                        "Software Specification ID: dabb5e1b-e1c7-5ef5-95ea-34a8223e436c\n"
                    ]
                }
            ],
            "source": [
                "software_spec_uid = wml_client.software_specifications.get_id_by_name(\"spark-mllib_3.4\")\n",
                "print(\"Software Specification ID: {}\".format(software_spec_uid))\n",
                "model_props = {\n",
                "        wml_client._models.ConfigurationMetaNames.NAME:\"{}\".format(MODEL_NAME),\n",
                "        wml_client._models.ConfigurationMetaNames.TYPE: \"mllib_3.4\",\n",
                "        wml_client._models.ConfigurationMetaNames.SOFTWARE_SPEC_UID: software_spec_uid,\n",
                "        wml_client._models.ConfigurationMetaNames.LABEL_FIELD: \"Risk\",\n",
                "    }"
            ]
        },
        {
            "cell_type": "code",
            "execution_count": 29,
            "metadata": {
                "id": "f211368d-f5c2-4918-8a7b-de0a0998cfd1",
                "scrolled": true
            },
            "outputs": [
                {
                    "name": "stdout",
                    "output_type": "stream",
                    "text": [
                        "Storing model ...\n"
                    ]
                },
                {
                    "name": "stderr",
                    "output_type": "stream",
                    "text": [
                        "\r[Stage 108:>                                                        (0 + 1) / 1]\r"
                    ]
                },
                {
                    "name": "stderr",
                    "output_type": "stream",
                    "text": [
                        "\r                                                                                \r"
                    ]
                },
                {
                    "name": "stdout",
                    "output_type": "stream",
                    "text": [
                        "Done\n",
                        "Model ID: 4a60bd7f-9640-411f-8791-7cb4c56ff918\n"
                    ]
                }
            ],
            "source": [
                "print(\"Storing model ...\")\n",
                "published_model_details = wml_client.repository.store_model(\n",
                "    model=risk_model, \n",
                "    meta_props=model_props, \n",
                "    training_data=train_data, \n",
                "    pipeline=pipeline)\n",
                "\n",
                "model_uid = wml_client.repository.get_model_id(published_model_details)\n",
                "print(\"Done\")\n",
                "print(\"Model ID: {}\".format(model_uid))"
            ]
        },
        {
            "cell_type": "code",
            "execution_count": 30,
            "metadata": {
                "id": "3d03a8fa-7776-46ae-891c-df2c8a0f92cb"
            },
            "outputs": [
                {
                    "name": "stdout",
                    "output_type": "stream",
                    "text": [
                        "------------------------------------  -------------------------------------  ------------------------  ---------  ----------  ----------------\n",
                        "ID                                    NAME                                   CREATED                   TYPE       SPEC_STATE  SPEC_REPLACEMENT\n",
                        "4a60bd7f-9640-411f-8791-7cb4c56ff918  Spark German Risk Model - AI Function  2024-09-06T09:34:17.002Z  mllib_3.4  supported\n",
                        "------------------------------------  -------------------------------------  ------------------------  ---------  ----------  ----------------\n"
                    ]
                },
                {
                    "data": {
                        "text/html": [
                            "<div>\n",
                            "<style scoped>\n",
                            "    .dataframe tbody tr th:only-of-type {\n",
                            "        vertical-align: middle;\n",
                            "    }\n",
                            "\n",
                            "    .dataframe tbody tr th {\n",
                            "        vertical-align: top;\n",
                            "    }\n",
                            "\n",
                            "    .dataframe thead th {\n",
                            "        text-align: right;\n",
                            "    }\n",
                            "</style>\n",
                            "<table border=\"1\" class=\"dataframe\">\n",
                            "  <thead>\n",
                            "    <tr style=\"text-align: right;\">\n",
                            "      <th></th>\n",
                            "      <th>ID</th>\n",
                            "      <th>NAME</th>\n",
                            "      <th>CREATED</th>\n",
                            "      <th>TYPE</th>\n",
                            "      <th>SPEC_STATE</th>\n",
                            "      <th>SPEC_REPLACEMENT</th>\n",
                            "    </tr>\n",
                            "  </thead>\n",
                            "  <tbody>\n",
                            "    <tr>\n",
                            "      <th>0</th>\n",
                            "      <td>4a60bd7f-9640-411f-8791-7cb4c56ff918</td>\n",
                            "      <td>Spark German Risk Model - AI Function</td>\n",
                            "      <td>2024-09-06T09:34:17.002Z</td>\n",
                            "      <td>mllib_3.4</td>\n",
                            "      <td>supported</td>\n",
                            "      <td></td>\n",
                            "    </tr>\n",
                            "  </tbody>\n",
                            "</table>\n",
                            "</div>"
                        ],
                        "text/plain": [
                            "                                     ID  \\\n",
                            "0  4a60bd7f-9640-411f-8791-7cb4c56ff918   \n",
                            "\n",
                            "                                    NAME                   CREATED       TYPE  \\\n",
                            "0  Spark German Risk Model - AI Function  2024-09-06T09:34:17.002Z  mllib_3.4   \n",
                            "\n",
                            "  SPEC_STATE SPEC_REPLACEMENT  \n",
                            "0  supported                   "
                        ]
                    },
                    "execution_count": 30,
                    "metadata": {},
                    "output_type": "execute_result"
                }
            ],
            "source": [
                "wml_client.repository.list_models()"
            ]
        },
        {
            "cell_type": "markdown",
            "metadata": {
                "id": "9e7736e1-60b7-4c28-a307-3bea649ec3d3"
            },
            "source": [
                "## Deploy the model"
            ]
        },
        {
            "cell_type": "markdown",
            "metadata": {
                "id": "1bfdd696-cd67-4a9f-b4e8-d17bcbad9a3f"
            },
            "source": [
                "The next section of the notebook deploys the model as a RESTful web service in Watson Machine Learning. The deployed model will have a scoring URL you can use to send data to the model for predictions."
            ]
        },
        {
            "cell_type": "code",
            "execution_count": 31,
            "metadata": {
                "id": "6e0e6279-2acb-4d98-996f-eeb140536f8d",
                "scrolled": true
            },
            "outputs": [
                {
                    "name": "stdout",
                    "output_type": "stream",
                    "text": [
                        "\n",
                        "\n",
                        "#######################################################################################\n",
                        "\n",
                        "Synchronous deployment creation for uid: '4a60bd7f-9640-411f-8791-7cb4c56ff918' started\n",
                        "\n",
                        "#######################################################################################\n",
                        "\n",
                        "\n",
                        "initializing"
                    ]
                },
                {
                    "name": "stdout",
                    "output_type": "stream",
                    "text": [
                        "\n",
                        "Note: online_url is deprecated and will be removed in a future release. Use serving_urls instead.\n",
                        "\n",
                        "ready\n",
                        "\n",
                        "\n",
                        "------------------------------------------------------------------------------------------------\n",
                        "Successfully finished deployment creation, deployment_uid='7c9082df-99ef-4165-90c5-92773bc740a7'\n",
                        "------------------------------------------------------------------------------------------------\n",
                        "\n",
                        "\n",
                        "Scoring URL:https://cpd-cpd-instance.apps.wxg415nfs2860.cp.fyre.ibm.com/ml/v4/deployments/7c9082df-99ef-4165-90c5-92773bc740a7/predictions\n",
                        "Model id: 4a60bd7f-9640-411f-8791-7cb4c56ff918\n",
                        "Deployment id: 7c9082df-99ef-4165-90c5-92773bc740a7\n"
                    ]
                }
            ],
            "source": [
                "deployment_details = wml_client.deployments.create(\n",
                "    model_uid, \n",
                "    meta_props={\n",
                "        wml_client.deployments.ConfigurationMetaNames.NAME: \"{}\".format(DEPLOYMENT_NAME),\n",
                "        wml_client.deployments.ConfigurationMetaNames.ONLINE: {}\n",
                "    }\n",
                ")\n",
                "scoring_url = wml_client.deployments.get_scoring_href(deployment_details)\n",
                "deployment_uid=wml_client.deployments.get_id(deployment_details)\n",
                "\n",
                "print(\"Scoring URL:\" + scoring_url)\n",
                "print(\"Model id: {}\".format(model_uid))\n",
                "print(\"Deployment id: {}\".format(deployment_uid))"
            ]
        },
        {
            "cell_type": "markdown",
            "metadata": {
                "id": "9f4a190b19bf47f48fd1fc5057f73066"
            },
            "source": [
                "## Define AI Function"
            ]
        },
        {
            "cell_type": "code",
            "execution_count": 32,
            "metadata": {
                "id": "43fbce986afd41898d3f59de4e7fffd8"
            },
            "outputs": [],
            "source": [
                "ai_params = {\"wml_credentials\": WML_CREDENTIALS, \n",
                "             \"deployment_uid\": deployment_uid,\n",
                "             \"space_id\": space_id\n",
                "            }"
            ]
        },
        {
            "cell_type": "code",
            "execution_count": 33,
            "metadata": {
                "id": "802b6461-42a5-40fd-a3d8-4af63ab682ea"
            },
            "outputs": [],
            "source": [
                "#AI function definition\n",
                "def score_generator(params=ai_params):\n",
                "    \n",
                "    import json\n",
                "    from ibm_watson_machine_learning import APIClient\n",
                "   \n",
                "    wml_credentials = params[\"wml_credentials\"]\n",
                "    deployment_uid = params[\"deployment_uid\"]\n",
                "    space_id = params[\"space_id\"]\n",
                "\n",
                "    client = APIClient(wml_credentials)\n",
                "    client.set.default_space(space_id)\n",
                "\n",
                "    def score(payload):\n",
                "        scores_area = client.deployments.score(deployment_uid, payload)\n",
                "        return scores_area\n",
                "    return score"
            ]
        },
        {
            "cell_type": "code",
            "execution_count": 34,
            "metadata": {
                "id": "d3859d52-b212-48f7-8218-51c7d7350d21"
            },
            "outputs": [
                {
                    "name": "stdout",
                    "output_type": "stream",
                    "text": [
                        "{'predictions': [{'fields': ['CheckingStatus', 'LoanDuration', 'CreditHistory', 'LoanPurpose', 'LoanAmount', 'ExistingSavings', 'EmploymentDuration', 'InstallmentPercent', 'Sex', 'OthersOnLoan', 'CurrentResidenceDuration', 'OwnsProperty', 'Age', 'InstallmentPlans', 'Housing', 'ExistingCreditsCount', 'Job', 'Dependents', 'Telephone', 'ForeignWorker', 'CheckingStatus_IX', 'CreditHistory_IX', 'LoanPurpose_IX', 'ExistingSavings_IX', 'EmploymentDuration_IX', 'Sex_IX', 'OthersOnLoan_IX', 'OwnsProperty_IX', 'InstallmentPlans_IX', 'Housing_IX', 'Job_IX', 'Telephone_IX', 'ForeignWorker_IX', 'label', 'features', 'rawPrediction', 'probability', 'prediction', 'predictedLabel'], 'values': [['no_checking', 13, 'credits_paid_to_date', 'car_new', 1343, '100_to_500', '1_to_4', 2, 'female', 'none', 3, 'savings_insurance', 46, 'none', 'own', 2, 'skilled', 1, 'none', 'yes', 0.0, 1.0, 0.0, 1.0, 0.0, 1.0, 0.0, 0.0, 0.0, 0.0, 0.0, 0.0, 0.0, 0.0, [20, [1, 3, 5, 13, 14, 15, 16, 17, 18, 19], [1.0, 1.0, 1.0, 13.0, 1343.0, 2.0, 3.0, 46.0, 2.0, 1.0]], [13.374761897038752, 6.625238102961246], [0.6687380948519376, 0.3312619051480623], 0.0, 'No Risk']]}]}\n"
                    ]
                }
            ],
            "source": [
                "fields = [\"CheckingStatus\",\"LoanDuration\",\"CreditHistory\",\"LoanPurpose\",\"LoanAmount\",\"ExistingSavings\",\"EmploymentDuration\",\"InstallmentPercent\",\"Sex\",\"OthersOnLoan\",\"CurrentResidenceDuration\",\"OwnsProperty\",\"Age\",\"InstallmentPlans\",\"Housing\",\"ExistingCreditsCount\",\"Job\",\"Dependents\",\"Telephone\",\"ForeignWorker\"]\n",
                "values = [\n",
                "  [\"no_checking\",13,\"credits_paid_to_date\",\"car_new\",1343,\"100_to_500\",\"1_to_4\",2,\"female\",\"none\",3,\"savings_insurance\",46,\"none\",\"own\",2,\"skilled\",1,\"none\",\"yes\"]\n",
                "]\n",
                "sample_payload = { \"input_data\": [ {\"fields\": fields,\"values\": values}]}\n",
                "\n",
                "score = score_generator()\n",
                "scores_ai = score(sample_payload)\n",
                "wml_client.set.default_space(space_id)\n",
                "print(scores_ai)\n",
                "\n",
                "\n",
                "\n"
            ]
        },
        {
            "cell_type": "code",
            "execution_count": 35,
            "metadata": {
                "id": "3282fb83-72ab-4521-bee8-33425a8c2581"
            },
            "outputs": [],
            "source": [
                "#Store the function\n",
                "func_name = 'Credit Risk python Fn Model'\n",
                "meta_data = {\n",
                "    wml_client.repository.FunctionMetaNames.NAME: func_name,\n",
                "    #Note if there is specification related exception then use \"default_py3.7_opence\" instead of default_py3.8\n",
                "    wml_client.repository.FunctionMetaNames.SOFTWARE_SPEC_ID: wml_client.software_specifications.get_id_by_name(\"runtime-23.1-py3.10\")\n",
                "}\n",
                "\n",
                "function_details = wml_client.repository.store_function(meta_props=meta_data, function=score_generator)"
            ]
        },
        {
            "cell_type": "code",
            "execution_count": 36,
            "metadata": {
                "id": "4da667a7-c81a-4be4-ba29-d6d9624fd282"
            },
            "outputs": [],
            "source": [
                "function_details\n",
                "ai_function_uid = function_details['metadata']['id']"
            ]
        },
        {
            "cell_type": "code",
            "execution_count": 37,
            "metadata": {
                "id": "526e68c2-2f66-4a2d-bc39-735f9e2272c5"
            },
            "outputs": [
                {
                    "name": "stdout",
                    "output_type": "stream",
                    "text": [
                        "\n",
                        "\n",
                        "#######################################################################################\n",
                        "\n",
                        "Synchronous deployment creation for uid: '59f45b49-5faa-4546-8e8c-8fad77fbb351' started\n",
                        "\n",
                        "#######################################################################################\n",
                        "\n",
                        "\n",
                        "initializing"
                    ]
                },
                {
                    "name": "stdout",
                    "output_type": "stream",
                    "text": [
                        "\n",
                        "Note: online_url is deprecated and will be removed in a future release. Use serving_urls instead.\n",
                        "."
                    ]
                },
                {
                    "name": "stdout",
                    "output_type": "stream",
                    "text": [
                        "."
                    ]
                },
                {
                    "name": "stdout",
                    "output_type": "stream",
                    "text": [
                        "."
                    ]
                },
                {
                    "name": "stdout",
                    "output_type": "stream",
                    "text": [
                        "."
                    ]
                },
                {
                    "name": "stdout",
                    "output_type": "stream",
                    "text": [
                        "."
                    ]
                },
                {
                    "name": "stdout",
                    "output_type": "stream",
                    "text": [
                        "."
                    ]
                },
                {
                    "name": "stdout",
                    "output_type": "stream",
                    "text": [
                        "."
                    ]
                },
                {
                    "name": "stdout",
                    "output_type": "stream",
                    "text": [
                        "\n",
                        "ready\n",
                        "\n",
                        "\n",
                        "------------------------------------------------------------------------------------------------\n",
                        "Successfully finished deployment creation, deployment_uid='b51ed35d-58a5-4def-8b18-ca3d83185a38'\n",
                        "------------------------------------------------------------------------------------------------\n",
                        "\n",
                        "\n",
                        "AI Function Deployment UID:b51ed35d-58a5-4def-8b18-ca3d83185a38\n",
                        "https://cpd-cpd-instance.apps.wxg415nfs2860.cp.fyre.ibm.com/ml/v4/deployments/b51ed35d-58a5-4def-8b18-ca3d83185a38/predictions\n"
                    ]
                }
            ],
            "source": [
                "#Generate the deployment\n",
                "function_deployment_details = wml_client.deployments.create(artifact_uid=ai_function_uid, meta_props={wml_client.deployments.ConfigurationMetaNames.NAME: 'dep_' + func_name,wml_client.deployments.ConfigurationMetaNames.ONLINE: {}})\n",
                "ai_func_deployment_uid = wml_client.deployments.get_uid(function_deployment_details)\n",
                "print(\"AI Function Deployment UID:\" + ai_func_deployment_uid)\n",
                "scoring_url = function_deployment_details[\"entity\"][\"status\"][\"online_url\"][\"url\"]\n",
                "print(scoring_url)"
            ]
        },
        {
            "cell_type": "markdown",
            "metadata": {
                "id": "f351f89e-94f8-4efa-bc4a-f26ef517fc7c"
            },
            "source": [
                "# Configure OpenScale <a name=\"openscale\"></a>"
            ]
        },
        {
            "cell_type": "markdown",
            "metadata": {
                "id": "e7603056-701e-430e-809c-3df57c70e2e0"
            },
            "source": [
                "The notebook will now import the necessary libraries and set up a Python OpenScale client."
            ]
        },
        {
            "cell_type": "code",
            "execution_count": 38,
            "metadata": {
                "id": "a36f3b0f-4705-4f3d-9f05-e6f0a455bd95",
                "scrolled": true
            },
            "outputs": [],
            "source": [
                "from ibm_cloud_sdk_core.authenticators import CloudPakForDataAuthenticator\n",
                "from ibm_watson_openscale import APIClient\n",
                "\n",
                "from ibm_watson_openscale import *\n",
                "from ibm_watson_openscale.supporting_classes.enums import *\n",
                "from ibm_watson_openscale.supporting_classes import *"
            ]
        },
        {
            "cell_type": "code",
            "execution_count": 39,
            "metadata": {
                "id": "b0bf5aaa-e68e-4a36-84ae-7689949c4c1f"
            },
            "outputs": [
                {
                    "data": {
                        "text/plain": [
                            "'3.0.40'"
                        ]
                    },
                    "execution_count": 39,
                    "metadata": {},
                    "output_type": "execute_result"
                }
            ],
            "source": [
                "authenticator = CloudPakForDataAuthenticator(\n",
                "        url=WOS_CREDENTIALS['url'],\n",
                "        username=WOS_CREDENTIALS['username'],\n",
                "        password=WOS_CREDENTIALS['password'],\n",
                "        disable_ssl_verification=True\n",
                "    )\n",
                "instance_id='<SERVICE_INSTANCE_ID' #Datamart id\n",
                "wos_client = APIClient(service_url=WOS_CREDENTIALS['url'],authenticator=authenticator,service_instance_id = instance_id)\n",
                "wos_client.version"
            ]
        },
        {
            "cell_type": "markdown",
            "metadata": {
                "id": "b26d6223-924a-42b9-b251-1e1933ac7b97"
            },
            "source": [
                "## Create datamart"
            ]
        },
        {
            "cell_type": "markdown",
            "metadata": {
                "id": "2069a88d-61fb-436a-a17c-f0032999ecd7"
            },
            "source": [
                "### Set up datamart"
            ]
        },
        {
            "cell_type": "markdown",
            "metadata": {
                "id": "49e8170b-c2da-4785-8d35-6c34b003ad88"
            },
            "source": [
                "Watson OpenScale uses a database to store payload logs and calculated metrics. If database credentials were supplied, the datamart will be created there unless there is an existing datamart and the KEEP_MY_INTERNAL_POSTGRES variable is set to True. If an OpenScale datamart exists in Db2 or PostgreSQL, the existing datamart will be used and no data will be overwritten.\n",
                "\n",
                "Prior instances of the German Credit model will be removed from OpenScale monitoring."
            ]
        },
        {
            "cell_type": "code",
            "execution_count": 40,
            "metadata": {
                "id": "304bc653696e4d90a521a279d3551135"
            },
            "outputs": [
                {
                    "data": {
                        "text/html": [
                            "<HTML>\n",
                            "        <body>\n",
                            "            <h3>Data Marts</h3>\n",
                            "            <table style='border: 1px solid #dddddd; font-family: Courier'>\n",
                            "                <th style='border: 1px solid #dddddd'>name</th><th style='border: 1px solid #dddddd'>description</th><th style='border: 1px solid #dddddd'>internal_database</th><th style='border: 1px solid #dddddd'>status</th><th style='border: 1px solid #dddddd'>created_at</th><th style='border: 1px solid #dddddd'>id</th>\n",
                            "                <tr><td style='border: 1px solid #dddddd'>AIOSFASTPATHICP-00000000-0000-0000-0000-000000000000</td><td style='border: 1px solid #dddddd'>Data Mart created by OpenScale ExpressPath</td><td style='border: 1px solid #dddddd'>False</td><td style='border: 1px solid #dddddd'>active</td><td style='border: 1px solid #dddddd'>2024-09-04 19:53:05.982000+00:00</td><td style='border: 1px solid #dddddd'>00000000-0000-0000-0000-000000000000</td></tr>\n",
                            "            </table>\n",
                            "        </body>\n",
                            "        </HTML>"
                        ],
                        "text/plain": [
                            "<IPython.core.display.HTML object>"
                        ]
                    },
                    "metadata": {},
                    "output_type": "display_data"
                }
            ],
            "source": [
                "wos_client.data_marts.show()"
            ]
        },
        {
            "cell_type": "code",
            "execution_count": 41,
            "metadata": {
                "id": "c81b009f-5a03-4aa8-ac8f-619f39de8aad"
            },
            "outputs": [
                {
                    "name": "stdout",
                    "output_type": "stream",
                    "text": [
                        "Using existing datamart 00000000-0000-0000-0000-000000000000\n"
                    ]
                }
            ],
            "source": [
                "data_marts = wos_client.data_marts.list().result.data_marts\n",
                "if len(data_marts) == 0:\n",
                "    if DB_CREDENTIALS is not None:\n",
                "        if SCHEMA_NAME is None: \n",
                "            print(\"Please specify the SCHEMA_NAME and rerun the cell\")\n",
                "\n",
                "        print('Setting up external datamart')\n",
                "        added_data_mart_result = wos_client.data_marts.add(\n",
                "                background_mode=False,\n",
                "                name=\"WOS Data Mart\",\n",
                "                description=\"Data Mart created by WOS tutorial notebook\",\n",
                "                database_configuration=DatabaseConfigurationRequest(\n",
                "                  database_type=DatabaseType.DB2,\n",
                "                    credentials=PrimaryStorageCredentialsLong(\n",
                "                        hostname=DATABASE_CREDENTIALS['hostname'],\n",
                "                        username=DATABASE_CREDENTIALS['username'],\n",
                "                        password=DATABASE_CREDENTIALS['password'],\n",
                "                        db=DATABASE_CREDENTIALS['database'],\n",
                "                        port=DATABASE_CREDENTIALS['port'],\n",
                "                        ssl=DATABASE_CREDENTIALS['ssl'],\n",
                "                        sslmode=DATABASE_CREDENTIALS['sslmode'],\n",
                "                        certificate_base64=DATABASE_CREDENTIALS['certificate_base64']\n",
                "                    ),\n",
                "                    location=LocationSchemaName(\n",
                "                        schema_name= SCHEMA_NAME\n",
                "                    )\n",
                "                )\n",
                "             ).result\n",
                "    else:\n",
                "        print('Setting up internal datamart')\n",
                "        added_data_mart_result = wos_client.data_marts.add(\n",
                "                background_mode=False,\n",
                "                name=\"WOS Data Mart\",\n",
                "                description=\"Data Mart created by WOS tutorial notebook\", \n",
                "                internal_database = True).result\n",
                "        \n",
                "    data_mart_id = added_data_mart_result.metadata.id\n",
                "    \n",
                "else:\n",
                "    data_mart_id=data_marts[0].metadata.id\n",
                "    print('Using existing datamart {}'.format(data_mart_id))"
            ]
        },
        {
            "cell_type": "markdown",
            "metadata": {
                "id": "fbd4919034234cfa8fb20553e4fc77fd"
            },
            "source": [
                "## Remove existing service provider connected with used WML instance.\n",
                "Multiple service providers for the same engine instance are avaiable in Watson OpenScale. To avoid multiple service providers of used WML instance in the tutorial notebook the following code deletes existing service provder(s) and then adds new one."
            ]
        },
        {
            "cell_type": "code",
            "execution_count": 42,
            "metadata": {
                "id": "94324f4327f24ac180048f2529fe1b2d"
            },
            "outputs": [],
            "source": [
                "SERVICE_PROVIDER_NAME = \"WML AI function -  WOS notebook\"\n",
                "SERVICE_PROVIDER_DESCRIPTION = \"Added by tutorial WML AI function -  WOS notebook.\""
            ]
        },
        {
            "cell_type": "code",
            "execution_count": 43,
            "metadata": {
                "id": "dde66305683a4f38b7b6b97a1801478e"
            },
            "outputs": [
                {
                    "name": "stdout",
                    "output_type": "stream",
                    "text": [
                        "Deleted existing service_provider for WML instance: 1ad410ae-cffa-4f7e-9a96-e8c57a603411\n"
                    ]
                }
            ],
            "source": [
                "service_providers = wos_client.service_providers.list().result.service_providers\n",
                "for service_provider in service_providers:\n",
                "    service_instance_name = service_provider.entity.name\n",
                "    if service_instance_name == SERVICE_PROVIDER_NAME:\n",
                "        service_provider_id = service_provider.metadata.id\n",
                "        wos_client.service_providers.delete(service_provider_id)\n",
                "        print(\"Deleted existing service_provider for WML instance: {}\".format(service_provider_id))"
            ]
        },
        {
            "cell_type": "markdown",
            "metadata": {
                "id": "cdfac8ed7e0149bd8bba0674fc29f8cc"
            },
            "source": [
                "## Add service provider\n",
                "Watson OpenScale needs to be bound to the Watson Machine Learning instance to capture payload data into and out of the model.\n",
                "\n",
                "**Note:** You can bind more than one engine instance if needed by calling `wos_client.service_providers.add` method. Next, you can refer to particular service provider using `service_provider_id`."
            ]
        },
        {
            "cell_type": "code",
            "execution_count": 44,
            "metadata": {
                "id": "c146d6fe301e43b08d0ca4fab34362df"
            },
            "outputs": [
                {
                    "name": "stdout",
                    "output_type": "stream",
                    "text": [
                        "\n",
                        "\n",
                        "=================================================================================\n",
                        "\n",
                        " Waiting for end of adding service provider 58d44bfd-b74b-478d-a4ab-5f59cce561f4 \n",
                        "\n",
                        "=================================================================================\n",
                        "\n",
                        "\n"
                    ]
                },
                {
                    "name": "stdout",
                    "output_type": "stream",
                    "text": [
                        "\n",
                        "active\n",
                        "\n",
                        "-----------------------------------------------\n",
                        " Successfully finished adding service provider \n",
                        "-----------------------------------------------\n",
                        "\n",
                        "\n"
                    ]
                }
            ],
            "source": [
                "added_service_provider_result = wos_client.service_providers.add(\n",
                "        name=SERVICE_PROVIDER_NAME,\n",
                "        description=SERVICE_PROVIDER_DESCRIPTION,\n",
                "        service_type=ServiceTypes.WATSON_MACHINE_LEARNING,\n",
                "        deployment_space_id = space_id,\n",
                "        operational_space_id = \"production\",\n",
                "        credentials=WMLCredentialsCP4D(),\n",
                "        background_mode=False\n",
                "    ).result\n",
                "service_provider_id = added_service_provider_result.metadata.id"
            ]
        },
        {
            "cell_type": "code",
            "execution_count": 45,
            "metadata": {
                "id": "d255529f755a4ede994063172455f2d9"
            },
            "outputs": [
                {
                    "data": {
                        "text/html": [
                            "<HTML>\n",
                            "        <body>\n",
                            "            <h3>Service Providers</h3>\n",
                            "            <table style='border: 1px solid #dddddd; font-family: Courier'>\n",
                            "                <th style='border: 1px solid #dddddd'>instance_id</th><th style='border: 1px solid #dddddd'>status</th><th style='border: 1px solid #dddddd'>name</th><th style='border: 1px solid #dddddd'>service_type</th><th style='border: 1px solid #dddddd'>created_at</th><th style='border: 1px solid #dddddd'>id</th>\n",
                            "                <tr><td style='border: 1px solid #dddddd'>99999999-9999-9999-9999-999999999999</td><td style='border: 1px solid #dddddd'>active</td><td style='border: 1px solid #dddddd'>WML AI function -  WOS notebook</td><td style='border: 1px solid #dddddd'>watson_machine_learning</td><td style='border: 1px solid #dddddd'>2024-09-06 09:35:38.656000+00:00</td><td style='border: 1px solid #dddddd'>58d44bfd-b74b-478d-a4ab-5f59cce561f4</td></tr><tr><td style='border: 1px solid #dddddd'>99999999-9999-9999-9999-999999999999</td><td style='border: 1px solid #dddddd'>active</td><td style='border: 1px solid #dddddd'>WOS ExpressPath WML pre_production binding</td><td style='border: 1px solid #dddddd'>watson_machine_learning</td><td style='border: 1px solid #dddddd'>2024-09-04 19:53:24.059000+00:00</td><td style='border: 1px solid #dddddd'>8a8b7e3c-c1b8-427a-8b07-3b62208bd1e7</td></tr><tr><td style='border: 1px solid #dddddd'>99999999-9999-9999-9999-999999999999</td><td style='border: 1px solid #dddddd'>active</td><td style='border: 1px solid #dddddd'>WOS ExpressPath WML production binding</td><td style='border: 1px solid #dddddd'>watson_machine_learning</td><td style='border: 1px solid #dddddd'>2024-09-04 19:53:17.989000+00:00</td><td style='border: 1px solid #dddddd'>3a0b387c-2b4d-42ea-936a-dd875069b717</td></tr>\n",
                            "            </table>\n",
                            "        </body>\n",
                            "        </HTML>"
                        ],
                        "text/plain": [
                            "<IPython.core.display.HTML object>"
                        ]
                    },
                    "metadata": {},
                    "output_type": "display_data"
                }
            ],
            "source": [
                "wos_client.service_providers.show()"
            ]
        },
        {
            "cell_type": "code",
            "execution_count": 46,
            "metadata": {
                "id": "3ea735e06d844309abdf2b7b41c560df"
            },
            "outputs": [
                {
                    "name": "stdout",
                    "output_type": "stream",
                    "text": [
                        "7c9082df-99ef-4165-90c5-92773bc740a7\n"
                    ]
                },
                {
                    "data": {
                        "text/plain": [
                            "{'metadata': {'guid': 'b51ed35d-58a5-4def-8b18-ca3d83185a38',\n",
                            "  'created_at': '2024-09-06T09:34:36.066Z',\n",
                            "  'modified_at': '2024-09-06T09:34:36.066Z'},\n",
                            " 'entity': {'name': 'dep_Credit Risk python Fn Model',\n",
                            "  'type': 'online',\n",
                            "  'scoring_endpoint': {'url': 'https://internal-nginx-svc:12443/ml/v4/deployments/b51ed35d-58a5-4def-8b18-ca3d83185a38/predictions'},\n",
                            "  'asset': {},\n",
                            "  'asset_properties': {}}}"
                        ]
                    },
                    "execution_count": 46,
                    "metadata": {},
                    "output_type": "execute_result"
                }
            ],
            "source": [
                "print(deployment_uid)\n",
                "asset_deployment_details = wos_client.service_providers.list_assets(data_mart_id=data_mart_id, service_provider_id=service_provider_id,deployment_id=ai_func_deployment_uid, deployment_space_id = space_id).result['resources'][0]\n",
                "asset_deployment_details"
            ]
        },
        {
            "cell_type": "code",
            "execution_count": 47,
            "metadata": {
                "id": "87ab02f282df4089863f0d1f07881573"
            },
            "outputs": [
                {
                    "data": {
                        "text/plain": [
                            "{'metadata': {'guid': 'b51ed35d-58a5-4def-8b18-ca3d83185a38',\n",
                            "  'created_at': '2024-09-06T09:34:36.066Z',\n",
                            "  'modified_at': '2024-09-06T09:34:36.066Z'},\n",
                            " 'entity': {'name': 'dep_Credit Risk python Fn Model',\n",
                            "  'type': 'online',\n",
                            "  'scoring_endpoint': {'url': 'https://internal-nginx-svc:12443/ml/v4/deployments/b51ed35d-58a5-4def-8b18-ca3d83185a38/predictions'},\n",
                            "  'asset': {'asset_id': '59f45b49-5faa-4546-8e8c-8fad77fbb351',\n",
                            "   'url': 'https://internal-nginx-svc:12443/ml/v4/functions/59f45b49-5faa-4546-8e8c-8fad77fbb351?space_id=02f94eae-b785-4f2b-a8c8-4d28a3dd0273&version=2020-06-12',\n",
                            "   'name': 'Credit Risk python Fn Model',\n",
                            "   'asset_type': 'function',\n",
                            "   'created_at': '2024-09-06T09:34:35.543Z',\n",
                            "   'modified_at': '2024-09-06T09:34:35.851Z'},\n",
                            "  'asset_properties': {'model_type': 'python',\n",
                            "   'runtime_environment': 'python-3.10'}}}"
                        ]
                    },
                    "execution_count": 47,
                    "metadata": {},
                    "output_type": "execute_result"
                }
            ],
            "source": [
                "model_asset_details_from_deployment=wos_client.service_providers.get_deployment_asset(data_mart_id=data_mart_id,service_provider_id=service_provider_id,deployment_id=ai_func_deployment_uid,deployment_space_id=space_id)\n",
                "model_asset_details_from_deployment"
            ]
        },
        {
            "cell_type": "markdown",
            "metadata": {
                "id": "62c326d9-05a5-402c-ab56-9ae881d10eba"
            },
            "source": [
                "## Subscriptions"
            ]
        },
        {
            "cell_type": "markdown",
            "metadata": {
                "id": "04e9ace9-0788-47d5-9316-ddad6492214c"
            },
            "source": [
                "### Remove existing credit risk subscriptions"
            ]
        },
        {
            "cell_type": "markdown",
            "metadata": {
                "id": "fcf012cb-c9ca-41a8-9240-9768e5a1583f"
            },
            "source": [
                "This code removes previous subscriptions to the German Credit model to refresh the monitors with the new model and new data."
            ]
        },
        {
            "cell_type": "code",
            "execution_count": 48,
            "metadata": {
                "id": "7ec262e8da76433882ce39ef29bda26a"
            },
            "outputs": [
                {
                    "data": {
                        "text/html": [
                            "<HTML>\n",
                            "        <body>\n",
                            "            <h3>Subscriptions</h3>\n",
                            "            <table style='border: 1px solid #dddddd; font-family: Courier'>\n",
                            "                <th style='border: 1px solid #dddddd'>asset_id</th><th style='border: 1px solid #dddddd'>asset_type</th><th style='border: 1px solid #dddddd'>asset_name</th><th style='border: 1px solid #dddddd'>data_mart_id</th><th style='border: 1px solid #dddddd'>deployment_id</th><th style='border: 1px solid #dddddd'>deployment_name</th><th style='border: 1px solid #dddddd'>service_provider_id</th><th style='border: 1px solid #dddddd'>status</th><th style='border: 1px solid #dddddd'>created_at</th><th style='border: 1px solid #dddddd'>id</th>\n",
                            "                <tr><td style='border: 1px solid #dddddd'>3e870a0e-118e-47a0-b290-8f60ac61c09d</td><td style='border: 1px solid #dddddd'>model</td><td style='border: 1px solid #dddddd'>GermanCreditRiskModelICP</td><td style='border: 1px solid #dddddd'>00000000-0000-0000-0000-000000000000</td><td style='border: 1px solid #dddddd'>e207a166-3ca2-4886-9f1f-8428ba70d2b6</td><td style='border: 1px solid #dddddd'>GermanCreditRiskModelICP</td><td style='border: 1px solid #dddddd'>3a0b387c-2b4d-42ea-936a-dd875069b717</td><td style='border: 1px solid #dddddd'>active</td><td style='border: 1px solid #dddddd'>2024-09-04 20:09:30.886000+00:00</td><td style='border: 1px solid #dddddd'>54761e81-a87e-4ff6-b3f0-7b368ef6c392</td></tr><tr><td style='border: 1px solid #dddddd'>39ae600e-5a0c-426c-91e2-17dcf8be8bec</td><td style='border: 1px solid #dddddd'>model</td><td style='border: 1px solid #dddddd'>GermanCreditRiskModelPreProdICP</td><td style='border: 1px solid #dddddd'>00000000-0000-0000-0000-000000000000</td><td style='border: 1px solid #dddddd'>32b80eb6-c461-4b3a-9345-51d3fea01e64</td><td style='border: 1px solid #dddddd'>GermanCreditRiskModelPreProdICP</td><td style='border: 1px solid #dddddd'>8a8b7e3c-c1b8-427a-8b07-3b62208bd1e7</td><td style='border: 1px solid #dddddd'>active</td><td style='border: 1px solid #dddddd'>2024-09-04 20:07:27.645000+00:00</td><td style='border: 1px solid #dddddd'>dd7346f2-7346-4303-9295-fd822173ded6</td></tr><tr><td style='border: 1px solid #dddddd'>d98ac736-c7f2-41ee-87db-a13438634bec</td><td style='border: 1px solid #dddddd'>model</td><td style='border: 1px solid #dddddd'>GermanCreditRiskModelChallengerICP</td><td style='border: 1px solid #dddddd'>00000000-0000-0000-0000-000000000000</td><td style='border: 1px solid #dddddd'>214a512f-1204-40cd-a1c1-e098b673fdd0</td><td style='border: 1px solid #dddddd'>GermanCreditRiskModelChallengerICP</td><td style='border: 1px solid #dddddd'>8a8b7e3c-c1b8-427a-8b07-3b62208bd1e7</td><td style='border: 1px solid #dddddd'>active</td><td style='border: 1px solid #dddddd'>2024-09-04 20:03:55.397000+00:00</td><td style='border: 1px solid #dddddd'>5d0a8def-7048-4a11-87b4-b9a33fd34bf9</td></tr>\n",
                            "            </table>\n",
                            "        </body>\n",
                            "        </HTML>"
                        ],
                        "text/plain": [
                            "<IPython.core.display.HTML object>"
                        ]
                    },
                    "metadata": {},
                    "output_type": "display_data"
                }
            ],
            "source": [
                "wos_client.subscriptions.show()"
            ]
        },
        {
            "cell_type": "code",
            "execution_count": 49,
            "metadata": {
                "id": "416c6961-0010-46f8-b25c-11a1e8cf5f21",
                "scrolled": true
            },
            "outputs": [],
            "source": [
                "subscriptions = wos_client.subscriptions.list().result.subscriptions\n",
                "for subscription in subscriptions:\n",
                "    sub_model_id = subscription.entity.asset.asset_id\n",
                "    if sub_model_id == ai_function_uid:\n",
                "        wos_client.subscriptions.delete(subscription.metadata.id)\n",
                "        print('Deleted existing subscription for model', sub_model_id)"
            ]
        },
        {
            "cell_type": "markdown",
            "metadata": {
                "id": "392068d3-ca60-4dd1-a7bc-26d86944e6ca"
            },
            "source": [
                "This code creates the model subscription in OpenScale using the Python client API. Note that we need to provide the model unique identifier, and some information about the model itself."
            ]
        },
        {
            "cell_type": "code",
            "execution_count": 50,
            "metadata": {
                "id": "b3d0b0a3-2418-4ff1-89a9-dd8bb58c6f3a",
                "scrolled": true
            },
            "outputs": [
                {
                    "name": "stdout",
                    "output_type": "stream",
                    "text": [
                        "\n",
                        "\n",
                        "=============================================================================\n",
                        "\n",
                        " Waiting for end of adding subscription 41b7c70a-5105-4b0e-9aa5-9a7b43fa94ac \n",
                        "\n",
                        "=============================================================================\n",
                        "\n",
                        "\n"
                    ]
                },
                {
                    "name": "stdout",
                    "output_type": "stream",
                    "text": [
                        "\n",
                        "active\n",
                        "\n",
                        "-------------------------------------------\n",
                        " Successfully finished adding subscription \n",
                        "-------------------------------------------\n",
                        "\n",
                        "\n"
                    ]
                },
                {
                    "data": {
                        "text/plain": [
                            "'41b7c70a-5105-4b0e-9aa5-9a7b43fa94ac'"
                        ]
                    },
                    "execution_count": 50,
                    "metadata": {},
                    "output_type": "execute_result"
                }
            ],
            "source": [
                "subscription_details = wos_client.subscriptions.add(\n",
                "        data_mart_id=data_mart_id,\n",
                "        service_provider_id=service_provider_id,\n",
                "        asset=Asset(\n",
                "            asset_id=model_asset_details_from_deployment[\"entity\"][\"asset\"][\"asset_id\"],\n",
                "            name=model_asset_details_from_deployment[\"entity\"][\"asset\"][\"name\"],\n",
                "            url=model_asset_details_from_deployment[\"entity\"][\"asset\"][\"url\"],\n",
                "            asset_type=AssetTypes.MODEL,\n",
                "            input_data_type=InputDataType.STRUCTURED,\n",
                "            problem_type=ProblemType.BINARY_CLASSIFICATION\n",
                "        ),\n",
                "        deployment=AssetDeploymentRequest(\n",
                "            deployment_id=asset_deployment_details['metadata']['guid'],\n",
                "            name=asset_deployment_details['entity']['name'],\n",
                "            deployment_type= DeploymentTypes.ONLINE,\n",
                "            url=asset_deployment_details['entity']['scoring_endpoint']['url']\n",
                "        ),\n",
                "        asset_properties=AssetPropertiesRequest(\n",
                "            label_column='Risk',\n",
                "            probability_fields=['probability'],\n",
                "            prediction_field='predictedLabel',\n",
                "            feature_fields = [\"CheckingStatus\",\"LoanDuration\",\"CreditHistory\",\"LoanPurpose\",\"LoanAmount\",\"ExistingSavings\",\"EmploymentDuration\",\"InstallmentPercent\",\"Sex\",\"OthersOnLoan\",\"CurrentResidenceDuration\",\"OwnsProperty\",\"Age\",\"InstallmentPlans\",\"Housing\",\"ExistingCreditsCount\",\"Job\",\"Dependents\",\"Telephone\",\"ForeignWorker\"],\n",
                "            categorical_fields = [\"CheckingStatus\",\"CreditHistory\",\"LoanPurpose\",\"ExistingSavings\",\"EmploymentDuration\",\"Sex\",\"OthersOnLoan\",\"OwnsProperty\",\"InstallmentPlans\",\"Housing\",\"Job\",\"Telephone\",\"ForeignWorker\"],\n",
                "            training_data_reference=TrainingDataReference(type='cos',\n",
                "                                                          location=COSTrainingDataReferenceLocation(bucket = BUCKET_NAME,\n",
                "                                                                                                    file_name = training_data_file_name),\n",
                "                                                          connection=COSTrainingDataReferenceConnection.from_dict({\n",
                "                                                                        \"resource_instance_id\": COS_RESOURCE_CRN,\n",
                "                                                                        \"url\": COS_ENDPOINT,\n",
                "                                                                        \"api_key\": COS_API_KEY_ID,\n",
                "                                                                        \"iam_url\": IAM_URL})),\n",
                "            training_data_schema=None\n",
                "        ),\n",
                "        background_mode=False\n",
                "    ).result\n",
                "subscription_id = subscription_details.metadata.id\n",
                "subscription_id"
            ]
        },
        {
            "cell_type": "code",
            "execution_count": 51,
            "metadata": {
                "id": "22bb6493-5dbf-4f4f-aae1-3cea90694cc4",
                "scrolled": true
            },
            "outputs": [
                {
                    "name": "stdout",
                    "output_type": "stream",
                    "text": [
                        "Payload data set id:  d413e6bc-eb6c-4e37-8124-efe5d9de3927\n"
                    ]
                }
            ],
            "source": [
                "import time\n",
                "\n",
                "time.sleep(5)\n",
                "payload_data_set_id = None\n",
                "payload_data_set_id = wos_client.data_sets.list(type=DataSetTypes.PAYLOAD_LOGGING, \n",
                "                                                target_target_id=subscription_id, \n",
                "                                                target_target_type=TargetTypes.SUBSCRIPTION).result.data_sets[0].metadata.id\n",
                "if payload_data_set_id is None:\n",
                "    print(\"Payload data set not found. Please check subscription status.\")\n",
                "else:\n",
                "    print(\"Payload data set id: \", payload_data_set_id)"
            ]
        },
        {
            "cell_type": "code",
            "execution_count": 52,
            "metadata": {
                "id": "ca1e2b77-a779-4714-a0b6-7596c7e06db5"
            },
            "outputs": [
                {
                    "data": {
                        "text/html": [
                            "<HTML>\n",
                            "        <body>\n",
                            "            <h3>Data sets</h3>\n",
                            "            <table style='border: 1px solid #dddddd; font-family: Courier'>\n",
                            "                <th style='border: 1px solid #dddddd'>data_mart_id</th><th style='border: 1px solid #dddddd'>status</th><th style='border: 1px solid #dddddd'>target_id</th><th style='border: 1px solid #dddddd'>target_type</th><th style='border: 1px solid #dddddd'>type</th><th style='border: 1px solid #dddddd'>created_at</th><th style='border: 1px solid #dddddd'>id</th>\n",
                            "                <tr><td style='border: 1px solid #dddddd'>00000000-0000-0000-0000-000000000000</td><td style='border: 1px solid #dddddd'>active</td><td style='border: 1px solid #dddddd'>41b7c70a-5105-4b0e-9aa5-9a7b43fa94ac</td><td style='border: 1px solid #dddddd'>subscription</td><td style='border: 1px solid #dddddd'>payload_logging_error</td><td style='border: 1px solid #dddddd'>2024-09-06 09:35:46.372000+00:00</td><td style='border: 1px solid #dddddd'>2c2d16d4-0da9-4632-9823-326aa0eb4596</td></tr><tr><td style='border: 1px solid #dddddd'>00000000-0000-0000-0000-000000000000</td><td style='border: 1px solid #dddddd'>active</td><td style='border: 1px solid #dddddd'>41b7c70a-5105-4b0e-9aa5-9a7b43fa94ac</td><td style='border: 1px solid #dddddd'>subscription</td><td style='border: 1px solid #dddddd'>model_health</td><td style='border: 1px solid #dddddd'>2024-09-06 09:35:46.095000+00:00</td><td style='border: 1px solid #dddddd'>4cb39a46-5406-4848-9387-9d81bbcb05a8</td></tr><tr><td style='border: 1px solid #dddddd'>00000000-0000-0000-0000-000000000000</td><td style='border: 1px solid #dddddd'>active</td><td style='border: 1px solid #dddddd'>41b7c70a-5105-4b0e-9aa5-9a7b43fa94ac</td><td style='border: 1px solid #dddddd'>subscription</td><td style='border: 1px solid #dddddd'>manual_labeling</td><td style='border: 1px solid #dddddd'>2024-09-06 09:35:46.332000+00:00</td><td style='border: 1px solid #dddddd'>d24e8ba6-59e2-4070-9b69-e355f122115b</td></tr><tr><td style='border: 1px solid #dddddd'>00000000-0000-0000-0000-000000000000</td><td style='border: 1px solid #dddddd'>active</td><td style='border: 1px solid #dddddd'>41b7c70a-5105-4b0e-9aa5-9a7b43fa94ac</td><td style='border: 1px solid #dddddd'>subscription</td><td style='border: 1px solid #dddddd'>payload_logging</td><td style='border: 1px solid #dddddd'>2024-09-06 09:35:46.281000+00:00</td><td style='border: 1px solid #dddddd'>d413e6bc-eb6c-4e37-8124-efe5d9de3927</td></tr><tr><td style='border: 1px solid #dddddd'>00000000-0000-0000-0000-000000000000</td><td style='border: 1px solid #dddddd'>active</td><td style='border: 1px solid #dddddd'>54761e81-a87e-4ff6-b3f0-7b368ef6c392</td><td style='border: 1px solid #dddddd'>subscription</td><td style='border: 1px solid #dddddd'>model_health</td><td style='border: 1px solid #dddddd'>2024-09-04 20:09:32.543000+00:00</td><td style='border: 1px solid #dddddd'>1f539a49-c11f-4431-a74f-544d95f289b5</td></tr><tr><td style='border: 1px solid #dddddd'>00000000-0000-0000-0000-000000000000</td><td style='border: 1px solid #dddddd'>active</td><td style='border: 1px solid #dddddd'>54761e81-a87e-4ff6-b3f0-7b368ef6c392</td><td style='border: 1px solid #dddddd'>subscription</td><td style='border: 1px solid #dddddd'>manual_labeling</td><td style='border: 1px solid #dddddd'>2024-09-04 20:09:33.664000+00:00</td><td style='border: 1px solid #dddddd'>92e843a0-7b93-4faa-9b7a-a7982644e2df</td></tr><tr><td style='border: 1px solid #dddddd'>00000000-0000-0000-0000-000000000000</td><td style='border: 1px solid #dddddd'>active</td><td style='border: 1px solid #dddddd'>54761e81-a87e-4ff6-b3f0-7b368ef6c392</td><td style='border: 1px solid #dddddd'>subscription</td><td style='border: 1px solid #dddddd'>payload_logging</td><td style='border: 1px solid #dddddd'>2024-09-04 20:09:33.439000+00:00</td><td style='border: 1px solid #dddddd'>f10f4d04-2231-41e1-ba5e-b128e11d4962</td></tr><tr><td style='border: 1px solid #dddddd'>00000000-0000-0000-0000-000000000000</td><td style='border: 1px solid #dddddd'>active</td><td style='border: 1px solid #dddddd'>54761e81-a87e-4ff6-b3f0-7b368ef6c392</td><td style='border: 1px solid #dddddd'>subscription</td><td style='border: 1px solid #dddddd'>feedback</td><td style='border: 1px solid #dddddd'>2024-09-04 20:10:43.375000+00:00</td><td style='border: 1px solid #dddddd'>48c2cbc1-bd5a-48d7-9a59-5f99a5ac05e5</td></tr><tr><td style='border: 1px solid #dddddd'>00000000-0000-0000-0000-000000000000</td><td style='border: 1px solid #dddddd'>active</td><td style='border: 1px solid #dddddd'>54761e81-a87e-4ff6-b3f0-7b368ef6c392</td><td style='border: 1px solid #dddddd'>subscription</td><td style='border: 1px solid #dddddd'>drift_intervals</td><td style='border: 1px solid #dddddd'>2024-09-04 20:10:02.344000+00:00</td><td style='border: 1px solid #dddddd'>4878bc77-beeb-41d9-a21e-e8ce90fcd3a1</td></tr><tr><td style='border: 1px solid #dddddd'>00000000-0000-0000-0000-000000000000</td><td style='border: 1px solid #dddddd'>active</td><td style='border: 1px solid #dddddd'>54761e81-a87e-4ff6-b3f0-7b368ef6c392</td><td style='border: 1px solid #dddddd'>subscription</td><td style='border: 1px solid #dddddd'>drift_insights</td><td style='border: 1px solid #dddddd'>2024-09-04 20:10:02.348000+00:00</td><td style='border: 1px solid #dddddd'>519c28fe-a19d-4312-8906-b82bd4bf39ec</td></tr>\n",
                            "            </table>\n",
                            "        </body>\n",
                            "        </HTML>"
                        ],
                        "text/plain": [
                            "<IPython.core.display.HTML object>"
                        ]
                    },
                    "metadata": {},
                    "output_type": "display_data"
                },
                {
                    "name": "stdout",
                    "output_type": "stream",
                    "text": [
                        "Note: First 10 records were displayed.\n"
                    ]
                }
            ],
            "source": [
                "wos_client.data_sets.show()"
            ]
        },
        {
            "cell_type": "markdown",
            "metadata": {
                "id": "28f0d500-8919-4121-9785-ab3a59c4effb"
            },
            "source": [
                "### Score the model so we can configure monitors"
            ]
        },
        {
            "cell_type": "markdown",
            "metadata": {
                "id": "6f4e0d51-fbcf-47ff-ae19-c92436bd40c3"
            },
            "source": [
                "Now that the WML service has been bound and the subscription has been created, we need to send a request to the model before we configure OpenScale. This allows OpenScale to create a payload log in the datamart with the correct schema, so it can capture data coming into and out of the model."
            ]
        },
        {
            "cell_type": "code",
            "execution_count": 53,
            "metadata": {
                "id": "ce458c00-1059-4ca1-a8e2-dabbe64a8dbf",
                "scrolled": true
            },
            "outputs": [
                {
                    "name": "stdout",
                    "output_type": "stream",
                    "text": [
                        "Single record scoring result: \n",
                        " fields: ['CheckingStatus', 'LoanDuration', 'CreditHistory', 'LoanPurpose', 'LoanAmount', 'ExistingSavings', 'EmploymentDuration', 'InstallmentPercent', 'Sex', 'OthersOnLoan', 'CurrentResidenceDuration', 'OwnsProperty', 'Age', 'InstallmentPlans', 'Housing', 'ExistingCreditsCount', 'Job', 'Dependents', 'Telephone', 'ForeignWorker', 'CheckingStatus_IX', 'CreditHistory_IX', 'LoanPurpose_IX', 'ExistingSavings_IX', 'EmploymentDuration_IX', 'Sex_IX', 'OthersOnLoan_IX', 'OwnsProperty_IX', 'InstallmentPlans_IX', 'Housing_IX', 'Job_IX', 'Telephone_IX', 'ForeignWorker_IX', 'label', 'features', 'rawPrediction', 'probability', 'prediction', 'predictedLabel'] \n",
                        " values:  ['no_checking', 13, 'credits_paid_to_date', 'car_new', 1343, '100_to_500', '1_to_4', 2, 'female', 'none', 3, 'savings_insurance', 46, 'none', 'own', 2, 'skilled', 1, 'none', 'yes', 0.0, 1.0, 0.0, 1.0, 0.0, 1.0, 0.0, 0.0, 0.0, 0.0, 0.0, 0.0, 0.0, 0.0, [20, [1, 3, 5, 13, 14, 15, 16, 17, 18, 19], [1.0, 1.0, 1.0, 13.0, 1343.0, 2.0, 3.0, 46.0, 2.0, 1.0]], [13.374761897038752, 6.625238102961246], [0.6687380948519376, 0.3312619051480623], 0.0, 'No Risk']\n"
                    ]
                }
            ],
            "source": [
                "fields = [\"CheckingStatus\",\"LoanDuration\",\"CreditHistory\",\"LoanPurpose\",\"LoanAmount\",\"ExistingSavings\",\"EmploymentDuration\",\"InstallmentPercent\",\"Sex\",\"OthersOnLoan\",\"CurrentResidenceDuration\",\"OwnsProperty\",\"Age\",\"InstallmentPlans\",\"Housing\",\"ExistingCreditsCount\",\"Job\",\"Dependents\",\"Telephone\",\"ForeignWorker\"]\n",
                "values = [\n",
                "  [\"no_checking\",13,\"credits_paid_to_date\",\"car_new\",1343,\"100_to_500\",\"1_to_4\",2,\"female\",\"none\",3,\"savings_insurance\",46,\"none\",\"own\",2,\"skilled\",1,\"none\",\"yes\"],\n",
                "  [\"no_checking\",24,\"prior_payments_delayed\",\"furniture\",4567,\"500_to_1000\",\"1_to_4\",4,\"male\",\"none\",4,\"savings_insurance\",36,\"none\",\"free\",2,\"management_self-employed\",1,\"none\",\"yes\"],\n",
                "  [\"0_to_200\",26,\"all_credits_paid_back\",\"car_new\",863,\"less_100\",\"less_1\",2,\"female\",\"co-applicant\",2,\"real_estate\",38,\"none\",\"own\",1,\"skilled\",1,\"none\",\"yes\"],\n",
                "  [\"0_to_200\",14,\"no_credits\",\"car_new\",2368,\"less_100\",\"1_to_4\",3,\"female\",\"none\",3,\"real_estate\",29,\"none\",\"own\",1,\"skilled\",1,\"none\",\"yes\"],\n",
                "  [\"0_to_200\",4,\"no_credits\",\"car_new\",250,\"less_100\",\"unemployed\",2,\"female\",\"none\",3,\"real_estate\",23,\"none\",\"rent\",1,\"management_self-employed\",1,\"none\",\"yes\"],\n",
                "  [\"no_checking\",17,\"credits_paid_to_date\",\"car_new\",832,\"100_to_500\",\"1_to_4\",2,\"male\",\"none\",2,\"real_estate\",42,\"none\",\"own\",1,\"skilled\",1,\"none\",\"yes\"],\n",
                "  [\"no_checking\",33,\"outstanding_credit\",\"appliances\",5696,\"unknown\",\"greater_7\",4,\"male\",\"co-applicant\",4,\"unknown\",54,\"none\",\"free\",2,\"skilled\",1,\"yes\",\"yes\"],\n",
                "  [\"0_to_200\",13,\"prior_payments_delayed\",\"retraining\",1375,\"100_to_500\",\"4_to_7\",3,\"male\",\"none\",3,\"real_estate\",37,\"none\",\"own\",2,\"management_self-employed\",1,\"none\",\"yes\"]\n",
                "]\n",
                "\n",
                "payload_scoring = { \"input_data\": [ {\"fields\": fields,\"values\": values}]}\n",
                "scoring_response = wml_client.deployments.score(ai_func_deployment_uid, payload_scoring)\n",
                "\n",
                "print('Single record scoring result:', '\\n fields:', scoring_response['predictions'][0]['fields'], '\\n values: ', scoring_response['predictions'][0]['values'][0])"
            ]
        },
        {
            "cell_type": "markdown",
            "metadata": {
                "id": "8fe8d26c7e6249b7af55d4460be31a04"
            },
            "source": [
                "## Check if WML payload logging worked else manually store payload records"
            ]
        },
        {
            "cell_type": "code",
            "execution_count": 54,
            "metadata": {
                "id": "30d2bbe7a25649908b451455455bacd9"
            },
            "outputs": [
                {
                    "name": "stdout",
                    "output_type": "stream",
                    "text": [
                        "Number of records in the payload logging table: 8\n"
                    ]
                }
            ],
            "source": [
                "import uuid\n",
                "from ibm_watson_openscale.supporting_classes.payload_record import PayloadRecord\n",
                "time.sleep(5)\n",
                "pl_records_count = wos_client.data_sets.get_records_count(payload_data_set_id)\n",
                "print(\"Number of records in the payload logging table: {}\".format(pl_records_count))\n",
                "if pl_records_count == 0:\n",
                "    print(\"Payload logging did not happen, performing explicit payload logging.\")\n",
                "    wos_client.data_sets.store_records(data_set_id=payload_data_set_id, request_body=[PayloadRecord(\n",
                "                   scoring_id=str(uuid.uuid4()),\n",
                "                   request=payload_scoring,\n",
                "                   response={\"fields\": scoring_response['predictions'][0]['fields'], \"values\":scoring_response['predictions'][0]['values']},\n",
                "                   response_time=460\n",
                "               )])\n",
                "    time.sleep(5)\n",
                "    pl_records_count = wos_client.data_sets.get_records_count(payload_data_set_id)\n",
                "    print(\"Number of records in the payload logging table: {}\".format(pl_records_count))"
            ]
        },
        {
            "cell_type": "markdown",
            "metadata": {
                "id": "34994a57-b35e-4b15-af31-92f662da83ea"
            },
            "source": [
                "\n",
                "# Quality monitoring and feedback logging <a name=\"quality\"></a>"
            ]
        },
        {
            "cell_type": "markdown",
            "metadata": {
                "id": "5549b783-cf11-4014-8529-5e5a28988f57"
            },
            "source": [
                "## Enable quality monitoring"
            ]
        },
        {
            "cell_type": "markdown",
            "metadata": {
                "id": "307026d0-5b9e-49cd-8623-62530db5926e"
            },
            "source": [
                "The code below waits ten seconds to allow the payload logging table to be set up before it begins enabling monitors. First, it turns on the quality (accuracy) monitor and sets an alert threshold of 70%. OpenScale will show an alert on the dashboard if the model accuracy measurement (area under the curve, in the case of a binary classifier) falls below this threshold.\n",
                "\n",
                "The second paramater supplied, min_records, specifies the minimum number of feedback records OpenScale needs before it calculates a new measurement. The quality monitor runs hourly, but the accuracy reading in the dashboard will not change until an additional 50 feedback records have been added, via the user interface, the Python client, or the supplied feedback endpoint."
            ]
        },
        {
            "cell_type": "code",
            "execution_count": 55,
            "metadata": {
                "id": "b3e9d933-cc6d-43d8-b8ff-df82ba6b15b2",
                "scrolled": true
            },
            "outputs": [
                {
                    "name": "stdout",
                    "output_type": "stream",
                    "text": [
                        "\n",
                        "\n",
                        "===================================================================================\n",
                        "\n",
                        " Waiting for end of monitor instance creation 03e0da1a-eac1-430f-ae4a-a3ac140baa7c \n",
                        "\n",
                        "===================================================================================\n",
                        "\n",
                        "\n"
                    ]
                },
                {
                    "name": "stdout",
                    "output_type": "stream",
                    "text": [
                        "\n",
                        "preparing"
                    ]
                },
                {
                    "name": "stdout",
                    "output_type": "stream",
                    "text": [
                        "\n",
                        "active\n",
                        "\n",
                        "---------------------------------------\n",
                        " Monitor instance successfully created \n",
                        "---------------------------------------\n",
                        "\n",
                        "\n"
                    ]
                }
            ],
            "source": [
                "import time\n",
                "\n",
                "time.sleep(10)\n",
                "target = Target(\n",
                "        target_type=TargetTypes.SUBSCRIPTION,\n",
                "        target_id=subscription_id\n",
                ")\n",
                "parameters = {\n",
                "    \"min_feedback_data_size\": 50\n",
                "}\n",
                "thresholds = [\n",
                "                {\n",
                "                    \"metric_id\": \"area_under_roc\",\n",
                "                    \"type\": \"lower_limit\",\n",
                "                    \"value\": .80\n",
                "                }\n",
                "            ]\n",
                "quality_monitor_details = wos_client.monitor_instances.create(\n",
                "    data_mart_id=data_mart_id,\n",
                "    background_mode=False,\n",
                "    monitor_definition_id=wos_client.monitor_definitions.MONITORS.QUALITY.ID,\n",
                "    target=target,\n",
                "    parameters=parameters,\n",
                "    thresholds=thresholds\n",
                ").result"
            ]
        },
        {
            "cell_type": "code",
            "execution_count": 56,
            "metadata": {
                "id": "df697eb4e66348409654859b4d9e4166"
            },
            "outputs": [
                {
                    "data": {
                        "text/plain": [
                            "'03e0da1a-eac1-430f-ae4a-a3ac140baa7c'"
                        ]
                    },
                    "execution_count": 56,
                    "metadata": {},
                    "output_type": "execute_result"
                }
            ],
            "source": [
                "quality_monitor_instance_id = quality_monitor_details.metadata.id\n",
                "quality_monitor_instance_id"
            ]
        },
        {
            "cell_type": "markdown",
            "metadata": {
                "id": "528069bd-9b0c-440a-92c0-c33908a00d2a"
            },
            "source": [
                "## Feedback logging"
            ]
        },
        {
            "cell_type": "markdown",
            "metadata": {
                "id": "0e2e77e7-d645-456b-9a45-ec5a1c715210"
            },
            "source": [
                "The code below downloads and stores enough feedback data to meet the minimum threshold so that OpenScale can calculate a new accuracy measurement. It then kicks off the accuracy monitor. The monitors run hourly, or can be initiated via the Python API, the REST API, or the graphical user interface."
            ]
        },
        {
            "cell_type": "code",
            "execution_count": 57,
            "metadata": {
                "id": "e9cddba8-e579-4c30-8c0a-657953d3c2cf"
            },
            "outputs": [
                {
                    "name": "stdout",
                    "output_type": "stream",
                    "text": [
                        "--2024-09-06 09:36:22--  https://raw.githubusercontent.com/IBM/watson-openscale-samples/main/Cloud%20Pak%20for%20Data/WML/assets/data/credit_risk/additional_feedback_data_v2.json\r\n"
                    ]
                },
                {
                    "name": "stdout",
                    "output_type": "stream",
                    "text": [
                        "Resolving raw.githubusercontent.com (raw.githubusercontent.com)... 185.199.109.133, 185.199.111.133, 185.199.108.133, ...\r\n",
                        "Connecting to raw.githubusercontent.com (raw.githubusercontent.com)|185.199.109.133|:443... connected.\r\n",
                        "HTTP request sent, awaiting response... "
                    ]
                },
                {
                    "name": "stdout",
                    "output_type": "stream",
                    "text": [
                        "200 OK\r\n",
                        "Length: 50890 (50K) [text/plain]\r\n",
                        "Saving to: ‘additional_feedback_data_v2.json’\r\n",
                        "\r\n",
                        "\r          additiona   0%[                    ]       0  --.-KB/s               \radditional_feedback 100%[===================>]  49.70K  --.-KB/s    in 0.004s  \r\n",
                        "\r\n",
                        "2024-09-06 09:36:22 (12.5 MB/s) - ‘additional_feedback_data_v2.json’ saved [50890/50890]\r\n",
                        "\r\n"
                    ]
                }
            ],
            "source": [
                "!rm additional_feedback_data_v2.json\n",
                "!wget https://raw.githubusercontent.com/IBM/watson-openscale-samples/main/Cloud%20Pak%20for%20Data/WML/assets/data/credit_risk/additional_feedback_data_v2.json"
            ]
        },
        {
            "cell_type": "markdown",
            "metadata": {
                "id": "3693ded2956d4fb58f2e823b815221f0"
            },
            "source": [
                "## Get feedback logging dataset ID"
            ]
        },
        {
            "cell_type": "code",
            "execution_count": 58,
            "metadata": {
                "id": "a429003593e440e28a5940c7dd4995df"
            },
            "outputs": [
                {
                    "name": "stdout",
                    "output_type": "stream",
                    "text": [
                        "{\n",
                        "  \"data_sets\": [\n",
                        "    {\n",
                        "      \"metadata\": {\n",
                        "        \"id\": \"b0cb45b5-cd64-4056-ab75-7e113daaa524\",\n",
                        "        \"crn\": \"crn:v1:bluemix:public:aiopenscale:us-south:a/na:00000000-0000-0000-0000-000000000000:data_set:b0cb45b5-cd64-4056-ab75-7e113daaa524\",\n",
                        "        \"url\": \"/v2/data_sets/b0cb45b5-cd64-4056-ab75-7e113daaa524\",\n",
                        "        \"created_at\": \"2024-09-06T09:36:12.342000Z\",\n",
                        "        \"created_by\": \"internal-service\",\n",
                        "        \"modified_at\": \"2024-09-06T09:36:12.655000Z\",\n",
                        "        \"modified_by\": \"internal-service\"\n",
                        "      },\n",
                        "      \"entity\": {\n",
                        "        \"data_mart_id\": \"00000000-0000-0000-0000-000000000000\",\n",
                        "        \"name\": \"41b7c70a-5105-4b0e-9aa5-9a7b43fa94ac_feedback\",\n",
                        "        \"description\": \"41b7c70a-5105-4b0e-9aa5-9a7b43fa94ac_feedback\",\n",
                        "        \"type\": \"feedback\",\n",
                        "        \"target\": {\n",
                        "          \"target_type\": \"subscription\",\n",
                        "          \"target_id\": \"41b7c70a-5105-4b0e-9aa5-9a7b43fa94ac\"\n",
                        "        },\n",
                        "        \"schema_update_mode\": \"auto\",\n",
                        "        \"data_schema\": {\n",
                        "          \"type\": \"struct\",\n",
                        "          \"fields\": [\n",
                        "            {\n",
                        "              \"metadata\": {\n",
                        "                \"columnInfo\": {\n",
                        "                  \"columnLength\": 64\n",
                        "                },\n",
                        "                \"measure\": \"discrete\",\n",
                        "                \"modeling_role\": \"feature\"\n",
                        "              },\n",
                        "              \"name\": \"CheckingStatus\",\n",
                        "              \"nullable\": true,\n",
                        "              \"type\": \"string\"\n",
                        "            },\n",
                        "            {\n",
                        "              \"metadata\": {\n",
                        "                \"modeling_role\": \"feature\"\n",
                        "              },\n",
                        "              \"name\": \"LoanDuration\",\n",
                        "              \"nullable\": true,\n",
                        "              \"type\": \"integer\"\n",
                        "            },\n",
                        "            {\n",
                        "              \"metadata\": {\n",
                        "                \"columnInfo\": {\n",
                        "                  \"columnLength\": 64\n",
                        "                },\n",
                        "                \"measure\": \"discrete\",\n",
                        "                \"modeling_role\": \"feature\"\n",
                        "              },\n",
                        "              \"name\": \"CreditHistory\",\n",
                        "              \"nullable\": true,\n",
                        "              \"type\": \"string\"\n",
                        "            },\n",
                        "            {\n",
                        "              \"metadata\": {\n",
                        "                \"columnInfo\": {\n",
                        "                  \"columnLength\": 64\n",
                        "                },\n",
                        "                \"measure\": \"discrete\",\n",
                        "                \"modeling_role\": \"feature\"\n",
                        "              },\n",
                        "              \"name\": \"LoanPurpose\",\n",
                        "              \"nullable\": true,\n",
                        "              \"type\": \"string\"\n",
                        "            },\n",
                        "            {\n",
                        "              \"metadata\": {\n",
                        "                \"modeling_role\": \"feature\"\n",
                        "              },\n",
                        "              \"name\": \"LoanAmount\",\n",
                        "              \"nullable\": true,\n",
                        "              \"type\": \"integer\"\n",
                        "            },\n",
                        "            {\n",
                        "              \"metadata\": {\n",
                        "                \"columnInfo\": {\n",
                        "                  \"columnLength\": 64\n",
                        "                },\n",
                        "                \"measure\": \"discrete\",\n",
                        "                \"modeling_role\": \"feature\"\n",
                        "              },\n",
                        "              \"name\": \"ExistingSavings\",\n",
                        "              \"nullable\": true,\n",
                        "              \"type\": \"string\"\n",
                        "            },\n",
                        "            {\n",
                        "              \"metadata\": {\n",
                        "                \"columnInfo\": {\n",
                        "                  \"columnLength\": 64\n",
                        "                },\n",
                        "                \"measure\": \"discrete\",\n",
                        "                \"modeling_role\": \"feature\"\n",
                        "              },\n",
                        "              \"name\": \"EmploymentDuration\",\n",
                        "              \"nullable\": true,\n",
                        "              \"type\": \"string\"\n",
                        "            },\n",
                        "            {\n",
                        "              \"metadata\": {\n",
                        "                \"modeling_role\": \"feature\"\n",
                        "              },\n",
                        "              \"name\": \"InstallmentPercent\",\n",
                        "              \"nullable\": true,\n",
                        "              \"type\": \"integer\"\n",
                        "            },\n",
                        "            {\n",
                        "              \"metadata\": {\n",
                        "                \"columnInfo\": {\n",
                        "                  \"columnLength\": 64\n",
                        "                },\n",
                        "                \"measure\": \"discrete\",\n",
                        "                \"modeling_role\": \"feature\"\n",
                        "              },\n",
                        "              \"name\": \"Sex\",\n",
                        "              \"nullable\": true,\n",
                        "              \"type\": \"string\"\n",
                        "            },\n",
                        "            {\n",
                        "              \"metadata\": {\n",
                        "                \"columnInfo\": {\n",
                        "                  \"columnLength\": 64\n",
                        "                },\n",
                        "                \"measure\": \"discrete\",\n",
                        "                \"modeling_role\": \"feature\"\n",
                        "              },\n",
                        "              \"name\": \"OthersOnLoan\",\n",
                        "              \"nullable\": true,\n",
                        "              \"type\": \"string\"\n",
                        "            },\n",
                        "            {\n",
                        "              \"metadata\": {\n",
                        "                \"modeling_role\": \"feature\"\n",
                        "              },\n",
                        "              \"name\": \"CurrentResidenceDuration\",\n",
                        "              \"nullable\": true,\n",
                        "              \"type\": \"integer\"\n",
                        "            },\n",
                        "            {\n",
                        "              \"metadata\": {\n",
                        "                \"columnInfo\": {\n",
                        "                  \"columnLength\": 64\n",
                        "                },\n",
                        "                \"measure\": \"discrete\",\n",
                        "                \"modeling_role\": \"feature\"\n",
                        "              },\n",
                        "              \"name\": \"OwnsProperty\",\n",
                        "              \"nullable\": true,\n",
                        "              \"type\": \"string\"\n",
                        "            },\n",
                        "            {\n",
                        "              \"metadata\": {\n",
                        "                \"modeling_role\": \"feature\"\n",
                        "              },\n",
                        "              \"name\": \"Age\",\n",
                        "              \"nullable\": true,\n",
                        "              \"type\": \"integer\"\n",
                        "            },\n",
                        "            {\n",
                        "              \"metadata\": {\n",
                        "                \"columnInfo\": {\n",
                        "                  \"columnLength\": 64\n",
                        "                },\n",
                        "                \"measure\": \"discrete\",\n",
                        "                \"modeling_role\": \"feature\"\n",
                        "              },\n",
                        "              \"name\": \"InstallmentPlans\",\n",
                        "              \"nullable\": true,\n",
                        "              \"type\": \"string\"\n",
                        "            },\n",
                        "            {\n",
                        "              \"metadata\": {\n",
                        "                \"columnInfo\": {\n",
                        "                  \"columnLength\": 64\n",
                        "                },\n",
                        "                \"measure\": \"discrete\",\n",
                        "                \"modeling_role\": \"feature\"\n",
                        "              },\n",
                        "              \"name\": \"Housing\",\n",
                        "              \"nullable\": true,\n",
                        "              \"type\": \"string\"\n",
                        "            },\n",
                        "            {\n",
                        "              \"metadata\": {\n",
                        "                \"modeling_role\": \"feature\"\n",
                        "              },\n",
                        "              \"name\": \"ExistingCreditsCount\",\n",
                        "              \"nullable\": true,\n",
                        "              \"type\": \"integer\"\n",
                        "            },\n",
                        "            {\n",
                        "              \"metadata\": {\n",
                        "                \"columnInfo\": {\n",
                        "                  \"columnLength\": 64\n",
                        "                },\n",
                        "                \"measure\": \"discrete\",\n",
                        "                \"modeling_role\": \"feature\"\n",
                        "              },\n",
                        "              \"name\": \"Job\",\n",
                        "              \"nullable\": true,\n",
                        "              \"type\": \"string\"\n",
                        "            },\n",
                        "            {\n",
                        "              \"metadata\": {\n",
                        "                \"modeling_role\": \"feature\"\n",
                        "              },\n",
                        "              \"name\": \"Dependents\",\n",
                        "              \"nullable\": true,\n",
                        "              \"type\": \"integer\"\n",
                        "            },\n",
                        "            {\n",
                        "              \"metadata\": {\n",
                        "                \"columnInfo\": {\n",
                        "                  \"columnLength\": 64\n",
                        "                },\n",
                        "                \"measure\": \"discrete\",\n",
                        "                \"modeling_role\": \"feature\"\n",
                        "              },\n",
                        "              \"name\": \"Telephone\",\n",
                        "              \"nullable\": true,\n",
                        "              \"type\": \"string\"\n",
                        "            },\n",
                        "            {\n",
                        "              \"metadata\": {\n",
                        "                \"columnInfo\": {\n",
                        "                  \"columnLength\": 64\n",
                        "                },\n",
                        "                \"measure\": \"discrete\",\n",
                        "                \"modeling_role\": \"feature\"\n",
                        "              },\n",
                        "              \"name\": \"ForeignWorker\",\n",
                        "              \"nullable\": true,\n",
                        "              \"type\": \"string\"\n",
                        "            },\n",
                        "            {\n",
                        "              \"metadata\": {\n",
                        "                \"columnInfo\": {\n",
                        "                  \"columnLength\": 64\n",
                        "                },\n",
                        "                \"modeling_role\": \"target\"\n",
                        "              },\n",
                        "              \"name\": \"Risk\",\n",
                        "              \"nullable\": true,\n",
                        "              \"type\": \"string\"\n",
                        "            },\n",
                        "            {\n",
                        "              \"metadata\": {\n",
                        "                \"columnInfo\": {\n",
                        "                  \"columnLength\": 128\n",
                        "                },\n",
                        "                \"modeling_role\": \"record-id\",\n",
                        "                \"primary_key\": true\n",
                        "              },\n",
                        "              \"name\": \"record_id\",\n",
                        "              \"nullable\": false,\n",
                        "              \"type\": \"string\"\n",
                        "            },\n",
                        "            {\n",
                        "              \"metadata\": {\n",
                        "                \"modeling_role\": \"record-timestamp\"\n",
                        "              },\n",
                        "              \"name\": \"record_timestamp\",\n",
                        "              \"nullable\": false,\n",
                        "              \"type\": \"timestamp\"\n",
                        "            },\n",
                        "            {\n",
                        "              \"metadata\": {\n",
                        "                \"transaction_id_key\": true\n",
                        "              },\n",
                        "              \"name\": \"transaction_id\",\n",
                        "              \"nullable\": true,\n",
                        "              \"type\": \"string\"\n",
                        "            },\n",
                        "            {\n",
                        "              \"metadata\": {},\n",
                        "              \"name\": \"_original_prediction\",\n",
                        "              \"nullable\": true,\n",
                        "              \"type\": \"string\"\n",
                        "            },\n",
                        "            {\n",
                        "              \"metadata\": {},\n",
                        "              \"name\": \"_original_probability\",\n",
                        "              \"nullable\": true,\n",
                        "              \"type\": {\n",
                        "                \"containsNull\": true,\n",
                        "                \"elementType\": \"double\",\n",
                        "                \"type\": \"array\"\n",
                        "              }\n",
                        "            },\n",
                        "            {\n",
                        "              \"metadata\": {},\n",
                        "              \"name\": \"_debiased_prediction\",\n",
                        "              \"nullable\": true,\n",
                        "              \"type\": \"string\"\n",
                        "            },\n",
                        "            {\n",
                        "              \"metadata\": {},\n",
                        "              \"name\": \"_debiased_probability\",\n",
                        "              \"nullable\": true,\n",
                        "              \"type\": {\n",
                        "                \"containsNull\": true,\n",
                        "                \"elementType\": \"double\",\n",
                        "                \"type\": \"array\"\n",
                        "              }\n",
                        "            }\n",
                        "          ]\n",
                        "        },\n",
                        "        \"location\": {\n",
                        "          \"table_name\": \"AIOSFASTPATHICP-00000000-0000-0000-0000-000000000000.Feedback_41b7c70a-5105-4b0e-9aa5-9a7b43fa94ac\"\n",
                        "        },\n",
                        "        \"status\": {\n",
                        "          \"state\": \"active\"\n",
                        "        }\n",
                        "      }\n",
                        "    }\n",
                        "  ]\n",
                        "}\n"
                    ]
                }
            ],
            "source": [
                "feedback_dataset_id = None\n",
                "feedback_dataset = wos_client.data_sets.list(type=DataSetTypes.FEEDBACK, \n",
                "                                                target_target_id=subscription_id, \n",
                "                                                target_target_type=TargetTypes.SUBSCRIPTION).result\n",
                "print(feedback_dataset)\n",
                "feedback_dataset_id = feedback_dataset.data_sets[0].metadata.id\n",
                "if feedback_dataset_id is None:\n",
                "    print(\"Feedback data set not found. Please check quality monitor status.\")"
            ]
        },
        {
            "cell_type": "code",
            "execution_count": 59,
            "metadata": {
                "id": "a1160b84ead54ed6946c405170aeadf4"
            },
            "outputs": [],
            "source": [
                "with open('additional_feedback_data_v2.json') as feedback_file:\n",
                "    additional_feedback_data = json.load(feedback_file)"
            ]
        },
        {
            "cell_type": "code",
            "execution_count": 60,
            "metadata": {
                "id": "e71198141e8848a99c0b40e8c0237a5b"
            },
            "outputs": [
                {
                    "name": "stdout",
                    "output_type": "stream",
                    "text": [
                        "\n",
                        "\n",
                        "==========================================================================================\n",
                        "\n",
                        " Waiting for end of storing records with request id: c7b8691f-2f69-4a45-8d76-a85a745ee63b \n",
                        "\n",
                        "==========================================================================================\n",
                        "\n",
                        "\n"
                    ]
                },
                {
                    "name": "stdout",
                    "output_type": "stream",
                    "text": [
                        "\n",
                        "active\n",
                        "\n",
                        "---------------------------------------\n",
                        " Successfully finished storing records \n",
                        "---------------------------------------\n",
                        "\n",
                        "\n"
                    ]
                },
                {
                    "data": {
                        "text/plain": [
                            "<ibm_cloud_sdk_core.detailed_response.DetailedResponse at 0x7f1876182390>"
                        ]
                    },
                    "execution_count": 60,
                    "metadata": {},
                    "output_type": "execute_result"
                }
            ],
            "source": [
                "wos_client.data_sets.store_records(feedback_dataset_id, request_body=additional_feedback_data, background_mode=False)"
            ]
        },
        {
            "cell_type": "code",
            "execution_count": 61,
            "metadata": {
                "id": "0f78dd14dd9346ee8a469d3c33134035"
            },
            "outputs": [
                {
                    "data": {
                        "text/plain": [
                            "98"
                        ]
                    },
                    "execution_count": 61,
                    "metadata": {},
                    "output_type": "execute_result"
                }
            ],
            "source": [
                "wos_client.data_sets.get_records_count(data_set_id=feedback_dataset_id)"
            ]
        },
        {
            "cell_type": "code",
            "execution_count": 62,
            "metadata": {
                "id": "b61c034f584b4a6c81c86441741b329b"
            },
            "outputs": [
                {
                    "name": "stdout",
                    "output_type": "stream",
                    "text": [
                        "\n",
                        "\n",
                        "========================================================================\n",
                        "\n",
                        " Waiting for end of monitoring run 1f684381-3ec4-4138-9e8d-ff31eaadbe14 \n",
                        "\n",
                        "========================================================================\n",
                        "\n",
                        "\n"
                    ]
                },
                {
                    "name": "stdout",
                    "output_type": "stream",
                    "text": [
                        "\n",
                        "running"
                    ]
                },
                {
                    "name": "stdout",
                    "output_type": "stream",
                    "text": [
                        "."
                    ]
                },
                {
                    "name": "stdout",
                    "output_type": "stream",
                    "text": [
                        "."
                    ]
                },
                {
                    "name": "stdout",
                    "output_type": "stream",
                    "text": [
                        "."
                    ]
                },
                {
                    "name": "stdout",
                    "output_type": "stream",
                    "text": [
                        "."
                    ]
                },
                {
                    "name": "stdout",
                    "output_type": "stream",
                    "text": [
                        "."
                    ]
                },
                {
                    "name": "stdout",
                    "output_type": "stream",
                    "text": [
                        "."
                    ]
                },
                {
                    "name": "stdout",
                    "output_type": "stream",
                    "text": [
                        "."
                    ]
                },
                {
                    "name": "stdout",
                    "output_type": "stream",
                    "text": [
                        "."
                    ]
                },
                {
                    "name": "stdout",
                    "output_type": "stream",
                    "text": [
                        "\n",
                        "finished\n",
                        "\n",
                        "---------------------------\n",
                        " Successfully finished run \n",
                        "---------------------------\n",
                        "\n",
                        "\n"
                    ]
                }
            ],
            "source": [
                "run_details = wos_client.monitor_instances.run(monitor_instance_id=quality_monitor_instance_id, background_mode=False).result"
            ]
        },
        {
            "cell_type": "code",
            "execution_count": 63,
            "metadata": {
                "id": "0d495df720574b4d9701ea08f4056aff"
            },
            "outputs": [
                {
                    "data": {
                        "text/html": [
                            "<HTML>\n",
                            "        <body>\n",
                            "            <h3>03e0da1a-eac1-430f-ae4a-a3ac140baa7c Monitor Runs Metrics from: 2024-08-30 09:37:19.868868  till: 2024-09-06 09:37:19.868873</h3>\n",
                            "            <table style='border: 1px solid #dddddd; font-family: Courier'>\n",
                            "                <th style='border: 1px solid #dddddd'>ts</th><th style='border: 1px solid #dddddd'>id</th><th style='border: 1px solid #dddddd'>measurement_id</th><th style='border: 1px solid #dddddd'>value</th><th style='border: 1px solid #dddddd'>lower_limit</th><th style='border: 1px solid #dddddd'>upper_limit</th><th style='border: 1px solid #dddddd'>tags</th><th style='border: 1px solid #dddddd'>monitor_definition_id</th><th style='border: 1px solid #dddddd'>monitor_instance_id</th><th style='border: 1px solid #dddddd'>run_id</th><th style='border: 1px solid #dddddd'>target_type</th><th style='border: 1px solid #dddddd'>target_id</th>\n",
                            "                <tr><td style='border: 1px solid #dddddd'>2024-09-06 09:36:28.860000+00:00</td><td style='border: 1px solid #dddddd'>true_positive_rate</td><td style='border: 1px solid #dddddd'>cb3cd6de-2fc7-45c8-878f-01cc6c5b9836</td><td style='border: 1px solid #dddddd'>0.36363636363636365</td><td style='border: 1px solid #dddddd'>None</td><td style='border: 1px solid #dddddd'>None</td><td style='border: 1px solid #dddddd'>['model_type:original']</td><td style='border: 1px solid #dddddd'>quality</td><td style='border: 1px solid #dddddd'>03e0da1a-eac1-430f-ae4a-a3ac140baa7c</td><td style='border: 1px solid #dddddd'>1f684381-3ec4-4138-9e8d-ff31eaadbe14</td><td style='border: 1px solid #dddddd'>subscription</td><td style='border: 1px solid #dddddd'>41b7c70a-5105-4b0e-9aa5-9a7b43fa94ac</td></tr><tr><td style='border: 1px solid #dddddd'>2024-09-06 09:36:28.860000+00:00</td><td style='border: 1px solid #dddddd'>area_under_roc</td><td style='border: 1px solid #dddddd'>cb3cd6de-2fc7-45c8-878f-01cc6c5b9836</td><td style='border: 1px solid #dddddd'>0.6510489510489511</td><td style='border: 1px solid #dddddd'>0.8</td><td style='border: 1px solid #dddddd'>None</td><td style='border: 1px solid #dddddd'>['model_type:original']</td><td style='border: 1px solid #dddddd'>quality</td><td style='border: 1px solid #dddddd'>03e0da1a-eac1-430f-ae4a-a3ac140baa7c</td><td style='border: 1px solid #dddddd'>1f684381-3ec4-4138-9e8d-ff31eaadbe14</td><td style='border: 1px solid #dddddd'>subscription</td><td style='border: 1px solid #dddddd'>41b7c70a-5105-4b0e-9aa5-9a7b43fa94ac</td></tr><tr><td style='border: 1px solid #dddddd'>2024-09-06 09:36:28.860000+00:00</td><td style='border: 1px solid #dddddd'>precision</td><td style='border: 1px solid #dddddd'>cb3cd6de-2fc7-45c8-878f-01cc6c5b9836</td><td style='border: 1px solid #dddddd'>0.75</td><td style='border: 1px solid #dddddd'>None</td><td style='border: 1px solid #dddddd'>None</td><td style='border: 1px solid #dddddd'>['model_type:original']</td><td style='border: 1px solid #dddddd'>quality</td><td style='border: 1px solid #dddddd'>03e0da1a-eac1-430f-ae4a-a3ac140baa7c</td><td style='border: 1px solid #dddddd'>1f684381-3ec4-4138-9e8d-ff31eaadbe14</td><td style='border: 1px solid #dddddd'>subscription</td><td style='border: 1px solid #dddddd'>41b7c70a-5105-4b0e-9aa5-9a7b43fa94ac</td></tr><tr><td style='border: 1px solid #dddddd'>2024-09-06 09:36:28.860000+00:00</td><td style='border: 1px solid #dddddd'>matthews_correlation_coefficient</td><td style='border: 1px solid #dddddd'>cb3cd6de-2fc7-45c8-878f-01cc6c5b9836</td><td style='border: 1px solid #dddddd'>0.38627307784817894</td><td style='border: 1px solid #dddddd'>None</td><td style='border: 1px solid #dddddd'>None</td><td style='border: 1px solid #dddddd'>['model_type:original']</td><td style='border: 1px solid #dddddd'>quality</td><td style='border: 1px solid #dddddd'>03e0da1a-eac1-430f-ae4a-a3ac140baa7c</td><td style='border: 1px solid #dddddd'>1f684381-3ec4-4138-9e8d-ff31eaadbe14</td><td style='border: 1px solid #dddddd'>subscription</td><td style='border: 1px solid #dddddd'>41b7c70a-5105-4b0e-9aa5-9a7b43fa94ac</td></tr><tr><td style='border: 1px solid #dddddd'>2024-09-06 09:36:28.860000+00:00</td><td style='border: 1px solid #dddddd'>f1_measure</td><td style='border: 1px solid #dddddd'>cb3cd6de-2fc7-45c8-878f-01cc6c5b9836</td><td style='border: 1px solid #dddddd'>0.48979591836734687</td><td style='border: 1px solid #dddddd'>None</td><td style='border: 1px solid #dddddd'>None</td><td style='border: 1px solid #dddddd'>['model_type:original']</td><td style='border: 1px solid #dddddd'>quality</td><td style='border: 1px solid #dddddd'>03e0da1a-eac1-430f-ae4a-a3ac140baa7c</td><td style='border: 1px solid #dddddd'>1f684381-3ec4-4138-9e8d-ff31eaadbe14</td><td style='border: 1px solid #dddddd'>subscription</td><td style='border: 1px solid #dddddd'>41b7c70a-5105-4b0e-9aa5-9a7b43fa94ac</td></tr><tr><td style='border: 1px solid #dddddd'>2024-09-06 09:36:28.860000+00:00</td><td style='border: 1px solid #dddddd'>accuracy</td><td style='border: 1px solid #dddddd'>cb3cd6de-2fc7-45c8-878f-01cc6c5b9836</td><td style='border: 1px solid #dddddd'>0.7448979591836735</td><td style='border: 1px solid #dddddd'>None</td><td style='border: 1px solid #dddddd'>None</td><td style='border: 1px solid #dddddd'>['model_type:original']</td><td style='border: 1px solid #dddddd'>quality</td><td style='border: 1px solid #dddddd'>03e0da1a-eac1-430f-ae4a-a3ac140baa7c</td><td style='border: 1px solid #dddddd'>1f684381-3ec4-4138-9e8d-ff31eaadbe14</td><td style='border: 1px solid #dddddd'>subscription</td><td style='border: 1px solid #dddddd'>41b7c70a-5105-4b0e-9aa5-9a7b43fa94ac</td></tr><tr><td style='border: 1px solid #dddddd'>2024-09-06 09:36:28.860000+00:00</td><td style='border: 1px solid #dddddd'>label_skew</td><td style='border: 1px solid #dddddd'>cb3cd6de-2fc7-45c8-878f-01cc6c5b9836</td><td style='border: 1px solid #dddddd'>0.6909336273400492</td><td style='border: 1px solid #dddddd'>None</td><td style='border: 1px solid #dddddd'>None</td><td style='border: 1px solid #dddddd'>['model_type:original']</td><td style='border: 1px solid #dddddd'>quality</td><td style='border: 1px solid #dddddd'>03e0da1a-eac1-430f-ae4a-a3ac140baa7c</td><td style='border: 1px solid #dddddd'>1f684381-3ec4-4138-9e8d-ff31eaadbe14</td><td style='border: 1px solid #dddddd'>subscription</td><td style='border: 1px solid #dddddd'>41b7c70a-5105-4b0e-9aa5-9a7b43fa94ac</td></tr><tr><td style='border: 1px solid #dddddd'>2024-09-06 09:36:28.860000+00:00</td><td style='border: 1px solid #dddddd'>gini_coefficient</td><td style='border: 1px solid #dddddd'>cb3cd6de-2fc7-45c8-878f-01cc6c5b9836</td><td style='border: 1px solid #dddddd'>0.3020979020979022</td><td style='border: 1px solid #dddddd'>None</td><td style='border: 1px solid #dddddd'>None</td><td style='border: 1px solid #dddddd'>['model_type:original']</td><td style='border: 1px solid #dddddd'>quality</td><td style='border: 1px solid #dddddd'>03e0da1a-eac1-430f-ae4a-a3ac140baa7c</td><td style='border: 1px solid #dddddd'>1f684381-3ec4-4138-9e8d-ff31eaadbe14</td><td style='border: 1px solid #dddddd'>subscription</td><td style='border: 1px solid #dddddd'>41b7c70a-5105-4b0e-9aa5-9a7b43fa94ac</td></tr><tr><td style='border: 1px solid #dddddd'>2024-09-06 09:36:28.860000+00:00</td><td style='border: 1px solid #dddddd'>log_loss</td><td style='border: 1px solid #dddddd'>cb3cd6de-2fc7-45c8-878f-01cc6c5b9836</td><td style='border: 1px solid #dddddd'>0.4657072128041715</td><td style='border: 1px solid #dddddd'>None</td><td style='border: 1px solid #dddddd'>None</td><td style='border: 1px solid #dddddd'>['model_type:original']</td><td style='border: 1px solid #dddddd'>quality</td><td style='border: 1px solid #dddddd'>03e0da1a-eac1-430f-ae4a-a3ac140baa7c</td><td style='border: 1px solid #dddddd'>1f684381-3ec4-4138-9e8d-ff31eaadbe14</td><td style='border: 1px solid #dddddd'>subscription</td><td style='border: 1px solid #dddddd'>41b7c70a-5105-4b0e-9aa5-9a7b43fa94ac</td></tr><tr><td style='border: 1px solid #dddddd'>2024-09-06 09:36:28.860000+00:00</td><td style='border: 1px solid #dddddd'>false_positive_rate</td><td style='border: 1px solid #dddddd'>cb3cd6de-2fc7-45c8-878f-01cc6c5b9836</td><td style='border: 1px solid #dddddd'>0.06153846153846154</td><td style='border: 1px solid #dddddd'>None</td><td style='border: 1px solid #dddddd'>None</td><td style='border: 1px solid #dddddd'>['model_type:original']</td><td style='border: 1px solid #dddddd'>quality</td><td style='border: 1px solid #dddddd'>03e0da1a-eac1-430f-ae4a-a3ac140baa7c</td><td style='border: 1px solid #dddddd'>1f684381-3ec4-4138-9e8d-ff31eaadbe14</td><td style='border: 1px solid #dddddd'>subscription</td><td style='border: 1px solid #dddddd'>41b7c70a-5105-4b0e-9aa5-9a7b43fa94ac</td></tr>\n",
                            "            </table>\n",
                            "        </body>\n",
                            "        </HTML>"
                        ],
                        "text/plain": [
                            "<IPython.core.display.HTML object>"
                        ]
                    },
                    "metadata": {},
                    "output_type": "display_data"
                },
                {
                    "name": "stdout",
                    "output_type": "stream",
                    "text": [
                        "Note: First 10 records were displayed.\n"
                    ]
                }
            ],
            "source": [
                "wos_client.monitor_instances.show_metrics(monitor_instance_id=quality_monitor_instance_id)"
            ]
        },
        {
            "cell_type": "markdown",
            "metadata": {
                "id": "82e4c42f-ead9-4b79-84d7-b8db48a24764"
            },
            "source": [
                "# Fairness, drift monitoring and explanations \n",
                " <a name=\"fairness\"></a>"
            ]
        },
        {
            "cell_type": "markdown",
            "metadata": {
                "id": "d938bd94-155c-48ff-80a6-7be71406d54f"
            },
            "source": [
                "The code below configures fairness monitoring for our model. It turns on monitoring for two features, Sex and Age. In each case, we must specify:\n",
                "  * Which model feature to monitor\n",
                "  * One or more **majority** groups, which are values of that feature that we expect to receive a higher percentage of favorable outcomes\n",
                "  * One or more **minority** groups, which are values of that feature that we expect to receive a higher percentage of unfavorable outcomes\n",
                "  * The threshold at which we would like OpenScale to display an alert if the fairness measurement falls below (in this case, 95%)\n",
                "\n",
                "Additionally, we must specify which outcomes from the model are favourable outcomes, and which are unfavourable. We must also provide the number of records OpenScale will use to calculate the fairness score. In this case, OpenScale's fairness monitor will run hourly, but will not calculate a new fairness rating until at least 200 records have been added. Finally, to calculate fairness, OpenScale must perform some calculations on the training data, so we provide the dataframe containing the data."
            ]
        },
        {
            "cell_type": "code",
            "execution_count": 64,
            "metadata": {
                "id": "e8d00b1d4d0549e0933163928779c2d7"
            },
            "outputs": [
                {
                    "data": {
                        "text/html": [
                            "<HTML>\n",
                            "        <body>\n",
                            "            <h3>Monitor instances</h3>\n",
                            "            <table style='border: 1px solid #dddddd; font-family: Courier'>\n",
                            "                <th style='border: 1px solid #dddddd'>data_mart_id</th><th style='border: 1px solid #dddddd'>status</th><th style='border: 1px solid #dddddd'>target_id</th><th style='border: 1px solid #dddddd'>target_type</th><th style='border: 1px solid #dddddd'>monitor_definition_id</th><th style='border: 1px solid #dddddd'>created_at</th><th style='border: 1px solid #dddddd'>id</th>\n",
                            "                <tr><td style='border: 1px solid #dddddd'>00000000-0000-0000-0000-000000000000</td><td style='border: 1px solid #dddddd'>active</td><td style='border: 1px solid #dddddd'>41b7c70a-5105-4b0e-9aa5-9a7b43fa94ac</td><td style='border: 1px solid #dddddd'>subscription</td><td style='border: 1px solid #dddddd'>quality</td><td style='border: 1px solid #dddddd'>2024-09-06 09:36:12.075000+00:00</td><td style='border: 1px solid #dddddd'>03e0da1a-eac1-430f-ae4a-a3ac140baa7c</td></tr><tr><td style='border: 1px solid #dddddd'>00000000-0000-0000-0000-000000000000</td><td style='border: 1px solid #dddddd'>active</td><td style='border: 1px solid #dddddd'>41b7c70a-5105-4b0e-9aa5-9a7b43fa94ac</td><td style='border: 1px solid #dddddd'>subscription</td><td style='border: 1px solid #dddddd'>model_health</td><td style='border: 1px solid #dddddd'>2024-09-06 09:35:45.740000+00:00</td><td style='border: 1px solid #dddddd'>257abea9-751c-45d0-bfac-5b36401bb49f</td></tr><tr><td style='border: 1px solid #dddddd'>00000000-0000-0000-0000-000000000000</td><td style='border: 1px solid #dddddd'>active</td><td style='border: 1px solid #dddddd'>41b7c70a-5105-4b0e-9aa5-9a7b43fa94ac</td><td style='border: 1px solid #dddddd'>subscription</td><td style='border: 1px solid #dddddd'>performance</td><td style='border: 1px solid #dddddd'>2024-09-06 09:35:46.023000+00:00</td><td style='border: 1px solid #dddddd'>d9cfd00b-ff85-42e0-b734-ddd494749591</td></tr><tr><td style='border: 1px solid #dddddd'>00000000-0000-0000-0000-000000000000</td><td style='border: 1px solid #dddddd'>active</td><td style='border: 1px solid #dddddd'>54761e81-a87e-4ff6-b3f0-7b368ef6c392</td><td style='border: 1px solid #dddddd'>subscription</td><td style='border: 1px solid #dddddd'>model_health</td><td style='border: 1px solid #dddddd'>2024-09-04 20:09:32.132000+00:00</td><td style='border: 1px solid #dddddd'>a66570b6-af7e-42be-97fe-61d71e2844e5</td></tr><tr><td style='border: 1px solid #dddddd'>00000000-0000-0000-0000-000000000000</td><td style='border: 1px solid #dddddd'>active</td><td style='border: 1px solid #dddddd'>54761e81-a87e-4ff6-b3f0-7b368ef6c392</td><td style='border: 1px solid #dddddd'>subscription</td><td style='border: 1px solid #dddddd'>mrm</td><td style='border: 1px solid #dddddd'>2024-09-04 20:10:52.899000+00:00</td><td style='border: 1px solid #dddddd'>372f4893-e757-4019-8cd8-f8bb893c1e64</td></tr><tr><td style='border: 1px solid #dddddd'>00000000-0000-0000-0000-000000000000</td><td style='border: 1px solid #dddddd'>active</td><td style='border: 1px solid #dddddd'>54761e81-a87e-4ff6-b3f0-7b368ef6c392</td><td style='border: 1px solid #dddddd'>subscription</td><td style='border: 1px solid #dddddd'>fairness</td><td style='border: 1px solid #dddddd'>2024-09-04 20:10:31.948000+00:00</td><td style='border: 1px solid #dddddd'>9d5bf027-400e-4069-8382-7575091ed40d</td></tr><tr><td style='border: 1px solid #dddddd'>00000000-0000-0000-0000-000000000000</td><td style='border: 1px solid #dddddd'>active</td><td style='border: 1px solid #dddddd'>b1bc49e2-49d4-4e60-ab73-104f9c07bf9f</td><td style='border: 1px solid #dddddd'>instance</td><td style='border: 1px solid #dddddd'>performance</td><td style='border: 1px solid #dddddd'>2024-09-06 08:34:30.022000+00:00</td><td style='border: 1px solid #dddddd'>9b90ca6c-894d-4e7d-82a5-c97fab71aa4c</td></tr><tr><td style='border: 1px solid #dddddd'>00000000-0000-0000-0000-000000000000</td><td style='border: 1px solid #dddddd'>active</td><td style='border: 1px solid #dddddd'>e8095b6b-6d85-46d6-bce8-1f6406be4eea</td><td style='border: 1px solid #dddddd'>instance</td><td style='border: 1px solid #dddddd'>performance</td><td style='border: 1px solid #dddddd'>2024-09-06 07:07:35.281000+00:00</td><td style='border: 1px solid #dddddd'>11027f78-d778-49fa-8f5f-24f02ca459c5</td></tr><tr><td style='border: 1px solid #dddddd'>00000000-0000-0000-0000-000000000000</td><td style='border: 1px solid #dddddd'>active</td><td style='border: 1px solid #dddddd'>54761e81-a87e-4ff6-b3f0-7b368ef6c392</td><td style='border: 1px solid #dddddd'>subscription</td><td style='border: 1px solid #dddddd'>drift_v2</td><td style='border: 1px solid #dddddd'>2024-09-04 20:10:01.326000+00:00</td><td style='border: 1px solid #dddddd'>f9152979-973c-49b5-8177-6b89babe1554</td></tr><tr><td style='border: 1px solid #dddddd'>00000000-0000-0000-0000-000000000000</td><td style='border: 1px solid #dddddd'>active</td><td style='border: 1px solid #dddddd'>54761e81-a87e-4ff6-b3f0-7b368ef6c392</td><td style='border: 1px solid #dddddd'>subscription</td><td style='border: 1px solid #dddddd'>quality</td><td style='border: 1px solid #dddddd'>2024-09-04 20:10:42.470000+00:00</td><td style='border: 1px solid #dddddd'>0aefb57e-029a-43c3-82ea-54049ee1702a</td></tr>\n",
                            "            </table>\n",
                            "        </body>\n",
                            "        </HTML>"
                        ],
                        "text/plain": [
                            "<IPython.core.display.HTML object>"
                        ]
                    },
                    "metadata": {},
                    "output_type": "display_data"
                },
                {
                    "name": "stdout",
                    "output_type": "stream",
                    "text": [
                        "Note: First 10 records were displayed.\n"
                    ]
                }
            ],
            "source": [
                "wos_client.monitor_instances.show()"
            ]
        },
        {
            "cell_type": "code",
            "execution_count": 65,
            "metadata": {
                "id": "448aabea-59a6-4222-9b59-c3e61df7a6c5",
                "scrolled": true
            },
            "outputs": [
                {
                    "name": "stdout",
                    "output_type": "stream",
                    "text": [
                        "\n",
                        "\n",
                        "===================================================================================\n",
                        "\n",
                        " Waiting for end of monitor instance creation 94691fda-994c-478e-b3fb-7a03f1de4d0c \n",
                        "\n",
                        "===================================================================================\n",
                        "\n",
                        "\n"
                    ]
                },
                {
                    "name": "stdout",
                    "output_type": "stream",
                    "text": [
                        "\n",
                        "active\n",
                        "\n",
                        "---------------------------------------\n",
                        " Monitor instance successfully created \n",
                        "---------------------------------------\n",
                        "\n",
                        "\n"
                    ]
                },
                {
                    "data": {
                        "text/plain": [
                            "'94691fda-994c-478e-b3fb-7a03f1de4d0c'"
                        ]
                    },
                    "execution_count": 65,
                    "metadata": {},
                    "output_type": "execute_result"
                }
            ],
            "source": [
                "target = Target(\n",
                "    target_type=TargetTypes.SUBSCRIPTION,\n",
                "    target_id=subscription_id\n",
                "\n",
                ")\n",
                "parameters = {\n",
                "    \"features\": [\n",
                "        {\"feature\": \"Sex\",\n",
                "         \"majority\": ['male'],\n",
                "         \"minority\": ['female'],\n",
                "         \"threshold\": 0.95\n",
                "         },\n",
                "        {\"feature\": \"Age\",\n",
                "         \"majority\": [[26, 75]],\n",
                "         \"minority\": [[18, 25]],\n",
                "         \"threshold\": 0.95\n",
                "         }\n",
                "    ],\n",
                "    \"favourable_class\": [\"No Risk\"],\n",
                "    \"unfavourable_class\": [\"Risk\"],\n",
                "    \"min_records\": 100\n",
                "}\n",
                "\n",
                "fairness_monitor_details = wos_client.monitor_instances.create(\n",
                "    data_mart_id=data_mart_id,\n",
                "    background_mode=False,\n",
                "    monitor_definition_id=wos_client.monitor_definitions.MONITORS.FAIRNESS.ID,\n",
                "    target=target,\n",
                "    parameters=parameters).result\n",
                "fairness_monitor_instance_id =fairness_monitor_details.metadata.id\n",
                "fairness_monitor_instance_id"
            ]
        },
        {
            "cell_type": "markdown",
            "metadata": {
                "id": "b9920ea9-dec8-463d-9bc4-b0c511607b82"
            },
            "source": [
                "## Drift configuration"
            ]
        },
        {
            "cell_type": "code",
            "execution_count": 66,
            "metadata": {
                "id": "b9913f1a-182f-4b12-a225-2883f70e3392"
            },
            "outputs": [],
            "source": [
                "monitor_instances = wos_client.monitor_instances.list().result.monitor_instances\n",
                "for monitor_instance in monitor_instances:\n",
                "    monitor_def_id=monitor_instance.entity.monitor_definition_id\n",
                "    if monitor_def_id == \"drift\" and monitor_instance.entity.target.target_id == subscription_id:\n",
                "        wos_client.monitor_instances.delete(monitor_instance.metadata.id)\n",
                "        print('Deleted existing drift monitor instance with id: ', monitor_instance.metadata.id)"
            ]
        },
        {
            "cell_type": "code",
            "execution_count": 67,
            "metadata": {
                "id": "77c63567-9250-445f-a361-0c35ffd17611"
            },
            "outputs": [
                {
                    "name": "stdout",
                    "output_type": "stream",
                    "text": [
                        "\n",
                        "\n",
                        "===================================================================================\n",
                        "\n",
                        " Waiting for end of monitor instance creation 5c0fb7a3-4128-4d42-bf76-ac2579b8efd7 \n",
                        "\n",
                        "===================================================================================\n",
                        "\n",
                        "\n"
                    ]
                },
                {
                    "name": "stdout",
                    "output_type": "stream",
                    "text": [
                        "\n",
                        "active\n",
                        "\n",
                        "---------------------------------------\n",
                        " Monitor instance successfully created \n",
                        "---------------------------------------\n",
                        "\n",
                        "\n"
                    ]
                },
                {
                    "data": {
                        "text/plain": [
                            "'5c0fb7a3-4128-4d42-bf76-ac2579b8efd7'"
                        ]
                    },
                    "execution_count": 67,
                    "metadata": {},
                    "output_type": "execute_result"
                }
            ],
            "source": [
                "target = Target(\n",
                "    target_type=TargetTypes.SUBSCRIPTION,\n",
                "    target_id=subscription_id\n",
                "\n",
                ")\n",
                "parameters = {\n",
                "    \"min_samples\": 10,\n",
                "    \"drift_threshold\": 0.1,\n",
                "    \"train_drift_model\": True,\n",
                "    \"enable_model_drift\": False,\n",
                "    \"enable_data_drift\": True\n",
                "}\n",
                "\n",
                "drift_monitor_details = wos_client.monitor_instances.create(\n",
                "    data_mart_id=data_mart_id,\n",
                "    background_mode=False,\n",
                "    monitor_definition_id=wos_client.monitor_definitions.MONITORS.DRIFT.ID,\n",
                "    target=target,\n",
                "    parameters=parameters\n",
                ").result\n",
                "\n",
                "drift_monitor_instance_id = drift_monitor_details.metadata.id\n",
                "drift_monitor_instance_id"
            ]
        },
        {
            "cell_type": "markdown",
            "metadata": {
                "id": "c61f6c95-1b5c-459e-a90f-05287b1ab399"
            },
            "source": [
                "#### Finding feature importances\n",
                "\n",
                "This is done because we will deduce the important and most important features to the model. This will help in narrowing down the analysis of Drift evaluation in the UI"
            ]
        },
        {
            "cell_type": "code",
            "execution_count": 68,
            "metadata": {
                "id": "852bae51-095d-421b-a704-625808a3b61f"
            },
            "outputs": [],
            "source": [
                "feature_importance = dict(zip(features, risk_model.stages[-2].featureImportances))"
            ]
        },
        {
            "cell_type": "markdown",
            "metadata": {
                "id": "895d385c-0299-449f-bfbe-40b3f8c61c61"
            },
            "source": [
                "## Drift V2 Configuration"
            ]
        },
        {
            "cell_type": "code",
            "execution_count": 69,
            "metadata": {
                "id": "807b309d-133e-469a-bf75-3b3877f88736"
            },
            "outputs": [],
            "source": [
                "monitor_instances = wos_client.monitor_instances.list().result.monitor_instances\n",
                "for monitor_instance in monitor_instances:\n",
                "    monitor_def_id=monitor_instance.entity.monitor_definition_id\n",
                "    if monitor_def_id == \"drift_v2\" and monitor_instance.entity.target.target_id == subscription_id:\n",
                "        wos_client.monitor_instances.delete(monitor_instance.metadata.id)\n",
                "        print('Deleted existing drift v2 monitor instance with id: ', monitor_instance.metadata.id)"
            ]
        },
        {
            "cell_type": "code",
            "execution_count": 70,
            "metadata": {
                "id": "6c124642-e67b-4068-8dd9-bcb72c99e1c5"
            },
            "outputs": [
                {
                    "data": {
                        "text/plain": [
                            "'35c5398c-3f0e-45cc-beba-63f3fe291b34'"
                        ]
                    },
                    "execution_count": 70,
                    "metadata": {},
                    "output_type": "execute_result"
                }
            ],
            "source": [
                "target = Target(\n",
                "    target_type=TargetTypes.SUBSCRIPTION,\n",
                "    target_id=subscription_id\n",
                ")\n",
                "\n",
                "parameters = {\n",
                "        \"min_samples\": 100,\n",
                "        \"max_samples\": 1000,\n",
                "        \"train_archive\": True,\n",
                "        \"features\": {\n",
                "            \"fields\": fields,\n",
                "            \"importances\": feature_importance\n",
                "        }\n",
                "    }\n",
                "drift_v2_monitor_details = wos_client.monitor_instances.create(\n",
                "    data_mart_id=data_mart_id,\n",
                "    monitor_definition_id=wos_client.monitor_definitions.MONITORS.DRIFT_V2.ID,\n",
                "    target=target,\n",
                "    parameters=parameters\n",
                ").result\n",
                "\n",
                "drift_v2_monitor_instance_id = drift_v2_monitor_details.metadata.id\n",
                "drift_v2_monitor_instance_id"
            ]
        },
        {
            "cell_type": "markdown",
            "metadata": {
                "id": "f1ae1381-63a3-47fb-b495-3c71f5266c96"
            },
            "source": [
                "## Score the model again now that monitoring is configured"
            ]
        },
        {
            "cell_type": "markdown",
            "metadata": {
                "id": "f89bdd68-3076-4431-a46a-2928894e1167"
            },
            "source": [
                "This next section randomly selects 200 records from the data feed and sends those records to the model for predictions. This is enough to exceed the minimum threshold for records set in the previous section, which allows OpenScale to begin calculating fairness."
            ]
        },
        {
            "cell_type": "code",
            "execution_count": 71,
            "metadata": {
                "id": "238f1881-aa23-4ee2-a05c-bce19720c936"
            },
            "outputs": [
                {
                    "name": "stdout",
                    "output_type": "stream",
                    "text": [
                        "--2024-09-06 09:37:31--  https://raw.githubusercontent.com/IBM/watson-openscale-samples/main/Cloud%20Pak%20for%20Data/WML/assets/data/credit_risk/german_credit_feed.json\r\n"
                    ]
                },
                {
                    "name": "stdout",
                    "output_type": "stream",
                    "text": [
                        "Resolving raw.githubusercontent.com (raw.githubusercontent.com)... 185.199.109.133, 185.199.111.133, 185.199.108.133, ...\r\n",
                        "Connecting to raw.githubusercontent.com (raw.githubusercontent.com)|185.199.109.133|:443... connected.\r\n",
                        "HTTP request sent, awaiting response... "
                    ]
                },
                {
                    "name": "stdout",
                    "output_type": "stream",
                    "text": [
                        "200 OK\r\n",
                        "Length: 3076279 (2.9M) [text/plain]\r\n",
                        "Saving to: ‘german_credit_feed.json.6’\r\n",
                        "\r\n",
                        "\r          german_cr   0%[                    ]       0  --.-KB/s               "
                    ]
                },
                {
                    "name": "stdout",
                    "output_type": "stream",
                    "text": [
                        "\rgerman_credit_feed. 100%[===================>]   2.93M  --.-KB/s    in 0.03s   \r\n",
                        "\r\n",
                        "2024-09-06 09:37:31 (102 MB/s) - ‘german_credit_feed.json.6’ saved [3076279/3076279]\r\n",
                        "\r\n"
                    ]
                },
                {
                    "name": "stdout",
                    "output_type": "stream",
                    "text": [
                        "-rw-rw----. 1 1000750000 wscommon 3.0M Sep  6 07:00 german_credit_feed.json\r\n"
                    ]
                }
            ],
            "source": [
                "!wget https://raw.githubusercontent.com/IBM/watson-openscale-samples/main/Cloud%20Pak%20for%20Data/WML/assets/data/credit_risk/german_credit_feed.json\n",
                "!ls -lh german_credit_feed.json"
            ]
        },
        {
            "cell_type": "markdown",
            "metadata": {
                "id": "a5bac60b-03a9-4ee8-8b2e-bb778c13a8ad"
            },
            "source": [
                "Score 200 randomly chosen records"
            ]
        },
        {
            "cell_type": "code",
            "execution_count": 72,
            "metadata": {
                "id": "27d75928-7811-45c1-8ba8-cd65e2fabbe1"
            },
            "outputs": [
                {
                    "name": "stdout",
                    "output_type": "stream",
                    "text": [
                        "Payload logging did not happen, performing explicit payload logging.\n"
                    ]
                },
                {
                    "name": "stdout",
                    "output_type": "stream",
                    "text": [
                        "Number of records in the payload logging table: 408\n"
                    ]
                }
            ],
            "source": [
                "import random\n",
                "\n",
                "with open('german_credit_feed.json', 'r') as scoring_file:\n",
                "    scoring_data = json.load(scoring_file)\n",
                "\n",
                "fields = scoring_data['fields']\n",
                "values = []\n",
                "for _ in range(200):\n",
                "    values.append(random.choice(scoring_data['values']))\n",
                "payload_scoring = {\"input_data\": [{\"fields\": fields, \"values\": values}]}\n",
                "\n",
                "scoring_response = wml_client.deployments.score(ai_func_deployment_uid, payload_scoring)\n",
                "time.sleep(5)\n",
                "\n",
                "if pl_records_count == 8:\n",
                "    print(\"Payload logging did not happen, performing explicit payload logging.\")\n",
                "    wos_client.data_sets.store_records(data_set_id=payload_data_set_id, request_body=[PayloadRecord(\n",
                "                   scoring_id=str(uuid.uuid4()),\n",
                "                   request=payload_scoring,\n",
                "                   response=scoring_response,\n",
                "                   response_time=460\n",
                "               )])\n",
                "    time.sleep(5)\n",
                "    pl_records_count = wos_client.data_sets.get_records_count(payload_data_set_id)\n",
                "    print(\"Number of records in the payload logging table: {}\".format(pl_records_count))"
            ]
        },
        {
            "cell_type": "code",
            "execution_count": 73,
            "metadata": {
                "id": "ace07604bccf4add8c47745e28eb26de"
            },
            "outputs": [
                {
                    "name": "stdout",
                    "output_type": "stream",
                    "text": [
                        "Number of records in payload table:  408\n"
                    ]
                }
            ],
            "source": [
                "print('Number of records in payload table: ', wos_client.data_sets.get_records_count(data_set_id=payload_data_set_id))"
            ]
        },
        {
            "cell_type": "markdown",
            "metadata": {
                "id": "fdc0d0ad-3a75-455f-86f0-0b22c9fa9e09"
            },
            "source": [
                "## Run fairness monitor"
            ]
        },
        {
            "cell_type": "markdown",
            "metadata": {
                "id": "b09545f3-99aa-44ef-94fd-6bc372bcc2a8"
            },
            "source": [
                "Kick off a fairness monitor run on current data. The monitor runs hourly, but can be manually initiated using the Python client, the REST API, or the graphical user interface."
            ]
        },
        {
            "cell_type": "code",
            "execution_count": 74,
            "metadata": {
                "id": "39cc51ca-0bac-48ff-800f-d0257a8dc0cd",
                "scrolled": true
            },
            "outputs": [
                {
                    "name": "stdout",
                    "output_type": "stream",
                    "text": [
                        "\n",
                        "\n",
                        "========================================================================\n",
                        "\n",
                        " Waiting for end of monitoring run 5d4a81f0-b3cb-4383-b3b8-992183b0e48c \n",
                        "\n",
                        "========================================================================\n",
                        "\n",
                        "\n"
                    ]
                },
                {
                    "name": "stdout",
                    "output_type": "stream",
                    "text": [
                        "\n",
                        "running"
                    ]
                },
                {
                    "name": "stdout",
                    "output_type": "stream",
                    "text": [
                        "\n",
                        "finished\n",
                        "\n",
                        "---------------------------\n",
                        " Successfully finished run \n",
                        "---------------------------\n",
                        "\n",
                        "\n"
                    ]
                }
            ],
            "source": [
                "time.sleep(5)\n",
                "run_details = wos_client.monitor_instances.run(monitor_instance_id=fairness_monitor_instance_id, background_mode=False)"
            ]
        },
        {
            "cell_type": "code",
            "execution_count": 75,
            "metadata": {
                "id": "31ac2bd5-a430-4b3a-9a9f-8f476afb9eb5"
            },
            "outputs": [
                {
                    "data": {
                        "text/html": [
                            "<HTML>\n",
                            "        <body>\n",
                            "            <h3>94691fda-994c-478e-b3fb-7a03f1de4d0c Monitor Runs Metrics from: 2024-08-30 09:38:08.470206  till: 2024-09-06 09:38:08.470243</h3>\n",
                            "            <table style='border: 1px solid #dddddd; font-family: Courier'>\n",
                            "                <th style='border: 1px solid #dddddd'>ts</th><th style='border: 1px solid #dddddd'>id</th><th style='border: 1px solid #dddddd'>measurement_id</th><th style='border: 1px solid #dddddd'>value</th><th style='border: 1px solid #dddddd'>lower_limit</th><th style='border: 1px solid #dddddd'>upper_limit</th><th style='border: 1px solid #dddddd'>tags</th><th style='border: 1px solid #dddddd'>monitor_definition_id</th><th style='border: 1px solid #dddddd'>monitor_instance_id</th><th style='border: 1px solid #dddddd'>run_id</th><th style='border: 1px solid #dddddd'>target_type</th><th style='border: 1px solid #dddddd'>target_id</th>\n",
                            "                <tr><td style='border: 1px solid #dddddd'>2024-09-06 09:37:57.336252+00:00</td><td style='border: 1px solid #dddddd'>fairness_value</td><td style='border: 1px solid #dddddd'>7fa2419c-f992-4603-b026-98c9282e2d0c</td><td style='border: 1px solid #dddddd'>98.75</td><td style='border: 1px solid #dddddd'>80.0</td><td style='border: 1px solid #dddddd'>None</td><td style='border: 1px solid #dddddd'>['feature:Sex', 'fairness_metric_type:fairness', 'feature_value:female']</td><td style='border: 1px solid #dddddd'>fairness</td><td style='border: 1px solid #dddddd'>94691fda-994c-478e-b3fb-7a03f1de4d0c</td><td style='border: 1px solid #dddddd'>5d4a81f0-b3cb-4383-b3b8-992183b0e48c</td><td style='border: 1px solid #dddddd'>subscription</td><td style='border: 1px solid #dddddd'>41b7c70a-5105-4b0e-9aa5-9a7b43fa94ac</td></tr><tr><td style='border: 1px solid #dddddd'>2024-09-06 09:37:57.336252+00:00</td><td style='border: 1px solid #dddddd'>fairness_value</td><td style='border: 1px solid #dddddd'>7fa2419c-f992-4603-b026-98c9282e2d0c</td><td style='border: 1px solid #dddddd'>105.0</td><td style='border: 1px solid #dddddd'>80.0</td><td style='border: 1px solid #dddddd'>None</td><td style='border: 1px solid #dddddd'>['feature:Age', 'fairness_metric_type:fairness', 'feature_value:18-25']</td><td style='border: 1px solid #dddddd'>fairness</td><td style='border: 1px solid #dddddd'>94691fda-994c-478e-b3fb-7a03f1de4d0c</td><td style='border: 1px solid #dddddd'>5d4a81f0-b3cb-4383-b3b8-992183b0e48c</td><td style='border: 1px solid #dddddd'>subscription</td><td style='border: 1px solid #dddddd'>41b7c70a-5105-4b0e-9aa5-9a7b43fa94ac</td></tr>\n",
                            "            </table>\n",
                            "        </body>\n",
                            "        </HTML>"
                        ],
                        "text/plain": [
                            "<IPython.core.display.HTML object>"
                        ]
                    },
                    "metadata": {},
                    "output_type": "display_data"
                }
            ],
            "source": [
                "time.sleep(10)\n",
                "wos_client.monitor_instances.show_metrics(monitor_instance_id=fairness_monitor_instance_id)"
            ]
        },
        {
            "cell_type": "markdown",
            "metadata": {
                "id": "9642a519-47d3-4846-a55b-887e1aa7f6db"
            },
            "source": [
                "## Run drift monitor"
            ]
        },
        {
            "cell_type": "markdown",
            "metadata": {
                "id": "a1aef1a1-8a62-4d3b-84b6-f3c226dd087b"
            },
            "source": [
                "Kick off a drift monitor run on current data. The monitor runs every hour, but can be manually initiated using the Python client, the REST API."
            ]
        },
        {
            "cell_type": "code",
            "execution_count": 76,
            "metadata": {
                "id": "a0920dae-f509-4460-89e5-b3c9120c8403"
            },
            "outputs": [
                {
                    "name": "stdout",
                    "output_type": "stream",
                    "text": [
                        "\n",
                        "\n",
                        "========================================================================\n",
                        "\n",
                        " Waiting for end of monitoring run b6e502c9-dddd-4eaf-b084-1ae4a286f127 \n",
                        "\n",
                        "========================================================================\n",
                        "\n",
                        "\n"
                    ]
                },
                {
                    "name": "stdout",
                    "output_type": "stream",
                    "text": [
                        "\n",
                        "finished\n",
                        "\n",
                        "---------------------------\n",
                        " Successfully finished run \n",
                        "---------------------------\n",
                        "\n",
                        "\n"
                    ]
                }
            ],
            "source": [
                "drift_run_details = wos_client.monitor_instances.run(monitor_instance_id=drift_monitor_instance_id, background_mode=False)"
            ]
        },
        {
            "cell_type": "code",
            "execution_count": 77,
            "metadata": {
                "id": "e1f0a0cf-55c1-4de6-b54f-d181eeda114a"
            },
            "outputs": [
                {
                    "data": {
                        "text/html": [
                            "<HTML>\n",
                            "        <body>\n",
                            "            <h3>5c0fb7a3-4128-4d42-bf76-ac2579b8efd7 Monitor Runs Metrics from: 2024-08-30 09:38:19.249211  till: 2024-09-06 09:38:19.249240</h3>\n",
                            "            <table style='border: 1px solid #dddddd; font-family: Courier'>\n",
                            "                <th style='border: 1px solid #dddddd'>ts</th><th style='border: 1px solid #dddddd'>id</th><th style='border: 1px solid #dddddd'>measurement_id</th><th style='border: 1px solid #dddddd'>value</th><th style='border: 1px solid #dddddd'>lower_limit</th><th style='border: 1px solid #dddddd'>upper_limit</th><th style='border: 1px solid #dddddd'>tags</th><th style='border: 1px solid #dddddd'>monitor_definition_id</th><th style='border: 1px solid #dddddd'>monitor_instance_id</th><th style='border: 1px solid #dddddd'>run_id</th><th style='border: 1px solid #dddddd'>target_type</th><th style='border: 1px solid #dddddd'>target_id</th>\n",
                            "                <tr><td style='border: 1px solid #dddddd'>2024-09-06 09:38:09.670474+00:00</td><td style='border: 1px solid #dddddd'>data_drift_magnitude</td><td style='border: 1px solid #dddddd'>e7ee4169-8992-4dc6-b802-0427250a0948</td><td style='border: 1px solid #dddddd'>0.08333333333333333</td><td style='border: 1px solid #dddddd'>None</td><td style='border: 1px solid #dddddd'>0.1</td><td style='border: 1px solid #dddddd'>[]</td><td style='border: 1px solid #dddddd'>drift</td><td style='border: 1px solid #dddddd'>5c0fb7a3-4128-4d42-bf76-ac2579b8efd7</td><td style='border: 1px solid #dddddd'>b6e502c9-dddd-4eaf-b084-1ae4a286f127</td><td style='border: 1px solid #dddddd'>subscription</td><td style='border: 1px solid #dddddd'>41b7c70a-5105-4b0e-9aa5-9a7b43fa94ac</td></tr>\n",
                            "            </table>\n",
                            "        </body>\n",
                            "        </HTML>"
                        ],
                        "text/plain": [
                            "<IPython.core.display.HTML object>"
                        ]
                    },
                    "metadata": {},
                    "output_type": "display_data"
                }
            ],
            "source": [
                "time.sleep(5)\n",
                "wos_client.monitor_instances.show_metrics(monitor_instance_id=drift_monitor_instance_id)"
            ]
        },
        {
            "cell_type": "markdown",
            "metadata": {
                "id": "68e9f820-4742-4f2a-863d-43570fc6b590"
            },
            "source": [
                "## Run drift v2 monitor\n",
                "\n",
                "\n",
                "Kick off a drift v2 monitor run on current data. The monitor runs every day, but can be manually initiated using the Python client, the REST API."
            ]
        },
        {
            "cell_type": "code",
            "execution_count": 78,
            "metadata": {
                "id": "e8bb8b2f-c29c-40ed-9eea-45160236612a"
            },
            "outputs": [
                {
                    "name": "stdout",
                    "output_type": "stream",
                    "text": [
                        "\n",
                        "\n",
                        "========================================================================\n",
                        "\n",
                        " Waiting for end of monitoring run 8ab24475-05a5-403e-a79f-584ba1ad66b8 \n",
                        "\n",
                        "========================================================================\n",
                        "\n",
                        "\n"
                    ]
                },
                {
                    "name": "stdout",
                    "output_type": "stream",
                    "text": [
                        "."
                    ]
                },
                {
                    "name": "stdout",
                    "output_type": "stream",
                    "text": [
                        "."
                    ]
                },
                {
                    "name": "stdout",
                    "output_type": "stream",
                    "text": [
                        "."
                    ]
                },
                {
                    "name": "stdout",
                    "output_type": "stream",
                    "text": [
                        "."
                    ]
                },
                {
                    "name": "stdout",
                    "output_type": "stream",
                    "text": [
                        "."
                    ]
                },
                {
                    "name": "stdout",
                    "output_type": "stream",
                    "text": [
                        "."
                    ]
                },
                {
                    "name": "stdout",
                    "output_type": "stream",
                    "text": [
                        "."
                    ]
                },
                {
                    "name": "stdout",
                    "output_type": "stream",
                    "text": [
                        "\n",
                        "finished\n",
                        "\n",
                        "---------------------------\n",
                        " Successfully finished run \n",
                        "---------------------------\n",
                        "\n",
                        "\n"
                    ]
                }
            ],
            "source": [
                "drift_v2_run_details = wos_client.monitor_instances.run(monitor_instance_id=drift_v2_monitor_instance_id, background_mode=False)"
            ]
        },
        {
            "cell_type": "code",
            "execution_count": 79,
            "metadata": {
                "id": "3c1b7972-18e5-4c57-94cb-f27e8ac0785c"
            },
            "outputs": [
                {
                    "data": {
                        "text/html": [
                            "<HTML>\n",
                            "        <body>\n",
                            "            <h3>35c5398c-3f0e-45cc-beba-63f3fe291b34 Monitor Runs Metrics from: 2024-08-30 09:45:36.773860  till: 2024-09-06 09:45:36.773869</h3>\n",
                            "            <table style='border: 1px solid #dddddd; font-family: Courier'>\n",
                            "                <th style='border: 1px solid #dddddd'>ts</th><th style='border: 1px solid #dddddd'>id</th><th style='border: 1px solid #dddddd'>measurement_id</th><th style='border: 1px solid #dddddd'>value</th><th style='border: 1px solid #dddddd'>lower_limit</th><th style='border: 1px solid #dddddd'>upper_limit</th><th style='border: 1px solid #dddddd'>tags</th><th style='border: 1px solid #dddddd'>monitor_definition_id</th><th style='border: 1px solid #dddddd'>monitor_instance_id</th><th style='border: 1px solid #dddddd'>run_id</th><th style='border: 1px solid #dddddd'>target_type</th><th style='border: 1px solid #dddddd'>target_id</th>\n",
                            "                <tr><td style='border: 1px solid #dddddd'>2024-09-06 09:40:13.217206+00:00</td><td style='border: 1px solid #dddddd'>records_processed</td><td style='border: 1px solid #dddddd'>67e9bb17-87f8-4bad-a968-92a9ecbf6984</td><td style='border: 1px solid #dddddd'>20.0</td><td style='border: 1px solid #dddddd'>None</td><td style='border: 1px solid #dddddd'>None</td><td style='border: 1px solid #dddddd'>['algorithm_used:total_variation', 'computed_on:payload', 'field_type:class', 'field_name:Class Probability for No Risk']</td><td style='border: 1px solid #dddddd'>drift_v2</td><td style='border: 1px solid #dddddd'>35c5398c-3f0e-45cc-beba-63f3fe291b34</td><td style='border: 1px solid #dddddd'>8ab24475-05a5-403e-a79f-584ba1ad66b8</td><td style='border: 1px solid #dddddd'>subscription</td><td style='border: 1px solid #dddddd'>41b7c70a-5105-4b0e-9aa5-9a7b43fa94ac</td></tr><tr><td style='border: 1px solid #dddddd'>2024-09-06 09:40:13.217206+00:00</td><td style='border: 1px solid #dddddd'>confidence_drift_score</td><td style='border: 1px solid #dddddd'>67e9bb17-87f8-4bad-a968-92a9ecbf6984</td><td style='border: 1px solid #dddddd'>0.2921</td><td style='border: 1px solid #dddddd'>None</td><td style='border: 1px solid #dddddd'>0.05</td><td style='border: 1px solid #dddddd'>['algorithm_used:total_variation', 'computed_on:payload', 'field_type:class', 'field_name:Class Probability for No Risk']</td><td style='border: 1px solid #dddddd'>drift_v2</td><td style='border: 1px solid #dddddd'>35c5398c-3f0e-45cc-beba-63f3fe291b34</td><td style='border: 1px solid #dddddd'>8ab24475-05a5-403e-a79f-584ba1ad66b8</td><td style='border: 1px solid #dddddd'>subscription</td><td style='border: 1px solid #dddddd'>41b7c70a-5105-4b0e-9aa5-9a7b43fa94ac</td></tr><tr><td style='border: 1px solid #dddddd'>2024-09-06 09:40:13.217206+00:00</td><td style='border: 1px solid #dddddd'>records_processed</td><td style='border: 1px solid #dddddd'>67e9bb17-87f8-4bad-a968-92a9ecbf6984</td><td style='border: 1px solid #dddddd'>20.0</td><td style='border: 1px solid #dddddd'>None</td><td style='border: 1px solid #dddddd'>None</td><td style='border: 1px solid #dddddd'>['algorithm_used:overlap_coefficient', 'computed_on:payload', 'field_type:class', 'field_name:Class Probability for No Risk']</td><td style='border: 1px solid #dddddd'>drift_v2</td><td style='border: 1px solid #dddddd'>35c5398c-3f0e-45cc-beba-63f3fe291b34</td><td style='border: 1px solid #dddddd'>8ab24475-05a5-403e-a79f-584ba1ad66b8</td><td style='border: 1px solid #dddddd'>subscription</td><td style='border: 1px solid #dddddd'>41b7c70a-5105-4b0e-9aa5-9a7b43fa94ac</td></tr><tr><td style='border: 1px solid #dddddd'>2024-09-06 09:40:13.217206+00:00</td><td style='border: 1px solid #dddddd'>confidence_drift_score</td><td style='border: 1px solid #dddddd'>67e9bb17-87f8-4bad-a968-92a9ecbf6984</td><td style='border: 1px solid #dddddd'>0.2923</td><td style='border: 1px solid #dddddd'>None</td><td style='border: 1px solid #dddddd'>0.05</td><td style='border: 1px solid #dddddd'>['algorithm_used:overlap_coefficient', 'computed_on:payload', 'field_type:class', 'field_name:Class Probability for No Risk']</td><td style='border: 1px solid #dddddd'>drift_v2</td><td style='border: 1px solid #dddddd'>35c5398c-3f0e-45cc-beba-63f3fe291b34</td><td style='border: 1px solid #dddddd'>8ab24475-05a5-403e-a79f-584ba1ad66b8</td><td style='border: 1px solid #dddddd'>subscription</td><td style='border: 1px solid #dddddd'>41b7c70a-5105-4b0e-9aa5-9a7b43fa94ac</td></tr><tr><td style='border: 1px solid #dddddd'>2024-09-06 09:40:17.910469+00:00</td><td style='border: 1px solid #dddddd'>records_processed</td><td style='border: 1px solid #dddddd'>ffb6dbcc-c960-42e7-b9a3-9a691c4a22dc</td><td style='border: 1px solid #dddddd'>20.0</td><td style='border: 1px solid #dddddd'>None</td><td style='border: 1px solid #dddddd'>None</td><td style='border: 1px solid #dddddd'>['algorithm_used:total_variation', 'computed_on:payload', 'field_type:class', 'field_name:Class Probability for Risk']</td><td style='border: 1px solid #dddddd'>drift_v2</td><td style='border: 1px solid #dddddd'>35c5398c-3f0e-45cc-beba-63f3fe291b34</td><td style='border: 1px solid #dddddd'>8ab24475-05a5-403e-a79f-584ba1ad66b8</td><td style='border: 1px solid #dddddd'>subscription</td><td style='border: 1px solid #dddddd'>41b7c70a-5105-4b0e-9aa5-9a7b43fa94ac</td></tr><tr><td style='border: 1px solid #dddddd'>2024-09-06 09:40:17.910469+00:00</td><td style='border: 1px solid #dddddd'>confidence_drift_score</td><td style='border: 1px solid #dddddd'>ffb6dbcc-c960-42e7-b9a3-9a691c4a22dc</td><td style='border: 1px solid #dddddd'>0.3252</td><td style='border: 1px solid #dddddd'>None</td><td style='border: 1px solid #dddddd'>0.05</td><td style='border: 1px solid #dddddd'>['algorithm_used:total_variation', 'computed_on:payload', 'field_type:class', 'field_name:Class Probability for Risk']</td><td style='border: 1px solid #dddddd'>drift_v2</td><td style='border: 1px solid #dddddd'>35c5398c-3f0e-45cc-beba-63f3fe291b34</td><td style='border: 1px solid #dddddd'>8ab24475-05a5-403e-a79f-584ba1ad66b8</td><td style='border: 1px solid #dddddd'>subscription</td><td style='border: 1px solid #dddddd'>41b7c70a-5105-4b0e-9aa5-9a7b43fa94ac</td></tr><tr><td style='border: 1px solid #dddddd'>2024-09-06 09:40:17.910469+00:00</td><td style='border: 1px solid #dddddd'>records_processed</td><td style='border: 1px solid #dddddd'>ffb6dbcc-c960-42e7-b9a3-9a691c4a22dc</td><td style='border: 1px solid #dddddd'>20.0</td><td style='border: 1px solid #dddddd'>None</td><td style='border: 1px solid #dddddd'>None</td><td style='border: 1px solid #dddddd'>['algorithm_used:overlap_coefficient', 'computed_on:payload', 'field_type:class', 'field_name:Class Probability for Risk']</td><td style='border: 1px solid #dddddd'>drift_v2</td><td style='border: 1px solid #dddddd'>35c5398c-3f0e-45cc-beba-63f3fe291b34</td><td style='border: 1px solid #dddddd'>8ab24475-05a5-403e-a79f-584ba1ad66b8</td><td style='border: 1px solid #dddddd'>subscription</td><td style='border: 1px solid #dddddd'>41b7c70a-5105-4b0e-9aa5-9a7b43fa94ac</td></tr><tr><td style='border: 1px solid #dddddd'>2024-09-06 09:40:17.910469+00:00</td><td style='border: 1px solid #dddddd'>confidence_drift_score</td><td style='border: 1px solid #dddddd'>ffb6dbcc-c960-42e7-b9a3-9a691c4a22dc</td><td style='border: 1px solid #dddddd'>0.3257</td><td style='border: 1px solid #dddddd'>None</td><td style='border: 1px solid #dddddd'>0.05</td><td style='border: 1px solid #dddddd'>['algorithm_used:overlap_coefficient', 'computed_on:payload', 'field_type:class', 'field_name:Class Probability for Risk']</td><td style='border: 1px solid #dddddd'>drift_v2</td><td style='border: 1px solid #dddddd'>35c5398c-3f0e-45cc-beba-63f3fe291b34</td><td style='border: 1px solid #dddddd'>8ab24475-05a5-403e-a79f-584ba1ad66b8</td><td style='border: 1px solid #dddddd'>subscription</td><td style='border: 1px solid #dddddd'>41b7c70a-5105-4b0e-9aa5-9a7b43fa94ac</td></tr><tr><td style='border: 1px solid #dddddd'>2024-09-06 09:40:21.173355+00:00</td><td style='border: 1px solid #dddddd'>records_processed</td><td style='border: 1px solid #dddddd'>76a3a302-9ac3-4a00-9273-672cd44f3294</td><td style='border: 1px solid #dddddd'>20.0</td><td style='border: 1px solid #dddddd'>None</td><td style='border: 1px solid #dddddd'>None</td><td style='border: 1px solid #dddddd'>['algorithm_used:jensen_shannon', 'computed_on:payload', 'field_type:class', 'field_name:predictedLabel']</td><td style='border: 1px solid #dddddd'>drift_v2</td><td style='border: 1px solid #dddddd'>35c5398c-3f0e-45cc-beba-63f3fe291b34</td><td style='border: 1px solid #dddddd'>8ab24475-05a5-403e-a79f-584ba1ad66b8</td><td style='border: 1px solid #dddddd'>subscription</td><td style='border: 1px solid #dddddd'>41b7c70a-5105-4b0e-9aa5-9a7b43fa94ac</td></tr><tr><td style='border: 1px solid #dddddd'>2024-09-06 09:40:21.173355+00:00</td><td style='border: 1px solid #dddddd'>prediction_drift_score</td><td style='border: 1px solid #dddddd'>76a3a302-9ac3-4a00-9273-672cd44f3294</td><td style='border: 1px solid #dddddd'>0.0</td><td style='border: 1px solid #dddddd'>None</td><td style='border: 1px solid #dddddd'>0.05</td><td style='border: 1px solid #dddddd'>['algorithm_used:jensen_shannon', 'computed_on:payload', 'field_type:class', 'field_name:predictedLabel']</td><td style='border: 1px solid #dddddd'>drift_v2</td><td style='border: 1px solid #dddddd'>35c5398c-3f0e-45cc-beba-63f3fe291b34</td><td style='border: 1px solid #dddddd'>8ab24475-05a5-403e-a79f-584ba1ad66b8</td><td style='border: 1px solid #dddddd'>subscription</td><td style='border: 1px solid #dddddd'>41b7c70a-5105-4b0e-9aa5-9a7b43fa94ac</td></tr>\n",
                            "            </table>\n",
                            "        </body>\n",
                            "        </HTML>"
                        ],
                        "text/plain": [
                            "<IPython.core.display.HTML object>"
                        ]
                    },
                    "metadata": {},
                    "output_type": "display_data"
                },
                {
                    "name": "stdout",
                    "output_type": "stream",
                    "text": [
                        "Note: First 10 records were displayed.\n"
                    ]
                }
            ],
            "source": [
                "wos_client.monitor_instances.show_metrics(monitor_instance_id=drift_v2_monitor_instance_id)"
            ]
        },
        {
            "cell_type": "markdown",
            "metadata": {
                "id": "400f0779-185a-4305-a6f0-401dddcdb38d"
            },
            "source": [
                "## Configure Explainability"
            ]
        },
        {
            "cell_type": "markdown",
            "metadata": {
                "id": "ecc98f66-be54-4698-bc80-7dcfed5fbb0c"
            },
            "source": [
                "Finally, we provide OpenScale with the training data to enable and configure the explainability features."
            ]
        },
        {
            "cell_type": "code",
            "execution_count": 80,
            "metadata": {
                "id": "cebaeb41-2d87-44c2-aff0-f7bd86bba968",
                "scrolled": true
            },
            "outputs": [
                {
                    "name": "stdout",
                    "output_type": "stream",
                    "text": [
                        "\n",
                        "\n",
                        "===================================================================================\n",
                        "\n",
                        " Waiting for end of monitor instance creation 5ecf3208-a19b-4106-9546-7d1e747137fd \n",
                        "\n",
                        "===================================================================================\n",
                        "\n",
                        "\n"
                    ]
                },
                {
                    "name": "stdout",
                    "output_type": "stream",
                    "text": [
                        "\n",
                        "preparing"
                    ]
                },
                {
                    "name": "stdout",
                    "output_type": "stream",
                    "text": [
                        "."
                    ]
                },
                {
                    "name": "stdout",
                    "output_type": "stream",
                    "text": [
                        "\n",
                        "active\n",
                        "\n",
                        "---------------------------------------\n",
                        " Monitor instance successfully created \n",
                        "---------------------------------------\n",
                        "\n",
                        "\n"
                    ]
                }
            ],
            "source": [
                "target = Target(\n",
                "    target_type=TargetTypes.SUBSCRIPTION,\n",
                "    target_id=subscription_id\n",
                ")\n",
                "parameters = {\n",
                "    \"enabled\": True\n",
                "}\n",
                "explainability_details = wos_client.monitor_instances.create(\n",
                "    data_mart_id=data_mart_id,\n",
                "    background_mode=False,\n",
                "    monitor_definition_id=wos_client.monitor_definitions.MONITORS.EXPLAINABILITY.ID,\n",
                "    target=target,\n",
                "    parameters=parameters\n",
                ").result\n",
                "\n",
                "explainability_monitor_id = explainability_details.metadata.id"
            ]
        },
        {
            "cell_type": "markdown",
            "metadata": {
                "id": "b1ff66e9-685f-49fb-9d71-65a9fcb7cb43"
            },
            "source": [
                "## Run explanation for sample record"
            ]
        },
        {
            "cell_type": "code",
            "execution_count": 81,
            "metadata": {
                "id": "3ce14cf6-92f4-4c66-9076-4dac78ab8f80"
            },
            "outputs": [
                {
                    "name": "stdout",
                    "output_type": "stream",
                    "text": [
                        "Running explanations on scoring IDs: ['c9876b10-f190-475e-b570-829e7266231d-1']\n"
                    ]
                },
                {
                    "name": "stdout",
                    "output_type": "stream",
                    "text": [
                        "{\n",
                        "  \"metadata\": {\n",
                        "    \"explanation_task_ids\": [\n",
                        "      \"00848c40-dd95-4b9f-ac5c-5441d7df5c6f\"\n",
                        "    ],\n",
                        "    \"created_by\": \"1000331001\",\n",
                        "    \"created_at\": \"2024-09-06T09:46:08.976603Z\"\n",
                        "  }\n",
                        "}\n"
                    ]
                }
            ],
            "source": [
                "pl_records_resp = wos_client.data_sets.get_list_of_records(data_set_id=payload_data_set_id, limit=1, offset=0).result\n",
                "scoring_ids = [pl_records_resp[\"records\"][0][\"entity\"][\"values\"][\"scoring_id\"]]\n",
                "print(\"Running explanations on scoring IDs: {}\".format(scoring_ids))\n",
                "explanation_types = [\"lime\", \"contrastive\"]\n",
                "result = wos_client.monitor_instances.explanation_tasks(scoring_ids=scoring_ids, explanation_types=explanation_types, subscription_id=subscription_id).result\n",
                "print(result)"
            ]
        },
        {
            "cell_type": "markdown",
            "metadata": {
                "id": "641625d7-724c-429d-909c-3afef1936b3c"
            },
            "source": [
                "# Custom monitors and metrics <a name=\"custom\"></a>"
            ]
        },
        {
            "cell_type": "markdown",
            "metadata": {
                "id": "0e053b5f-1591-429a-9c48-af60874ed31a"
            },
            "source": [
                "## Register custom monitor"
            ]
        },
        {
            "cell_type": "code",
            "execution_count": 82,
            "metadata": {
                "id": "40483a8a-b492-4655-921a-53cfa57262ea"
            },
            "outputs": [],
            "source": [
                "def get_definition(monitor_name):\n",
                "    monitor_definitions = wos_client.monitor_definitions.list().result.monitor_definitions\n",
                "    \n",
                "    for definition in monitor_definitions:\n",
                "        if monitor_name == definition.entity.name:\n",
                "            return definition\n",
                "    \n",
                "    return None"
            ]
        },
        {
            "cell_type": "code",
            "execution_count": 83,
            "metadata": {
                "id": "311c740a-5fa3-4a5e-b564-f25e7c923838"
            },
            "outputs": [],
            "source": [
                "monitor_name = 'my model performance'\n",
                "metrics = [MonitorMetricRequest(name='sensitivity',\n",
                "                                thresholds=[MetricThreshold(type=MetricThresholdTypes.LOWER_LIMIT, default=0.8)]),\n",
                "          MonitorMetricRequest(name='specificity',\n",
                "                                thresholds=[MetricThreshold(type=MetricThresholdTypes.LOWER_LIMIT, default=0.75)])]\n",
                "tags = [MonitorTagRequest(name='region', description='customer geographical region')]\n",
                "\n",
                "existing_definition = get_definition(monitor_name)\n",
                "\n",
                "if existing_definition is None:\n",
                "    custom_monitor_details = wos_client.monitor_definitions.add(name=monitor_name, metrics=metrics, tags=tags, background_mode=False).result\n",
                "else:\n",
                "    custom_monitor_details = existing_definition"
            ]
        },
        {
            "cell_type": "markdown",
            "metadata": {
                "id": "77dc3061364745a3bbb353b4fb09a58d"
            },
            "source": [
                "## Show available monitors types"
            ]
        },
        {
            "cell_type": "code",
            "execution_count": 84,
            "metadata": {
                "id": "de0f36b55e74467981ca201b944aebd6"
            },
            "outputs": [
                {
                    "data": {
                        "text/html": [
                            "<HTML>\n",
                            "        <body>\n",
                            "            <h3>Monitor definitions</h3>\n",
                            "            <table style='border: 1px solid #dddddd; font-family: Courier'>\n",
                            "                <th style='border: 1px solid #dddddd'>monitor id</th><th style='border: 1px solid #dddddd'>monitor name</th><th style='border: 1px solid #dddddd'>metrics names</th>\n",
                            "                <tr><td style='border: 1px solid #dddddd'>my_model_performance</td><td style='border: 1px solid #dddddd'>my model performance</td><td style='border: 1px solid #dddddd'>['sensitivity', 'specificity']</td></tr><tr><td style='border: 1px solid #dddddd'>fairness</td><td style='border: 1px solid #dddddd'>Fairness</td><td style='border: 1px solid #dddddd'>['Disparate impact', 'Average odds difference', 'False discovery rate difference', 'Error rate difference', 'False negative rate difference', 'False omission rate difference', 'False positive rate difference', 'True positive rate difference', 'Average absolute odds difference', 'Statistical parity difference', 'Impact score']</td></tr><tr><td style='border: 1px solid #dddddd'>model_health</td><td style='border: 1px solid #dddddd'>Model health</td><td style='border: 1px solid #dddddd'>['Total scoring requests', 'Total records', 'Average records', 'Median records', 'Maximum records', 'Minimum records', 'Total payload size', 'Average payload size', 'Median payload size', 'Minimum payload size', 'Maximum payload size', 'Average API throughput', 'Minimum API throughput', 'Maximum API throughput', 'Median API throughput', 'Average API latency', 'Minimum API latency', 'Maximum API latency', 'Median API latency', 'Average record throughput', 'Minimum record throughput', 'Maximum record throughput', 'Median record throughput', 'Average record latency', 'Minimum record latency', 'Maximum record latency', 'Median record latency', 'Users', 'Errors', 'Data errors', 'System errors', 'Total input token count', 'Average input token count', 'Median input token count', 'Maximum input token count', 'Minimum input token count', 'Total output token count', 'Average output token count', 'Median output token count', 'Maximum output token count', 'Minimum output token count']</td></tr><tr><td style='border: 1px solid #dddddd'>performance</td><td style='border: 1px solid #dddddd'>Performance</td><td style='border: 1px solid #dddddd'>['Number of records']</td></tr><tr><td style='border: 1px solid #dddddd'>data_health</td><td style='border: 1px solid #dddddd'>Data Health</td><td style='border: 1px solid #dddddd'>['Absence Count', 'Empty Strings', 'Data Type Mismatch', 'Class Confusion', 'Duplicate Rows', 'Unique Columns']</td></tr><tr><td style='border: 1px solid #dddddd'>explainability</td><td style='border: 1px solid #dddddd'>Explainability</td><td style='border: 1px solid #dddddd'>['Global explanation stability']</td></tr><tr><td style='border: 1px solid #dddddd'>mrm</td><td style='border: 1px solid #dddddd'>Model risk management</td><td style='border: 1px solid #dddddd'>['Tests run', 'Tests passed', 'Tests failed', 'Tests skipped', 'Fairness score', 'Quality score', 'Drift score']</td></tr><tr><td style='border: 1px solid #dddddd'>generative_ai_quality</td><td style='border: 1px solid #dddddd'>Generative AI Quality</td><td style='border: 1px solid #dddddd'>['Records processed', 'Faithfulness', 'Answer relevance', 'Unsuccessful requests', 'Answer similarity', 'Context relevance', 'Retrieval Precision', 'Average Precision', 'Reciprocal Rank', 'Hit rate', 'Normalized Discounted Cumulative Gain', 'Coverage', 'Density', 'Compression', 'Repetitiveness', 'Abstractness', 'ROUGE-1', 'ROUGE-2', 'ROUGE-L', 'ROUGE-Lsum', 'SARI', 'METEOR', 'F1 Score', 'Precision', 'Recall', 'BLEU', 'Jaccard similarity', 'Cosine similarity', 'Output data PII', 'Input data PII', 'Output data HAP', 'Input data HAP', 'Readability', 'Micro F1 Score', 'Macro F1 Score', 'Micro precision', 'Macro precision', 'Micro recall', 'Macro recall', 'Exact match']</td></tr><tr><td style='border: 1px solid #dddddd'>drift_v2</td><td style='border: 1px solid #dddddd'>Drift v2</td><td style='border: 1px solid #dddddd'>['Embedding drift', 'Output drift', 'Prediction drift', 'Model quality drift', 'Feature drift', 'Input metadata drift', 'Output metadata drift', 'Records processed', 'New records processed']</td></tr><tr><td style='border: 1px solid #dddddd'>quality</td><td style='border: 1px solid #dddddd'>Quality</td><td style='border: 1px solid #dddddd'>['Area under ROC', 'Area under PR', 'Proportion explained variance', 'Mean absolute error', 'Mean squared error', 'R squared', 'Root of mean squared error', 'Accuracy', 'Weighted True Positive Rate (wTPR)', 'True positive rate (TPR)', 'Weighted False Positive Rate (wFPR)', 'False positive rate (FPR)', 'Weighted recall', 'Recall', 'Weighted precision', 'Precision', 'Weighted F1-Measure', 'F1-Measure', 'Logarithmic loss', 'Brier score', 'Matthews correlation coefficient', 'Label skew', 'Gini coefficient', 'Pearson', 'Spearman', 'Mean absolute percentage error', 'Symmetric mean absolute percentage error']</td></tr>\n",
                            "            </table>\n",
                            "        </body>\n",
                            "        </HTML>"
                        ],
                        "text/plain": [
                            "<IPython.core.display.HTML object>"
                        ]
                    },
                    "metadata": {},
                    "output_type": "display_data"
                },
                {
                    "name": "stdout",
                    "output_type": "stream",
                    "text": [
                        "Note: First 10 records were displayed.\n"
                    ]
                }
            ],
            "source": [
                "wos_client.monitor_definitions.show()"
            ]
        },
        {
            "cell_type": "markdown",
            "metadata": {
                "id": "47214aff-2540-4290-af74-53dcfb96241b"
            },
            "source": [
                "### Get monitors uids and details"
            ]
        },
        {
            "cell_type": "code",
            "execution_count": 85,
            "metadata": {
                "id": "3df1f437-4f12-4e72-9934-70d5b6069638"
            },
            "outputs": [
                {
                    "name": "stdout",
                    "output_type": "stream",
                    "text": [
                        "my_model_performance\n"
                    ]
                }
            ],
            "source": [
                "custom_monitor_id = custom_monitor_details.metadata.id\n",
                "\n",
                "print(custom_monitor_id)"
            ]
        },
        {
            "cell_type": "code",
            "execution_count": 86,
            "metadata": {
                "id": "fb0255b9-1491-4eb3-ba77-3ac54534538a"
            },
            "outputs": [
                {
                    "name": "stdout",
                    "output_type": "stream",
                    "text": [
                        "Monitor definition details: {\n",
                        "  \"metadata\": {\n",
                        "    \"id\": \"my_model_performance\",\n",
                        "    \"crn\": \"crn:v1:bluemix:public:aiopenscale:us-south:a/na:00000000-0000-0000-0000-000000000000:monitor_definition:my_model_performance\",\n",
                        "    \"url\": \"/v2/monitor_definitions/my_model_performance\",\n",
                        "    \"created_at\": \"2024-09-06T07:07:05.355000Z\",\n",
                        "    \"created_by\": \"cpadmin\"\n",
                        "  },\n",
                        "  \"entity\": {\n",
                        "    \"name\": \"my model performance\",\n",
                        "    \"metrics\": [\n",
                        "      {\n",
                        "        \"name\": \"sensitivity\",\n",
                        "        \"thresholds\": [\n",
                        "          {\n",
                        "            \"type\": \"lower_limit\",\n",
                        "            \"default\": 0.8\n",
                        "          }\n",
                        "        ],\n",
                        "        \"expected_direction\": \"increasing\",\n",
                        "        \"id\": \"sensitivity\"\n",
                        "      },\n",
                        "      {\n",
                        "        \"name\": \"specificity\",\n",
                        "        \"thresholds\": [\n",
                        "          {\n",
                        "            \"type\": \"lower_limit\",\n",
                        "            \"default\": 0.75\n",
                        "          }\n",
                        "        ],\n",
                        "        \"expected_direction\": \"increasing\",\n",
                        "        \"id\": \"specificity\"\n",
                        "      }\n",
                        "    ],\n",
                        "    \"tags\": [\n",
                        "      {\n",
                        "        \"name\": \"region\",\n",
                        "        \"description\": \"customer geographical region\",\n",
                        "        \"id\": \"region\"\n",
                        "      }\n",
                        "    ]\n",
                        "  }\n",
                        "}\n"
                    ]
                }
            ],
            "source": [
                "custom_monitor_details = wos_client.monitor_definitions.get(monitor_definition_id=custom_monitor_id).result\n",
                "print('Monitor definition details:', custom_monitor_details)"
            ]
        },
        {
            "cell_type": "markdown",
            "metadata": {
                "id": "0cff5854-7613-473a-9830-92c338583200"
            },
            "source": [
                "## Enable custom monitor for subscription"
            ]
        },
        {
            "cell_type": "code",
            "execution_count": 87,
            "metadata": {
                "id": "d458c6a9-4606-450b-a67d-911ece8681f6"
            },
            "outputs": [
                {
                    "name": "stdout",
                    "output_type": "stream",
                    "text": [
                        "\n",
                        "\n",
                        "===================================================================================\n",
                        "\n",
                        " Waiting for end of monitor instance creation e243a327-a471-474a-b38e-3ca9c702c6b3 \n",
                        "\n",
                        "===================================================================================\n",
                        "\n",
                        "\n"
                    ]
                },
                {
                    "name": "stdout",
                    "output_type": "stream",
                    "text": [
                        "\n",
                        "active\n",
                        "\n",
                        "---------------------------------------\n",
                        " Monitor instance successfully created \n",
                        "---------------------------------------\n",
                        "\n",
                        "\n"
                    ]
                }
            ],
            "source": [
                "target = Target(\n",
                "        target_type=TargetTypes.SUBSCRIPTION,\n",
                "        target_id=subscription_id\n",
                "    )\n",
                "\n",
                "thresholds = [MetricThresholdOverride(metric_id='sensitivity', type = MetricThresholdTypes.LOWER_LIMIT, value=0.9)]\n",
                "\n",
                "parameters = dict()\n",
                "\n",
                "custom_monitor_instance_details = wos_client.monitor_instances.create(\n",
                "            data_mart_id=data_mart_id,\n",
                "            background_mode=False,\n",
                "            monitor_definition_id=custom_monitor_id,\n",
                "            target=target,\n",
                "            thresholds=thresholds,\n",
                "            parameters = parameters\n",
                ").result"
            ]
        },
        {
            "cell_type": "markdown",
            "metadata": {
                "id": "d937c063-c597-4433-8104-eddea8ad8d2c"
            },
            "source": [
                "### Get monitor instance id and configuration details"
            ]
        },
        {
            "cell_type": "code",
            "execution_count": 88,
            "metadata": {
                "id": "6480b1cf-68d0-4f2c-b318-9b13ce136336"
            },
            "outputs": [],
            "source": [
                "custom_monitor_instance_id = custom_monitor_instance_details.metadata.id"
            ]
        },
        {
            "cell_type": "code",
            "execution_count": 89,
            "metadata": {
                "id": "92a18acea7884b7280ae946189aaf3fe"
            },
            "outputs": [
                {
                    "name": "stdout",
                    "output_type": "stream",
                    "text": [
                        "{\n",
                        "  \"metadata\": {\n",
                        "    \"id\": \"e243a327-a471-474a-b38e-3ca9c702c6b3\",\n",
                        "    \"crn\": \"crn:v1:bluemix:public:aiopenscale:us-south:a/na:00000000-0000-0000-0000-000000000000:monitor_instance:e243a327-a471-474a-b38e-3ca9c702c6b3\",\n",
                        "    \"url\": \"/v2/monitor_instances/e243a327-a471-474a-b38e-3ca9c702c6b3\",\n",
                        "    \"created_at\": \"2024-09-06T09:46:10.235000Z\",\n",
                        "    \"created_by\": \"cpadmin\",\n",
                        "    \"modified_at\": \"2024-09-06T09:46:10.283000Z\",\n",
                        "    \"modified_by\": \"cpadmin\"\n",
                        "  },\n",
                        "  \"entity\": {\n",
                        "    \"data_mart_id\": \"00000000-0000-0000-0000-000000000000\",\n",
                        "    \"monitor_definition_id\": \"my_model_performance\",\n",
                        "    \"target\": {\n",
                        "      \"target_type\": \"subscription\",\n",
                        "      \"target_id\": \"41b7c70a-5105-4b0e-9aa5-9a7b43fa94ac\"\n",
                        "    },\n",
                        "    \"parameters\": {},\n",
                        "    \"thresholds\": [\n",
                        "      {\n",
                        "        \"metric_id\": \"sensitivity\",\n",
                        "        \"type\": \"lower_limit\",\n",
                        "        \"value\": 0.9\n",
                        "      }\n",
                        "    ],\n",
                        "    \"status\": {\n",
                        "      \"state\": \"active\"\n",
                        "    }\n",
                        "  }\n",
                        "}\n"
                    ]
                }
            ],
            "source": [
                "custom_monitor_instance_details = wos_client.monitor_instances.get(custom_monitor_instance_id).result\n",
                "print(custom_monitor_instance_details)"
            ]
        },
        {
            "cell_type": "markdown",
            "metadata": {
                "id": "8b945c45-0098-480d-9855-521397e03b5a"
            },
            "source": [
                "## Storing custom metrics"
            ]
        },
        {
            "cell_type": "code",
            "execution_count": 90,
            "metadata": {
                "id": "8a79b833-7b43-42cd-89d9-29415cc2d115"
            },
            "outputs": [
                {
                    "name": "stdout",
                    "output_type": "stream",
                    "text": [
                        "{\n",
                        "  \"timestamp\": \"2024-09-06T09:46:15.660958Z\",\n",
                        "  \"metrics\": [\n",
                        "    {\n",
                        "      \"specificity\": 0.78,\n",
                        "      \"sensitivity\": 0.67,\n",
                        "      \"region\": \"us-south\"\n",
                        "    }\n",
                        "  ]\n",
                        "}\n"
                    ]
                }
            ],
            "source": [
                "from datetime import datetime, timezone, timedelta\n",
                "from ibm_watson_openscale.base_classes.watson_open_scale_v2 import MonitorMeasurementRequest\n",
                "measurement_request = [MonitorMeasurementRequest(timestamp=datetime.now(timezone.utc), \n",
                "                                                 metrics=[{\"specificity\": 0.78, \"sensitivity\": 0.67, \"region\": \"us-south\"}])]\n",
                "print(measurement_request[0])"
            ]
        },
        {
            "cell_type": "code",
            "execution_count": 91,
            "metadata": {
                "id": "4ef5f4809917426284bb23226e698016"
            },
            "outputs": [
                {
                    "name": "stdout",
                    "output_type": "stream",
                    "text": [
                        "[{'measurement_id': 'f863b63b-5fb6-497f-a689-6903ffd15c73', 'metrics': [{'region': 'us-south', 'sensitivity': 0.67, 'specificity': 0.78}], 'timestamp': '2024-09-06T09:46:15.660958Z'}]\n"
                    ]
                }
            ],
            "source": [
                "published_measurement_response = wos_client.monitor_instances.measurements.add(\n",
                "    monitor_instance_id=custom_monitor_instance_id,\n",
                "    monitor_measurement_request=measurement_request).result\n",
                "published_measurement_id = published_measurement_response[0][\"measurement_id\"]\n",
                "print(published_measurement_response)"
            ]
        },
        {
            "cell_type": "markdown",
            "metadata": {
                "id": "b25c31fb-186c-444f-85f3-02c7ed735af4"
            },
            "source": [
                "### List and get custom metrics"
            ]
        },
        {
            "cell_type": "code",
            "execution_count": 92,
            "metadata": {
                "id": "8873a3e2-a2d0-48cd-bb6e-4fa82457878d"
            },
            "outputs": [
                {
                    "name": "stdout",
                    "output_type": "stream",
                    "text": [
                        "{\n",
                        "  \"metadata\": {\n",
                        "    \"id\": \"f863b63b-5fb6-497f-a689-6903ffd15c73\",\n",
                        "    \"crn\": \"\",\n",
                        "    \"url\": \"/v2/monitor_instances/e243a327-a471-474a-b38e-3ca9c702c6b3/measurements/f863b63b-5fb6-497f-a689-6903ffd15c73\",\n",
                        "    \"created_at\": \"2024-09-06T09:46:15.857681Z\",\n",
                        "    \"created_by\": \"N/A\"\n",
                        "  },\n",
                        "  \"entity\": {\n",
                        "    \"timestamp\": \"2024-09-06T09:46:15.660958Z\",\n",
                        "    \"values\": [\n",
                        "      {\n",
                        "        \"metrics\": [\n",
                        "          {\n",
                        "            \"id\": \"sensitivity\",\n",
                        "            \"value\": 0.67,\n",
                        "            \"lower_limit\": 0.9\n",
                        "          },\n",
                        "          {\n",
                        "            \"id\": \"specificity\",\n",
                        "            \"value\": 0.78\n",
                        "          }\n",
                        "        ],\n",
                        "        \"tags\": [\n",
                        "          {\n",
                        "            \"id\": \"region\",\n",
                        "            \"value\": \"us-south\"\n",
                        "          }\n",
                        "        ]\n",
                        "      }\n",
                        "    ],\n",
                        "    \"issue_count\": 1,\n",
                        "    \"target\": {\n",
                        "      \"target_type\": \"subscription\",\n",
                        "      \"target_id\": \"41b7c70a-5105-4b0e-9aa5-9a7b43fa94ac\"\n",
                        "    },\n",
                        "    \"monitor_instance_id\": \"e243a327-a471-474a-b38e-3ca9c702c6b3\",\n",
                        "    \"monitor_definition_id\": \"my_model_performance\"\n",
                        "  }\n",
                        "}\n"
                    ]
                }
            ],
            "source": [
                "time.sleep(5)\n",
                "published_measurement = wos_client.monitor_instances.measurements.get(monitor_instance_id=custom_monitor_instance_id, measurement_id=published_measurement_id).result\n",
                "print(published_measurement)"
            ]
        },
        {
            "cell_type": "markdown",
            "metadata": {
                "id": "b4c95961-dccf-40ea-8c7d-c3ae71c25634"
            },
            "source": [
                "# Historical data <a name=\"historical\"></a>"
            ]
        },
        {
            "cell_type": "code",
            "execution_count": 93,
            "metadata": {
                "id": "9ca15cd1-3115-410c-b2a9-c678bae7129d",
                "scrolled": true
            },
            "outputs": [],
            "source": [
                "historyDays = 7"
            ]
        },
        {
            "cell_type": "markdown",
            "metadata": {
                "id": "7073e79a-13c0-41e7-9d35-44873d29eb1f"
            },
            "source": [
                " ## Insert historical payloads"
            ]
        },
        {
            "cell_type": "markdown",
            "metadata": {
                "id": "497d614a-7b6f-4b37-8e44-55e6d1912a57"
            },
            "source": [
                "The next section of the notebook downloads and writes historical data to the payload and measurement tables to simulate a production model that has been monitored and receiving regular traffic for the last seven days. This historical data can be viewed in the Watson OpenScale user interface. The code uses the Python and REST APIs to write this data."
            ]
        },
        {
            "cell_type": "code",
            "execution_count": 94,
            "metadata": {
                "id": "951112a7-dd40-4981-902d-812ace7e7fa1",
                "scrolled": true
            },
            "outputs": [
                {
                    "name": "stdout",
                    "output_type": "stream",
                    "text": [
                        "--2024-09-06 09:46:21--  https://raw.githubusercontent.com/IBM/watson-openscale-samples/main/IBM%20Cloud/WML/assets/data/historical_data/credit_risk/history_fairness_v2.json\r\n"
                    ]
                },
                {
                    "name": "stdout",
                    "output_type": "stream",
                    "text": [
                        "Resolving raw.githubusercontent.com (raw.githubusercontent.com)... 185.199.109.133, 185.199.111.133, 185.199.108.133, ...\r\n",
                        "Connecting to raw.githubusercontent.com (raw.githubusercontent.com)|185.199.109.133|:443... connected.\r\n",
                        "HTTP request sent, awaiting response... "
                    ]
                },
                {
                    "name": "stdout",
                    "output_type": "stream",
                    "text": [
                        "200 OK\r\n",
                        "Length: 1186317 (1.1M) [text/plain]\r\n",
                        "Saving to: ‘history_fairness_v2.json.2’\r\n",
                        "\r\n",
                        "\r          history_f   0%[                    ]       0  --.-KB/s               "
                    ]
                },
                {
                    "name": "stdout",
                    "output_type": "stream",
                    "text": [
                        "\r         history_fa  29%[====>               ] 344.00K  1.67MB/s               "
                    ]
                },
                {
                    "name": "stdout",
                    "output_type": "stream",
                    "text": [
                        "\r        history_fai  54%[=========>          ] 625.81K  1.47MB/s               "
                    ]
                },
                {
                    "name": "stdout",
                    "output_type": "stream",
                    "text": [
                        "\rhistory_fairness_v2 100%[===================>]   1.13M  2.10MB/s    in 0.5s    \r\n",
                        "\r\n",
                        "2024-09-06 09:46:22 (2.10 MB/s) - ‘history_fairness_v2.json.2’ saved [1186317/1186317]\r\n",
                        "\r\n"
                    ]
                },
                {
                    "name": "stdout",
                    "output_type": "stream",
                    "text": [
                        "-rw-rw----. 1 1000750000 wscommon 1.2M Sep  6 07:07 history_fairness_v2.json\r\n"
                    ]
                }
            ],
            "source": [
                "!wget https://raw.githubusercontent.com/IBM/watson-openscale-samples/main/IBM%20Cloud/WML/assets/data/historical_data/credit_risk/history_fairness_v2.json\n",
                "!ls -lh history_fairness_v2.json"
            ]
        },
        {
            "cell_type": "code",
            "execution_count": 95,
            "metadata": {
                "id": "583721f5-5505-4ce7-93f0-013c134f35cc"
            },
            "outputs": [
                {
                    "name": "stdout",
                    "output_type": "stream",
                    "text": [
                        "Loading day 1\n"
                    ]
                },
                {
                    "name": "stdout",
                    "output_type": "stream",
                    "text": [
                        "Loading day 2\n",
                        "Loading day 3\n"
                    ]
                },
                {
                    "name": "stdout",
                    "output_type": "stream",
                    "text": [
                        "Loading day 4\n",
                        "Loading day 5\n"
                    ]
                },
                {
                    "name": "stdout",
                    "output_type": "stream",
                    "text": [
                        "Loading day 6\n"
                    ]
                },
                {
                    "name": "stdout",
                    "output_type": "stream",
                    "text": [
                        "Loading day 7\n"
                    ]
                },
                {
                    "name": "stdout",
                    "output_type": "stream",
                    "text": [
                        "Finished\n"
                    ]
                }
            ],
            "source": [
                "from datetime import datetime, timedelta, timezone\n",
                "from ibm_watson_openscale.base_classes.watson_open_scale_v2 import Source\n",
                "from ibm_watson_openscale.base_classes.watson_open_scale_v2 import Measurements\n",
                "with open(\"history_fairness_v2.json\") as f:\n",
                "    fairness_values = json.load(f)\n",
                "    for day in range(historyDays):\n",
                "        print('Loading day', day + 1)\n",
                "        daily_measurement_requests = []\n",
                "        sources_list = []\n",
                "        for hour in range(24):\n",
                "            score_time = (datetime.now(timezone.utc) + timedelta(hours=(-(24*day + hour + 1)))).strftime('%Y-%m-%dT%H:%M:%SZ')\n",
                "            index = (day * 24 + hour) % len(fairness_values) # wrap around and reuse values if needed\n",
                "            fairness_values[index][\"timestamp\"] = score_time\n",
                "            #print(score_time) \n",
                "            fairness_value = fairness_values[index]\n",
                "            metrics_list = fairness_value[\"metrics\"]\n",
                "            sources = fairness_value[\"sources\"]\n",
                "            sources_list = []\n",
                "            for source in sources:\n",
                "                source_id = source[\"id\"]\n",
                "                source_type = source[\"type\"]\n",
                "                source_data = source[\"data\"]\n",
                "                if source_id == \"bias_detection_summary\":\n",
                "                    source_data[\"evaluated_at\"] = score_time\n",
                "                    source_data[\"favourable_class\"] = [\"No Risk\"]\n",
                "                    source_data[\"unfavourable_class\"] = [\"Risk\"]\n",
                "                    source_data[\"score_type\"] = \"disparate impact\"\n",
                "                sources_list.append(\n",
                "                    Source(\n",
                "                        id=source_id,\n",
                "                        type=source_type,\n",
                "                        data=source_data\n",
                "                    )\n",
                "                )  \n",
                "            measurement_request = MonitorMeasurementRequest(metrics=metrics_list, sources=sources_list, timestamp=score_time)\n",
                "            daily_measurement_requests.append(measurement_request)\n",
                "        measurements_client = Measurements(wos_client)\n",
                "        measurements_client.add(monitor_instance_id=fairness_monitor_instance_id, monitor_measurement_request=daily_measurement_requests)     \n",
                "print('Finished')"
            ]
        },
        {
            "cell_type": "markdown",
            "metadata": {
                "id": "4d7c37db-a49d-486d-be89-ed12ccf1afbb"
            },
            "source": [
                "## Insert historical debias metrics"
            ]
        },
        {
            "cell_type": "code",
            "execution_count": 96,
            "metadata": {
                "id": "1164430b-fb50-444b-bad1-ed4ecead9e9a"
            },
            "outputs": [
                {
                    "name": "stdout",
                    "output_type": "stream",
                    "text": [
                        "--2024-09-06 09:46:24--  https://raw.githubusercontent.com/IBM/watson-openscale-samples/main/IBM%20Cloud/WML/assets/data/historical_data/credit_risk/history_debias_v2.json\r\n"
                    ]
                },
                {
                    "name": "stdout",
                    "output_type": "stream",
                    "text": [
                        "Resolving raw.githubusercontent.com (raw.githubusercontent.com)... 185.199.109.133, 185.199.111.133, 185.199.108.133, ...\r\n",
                        "Connecting to raw.githubusercontent.com (raw.githubusercontent.com)|185.199.109.133|:443... connected.\r\n",
                        "HTTP request sent, awaiting response... "
                    ]
                },
                {
                    "name": "stdout",
                    "output_type": "stream",
                    "text": [
                        "200 OK\r\n",
                        "Length: 742418 (725K) [text/plain]\r\n",
                        "Saving to: ‘history_debias_v2.json.2’\r\n",
                        "\r\n",
                        "\rhistory_debias_v2.j   0%[                    ]       0  --.-KB/s               \rhistory_debias_v2.j 100%[===================>] 725.02K  --.-KB/s    in 0.02s   \r\n",
                        "\r\n",
                        "2024-09-06 09:46:24 (38.8 MB/s) - ‘history_debias_v2.json.2’ saved [742418/742418]\r\n",
                        "\r\n"
                    ]
                },
                {
                    "name": "stdout",
                    "output_type": "stream",
                    "text": [
                        "-rw-rw----. 1 1000750000 wscommon 726K Sep  6 07:07 history_debias_v2.json\r\n"
                    ]
                }
            ],
            "source": [
                "!wget https://raw.githubusercontent.com/IBM/watson-openscale-samples/main/IBM%20Cloud/WML/assets/data/historical_data/credit_risk/history_debias_v2.json\n",
                "!ls -lh history_debias_v2.json"
            ]
        },
        {
            "cell_type": "code",
            "execution_count": 97,
            "metadata": {
                "id": "6e01e0f8-959e-4dcd-b408-ca81ea941262"
            },
            "outputs": [
                {
                    "name": "stdout",
                    "output_type": "stream",
                    "text": [
                        "Loading day 1\n"
                    ]
                },
                {
                    "name": "stdout",
                    "output_type": "stream",
                    "text": [
                        "Loading day 2\n"
                    ]
                },
                {
                    "name": "stdout",
                    "output_type": "stream",
                    "text": [
                        "Loading day 3\n"
                    ]
                },
                {
                    "name": "stdout",
                    "output_type": "stream",
                    "text": [
                        "Loading day 4\n"
                    ]
                },
                {
                    "name": "stdout",
                    "output_type": "stream",
                    "text": [
                        "Loading day 5\n"
                    ]
                },
                {
                    "name": "stdout",
                    "output_type": "stream",
                    "text": [
                        "Loading day 6\n"
                    ]
                },
                {
                    "name": "stdout",
                    "output_type": "stream",
                    "text": [
                        "Loading day 7\n"
                    ]
                },
                {
                    "name": "stdout",
                    "output_type": "stream",
                    "text": [
                        "Finished\n"
                    ]
                }
            ],
            "source": [
                "with open(\"history_debias_v2.json\") as f:\n",
                "    debias_values = json.load(f)\n",
                "    for day in range(historyDays):\n",
                "        print('Loading day', day + 1)\n",
                "        daily_measurement_requests = []\n",
                "        sources_list = []\n",
                "        for hour in range(24):\n",
                "            score_time = (datetime.now(timezone.utc) + timedelta(hours=(-(24*day + hour + 1)))).strftime('%Y-%m-%dT%H:%M:%SZ')\n",
                "            index = (day * 24 + hour) % len(debias_values) # wrap around and reuse values if needed\n",
                "            debias_values[index][\"timestamp\"] = score_time\n",
                "            debias_value = debias_values[index]\n",
                "            metrics_list = debias_value[\"metrics\"]\n",
                "            sources = debias_value[\"sources\"]\n",
                "            sources_list = []\n",
                "            for source in sources:\n",
                "                sources_list.append(\n",
                "                    Source(\n",
                "                        id=source[\"id\"],\n",
                "                        type=source[\"type\"],\n",
                "                        data=source[\"data\"]\n",
                "                    )\n",
                "                )  \n",
                "            measurement_request = MonitorMeasurementRequest(metrics=metrics_list, sources=sources_list, timestamp=score_time)\n",
                "            daily_measurement_requests.append(measurement_request)\n",
                "        measurements_client = Measurements(wos_client)\n",
                "        measurements_client.add(monitor_instance_id=fairness_monitor_instance_id, monitor_measurement_request=daily_measurement_requests)         \n",
                "\n",
                "print('Finished')"
            ]
        },
        {
            "cell_type": "markdown",
            "metadata": {
                "id": "3aeafdae-089a-415d-9258-26d9cb6466bf"
            },
            "source": [
                "## Insert historical quality metrics"
            ]
        },
        {
            "cell_type": "code",
            "execution_count": 98,
            "metadata": {
                "id": "349162e0-bde0-4f07-a223-472d2296bdd2"
            },
            "outputs": [
                {
                    "name": "stdout",
                    "output_type": "stream",
                    "text": [
                        "Loading day 1\n"
                    ]
                },
                {
                    "name": "stdout",
                    "output_type": "stream",
                    "text": [
                        "Loading day 2\n"
                    ]
                },
                {
                    "name": "stdout",
                    "output_type": "stream",
                    "text": [
                        "Loading day 3\n",
                        "Loading day 4\n"
                    ]
                },
                {
                    "name": "stdout",
                    "output_type": "stream",
                    "text": [
                        "Loading day 5\n",
                        "Loading day 6\n"
                    ]
                },
                {
                    "name": "stdout",
                    "output_type": "stream",
                    "text": [
                        "Loading day 7\n",
                        "Finished\n"
                    ]
                }
            ],
            "source": [
                "measurements = [0.76, 0.78, 0.68, 0.72, 0.73, 0.77, 0.80]\n",
                "for day in range(historyDays):\n",
                "    quality_measurement_requests = []\n",
                "    print('Loading day', day + 1)\n",
                "    for hour in range(24):\n",
                "        score_time = datetime.utcnow() + timedelta(hours=(-(24*day + hour + 1)))\n",
                "        score_time = score_time.isoformat() + \"Z\"\n",
                "        \n",
                "        metric = {\"area_under_roc\": measurements[day]}\n",
                "                \n",
                "        measurement_request = MonitorMeasurementRequest(timestamp=score_time,metrics = [metric])\n",
                "        quality_measurement_requests.append(measurement_request)\n",
                "        \n",
                "        \n",
                "    response = wos_client.monitor_instances.measurements.add(\n",
                "                                            monitor_instance_id=quality_monitor_instance_id,\n",
                "                                            monitor_measurement_request=quality_measurement_requests).result    \n",
                "    \n",
                "print('Finished')"
            ]
        },
        {
            "cell_type": "markdown",
            "metadata": {
                "id": "8825b0ea-1196-4760-ac50-abab2d177f25"
            },
            "source": [
                "## Insert historical confusion matrixes"
            ]
        },
        {
            "cell_type": "code",
            "execution_count": 99,
            "metadata": {
                "id": "bdbb9d1b-382d-42ea-8949-9570e5a95110"
            },
            "outputs": [
                {
                    "name": "stdout",
                    "output_type": "stream",
                    "text": [
                        "--2024-09-06 09:46:28--  https://raw.githubusercontent.com/IBM/watson-openscale-samples/main/IBM%20Cloud/WML/assets/data/historical_data/credit_risk/history_quality_metrics.json\r\n"
                    ]
                },
                {
                    "name": "stdout",
                    "output_type": "stream",
                    "text": [
                        "Resolving raw.githubusercontent.com (raw.githubusercontent.com)... 185.199.109.133, 185.199.111.133, 185.199.108.133, ...\r\n",
                        "Connecting to raw.githubusercontent.com (raw.githubusercontent.com)|185.199.109.133|:443... connected.\r\n",
                        "HTTP request sent, awaiting response... "
                    ]
                },
                {
                    "name": "stdout",
                    "output_type": "stream",
                    "text": [
                        "200 OK\r\n",
                        "Length: 80099 (78K) [text/plain]\r\n",
                        "Saving to: ‘history_quality_metrics.json’\r\n",
                        "\r\n",
                        "\r          history_q   0%[                    ]       0  --.-KB/s               \rhistory_quality_met 100%[===================>]  78.22K  --.-KB/s    in 0.005s  \r\n",
                        "\r\n",
                        "2024-09-06 09:46:28 (14.0 MB/s) - ‘history_quality_metrics.json’ saved [80099/80099]\r\n",
                        "\r\n"
                    ]
                },
                {
                    "name": "stdout",
                    "output_type": "stream",
                    "text": [
                        "-rw-rw----. 1 1000750000 wscommon 79K Sep  6 09:46 history_quality_metrics.json\r\n"
                    ]
                }
            ],
            "source": [
                "!rm history_quality_metrics.json\n",
                "!wget https://raw.githubusercontent.com/IBM/watson-openscale-samples/main/IBM%20Cloud/WML/assets/data/historical_data/credit_risk/history_quality_metrics.json\n",
                "!ls -lh history_quality_metrics.json"
            ]
        },
        {
            "cell_type": "code",
            "execution_count": 100,
            "metadata": {
                "id": "67e341d8-8f05-4242-bb96-348b468e8f59"
            },
            "outputs": [
                {
                    "name": "stdout",
                    "output_type": "stream",
                    "text": [
                        "Loading day 1\n"
                    ]
                },
                {
                    "name": "stdout",
                    "output_type": "stream",
                    "text": [
                        "Loading day 2\n"
                    ]
                },
                {
                    "name": "stdout",
                    "output_type": "stream",
                    "text": [
                        "Loading day 3\n"
                    ]
                },
                {
                    "name": "stdout",
                    "output_type": "stream",
                    "text": [
                        "Loading day 4\n",
                        "Loading day 5\n"
                    ]
                },
                {
                    "name": "stdout",
                    "output_type": "stream",
                    "text": [
                        "Loading day 6\n"
                    ]
                },
                {
                    "name": "stdout",
                    "output_type": "stream",
                    "text": [
                        "Loading day 7\n",
                        "Finished\n"
                    ]
                }
            ],
            "source": [
                "from ibm_watson_openscale.base_classes.watson_open_scale_v2 import Source\n",
                "\n",
                "with open('history_quality_metrics.json') as json_file:\n",
                "    records = json.load(json_file)\n",
                "    \n",
                "for day in range(historyDays):\n",
                "    index = 0\n",
                "    cm_measurement_requests = []\n",
                "    print('Loading day', day + 1)\n",
                "    \n",
                "    for hour in range(24):\n",
                "        score_time = datetime.utcnow() + timedelta(hours=(-(24*day + hour + 1)))\n",
                "        score_time = score_time.isoformat() + \"Z\"\n",
                "\n",
                "        metric = records[index]['metrics']\n",
                "        source = records[index]['sources']\n",
                "\n",
                "        \n",
                "        measurement_request = {\"timestamp\": score_time, \"metrics\": [metric], \"sources\": [source]}\n",
                "        cm_measurement_requests.append(measurement_request)\n",
                "\n",
                "        index+=1\n",
                "\n",
                "    response = wos_client.monitor_instances.measurements.add(monitor_instance_id=quality_monitor_instance_id, monitor_measurement_request=cm_measurement_requests).result    \n",
                "\n",
                "print('Finished')"
            ]
        },
        {
            "cell_type": "markdown",
            "metadata": {
                "id": "9063310f-4518-4001-83bb-342c259b9e2e"
            },
            "source": [
                "## Insert historical performance metrics"
            ]
        },
        {
            "cell_type": "code",
            "execution_count": 101,
            "metadata": {
                "id": "2090d9c2-fe8b-4326-830d-afd5f86f3c6c",
                "scrolled": true
            },
            "outputs": [
                {
                    "name": "stdout",
                    "output_type": "stream",
                    "text": [
                        "\n",
                        "\n",
                        "===================================================================================\n",
                        "\n",
                        " Waiting for end of monitor instance creation e02e8e15-c68b-4337-8491-3b223bef02d2 \n",
                        "\n",
                        "===================================================================================\n",
                        "\n",
                        "\n"
                    ]
                },
                {
                    "name": "stdout",
                    "output_type": "stream",
                    "text": [
                        "\n",
                        "active\n",
                        "\n",
                        "---------------------------------------\n",
                        " Monitor instance successfully created \n",
                        "---------------------------------------\n",
                        "\n",
                        "\n"
                    ]
                }
            ],
            "source": [
                "target = Target(\n",
                "        target_type=TargetTypes.INSTANCE,\n",
                "        target_id=payload_data_set_id\n",
                "    )\n",
                "\n",
                "parameters = dict()\n",
                "performance_monitor_instance_details = wos_client.monitor_instances.create(\n",
                "            data_mart_id=data_mart_id,\n",
                "            background_mode=False,\n",
                "            monitor_definition_id=wos_client.monitor_definitions.MONITORS.PERFORMANCE.ID,\n",
                "            target=target,\n",
                "            parameters = parameters\n",
                ").result\n",
                "performance_monitor_instance_id = performance_monitor_instance_details.metadata.id"
            ]
        },
        {
            "cell_type": "code",
            "execution_count": 102,
            "metadata": {
                "id": "fc2a8c5122aa43878fb94f05f9d41e4b"
            },
            "outputs": [
                {
                    "name": "stdout",
                    "output_type": "stream",
                    "text": [
                        "Loading day 1\n",
                        "Loading day 2\n"
                    ]
                },
                {
                    "name": "stdout",
                    "output_type": "stream",
                    "text": [
                        "Loading day 3\n",
                        "Loading day 4\n",
                        "Loading day 5\n"
                    ]
                },
                {
                    "name": "stdout",
                    "output_type": "stream",
                    "text": [
                        "Loading day 6\n",
                        "Loading day 7\n"
                    ]
                },
                {
                    "name": "stdout",
                    "output_type": "stream",
                    "text": [
                        "Finished\n"
                    ]
                }
            ],
            "source": [
                "for day in range(historyDays):\n",
                "    performance_measurement_requests = []\n",
                "    print('Loading day', day + 1)\n",
                "    for hour in range(24):\n",
                "        score_time = datetime.utcnow() + timedelta(hours=(-(24*day + hour + 1)))\n",
                "        score_time = score_time.isoformat() + \"Z\"\n",
                "        score_count = random.randint(60, 600)\n",
                "        \n",
                "        metric = {\"record_count\": score_count, \"data_set_type\": \"scoring_payload\"}\n",
                "        \n",
                "        measurement_request = {\"timestamp\": score_time, \"metrics\": [metric]}\n",
                "        performance_measurement_requests.append(measurement_request)\n",
                "        \n",
                "    response = wos_client.monitor_instances.measurements.add(\n",
                "                                            monitor_instance_id=performance_monitor_instance_id,\n",
                "                                            monitor_measurement_request=performance_measurement_requests).result    \n",
                "\n",
                "print('Finished')"
            ]
        },
        {
            "cell_type": "markdown",
            "metadata": {
                "id": "cb02981d-5bab-46a1-9078-734decb6901e"
            },
            "source": [
                "## Insert historical drift measurements"
            ]
        },
        {
            "cell_type": "code",
            "execution_count": 103,
            "metadata": {
                "id": "4ce7e80a-19b9-4f9b-bb19-010f18c6efbe"
            },
            "outputs": [
                {
                    "name": "stdout",
                    "output_type": "stream",
                    "text": [
                        "--2024-09-06 09:46:36--  https://raw.githubusercontent.com/IBM/watson-openscale-samples/main/IBM%20Cloud/WML/assets/data/historical_data/credit_risk/history_drift_measurement_0.json\r\n"
                    ]
                },
                {
                    "name": "stdout",
                    "output_type": "stream",
                    "text": [
                        "Resolving raw.githubusercontent.com (raw.githubusercontent.com)... "
                    ]
                },
                {
                    "name": "stdout",
                    "output_type": "stream",
                    "text": [
                        "185.199.109.133, 185.199.111.133, 185.199.108.133, ...\r\n",
                        "Connecting to raw.githubusercontent.com (raw.githubusercontent.com)|185.199.109.133|:443... connected.\r\n",
                        "HTTP request sent, awaiting response... "
                    ]
                },
                {
                    "name": "stdout",
                    "output_type": "stream",
                    "text": [
                        "200 OK\r\n",
                        "Length: 850981 (831K) [text/plain]\r\n",
                        "Saving to: ‘history_drift_measurement_0.json’\r\n",
                        "\r\n",
                        "\r          history_d   0%[                    ]       0  --.-KB/s               "
                    ]
                },
                {
                    "name": "stdout",
                    "output_type": "stream",
                    "text": [
                        "\rhistory_drift_measu 100%[===================>] 831.04K  --.-KB/s    in 0.02s   \r\n",
                        "\r\n",
                        "2024-09-06 09:46:37 (42.7 MB/s) - ‘history_drift_measurement_0.json’ saved [850981/850981]\r\n",
                        "\r\n"
                    ]
                },
                {
                    "name": "stdout",
                    "output_type": "stream",
                    "text": [
                        "--2024-09-06 09:46:37--  https://raw.githubusercontent.com/IBM/watson-openscale-samples/main/IBM%20Cloud/WML/assets/data/historical_data/credit_risk/history_drift_measurement_1.json\r\n"
                    ]
                },
                {
                    "name": "stdout",
                    "output_type": "stream",
                    "text": [
                        "Resolving raw.githubusercontent.com (raw.githubusercontent.com)... "
                    ]
                },
                {
                    "name": "stdout",
                    "output_type": "stream",
                    "text": [
                        "185.199.109.133, 185.199.111.133, 185.199.108.133, ...\r\n",
                        "Connecting to raw.githubusercontent.com (raw.githubusercontent.com)|185.199.109.133|:443... connected.\r\n",
                        "HTTP request sent, awaiting response... "
                    ]
                },
                {
                    "name": "stdout",
                    "output_type": "stream",
                    "text": [
                        "200 OK\r\n",
                        "Length: 887827 (867K) [text/plain]\r\n",
                        "Saving to: ‘history_drift_measurement_1.json’\r\n",
                        "\r\n",
                        "\r          history_d   0%[                    ]       0  --.-KB/s               "
                    ]
                },
                {
                    "name": "stdout",
                    "output_type": "stream",
                    "text": [
                        "\rhistory_drift_measu 100%[===================>] 867.02K  --.-KB/s    in 0.02s   \r\n",
                        "\r\n",
                        "2024-09-06 09:46:37 (41.1 MB/s) - ‘history_drift_measurement_1.json’ saved [887827/887827]\r\n",
                        "\r\n"
                    ]
                },
                {
                    "name": "stdout",
                    "output_type": "stream",
                    "text": [
                        "--2024-09-06 09:46:37--  https://raw.githubusercontent.com/IBM/watson-openscale-samples/main/IBM%20Cloud/WML/assets/data/historical_data/credit_risk/history_drift_measurement_2.json\r\n"
                    ]
                },
                {
                    "name": "stdout",
                    "output_type": "stream",
                    "text": [
                        "Resolving raw.githubusercontent.com (raw.githubusercontent.com)... 185.199.109.133, 185.199.111.133, 185.199.108.133, ...\r\n",
                        "Connecting to raw.githubusercontent.com (raw.githubusercontent.com)|185.199.109.133|:443... connected.\r\n",
                        "HTTP request sent, awaiting response... "
                    ]
                },
                {
                    "name": "stdout",
                    "output_type": "stream",
                    "text": [
                        "200 OK\r\n",
                        "Length: 890707 (870K) [text/plain]\r\n",
                        "Saving to: ‘history_drift_measurement_2.json’\r\n",
                        "\r\n",
                        "\r          history_d   0%[                    ]       0  --.-KB/s               \rhistory_drift_measu 100%[===================>] 869.83K  --.-KB/s    in 0.02s   \r\n",
                        "\r\n",
                        "2024-09-06 09:46:38 (47.2 MB/s) - ‘history_drift_measurement_2.json’ saved [890707/890707]\r\n",
                        "\r\n"
                    ]
                },
                {
                    "name": "stdout",
                    "output_type": "stream",
                    "text": [
                        "--2024-09-06 09:46:38--  https://raw.githubusercontent.com/IBM/watson-openscale-samples/main/IBM%20Cloud/WML/assets/data/historical_data/credit_risk/history_drift_measurement_3.json\r\n"
                    ]
                },
                {
                    "name": "stdout",
                    "output_type": "stream",
                    "text": [
                        "Resolving raw.githubusercontent.com (raw.githubusercontent.com)... 185.199.109.133, 185.199.111.133, 185.199.108.133, ...\r\n",
                        "Connecting to raw.githubusercontent.com (raw.githubusercontent.com)|185.199.109.133|:443... connected.\r\n",
                        "HTTP request sent, awaiting response... "
                    ]
                },
                {
                    "name": "stdout",
                    "output_type": "stream",
                    "text": [
                        "200 OK\r\n",
                        "Length: 931261 (909K) [text/plain]\r\n",
                        "Saving to: ‘history_drift_measurement_3.json’\r\n",
                        "\r\n",
                        "\r          history_d   0%[                    ]       0  --.-KB/s               \rhistory_drift_measu 100%[===================>] 909.43K  --.-KB/s    in 0.02s   \r\n",
                        "\r\n",
                        "2024-09-06 09:46:38 (44.5 MB/s) - ‘history_drift_measurement_3.json’ saved [931261/931261]\r\n",
                        "\r\n"
                    ]
                },
                {
                    "name": "stdout",
                    "output_type": "stream",
                    "text": [
                        "--2024-09-06 09:46:39--  https://raw.githubusercontent.com/IBM/watson-openscale-samples/main/IBM%20Cloud/WML/assets/data/historical_data/credit_risk/history_drift_measurement_4.json\r\n"
                    ]
                },
                {
                    "name": "stdout",
                    "output_type": "stream",
                    "text": [
                        "Resolving raw.githubusercontent.com (raw.githubusercontent.com)... 185.199.109.133, 185.199.111.133, 185.199.108.133, ...\r\n",
                        "Connecting to raw.githubusercontent.com (raw.githubusercontent.com)|185.199.109.133|:443... connected.\r\n",
                        "HTTP request sent, awaiting response... "
                    ]
                },
                {
                    "name": "stdout",
                    "output_type": "stream",
                    "text": [
                        "200 OK\r\n",
                        "Length: 860376 (840K) [text/plain]\r\n",
                        "Saving to: ‘history_drift_measurement_4.json’\r\n",
                        "\r\n",
                        "\r          history_d   0%[                    ]       0  --.-KB/s               \rhistory_drift_measu 100%[===================>] 840.21K  --.-KB/s    in 0.02s   \r\n",
                        "\r\n",
                        "2024-09-06 09:46:39 (43.4 MB/s) - ‘history_drift_measurement_4.json’ saved [860376/860376]\r\n",
                        "\r\n"
                    ]
                },
                {
                    "name": "stdout",
                    "output_type": "stream",
                    "text": [
                        "--2024-09-06 09:46:39--  https://raw.githubusercontent.com/IBM/watson-openscale-samples/main/IBM%20Cloud/WML/assets/data/historical_data/credit_risk/history_drift_measurement_5.json\r\n"
                    ]
                },
                {
                    "name": "stdout",
                    "output_type": "stream",
                    "text": [
                        "Resolving raw.githubusercontent.com (raw.githubusercontent.com)... 185.199.109.133, 185.199.111.133, 185.199.108.133, ...\r\n",
                        "Connecting to raw.githubusercontent.com (raw.githubusercontent.com)|185.199.109.133|:443... connected.\r\n",
                        "HTTP request sent, awaiting response... "
                    ]
                },
                {
                    "name": "stdout",
                    "output_type": "stream",
                    "text": [
                        "200 OK\r\n",
                        "Length: 855285 (835K) [text/plain]\r\n",
                        "Saving to: ‘history_drift_measurement_5.json’\r\n",
                        "\r\n",
                        "\r          history_d   0%[                    ]       0  --.-KB/s               \rhistory_drift_measu 100%[===================>] 835.24K  --.-KB/s    in 0.02s   \r\n",
                        "\r\n",
                        "2024-09-06 09:46:40 (45.4 MB/s) - ‘history_drift_measurement_5.json’ saved [855285/855285]\r\n",
                        "\r\n"
                    ]
                },
                {
                    "name": "stdout",
                    "output_type": "stream",
                    "text": [
                        "--2024-09-06 09:46:40--  https://raw.githubusercontent.com/IBM/watson-openscale-samples/main/IBM%20Cloud/WML/assets/data/historical_data/credit_risk/history_drift_measurement_6.json\r\n"
                    ]
                },
                {
                    "name": "stdout",
                    "output_type": "stream",
                    "text": [
                        "Resolving raw.githubusercontent.com (raw.githubusercontent.com)... 185.199.109.133, 185.199.111.133, 185.199.108.133, ...\r\n",
                        "Connecting to raw.githubusercontent.com (raw.githubusercontent.com)|185.199.109.133|:443... connected.\r\n",
                        "HTTP request sent, awaiting response... "
                    ]
                },
                {
                    "name": "stdout",
                    "output_type": "stream",
                    "text": [
                        "200 OK\r\n",
                        "Length: 860041 (840K) [text/plain]\r\n",
                        "Saving to: ‘history_drift_measurement_6.json’\r\n",
                        "\r\n",
                        "\r          history_d   0%[                    ]       0  --.-KB/s               "
                    ]
                },
                {
                    "name": "stdout",
                    "output_type": "stream",
                    "text": [
                        "\rhistory_drift_measu 100%[===================>] 839.88K  --.-KB/s    in 0.02s   \r\n",
                        "\r\n",
                        "2024-09-06 09:46:40 (41.8 MB/s) - ‘history_drift_measurement_6.json’ saved [860041/860041]\r\n",
                        "\r\n"
                    ]
                },
                {
                    "name": "stdout",
                    "output_type": "stream",
                    "text": [
                        "-rw-rw----. 1 1000750000 wscommon 832K Sep  6 09:46 history_drift_measurement_0.json\r\n",
                        "-rw-rw----. 1 1000750000 wscommon 868K Sep  6 09:46 history_drift_measurement_1.json\r\n",
                        "-rw-rw----. 1 1000750000 wscommon 870K Sep  6 09:46 history_drift_measurement_2.json\r\n",
                        "-rw-rw----. 1 1000750000 wscommon 910K Sep  6 09:46 history_drift_measurement_3.json\r\n",
                        "-rw-rw----. 1 1000750000 wscommon 841K Sep  6 09:46 history_drift_measurement_4.json\r\n",
                        "-rw-rw----. 1 1000750000 wscommon 836K Sep  6 09:46 history_drift_measurement_5.json\r\n",
                        "-rw-rw----. 1 1000750000 wscommon 840K Sep  6 09:46 history_drift_measurement_6.json\r\n"
                    ]
                }
            ],
            "source": [
                "!rm history_drift_measurement_*.json\n",
                "!wget https://raw.githubusercontent.com/IBM/watson-openscale-samples/main/IBM%20Cloud/WML/assets/data/historical_data/credit_risk/history_drift_measurement_0.json\n",
                "!wget https://raw.githubusercontent.com/IBM/watson-openscale-samples/main/IBM%20Cloud/WML/assets/data/historical_data/credit_risk/history_drift_measurement_1.json\n",
                "!wget https://raw.githubusercontent.com/IBM/watson-openscale-samples/main/IBM%20Cloud/WML/assets/data/historical_data/credit_risk/history_drift_measurement_2.json\n",
                "!wget https://raw.githubusercontent.com/IBM/watson-openscale-samples/main/IBM%20Cloud/WML/assets/data/historical_data/credit_risk/history_drift_measurement_3.json\n",
                "!wget https://raw.githubusercontent.com/IBM/watson-openscale-samples/main/IBM%20Cloud/WML/assets/data/historical_data/credit_risk/history_drift_measurement_4.json\n",
                "!wget https://raw.githubusercontent.com/IBM/watson-openscale-samples/main/IBM%20Cloud/WML/assets/data/historical_data/credit_risk/history_drift_measurement_5.json\n",
                "!wget https://raw.githubusercontent.com/IBM/watson-openscale-samples/main/IBM%20Cloud/WML/assets/data/historical_data/credit_risk/history_drift_measurement_6.json\n",
                "!ls -lh history_drift_measurement_*.json"
            ]
        },
        {
            "cell_type": "code",
            "execution_count": 104,
            "metadata": {
                "id": "ae815fd4-97b9-48d5-b8de-9e61219f4a64"
            },
            "outputs": [
                {
                    "name": "stdout",
                    "output_type": "stream",
                    "text": [
                        "Loading day 1\n"
                    ]
                },
                {
                    "name": "stdout",
                    "output_type": "stream",
                    "text": [
                        "Daily loading finished.\n",
                        "Loading day 2\n"
                    ]
                },
                {
                    "name": "stdout",
                    "output_type": "stream",
                    "text": [
                        "Daily loading finished.\n",
                        "Loading day 3\n"
                    ]
                },
                {
                    "name": "stdout",
                    "output_type": "stream",
                    "text": [
                        "Daily loading finished.\n",
                        "Loading day 4\n",
                        "Daily loading finished.\n",
                        "Loading day 5\n"
                    ]
                },
                {
                    "name": "stdout",
                    "output_type": "stream",
                    "text": [
                        "Daily loading finished.\n",
                        "Loading day 6\n"
                    ]
                },
                {
                    "name": "stdout",
                    "output_type": "stream",
                    "text": [
                        "Daily loading finished.\n",
                        "Loading day 7\n"
                    ]
                },
                {
                    "name": "stdout",
                    "output_type": "stream",
                    "text": [
                        "Daily loading finished.\n"
                    ]
                }
            ],
            "source": [
                "for day in range(historyDays):\n",
                "    drift_measurements = []\n",
                "\n",
                "    with open(\"history_drift_measurement_{}.json\".format(day), 'r') as history_file:\n",
                "        drift_daily_measurements = json.load(history_file)\n",
                "    print('Loading day', day + 1)\n",
                "\n",
                "    #Historical data contains 8 records per day - each represents 3 hour drift window.\n",
                "    \n",
                "    for nb_window, records in enumerate(drift_daily_measurements):\n",
                "        for record in records:\n",
                "            window_start =  datetime.utcnow() + timedelta(hours=(-(24 * day + (nb_window+1)*3 + 1))) # first_payload_record_timestamp_in_window (oldest)\n",
                "            window_end = datetime.utcnow() + timedelta(hours=(-(24 * day + nb_window*3 + 1)))# last_payload_record_timestamp_in_window (most recent)\n",
                "            #modify start and end time for each record\n",
                "            record['sources'][0]['data']['start'] = window_start.isoformat() + \"Z\"\n",
                "            record['sources'][0]['data']['end'] = window_end.isoformat() + \"Z\"\n",
                "            \n",
                "            \n",
                "            metric = record['metrics'][0]\n",
                "            source = record['sources'][0]\n",
                "\n",
                "            measurement_request = {\"timestamp\": window_start.isoformat() + \"Z\", \"metrics\": [metric], \"sources\": [source]}\n",
                "            \n",
                "            drift_measurements.append(measurement_request)\n",
                "        \n",
                "    response = wos_client.monitor_instances.measurements.add(\n",
                "                                            monitor_instance_id=drift_monitor_instance_id,\n",
                "                                            monitor_measurement_request=drift_measurements).result    \n",
                "\n",
                "    \n",
                "    print(\"Daily loading finished.\")"
            ]
        },
        {
            "cell_type": "markdown",
            "metadata": {
                "id": "1987216c-4254-443e-b33c-77ec0436f3b5"
            },
            "source": [
                "## Additional data to help debugging"
            ]
        },
        {
            "cell_type": "code",
            "execution_count": 105,
            "metadata": {
                "id": "02ba6d51-8303-40d6-84b8-27e4815b1db8",
                "scrolled": true
            },
            "outputs": [
                {
                    "name": "stdout",
                    "output_type": "stream",
                    "text": [
                        "Datamart: 00000000-0000-0000-0000-000000000000\n",
                        "Model: 4a60bd7f-9640-411f-8791-7cb4c56ff918\n",
                        "Deployment: b51ed35d-58a5-4def-8b18-ca3d83185a38\n"
                    ]
                }
            ],
            "source": [
                "print('Datamart:', data_mart_id)\n",
                "print('Model:', model_uid)\n",
                "print('Deployment:', ai_func_deployment_uid)"
            ]
        },
        {
            "cell_type": "markdown",
            "metadata": {
                "id": "ba17f3b7-98eb-4da1-a3b2-10f5977aa1c4"
            },
            "source": [
                "## Identify transactions for Explainability"
            ]
        },
        {
            "cell_type": "markdown",
            "metadata": {
                "id": "b3b8e963-a64a-4415-9ba5-63a624e4b03c"
            },
            "source": [
                "Transaction IDs identified by the cells below can be copied and pasted into the Explainability tab of the OpenScale dashboard."
            ]
        },
        {
            "cell_type": "code",
            "execution_count": 106,
            "metadata": {
                "id": "bf869a3f-b925-432e-b73f-ac48f4f9d2ca",
                "scrolled": true
            },
            "outputs": [
                {
                    "data": {
                        "text/html": [
                            "<HTML>\n",
                            "        <body>\n",
                            "            <h3>Data Set d413e6bc-eb6c-4e37-8124-efe5d9de3927 Records</h3>\n",
                            "            <table style='border: 1px solid #dddddd; font-family: Courier'>\n",
                            "                <th style='border: 1px solid #dddddd'>asset_revision</th><th style='border: 1px solid #dddddd'>LoanAmount</th><th style='border: 1px solid #dddddd'>scoring_id</th><th style='border: 1px solid #dddddd'>Sex_IX</th><th style='border: 1px solid #dddddd'>LoanPurpose_IX</th><th style='border: 1px solid #dddddd'>CheckingStatus_IX</th><th style='border: 1px solid #dddddd'>InstallmentPercent</th><th style='border: 1px solid #dddddd'>ExistingSavings</th><th style='border: 1px solid #dddddd'>scoring_timestamp</th><th style='border: 1px solid #dddddd'>prediction_probability</th><th style='border: 1px solid #dddddd'>features</th><th style='border: 1px solid #dddddd'>CheckingStatus</th><th style='border: 1px solid #dddddd'>LoanPurpose</th><th style='border: 1px solid #dddddd'>label</th><th style='border: 1px solid #dddddd'>predictedLabel</th><th style='border: 1px solid #dddddd'>OwnsProperty_IX</th><th style='border: 1px solid #dddddd'>prediction</th><th style='border: 1px solid #dddddd'>Job</th><th style='border: 1px solid #dddddd'>InstallmentPlans</th><th style='border: 1px solid #dddddd'>ExistingSavings_IX</th><th style='border: 1px solid #dddddd'>CreditHistory_IX</th><th style='border: 1px solid #dddddd'>OthersOnLoan</th><th style='border: 1px solid #dddddd'>LoanDuration</th><th style='border: 1px solid #dddddd'>Age</th><th style='border: 1px solid #dddddd'>CreditHistory</th><th style='border: 1px solid #dddddd'>InstallmentPlans_IX</th><th style='border: 1px solid #dddddd'>CurrentResidenceDuration</th><th style='border: 1px solid #dddddd'>Telephone_IX</th><th style='border: 1px solid #dddddd'>EmploymentDuration_IX</th><th style='border: 1px solid #dddddd'>Job_IX</th><th style='border: 1px solid #dddddd'>ForeignWorker_IX</th><th style='border: 1px solid #dddddd'>ForeignWorker</th><th style='border: 1px solid #dddddd'>Housing</th><th style='border: 1px solid #dddddd'>Housing_IX</th><th style='border: 1px solid #dddddd'>ExistingCreditsCount</th><th style='border: 1px solid #dddddd'>deployment_id</th><th style='border: 1px solid #dddddd'>rawPrediction</th><th style='border: 1px solid #dddddd'>Telephone</th><th style='border: 1px solid #dddddd'>OthersOnLoan_IX</th><th style='border: 1px solid #dddddd'>Sex</th><th style='border: 1px solid #dddddd'>Dependents</th><th style='border: 1px solid #dddddd'>OwnsProperty</th><th style='border: 1px solid #dddddd'>EmploymentDuration</th><th style='border: 1px solid #dddddd'>probability</th>\n",
                            "                <tr><td style='border: 1px solid #dddddd'>None</td><td style='border: 1px solid #dddddd'>4652</td><td style='border: 1px solid #dddddd'>c9876b10-f190-475e-b570-829e7266231d-1</td><td style='border: 1px solid #dddddd'>0.0</td><td style='border: 1px solid #dddddd'>4.0</td><td style='border: 1px solid #dddddd'>0.0</td><td style='border: 1px solid #dddddd'>2</td><td style='border: 1px solid #dddddd'>unknown</td><td style='border: 1px solid #dddddd'>2024-09-06T09:37:37.509Z</td><td style='border: 1px solid #dddddd'>0.5465858822615995</td><td style='border: 1px solid #dddddd'>[20, [2, 3, 7, 11, 13, 14, 15, 16, 17, 18, 19], [4.0, 4.0, 1.0, 1.0, 33.0, 4652.0, 2.0, 2.0, 40.0, 2.0, 1.0]]</td><td style='border: 1px solid #dddddd'>no_checking</td><td style='border: 1px solid #dddddd'>appliances</td><td style='border: 1px solid #dddddd'>0.0</td><td style='border: 1px solid #dddddd'>No Risk</td><td style='border: 1px solid #dddddd'>1.0</td><td style='border: 1px solid #dddddd'>0.0</td><td style='border: 1px solid #dddddd'>skilled</td><td style='border: 1px solid #dddddd'>none</td><td style='border: 1px solid #dddddd'>4.0</td><td style='border: 1px solid #dddddd'>0.0</td><td style='border: 1px solid #dddddd'>none</td><td style='border: 1px solid #dddddd'>33</td><td style='border: 1px solid #dddddd'>40</td><td style='border: 1px solid #dddddd'>prior_payments_delayed</td><td style='border: 1px solid #dddddd'>0.0</td><td style='border: 1px solid #dddddd'>2</td><td style='border: 1px solid #dddddd'>1.0</td><td style='border: 1px solid #dddddd'>0.0</td><td style='border: 1px solid #dddddd'>0.0</td><td style='border: 1px solid #dddddd'>0.0</td><td style='border: 1px solid #dddddd'>yes</td><td style='border: 1px solid #dddddd'>own</td><td style='border: 1px solid #dddddd'>0.0</td><td style='border: 1px solid #dddddd'>2</td><td style='border: 1px solid #dddddd'>b51ed35d-58a5-4def-8b18-ca3d83185a38</td><td style='border: 1px solid #dddddd'>[10.931717645231991, 9.068282354768009]</td><td style='border: 1px solid #dddddd'>yes</td><td style='border: 1px solid #dddddd'>0.0</td><td style='border: 1px solid #dddddd'>male</td><td style='border: 1px solid #dddddd'>1</td><td style='border: 1px solid #dddddd'>car_other</td><td style='border: 1px solid #dddddd'>1_to_4</td><td style='border: 1px solid #dddddd'>[0.5465858822615995, 0.45341411773840046]</td></tr><tr><td style='border: 1px solid #dddddd'>None</td><td style='border: 1px solid #dddddd'>250</td><td style='border: 1px solid #dddddd'>c9876b10-f190-475e-b570-829e7266231d-10</td><td style='border: 1px solid #dddddd'>0.0</td><td style='border: 1px solid #dddddd'>0.0</td><td style='border: 1px solid #dddddd'>2.0</td><td style='border: 1px solid #dddddd'>1</td><td style='border: 1px solid #dddddd'>less_100</td><td style='border: 1px solid #dddddd'>2024-09-06T09:37:37.509Z</td><td style='border: 1px solid #dddddd'>0.9149100675246604</td><td style='border: 1px solid #dddddd'>[2.0, 3.0, 0.0, 0.0, 3.0, 0.0, 0.0, 2.0, 2.0, 0.0, 3.0, 0.0, 0.0, 5.0, 250.0, 1.0, 2.0, 33.0, 1.0, 1.0]</td><td style='border: 1px solid #dddddd'>0_to_200</td><td style='border: 1px solid #dddddd'>car_new</td><td style='border: 1px solid #dddddd'>0.0</td><td style='border: 1px solid #dddddd'>No Risk</td><td style='border: 1px solid #dddddd'>2.0</td><td style='border: 1px solid #dddddd'>0.0</td><td style='border: 1px solid #dddddd'>unemployed</td><td style='border: 1px solid #dddddd'>bank</td><td style='border: 1px solid #dddddd'>0.0</td><td style='border: 1px solid #dddddd'>3.0</td><td style='border: 1px solid #dddddd'>none</td><td style='border: 1px solid #dddddd'>5</td><td style='border: 1px solid #dddddd'>33</td><td style='border: 1px solid #dddddd'>all_credits_paid_back</td><td style='border: 1px solid #dddddd'>2.0</td><td style='border: 1px solid #dddddd'>2</td><td style='border: 1px solid #dddddd'>0.0</td><td style='border: 1px solid #dddddd'>3.0</td><td style='border: 1px solid #dddddd'>3.0</td><td style='border: 1px solid #dddddd'>0.0</td><td style='border: 1px solid #dddddd'>yes</td><td style='border: 1px solid #dddddd'>own</td><td style='border: 1px solid #dddddd'>0.0</td><td style='border: 1px solid #dddddd'>1</td><td style='border: 1px solid #dddddd'>b51ed35d-58a5-4def-8b18-ca3d83185a38</td><td style='border: 1px solid #dddddd'>[18.298201350493205, 1.7017986495067932]</td><td style='border: 1px solid #dddddd'>none</td><td style='border: 1px solid #dddddd'>0.0</td><td style='border: 1px solid #dddddd'>male</td><td style='border: 1px solid #dddddd'>1</td><td style='border: 1px solid #dddddd'>real_estate</td><td style='border: 1px solid #dddddd'>less_1</td><td style='border: 1px solid #dddddd'>[0.9149100675246604, 0.08508993247533968]</td></tr><tr><td style='border: 1px solid #dddddd'>None</td><td style='border: 1px solid #dddddd'>250</td><td style='border: 1px solid #dddddd'>c9876b10-f190-475e-b570-829e7266231d-100</td><td style='border: 1px solid #dddddd'>0.0</td><td style='border: 1px solid #dddddd'>0.0</td><td style='border: 1px solid #dddddd'>1.0</td><td style='border: 1px solid #dddddd'>1</td><td style='border: 1px solid #dddddd'>less_100</td><td style='border: 1px solid #dddddd'>2024-09-06T09:37:37.509Z</td><td style='border: 1px solid #dddddd'>0.9176227997101503</td><td style='border: 1px solid #dddddd'>[20, [0, 1, 4, 8, 9, 13, 14, 15, 16, 17, 18, 19], [1.0, 3.0, 4.0, 1.0, 1.0, 10.0, 250.0, 1.0, 1.0, 28.0, 1.0, 1.0]]</td><td style='border: 1px solid #dddddd'>less_0</td><td style='border: 1px solid #dddddd'>car_new</td><td style='border: 1px solid #dddddd'>0.0</td><td style='border: 1px solid #dddddd'>No Risk</td><td style='border: 1px solid #dddddd'>0.0</td><td style='border: 1px solid #dddddd'>0.0</td><td style='border: 1px solid #dddddd'>skilled</td><td style='border: 1px solid #dddddd'>stores</td><td style='border: 1px solid #dddddd'>0.0</td><td style='border: 1px solid #dddddd'>3.0</td><td style='border: 1px solid #dddddd'>none</td><td style='border: 1px solid #dddddd'>10</td><td style='border: 1px solid #dddddd'>28</td><td style='border: 1px solid #dddddd'>all_credits_paid_back</td><td style='border: 1px solid #dddddd'>1.0</td><td style='border: 1px solid #dddddd'>1</td><td style='border: 1px solid #dddddd'>0.0</td><td style='border: 1px solid #dddddd'>4.0</td><td style='border: 1px solid #dddddd'>0.0</td><td style='border: 1px solid #dddddd'>0.0</td><td style='border: 1px solid #dddddd'>yes</td><td style='border: 1px solid #dddddd'>rent</td><td style='border: 1px solid #dddddd'>1.0</td><td style='border: 1px solid #dddddd'>1</td><td style='border: 1px solid #dddddd'>b51ed35d-58a5-4def-8b18-ca3d83185a38</td><td style='border: 1px solid #dddddd'>[18.352455994203005, 1.6475440057969937]</td><td style='border: 1px solid #dddddd'>none</td><td style='border: 1px solid #dddddd'>0.0</td><td style='border: 1px solid #dddddd'>male</td><td style='border: 1px solid #dddddd'>1</td><td style='border: 1px solid #dddddd'>savings_insurance</td><td style='border: 1px solid #dddddd'>unemployed</td><td style='border: 1px solid #dddddd'>[0.9176227997101503, 0.08237720028984968]</td></tr><tr><td style='border: 1px solid #dddddd'>None</td><td style='border: 1px solid #dddddd'>9094</td><td style='border: 1px solid #dddddd'>c9876b10-f190-475e-b570-829e7266231d-101</td><td style='border: 1px solid #dddddd'>0.0</td><td style='border: 1px solid #dddddd'>10.0</td><td style='border: 1px solid #dddddd'>0.0</td><td style='border: 1px solid #dddddd'>4</td><td style='border: 1px solid #dddddd'>greater_1000</td><td style='border: 1px solid #dddddd'>2024-09-06T09:37:37.509Z</td><td style='border: 1px solid #dddddd'>0.619015287312167</td><td style='border: 1px solid #dddddd'>[20, [2, 3, 4, 7, 13, 14, 15, 16, 17, 18, 19], [10.0, 3.0, 2.0, 3.0, 31.0, 9094.0, 4.0, 3.0, 44.0, 2.0, 1.0]]</td><td style='border: 1px solid #dddddd'>no_checking</td><td style='border: 1px solid #dddddd'>other</td><td style='border: 1px solid #dddddd'>0.0</td><td style='border: 1px solid #dddddd'>Risk</td><td style='border: 1px solid #dddddd'>3.0</td><td style='border: 1px solid #dddddd'>1.0</td><td style='border: 1px solid #dddddd'>skilled</td><td style='border: 1px solid #dddddd'>none</td><td style='border: 1px solid #dddddd'>3.0</td><td style='border: 1px solid #dddddd'>0.0</td><td style='border: 1px solid #dddddd'>none</td><td style='border: 1px solid #dddddd'>31</td><td style='border: 1px solid #dddddd'>44</td><td style='border: 1px solid #dddddd'>prior_payments_delayed</td><td style='border: 1px solid #dddddd'>0.0</td><td style='border: 1px solid #dddddd'>3</td><td style='border: 1px solid #dddddd'>0.0</td><td style='border: 1px solid #dddddd'>2.0</td><td style='border: 1px solid #dddddd'>0.0</td><td style='border: 1px solid #dddddd'>0.0</td><td style='border: 1px solid #dddddd'>yes</td><td style='border: 1px solid #dddddd'>own</td><td style='border: 1px solid #dddddd'>0.0</td><td style='border: 1px solid #dddddd'>2</td><td style='border: 1px solid #dddddd'>b51ed35d-58a5-4def-8b18-ca3d83185a38</td><td style='border: 1px solid #dddddd'>[7.61969425375666, 12.38030574624334]</td><td style='border: 1px solid #dddddd'>none</td><td style='border: 1px solid #dddddd'>0.0</td><td style='border: 1px solid #dddddd'>male</td><td style='border: 1px solid #dddddd'>1</td><td style='border: 1px solid #dddddd'>unknown</td><td style='border: 1px solid #dddddd'>greater_7</td><td style='border: 1px solid #dddddd'>[0.380984712687833, 0.619015287312167]</td></tr><tr><td style='border: 1px solid #dddddd'>None</td><td style='border: 1px solid #dddddd'>2074</td><td style='border: 1px solid #dddddd'>c9876b10-f190-475e-b570-829e7266231d-102</td><td style='border: 1px solid #dddddd'>0.0</td><td style='border: 1px solid #dddddd'>0.0</td><td style='border: 1px solid #dddddd'>0.0</td><td style='border: 1px solid #dddddd'>4</td><td style='border: 1px solid #dddddd'>100_to_500</td><td style='border: 1px solid #dddddd'>2024-09-06T09:37:37.509Z</td><td style='border: 1px solid #dddddd'>0.5159135280965452</td><td style='border: 1px solid #dddddd'>[20, [3, 4, 7, 11, 13, 14, 15, 16, 17, 18, 19], [1.0, 2.0, 1.0, 1.0, 8.0, 2074.0, 4.0, 3.0, 37.0, 2.0, 1.0]]</td><td style='border: 1px solid #dddddd'>no_checking</td><td style='border: 1px solid #dddddd'>car_new</td><td style='border: 1px solid #dddddd'>0.0</td><td style='border: 1px solid #dddddd'>Risk</td><td style='border: 1px solid #dddddd'>1.0</td><td style='border: 1px solid #dddddd'>1.0</td><td style='border: 1px solid #dddddd'>skilled</td><td style='border: 1px solid #dddddd'>none</td><td style='border: 1px solid #dddddd'>1.0</td><td style='border: 1px solid #dddddd'>0.0</td><td style='border: 1px solid #dddddd'>none</td><td style='border: 1px solid #dddddd'>8</td><td style='border: 1px solid #dddddd'>37</td><td style='border: 1px solid #dddddd'>prior_payments_delayed</td><td style='border: 1px solid #dddddd'>0.0</td><td style='border: 1px solid #dddddd'>3</td><td style='border: 1px solid #dddddd'>1.0</td><td style='border: 1px solid #dddddd'>2.0</td><td style='border: 1px solid #dddddd'>0.0</td><td style='border: 1px solid #dddddd'>0.0</td><td style='border: 1px solid #dddddd'>yes</td><td style='border: 1px solid #dddddd'>own</td><td style='border: 1px solid #dddddd'>0.0</td><td style='border: 1px solid #dddddd'>2</td><td style='border: 1px solid #dddddd'>b51ed35d-58a5-4def-8b18-ca3d83185a38</td><td style='border: 1px solid #dddddd'>[9.681729438069096, 10.318270561930904]</td><td style='border: 1px solid #dddddd'>yes</td><td style='border: 1px solid #dddddd'>0.0</td><td style='border: 1px solid #dddddd'>male</td><td style='border: 1px solid #dddddd'>1</td><td style='border: 1px solid #dddddd'>car_other</td><td style='border: 1px solid #dddddd'>greater_7</td><td style='border: 1px solid #dddddd'>[0.48408647190345483, 0.5159135280965452]</td></tr>\n",
                            "            </table>\n",
                            "        </body>\n",
                            "        </HTML>"
                        ],
                        "text/plain": [
                            "<IPython.core.display.HTML object>"
                        ]
                    },
                    "metadata": {},
                    "output_type": "display_data"
                }
            ],
            "source": [
                "wos_client.data_sets.show_records(payload_data_set_id, limit=5)"
            ]
        },
        {
            "cell_type": "markdown",
            "metadata": {
                "id": "9bb2868e-25ec-4ee1-bb51-12c3df03e580"
            },
            "source": [
                "## Congratulations!\n",
                "\n",
                "You have finished the hands-on lab for IBM Watson OpenScale. You can now view the OpenScale Dashboard: (https://url-to-your-cp4d-cluster/aiopenscale). Click on the tile for the German Credit model to see fairness, accuracy, and performance monitors. Click on the timeseries graph to get detailed information on transactions during a specific time window.\n"
            ]
        }
    ],
    "metadata": {
        "kernelspec": {
            "display_name": "Python 3.11",
            "language": "python",
            "name": "python3"
        },
        "language_info": {
            "codemirror_mode": {
                "name": "ipython",
                "version": 3
            },
            "file_extension": ".py",
            "mimetype": "text/x-python",
            "name": "python",
            "nbconvert_exporter": "python",
            "pygments_lexer": "ipython3",
            "version": "3.11.9"
        },
        "varInspector": {
            "cols": {
                "lenName": 16,
                "lenType": 16,
                "lenVar": 40
            },
            "kernels_config": {
                "python": {
                    "delete_cmd_postfix": "",
                    "delete_cmd_prefix": "del ",
                    "library": "var_list.py",
                    "varRefreshCmd": "print(var_dic_list())"
                },
                "r": {
                    "delete_cmd_postfix": ") ",
                    "delete_cmd_prefix": "rm(",
                    "library": "var_list.r",
                    "varRefreshCmd": "cat(var_dic_list()) "
                }
            },
            "types_to_exclude": [
                "module",
                "function",
                "builtin_function_or_method",
                "instance",
                "_Feature"
            ],
            "window_display": false
        }
    },
    "nbformat": 4,
    "nbformat_minor": 4
}
