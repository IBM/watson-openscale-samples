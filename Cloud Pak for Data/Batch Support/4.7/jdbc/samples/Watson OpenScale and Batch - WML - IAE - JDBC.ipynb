{
 "cells": [
  {
   "cell_type": "markdown",
   "metadata": {
    "id": "d17350b8-fc03-4590-b82c-45247db480c2"
   },
   "source": [
    "<img src=\"https://github.com/pmservice/ai-openscale-tutorials/raw/master/notebooks/images/banner.png\" align=\"left\" alt=\"banner\">"
   ]
  },
  {
   "cell_type": "markdown",
   "metadata": {
    "id": "870861f3-a252-4420-be58-c43555ba6709"
   },
   "source": [
    "# IBM Watson OpenScale and Batch Processing:<br>Apache Spark on Cloud Pak for Data with IBM Analytics Engine"
   ]
  },
  {
   "cell_type": "markdown",
   "metadata": {
    "id": "2a7ec409-969b-4150-95c3-3d5d382f8d1b"
   },
   "source": [
    "This notebook must be run in the Python 3.10 runtime environment. It requires Watson OpenScale service credentials.\n",
    "\n",
    "The notebook configures Watson OpenScale to monitor any WML online deployment as a self managed subscription on Openscale. For self managed subscriptions, all the monitors are run as jobs on user provided spark engine. Use the notebook to enable quality, drift, fairness and explainability monitoring and run on-demand evaluations. Before you can run the notebook, you must have the following resources:\n",
    "\n",
    "1. Configuration Archive generated using common configuration notebook [common configuration notebook](https://github.com/IBM/watson-openscale-samples/blob/main/Cloud%20Pak%20for%20Data/Batch%20Support/Configuration%20generation%20for%20OpenScale%20batch%20subscription.ipynb) and pre created WML deployment.\n",
    "2. Payload, feedback, drifted transactions, explanations queue and result tables to be created or validated in an IBM DB2 storage. Please note, some of these maybe optional depending on your use-case."
   ]
  },
  {
   "cell_type": "markdown",
   "metadata": {
    "id": "73404817-1e11-4a82-be59-27523ecb13ec"
   },
   "source": [
    "## Contents\n",
    "\n",
    "* [1. Setup](#setup)\n",
    "* [2. Configure Watson OpenScale](#openscale)\n",
    "* [3. Set up Subscription](#subscription)\n",
    "* [4. Quality monitoring](#quality)\n",
    "* [5. Drift monitoring](#drift)\n",
    "* [6. Fairness monitoring](#fairness)\n",
    "* [7. Explainability monitoring](#explainability)"
   ]
  },
  {
   "cell_type": "markdown",
   "metadata": {
    "id": "fac0f494-87d7-4939-83d7-4e93431f6f2e"
   },
   "source": [
    "## Setup <a name=\"setup\"></a>\n",
    "\n",
    "### Installing Required Libraries\n",
    "\n",
    "First import some of the packages you need to use. After you finish installing the following software packages, restart the kernel.\n",
    "\n",
    "### Import configuration archive/package\n",
    "\n",
    "Configuration archive/package created using configuration notebook will be required to onboard model for monitoring in IBM Watson OpenScale. Provide path location of archive here.\n",
    "\n",
    "Please note if you are executing this notebook in IBM Watson Studio, first upload the configuration archive/package to project and use provided code snippet to download it to local directory of this notebook."
   ]
  },
  {
   "cell_type": "code",
   "execution_count": null,
   "metadata": {
    "id": "7e552f9f-a341-49f9-9ca5-dfb266290b96"
   },
   "outputs": [],
   "source": [
    "import warnings\n",
    "import tarfile\n",
    "warnings.filterwarnings(\"ignore\")\n",
    "%env PIP_DISABLE_PIP_VERSION_CHECK=1\n",
    "\n",
    "# Note: Restart kernel after the dependencies are installed\n",
    "!pip install --upgrade ibm-watson-openscale\n",
    "!pip install \"ibm_wos_utils>=4.7.0\"\n",
    "\n",
    "# # Download \"configuration_archive.tar.gz\" from project to local directory and \n",
    "# extract the artifacts\n",
    "# from ibm_watson_studio_lib import access_project_or_space\n",
    "# wslib = access_project_or_space()\n",
    "# wslib.download_file(\"configuration_archive.tar.gz\")\n",
    "archive_file_path = \"configuration_archive.tar.gz\"\n",
    "with tarfile.open('configuration_archive.tar.gz', \"r:gz\") as tar:\n",
    "    tar.extractall('.')\n",
    "# On unpacking the configuration archive, the files [common_configuration.json, drift_archive.tar.gz, \n",
    "# explainability.tar.gz, fairness_statistics.json] will be extracted to the current directory. \n",
    "# Output may differ depending on which monitors were enabled while running the \n",
    "# common configuration notebook"
   ]
  },
  {
   "cell_type": "code",
   "execution_count": null,
   "metadata": {
    "id": "39e91461-6808-4ea2-833a-27386f70effc"
   },
   "outputs": [],
   "source": [
    "!pip show ibm-watson-openscale"
   ]
  },
  {
   "cell_type": "markdown",
   "metadata": {
    "id": "4773f68f-9b5c-4ff3-8e30-a96d7d0a5663"
   },
   "source": [
    "## Configure credentials\n",
    "\n",
    "Provide your IBM Watson OpenScale credentials in the following cell:"
   ]
  },
  {
   "cell_type": "code",
   "execution_count": null,
   "metadata": {
    "id": "29694224-01ba-4d9a-9f2b-1a49bbeb2aa4"
   },
   "outputs": [],
   "source": [
    "WOS_CREDENTIALS = {\n",
    "    \"url\": \"<cluster-url>\",\n",
    "    \"username\": \"<username>\",\n",
    "    \"password\": \"<password>\",\n",
    "    \"instance_id\": \"<openscale instance id>\"\n",
    "}\n",
    "\n",
    "WML_CREDENTIALS = {\n",
    "    \"url\": \"<wml_url>\",\n",
    "    \"username\": \"<username\",\n",
    "    \"password\": \"<password>\",\n",
    "    \"instance_id\": \"<instance id>\"\n",
    "}"
   ]
  },
  {
   "cell_type": "markdown",
   "metadata": {
    "id": "649315cb-6695-4f80-bd2f-27c476d71759"
   },
   "source": [
    "## Specify model details"
   ]
  },
  {
   "cell_type": "markdown",
   "metadata": {
    "id": "6a3a4542-9a53-4495-b891-b1ecdd263b1d"
   },
   "source": [
    "### Service provider and subscription metadata"
   ]
  },
  {
   "cell_type": "code",
   "execution_count": null,
   "metadata": {
    "id": "e165900d-ef38-4cdb-90d2-3a1f21a6850a"
   },
   "outputs": [],
   "source": [
    "# Service Provider\n",
    "\n",
    "SERVICE_PROVIDER_NAME = \"<service-provider-name>\"\n",
    "SERVICE_PROVIDER_DESCRIPTION = \"<service-provider-description>\"\n",
    "\n",
    "# Subscription\n",
    "\n",
    "SUBSCRIPTION_NAME = \"<subscription-name>\"\n",
    "SUBSCRIPTION_DESCRIPTION = \"<subscription-description>\""
   ]
  },
  {
   "cell_type": "markdown",
   "metadata": {
    "id": "53735200-c9f7-4d7d-a8b8-fad531378264"
   },
   "source": [
    "### IBM Analytics Engine - Spark\n",
    "\n",
    "Make sure that the Apache Spark manager on IBM Analytics Engine is running, and then provide the following details:\n",
    "\n",
    "- IAE_SPARK_DISPLAY_NAME: _Display Name of the Spark instance in IBM Analytics Engine_\n",
    "- IAE_SPARK_JOBS_ENDPOINT: _Spark Jobs Endpoint for IBM Analytics Engine_\n",
    "- IBM_CPD_VOLUME: _IBM Cloud Pak for Data storage volume name_\n",
    "- IBM_CPD_USERNAME: _IBM Cloud Pak for Data username_\n",
    "- IBM_CPD_APIKEY: _IBM Cloud Pak for Data API key_\n",
    "- IAE_SPARK_DESCRIPTION: _Custom description for the Spark instance_"
   ]
  },
  {
   "cell_type": "code",
   "execution_count": null,
   "metadata": {
    "id": "cf906664-ce94-4949-ba9f-d1b163952a60"
   },
   "outputs": [],
   "source": [
    "IAE_SPARK_DISPLAY_NAME = \"<spark-engine-name>\"\n",
    "IAE_SPARK_JOBS_ENDPOINT = \"<spark-job-endpoint-for-ibm-analytics-engine>\"\n",
    "IBM_CPD_VOLUME = \"<ibm-cpd-volume>\"\n",
    "IBM_CPD_USERNAME = \"<ibm-cloud-pak-for-data-username>\"\n",
    "IBM_CPD_APIKEY = \"<ibm-cloud-pak-for-data-apikey>\"\n",
    "IAE_SPARK_NAME = \"<iae-spark-name>\"\n",
    "IAE_SPARK_DESCRIPTION = \"<iae-spark-description>\""
   ]
  },
  {
   "cell_type": "markdown",
   "metadata": {
    "id": "22a1bffa-a98d-47fc-8140-f066d916ef94"
   },
   "source": [
    "#### Provide Spark Resource Settings\n",
    "\n",
    "To configure how much of your Spark Cluster resources this job can consume, edit the following values:\n",
    "\n",
    "- max_num_executors: _Maximum Number of executors to launch for this session_\n",
    "- min_executors: _Minimum Number of executors to launch for this session_\n",
    "- executor_cores: _Number of cores to use for each executor_   \n",
    "- executor_memory: _Amount of memory (in GBs) to use per executor process_\n",
    "- driver_cores: _Number of cores to use for the driver process_\n",
    "- driver_memory: _Amount of memory (in GBs) to use for the driver process_"
   ]
  },
  {
   "cell_type": "code",
   "execution_count": null,
   "metadata": {
    "id": "8991477f-291e-4739-a7d8-40c7a27a02bc"
   },
   "outputs": [],
   "source": [
    "spark_parameters = {\n",
    "    \"max_num_executors\": 1,\n",
    "    \"min_num_executors\": 1,\n",
    "    \"executor_cores\": 1,\n",
    "    \"executor_memory\": 1,\n",
    "    \"driver_cores\": 1,\n",
    "    \"driver_memory\": 1\n",
    "}"
   ]
  },
  {
   "cell_type": "markdown",
   "metadata": {
    "id": "019e35de-29eb-4ac0-bb79-60971590c4b4"
   },
   "source": [
    "### Storage Inputs\n",
    "\n",
    "Please enter a name and description for your JDBC Storage\n",
    "\n",
    "- JDBC_CONNECTION_NAME: _Custom display name for the JDBC Storage Connection_\n",
    "- JDBC_CONNECTION_DESCRIPTION: _Custom description for the JDBC Storage Connection_\n",
    "\n",
    "To connect to your JDBC storage, you must provide the following details:\n",
    "\n",
    " - JDBC_HOST: Hostname of the JDBC Connection\n",
    " - JDBC_PORT: Port of the JDBC Connection\n",
    " - JDBC_USE_SSL: Boolean Flag to indicate whether to use SSL while connecting.\n",
    " - JDBC_SSL_CERTIFICATE: SSL Certificate [Base64 encoded string] of the JDBC Connection. Ignored if JDBC_USE_SSL is False.\n",
    " - JDBC_DRIVER: Class name of the JDBC driver to use to connect.\n",
    " - JDBC_USERNAME: Username of the JDBC Connection\n",
    " - JDBC_PASSWORD: Password of the JDBC Connection\n",
    " - JDBC_DATABASE_NAME: Name of the Database to connect to."
   ]
  },
  {
   "cell_type": "code",
   "execution_count": null,
   "metadata": {
    "id": "5f6f0e05-470f-4805-8345-f43e3a550db9"
   },
   "outputs": [],
   "source": [
    "JDBC_CONNECTION_NAME = \"<jdbc-connection-name>\"\n",
    "JDBC_CONNECTION_DESCRIPTION = \"<jdbc-connection-description>\"\n",
    "\n",
    "JDBC_HOST = \"<Hostname of the JDBC Connection>\"\n",
    "JDBC_PORT = \"<Port of the JDBC Connection>\"\n",
    "JDBC_USE_SSL = \"<Boolean Flag to indicate whether to use SSL while connecting.>\"\n",
    "JDBC_SSL_CERTIFICATE = \"<SSL Certificate [Base64 encoded string] of the JDBC Connection. Ignored if JDBC_USE_SSL is False.>\"\n",
    "JDBC_DRIVER = \"<Class name of the JDBC driver to use to connect.>\"\n",
    "JDBC_USERNAME = \"<Username of the JDBC Connection>\"\n",
    "JDBC_PASSWORD = \"<Password of the JDBC Connection>\"\n",
    "JDBC_DATABASE_NAME = \"<Name of the Database to connect to.>\"\n",
    "\n",
    "JDBC_CONNECTION_NAME = \"jdbc for batch parity\"\n",
    "JDBC_CONNECTION_DESCRIPTION = \"jdbc connection from SDK\""
   ]
  },
  {
   "cell_type": "code",
   "execution_count": null,
   "metadata": {
    "id": "8ab295d2-bc33-4a20-a089-9125f1f02df4"
   },
   "outputs": [],
   "source": [
    "num_partitions_recommended = 12\n",
    "\n",
    "if spark_parameters:\n",
    "    executors = spark_parameters.get(\"max_num_executors\", 2)\n",
    "    cores = spark_parameters.get(\"executor_cores\", 2)\n",
    "    num_partitions_recommended = 2 * executors * cores\n",
    "    \n",
    "print(\"{} is the recommended value for number of partitions in your data. Please change this value as per your data.\".format(num_partitions_recommended))"
   ]
  },
  {
   "cell_type": "markdown",
   "metadata": {
    "id": "07c6829d-0bb9-4a06-bd24-5123032c9ff3"
   },
   "source": [
    "- **PARTITION_COLUMN**: The column to help Spark read and write data using multiple workers in your JDBC storage. This will help improve the performance of your Spark jobs. The default value is set to `wos_partition_column`.\n",
    "- **NUM_PARTITIONS**: The maximum number of partitions that Spark can divide the data into. In JDBC, it also means the maximum number of connections that Spark can make to the JDBC store for reading/writing data. \n",
    "\n",
    "The recommended value is calculated in the above cell as a multiple of total workers allotted for this job. You can use the same value or change it in the next cell."
   ]
  },
  {
   "cell_type": "code",
   "execution_count": null,
   "metadata": {
    "id": "daead1c5-e784-4197-a4c4-69ae6229be14"
   },
   "outputs": [],
   "source": [
    "PARTITION_COLUMN = \"wos_partition_column\"\n",
    "NUM_PARTITIONS = num_partitions_recommended"
   ]
  },
  {
   "cell_type": "markdown",
   "metadata": {
    "id": "aa09e698-bc6a-4d6e-88dd-8ff80b7e5deb"
   },
   "source": [
    "### Feedback table metadata\n",
    "\n",
    "The quality monitor stores metadata in the feedback table. To configure the quality monitor, you must provide the following details. To skip quality monitoring, run the following cell to initialize variables with the value of `None`.\n",
    "\n",
    "- FEEDBACK_DATABASE_NAME: _Database name where feedback table is present_\n",
    "- FEEDBACK_SCHEMA_NAME: _Schema name where feedback table is present_\n",
    "- FEEDBACK_TABLE_NAME: _Name of the feedback table_"
   ]
  },
  {
   "cell_type": "code",
   "execution_count": null,
   "metadata": {
    "id": "c6f5b6ac-d3fd-4c09-be4e-c447ea6ca734"
   },
   "outputs": [],
   "source": [
    "#feedback\n",
    "\n",
    "FEEDBACK_DATABASE_NAME = None\n",
    "FEEDBACK_SCHEMA_NAME = None\n",
    "FEEDBACK_TABLE_NAME = None"
   ]
  },
  {
   "cell_type": "markdown",
   "metadata": {
    "id": "a54d7e91-0efe-42d4-8add-686bfc9fe866"
   },
   "source": [
    "### Payload and drift table metadata\n",
    "\n",
    "The drift monitor stores metadata in the payload and drift tables. To configure the drift monitor, you must provide the following details. To skip drift monitoring, run the following cell to initialize variables with the value of `None`.\n",
    "\n",
    "- PAYLOAD_DATABASE_NAME: _Database name where payload logging table is present_\n",
    "- PAYLOAD_SCHEMA_NAME: _Schema name where payload logging table is present_\n",
    "- PAYLOAD_TABLE_NAME: _Name of the payload logging table_\n",
    "- DRIFT_DATABASE_NAME: _Database name where drifted transactions table is present_\n",
    "- DRIFT_SCHEMA_NAME: _Schema name where drifted transactions table is present_\n",
    "- DRIFT_TABLE_NAME: _Name of the drifted transactions table_"
   ]
  },
  {
   "cell_type": "code",
   "execution_count": null,
   "metadata": {
    "id": "9c6f97cc-8bb3-4d4f-8e1c-a7680b260a96"
   },
   "outputs": [],
   "source": [
    "#payload logging\n",
    "\n",
    "PAYLOAD_DATABASE_NAME = None\n",
    "PAYLOAD_SCHEMA_NAME = None\n",
    "PAYLOAD_TABLE_NAME = None\n",
    "\n",
    "#drift\n",
    "\n",
    "DRIFT_DATABASE_NAME = None\n",
    "DRIFT_SCHEMA_NAME = None\n",
    "DRIFT_TABLE_NAME = None"
   ]
  },
  {
   "cell_type": "markdown",
   "metadata": {
    "id": "80b1f4a7-fc8a-4e4b-b501-505dc0581a9b"
   },
   "source": [
    "### Explainability table metadata\n",
    "\n",
    "The explainability monitor requires the queue and result tables. The payload table can also be used as the queue table. To configure the explainability monitor, you must provide the following details. To skip explainability monitoring, run the following cell to initialize variables with the value of `None`.\n",
    "\n",
    "- EXPLAINABILITY_DATABASE_NAME: _Database name where explanations queue, result tables are present_\n",
    "- EXPLAINABILITY_QUEUE_TABLE_NAME: _Name of the explanations queue table_\n",
    "- EXPLAINABILITY_RESULT_TABLE_NAME: _Name of the explanations result table_"
   ]
  },
  {
   "cell_type": "code",
   "execution_count": null,
   "metadata": {
    "id": "9177418a-daf1-487e-9b91-7222b0781894"
   },
   "outputs": [],
   "source": [
    "#explainability\n",
    "\n",
    "EXPLAINABILITY_DATABASE_NAME = None\n",
    "EXPLAINABILITY_SCHEMA_NAME = None\n",
    "EXPLAINABILITY_QUEUE_TABLE_NAME = None\n",
    "EXPLAINABILITY_RESULT_TABLE_NAME = None"
   ]
  },
  {
   "cell_type": "markdown",
   "metadata": {
    "id": "02d2be2f-25e3-49fa-9146-39702be2b99b"
   },
   "source": [
    "# 2. Configure Watson OpenScale <a name=\"openscale\"></a>"
   ]
  },
  {
   "cell_type": "markdown",
   "metadata": {
    "id": "3750bb94-d2ea-46ed-a616-c408ff95a88e"
   },
   "source": [
    "### Import the required libraries and set up the Watson OpenScale client"
   ]
  },
  {
   "cell_type": "code",
   "execution_count": null,
   "metadata": {
    "id": "1e4e1882-7bcf-495c-8b01-da680dac49c2"
   },
   "outputs": [],
   "source": [
    "from ibm_cloud_sdk_core.authenticators import CloudPakForDataAuthenticator\n",
    "from ibm_watson_openscale import *\n",
    "from ibm_watson_openscale.supporting_classes.enums import *\n",
    "from ibm_watson_openscale.supporting_classes import *\n",
    "from ibm_watson_openscale.base_classes.watson_open_scale_v2 import *\n",
    "\n",
    "authenticator = CloudPakForDataAuthenticator(\n",
    "        url=WOS_CREDENTIALS[\"url\"],\n",
    "        username=WOS_CREDENTIALS[\"username\"],\n",
    "        password=WOS_CREDENTIALS[\"password\"],\n",
    "        disable_ssl_verification=True\n",
    "    )\n",
    "\n",
    "wos_client = APIClient(authenticator=authenticator, service_url=WOS_CREDENTIALS[\"url\"], service_instance_id=WOS_CREDENTIALS[\"instance_id\"])\n",
    "data_mart_id=WOS_CREDENTIALS[\"instance_id\"]"
   ]
  },
  {
   "cell_type": "markdown",
   "metadata": {
    "id": "37dfefab-9160-4167-b94a-4a1822901f8e"
   },
   "source": [
    "### Display Watson OpenScale datamart details"
   ]
  },
  {
   "cell_type": "code",
   "execution_count": null,
   "metadata": {
    "id": "b824d0c8-fa23-46df-b95f-237648a13c5d"
   },
   "outputs": [],
   "source": [
    "wos_client.data_marts.show()"
   ]
  },
  {
   "cell_type": "markdown",
   "metadata": {
    "id": "962eee13-c628-4db8-a44e-9c0224677fe6"
   },
   "source": [
    "### Create a service provider"
   ]
  },
  {
   "cell_type": "code",
   "execution_count": null,
   "metadata": {
    "id": "e33ecbac-fa34-4615-b504-4d5be2201f5f"
   },
   "outputs": [],
   "source": [
    "# Delete existing service provider with the same name as provided\n",
    "\n",
    "service_providers = wos_client.service_providers.list().result.service_providers\n",
    "for provider in service_providers:\n",
    "    if provider.entity.name == SERVICE_PROVIDER_NAME:\n",
    "        wos_client.service_providers.delete(service_provider_id=provider.metadata.id)\n",
    "        break"
   ]
  },
  {
   "cell_type": "code",
   "execution_count": null,
   "metadata": {
    "id": "24da42ef-fe8d-483d-967e-8b9323fd3964"
   },
   "outputs": [],
   "source": [
    "# Add Service Provider\n",
    "\n",
    "added_service_provider_result = wos_client.service_providers.add(\n",
    "        name=SERVICE_PROVIDER_NAME,\n",
    "        description=SERVICE_PROVIDER_DESCRIPTION,\n",
    "        service_type=ServiceTypes.WATSON_MACHINE_LEARNING,\n",
    "        credentials=WML_CREDENTIALS,\n",
    "        operational_space_id=\"production\",\n",
    "        background_mode=False\n",
    "    ).result\n",
    "\n",
    "service_provider_id = added_service_provider_result.metadata.id\n",
    "\n",
    "wos_client.service_providers.show()"
   ]
  },
  {
   "cell_type": "code",
   "execution_count": null,
   "metadata": {
    "id": "0d16e207-7f6b-4e80-8760-a6ccb3f1cfd1"
   },
   "outputs": [],
   "source": [
    "service_provide_details = wos_client.service_providers.get(service_provider_id=service_provider_id).result\n",
    "print(service_provide_details)"
   ]
  },
  {
   "cell_type": "markdown",
   "metadata": {
    "id": "91745862-5b93-4772-886c-04175d77c413"
   },
   "source": [
    "### Create integrated systems for Spark Engine and JDBC Storage"
   ]
  },
  {
   "cell_type": "code",
   "execution_count": null,
   "metadata": {
    "id": "2cf15f52-495f-4c75-b322-afd53fef2ed4"
   },
   "outputs": [],
   "source": [
    "# Delete existing spark and jdbc integrated systems if present\n",
    "\n",
    "integrated_systems = IntegratedSystems(wos_client).list().result.integrated_systems\n",
    "\n",
    "for system in integrated_systems:\n",
    "    if system.entity.name in (IAE_SPARK_NAME, JDBC_CONNECTION_NAME):\n",
    "        print(\"Deleting integrated system {}\".format(system.entity.name))\n",
    "        IntegratedSystems(wos_client).delete(integrated_system_id=system.metadata.id)"
   ]
  },
  {
   "cell_type": "markdown",
   "metadata": {
    "id": "6904cfab-73c2-4866-9b50-8f2ff9881d82"
   },
   "source": [
    "#### Spark Engine"
   ]
  },
  {
   "cell_type": "code",
   "execution_count": null,
   "metadata": {
    "id": "cbc90f79-4d7a-4741-905e-10cd5625f1af"
   },
   "outputs": [],
   "source": [
    "spark_integrated_system = IntegratedSystems(wos_client).add(\n",
    "    name=IAE_SPARK_NAME,\n",
    "    description=IAE_SPARK_DESCRIPTION,\n",
    "    type=\"spark\",\n",
    "    credentials={\n",
    "        \"username\": IBM_CPD_USERNAME,\n",
    "        \"apikey\": IBM_CPD_APIKEY\n",
    "    },\n",
    "    connection={\n",
    "        \"display_name\": IAE_SPARK_DISPLAY_NAME,\n",
    "        \"endpoint\": IAE_SPARK_JOBS_ENDPOINT,\n",
    "        \"volume\": IBM_CPD_VOLUME,\n",
    "        \"location_type\": \"cpd_iae\"\n",
    "    }\n",
    ").result\n",
    "\n",
    "spark_integrated_system_id = spark_integrated_system.metadata.id\n",
    "print(spark_integrated_system)"
   ]
  },
  {
   "cell_type": "markdown",
   "metadata": {
    "id": "8a2d91c4-c738-42b4-b70a-d65b1b3f6008"
   },
   "source": [
    "#### JDBC Storage"
   ]
  },
  {
   "cell_type": "code",
   "execution_count": null,
   "metadata": {
    "id": "ed95612e-dca7-47e2-b854-a4a3bcac8d71"
   },
   "outputs": [],
   "source": [
    "jdbc_url = \"jdbc:db2://{}:{}/{}\".format(JDBC_HOST, JDBC_PORT, JDBC_DATABASE_NAME)\n",
    "\n",
    "jdbc_integrated_system = IntegratedSystems(wos_client).add(\n",
    "    name=JDBC_CONNECTION_NAME,\n",
    "    description=JDBC_CONNECTION_DESCRIPTION,\n",
    "    type=\"jdbc\",\n",
    "    credentials={\n",
    "        \"username\": JDBC_USERNAME,\n",
    "        \"password\": JDBC_PASSWORD,\n",
    "        \"jdbc_url\": jdbc_url\n",
    "    },\n",
    "    connection={\n",
    "        \"location_type\": \"jdbc\",\n",
    "        \"db_driver\": JDBC_DRIVER,\n",
    "        \"use_ssl\": JDBC_USE_SSL,\n",
    "        \"certificate\": JDBC_SSL_CERTIFICATE,\n",
    "    }\n",
    ").result\n",
    "\n",
    "jdbc_integrated_system_id=jdbc_integrated_system.metadata.id\n",
    "print(jdbc_integrated_system)"
   ]
  },
  {
   "cell_type": "markdown",
   "metadata": {
    "id": "3cb16775-9380-48ac-8710-c5dd28fe31c8"
   },
   "source": [
    "# 3. Set up a subscription<a name=\"subscription\"></a>"
   ]
  },
  {
   "cell_type": "code",
   "execution_count": null,
   "metadata": {
    "id": "136e6280-17fa-4ca9-812d-8ab33ce960b7"
   },
   "outputs": [],
   "source": [
    "# Delete an existing subscription with the provided name\n",
    "\n",
    "subscriptions = wos_client.subscriptions.list().result.subscriptions\n",
    "for sub in subscriptions:\n",
    "    if sub.entity.deployment.name == SUBSCRIPTION_NAME:\n",
    "        wos_client.subscriptions.delete(subscription_id=sub.metadata.id)\n",
    "        break\n",
    "\n",
    "# Display all subscriptions\n",
    "wos_client.subscriptions.show()"
   ]
  },
  {
   "cell_type": "markdown",
   "metadata": {
    "id": "adf5930c-3ce5-4dbf-83bc-e3a6e4f05bb3"
   },
   "source": [
    "### Set subscription metadata\n",
    "\n",
    "In the following cell, we expect you extracted Configuration Archive to current directory and it contains common_configuration.json. If not true, please update path to correct location. After you edit the path information, run the cell to set the asset details and properties, the deployment details, the analytics engine details, and to add the required tables as data sources."
   ]
  },
  {
   "cell_type": "code",
   "execution_count": null,
   "metadata": {
    "id": "da9d370f-dff2-4703-972d-0b0ac72d1776"
   },
   "outputs": [],
   "source": [
    "import uuid\n",
    "\n",
    "# Provide the WML deployment io and space d\n",
    "deployment_uid = \"<wml_deployment_id>\"\n",
    "space_id = \"<wml_space_id>\"\n",
    "\n",
    "common_configuration = None\n",
    "with open(\"common_configuration.json\", \"r\") as fp:\n",
    "    configuration_json = json.load(fp)\n",
    "    common_configuration = configuration_json.get(\"common_configuration\")\n",
    "    if common_configuration is None:\n",
    "        raise Exception(\"Please provide the correct path to the common configuration JSON\")\n",
    "        \n",
    "asset_deployment_details = wos_client.service_providers.list_assets(\n",
    "    data_mart_id=data_mart_id, service_provider_id=service_provider_id, \n",
    "    deployment_id = deployment_uid, deployment_space_id = space_id).result['resources'][0]\n",
    "\n",
    "model_asset_details_from_deployment = wos_client.service_providers.get_deployment_asset(\n",
    "    data_mart_id=data_mart_id,service_provider_id=service_provider_id,deployment_id=deployment_uid,\n",
    "    deployment_space_id=space_id)\n",
    "\n",
    "scoring_endpoint = ScoringEndpointRequest(\n",
    "    url=model_asset_details_from_deployment['entity']['scoring_endpoint']['url'] )\n",
    "\n",
    "    \n",
    "# Set asset details\n",
    "asset = Asset(\n",
    "    asset_id=model_asset_details_from_deployment[\"entity\"][\"asset\"][\"asset_id\"],\n",
    "    name=model_asset_details_from_deployment[\"entity\"][\"asset\"][\"name\"],\n",
    "    url=model_asset_details_from_deployment[\"entity\"][\"asset\"][\"url\"],\n",
    "    asset_type=AssetTypes.MODEL,\n",
    "    input_data_type=InputDataType.STRUCTURED,\n",
    "    problem_type=common_configuration.get(\"problem_type\") if common_configuration.get(\"problem_type\") else common_configuration.get(\"model_type\")\n",
    ")\n",
    "\n",
    "# Set deployment details\n",
    "asset_deployment = AssetDeploymentRequest(\n",
    "    deployment_id=asset_deployment_details['metadata']['guid'],\n",
    "    name=asset_deployment_details['entity']['name'],\n",
    "    deployment_type= DeploymentTypes.ONLINE,\n",
    "    url=asset_deployment_details['entity']['scoring_endpoint']['url'],\n",
    "    scoring_endpoint=scoring_endpoint\n",
    ")\n",
    "\n",
    "probability_fields = common_configuration.get(\"probability_fields\") if common_configuration.get(\"probability_fields\") else [common_configuration[\"probability\"]]\n",
    "\n",
    "# Set asset properties \n",
    "asset_properties_request = AssetPropertiesRequest(\n",
    "    label_column=common_configuration[\"label_column\"],\n",
    "    probability_fields=probability_fields, # comment out this line for regression models as probability_fields is not applicable\n",
    "    prediction_field=common_configuration[\"prediction\"],\n",
    "    feature_fields=common_configuration[\"feature_columns\"],\n",
    "    categorical_fields=common_configuration[\"categorical_columns\"]\n",
    ")"
   ]
  },
  {
   "cell_type": "code",
   "execution_count": null,
   "metadata": {
    "id": "1b597de121ca4b7793527fec9d83b21b"
   },
   "outputs": [],
   "source": [
    "# Set analytics engine details\n",
    "analytics_engine = AnalyticsEngine(\n",
    "    type=\"spark\",\n",
    "    integrated_system_id=spark_integrated_system_id,\n",
    "    parameters = spark_parameters\n",
    ")\n",
    "\n",
    "# Add selected tables as data sources\n",
    "data_sources = []\n",
    "if FEEDBACK_DATABASE_NAME is not None and FEEDBACK_TABLE_NAME is not None:\n",
    "    feedback_data_source = DataSource(\n",
    "        type=\"feedback\", \n",
    "        database_name=FEEDBACK_DATABASE_NAME,\n",
    "        schema_name=FEEDBACK_SCHEMA_NAME,\n",
    "        table_name=FEEDBACK_TABLE_NAME,\n",
    "        connection=DataSourceConnection(\n",
    "            type=\"jdbc\", \n",
    "            integrated_system_id=jdbc_integrated_system_id\n",
    "        ),\n",
    "        parameters={\n",
    "            \"partition_column\": PARTITION_COLUMN,\n",
    "            \"num_partitions\": NUM_PARTITIONS\n",
    "        },\n",
    "        auto_create=True, #set it to False if table already exists\n",
    "        status=DataSourceStatus(state=\"new\")\n",
    "    )\n",
    "    data_sources.append(feedback_data_source)\n",
    "    \n",
    "if PAYLOAD_DATABASE_NAME is not None and PAYLOAD_TABLE_NAME is not None \\\n",
    "    and DRIFT_DATABASE_NAME is not None and DRIFT_TABLE_NAME is not None:\n",
    "    payload_logging_data_source = DataSource(\n",
    "        type=\"payload\", \n",
    "        database_name=PAYLOAD_DATABASE_NAME,\n",
    "        schema_name=PAYLOAD_SCHEMA_NAME,\n",
    "        table_name=PAYLOAD_TABLE_NAME,\n",
    "        connection=DataSourceConnection(\n",
    "            type=\"jdbc\", \n",
    "            integrated_system_id=jdbc_integrated_system_id\n",
    "        ),\n",
    "        parameters={\n",
    "            \"partition_column\": PARTITION_COLUMN,\n",
    "            \"num_partitions\": NUM_PARTITIONS\n",
    "        },\n",
    "        auto_create=True, #set it to False if table already exists\n",
    "        status=DataSourceStatus(state=\"new\")\n",
    "    )\n",
    "    \n",
    "    drifted_transactions_table_data_source = DataSource(\n",
    "        type=\"drift\", \n",
    "        database_name=DRIFT_DATABASE_NAME,\n",
    "        schema_name=DRIFT_SCHEMA_NAME,\n",
    "        table_name=DRIFT_TABLE_NAME,\n",
    "        connection=DataSourceConnection(\n",
    "            type=\"jdbc\", \n",
    "            integrated_system_id=jdbc_integrated_system_id\n",
    "        ),\n",
    "        parameters={},\n",
    "        auto_create=True, #set it to False if table already exists\n",
    "        status=DataSourceStatus(state=\"new\")\n",
    "    )\n",
    "    \n",
    "    data_sources.append(payload_logging_data_source)\n",
    "    data_sources.append(drifted_transactions_table_data_source)\n",
    "\n",
    "if EXPLAINABILITY_DATABASE_NAME is not None and \\\n",
    "    EXPLAINABILITY_QUEUE_TABLE_NAME is not None and \\\n",
    "        EXPLAINABILITY_RESULT_TABLE_NAME is not None:\n",
    "    explainability_queue_data_source = DataSource(\n",
    "        type=\"explain_queue\", \n",
    "        database_name=EXPLAINABILITY_DATABASE_NAME,\n",
    "        schema_name=EXPLAINABILITY_SCHEMA_NAME,\n",
    "        table_name=EXPLAINABILITY_QUEUE_TABLE_NAME,\n",
    "        connection=DataSourceConnection(\n",
    "            type=\"jdbc\", \n",
    "            integrated_system_id=jdbc_integrated_system_id\n",
    "        ),\n",
    "        parameters={\n",
    "            \"partition_column\": PARTITION_COLUMN,\n",
    "            \"num_partitions\": NUM_PARTITIONS\n",
    "        },\n",
    "        auto_create=True, #set it to False if table already exists\n",
    "        status=DataSourceStatus(state=\"new\")\n",
    "    )\n",
    "    \n",
    "    data_sources.append(explainability_queue_data_source)\n",
    "\n",
    "    explainability_result_data_source = DataSource(\n",
    "        type=\"explain_result\", \n",
    "        database_name=EXPLAINABILITY_DATABASE_NAME,\n",
    "        schema_name=EXPLAINABILITY_SCHEMA_NAME,\n",
    "        table_name=EXPLAINABILITY_RESULT_TABLE_NAME, \n",
    "        connection=DataSourceConnection(\n",
    "            type=\"jdbc\", \n",
    "            integrated_system_id=jdbc_integrated_system_id\n",
    "        ),\n",
    "        parameters={},\n",
    "        auto_create=True, #set it to False if table already exists\n",
    "        status=DataSourceStatus(state=\"new\")\n",
    "    )\n",
    "    \n",
    "    data_sources.append(explainability_result_data_source)"
   ]
  },
  {
   "cell_type": "code",
   "execution_count": null,
   "metadata": {
    "id": "c0b0b886-9c07-4b00-bdf2-0586ca65b0c3"
   },
   "outputs": [],
   "source": [
    "# Adding the subscription\n",
    "\n",
    "subscription_details = Subscriptions(wos_client).add(\n",
    "    data_mart_id=data_mart_id,\n",
    "    service_provider_id=service_provider_id,\n",
    "    asset=asset,\n",
    "    deployment=asset_deployment,\n",
    "    asset_properties=asset_properties_request,\n",
    "    analytics_engine=analytics_engine,\n",
    "    scoring_endpoint=scoring_endpoint).result\n",
    "\n",
    "subscription_id = subscription_details.metadata.id\n",
    "print(subscription_details)"
   ]
  },
  {
   "cell_type": "code",
   "execution_count": null,
   "metadata": {
    "id": "74f57976-3100-48ac-aa3a-645cdcb94445"
   },
   "outputs": [],
   "source": [
    "import time\n",
    "# Checking subscription status\n",
    "\n",
    "state = wos_client.subscriptions.get(subscription_id).result.entity.status.state\n",
    "\n",
    "while state not in [\"active\", \"error\"]:\n",
    "    state = wos_client.subscriptions.get(subscription_id).result.entity.status.state\n",
    "    print(state)\n",
    "    time.sleep(5)"
   ]
  },
  {
   "cell_type": "code",
   "execution_count": null,
   "metadata": {
    "id": "706332f1-aaba-4431-89b3-4217baf6fbe2"
   },
   "outputs": [],
   "source": [
    "# Add training, output, and input data schemas to the subscription\n",
    "schemas_patch_document = [\n",
    "    JsonPatchOperation(op=OperationTypes.REPLACE, path='/asset_properties/training_data_schema', value=common_configuration[\"training_data_schema\"]),\n",
    "    JsonPatchOperation(op=OperationTypes.REPLACE, path='/asset_properties/input_data_schema', value=common_configuration[\"input_data_schema\"]),\n",
    "    JsonPatchOperation(op=OperationTypes.REPLACE, path='/asset_properties/output_data_schema', value=common_configuration[\"output_data_schema\"])\n",
    "]\n",
    "\n",
    "wos_client.subscriptions.update(subscription_id=subscription_id, patch_document=schemas_patch_document)\n",
    "\n",
    "# Add data_sources to the subscription\n",
    "data_sources_patch_document=[\n",
    "    JsonPatchOperation(op=OperationTypes.ADD, path='/data_sources', value=[data_source.to_dict() for data_source in data_sources])\n",
    "]\n",
    "\n",
    "wos_client.subscriptions.update(subscription_id=subscription_id, patch_document=data_sources_patch_document)"
   ]
  },
  {
   "cell_type": "code",
   "execution_count": null,
   "metadata": {
    "id": "97598810862747f188d34a50f973da21"
   },
   "outputs": [],
   "source": [
    "import time\n",
    "\n",
    "# Checking subscription status after the patch operation\n",
    "\n",
    "state = wos_client.subscriptions.get(subscription_id).result.entity.status.state\n",
    "\n",
    "while state not in [\"active\", \"error\"]:\n",
    "    state = wos_client.subscriptions.get(subscription_id).result.entity.status.state\n",
    "    print(state)\n",
    "    time.sleep(5)"
   ]
  },
  {
   "cell_type": "markdown",
   "metadata": {
    "id": "235c6306-17c2-408d-b307-c0b0635ba40c"
   },
   "source": [
    "# 4. Quality monitoring <a name=\"quality\"></a>"
   ]
  },
  {
   "cell_type": "markdown",
   "metadata": {
    "id": "d1eec4aa-033c-4c8c-b4e1-e3ca4432fb54"
   },
   "source": [
    "### Enable the quality monitor\n",
    "\n",
    "In the following code cell, default values are set for the quality monitor. You can change the default values by updating the optional `min_feedback_data_size` attribute in the `parameters` dict and set the quality threshold in the `thresholds` list."
   ]
  },
  {
   "cell_type": "code",
   "execution_count": null,
   "metadata": {
    "id": "35bdcb73-491c-4db5-b74e-fab0337187d1"
   },
   "outputs": [],
   "source": [
    "import time\n",
    "\n",
    "target = Target(\n",
    "    target_type=TargetTypes.SUBSCRIPTION,\n",
    "    target_id=subscription_id\n",
    ")\n",
    "\n",
    "parameters = {\n",
    "    \"min_feedback_data_size\": 1000\n",
    "}\n",
    "\n",
    "thresholds = [{\n",
    "        \"metric_id\": \"area_under_roc\",\n",
    "        \"type\": \"lower_limit\",\n",
    "        \"value\": 0.8\n",
    "}]\n",
    "\n",
    "quality_monitor_details = wos_client.monitor_instances.create(\n",
    "    data_mart_id=data_mart_id,\n",
    "    monitor_definition_id=wos_client.monitor_definitions.MONITORS.QUALITY.ID,\n",
    "    target=target,\n",
    "    parameters=parameters,\n",
    "    thresholds=thresholds\n",
    ").result\n",
    "\n",
    "quality_monitor_instance_id = quality_monitor_details.metadata.id\n",
    "print(quality_monitor_details)"
   ]
  },
  {
   "cell_type": "markdown",
   "metadata": {
    "id": "11abf855-f631-4204-875f-731ce492a4b6"
   },
   "source": [
    "### Check monitor instance status"
   ]
  },
  {
   "cell_type": "code",
   "execution_count": null,
   "metadata": {
    "id": "f8caf2e3-8d70-44c4-a133-2be74884c884"
   },
   "outputs": [],
   "source": [
    "quality_status = None\n",
    "\n",
    "while quality_status not in (\"active\", \"error\"):\n",
    "    monitor_instance_details = wos_client.monitor_instances.get(monitor_instance_id=quality_monitor_instance_id).result\n",
    "    quality_status = monitor_instance_details.entity.status.state\n",
    "    if quality_status not in (\"active\", \"error\"):\n",
    "        print(datetime.now().strftime(\"%H:%M:%S\"), quality_status)\n",
    "        time.sleep(30)\n",
    "        \n",
    "print(datetime.now().strftime(\"%H:%M:%S\"), quality_status)"
   ]
  },
  {
   "cell_type": "code",
   "execution_count": null,
   "metadata": {
    "id": "38350d12-0124-4464-96e7-90c5586b7f52"
   },
   "outputs": [],
   "source": [
    "monitor_instance_details = wos_client.monitor_instances.get(monitor_instance_id=quality_monitor_instance_id).result\n",
    "print(monitor_instance_details)"
   ]
  },
  {
   "cell_type": "markdown",
   "metadata": {
    "id": "3a8cc960-bdbd-4900-bc5b-4b5e77890cfc"
   },
   "source": [
    "### Run an on-demand evaluation\n",
    "\n",
    "Please make sure you have data in feedback table in db2. Quality evaluation will use this data for its metrics computation."
   ]
  },
  {
   "cell_type": "code",
   "execution_count": null,
   "metadata": {
    "id": "469f1906-6340-4964-a673-aaf14e85cd29"
   },
   "outputs": [],
   "source": [
    "# Trigger on-demand run\n",
    "monitoring_run_details = wos_client.monitor_instances.run(monitor_instance_id=quality_monitor_instance_id).result\n",
    "monitoring_run_id=monitoring_run_details.metadata.id\n",
    "\n",
    "print(monitoring_run_details)"
   ]
  },
  {
   "cell_type": "code",
   "execution_count": null,
   "metadata": {
    "id": "1a8bb4d1-7b81-4d12-b6d0-3a1e97aa130b"
   },
   "outputs": [],
   "source": [
    "# Check run status\n",
    "\n",
    "quality_run_status = None\n",
    "while quality_run_status not in (\"finished\", \"error\"):\n",
    "    monitoring_run_details = wos_client.monitor_instances.get_run_details(monitor_instance_id=quality_monitor_instance_id, monitoring_run_id=monitoring_run_id).result\n",
    "    quality_run_status = monitoring_run_details.entity.status.state\n",
    "    if quality_run_status not in (\"finished\", \"error\"):\n",
    "        print(datetime.now().strftime(\"%H:%M:%S\"), quality_run_status)\n",
    "        time.sleep(30)\n",
    "        \n",
    "print(datetime.now().strftime(\"%H:%M:%S\"), quality_run_status)"
   ]
  },
  {
   "cell_type": "markdown",
   "metadata": {
    "id": "2eac6bad-ed52-4c2f-9fb3-66b0b1e051f0"
   },
   "source": [
    "### Display quality metrics"
   ]
  },
  {
   "cell_type": "code",
   "execution_count": null,
   "metadata": {
    "id": "c6f34f52-92d8-4b26-9381-09d957a9058c"
   },
   "outputs": [],
   "source": [
    "wos_client.monitor_instances.show_metrics(monitor_instance_id=quality_monitor_instance_id)"
   ]
  },
  {
   "cell_type": "markdown",
   "metadata": {
    "id": "1de45a13-8f67-487d-816a-a9f34a1d30df"
   },
   "source": [
    "# 5. Drift monitoring <a name=\"drift\"></a>"
   ]
  },
  {
   "cell_type": "markdown",
   "metadata": {
    "id": "2478b0d4-16c9-4833-9427-2ee832d00a16"
   },
   "source": [
    "### Enable the drift monitor\n",
    "\n",
    "In the following code cell, type a path to the drift configuration tar ball."
   ]
  },
  {
   "cell_type": "code",
   "execution_count": null,
   "metadata": {
    "id": "c062e890-8b10-4044-9a31-dbafb307e9c8"
   },
   "outputs": [],
   "source": [
    "wos_client.monitor_instances.upload_drift_model(\n",
    "    model_path=\"drift_archive.tar.gz\",\n",
    "    data_mart_id=data_mart_id,\n",
    "    subscription_id=subscription_id\n",
    ").result"
   ]
  },
  {
   "cell_type": "markdown",
   "metadata": {
    "id": "215194c6-0ad1-4a77-bd6d-5a70e2a8fd3e"
   },
   "source": [
    "In the following code cell, default values are set for the drift monitor. You can change the default values by updating the values in the `parameters` section. The `min_samples` parameter controls the number of minimum records required in an evaluation time window for drift analysis to be completed. The `drift_threshold` parameter sets the threshold in decimal format for the drift percentage to trigger an alert. The `train_drift_model` parameter controls whether to learn drift artefacts (drift model training and data constraints learning) by IBM Watson OpenScale via Spark job accessing training data table."
   ]
  },
  {
   "cell_type": "code",
   "execution_count": null,
   "metadata": {
    "id": "becbaa98-449b-40ce-9233-6b853935c056"
   },
   "outputs": [],
   "source": [
    "import time\n",
    "\n",
    "target = Target(\n",
    "    target_type=TargetTypes.SUBSCRIPTION,\n",
    "    target_id=subscription_id\n",
    ")\n",
    "\n",
    "parameters = {\n",
    "    \"min_samples\": 1000,\n",
    "    \"drift_threshold\": 0.05,\n",
    "    \"train_drift_model\": False\n",
    "}\n",
    "\n",
    "drift_monitor_details = wos_client.monitor_instances.create(\n",
    "    data_mart_id=data_mart_id,\n",
    "    monitor_definition_id=wos_client.monitor_definitions.MONITORS.DRIFT.ID,\n",
    "    target=target,\n",
    "    parameters=parameters\n",
    ").result\n",
    "\n",
    "drift_monitor_instance_id = drift_monitor_details.metadata.id\n",
    "print(drift_monitor_details)"
   ]
  },
  {
   "cell_type": "markdown",
   "metadata": {
    "id": "854b1e2f-fe0d-4acb-b8e6-2f23a380d08e"
   },
   "source": [
    "### Check monitor instance status"
   ]
  },
  {
   "cell_type": "code",
   "execution_count": null,
   "metadata": {
    "id": "9390e65f-1817-44f4-a0bf-a86162ac53a3"
   },
   "outputs": [],
   "source": [
    "drift_status = None\n",
    "\n",
    "while drift_status not in (\"active\", \"error\"):\n",
    "    monitor_instance_details = wos_client.monitor_instances.get(monitor_instance_id=drift_monitor_instance_id).result\n",
    "    drift_status = monitor_instance_details.entity.status.state\n",
    "    if drift_status not in (\"active\", \"error\"):\n",
    "        print(datetime.now().strftime(\"%H:%M:%S\"), drift_status)\n",
    "        time.sleep(30)\n",
    "\n",
    "print(datetime.now().strftime(\"%H:%M:%S\"), drift_status)"
   ]
  },
  {
   "cell_type": "markdown",
   "metadata": {
    "id": "81983744-8b51-433f-b7f3-e7b4ecf7199b"
   },
   "source": [
    "### Run an on-demand evaluation\n",
    "Please make sure you have data in payload table in db2. Drift evaluation will use this data for its metrics computation."
   ]
  },
  {
   "cell_type": "code",
   "execution_count": null,
   "metadata": {
    "id": "4ceb5102-c215-45dc-9177-f161f0622691"
   },
   "outputs": [],
   "source": [
    "# Check Drift monitor instance details\n",
    "\n",
    "monitor_instance_details = wos_client.monitor_instances.get(monitor_instance_id=drift_monitor_instance_id).result\n",
    "print(monitor_instance_details)"
   ]
  },
  {
   "cell_type": "code",
   "execution_count": null,
   "metadata": {
    "id": "a4572432-3059-42a0-8f2b-a8df3c7202a9"
   },
   "outputs": [],
   "source": [
    "# Trigger on-demand run\n",
    "\n",
    "monitoring_run_details = wos_client.monitor_instances.run(monitor_instance_id=drift_monitor_instance_id).result\n",
    "monitoring_run_id=monitoring_run_details.metadata.id\n",
    "\n",
    "print(monitoring_run_details)"
   ]
  },
  {
   "cell_type": "code",
   "execution_count": null,
   "metadata": {
    "id": "f4915178-08b4-4af8-96d8-39d8bf5dca48"
   },
   "outputs": [],
   "source": [
    "# Check run status\n",
    "\n",
    "drift_run_status = None\n",
    "while drift_run_status not in (\"finished\", \"error\"):\n",
    "    monitoring_run_details = wos_client.monitor_instances.get_run_details(monitor_instance_id=drift_monitor_instance_id, monitoring_run_id=monitoring_run_id).result\n",
    "    drift_run_status = monitoring_run_details.entity.status.state\n",
    "    if drift_run_status not in (\"finished\", \"error\"):\n",
    "        print(datetime.now().strftime(\"%H:%M:%S\"), drift_run_status)\n",
    "        time.sleep(30)\n",
    "        \n",
    "print(datetime.now().strftime(\"%H:%M:%S\"), drift_run_status)"
   ]
  },
  {
   "cell_type": "markdown",
   "metadata": {
    "id": "0fa22f70-246e-4781-ab67-513c27c11be6"
   },
   "source": [
    "### Display drift metrics"
   ]
  },
  {
   "cell_type": "code",
   "execution_count": null,
   "metadata": {
    "id": "d6507ba6-ea42-47eb-b763-f4601ee5a32b"
   },
   "outputs": [],
   "source": [
    "wos_client.monitor_instances.show_metrics(monitor_instance_id=drift_monitor_instance_id)"
   ]
  },
  {
   "cell_type": "markdown",
   "metadata": {
    "id": "6474b4e4-fcdc-4b02-b938-63ce566e471e"
   },
   "source": [
    "# 6. Fairness monitoring <a name=\"fairness\"></a>"
   ]
  },
  {
   "cell_type": "markdown",
   "metadata": {
    "id": "9281cc20-88fe-49ea-ba92-1778e039cb0d"
   },
   "source": [
    "### Enable the fairness monitor\n",
    "\n",
    "The following code cell, will enable the fairness monitor."
   ]
  },
  {
   "cell_type": "code",
   "execution_count": null,
   "metadata": {
    "id": "c1641405-1586-422d-94e5-4c3651b83f09"
   },
   "outputs": [],
   "source": [
    "target = Target(\n",
    "    target_type=TargetTypes.SUBSCRIPTION,\n",
    "    target_id=subscription_id\n",
    ")\n",
    "\n",
    "fairness_statistics_json = None\n",
    "with open(\"fairness_statistics.json\", \"r\") as fp:\n",
    "    fairness_statistics_json = json.load(fp)\n",
    "    \n",
    "parameters = fairness_statistics_json[\"parameters\"]\n",
    "thresholds = fairness_statistics_json[\"thresholds\"]\n",
    "\n",
    "fairness_monitor_details = wos_client.monitor_instances.create(\n",
    "    data_mart_id=data_mart_id,\n",
    "    monitor_definition_id=wos_client.monitor_definitions.MONITORS.FAIRNESS.ID,\n",
    "    target=target,\n",
    "    parameters=parameters,\n",
    "    thresholds=thresholds\n",
    ").result\n",
    "\n",
    "fairness_monitor_instance_id = fairness_monitor_details.metadata.id\n",
    "print(fairness_monitor_details)"
   ]
  },
  {
   "cell_type": "markdown",
   "metadata": {
    "id": "73c020eb-5b43-4510-92f8-4a9bf7eef35a"
   },
   "source": [
    "### Check monitor instance status"
   ]
  },
  {
   "cell_type": "code",
   "execution_count": null,
   "metadata": {
    "id": "e4b617be-cac1-420d-9e76-a8fd0b613722"
   },
   "outputs": [],
   "source": [
    "fairness_state = fairness_monitor_details.entity.status.state\n",
    "\n",
    "while fairness_state not in (\"active\", \"error\"):\n",
    "    print(datetime.utcnow().strftime('%H:%M:%S'), fairness_state)\n",
    "    monitor_instance_details = wos_client.monitor_instances.get(monitor_instance_id=fairness_monitor_instance_id).result\n",
    "    fairness_state = monitor_instance_details.entity.status.state\n",
    "    time.sleep(30)\n",
    "\n",
    "print(datetime.utcnow().strftime('%H:%M:%S'), fairness_state)"
   ]
  },
  {
   "cell_type": "markdown",
   "metadata": {
    "id": "54b5016f-0d0e-4ad4-83d1-fd82c15e53c0"
   },
   "source": [
    "### Run an on-demand evaluation\n",
    "Please make sure you have data in payload table in db2. Fairness evaluation will use this data for its metrics computation."
   ]
  },
  {
   "cell_type": "code",
   "execution_count": null,
   "metadata": {
    "id": "b5b9d8db-a923-4494-beac-92d622badf33"
   },
   "outputs": [],
   "source": [
    "# Trigger on-demand run\n",
    "\n",
    "monitoring_run_details = wos_client.monitor_instances.run(monitor_instance_id=fairness_monitor_instance_id).result\n",
    "monitoring_run_id=monitoring_run_details.metadata.id\n",
    "\n",
    "print(monitoring_run_details)"
   ]
  },
  {
   "cell_type": "code",
   "execution_count": null,
   "metadata": {
    "id": "6fe1029c-7d1d-4c42-bcc9-0c143755bd06"
   },
   "outputs": [],
   "source": [
    "# Check run status\n",
    "\n",
    "fairness_run_status = monitoring_run_details.entity.status.state\n",
    "while fairness_run_status not in (\"finished\", \"error\"):\n",
    "    print(datetime.utcnow().strftime(\"%H:%M:%S\"), fairness_run_status)\n",
    "    monitoring_run_details = wos_client.monitor_instances.get_run_details(monitor_instance_id=fairness_monitor_instance_id, monitoring_run_id=monitoring_run_id).result\n",
    "    fairness_run_status = monitoring_run_details.entity.status.state\n",
    "    time.sleep(30)\n",
    "        \n",
    "print(datetime.utcnow().strftime(\"%H:%M:%S\"), fairness_run_status)"
   ]
  },
  {
   "cell_type": "markdown",
   "metadata": {
    "id": "c1ce07f6-ff42-4bf4-b8fe-a4cdf1550ac5"
   },
   "source": [
    "### Display fairness metrics"
   ]
  },
  {
   "cell_type": "code",
   "execution_count": null,
   "metadata": {
    "id": "347e30a2-d7af-43e0-9d16-7d526e1cb0e0"
   },
   "outputs": [],
   "source": [
    "wos_client.monitor_instances.show_metrics(monitor_instance_id=fairness_monitor_instance_id)"
   ]
  },
  {
   "cell_type": "markdown",
   "metadata": {
    "id": "39184d5c-52d9-4018-9a2b-1c25963b1b19"
   },
   "source": [
    "# 7. Explainability monitoring <a name=\"explainability\"></a>"
   ]
  },
  {
   "cell_type": "markdown",
   "metadata": {
    "id": "2e2eef9e-165b-413d-9d10-74aeee08513a"
   },
   "source": [
    "### Enable the explainability monitor"
   ]
  },
  {
   "cell_type": "markdown",
   "metadata": {
    "id": "3bd90bf2-f457-4a56-8c9d-440c98b235b2"
   },
   "source": [
    "#### Upload explainability configuration archive\n",
    "In the following code cell, type the path to the explainability configuration archive tar ball."
   ]
  },
  {
   "cell_type": "code",
   "execution_count": null,
   "metadata": {
    "id": "7fe52133-2b7b-4668-870a-129d69122f15"
   },
   "outputs": [],
   "source": [
    "with open(\"explainability.tar.gz\", mode=\"rb\") as explainability_tar:\n",
    "    wos_client.monitor_instances.upload_explainability_archive(subscription_id=subscription_id, archive=explainability_tar)\n",
    "\n",
    "print(\"Uploaded explainability archive successfully.\")"
   ]
  },
  {
   "cell_type": "code",
   "execution_count": null,
   "metadata": {
    "id": "bc3ebd2a-4aa9-454f-9281-ebfd83307dff"
   },
   "outputs": [],
   "source": [
    "import time\n",
    "\n",
    "target = Target(\n",
    "    target_type=TargetTypes.SUBSCRIPTION,\n",
    "    target_id=subscription_id\n",
    ")\n",
    "\n",
    "parameters = {\n",
    "# Uncomment the below lines to enable lime global explanation\n",
    "# Lime global explanation is available from Cloud Pak for Data version 4.6.4 onwards.\n",
    "#    \"global_explanation\": {\n",
    "#        \"enabled\": True,  # Flag to enable global explanation \n",
    "#        \"explanation_method\": \"lime\",\n",
    "#        \"sample_size\": 1000, # [Optional] The sample size of records to be used for generating payload data global explanation. If not specified entire data in the payload window is used.\n",
    "#    }\n",
    "}\n",
    "\n",
    "explainability_monitor_details = wos_client.monitor_instances.create(\n",
    "    data_mart_id=data_mart_id,\n",
    "    monitor_definition_id=wos_client.monitor_definitions.MONITORS.EXPLAINABILITY.ID,\n",
    "    target=target,\n",
    "    parameters=parameters\n",
    ").result\n",
    "\n",
    "explainability_monitor_instance_id = explainability_monitor_details.metadata.id\n",
    "print(explainability_monitor_details)"
   ]
  },
  {
   "cell_type": "markdown",
   "metadata": {
    "id": "582328ea-df15-4c70-a610-1345a4dc2df8",
    "tags": []
   },
   "source": [
    "### Check monitor instance status"
   ]
  },
  {
   "cell_type": "code",
   "execution_count": null,
   "metadata": {
    "id": "8ab78f80-5244-418f-a336-fd1b190bff62"
   },
   "outputs": [],
   "source": [
    "explainability_status = None\n",
    "\n",
    "while explainability_status not in (\"active\", \"error\"):\n",
    "    monitor_instance_details = wos_client.monitor_instances.get(monitor_instance_id=explainability_monitor_instance_id).result\n",
    "    explainability_status = monitor_instance_details.entity.status.state\n",
    "    if explainability_status not in (\"active\", \"error\"):\n",
    "        print(datetime.utcnow().strftime('%H:%M:%S'), explainability_status)\n",
    "        time.sleep(30)\n",
    "\n",
    "print(datetime.utcnow().strftime('%H:%M:%S'), explainability_status)"
   ]
  },
  {
   "cell_type": "markdown",
   "metadata": {
    "id": "ceecee04-7ce7-4eec-8275-53fcebd54d88"
   },
   "source": [
    "### Run an on-demand evaluation\n",
    "Please make sure you have data in Explain queue table in db2. Explainability will use this data for computing explanations."
   ]
  },
  {
   "cell_type": "code",
   "execution_count": null,
   "metadata": {
    "id": "d4778bc5-3746-496b-bb13-c43cb8c42e73"
   },
   "outputs": [],
   "source": [
    "# Check Explainbility monitor instance details\n",
    "\n",
    "monitor_instance_details = wos_client.monitor_instances.get(monitor_instance_id=explainability_monitor_instance_id).result\n",
    "print(monitor_instance_details)"
   ]
  },
  {
   "cell_type": "code",
   "execution_count": null,
   "metadata": {
    "id": "729b894e-e273-473c-a953-a98cce79c759"
   },
   "outputs": [],
   "source": [
    "# Trigger on-demand run\n",
    "\n",
    "monitoring_run_details = wos_client.monitor_instances.run(monitor_instance_id=explainability_monitor_instance_id).result\n",
    "monitoring_run_id=monitoring_run_details.metadata.id\n",
    "\n",
    "print(monitoring_run_details)"
   ]
  },
  {
   "cell_type": "code",
   "execution_count": null,
   "metadata": {
    "id": "99d62d31-bb85-4c5b-8307-b8e710f2595d"
   },
   "outputs": [],
   "source": [
    "# Check run status\n",
    "\n",
    "explainability_run_status = None\n",
    "while explainability_run_status not in (\"finished\", \"error\"):\n",
    "    monitoring_run_details = wos_client.monitor_instances.get_run_details(monitor_instance_id=explainability_monitor_instance_id, monitoring_run_id=monitoring_run_id).result\n",
    "    explainability_run_status = monitoring_run_details.entity.status.state\n",
    "    if explainability_run_status not in (\"finished\", \"error\"):\n",
    "        print(datetime.utcnow().strftime(\"%H:%M:%S\"), explainability_run_status)\n",
    "        time.sleep(60)\n",
    "        \n",
    "print(datetime.utcnow().strftime(\"%H:%M:%S\"), explainability_run_status)\n",
    "print(monitoring_run_details)"
   ]
  },
  {
   "cell_type": "code",
   "execution_count": null,
   "metadata": {},
   "outputs": [],
   "source": [
    "# View the global explanation stability metric. When lime global explanation is enabled, the monitor run computes global explanation and publishes global_explanation_stability metric.\n",
    "# wos_client.monitor_instances.show_metrics(monitor_instance_id=explainability_monitor_instance_id)"
   ]
  },
  {
   "cell_type": "markdown",
   "metadata": {
    "id": "28780a7c-b086-4e07-a7eb-c57f4afb587c"
   },
   "source": [
    "### Display sample explanations"
   ]
  },
  {
   "cell_type": "code",
   "execution_count": null,
   "metadata": {
    "id": "7e92f799-dfd2-4e18-843c-2d0dc4885cec"
   },
   "outputs": [],
   "source": [
    "explanations = wos_client.monitor_instances.get_all_explaination_tasks(subscription_id=subscription_id).result.to_dict()\n",
    "print(explanations)"
   ]
  },
  {
   "cell_type": "markdown",
   "metadata": {
    "id": "267fffbb-a696-4938-b285-c56f489b86c2"
   },
   "source": [
    "### Generate on demand explanation\n",
    "\n",
    "Choose any record from payload logging table or Explain Queue table and generate Lime, Contrastive explanations for the record. Please note that contrastive explanations are only supported for structured classification models. So specify the explanation_types accordingly. "
   ]
  },
  {
   "cell_type": "code",
   "execution_count": null,
   "metadata": {
    "id": "24d9cb74-6b17-4d56-ac52-2a5f8374f25a"
   },
   "outputs": [],
   "source": [
    "import time\n",
    "# Please enter scoring id(from payload table or Explain Queue table), for which you want to generate an explanation\n",
    "# scoring_ids = [\"<scoring_id_from_pl_or_explain_queue_table>\"] \n",
    "\n",
    "# As an example, we will generate a contrastive explanation for the first scoring id from the list of explanations generated above\n",
    "# as part of the Explainability monitor run\n",
    "scoring_ids = [explanations[\"explanation_values\"][0][1]]\n",
    "print(\"Running explanations on scoring IDs: {}\".format(scoring_ids))\n",
    "\n",
    "explanation_types = [\"lime\", \"contrastive\"]\n",
    "explanation_task_ids = wos_client.monitor_instances.explanation_tasks(scoring_ids=scoring_ids, subscription_id=subscription_id, explanation_types=explanation_types).result.metadata.explanation_task_ids\n",
    "explanation_task_id = explanation_task_ids[0]\n",
    "\n",
    "print(\"Getting explanation for explanation task id: {}\".format(explanation_task_id))\n",
    "explanation = wos_client.monitor_instances.get_explanation_tasks(explanation_task_id, subscription_id=subscription_id).result\n",
    "while explanation.entity.status.state not in (\"finished\", \"error\"):\n",
    "        explanation = wos_client.monitor_instances.get_explanation_tasks(explanation_task_id, subscription_id=subscription_id).result\n",
    "        explanation_run_status = explanation.entity.status.state\n",
    "        if explanation_run_status not in (\"finished\", \"error\"):\n",
    "            print(datetime.utcnow().strftime(\"%H:%M:%S\"), explanation_run_status)\n",
    "            time.sleep(60)\n",
    "            \n",
    "            \n",
    "print(explanation)"
   ]
  },
  {
   "cell_type": "markdown",
   "metadata": {
    "id": "dda2c106-acef-420b-8ff0-f631d4d1306a"
   },
   "source": [
    "### Cleanup the untarred files"
   ]
  },
  {
   "cell_type": "code",
   "execution_count": null,
   "metadata": {
    "id": "d871a5a1-299e-4667-aadc-98e57eddd214"
   },
   "outputs": [],
   "source": [
    "import os\n",
    "files = [\"common_configuration.json\", \"explainability.tar.gz\", \"drift_archive.tar.gz\", \"fairness_statistics.json\"]\n",
    "for file in files:\n",
    "    if os.path.isfile(file):\n",
    "        os.remove(file)"
   ]
  },
  {
   "cell_type": "markdown",
   "metadata": {
    "id": "7bf89408-dce3-4792-bacf-893514a43c68"
   },
   "source": [
    "## Congratulations!\n",
    "\n",
    "You have finished the Batch demo for IBM Watson OpenScale by using Apache Spark on Cloud Pak for Data IBM Analytics Engine. You can now view the [Watson OpenScale Dashboard](https://url-to-your-cp4d-cluster/aiopenscale). Click the tile for the model you configured to see the quality, drift and fairness monitors. Click the timeseries graph to get detailed information on transactions during a specific time window."
   ]
  }
 ],
 "metadata": {
  "kernelspec": {
   "display_name": "Python 3 (ipykernel)",
   "language": "python",
   "name": "python3"
  },
  "language_info": {
   "codemirror_mode": {
    "name": "ipython",
    "version": 3
   },
   "file_extension": ".py",
   "mimetype": "text/x-python",
   "name": "python",
   "nbconvert_exporter": "python",
   "pygments_lexer": "ipython3",
   "version": "3.10.7"
  },
  "vscode": {
   "interpreter": {
    "hash": "37b82c9850f337b3f8e26ef3a35bf87c9f2cfa1e4ad2c96ec00819afd6ebf7e9"
   }
  }
 },
 "nbformat": 4,
 "nbformat_minor": 4
}
