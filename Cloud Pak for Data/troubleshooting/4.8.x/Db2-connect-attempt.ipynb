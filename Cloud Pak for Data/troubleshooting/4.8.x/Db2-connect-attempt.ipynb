{
 "cells": [
  {
   "cell_type": "markdown",
   "metadata": {},
   "source": [
    "<img src=\"https://github.com/pmservice/ai-openscale-tutorials/raw/master/notebooks/images/banner.png\" align=\"left\" alt=\"banner\">"
   ]
  },
  {
   "cell_type": "markdown",
   "metadata": {},
   "source": [
    "# Notebook: Utility to confirm connectivity between Db2 and OpenScale\n",
    "\n",
    "Target Version: Cloud pak for Data **v4.8.X**\n",
    "\n",
    "The user needs to provide the necessary inputs (where marked) to be able to proceed. \n",
    "\n",
    "**Note**: This notebook is designed to test connection to Db2\n",
    "\n",
    "**Contents:**\n",
    "1. [Package Installation](#Package-installation)\n",
    "2. [User Inputs](#User-Inputs)\n",
    "3. [Setting up Services](#Setting-up-Services)\n",
    "4. [Collect resources to be migrated](#Collect-resources-to-be-migrated)"
   ]
  },
  {
   "cell_type": "markdown",
   "metadata": {},
   "source": [
    "## Package installation"
   ]
  },
  {
   "cell_type": "code",
   "execution_count": null,
   "metadata": {},
   "outputs": [],
   "source": [
    "import warnings\n",
    "warnings.filterwarnings('ignore')\n",
    "!pip install --upgrade ibm-watson-openscale --no-cache | tail -n 1"
   ]
  },
  {
   "cell_type": "markdown",
   "metadata": {},
   "source": [
    "Action: restart the kernel if you executed above cell!"
   ]
  },
  {
   "cell_type": "markdown",
   "metadata": {},
   "source": [
    "## User Inputs\n",
    "\n",
    "The following inputs are required:\n",
    "\n",
    "1. **IBM_CPD_ENDPOINT:** The URL representing the IBM Cloud Pak for Data service endpoint.\n",
    "2. **IBM_CPD_USERNAME:** IBM Cloud Pak for Data username used to obtain a bearer token.\n",
    "3. **IBM_CPD_PASSWORD:** IBM Cloud Pak for Data password used to obtain a bearer token.\n",
    "4. **CPD_API_KEY:** IBM Cloud Pak for Data API Key used to obtain a bearer token."
   ]
  },
  {
   "cell_type": "markdown",
   "metadata": {},
   "source": [
    "## User Inputs\n",
    "\n",
    "The following inputs are required:\n",
    "\n",
    "1. **IBM_CPD_ENDPOINT:** The URL representing the IBM Cloud Pak for Data service endpoint.\n",
    "2. **IBM_CPD_USERNAME:** IBM Cloud Pak for Data username used to obtain a bearer token.\n",
    "3. **IBM_CPD_PASSWORD:** IBM Cloud Pak for Data password used to obtain a bearer token.\n",
    "4. **CPD_API_KEY:** IBM Cloud Pak for Data API Key used to obtain a bearer token."
   ]
  },
  {
   "cell_type": "code",
   "execution_count": 2,
   "metadata": {},
   "outputs": [],
   "source": [
    "# IBM Cloud Pak for Data credentials\n",
    "IBM_CPD_ENDPOINT = \"<The URL representing the IBM Cloud Pak for Data service endpoint.>\"\n",
    "IBM_CPD_USERNAME = \"<IBM Cloud Pak for Data username used to obtain a bearer token.>\"\n",
    "IBM_CPD_PASSWORD = \"<IBM Cloud Pak for Data password used to obtain a bearer token.>\"\n",
    "SERVICE_INSTANCE_ID = \"<SERVICE_INSTANCE_ID>\" #Default is 00000000-0000-0000-0000-000000000000\n",
    "CPD_API_KEY =\"<API KEY>\" "
   ]
  },
  {
   "cell_type": "markdown",
   "metadata": {},
   "source": [
    "## Setting up Services"
   ]
  },
  {
   "cell_type": "code",
   "execution_count": null,
   "metadata": {},
   "outputs": [],
   "source": [
    "from ibm_cloud_sdk_core.authenticators import CloudPakForDataAuthenticator\n",
    "from ibm_watson_openscale import APIClient\n",
    "\n",
    "service_credentials = {\n",
    "                \"url\": IBM_CPD_ENDPOINT,\n",
    "                \"username\": IBM_CPD_USERNAME,\n",
    "                \"password\": IBM_CPD_PASSWORD,\n",
    "                # \"apikey\": CPD_API_KEY\n",
    "                }\n",
    "\n",
    "authenticator = CloudPakForDataAuthenticator(\n",
    "        url=service_credentials['url'],\n",
    "        username=service_credentials['username'],\n",
    "        password=service_credentials['password'],\n",
    "        # apikey=service_credentials['apikey'],\n",
    "        disable_ssl_verification=True\n",
    ")\n",
    "\n",
    "client = APIClient(\n",
    "    service_url=service_credentials['url'],\n",
    "    service_instance_id=SERVICE_INSTANCE_ID,\n",
    "    authenticator=authenticator\n",
    ")\n",
    "\n",
    "print(client.version)"
   ]
  },
  {
   "cell_type": "markdown",
   "metadata": {},
   "source": [
    "## Listing schemas in the specified database"
   ]
  },
  {
   "cell_type": "code",
   "execution_count": null,
   "metadata": {},
   "outputs": [
    {
     "data": {
      "text/plain": [
       "{'database_schemas': [{'compatible': True, 'name': 'DB2INST1'},\n",
       "  {'compatible': True, 'name': 'NULLID'},\n",
       "  {'compatible': True, 'name': 'SQLJ'},\n",
       "  {'compatible': True, 'name': 'SYSCAT'},\n",
       "  {'compatible': True, 'name': 'SYSFUN'},\n",
       "  {'compatible': True, 'name': 'SYSIBM'},\n",
       "  {'compatible': True, 'name': 'SYSIBMADM'},\n",
       "  {'compatible': True, 'name': 'SYSIBMINTERNAL'},\n",
       "  {'compatible': True, 'name': 'SYSIBMTS'},\n",
       "  {'compatible': True, 'name': 'SYSPROC'},\n",
       "  {'compatible': True, 'name': 'SYSPUBLIC'},\n",
       "  {'compatible': True, 'name': 'SYSSTAT'},\n",
       "  {'compatible': True, 'name': 'SYSTOOLS'}]}"
      ]
     },
     "execution_count": 6,
     "metadata": {},
     "output_type": "execute_result"
    }
   ],
   "source": [
    "body = {\n",
    "    \"database_type\": \"db2\",\n",
    "    \"credentials\": {\n",
    "        \"hostname\": \"<HOST for db2>\",\n",
    "        \"username\": \"<Username for the database>\",\n",
    "        \"password\": \"<Passowrd for the databasse>\",\n",
    "        \"db\": \"<DATABASE name to check>\",\n",
    "        \"port\": 50000,\n",
    "        \"ssl\": False,\n",
    "        # if you need to set it true, depending on your env\n",
    "        \"certificate_base64\": \"base64 encoded ssl certificate if you need\",\n",
    "        \"additional_properties\": {\n",
    "            \"securityMechanism\": 9,\n",
    "            # \"encryptionAlgorithm\": 2\n",
    "        }\n",
    "        # this field is not necessary, but you can append more parameters \n",
    "    }\n",
    "}\n",
    "# You can adjust parameters in `credentials` for your need\n",
    "\n",
    "\n",
    "pr = client.prepare_request(\"POST\", \"/v2/database_schemas\", data=body)\n",
    "result = client.send(pr).get_result()\n",
    "result\n",
    "\n",
    "## result should list schemas in database where user is authorized to see"
   ]
  },
  {
   "cell_type": "markdown",
   "metadata": {},
   "source": [
    "## Getting database configuration"
   ]
  },
  {
   "cell_type": "code",
   "execution_count": null,
   "metadata": {},
   "outputs": [],
   "source": [
    "dataMart = client.data_marts.list(limit = 1)\n",
    "secretId = dataMart.result.data_marts[0].entity.database_configuration.credentials.secret_id\n",
    "print(secretId)\n",
    "\n",
    "SECRET_URL = \"/v2/secrets/{}\".format(secretId)\n",
    "pr = client.prepare_request(\"GET\", SECRET_URL)\n",
    "result = client.send(pr).get_result()\n",
    "result"
   ]
  },
  {
   "cell_type": "markdown",
   "metadata": {},
   "source": [
    "### Add parameters to database configuration"
   ]
  },
  {
   "cell_type": "code",
   "execution_count": null,
   "metadata": {},
   "outputs": [],
   "source": [
    "import json\n",
    "patch_document = [\n",
    "    {\n",
    "        \"op\": \"add\",\n",
    "        \"path\": \"/credentials/additional_properties\",\n",
    "        \"value\": {\n",
    "            \"securityMechanism\": 9,\n",
    "            \"encryptionAlgorithm\": 2\n",
    "        }\n",
    "    }\n",
    "]\n",
    "\n",
    "data = json.dumps(patch_document)\n",
    "print(data)\n",
    "pr = client.prepare_request(method=\"PATCH\", url=SECRET_URL,  data=data)\n",
    "result = client.send(pr).get_result()\n",
    "result"
   ]
  },
  {
   "cell_type": "markdown",
   "metadata": {},
   "source": [
    "## Revert changes in database configuration"
   ]
  },
  {
   "cell_type": "code",
   "execution_count": null,
   "metadata": {},
   "outputs": [],
   "source": [
    "import json\n",
    "patch_document = [\n",
    "    {\n",
    "        \"op\": \"remove\",\n",
    "        \"path\": \"/credentials/additional_properties\",\n",
    "    }\n",
    "]\n",
    "\n",
    "data = json.dumps(patch_document)\n",
    "print(data)\n",
    "pr = client.prepare_request(method=\"PATCH\", url=SECRET_URL,  data=data)\n",
    "result = client.send(pr).get_result()\n",
    "result"
   ]
  }
 ],
 "metadata": {
  "kernelspec": {
   "display_name": ".venv",
   "language": "python",
   "name": "python3"
  },
  "language_info": {
   "codemirror_mode": {
    "name": "ipython",
    "version": 3
   },
   "file_extension": ".py",
   "mimetype": "text/x-python",
   "name": "python",
   "nbconvert_exporter": "python",
   "pygments_lexer": "ipython3",
   "version": "3.11.12"
  }
 },
 "nbformat": 4,
 "nbformat_minor": 2
}
