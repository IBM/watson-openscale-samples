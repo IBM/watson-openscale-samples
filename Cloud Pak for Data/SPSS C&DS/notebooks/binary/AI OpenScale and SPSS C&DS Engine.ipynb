{
 "cells": [
  {
   "cell_type": "markdown",
   "metadata": {
    "id": "08b2b605-0943-4f94-81d1-8b26df0ef7e2"
   },
   "source": [
    "<img src=\"https://github.com/pmservice/ai-openscale-tutorials/raw/master/notebooks/images/banner.png\" align=\"left\" alt=\"banner\">"
   ]
  },
  {
   "cell_type": "markdown",
   "metadata": {
    "id": "5b66a957-00c0-4edb-94dd-4665d0275ff7"
   },
   "source": [
    "# Working with SPSS Collaboration and Deployment Services\n",
    "\n",
    "### Compatible with Cloud Pak for Data Only"
   ]
  },
  {
   "cell_type": "markdown",
   "metadata": {
    "id": "05fc51ea-e408-448d-b01a-6874002410f5"
   },
   "source": [
    "This notebook shows how to log the payload for the model deployed on custom model serving engine using Watson OpenScale python sdk."
   ]
  },
  {
   "cell_type": "markdown",
   "metadata": {
    "id": "3a2fcf7f-5b64-4b8a-afeb-7814cafb4957"
   },
   "source": [
    "Contents\n",
    " - Setup\n",
    " - Binding machine learning engine\n",
    " - Subscriptions\n",
    " - Performance monitor, scoring and payload logging\n",
    " - Quality monitor and feedback logging\n",
    " - Fairness,Drift monitoring and explanations\n",
    " \n",
    "**Note:** This notebook works correctly with kernel `Python 3.9.x` or `Python 3.10.x`. "
   ]
  },
  {
   "cell_type": "markdown",
   "metadata": {
    "id": "5363c225-5e43-4ce1-a5ac-5df148458420"
   },
   "source": [
    "## Setup"
   ]
  },
  {
   "cell_type": "markdown",
   "metadata": {
    "id": "916f9b82-bf39-48ac-af0f-06630e19c4d3"
   },
   "source": [
    "### Sample model creation using SPSS Modeler"
   ]
  },
  {
   "cell_type": "markdown",
   "metadata": {
    "id": "403cb30e-17e2-4241-82be-6c4fef716649"
   },
   "source": [
    "- Download training data set from [here](https://raw.githubusercontent.com/IBM/watson-openscale-samples/main/Cloud%20Pak%20for%20Data/WML/assets/data/credit_risk/credit_risk_training.csv)\n",
    "- Download SPSS Modeler stream from [here](https://raw.githubusercontent.com/IBM/watson-openscale-samples/main/Cloud%20Pak%20for%20Data/SPSS%20C%26DS/assets/models/german_credit_risk_tutorial.str)\n",
    "- Deploy the model using SPSS C&DS as web service"
   ]
  },
  {
   "cell_type": "markdown",
   "metadata": {
    "id": "7d247c0e-ad17-4b0b-9cdc-61d5e9984332"
   },
   "source": [
    "### Installation and authentication"
   ]
  },
  {
   "cell_type": "code",
   "execution_count": null,
   "metadata": {},
   "outputs": [],
   "source": [
    "import warnings\n",
    "warnings.filterwarnings('ignore')"
   ]
  },
  {
   "cell_type": "code",
   "execution_count": null,
   "metadata": {
    "id": "53a81313-6e0d-4658-8872-33cc51b019b0"
   },
   "outputs": [],
   "source": [
    "!pip install --upgrade ibm-watson-openscale | tail -n 1"
   ]
  },
  {
   "cell_type": "markdown",
   "metadata": {
    "id": "cf15bb3f-5dac-4804-9a37-1e2c299a09c1"
   },
   "source": [
    "Import and initiate."
   ]
  },
  {
   "cell_type": "code",
   "execution_count": null,
   "metadata": {
    "id": "4dc5e39f-d4ed-401b-94c6-c3d0703e73b8"
   },
   "outputs": [],
   "source": [
    "WOS_CREDENTIALS = {\n",
    "    \"url\": \"***\",\n",
    "    \"username\": \"***\",\n",
    "    \"password\": \"***\"\n",
    "}"
   ]
  },
  {
   "cell_type": "code",
   "execution_count": null,
   "metadata": {
    "id": "387d161629a8401880ed2a29dc011ba2"
   },
   "outputs": [],
   "source": [
    "WML_CREDENTIALS = {\n",
    "                   \"url\": \"***\",\n",
    "                    \"username\": \"***\",\n",
    "                    \"password\": \"***\",\n",
    "                    \"instance_id\": \"wml_local\",\n",
    "                   \"version\" : \"3.5\"\n",
    "\n",
    "                  }"
   ]
  },
  {
   "cell_type": "markdown",
   "metadata": {},
   "source": [
    "## Cloud object storage details\n",
    "In next cells, you will need to paste some credentials to Cloud Object Storage. If you haven't worked with COS yet please visit getting started with COS tutorial. You can find COS_API_KEY_ID and COS_RESOURCE_CRN variables in Service Credentials in menu of your COS instance. Used COS Service Credentials must be created with Role parameter set as Writer. Later training data file will be loaded to the bucket of your instance and used as training refecence in subsription.\n",
    "COS_ENDPOINT variable can be found in Endpoint field of the menu."
   ]
  },
  {
   "cell_type": "code",
   "execution_count": null,
   "metadata": {
    "id": "1e5dddca694c4155bfc28bba03d69fc5"
   },
   "outputs": [],
   "source": [
    "IAM_URL=\"https://iam.ng.bluemix.net/oidc/token\"\n",
    "COS_API_KEY_ID = \"***\"\n",
    "COS_RESOURCE_CRN = \"***\" # eg \"crn:v1:bluemix:public:cloud-object-storage:global:a/3bf0d9003abfb5d29761c3e97696b71c:d6f04d83-6c4f-4a62-a165-696756d63903::\"\n",
    "COS_ENDPOINT = \"***\" # Current list avaiable at https://control.cloud-object-storage.cloud.ibm.com/v2/endpoints"
   ]
  },
  {
   "cell_type": "code",
   "execution_count": null,
   "metadata": {
    "id": "25c5ef5a8c154067a9196af65ce2a087"
   },
   "outputs": [],
   "source": [
    "BUCKET_NAME = \"***\" #example: \"credit-risk-training-data\"\n",
    "training_data_file_name=\"credit_risk_training.csv\""
   ]
  },
  {
   "cell_type": "code",
   "execution_count": null,
   "metadata": {},
   "outputs": [],
   "source": [
    "instance_id='***' ## default instance ID: 00000000-0000-0000-0000-0000000000000000"
   ]
  },
  {
   "cell_type": "code",
   "execution_count": null,
   "metadata": {
    "id": "63db5b89-3762-4073-b625-b32dbed22015"
   },
   "outputs": [],
   "source": [
    "from ibm_cloud_sdk_core.authenticators import CloudPakForDataAuthenticator\n",
    "from ibm_watson_openscale import APIClient\n",
    "\n",
    "from ibm_watson_openscale import *\n",
    "from ibm_watson_openscale.supporting_classes.enums import *\n",
    "from ibm_watson_openscale.supporting_classes import *\n",
    "\n",
    "authenticator = CloudPakForDataAuthenticator(\n",
    "        url=WOS_CREDENTIALS['url'],\n",
    "        username=WOS_CREDENTIALS['username'],\n",
    "        password=WOS_CREDENTIALS['password'],\n",
    "        disable_ssl_verification=True\n",
    "    )\n",
    "\n",
    "wos_client = APIClient(service_url=WOS_CREDENTIALS['url'],service_instance_id=instance_id,authenticator=authenticator)\n",
    "wos_client.version\n"
   ]
  },
  {
   "cell_type": "markdown",
   "metadata": {
    "id": "4fc443b2-5886-46bc-8ac5-f4c90642e992"
   },
   "source": [
    "#### Let's define some constants required to set up data mart:\n",
    "\n",
    "- AIOS_CREDENTIALS (ICP)\n",
    "- DATABASE_CREDENTIALS (DB2 on ICP)\n",
    "- SCHEMA_NAME"
   ]
  },
  {
   "cell_type": "code",
   "execution_count": null,
   "metadata": {
    "id": "dd9bb3d0-a26e-4165-ba75-34d1068a1508"
   },
   "outputs": [],
   "source": [
    "#IBM DB2 database connection format example\n",
    "DB_CREDENTIALS = {\n",
    "    \"hostname\":\"***\",\n",
    "    \"username\":\"***\",\n",
    "    \"password\":\"***\",\n",
    "    \"database\":\"***\",\n",
    "    \"port\":50000, #provide your actual DB2 port number (as integer value)\n",
    "    \"ssl\":\"***\",\n",
    "    \"sslmode\":\"***\",\n",
    "    \"certificate_base64\":\"***\"}                 "
   ]
  },
  {
   "cell_type": "code",
   "execution_count": null,
   "metadata": {
    "id": "3fe1aaca-1ce4-43b1-8069-2617aa2c3ac4"
   },
   "outputs": [],
   "source": [
    "SCHEMA_NAME = 'SPSSTF01'"
   ]
  },
  {
   "cell_type": "markdown",
   "metadata": {
    "id": "88c764f0-a6fc-4b7c-8d7c-9e6ab36cce21"
   },
   "source": [
    "### DataMart setup\n",
    "\n",
    "Watson OpenScale uses a database to store payload logs and calculated metrics. If database credentials were **not** supplied above, the notebook will use the free, internal lite database. If database credentials were supplied, the datamart will be created there **unless** there is an existing datamart **and** the **KEEP_MY_INTERNAL_POSTGRES** variable is set to **True**. If an OpenScale datamart exists in Db2 or PostgreSQL, the existing datamart will be used and no data will be overwritten.\n",
    "\n",
    "Prior instances of the German Credit model will be removed from OpenScale monitoring."
   ]
  },
  {
   "cell_type": "code",
   "execution_count": null,
   "metadata": {
    "id": "97e4dee6-a79d-42e0-9520-87b543ec403e"
   },
   "outputs": [],
   "source": [
    "wos_client.data_marts.show()"
   ]
  },
  {
   "cell_type": "code",
   "execution_count": null,
   "metadata": {
    "id": "7f5d5fc0-e4a8-4d6d-9660-b29cebc2c3a7"
   },
   "outputs": [],
   "source": [
    "data_marts = wos_client.data_marts.list().result.data_marts\n",
    "if len(data_marts) == 0:\n",
    "    if DB_CREDENTIALS is not None:\n",
    "        if SCHEMA_NAME is None: \n",
    "            print(\"Please specify the SCHEMA_NAME and rerun the cell\")\n",
    "\n",
    "        print('Setting up external datamart')\n",
    "        added_data_mart_result = wos_client.data_marts.add(\n",
    "                background_mode=False,\n",
    "                name=\"WOS Data Mart\",\n",
    "                description=\"Data Mart created by WOS tutorial notebook\",\n",
    "                database_configuration=DatabaseConfigurationRequest(\n",
    "                  database_type=DatabaseType.POSTGRESQL,\n",
    "                    credentials=PrimaryStorageCredentialsLong(\n",
    "                        hostname=DB_CREDENTIALS['hostname'],\n",
    "                        username=DB_CREDENTIALS['username'],\n",
    "                        password=DB_CREDENTIALS['password'],\n",
    "                        db=DB_CREDENTIALS['database'],\n",
    "                        port=DB_CREDENTIALS['port'],\n",
    "                        ssl=True,\n",
    "                        sslmode=DB_CREDENTIALS['sslmode'],\n",
    "                        certificate_base64=DB_CREDENTIALS['certificate_base64']\n",
    "                    ),\n",
    "                    location=LocationSchemaName(\n",
    "                        schema_name= SCHEMA_NAME\n",
    "                    )\n",
    "                )\n",
    "             ).result\n",
    "    else:\n",
    "        print('Setting up internal datamart')\n",
    "        added_data_mart_result = wos_client.data_marts.add(\n",
    "                background_mode=False,\n",
    "                name=\"WOS Data Mart\",\n",
    "                description=\"Data Mart created by WOS tutorial notebook\", \n",
    "                internal_database = True).result\n",
    "        \n",
    "    data_mart_id = added_data_mart_result.metadata.id\n",
    "    \n",
    "else:\n",
    "    data_mart_id=data_marts[0].metadata.id\n",
    "    print('Using existing datamart {}'.format(data_mart_id))"
   ]
  },
  {
   "cell_type": "markdown",
   "metadata": {
    "id": "6f38630c-213d-46c0-868e-a06a324be6ca"
   },
   "source": [
    "<a id=\"binding\"></a>\n",
    "## Bind machine learning engines"
   ]
  },
  {
   "cell_type": "markdown",
   "metadata": {
    "id": "54a6b23d-0f2a-4468-9309-f074618dd13f"
   },
   "source": [
    "### Bind  `SPSS C&DS` machine learning engine\n",
    "\n",
    "Provide credentials using following fields:\n",
    "- `username`\n",
    "- `password`\n",
    "- `url`"
   ]
  },
  {
   "cell_type": "code",
   "execution_count": null,
   "metadata": {
    "id": "455a9060-ea4e-488a-b566-97825ce0c0b3"
   },
   "outputs": [],
   "source": [
    "SPSS_CDS_ENGINE_CREDENTIALS = {\n",
    "        \"url\": \"***\",\n",
    "        \"username\": \"admin\",\n",
    "        \"password\": \"spss\",\n",
    "    }"
   ]
  },
  {
   "cell_type": "code",
   "execution_count": null,
   "metadata": {
    "id": "d05c0ef7-f746-4198-b805-cfa91c3411fc"
   },
   "outputs": [],
   "source": [
    "SERVICE_PROVIDER_NAME = \"V2 SPSS test\"\n",
    "SERVICE_PROVIDER_DESCRIPTION = \"Added by tutorial WOS notebook.\""
   ]
  },
  {
   "cell_type": "code",
   "execution_count": null,
   "metadata": {
    "id": "6209f128-7026-41ff-aaf2-62c243ae9bdf"
   },
   "outputs": [],
   "source": [
    "service_providers = wos_client.service_providers.list().result.service_providers\n",
    "for service_provider in service_providers:\n",
    "    service_instance_name = service_provider.entity.name\n",
    "    if service_instance_name == SERVICE_PROVIDER_NAME:\n",
    "        service_provider_id = service_provider.metadata.id\n",
    "        wos_client.service_providers.delete(service_provider_id)\n",
    "        print(\"Deleted existing service_provider for WML instance: {}\".format(service_provider_id))"
   ]
  },
  {
   "cell_type": "code",
   "execution_count": null,
   "metadata": {
    "id": "b84c7970-1d12-4fd8-92d6-786dbc09f5bf"
   },
   "outputs": [],
   "source": [
    "added_service_provider_result = wos_client.service_providers.add(\n",
    "        name=SERVICE_PROVIDER_NAME,\n",
    "        description=SERVICE_PROVIDER_DESCRIPTION,\n",
    "        service_type=ServiceTypes.SPSS_COLLABORATION_AND_DEPLOYMENT_SERVICES,\n",
    "        credentials=SPSSCredentials(\n",
    "            url=SPSS_CDS_ENGINE_CREDENTIALS['url'],      \n",
    "            username=SPSS_CDS_ENGINE_CREDENTIALS[\"username\"],\n",
    "            password=SPSS_CDS_ENGINE_CREDENTIALS['password']\n",
    "        ),\n",
    "        background_mode=False\n",
    "    ).result\n",
    "service_provider_id = added_service_provider_result.metadata.id"
   ]
  },
  {
   "cell_type": "code",
   "execution_count": null,
   "metadata": {
    "id": "bac4e8e4-42ac-4ca6-b942-ab873ee08b70",
    "scrolled": true
   },
   "outputs": [],
   "source": [
    "asset_deployment_details = wos_client.service_providers.list_assets(data_mart_id=data_mart_id, service_provider_id=service_provider_id).result['resources']\n",
    "asset_deployment_details"
   ]
  },
  {
   "cell_type": "code",
   "execution_count": null,
   "metadata": {
    "id": "bdffe04952f745e383598315a1b3c6a9"
   },
   "outputs": [],
   "source": [
    "MODEL_NAME='german_credit_risk_tutorial' # use the model name here \n",
    "model_asset_details_from_deployment = [asset for asset in asset_deployment_details if asset['entity'][\"name\"]==MODEL_NAME]\n",
    "source_uid = [asset['entity']['asset']['asset_id'] for asset in asset_deployment_details if asset['entity'][\"name\"]==MODEL_NAME]\n",
    "if len(model_asset_details_from_deployment)>0:\n",
    "    [model_asset_details_from_deployment] = model_asset_details_from_deployment\n",
    "    [source_uid] = source_uid\n",
    "else:\n",
    "    raise ValueError('Model with name \"{}\" not found.'.format(MODEL_NAME))"
   ]
  },
  {
   "cell_type": "markdown",
   "metadata": {
    "id": "9346d593-dbbd-482e-a45a-5d0a249ee14a"
   },
   "source": [
    "<a id=\"subsciption\"></a>\n",
    "## Subscriptions"
   ]
  },
  {
   "cell_type": "markdown",
   "metadata": {
    "id": "8dcbb759-24ea-4e98-9d36-531b0e14192e"
   },
   "source": [
    "### Add subscriptions"
   ]
  },
  {
   "cell_type": "markdown",
   "metadata": {
    "id": "a34dd2d7-ca69-4249-b248-188570964fc8"
   },
   "source": [
    "List available deployments.\n",
    "\n",
    "**Note:** Depending on number of assets it may take some time."
   ]
  },
  {
   "cell_type": "code",
   "execution_count": null,
   "metadata": {
    "id": "f07d1764-ad50-4a96-b926-c292fb4967b6"
   },
   "outputs": [],
   "source": [
    "wos_client.subscriptions.show()"
   ]
  },
  {
   "cell_type": "code",
   "execution_count": null,
   "metadata": {
    "id": "42e505aac9e541c889addc9ea291e002"
   },
   "outputs": [],
   "source": [
    "subscriptions = wos_client.subscriptions.list().result.subscriptions\n",
    "for subscription in subscriptions:\n",
    "    sub_model_id = subscription.entity.asset.asset_id\n",
    "    if sub_model_id == source_uid:\n",
    "        wos_client.subscriptions.delete(subscription.metadata.id)\n",
    "        print('Deleted existing subscription for model', sub_model_id)"
   ]
  },
  {
   "cell_type": "code",
   "execution_count": null,
   "metadata": {
    "id": "aa0898089c5647ac86a31b4907a171a7"
   },
   "outputs": [],
   "source": [
    "training_data_reference= TrainingDataReference(type='cos',\n",
    "                                                          location=COSTrainingDataReferenceLocation(bucket = BUCKET_NAME,\n",
    "                                                                                                    file_name = training_data_file_name),\n",
    "                                                          connection=COSTrainingDataReferenceConnection.from_dict({\n",
    "                                                                        \"resource_instance_id\": COS_RESOURCE_CRN,\n",
    "                                                                        \"url\": COS_ENDPOINT,\n",
    "                                                                        \"api_key\": COS_API_KEY_ID,\n",
    "                                                                        \"iam_url\": IAM_URL}))"
   ]
  },
  {
   "cell_type": "code",
   "execution_count": null,
   "metadata": {
    "id": "cf352153bdf242748f205dc2b70eecae"
   },
   "outputs": [],
   "source": [
    "subscription_details = wos_client.subscriptions.add(\n",
    "        data_mart_id=data_mart_id,\n",
    "        service_provider_id=service_provider_id,\n",
    "        asset=Asset(\n",
    "            asset_id=model_asset_details_from_deployment[\"entity\"][\"asset\"][\"asset_id\"],\n",
    "            name=model_asset_details_from_deployment[\"entity\"][\"asset\"][\"name\"],\n",
    "            url=model_asset_details_from_deployment[\"entity\"][\"asset\"][\"url\"],\n",
    "            asset_type=AssetTypes.MODEL,\n",
    "            input_data_type=InputDataType.STRUCTURED,\n",
    "            problem_type=ProblemType.BINARY_CLASSIFICATION\n",
    "        ),\n",
    "        deployment=AssetDeploymentRequest(\n",
    "            deployment_id=model_asset_details_from_deployment['metadata']['guid'],\n",
    "            name=model_asset_details_from_deployment['entity']['name'],\n",
    "            deployment_type= DeploymentTypes.ONLINE,\n",
    "            url=model_asset_details_from_deployment['entity']['scoring_endpoint']['url']\n",
    "        ),\n",
    "        asset_properties=AssetPropertiesRequest(\n",
    "            label_column='Risk',\n",
    "            probability_fields=['$NP-No Risk','$NP-Risk'],\n",
    "            prediction_field='$N-Risk',\n",
    "            feature_fields = [\"CheckingStatus\",\"LoanDuration\",\"CreditHistory\",\"LoanPurpose\",\"LoanAmount\",\"ExistingSavings\",\"EmploymentDuration\",\"InstallmentPercent\",\"Sex\",\"OthersOnLoan\",\"CurrentResidenceDuration\",\"OwnsProperty\",\"Age\",\"InstallmentPlans\",\"Housing\",\"ExistingCreditsCount\",\"Job\",\"Dependents\",\"Telephone\",\"ForeignWorker\"],\n",
    "            categorical_fields = [\"CheckingStatus\",\"CreditHistory\",\"LoanPurpose\",\"ExistingSavings\",\"EmploymentDuration\",\"Sex\",\"OthersOnLoan\",\"OwnsProperty\",\"InstallmentPlans\",\"Housing\",\"Job\",\"Telephone\",\"ForeignWorker\"],\n",
    "            training_data_reference=training_data_reference,\n",
    "            input_data_schema=SparkStruct.from_dict(model_asset_details_from_deployment[\"entity\"][\"asset_properties\"][\"input_data_schema\"]),\n",
    "            output_data_schema=SparkStruct.from_dict(model_asset_details_from_deployment[\"entity\"][\"asset_properties\"][\"output_data_schema\"])\n",
    "\n",
    "        )\n",
    "    ).result\n",
    "subscription_id = subscription_details.metadata.id\n",
    "subscription_id"
   ]
  },
  {
   "cell_type": "markdown",
   "metadata": {
    "id": "9804b390-fde8-4616-aa9b-84ce0529a764"
   },
   "source": [
    "## Performance monitor, scoring and payload logging"
   ]
  },
  {
   "cell_type": "markdown",
   "metadata": {
    "id": "1f48fb7a-5bf3-46cf-9c3f-e933851a392b"
   },
   "source": [
    "### Score the credit risk model and measure response time"
   ]
  },
  {
   "cell_type": "code",
   "execution_count": null,
   "metadata": {
    "id": "6686e6d6-f364-4e70-80b8-95db203d6b8e"
   },
   "outputs": [],
   "source": [
    "import requests\n",
    "from requests.auth import HTTPBasicAuth\n",
    "import time\n",
    "import json\n",
    "\n",
    "scoring_endpoint = subscription_details.to_dict()['entity']['deployment']['url']\n",
    "input_table_id = subscription_details.to_dict()['entity']['asset_properties']['input_data_schema']['id']\n",
    "node_id = subscription_details.to_dict()['entity']['asset']['name']\n",
    "\n",
    "scoring_payload = {'requestInputTable': [{'id': input_table_id, 'requestInputRow': [{'input': [\n",
    "            {'name': 'CheckingStatus', 'value': '0_to_200'}, {'name': 'LoanDuration', 'value': 31},\n",
    "            {'name': 'CreditHistory', 'value': 'credits_paid_to_date'}, {'name': 'LoanPurpose', 'value': 'other'},\n",
    "            {'name': 'LoanAmount', 'value': 1889}, {'name': 'ExistingSavings', 'value': '100_to_500'},\n",
    "            {'name': 'EmploymentDuration', 'value': 'less_1'}, {'name': 'InstallmentPercent', 'value': 3},\n",
    "            {'name': 'Sex', 'value': 'female'}, {'name': 'OthersOnLoan', 'value': 'none'},\n",
    "            {'name': 'CurrentResidenceDuration', 'value': 3}, {'name': 'OwnsProperty', 'value': 'savings_insurance'},\n",
    "            {'name': 'Age', 'value': 32}, {'name': 'InstallmentPlans', 'value': 'none'},\n",
    "            {'name': 'Housing', 'value': 'own'}, {'name': 'ExistingCreditsCount', 'value': 1},\n",
    "            {'name': 'Job', 'value': 'skilled'}, {'name': 'Dependents', 'value': 1},\n",
    "            {'name': 'Telephone', 'value': 'none'}, {'name': 'ForeignWorker', 'value': 'yes'}]}]}], 'id': node_id}\n",
    "\n",
    "start_time = time.time()\n",
    "resp_score = requests.post(url=scoring_endpoint, json=scoring_payload, auth=HTTPBasicAuth(username=SPSS_CDS_ENGINE_CREDENTIALS['username'], password=SPSS_CDS_ENGINE_CREDENTIALS['password']))\n",
    "\n",
    "response_time = int((time.time() - start_time)*1000)\n",
    "result = resp_score.json()\n",
    "\n",
    "print(result)"
   ]
  },
  {
   "cell_type": "markdown",
   "metadata": {
    "id": "310219ca-3aa4-4264-8c1a-080aacaf1624"
   },
   "source": [
    "### Store the request and response in payload logging table"
   ]
  },
  {
   "cell_type": "markdown",
   "metadata": {
    "id": "fa509ce2-828f-4aca-bcb5-203545ef76af"
   },
   "source": [
    "#### Store the payload using Python SDK"
   ]
  },
  {
   "cell_type": "markdown",
   "metadata": {
    "id": "34f5fc5a-5642-488f-829d-510462c21594"
   },
   "source": [
    "**Hint:** You can embed payload logging code into your application so it is logged automatically each time you score the model."
   ]
  },
  {
   "cell_type": "code",
   "execution_count": null,
   "metadata": {
    "id": "ad04aec1253a457fa9add92d3d976cd2"
   },
   "outputs": [],
   "source": [
    "import time\n",
    "\n",
    "time.sleep(5)\n",
    "payload_data_set_id = None\n",
    "payload_data_set_id = wos_client.data_sets.list(type=DataSetTypes.PAYLOAD_LOGGING, \n",
    "                                                target_target_id=subscription_id, \n",
    "                                                target_target_type=TargetTypes.SUBSCRIPTION).result.data_sets[0].metadata.id\n",
    "if payload_data_set_id is None:\n",
    "    print(\"Payload data set not found. Please check subscription status.\")\n",
    "else:\n",
    "    print(\"Payload data set id: \", payload_data_set_id)"
   ]
  },
  {
   "cell_type": "code",
   "execution_count": null,
   "metadata": {
    "id": "4b04e1b61d0a4b6592ecbf5a6d17da54"
   },
   "outputs": [],
   "source": [
    "import pandas as pd\n",
    "df_data = pd.read_csv(\"https://raw.githubusercontent.com/IBM/watson-openscale-samples/main/Cloud%20Pak%20for%20Data/SPSS%20C%26DS/assets/data/credit_risk_spss/payload_credit_risk.csv\")\n",
    "df_data=df_data.drop(['Risk'],axis=1)\n",
    "df_data.head()"
   ]
  },
  {
   "cell_type": "code",
   "execution_count": null,
   "metadata": {
    "id": "7f8414f68d3e40808d49fa12118948d2"
   },
   "outputs": [],
   "source": [
    "#score using couple sample records\n",
    "payload=df_data.sample(2)"
   ]
  },
  {
   "cell_type": "code",
   "execution_count": null,
   "metadata": {
    "id": "500c95810f01498eb13762b1907b6680"
   },
   "outputs": [],
   "source": [
    "values = payload.values.tolist()\n",
    "columns = payload.columns.tolist()"
   ]
  },
  {
   "cell_type": "code",
   "execution_count": null,
   "metadata": {
    "id": "12f291e0707440f9971716ef34284857"
   },
   "outputs": [],
   "source": [
    "records_list=[]\n",
    "for i in payload.to_dict('records'):\n",
    "    b=[{\"name\":x,\"value\":v} for x,v in i.items()]\n",
    "    records_list.append({'input': b})"
   ]
  },
  {
   "cell_type": "code",
   "execution_count": null,
   "metadata": {
    "id": "872795ea699f41dd8d87f36aa792da5c"
   },
   "outputs": [],
   "source": [
    "scoring_payload = {'requestInputTable': [{'id': input_table_id, 'requestInputRow': records_list}], 'id': node_id}"
   ]
  },
  {
   "cell_type": "code",
   "execution_count": null,
   "metadata": {
    "id": "a437d5d64233446da5861691f13d0c26"
   },
   "outputs": [],
   "source": [
    "resp_score = requests.post(url=scoring_endpoint, json=scoring_payload, auth=HTTPBasicAuth(username=SPSS_CDS_ENGINE_CREDENTIALS['username'], password=SPSS_CDS_ENGINE_CREDENTIALS['password']))\n",
    "\n",
    "response_time = int((time.time() - start_time)*1000)\n",
    "result = resp_score.json()\n",
    "print(result)"
   ]
  },
  {
   "cell_type": "markdown",
   "metadata": {},
   "source": [
    "### Format scoring response for payload logging"
   ]
  },
  {
   "cell_type": "code",
   "execution_count": null,
   "metadata": {
    "id": "bfdd15b6dd034b19a92e58dc5e937509"
   },
   "outputs": [],
   "source": [
    "res_values=[]\n",
    "for i in result['rowValues']:\n",
    "    d= [j for j in i['value']]\n",
    "    res_values.append([k['value'] for k in d])"
   ]
  },
  {
   "cell_type": "code",
   "execution_count": null,
   "metadata": {
    "id": "1e7cb29606294578bce56e5b7c5f1454"
   },
   "outputs": [],
   "source": [
    "dtype_idx=[1,4,7,10,12,15,17] # change numeric features values in scoring response from String to Integer\n",
    "dtype_predictions_idx=[21,22,23] # change prediction, probability column values in scoring response from String to Float\n",
    "\n",
    "for val in res_values:\n",
    "    for idx in dtype_idx:\n",
    "        val[idx]=int(val[idx])\n",
    "    for idx in dtype_predictions_idx:\n",
    "        val[idx]=float(val[idx])     "
   ]
  },
  {
   "cell_type": "code",
   "execution_count": null,
   "metadata": {
    "id": "010e48452f114dc282aeba45a70e91b3"
   },
   "outputs": [],
   "source": [
    "request = {\n",
    "            \"fields\": payload.columns.tolist(),\n",
    "            \"values\": payload.values.tolist()\n",
    "        }\n",
    "response = {\n",
    "            \"fields\": result['columnNames']['name'],\n",
    "            \"values\": res_values\n",
    "        }"
   ]
  },
  {
   "cell_type": "code",
   "execution_count": null,
   "metadata": {
    "id": "7a9057514a404503a227f33803e507b0"
   },
   "outputs": [],
   "source": [
    "import uuid\n",
    "from ibm_watson_openscale.supporting_classes.payload_record import PayloadRecord\n",
    "time.sleep(5)\n",
    "wos_client.data_sets.store_records(data_set_id=payload_data_set_id, request_body=[PayloadRecord(\n",
    "               scoring_id=str(uuid.uuid4()),\n",
    "               request=request,\n",
    "               response=response,\n",
    "               response_time=460\n",
    "           )])\n",
    "time.sleep(5)\n",
    "pl_records_count = wos_client.data_sets.get_records_count(payload_data_set_id)\n",
    "print(\"Number of records in the payload logging table: {}\".format(pl_records_count))"
   ]
  },
  {
   "cell_type": "code",
   "execution_count": null,
   "metadata": {
    "id": "8b49e8fe119d4eab8b0365e7b9de5c03"
   },
   "outputs": [],
   "source": [
    "wos_client.data_sets.show_records(payload_data_set_id)"
   ]
  },
  {
   "cell_type": "markdown",
   "metadata": {
    "id": "57bbd96f-3511-4899-b24f-c08587e1e717"
   },
   "source": [
    "## Quality monitor and feedback logging"
   ]
  },
  {
   "cell_type": "markdown",
   "metadata": {
    "id": "e7b5ce5b-1032-43ee-83af-271a78f5a42f"
   },
   "source": [
    "### Enable quality monitoring"
   ]
  },
  {
   "cell_type": "code",
   "execution_count": null,
   "metadata": {
    "id": "ee503614-0460-4854-b3da-e43908a6cf75"
   },
   "outputs": [],
   "source": [
    "import time\n",
    "\n",
    "time.sleep(10)\n",
    "target = Target(\n",
    "        target_type=TargetTypes.SUBSCRIPTION,\n",
    "        target_id=subscription_id\n",
    ")\n",
    "parameters = {\n",
    "    \"min_feedback_data_size\": 50\n",
    "}\n",
    "thresholds = [\n",
    "                {\n",
    "                    \"metric_id\": \"area_under_roc\",\n",
    "                    \"type\": \"lower_limit\",\n",
    "                    \"value\": .80\n",
    "                }\n",
    "            ]\n",
    "quality_monitor_details = wos_client.monitor_instances.create(\n",
    "    data_mart_id=data_mart_id,\n",
    "    background_mode=False,\n",
    "    monitor_definition_id=wos_client.monitor_definitions.MONITORS.QUALITY.ID,\n",
    "    target=target,\n",
    "    parameters=parameters,\n",
    "    thresholds=thresholds\n",
    ").result"
   ]
  },
  {
   "cell_type": "code",
   "execution_count": null,
   "metadata": {
    "id": "7e8422636593429c83c8bf2010331ec5"
   },
   "outputs": [],
   "source": [
    "quality_monitor_instance_id = quality_monitor_details.metadata.id\n",
    "quality_monitor_instance_id"
   ]
  },
  {
   "cell_type": "markdown",
   "metadata": {
    "id": "525467fb-8d76-4961-80d1-2ca1bb62c470"
   },
   "source": [
    "### Feedback records logging"
   ]
  },
  {
   "cell_type": "markdown",
   "metadata": {
    "id": "da8418c5-1b3d-4cb4-a4c7-d0b4c08cb6a3"
   },
   "source": [
    "Feedback records are used to evaluate your model. The predicted values are compared to real values (feedback records)."
   ]
  },
  {
   "cell_type": "code",
   "execution_count": null,
   "metadata": {
    "id": "13bd5ef2e2ce4e06a1d6f61abd6e5fe0"
   },
   "outputs": [],
   "source": [
    "feedback_dataset_id = None\n",
    "feedback_dataset = wos_client.data_sets.list(type=DataSetTypes.FEEDBACK, \n",
    "                                                target_target_id=subscription_id, \n",
    "                                                target_target_type=TargetTypes.SUBSCRIPTION).result\n",
    "#print(feedback_dataset)\n",
    "feedback_dataset_id = feedback_dataset.data_sets[0].metadata.id\n",
    "if feedback_dataset_id is None:\n",
    "    print(\"Feedback data set not found. Please check quality monitor status.\")"
   ]
  },
  {
   "cell_type": "markdown",
   "metadata": {
    "id": "e8a81d9c-f1c2-4eaf-bfcd-cd5367be1045"
   },
   "source": [
    "#### Store feedback using CSV format from file"
   ]
  },
  {
   "cell_type": "code",
   "execution_count": null,
   "metadata": {
    "id": "0a5cfb08-4c7d-4a9f-82d7-6f27b0bdb935"
   },
   "outputs": [],
   "source": [
    "#!wget https://raw.githubusercontent.com/pmservice/wml-sample-models/master/spss/credit-risk/data/credit_risk_feedback.csv\n",
    "feed_data_load = pd.read_csv('https://raw.githubusercontent.com/IBM/watson-openscale-samples/main/Cloud%20Pak%20for%20Data/SPSS%20C%26DS/assets/data/credit_risk_spss/feedback_credit_risk.csv')\n",
    "feedback_data = json.loads(feed_data_load.to_json(orient='records'))\n",
    "feedback_data"
   ]
  },
  {
   "cell_type": "code",
   "execution_count": null,
   "metadata": {
    "id": "605b0e5ce525441887bc141ccd0755cf"
   },
   "outputs": [],
   "source": [
    "wos_client.data_sets.store_records(feedback_dataset_id, request_body=feedback_data, background_mode=False)"
   ]
  },
  {
   "cell_type": "code",
   "execution_count": null,
   "metadata": {
    "id": "efbb4875a29b40909cb3f117aa6d4aaf"
   },
   "outputs": [],
   "source": [
    "wos_client.data_sets.show_records(data_set_id=feedback_dataset_id)"
   ]
  },
  {
   "cell_type": "markdown",
   "metadata": {
    "id": "7cdeb14b-5eeb-41cd-9624-ab8f9072c64b"
   },
   "source": [
    "### Run quality monitoring on demand"
   ]
  },
  {
   "cell_type": "markdown",
   "metadata": {
    "id": "cc87cac4-acc5-4b7a-8d62-12891e48990f"
   },
   "source": [
    "By default, quality monitoring is run on hourly schedule. You can also trigger it on demand using below code."
   ]
  },
  {
   "cell_type": "code",
   "execution_count": null,
   "metadata": {
    "id": "10b63148b0714e429572906308ccab81"
   },
   "outputs": [],
   "source": [
    "run_details = wos_client.monitor_instances.run(monitor_instance_id=quality_monitor_instance_id, background_mode=False).result"
   ]
  },
  {
   "cell_type": "code",
   "execution_count": null,
   "metadata": {
    "id": "4c34ede38700447e9ba14aa1a7dfbc57"
   },
   "outputs": [],
   "source": [
    "time.sleep(5)\n",
    "wos_client.monitor_instances.show_metrics(monitor_instance_id=quality_monitor_instance_id)"
   ]
  },
  {
   "cell_type": "markdown",
   "metadata": {
    "id": "07d52d6e-b84f-4355-89be-8b6c82a4f62b"
   },
   "source": [
    "## Fairness monitoring and explanations"
   ]
  },
  {
   "cell_type": "markdown",
   "metadata": {
    "id": "f686cf2c-46f0-4a8a-a8a4-5a101108068e"
   },
   "source": [
    "### Enable and run fairness monitoring"
   ]
  },
  {
   "cell_type": "code",
   "execution_count": null,
   "metadata": {
    "id": "f8e6bb07-30fa-4f49-9df2-e6b325224f7e"
   },
   "outputs": [],
   "source": [
    "target = Target(\n",
    "    target_type=TargetTypes.SUBSCRIPTION,\n",
    "    target_id=subscription_id\n",
    "\n",
    ")\n",
    "parameters = {\n",
    "    \"features\": [\n",
    "        {\"feature\": \"Sex\",\n",
    "         \"majority\": ['male'],\n",
    "         \"minority\": ['female'],\n",
    "         \"threshold\": 0.95\n",
    "         },\n",
    "        {\"feature\": \"Age\",\n",
    "         \"majority\": [[26, 75]],\n",
    "         \"minority\": [[18, 25]],\n",
    "         \"threshold\": 0.95\n",
    "         }\n",
    "    ],\n",
    "    \"favourable_class\": [\"No Risk\"],\n",
    "    \"unfavourable_class\": [\"Risk\"],\n",
    "    \"min_records\": 40\n",
    "}\n",
    "\n",
    "fairness_monitor_details = wos_client.monitor_instances.create(\n",
    "    data_mart_id=data_mart_id,\n",
    "    background_mode=False,\n",
    "    monitor_definition_id=wos_client.monitor_definitions.MONITORS.FAIRNESS.ID,\n",
    "    target=target,\n",
    "    parameters=parameters).result\n",
    "fairness_monitor_instance_id =fairness_monitor_details.metadata.id\n",
    "fairness_monitor_instance_id"
   ]
  },
  {
   "cell_type": "markdown",
   "metadata": {},
   "source": [
    "### Score, format and store payload records"
   ]
  },
  {
   "cell_type": "code",
   "execution_count": null,
   "metadata": {
    "id": "1966756c989d4c4e8532817ac10b7e95"
   },
   "outputs": [],
   "source": [
    "payload=df_data.sample(50)"
   ]
  },
  {
   "cell_type": "code",
   "execution_count": null,
   "metadata": {
    "id": "3e846b1b0846465486c4eed6b9dad6cd"
   },
   "outputs": [],
   "source": [
    "records_list=[]\n",
    "for i in payload.to_dict('records'):\n",
    "    b=[{\"name\":x,\"value\":v} for x,v in i.items()]\n",
    "    records_list.append({'input': b})"
   ]
  },
  {
   "cell_type": "code",
   "execution_count": null,
   "metadata": {
    "id": "740d7e346507421489bd31be04a4f975"
   },
   "outputs": [],
   "source": [
    "scoring_payload = {'requestInputTable': [{'id': input_table_id, 'requestInputRow': records_list}], 'id': node_id}\n",
    "resp_score = requests.post(url=scoring_endpoint, json=scoring_payload, auth=HTTPBasicAuth(username=SPSS_CDS_ENGINE_CREDENTIALS['username'], password=SPSS_CDS_ENGINE_CREDENTIALS['password']))\n",
    "result = resp_score.json()"
   ]
  },
  {
   "cell_type": "code",
   "execution_count": null,
   "metadata": {
    "id": "ec20f498725343db88eea1852fb71b83"
   },
   "outputs": [],
   "source": [
    "res_values=[]\n",
    "for i in result['rowValues']:\n",
    "    d= [j for j in i['value']]\n",
    "    res_values.append([k['value'] for k in d])"
   ]
  },
  {
   "cell_type": "code",
   "execution_count": null,
   "metadata": {
    "id": "830e5562525245dd9a05ae004a75960f"
   },
   "outputs": [],
   "source": [
    "dtype_idx=[1,4,7,10,12,15,17] # change numeric features values in scoring response from String to Integer\n",
    "dtype_predictions_idx=[21,22,23] # change prediction, probability column values in scoring response from String to Float\n",
    "\n",
    "for val in res_values:\n",
    "    for idx in dtype_idx:\n",
    "        val[idx]=int(val[idx])\n",
    "    for idx in dtype_predictions_idx:\n",
    "        val[idx]=float(val[idx])\n",
    "len(res_values)       "
   ]
  },
  {
   "cell_type": "code",
   "execution_count": null,
   "metadata": {
    "id": "de0e47ab9ebc4ed189717040d346b445"
   },
   "outputs": [],
   "source": [
    "request = {\n",
    "            \"fields\": payload.columns.tolist(),\n",
    "            \"values\": payload.values.tolist()\n",
    "        }\n",
    "response = {\n",
    "            \"fields\": result['columnNames']['name'],\n",
    "            \"values\": res_values\n",
    "        }"
   ]
  },
  {
   "cell_type": "code",
   "execution_count": null,
   "metadata": {
    "id": "f4f6fa4ac24542b789646d1cfd53d6b9"
   },
   "outputs": [],
   "source": [
    "import uuid\n",
    "from ibm_watson_openscale.supporting_classes.payload_record import PayloadRecord\n",
    "time.sleep(5)\n",
    "wos_client.data_sets.store_records(data_set_id=payload_data_set_id, request_body=[PayloadRecord(\n",
    "               scoring_id=str(uuid.uuid4()),\n",
    "               request=request,\n",
    "               response=response,\n",
    "               response_time=460\n",
    "           )])\n",
    "time.sleep(10)\n",
    "pl_records_count = wos_client.data_sets.get_records_count(payload_data_set_id)\n",
    "print(\"Number of records in the payload logging table: {}\".format(pl_records_count))"
   ]
  },
  {
   "cell_type": "code",
   "execution_count": null,
   "metadata": {
    "id": "7051f25853c9403a961f5ba190ccdeb1"
   },
   "outputs": [],
   "source": [
    "run_details = wos_client.monitor_instances.run(monitor_instance_id=fairness_monitor_instance_id, background_mode=False)"
   ]
  },
  {
   "cell_type": "code",
   "execution_count": null,
   "metadata": {
    "id": "fb8d501d12964c258fe86fd4e7c392ca"
   },
   "outputs": [],
   "source": [
    "time.sleep(10)\n",
    "wos_client.monitor_instances.show_metrics(monitor_instance_id=fairness_monitor_instance_id)"
   ]
  },
  {
   "cell_type": "markdown",
   "metadata": {
    "id": "c5676e7c-d5a1-482b-b9ff-e1a98346ccbc"
   },
   "source": [
    "### Explainability configuration and run"
   ]
  },
  {
   "cell_type": "markdown",
   "metadata": {
    "id": "a801c94d-6d5b-4c99-96ce-e7cc81e18607"
   },
   "source": [
    "#### Enable explainability"
   ]
  },
  {
   "cell_type": "code",
   "execution_count": null,
   "metadata": {
    "id": "dbcba692-342f-4c29-b382-fdf48862d7e8"
   },
   "outputs": [],
   "source": [
    "target = Target(\n",
    "    target_type=TargetTypes.SUBSCRIPTION,\n",
    "    target_id=subscription_id\n",
    ")\n",
    "parameters = {\n",
    "    \"enabled\": True\n",
    "}\n",
    "explainability_details = wos_client.monitor_instances.create(\n",
    "    data_mart_id=data_mart_id,\n",
    "    background_mode=False,\n",
    "    monitor_definition_id=wos_client.monitor_definitions.MONITORS.EXPLAINABILITY.ID,\n",
    "    target=target,\n",
    "    parameters=parameters\n",
    ").result\n",
    "explainability_monitor_id = explainability_details.metadata.id\n",
    "explainability_monitor_id"
   ]
  },
  {
   "cell_type": "markdown",
   "metadata": {
    "id": "779c1a1c-e73b-484c-b6e5-90f79df00a6e"
   },
   "source": [
    "#### Get sample transaction_id from payload logging table (`scoring_id`)"
   ]
  },
  {
   "cell_type": "code",
   "execution_count": null,
   "metadata": {
    "id": "020c5986-6970-46ea-b207-e2197e2bdca6"
   },
   "outputs": [],
   "source": [
    "pl_records_resp = wos_client.data_sets.get_list_of_records(data_set_id=payload_data_set_id, limit=1, offset=0).result\n",
    "scoring_ids = [pl_records_resp[\"records\"][0][\"entity\"][\"values\"][\"scoring_id\"]]\n",
    "print(\"Running explanations on scoring IDs: {}\".format(scoring_ids))\n",
    "explanation_types = [\"lime\", \"contrastive\"]\n",
    "result = wos_client.monitor_instances.explanation_tasks(scoring_ids=scoring_ids, explanation_types=explanation_types, subscription_id=subscription_id).result\n",
    "print(result)\n",
    "explanation_task_id=result.to_dict()['metadata']['explanation_task_ids'][0]\n",
    "explanation_task_id"
   ]
  },
  {
   "cell_type": "code",
   "execution_count": null,
   "metadata": {
    "id": "45e923db-29a7-408d-ae78-57f921d934f9"
   },
   "outputs": [],
   "source": [
    "wos_client.monitor_instances.get_explanation_tasks(explanation_task_id=explanation_task_id, subscription_id=subscription_id).result.to_dict()"
   ]
  },
  {
   "cell_type": "markdown",
   "metadata": {},
   "source": [
    "### Enable and run drift monitoring"
   ]
  },
  {
   "cell_type": "code",
   "execution_count": null,
   "metadata": {
    "id": "83a8749874d44310bebcf358d37e420e"
   },
   "outputs": [],
   "source": [
    "!rm -rf creditrisk_spss_drift_detection_model.tar.gz\n",
    "!wget -O creditrisk_spss_drift_detection_model.tar.gz https://github.com/IBM/watson-openscale-samples/blob/main/Cloud%20Pak%20for%20Data/SPSS%20C%26DS/assets/models/spss_creditrisk_drift_detection_model.tar.gz?raw=true "
   ]
  },
  {
   "cell_type": "code",
   "execution_count": null,
   "metadata": {
    "id": "672aa8493ca347fab5156c20981a5ca0"
   },
   "outputs": [],
   "source": [
    "wos_client.monitor_instances.upload_drift_model(\n",
    "        model_path='creditrisk_spss_drift_detection_model.tar.gz',\n",
    "        data_mart_id=data_mart_id,\n",
    "        subscription_id=subscription_id\n",
    "     )"
   ]
  },
  {
   "cell_type": "code",
   "execution_count": null,
   "metadata": {
    "id": "c31c0de2408643a9b5e85560d3988a6f"
   },
   "outputs": [],
   "source": [
    "monitor_instances = wos_client.monitor_instances.list().result.monitor_instances\n",
    "for monitor_instance in monitor_instances:\n",
    "    monitor_def_id=monitor_instance.entity.monitor_definition_id\n",
    "    if monitor_def_id == \"drift\" and monitor_instance.entity.target.target_id == subscription_id:\n",
    "        wos_client.monitor_instances.delete(monitor_instance.metadata.id)\n",
    "        print('Deleted existing drift monitor instance with id: ', monitor_instance.metadata.id)"
   ]
  },
  {
   "cell_type": "code",
   "execution_count": null,
   "metadata": {
    "id": "2d5b5b67f54344d18781bebe2771ec7e"
   },
   "outputs": [],
   "source": [
    "target = Target(\n",
    "    target_type=TargetTypes.SUBSCRIPTION,\n",
    "    target_id=subscription_id\n",
    "\n",
    ")\n",
    "parameters = {\n",
    "    \"min_samples\": 40,\n",
    "    \"drift_threshold\": 0.1,\n",
    "    \"train_drift_model\": False,\n",
    "    \"enable_model_drift\": True,\n",
    "    \"enable_data_drift\": True\n",
    "}\n",
    "\n",
    "drift_monitor_details = wos_client.monitor_instances.create(\n",
    "    data_mart_id=data_mart_id,\n",
    "    background_mode=False,\n",
    "    monitor_definition_id=wos_client.monitor_definitions.MONITORS.DRIFT.ID,\n",
    "    target=target,\n",
    "    parameters=parameters\n",
    ").result\n",
    "\n",
    "drift_monitor_instance_id = drift_monitor_details.metadata.id\n",
    "drift_monitor_instance_id"
   ]
  },
  {
   "cell_type": "code",
   "execution_count": null,
   "metadata": {
    "id": "4e6eb09e3c5e49188207b467e07f1331"
   },
   "outputs": [],
   "source": [
    "drift_run_details = wos_client.monitor_instances.run(monitor_instance_id=drift_monitor_instance_id, background_mode=False)"
   ]
  },
  {
   "cell_type": "code",
   "execution_count": null,
   "metadata": {
    "id": "7309162204804dfb817d7095acdc0a89"
   },
   "outputs": [],
   "source": [
    "time.sleep(5)\n",
    "wos_client.monitor_instances.show_metrics(monitor_instance_id=drift_monitor_instance_id)"
   ]
  },
  {
   "cell_type": "markdown",
   "metadata": {},
   "source": [
    "## Congratulations!\n",
    "\n",
    "You have finished the hands-on lab for IBM Watson OpenScale. You can now view the [OpenScale Dashboard](https://aiopenscale.cloud.ibm.com/). Click on the tile for the German Credit SPSS model to see fairness, accuracy, and performance monitors. Click on the timeseries graph to get detailed information on transactions during a specific time window."
   ]
  },
  {
   "cell_type": "markdown",
   "metadata": {
    "id": "420fe781-69af-45f7-ac21-33e4ad4c112d"
   },
   "source": [
    "---"
   ]
  }
 ],
 "metadata": {
  "kernelspec": {
   "display_name": "Python 3 (ipykernel)",
   "language": "python",
   "name": "python3"
  },
  "language_info": {
   "codemirror_mode": {
    "name": "ipython",
    "version": 3
   },
   "file_extension": ".py",
   "mimetype": "text/x-python",
   "name": "python",
   "nbconvert_exporter": "python",
   "pygments_lexer": "ipython3",
   "version": "3.9.12"
  },
  "varInspector": {
   "cols": {
    "lenName": 16,
    "lenType": 16,
    "lenVar": 40
   },
   "kernels_config": {
    "python": {
     "delete_cmd_postfix": "",
     "delete_cmd_prefix": "del ",
     "library": "var_list.py",
     "varRefreshCmd": "print(var_dic_list())"
    },
    "r": {
     "delete_cmd_postfix": ") ",
     "delete_cmd_prefix": "rm(",
     "library": "var_list.r",
     "varRefreshCmd": "cat(var_dic_list()) "
    }
   },
   "types_to_exclude": [
    "module",
    "function",
    "builtin_function_or_method",
    "instance",
    "_Feature"
   ],
   "window_display": false
  }
 },
 "nbformat": 4,
 "nbformat_minor": 4
}
