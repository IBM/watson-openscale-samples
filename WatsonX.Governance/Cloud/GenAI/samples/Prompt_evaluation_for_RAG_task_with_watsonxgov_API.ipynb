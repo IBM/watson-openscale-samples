{
 "cells": [
  {
   "cell_type": "markdown",
   "metadata": {
    "id": "d0c787a7-4750-49b6-b456-bd1be46aaf42"
   },
   "source": [
    "# Working with Prompts/Prompt Template Assets for RAG task in watsonx.governance"
   ]
  },
  {
   "cell_type": "markdown",
   "metadata": {
    "id": "0f5154d1-2fef-4553-815e-c34f47a98c83"
   },
   "source": [
    "This notebook should be run using with Runtime 22.2 & Python 3.10 or greater runtime environment. If you are viewing this in Watson Studio and do not see Python 3.10.x in the upper right corner of your screen, please update the runtime now.\n",
    "\n",
    "The notebook will create a RAG prompt template asset in a given project, configure watsonx.governance to monitor that PTA and evaluate generative quality metrics and model health metrics. The notebook then promotes the prompt template asset to space and does the same evaluation.\n",
    "\n",
    "If users wish to execute this notebook for task types other than RAG, please consult this document for guidance on evaluating prompt templates for the available task types.\n",
    "\n",
    "Note : User can search for EDIT THIS and fill the inputs needed. Run your notebook on a CPD cluster with version above 5.0.0"
   ]
  },
  {
   "cell_type": "markdown",
   "metadata": {
    "id": "27ba282f-661f-4199-a4c9-1dc7c9d51e91"
   },
   "source": [
    "## Prerequisite"
   ]
  },
  {
   "cell_type": "markdown",
   "metadata": {
    "id": "8c2d9ea2-dece-4e2d-8ec7-bb40060fb08f"
   },
   "source": [
    "* It requires service credentials for IBM watsonx.governance:\n",
    "* Requires a CSV file containing the test data that needs to be evaluated\n",
    "* Requires the ID of project in which you want to create the prompt template asset.\n",
    "* Requires the ID of space to which you want to promote the prompt template asset."
   ]
  },
  {
   "cell_type": "markdown",
   "metadata": {
    "id": "0e025e3d-2254-44dc-aaf1-b4a9f7997b7e"
   },
   "source": [
    "### Contents\n",
    "\n",
    "- [Setup](#settingup)\n",
    "- [Create Prompt template](#prompt)\n",
    "- [Prompt Setup](#ptatsetup)\n",
    "- [Risk evaluations for prompt template asset subscription](#evaluate)\n",
    "- [Display the Model Risk metrics](#mrmmetric)\n",
    "- [Display the Generative AI Quality metrics](#genaimetrics)\n",
    "- [Plot rougel and rougelsum metrics against records](#plotproject)\n",
    "- [See factsheets information](#factsheetsspace)\n",
    "- [Evaluate prompt template from space](#evaluatespace)\n",
    "- [Promote prompt template asset to space](#promottospace)\n",
    "- [Create deployment for prompt template asset in space](#ptadeployment)\n",
    "- [Setup the prompt template asset in space](#ptaspace)\n",
    "- [Score the model and configure monitors](#score)\n",
    "- [Display the source attributions for a record](#attributions)\n",
    "- [See factsheets information from space](#factsheetsproject)"
   ]
  },
  {
   "cell_type": "markdown",
   "metadata": {
    "id": "29a4e147-0d95-4dfc-ae93-23771c064139"
   },
   "source": [
    "## Setup <a name=\"settingup\"></a>"
   ]
  },
  {
   "cell_type": "markdown",
   "metadata": {
    "id": "ab90a791-2bd7-4199-8b0b-edb5b387a4d1"
   },
   "source": [
    "Note: you may need to restart the kernel to use updated packages."
   ]
  },
  {
   "cell_type": "markdown",
   "metadata": {
    "id": "ebe2049f-4015-4218-8328-e06b62ecf982"
   },
   "source": [
    "### Configure credentials"
   ]
  },
  {
   "cell_type": "code",
   "execution_count": null,
   "metadata": {
    "id": "415536fb-a58b-415f-bc6c-f799237925fe"
   },
   "outputs": [],
   "source": [
    "use_cpd = \"<EDIT THIS>\"\n",
    "project_id = \"<EDIT THIS>\"\n",
    "space_id = \"<EDIT THIS>\"\n",
    "if use_cpd:\n",
    "    WOS_CREDENTIALS = {\n",
    "        \"url\": \"<EDIT THIS>\",\n",
    "        \"username\": \"<EDIT THIS>\",\n",
    "        \"password\": \"<EDIT THIS>\",\n",
    "        \"apikey\": \"<EDIT THIS>\"\n",
    "    }\n",
    "\n",
    "    BASE_URL = \"<EDIT THIS>\"\n",
    "    CPD_URL = \"<EDIT THIS>\"\n",
    "    SERVICE_INSTANCE_ID = \"<EDIT THIS>\"\n",
    "    WML_BASE_URL = \"<EDIT THIS>\"\n",
    "else:\n",
    "    IAM_URL = \"<EDIT THIS>\"\n",
    "    BASE_URL = \"<EDIT THIS>\"\n",
    "    SERVICE_INSTANCE_ID = \"<EDIT THIS>\"\n",
    "    WML_BASE_URL = \"<EDIT THIS>\"\n",
    "    WOS_CREDENTIALS = {\n",
    "         \"url\": \"<EDIT THIS>\",\n",
    "         \"username\": \"<EDIT THIS>\",\n",
    "         \"password\": \"<EDIT THIS>\"\n",
    "    }\n",
    "\n",
    "WML_CREDENTIALS = {\n",
    "     \"url\": \"<EDIT THIS>\",\n",
    "     \"username\": \"<EDIT THIS>\",\n",
    "     \"password\" : \"<EDIT THIS>\",\n",
    "     \"instance_id\": \"<EDIT THIS>\",\n",
    "     \"apikey\": \"<EDIT THIS>\",\n",
    "     \"version\" : \"<EDIT THIS>\"\n",
    "}"
   ]
  },
  {
   "cell_type": "code",
   "execution_count": null,
   "metadata": {
    "id": "25eb8cb4-28cd-45a4-b383-5b78a2656939"
   },
   "outputs": [],
   "source": [
    "use_existing_space = True "
   ]
  },
  {
   "cell_type": "markdown",
   "metadata": {
    "id": "72c80b22-9fe9-413a-8652-48c82feaec73"
   },
   "source": [
    "## Function to create the access token"
   ]
  },
  {
   "cell_type": "markdown",
   "metadata": {
    "id": "9065bf77-7c2f-4e3a-8db4-b85022285dd3"
   },
   "source": [
    "This function generates an IAM access token using the provided credentials. The API calls for creating and scoring prompt template assets utilize the token generated by this function."
   ]
  },
  {
   "cell_type": "code",
   "execution_count": null,
   "metadata": {
    "id": "f63dab66-b7d8-4860-b2e1-ac6172755d27"
   },
   "outputs": [],
   "source": [
    "import requests, json\n",
    "use_cpd = False\n",
    "\n",
    "def generate_access_token():\n",
    "    headers={}\n",
    "    if not use_cpd: \n",
    "        headers[\"Content-Type\"] = \"application/x-www-form-urlencoded\"\n",
    "        headers[\"Accept\"] = \"application/json\"\n",
    "        data = {\n",
    "            \"grant_type\": \"urn:ibm:params:oauth:grant-type:apikey\",\n",
    "            \"apikey\": WOS_CREDENTIALS[\"apikey\"],\n",
    "            \"response_type\": \"cloud_iam\"\n",
    "        }\n",
    "        response = requests.post(IAM_URL + \"/identity/token\", data=data, headers=headers)\n",
    "        json_data = response.json()\n",
    "        iam_access_token = json_data['access_token']\n",
    "    else:\n",
    "        headers[\"Content-Type\"] = \"application/json\"\n",
    "        headers[\"Accept\"] = \"application/json\"\n",
    "        data = {\n",
    "            \"username\":WOS_CREDENTIALS[\"username\"],\n",
    "            \"password\":WOS_CREDENTIALS[\"password\"]\n",
    "        }\n",
    "        data = json.dumps(data).encode(\"utf-8\")\n",
    "        url = WOS_CREDENTIALS[\"url\"] + \"/icp4d-api/v1/authorize\"\n",
    "        response = requests.post(url=url, data=data, headers=headers, verify=False)\n",
    "        json_data = response.json()\n",
    "        iam_access_token = json_data['token']      \n",
    "        \n",
    "    return iam_access_token\n",
    "\n",
    "iam_access_token = generate_access_token()\n"
   ]
  },
  {
   "cell_type": "markdown",
   "metadata": {
    "id": "bc0715b2-e1e1-4c7c-b025-4fe8844149a3"
   },
   "source": [
    "# Create Prompt template <a name=\"prompt\"></a>"
   ]
  },
  {
   "cell_type": "markdown",
   "metadata": {
    "id": "1b892032-01bc-459d-acd6-0efb8a46c653"
   },
   "source": [
    "Create a prompt template for a rag task"
   ]
  },
  {
   "cell_type": "code",
   "execution_count": null,
   "metadata": {
    "id": "5d6dc9a2-1370-450a-83ad-0ea49ef58c77"
   },
   "outputs": [
    {
     "data": {
      "text/plain": [
       "{'id': '37f30735-dd1e-4af4-9460-7e39e97e8587',\n",
       " 'name': 'RAG',\n",
       " 'description': 'RAG use case',\n",
       " 'created_at': 1730975171187,\n",
       " 'created_by': 'IBMid-666002690O',\n",
       " 'last_updated_at': 1730975171187,\n",
       " 'last_updated_by': 'IBMid-666002690O',\n",
       " 'resource_key': '689c93c5589b5867b5ca96d999556a4f08ab06374d495bddd2532d2b6484e643',\n",
       " 'lock': {'locked': False},\n",
       " 'input_mode': 'structured',\n",
       " 'is_template': True,\n",
       " 'prompt_variables': {'context1': {}, 'question': {}},\n",
       " 'task_ids': ['retrieval_augmented_generation'],\n",
       " 'prompt': {'input': [['Answer the below question from the given context only and do not use the knowledge outside the context.\\n\\nContext: {context1} \\nQuestion: {question}\\nAnswer:',\n",
       "    '']],\n",
       "  'data': {'instruction': 'Answer question from given contexts'},\n",
       "  'model_id': 'ibm/granite-13b-chat-v2'}}"
      ]
     },
     "execution_count": 532,
     "metadata": {},
     "output_type": "execute_result"
    }
   ],
   "source": [
    "url = f\"{WML_BASE_URL}/wx/v1/prompts/\"\n",
    "headers={}\n",
    "headers[\"Content-Type\"] = \"application/json\"\n",
    "headers[\"Accept\"] = \"*/*\"\n",
    "headers[\"Authorization\"] = \"Bearer {}\".format(iam_access_token)\n",
    "\n",
    "params = {\"project_id\": project_id\n",
    "}\n",
    "payload = {\n",
    "    \"name\": \"RAG\",\n",
    "    \"description\": \"RAG use case\",\n",
    "    \"task_ids\": [\n",
    "        \"retrieval_augmented_generation\"\n",
    "    ],\n",
    "    \"prompt_variables\": {\n",
    "        \"context1\": {},\n",
    "        # \"context2\": {},\n",
    "        # \"context3\": {},\n",
    "        # \"context4\": {},\n",
    "        \"question\": {},\n",
    "        \n",
    "    },\n",
    "    \"prompt\": {\n",
    "        \"input\": [\n",
    "            [\n",
    "                \"Answer the below question from the given context only and do not use the knowledge outside the context.\\n\\nContext: {context1} \\nQuestion: {question}\\nAnswer:\",\n",
    "                \"\"\n",
    "            ]\n",
    "        ],\n",
    "        \"data\": {\n",
    "            \"instruction\": \"Answer question from given contexts\"\n",
    "        },\n",
    "        \"model_id\": \"ibm/granite-13b-chat-v2\"\n",
    "    }\n",
    "}\n",
    "\n",
    "response = requests.post(url,json=payload, headers=headers, params= params, verify=True)\n",
    "response_json = response.json()\n",
    "response_json"
   ]
  },
  {
   "cell_type": "code",
   "execution_count": null,
   "metadata": {},
   "outputs": [
    {
     "data": {
      "text/plain": [
       "'37f30735-dd1e-4af4-9460-7e39e97e8587'"
      ]
     },
     "execution_count": 533,
     "metadata": {},
     "output_type": "execute_result"
    }
   ],
   "source": [
    "project_pta_id = response_json[\"id\"]\n",
    "project_pta_id"
   ]
  },
  {
   "cell_type": "code",
   "execution_count": null,
   "metadata": {
    "id": "3c6f8e0a-65fb-4d77-a689-bc70f3cf03fc"
   },
   "outputs": [],
   "source": [
    "params = {\"prompt_id\": project_pta_id,\n",
    "          \"project_id\": project_id\n",
    "}\n",
    "url = f\"{WML_BASE_URL}/wx/v1/prompts/{project_pta_id}\"\n",
    "response = requests.get(url, headers=headers, params= params, verify=True)"
   ]
  },
  {
   "cell_type": "markdown",
   "metadata": {
    "id": "d86e0b99-6080-4b7c-8784-a4b21c33b48f"
   },
   "source": [
    "# Prompt setup <a name=\"ptatsetup\"></a>"
   ]
  },
  {
   "cell_type": "code",
   "execution_count": null,
   "metadata": {
    "id": "94f8a229-324e-4b3f-8c3d-35a8b8f32c83"
   },
   "outputs": [
    {
     "name": "stdout",
     "output_type": "stream",
     "text": [
      "https://api.aiopenscale.cloud.ibm.com/openscale/21bf753c-434b-419e-9aa8-8114ca6ade5b/v2/prompt_setup\n"
     ]
    },
    {
     "data": {
      "text/plain": [
       "{'prompt_template_asset_id': '37f30735-dd1e-4af4-9460-7e39e97e8587',\n",
       " 'start_time': '2024-11-07T10:26:15.864524Z',\n",
       " 'status': {'state': 'RUNNING'},\n",
       " 'project_id': 'b9687edf-c360-4f2f-a29c-6ac4ec509af8'}"
      ]
     },
     "execution_count": 535,
     "metadata": {},
     "output_type": "execute_result"
    }
   ],
   "source": [
    "import requests, json\n",
    "url = f\"{BASE_URL}/openscale/{SERVICE_INSTANCE_ID}/v2/prompt_setup\"\n",
    "\n",
    "headers={}\n",
    "headers[\"Content-Type\"] = \"application/json\"\n",
    "headers[\"Accept\"] = \"*/*\"\n",
    "headers[\"Authorization\"] = \"Bearer {}\".format(iam_access_token)\n",
    "\n",
    "params = {\"prompt_template_asset_id\": project_pta_id,\n",
    "          \"project_id\": project_id\n",
    "}\n",
    "\n",
    "payload = \"\"\"{\n",
    "    \"label_column\": \"answer\",\n",
    "    \"operational_space_id\": \"development\",\n",
    "    \"problem_type\": \"retrieval_augmented_generation\",\n",
    "    \"input_data_type\": \"unstructured_text\",\n",
    "    \"context_fields\": [\"context1\"],\n",
    "    \"question_field\": \"question\",\n",
    "    \"monitors\" : {\n",
    "    \"generative_ai_quality\": {\n",
    "        \"parameters\": {\n",
    "            \"min_sample_size\": 5,\n",
    "            \"metrics_configuration\":{\n",
    "                \"rouge_score\": {},\n",
    "                \"exact_match\": {},\n",
    "                \"bleu\": {},\n",
    "                \"unsuccessful_requests\": {\n",
    "                },\n",
    "                \"hap_input_score\": {},\n",
    "                \"hap_score\": {},\n",
    "                \"pii\": {},\n",
    "                \"pii_input\": {}\n",
    "            }\n",
    "        }\n",
    "    }\n",
    "}\n",
    "}\"\"\"\n",
    "\n",
    "json_payload = json.loads(payload)\n",
    "json_payload\n",
    "\n",
    "response = requests.post(url = url, json=json_payload,  params= params, headers=headers, verify=True)\n",
    "response_json = response.json()\n",
    "response_json"
   ]
  },
  {
   "cell_type": "code",
   "execution_count": null,
   "metadata": {},
   "outputs": [
    {
     "data": {
      "text/plain": [
       "'37f30735-dd1e-4af4-9460-7e39e97e8587'"
      ]
     },
     "execution_count": 536,
     "metadata": {},
     "output_type": "execute_result"
    }
   ],
   "source": [
    "prompt_template_asset_id = response_json[\"prompt_template_asset_id\"]\n",
    "\n",
    "#prompt_template_asset_id = \"55533a3b-04ce-4193-bfbb-1c4a4ded96f5\"\n",
    "prompt_template_asset_id"
   ]
  },
  {
   "cell_type": "code",
   "execution_count": null,
   "metadata": {},
   "outputs": [
    {
     "data": {
      "text/plain": [
       "{'prompt_template_asset_id': '5ebe7aab-b445-4db6-95af-c11ac999f648',\n",
       " 'start_time': '2024-11-06T09:30:15.957071Z',\n",
       " 'status': {'state': 'RUNNING'},\n",
       " 'project_id': 'b9687edf-c360-4f2f-a29c-6ac4ec509af8'}"
      ]
     },
     "execution_count": 120,
     "metadata": {},
     "output_type": "execute_result"
    }
   ],
   "source": [
    "response_json"
   ]
  },
  {
   "cell_type": "markdown",
   "metadata": {
    "id": "06517a5f-0d6d-454b-8600-5d8c7093079b"
   },
   "source": [
    "### Get the prompt setup status"
   ]
  },
  {
   "cell_type": "code",
   "execution_count": null,
   "metadata": {
    "id": "0b565871-270a-4a7e-ae9f-f5b5c8c4b0bd"
   },
   "outputs": [
    {
     "name": "stdout",
     "output_type": "stream",
     "text": [
      "Attempt 1: Status is not finished. Retrying...\n",
      "{\"prompt_template_asset_id\": \"5ebe7aab-b445-4db6-95af-c11ac999f648\", \"start_time\": \"2024-11-06T09:30:15.957071Z\", \"status\": {\"state\": \"RUNNING\"}, \"project_id\": \"b9687edf-c360-4f2f-a29c-6ac4ec509af8\"}\n",
      "\n",
      "Attempt 2: Status is not finished. Retrying...\n",
      "{\"prompt_template_asset_id\": \"5ebe7aab-b445-4db6-95af-c11ac999f648\", \"start_time\": \"2024-11-06T09:30:15.957071Z\", \"status\": {\"state\": \"RUNNING\"}, \"project_id\": \"b9687edf-c360-4f2f-a29c-6ac4ec509af8\"}\n",
      "\n",
      "Attempt 3: Status is not finished. Retrying...\n",
      "{\"prompt_template_asset_id\": \"5ebe7aab-b445-4db6-95af-c11ac999f648\", \"start_time\": \"2024-11-06T09:30:15.957071Z\", \"status\": {\"state\": \"RUNNING\"}, \"project_id\": \"b9687edf-c360-4f2f-a29c-6ac4ec509af8\"}\n",
      "\n"
     ]
    },
    {
     "data": {
      "text/plain": [
       "'FINISHED'"
      ]
     },
     "execution_count": 121,
     "metadata": {},
     "output_type": "execute_result"
    }
   ],
   "source": [
    "import time \n",
    "url = f\"{BASE_URL}/openscale/{SERVICE_INSTANCE_ID}/v2/prompt_setup\"\n",
    "params={\"project_id\" : project_id,\n",
    "        \"prompt_template_asset_id\": prompt_template_asset_id\n",
    "       }\n",
    "response = requests.get(url = url,headers=headers, params = params)\n",
    "response_json = response.json()\n",
    "response_json\n",
    "\n",
    "for attempt in range(10):\n",
    "    response = requests.get(url = url,headers=headers, params = params)\n",
    "    response_json = response.json()\n",
    "    state = response_json[\"status\"][\"state\"]\n",
    "    if state.lower() == \"finished\" or state == \"error\":\n",
    "        break\n",
    "    else:\n",
    "        print(f\"Attempt {attempt + 1}: Status is not finished. Retrying...\")\n",
    "        print(response.text)\n",
    "        time.sleep(5)\n",
    "else:\n",
    "    print(\"Status did not change to 'finished/error' after 10 attempts.\")\n",
    "state"
   ]
  },
  {
   "cell_type": "code",
   "execution_count": null,
   "metadata": {},
   "outputs": [
    {
     "data": {
      "text/plain": [
       "'{\"prompt_template_asset_id\": \"5ebe7aab-b445-4db6-95af-c11ac999f648\", \"start_time\": \"2024-11-06T09:30:15.957071Z\", \"status\": {\"state\": \"FINISHED\"}, \"project_id\": \"b9687edf-c360-4f2f-a29c-6ac4ec509af8\", \"end_time\": \"2024-11-06T09:30:37.469176Z\", \"service_provider_id\": \"cd25cc1b-dd87-4295-a652-01682ea17125\", \"deployment_id\": \"a060060d-e4ad-4bbb-b756-313ccc82b671\", \"subscription_id\": \"10c99f04-edb0-4233-873f-08f882e4a433\", \"mrm_monitor_instance_id\": \"28633695-b2e6-4e8b-a6e8-6eacd2aadd8f\", \"evaluation_tests\": [\"generative_ai_quality\", \"model_health\"]}\\n'"
      ]
     },
     "execution_count": 122,
     "metadata": {},
     "output_type": "execute_result"
    }
   ],
   "source": [
    "response.text"
   ]
  },
  {
   "cell_type": "code",
   "execution_count": null,
   "metadata": {},
   "outputs": [
    {
     "data": {
      "text/plain": [
       "{'prompt_template_asset_id': '5ebe7aab-b445-4db6-95af-c11ac999f648',\n",
       " 'start_time': '2024-11-06T09:30:15.957071Z',\n",
       " 'status': {'state': 'FINISHED'},\n",
       " 'project_id': 'b9687edf-c360-4f2f-a29c-6ac4ec509af8',\n",
       " 'end_time': '2024-11-06T09:30:37.469176Z',\n",
       " 'service_provider_id': 'cd25cc1b-dd87-4295-a652-01682ea17125',\n",
       " 'deployment_id': 'a060060d-e4ad-4bbb-b756-313ccc82b671',\n",
       " 'subscription_id': '10c99f04-edb0-4233-873f-08f882e4a433',\n",
       " 'mrm_monitor_instance_id': '28633695-b2e6-4e8b-a6e8-6eacd2aadd8f',\n",
       " 'evaluation_tests': ['generative_ai_quality', 'model_health']}"
      ]
     },
     "execution_count": 123,
     "metadata": {},
     "output_type": "execute_result"
    }
   ],
   "source": [
    "response_json"
   ]
  },
  {
   "cell_type": "markdown",
   "metadata": {
    "id": "a06dd969-560e-4b96-a0ee-a33439d3bbbd"
   },
   "source": [
    "### Read subscription id from prompt setup"
   ]
  },
  {
   "cell_type": "code",
   "execution_count": null,
   "metadata": {
    "id": "ad478f35-44fa-4a28-b6c0-216ee9f891c4"
   },
   "outputs": [
    {
     "data": {
      "text/plain": [
       "'10c99f04-edb0-4233-873f-08f882e4a433'"
      ]
     },
     "execution_count": 124,
     "metadata": {},
     "output_type": "execute_result"
    }
   ],
   "source": [
    "subscription_id = response_json[\"subscription_id\"]\n",
    "subscription_id"
   ]
  },
  {
   "cell_type": "code",
   "execution_count": null,
   "metadata": {},
   "outputs": [],
   "source": [
    "url = f\"{BASE_URL}/openscale/{SERVICE_INSTANCE_ID}/v2/subscriptions/{subscription_id}/\"\n",
    "response = requests.get(url = url,headers=headers)\n",
    "response_json = response.json()\n",
    "pretty_json = json.dumps(response_json, indent=4)\n"
   ]
  },
  {
   "cell_type": "code",
   "execution_count": null,
   "metadata": {},
   "outputs": [
    {
     "data": {
      "text/plain": [
       "'https://us-south.ml.cloud.ibm.com/ml/v1/deployments/a060060d-e4ad-4bbb-b756-313ccc82b671/text/generation?version=2024-05-05'"
      ]
     },
     "execution_count": 126,
     "metadata": {},
     "output_type": "execute_result"
    }
   ],
   "source": [
    "scoring_url = response_json[\"entity\"][\"deployment\"][\"url\"]\n",
    "scoring_url = scoring_url + \"?version=2024-05-05\"\n",
    "scoring_url"
   ]
  },
  {
   "cell_type": "code",
   "execution_count": null,
   "metadata": {},
   "outputs": [],
   "source": [
    "test_data_path = \"rag_state_union.csv\""
   ]
  },
  {
   "cell_type": "code",
   "execution_count": null,
   "metadata": {},
   "outputs": [],
   "source": [
    "import csv\n",
    "\n",
    "feature_fields = [\"context1\", \"question\"]\n",
    "prediction = \"generated_text\"\n",
    "\n",
    "headers={}\n",
    "headers[\"Content-Type\"] = \"application/json\"\n",
    "headers[\"Accept\"] = \"*/*\"\n",
    "headers[\"Authorization\"] = \"Bearer {}\".format(iam_access_token)\n",
    "\n",
    "pl_data = []\n",
    "prediction_list = []\n",
    "with open(test_data_path, 'r') as csv_file:\n",
    "    csv_reader = csv.DictReader(csv_file)\n",
    "    for row in csv_reader:\n",
    "        request = {\n",
    "            \"parameters\": {\n",
    "                \"template_variables\": {\n",
    "                }\n",
    "            }\n",
    "        }\n",
    "        for each in feature_fields:\n",
    "            request[\"parameters\"][\"template_variables\"][each] = str(row[each])\n",
    "\n",
    "        response = requests.post(scoring_url, json=request, headers=headers, verify=False).json()\n",
    "        predicted_val = response[\"results\"][0][prediction]\n",
    "        prediction_list.append(predicted_val)\n",
    "        record = {\"request\":request, \"response\":response}\n",
    "        pl_data.append(record)\n"
   ]
  },
  {
   "cell_type": "code",
   "execution_count": null,
   "metadata": {},
   "outputs": [
    {
     "data": {
      "text/plain": [
       "{'model_id': 'ibm/granite-13b-chat-v2',\n",
       " 'model_version': '2.1.0',\n",
       " 'created_at': '2024-11-06T09:30:59.647Z',\n",
       " 'results': [{'generated_text': ' The context does not provide information about the number of electric vehicle charging stations built.',\n",
       "   'generated_token_count': 17,\n",
       "   'input_token_count': 252,\n",
       "   'stop_reason': 'eos_token'}],\n",
       " 'system': {'warnings': [{'message': \"Model 'ibm/granite-13b-chat-v2' is in deprecated state from 2024-11-04. It will be in withdrawn state from 2025-02-03.\",\n",
       "    'id': 'deprecation_warning',\n",
       "    'more_info': 'https://dataplatform.cloud.ibm.com/docs/content/wsj/analyze-data/fm-model-lifecycle.html?context=wx&audience=wdp'}]}}"
      ]
     },
     "execution_count": 129,
     "metadata": {},
     "output_type": "execute_result"
    }
   ],
   "source": [
    "response"
   ]
  },
  {
   "cell_type": "code",
   "execution_count": null,
   "metadata": {},
   "outputs": [
    {
     "name": "stdout",
     "output_type": "stream",
     "text": [
      "Generated 100 additional payload data\n"
     ]
    }
   ],
   "source": [
    "import copy\n",
    "\n",
    "additional_pl_data = copy.copy(pl_data)\n",
    "additional_pl_data *= 20\n",
    "print(\"Generated {} additional payload data\".format(len(additional_pl_data)))"
   ]
  },
  {
   "cell_type": "markdown",
   "metadata": {},
   "source": [
    "### Listing all the available datamarts"
   ]
  },
  {
   "cell_type": "code",
   "execution_count": null,
   "metadata": {},
   "outputs": [
    {
     "data": {
      "text/plain": [
       "{'data_marts': [{'entity': {'database_configuration': {'credentials': {'secret_id': 'bdb5ea12-5e62-472d-9d0e-704d29833f5d'},\n",
       "     'database_type': 'postgresql',\n",
       "     'location': {'schema_name': '21bf753c-434b-419e-9aa8-8114ca6ade5b'}},\n",
       "    'internal_database': True,\n",
       "    'service_instance_crn': 'crn:v1:bluemix:public:aiopenscale:us-south:a/d49e4dd2ea584a1d82c4ddc3f8f08c9f:21bf753c-434b-419e-9aa8-8114ca6ade5b::',\n",
       "    'status': {'state': 'active'}},\n",
       "   'metadata': {'created_at': '2024-09-25T21:56:35.385Z',\n",
       "    'created_by': 'IBMid-666002690O',\n",
       "    'crn': 'crn:v1:bluemix:public:aiopenscale:us-south:a/d49e4dd2ea584a1d82c4ddc3f8f08c9f:21bf753c-434b-419e-9aa8-8114ca6ade5b:data_mart:21bf753c-434b-419e-9aa8-8114ca6ade5b',\n",
       "    'id': '21bf753c-434b-419e-9aa8-8114ca6ade5b',\n",
       "    'modified_at': '2024-09-25T21:56:37.531Z',\n",
       "    'modified_by': 'IBMid-666002690O',\n",
       "    'url': '/v2/data_marts/21bf753c-434b-419e-9aa8-8114ca6ade5b'}}]}"
      ]
     },
     "execution_count": 131,
     "metadata": {},
     "output_type": "execute_result"
    }
   ],
   "source": [
    "url = f\"{BASE_URL}/openscale/{SERVICE_INSTANCE_ID}/v2/data_marts/\"\n",
    "response = requests.get(url = url,headers=headers)\n",
    "response_json = response.json()\n",
    "pretty_json = json.dumps(response_json, indent=4)\n",
    "response_json"
   ]
  },
  {
   "cell_type": "markdown",
   "metadata": {
    "id": "a0d9565c-079b-4c84-bbbd-a1988947b3ff"
   },
   "source": [
    "### Openscale instance mapping with the project"
   ]
  },
  {
   "cell_type": "markdown",
   "metadata": {},
   "source": [
    "When the authentication is on CPD then we need to add additional step of mapping the project_id/space_id to an OpenScale instance."
   ]
  },
  {
   "cell_type": "code",
   "execution_count": null,
   "metadata": {
    "id": "b22b319e-1a76-4196-8895-a3c9a7de65ba"
   },
   "outputs": [],
   "source": [
    "if use_cpd:\n",
    "    url = f\"{BASE_URL}/openscale/{SERVICE_INSTANCE_ID}/v2/instance_mappings/\"\n",
    "    target = {\n",
    "        \"target_type\" : \"project\",\n",
    "        \"target_id\": project_id\n",
    "    }\n",
    "    payload = {\n",
    "        \"service_instance_id\": SERVICE_INSTANCE_ID,\n",
    "        \"target\": target\n",
    "    }\n",
    "        \n",
    "    response = requests.post(url, json=payload, headers=headers, verify=False)   "
   ]
  },
  {
   "cell_type": "raw",
   "metadata": {},
   "source": [
    "response"
   ]
  },
  {
   "cell_type": "markdown",
   "metadata": {},
   "source": [
    "## Setup the prompt template asset in project for evaluation with supported monitor dimensions"
   ]
  },
  {
   "cell_type": "markdown",
   "metadata": {},
   "source": [
    "The prompt template assets from project is only supported with `development` operational space ID. Running the below cell will create a development type subscription from the prompt template asset created within the project.\n",
    "\n",
    "The available parameters that can be passed for `execute_prompt_setup` function are:\n",
    "\n",
    " * `prompt_template_asset_id` : Id of prompt template asset for which subscription needs to be created.\n",
    " * `label_column` :  The name of the column containing the ground truth or actual labels.\n",
    " * `project_id` : The GUID of the project.\n",
    " * `space_id` : The GUID of the space.\n",
    " * `deployment_id` : (optional) The GUID of the deployment.\n",
    " * `operational_space_id` : The rank of the environment in which the monitoring is happening. Accepted values are `development`, `pre_production`, `production`.\n",
    " * `problem_type` : (optional) The task type to monitor for the given prompt template asset.\n",
    " * `classification_type` : The classification type `binary`/`multiclass` applicable only for `classification` problem (task) type.\n",
    " * `input_data_type` : The input data type.\n",
    " * `supporting_monitors` : Monitor configuration for the subscription to be created.\n",
    " * `background_mode` : When `True`, the promt setup operation will be executed in the background\n",
    "\n",
    " #### Faithfulness parameters\n",
    "| Parameter | Description | Default Value |\n",
    "|:-|:-|:-|\n",
    "| attributions_count [Optional]| Source attributions are computed for each sentence in the generated answer. Source attribution for a sentence is the set of sentences in the context which contributed to the LLM generating that sentence in the answer.  The attributions_count parameter specifies the number of sentences in the context which need to be identified for attributions.  E.g., if the value is set to 2, then we will find the top 2 sentences from the context as source attributions. | 3 |\n",
    "| ngrams [Optional]| The number of sentences to be grouped from the context when computing faithfulness score. These grouped sentences will be shown in the attributions. Having a very high value of ngrams might lead to having lower faithfulness scores due to dispersion of data and inclusion of unrelated sentences in the attributions. Having a very low value might lead to increase in metric computation time and attributions not capturing the all the aspects of the answer. | 2 |\n",
    "\n",
    "#### Unsuccessful requests parameters\n",
    "| Parameter | Description | Default Value |\n",
    "|:-|:-|:-|\n",
    "| unsuccessful_phrases [Optional]| The list of phrases to be used for comparing the model output to determine whether the request is unsuccessful or not. | [\"i don't know\", \"i do not know\", \"i'm not sure\", \"i am not sure\", \"i'm unsure\", \"i am unsure\", \"i'm uncertain\", \"i am uncertain\", \"i'm not certain\", \"i am not certain\", \"i can't fulfill\", \"i cannot fulfill\"] |"
   ]
  },
  {
   "cell_type": "markdown",
   "metadata": {
    "id": "8169d88f-551a-4e33-999d-b8d614091bf0"
   },
   "source": [
    "## Get MRM monitor instances of the development subscription\n",
    "The following cell lists the MRM monitors present in the development subscription along with their respective statuses and other details."
   ]
  },
  {
   "cell_type": "code",
   "execution_count": null,
   "metadata": {
    "id": "1ba6ee18-dae8-4179-abce-54d444ab9ac1"
   },
   "outputs": [],
   "source": [
    "# read monitor instance id\n",
    "url = f\"{BASE_URL}/openscale/{SERVICE_INSTANCE_ID}/v2/monitor_instances\"\n",
    "headers={}\n",
    "headers[\"Content-Type\"] = \"application/json\"\n",
    "headers[\"Accept\"] = \"*/*\"\n",
    "headers[\"Authorization\"] = \"Bearer {}\".format(iam_access_token)\n",
    "\n",
    "params = {\"target.target_id\": subscription_id,\n",
    "          \"monitor_definition_id\": \"mrm\"\n",
    "}\n",
    "\n",
    "response = requests.get(url, headers=headers, params= params, verify=True)\n",
    "response_json = response.json()"
   ]
  },
  {
   "cell_type": "markdown",
   "metadata": {
    "id": "1db65888-ea21-403b-9b29-1daf0f9213f5"
   },
   "source": [
    "### Read the MRM monitor instance id\n",
    "\n",
    "Evaluating the test data against the prompt template subscription requires the monitor instance ID of MRM."
   ]
  },
  {
   "cell_type": "code",
   "execution_count": null,
   "metadata": {
    "id": "6c45f7e3-fe5f-4f31-ab33-6092e1303b4a"
   },
   "outputs": [
    {
     "data": {
      "text/plain": [
       "'28633695-b2e6-4e8b-a6e8-6eacd2aadd8f'"
      ]
     },
     "execution_count": 134,
     "metadata": {},
     "output_type": "execute_result"
    }
   ],
   "source": [
    "monitor_instance_id = response_json[\"monitor_instances\"][0][\"metadata\"][\"id\"]\n",
    "monitor_instance_id "
   ]
  },
  {
   "cell_type": "markdown",
   "metadata": {
    "id": "b412ff99-636b-4022-a697-a40cea090c37"
   },
   "source": [
    "# Risk evaluations for PTA subscription <a name=\"evaluate\"></a>"
   ]
  },
  {
   "cell_type": "markdown",
   "metadata": {
    "id": "9610a189-bb58-4b8e-8cea-ebd2dbc53c3f"
   },
   "source": [
    "### Evaluate the prompt template subscription\n",
    "\n",
    "For the risk assessment of a development type subscription the user needs to have an evaluation dataset. The risk evaluation function takes the evaluation dataset path as a parameter for evaluation of the configured metric dimensions. If there is a discrepancy between the feature columns in the subscription and the column names in the uploading CSV, users has the option to supply a mapping JSON file to associate the CSV column names with the feature column names in the subscription.\n",
    "\n",
    "\n",
    "**Note:* If you are running this notebook from Watson studio, you may first need to upload your test data to studio and run code snippet to download feedback data file from project to local directory, and you need to use watson studio sdk api <access_project_or_space> to acheive this , and you need to give the api key for the platform you are running the notebook"
   ]
  },
  {
   "cell_type": "code",
   "execution_count": null,
   "metadata": {
    "id": "18de0d4a-722c-4259-9e1f-96fb49f03a7c"
   },
   "outputs": [
    {
     "name": "stdout",
     "output_type": "stream",
     "text": [
      "zsh:1: command not found: wget\n"
     ]
    }
   ],
   "source": [
    "# !rm rag_state_union.csv\n",
    "!wget https://raw.githubusercontent.com/IBM/watson-openscale-samples/main/IBM%20Cloud/WML/assets/data/watsonx/rag_state_union.csv"
   ]
  },
  {
   "cell_type": "code",
   "execution_count": null,
   "metadata": {
    "id": "b0a7ffb6-5a35-4923-8505-d66d0ed1ea0e"
   },
   "outputs": [
    {
     "data": {
      "text/plain": [
       "<Response [202]>"
      ]
     },
     "execution_count": 136,
     "metadata": {},
     "output_type": "execute_result"
    }
   ],
   "source": [
    "url = f\"{BASE_URL}/openscale/{SERVICE_INSTANCE_ID}/v2/monitoring_services/mrm/monitor_instances/{monitor_instance_id}/risk_evaluations\"\n",
    "\n",
    "headers1={}\n",
    "headers1[\"Authorization\"] = \"Bearer {}\".format(iam_access_token)\n",
    "test_data_path = \"rag_state_union.csv\"\n",
    "params = {\"test_data_set_name\": \"rag_state_union\"\n",
    "         }\n",
    "with open(test_data_path, \"rb\") as file:\n",
    "    files2 = [(\"data\",(\"rag_state_union.csv\", file))]\n",
    "    response = requests.post(url = url, files=files2, headers=headers1, params=params, verify=True)\n",
    "response"
   ]
  },
  {
   "cell_type": "markdown",
   "metadata": {},
   "source": [
    "### Read the risk evaluation response\n",
    "\n",
    "After initiating the risk evaluation, the evaluation results are now available for review"
   ]
  },
  {
   "cell_type": "code",
   "execution_count": null,
   "metadata": {
    "id": "448f704e-3f6d-4499-bdcb-397ba132caac"
   },
   "outputs": [
    {
     "name": "stdout",
     "output_type": "stream",
     "text": [
      "Attempt 1: Status is not finished. Retrying...UPLOAD_IN_PROGRESS\n",
      "Attempt 2: Status is not finished. Retrying...UPLOAD_IN_PROGRESS\n",
      "Attempt 3: Status is not finished. Retrying...UPLOAD_IN_PROGRESS\n",
      "Attempt 4: Status is not finished. Retrying...running\n",
      "Attempt 5: Status is not finished. Retrying...running\n",
      "Attempt 6: Status is not finished. Retrying...running\n"
     ]
    },
    {
     "data": {
      "text/plain": [
       "'finished'"
      ]
     },
     "execution_count": 137,
     "metadata": {},
     "output_type": "execute_result"
    }
   ],
   "source": [
    "url = f\"{BASE_URL}/openscale/{SERVICE_INSTANCE_ID}/v2/monitoring_services/mrm/monitor_instances/{monitor_instance_id}/risk_evaluations\"\n",
    "\n",
    "params = {}\n",
    "response =  requests.get(url, headers=headers,verify=True)\n",
    "response_json = response.json()\n",
    "response_json\n",
    "\n",
    "for attempt in range(40):\n",
    "    response = requests.get(url = url,headers=headers, params = params)\n",
    "    response_json = response.json()\n",
    "    state = response_json[\"entity\"][\"status\"][\"state\"]\n",
    "    if state.lower() == \"finished\" or state == \"error\":\n",
    "        break\n",
    "    else:\n",
    "        print(f\"Attempt {attempt + 1}: Status is not finished. Retrying...{state}\")\n",
    "        time.sleep(5)\n",
    "else:\n",
    "    print(\"Status did not change to 'finished/error' after 40 attempts.\")\n",
    "state"
   ]
  },
  {
   "cell_type": "code",
   "execution_count": null,
   "metadata": {},
   "outputs": [],
   "source": []
  },
  {
   "cell_type": "code",
   "execution_count": null,
   "metadata": {
    "id": "9ebeff1b-6e87-4596-afa5-894f16254a85"
   },
   "outputs": [
    {
     "data": {
      "text/plain": [
       "'10f7f86a-18ad-4750-99ed-1c30e0078a7e'"
      ]
     },
     "execution_count": 139,
     "metadata": {},
     "output_type": "execute_result"
    }
   ],
   "source": [
    "measurement_id = response_json[\"entity\"][\"parameters\"][\"measurement_id\"]\n",
    "measurement_id"
   ]
  },
  {
   "cell_type": "markdown",
   "metadata": {
    "id": "c027f6d6-e80d-4f0c-b263-f22ca2ba1a17"
   },
   "source": [
    "# Display the Model Risk metrics <a name=\"mrmmetric\"></a>\n",
    "\n",
    "Having calculated the measurements for the Foundation Model subscription, the MRM metrics generated for this subscription are now available for your review."
   ]
  },
  {
   "cell_type": "code",
   "execution_count": null,
   "metadata": {
    "id": "497c50ce-94c3-4f6d-aecf-8f5a1366c6d3"
   },
   "outputs": [
    {
     "data": {
      "text/plain": [
       "{'entity': {'asset_revision': None,\n",
       "  'issue_count': 0,\n",
       "  'monitor_definition_id': 'mrm',\n",
       "  'monitor_instance_id': '28633695-b2e6-4e8b-a6e8-6eacd2aadd8f',\n",
       "  'run_id': '00e40de7-f69c-4854-b3de-9ec3b92919a9',\n",
       "  'sources': [{'data': {'evaluation_result': {'evaluation_date': '2024-11-06T09:31:48.255000Z',\n",
       "      'run_status': 'EVALUATION_FINISHED',\n",
       "      'test_data_records': 5,\n",
       "      'test_data_set_name': 'rag_state_union',\n",
       "      'tests': [{'breach_status': 'RED',\n",
       "        'evaluation_id': '00e40de7-f69c-4854-b3de-9ec3b92919a9',\n",
       "        'fb_evaluated_num_records': 5,\n",
       "        'issues_count': 6,\n",
       "        'measurement_id': '4246241f-019c-4338-ba10-08a0fddfaf29',\n",
       "        'metric_timestamp': '2024-11-06T09:32:04.426231Z',\n",
       "        'monitor_definition_id': 'generative_ai_quality',\n",
       "        'monitor_instance_id': '8cc15bf1-f143-4500-8669-36a287351f54',\n",
       "        'outcome': 'FAIL',\n",
       "        'status': 'FINISHED',\n",
       "        'summary': {'feedback': {'end_time': '2024-11-06T09:31:37.270Z',\n",
       "          'issues_count': 6,\n",
       "          'records_evaluated': 5,\n",
       "          'start_time': '2024-11-06T09:31:37.270Z',\n",
       "          'supplement_messages': None}},\n",
       "        'test_name': 'generative_ai_quality_test',\n",
       "        'test_on_copied_measurement': False,\n",
       "        'values': [{'metrics': [{'id': 'hap_input_score',\n",
       "            'upper_limit': 0.0,\n",
       "            'value': 0.0},\n",
       "           {'id': 'rouge2', 'lower_limit': 0.8, 'value': 0.429},\n",
       "           {'id': 'records_processed', 'value': 5.0},\n",
       "           {'id': 'rougelsum', 'lower_limit': 0.8, 'value': 0.5182},\n",
       "           {'id': 'hap_score', 'upper_limit': 0.0, 'value': 0.0},\n",
       "           {'id': 'pii', 'upper_limit': 0.0, 'value': 0.0},\n",
       "           {'id': 'bleu', 'lower_limit': 0.8, 'value': 0.4954},\n",
       "           {'id': 'rougel', 'lower_limit': 0.8, 'value': 0.4915},\n",
       "           {'id': 'exact_match', 'lower_limit': 0.8, 'value': 0.0},\n",
       "           {'id': 'unsuccessful_requests', 'upper_limit': 0.1, 'value': 0.0},\n",
       "           {'id': 'pii_input', 'upper_limit': 0.0, 'value': 0.0},\n",
       "           {'id': 'rouge1', 'lower_limit': 0.8, 'value': 0.5372}],\n",
       "          'tags': [{'id': 'computed_on', 'value': 'feedback'},\n",
       "           {'id': 'field_type', 'value': 'subscription'},\n",
       "           {'id': 'aggregation_type', 'value': 'mean'}]},\n",
       "         {'metrics': [{'id': 'hap_input_score',\n",
       "            'upper_limit': 0.0,\n",
       "            'value': 0.0006},\n",
       "           {'id': 'rouge2', 'lower_limit': 0.8, 'value': 0.1053},\n",
       "           {'id': 'records_processed', 'value': 5.0},\n",
       "           {'id': 'rougelsum', 'lower_limit': 0.8, 'value': 0.1905},\n",
       "           {'id': 'hap_score', 'upper_limit': 0.0, 'value': 0.0002},\n",
       "           {'id': 'pii', 'upper_limit': 0.0, 'value': 0.0},\n",
       "           {'id': 'bleu', 'lower_limit': 0.8, 'value': 0.0871},\n",
       "           {'id': 'rougel', 'lower_limit': 0.8, 'value': 0.1905},\n",
       "           {'id': 'exact_match', 'lower_limit': 0.8, 'value': 0.0},\n",
       "           {'id': 'unsuccessful_requests', 'upper_limit': 0.1, 'value': 0.0},\n",
       "           {'id': 'pii_input', 'upper_limit': 0.0, 'value': 0.0},\n",
       "           {'id': 'rouge1', 'lower_limit': 0.8, 'value': 0.2857}],\n",
       "          'tags': [{'id': 'computed_on', 'value': 'feedback'},\n",
       "           {'id': 'field_type', 'value': 'subscription'},\n",
       "           {'id': 'aggregation_type', 'value': 'min'}]},\n",
       "         {'metrics': [{'id': 'hap_input_score',\n",
       "            'upper_limit': 0.0,\n",
       "            'value': 0.001},\n",
       "           {'id': 'rouge2', 'lower_limit': 0.8, 'value': 0.5745},\n",
       "           {'id': 'records_processed', 'value': 5.0},\n",
       "           {'id': 'rougelsum', 'lower_limit': 0.8, 'value': 0.6458},\n",
       "           {'id': 'hap_score', 'upper_limit': 0.0, 'value': 0.0042},\n",
       "           {'id': 'pii', 'upper_limit': 0.0, 'value': 0.0},\n",
       "           {'id': 'bleu', 'lower_limit': 0.8, 'value': 0.5705},\n",
       "           {'id': 'rougel', 'lower_limit': 0.8, 'value': 0.5833},\n",
       "           {'id': 'exact_match', 'lower_limit': 0.8, 'value': 0.0},\n",
       "           {'id': 'unsuccessful_requests', 'upper_limit': 0.1, 'value': 0.0},\n",
       "           {'id': 'pii_input', 'upper_limit': 0.0, 'value': 0.0},\n",
       "           {'id': 'rouge1', 'lower_limit': 0.8, 'value': 0.6458}],\n",
       "          'tags': [{'id': 'computed_on', 'value': 'feedback'},\n",
       "           {'id': 'field_type', 'value': 'subscription'},\n",
       "           {'id': 'aggregation_type', 'value': 'max'}]}]},\n",
       "       {'breach_status': 'GREEN',\n",
       "        'evaluation_id': '00e40de7-f69c-4854-b3de-9ec3b92919a9',\n",
       "        'issues_count': 0,\n",
       "        'measurement_id': 'b0e039b5-8023-44da-aa4e-2b5d239788f9',\n",
       "        'metric_timestamp': '2024-11-06T09:31:54.734450Z',\n",
       "        'monitor_definition_id': 'model_health',\n",
       "        'monitor_instance_id': '1f55d6da-7274-4907-80cb-2d2158d845c4',\n",
       "        'monitor_run_id': '127371c7-7e13-4a4c-8f09-753c2d522494',\n",
       "        'outcome': 'PASS',\n",
       "        'status': 'FINISHED',\n",
       "        'summary': {'metrics': [{'id': 'total_records',\n",
       "           'name': 'Total records',\n",
       "           'value': 5.0},\n",
       "          {'id': 'total_scoring_requests',\n",
       "           'name': 'Total requests',\n",
       "           'value': 5.0}]},\n",
       "        'test_name': 'model_health_test',\n",
       "        'values': [{'metrics': [{'id': 'total_records', 'value': 5.0},\n",
       "           {'id': 'maximum_record_throughput', 'value': 1.919},\n",
       "           {'id': 'median_api_throughput', 'value': 0.508},\n",
       "           {'id': 'median_input_token_count', 'value': 260.0},\n",
       "           {'id': 'average_output_token_count', 'value': 44.4},\n",
       "           {'id': 'minimum_api_throughput', 'value': 0.259},\n",
       "           {'id': 'median_record_latency', 'value': 1967.0},\n",
       "           {'id': 'minimum_output_token_count', 'value': 7.0},\n",
       "           {'id': 'users', 'value': 1.0},\n",
       "           {'id': 'maximum_api_latency', 'value': 3865.0},\n",
       "           {'id': 'maximum_api_throughput', 'value': 1.919},\n",
       "           {'id': 'total_scoring_requests', 'value': 5.0},\n",
       "           {'id': 'median_records', 'value': 1.0},\n",
       "           {'id': 'median_record_throughput', 'value': 0.508},\n",
       "           {'id': 'minimum_api_latency', 'value': 521.0},\n",
       "           {'id': 'average_input_token_count', 'value': 259.6},\n",
       "           {'id': 'average_record_throughput', 'value': 0.483},\n",
       "           {'id': 'maximum_input_token_count', 'value': 269.0},\n",
       "           {'id': 'median_output_token_count', 'value': 17.0},\n",
       "           {'id': 'total_output_token_count', 'value': 222.0},\n",
       "           {'id': 'maximum_records', 'value': 1.0},\n",
       "           {'id': 'minimum_record_latency', 'value': 521.0},\n",
       "           {'id': 'average_record_latency', 'value': 2069.6},\n",
       "           {'id': 'median_api_latency', 'value': 1967.0},\n",
       "           {'id': 'minimum_records', 'value': 1.0},\n",
       "           {'id': 'minimum_input_token_count', 'value': 252.0},\n",
       "           {'id': 'average_api_throughput', 'value': 0.483},\n",
       "           {'id': 'maximum_record_latency', 'value': 3865.0},\n",
       "           {'id': 'average_api_latency', 'value': 2069.6},\n",
       "           {'id': 'total_input_token_count', 'value': 1298.0},\n",
       "           {'id': 'minimum_record_throughput', 'value': 0.259},\n",
       "           {'id': 'maximum_output_token_count', 'value': 117.0},\n",
       "           {'id': 'average_records', 'value': 1.0}],\n",
       "          'tags': []}]},\n",
       "       {'evaluation_id': '00e40de7-f69c-4854-b3de-9ec3b92919a9',\n",
       "        'monitor_definition_id': 'quality',\n",
       "        'status': 'SKIPPED',\n",
       "        'test_name': 'quality_test',\n",
       "        'test_on_copied_measurement': False,\n",
       "        'values': []},\n",
       "       {'evaluation_id': '00e40de7-f69c-4854-b3de-9ec3b92919a9',\n",
       "        'monitor_definition_id': 'fairness',\n",
       "        'status': 'SKIPPED',\n",
       "        'summary': {'feature_metrics': []},\n",
       "        'test_name': 'fairness_monitoring_test',\n",
       "        'test_on_copied_measurement': False,\n",
       "        'values': []},\n",
       "       {'evaluation_id': '00e40de7-f69c-4854-b3de-9ec3b92919a9',\n",
       "        'monitor_definition_id': 'drift_v2',\n",
       "        'status': 'SKIPPED',\n",
       "        'summary': {'metrics': [], 'sources': [], 'top_features': []},\n",
       "        'test_name': 'drift_v2_test',\n",
       "        'test_on_copied_measurement': False,\n",
       "        'values': []}]}},\n",
       "    'id': 'mrm_evaluation_result_1',\n",
       "    'type': 'mrm_evaluation_result'}],\n",
       "  'target': {'target_id': '10c99f04-edb0-4233-873f-08f882e4a433',\n",
       "   'target_type': 'subscription'},\n",
       "  'timestamp': '2024-11-06T09:31:48.255Z',\n",
       "  'values': [{'metrics': [{'id': 'tests_passed', 'value': 0.0},\n",
       "     {'id': 'tests_run', 'value': 1.0},\n",
       "     {'id': 'tests_skipped', 'value': 3.0},\n",
       "     {'id': 'tests_failed', 'value': 1.0}],\n",
       "    'tags': [{'id': 'test_data_set_name', 'value': 'rag_state_union'}]}]},\n",
       " 'metadata': {'created_at': '2024-11-06T09:32:14.812541Z',\n",
       "  'created_by': 'iam-ServiceId-b317a8da-d926-496e-b0ca-6bcc57f556ae',\n",
       "  'crn': 'crn:v1:bluemix:public:aiopenscale:us-south:a/d49e4dd2ea584a1d82c4ddc3f8f08c9f:21bf753c-434b-419e-9aa8-8114ca6ade5b:measurement:10f7f86a-18ad-4750-99ed-1c30e0078a7e',\n",
       "  'id': '10f7f86a-18ad-4750-99ed-1c30e0078a7e',\n",
       "  'url': '/v2/monitor_instances/28633695-b2e6-4e8b-a6e8-6eacd2aadd8f/measurements/10f7f86a-18ad-4750-99ed-1c30e0078a7e'}}"
      ]
     },
     "execution_count": 140,
     "metadata": {},
     "output_type": "execute_result"
    }
   ],
   "source": [
    "url = f\"{BASE_URL}/openscale/{SERVICE_INSTANCE_ID}/v2/monitor_instances/{monitor_instance_id}/measurements/{measurement_id}\"\n",
    "\n",
    "response = requests.get(url = url,headers=headers)\n",
    "response_json = response.json()\n",
    "pretty_json = json.dumps(response_json, indent=4)\n",
    "response_json"
   ]
  },
  {
   "cell_type": "code",
   "execution_count": null,
   "metadata": {
    "id": "77a59ffd-df62-450a-962f-6de7e5cce591"
   },
   "outputs": [],
   "source": [
    "tests  = response_json[\"entity\"][\"sources\"][0][\"data\"][\"evaluation_result\"][\"tests\"]\n",
    "for test in tests:\n",
    "    if test[\"monitor_definition_id\"] == \"generative_ai_quality\":\n",
    "        monitor_instance_id = test[\"monitor_instance_id\"]\n",
    "        measurement_id_genai = test[\"measurement_id\"]"
   ]
  },
  {
   "cell_type": "markdown",
   "metadata": {
    "id": "cbd012f7-af63-4ad4-a376-5f3bff425c2e"
   },
   "source": [
    "#### Get the generative ai quality moniter id"
   ]
  },
  {
   "cell_type": "code",
   "execution_count": null,
   "metadata": {
    "id": "62720526-7eec-4d39-b6ee-c1e5a5247b32"
   },
   "outputs": [
    {
     "data": {
      "text/plain": [
       "{'monitor_instances': [{'entity': {'data_mart_id': '21bf753c-434b-419e-9aa8-8114ca6ade5b',\n",
       "    'managed_by': 'user',\n",
       "    'monitor_definition_id': 'generative_ai_quality',\n",
       "    'parameters': {'last_processed_ts': '2024-11-06T09:31:52.195226Z',\n",
       "     'metrics_configuration': {'bleu': {},\n",
       "      'exact_match': {},\n",
       "      'hap_input_score': {},\n",
       "      'hap_score': {},\n",
       "      'pii': {},\n",
       "      'pii_input': {},\n",
       "      'rouge_score': {},\n",
       "      'unsuccessful_requests': {}},\n",
       "     'min_sample_size': 5,\n",
       "     'prompt_template_details': {'inference_input_string': 'Answer question from given contexts\\n\\nAnswer the below question from the given context only and do not use the knowledge outside the context.\\n\\nContext: {context1} \\nQuestion: {question}\\nAnswer:',\n",
       "      'input': [['Answer the below question from the given context only and do not use the knowledge outside the context.\\n\\nContext: {context1} \\nQuestion: {question}\\nAnswer:',\n",
       "        '']]}},\n",
       "    'status': {'state': 'active'},\n",
       "    'target': {'target_id': '10c99f04-edb0-4233-873f-08f882e4a433',\n",
       "     'target_type': 'subscription'},\n",
       "    'thresholds': [{'metric_id': 'faithfulness',\n",
       "      'type': 'lower_limit',\n",
       "      'value': 0.7},\n",
       "     {'metric_id': 'context_relevance', 'type': 'lower_limit', 'value': 0.7},\n",
       "     {'metric_id': 'answer_relevance', 'type': 'lower_limit', 'value': 0.7},\n",
       "     {'metric_id': 'unsuccessful_requests',\n",
       "      'type': 'upper_limit',\n",
       "      'value': 0.1},\n",
       "     {'metric_id': 'rouge1', 'type': 'lower_limit', 'value': 0.8},\n",
       "     {'metric_id': 'rouge2', 'type': 'lower_limit', 'value': 0.8},\n",
       "     {'metric_id': 'rougel', 'type': 'lower_limit', 'value': 0.8},\n",
       "     {'metric_id': 'rougelsum', 'type': 'lower_limit', 'value': 0.8},\n",
       "     {'metric_id': 'bleu', 'type': 'lower_limit', 'value': 0.8},\n",
       "     {'metric_id': 'pii', 'type': 'upper_limit', 'value': 0.0},\n",
       "     {'metric_id': 'pii_input', 'type': 'upper_limit', 'value': 0.0},\n",
       "     {'metric_id': 'hap_score', 'type': 'upper_limit', 'value': 0.0},\n",
       "     {'metric_id': 'hap_input_score', 'type': 'upper_limit', 'value': 0.0},\n",
       "     {'metric_id': 'exact_match', 'type': 'lower_limit', 'value': 0.8}]},\n",
       "   'metadata': {'created_at': '2024-11-06T09:30:28.908Z',\n",
       "    'created_by': 'iam-ServiceId-b317a8da-d926-496e-b0ca-6bcc57f556ae',\n",
       "    'crn': 'crn:v1:bluemix:public:aiopenscale:us-south:a/6c26e1f11ef745238913798de41a0653:21bf753c-434b-419e-9aa8-8114ca6ade5b:monitor_instance:8cc15bf1-f143-4500-8669-36a287351f54',\n",
       "    'id': '8cc15bf1-f143-4500-8669-36a287351f54',\n",
       "    'modified_at': '2024-11-06T09:32:05.231Z',\n",
       "    'modified_by': 'iam-ServiceId-b317a8da-d926-496e-b0ca-6bcc57f556ae',\n",
       "    'url': '/v2/monitor_instances/8cc15bf1-f143-4500-8669-36a287351f54'}}]}"
      ]
     },
     "execution_count": 142,
     "metadata": {},
     "output_type": "execute_result"
    }
   ],
   "source": [
    "# read monitor instance id\n",
    "import requests, json\n",
    "url = f\"{BASE_URL}/openscale/{SERVICE_INSTANCE_ID}/v2/monitor_instances\"\n",
    "headers={}\n",
    "headers[\"Content-Type\"] = \"application/json\"\n",
    "headers[\"Accept\"] = \"*/*\"\n",
    "headers[\"Authorization\"] = \"Bearer {}\".format(iam_access_token)\n",
    "\n",
    "params = {\"target.target_id\": subscription_id,\n",
    "          \"monitor_definition_id\": \"generative_ai_quality\"\n",
    "}\n",
    "\n",
    "response = requests.get(url, headers=headers, params= params, verify=True)\n",
    "response_json = response.json()\n",
    "response_json\n"
   ]
  },
  {
   "cell_type": "code",
   "execution_count": null,
   "metadata": {
    "id": "52eb6587-d3b7-4ac1-b684-3b0beb9c1ed1"
   },
   "outputs": [
    {
     "data": {
      "text/plain": [
       "'8cc15bf1-f143-4500-8669-36a287351f54'"
      ]
     },
     "execution_count": 143,
     "metadata": {},
     "output_type": "execute_result"
    }
   ],
   "source": [
    "monitor_instances_id = response_json[\"monitor_instances\"][0][\"metadata\"][\"id\"]\n",
    "monitor_instances_id"
   ]
  },
  {
   "cell_type": "markdown",
   "metadata": {
    "id": "8d9a5c3a-674b-42f4-a976-57939f1679a6"
   },
   "source": [
    "# Display the Generative AI Quality metrics <a name=\"genaimetrics\"></a>"
   ]
  },
  {
   "cell_type": "code",
   "execution_count": null,
   "metadata": {
    "id": "b9eaeb38-b928-48b7-9ca9-479fd7292739"
   },
   "outputs": [
    {
     "data": {
      "text/plain": [
       "{'entity': {'asset_revision': '10c99f04-edb0-4233-873f-08f882e4a433',\n",
       "  'issue_count': 22,\n",
       "  'monitor_definition_id': 'generative_ai_quality',\n",
       "  'monitor_instance_id': '8cc15bf1-f143-4500-8669-36a287351f54',\n",
       "  'run_id': '4d20f27b-8faa-4b19-9cce-40f843f643a9',\n",
       "  'sources': [{'data': {'feedback': {'end_time': '2024-11-06T09:31:37.270Z',\n",
       "      'failed_metric_ids': [],\n",
       "      'issue_count': 6,\n",
       "      'metrics_href': 'https://api.aiopenscale.cloud.ibm.com/openscale/21bf753c-434b-419e-9aa8-8114ca6ade5b/v2/data_sets/cab7407c-da0d-4bb2-a39b-9e49900db2dc/records?filter=run_id:eq:4d20f27b-8faa-4b19-9cce-40f843f643a9,computed_on:eq:feedback',\n",
       "      'start_time': '2024-11-06T09:31:37.270Z',\n",
       "      'total_records_processed': 5}},\n",
       "    'id': 'evaluation_summary',\n",
       "    'type': 'evaluation_summary'},\n",
       "   {'data': {'fields': ['metric_id',\n",
       "      'metric_value_range',\n",
       "      'count',\n",
       "      'row_percent'],\n",
       "     'values': [['rouge2', [0.104, 0.152], 1, 20.0],\n",
       "      ['rouge2', [0.152, 0.199], 0, 0.0],\n",
       "      ['rouge2', [0.199, 0.246], 0, 0.0],\n",
       "      ['rouge2', [0.246, 0.293], 0, 0.0],\n",
       "      ['rouge2', [0.293, 0.34], 0, 0.0],\n",
       "      ['rouge2', [0.34, 0.387], 0, 0.0],\n",
       "      ['rouge2', [0.387, 0.434], 0, 0.0],\n",
       "      ['rouge2', [0.434, 0.481], 1, 20.0],\n",
       "      ['rouge2', [0.481, 0.528], 2, 40.0],\n",
       "      ['rouge2', [0.528, 0.574], 1, 20.0],\n",
       "      ['rouge1', [0.284, 0.322], 1, 20.0],\n",
       "      ['rouge1', [0.322, 0.358], 0, 0.0],\n",
       "      ['rouge1', [0.358, 0.394], 0, 0.0],\n",
       "      ['rouge1', [0.394, 0.43], 0, 0.0],\n",
       "      ['rouge1', [0.43, 0.466], 0, 0.0],\n",
       "      ['rouge1', [0.466, 0.502], 0, 0.0],\n",
       "      ['rouge1', [0.502, 0.538], 0, 0.0],\n",
       "      ['rouge1', [0.538, 0.574], 2, 40.0],\n",
       "      ['rouge1', [0.574, 0.61], 0, 0.0],\n",
       "      ['rouge1', [0.61, 0.646], 2, 40.0],\n",
       "      ['rougelsum', [0.189, 0.236], 1, 20.0],\n",
       "      ['rougelsum', [0.236, 0.282], 0, 0.0],\n",
       "      ['rougelsum', [0.282, 0.327], 0, 0.0],\n",
       "      ['rougelsum', [0.327, 0.373], 0, 0.0],\n",
       "      ['rougelsum', [0.373, 0.418], 0, 0.0],\n",
       "      ['rougelsum', [0.418, 0.464], 0, 0.0],\n",
       "      ['rougelsum', [0.464, 0.509], 0, 0.0],\n",
       "      ['rougelsum', [0.509, 0.555], 1, 20.0],\n",
       "      ['rougelsum', [0.555, 0.6], 1, 20.0],\n",
       "      ['rougelsum', [0.6, 0.646], 2, 40.0],\n",
       "      ['bleu', [0.0856, 0.135], 1, 20.0],\n",
       "      ['bleu', [0.135, 0.184], 0, 0.0],\n",
       "      ['bleu', [0.184, 0.232], 0, 0.0],\n",
       "      ['bleu', [0.232, 0.28], 2, 40.0],\n",
       "      ['bleu', [0.28, 0.329], 0, 0.0],\n",
       "      ['bleu', [0.329, 0.377], 0, 0.0],\n",
       "      ['bleu', [0.377, 0.425], 1, 20.0],\n",
       "      ['bleu', [0.425, 0.474], 0, 0.0],\n",
       "      ['bleu', [0.474, 0.522], 0, 0.0],\n",
       "      ['bleu', [0.522, 0.57], 1, 20.0],\n",
       "      ['pii_input', [-0.002, -0.0008], 0, 0.0],\n",
       "      ['pii_input', [-0.0008, -0.0006], 0, 0.0],\n",
       "      ['pii_input', [-0.0006, -0.0004], 0, 0.0],\n",
       "      ['pii_input', [-0.0004, -0.0002], 0, 0.0],\n",
       "      ['pii_input', [-0.0002, 0.0], 5, 100.0],\n",
       "      ['pii_input', [0.0, 0.0002], 0, 0.0],\n",
       "      ['pii_input', [0.0002, 0.0004], 0, 0.0],\n",
       "      ['pii_input', [0.0004, 0.0006], 0, 0.0],\n",
       "      ['pii_input', [0.0006, 0.0008], 0, 0.0],\n",
       "      ['pii_input', [0.0008, 0.001], 0, 0.0],\n",
       "      ['hap_input_score', [-0.0004, 0.0006], 2, 40.0],\n",
       "      ['hap_input_score', [0.0006, 0.0007], 0, 0.0],\n",
       "      ['hap_input_score', [0.0007, 0.0007], 0, 0.0],\n",
       "      ['hap_input_score', [0.0007, 0.0008], 0, 0.0],\n",
       "      ['hap_input_score', [0.0008, 0.0008], 0, 0.0],\n",
       "      ['hap_input_score', [0.0008, 0.0008], 0, 0.0],\n",
       "      ['hap_input_score', [0.0008, 0.0009], 0, 0.0],\n",
       "      ['hap_input_score', [0.0009, 0.0009], 2, 40.0],\n",
       "      ['hap_input_score', [0.0009, 0.001], 0, 0.0],\n",
       "      ['hap_input_score', [0.001, 0.001], 1, 20.0],\n",
       "      ['exact_match', [-0.002, -0.0008], 0, 0.0],\n",
       "      ['exact_match', [-0.0008, -0.0006], 0, 0.0],\n",
       "      ['exact_match', [-0.0006, -0.0004], 0, 0.0],\n",
       "      ['exact_match', [-0.0004, -0.0002], 0, 0.0],\n",
       "      ['exact_match', [-0.0002, 0.0], 5, 100.0],\n",
       "      ['exact_match', [0.0, 0.0002], 0, 0.0],\n",
       "      ['exact_match', [0.0002, 0.0004], 0, 0.0],\n",
       "      ['exact_match', [0.0004, 0.0006], 0, 0.0],\n",
       "      ['exact_match', [0.0006, 0.0008], 0, 0.0],\n",
       "      ['exact_match', [0.0008, 0.001], 0, 0.0],\n",
       "      ['rougel', [0.189, 0.23], 1, 20.0],\n",
       "      ['rougel', [0.23, 0.269], 0, 0.0],\n",
       "      ['rougel', [0.269, 0.308], 0, 0.0],\n",
       "      ['rougel', [0.308, 0.348], 0, 0.0],\n",
       "      ['rougel', [0.348, 0.387], 0, 0.0],\n",
       "      ['rougel', [0.387, 0.426], 0, 0.0],\n",
       "      ['rougel', [0.426, 0.465], 0, 0.0],\n",
       "      ['rougel', [0.465, 0.505], 0, 0.0],\n",
       "      ['rougel', [0.505, 0.544], 0, 0.0],\n",
       "      ['rougel', [0.544, 0.583], 4, 80.0],\n",
       "      ['unsuccessful_requests', [-0.002, -0.0008], 0, 0.0],\n",
       "      ['unsuccessful_requests', [-0.0008, -0.0006], 0, 0.0],\n",
       "      ['unsuccessful_requests', [-0.0006, -0.0004], 0, 0.0],\n",
       "      ['unsuccessful_requests', [-0.0004, -0.0002], 0, 0.0],\n",
       "      ['unsuccessful_requests', [-0.0002, 0.0], 5, 100.0],\n",
       "      ['unsuccessful_requests', [0.0, 0.0002], 0, 0.0],\n",
       "      ['unsuccessful_requests', [0.0002, 0.0004], 0, 0.0],\n",
       "      ['unsuccessful_requests', [0.0004, 0.0006], 0, 0.0],\n",
       "      ['unsuccessful_requests', [0.0006, 0.0008], 0, 0.0],\n",
       "      ['unsuccessful_requests', [0.0008, 0.001], 0, 0.0],\n",
       "      ['hap_score', [-0.0008, 0.0006], 2, 40.0],\n",
       "      ['hap_score', [0.0006, 0.001], 1, 20.0],\n",
       "      ['hap_score', [0.001, 0.0014], 0, 0.0],\n",
       "      ['hap_score', [0.0014, 0.0018], 0, 0.0],\n",
       "      ['hap_score', [0.0018, 0.0022], 1, 20.0],\n",
       "      ['hap_score', [0.0022, 0.0026], 0, 0.0],\n",
       "      ['hap_score', [0.0026, 0.003], 0, 0.0],\n",
       "      ['hap_score', [0.003, 0.0034], 0, 0.0],\n",
       "      ['hap_score', [0.0034, 0.0038], 0, 0.0],\n",
       "      ['hap_score', [0.0038, 0.0042], 1, 20.0],\n",
       "      ['pii', [-0.002, -0.0008], 0, 0.0],\n",
       "      ['pii', [-0.0008, -0.0006], 0, 0.0],\n",
       "      ['pii', [-0.0006, -0.0004], 0, 0.0],\n",
       "      ['pii', [-0.0004, -0.0002], 0, 0.0],\n",
       "      ['pii', [-0.0002, 0.0], 5, 100.0],\n",
       "      ['pii', [0.0, 0.0002], 0, 0.0],\n",
       "      ['pii', [0.0002, 0.0004], 0, 0.0],\n",
       "      ['pii', [0.0004, 0.0006], 0, 0.0],\n",
       "      ['pii', [0.0006, 0.0008], 0, 0.0],\n",
       "      ['pii', [0.0008, 0.001], 0, 0.0]]},\n",
       "    'id': 'feedback_metric_values_distribution',\n",
       "    'type': 'data_distribution'}],\n",
       "  'target': {'target_id': '10c99f04-edb0-4233-873f-08f882e4a433',\n",
       "   'target_type': 'subscription'},\n",
       "  'timestamp': '2024-11-06T09:32:04.426231Z',\n",
       "  'values': [{'metrics': [{'upper_limit': 0.0,\n",
       "      'id': 'hap_input_score',\n",
       "      'value': 0.0},\n",
       "     {'lower_limit': 0.8, 'id': 'rouge2', 'value': 0.429},\n",
       "     {'id': 'records_processed', 'value': 5.0},\n",
       "     {'lower_limit': 0.8, 'id': 'rougelsum', 'value': 0.5182},\n",
       "     {'upper_limit': 0.0, 'id': 'hap_score', 'value': 0.0},\n",
       "     {'upper_limit': 0.0, 'id': 'pii', 'value': 0.0},\n",
       "     {'lower_limit': 0.8, 'id': 'bleu', 'value': 0.4954},\n",
       "     {'lower_limit': 0.8, 'id': 'rougel', 'value': 0.4915},\n",
       "     {'lower_limit': 0.8, 'id': 'exact_match', 'value': 0.0},\n",
       "     {'upper_limit': 0.1, 'id': 'unsuccessful_requests', 'value': 0.0},\n",
       "     {'upper_limit': 0.0, 'id': 'pii_input', 'value': 0.0},\n",
       "     {'lower_limit': 0.8, 'id': 'rouge1', 'value': 0.5372}],\n",
       "    'tags': [{'id': 'computed_on', 'value': 'feedback'},\n",
       "     {'id': 'field_type', 'value': 'subscription'},\n",
       "     {'id': 'aggregation_type', 'value': 'mean'}]},\n",
       "   {'metrics': [{'upper_limit': 0.0, 'id': 'hap_input_score', 'value': 0.0006},\n",
       "     {'lower_limit': 0.8, 'id': 'rouge2', 'value': 0.1053},\n",
       "     {'id': 'records_processed', 'value': 5.0},\n",
       "     {'lower_limit': 0.8, 'id': 'rougelsum', 'value': 0.1905},\n",
       "     {'upper_limit': 0.0, 'id': 'hap_score', 'value': 0.0002},\n",
       "     {'upper_limit': 0.0, 'id': 'pii', 'value': 0.0},\n",
       "     {'lower_limit': 0.8, 'id': 'bleu', 'value': 0.0871},\n",
       "     {'lower_limit': 0.8, 'id': 'rougel', 'value': 0.1905},\n",
       "     {'lower_limit': 0.8, 'id': 'exact_match', 'value': 0.0},\n",
       "     {'upper_limit': 0.1, 'id': 'unsuccessful_requests', 'value': 0.0},\n",
       "     {'upper_limit': 0.0, 'id': 'pii_input', 'value': 0.0},\n",
       "     {'lower_limit': 0.8, 'id': 'rouge1', 'value': 0.2857}],\n",
       "    'tags': [{'id': 'computed_on', 'value': 'feedback'},\n",
       "     {'id': 'field_type', 'value': 'subscription'},\n",
       "     {'id': 'aggregation_type', 'value': 'min'}]},\n",
       "   {'metrics': [{'upper_limit': 0.0, 'id': 'hap_input_score', 'value': 0.001},\n",
       "     {'lower_limit': 0.8, 'id': 'rouge2', 'value': 0.5745},\n",
       "     {'id': 'records_processed', 'value': 5.0},\n",
       "     {'lower_limit': 0.8, 'id': 'rougelsum', 'value': 0.6458},\n",
       "     {'upper_limit': 0.0, 'id': 'hap_score', 'value': 0.0042},\n",
       "     {'upper_limit': 0.0, 'id': 'pii', 'value': 0.0},\n",
       "     {'lower_limit': 0.8, 'id': 'bleu', 'value': 0.5705},\n",
       "     {'lower_limit': 0.8, 'id': 'rougel', 'value': 0.5833},\n",
       "     {'lower_limit': 0.8, 'id': 'exact_match', 'value': 0.0},\n",
       "     {'upper_limit': 0.1, 'id': 'unsuccessful_requests', 'value': 0.0},\n",
       "     {'upper_limit': 0.0, 'id': 'pii_input', 'value': 0.0},\n",
       "     {'lower_limit': 0.8, 'id': 'rouge1', 'value': 0.6458}],\n",
       "    'tags': [{'id': 'computed_on', 'value': 'feedback'},\n",
       "     {'id': 'field_type', 'value': 'subscription'},\n",
       "     {'id': 'aggregation_type', 'value': 'max'}]}]},\n",
       " 'metadata': {'created_at': '2024-11-06T09:32:04.856176Z',\n",
       "  'created_by': 'iam-ServiceId-b317a8da-d926-496e-b0ca-6bcc57f556ae',\n",
       "  'crn': 'crn:v1:bluemix:public:aiopenscale:us-south:a/d49e4dd2ea584a1d82c4ddc3f8f08c9f:21bf753c-434b-419e-9aa8-8114ca6ade5b:measurement:4246241f-019c-4338-ba10-08a0fddfaf29',\n",
       "  'id': '4246241f-019c-4338-ba10-08a0fddfaf29',\n",
       "  'url': '/v2/monitor_instances/8cc15bf1-f143-4500-8669-36a287351f54/measurements/4246241f-019c-4338-ba10-08a0fddfaf29'}}"
      ]
     },
     "execution_count": 144,
     "metadata": {},
     "output_type": "execute_result"
    }
   ],
   "source": [
    "url = f\"{BASE_URL}/openscale/{SERVICE_INSTANCE_ID}/v2/monitor_instances/{monitor_instances_id}/measurements/{measurement_id_genai}\n",
    "\n",
    "\n",
    "response = requests.get(url = url,headers=headers)\n",
    "response_json = response.json()\n",
    "#response_json\n",
    "response_json = response_json\n",
    "pretty_json = json.dumps(response_json, indent=4)\n",
    "#print(pretty_json)\n",
    "response_json"
   ]
  },
  {
   "cell_type": "code",
   "execution_count": null,
   "metadata": {
    "id": "4333d032-7f0a-494c-ab95-d5b4f449ec31"
   },
   "outputs": [],
   "source": [
    "url = response_json[\"entity\"][\"sources\"][0][\"data\"][\"feedback\"][\"metrics_href\"]"
   ]
  },
  {
   "cell_type": "markdown",
   "metadata": {
    "id": "27292d1f-3efb-4a95-b7b0-d80eeb7e1339"
   },
   "source": [
    "#### Show Metrics computed using feedback data"
   ]
  },
  {
   "cell_type": "code",
   "execution_count": null,
   "metadata": {
    "id": "c0641d42-7c20-4a7a-9665-beb85eb0ab1a"
   },
   "outputs": [
    {
     "data": {
      "text/plain": [
       "{'records': [{'entity': {'values': {'hap_input_score': 0.0009890641085803509,\n",
       "     'rouge2': 0.4915,\n",
       "     'pii_entities': [],\n",
       "     'scoring_id': 'MRM_1a3f93ee-0dee-4c9a-94d3-2a9dc4cc2fc1-0',\n",
       "     'computed_on': 'feedback',\n",
       "     'scoring_timestamp': '2024-11-06T09:31:37.270Z',\n",
       "     'rougelsum': 0.6333,\n",
       "     'hap_score': 0.0018304836703464389,\n",
       "     'pii_input_entities': [],\n",
       "     'pii': 0.0,\n",
       "     'hap_input_score_entities': None,\n",
       "     'hap_score_positions': None,\n",
       "     'bleu': 0.39902400645247116,\n",
       "     'run_id': '4d20f27b-8faa-4b19-9cce-40f843f643a9',\n",
       "     'pii_input_positions': None,\n",
       "     'pii_positions': None,\n",
       "     'rougel': 0.5833,\n",
       "     'exact_match': 0.0,\n",
       "     'unsuccessful_requests': 0.0,\n",
       "     'hap_score_entities': None,\n",
       "     'pii_input': 0.0,\n",
       "     'hap_input_score_positions': None,\n",
       "     'rouge1': 0.6333},\n",
       "    'annotations': None},\n",
       "   'metadata': {'created_at': '2024-11-06T09:31:37.270Z',\n",
       "    'created_by': 'IBMid-666002690O',\n",
       "    'crn': 'crn:v1:bluemix:public:aiopenscale:us-south:a/d49e4dd2ea584a1d82c4ddc3f8f08c9f:21bf753c-434b-419e-9aa8-8114ca6ade5b:record:MRM_1a3f93ee-0dee-4c9a-94d3-2a9dc4cc2fc1-0',\n",
       "    'id': 'MRM_1a3f93ee-0dee-4c9a-94d3-2a9dc4cc2fc1-0',\n",
       "    'url': '/v2/data_sets/cab7407c-da0d-4bb2-a39b-9e49900db2dc/records/MRM_1a3f93ee-0dee-4c9a-94d3-2a9dc4cc2fc1-0'}},\n",
       "  {'entity': {'values': {'hap_input_score': 0.0006118171731941402,\n",
       "     'rouge2': 0.5745,\n",
       "     'pii_entities': [],\n",
       "     'scoring_id': 'MRM_1a3f93ee-0dee-4c9a-94d3-2a9dc4cc2fc1-1',\n",
       "     'computed_on': 'feedback',\n",
       "     'scoring_timestamp': '2024-11-06T09:31:37.270Z',\n",
       "     'rougelsum': 0.6458,\n",
       "     'hap_score': 0.00022995882318355143,\n",
       "     'pii_input_entities': [],\n",
       "     'pii': 0.0,\n",
       "     'hap_input_score_entities': None,\n",
       "     'hap_score_positions': None,\n",
       "     'bleu': 0.5704773038269466,\n",
       "     'run_id': '4d20f27b-8faa-4b19-9cce-40f843f643a9',\n",
       "     'pii_input_positions': None,\n",
       "     'pii_positions': None,\n",
       "     'rougel': 0.5625,\n",
       "     'exact_match': 0.0,\n",
       "     'unsuccessful_requests': 0.0,\n",
       "     'hap_score_entities': None,\n",
       "     'pii_input': 0.0,\n",
       "     'hap_input_score_positions': None,\n",
       "     'rouge1': 0.6458},\n",
       "    'annotations': None},\n",
       "   'metadata': {'created_at': '2024-11-06T09:31:37.270Z',\n",
       "    'created_by': 'IBMid-666002690O',\n",
       "    'crn': 'crn:v1:bluemix:public:aiopenscale:us-south:a/d49e4dd2ea584a1d82c4ddc3f8f08c9f:21bf753c-434b-419e-9aa8-8114ca6ade5b:record:MRM_1a3f93ee-0dee-4c9a-94d3-2a9dc4cc2fc1-1',\n",
       "    'id': 'MRM_1a3f93ee-0dee-4c9a-94d3-2a9dc4cc2fc1-1',\n",
       "    'url': '/v2/data_sets/cab7407c-da0d-4bb2-a39b-9e49900db2dc/records/MRM_1a3f93ee-0dee-4c9a-94d3-2a9dc4cc2fc1-1'}},\n",
       "  {'entity': {'values': {'hap_input_score': 0.0009026732877828181,\n",
       "     'rouge2': 0.5,\n",
       "     'pii_entities': [],\n",
       "     'scoring_id': 'MRM_1a3f93ee-0dee-4c9a-94d3-2a9dc4cc2fc1-2',\n",
       "     'computed_on': 'feedback',\n",
       "     'scoring_timestamp': '2024-11-06T09:31:37.270Z',\n",
       "     'rougelsum': 0.5714,\n",
       "     'hap_score': 0.0007767673232592642,\n",
       "     'pii_input_entities': [],\n",
       "     'pii': 0.0,\n",
       "     'hap_input_score_entities': None,\n",
       "     'hap_score_positions': None,\n",
       "     'bleu': 0.2635971381157267,\n",
       "     'run_id': '4d20f27b-8faa-4b19-9cce-40f843f643a9',\n",
       "     'pii_input_positions': None,\n",
       "     'pii_positions': None,\n",
       "     'rougel': 0.5714,\n",
       "     'exact_match': 0.0,\n",
       "     'unsuccessful_requests': 0.0,\n",
       "     'hap_score_entities': None,\n",
       "     'pii_input': 0.0,\n",
       "     'hap_input_score_positions': None,\n",
       "     'rouge1': 0.5714},\n",
       "    'annotations': None},\n",
       "   'metadata': {'created_at': '2024-11-06T09:31:37.270Z',\n",
       "    'created_by': 'IBMid-666002690O',\n",
       "    'crn': 'crn:v1:bluemix:public:aiopenscale:us-south:a/d49e4dd2ea584a1d82c4ddc3f8f08c9f:21bf753c-434b-419e-9aa8-8114ca6ade5b:record:MRM_1a3f93ee-0dee-4c9a-94d3-2a9dc4cc2fc1-2',\n",
       "    'id': 'MRM_1a3f93ee-0dee-4c9a-94d3-2a9dc4cc2fc1-2',\n",
       "    'url': '/v2/data_sets/cab7407c-da0d-4bb2-a39b-9e49900db2dc/records/MRM_1a3f93ee-0dee-4c9a-94d3-2a9dc4cc2fc1-2'}},\n",
       "  {'entity': {'values': {'hap_input_score': 0.000877954182215035,\n",
       "     'rouge2': 0.1053,\n",
       "     'pii_entities': [],\n",
       "     'scoring_id': 'MRM_1a3f93ee-0dee-4c9a-94d3-2a9dc4cc2fc1-3',\n",
       "     'computed_on': 'feedback',\n",
       "     'scoring_timestamp': '2024-11-06T09:31:37.270Z',\n",
       "     'rougelsum': 0.1905,\n",
       "     'hap_score': 0.004206538200378418,\n",
       "     'pii_input_entities': [],\n",
       "     'pii': 0.0,\n",
       "     'hap_input_score_entities': None,\n",
       "     'hap_score_positions': None,\n",
       "     'bleu': 0.08707046609544257,\n",
       "     'run_id': '4d20f27b-8faa-4b19-9cce-40f843f643a9',\n",
       "     'pii_input_positions': None,\n",
       "     'pii_positions': None,\n",
       "     'rougel': 0.1905,\n",
       "     'exact_match': 0.0,\n",
       "     'unsuccessful_requests': 0.0,\n",
       "     'hap_score_entities': None,\n",
       "     'pii_input': 0.0,\n",
       "     'hap_input_score_positions': None,\n",
       "     'rouge1': 0.2857},\n",
       "    'annotations': None},\n",
       "   'metadata': {'created_at': '2024-11-06T09:31:37.270Z',\n",
       "    'created_by': 'IBMid-666002690O',\n",
       "    'crn': 'crn:v1:bluemix:public:aiopenscale:us-south:a/d49e4dd2ea584a1d82c4ddc3f8f08c9f:21bf753c-434b-419e-9aa8-8114ca6ade5b:record:MRM_1a3f93ee-0dee-4c9a-94d3-2a9dc4cc2fc1-3',\n",
       "    'id': 'MRM_1a3f93ee-0dee-4c9a-94d3-2a9dc4cc2fc1-3',\n",
       "    'url': '/v2/data_sets/cab7407c-da0d-4bb2-a39b-9e49900db2dc/records/MRM_1a3f93ee-0dee-4c9a-94d3-2a9dc4cc2fc1-3'}},\n",
       "  {'entity': {'values': {'hap_input_score': 0.0006086305365897715,\n",
       "     'rouge2': 0.4737,\n",
       "     'pii_entities': [],\n",
       "     'scoring_id': 'MRM_1a3f93ee-0dee-4c9a-94d3-2a9dc4cc2fc1-4',\n",
       "     'computed_on': 'feedback',\n",
       "     'scoring_timestamp': '2024-11-06T09:31:37.270Z',\n",
       "     'rougelsum': 0.55,\n",
       "     'hap_score': 0.00033068633638322353,\n",
       "     'pii_input_entities': [],\n",
       "     'pii': 0.0,\n",
       "     'hap_input_score_entities': None,\n",
       "     'hap_score_positions': None,\n",
       "     'bleu': 0.23725030156598423,\n",
       "     'run_id': '4d20f27b-8faa-4b19-9cce-40f843f643a9',\n",
       "     'pii_input_positions': None,\n",
       "     'pii_positions': None,\n",
       "     'rougel': 0.55,\n",
       "     'exact_match': 0.0,\n",
       "     'unsuccessful_requests': 0.0,\n",
       "     'hap_score_entities': None,\n",
       "     'pii_input': 0.0,\n",
       "     'hap_input_score_positions': None,\n",
       "     'rouge1': 0.55},\n",
       "    'annotations': None},\n",
       "   'metadata': {'created_at': '2024-11-06T09:31:37.270Z',\n",
       "    'created_by': 'IBMid-666002690O',\n",
       "    'crn': 'crn:v1:bluemix:public:aiopenscale:us-south:a/d49e4dd2ea584a1d82c4ddc3f8f08c9f:21bf753c-434b-419e-9aa8-8114ca6ade5b:record:MRM_1a3f93ee-0dee-4c9a-94d3-2a9dc4cc2fc1-4',\n",
       "    'id': 'MRM_1a3f93ee-0dee-4c9a-94d3-2a9dc4cc2fc1-4',\n",
       "    'url': '/v2/data_sets/cab7407c-da0d-4bb2-a39b-9e49900db2dc/records/MRM_1a3f93ee-0dee-4c9a-94d3-2a9dc4cc2fc1-4'}}]}"
      ]
     },
     "execution_count": 146,
     "metadata": {},
     "output_type": "execute_result"
    }
   ],
   "source": [
    "response = requests.get(url = url,headers=headers)\n",
    "response_json = response.json()\n",
    "response_json"
   ]
  },
  {
   "cell_type": "markdown",
   "metadata": {},
   "source": [
    "## Display the Generative AI Quality metrics"
   ]
  },
  {
   "cell_type": "code",
   "execution_count": null,
   "metadata": {
    "id": "b82c7089-53d0-450a-9c69-639aad35e8b5"
   },
   "outputs": [
    {
     "data": {
      "text/plain": [
       "{'data_sets': [{'entity': {'data_mart_id': '21bf753c-434b-419e-9aa8-8114ca6ade5b',\n",
       "    'data_schema': {'fields': [{'metadata': {'modeling_role': 'record-id',\n",
       "        'primary_key': True},\n",
       "       'name': 'scoring_id',\n",
       "       'nullable': False,\n",
       "       'type': 'string'},\n",
       "      {'metadata': {'modeling_role': 'record-timestamp'},\n",
       "       'name': 'scoring_timestamp',\n",
       "       'nullable': False,\n",
       "       'type': 'timestamp'},\n",
       "      {'metadata': {'columnInfo': {'columnIndex': 'DEFAULT'}},\n",
       "       'name': 'run_id',\n",
       "       'nullable': False,\n",
       "       'type': 'string'},\n",
       "      {'metadata': {},\n",
       "       'name': 'computed_on',\n",
       "       'nullable': False,\n",
       "       'type': 'string'},\n",
       "      {'metadata': {},\n",
       "       'name': 'hap_input_score',\n",
       "       'nullable': True,\n",
       "       'type': 'double'},\n",
       "      {'metadata': {'columnInfo': {'columnLength': 32000}},\n",
       "       'name': 'hap_input_score_entities',\n",
       "       'nullable': True,\n",
       "       'type': {'containsNull': True,\n",
       "        'elementType': 'string',\n",
       "        'type': 'array'}},\n",
       "      {'metadata': {'columnInfo': {'columnLength': 32000}},\n",
       "       'name': 'hap_input_score_positions',\n",
       "       'nullable': True,\n",
       "       'type': {'containsNull': True,\n",
       "        'elementType': 'string',\n",
       "        'type': 'array'}},\n",
       "      {'metadata': {}, 'name': 'rouge1', 'nullable': True, 'type': 'double'},\n",
       "      {'metadata': {}, 'name': 'rouge2', 'nullable': True, 'type': 'double'},\n",
       "      {'metadata': {}, 'name': 'rougel', 'nullable': True, 'type': 'double'},\n",
       "      {'metadata': {},\n",
       "       'name': 'rougelsum',\n",
       "       'nullable': True,\n",
       "       'type': 'double'},\n",
       "      {'metadata': {},\n",
       "       'name': 'hap_score',\n",
       "       'nullable': True,\n",
       "       'type': 'double'},\n",
       "      {'metadata': {'columnInfo': {'columnLength': 32000}},\n",
       "       'name': 'hap_score_entities',\n",
       "       'nullable': True,\n",
       "       'type': {'containsNull': True,\n",
       "        'elementType': 'string',\n",
       "        'type': 'array'}},\n",
       "      {'metadata': {'columnInfo': {'columnLength': 32000}},\n",
       "       'name': 'hap_score_positions',\n",
       "       'nullable': True,\n",
       "       'type': {'containsNull': True,\n",
       "        'elementType': 'string',\n",
       "        'type': 'array'}},\n",
       "      {'metadata': {}, 'name': 'pii', 'nullable': True, 'type': 'double'},\n",
       "      {'metadata': {'columnInfo': {'columnLength': 32000}},\n",
       "       'name': 'pii_entities',\n",
       "       'nullable': True,\n",
       "       'type': {'containsNull': True,\n",
       "        'elementType': 'string',\n",
       "        'type': 'array'}},\n",
       "      {'metadata': {'columnInfo': {'columnLength': 32000}},\n",
       "       'name': 'pii_positions',\n",
       "       'nullable': True,\n",
       "       'type': {'containsNull': True,\n",
       "        'elementType': 'string',\n",
       "        'type': 'array'}},\n",
       "      {'metadata': {}, 'name': 'bleu', 'nullable': True, 'type': 'double'},\n",
       "      {'metadata': {},\n",
       "       'name': 'exact_match',\n",
       "       'nullable': True,\n",
       "       'type': 'double'},\n",
       "      {'metadata': {},\n",
       "       'name': 'unsuccessful_requests',\n",
       "       'nullable': True,\n",
       "       'type': 'double'},\n",
       "      {'metadata': {},\n",
       "       'name': 'pii_input',\n",
       "       'nullable': True,\n",
       "       'type': 'double'},\n",
       "      {'metadata': {'columnInfo': {'columnLength': 32000}},\n",
       "       'name': 'pii_input_entities',\n",
       "       'nullable': True,\n",
       "       'type': {'containsNull': True,\n",
       "        'elementType': 'string',\n",
       "        'type': 'array'}},\n",
       "      {'metadata': {'columnInfo': {'columnLength': 32000}},\n",
       "       'name': 'pii_input_positions',\n",
       "       'nullable': True,\n",
       "       'type': {'containsNull': True,\n",
       "        'elementType': 'string',\n",
       "        'type': 'array'}}],\n",
       "     'type': 'struct'},\n",
       "    'description': 'Generative AI Quality metrics table',\n",
       "    'location': {'table_name': '21bf753c-434b-419e-9aa8-8114ca6ade5b.Gen_AI_Quality_Metrics_10c99f04-edb0-4233-873f-08f882e4a433'},\n",
       "    'managed_by': 'generative_ai_quality',\n",
       "    'name': 'Generative AI Quality metrics table',\n",
       "    'schema_update_mode': 'none',\n",
       "    'status': {'state': 'active'},\n",
       "    'target': {'target_id': '10c99f04-edb0-4233-873f-08f882e4a433',\n",
       "     'target_type': 'subscription'},\n",
       "    'type': 'gen_ai_quality_metrics'},\n",
       "   'metadata': {'created_at': '2024-11-06T09:30:30.236Z',\n",
       "    'created_by': 'iam-ServiceId-b317a8da-d926-496e-b0ca-6bcc57f556ae',\n",
       "    'crn': 'crn:v1:bluemix:public:aiopenscale:us-south:a/6c26e1f11ef745238913798de41a0653:21bf753c-434b-419e-9aa8-8114ca6ade5b:data_set:cab7407c-da0d-4bb2-a39b-9e49900db2dc',\n",
       "    'id': 'cab7407c-da0d-4bb2-a39b-9e49900db2dc',\n",
       "    'modified_at': '2024-11-06T09:30:30.628Z',\n",
       "    'modified_by': 'iam-ServiceId-b317a8da-d926-496e-b0ca-6bcc57f556ae',\n",
       "    'url': '/v2/data_sets/cab7407c-da0d-4bb2-a39b-9e49900db2dc'}}]}"
      ]
     },
     "execution_count": 147,
     "metadata": {},
     "output_type": "execute_result"
    }
   ],
   "source": [
    "url = f\"{BASE_URL}/openscale/{SERVICE_INSTANCE_ID}/v2/data_sets\"\n",
    "params = {\n",
    "    \"target.target_id\":subscription_id,\n",
    "    \"type\":\"gen_ai_quality_metrics\"\n",
    "}\n",
    "response = requests.get(url = url,headers=headers, params=params)\n",
    "response_json = response.json()\n",
    "response_json"
   ]
  },
  {
   "cell_type": "code",
   "execution_count": null,
   "metadata": {
    "id": "b25f10d2-b452-426e-82ae-f548d1d1549c"
   },
   "outputs": [
    {
     "data": {
      "text/plain": [
       "'cab7407c-da0d-4bb2-a39b-9e49900db2dc'"
      ]
     },
     "execution_count": 148,
     "metadata": {},
     "output_type": "execute_result"
    }
   ],
   "source": [
    "payload_dataset_id2 = response_json[\"data_sets\"][0][\"metadata\"][\"id\"]\n",
    "payload_dataset_id2"
   ]
  },
  {
   "cell_type": "markdown",
   "metadata": {
    "id": "1ff84096-a1e0-4b7c-8e88-a3b33847a586"
   },
   "source": [
    "## Display record level metrics for Generative AI Quality "
   ]
  },
  {
   "cell_type": "code",
   "execution_count": null,
   "metadata": {
    "id": "9f7b5d9a-5b63-45b3-8dc2-fd4c6816fabd"
   },
   "outputs": [],
   "source": [
    "url = f\"{BASE_URL}/openscale/{SERVICE_INSTANCE_ID}/v2/data_sets/{payload_dataset_id2}/records\"\n",
    "params = {\n",
    "\n",
    "    \"include_total_count\":\"true\",\n",
    "    \"limit\":1\n",
    "}\n",
    "response = requests.get(url = url,headers=headers, params = params)\n",
    "response_json = response.json()\n",
    "#response_json\n",
    "pretty_json = json.dumps(response_json, indent=4)\n"
   ]
  },
  {
   "cell_type": "code",
   "execution_count": null,
   "metadata": {},
   "outputs": [
    {
     "data": {
      "text/plain": [
       "'MRM_1a3f93ee-0dee-4c9a-94d3-2a9dc4cc2fc1-0'"
      ]
     },
     "execution_count": 150,
     "metadata": {},
     "output_type": "execute_result"
    }
   ],
   "source": [
    "genaiq_dataset_id = response_json[\"records\"][0][\"metadata\"][\"id\"]\n",
    "genaiq_dataset_id"
   ]
  },
  {
   "cell_type": "code",
   "execution_count": null,
   "metadata": {},
   "outputs": [
    {
     "data": {
      "text/plain": [
       "[{'entity': {'values': {'hap_input_score': 0.0009890641085803509,\n",
       "    'rouge2': 0.4915,\n",
       "    'pii_entities': [],\n",
       "    'scoring_id': 'MRM_1a3f93ee-0dee-4c9a-94d3-2a9dc4cc2fc1-0',\n",
       "    'computed_on': 'feedback',\n",
       "    'scoring_timestamp': '2024-11-06T09:31:37.270Z',\n",
       "    'rougelsum': 0.6333,\n",
       "    'hap_score': 0.0018304836703464389,\n",
       "    'pii_input_entities': [],\n",
       "    'pii': 0.0,\n",
       "    'hap_input_score_entities': None,\n",
       "    'hap_score_positions': None,\n",
       "    'bleu': 0.39902400645247116,\n",
       "    'run_id': '4d20f27b-8faa-4b19-9cce-40f843f643a9',\n",
       "    'pii_input_positions': None,\n",
       "    'pii_positions': None,\n",
       "    'rougel': 0.5833,\n",
       "    'exact_match': 0.0,\n",
       "    'unsuccessful_requests': 0.0,\n",
       "    'hap_score_entities': None,\n",
       "    'pii_input': 0.0,\n",
       "    'hap_input_score_positions': None,\n",
       "    'rouge1': 0.6333},\n",
       "   'annotations': None},\n",
       "  'metadata': {'created_at': '2024-11-06T09:31:37.270Z',\n",
       "   'created_by': 'IBMid-666002690O',\n",
       "   'crn': 'crn:v1:bluemix:public:aiopenscale:us-south:a/d49e4dd2ea584a1d82c4ddc3f8f08c9f:21bf753c-434b-419e-9aa8-8114ca6ade5b:record:MRM_1a3f93ee-0dee-4c9a-94d3-2a9dc4cc2fc1-0',\n",
       "   'id': 'MRM_1a3f93ee-0dee-4c9a-94d3-2a9dc4cc2fc1-0',\n",
       "   'url': '/v2/data_sets/cab7407c-da0d-4bb2-a39b-9e49900db2dc/records/MRM_1a3f93ee-0dee-4c9a-94d3-2a9dc4cc2fc1-0'}},\n",
       " {'entity': {'values': {'hap_input_score': 0.0006118171731941402,\n",
       "    'rouge2': 0.5745,\n",
       "    'pii_entities': [],\n",
       "    'scoring_id': 'MRM_1a3f93ee-0dee-4c9a-94d3-2a9dc4cc2fc1-1',\n",
       "    'computed_on': 'feedback',\n",
       "    'scoring_timestamp': '2024-11-06T09:31:37.270Z',\n",
       "    'rougelsum': 0.6458,\n",
       "    'hap_score': 0.00022995882318355143,\n",
       "    'pii_input_entities': [],\n",
       "    'pii': 0.0,\n",
       "    'hap_input_score_entities': None,\n",
       "    'hap_score_positions': None,\n",
       "    'bleu': 0.5704773038269466,\n",
       "    'run_id': '4d20f27b-8faa-4b19-9cce-40f843f643a9',\n",
       "    'pii_input_positions': None,\n",
       "    'pii_positions': None,\n",
       "    'rougel': 0.5625,\n",
       "    'exact_match': 0.0,\n",
       "    'unsuccessful_requests': 0.0,\n",
       "    'hap_score_entities': None,\n",
       "    'pii_input': 0.0,\n",
       "    'hap_input_score_positions': None,\n",
       "    'rouge1': 0.6458},\n",
       "   'annotations': None},\n",
       "  'metadata': {'created_at': '2024-11-06T09:31:37.270Z',\n",
       "   'created_by': 'IBMid-666002690O',\n",
       "   'crn': 'crn:v1:bluemix:public:aiopenscale:us-south:a/d49e4dd2ea584a1d82c4ddc3f8f08c9f:21bf753c-434b-419e-9aa8-8114ca6ade5b:record:MRM_1a3f93ee-0dee-4c9a-94d3-2a9dc4cc2fc1-1',\n",
       "   'id': 'MRM_1a3f93ee-0dee-4c9a-94d3-2a9dc4cc2fc1-1',\n",
       "   'url': '/v2/data_sets/cab7407c-da0d-4bb2-a39b-9e49900db2dc/records/MRM_1a3f93ee-0dee-4c9a-94d3-2a9dc4cc2fc1-1'}},\n",
       " {'entity': {'values': {'hap_input_score': 0.0009026732877828181,\n",
       "    'rouge2': 0.5,\n",
       "    'pii_entities': [],\n",
       "    'scoring_id': 'MRM_1a3f93ee-0dee-4c9a-94d3-2a9dc4cc2fc1-2',\n",
       "    'computed_on': 'feedback',\n",
       "    'scoring_timestamp': '2024-11-06T09:31:37.270Z',\n",
       "    'rougelsum': 0.5714,\n",
       "    'hap_score': 0.0007767673232592642,\n",
       "    'pii_input_entities': [],\n",
       "    'pii': 0.0,\n",
       "    'hap_input_score_entities': None,\n",
       "    'hap_score_positions': None,\n",
       "    'bleu': 0.2635971381157267,\n",
       "    'run_id': '4d20f27b-8faa-4b19-9cce-40f843f643a9',\n",
       "    'pii_input_positions': None,\n",
       "    'pii_positions': None,\n",
       "    'rougel': 0.5714,\n",
       "    'exact_match': 0.0,\n",
       "    'unsuccessful_requests': 0.0,\n",
       "    'hap_score_entities': None,\n",
       "    'pii_input': 0.0,\n",
       "    'hap_input_score_positions': None,\n",
       "    'rouge1': 0.5714},\n",
       "   'annotations': None},\n",
       "  'metadata': {'created_at': '2024-11-06T09:31:37.270Z',\n",
       "   'created_by': 'IBMid-666002690O',\n",
       "   'crn': 'crn:v1:bluemix:public:aiopenscale:us-south:a/d49e4dd2ea584a1d82c4ddc3f8f08c9f:21bf753c-434b-419e-9aa8-8114ca6ade5b:record:MRM_1a3f93ee-0dee-4c9a-94d3-2a9dc4cc2fc1-2',\n",
       "   'id': 'MRM_1a3f93ee-0dee-4c9a-94d3-2a9dc4cc2fc1-2',\n",
       "   'url': '/v2/data_sets/cab7407c-da0d-4bb2-a39b-9e49900db2dc/records/MRM_1a3f93ee-0dee-4c9a-94d3-2a9dc4cc2fc1-2'}},\n",
       " {'entity': {'values': {'hap_input_score': 0.000877954182215035,\n",
       "    'rouge2': 0.1053,\n",
       "    'pii_entities': [],\n",
       "    'scoring_id': 'MRM_1a3f93ee-0dee-4c9a-94d3-2a9dc4cc2fc1-3',\n",
       "    'computed_on': 'feedback',\n",
       "    'scoring_timestamp': '2024-11-06T09:31:37.270Z',\n",
       "    'rougelsum': 0.1905,\n",
       "    'hap_score': 0.004206538200378418,\n",
       "    'pii_input_entities': [],\n",
       "    'pii': 0.0,\n",
       "    'hap_input_score_entities': None,\n",
       "    'hap_score_positions': None,\n",
       "    'bleu': 0.08707046609544257,\n",
       "    'run_id': '4d20f27b-8faa-4b19-9cce-40f843f643a9',\n",
       "    'pii_input_positions': None,\n",
       "    'pii_positions': None,\n",
       "    'rougel': 0.1905,\n",
       "    'exact_match': 0.0,\n",
       "    'unsuccessful_requests': 0.0,\n",
       "    'hap_score_entities': None,\n",
       "    'pii_input': 0.0,\n",
       "    'hap_input_score_positions': None,\n",
       "    'rouge1': 0.2857},\n",
       "   'annotations': None},\n",
       "  'metadata': {'created_at': '2024-11-06T09:31:37.270Z',\n",
       "   'created_by': 'IBMid-666002690O',\n",
       "   'crn': 'crn:v1:bluemix:public:aiopenscale:us-south:a/d49e4dd2ea584a1d82c4ddc3f8f08c9f:21bf753c-434b-419e-9aa8-8114ca6ade5b:record:MRM_1a3f93ee-0dee-4c9a-94d3-2a9dc4cc2fc1-3',\n",
       "   'id': 'MRM_1a3f93ee-0dee-4c9a-94d3-2a9dc4cc2fc1-3',\n",
       "   'url': '/v2/data_sets/cab7407c-da0d-4bb2-a39b-9e49900db2dc/records/MRM_1a3f93ee-0dee-4c9a-94d3-2a9dc4cc2fc1-3'}},\n",
       " {'entity': {'values': {'hap_input_score': 0.0006086305365897715,\n",
       "    'rouge2': 0.4737,\n",
       "    'pii_entities': [],\n",
       "    'scoring_id': 'MRM_1a3f93ee-0dee-4c9a-94d3-2a9dc4cc2fc1-4',\n",
       "    'computed_on': 'feedback',\n",
       "    'scoring_timestamp': '2024-11-06T09:31:37.270Z',\n",
       "    'rougelsum': 0.55,\n",
       "    'hap_score': 0.00033068633638322353,\n",
       "    'pii_input_entities': [],\n",
       "    'pii': 0.0,\n",
       "    'hap_input_score_entities': None,\n",
       "    'hap_score_positions': None,\n",
       "    'bleu': 0.23725030156598423,\n",
       "    'run_id': '4d20f27b-8faa-4b19-9cce-40f843f643a9',\n",
       "    'pii_input_positions': None,\n",
       "    'pii_positions': None,\n",
       "    'rougel': 0.55,\n",
       "    'exact_match': 0.0,\n",
       "    'unsuccessful_requests': 0.0,\n",
       "    'hap_score_entities': None,\n",
       "    'pii_input': 0.0,\n",
       "    'hap_input_score_positions': None,\n",
       "    'rouge1': 0.55},\n",
       "   'annotations': None},\n",
       "  'metadata': {'created_at': '2024-11-06T09:31:37.270Z',\n",
       "   'created_by': 'IBMid-666002690O',\n",
       "   'crn': 'crn:v1:bluemix:public:aiopenscale:us-south:a/d49e4dd2ea584a1d82c4ddc3f8f08c9f:21bf753c-434b-419e-9aa8-8114ca6ade5b:record:MRM_1a3f93ee-0dee-4c9a-94d3-2a9dc4cc2fc1-4',\n",
       "   'id': 'MRM_1a3f93ee-0dee-4c9a-94d3-2a9dc4cc2fc1-4',\n",
       "   'url': '/v2/data_sets/cab7407c-da0d-4bb2-a39b-9e49900db2dc/records/MRM_1a3f93ee-0dee-4c9a-94d3-2a9dc4cc2fc1-4'}}]"
      ]
     },
     "execution_count": 151,
     "metadata": {},
     "output_type": "execute_result"
    }
   ],
   "source": [
    "url = f\"{BASE_URL}/openscale/{SERVICE_INSTANCE_ID}/v2/data_sets/{payload_dataset_id2}/records/\"\n",
    "response = requests.get(url = url,headers=headers)\n",
    "response_json = response.json()\n",
    "pretty_json = json.dumps(response_json, indent=4)\n",
    "response_json[\"records\"]"
   ]
  },
  {
   "cell_type": "markdown",
   "metadata": {},
   "source": [
    "# Plot faithfulness and answer relevance metrics against records <a name=\"plotspace\"></a>"
   ]
  },
  {
   "cell_type": "code",
   "execution_count": null,
   "metadata": {},
   "outputs": [],
   "source": [
    "record = response_json[\"records\"][0][\"entity\"][\"values\"]\n",
    "scoring_id = record.get(\"scoring_id\")\n",
    "result = response_json"
   ]
  },
  {
   "cell_type": "code",
   "execution_count": null,
   "metadata": {},
   "outputs": [
    {
     "data": {
      "text/plain": [
       "{'records': [{'entity': {'values': {'hap_input_score': 0.0009890641085803509,\n",
       "     'rouge2': 0.4915,\n",
       "     'pii_entities': [],\n",
       "     'scoring_id': 'MRM_1a3f93ee-0dee-4c9a-94d3-2a9dc4cc2fc1-0',\n",
       "     'computed_on': 'feedback',\n",
       "     'scoring_timestamp': '2024-11-06T09:31:37.270Z',\n",
       "     'rougelsum': 0.6333,\n",
       "     'hap_score': 0.0018304836703464389,\n",
       "     'pii_input_entities': [],\n",
       "     'pii': 0.0,\n",
       "     'hap_input_score_entities': None,\n",
       "     'hap_score_positions': None,\n",
       "     'bleu': 0.39902400645247116,\n",
       "     'run_id': '4d20f27b-8faa-4b19-9cce-40f843f643a9',\n",
       "     'pii_input_positions': None,\n",
       "     'pii_positions': None,\n",
       "     'rougel': 0.5833,\n",
       "     'exact_match': 0.0,\n",
       "     'unsuccessful_requests': 0.0,\n",
       "     'hap_score_entities': None,\n",
       "     'pii_input': 0.0,\n",
       "     'hap_input_score_positions': None,\n",
       "     'rouge1': 0.6333},\n",
       "    'annotations': None},\n",
       "   'metadata': {'created_at': '2024-11-06T09:31:37.270Z',\n",
       "    'created_by': 'IBMid-666002690O',\n",
       "    'crn': 'crn:v1:bluemix:public:aiopenscale:us-south:a/d49e4dd2ea584a1d82c4ddc3f8f08c9f:21bf753c-434b-419e-9aa8-8114ca6ade5b:record:MRM_1a3f93ee-0dee-4c9a-94d3-2a9dc4cc2fc1-0',\n",
       "    'id': 'MRM_1a3f93ee-0dee-4c9a-94d3-2a9dc4cc2fc1-0',\n",
       "    'url': '/v2/data_sets/cab7407c-da0d-4bb2-a39b-9e49900db2dc/records/MRM_1a3f93ee-0dee-4c9a-94d3-2a9dc4cc2fc1-0'}},\n",
       "  {'entity': {'values': {'hap_input_score': 0.0006118171731941402,\n",
       "     'rouge2': 0.5745,\n",
       "     'pii_entities': [],\n",
       "     'scoring_id': 'MRM_1a3f93ee-0dee-4c9a-94d3-2a9dc4cc2fc1-1',\n",
       "     'computed_on': 'feedback',\n",
       "     'scoring_timestamp': '2024-11-06T09:31:37.270Z',\n",
       "     'rougelsum': 0.6458,\n",
       "     'hap_score': 0.00022995882318355143,\n",
       "     'pii_input_entities': [],\n",
       "     'pii': 0.0,\n",
       "     'hap_input_score_entities': None,\n",
       "     'hap_score_positions': None,\n",
       "     'bleu': 0.5704773038269466,\n",
       "     'run_id': '4d20f27b-8faa-4b19-9cce-40f843f643a9',\n",
       "     'pii_input_positions': None,\n",
       "     'pii_positions': None,\n",
       "     'rougel': 0.5625,\n",
       "     'exact_match': 0.0,\n",
       "     'unsuccessful_requests': 0.0,\n",
       "     'hap_score_entities': None,\n",
       "     'pii_input': 0.0,\n",
       "     'hap_input_score_positions': None,\n",
       "     'rouge1': 0.6458},\n",
       "    'annotations': None},\n",
       "   'metadata': {'created_at': '2024-11-06T09:31:37.270Z',\n",
       "    'created_by': 'IBMid-666002690O',\n",
       "    'crn': 'crn:v1:bluemix:public:aiopenscale:us-south:a/d49e4dd2ea584a1d82c4ddc3f8f08c9f:21bf753c-434b-419e-9aa8-8114ca6ade5b:record:MRM_1a3f93ee-0dee-4c9a-94d3-2a9dc4cc2fc1-1',\n",
       "    'id': 'MRM_1a3f93ee-0dee-4c9a-94d3-2a9dc4cc2fc1-1',\n",
       "    'url': '/v2/data_sets/cab7407c-da0d-4bb2-a39b-9e49900db2dc/records/MRM_1a3f93ee-0dee-4c9a-94d3-2a9dc4cc2fc1-1'}},\n",
       "  {'entity': {'values': {'hap_input_score': 0.0009026732877828181,\n",
       "     'rouge2': 0.5,\n",
       "     'pii_entities': [],\n",
       "     'scoring_id': 'MRM_1a3f93ee-0dee-4c9a-94d3-2a9dc4cc2fc1-2',\n",
       "     'computed_on': 'feedback',\n",
       "     'scoring_timestamp': '2024-11-06T09:31:37.270Z',\n",
       "     'rougelsum': 0.5714,\n",
       "     'hap_score': 0.0007767673232592642,\n",
       "     'pii_input_entities': [],\n",
       "     'pii': 0.0,\n",
       "     'hap_input_score_entities': None,\n",
       "     'hap_score_positions': None,\n",
       "     'bleu': 0.2635971381157267,\n",
       "     'run_id': '4d20f27b-8faa-4b19-9cce-40f843f643a9',\n",
       "     'pii_input_positions': None,\n",
       "     'pii_positions': None,\n",
       "     'rougel': 0.5714,\n",
       "     'exact_match': 0.0,\n",
       "     'unsuccessful_requests': 0.0,\n",
       "     'hap_score_entities': None,\n",
       "     'pii_input': 0.0,\n",
       "     'hap_input_score_positions': None,\n",
       "     'rouge1': 0.5714},\n",
       "    'annotations': None},\n",
       "   'metadata': {'created_at': '2024-11-06T09:31:37.270Z',\n",
       "    'created_by': 'IBMid-666002690O',\n",
       "    'crn': 'crn:v1:bluemix:public:aiopenscale:us-south:a/d49e4dd2ea584a1d82c4ddc3f8f08c9f:21bf753c-434b-419e-9aa8-8114ca6ade5b:record:MRM_1a3f93ee-0dee-4c9a-94d3-2a9dc4cc2fc1-2',\n",
       "    'id': 'MRM_1a3f93ee-0dee-4c9a-94d3-2a9dc4cc2fc1-2',\n",
       "    'url': '/v2/data_sets/cab7407c-da0d-4bb2-a39b-9e49900db2dc/records/MRM_1a3f93ee-0dee-4c9a-94d3-2a9dc4cc2fc1-2'}},\n",
       "  {'entity': {'values': {'hap_input_score': 0.000877954182215035,\n",
       "     'rouge2': 0.1053,\n",
       "     'pii_entities': [],\n",
       "     'scoring_id': 'MRM_1a3f93ee-0dee-4c9a-94d3-2a9dc4cc2fc1-3',\n",
       "     'computed_on': 'feedback',\n",
       "     'scoring_timestamp': '2024-11-06T09:31:37.270Z',\n",
       "     'rougelsum': 0.1905,\n",
       "     'hap_score': 0.004206538200378418,\n",
       "     'pii_input_entities': [],\n",
       "     'pii': 0.0,\n",
       "     'hap_input_score_entities': None,\n",
       "     'hap_score_positions': None,\n",
       "     'bleu': 0.08707046609544257,\n",
       "     'run_id': '4d20f27b-8faa-4b19-9cce-40f843f643a9',\n",
       "     'pii_input_positions': None,\n",
       "     'pii_positions': None,\n",
       "     'rougel': 0.1905,\n",
       "     'exact_match': 0.0,\n",
       "     'unsuccessful_requests': 0.0,\n",
       "     'hap_score_entities': None,\n",
       "     'pii_input': 0.0,\n",
       "     'hap_input_score_positions': None,\n",
       "     'rouge1': 0.2857},\n",
       "    'annotations': None},\n",
       "   'metadata': {'created_at': '2024-11-06T09:31:37.270Z',\n",
       "    'created_by': 'IBMid-666002690O',\n",
       "    'crn': 'crn:v1:bluemix:public:aiopenscale:us-south:a/d49e4dd2ea584a1d82c4ddc3f8f08c9f:21bf753c-434b-419e-9aa8-8114ca6ade5b:record:MRM_1a3f93ee-0dee-4c9a-94d3-2a9dc4cc2fc1-3',\n",
       "    'id': 'MRM_1a3f93ee-0dee-4c9a-94d3-2a9dc4cc2fc1-3',\n",
       "    'url': '/v2/data_sets/cab7407c-da0d-4bb2-a39b-9e49900db2dc/records/MRM_1a3f93ee-0dee-4c9a-94d3-2a9dc4cc2fc1-3'}},\n",
       "  {'entity': {'values': {'hap_input_score': 0.0006086305365897715,\n",
       "     'rouge2': 0.4737,\n",
       "     'pii_entities': [],\n",
       "     'scoring_id': 'MRM_1a3f93ee-0dee-4c9a-94d3-2a9dc4cc2fc1-4',\n",
       "     'computed_on': 'feedback',\n",
       "     'scoring_timestamp': '2024-11-06T09:31:37.270Z',\n",
       "     'rougelsum': 0.55,\n",
       "     'hap_score': 0.00033068633638322353,\n",
       "     'pii_input_entities': [],\n",
       "     'pii': 0.0,\n",
       "     'hap_input_score_entities': None,\n",
       "     'hap_score_positions': None,\n",
       "     'bleu': 0.23725030156598423,\n",
       "     'run_id': '4d20f27b-8faa-4b19-9cce-40f843f643a9',\n",
       "     'pii_input_positions': None,\n",
       "     'pii_positions': None,\n",
       "     'rougel': 0.55,\n",
       "     'exact_match': 0.0,\n",
       "     'unsuccessful_requests': 0.0,\n",
       "     'hap_score_entities': None,\n",
       "     'pii_input': 0.0,\n",
       "     'hap_input_score_positions': None,\n",
       "     'rouge1': 0.55},\n",
       "    'annotations': None},\n",
       "   'metadata': {'created_at': '2024-11-06T09:31:37.270Z',\n",
       "    'created_by': 'IBMid-666002690O',\n",
       "    'crn': 'crn:v1:bluemix:public:aiopenscale:us-south:a/d49e4dd2ea584a1d82c4ddc3f8f08c9f:21bf753c-434b-419e-9aa8-8114ca6ade5b:record:MRM_1a3f93ee-0dee-4c9a-94d3-2a9dc4cc2fc1-4',\n",
       "    'id': 'MRM_1a3f93ee-0dee-4c9a-94d3-2a9dc4cc2fc1-4',\n",
       "    'url': '/v2/data_sets/cab7407c-da0d-4bb2-a39b-9e49900db2dc/records/MRM_1a3f93ee-0dee-4c9a-94d3-2a9dc4cc2fc1-4'}}]}"
      ]
     },
     "execution_count": 153,
     "metadata": {},
     "output_type": "execute_result"
    }
   ],
   "source": [
    "result"
   ]
  },
  {
   "cell_type": "code",
   "execution_count": null,
   "metadata": {},
   "outputs": [],
   "source": [
    "x = []\n",
    "y_faithfulness = []\n",
    "y_answer_relevance = []\n",
    "for each in result[\"records\"]:\n",
    "    x.append(each[\"metadata\"][\"id\"][-5:]) # Reading only last 5 characters to fit in the display\n",
    "    y_faithfulness.append(each[\"entity\"][\"values\"][\"hap_input_score\"])\n",
    "    y_answer_relevance.append(each[\"entity\"][\"values\"][\"hap_score\"])"
   ]
  },
  {
   "cell_type": "code",
   "execution_count": null,
   "metadata": {},
   "outputs": [
    {
     "data": {
      "image/png": "[encoded data removed]",
      "text/plain": [
       "<Figure size 640x480 with 1 Axes>"
      ]
     },
     "metadata": {},
     "output_type": "display_data"
    }
   ],
   "source": [
    "import matplotlib.pyplot as plt\n",
    "plt.scatter(x, y_faithfulness, marker='o')\n",
    "\n",
    "plt.xlabel('X-axis - Record id (last 5 characters)')\n",
    "plt.ylabel('Y-axis - Faithfulness')\n",
    "plt.title('faithfulness vs record id')\n",
    "\n",
    "plt.show()"
   ]
  },
  {
   "cell_type": "code",
   "execution_count": null,
   "metadata": {},
   "outputs": [
    {
     "data": {
      "image/png": "[encoded data removed]",
      "text/plain": [
       "<Figure size 640x480 with 1 Axes>"
      ]
     },
     "metadata": {},
     "output_type": "display_data"
    }
   ],
   "source": [
    "import matplotlib.pyplot as plt\n",
    "plt.scatter(x, y_answer_relevance, marker='o')\n",
    "\n",
    "# Adding labels and title\n",
    "plt.xlabel('X-axis - Record id (last 5 characters)')\n",
    "plt.ylabel('Y-axis - Answer relevance')\n",
    "plt.title('answer_relevance vs record id')\n",
    "\n",
    "# Display the graph\n",
    "plt.show()"
   ]
  },
  {
   "cell_type": "markdown",
   "metadata": {},
   "source": [
    "# See factsheets information <a name=\"factsheetsspace\"></a>"
   ]
  },
  {
   "cell_type": "code",
   "execution_count": null,
   "metadata": {},
   "outputs": [
    {
     "name": "stdout",
     "output_type": "stream",
     "text": [
      "User can navigate to the published facts in project https://us-south.ml.cloud.ibm.com/wx/prompt-details/5ebe7aab-b445-4db6-95af-c11ac999f648/factsheet?context=wx&project_id=b9687edf-c360-4f2f-a29c-6ac4ec509af8\n"
     ]
    }
   ],
   "source": [
    "factsheets_url = \"{}/wx/prompt-details/{}/factsheet?context=wx&project_id={}\".format(WML_CREDENTIALS[\"url\"],project_pta_id, project_id)\n",
    "print(\"User can navigate to the published facts in project {}\".format(factsheets_url))"
   ]
  },
  {
   "cell_type": "markdown",
   "metadata": {},
   "source": [
    "# Evaluate Prompt template from space <a name=\"evaluatespace\"></a>"
   ]
  },
  {
   "cell_type": "markdown",
   "metadata": {},
   "source": [
    "Here is a quick recap of what we have done so far.\n",
    "\n",
    "1. We've created a prompt template asset in project.\n",
    "2. We've created a `development` type subscription of prompt template asset in OpenScale.\n",
    "3. Configured monitors supported by OpenScale for the subscriptions.\n",
    "4. We've performed risk evaluations against the PTA susbscription with a sample set of test data.\n",
    "5. Displayed the metrics generated with the risk evaluation.\n",
    "6. Displayed the factsheets information for the subscription.\n",
    "\n",
    "Now, we can promote the created prompt template asset to space and perform similar actions."
   ]
  },
  {
   "cell_type": "markdown",
   "metadata": {},
   "source": [
    "# Promote PTA to space <a name=\"promottospace\"></a> "
   ]
  },
  {
   "cell_type": "markdown",
   "metadata": {},
   "source": [
    "Below cell promotes the prompt template asset from the project to the space."
   ]
  },
  {
   "cell_type": "code",
   "execution_count": null,
   "metadata": {},
   "outputs": [
    {
     "data": {
      "text/plain": [
       "'25ddf8fb-cafb-4cd8-9985-c0aabcdcbe51'"
      ]
     },
     "execution_count": 537,
     "metadata": {},
     "output_type": "execute_result"
    }
   ],
   "source": [
    "headers={}\n",
    "headers[\"Content-Type\"] = \"application/json\"\n",
    "headers[\"Accept\"] = \"*/*\"\n",
    "headers[\"Authorization\"] = \"Bearer {}\".format(iam_access_token)\n",
    "verify = True\n",
    "\n",
    "DATAPLATFORM_URL = WOS_CREDENTIALS[\"url\"]\n",
    "verify = False\n",
    "url = \"{}/v2/assets/{}/promote\".format(DATAPLATFORM_URL ,project_pta_id)\n",
    "\n",
    "params = {\n",
    "    \"project_id\":project_id\n",
    "}\n",
    "\n",
    "payload = {\n",
    "    \"space_id\": space_id\n",
    "}\n",
    "response = requests.post(url, json=payload, headers=headers, params = params, verify = verify)\n",
    "json_data = response.json()\n",
    "json_data\n",
    "space_pta_id = json_data[\"metadata\"][\"asset_id\"]\n",
    "space_pta_id"
   ]
  },
  {
   "cell_type": "code",
   "execution_count": null,
   "metadata": {},
   "outputs": [
    {
     "data": {
      "text/plain": [
       "'{\"metadata\":{\"space_id\":\"29599bf8-5a6c-4398-a87b-60da22d96dcd\",\"usage\":{\"last_updated_at\":\"2024-11-07T10:26:31Z\",\"last_updater_id\":\"IBMid-666002690O\",\"last_update_time\":1730975191867,\"last_accessed_at\":\"2024-11-07T10:26:31Z\",\"last_access_time\":1730975191867,\"last_accessor_id\":\"IBMid-666002690O\",\"access_count\":0},\"rov\":{\"mode\":0,\"collaborator_ids\":{},\"member_roles\":{\"IBMid-666002690O\":{\"user_iam_id\":\"IBMid-666002690O\",\"roles\":[\"OWNER\"]}}},\"name\":\"RAG\",\"description\":\"RAG use case\",\"asset_type\":\"wx_prompt\",\"origin_country\":\"us\",\"resource_key\":\"689c93c5589b5867b5ca96d999556a4f08ab06374d495bddd2532d2b6484e643\",\"rating\":0.0,\"total_ratings\":0,\"catalog_id\":\"b0b49bda-0968-45d2-af21-64cca1db3fde\",\"created\":1730975191867,\"created_at\":\"2024-11-07T10:26:31Z\",\"owner_id\":\"IBMid-666002690O\",\"size\":275,\"version\":2.0,\"asset_state\":\"available\",\"asset_attributes\":[\"wx_prompt\",\"modelfacts_system\",\"modelfacts_user\"],\"asset_id\":\"25ddf8fb-cafb-4cd8-9985-c0aabcdcbe51\",\"source_asset\":{\"action\":\"promote\",\"catalog_id\":\"7a61c763-deac-44b8-952c-ef9d15bede54\",\"project_id\":\"b9687edf-c360-4f2f-a29c-6ac4ec509af8\",\"asset_id\":\"d6430c74-b3f6-4cd3-9e46-222e79f5bbda\",\"bss_account_id\":\"d49e4dd2ea584a1d82c4ddc3f8f08c9f\",\"asset_name\":\"RAG\",\"resource_key\":\"689c93c5589b5867b5ca96d999556a4f08ab06374d495bddd2532d2b6484e643\"},\"asset_category\":\"USER\",\"creator_id\":\"IBMid-666002690O\"},\"entity\":{\"wx_prompt\":{\"input_mode\":\"structured\",\"task_ids\":[\"retrieval_augmented_generation\"],\"is_template\":true,\"prompt_variables\":{\"context1\":{},\"question\":{}}},\"location_definition\":{\"physical_location_code_assignment_method\":\"INFERRED\",\"physical_location_code\":\"DAL\",\"physical_location_code_assigned_by\":\"IBMid-666002690O\",\"physical_location_code_added_on\":\"1727299357078\",\"physical_location_code_rds_version\":\"00002022-0603-4064-8310-798756000000_2\",\"physical_location_code_rds_id\":\"c57cb90f-2126-3800-9c9f-9eab82021cdf\"},\"modelfacts_system\":{\"model_information\":{\"fm_id\":\"ibm/granite-13b-chat-v2\"},\"training_information\":{},\"project_details\":{\"environment_type\":\"development\",\"is_environmenttype_openscale_value\":false,\"is_imported_model\":false},\"model_identity_information\":{\"model_identity_key\":\"689c93c5589b5867b5ca96d999556a4f08ab06374d495bddd2532d2b6484e643\"}},\"modelfacts_user\":{}},\"attachments\":[{\"id\":\"a7d5764e-b195-445f-aa8b-f1cc12996d37\",\"version\":2.0,\"asset_type\":\"wx_prompt\",\"name\":\"RAG.json\",\"mime\":\"application/json\",\"datasource_type\":\"193a97c1-4475-4a19-b90c-295c4fdc6517\",\"object_key\":\"wx_prompt/RAG_json_9xp9wykkem7q6pr7xsex62at3.json\",\"creator_id\":\"IBMid-666002690O\",\"create_time\":1730975188958,\"size\":275,\"is_remote\":false,\"is_managed\":false,\"is_referenced\":true,\"is_object_key_read_only\":false,\"is_user_provided_path_key\":true,\"transfer_complete\":true,\"is_partitioned\":false,\"complete_time_ticks\":1730878539307,\"user_data\":{},\"test_doc\":0,\"handle\":{\"bucket\":\"54329996-d7d1-4787-8ba7-3683c42b4400\",\"location\":\"us-south\",\"type\":\"bluemix_cos\",\"key\":\"wx_prompt/RAG_json_9xp9wykkem7q6pr7xsex62at3.json\",\"upload_id\":\"done\",\"max_part_num\":1},\"usage\":{\"access_count\":1,\"last_accessor_id\":\"IBMid-666002690O\",\"last_access_time\":1730975188958}}],\"href\":\"https://api.dataplatform.cloud.ibm.com/v2/assets/25ddf8fb-cafb-4cd8-9985-c0aabcdcbe51?space_id=29599bf8-5a6c-4398-a87b-60da22d96dcd\",\"asset_id\":\"25ddf8fb-cafb-4cd8-9985-c0aabcdcbe51\"}'"
      ]
     },
     "execution_count": 538,
     "metadata": {},
     "output_type": "execute_result"
    }
   ],
   "source": [
    "response.text"
   ]
  },
  {
   "cell_type": "markdown",
   "metadata": {},
   "source": [
    "# Create deployment for prompt template asset in space <a name=\"ptadeployment\"></a>"
   ]
  },
  {
   "cell_type": "markdown",
   "metadata": {},
   "source": [
    "To create a subscription from space, it is necessary to create a deployment for prompt template assets in spaces."
   ]
  },
  {
   "cell_type": "code",
   "execution_count": null,
   "metadata": {},
   "outputs": [
    {
     "name": "stdout",
     "output_type": "stream",
     "text": [
      "5fa2bb9d-159d-46a6-b3bc-8d3fb493a574\n"
     ]
    }
   ],
   "source": [
    "DEPLOYMENTS_URL = WML_CREDENTIALS[\"url\"] + \"/ml/v4/deployments\"\n",
    "\n",
    "serving_name = \"rag_qa_deployment13\" # eg: summary_deployment\n",
    "\n",
    "payload = {\n",
    "    \"prompt_template\": {\n",
    "      \"id\": space_pta_id\n",
    "    },\n",
    "    \"online\": {\n",
    "       \"parameters\": {\n",
    "         \"serving_name\": serving_name\n",
    "       }\n",
    "    },\n",
    "    \"base_model_id\": \"ibm/granite-13b-chat-v2\",\n",
    "    \"description\": \"rag qa deployment\",\n",
    "    \"name\": \"rag qa deployment\",\n",
    "    \"space_id\": space_id\n",
    "}\n",
    "\n",
    "version = \"2024-05-05\" # The version date for the API of the form YYYY-MM-DD. Example : 2023-07-07\n",
    "params = {\n",
    "    \"version\":version,\n",
    "    \"space_id\":space_id\n",
    "}\n",
    "\n",
    "response = requests.post(DEPLOYMENTS_URL, json=payload, headers=headers, params = params, verify = verify)\n",
    "json_data = response.json()\n",
    "\n",
    "\n",
    "if \"metadata\" in json_data:\n",
    "    deployment_id = json_data[\"metadata\"][\"id\"]\n",
    "    print(deployment_id)\n",
    "else:\n",
    "    print(json_data)"
   ]
  },
  {
   "cell_type": "markdown",
   "metadata": {},
   "source": [
    "# Setup the prompt template asset in space for evaluation with supported monitor dimensions <a name=\"ptaspace\"></a>\n",
    "\n",
    "The prompt template assets from space is only supported with [`pre_production` and `production`] operational space IDs. Running the below cell will create a `production` type subscription from the prompt template asset promoted to the space. The `problem_type` value should depend on the task type specified in the prompt template asset."
   ]
  },
  {
   "cell_type": "markdown",
   "metadata": {},
   "source": [
    "# Create Prompt setup <a name=\"prompt\"></a>"
   ]
  },
  {
   "cell_type": "code",
   "execution_count": null,
   "metadata": {},
   "outputs": [
    {
     "name": "stdout",
     "output_type": "stream",
     "text": [
      "https://api.aiopenscale.cloud.ibm.com/openscale/21bf753c-434b-419e-9aa8-8114ca6ade5b/v2/prompt_setup\n"
     ]
    },
    {
     "data": {
      "text/plain": [
       "{'prompt_template_asset_id': '25ddf8fb-cafb-4cd8-9985-c0aabcdcbe51',\n",
       " 'start_time': '2024-11-07T10:26:51.489146Z',\n",
       " 'status': {'state': 'RUNNING'},\n",
       " 'space_id': '29599bf8-5a6c-4398-a87b-60da22d96dcd',\n",
       " 'deployment_id': '5fa2bb9d-159d-46a6-b3bc-8d3fb493a574'}"
      ]
     },
     "execution_count": 543,
     "metadata": {},
     "output_type": "execute_result"
    }
   ],
   "source": [
    "import requests, json\n",
    "url = f\"{BASE_URL}/openscale/{SERVICE_INSTANCE_ID}/v2/prompt_setup\"\n",
    "\n",
    "headers={}\n",
    "headers[\"Content-Type\"] = \"application/json\"\n",
    "headers[\"Accept\"] = \"*/*\"\n",
    "headers[\"Authorization\"] = \"Bearer {}\".format(iam_access_token)\n",
    "\n",
    "params = {\"prompt_template_asset_id\": space_pta_id,\n",
    "          \"space_id\": space_id,\n",
    "          \"deployment_id\": deployment_id\n",
    "}\n",
    "\n",
    "payload = \"\"\"{\n",
    "    \"label_column\": \"answer\",\n",
    "    \"operational_space_id\": \"production\",\n",
    "    \"problem_type\": \"retrieval_augmented_generation\",\n",
    "    \"input_data_type\": \"unstructured_text\",\n",
    "    \"context_fields\": [\"context1\"],\n",
    "    \"question_field\": \"question\",\n",
    "    \"monitors\" : {\n",
    "    \"generative_ai_quality\": {\n",
    "        \"parameters\": {\n",
    "            \"min_sample_size\": 5,\n",
    "            \"metrics_configuration\":{\n",
    "                \"rouge_score\": {},\n",
    "                \"exact_match\": {},\n",
    "                \"bleu\": {},\n",
    "                \"unsuccessful_requests\": {\n",
    "                },\n",
    "                \"hap_input_score\": {},\n",
    "                \"hap_score\": {},\n",
    "                \"pii\": {},\n",
    "                \"pii_input\": {}\n",
    "            }\n",
    "        }\n",
    "    },\n",
    "    \"drift_v2\": {\n",
    "            \"thresholds\": [\n",
    "            {\n",
    "                \"metric_id\": \"confidence_drift_score\",\n",
    "                \"type\": \"upper_limit\",\n",
    "                \"value\": 0.05\n",
    "            },\n",
    "            {\n",
    "                \"metric_id\": \"prediction_drift_score\",\n",
    "                \"type\": \"upper_limit\",\n",
    "                \"value\": 0.05\n",
    "            },\n",
    "            {\n",
    "                \"metric_id\": \"input_metadata_drift_score\",\n",
    "                \"specific_values\": [\n",
    "                    {\n",
    "                        \"applies_to\": [\n",
    "                            {\n",
    "                                \"type\": \"tag\",\n",
    "                                \"value\": \"subscription\",\n",
    "                                \"key\": \"field_type\"\n",
    "                            }\n",
    "                        ],\n",
    "                        \"value\": 0.05\n",
    "                    }\n",
    "                ],\n",
    "                \"type\": \"upper_limit\"\n",
    "            },\n",
    "            {\n",
    "                \"metric_id\": \"output_metadata_drift_score\",\n",
    "                \"specific_values\": [\n",
    "                    {\n",
    "                        \"applies_to\": [\n",
    "                            {\n",
    "                                \"type\": \"tag\",\n",
    "                                \"value\": \"subscription\",\n",
    "                                \"key\": \"field_type\"\n",
    "                            }\n",
    "                        ],\n",
    "                        \"value\": 0.05\n",
    "                    }\n",
    "                ],\n",
    "                \"type\": \"upper_limit\"\n",
    "            }\n",
    "        ],\n",
    "        \"parameters\": {\n",
    "            \"min_sample_size\": 5\n",
    "\n",
    "        }\n",
    "    }\n",
    "}\n",
    "}\"\"\"\n",
    "json_payload = json.loads(payload)\n",
    "json_payload\n",
    "\n",
    "response = requests.post(url = url, json=json_payload,  params= params, headers=headers, verify=True)\n",
    "response_json = response.json()\n",
    "response_json"
   ]
  },
  {
   "cell_type": "code",
   "execution_count": null,
   "metadata": {},
   "outputs": [
    {
     "data": {
      "text/plain": [
       "'25ddf8fb-cafb-4cd8-9985-c0aabcdcbe51'"
      ]
     },
     "execution_count": 544,
     "metadata": {},
     "output_type": "execute_result"
    }
   ],
   "source": [
    "prompt_template_asset_id = response_json[\"prompt_template_asset_id\"]\n",
    "\n",
    "#prompt_template_asset_id = \"55533a3b-04ce-4193-bfbb-1c4a4ded96f5\"\n",
    "prompt_template_asset_id"
   ]
  },
  {
   "cell_type": "markdown",
   "metadata": {},
   "source": [
    "With the below cell, users can read the prompt setup task and check its status"
   ]
  },
  {
   "cell_type": "markdown",
   "metadata": {},
   "source": [
    "### Get the prompt setup status"
   ]
  },
  {
   "cell_type": "code",
   "execution_count": null,
   "metadata": {},
   "outputs": [
    {
     "name": "stdout",
     "output_type": "stream",
     "text": [
      "Attempt 1: Status is not finished. Retrying...\n",
      "{\"prompt_template_asset_id\": \"25ddf8fb-cafb-4cd8-9985-c0aabcdcbe51\", \"start_time\": \"2024-11-07T10:26:51.489146Z\", \"status\": {\"state\": \"RUNNING\"}, \"space_id\": \"29599bf8-5a6c-4398-a87b-60da22d96dcd\", \"deployment_id\": \"5fa2bb9d-159d-46a6-b3bc-8d3fb493a574\"}\n",
      "\n",
      "Attempt 2: Status is not finished. Retrying...\n",
      "{\"prompt_template_asset_id\": \"25ddf8fb-cafb-4cd8-9985-c0aabcdcbe51\", \"start_time\": \"2024-11-07T10:26:51.489146Z\", \"status\": {\"state\": \"RUNNING\"}, \"space_id\": \"29599bf8-5a6c-4398-a87b-60da22d96dcd\", \"deployment_id\": \"5fa2bb9d-159d-46a6-b3bc-8d3fb493a574\"}\n",
      "\n",
      "Attempt 3: Status is not finished. Retrying...\n",
      "{\"prompt_template_asset_id\": \"25ddf8fb-cafb-4cd8-9985-c0aabcdcbe51\", \"start_time\": \"2024-11-07T10:26:51.489146Z\", \"status\": {\"state\": \"RUNNING\"}, \"space_id\": \"29599bf8-5a6c-4398-a87b-60da22d96dcd\", \"deployment_id\": \"5fa2bb9d-159d-46a6-b3bc-8d3fb493a574\"}\n",
      "\n"
     ]
    },
    {
     "data": {
      "text/plain": [
       "'FINISHED'"
      ]
     },
     "execution_count": 545,
     "metadata": {},
     "output_type": "execute_result"
    }
   ],
   "source": [
    "import time \n",
    "url = f\"{BASE_URL}/openscale/{SERVICE_INSTANCE_ID}/v2/prompt_setup\"\n",
    "params={\n",
    "        \"prompt_template_asset_id\": prompt_template_asset_id,\n",
    "        \"space_id\" : space_id,\n",
    "        \"deployment_id\": deployment_id\n",
    "       }\n",
    "response = requests.get(url = url,headers=headers, params = params)\n",
    "response_json = response.json()\n",
    "response_json\n",
    "\n",
    "for attempt in range(10):\n",
    "    response = requests.get(url = url,headers=headers, params = params)\n",
    "    response_json = response.json()\n",
    "    state = response_json[\"status\"][\"state\"]\n",
    "    if state.lower() == \"finished\" or state == \"error\":\n",
    "        break\n",
    "    else:\n",
    "        print(f\"Attempt {attempt + 1}: Status is not finished. Retrying...\")\n",
    "        print(response.text)\n",
    "        time.sleep(5)\n",
    "else:\n",
    "    print(\"Status did not change to 'finished/error' after 10 attempts.\")\n",
    "state"
   ]
  },
  {
   "cell_type": "markdown",
   "metadata": {},
   "source": [
    "### Read subscription id from prompt setup"
   ]
  },
  {
   "cell_type": "code",
   "execution_count": null,
   "metadata": {},
   "outputs": [
    {
     "data": {
      "text/plain": [
       "'429ea7ce-f2da-4317-a457-8924be5b3b2c'"
      ]
     },
     "execution_count": 547,
     "metadata": {},
     "output_type": "execute_result"
    }
   ],
   "source": [
    "subscription_id = response_json[\"subscription_id\"]\n",
    "subscription_id"
   ]
  },
  {
   "cell_type": "code",
   "execution_count": null,
   "metadata": {},
   "outputs": [],
   "source": [
    "url = f\"{BASE_URL}/openscale/{SERVICE_INSTANCE_ID}/v2/subscriptions/{subscription_id}/\"\n",
    "response = requests.get(url = url,headers=headers)\n",
    "response_json = response.json()\n",
    "pretty_json = json.dumps(response_json, indent=4)"
   ]
  },
  {
   "cell_type": "markdown",
   "metadata": {},
   "source": [
    "### Score the PTA deployment"
   ]
  },
  {
   "cell_type": "code",
   "execution_count": null,
   "metadata": {},
   "outputs": [
    {
     "data": {
      "text/plain": [
       "'https://us-south.ml.cloud.ibm.com/ml/v1/deployments/5fa2bb9d-159d-46a6-b3bc-8d3fb493a574/text/generation?version=2024-05-05'"
      ]
     },
     "execution_count": 549,
     "metadata": {},
     "output_type": "execute_result"
    }
   ],
   "source": [
    "scoring_url = response_json[\"entity\"][\"deployment\"][\"url\"]\n",
    "scoring_url = scoring_url + \"?version=2024-05-05\"\n",
    "scoring_url"
   ]
  },
  {
   "cell_type": "markdown",
   "metadata": {},
   "source": [
    "# Score the model so that we can configure monitors <a name=\"score\"></a>\n",
    "\n",
    "Now that the WML service has been bound and the subscription has been created, we need to score the prompt template asset. User needs to generate the test data content in JSON format from the downloaded CSV file. This is used to construct the payload for scoring the deployment."
   ]
  },
  {
   "cell_type": "code",
   "execution_count": null,
   "metadata": {},
   "outputs": [
    {
     "data": {
      "text/plain": [
       "[{'request': {'parameters': {'template_variables': {'context1': 'Last month, I announced our plan to supercharge  the Cancer Moonshot that President Obama asked me to lead six years ago. Our goal is to cut the cancer death rate by at least 50% over the next 25 years, turn more cancers from death sentences into treatable diseases.  More support for patients and families. To get there, I call on Congress to fund ARPA-H, the Advanced Research Projects Agency for Health. It’s based on DARPA—the Defense Department project that led to the Internet, GPS, and so much more.  ARPA-H will have a singular purpose—to drive breakthroughs in cancer, Alzheimer’s, diabetes, and more. A unity agenda for the nation. We can do this. My fellow Americans—tonight , we have gathered in a sacred space—the citadel of our democracy. In this Capitol, generation after generation, Americans have debated great questions amid great strife, and have done great things. We have fought for freedom, expanded liberty, defeated totalitarianism and terror.',\n",
       "     'question': 'What is ARPA-H?'}}},\n",
       "  'response': {'model_id': 'ibm/granite-13b-chat-v2',\n",
       "   'model_version': '2.1.0',\n",
       "   'created_at': '2024-11-07T10:27:26.254Z',\n",
       "   'results': [{'generated_text': \" ARPA-H is an acronym for the Advanced Research Projects Agency for Health. It is a proposed research agency that would have a singular purpose of driving breakthroughs in cancer, Alzheimer's, diabetes, and more. The agency is based on the model of DARPA, the Defense Department project that led to the Internet, GPS, and other significant technological advancements. The creation of ARPA-H is part of the Biden administration's plan to supercharge the Cancer Moonshot and cut the cancer death rate by at least 50% over the next 25 years.\",\n",
       "     'generated_token_count': 117,\n",
       "     'input_token_count': 260,\n",
       "     'stop_reason': 'eos_token'}],\n",
       "   'system': {'warnings': [{'message': \"Model 'ibm/granite-13b-chat-v2' is in deprecated state from 2024-11-04. It will be in withdrawn state from 2025-02-03.\",\n",
       "      'id': 'deprecation_warning',\n",
       "      'more_info': 'https://dataplatform.cloud.ibm.com/docs/content/wsj/analyze-data/fm-model-lifecycle.html?context=wx&audience=wdp'}]}}},\n",
       " {'request': {'parameters': {'template_variables': {'context1': 'So let’s not wait any longer. Send it to my desk. I’ll sign it.  And we will really take off. And Intel is not alone. There’s something happening in America. Just look around and you’ll see an amazing story. The rebirth of the pride that comes from stamping products “Made In America.” The revitalization of American manufacturing.   Companies are choosing to build new factories here, when just a few years ago, they would have built them overseas. That’s what is happening. Ford is investing $11 billion to build electric vehicles, creating 11,000 jobs across the country. GM is making the largest investment in its history—$7 billion to build electric vehicles, creating 4,000 jobs in Michigan. All told, we created 369,000 new manufacturing jobs in America just last year. Powered by people I’ve met like JoJo Burgess, from generations of union steelworkers from Pittsburgh, who’s here with us tonight.',\n",
       "     'question': 'What is the investment of Ford and GM to build electric vehicles?'}}},\n",
       "  'response': {'model_id': 'ibm/granite-13b-chat-v2',\n",
       "   'model_version': '2.1.0',\n",
       "   'created_at': '2024-11-07T10:27:29.599Z',\n",
       "   'results': [{'generated_text': ' $18 billion\\n\\nExplanation: The question asks for the investment of Ford and GM to build electric vehicles. The context states that Ford is investing $11 billion and GM is making the largest investment in its history—$7 billion. Therefore, the total investment of Ford and GM is $11 billion + $7 billion = $18 billion.',\n",
       "     'generated_token_count': 71,\n",
       "     'input_token_count': 256,\n",
       "     'stop_reason': 'eos_token'}],\n",
       "   'system': {'warnings': [{'message': \"Model 'ibm/granite-13b-chat-v2' is in deprecated state from 2024-11-04. It will be in withdrawn state from 2025-02-03.\",\n",
       "      'id': 'deprecation_warning',\n",
       "      'more_info': 'https://dataplatform.cloud.ibm.com/docs/content/wsj/analyze-data/fm-model-lifecycle.html?context=wx&audience=wdp'}]}}},\n",
       " {'request': {'parameters': {'template_variables': {'context1': 'My plan will cut the cost in half for most families and help parents, including millions of women, who left the workforce during the pandemic because they couldn’t afford child care, to be able to get back to work. My plan doesn’t stop there. It also includes home and long-term care. More affordable housing. And Pre-K for every 3- and 4-year-old.  All of these will lower costs. And under my plan, nobody earning less than $400,000 a year will pay an additional penny in new taxes. Nobody.  The one thing all Americans agree on is that the tax system is not fair. We have to fix it.  I’m not looking to punish anyone. But let’s make sure corporations and the wealthiest Americans start paying their fair share. Just last year, 55 Fortune 500 corporations earned $40 billion in profits and paid zero dollars in federal income tax.  That’s simply not fair. That’s why I’ve proposed a 15% minimum tax rate for corporations.',\n",
       "     'question': 'What is the proposed tax rate for corporations?'}}},\n",
       "  'response': {'model_id': 'ibm/granite-13b-chat-v2',\n",
       "   'model_version': '2.1.0',\n",
       "   'created_at': '2024-11-07T10:27:31.805Z',\n",
       "   'results': [{'generated_text': ' 15% minimum tax rate.',\n",
       "     'generated_token_count': 7,\n",
       "     'input_token_count': 261,\n",
       "     'stop_reason': 'eos_token'}],\n",
       "   'system': {'warnings': [{'message': \"Model 'ibm/granite-13b-chat-v2' is in deprecated state from 2024-11-04. It will be in withdrawn state from 2025-02-03.\",\n",
       "      'id': 'deprecation_warning',\n",
       "      'more_info': 'https://dataplatform.cloud.ibm.com/docs/content/wsj/analyze-data/fm-model-lifecycle.html?context=wx&audience=wdp'}]}}},\n",
       " {'request': {'parameters': {'template_variables': {'context1': 'If you travel 20 miles east of Columbus, Ohio, you’ll find 1,000 empty acres of land. It won’t look like much, but if you stop and look closely, you’ll see a “Field of dreams,” the ground on which America’s future will be built. This is where Intel, the American company that helped build Silicon Valley, is going to build its $20 billion semiconductor “mega site”. Up to eight state-of-the-art factories in one place. 10,000 new good-paying jobs. Some of the most sophisticated manufacturing in the world to make computer chips the size of a fingertip that power the world and our everyday lives. Smartphones. The Internet. Technology we have yet to invent. But that’s just the beginning. Intel’s CEO, Pat Gelsinger, who is here tonight, told me they are ready to increase their investment from  $20 billion to $100 billion. That would be one of the biggest investments in manufacturing in American history. And all they’re waiting for is for you to pass this bill.',\n",
       "     'question': 'What is Intel going to build?'}}},\n",
       "  'response': {'model_id': 'ibm/granite-13b-chat-v2',\n",
       "   'model_version': '2.1.0',\n",
       "   'created_at': '2024-11-07T10:27:32.732Z',\n",
       "   'results': [{'generated_text': ' A \"mega site\" for semiconductor manufacturing.',\n",
       "     'generated_token_count': 10,\n",
       "     'input_token_count': 269,\n",
       "     'stop_reason': 'eos_token'}],\n",
       "   'system': {'warnings': [{'message': \"Model 'ibm/granite-13b-chat-v2' is in deprecated state from 2024-11-04. It will be in withdrawn state from 2025-02-03.\",\n",
       "      'id': 'deprecation_warning',\n",
       "      'more_info': 'https://dataplatform.cloud.ibm.com/docs/content/wsj/analyze-data/fm-model-lifecycle.html?context=wx&audience=wdp'}]}}},\n",
       " {'request': {'parameters': {'template_variables': {'context1': 'So let’s not wait any longer. Send it to my desk. I’ll sign it.  And we will really take off. And Intel is not alone. There’s something happening in America. Just look around and you’ll see an amazing story. The rebirth of the pride that comes from stamping products “Made In America.” The revitalization of American manufacturing.   Companies are choosing to build new factories here, when just a few years ago, they would have built them overseas. That’s what is happening. Ford is investing $11 billion to build electric vehicles, creating 11,000 jobs across the country. GM is making the largest investment in its history—$7 billion to build electric vehicles, creating 4,000 jobs in Michigan. All told, we created 369,000 new manufacturing jobs in America just last year. Powered by people I’ve met like JoJo Burgess, from generations of union steelworkers from Pittsburgh, who’s here with us tonight.',\n",
       "     'question': 'How many electric vehicle charging stations are built?'}}},\n",
       "  'response': {'model_id': 'ibm/granite-13b-chat-v2',\n",
       "   'model_version': '2.1.0',\n",
       "   'created_at': '2024-11-07T10:27:38.300Z',\n",
       "   'results': [{'generated_text': ' The context does not provide information about the number of electric vehicle charging stations built.',\n",
       "     'generated_token_count': 17,\n",
       "     'input_token_count': 252,\n",
       "     'stop_reason': 'eos_token'}],\n",
       "   'system': {'warnings': [{'message': \"Model 'ibm/granite-13b-chat-v2' is in deprecated state from 2024-11-04. It will be in withdrawn state from 2025-02-03.\",\n",
       "      'id': 'deprecation_warning',\n",
       "      'more_info': 'https://dataplatform.cloud.ibm.com/docs/content/wsj/analyze-data/fm-model-lifecycle.html?context=wx&audience=wdp'}]}}}]"
      ]
     },
     "execution_count": 550,
     "metadata": {},
     "output_type": "execute_result"
    }
   ],
   "source": [
    "import csv\n",
    "\n",
    "feature_fields = [\"context1\", \"question\"]\n",
    "prediction = \"generated_text\"\n",
    "\n",
    "headers={}\n",
    "headers[\"Content-Type\"] = \"application/json\"\n",
    "headers[\"Accept\"] = \"*/*\"\n",
    "headers[\"Authorization\"] = \"Bearer {}\".format(iam_access_token)\n",
    "\n",
    "pl_data = []\n",
    "prediction_list = []\n",
    "with open(test_data_path, 'r') as csv_file:\n",
    "    csv_reader = csv.DictReader(csv_file)\n",
    "    for row in csv_reader:\n",
    "        request = {\n",
    "            \"parameters\": {\n",
    "                \"template_variables\": {\n",
    "                }\n",
    "            }\n",
    "        }\n",
    "        for each in feature_fields:\n",
    "            request[\"parameters\"][\"template_variables\"][each] = str(row[each])\n",
    "\n",
    "        response = requests.post(scoring_url, json=request, headers=headers, verify=False).json()\n",
    "        predicted_val = response[\"results\"][0][prediction]\n",
    "        prediction_list.append(predicted_val)\n",
    "        record = {\"request\":request, \"response\":response}\n",
    "        pl_data.append(record)\n",
    "pl_data"
   ]
  },
  {
   "cell_type": "markdown",
   "metadata": {},
   "source": [
    "### Generating additional payload data to enable drift"
   ]
  },
  {
   "cell_type": "markdown",
   "metadata": {},
   "source": [
    "To enable drift there should be minimum 100 records in the payload table. The below cell duplicates the scored records and create another 100 records for adding to the payload table"
   ]
  },
  {
   "cell_type": "code",
   "execution_count": null,
   "metadata": {},
   "outputs": [
    {
     "name": "stdout",
     "output_type": "stream",
     "text": [
      "Generated 100 additional payload data\n"
     ]
    }
   ],
   "source": [
    "import copy\n",
    "\n",
    "additional_pl_data = copy.copy(pl_data)\n",
    "additional_pl_data *= 20\n",
    "print(\"Generated {} additional payload data\".format(len(additional_pl_data)))"
   ]
  },
  {
   "cell_type": "code",
   "execution_count": null,
   "metadata": {},
   "outputs": [
    {
     "data": {
      "text/plain": [
       "[{'fields': ['original_text', 'summary', '_original_prediction'],\n",
       "  'values': [['we welcome feedback comments and suggestions for improvements to the services feedback. you can submit feedback by reaching out to us on facebook twitter or google. you grant to us a nonexclusive worldwide perpetual irrevocable fully paid royalty free sublicensable and transferable license under any and all intellectual property rights that you own or control to use copy modify create derivative works based upon and otherwise exploit the feedback for any purpose.',\n",
       "    'give us feedback and we can do whatever we want with it.',\n",
       "    ''],\n",
       "   ['we welcome feedback comments and suggestions for improvements to the services feedback. you can submit feedback by reaching out to us on facebook twitter or google. you grant to us a nonexclusive worldwide perpetual irrevocable fully paid royalty free sublicensable and transferable license under any and all intellectual property rights that you own or control to use copy modify create derivative works based upon and otherwise exploit the feedback for any purpose.',\n",
       "    'give us feedback and we can do whatever we want with it.',\n",
       "    ''],\n",
       "   ['we welcome feedback comments and suggestions for improvements to the services feedback. you can submit feedback by reaching out to us on facebook twitter or google. you grant to us a nonexclusive worldwide perpetual irrevocable fully paid royalty free sublicensable and transferable license under any and all intellectual property rights that you own or control to use copy modify create derivative works based upon and otherwise exploit the feedback for any purpose.',\n",
       "    'give us feedback and we can do whatever we want with it.',\n",
       "    ''],\n",
       "   ['we welcome feedback comments and suggestions for improvements to the services feedback. you can submit feedback by reaching out to us on facebook twitter or google. you grant to us a nonexclusive worldwide perpetual irrevocable fully paid royalty free sublicensable and transferable license under any and all intellectual property rights that you own or control to use copy modify create derivative works based upon and otherwise exploit the feedback for any purpose.',\n",
       "    'give us feedback and we can do whatever we want with it.',\n",
       "    ''],\n",
       "   ['we welcome feedback comments and suggestions for improvements to the services feedback. you can submit feedback by reaching out to us on facebook twitter or google. you grant to us a nonexclusive worldwide perpetual irrevocable fully paid royalty free sublicensable and transferable license under any and all intellectual property rights that you own or control to use copy modify create derivative works based upon and otherwise exploit the feedback for any purpose.',\n",
       "    'give us feedback and we can do whatever we want with it.',\n",
       "    ''],\n",
       "   ['we welcome feedback comments and suggestions for improvements to the services feedback. you can submit feedback by reaching out to us on facebook twitter or google. you grant to us a nonexclusive worldwide perpetual irrevocable fully paid royalty free sublicensable and transferable license under any and all intellectual property rights that you own or control to use copy modify create derivative works based upon and otherwise exploit the feedback for any purpose.',\n",
       "    'give us feedback and we can do whatever we want with it.',\n",
       "    ''],\n",
       "   ['we welcome feedback comments and suggestions for improvements to the services feedback. you can submit feedback by reaching out to us on facebook twitter or google. you grant to us a nonexclusive worldwide perpetual irrevocable fully paid royalty free sublicensable and transferable license under any and all intellectual property rights that you own or control to use copy modify create derivative works based upon and otherwise exploit the feedback for any purpose.',\n",
       "    'give us feedback and we can do whatever we want with it.',\n",
       "    ''],\n",
       "   ['we welcome feedback comments and suggestions for improvements to the services feedback. you can submit feedback by reaching out to us on facebook twitter or google. you grant to us a nonexclusive worldwide perpetual irrevocable fully paid royalty free sublicensable and transferable license under any and all intellectual property rights that you own or control to use copy modify create derivative works based upon and otherwise exploit the feedback for any purpose.',\n",
       "    'give us feedback and we can do whatever we want with it.',\n",
       "    ''],\n",
       "   ['we welcome feedback comments and suggestions for improvements to the services feedback. you can submit feedback by reaching out to us on facebook twitter or google. you grant to us a nonexclusive worldwide perpetual irrevocable fully paid royalty free sublicensable and transferable license under any and all intellectual property rights that you own or control to use copy modify create derivative works based upon and otherwise exploit the feedback for any purpose.',\n",
       "    'give us feedback and we can do whatever we want with it.',\n",
       "    ''],\n",
       "   ['we welcome feedback comments and suggestions for improvements to the services feedback. you can submit feedback by reaching out to us on facebook twitter or google. you grant to us a nonexclusive worldwide perpetual irrevocable fully paid royalty free sublicensable and transferable license under any and all intellectual property rights that you own or control to use copy modify create derivative works based upon and otherwise exploit the feedback for any purpose.',\n",
       "    'give us feedback and we can do whatever we want with it.',\n",
       "    '']]}]"
      ]
     },
     "execution_count": 552,
     "metadata": {},
     "output_type": "execute_result"
    }
   ],
   "source": [
    "payload = '''[\n",
    "    {\n",
    "\n",
    "            \"fields\": [\"original_text\", \"summary\", \"_original_prediction\"],\n",
    "            \"values\": [\n",
    "                [\"we welcome feedback comments and suggestions for improvements to the services feedback. you can submit feedback by reaching out to us on facebook twitter or google. you grant to us a nonexclusive worldwide perpetual irrevocable fully paid royalty free sublicensable and transferable license under any and all intellectual property rights that you own or control to use copy modify create derivative works based upon and otherwise exploit the feedback for any purpose.\", \"give us feedback and we can do whatever we want with it.\", \"\"],\n",
    "                [\"we welcome feedback comments and suggestions for improvements to the services feedback. you can submit feedback by reaching out to us on facebook twitter or google. you grant to us a nonexclusive worldwide perpetual irrevocable fully paid royalty free sublicensable and transferable license under any and all intellectual property rights that you own or control to use copy modify create derivative works based upon and otherwise exploit the feedback for any purpose.\", \"give us feedback and we can do whatever we want with it.\",\"\"],\n",
    "                [\"we welcome feedback comments and suggestions for improvements to the services feedback. you can submit feedback by reaching out to us on facebook twitter or google. you grant to us a nonexclusive worldwide perpetual irrevocable fully paid royalty free sublicensable and transferable license under any and all intellectual property rights that you own or control to use copy modify create derivative works based upon and otherwise exploit the feedback for any purpose.\", \"give us feedback and we can do whatever we want with it.\",\"\"],\n",
    "                [\"we welcome feedback comments and suggestions for improvements to the services feedback. you can submit feedback by reaching out to us on facebook twitter or google. you grant to us a nonexclusive worldwide perpetual irrevocable fully paid royalty free sublicensable and transferable license under any and all intellectual property rights that you own or control to use copy modify create derivative works based upon and otherwise exploit the feedback for any purpose.\", \"give us feedback and we can do whatever we want with it.\",\"\"],\n",
    "                [\"we welcome feedback comments and suggestions for improvements to the services feedback. you can submit feedback by reaching out to us on facebook twitter or google. you grant to us a nonexclusive worldwide perpetual irrevocable fully paid royalty free sublicensable and transferable license under any and all intellectual property rights that you own or control to use copy modify create derivative works based upon and otherwise exploit the feedback for any purpose.\", \"give us feedback and we can do whatever we want with it.\",\"\"],\n",
    "                [\"we welcome feedback comments and suggestions for improvements to the services feedback. you can submit feedback by reaching out to us on facebook twitter or google. you grant to us a nonexclusive worldwide perpetual irrevocable fully paid royalty free sublicensable and transferable license under any and all intellectual property rights that you own or control to use copy modify create derivative works based upon and otherwise exploit the feedback for any purpose.\", \"give us feedback and we can do whatever we want with it.\",\"\"],\n",
    "                [\"we welcome feedback comments and suggestions for improvements to the services feedback. you can submit feedback by reaching out to us on facebook twitter or google. you grant to us a nonexclusive worldwide perpetual irrevocable fully paid royalty free sublicensable and transferable license under any and all intellectual property rights that you own or control to use copy modify create derivative works based upon and otherwise exploit the feedback for any purpose.\", \"give us feedback and we can do whatever we want with it.\",\"\"],\n",
    "                [\"we welcome feedback comments and suggestions for improvements to the services feedback. you can submit feedback by reaching out to us on facebook twitter or google. you grant to us a nonexclusive worldwide perpetual irrevocable fully paid royalty free sublicensable and transferable license under any and all intellectual property rights that you own or control to use copy modify create derivative works based upon and otherwise exploit the feedback for any purpose.\", \"give us feedback and we can do whatever we want with it.\",\"\"],\n",
    "                [\"we welcome feedback comments and suggestions for improvements to the services feedback. you can submit feedback by reaching out to us on facebook twitter or google. you grant to us a nonexclusive worldwide perpetual irrevocable fully paid royalty free sublicensable and transferable license under any and all intellectual property rights that you own or control to use copy modify create derivative works based upon and otherwise exploit the feedback for any purpose.\", \"give us feedback and we can do whatever we want with it.\",\"\"],\n",
    "                [\"we welcome feedback comments and suggestions for improvements to the services feedback. you can submit feedback by reaching out to us on facebook twitter or google. you grant to us a nonexclusive worldwide perpetual irrevocable fully paid royalty free sublicensable and transferable license under any and all intellectual property rights that you own or control to use copy modify create derivative works based upon and otherwise exploit the feedback for any purpose.\", \"give us feedback and we can do whatever we want with it.\",\"\"]\n",
    "            ]\n",
    "    }\n",
    "\n",
    "]'''\n",
    "\n",
    "json_payload = json.loads(payload)\n",
    "json_payload"
   ]
  },
  {
   "cell_type": "markdown",
   "metadata": {},
   "source": [
    "### Adding payload data\n",
    "\n",
    "Below cell reads the payload data set id from the subscription. "
   ]
  },
  {
   "cell_type": "code",
   "execution_count": null,
   "metadata": {},
   "outputs": [
    {
     "data": {
      "text/plain": [
       "{'state': 'preparing'}"
      ]
     },
     "execution_count": 553,
     "metadata": {},
     "output_type": "execute_result"
    }
   ],
   "source": [
    "\n",
    "url = f\"{BASE_URL}/openscale/{SERVICE_INSTANCE_ID}/v2/data_sets/{feedback_dataset_id}/records\"\n",
    "response = requests.post(url = url,headers=headers, json=json_payload)\n",
    "response_json = response.json()\n",
    "response_json"
   ]
  },
  {
   "cell_type": "code",
   "execution_count": null,
   "metadata": {},
   "outputs": [
    {
     "data": {
      "text/plain": [
       "50"
      ]
     },
     "execution_count": 554,
     "metadata": {},
     "output_type": "execute_result"
    }
   ],
   "source": [
    "url = f\"{BASE_URL}/openscale/{SERVICE_INSTANCE_ID}/v2/data_sets/{feedback_dataset_id}/records\"\n",
    "params = {\n",
    "\n",
    "    \"include_total_count\":\"true\",\n",
    "    \"limit\":1\n",
    "}\n",
    "response = requests.get(url = url,headers=headers, params = params)\n",
    "response_json = response.json()\n",
    "response_json[\"total_count\"]"
   ]
  },
  {
   "cell_type": "markdown",
   "metadata": {},
   "source": [
    "## Show all the monitor instances of the production subscription\n",
    "The following cell lists the monitors present in the production subscription along with their respective statuses and other details. Please wait for all the monitors to be in active state before proceeding further."
   ]
  },
  {
   "cell_type": "code",
   "execution_count": null,
   "metadata": {},
   "outputs": [
    {
     "data": {
      "text/plain": [
       "{'monitor_instances': [{'entity': {'data_mart_id': '21bf753c-434b-419e-9aa8-8114ca6ade5b',\n",
       "    'managed_by': 'user',\n",
       "    'monitor_definition_id': 'mrm',\n",
       "    'parameters': {'deployment_id': '5fa2bb9d-159d-46a6-b3bc-8d3fb493a574',\n",
       "     'prompt_template_asset_id': '25ddf8fb-cafb-4cd8-9985-c0aabcdcbe51',\n",
       "     'prompt_template_details': {'pta_resource_key': '689c93c5589b5867b5ca96d999556a4f08ab06374d495bddd2532d2b6484e643'},\n",
       "     'space_id': '29599bf8-5a6c-4398-a87b-60da22d96dcd',\n",
       "     'user_iam_id': 'IBMid-666002690O'},\n",
       "    'schedule': {'repeat_interval': 60,\n",
       "     'repeat_type': 'minute',\n",
       "     'repeat_unit': 'minute',\n",
       "     'status': 'enabled'},\n",
       "    'schedule_id': 'd2dd0e99-144e-4b76-b931-4e0e4d5b7f06',\n",
       "    'status': {'state': 'active'},\n",
       "    'target': {'target_id': '429ea7ce-f2da-4317-a457-8924be5b3b2c',\n",
       "     'target_type': 'subscription'}},\n",
       "   'metadata': {'created_at': '2024-11-07T10:27:08.746Z',\n",
       "    'created_by': 'iam-ServiceId-b317a8da-d926-496e-b0ca-6bcc57f556ae',\n",
       "    'crn': 'crn:v1:bluemix:public:aiopenscale:us-south:a/6c26e1f11ef745238913798de41a0653:21bf753c-434b-419e-9aa8-8114ca6ade5b:monitor_instance:1ce0f351-83e8-4667-af5a-7cba3f9391b8',\n",
       "    'id': '1ce0f351-83e8-4667-af5a-7cba3f9391b8',\n",
       "    'modified_at': '2024-11-07T10:27:09.957Z',\n",
       "    'modified_by': 'iam-ServiceId-b317a8da-d926-496e-b0ca-6bcc57f556ae',\n",
       "    'url': '/v2/monitor_instances/1ce0f351-83e8-4667-af5a-7cba3f9391b8'}}]}"
      ]
     },
     "execution_count": 555,
     "metadata": {},
     "output_type": "execute_result"
    }
   ],
   "source": [
    "# read monitor instance id\n",
    "import requests, json\n",
    "url = f\"{BASE_URL}/openscale/{SERVICE_INSTANCE_ID}/v2/monitor_instances\"\n",
    "headers={}\n",
    "headers[\"Content-Type\"] = \"application/json\"\n",
    "headers[\"Accept\"] = \"*/*\"\n",
    "headers[\"Authorization\"] = \"Bearer {}\".format(iam_access_token)\n",
    "\n",
    "params = {\"target.target_id\": subscription_id,\n",
    "          \"monitor_definition_id\": \"mrm\"\n",
    "}\n",
    "\n",
    "response = requests.get(url, headers=headers, params= params, verify=True)\n",
    "response_json = response.json()\n",
    "response_json"
   ]
  },
  {
   "cell_type": "code",
   "execution_count": null,
   "metadata": {},
   "outputs": [
    {
     "data": {
      "text/plain": [
       "'1ce0f351-83e8-4667-af5a-7cba3f9391b8'"
      ]
     },
     "execution_count": 556,
     "metadata": {},
     "output_type": "execute_result"
    }
   ],
   "source": [
    "monitor_instance_id = response_json[\"monitor_instances\"][0][\"metadata\"][\"id\"]\n",
    "monitor_instance_id "
   ]
  },
  {
   "cell_type": "markdown",
   "metadata": {},
   "source": [
    "#### Get the generative ai quality moniter id"
   ]
  },
  {
   "cell_type": "code",
   "execution_count": null,
   "metadata": {},
   "outputs": [
    {
     "data": {
      "text/plain": [
       "{'monitor_instances': [{'entity': {'data_mart_id': '21bf753c-434b-419e-9aa8-8114ca6ade5b',\n",
       "    'managed_by': 'user',\n",
       "    'monitor_definition_id': 'generative_ai_quality',\n",
       "    'parameters': {'metrics_configuration': {'bleu': {},\n",
       "      'exact_match': {},\n",
       "      'hap_input_score': {},\n",
       "      'hap_score': {},\n",
       "      'pii': {},\n",
       "      'pii_input': {},\n",
       "      'rouge_score': {},\n",
       "      'unsuccessful_requests': {}},\n",
       "     'min_sample_size': 5,\n",
       "     'prompt_template_details': {'inference_input_string': 'Answer question from given contexts\\n\\nAnswer the below question from the given context only and do not use the knowledge outside the context.\\n\\nContext: {context1} \\nQuestion: {question}\\nAnswer:',\n",
       "      'input': [['Answer the below question from the given context only and do not use the knowledge outside the context.\\n\\nContext: {context1} \\nQuestion: {question}\\nAnswer:',\n",
       "        '']]}},\n",
       "    'schedule': {'repeat_interval': 1,\n",
       "     'repeat_type': 'hour',\n",
       "     'repeat_unit': 'hour',\n",
       "     'start_time': {'delay': 2, 'delay_unit': 'minute', 'type': 'relative'},\n",
       "     'status': 'enabled'},\n",
       "    'schedule_id': '7a42c412-f1a9-434f-bc56-7a95755f857d',\n",
       "    'status': {'state': 'active'},\n",
       "    'target': {'target_id': '429ea7ce-f2da-4317-a457-8924be5b3b2c',\n",
       "     'target_type': 'subscription'},\n",
       "    'thresholds': [{'metric_id': 'faithfulness',\n",
       "      'type': 'lower_limit',\n",
       "      'value': 0.7},\n",
       "     {'metric_id': 'context_relevance', 'type': 'lower_limit', 'value': 0.7},\n",
       "     {'metric_id': 'answer_relevance', 'type': 'lower_limit', 'value': 0.7},\n",
       "     {'metric_id': 'unsuccessful_requests',\n",
       "      'type': 'upper_limit',\n",
       "      'value': 0.1},\n",
       "     {'metric_id': 'rouge1', 'type': 'lower_limit', 'value': 0.8},\n",
       "     {'metric_id': 'rouge2', 'type': 'lower_limit', 'value': 0.8},\n",
       "     {'metric_id': 'rougel', 'type': 'lower_limit', 'value': 0.8},\n",
       "     {'metric_id': 'rougelsum', 'type': 'lower_limit', 'value': 0.8},\n",
       "     {'metric_id': 'bleu', 'type': 'lower_limit', 'value': 0.8},\n",
       "     {'metric_id': 'pii', 'type': 'upper_limit', 'value': 0.0},\n",
       "     {'metric_id': 'pii_input', 'type': 'upper_limit', 'value': 0.0},\n",
       "     {'metric_id': 'hap_score', 'type': 'upper_limit', 'value': 0.0},\n",
       "     {'metric_id': 'hap_input_score', 'type': 'upper_limit', 'value': 0.0},\n",
       "     {'metric_id': 'exact_match', 'type': 'lower_limit', 'value': 0.8}]},\n",
       "   'metadata': {'created_at': '2024-11-07T10:27:01.897Z',\n",
       "    'created_by': 'iam-ServiceId-b317a8da-d926-496e-b0ca-6bcc57f556ae',\n",
       "    'crn': 'crn:v1:bluemix:public:aiopenscale:us-south:a/6c26e1f11ef745238913798de41a0653:21bf753c-434b-419e-9aa8-8114ca6ade5b:monitor_instance:d2b76701-3e3f-416a-99cf-9c1e0831177e',\n",
       "    'id': 'd2b76701-3e3f-416a-99cf-9c1e0831177e',\n",
       "    'modified_at': '2024-11-07T10:27:11.282Z',\n",
       "    'modified_by': 'iam-ServiceId-b317a8da-d926-496e-b0ca-6bcc57f556ae',\n",
       "    'url': '/v2/monitor_instances/d2b76701-3e3f-416a-99cf-9c1e0831177e'}}]}"
      ]
     },
     "execution_count": 558,
     "metadata": {},
     "output_type": "execute_result"
    }
   ],
   "source": [
    "import requests, json\n",
    "url = f\"{BASE_URL}/openscale/{SERVICE_INSTANCE_ID}/v2/monitor_instances\"\n",
    "headers={}\n",
    "headers[\"Content-Type\"] = \"application/json\"\n",
    "headers[\"Accept\"] = \"*/*\"\n",
    "headers[\"Authorization\"] = \"Bearer {}\".format(iam_access_token)\n",
    "\n",
    "params = {\"target.target_id\": subscription_id,\n",
    "          \"monitor_definition_id\": \"generative_ai_quality\"\n",
    "}\n",
    "\n",
    "response = requests.get(url, headers=headers, params= params, verify=True)\n",
    "response_json = response.json()\n",
    "response_json"
   ]
  },
  {
   "cell_type": "code",
   "execution_count": null,
   "metadata": {},
   "outputs": [
    {
     "data": {
      "text/plain": [
       "'d2b76701-3e3f-416a-99cf-9c1e0831177e'"
      ]
     },
     "execution_count": 559,
     "metadata": {},
     "output_type": "execute_result"
    }
   ],
   "source": [
    "genaiquality_monitor_id = response_json[\"monitor_instances\"][0][\"metadata\"][\"id\"]\n",
    "genaiquality_monitor_id"
   ]
  },
  {
   "cell_type": "markdown",
   "metadata": {},
   "source": [
    "## Display the Generative AI Quality metrics"
   ]
  },
  {
   "cell_type": "code",
   "execution_count": null,
   "metadata": {},
   "outputs": [
    {
     "data": {
      "text/plain": [
       "{'data_sets': [{'entity': {'data_mart_id': '21bf753c-434b-419e-9aa8-8114ca6ade5b',\n",
       "    'data_schema': {'fields': [{'metadata': {'modeling_role': 'record-id',\n",
       "        'primary_key': True},\n",
       "       'name': 'scoring_id',\n",
       "       'nullable': False,\n",
       "       'type': 'string'},\n",
       "      {'metadata': {'modeling_role': 'record-timestamp'},\n",
       "       'name': 'scoring_timestamp',\n",
       "       'nullable': False,\n",
       "       'type': 'timestamp'},\n",
       "      {'metadata': {'columnInfo': {'columnIndex': 'DEFAULT'}},\n",
       "       'name': 'run_id',\n",
       "       'nullable': False,\n",
       "       'type': 'string'},\n",
       "      {'metadata': {},\n",
       "       'name': 'computed_on',\n",
       "       'nullable': False,\n",
       "       'type': 'string'},\n",
       "      {'metadata': {},\n",
       "       'name': 'hap_input_score',\n",
       "       'nullable': True,\n",
       "       'type': 'double'},\n",
       "      {'metadata': {'columnInfo': {'columnLength': 32000}},\n",
       "       'name': 'hap_input_score_entities',\n",
       "       'nullable': True,\n",
       "       'type': {'containsNull': True,\n",
       "        'elementType': 'string',\n",
       "        'type': 'array'}},\n",
       "      {'metadata': {'columnInfo': {'columnLength': 32000}},\n",
       "       'name': 'hap_input_score_positions',\n",
       "       'nullable': True,\n",
       "       'type': {'containsNull': True,\n",
       "        'elementType': 'string',\n",
       "        'type': 'array'}},\n",
       "      {'metadata': {}, 'name': 'rouge1', 'nullable': True, 'type': 'double'},\n",
       "      {'metadata': {}, 'name': 'rouge2', 'nullable': True, 'type': 'double'},\n",
       "      {'metadata': {}, 'name': 'rougel', 'nullable': True, 'type': 'double'},\n",
       "      {'metadata': {},\n",
       "       'name': 'rougelsum',\n",
       "       'nullable': True,\n",
       "       'type': 'double'},\n",
       "      {'metadata': {},\n",
       "       'name': 'hap_score',\n",
       "       'nullable': True,\n",
       "       'type': 'double'},\n",
       "      {'metadata': {'columnInfo': {'columnLength': 32000}},\n",
       "       'name': 'hap_score_entities',\n",
       "       'nullable': True,\n",
       "       'type': {'containsNull': True,\n",
       "        'elementType': 'string',\n",
       "        'type': 'array'}},\n",
       "      {'metadata': {'columnInfo': {'columnLength': 32000}},\n",
       "       'name': 'hap_score_positions',\n",
       "       'nullable': True,\n",
       "       'type': {'containsNull': True,\n",
       "        'elementType': 'string',\n",
       "        'type': 'array'}},\n",
       "      {'metadata': {}, 'name': 'pii', 'nullable': True, 'type': 'double'},\n",
       "      {'metadata': {'columnInfo': {'columnLength': 32000}},\n",
       "       'name': 'pii_entities',\n",
       "       'nullable': True,\n",
       "       'type': {'containsNull': True,\n",
       "        'elementType': 'string',\n",
       "        'type': 'array'}},\n",
       "      {'metadata': {'columnInfo': {'columnLength': 32000}},\n",
       "       'name': 'pii_positions',\n",
       "       'nullable': True,\n",
       "       'type': {'containsNull': True,\n",
       "        'elementType': 'string',\n",
       "        'type': 'array'}},\n",
       "      {'metadata': {}, 'name': 'bleu', 'nullable': True, 'type': 'double'},\n",
       "      {'metadata': {},\n",
       "       'name': 'exact_match',\n",
       "       'nullable': True,\n",
       "       'type': 'double'},\n",
       "      {'metadata': {},\n",
       "       'name': 'unsuccessful_requests',\n",
       "       'nullable': True,\n",
       "       'type': 'double'},\n",
       "      {'metadata': {},\n",
       "       'name': 'pii_input',\n",
       "       'nullable': True,\n",
       "       'type': 'double'},\n",
       "      {'metadata': {'columnInfo': {'columnLength': 32000}},\n",
       "       'name': 'pii_input_entities',\n",
       "       'nullable': True,\n",
       "       'type': {'containsNull': True,\n",
       "        'elementType': 'string',\n",
       "        'type': 'array'}},\n",
       "      {'metadata': {'columnInfo': {'columnLength': 32000}},\n",
       "       'name': 'pii_input_positions',\n",
       "       'nullable': True,\n",
       "       'type': {'containsNull': True,\n",
       "        'elementType': 'string',\n",
       "        'type': 'array'}}],\n",
       "     'type': 'struct'},\n",
       "    'description': 'Generative AI Quality metrics table',\n",
       "    'location': {'table_name': '21bf753c-434b-419e-9aa8-8114ca6ade5b.Gen_AI_Quality_Metrics_429ea7ce-f2da-4317-a457-8924be5b3b2c'},\n",
       "    'managed_by': 'generative_ai_quality',\n",
       "    'name': 'Generative AI Quality metrics table',\n",
       "    'schema_update_mode': 'none',\n",
       "    'status': {'state': 'active'},\n",
       "    'target': {'target_id': '429ea7ce-f2da-4317-a457-8924be5b3b2c',\n",
       "     'target_type': 'subscription'},\n",
       "    'type': 'gen_ai_quality_metrics'},\n",
       "   'metadata': {'created_at': '2024-11-07T10:27:04.360Z',\n",
       "    'created_by': 'iam-ServiceId-b317a8da-d926-496e-b0ca-6bcc57f556ae',\n",
       "    'crn': 'crn:v1:bluemix:public:aiopenscale:us-south:a/6c26e1f11ef745238913798de41a0653:21bf753c-434b-419e-9aa8-8114ca6ade5b:data_set:5f614e95-8271-436e-8a1e-140807b3f94d',\n",
       "    'id': '5f614e95-8271-436e-8a1e-140807b3f94d',\n",
       "    'modified_at': '2024-11-07T10:27:06.080Z',\n",
       "    'modified_by': 'iam-ServiceId-b317a8da-d926-496e-b0ca-6bcc57f556ae',\n",
       "    'url': '/v2/data_sets/5f614e95-8271-436e-8a1e-140807b3f94d'}}]}"
      ]
     },
     "execution_count": 560,
     "metadata": {},
     "output_type": "execute_result"
    }
   ],
   "source": [
    "url = f\"{BASE_URL}/openscale/{SERVICE_INSTANCE_ID}/v2/data_sets\"\n",
    "params = {\n",
    "    \"target.target_id\":subscription_id,\n",
    "    \"type\":\"gen_ai_quality_metrics\"\n",
    "}\n",
    "response = requests.get(url = url,headers=headers, params=params)\n",
    "response_json = response.json()\n",
    "response_json"
   ]
  },
  {
   "cell_type": "code",
   "execution_count": null,
   "metadata": {},
   "outputs": [
    {
     "data": {
      "text/plain": [
       "'5f614e95-8271-436e-8a1e-140807b3f94d'"
      ]
     },
     "execution_count": 561,
     "metadata": {},
     "output_type": "execute_result"
    }
   ],
   "source": [
    "payload_dataset_id2 = response_json[\"data_sets\"][0][\"metadata\"][\"id\"]\n",
    "payload_dataset_id2"
   ]
  },
  {
   "cell_type": "markdown",
   "metadata": {},
   "source": [
    "## Display the drift_v2 metrics"
   ]
  },
  {
   "cell_type": "code",
   "execution_count": 562,
   "metadata": {},
   "outputs": [
    {
     "data": {
      "text/plain": [
       "{'monitor_instances': [{'entity': {'data_mart_id': '21bf753c-434b-419e-9aa8-8114ca6ade5b',\n",
       "    'managed_by': 'user',\n",
       "    'monitor_definition_id': 'drift_v2',\n",
       "    'parameters': {'min_sample_size': 5,\n",
       "     'prompt_template_details': {'inference_input_string': 'Answer question from given contexts\\n\\nAnswer the below question from the given context only and do not use the knowledge outside the context.\\n\\nContext: {context1} \\nQuestion: {question}\\nAnswer:',\n",
       "      'input': [['Answer the below question from the given context only and do not use the knowledge outside the context.\\n\\nContext: {context1} \\nQuestion: {question}\\nAnswer:',\n",
       "        '']]}},\n",
       "    'schedule': {'repeat_interval': 1,\n",
       "     'repeat_type': 'day',\n",
       "     'repeat_unit': 'day',\n",
       "     'start_time': {'delay': 2, 'delay_unit': 'minute', 'type': 'relative'}},\n",
       "    'status': {'failure': {'errors': [{'code': 'AIQDD9034E',\n",
       "        'message': \"Failed while retrieving the object 'baseline' from bucket '429ea7ce-f2da-4317-a457-8924be5b3b2c' for the data mart '21bf753c-434b-419e-9aa8-8114ca6ade5b' and service instance '21bf753c-434b-419e-9aa8-8114ca6ade5b'. Underlying reason: 404 Not Found.\"}],\n",
       "      'trace': 'd8e8749cd194481ea0ee39f6f2527def'},\n",
       "     'state': 'error'},\n",
       "    'target': {'target_id': '429ea7ce-f2da-4317-a457-8924be5b3b2c',\n",
       "     'target_type': 'subscription'},\n",
       "    'thresholds': [{'metric_id': 'confidence_drift_score',\n",
       "      'type': 'upper_limit',\n",
       "      'value': 0.05},\n",
       "     {'metric_id': 'prediction_drift_score',\n",
       "      'type': 'upper_limit',\n",
       "      'value': 0.05},\n",
       "     {'metric_id': 'input_metadata_drift_score',\n",
       "      'specific_values': [{'applies_to': [{'key': 'field_type',\n",
       "          'type': 'tag',\n",
       "          'value': 'subscription'}],\n",
       "        'value': 0.05}],\n",
       "      'type': 'upper_limit'},\n",
       "     {'metric_id': 'output_metadata_drift_score',\n",
       "      'specific_values': [{'applies_to': [{'key': 'field_type',\n",
       "          'type': 'tag',\n",
       "          'value': 'subscription'}],\n",
       "        'value': 0.05}],\n",
       "      'type': 'upper_limit'}]},\n",
       "   'metadata': {'created_at': '2024-11-07T10:27:04.127Z',\n",
       "    'created_by': 'iam-ServiceId-b317a8da-d926-496e-b0ca-6bcc57f556ae',\n",
       "    'crn': 'crn:v1:bluemix:public:aiopenscale:us-south:a/6c26e1f11ef745238913798de41a0653:21bf753c-434b-419e-9aa8-8114ca6ade5b:monitor_instance:f8eadc3c-76db-4d46-beaf-31b701888787',\n",
       "    'id': 'f8eadc3c-76db-4d46-beaf-31b701888787',\n",
       "    'modified_at': '2024-11-07T10:27:12.354Z',\n",
       "    'modified_by': 'iam-ServiceId-aeb7c04d-ba53-4adc-8008-8896ff6b462e',\n",
       "    'url': '/v2/monitor_instances/f8eadc3c-76db-4d46-beaf-31b701888787'}}]}"
      ]
     },
     "execution_count": 562,
     "metadata": {},
     "output_type": "execute_result"
    }
   ],
   "source": [
    "# read monitor instance id\n",
    "import requests, json\n",
    "url = f\"{BASE_URL}/openscale/{SERVICE_INSTANCE_ID}/v2/monitor_instances\"\n",
    "headers={}\n",
    "headers[\"Content-Type\"] = \"application/json\"\n",
    "headers[\"Accept\"] = \"*/*\"\n",
    "headers[\"Authorization\"] = \"Bearer {}\".format(iam_access_token)\n",
    "\n",
    "params = {\"target.target_id\": subscription_id,\n",
    "          \"monitor_definition_id\": \"drift_v2\"\n",
    "}\n",
    "\n",
    "response = requests.get(url, headers=headers, params= params, verify=True)\n",
    "response_json = response.json()\n",
    "response_json"
   ]
  },
  {
   "cell_type": "code",
   "execution_count": 527,
   "metadata": {},
   "outputs": [
    {
     "name": "stdout",
     "output_type": "stream",
     "text": [
      "User can navigate to the published facts in project https://us-south.ml.cloud.ibm.com/wx/prompt-details/cb225836-7e54-4e3a-9755-eb2ebcd4aee5/factsheet?context=wx&project_id=b9687edf-c360-4f2f-a29c-6ac4ec509af8\n"
     ]
    }
   ],
   "source": [
    "factsheets_url = \"{}/wx/prompt-details/{}/factsheet?context=wx&project_id={}\".format(WML_CREDENTIALS[\"url\"],project_pta_id, project_id)\n",
    "print(\"User can navigate to the published facts in project {}\".format(factsheets_url))"
   ]
  }
 ],
 "metadata": {
  "kernelspec": {
   "display_name": "Python 3 (ipykernel)",
   "language": "python",
   "name": "python3"
  },
  "language_info": {
   "codemirror_mode": {
    "name": "ipython",
    "version": 3
   },
   "file_extension": ".py",
   "mimetype": "text/x-python",
   "name": "python",
   "nbconvert_exporter": "python",
   "pygments_lexer": "ipython3",
   "version": "3.10.14"
  }
 },
 "nbformat": 4,
 "nbformat_minor": 4
}
