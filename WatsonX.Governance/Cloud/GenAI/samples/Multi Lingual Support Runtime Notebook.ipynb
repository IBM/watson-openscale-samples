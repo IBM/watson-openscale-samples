{
 "cells": [
  {
   "cell_type": "markdown",
   "metadata": {
    "id": "af3fa5a9-d008-46db-8f13-d61fcd8cc6d3"
   },
   "source": [
    "# Runtime notebook for Multi Lingual support of Generative AI Quality metrics for IBM watsonx.governance"
   ]
  },
  {
   "cell_type": "markdown",
   "metadata": {},
   "source": [
    "This notebook demonstrates the Generative AI Quality monitor's runtime metric results for a summarization prompt task type in Japanese. You can also view the multi-lingual design time notebook [here](https://github.com/IBM/watson-openscale-samples/blob/main/WatsonX.Governance/Cloud/GenAI/samples/Multi%20Lingual%20Support%20Notebook.ipynb)"
   ]
  },
  {
   "cell_type": "markdown",
   "metadata": {
    "id": "26b7d8e1-db3f-4160-a6ee-3ed530642f15"
   },
   "source": [
    "The metrics computed which support multiple languages across the various task types are :\n",
    "- Summarization:\n",
    "    - Rouge Score\n",
    "    - Exact Match\n",
    "    - Cosine Similarity\n",
    "\t- Jaccard Similarity\n",
    "    - Normalized Precision\n",
    "    - Normalized Recall\n",
    "    - Normalized F1 Score\n",
    "\t- Sari\n",
    "\t- Meteor\n",
    "    - HAP Score\n",
    "    - PII\n",
    "- Generation:\n",
    "    - Rouge Score\n",
    "    - Normalized Precision\n",
    "    - Normalized Recall\n",
    "    - Normalized F1 Score\n",
    "\t- Meteor\n",
    "    - HAP Score\n",
    "    - PII\n",
    "- Extraction:\n",
    "    - Exact Match\n",
    "    - Rouge Score\n",
    "    - HAP Score\n",
    "    - PII\n",
    "- Question Answering(QA):\n",
    "    - Exact Match\n",
    "    - Rouge Score\n",
    "    - HAP Score\n",
    "    - PII\n",
    "- Retrieval Augmented Generation(RAG)\n",
    "    - Rouge Score\n",
    "    - Exact Match\n",
    "    - HAP Score\n",
    "    - PII"
   ]
  },
  {
   "cell_type": "markdown",
   "metadata": {
    "id": "164a6bcd-cd14-4bb5-9f06-d07d20385222"
   },
   "source": [
    "**Note** : The below given example is specific to the Japanese language."
   ]
  },
  {
   "cell_type": "markdown",
   "metadata": {
    "id": "453cd5bc-1792-4746-a05d-9b308e4ab7da"
   },
   "source": [
    "The following is a list of supported languages together with the corresponding language code:\n",
    "- English : en\n",
    "- Japanese : ja\n",
    "- German : de\n",
    "- French : fr\n",
    "- Spanish : es\n",
    "- Arabic : ar\n",
    "- Italian : it\n",
    "- Portugese : pt\n",
    "- Korean : ko\n",
    "- Danish : da"
   ]
  },
  {
   "cell_type": "markdown",
   "metadata": {
    "id": "d7622088-c7d1-468a-8d27-5780459c4cc0"
   },
   "source": [
    "## Contents\n",
    "\n",
    "- [Step 1 - Setup](#setup)\n",
    "- [Step 2 - Create the Japanese summarization prompt template](#prompt)\n",
    "- [Step 3 - Trigger Prompt Setup](#ptatsetup)\n",
    "- [Step 4 - Patch the Prompt Template Asset subscription with the locale values](#patch_sub)\n",
    "- [Step 5 - Run Risk evaluations for prompt template asset subscription](#evaluate)\n",
    "- [Step 6 - Display the Model Risk metrics](#mrmmetric)\n",
    "- [Step 7 - Display the Generative AI Quality metrics](#genaimetrics)"
   ]
  },
  {
   "cell_type": "markdown",
   "metadata": {},
   "source": [
    "## Step 1 - Setup <a name=\"setup\"></a>"
   ]
  },
  {
   "cell_type": "code",
   "execution_count": 1,
   "metadata": {
    "id": "77177317-d556-4309-9a9b-2f95dbbd1118"
   },
   "outputs": [
    {
     "name": "stdout",
     "output_type": "stream",
     "text": [
      "Requirement already satisfied: certifi>=2017.4.17 in /opt/conda/envs/Python-RT24.1/lib/python3.11/site-packages (from requests<3.0,>=2.0->ibm_watson_openscale) (2025.1.31)\n",
      "Requirement already satisfied: sniffio>=1.1 in /opt/conda/envs/Python-RT24.1/lib/python3.11/site-packages (from anyio->httpx<=0.28,>=0.27->ibm-watsonx-ai) (1.3.0)\n"
     ]
    }
   ],
   "source": [
    "!pip install -U ibm_watson_openscale | tail -n 1\n",
    "!pip install --upgrade ibm-watsonx-ai | tail -n 1"
   ]
  },
  {
   "cell_type": "markdown",
   "metadata": {},
   "source": [
    "Note: you may need to restart the kernel to use updated packages."
   ]
  },
  {
   "cell_type": "code",
   "execution_count": 2,
   "metadata": {
    "id": "3edf046b-c73d-4553-8b82-df6e72063a92"
   },
   "outputs": [],
   "source": [
    "import warnings\n",
    "warnings.filterwarnings('ignore')"
   ]
  },
  {
   "cell_type": "markdown",
   "metadata": {},
   "source": [
    "### Provision services and configure credentials"
   ]
  },
  {
   "cell_type": "markdown",
   "metadata": {},
   "source": [
    "If you have not already, provision an instance of IBM watsonx.governance using the [watsonx.governance link in the Cloud catalog](https://cloud.ibm.com/catalog/services/watsonxgovernance)."
   ]
  },
  {
   "cell_type": "code",
   "execution_count": 3,
   "metadata": {
    "id": "e0f708b5-fa81-4962-995f-7265ce77784d"
   },
   "outputs": [],
   "source": [
    "IAM_URL=\"https://iam.cloud.ibm.com\"\n",
    "DATAPLATFORM_URL = \"https://api.dataplatform.cloud.ibm.com\"\n",
    "SERVICE_URL = \"https://aiopenscale.cloud.ibm.com\"\n",
    "CLOUD_API_KEY = \"<EDIT THIS>\" # YOUR_CLOUD_API_KEY\n",
    "\n",
    "\n",
    "WML_CREDENTIALS = {\n",
    "\t\"url\": \"https://us-south.ml.cloud.ibm.com\",\n",
    "\t\"apikey\": CLOUD_API_KEY\n",
    "}"
   ]
  },
  {
   "cell_type": "markdown",
   "metadata": {},
   "source": [
    "## Read project id from user"
   ]
  },
  {
   "cell_type": "markdown",
   "metadata": {},
   "source": [
    "In order to set up a development type subscription, the PTA must be within the project. Please supply the project ID where the PTA needs to be created."
   ]
  },
  {
   "cell_type": "code",
   "execution_count": 4,
   "metadata": {
    "id": "c7bbceb7-b341-4523-a9cc-e9ee9340b367"
   },
   "outputs": [],
   "source": [
    "project_id = \"<EDIT THIS>\" # YOUR_PROJECT_ID"
   ]
  },
  {
   "cell_type": "markdown",
   "metadata": {},
   "source": [
    "## Step 2 - Create Prompt template <a name=\"prompt\"></a>"
   ]
  },
  {
   "cell_type": "markdown",
   "metadata": {},
   "source": [
    "Create a prompt template for summarization task in Japanese"
   ]
  },
  {
   "cell_type": "code",
   "execution_count": 7,
   "metadata": {
    "id": "5e7b84d4-9b9a-43e4-8ea4-ee5a31433f89"
   },
   "outputs": [
    {
     "data": {
      "text/plain": [
       "'8ddd4ea9-9851-4aed-8f29-be95235585a1'"
      ]
     },
     "execution_count": 7,
     "metadata": {},
     "output_type": "execute_result"
    }
   ],
   "source": [
    "from ibm_watsonx_ai.foundation_models.prompts import PromptTemplate, PromptTemplateManager\n",
    "from ibm_watsonx_ai.foundation_models.utils.enums import ModelTypes\n",
    "\n",
    "prompt_mgr = PromptTemplateManager(\n",
    "\tcredentials = WML_CREDENTIALS,\n",
    "\tproject_id = project_id\n",
    ")\n",
    "\n",
    "prompt_template = PromptTemplate(name=\"MLS_Car_Insurance_Summarization_Ja_Demo\",\n",
    "                                 model_id=ModelTypes.GRANITE_13B_INSTRUCT_V2,\n",
    "                                 task_ids=[\"summarization\"],\n",
    "                                 instruction=\"以下の保険請求を最大 3 文で要約してください\",\n",
    "                                 input_text=\"{input_text}\",\n",
    "                                 input_variables=['input_text'],\n",
    "                                 examples = [\n",
    "\t\t\t\t\t\t\t\t\t\t[\n",
    "                                            \"２０２３年１１月１日午前１１時、私の車両「日産　マキシマ　１９９８年式」は、ニューヨークで重大事故に遭いました。私の運転手は制限速度を守って走行していましたが、前の車が急停止したために前方から衝突しました。激しい衝撃により双方の車が大破し、私の運転手はすぐに救急に連絡をして、その場で応急処置を受けました。私の車両は前のバンパー、ボンネット、フロントガラスに損傷を受けました。私の運転手は重傷を負い、現在治療を受けています。私はあなたの代理人にただちに連絡し、事故の詳細と警察の報告書、医療診察書を添えて請求書を提出しました。また目撃者の供述書と破損した車両の写真も提出します。\",\n",
    "\t\t\t\t\t\t\t\t\t\t\"私の車両はニューヨークで重大事故に遭いました。私の運転手は重傷を負い、現在治療を受けています。\"\n",
    "\t\t\t\t\t\t\t\t\t\t]\n",
    "                                \t]\n",
    "                                )\n",
    "\n",
    "stored_prompt_template = prompt_mgr.store_prompt(prompt_template)\n",
    "project_pta_id = stored_prompt_template.prompt_id\n",
    "project_pta_id"
   ]
  },
  {
   "cell_type": "markdown",
   "metadata": {},
   "source": [
    "## Step 3 - Trigger Prompt setup <a name=\"ptatsetup\"></a>"
   ]
  },
  {
   "cell_type": "markdown",
   "metadata": {},
   "source": [
    "### Configure OpenScale client"
   ]
  },
  {
   "cell_type": "code",
   "execution_count": null,
   "metadata": {
    "id": "d5691790-1964-490e-b830-e56b3d754524"
   },
   "outputs": [
    {
     "name": "stdout",
     "output_type": "stream",
     "text": [
      "3.0.44\n"
     ]
    }
   ],
   "source": [
    "from ibm_cloud_sdk_core.authenticators import IAMAuthenticator\n",
    "\n",
    "from ibm_watson_openscale import *\n",
    "from ibm_watson_openscale.supporting_classes.enums import *\n",
    "from ibm_watson_openscale.supporting_classes import *\n",
    "\n",
    "service_instance_id = None  # Update this to refer to a particular service instance\n",
    "authenticator = IAMAuthenticator(apikey=CLOUD_API_KEY, url = IAM_URL)\n",
    "wos_client = APIClient(authenticator=authenticator, service_url = SERVICE_URL, service_instance_id = service_instance_id)\n",
    "print(wos_client.version)"
   ]
  },
  {
   "cell_type": "markdown",
   "metadata": {},
   "source": [
    "### Listing all the available datamarts"
   ]
  },
  {
   "cell_type": "code",
   "execution_count": 9,
   "metadata": {
    "id": "5ae80f56-92a5-4428-981f-121c93eb3abb"
   },
   "outputs": [
    {
     "data": {
      "text/html": [
       "<HTML>\n",
       "        <body>\n",
       "            <h3>Data Marts</h3>\n",
       "            <table style='border: 1px solid #dddddd; font-family: Courier'>\n",
       "                <th style='border: 1px solid #dddddd'>name</th><th style='border: 1px solid #dddddd'>description</th><th style='border: 1px solid #dddddd'>internal_database</th><th style='border: 1px solid #dddddd'>status</th><th style='border: 1px solid #dddddd'>created_at</th><th style='border: 1px solid #dddddd'>id</th>\n",
       "                <tr><td style='border: 1px solid #dddddd'>None</td><td style='border: 1px solid #dddddd'>None</td><td style='border: 1px solid #dddddd'>True</td><td style='border: 1px solid #dddddd'>active</td><td style='border: 1px solid #dddddd'>2025-02-25 10:23:51.757000+00:00</td><td style='border: 1px solid #dddddd'>16f11000-6e49-483c-8d97-ad853415ed8d</td></tr>\n",
       "            </table>\n",
       "        </body>\n",
       "        </HTML>"
      ],
      "text/plain": [
       "<IPython.core.display.HTML object>"
      ]
     },
     "metadata": {},
     "output_type": "display_data"
    }
   ],
   "source": [
    "wos_client.data_marts.show()"
   ]
  },
  {
   "cell_type": "code",
   "execution_count": 10,
   "metadata": {
    "id": "4e323eaa-1db2-4fb6-b4a6-3c8f0adeaeb4"
   },
   "outputs": [],
   "source": [
    "data_mart_id = \"<EDIT THIS>\" # YOUR_DATAMART_ID"
   ]
  },
  {
   "cell_type": "markdown",
   "metadata": {},
   "source": [
    "### Setup the prompt template asset in project for evaluation with supported monitor dimensions"
   ]
  },
  {
   "cell_type": "markdown",
   "metadata": {},
   "source": [
    "The prompt template assets from project is only supported with `development` operational space ID. Running the below cell will create a development type subscription from the prompt template asset created within the project.\n",
    "\n",
    "The available parameters that can be passed for `execute_prompt_setup` function are:\n",
    "\n",
    " * `prompt_template_asset_id` : Id of prompt template asset for which subscription needs to be created.\n",
    " * `label_column` :  The name of the column containing the ground truth or actual labels.\n",
    " * `project_id` : The GUID of the project.\n",
    " * `space_id` : The GUID of the space.\n",
    " * `deployment_id` : (optional) The GUID of the deployment.\n",
    " * `operational_space_id` : The rank of the environment in which the monitoring is happening. Accepted values are `development`, `pre_production`, `production`.\n",
    " * `problem_type` : (optional) The task type to monitor for the given prompt template asset.\n",
    " * `classification_type` : The classification type `binary`/`multiclass` applicable only for `classification` problem (task) type.\n",
    " * `input_data_type` : The input data type.\n",
    " * `supporting_monitors` : Monitor configuration for the subscription to be created.\n",
    " * `background_mode` : When `True`, the promt setup operation will be executed in the background"
   ]
  },
  {
   "cell_type": "code",
   "execution_count": 11,
   "metadata": {
    "id": "67ea62f3-d906-409f-8b39-6acdeb5b625d"
   },
   "outputs": [
    {
     "name": "stdout",
     "output_type": "stream",
     "text": [
      "\n",
      "\n",
      "=============================================================================\n",
      "\n",
      " Waiting for end of adding prompt setup 8ddd4ea9-9851-4aed-8f29-be95235585a1 \n",
      "\n",
      "=============================================================================\n",
      "\n",
      "\n",
      "\n",
      "running..\n",
      "finished\n",
      "\n",
      "---------------------------------------------------------------\n",
      " Successfully finished setting up prompt template subscription \n",
      "---------------------------------------------------------------\n",
      "\n",
      "\n"
     ]
    },
    {
     "data": {
      "text/plain": [
       "{'prompt_template_asset_id': '8ddd4ea9-9851-4aed-8f29-be95235585a1',\n",
       " 'project_id': '5ec0dee6-804c-44be-a03c-87d47ac83537',\n",
       " 'deployment_id': 'ab2fc988-f7f4-4d8f-9bb3-ad52c7625a07',\n",
       " 'service_provider_id': '01955f5c-53b1-74f6-ad24-c7fe51547950',\n",
       " 'subscription_id': '019565f0-8650-74b7-8eab-7cd8d530b52d',\n",
       " 'mrm_monitor_instance_id': '019565f0-a425-7d29-8eb6-7044c5729074',\n",
       " 'start_time': '2025-03-05T10:53:31.836819Z',\n",
       " 'end_time': '2025-03-05T10:53:50.208702Z',\n",
       " 'status': {'state': 'FINISHED'}}"
      ]
     },
     "execution_count": 11,
     "metadata": {},
     "output_type": "execute_result"
    }
   ],
   "source": [
    "label_column = \"reference_summary\"\n",
    "operational_space_id = \"development\"\n",
    "problem_type= \"summarization\"\n",
    "input_data_type= \"unstructured_text\"\n",
    "language_code = \"ja\" # Update this to calculate metrics for another language\n",
    "\n",
    "monitors = {\n",
    "    \"generative_ai_quality\": {\n",
    "        \"parameters\": {\n",
    "            \"language_code\" : language_code,\n",
    "            \"min_sample_size\": 10,\n",
    "            \"metrics_configuration\": {\n",
    "                \"rouge_score\": {},\n",
    "                \"normalized_precision\": {},\n",
    "                \"normalized_f1\": {},\n",
    "                \"normalized_recall\": {},\n",
    "                \"cosine_similarity\": {},\n",
    "                \"jaccard_similarity\": {},\n",
    "                \"sari\": {},\n",
    "                \"meteor\": {},\n",
    "                \"hap_score\": {},\n",
    "                \"pii\": {\n",
    "                    \"language_code\" : language_code\n",
    "                }\n",
    "            }\n",
    "        }\n",
    "    }\n",
    "}\n",
    "\n",
    "response = wos_client.wos.execute_prompt_setup(\n",
    "    prompt_template_asset_id = project_pta_id,\n",
    "\tproject_id = project_id,\n",
    "\tlabel_column = label_column,\n",
    "\toperational_space_id = operational_space_id,\n",
    "\tproblem_type = problem_type,\n",
    "\tinput_data_type = input_data_type,\n",
    "\tsupporting_monitors = monitors,\n",
    "\tbackground_mode = False\n",
    ")\n",
    "\n",
    "result = response.result\n",
    "result._to_dict()"
   ]
  },
  {
   "cell_type": "markdown",
   "metadata": {},
   "source": [
    "With the below cell, users can  read the  prompt setup task and check its status"
   ]
  },
  {
   "cell_type": "code",
   "execution_count": 12,
   "metadata": {
    "id": "65e3b0d0-cc69-4524-9e0a-5dda4a2ba1a2"
   },
   "outputs": [
    {
     "name": "stdout",
     "output_type": "stream",
     "text": [
      "Finished prompt setup : The response is {'prompt_template_asset_id': '8ddd4ea9-9851-4aed-8f29-be95235585a1', 'project_id': '5ec0dee6-804c-44be-a03c-87d47ac83537', 'deployment_id': 'ab2fc988-f7f4-4d8f-9bb3-ad52c7625a07', 'service_provider_id': '01955f5c-53b1-74f6-ad24-c7fe51547950', 'subscription_id': '019565f0-8650-74b7-8eab-7cd8d530b52d', 'mrm_monitor_instance_id': '019565f0-a425-7d29-8eb6-7044c5729074', 'start_time': '2025-03-05T10:53:31.836819Z', 'end_time': '2025-03-05T10:53:50.208702Z', 'status': {'state': 'FINISHED'}}\n"
     ]
    }
   ],
   "source": [
    "response = wos_client.wos.get_prompt_setup(prompt_template_asset_id = project_pta_id,\n",
    "                                                             project_id = project_id)\n",
    "\n",
    "result = response.result\n",
    "result_json = result._to_dict()\n",
    "\n",
    "if result_json[\"status\"][\"state\"] == \"FINISHED\":\n",
    "    print(\"Finished prompt setup : The response is {}\".format(result_json))\n",
    "else:\n",
    "    print(\"prompt setup failed The response is {}\".format(result_json))"
   ]
  },
  {
   "cell_type": "markdown",
   "metadata": {},
   "source": [
    "### Read subscription id from prompt setup"
   ]
  },
  {
   "cell_type": "markdown",
   "metadata": {},
   "source": [
    "Once prompt setup status is finished, Read the subscription id from it."
   ]
  },
  {
   "cell_type": "code",
   "execution_count": 13,
   "metadata": {
    "id": "bddb042a-531c-48c3-9a04-805415834535"
   },
   "outputs": [
    {
     "data": {
      "text/plain": [
       "'019565f0-8650-74b7-8eab-7cd8d530b52d'"
      ]
     },
     "execution_count": 13,
     "metadata": {},
     "output_type": "execute_result"
    }
   ],
   "source": [
    "dev_subscription_id = result_json[\"subscription_id\"]\n",
    "dev_subscription_id"
   ]
  },
  {
   "cell_type": "markdown",
   "metadata": {},
   "source": [
    "## Step 4 - Patch the Prompt Template Asset subscription with the locale values <a name=\"patch_sub\"></a>"
   ]
  },
  {
   "cell_type": "markdown",
   "metadata": {},
   "source": [
    "**Note** - This step is needed to run the evaluation with another language. This is the only difference between the current workflow and the new workflow to support multiple languages"
   ]
  },
  {
   "cell_type": "code",
   "execution_count": 14,
   "metadata": {
    "id": "c17da082-21e9-44c2-8023-b7b352d1b327"
   },
   "outputs": [
    {
     "data": {
      "text/plain": [
       "{'input': ['ja'], 'output': ['ja']}"
      ]
     },
     "execution_count": 14,
     "metadata": {},
     "output_type": "execute_result"
    }
   ],
   "source": [
    "patch_body = PatchDocument(\n",
    "    op=\"add\",\n",
    "    path=\"/asset/locale\",\n",
    "    value={\n",
    "\t\t\"input\":[\"ja\"],\n",
    "\t\t\"output\":[\"ja\"]\n",
    "\t}\n",
    ")\n",
    "\n",
    "subs_patch_resp = wos_client.subscriptions.update(subscription_id=dev_subscription_id, patch_document=[patch_body]).result._to_dict()\n",
    "subs_patch_resp[\"entity\"][\"asset\"][\"locale\"]"
   ]
  },
  {
   "cell_type": "markdown",
   "metadata": {},
   "source": [
    "# Risk evaluations for PTA subscription <a name=\"evaluate\"></a>"
   ]
  },
  {
   "cell_type": "markdown",
   "metadata": {},
   "source": [
    "### Evaluate the prompt template subscription\n",
    "\n",
    "For the risk assessment of a development type subscription the user needs to have an evaluation dataset. The risk evaluation function takes the evaluation dataset path as a parameter for evaluation of the configured metric dimensions. If there is a discrepancy between the feature columns in the subscription and the column names in the uploading CSV, users has the option to supply a mapping JSON file to associate the CSV column names with the feature column names in the subscription.\n",
    "\n",
    "\n",
    "**Note:** If you are running this notebook from Watson studio, you may first need to upload your test data to studio and run code snippet to download feedback data file from project to local directory"
   ]
  },
  {
   "cell_type": "code",
   "execution_count": 15,
   "metadata": {
    "id": "0b8da149-0957-4d34-8c76-2c3b150da43a"
   },
   "outputs": [
    {
     "name": "stdout",
     "output_type": "stream",
     "text": [
      "--2025-03-05 10:54:24--  https://raw.githubusercontent.com/IBM/watson-openscale-samples/refs/heads/main/IBM%20Cloud/WML/assets/data/watsonx/Multi_Lingual_Support/llm_content_summarization_ja.csv\n",
      "Resolving raw.githubusercontent.com (raw.githubusercontent.com)... 185.199.109.133, 185.199.110.133, 185.199.108.133, ...\n",
      "Connecting to raw.githubusercontent.com (raw.githubusercontent.com)|185.199.109.133|:443... connected.\n",
      "HTTP request sent, awaiting response... 200 OK\n",
      "Length: 26758 (26K) [text/plain]\n",
      "Saving to: ‘llm_content_summarization_ja.csv’\n",
      "\n",
      "llm_content_summari 100%[===================>]  26.13K  --.-KB/s    in 0.002s  \n",
      "\n",
      "2025-03-05 10:54:24 (15.0 MB/s) - ‘llm_content_summarization_ja.csv’ saved [26758/26758]\n",
      "\n"
     ]
    }
   ],
   "source": [
    "# Download summarisation data\n",
    "filename = \"llm_content_summarization_ja.csv\"\n",
    "!rm -fr \"llm_content_summarization_ja.csv\"\n",
    "!wget \"https://raw.githubusercontent.com/IBM/watson-openscale-samples/refs/heads/main/IBM%20Cloud/WML/assets/data/watsonx/Multi_Lingual_Support/llm_content_summarization_ja.csv\""
   ]
  },
  {
   "cell_type": "markdown",
   "metadata": {},
   "source": [
    "Rename the generated predictions column to `generated_text` to avoid scoring since the prompt is in Japanese and we would need a Foundational model which supports Japanese"
   ]
  },
  {
   "cell_type": "code",
   "execution_count": 16,
   "metadata": {
    "id": "8669e359-248c-43ad-adb4-adc19800e1c1"
   },
   "outputs": [],
   "source": [
    "import pandas as pd\n",
    "\n",
    "df = pd.read_csv(filename)\n",
    "df = df.rename(columns={'generated_predictions': 'generated_text'})\n",
    "new_summarization_filename = \"new_summarization_data_ja.csv\"\n",
    "df.to_csv(new_summarization_filename, index=False)\n",
    "test_data_path = new_summarization_filename"
   ]
  },
  {
   "cell_type": "markdown",
   "metadata": {},
   "source": [
    "### Read the MRM monitor instance id\n",
    "\n",
    "Evaluating the test data against the prompt template subscription requires the monitor instance ID of MRM."
   ]
  },
  {
   "cell_type": "code",
   "execution_count": 17,
   "metadata": {
    "id": "15194763-3dcf-485a-b2dd-e3b542eef50f"
   },
   "outputs": [
    {
     "data": {
      "text/plain": [
       "'019565f0-a425-7d29-8eb6-7044c5729074'"
      ]
     },
     "execution_count": 17,
     "metadata": {},
     "output_type": "execute_result"
    }
   ],
   "source": [
    "monitor_definition_id = \"mrm\"\n",
    "target_target_id = dev_subscription_id\n",
    "result = wos_client.monitor_instances.list(data_mart_id=data_mart_id,\n",
    "                                           monitor_definition_id=monitor_definition_id,\n",
    "                                           target_target_id=target_target_id,\n",
    "                                           project_id=project_id).result\n",
    "result_json = result._to_dict()\n",
    "mrm_monitor_id = result_json[\"monitor_instances\"][0][\"metadata\"][\"id\"]\n",
    "mrm_monitor_id"
   ]
  },
  {
   "cell_type": "markdown",
   "metadata": {},
   "source": [
    "The following cell will assess the test data with the subscription of the prompt template asset and produce relevant measurements for the configured monitor."
   ]
  },
  {
   "cell_type": "code",
   "execution_count": 18,
   "metadata": {
    "id": "b64a516c-8981-45b7-ac53-0106ddd491ac"
   },
   "outputs": [
    {
     "name": "stdout",
     "output_type": "stream",
     "text": [
      "\n",
      "\n",
      "=================================================================================\n",
      "\n",
      " Waiting for risk evaluation of MRM monitor 019565f0-a425-7d29-8eb6-7044c5729074 \n",
      "\n",
      "=================================================================================\n",
      "\n",
      "\n",
      "\n",
      "upload_in_progress.\n",
      "running.......\n",
      "finished\n",
      "\n",
      "---------------------------------------\n",
      " Successfully finished evaluating risk \n",
      "---------------------------------------\n",
      "\n",
      "\n"
     ]
    }
   ],
   "source": [
    "test_data_set_name = \"data\"\n",
    "content_type = \"multipart/form-data\"\n",
    "\n",
    "response  = wos_client.monitor_instances.mrm.evaluate_risk(monitor_instance_id=mrm_monitor_id, \n",
    "                                                    test_data_set_name = test_data_set_name, \n",
    "                                                    test_data_path = test_data_path,\n",
    "                                                    content_type = content_type,\n",
    "                                                    body = None,\n",
    "                                                    includes_model_output=True,\n",
    "                                                    project_id = project_id,\n",
    "                                                    background_mode = False)"
   ]
  },
  {
   "cell_type": "markdown",
   "metadata": {},
   "source": [
    "### Read the risk evaluation response\n",
    "\n",
    "After initiating the risk evaluation, the evaluation results are now available for review"
   ]
  },
  {
   "cell_type": "code",
   "execution_count": 19,
   "metadata": {
    "id": "35a26665-7d63-49db-bba7-2ec7abb2b813"
   },
   "outputs": [
    {
     "data": {
      "text/plain": [
       "{'metadata': {'id': '970a1f3e-c75c-4bb2-864a-ff4cbc99c996',\n",
       "  'created_at': '2025-03-05T10:54:44.867Z',\n",
       "  'created_by': 'iam-ServiceId-b317a8da-d926-496e-b0ca-6bcc57f556ae'},\n",
       " 'entity': {'triggered_by': 'user',\n",
       "  'parameters': {'evaluation_start_time': '2025-03-05T10:54:30.822379Z',\n",
       "   'evaluator_user_key': 'ec8bde70-25cc-4ab7-9825-04d6173df648',\n",
       "   'facts': {'state': 'finished'},\n",
       "   'is_auto_evaluated': False,\n",
       "   'measurement_id': '019565f1-90c4-750e-b787-a2e7faa1cc56',\n",
       "   'monitors_run_status': [{'monitor_id': 'generative_ai_quality',\n",
       "     'status': {'state': 'finished'}},\n",
       "    {'monitor_id': 'model_health', 'status': {'state': 'finished'}}],\n",
       "   'project_id': '5ec0dee6-804c-44be-a03c-87d47ac83537',\n",
       "   'prompt_template_asset_id': '8ddd4ea9-9851-4aed-8f29-be95235585a1',\n",
       "   'user_iam_id': 'IBMid-6630053CV1',\n",
       "   'wos_created_deployment_id': 'ab2fc988-f7f4-4d8f-9bb3-ad52c7625a07',\n",
       "   'publish_metrics': 'false',\n",
       "   'evaluation_tests': ['drift_v2',\n",
       "    'fairness',\n",
       "    'generative_ai_quality',\n",
       "    'model_health',\n",
       "    'quality']},\n",
       "  'status': {'state': 'finished',\n",
       "   'queued_at': '2025-03-05T10:54:44.855000Z',\n",
       "   'started_at': '2025-03-05T10:54:45.502000Z',\n",
       "   'updated_at': '2025-03-05T10:55:46.856000Z',\n",
       "   'completed_at': '2025-03-05T10:55:41.994000Z',\n",
       "   'message': 'Mrm evaluation complete.',\n",
       "   'operators': []}}}"
      ]
     },
     "execution_count": 19,
     "metadata": {},
     "output_type": "execute_result"
    }
   ],
   "source": [
    "response  = wos_client.monitor_instances.mrm.get_risk_evaluation(mrm_monitor_id, project_id = project_id)\n",
    "response.result.to_dict()"
   ]
  },
  {
   "cell_type": "markdown",
   "metadata": {},
   "source": [
    "# Display the Generative AI Quality metrics <a name=\"genaimetrics\"></a>"
   ]
  },
  {
   "cell_type": "markdown",
   "metadata": {},
   "source": [
    "\n",
    "\n",
    "Monitor instance ID of Generative ai quality metrics is required for reading its metrics."
   ]
  },
  {
   "cell_type": "code",
   "execution_count": 20,
   "metadata": {
    "id": "6bebcc34-8cc5-48c9-8bb6-2d71cc8722a2"
   },
   "outputs": [
    {
     "data": {
      "text/plain": [
       "'019565f0-9b86-715b-8611-f5915bf31b38'"
      ]
     },
     "execution_count": 20,
     "metadata": {},
     "output_type": "execute_result"
    }
   ],
   "source": [
    "monitor_definition_id = \"generative_ai_quality\"\n",
    "result = wos_client.monitor_instances.list(data_mart_id = data_mart_id,\n",
    "                                           monitor_definition_id = monitor_definition_id,\n",
    "                                           target_target_id = target_target_id,\n",
    "                                           project_id = project_id).result\n",
    "result_json = result._to_dict()\n",
    "genaiquality_monitor_id = result_json[\"monitor_instances\"][0][\"metadata\"][\"id\"]\n",
    "genaiquality_monitor_id"
   ]
  },
  {
   "cell_type": "markdown",
   "metadata": {},
   "source": [
    "Displaying the GenAIQ monitor metrics generated through the risk evaluation."
   ]
  },
  {
   "cell_type": "code",
   "execution_count": 21,
   "metadata": {
    "id": "d13fdccc-e32d-4bfe-bc1e-4c1dc56a5da0"
   },
   "outputs": [
    {
     "data": {
      "text/html": [
       "<HTML>\n",
       "        <body>\n",
       "            <h3>019565f0-9b86-715b-8611-f5915bf31b38 Monitor Runs Metrics from: 2025-02-26 10:56:22.012444  till: 2025-03-05 10:56:22.012468</h3>\n",
       "            <table style='border: 1px solid #dddddd; font-family: Courier'>\n",
       "                <th style='border: 1px solid #dddddd'>ts</th><th style='border: 1px solid #dddddd'>id</th><th style='border: 1px solid #dddddd'>measurement_id</th><th style='border: 1px solid #dddddd'>value</th><th style='border: 1px solid #dddddd'>lower_limit</th><th style='border: 1px solid #dddddd'>upper_limit</th><th style='border: 1px solid #dddddd'>tags</th><th style='border: 1px solid #dddddd'>monitor_definition_id</th><th style='border: 1px solid #dddddd'>monitor_instance_id</th><th style='border: 1px solid #dddddd'>run_id</th><th style='border: 1px solid #dddddd'>target_type</th><th style='border: 1px solid #dddddd'>target_id</th>\n",
       "                <tr><td style='border: 1px solid #dddddd'>2025-03-05 10:55:30.325071+00:00</td><td style='border: 1px solid #dddddd'>normalized_recall</td><td style='border: 1px solid #dddddd'>019565f2-4215-76af-ad51-201f6bfe8481</td><td style='border: 1px solid #dddddd'>0.4073</td><td style='border: 1px solid #dddddd'>0.8</td><td style='border: 1px solid #dddddd'>None</td><td style='border: 1px solid #dddddd'>['computed_on:feedback', 'field_type:subscription', 'aggregation_type:mean']</td><td style='border: 1px solid #dddddd'>generative_ai_quality</td><td style='border: 1px solid #dddddd'>019565f0-9b86-715b-8611-f5915bf31b38</td><td style='border: 1px solid #dddddd'>43df0056-393e-4a79-aef3-e19156698f64</td><td style='border: 1px solid #dddddd'>subscription</td><td style='border: 1px solid #dddddd'>019565f0-8650-74b7-8eab-7cd8d530b52d</td></tr><tr><td style='border: 1px solid #dddddd'>2025-03-05 10:55:30.325071+00:00</td><td style='border: 1px solid #dddddd'>rouge2</td><td style='border: 1px solid #dddddd'>019565f2-4215-76af-ad51-201f6bfe8481</td><td style='border: 1px solid #dddddd'>0.1853</td><td style='border: 1px solid #dddddd'>0.8</td><td style='border: 1px solid #dddddd'>None</td><td style='border: 1px solid #dddddd'>['computed_on:feedback', 'field_type:subscription', 'aggregation_type:mean']</td><td style='border: 1px solid #dddddd'>generative_ai_quality</td><td style='border: 1px solid #dddddd'>019565f0-9b86-715b-8611-f5915bf31b38</td><td style='border: 1px solid #dddddd'>43df0056-393e-4a79-aef3-e19156698f64</td><td style='border: 1px solid #dddddd'>subscription</td><td style='border: 1px solid #dddddd'>019565f0-8650-74b7-8eab-7cd8d530b52d</td></tr><tr><td style='border: 1px solid #dddddd'>2025-03-05 10:55:30.325071+00:00</td><td style='border: 1px solid #dddddd'>records_processed</td><td style='border: 1px solid #dddddd'>019565f2-4215-76af-ad51-201f6bfe8481</td><td style='border: 1px solid #dddddd'>20.0</td><td style='border: 1px solid #dddddd'>None</td><td style='border: 1px solid #dddddd'>None</td><td style='border: 1px solid #dddddd'>['computed_on:feedback', 'field_type:subscription', 'aggregation_type:mean']</td><td style='border: 1px solid #dddddd'>generative_ai_quality</td><td style='border: 1px solid #dddddd'>019565f0-9b86-715b-8611-f5915bf31b38</td><td style='border: 1px solid #dddddd'>43df0056-393e-4a79-aef3-e19156698f64</td><td style='border: 1px solid #dddddd'>subscription</td><td style='border: 1px solid #dddddd'>019565f0-8650-74b7-8eab-7cd8d530b52d</td></tr><tr><td style='border: 1px solid #dddddd'>2025-03-05 10:55:30.325071+00:00</td><td style='border: 1px solid #dddddd'>jaccard_similarity</td><td style='border: 1px solid #dddddd'>019565f2-4215-76af-ad51-201f6bfe8481</td><td style='border: 1px solid #dddddd'>0.2605</td><td style='border: 1px solid #dddddd'>0.8</td><td style='border: 1px solid #dddddd'>None</td><td style='border: 1px solid #dddddd'>['computed_on:feedback', 'field_type:subscription', 'aggregation_type:mean']</td><td style='border: 1px solid #dddddd'>generative_ai_quality</td><td style='border: 1px solid #dddddd'>019565f0-9b86-715b-8611-f5915bf31b38</td><td style='border: 1px solid #dddddd'>43df0056-393e-4a79-aef3-e19156698f64</td><td style='border: 1px solid #dddddd'>subscription</td><td style='border: 1px solid #dddddd'>019565f0-8650-74b7-8eab-7cd8d530b52d</td></tr><tr><td style='border: 1px solid #dddddd'>2025-03-05 10:55:30.325071+00:00</td><td style='border: 1px solid #dddddd'>meteor</td><td style='border: 1px solid #dddddd'>019565f2-4215-76af-ad51-201f6bfe8481</td><td style='border: 1px solid #dddddd'>0.3211</td><td style='border: 1px solid #dddddd'>0.8</td><td style='border: 1px solid #dddddd'>None</td><td style='border: 1px solid #dddddd'>['computed_on:feedback', 'field_type:subscription', 'aggregation_type:mean']</td><td style='border: 1px solid #dddddd'>generative_ai_quality</td><td style='border: 1px solid #dddddd'>019565f0-9b86-715b-8611-f5915bf31b38</td><td style='border: 1px solid #dddddd'>43df0056-393e-4a79-aef3-e19156698f64</td><td style='border: 1px solid #dddddd'>subscription</td><td style='border: 1px solid #dddddd'>019565f0-8650-74b7-8eab-7cd8d530b52d</td></tr><tr><td style='border: 1px solid #dddddd'>2025-03-05 10:55:30.325071+00:00</td><td style='border: 1px solid #dddddd'>rougelsum</td><td style='border: 1px solid #dddddd'>019565f2-4215-76af-ad51-201f6bfe8481</td><td style='border: 1px solid #dddddd'>0.2902</td><td style='border: 1px solid #dddddd'>0.8</td><td style='border: 1px solid #dddddd'>None</td><td style='border: 1px solid #dddddd'>['computed_on:feedback', 'field_type:subscription', 'aggregation_type:mean']</td><td style='border: 1px solid #dddddd'>generative_ai_quality</td><td style='border: 1px solid #dddddd'>019565f0-9b86-715b-8611-f5915bf31b38</td><td style='border: 1px solid #dddddd'>43df0056-393e-4a79-aef3-e19156698f64</td><td style='border: 1px solid #dddddd'>subscription</td><td style='border: 1px solid #dddddd'>019565f0-8650-74b7-8eab-7cd8d530b52d</td></tr><tr><td style='border: 1px solid #dddddd'>2025-03-05 10:55:30.325071+00:00</td><td style='border: 1px solid #dddddd'>hap_score</td><td style='border: 1px solid #dddddd'>019565f2-4215-76af-ad51-201f6bfe8481</td><td style='border: 1px solid #dddddd'>0.0</td><td style='border: 1px solid #dddddd'>None</td><td style='border: 1px solid #dddddd'>0.0</td><td style='border: 1px solid #dddddd'>['computed_on:feedback', 'field_type:subscription', 'aggregation_type:mean']</td><td style='border: 1px solid #dddddd'>generative_ai_quality</td><td style='border: 1px solid #dddddd'>019565f0-9b86-715b-8611-f5915bf31b38</td><td style='border: 1px solid #dddddd'>43df0056-393e-4a79-aef3-e19156698f64</td><td style='border: 1px solid #dddddd'>subscription</td><td style='border: 1px solid #dddddd'>019565f0-8650-74b7-8eab-7cd8d530b52d</td></tr><tr><td style='border: 1px solid #dddddd'>2025-03-05 10:55:30.325071+00:00</td><td style='border: 1px solid #dddddd'>pii</td><td style='border: 1px solid #dddddd'>019565f2-4215-76af-ad51-201f6bfe8481</td><td style='border: 1px solid #dddddd'>0.0</td><td style='border: 1px solid #dddddd'>None</td><td style='border: 1px solid #dddddd'>0.0</td><td style='border: 1px solid #dddddd'>['computed_on:feedback', 'field_type:subscription', 'aggregation_type:mean']</td><td style='border: 1px solid #dddddd'>generative_ai_quality</td><td style='border: 1px solid #dddddd'>019565f0-9b86-715b-8611-f5915bf31b38</td><td style='border: 1px solid #dddddd'>43df0056-393e-4a79-aef3-e19156698f64</td><td style='border: 1px solid #dddddd'>subscription</td><td style='border: 1px solid #dddddd'>019565f0-8650-74b7-8eab-7cd8d530b52d</td></tr><tr><td style='border: 1px solid #dddddd'>2025-03-05 10:55:30.325071+00:00</td><td style='border: 1px solid #dddddd'>normalized_precision</td><td style='border: 1px solid #dddddd'>019565f2-4215-76af-ad51-201f6bfe8481</td><td style='border: 1px solid #dddddd'>0.4214</td><td style='border: 1px solid #dddddd'>0.8</td><td style='border: 1px solid #dddddd'>None</td><td style='border: 1px solid #dddddd'>['computed_on:feedback', 'field_type:subscription', 'aggregation_type:mean']</td><td style='border: 1px solid #dddddd'>generative_ai_quality</td><td style='border: 1px solid #dddddd'>019565f0-9b86-715b-8611-f5915bf31b38</td><td style='border: 1px solid #dddddd'>43df0056-393e-4a79-aef3-e19156698f64</td><td style='border: 1px solid #dddddd'>subscription</td><td style='border: 1px solid #dddddd'>019565f0-8650-74b7-8eab-7cd8d530b52d</td></tr><tr><td style='border: 1px solid #dddddd'>2025-03-05 10:55:30.325071+00:00</td><td style='border: 1px solid #dddddd'>normalized_f1</td><td style='border: 1px solid #dddddd'>019565f2-4215-76af-ad51-201f6bfe8481</td><td style='border: 1px solid #dddddd'>0.3755</td><td style='border: 1px solid #dddddd'>0.8</td><td style='border: 1px solid #dddddd'>None</td><td style='border: 1px solid #dddddd'>['computed_on:feedback', 'field_type:subscription', 'aggregation_type:mean']</td><td style='border: 1px solid #dddddd'>generative_ai_quality</td><td style='border: 1px solid #dddddd'>019565f0-9b86-715b-8611-f5915bf31b38</td><td style='border: 1px solid #dddddd'>43df0056-393e-4a79-aef3-e19156698f64</td><td style='border: 1px solid #dddddd'>subscription</td><td style='border: 1px solid #dddddd'>019565f0-8650-74b7-8eab-7cd8d530b52d</td></tr>\n",
       "            </table>\n",
       "        </body>\n",
       "        </HTML>"
      ],
      "text/plain": [
       "<IPython.core.display.HTML object>"
      ]
     },
     "metadata": {},
     "output_type": "display_data"
    },
    {
     "name": "stdout",
     "output_type": "stream",
     "text": [
      "Note: First 10 records were displayed.\n"
     ]
    }
   ],
   "source": [
    "wos_client.monitor_instances.show_metrics(monitor_instance_id=genaiquality_monitor_id, project_id=project_id)"
   ]
  },
  {
   "cell_type": "markdown",
   "metadata": {},
   "source": [
    "## Display record level metrics for Generative AI Quality "
   ]
  },
  {
   "cell_type": "markdown",
   "metadata": {},
   "source": [
    "Read the dataset id for generative ai quality dataset"
   ]
  },
  {
   "cell_type": "code",
   "execution_count": 22,
   "metadata": {
    "id": "95ecf8af-099e-459b-be7d-d0e763f74fcb"
   },
   "outputs": [
    {
     "data": {
      "text/plain": [
       "'019565f0-a2e7-7e40-96ad-e4185c88a92e'"
      ]
     },
     "execution_count": 22,
     "metadata": {},
     "output_type": "execute_result"
    }
   ],
   "source": [
    "result = wos_client.data_sets.list(target_target_id = dev_subscription_id,\n",
    "                                target_target_type = \"subscription\",\n",
    "                                type = \"gen_ai_quality_metrics\").result\n",
    "\n",
    "genaiq_dataset_id = result.data_sets[0].metadata.id\n",
    "genaiq_dataset_id"
   ]
  },
  {
   "cell_type": "markdown",
   "metadata": {},
   "source": [
    "Displaying record level metrics for generative ai quality"
   ]
  },
  {
   "cell_type": "code",
   "execution_count": 23,
   "metadata": {
    "id": "593e585c-5abf-46f4-93c3-f4b763edb761"
   },
   "outputs": [
    {
     "data": {
      "text/html": [
       "<HTML>\n",
       "        <body>\n",
       "            <h3>Data Set 019565f0-a2e7-7e40-96ad-e4185c88a92e Records</h3>\n",
       "            <table style='border: 1px solid #dddddd; font-family: Courier'>\n",
       "                <th style='border: 1px solid #dddddd'>normalized_recall</th><th style='border: 1px solid #dddddd'>rouge2</th><th style='border: 1px solid #dddddd'>pii_entities</th><th style='border: 1px solid #dddddd'>scoring_id</th><th style='border: 1px solid #dddddd'>jaccard_similarity</th><th style='border: 1px solid #dddddd'>computed_on</th><th style='border: 1px solid #dddddd'>scoring_timestamp</th><th style='border: 1px solid #dddddd'>meteor</th><th style='border: 1px solid #dddddd'>rougelsum</th><th style='border: 1px solid #dddddd'>hap_score</th><th style='border: 1px solid #dddddd'>pii</th><th style='border: 1px solid #dddddd'>normalized_precision</th><th style='border: 1px solid #dddddd'>hap_score_positions</th><th style='border: 1px solid #dddddd'>run_id</th><th style='border: 1px solid #dddddd'>normalized_f1</th><th style='border: 1px solid #dddddd'>pii_positions</th><th style='border: 1px solid #dddddd'>rougel</th><th style='border: 1px solid #dddddd'>sari</th><th style='border: 1px solid #dddddd'>cosine_similarity</th><th style='border: 1px solid #dddddd'>hap_score_entities</th><th style='border: 1px solid #dddddd'>rouge1</th>\n",
       "                <tr><td style='border: 1px solid #dddddd'>0.3448275862068966</td><td style='border: 1px solid #dddddd'>0.2083</td><td style='border: 1px solid #dddddd'>[]</td><td style='border: 1px solid #dddddd'>MRM_dc8d12d4-964e-40b1-93ae-5414844c968d-0</td><td style='border: 1px solid #dddddd'>0.30303030303030304</td><td style='border: 1px solid #dddddd'>feedback</td><td style='border: 1px solid #dddddd'>2025-03-05T10:54:33.967Z</td><td style='border: 1px solid #dddddd'>0.31631205673758866</td><td style='border: 1px solid #dddddd'>0.32</td><td style='border: 1px solid #dddddd'>0.047823887318372726</td><td style='border: 1px solid #dddddd'>0.0</td><td style='border: 1px solid #dddddd'>0.47619047619047616</td><td style='border: 1px solid #dddddd'>None</td><td style='border: 1px solid #dddddd'>43df0056-393e-4a79-aef3-e19156698f64</td><td style='border: 1px solid #dddddd'>0.39999999999999997</td><td style='border: 1px solid #dddddd'>None</td><td style='border: 1px solid #dddddd'>0.32</td><td style='border: 1px solid #dddddd'>35.81572523470902</td><td style='border: 1px solid #dddddd'>0.33742073667851313</td><td style='border: 1px solid #dddddd'>None</td><td style='border: 1px solid #dddddd'>0.4</td></tr><tr><td style='border: 1px solid #dddddd'>0.23214285714285715</td><td style='border: 1px solid #dddddd'>0.1299</td><td style='border: 1px solid #dddddd'>[]</td><td style='border: 1px solid #dddddd'>MRM_dc8d12d4-964e-40b1-93ae-5414844c968d-1</td><td style='border: 1px solid #dddddd'>0.23636363636363636</td><td style='border: 1px solid #dddddd'>feedback</td><td style='border: 1px solid #dddddd'>2025-03-05T10:54:33.967Z</td><td style='border: 1px solid #dddddd'>0.1491034775897361</td><td style='border: 1px solid #dddddd'>0.2278</td><td style='border: 1px solid #dddddd'>0.023666013032197952</td><td style='border: 1px solid #dddddd'>0.0</td><td style='border: 1px solid #dddddd'>0.5652173913043478</td><td style='border: 1px solid #dddddd'>None</td><td style='border: 1px solid #dddddd'>43df0056-393e-4a79-aef3-e19156698f64</td><td style='border: 1px solid #dddddd'>0.3291139240506329</td><td style='border: 1px solid #dddddd'>None</td><td style='border: 1px solid #dddddd'>0.2278</td><td style='border: 1px solid #dddddd'>29.000679470356232</td><td style='border: 1px solid #dddddd'>0.348701955972673</td><td style='border: 1px solid #dddddd'>None</td><td style='border: 1px solid #dddddd'>0.3291</td></tr><tr><td style='border: 1px solid #dddddd'>0.3333333333333333</td><td style='border: 1px solid #dddddd'>0.1667</td><td style='border: 1px solid #dddddd'>[]</td><td style='border: 1px solid #dddddd'>MRM_dc8d12d4-964e-40b1-93ae-5414844c968d-10</td><td style='border: 1px solid #dddddd'>0.21428571428571427</td><td style='border: 1px solid #dddddd'>feedback</td><td style='border: 1px solid #dddddd'>2025-03-05T10:54:33.967Z</td><td style='border: 1px solid #dddddd'>0.30702966648240276</td><td style='border: 1px solid #dddddd'>0.28</td><td style='border: 1px solid #dddddd'>0.023666013032197952</td><td style='border: 1px solid #dddddd'>0.0</td><td style='border: 1px solid #dddddd'>0.391304347826087</td><td style='border: 1px solid #dddddd'>None</td><td style='border: 1px solid #dddddd'>43df0056-393e-4a79-aef3-e19156698f64</td><td style='border: 1px solid #dddddd'>0.36</td><td style='border: 1px solid #dddddd'>None</td><td style='border: 1px solid #dddddd'>0.28</td><td style='border: 1px solid #dddddd'>35.2784149510787</td><td style='border: 1px solid #dddddd'>0.23244398764175528</td><td style='border: 1px solid #dddddd'>None</td><td style='border: 1px solid #dddddd'>0.36</td></tr><tr><td style='border: 1px solid #dddddd'>0.43902439024390244</td><td style='border: 1px solid #dddddd'>0.4062</td><td style='border: 1px solid #dddddd'>[]</td><td style='border: 1px solid #dddddd'>MRM_dc8d12d4-964e-40b1-93ae-5414844c968d-11</td><td style='border: 1px solid #dddddd'>0.40476190476190477</td><td style='border: 1px solid #dddddd'>feedback</td><td style='border: 1px solid #dddddd'>2025-03-05T10:54:33.967Z</td><td style='border: 1px solid #dddddd'>0.4367988970357837</td><td style='border: 1px solid #dddddd'>0.4545</td><td style='border: 1px solid #dddddd'>0.028214868158102036</td><td style='border: 1px solid #dddddd'>0.0</td><td style='border: 1px solid #dddddd'>0.72</td><td style='border: 1px solid #dddddd'>None</td><td style='border: 1px solid #dddddd'>43df0056-393e-4a79-aef3-e19156698f64</td><td style='border: 1px solid #dddddd'>0.5454545454545455</td><td style='border: 1px solid #dddddd'>None</td><td style='border: 1px solid #dddddd'>0.4545</td><td style='border: 1px solid #dddddd'>41.64958160752452</td><td style='border: 1px solid #dddddd'>0.4972134156783251</td><td style='border: 1px solid #dddddd'>None</td><td style='border: 1px solid #dddddd'>0.5455</td></tr><tr><td style='border: 1px solid #dddddd'>0.6666666666666666</td><td style='border: 1px solid #dddddd'>0.0952</td><td style='border: 1px solid #dddddd'>[]</td><td style='border: 1px solid #dddddd'>MRM_dc8d12d4-964e-40b1-93ae-5414844c968d-12</td><td style='border: 1px solid #dddddd'>0.22857142857142856</td><td style='border: 1px solid #dddddd'>feedback</td><td style='border: 1px solid #dddddd'>2025-03-05T10:54:33.967Z</td><td style='border: 1px solid #dddddd'>0.3746698943661972</td><td style='border: 1px solid #dddddd'>0.2727</td><td style='border: 1px solid #dddddd'>0.07447100430727005</td><td style='border: 1px solid #dddddd'>0.0</td><td style='border: 1px solid #dddddd'>0.25</td><td style='border: 1px solid #dddddd'>None</td><td style='border: 1px solid #dddddd'>43df0056-393e-4a79-aef3-e19156698f64</td><td style='border: 1px solid #dddddd'>0.36363636363636365</td><td style='border: 1px solid #dddddd'>None</td><td style='border: 1px solid #dddddd'>0.2727</td><td style='border: 1px solid #dddddd'>37.94577720532095</td><td style='border: 1px solid #dddddd'>0.31019286302448973</td><td style='border: 1px solid #dddddd'>None</td><td style='border: 1px solid #dddddd'>0.3636</td></tr><tr><td style='border: 1px solid #dddddd'>0.4782608695652174</td><td style='border: 1px solid #dddddd'>0.1455</td><td style='border: 1px solid #dddddd'>[]</td><td style='border: 1px solid #dddddd'>MRM_dc8d12d4-964e-40b1-93ae-5414844c968d-13</td><td style='border: 1px solid #dddddd'>0.275</td><td style='border: 1px solid #dddddd'>feedback</td><td style='border: 1px solid #dddddd'>2025-03-05T10:54:33.967Z</td><td style='border: 1px solid #dddddd'>0.3976201090497583</td><td style='border: 1px solid #dddddd'>0.3158</td><td style='border: 1px solid #dddddd'>0.10210397094488144</td><td style='border: 1px solid #dddddd'>0.0</td><td style='border: 1px solid #dddddd'>0.3235294117647059</td><td style='border: 1px solid #dddddd'>None</td><td style='border: 1px solid #dddddd'>43df0056-393e-4a79-aef3-e19156698f64</td><td style='border: 1px solid #dddddd'>0.3859649122807018</td><td style='border: 1px solid #dddddd'>None</td><td style='border: 1px solid #dddddd'>0.3158</td><td style='border: 1px solid #dddddd'>40.662473714645216</td><td style='border: 1px solid #dddddd'>0.3018702723868621</td><td style='border: 1px solid #dddddd'>None</td><td style='border: 1px solid #dddddd'>0.386</td></tr><tr><td style='border: 1px solid #dddddd'>0.2</td><td style='border: 1px solid #dddddd'>0.1017</td><td style='border: 1px solid #dddddd'>[]</td><td style='border: 1px solid #dddddd'>MRM_dc8d12d4-964e-40b1-93ae-5414844c968d-14</td><td style='border: 1px solid #dddddd'>0.1951219512195122</td><td style='border: 1px solid #dddddd'>feedback</td><td style='border: 1px solid #dddddd'>2025-03-05T10:54:33.967Z</td><td style='border: 1px solid #dddddd'>0.16568241469816272</td><td style='border: 1px solid #dddddd'>0.2295</td><td style='border: 1px solid #dddddd'>0.047823887318372726</td><td style='border: 1px solid #dddddd'>0.0</td><td style='border: 1px solid #dddddd'>0.38095238095238093</td><td style='border: 1px solid #dddddd'>None</td><td style='border: 1px solid #dddddd'>43df0056-393e-4a79-aef3-e19156698f64</td><td style='border: 1px solid #dddddd'>0.2622950819672132</td><td style='border: 1px solid #dddddd'>None</td><td style='border: 1px solid #dddddd'>0.2295</td><td style='border: 1px solid #dddddd'>30.100809546192014</td><td style='border: 1px solid #dddddd'>0.2651015734590852</td><td style='border: 1px solid #dddddd'>None</td><td style='border: 1px solid #dddddd'>0.2623</td></tr><tr><td style='border: 1px solid #dddddd'>0.3333333333333333</td><td style='border: 1px solid #dddddd'>0.1667</td><td style='border: 1px solid #dddddd'>[]</td><td style='border: 1px solid #dddddd'>MRM_dc8d12d4-964e-40b1-93ae-5414844c968d-15</td><td style='border: 1px solid #dddddd'>0.21428571428571427</td><td style='border: 1px solid #dddddd'>feedback</td><td style='border: 1px solid #dddddd'>2025-03-05T10:54:33.967Z</td><td style='border: 1px solid #dddddd'>0.30702966648240276</td><td style='border: 1px solid #dddddd'>0.28</td><td style='border: 1px solid #dddddd'>0.023666013032197952</td><td style='border: 1px solid #dddddd'>0.0</td><td style='border: 1px solid #dddddd'>0.391304347826087</td><td style='border: 1px solid #dddddd'>None</td><td style='border: 1px solid #dddddd'>43df0056-393e-4a79-aef3-e19156698f64</td><td style='border: 1px solid #dddddd'>0.36</td><td style='border: 1px solid #dddddd'>None</td><td style='border: 1px solid #dddddd'>0.28</td><td style='border: 1px solid #dddddd'>35.2784149510787</td><td style='border: 1px solid #dddddd'>0.23244398764175528</td><td style='border: 1px solid #dddddd'>None</td><td style='border: 1px solid #dddddd'>0.36</td></tr><tr><td style='border: 1px solid #dddddd'>0.43902439024390244</td><td style='border: 1px solid #dddddd'>0.4062</td><td style='border: 1px solid #dddddd'>[]</td><td style='border: 1px solid #dddddd'>MRM_dc8d12d4-964e-40b1-93ae-5414844c968d-16</td><td style='border: 1px solid #dddddd'>0.40476190476190477</td><td style='border: 1px solid #dddddd'>feedback</td><td style='border: 1px solid #dddddd'>2025-03-05T10:54:33.967Z</td><td style='border: 1px solid #dddddd'>0.4367988970357837</td><td style='border: 1px solid #dddddd'>0.4545</td><td style='border: 1px solid #dddddd'>0.028214868158102036</td><td style='border: 1px solid #dddddd'>0.0</td><td style='border: 1px solid #dddddd'>0.72</td><td style='border: 1px solid #dddddd'>None</td><td style='border: 1px solid #dddddd'>43df0056-393e-4a79-aef3-e19156698f64</td><td style='border: 1px solid #dddddd'>0.5454545454545455</td><td style='border: 1px solid #dddddd'>None</td><td style='border: 1px solid #dddddd'>0.4545</td><td style='border: 1px solid #dddddd'>41.64958160752452</td><td style='border: 1px solid #dddddd'>0.4972134156783251</td><td style='border: 1px solid #dddddd'>None</td><td style='border: 1px solid #dddddd'>0.5455</td></tr><tr><td style='border: 1px solid #dddddd'>0.6666666666666666</td><td style='border: 1px solid #dddddd'>0.0952</td><td style='border: 1px solid #dddddd'>[]</td><td style='border: 1px solid #dddddd'>MRM_dc8d12d4-964e-40b1-93ae-5414844c968d-17</td><td style='border: 1px solid #dddddd'>0.22857142857142856</td><td style='border: 1px solid #dddddd'>feedback</td><td style='border: 1px solid #dddddd'>2025-03-05T10:54:33.967Z</td><td style='border: 1px solid #dddddd'>0.3746698943661972</td><td style='border: 1px solid #dddddd'>0.2727</td><td style='border: 1px solid #dddddd'>0.07447100430727005</td><td style='border: 1px solid #dddddd'>0.0</td><td style='border: 1px solid #dddddd'>0.25</td><td style='border: 1px solid #dddddd'>None</td><td style='border: 1px solid #dddddd'>43df0056-393e-4a79-aef3-e19156698f64</td><td style='border: 1px solid #dddddd'>0.36363636363636365</td><td style='border: 1px solid #dddddd'>None</td><td style='border: 1px solid #dddddd'>0.2727</td><td style='border: 1px solid #dddddd'>37.94577720532095</td><td style='border: 1px solid #dddddd'>0.31019286302448973</td><td style='border: 1px solid #dddddd'>None</td><td style='border: 1px solid #dddddd'>0.3636</td></tr>\n",
       "            </table>\n",
       "        </body>\n",
       "        </HTML>"
      ],
      "text/plain": [
       "<IPython.core.display.HTML object>"
      ]
     },
     "metadata": {},
     "output_type": "display_data"
    }
   ],
   "source": [
    "wos_client.data_sets.show_records(data_set_id = genaiq_dataset_id)"
   ]
  },
  {
   "cell_type": "markdown",
   "metadata": {
    "id": "cb010532-ba3e-4e61-a28f-ecb69e3f53c8"
   },
   "source": [
    "Author: <a href=\"mailto:kshitij.g1@ibm.com\">Kshitij Gopali</a>"
   ]
  },
  {
   "cell_type": "markdown",
   "metadata": {
    "id": "48ec96f2-55ab-4435-bb06-681a8b27aa90"
   },
   "source": [
    "Copyright © 2025 IBM."
   ]
  }
 ],
 "metadata": {
  "kernelspec": {
   "display_name": "Python 3.11",
   "language": "python",
   "name": "python3"
  },
  "language_info": {
   "codemirror_mode": {
    "name": "ipython",
    "version": 3
   },
   "file_extension": ".py",
   "mimetype": "text/x-python",
   "name": "python",
   "nbconvert_exporter": "python",
   "pygments_lexer": "ipython3",
   "version": "3.11.9"
  }
 },
 "nbformat": 4,
 "nbformat_minor": 4
}
