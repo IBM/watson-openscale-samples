{
 "cells": [
  {
   "cell_type": "markdown",
   "metadata": {
    "id": "af3fa5a9-d008-46db-8f13-d61fcd8cc6d3"
   },
   "source": [
    "# Runtime notebook for Multi Lingual support of Generative AI Quality metrics for IBM watsonx.governance"
   ]
  },
  {
   "cell_type": "markdown",
   "metadata": {
    "id": "2b0f3c66-efa4-4c8e-845b-34980546325b"
   },
   "source": [
    "This notebook demonstrates the Generative AI Quality monitor's runtime metric results for a summarization prompt task type in Japanese. You can also view the multi-lingual design time notebook [here](https://github.com/IBM/watson-openscale-samples/blob/main/WatsonX.Governance/Cloud/GenAI/samples/Multi%20Lingual%20Support%20Notebook.ipynb)"
   ]
  },
  {
   "cell_type": "markdown",
   "metadata": {
    "id": "26b7d8e1-db3f-4160-a6ee-3ed530642f15"
   },
   "source": [
    "The metrics computed which support multiple languages across the various task types are :\n",
    "- Summarization:\n",
    "    - Rouge Score\n",
    "    - Cosine Similarity\n",
    "\t- Jaccard Similarity\n",
    "    - Normalized Precision\n",
    "    - Normalized Recall\n",
    "    - Normalized F1 Score\n",
    "\t- Sari\n",
    "\t- Meteor\n",
    "    - HAP Score\n",
    "    - PII\n",
    "- Generation:\n",
    "    - Rouge Score\n",
    "    - Normalized Precision\n",
    "    - Normalized Recall\n",
    "    - Normalized F1 Score\n",
    "\t- Meteor\n",
    "    - HAP Score\n",
    "    - PII\n",
    "- Extraction:\n",
    "    - Exact Match\n",
    "    - Rouge Score\n",
    "- Question Answering(QA):\n",
    "    - Exact Match\n",
    "    - Rouge Score\n",
    "    - HAP Score\n",
    "    - PII\n",
    "- Retrieval Augmented Generation(RAG)\n",
    "    - Rouge Score\n",
    "    - Exact Match\n",
    "    - HAP Score\n",
    "    - PII"
   ]
  },
  {
   "cell_type": "markdown",
   "metadata": {
    "id": "164a6bcd-cd14-4bb5-9f06-d07d20385222"
   },
   "source": [
    "**Note** : \n",
    "- The below given example is specific to the Japanese language.\n",
    "- The current preferred method for calculating these metrics is when the prompt instruction, input data, and generated text are all in the same language. In other situations, the values will still be generated, but they may not be accurate."
   ]
  },
  {
   "cell_type": "markdown",
   "metadata": {
    "id": "453cd5bc-1792-4746-a05d-9b308e4ab7da"
   },
   "source": [
    "The following is a list of supported languages together with the corresponding language code:\n",
    "- English : en\n",
    "- Japanese : ja\n",
    "- German : de\n",
    "- French : fr\n",
    "- Spanish : es\n",
    "- Arabic : ar\n",
    "- Italian : it\n",
    "- Portugese : pt\n",
    "- Korean : ko\n",
    "- Danish : da"
   ]
  },
  {
   "cell_type": "markdown",
   "metadata": {
    "id": "d7622088-c7d1-468a-8d27-5780459c4cc0"
   },
   "source": [
    "## Contents\n",
    "\n",
    "- [Step 1 - Setup](#setup)\n",
    "- [Step 2 - Create the Japanese summarization prompt template](#prompt)\n",
    "- [Step 3 - Trigger Prompt Setup](#ptatsetup)\n",
    "- [Step 4 - Run Risk evaluations for prompt template asset subscription](#evaluate)\n",
    "- [Step 5 - Display the Model Risk metrics](#mrmmetric)\n",
    "- [Step 6 - Display the Generative AI Quality metrics](#genaimetrics)"
   ]
  },
  {
   "cell_type": "markdown",
   "metadata": {
    "id": "71e90772-f63a-4ce9-a489-a7e92072701a"
   },
   "source": [
    "## Step 1 - Setup <a name=\"setup\"></a>"
   ]
  },
  {
   "cell_type": "code",
   "execution_count": 1,
   "metadata": {
    "id": "77177317-d556-4309-9a9b-2f95dbbd1118"
   },
   "outputs": [
    {
     "name": "stdout",
     "output_type": "stream",
     "text": [
      "Requirement already satisfied: certifi>=2017.4.17 in /opt/conda/envs/Python-RT24.1-Premium/lib/python3.11/site-packages (from requests<3.0,>=2.0->ibm_watson_openscale) (2025.1.31)\n",
      "Requirement already satisfied: six>=1.10.0 in /opt/conda/envs/Python-RT24.1-Premium/lib/python3.11/site-packages (from lomond->ibm-watsonx-ai) (1.16.0)\n"
     ]
    }
   ],
   "source": [
    "!pip install -U ibm_watson_openscale | tail -n 1\n",
    "!pip install --upgrade ibm-watsonx-ai | tail -n 1"
   ]
  },
  {
   "cell_type": "markdown",
   "metadata": {
    "id": "f6efe4d5-1a37-498f-a9b2-663e04dd287e"
   },
   "source": [
    "Note: you may need to restart the kernel to use updated packages."
   ]
  },
  {
   "cell_type": "code",
   "execution_count": 2,
   "metadata": {
    "id": "3edf046b-c73d-4553-8b82-df6e72063a92"
   },
   "outputs": [],
   "source": [
    "import warnings\n",
    "warnings.filterwarnings('ignore')"
   ]
  },
  {
   "cell_type": "markdown",
   "metadata": {
    "id": "bc3a6ad1-bb01-488f-b952-960eafb80f75"
   },
   "source": [
    "### Provision services and configure credentials"
   ]
  },
  {
   "cell_type": "markdown",
   "metadata": {
    "id": "927f92fd-d801-462a-8b25-9406726a193b"
   },
   "source": [
    "If you have not already, provision an instance of IBM watsonx.governance using the [watsonx.governance link in the Cloud catalog](https://cloud.ibm.com/catalog/services/watsonxgovernance)."
   ]
  },
  {
   "cell_type": "code",
   "execution_count": null,
   "metadata": {
    "id": "e0f708b5-fa81-4962-995f-7265ce77784d"
   },
   "outputs": [],
   "source": [
    "use_cpd = False\n",
    "IAM_URL=\"https://iam.cloud.ibm.com\"\n",
    "DATAPLATFORM_URL = \"https://api.dataplatform.cloud.ibm.com\"\n",
    "SERVICE_URL = \"https://aiopenscale.cloud.ibm.com\"\n",
    "CLOUD_API_KEY = \"<EDIT THIS>\" # YOUR_CLOUD_API_KEY\n",
    "\n",
    "\n",
    "WML_CREDENTIALS = {\n",
    "\t\"url\": \"https://us-south.ml.cloud.ibm.com\",\n",
    "\t\"apikey\": CLOUD_API_KEY\n",
    "}"
   ]
  },
  {
   "cell_type": "markdown",
   "metadata": {
    "id": "4572c45e-34ab-4ccf-8f8e-45d2f80307bd"
   },
   "source": [
    "Uncomment the code and run the below cell only if you are running your notebook on a CPD cluster."
   ]
  },
  {
   "cell_type": "code",
   "execution_count": 3,
   "metadata": {
    "id": "163f4c9c-a103-4675-848f-1b275806cf85"
   },
   "outputs": [],
   "source": [
    "# use_cpd = True\n",
    "# WOS_CREDENTIALS = {\n",
    "#     \"url\": \"xxxxx\",\n",
    "#     \"username\": \"xxxxx\",\n",
    "#     \"password\": \"xxxxx\"\n",
    "# }\n",
    "\n",
    "# WML_CREDENTIALS = {\n",
    "# \t\"url\": \"<EDIT THIS>\",\n",
    "# \t\"username\": \"<EDIT THIS>\",\n",
    "# \t\"password\" : \"<EDIT THIS>\",\n",
    "# \t\"instance_id\": \"<EDIT THIS>\",\n",
    "# \t\"apikey\": \"<EDIT THIS>\",\n",
    "# \t\"version\" : \"5.2\" #If your env is CP4D 5.x.x then specify \"5.x.x\" instead of \"5.2\"\n",
    "# }"
   ]
  },
  {
   "cell_type": "markdown",
   "metadata": {
    "id": "2973c2ef-d94b-40c8-bec7-b3ee33075151"
   },
   "source": [
    "## Read project id from user"
   ]
  },
  {
   "cell_type": "markdown",
   "metadata": {
    "id": "f9012822-3d57-45a2-810c-13dd28cc594e"
   },
   "source": [
    "In order to set up a development type subscription, the PTA must be within the project. Please supply the project ID where the PTA needs to be created."
   ]
  },
  {
   "cell_type": "code",
   "execution_count": 4,
   "metadata": {
    "id": "c1230a4a-0420-408c-82ea-072bdb379c4f"
   },
   "outputs": [],
   "source": [
    "project_id = \"<EDIT THIS>\" # YOUR_PROJECT_ID"
   ]
  },
  {
   "cell_type": "markdown",
   "metadata": {
    "id": "8007efd1-9511-4876-870d-317193a3b45b"
   },
   "source": [
    "## Step 2 - Create Prompt template <a name=\"prompt\"></a>"
   ]
  },
  {
   "cell_type": "markdown",
   "metadata": {
    "id": "9d55af6a-f517-427f-8ed8-a677d9f2c3a9"
   },
   "source": [
    "Create a prompt template for summarization task in Japanese"
   ]
  },
  {
   "cell_type": "code",
   "execution_count": 5,
   "metadata": {
    "id": "d9cf4f0f-8177-4c30-8cb6-2d271ffb95cf"
   },
   "outputs": [],
   "source": [
    "if not use_cpd:\n",
    "    credentials={\n",
    "        \"apikey\": CLOUD_API_KEY,\n",
    "        \"url\": \"https://us-south.ml.cloud.ibm.com\"\n",
    "    }\n",
    "else:\n",
    "\tcredentials={\n",
    "\t\t\"apikey\": WML_CREDENTIALS[\"apikey\"],\n",
    "\t\t\"url\": WML_CREDENTIALS[\"url\"],\n",
    "\t\t\"instance_id\": \"openshift\",\n",
    "\t\t\"username\": WML_CREDENTIALS[\"username\"]\n",
    "\t}"
   ]
  },
  {
   "cell_type": "code",
   "execution_count": null,
   "metadata": {
    "id": "5e7b84d4-9b9a-43e4-8ea4-ee5a31433f89"
   },
   "outputs": [
    {
     "data": {
      "text/plain": [
       "'c594bd74-1ece-486e-904e-0799ae54666e'"
      ]
     },
     "execution_count": 6,
     "metadata": {},
     "output_type": "execute_result"
    }
   ],
   "source": [
    "from ibm_watsonx_ai.foundation_models.prompts import PromptTemplate, PromptTemplateManager\n",
    "from ibm_watsonx_ai.foundation_models.utils.enums import ModelTypes\n",
    "\n",
    "prompt_mgr = PromptTemplateManager(\n",
    "\tcredentials = credentials,\n",
    "\tproject_id = project_id\n",
    ")\n",
    "\n",
    "prompt_template = PromptTemplate(name=\"MLS_Car_Insurance_Summarization_Ja_Demo\",\n",
    "                                 model_id=ModelTypes.GRANITE_13B_INSTRUCT_V2,   # For CPD you can use 'ModelTypes.FLAN_UL2'\n",
    "                                 task_ids=[\"summarization\"],\n",
    "                                 instruction=\"以下の保険請求を最大 3 文で要約してください\",\n",
    "                                 input_text=\"{input_text}\",\n",
    "                                 input_variables=['input_text'],\n",
    "                                 examples = [\n",
    "\t\t\t\t\t\t\t\t\t\t[\n",
    "                                            \"２０２３年１１月１日午前１１時、私の車両「日産　マキシマ　１９９８年式」は、ニューヨークで重大事故に遭いました。私の運転手は制限速度を守って走行していましたが、前の車が急停止したために前方から衝突しました。激しい衝撃により双方の車が大破し、私の運転手はすぐに救急に連絡をして、その場で応急処置を受けました。私の車両は前のバンパー、ボンネット、フロントガラスに損傷を受けました。私の運転手は重傷を負い、現在治療を受けています。私はあなたの代理人にただちに連絡し、事故の詳細と警察の報告書、医療診察書を添えて請求書を提出しました。また目撃者の供述書と破損した車両の写真も提出します。\",\n",
    "\t\t\t\t\t\t\t\t\t\t\"私の車両はニューヨークで重大事故に遭いました。私の運転手は重傷を負い、現在治療を受けています。\"\n",
    "\t\t\t\t\t\t\t\t\t\t]\n",
    "                                \t]\n",
    "                                )\n",
    "\n",
    "stored_prompt_template = prompt_mgr.store_prompt(prompt_template)\n",
    "project_pta_id = stored_prompt_template.prompt_id\n",
    "project_pta_id"
   ]
  },
  {
   "cell_type": "markdown",
   "metadata": {
    "id": "021351cf-f8e3-43b7-b810-f389b39da883"
   },
   "source": [
    "## Step 3 - Trigger Prompt setup <a name=\"ptatsetup\"></a>"
   ]
  },
  {
   "cell_type": "markdown",
   "metadata": {
    "id": "8f99bed6-1d16-44b1-b3d4-398d39d62196"
   },
   "source": [
    "### Configure OpenScale client"
   ]
  },
  {
   "cell_type": "code",
   "execution_count": 7,
   "metadata": {
    "id": "d5691790-1964-490e-b830-e56b3d754524"
   },
   "outputs": [
    {
     "name": "stdout",
     "output_type": "stream",
     "text": [
      "3.0.45\n"
     ]
    }
   ],
   "source": [
    "from ibm_cloud_sdk_core.authenticators import IAMAuthenticator, CloudPakForDataAuthenticator\n",
    "\n",
    "from ibm_watson_openscale import *\n",
    "from ibm_watson_openscale.supporting_classes.enums import *\n",
    "from ibm_watson_openscale.supporting_classes import *\n",
    "\n",
    "if use_cpd:\n",
    "    authenticator = CloudPakForDataAuthenticator(\n",
    "            url=WOS_CREDENTIALS['url'],\n",
    "            username=WOS_CREDENTIALS['username'],\n",
    "            password=WOS_CREDENTIALS['password'],\n",
    "            disable_ssl_verification=True\n",
    "        )\n",
    "    \n",
    "    wos_client = APIClient(service_url=WOS_CREDENTIALS['url'],authenticator=authenticator)\n",
    "    print(wos_client.version)\n",
    "else:\n",
    "\tservice_instance_id = None # Update this to refer to a particular service instance\n",
    "\tauthenticator = IAMAuthenticator(apikey=CLOUD_API_KEY, url = IAM_URL)\n",
    "\twos_client = APIClient(authenticator=authenticator, service_url = SERVICE_URL, service_instance_id = service_instance_id)\n",
    "\tprint(wos_client.version)"
   ]
  },
  {
   "cell_type": "markdown",
   "metadata": {
    "id": "ec6bc865-a823-4a34-8bea-47d63c1d8e50"
   },
   "source": [
    "### Listing all the available datamarts"
   ]
  },
  {
   "cell_type": "code",
   "execution_count": 6,
   "metadata": {
    "id": "5ae80f56-92a5-4428-981f-121c93eb3abb"
   },
   "outputs": [
    {
     "data": {
      "text/html": [
       "<HTML>\n",
       "        <body>\n",
       "            <h3>Data Marts</h3>\n",
       "            <table style='border: 1px solid #dddddd; font-family: Courier'>\n",
       "                <th style='border: 1px solid #dddddd'>name</th><th style='border: 1px solid #dddddd'>description</th><th style='border: 1px solid #dddddd'>internal_database</th><th style='border: 1px solid #dddddd'>status</th><th style='border: 1px solid #dddddd'>created_at</th><th style='border: 1px solid #dddddd'>id</th>\n",
       "                <tr><td style='border: 1px solid #dddddd'>AIOSFASTPATH-16F11000-6E49-483C-8D97-AD853415ED8D</td><td style='border: 1px solid #dddddd'>None</td><td style='border: 1px solid #dddddd'>True</td><td style='border: 1px solid #dddddd'>active</td><td style='border: 1px solid #dddddd'>2025-02-11 13:47:30.138000+00:00</td><td style='border: 1px solid #dddddd'>16f11000-6e49-483c-8d97-ad853415ed8d</td></tr>\n",
       "            </table>\n",
       "        </body>\n",
       "        </HTML>"
      ],
      "text/plain": [
       "<IPython.core.display.HTML object>"
      ]
     },
     "metadata": {},
     "output_type": "display_data"
    }
   ],
   "source": [
    "wos_client.data_marts.show()"
   ]
  },
  {
   "cell_type": "code",
   "execution_count": 9,
   "metadata": {
    "id": "b65d4a7f-fdb0-4753-81d6-f3b9ca3514ba"
   },
   "outputs": [],
   "source": [
    "data_mart_id = \"<EDIT THIS>\" # YOUR_DATAMART_ID"
   ]
  },
  {
   "cell_type": "markdown",
   "metadata": {
    "id": "37059398-8799-494e-a060-f107e4e70cbb"
   },
   "source": [
    "### Openscale instance mapping with the project"
   ]
  },
  {
   "cell_type": "markdown",
   "metadata": {
    "id": "3290bc2c-4144-420c-95bc-1d77c055ae04"
   },
   "source": [
    "When the authentication is on CPD then we need to add additional step of mapping the `project_id/space_id` to an OpenScale instance."
   ]
  },
  {
   "cell_type": "code",
   "execution_count": 15,
   "metadata": {
    "id": "39e63d50-b8a8-4934-9422-c383f0bfabd2"
   },
   "outputs": [],
   "source": [
    "if use_cpd:\n",
    "    wos_client.wos.add_instance_mapping(                \n",
    "\t\tservice_instance_id=data_mart_id,\n",
    "\t\tproject_id=project_id\n",
    "\t)"
   ]
  },
  {
   "cell_type": "markdown",
   "metadata": {
    "id": "b598b491-0748-41ea-bbb8-8e220a077e7a"
   },
   "source": [
    "### Setup the prompt template asset in project for evaluation with supported monitor dimensions"
   ]
  },
  {
   "cell_type": "markdown",
   "metadata": {
    "id": "98f59fb2-c51f-4e11-92f3-35418ada188e"
   },
   "source": [
    "The prompt template assets from project is only supported with `development` operational space ID. Running the below cell will create a development type subscription from the prompt template asset created within the project.\n",
    "\n",
    "The available parameters that can be passed for `execute_prompt_setup` function are:\n",
    "\n",
    " * `prompt_template_asset_id` : Id of prompt template asset for which subscription needs to be created.\n",
    " * `label_column` :  The name of the column containing the ground truth or actual labels.\n",
    " * `project_id` : The GUID of the project.\n",
    " * `space_id` : The GUID of the space.\n",
    " * `deployment_id` : (optional) The GUID of the deployment.\n",
    " * `operational_space_id` : The rank of the environment in which the monitoring is happening. Accepted values are `development`, `pre_production`, `production`.\n",
    " * `problem_type` : (optional) The task type to monitor for the given prompt template asset.\n",
    " * `classification_type` : The classification type `binary`/`multiclass` applicable only for `classification` problem (task) type.\n",
    " * `input_data_type` : The input data type.\n",
    " * `supporting_monitors` : Monitor configuration for the subscription to be created.\n",
    " * `data_input_locale` : List containing locale codes of the input data provided.\n",
    " * `generated_output_locale` : List containing locale codes of the generated output data.\n",
    " * `background_mode` : When `True`, the promt setup operation will be executed in the background"
   ]
  },
  {
   "cell_type": "markdown",
   "metadata": {
    "id": "a6a14c5a-08ba-4dab-9288-838d82c62454"
   },
   "source": [
    "**Note** : \n",
    "- The below given example is specific to the Japanese language.\n",
    "- The support right now is only present when the prompt instruction, input data and the generated text all are in the same language\n",
    "- The values for `data_input_locale` and `generated_output_locale` are immutable fields and currently support only a single langauge"
   ]
  },
  {
   "cell_type": "code",
   "execution_count": 10,
   "metadata": {
    "id": "67ea62f3-d906-409f-8b39-6acdeb5b625d"
   },
   "outputs": [
    {
     "name": "stdout",
     "output_type": "stream",
     "text": [
      "\n",
      "\n",
      "=============================================================================\n",
      "\n",
      " Waiting for end of adding prompt setup c594bd74-1ece-486e-904e-0799ae54666e \n",
      "\n",
      "=============================================================================\n",
      "\n",
      "\n",
      "\n",
      "running...\n",
      "finished\n",
      "\n",
      "---------------------------------------------------------------\n",
      " Successfully finished setting up prompt template subscription \n",
      "---------------------------------------------------------------\n",
      "\n",
      "\n"
     ]
    },
    {
     "data": {
      "text/plain": [
       "{'prompt_template_asset_id': 'c594bd74-1ece-486e-904e-0799ae54666e',\n",
       " 'project_id': '80ef74dd-3845-4dfb-8cad-06de6c144988',\n",
       " 'deployment_id': 'b1e1cd4f-c8c5-4ad8-ab2d-b2f44686fe6c',\n",
       " 'service_provider_id': '01963a2f-7c9f-797d-a741-0b916dc2974d',\n",
       " 'subscription_id': '01963a41-bdd1-74b8-9aa9-4d638964a180',\n",
       " 'mrm_monitor_instance_id': '01963a41-f646-7bcb-9be4-12011305cee9',\n",
       " 'start_time': '2025-04-15T16:21:45.043873Z',\n",
       " 'end_time': '2025-04-15T16:22:12.726177Z',\n",
       " 'status': {'state': 'FINISHED'}}"
      ]
     },
     "execution_count": 10,
     "metadata": {},
     "output_type": "execute_result"
    }
   ],
   "source": [
    "label_column = \"reference_summary\"\n",
    "operational_space_id = \"development\"\n",
    "problem_type= \"summarization\"\n",
    "input_data_type= \"unstructured_text\"\n",
    "language_code = \"ja\" # Update this to calculate metrics for another language\n",
    "\n",
    "monitors = {\n",
    "    \"generative_ai_quality\": {\n",
    "        \"parameters\": {\n",
    "            \"min_sample_size\": 10,\n",
    "            \"metrics_configuration\": {\n",
    "                \"rouge_score\": {},\n",
    "                \"normalized_precision\": {},\n",
    "                \"normalized_f1\": {},\n",
    "                \"normalized_recall\": {},\n",
    "                \"cosine_similarity\": {},\n",
    "                \"jaccard_similarity\": {},\n",
    "                \"sari\": {},\n",
    "                \"meteor\": {},\n",
    "                \"hap_score\": {},\n",
    "                \"pii\": {\n",
    "                    \"language_code\" : language_code\n",
    "                }\n",
    "            }\n",
    "        }\n",
    "    }\n",
    "}\n",
    "\n",
    "response = wos_client.wos.execute_prompt_setup(\n",
    "    prompt_template_asset_id = project_pta_id,\n",
    "\tproject_id = project_id,\n",
    "\tlabel_column = label_column,\n",
    "\toperational_space_id = operational_space_id,\n",
    "\tproblem_type = problem_type,\n",
    "\tinput_data_type = input_data_type,\n",
    "\tsupporting_monitors = monitors,\n",
    "    data_input_locale = [language_code],\n",
    "    generated_output_locale = [language_code],\n",
    "\tbackground_mode = False\n",
    ")\n",
    "\n",
    "result = response.result\n",
    "result._to_dict()"
   ]
  },
  {
   "cell_type": "markdown",
   "metadata": {
    "id": "287422ea-b1ba-407f-9d91-6dc2d20029ce"
   },
   "source": [
    "With the below cell, users can  read the  prompt setup task and check its status"
   ]
  },
  {
   "cell_type": "code",
   "execution_count": 11,
   "metadata": {
    "id": "65e3b0d0-cc69-4524-9e0a-5dda4a2ba1a2"
   },
   "outputs": [
    {
     "name": "stdout",
     "output_type": "stream",
     "text": [
      "Finished prompt setup : The response is {'prompt_template_asset_id': 'c594bd74-1ece-486e-904e-0799ae54666e', 'project_id': '80ef74dd-3845-4dfb-8cad-06de6c144988', 'deployment_id': 'b1e1cd4f-c8c5-4ad8-ab2d-b2f44686fe6c', 'service_provider_id': '01963a2f-7c9f-797d-a741-0b916dc2974d', 'subscription_id': '01963a41-bdd1-74b8-9aa9-4d638964a180', 'mrm_monitor_instance_id': '01963a41-f646-7bcb-9be4-12011305cee9', 'start_time': '2025-04-15T16:21:45.043873Z', 'end_time': '2025-04-15T16:22:12.726177Z', 'status': {'state': 'FINISHED'}}\n"
     ]
    }
   ],
   "source": [
    "response = wos_client.wos.get_prompt_setup(prompt_template_asset_id = project_pta_id,\n",
    "                                                             project_id = project_id)\n",
    "\n",
    "result = response.result\n",
    "result_json = result._to_dict()\n",
    "\n",
    "if result_json[\"status\"][\"state\"] == \"FINISHED\":\n",
    "    print(\"Finished prompt setup : The response is {}\".format(result_json))\n",
    "else:\n",
    "    print(\"prompt setup failed The response is {}\".format(result_json))"
   ]
  },
  {
   "cell_type": "markdown",
   "metadata": {
    "id": "cbd1589b-6142-4649-85ad-0a2ca34545e8"
   },
   "source": [
    "### Read subscription id from prompt setup"
   ]
  },
  {
   "cell_type": "markdown",
   "metadata": {
    "id": "b6bafa89-306f-4c22-84fd-12e4492f0eaa"
   },
   "source": [
    "Once prompt setup status is finished, Read the subscription id from it."
   ]
  },
  {
   "cell_type": "code",
   "execution_count": 12,
   "metadata": {
    "id": "bddb042a-531c-48c3-9a04-805415834535"
   },
   "outputs": [
    {
     "data": {
      "text/plain": [
       "'01963a41-bdd1-74b8-9aa9-4d638964a180'"
      ]
     },
     "execution_count": 12,
     "metadata": {},
     "output_type": "execute_result"
    }
   ],
   "source": [
    "dev_subscription_id = result_json[\"subscription_id\"]\n",
    "dev_subscription_id"
   ]
  },
  {
   "cell_type": "markdown",
   "metadata": {
    "id": "de28249b-7a38-469e-a68a-08f5bea18933"
   },
   "source": [
    "# Risk evaluations for PTA subscription <a name=\"evaluate\"></a>"
   ]
  },
  {
   "cell_type": "markdown",
   "metadata": {
    "id": "14d02b8e-f8c9-49ba-8dd9-737588028bc0"
   },
   "source": [
    "### Evaluate the prompt template subscription\n",
    "\n",
    "For the risk assessment of a development type subscription the user needs to have an evaluation dataset. The risk evaluation function takes the evaluation dataset path as a parameter for evaluation of the configured metric dimensions. If there is a discrepancy between the feature columns in the subscription and the column names in the uploading CSV, users has the option to supply a mapping JSON file to associate the CSV column names with the feature column names in the subscription.\n",
    "\n",
    "\n",
    "**Note:** If you are running this notebook from Watson studio, you may first need to upload your test data to studio and run code snippet to download feedback data file from project to local directory"
   ]
  },
  {
   "cell_type": "code",
   "execution_count": 13,
   "metadata": {
    "id": "0b8da149-0957-4d34-8c76-2c3b150da43a"
   },
   "outputs": [
    {
     "name": "stdout",
     "output_type": "stream",
     "text": [
      "--2025-04-15 16:22:19--  https://raw.githubusercontent.com/IBM/watson-openscale-samples/refs/heads/main/IBM%20Cloud/WML/assets/data/watsonx/Multi_Lingual_Support/llm_content_summarization_ja.csv\n",
      "Resolving raw.githubusercontent.com (raw.githubusercontent.com)... 185.199.110.133, 185.199.109.133, 185.199.108.133, ...\n",
      "Connecting to raw.githubusercontent.com (raw.githubusercontent.com)|185.199.110.133|:443... connected.\n",
      "HTTP request sent, awaiting response... 200 OK\n",
      "Length: 26758 (26K) [text/plain]\n",
      "Saving to: ‘llm_content_summarization_ja.csv’\n",
      "\n",
      "llm_content_summari 100%[===================>]  26.13K  --.-KB/s    in 0.02s   \n",
      "\n",
      "2025-04-15 16:22:19 (1.43 MB/s) - ‘llm_content_summarization_ja.csv’ saved [26758/26758]\n",
      "\n"
     ]
    }
   ],
   "source": [
    "# Download summarisation data\n",
    "filename = \"llm_content_summarization_ja.csv\"\n",
    "!rm -fr \"llm_content_summarization_ja.csv\"\n",
    "!wget \"https://raw.githubusercontent.com/IBM/watson-openscale-samples/refs/heads/main/IBM%20Cloud/WML/assets/data/watsonx/Multi_Lingual_Support/llm_content_summarization_ja.csv\""
   ]
  },
  {
   "cell_type": "markdown",
   "metadata": {
    "id": "fcefa326-bdaa-47e4-a83b-5156957a90c4"
   },
   "source": [
    "Rename the generated predictions column to `generated_text` to avoid scoring since the prompt is in Japanese and we would need a Foundational model which supports Japanese"
   ]
  },
  {
   "cell_type": "code",
   "execution_count": 14,
   "metadata": {
    "id": "8669e359-248c-43ad-adb4-adc19800e1c1"
   },
   "outputs": [],
   "source": [
    "import pandas as pd\n",
    "\n",
    "df = pd.read_csv(filename)\n",
    "df = df.rename(columns={'generated_predictions': 'generated_text'})\n",
    "new_summarization_filename = \"new_summarization_data_ja.csv\"\n",
    "df.to_csv(new_summarization_filename, index=False)\n",
    "test_data_path = new_summarization_filename"
   ]
  },
  {
   "cell_type": "markdown",
   "metadata": {
    "id": "2e948aeb-633f-43db-9a5a-336d6d31f7de"
   },
   "source": [
    "### Read the MRM monitor instance id\n",
    "\n",
    "Evaluating the test data against the prompt template subscription requires the monitor instance ID of MRM."
   ]
  },
  {
   "cell_type": "code",
   "execution_count": 15,
   "metadata": {
    "id": "15194763-3dcf-485a-b2dd-e3b542eef50f"
   },
   "outputs": [
    {
     "data": {
      "text/plain": [
       "'01963a41-f646-7bcb-9be4-12011305cee9'"
      ]
     },
     "execution_count": 15,
     "metadata": {},
     "output_type": "execute_result"
    }
   ],
   "source": [
    "monitor_definition_id = \"mrm\"\n",
    "target_target_id = dev_subscription_id\n",
    "result = wos_client.monitor_instances.list(data_mart_id=data_mart_id,\n",
    "                                           monitor_definition_id=monitor_definition_id,\n",
    "                                           target_target_id=target_target_id,\n",
    "                                           project_id=project_id).result\n",
    "result_json = result._to_dict()\n",
    "mrm_monitor_id = result_json[\"monitor_instances\"][0][\"metadata\"][\"id\"]\n",
    "mrm_monitor_id"
   ]
  },
  {
   "cell_type": "markdown",
   "metadata": {
    "id": "97646d25-9955-447e-a0d4-5cb482ddb1f2"
   },
   "source": [
    "The following cell will assess the test data with the subscription of the prompt template asset and produce relevant measurements for the configured monitor."
   ]
  },
  {
   "cell_type": "code",
   "execution_count": 16,
   "metadata": {
    "id": "b64a516c-8981-45b7-ac53-0106ddd491ac"
   },
   "outputs": [
    {
     "name": "stdout",
     "output_type": "stream",
     "text": [
      "\n",
      "\n",
      "=================================================================================\n",
      "\n",
      " Waiting for risk evaluation of MRM monitor 01963a41-f646-7bcb-9be4-12011305cee9 \n",
      "\n",
      "=================================================================================\n",
      "\n",
      "\n",
      "\n",
      "upload_in_progress.\n",
      "running......\n",
      "finished\n",
      "\n",
      "---------------------------------------\n",
      " Successfully finished evaluating risk \n",
      "---------------------------------------\n",
      "\n",
      "\n"
     ]
    }
   ],
   "source": [
    "test_data_set_name = \"data\"\n",
    "content_type = \"multipart/form-data\"\n",
    "\n",
    "response  = wos_client.monitor_instances.mrm.evaluate_risk(monitor_instance_id=mrm_monitor_id, \n",
    "                                                    test_data_set_name = test_data_set_name, \n",
    "                                                    test_data_path = test_data_path,\n",
    "                                                    content_type = content_type,\n",
    "                                                    body = None,\n",
    "                                                    includes_model_output=True,\n",
    "                                                    project_id = project_id,\n",
    "                                                    background_mode = False)"
   ]
  },
  {
   "cell_type": "markdown",
   "metadata": {
    "id": "9cbd0fb8-ddf7-4812-ae7d-d9de1e72fd0a"
   },
   "source": [
    "### Read the risk evaluation response\n",
    "\n",
    "After initiating the risk evaluation, the evaluation results are now available for review"
   ]
  },
  {
   "cell_type": "code",
   "execution_count": 17,
   "metadata": {
    "id": "35a26665-7d63-49db-bba7-2ec7abb2b813"
   },
   "outputs": [
    {
     "data": {
      "text/plain": [
       "{'metadata': {'id': '21278e36-0be0-4cc2-bd51-136ecca1b2d2',\n",
       "  'created_at': '2025-04-15T16:23:07.541Z',\n",
       "  'created_by': 'internal-service'},\n",
       " 'entity': {'triggered_by': 'user',\n",
       "  'parameters': {'evaluation_start_time': '2025-04-15T16:22:48.425253Z',\n",
       "   'evaluator_user_key': '3ab3c4dc-299c-4c84-9448-0f6f1118cf58',\n",
       "   'facts': {'state': 'finished'},\n",
       "   'is_auto_evaluated': False,\n",
       "   'measurement_id': '01963a42-f0c9-786a-ac83-5d26a6e4c10b',\n",
       "   'monitors_run_status': [{'monitor_id': 'generative_ai_quality',\n",
       "     'status': {'state': 'finished'}},\n",
       "    {'monitor_id': 'model_health', 'status': {'state': 'finished'}}],\n",
       "   'project_id': '80ef74dd-3845-4dfb-8cad-06de6c144988',\n",
       "   'prompt_template_asset_id': 'c594bd74-1ece-486e-904e-0799ae54666e',\n",
       "   'user_iam_id': '1000331001',\n",
       "   'wos_created_deployment_id': 'b1e1cd4f-c8c5-4ad8-ab2d-b2f44686fe6c',\n",
       "   'publish_metrics': 'false',\n",
       "   'evaluation_tests': ['drift_v2',\n",
       "    'fairness',\n",
       "    'generative_ai_quality',\n",
       "    'model_health',\n",
       "    'quality']},\n",
       "  'status': {'state': 'finished',\n",
       "   'queued_at': '2025-04-15T16:23:07.534000Z',\n",
       "   'started_at': '2025-04-15T16:23:11.939000Z',\n",
       "   'updated_at': '2025-04-15T16:24:22.836000Z',\n",
       "   'completed_at': '2025-04-15T16:24:17.960000Z',\n",
       "   'message': 'Mrm evaluation complete.',\n",
       "   'operators': []}}}"
      ]
     },
     "execution_count": 17,
     "metadata": {},
     "output_type": "execute_result"
    }
   ],
   "source": [
    "response  = wos_client.monitor_instances.mrm.get_risk_evaluation(mrm_monitor_id, project_id = project_id)\n",
    "response.result.to_dict()"
   ]
  },
  {
   "cell_type": "markdown",
   "metadata": {
    "id": "fc759308-3d1f-44bf-a70f-5b20d7af5889"
   },
   "source": [
    "# Display the Generative AI Quality metrics <a name=\"genaimetrics\"></a>"
   ]
  },
  {
   "cell_type": "markdown",
   "metadata": {
    "id": "215964cd-c525-4bb9-93bb-fea70c309afd"
   },
   "source": [
    "\n",
    "\n",
    "Monitor instance ID of Generative ai quality metrics is required for reading its metrics."
   ]
  },
  {
   "cell_type": "code",
   "execution_count": 18,
   "metadata": {
    "id": "6bebcc34-8cc5-48c9-8bb6-2d71cc8722a2"
   },
   "outputs": [
    {
     "data": {
      "text/plain": [
       "'01963a41-e774-720a-b301-8f6f8e2e91b4'"
      ]
     },
     "execution_count": 18,
     "metadata": {},
     "output_type": "execute_result"
    }
   ],
   "source": [
    "monitor_definition_id = \"generative_ai_quality\"\n",
    "result = wos_client.monitor_instances.list(data_mart_id = data_mart_id,\n",
    "                                           monitor_definition_id = monitor_definition_id,\n",
    "                                           target_target_id = target_target_id,\n",
    "                                           project_id = project_id).result\n",
    "result_json = result._to_dict()\n",
    "genaiquality_monitor_id = result_json[\"monitor_instances\"][0][\"metadata\"][\"id\"]\n",
    "genaiquality_monitor_id"
   ]
  },
  {
   "cell_type": "markdown",
   "metadata": {
    "id": "16f7f74f-70ae-48cb-9bf6-a151186e0ed1"
   },
   "source": [
    "Displaying the GenAIQ monitor metrics generated through the risk evaluation."
   ]
  },
  {
   "cell_type": "code",
   "execution_count": 19,
   "metadata": {
    "id": "d13fdccc-e32d-4bfe-bc1e-4c1dc56a5da0"
   },
   "outputs": [
    {
     "data": {
      "text/html": [
       "<HTML>\n",
       "        <body>\n",
       "            <h3>01963a41-e774-720a-b301-8f6f8e2e91b4 Monitor Runs Metrics from: 2025-04-08 16:24:29.058951  till: 2025-04-15 16:24:29.058971</h3>\n",
       "            <table style='border: 1px solid #dddddd; font-family: Courier'>\n",
       "                <th style='border: 1px solid #dddddd'>ts</th><th style='border: 1px solid #dddddd'>id</th><th style='border: 1px solid #dddddd'>measurement_id</th><th style='border: 1px solid #dddddd'>value</th><th style='border: 1px solid #dddddd'>lower_limit</th><th style='border: 1px solid #dddddd'>upper_limit</th><th style='border: 1px solid #dddddd'>tags</th><th style='border: 1px solid #dddddd'>monitor_definition_id</th><th style='border: 1px solid #dddddd'>monitor_instance_id</th><th style='border: 1px solid #dddddd'>run_id</th><th style='border: 1px solid #dddddd'>target_type</th><th style='border: 1px solid #dddddd'>target_id</th>\n",
       "                <tr><td style='border: 1px solid #dddddd'>2025-04-15 16:24:09.323434+00:00</td><td style='border: 1px solid #dddddd'>normalized_recall</td><td style='border: 1px solid #dddddd'>01963a43-e16b-74a8-99b2-ac706540bedd</td><td style='border: 1px solid #dddddd'>0.1613</td><td style='border: 1px solid #dddddd'>0.8</td><td style='border: 1px solid #dddddd'>None</td><td style='border: 1px solid #dddddd'>['computed_on:feedback', 'field_type:subscription', 'aggregation_type:min']</td><td style='border: 1px solid #dddddd'>generative_ai_quality</td><td style='border: 1px solid #dddddd'>01963a41-e774-720a-b301-8f6f8e2e91b4</td><td style='border: 1px solid #dddddd'>cd01eddf-be6b-4ef0-823e-3315c2cb5a49</td><td style='border: 1px solid #dddddd'>subscription</td><td style='border: 1px solid #dddddd'>01963a41-bdd1-74b8-9aa9-4d638964a180</td></tr><tr><td style='border: 1px solid #dddddd'>2025-04-15 16:24:09.323434+00:00</td><td style='border: 1px solid #dddddd'>rouge2</td><td style='border: 1px solid #dddddd'>01963a43-e16b-74a8-99b2-ac706540bedd</td><td style='border: 1px solid #dddddd'>0.0952</td><td style='border: 1px solid #dddddd'>0.8</td><td style='border: 1px solid #dddddd'>None</td><td style='border: 1px solid #dddddd'>['computed_on:feedback', 'field_type:subscription', 'aggregation_type:min']</td><td style='border: 1px solid #dddddd'>generative_ai_quality</td><td style='border: 1px solid #dddddd'>01963a41-e774-720a-b301-8f6f8e2e91b4</td><td style='border: 1px solid #dddddd'>cd01eddf-be6b-4ef0-823e-3315c2cb5a49</td><td style='border: 1px solid #dddddd'>subscription</td><td style='border: 1px solid #dddddd'>01963a41-bdd1-74b8-9aa9-4d638964a180</td></tr><tr><td style='border: 1px solid #dddddd'>2025-04-15 16:24:09.323434+00:00</td><td style='border: 1px solid #dddddd'>records_processed</td><td style='border: 1px solid #dddddd'>01963a43-e16b-74a8-99b2-ac706540bedd</td><td style='border: 1px solid #dddddd'>20.0</td><td style='border: 1px solid #dddddd'>None</td><td style='border: 1px solid #dddddd'>None</td><td style='border: 1px solid #dddddd'>['computed_on:feedback', 'field_type:subscription', 'aggregation_type:min']</td><td style='border: 1px solid #dddddd'>generative_ai_quality</td><td style='border: 1px solid #dddddd'>01963a41-e774-720a-b301-8f6f8e2e91b4</td><td style='border: 1px solid #dddddd'>cd01eddf-be6b-4ef0-823e-3315c2cb5a49</td><td style='border: 1px solid #dddddd'>subscription</td><td style='border: 1px solid #dddddd'>01963a41-bdd1-74b8-9aa9-4d638964a180</td></tr><tr><td style='border: 1px solid #dddddd'>2025-04-15 16:24:09.323434+00:00</td><td style='border: 1px solid #dddddd'>jaccard_similarity</td><td style='border: 1px solid #dddddd'>01963a43-e16b-74a8-99b2-ac706540bedd</td><td style='border: 1px solid #dddddd'>0.1475</td><td style='border: 1px solid #dddddd'>0.8</td><td style='border: 1px solid #dddddd'>None</td><td style='border: 1px solid #dddddd'>['computed_on:feedback', 'field_type:subscription', 'aggregation_type:min']</td><td style='border: 1px solid #dddddd'>generative_ai_quality</td><td style='border: 1px solid #dddddd'>01963a41-e774-720a-b301-8f6f8e2e91b4</td><td style='border: 1px solid #dddddd'>cd01eddf-be6b-4ef0-823e-3315c2cb5a49</td><td style='border: 1px solid #dddddd'>subscription</td><td style='border: 1px solid #dddddd'>01963a41-bdd1-74b8-9aa9-4d638964a180</td></tr><tr><td style='border: 1px solid #dddddd'>2025-04-15 16:24:09.323434+00:00</td><td style='border: 1px solid #dddddd'>meteor</td><td style='border: 1px solid #dddddd'>01963a43-e16b-74a8-99b2-ac706540bedd</td><td style='border: 1px solid #dddddd'>0.0858</td><td style='border: 1px solid #dddddd'>0.8</td><td style='border: 1px solid #dddddd'>None</td><td style='border: 1px solid #dddddd'>['computed_on:feedback', 'field_type:subscription', 'aggregation_type:min']</td><td style='border: 1px solid #dddddd'>generative_ai_quality</td><td style='border: 1px solid #dddddd'>01963a41-e774-720a-b301-8f6f8e2e91b4</td><td style='border: 1px solid #dddddd'>cd01eddf-be6b-4ef0-823e-3315c2cb5a49</td><td style='border: 1px solid #dddddd'>subscription</td><td style='border: 1px solid #dddddd'>01963a41-bdd1-74b8-9aa9-4d638964a180</td></tr><tr><td style='border: 1px solid #dddddd'>2025-04-15 16:24:09.323434+00:00</td><td style='border: 1px solid #dddddd'>rougelsum</td><td style='border: 1px solid #dddddd'>01963a43-e16b-74a8-99b2-ac706540bedd</td><td style='border: 1px solid #dddddd'>0.1609</td><td style='border: 1px solid #dddddd'>0.8</td><td style='border: 1px solid #dddddd'>None</td><td style='border: 1px solid #dddddd'>['computed_on:feedback', 'field_type:subscription', 'aggregation_type:min']</td><td style='border: 1px solid #dddddd'>generative_ai_quality</td><td style='border: 1px solid #dddddd'>01963a41-e774-720a-b301-8f6f8e2e91b4</td><td style='border: 1px solid #dddddd'>cd01eddf-be6b-4ef0-823e-3315c2cb5a49</td><td style='border: 1px solid #dddddd'>subscription</td><td style='border: 1px solid #dddddd'>01963a41-bdd1-74b8-9aa9-4d638964a180</td></tr><tr><td style='border: 1px solid #dddddd'>2025-04-15 16:24:09.323434+00:00</td><td style='border: 1px solid #dddddd'>hap_score</td><td style='border: 1px solid #dddddd'>01963a43-e16b-74a8-99b2-ac706540bedd</td><td style='border: 1px solid #dddddd'>0.0237</td><td style='border: 1px solid #dddddd'>None</td><td style='border: 1px solid #dddddd'>0.0</td><td style='border: 1px solid #dddddd'>['computed_on:feedback', 'field_type:subscription', 'aggregation_type:min']</td><td style='border: 1px solid #dddddd'>generative_ai_quality</td><td style='border: 1px solid #dddddd'>01963a41-e774-720a-b301-8f6f8e2e91b4</td><td style='border: 1px solid #dddddd'>cd01eddf-be6b-4ef0-823e-3315c2cb5a49</td><td style='border: 1px solid #dddddd'>subscription</td><td style='border: 1px solid #dddddd'>01963a41-bdd1-74b8-9aa9-4d638964a180</td></tr><tr><td style='border: 1px solid #dddddd'>2025-04-15 16:24:09.323434+00:00</td><td style='border: 1px solid #dddddd'>pii</td><td style='border: 1px solid #dddddd'>01963a43-e16b-74a8-99b2-ac706540bedd</td><td style='border: 1px solid #dddddd'>0.0</td><td style='border: 1px solid #dddddd'>None</td><td style='border: 1px solid #dddddd'>0.0</td><td style='border: 1px solid #dddddd'>['computed_on:feedback', 'field_type:subscription', 'aggregation_type:min']</td><td style='border: 1px solid #dddddd'>generative_ai_quality</td><td style='border: 1px solid #dddddd'>01963a41-e774-720a-b301-8f6f8e2e91b4</td><td style='border: 1px solid #dddddd'>cd01eddf-be6b-4ef0-823e-3315c2cb5a49</td><td style='border: 1px solid #dddddd'>subscription</td><td style='border: 1px solid #dddddd'>01963a41-bdd1-74b8-9aa9-4d638964a180</td></tr><tr><td style='border: 1px solid #dddddd'>2025-04-15 16:24:09.323434+00:00</td><td style='border: 1px solid #dddddd'>normalized_precision</td><td style='border: 1px solid #dddddd'>01963a43-e16b-74a8-99b2-ac706540bedd</td><td style='border: 1px solid #dddddd'>0.2353</td><td style='border: 1px solid #dddddd'>0.8</td><td style='border: 1px solid #dddddd'>None</td><td style='border: 1px solid #dddddd'>['computed_on:feedback', 'field_type:subscription', 'aggregation_type:min']</td><td style='border: 1px solid #dddddd'>generative_ai_quality</td><td style='border: 1px solid #dddddd'>01963a41-e774-720a-b301-8f6f8e2e91b4</td><td style='border: 1px solid #dddddd'>cd01eddf-be6b-4ef0-823e-3315c2cb5a49</td><td style='border: 1px solid #dddddd'>subscription</td><td style='border: 1px solid #dddddd'>01963a41-bdd1-74b8-9aa9-4d638964a180</td></tr><tr><td style='border: 1px solid #dddddd'>2025-04-15 16:24:09.323434+00:00</td><td style='border: 1px solid #dddddd'>normalized_f1</td><td style='border: 1px solid #dddddd'>01963a43-e16b-74a8-99b2-ac706540bedd</td><td style='border: 1px solid #dddddd'>0.2299</td><td style='border: 1px solid #dddddd'>0.8</td><td style='border: 1px solid #dddddd'>None</td><td style='border: 1px solid #dddddd'>['computed_on:feedback', 'field_type:subscription', 'aggregation_type:min']</td><td style='border: 1px solid #dddddd'>generative_ai_quality</td><td style='border: 1px solid #dddddd'>01963a41-e774-720a-b301-8f6f8e2e91b4</td><td style='border: 1px solid #dddddd'>cd01eddf-be6b-4ef0-823e-3315c2cb5a49</td><td style='border: 1px solid #dddddd'>subscription</td><td style='border: 1px solid #dddddd'>01963a41-bdd1-74b8-9aa9-4d638964a180</td></tr>\n",
       "            </table>\n",
       "        </body>\n",
       "        </HTML>"
      ],
      "text/plain": [
       "<IPython.core.display.HTML object>"
      ]
     },
     "metadata": {},
     "output_type": "display_data"
    },
    {
     "name": "stdout",
     "output_type": "stream",
     "text": [
      "Note: First 10 records were displayed.\n"
     ]
    }
   ],
   "source": [
    "wos_client.monitor_instances.show_metrics(monitor_instance_id=genaiquality_monitor_id, project_id=project_id)"
   ]
  },
  {
   "cell_type": "markdown",
   "metadata": {
    "id": "86f181b3-7811-402d-9ef4-8f1e0058a657"
   },
   "source": [
    "## Display record level metrics for Generative AI Quality "
   ]
  },
  {
   "cell_type": "markdown",
   "metadata": {
    "id": "8e5973f2-bdb8-4384-b9eb-84d2f0e15f30"
   },
   "source": [
    "Read the dataset id for generative ai quality dataset"
   ]
  },
  {
   "cell_type": "code",
   "execution_count": 20,
   "metadata": {
    "id": "95ecf8af-099e-459b-be7d-d0e763f74fcb"
   },
   "outputs": [
    {
     "data": {
      "text/plain": [
       "'01963a41-ee28-7c4e-aa99-c3abd8286d68'"
      ]
     },
     "execution_count": 20,
     "metadata": {},
     "output_type": "execute_result"
    }
   ],
   "source": [
    "result = wos_client.data_sets.list(target_target_id = dev_subscription_id,\n",
    "                                target_target_type = \"subscription\",\n",
    "                                type = \"gen_ai_quality_metrics\").result\n",
    "\n",
    "genaiq_dataset_id = result.data_sets[0].metadata.id\n",
    "genaiq_dataset_id"
   ]
  },
  {
   "cell_type": "markdown",
   "metadata": {
    "id": "d21c0f4a-d21d-4c30-845a-6623dbe54471"
   },
   "source": [
    "Displaying record level metrics for generative ai quality"
   ]
  },
  {
   "cell_type": "code",
   "execution_count": 21,
   "metadata": {
    "id": "593e585c-5abf-46f4-93c3-f4b763edb761"
   },
   "outputs": [
    {
     "data": {
      "text/html": [
       "<HTML>\n",
       "        <body>\n",
       "            <h3>Data Set 01963a41-ee28-7c4e-aa99-c3abd8286d68 Records</h3>\n",
       "            <table style='border: 1px solid #dddddd; font-family: Courier'>\n",
       "                <th style='border: 1px solid #dddddd'>normalized_recall</th><th style='border: 1px solid #dddddd'>rouge2</th><th style='border: 1px solid #dddddd'>pii_entities</th><th style='border: 1px solid #dddddd'>scoring_id</th><th style='border: 1px solid #dddddd'>jaccard_similarity</th><th style='border: 1px solid #dddddd'>computed_on</th><th style='border: 1px solid #dddddd'>scoring_timestamp</th><th style='border: 1px solid #dddddd'>meteor</th><th style='border: 1px solid #dddddd'>rougelsum</th><th style='border: 1px solid #dddddd'>hap_score</th><th style='border: 1px solid #dddddd'>pii</th><th style='border: 1px solid #dddddd'>normalized_precision</th><th style='border: 1px solid #dddddd'>hap_score_positions</th><th style='border: 1px solid #dddddd'>run_id</th><th style='border: 1px solid #dddddd'>normalized_f1</th><th style='border: 1px solid #dddddd'>pii_positions</th><th style='border: 1px solid #dddddd'>rougel</th><th style='border: 1px solid #dddddd'>sari</th><th style='border: 1px solid #dddddd'>cosine_similarity</th><th style='border: 1px solid #dddddd'>hap_score_entities</th><th style='border: 1px solid #dddddd'>rouge1</th>\n",
       "                <tr><td style='border: 1px solid #dddddd'>0.3448275862068966</td><td style='border: 1px solid #dddddd'>0.2083</td><td style='border: 1px solid #dddddd'>[]</td><td style='border: 1px solid #dddddd'>MRM_3dbe67a5-d6d5-4482-a656-7860180483a3-0</td><td style='border: 1px solid #dddddd'>0.30303030303030304</td><td style='border: 1px solid #dddddd'>feedback</td><td style='border: 1px solid #dddddd'>2025-04-15T16:22:50.573Z</td><td style='border: 1px solid #dddddd'>0.31631205673758866</td><td style='border: 1px solid #dddddd'>0.32</td><td style='border: 1px solid #dddddd'>0.0478239506483078</td><td style='border: 1px solid #dddddd'>0.0</td><td style='border: 1px solid #dddddd'>0.47619047619047616</td><td style='border: 1px solid #dddddd'>None</td><td style='border: 1px solid #dddddd'>cd01eddf-be6b-4ef0-823e-3315c2cb5a49</td><td style='border: 1px solid #dddddd'>0.39999999999999997</td><td style='border: 1px solid #dddddd'>None</td><td style='border: 1px solid #dddddd'>0.32</td><td style='border: 1px solid #dddddd'>35.81572523470902</td><td style='border: 1px solid #dddddd'>0.33742073667851313</td><td style='border: 1px solid #dddddd'>None</td><td style='border: 1px solid #dddddd'>0.4</td></tr><tr><td style='border: 1px solid #dddddd'>0.23214285714285715</td><td style='border: 1px solid #dddddd'>0.1299</td><td style='border: 1px solid #dddddd'>[]</td><td style='border: 1px solid #dddddd'>MRM_3dbe67a5-d6d5-4482-a656-7860180483a3-1</td><td style='border: 1px solid #dddddd'>0.23636363636363636</td><td style='border: 1px solid #dddddd'>feedback</td><td style='border: 1px solid #dddddd'>2025-04-15T16:22:50.573Z</td><td style='border: 1px solid #dddddd'>0.1491034775897361</td><td style='border: 1px solid #dddddd'>0.2278</td><td style='border: 1px solid #dddddd'>0.023666102439165115</td><td style='border: 1px solid #dddddd'>0.0</td><td style='border: 1px solid #dddddd'>0.5652173913043478</td><td style='border: 1px solid #dddddd'>None</td><td style='border: 1px solid #dddddd'>cd01eddf-be6b-4ef0-823e-3315c2cb5a49</td><td style='border: 1px solid #dddddd'>0.3291139240506329</td><td style='border: 1px solid #dddddd'>None</td><td style='border: 1px solid #dddddd'>0.2278</td><td style='border: 1px solid #dddddd'>29.000679470356232</td><td style='border: 1px solid #dddddd'>0.348701955972673</td><td style='border: 1px solid #dddddd'>None</td><td style='border: 1px solid #dddddd'>0.3291</td></tr><tr><td style='border: 1px solid #dddddd'>0.3333333333333333</td><td style='border: 1px solid #dddddd'>0.1667</td><td style='border: 1px solid #dddddd'>[]</td><td style='border: 1px solid #dddddd'>MRM_3dbe67a5-d6d5-4482-a656-7860180483a3-10</td><td style='border: 1px solid #dddddd'>0.21428571428571427</td><td style='border: 1px solid #dddddd'>feedback</td><td style='border: 1px solid #dddddd'>2025-04-15T16:22:50.573Z</td><td style='border: 1px solid #dddddd'>0.30702966648240276</td><td style='border: 1px solid #dddddd'>0.28</td><td style='border: 1px solid #dddddd'>0.023666102439165115</td><td style='border: 1px solid #dddddd'>0.0</td><td style='border: 1px solid #dddddd'>0.391304347826087</td><td style='border: 1px solid #dddddd'>None</td><td style='border: 1px solid #dddddd'>cd01eddf-be6b-4ef0-823e-3315c2cb5a49</td><td style='border: 1px solid #dddddd'>0.36</td><td style='border: 1px solid #dddddd'>None</td><td style='border: 1px solid #dddddd'>0.28</td><td style='border: 1px solid #dddddd'>35.2784149510787</td><td style='border: 1px solid #dddddd'>0.23244398764175528</td><td style='border: 1px solid #dddddd'>None</td><td style='border: 1px solid #dddddd'>0.36</td></tr><tr><td style='border: 1px solid #dddddd'>0.43902439024390244</td><td style='border: 1px solid #dddddd'>0.4062</td><td style='border: 1px solid #dddddd'>[]</td><td style='border: 1px solid #dddddd'>MRM_3dbe67a5-d6d5-4482-a656-7860180483a3-11</td><td style='border: 1px solid #dddddd'>0.40476190476190477</td><td style='border: 1px solid #dddddd'>feedback</td><td style='border: 1px solid #dddddd'>2025-04-15T16:22:50.573Z</td><td style='border: 1px solid #dddddd'>0.4367988970357837</td><td style='border: 1px solid #dddddd'>0.4545</td><td style='border: 1px solid #dddddd'>0.028214920312166214</td><td style='border: 1px solid #dddddd'>0.0</td><td style='border: 1px solid #dddddd'>0.72</td><td style='border: 1px solid #dddddd'>None</td><td style='border: 1px solid #dddddd'>cd01eddf-be6b-4ef0-823e-3315c2cb5a49</td><td style='border: 1px solid #dddddd'>0.5454545454545455</td><td style='border: 1px solid #dddddd'>None</td><td style='border: 1px solid #dddddd'>0.4545</td><td style='border: 1px solid #dddddd'>41.64958160752452</td><td style='border: 1px solid #dddddd'>0.4972134156783251</td><td style='border: 1px solid #dddddd'>None</td><td style='border: 1px solid #dddddd'>0.5455</td></tr><tr><td style='border: 1px solid #dddddd'>0.6666666666666666</td><td style='border: 1px solid #dddddd'>0.0952</td><td style='border: 1px solid #dddddd'>[]</td><td style='border: 1px solid #dddddd'>MRM_3dbe67a5-d6d5-4482-a656-7860180483a3-12</td><td style='border: 1px solid #dddddd'>0.22857142857142856</td><td style='border: 1px solid #dddddd'>feedback</td><td style='border: 1px solid #dddddd'>2025-04-15T16:22:50.573Z</td><td style='border: 1px solid #dddddd'>0.3746698943661972</td><td style='border: 1px solid #dddddd'>0.2727</td><td style='border: 1px solid #dddddd'>0.0744711384177208</td><td style='border: 1px solid #dddddd'>0.0</td><td style='border: 1px solid #dddddd'>0.25</td><td style='border: 1px solid #dddddd'>None</td><td style='border: 1px solid #dddddd'>cd01eddf-be6b-4ef0-823e-3315c2cb5a49</td><td style='border: 1px solid #dddddd'>0.36363636363636365</td><td style='border: 1px solid #dddddd'>None</td><td style='border: 1px solid #dddddd'>0.2727</td><td style='border: 1px solid #dddddd'>37.94577720532095</td><td style='border: 1px solid #dddddd'>0.31019286302448973</td><td style='border: 1px solid #dddddd'>None</td><td style='border: 1px solid #dddddd'>0.3636</td></tr><tr><td style='border: 1px solid #dddddd'>0.4782608695652174</td><td style='border: 1px solid #dddddd'>0.1455</td><td style='border: 1px solid #dddddd'>[]</td><td style='border: 1px solid #dddddd'>MRM_3dbe67a5-d6d5-4482-a656-7860180483a3-13</td><td style='border: 1px solid #dddddd'>0.275</td><td style='border: 1px solid #dddddd'>feedback</td><td style='border: 1px solid #dddddd'>2025-04-15T16:22:50.573Z</td><td style='border: 1px solid #dddddd'>0.3976201090497583</td><td style='border: 1px solid #dddddd'>0.3158</td><td style='border: 1px solid #dddddd'>0.10210409760475159</td><td style='border: 1px solid #dddddd'>0.0</td><td style='border: 1px solid #dddddd'>0.3235294117647059</td><td style='border: 1px solid #dddddd'>None</td><td style='border: 1px solid #dddddd'>cd01eddf-be6b-4ef0-823e-3315c2cb5a49</td><td style='border: 1px solid #dddddd'>0.3859649122807018</td><td style='border: 1px solid #dddddd'>None</td><td style='border: 1px solid #dddddd'>0.3158</td><td style='border: 1px solid #dddddd'>40.662473714645216</td><td style='border: 1px solid #dddddd'>0.3018702723868621</td><td style='border: 1px solid #dddddd'>None</td><td style='border: 1px solid #dddddd'>0.386</td></tr><tr><td style='border: 1px solid #dddddd'>0.2</td><td style='border: 1px solid #dddddd'>0.1017</td><td style='border: 1px solid #dddddd'>[]</td><td style='border: 1px solid #dddddd'>MRM_3dbe67a5-d6d5-4482-a656-7860180483a3-14</td><td style='border: 1px solid #dddddd'>0.1951219512195122</td><td style='border: 1px solid #dddddd'>feedback</td><td style='border: 1px solid #dddddd'>2025-04-15T16:22:50.573Z</td><td style='border: 1px solid #dddddd'>0.16568241469816272</td><td style='border: 1px solid #dddddd'>0.2295</td><td style='border: 1px solid #dddddd'>0.0478239506483078</td><td style='border: 1px solid #dddddd'>0.0</td><td style='border: 1px solid #dddddd'>0.38095238095238093</td><td style='border: 1px solid #dddddd'>None</td><td style='border: 1px solid #dddddd'>cd01eddf-be6b-4ef0-823e-3315c2cb5a49</td><td style='border: 1px solid #dddddd'>0.2622950819672132</td><td style='border: 1px solid #dddddd'>None</td><td style='border: 1px solid #dddddd'>0.2295</td><td style='border: 1px solid #dddddd'>30.100809546192014</td><td style='border: 1px solid #dddddd'>0.2651015734590852</td><td style='border: 1px solid #dddddd'>None</td><td style='border: 1px solid #dddddd'>0.2623</td></tr><tr><td style='border: 1px solid #dddddd'>0.3333333333333333</td><td style='border: 1px solid #dddddd'>0.1667</td><td style='border: 1px solid #dddddd'>[]</td><td style='border: 1px solid #dddddd'>MRM_3dbe67a5-d6d5-4482-a656-7860180483a3-15</td><td style='border: 1px solid #dddddd'>0.21428571428571427</td><td style='border: 1px solid #dddddd'>feedback</td><td style='border: 1px solid #dddddd'>2025-04-15T16:22:50.573Z</td><td style='border: 1px solid #dddddd'>0.30702966648240276</td><td style='border: 1px solid #dddddd'>0.28</td><td style='border: 1px solid #dddddd'>0.023666102439165115</td><td style='border: 1px solid #dddddd'>0.0</td><td style='border: 1px solid #dddddd'>0.391304347826087</td><td style='border: 1px solid #dddddd'>None</td><td style='border: 1px solid #dddddd'>cd01eddf-be6b-4ef0-823e-3315c2cb5a49</td><td style='border: 1px solid #dddddd'>0.36</td><td style='border: 1px solid #dddddd'>None</td><td style='border: 1px solid #dddddd'>0.28</td><td style='border: 1px solid #dddddd'>35.2784149510787</td><td style='border: 1px solid #dddddd'>0.23244398764175528</td><td style='border: 1px solid #dddddd'>None</td><td style='border: 1px solid #dddddd'>0.36</td></tr><tr><td style='border: 1px solid #dddddd'>0.43902439024390244</td><td style='border: 1px solid #dddddd'>0.4062</td><td style='border: 1px solid #dddddd'>[]</td><td style='border: 1px solid #dddddd'>MRM_3dbe67a5-d6d5-4482-a656-7860180483a3-16</td><td style='border: 1px solid #dddddd'>0.40476190476190477</td><td style='border: 1px solid #dddddd'>feedback</td><td style='border: 1px solid #dddddd'>2025-04-15T16:22:50.573Z</td><td style='border: 1px solid #dddddd'>0.4367988970357837</td><td style='border: 1px solid #dddddd'>0.4545</td><td style='border: 1px solid #dddddd'>0.028214920312166214</td><td style='border: 1px solid #dddddd'>0.0</td><td style='border: 1px solid #dddddd'>0.72</td><td style='border: 1px solid #dddddd'>None</td><td style='border: 1px solid #dddddd'>cd01eddf-be6b-4ef0-823e-3315c2cb5a49</td><td style='border: 1px solid #dddddd'>0.5454545454545455</td><td style='border: 1px solid #dddddd'>None</td><td style='border: 1px solid #dddddd'>0.4545</td><td style='border: 1px solid #dddddd'>41.64958160752452</td><td style='border: 1px solid #dddddd'>0.4972134156783251</td><td style='border: 1px solid #dddddd'>None</td><td style='border: 1px solid #dddddd'>0.5455</td></tr><tr><td style='border: 1px solid #dddddd'>0.6666666666666666</td><td style='border: 1px solid #dddddd'>0.0952</td><td style='border: 1px solid #dddddd'>[]</td><td style='border: 1px solid #dddddd'>MRM_3dbe67a5-d6d5-4482-a656-7860180483a3-17</td><td style='border: 1px solid #dddddd'>0.22857142857142856</td><td style='border: 1px solid #dddddd'>feedback</td><td style='border: 1px solid #dddddd'>2025-04-15T16:22:50.573Z</td><td style='border: 1px solid #dddddd'>0.3746698943661972</td><td style='border: 1px solid #dddddd'>0.2727</td><td style='border: 1px solid #dddddd'>0.0744711384177208</td><td style='border: 1px solid #dddddd'>0.0</td><td style='border: 1px solid #dddddd'>0.25</td><td style='border: 1px solid #dddddd'>None</td><td style='border: 1px solid #dddddd'>cd01eddf-be6b-4ef0-823e-3315c2cb5a49</td><td style='border: 1px solid #dddddd'>0.36363636363636365</td><td style='border: 1px solid #dddddd'>None</td><td style='border: 1px solid #dddddd'>0.2727</td><td style='border: 1px solid #dddddd'>37.94577720532095</td><td style='border: 1px solid #dddddd'>0.31019286302448973</td><td style='border: 1px solid #dddddd'>None</td><td style='border: 1px solid #dddddd'>0.3636</td></tr>\n",
       "            </table>\n",
       "        </body>\n",
       "        </HTML>"
      ],
      "text/plain": [
       "<IPython.core.display.HTML object>"
      ]
     },
     "metadata": {},
     "output_type": "display_data"
    }
   ],
   "source": [
    "wos_client.data_sets.show_records(data_set_id = genaiq_dataset_id)"
   ]
  },
  {
   "cell_type": "markdown",
   "metadata": {
    "id": "cb010532-ba3e-4e61-a28f-ecb69e3f53c8"
   },
   "source": [
    "Author: <a href=\"mailto:kshitij.g1@ibm.com\">Kshitij Gopali</a>"
   ]
  },
  {
   "cell_type": "markdown",
   "metadata": {
    "id": "48ec96f2-55ab-4435-bb06-681a8b27aa90"
   },
   "source": [
    "Copyright © 2025 IBM."
   ]
  }
 ],
 "metadata": {
  "kernelspec": {
   "display_name": "Python 3.11",
   "language": "python",
   "name": "python3"
  },
  "language_info": {
   "codemirror_mode": {
    "name": "ipython",
    "version": 3
   },
   "file_extension": ".py",
   "mimetype": "text/x-python",
   "name": "python",
   "nbconvert_exporter": "python",
   "pygments_lexer": "ipython3",
   "version": "3.11.9"
  }
 },
 "nbformat": 4,
 "nbformat_minor": 4
}
