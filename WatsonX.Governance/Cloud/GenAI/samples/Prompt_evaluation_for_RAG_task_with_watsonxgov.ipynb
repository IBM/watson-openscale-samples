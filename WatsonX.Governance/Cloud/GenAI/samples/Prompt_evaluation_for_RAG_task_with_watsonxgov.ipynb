{
 "cells": [
  {
   "cell_type": "markdown",
   "metadata": {
    "id": "43c19b29-f106-4111-ae53-f4c728a3ecb1"
   },
   "source": [
    "# Working with Prompt Template Assets for a Retrieval-Augmented Generation task in watsonx.governance"
   ]
  },
  {
   "cell_type": "markdown",
   "metadata": {
    "id": "0d610206-9c2b-4b1a-a0f5-316fab3200c6"
   },
   "source": [
    "This notebook will create a retrieval-augmented generation (RAG) prompt template asset (PTA) in a given project, configure watsonx.governance to monitor that PTA and evaluate generative quality metrics and model health metrics, and then promote the prompt template asset to a space and do the same evaluation.\n",
    "\n",
    "If you wish to execute this notebook for task types other than RAG, refer to [Evaluating prompt template asset of different task types](https://github.com/IBM/watson-openscale-samples/blob/main/IBM%20Cloud/WML/notebooks/watsonx/README.md) for guidance on evaluating prompt templates for other available task types.\n",
    "\n",
    "This notebook should be run using a Python 3.10 or greater runtime environment. If you are viewing this notebook in Watson Studio and do not see Python 3.10.x or higher in the upper right corner of your screen, please update the runtime now."
   ]
  },
  {
   "cell_type": "markdown",
   "metadata": {},
   "source": [
    "## Learning goals\n",
    "\n",
    "- Create a prompt template asset Cloud project\n",
    "- Configure watsonx.governance to monitor the created prompt template asset \n",
    "- Evaluate generative quality metrics and model health metrics\n",
    "- Promote the prompt template asset to a space\n",
    "- Evaluate the prompt template asset in a space "
   ]
  },
  {
   "cell_type": "markdown",
   "metadata": {
    "id": "8b700c2f-a34b-4991-a615-977b9f56d386"
   },
   "source": [
    "## Prerequisites"
   ]
  },
  {
   "cell_type": "markdown",
   "metadata": {
    "id": "9670db7c-0cb3-405b-b1c9-ac1a7e6ff7f3"
   },
   "source": [
    "- Service credentials for IBM watsonx.governance are required\n",
    "- Watson OpenScale (WOS) credentials are required\n",
    "- Watsonx AI credentials are required\n",
    "- A `.csv` file containing test data to be evaluated\n",
    "- ID of the project in which you want to create the PTA\n",
    "- ID of the space to which you want to promote the PTA"
   ]
  },
  {
   "cell_type": "markdown",
   "metadata": {
    "id": "3ed8c494-077d-43d9-935f-234d1720afe7"
   },
   "source": [
    "## Contents\n",
    "\n",
    "[Evaluating a Prompt Template Asset from a project](#evaluateproject)\n",
    "- [Step 1 - Setup](#settingup)\n",
    "- [Step 2 - Create a Prompt template](#prompt)\n",
    "- [Step 3 - Setup the prompt template](#ptatsetup)\n",
    "- [Step 4 - Risk evaluations for the PTA subscription](#evaluate)\n",
    "- [Step 5 - Display the Model Risk metrics](#mrmmetric)\n",
    "- [Step 6 - Display the Generative AI Quality metrics](#genaimetrics)\n",
    "- [Step 7 - Plot faithfulness and answer relevance metrics against records](#plotproject)\n",
    "- [Step 8 - See factsheets information](#factsheetsspace)\n",
    "\n",
    "[Evaluating a Prompt Template Asset from a space](#evaluatespace)\n",
    "- [Step 9 - Promote a PTA to a space](#promottospace)\n",
    "- [Step 10 - Create a deployment for a PTA in a space](#ptadeployment)\n",
    "- [Step 11 - Set up the PTA in a space for evaluation with supported monitor parameters](#ptaspace)\n",
    "- [Step 12 - Score the model and configure monitors](#score)\n",
    "- [Step 13 - Display the source attributions for a record](#attributions)\n",
    "- [Step 14 - Plot faithfulness and answer relevance metrics against records](#plotspace)\n",
    "- [Step 15 - See factsheets information from a space](#factsheetsproject)"
   ]
  },
  {
   "cell_type": "markdown",
   "metadata": {},
   "source": [
    "## Evaluating a Prompt Template Asset from a project <a name=\"evaluateproject\"></a>\n",
    "\n",
    "In the first section of this notebook, you will learn how to:\n",
    "\n",
    "1. Create a PTA in a project\n",
    "2. Create a `development`-type subscription for a PTA in OpenScale\n",
    "3. Configure monitors supported by OpenScale for the subscription\n",
    "4. Perform risk evaluations against the PTA subscription with a sample set of test data\n",
    "5. Display the metrics generated with the risk evaluation\n",
    "6. Display the factsheets information for the subscription"
   ]
  },
  {
   "cell_type": "markdown",
   "metadata": {
    "id": "1afb655f-03dd-4da1-a4c9-ccbfa542a645"
   },
   "source": [
    "## Step 1 - Setup <a name=\"settingup\"></a>"
   ]
  },
  {
   "cell_type": "markdown",
   "metadata": {},
   "source": [
    "### Install the necessary packages"
   ]
  },
  {
   "cell_type": "code",
   "execution_count": null,
   "metadata": {
    "id": "1075d4fc-cf23-4c75-b6cf-c97080b52846"
   },
   "outputs": [],
   "source": [
    "!pip install -U ibm-watson-openscale | tail -n 1\n",
    "!pip install --upgrade ibm-watsonx-ai | tail -n 1\n",
    "!pip install matplotlib"
   ]
  },
  {
   "cell_type": "markdown",
   "metadata": {
    "id": "af0e39fc-d20f-4412-81bb-ef3439a6f6a1"
   },
   "source": [
    "**Note**: you may need to restart the kernel to use updated packages."
   ]
  },
  {
   "cell_type": "markdown",
   "metadata": {
    "id": "85780b74-1d39-4089-815f-2d63585a744f"
   },
   "source": [
    "### Configure your credentials"
   ]
  },
  {
   "cell_type": "code",
   "execution_count": null,
   "metadata": {},
   "outputs": [],
   "source": [
    "IAM_URL = \"https://iam.cloud.ibm.com\"\n",
    "DATAPLATFORM_URL = \"https://api.dataplatform.cloud.ibm.com\"\n",
    "FACTSHEET_URL = \"https://dataplatform.cloud.ibm.com\"\n",
    "SERVICE_URL = \"https://aiopenscale.cloud.ibm.com\"\n",
    "CLOUD_API_KEY = \"\"  # YOUR_CLOUD_API_KEY\n",
    "\n",
    "CREDENTIALS = {\n",
    "    \"url\": \"https://us-south.ml.cloud.ibm.com\",\n",
    "    \"apikey\": CLOUD_API_KEY,\n",
    "}"
   ]
  },
  {
   "cell_type": "markdown",
   "metadata": {
    "id": "e2b0a52f-f12f-4c93-bfc7-a809c3f676fa"
   },
   "source": [
    "### Configure your project ID"
   ]
  },
  {
   "cell_type": "markdown",
   "metadata": {
    "id": "d33b6752-b344-4b68-b241-7ad9880ecf70"
   },
   "source": [
    "To set up a development-type subscription in Watson OpenScale, the PTA must be within a cloud project. Supply the project ID where the PTA needs to be created."
   ]
  },
  {
   "cell_type": "code",
   "execution_count": null,
   "metadata": {},
   "outputs": [],
   "source": [
    "project_id = \"<YOUR_PROJECT_ID>\""
   ]
  },
  {
   "cell_type": "markdown",
   "metadata": {
    "id": "bd294986-76ce-4a8e-9889-8207142e2e25"
   },
   "source": [
    "### Configure your space ID"
   ]
  },
  {
   "cell_type": "markdown",
   "metadata": {
    "id": "ae375639-26b7-4f22-87f8-3859b6100b0f"
   },
   "source": [
    "You can use an existing space, or you can create a new space to promote the model."
   ]
  },
  {
   "cell_type": "markdown",
   "metadata": {
    "id": "7f429284-4d30-44dd-b609-99f6a5482ace"
   },
   "source": [
    "#### (Optional) If you choose an existing space"
   ]
  },
  {
   "cell_type": "markdown",
   "metadata": {},
   "source": [
    "Set variable for an existing space:"
   ]
  },
  {
   "cell_type": "code",
   "execution_count": null,
   "metadata": {},
   "outputs": [],
   "source": [
    "use_existing_space = True  # Set as False to create a new space"
   ]
  },
  {
   "cell_type": "markdown",
   "metadata": {},
   "source": [
    "Import watsonx_ai client:"
   ]
  },
  {
   "cell_type": "code",
   "execution_count": 3,
   "metadata": {},
   "outputs": [
    {
     "data": {
      "text/plain": [
       "'1.1.22'"
      ]
     },
     "execution_count": 3,
     "metadata": {},
     "output_type": "execute_result"
    }
   ],
   "source": [
    "import json\n",
    "from ibm_watsonx_ai import APIClient\n",
    "\n",
    "wx_ai_client = APIClient(CREDENTIALS)\n",
    "wx_ai_client.version"
   ]
  },
  {
   "cell_type": "markdown",
   "metadata": {},
   "source": [
    "List the available spaces:"
   ]
  },
  {
   "cell_type": "code",
   "execution_count": 4,
   "metadata": {
    "id": "6faba96b-bb6f-4fe2-be52-f4511625d5da"
   },
   "outputs": [
    {
     "name": "stdout",
     "output_type": "stream",
     "text": [
      "Note: 'limit' is not provided. Only first 50 records will be displayed if the number of records exceed 50\n"
     ]
    },
    {
     "data": {
      "text/html": [
       "<div>\n",
       "<style scoped>\n",
       "    .dataframe tbody tr th:only-of-type {\n",
       "        vertical-align: middle;\n",
       "    }\n",
       "\n",
       "    .dataframe tbody tr th {\n",
       "        vertical-align: top;\n",
       "    }\n",
       "\n",
       "    .dataframe thead th {\n",
       "        text-align: right;\n",
       "    }\n",
       "</style>\n",
       "<table border=\"1\" class=\"dataframe\">\n",
       "  <thead>\n",
       "    <tr style=\"text-align: right;\">\n",
       "      <th></th>\n",
       "      <th>ID</th>\n",
       "      <th>NAME</th>\n",
       "      <th>CREATED</th>\n",
       "    </tr>\n",
       "  </thead>\n",
       "  <tbody>\n",
       "    <tr>\n",
       "      <th>0</th>\n",
       "      <td>a063001f-14c6-4dc9-b373-3a700a43bb00</td>\n",
       "      <td>Sample space</td>\n",
       "      <td>2024-11-07T16:15:45.936Z</td>\n",
       "    </tr>\n",
       "    <tr>\n",
       "      <th>1</th>\n",
       "      <td>90f7c315-62a5-4f1f-a86f-cb29539daef7</td>\n",
       "      <td>test_full_flow</td>\n",
       "      <td>2024-10-11T11:53:33.716Z</td>\n",
       "    </tr>\n",
       "    <tr>\n",
       "      <th>2</th>\n",
       "      <td>74557a01-62df-49f8-9be1-571f7d26ee28</td>\n",
       "      <td>function deployment spcae</td>\n",
       "      <td>2024-06-26T17:16:46.548Z</td>\n",
       "    </tr>\n",
       "  </tbody>\n",
       "</table>\n",
       "</div>"
      ],
      "text/plain": [
       "                                     ID                       NAME  \\\n",
       "0  a063001f-14c6-4dc9-b373-3a700a43bb00               Sample space   \n",
       "1  90f7c315-62a5-4f1f-a86f-cb29539daef7             test_full_flow   \n",
       "2  74557a01-62df-49f8-9be1-571f7d26ee28  function deployment spcae   \n",
       "\n",
       "                    CREATED  \n",
       "0  2024-11-07T16:15:45.936Z  \n",
       "1  2024-10-11T11:53:33.716Z  \n",
       "2  2024-06-26T17:16:46.548Z  "
      ]
     },
     "execution_count": 4,
     "metadata": {},
     "output_type": "execute_result"
    }
   ],
   "source": [
    "wx_ai_client.spaces.list()"
   ]
  },
  {
   "cell_type": "markdown",
   "metadata": {},
   "source": [
    "Add the existing space name to the following cell:"
   ]
  },
  {
   "cell_type": "code",
   "execution_count": null,
   "metadata": {},
   "outputs": [],
   "source": [
    "existing_space_id = \"<YOUR_SPACE_ID>\""
   ]
  },
  {
   "cell_type": "markdown",
   "metadata": {
    "id": "dad6003a-43f9-47a5-a4fc-c73b784968fe"
   },
   "source": [
    "#### (Optional) If you choose to create a new space"
   ]
  },
  {
   "cell_type": "markdown",
   "metadata": {},
   "source": [
    "Set variable for a new space:"
   ]
  },
  {
   "cell_type": "code",
   "execution_count": 5,
   "metadata": {},
   "outputs": [],
   "source": [
    "use_existing_space = False  # Set as True to use an existing space"
   ]
  },
  {
   "cell_type": "markdown",
   "metadata": {},
   "source": [
    "Tip: `INSTANCE_NAME`, `CRN` and `COS_RESOURCE_CRN` are required only if you are pointing to your cloud openscale instance, Your `INSTANCE_NAME` and `CRN` can be read from the [Cloud console](https://cloud.ibm.com/resources). From that page, goto `Resours list`, copy the name of your Watsonx AI instance listed there. Select the row corresponding to your instance, and copy the CRN displayed in the popup on the right side of the page"
   ]
  },
  {
   "cell_type": "code",
   "execution_count": null,
   "metadata": {},
   "outputs": [],
   "source": [
    "#####################################################################################\n",
    "# Paste your Watsonx AI INSTANCE_NAME, CRN in the following field and then run this cell.\n",
    "######################################################################################\n",
    "INSTANCE_NAME = \"<YOUR_INSTANCE_NAME>\"\n",
    "CRN = \"<YOUR_CRN>\""
   ]
  },
  {
   "cell_type": "code",
   "execution_count": null,
   "metadata": {},
   "outputs": [],
   "source": [
    "COS_RESOURCE_CRN = \"<YOUR_COS_RESOURCE_CRN>\""
   ]
  },
  {
   "cell_type": "markdown",
   "metadata": {},
   "source": [
    "Create a name for your new space:"
   ]
  },
  {
   "cell_type": "code",
   "execution_count": null,
   "metadata": {
    "id": "419ff60b-9299-4255-8fcf-c1a97f342c11"
   },
   "outputs": [],
   "source": [
    "space_name = \"<NEW_SPACE_NAME>\""
   ]
  },
  {
   "cell_type": "markdown",
   "metadata": {
    "id": "6cb9de8e-ba5e-465a-96e4-c218fa303fc7"
   },
   "source": [
    "Set up your new space:"
   ]
  },
  {
   "cell_type": "code",
   "execution_count": 9,
   "metadata": {
    "id": "afaa0fda-222f-429a-8c22-a613d57d88fe"
   },
   "outputs": [
    {
     "name": "stdout",
     "output_type": "stream",
     "text": [
      "Space has been created. However some background setup activities might still be on-going. Check for 'status' field in the response. It has to show 'active' before space can be used. If it's not 'active', you can monitor the state with a call to spaces.get_details(space_id). Alternatively, use background_mode=False when calling client.spaces.store().\n",
      "7d195a51-8938-4fc7-a2b6-cf8e254d67c5\n"
     ]
    }
   ],
   "source": [
    "if use_existing_space == True:\n",
    "    space_id = existing_space_id\n",
    "else:\n",
    "    space_meta_data = {\n",
    "        wx_ai_client.spaces.ConfigurationMetaNames.NAME: space_name,\n",
    "        wx_ai_client.spaces.ConfigurationMetaNames.STORAGE: {\n",
    "            \"resource_crn\": COS_RESOURCE_CRN\n",
    "        },\n",
    "        wx_ai_client.spaces.ConfigurationMetaNames.COMPUTE: {\n",
    "            \"name\": INSTANCE_NAME,\n",
    "            \"crn\": CRN,\n",
    "        },\n",
    "        wx_ai_client.spaces.ConfigurationMetaNames.TYPE: \"wx\",\n",
    "    }\n",
    "\n",
    "    space_id = wx_ai_client.spaces.store(meta_props=space_meta_data)[\"metadata\"][\"id\"]\n",
    "wx_ai_client.set.default_space(space_id)\n",
    "print(space_id)"
   ]
  },
  {
   "cell_type": "markdown",
   "metadata": {
    "id": "29433504-f5cf-4286-a88b-341fc71e7315"
   },
   "source": [
    "### Create an access token"
   ]
  },
  {
   "cell_type": "markdown",
   "metadata": {
    "id": "28728a6e-b049-41d3-a7fc-fc3380a02057"
   },
   "source": [
    "The following function generates an IAM access token using the provided credentials. The API calls for creating and scoring prompt template assets utilize the token generated by this function."
   ]
  },
  {
   "cell_type": "code",
   "execution_count": 10,
   "metadata": {
    "id": "0c8a41eb-d3b8-403d-9d57-72473d6e30c6"
   },
   "outputs": [],
   "source": [
    "import requests, json\n",
    "\n",
    "\n",
    "def generate_access_token():\n",
    "    headers = {}\n",
    "    headers[\"Content-Type\"] = \"application/x-www-form-urlencoded\"\n",
    "    headers[\"Accept\"] = \"application/json\"\n",
    "    data = {\n",
    "        \"grant_type\": \"urn:ibm:params:oauth:grant-type:apikey\",\n",
    "        \"apikey\": CLOUD_API_KEY,\n",
    "        \"response_type\": \"cloud_iam\",\n",
    "    }\n",
    "    response = requests.post(IAM_URL + \"/identity/token\", data=data, headers=headers)\n",
    "    json_data = response.json()\n",
    "    iam_access_token = json_data[\"access_token\"]\n",
    "    return iam_access_token\n",
    "\n",
    "\n",
    "iam_access_token = generate_access_token()"
   ]
  },
  {
   "cell_type": "markdown",
   "metadata": {
    "id": "ae8b73e9-fddb-45d3-85cc-43520152193a"
   },
   "source": [
    "## Step 2 - Create a Prompt template <a name=\"prompt\"></a>"
   ]
  },
  {
   "cell_type": "markdown",
   "metadata": {
    "id": "7ec97493-3260-427a-a903-f6bf0b61578a"
   },
   "source": [
    "Create a prompt template for a RAG task:"
   ]
  },
  {
   "cell_type": "code",
   "execution_count": 11,
   "metadata": {
    "id": "20e84bc4-10ca-4edf-a283-6e127d446cba"
   },
   "outputs": [],
   "source": [
    "credentials = {\"apikey\": CLOUD_API_KEY, \"url\": CREDENTIALS[\"url\"]}"
   ]
  },
  {
   "cell_type": "code",
   "execution_count": 12,
   "metadata": {
    "id": "55c03b62-9714-413f-8d47-322d9153cd8d"
   },
   "outputs": [
    {
     "data": {
      "text/plain": [
       "'67abfe24-5f2c-4a30-bd54-22867e199eb0'"
      ]
     },
     "execution_count": 12,
     "metadata": {},
     "output_type": "execute_result"
    }
   ],
   "source": [
    "from ibm_watsonx_ai.foundation_models.prompts import (\n",
    "    PromptTemplate,\n",
    "    PromptTemplateManager,\n",
    ")\n",
    "from ibm_watsonx_ai.foundation_models.utils.enums import ModelTypes\n",
    "\n",
    "prompt_mgr = PromptTemplateManager(credentials=credentials, project_id=project_id)\n",
    "\n",
    "prompt_template = PromptTemplate(\n",
    "    name=\"RAG QA\",\n",
    "    model_id=ModelTypes.FLAN_T5_XL,\n",
    "    task_ids=[\"retrieval_augmented_generation\"],\n",
    "    input_prefix=\"\",\n",
    "    output_prefix=\"\",\n",
    "    input_text=\"Answer the below question from the given context only and do not use the knowledge outside the context.\\n\\nContext: {context1} {context2} {context3}\\nQuestion: {question}\\nAnswer:\",\n",
    "    input_variables=[\"context1\", \"context2\", \"context3\", \"question\"],\n",
    ")\n",
    "\n",
    "\n",
    "stored_prompt_template = prompt_mgr.store_prompt(prompt_template)\n",
    "project_pta_id = stored_prompt_template.prompt_id\n",
    "project_pta_id"
   ]
  },
  {
   "cell_type": "markdown",
   "metadata": {
    "id": "f5fbcaaf-f1be-449a-8073-377fe4d78dc0"
   },
   "source": [
    "## Step 3 - Set up the Prompt template <a name=\"ptatsetup\"></a>"
   ]
  },
  {
   "cell_type": "markdown",
   "metadata": {
    "id": "f0e48b71-2c5a-47cd-8035-d2651b675e29"
   },
   "source": [
    "### Configure OpenScale"
   ]
  },
  {
   "cell_type": "code",
   "execution_count": 13,
   "metadata": {
    "id": "ea98f094-6d20-4d31-ab5f-fe5e804d3f7b"
   },
   "outputs": [
    {
     "name": "stdout",
     "output_type": "stream",
     "text": [
      "3.0.41\n"
     ]
    }
   ],
   "source": [
    "from ibm_cloud_sdk_core.authenticators import IAMAuthenticator\n",
    "\n",
    "from ibm_watson_openscale import *\n",
    "from ibm_watson_openscale.supporting_classes.enums import *\n",
    "from ibm_watson_openscale.supporting_classes import *\n",
    "\n",
    "\n",
    "service_instance_id = None  # Update this to refer to a particular service instance\n",
    "authenticator = IAMAuthenticator(apikey=CLOUD_API_KEY, url=IAM_URL)\n",
    "wos_client = APIClient(\n",
    "    authenticator=authenticator,\n",
    "    service_url=SERVICE_URL,\n",
    "    service_instance_id=service_instance_id,\n",
    ")\n",
    "print(wos_client.version)"
   ]
  },
  {
   "cell_type": "markdown",
   "metadata": {
    "id": "7d83c21b-1119-4095-80e1-edc218a2ab4d"
   },
   "source": [
    "### List available OpenScale datamarts and configure the datamart ID"
   ]
  },
  {
   "cell_type": "code",
   "execution_count": 14,
   "metadata": {
    "id": "0c65b9d8-3fc4-4bd7-864b-dbee42eb5fab"
   },
   "outputs": [
    {
     "data": {
      "text/html": [
       "<HTML>\n",
       "        <body>\n",
       "            <h3>Data Marts</h3>\n",
       "            <table style='border: 1px solid #dddddd; font-family: Courier'>\n",
       "                <th style='border: 1px solid #dddddd'>name</th><th style='border: 1px solid #dddddd'>description</th><th style='border: 1px solid #dddddd'>internal_database</th><th style='border: 1px solid #dddddd'>status</th><th style='border: 1px solid #dddddd'>created_at</th><th style='border: 1px solid #dddddd'>id</th>\n",
       "                <tr><td style='border: 1px solid #dddddd'>None</td><td style='border: 1px solid #dddddd'>None</td><td style='border: 1px solid #dddddd'>True</td><td style='border: 1px solid #dddddd'>active</td><td style='border: 1px solid #dddddd'>2024-07-11 10:10:47.627000+00:00</td><td style='border: 1px solid #dddddd'>dea2ecd3-2a6c-4fdd-8736-136b706d3707</td></tr>\n",
       "            </table>\n",
       "        </body>\n",
       "        </HTML>"
      ],
      "text/plain": [
       "<IPython.core.display.HTML object>"
      ]
     },
     "metadata": {},
     "output_type": "display_data"
    }
   ],
   "source": [
    "wos_client.data_marts.show()"
   ]
  },
  {
   "cell_type": "code",
   "execution_count": null,
   "metadata": {},
   "outputs": [],
   "source": [
    "data_mart_id = \"<YOUR_DATA_MART_ID>\""
   ]
  },
  {
   "cell_type": "markdown",
   "metadata": {
    "id": "24b3c38f-4072-4e98-a0ee-eba8160b5140"
   },
   "source": [
    "### Set up the PTA in the project for evaluation with supported monitor parameters"
   ]
  },
  {
   "cell_type": "markdown",
   "metadata": {
    "id": "50492433-2be4-403a-8247-cab5c69e8140"
   },
   "source": [
    "The PTAs from a project are only supported with a `development`-type operational space ID. Running the following cell will create a `development`-type subscription from the PTA created within your project.\n",
    "\n",
    "The available parameters that can be passed for the `execute_prompt_setup` function are:\n",
    "\n",
    " * `prompt_template_asset_id`: ID of the PTA for which a subscription needs to be created\n",
    " * `label_column`: The name of the column containing the ground truth or actual labels\n",
    " * `project_id`: The ID of the project\n",
    " * `space_id`: The ID of the space\n",
    " * `deployment_id`: (optional) The ID of the deployment\n",
    " * `operational_space_id`: The rank of the environment in which the monitoring is happening. Accepted values are `development`, `pre_production`, `production`\n",
    " * `problem_type`: (optional) The task type to monitor for the given PTA\n",
    " * `classification_type`: The classification type (`binary`/`multiclass`) applicable only for the `classification` problem (task) type\n",
    " * `input_data_type`: The input data type\n",
    " * `supporting_monitors`: Monitor configuration for the subscription to be created\n",
    " * `background_mode`: When `True`, the prompt setup operation will be executed in the background"
   ]
  },
  {
   "cell_type": "markdown",
   "metadata": {},
   "source": [
    "### For computing answer quality and retrieval quality metrics you are required to configure LLM As Judge.\n",
    "\n",
    "To compute metrics using LLM As Judge a generative_ai_evaluator integrated system should to be created and provided during prompt setup."
   ]
  },
  {
   "cell_type": "markdown",
   "metadata": {},
   "source": [
    "#### Create a Generative AI evaluator\n",
    "The Generative AI Evaluator can be any model from watsonx.ai or a custom endpoint invoking external models\n",
    "\n",
    "Supported evaluator types\n",
    "* watsonx.ai (for connecting to watsonx.ai in local Cloud)\n",
    "* custom (for connecting to any external models)\n",
    "\n",
    "#### Integrated System parameters\n",
    "| Parameter | Description |\n",
    "|:-|:-|\n",
    "| `name` | Name for the evaluator. |\n",
    "| `description` | Description for the evaluator. |\n",
    "| `type` | The type of integrated system. Provide `generative_ai_evaluator`. |\n",
    "| `parameters` | The evaluator configuration details like `evaluator_type` and `model_id`. |\n",
    "| `credentials` | The user credentials |\n",
    "| `connection` [Optional]| The scoring endpoint details when the evaluator is of type `custom`. |\n",
    "\n",
    "As an example, an evaluator using FLAN_UL2 model from watsonx.ai instance present in the same Cloud is created below. The other models which can be used from watsonx.ai are FLAN_T5_XXL, FLAN_UL2, FLAN_T5_XL, MIXTRAL_8X7B_INSTRUCT_V01.\n",
    "For more details on the parameters and to create the other supported evaluators please refer to the link [Generative AI evaluator templates](https://github.com/IBM/watson-openscale-samples/wiki/Generative-AI-Evaluator-templates#for-ibm-watsonxgovernance-in-cloud).\n",
    "\n",
    "If you prefer to go with custom evaluator, please refer [Custom Evaluator Creation](https://github.com/IBM/watson-openscale-samples/tree/main/WatsonX.Governance/Cloud/GenAI/samples/custom_evaluators) guide. This provides step-by-step instructions on how to wrap your model inside a python function and deploy it for using as a custom generative AI evaluator.\n",
    "\n",
    "You can also utilize fine-tuned small models within the runtime-24.1 environment in watsonx.ai for evaluating metrics such as faithfulness, answer relevance and retrieval quality. This can be done by creating a metric specific custom evaluator and passing them during prompt setup. The process for creating a custom evaluator specific to this use-case is described here, [NLP Custom Evaluator Creation](https://github.com/IBM/watson-openscale-samples/tree/main/WatsonX.Governance/Cloud/GenAI/samples/custom_evaluators/Watson_NLP_custom_evaluator.ipynb). Answer Similarity metric cannot be computed using fine tuned small models. You are required to use Generative AI Evaluator with LLM as Judge.\n"
   ]
  },
  {
   "cell_type": "code",
   "execution_count": 16,
   "metadata": {},
   "outputs": [
    {
     "data": {
      "text/plain": [
       "'afdfe677-aeb1-4ba0-9f7c-a12df7e56435'"
      ]
     },
     "execution_count": 16,
     "metadata": {},
     "output_type": "execute_result"
    }
   ],
   "source": [
    "from ibm_watsonx_ai.foundation_models.utils.enums import ModelTypes\n",
    "\n",
    "gen_ai_evaluator = wos_client.integrated_systems.add(\n",
    "    name=\"<YOUR METRIC EVALUATOR NAME>\",\n",
    "    description=\"<YOUR METRIC EVALUATOR DESC>\",\n",
    "    type=\"generative_ai_evaluator\",\n",
    "    parameters={\"evaluator_type\": \"watsonx.ai\", \"model_id\": ModelTypes.FLAN_UL2.value},\n",
    "    credentials={\n",
    "        \"wml_location\": \"cloud\",\n",
    "        \"apikey\": CLOUD_API_KEY,\n",
    "    },\n",
    ")\n",
    "\n",
    "# get evaluator integrated system ID\n",
    "result = gen_ai_evaluator.result._to_dict()\n",
    "evaluator_id = result[\"metadata\"][\"id\"]\n",
    "evaluator_id"
   ]
  },
  {
   "cell_type": "markdown",
   "metadata": {},
   "source": [
    "#### Generative AI monitor parameters\n",
    "\n",
    "##### Generative AI evaluator parameters\n",
    "The generative_ai_evaluator details can be provided at the global level under `generative_ai_quality.parameters` to use the same evaluator for all the Answer quality metrics(Faithfulness, Answer relevance, Answer similarity) and Retrieval quality metrics(Context relevance, Retrieval precision, Average precision, Reciprocal rank, Hit rate, Normalized Discounted Cumulative Gain).\n",
    "\n",
    "The generative ai evaluator can be specified at metric level to use different evaluators for each of the metric. The metrics under which generative_ai_evaluator parameter can be specified are faithfulness, answer_relevance, answer_similarity and retrieval_quality. The generative_ai_evaluator at the metric level takes precedence over the generative_ai_evaluator at global level\n",
    "\n",
    "| Parameter | Description | Default Value |\n",
    "|:-|:-|:-|\n",
    "| `enabled`| The flag to enable generative ai evaluator |  |\n",
    "| `evaluator_id`| The id of the generative ai evaluator integrated system. |  |\n",
    "\n",
    "##### Faithfulness, Context relevance, Answer relevance and Answer similarity parameters\n",
    "Applicable when using the Generative AI evaluator created for LLMs and not for the fine-tuned small models within the runtime-24.1 environment in watsonx.ai\n",
    "\n",
    "| Parameter | Description |\n",
    "|:-|:-|\n",
    "| `metric_prompt_template` [Optional]| The prompt template used to compute each metric values. User can override the prompt template used by watsonx.governance to compute the metric using this parameter. The prompt template should use the variables {context}, {question}, {answer}, {reference_answer} as needed and these variable values will be filled with the actual data while calling the scoring function. The prompt response should return the metric value in the range 1-10 for the respective metric and in one of the formats [\"4\", \"7 star\", \"star: 8\", \"stars: 9\"] as answer. |\n",
    "\n",
    "Applicable when using the fine-tuned small models within the runtime-24.1 environment in watsonx.ai.   \n",
    "Not applicable for Answer similarity as the metric cannot be computed using fine-tuned small models.\n",
    "\n",
    "| Parameter | Description | Default Value | Possible Value(s) |\n",
    "|:-|:-|:-|:-|\n",
    "| sample_size [Optional]| The metrics are computed for a maximum of 50 LLM responses.  If you wish to compute it for a smaller number of responses, set the sample_size value to a lower number. If the number of records in the input data frame are more than the sample size, a uniform random sample will taken for computation. | `50` | Integer between 0 to 50. Max value supported is 50 |\n",
    "\n",
    "##### Unsuccessful requests parameters\n",
    "\n",
    "| Parameter | Description | Default Value |\n",
    "|:-|:-|:-|\n",
    "| `unsuccessful_phrases` [Optional]| The list of phrases to be used for comparing the model output to determine whether the request is unsuccessful or not. | `[\"i don't know\", \"i do not know\", \"i'm not sure\", \"i am not sure\", \"i'm unsure\", \"i am unsure\", \"i'm uncertain\", \"i am uncertain\", \"i'm not certain\", \"i am not certain\", \"i can't fulfill\", \"i cannot fulfill\"]` |\n"
   ]
  },
  {
   "cell_type": "code",
   "execution_count": 17,
   "metadata": {
    "id": "00d6b96d-08e0-46d6-9088-815791447d0c"
   },
   "outputs": [
    {
     "name": "stdout",
     "output_type": "stream",
     "text": [
      "\n",
      "\n",
      "=============================================================================\n",
      "\n",
      " Waiting for end of adding prompt setup 67abfe24-5f2c-4a30-bd54-22867e199eb0 \n",
      "\n",
      "=============================================================================\n",
      "\n",
      "\n",
      "\n",
      "running.\n",
      "finished\n",
      "\n",
      "---------------------------------------------------------------\n",
      " Successfully finished setting up prompt template subscription \n",
      "---------------------------------------------------------------\n",
      "\n",
      "\n"
     ]
    },
    {
     "data": {
      "text/plain": [
       "{'prompt_template_asset_id': '67abfe24-5f2c-4a30-bd54-22867e199eb0',\n",
       " 'project_id': '5295537f-5866-4432-92fc-4bcf65970e1f',\n",
       " 'deployment_id': 'a338ac66-294b-4ee8-992d-2b137c79d05e',\n",
       " 'service_provider_id': '3cbda919-82fe-4278-920a-4045a4cf0973',\n",
       " 'subscription_id': 'e9f7ff86-bcfc-4bc8-9335-c62e9fba3c2b',\n",
       " 'mrm_monitor_instance_id': '8bf11d74-325a-4f05-93b5-d3944335ec66',\n",
       " 'start_time': '2024-11-07T17:42:51.344192Z',\n",
       " 'end_time': '2024-11-07T17:43:07.119872Z',\n",
       " 'status': {'state': 'FINISHED'}}"
      ]
     },
     "execution_count": 17,
     "metadata": {},
     "output_type": "execute_result"
    }
   ],
   "source": [
    "# Update the label_column, context_fields, question_field values based on the prompt and test data used\n",
    "label_column = \"answer\"\n",
    "context_fields = [\"context1\", \"context2\", \"context3\"]\n",
    "question_field = \"question\"\n",
    "\n",
    "operational_space_id = \"development\"\n",
    "problem_type = \"retrieval_augmented_generation\"\n",
    "input_data_type = \"unstructured_text\"\n",
    "\n",
    "\n",
    "monitors = {\n",
    "    \"generative_ai_quality\": {\n",
    "        \"parameters\": {\n",
    "            \"generative_ai_evaluator\": { # global LLM as judge configuration\n",
    "               \"enabled\": True,\n",
    "               \"evaluator_id\": evaluator_id,\n",
    "            },\n",
    "            \"min_sample_size\": 5,\n",
    "            \"metrics_configuration\": {\n",
    "                \"faithfulness\": {\n",
    "                    # \"sample_size\": 2, # Not supported for LLM as Judge\n",
    "                    # \"metric_prompt_template\": \"\", # adding custom template\n",
    "                    # Uncomment generative_ai_evaluator to use a different evaluator for this metric.\n",
    "                    # Takes higher precedence than the generative_ai_evaluator specified at global level.\n",
    "                    # \"generative_ai_evaluator\": {  # metric specific LLM as judge configuration\n",
    "                    #     \"enabled\": True,\n",
    "                    #     \"evaluator_id\": evaluator_id,\n",
    "                    # },\n",
    "                },\n",
    "                \"answer_relevance\": {\n",
    "                    # \"sample_size\": 2, # Not supported for LLM as Judge\n",
    "                    # \"metric_prompt_template\": \"\", # adding custom template\n",
    "                    # Uncomment generative_ai_evaluator to use a different evaluator for this metric\n",
    "                    # Takes higher precedence than the generative_ai_evaluator specified at global level.\n",
    "                    # \"generative_ai_evaluator\": {  # metric specific LLM as judge configuration\n",
    "                    #     \"enabled\": True,\n",
    "                    #     \"evaluator_id\": evaluator_id,\n",
    "                    # },\n",
    "                },\n",
    "                \"rouge_score\": {},\n",
    "                \"exact_match\": {},\n",
    "                \"bleu\": {},\n",
    "                \"unsuccessful_requests\": {\n",
    "                    # \"unsuccessful_phrases\": []\n",
    "                },\n",
    "                \"hap_input_score\": {},\n",
    "                \"hap_score\": {},\n",
    "                \"pii\": {},\n",
    "                \"pii_input\": {},\n",
    "                \"retrieval_quality\": {\n",
    "                    # \"sample_size\": 2, # Not supported for LLM as Judge\n",
    "                    # Uncomment generative_ai_evaluator to use a different evaluator for this metric\n",
    "                    # Takes higher precedence than the generative_ai_evaluator specified at global level.\n",
    "                    # \"generative_ai_evaluator\": {  # metric specific LLM as judge configuration\n",
    "                    #     \"enabled\": True,\n",
    "                    #     \"evaluator_id\": evaluator_id,\n",
    "                    # },\n",
    "                    # The metrics computed for retrieval quality are context_relevance, retrieval_precision, average_precision, reciprocal_rank, hit_rate, normalized_discounted_cumulative_gain\n",
    "                    # \"context_relevance\": {\n",
    "                    #     \"metric_prompt_template\": \"\", # adding custom template\n",
    "                    # }\n",
    "                },\n",
    "                # Answer similarity metric is supported only when LLM as judge is configured. Uncomment only when using LLM as judge.\n",
    "                \"answer_similarity\": {\n",
    "                    # \"metric_prompt_template\": \"\", # adding custom template\n",
    "                    # Uncomment generative_ai_evaluator to use a different evaluator for this metric\n",
    "                    # Takes higher precedence than the generative_ai_evaluator specified at global level.\n",
    "                    # \"generative_ai_evaluator\": {  # metric specific LLM as judge configuration\n",
    "                    #     \"enabled\": True,\n",
    "                    #     \"evaluator_id\": evaluator_id,\n",
    "                    # },\n",
    "                },\n",
    "            },\n",
    "        }\n",
    "    }\n",
    "}\n",
    "\n",
    "response = wos_client.wos.execute_prompt_setup(\n",
    "    prompt_template_asset_id=project_pta_id,\n",
    "    project_id=project_id,\n",
    "    context_fields=context_fields,\n",
    "    question_field=question_field,\n",
    "    label_column=label_column,\n",
    "    operational_space_id=operational_space_id,\n",
    "    problem_type=problem_type,\n",
    "    input_data_type=input_data_type,\n",
    "    supporting_monitors=monitors,\n",
    "    background_mode=False,\n",
    ")\n",
    "\n",
    "result = response.result\n",
    "result._to_dict()"
   ]
  },
  {
   "cell_type": "markdown",
   "metadata": {
    "id": "bcdaa0d3-0c0f-49cb-a14c-9cf57716d817"
   },
   "source": [
    "With the following cell, you can read the prompt setup task and check its status"
   ]
  },
  {
   "cell_type": "code",
   "execution_count": 18,
   "metadata": {
    "id": "642cd908-0d3c-4ac2-988f-192b6228e9b4"
   },
   "outputs": [
    {
     "name": "stdout",
     "output_type": "stream",
     "text": [
      "Finished prompt setup : The response is {'prompt_template_asset_id': '67abfe24-5f2c-4a30-bd54-22867e199eb0', 'project_id': '5295537f-5866-4432-92fc-4bcf65970e1f', 'deployment_id': 'a338ac66-294b-4ee8-992d-2b137c79d05e', 'service_provider_id': '3cbda919-82fe-4278-920a-4045a4cf0973', 'subscription_id': 'e9f7ff86-bcfc-4bc8-9335-c62e9fba3c2b', 'mrm_monitor_instance_id': '8bf11d74-325a-4f05-93b5-d3944335ec66', 'start_time': '2024-11-07T17:42:51.344192Z', 'end_time': '2024-11-07T17:43:07.119872Z', 'status': {'state': 'FINISHED'}}\n"
     ]
    }
   ],
   "source": [
    "response = wos_client.wos.get_prompt_setup(\n",
    "    prompt_template_asset_id=project_pta_id, project_id=project_id\n",
    ")\n",
    "\n",
    "result = response.result\n",
    "result_json = result._to_dict()\n",
    "\n",
    "if result_json[\"status\"][\"state\"] == \"FINISHED\":\n",
    "    print(\"Finished prompt setup : The response is {}\".format(result_json))\n",
    "else:\n",
    "    print(\"prompt setup failed The response is {}\".format(result_json))"
   ]
  },
  {
   "cell_type": "markdown",
   "metadata": {
    "id": "0dccbb06-ea2f-4004-9eea-e8fba8ba9278"
   },
   "source": [
    "### Read the `subscription_id` from the prompt setup"
   ]
  },
  {
   "cell_type": "markdown",
   "metadata": {
    "id": "645fa0b3-2f59-49eb-ae7e-d6e704e375f3"
   },
   "source": [
    "Once the prompt setup status is `FINISHED`, read the subscription ID:"
   ]
  },
  {
   "cell_type": "code",
   "execution_count": 19,
   "metadata": {
    "id": "56a66cdd-3c4b-4cf5-acc6-cc1eda258eec"
   },
   "outputs": [
    {
     "data": {
      "text/plain": [
       "'e9f7ff86-bcfc-4bc8-9335-c62e9fba3c2b'"
      ]
     },
     "execution_count": 19,
     "metadata": {},
     "output_type": "execute_result"
    }
   ],
   "source": [
    "dev_subscription_id = result_json[\"subscription_id\"]\n",
    "dev_subscription_id"
   ]
  },
  {
   "cell_type": "markdown",
   "metadata": {
    "id": "f6ce33aa-5959-41f6-a433-bcc5e7235b7e"
   },
   "source": [
    "### Show all monitor instances in the development subscription\n",
    "The following cell lists the monitors present in the development subscription, along with their respective statuses and other details. Please wait for all the monitors to be in an active state before proceeding further."
   ]
  },
  {
   "cell_type": "code",
   "execution_count": 20,
   "metadata": {
    "id": "e98875e2-9b71-4fda-b1f7-018eaf2ccdd5"
   },
   "outputs": [
    {
     "data": {
      "text/html": [
       "<HTML>\n",
       "        <body>\n",
       "            <h3>Monitor instances</h3>\n",
       "            <table style='border: 1px solid #dddddd; font-family: Courier'>\n",
       "                <th style='border: 1px solid #dddddd'>data_mart_id</th><th style='border: 1px solid #dddddd'>status</th><th style='border: 1px solid #dddddd'>target_id</th><th style='border: 1px solid #dddddd'>target_type</th><th style='border: 1px solid #dddddd'>monitor_definition_id</th><th style='border: 1px solid #dddddd'>created_at</th><th style='border: 1px solid #dddddd'>id</th>\n",
       "                <tr><td style='border: 1px solid #dddddd'>dea2ecd3-2a6c-4fdd-8736-136b706d3707</td><td style='border: 1px solid #dddddd'>active</td><td style='border: 1px solid #dddddd'>e9f7ff86-bcfc-4bc8-9335-c62e9fba3c2b</td><td style='border: 1px solid #dddddd'>subscription</td><td style='border: 1px solid #dddddd'>generative_ai_quality</td><td style='border: 1px solid #dddddd'>2024-11-07 17:42:58.939000+00:00</td><td style='border: 1px solid #dddddd'>91fa1ce0-05dd-49f3-a255-27bb009c9f40</td></tr><tr><td style='border: 1px solid #dddddd'>dea2ecd3-2a6c-4fdd-8736-136b706d3707</td><td style='border: 1px solid #dddddd'>active</td><td style='border: 1px solid #dddddd'>e9f7ff86-bcfc-4bc8-9335-c62e9fba3c2b</td><td style='border: 1px solid #dddddd'>subscription</td><td style='border: 1px solid #dddddd'>model_health</td><td style='border: 1px solid #dddddd'>2024-11-07 17:42:59.583000+00:00</td><td style='border: 1px solid #dddddd'>01698f14-5fa4-48c7-a240-175bc9b1d5b3</td></tr><tr><td style='border: 1px solid #dddddd'>dea2ecd3-2a6c-4fdd-8736-136b706d3707</td><td style='border: 1px solid #dddddd'>active</td><td style='border: 1px solid #dddddd'>e9f7ff86-bcfc-4bc8-9335-c62e9fba3c2b</td><td style='border: 1px solid #dddddd'>subscription</td><td style='border: 1px solid #dddddd'>mrm</td><td style='border: 1px solid #dddddd'>2024-11-07 17:43:00.161000+00:00</td><td style='border: 1px solid #dddddd'>8bf11d74-325a-4f05-93b5-d3944335ec66</td></tr>\n",
       "            </table>\n",
       "        </body>\n",
       "        </HTML>"
      ],
      "text/plain": [
       "<IPython.core.display.HTML object>"
      ]
     },
     "metadata": {},
     "output_type": "display_data"
    }
   ],
   "source": [
    "wos_client.monitor_instances.show(target_target_id=dev_subscription_id)"
   ]
  },
  {
   "cell_type": "markdown",
   "metadata": {
    "id": "0013c9fc-e78f-4953-924e-bf9440e46392"
   },
   "source": [
    "## Step 4 - Risk evaluations for the PTA subscription <a name=\"evaluate\"></a>"
   ]
  },
  {
   "cell_type": "markdown",
   "metadata": {
    "id": "5a483fcc-946c-456a-bcac-c1dbb76e2e3d"
   },
   "source": [
    "### Evaluate the prompt template subscription\n",
    "\n",
    "For risk assessment of a `development`-type subscription, you must have an evaluation dataset. The risk assessment function takes the evaluation dataset path as a parameter when evaluating the configured metrics. If there is a discrepancy between the feature columns in the subscription and the column names in the uploading `.CSV` file, you have the option to supply a mapping JSON file to associate the `.CSV` column names with the feature column names in the subscription.\n",
    "\n",
    "**Note**: If you are running this notebook from Watson Studio, you may first need to upload your test data to Watson Studio, then run the code snippet below to download the feedback data file from the project to a local directory."
   ]
  },
  {
   "cell_type": "code",
   "execution_count": 21,
   "metadata": {
    "id": "7ad18ca0-2be2-4cd5-b11b-3249f4a800cf"
   },
   "outputs": [
    {
     "name": "stdout",
     "output_type": "stream",
     "text": [
      "--2024-11-07 23:13:52--  https://raw.githubusercontent.com/IBM/watson-openscale-samples/main/IBM%20Cloud/WML/assets/data/watsonx/rag_state_union.csv\n",
      "Resolving raw.githubusercontent.com (raw.githubusercontent.com)... 185.199.109.133, 185.199.111.133, 185.199.108.133, ...\n",
      "Connecting to raw.githubusercontent.com (raw.githubusercontent.com)|185.199.109.133|:443... connected.\n",
      "HTTP request sent, awaiting response... 200 OK\n",
      "Length: 20259 (20K) [text/plain]\n",
      "Saving to: ‘rag_state_union.csv’\n",
      "\n",
      "rag_state_union.csv 100%[===================>]  19.78K  --.-KB/s    in 0.002s  \n",
      "\n",
      "2024-11-07 23:13:52 (7.91 MB/s) - ‘rag_state_union.csv’ saved [20259/20259]\n",
      "\n"
     ]
    }
   ],
   "source": [
    "# Download rag data or use the one shared within the git\n",
    "!rm rag_state_union.csv\n",
    "!wget https://raw.githubusercontent.com/IBM/watson-openscale-samples/main/IBM%20Cloud/WML/assets/data/watsonx/rag_state_union.csv"
   ]
  },
  {
   "cell_type": "code",
   "execution_count": 22,
   "metadata": {
    "id": "7dd5d2d5-9ec8-49ee-a5df-0fb8fb26493d"
   },
   "outputs": [],
   "source": [
    "test_data_path = \"rag_state_union.csv\"\n",
    "body = None  # Please update your mapping file path here if needed\n",
    "\n",
    "# Download data from project to local directory\n",
    "# Run the below code snippet only if you are running the notebook via Watson Studio\n",
    "# from ibm_watson_studio_lib import access_project_or_space\n",
    "# wslib = access_project_or_space()\n",
    "# wslib.download_file(test_data_path)\n",
    "# if body:\n",
    "#     wslib.download_file(body)"
   ]
  },
  {
   "cell_type": "markdown",
   "metadata": {
    "id": "a2583f03-c1d7-4498-af66-14211a286de1"
   },
   "source": [
    "### Read the Model Risk metrics `instance_id` from OpenScale\n",
    "\n",
    "Evaluating test data against the prompt template subscription requires the monitor instance ID for your OpenScale Model Risk metrics."
   ]
  },
  {
   "cell_type": "code",
   "execution_count": 23,
   "metadata": {
    "id": "8f0bcdb1-12da-4645-8ab6-e4edf740d1a6"
   },
   "outputs": [
    {
     "data": {
      "text/plain": [
       "'8bf11d74-325a-4f05-93b5-d3944335ec66'"
      ]
     },
     "execution_count": 23,
     "metadata": {},
     "output_type": "execute_result"
    }
   ],
   "source": [
    "monitor_definition_id = \"mrm\"\n",
    "target_target_id = dev_subscription_id\n",
    "result = wos_client.monitor_instances.list(\n",
    "    data_mart_id=data_mart_id,\n",
    "    monitor_definition_id=monitor_definition_id,\n",
    "    target_target_id=target_target_id,\n",
    "    project_id=project_id,\n",
    ").result\n",
    "result_json = result._to_dict()\n",
    "mrm_monitor_id = result_json[\"monitor_instances\"][0][\"metadata\"][\"id\"]\n",
    "mrm_monitor_id"
   ]
  },
  {
   "cell_type": "markdown",
   "metadata": {
    "id": "9e38c223-d453-4449-ab95-18058d5cfc27"
   },
   "source": [
    "The following cell will assess the test data with the subscription of the PTA and produce relevant measurements for the configured monitor."
   ]
  },
  {
   "cell_type": "code",
   "execution_count": 24,
   "metadata": {
    "id": "bc0f1887-4d02-4da5-864a-9601ba7dae9c"
   },
   "outputs": [
    {
     "name": "stdout",
     "output_type": "stream",
     "text": [
      "\n",
      "\n",
      "=================================================================================\n",
      "\n",
      " Waiting for risk evaluation of MRM monitor 8bf11d74-325a-4f05-93b5-d3944335ec66 \n",
      "\n",
      "=================================================================================\n",
      "\n",
      "\n",
      "\n",
      "upload_in_progress.\n",
      "running...\n",
      "finished\n",
      "\n",
      "---------------------------------------\n",
      " Successfully finished evaluating risk \n",
      "---------------------------------------\n",
      "\n",
      "\n"
     ]
    }
   ],
   "source": [
    "test_data_set_name = \"data\"\n",
    "content_type = \"multipart/form-data\"\n",
    "\n",
    "response = wos_client.monitor_instances.mrm.evaluate_risk(\n",
    "    monitor_instance_id=mrm_monitor_id,\n",
    "    test_data_set_name=test_data_set_name,\n",
    "    test_data_path=test_data_path,\n",
    "    content_type=content_type,\n",
    "    body=body,\n",
    "    project_id=project_id,\n",
    "    background_mode=False,\n",
    ")"
   ]
  },
  {
   "cell_type": "markdown",
   "metadata": {
    "id": "f2acbed4-3179-4904-a391-e567d101956d"
   },
   "source": [
    "### Read the risk evaluation response\n",
    "\n",
    "After initiating the risk evaluation, the evaluation results are available for review:"
   ]
  },
  {
   "cell_type": "code",
   "execution_count": 25,
   "metadata": {
    "id": "03f6b2ae-ff88-42d8-94b8-f10ee3620a59"
   },
   "outputs": [
    {
     "data": {
      "text/plain": [
       "{'metadata': {'id': 'fd8aeb22-a8c5-4eda-88a6-0b65864395a7',\n",
       "  'created_at': '2024-11-07T17:44:58.206Z',\n",
       "  'created_by': 'iam-ServiceId-b317a8da-d926-496e-b0ca-6bcc57f556ae'},\n",
       " 'entity': {'triggered_by': 'user',\n",
       "  'parameters': {'evaluation_start_time': '2024-11-07T17:44:39.596731Z',\n",
       "   'evaluator_user_key': 'd9cee085-68fa-440c-9b3b-f80f237625d6',\n",
       "   'facts': {'error': 'Error sending Fact metadata for subscription e9f7ff86-bcfc-4bc8-9335-c62e9fba3c2b. Reason: 403, {\"errors\":[{\"code\":\"Forbidden\",\"message\":\"Forbidden while executing GET https://internal.api.dataplatform.test.cloud.ibm.com/v2/projects/5295537f-5866-4432-92fc-4bcf65970e1f\"}],\"trace\":\"7px5frilerousnhse6sa6xd2o\"}',\n",
       "    'state': 'error'},\n",
       "   'is_auto_evaluated': False,\n",
       "   'measurement_id': 'f6be8d65-bdd7-4de1-83b7-c62dc819ba82',\n",
       "   'monitors_run_status': [{'monitor_id': 'generative_ai_quality',\n",
       "     'status': {'state': 'finished'}},\n",
       "    {'monitor_id': 'model_health', 'status': {'state': 'finished'}}],\n",
       "   'project_id': '5295537f-5866-4432-92fc-4bcf65970e1f',\n",
       "   'prompt_template_asset_id': '67abfe24-5f2c-4a30-bd54-22867e199eb0',\n",
       "   'user_iam_id': 'IBMid-693000DYYL',\n",
       "   'wos_created_deployment_id': 'a338ac66-294b-4ee8-992d-2b137c79d05e',\n",
       "   'publish_metrics': 'false',\n",
       "   'evaluation_tests': ['drift_v2',\n",
       "    'fairness',\n",
       "    'generative_ai_quality',\n",
       "    'model_health',\n",
       "    'quality']},\n",
       "  'status': {'state': 'finished',\n",
       "   'queued_at': '2024-11-07T17:44:58.131000Z',\n",
       "   'started_at': '2024-11-07T17:44:58.615000Z',\n",
       "   'updated_at': '2024-11-07T17:45:30.196000Z',\n",
       "   'completed_at': '2024-11-07T17:45:25.908000Z',\n",
       "   'message': 'Mrm evaluation complete.',\n",
       "   'operators': []}}}"
      ]
     },
     "execution_count": 25,
     "metadata": {},
     "output_type": "execute_result"
    }
   ],
   "source": [
    "response = wos_client.monitor_instances.mrm.get_risk_evaluation(\n",
    "    mrm_monitor_id, project_id=project_id\n",
    ")\n",
    "response.result.to_dict()"
   ]
  },
  {
   "cell_type": "markdown",
   "metadata": {
    "id": "3d49fe1b-8b2c-4de2-b184-3dd779bed933"
   },
   "source": [
    "## Step 5 - Display the Model Risk metrics <a name=\"mrmmetric\"></a>"
   ]
  },
  {
   "cell_type": "markdown",
   "metadata": {},
   "source": [
    "Having calculated the measurements for the Foundation Model subscription, the Model Risk metrics generated for this subscription are available for your review:"
   ]
  },
  {
   "cell_type": "code",
   "execution_count": 26,
   "metadata": {
    "id": "524985f7-5339-4107-83b3-4ca740fc33eb"
   },
   "outputs": [
    {
     "data": {
      "text/html": [
       "<HTML>\n",
       "        <body>\n",
       "            <h3>8bf11d74-325a-4f05-93b5-d3944335ec66 Monitor Runs Metrics from: 2024-10-31 23:20:20.588721  till: 2024-11-07 23:20:20.588731</h3>\n",
       "            <table style='border: 1px solid #dddddd; font-family: Courier'>\n",
       "                <th style='border: 1px solid #dddddd'>ts</th><th style='border: 1px solid #dddddd'>id</th><th style='border: 1px solid #dddddd'>measurement_id</th><th style='border: 1px solid #dddddd'>value</th><th style='border: 1px solid #dddddd'>lower_limit</th><th style='border: 1px solid #dddddd'>upper_limit</th><th style='border: 1px solid #dddddd'>tags</th><th style='border: 1px solid #dddddd'>monitor_definition_id</th><th style='border: 1px solid #dddddd'>monitor_instance_id</th><th style='border: 1px solid #dddddd'>run_id</th><th style='border: 1px solid #dddddd'>target_type</th><th style='border: 1px solid #dddddd'>target_id</th>\n",
       "                <tr><td style='border: 1px solid #dddddd'>2024-11-07 17:44:58.316000+00:00</td><td style='border: 1px solid #dddddd'>tests_passed</td><td style='border: 1px solid #dddddd'>f6be8d65-bdd7-4de1-83b7-c62dc819ba82</td><td style='border: 1px solid #dddddd'>0.0</td><td style='border: 1px solid #dddddd'>None</td><td style='border: 1px solid #dddddd'>None</td><td style='border: 1px solid #dddddd'>['test_data_set_name:data']</td><td style='border: 1px solid #dddddd'>mrm</td><td style='border: 1px solid #dddddd'>8bf11d74-325a-4f05-93b5-d3944335ec66</td><td style='border: 1px solid #dddddd'>fd8aeb22-a8c5-4eda-88a6-0b65864395a7</td><td style='border: 1px solid #dddddd'>subscription</td><td style='border: 1px solid #dddddd'>e9f7ff86-bcfc-4bc8-9335-c62e9fba3c2b</td></tr><tr><td style='border: 1px solid #dddddd'>2024-11-07 17:44:58.316000+00:00</td><td style='border: 1px solid #dddddd'>tests_run</td><td style='border: 1px solid #dddddd'>f6be8d65-bdd7-4de1-83b7-c62dc819ba82</td><td style='border: 1px solid #dddddd'>1.0</td><td style='border: 1px solid #dddddd'>None</td><td style='border: 1px solid #dddddd'>None</td><td style='border: 1px solid #dddddd'>['test_data_set_name:data']</td><td style='border: 1px solid #dddddd'>mrm</td><td style='border: 1px solid #dddddd'>8bf11d74-325a-4f05-93b5-d3944335ec66</td><td style='border: 1px solid #dddddd'>fd8aeb22-a8c5-4eda-88a6-0b65864395a7</td><td style='border: 1px solid #dddddd'>subscription</td><td style='border: 1px solid #dddddd'>e9f7ff86-bcfc-4bc8-9335-c62e9fba3c2b</td></tr><tr><td style='border: 1px solid #dddddd'>2024-11-07 17:44:58.316000+00:00</td><td style='border: 1px solid #dddddd'>tests_skipped</td><td style='border: 1px solid #dddddd'>f6be8d65-bdd7-4de1-83b7-c62dc819ba82</td><td style='border: 1px solid #dddddd'>3.0</td><td style='border: 1px solid #dddddd'>None</td><td style='border: 1px solid #dddddd'>None</td><td style='border: 1px solid #dddddd'>['test_data_set_name:data']</td><td style='border: 1px solid #dddddd'>mrm</td><td style='border: 1px solid #dddddd'>8bf11d74-325a-4f05-93b5-d3944335ec66</td><td style='border: 1px solid #dddddd'>fd8aeb22-a8c5-4eda-88a6-0b65864395a7</td><td style='border: 1px solid #dddddd'>subscription</td><td style='border: 1px solid #dddddd'>e9f7ff86-bcfc-4bc8-9335-c62e9fba3c2b</td></tr><tr><td style='border: 1px solid #dddddd'>2024-11-07 17:44:58.316000+00:00</td><td style='border: 1px solid #dddddd'>tests_failed</td><td style='border: 1px solid #dddddd'>f6be8d65-bdd7-4de1-83b7-c62dc819ba82</td><td style='border: 1px solid #dddddd'>1.0</td><td style='border: 1px solid #dddddd'>None</td><td style='border: 1px solid #dddddd'>None</td><td style='border: 1px solid #dddddd'>['test_data_set_name:data']</td><td style='border: 1px solid #dddddd'>mrm</td><td style='border: 1px solid #dddddd'>8bf11d74-325a-4f05-93b5-d3944335ec66</td><td style='border: 1px solid #dddddd'>fd8aeb22-a8c5-4eda-88a6-0b65864395a7</td><td style='border: 1px solid #dddddd'>subscription</td><td style='border: 1px solid #dddddd'>e9f7ff86-bcfc-4bc8-9335-c62e9fba3c2b</td></tr>\n",
       "            </table>\n",
       "        </body>\n",
       "        </HTML>"
      ],
      "text/plain": [
       "<IPython.core.display.HTML object>"
      ]
     },
     "metadata": {},
     "output_type": "display_data"
    }
   ],
   "source": [
    "wos_client.monitor_instances.show_metrics(\n",
    "    monitor_instance_id=mrm_monitor_id, project_id=project_id\n",
    ")"
   ]
  },
  {
   "cell_type": "markdown",
   "metadata": {
    "id": "76ebe4e0-b17b-4176-88ab-e0e87ca8f554"
   },
   "source": [
    "## Step 6 - Display the Generative AI quality metrics <a name=\"genaimetrics\"></a>"
   ]
  },
  {
   "cell_type": "markdown",
   "metadata": {
    "id": "e03ff555-5522-4f2e-814d-bae9a7a92fe7"
   },
   "source": [
    "The monitor instance ID is required for reading the Generative AI quality metrics."
   ]
  },
  {
   "cell_type": "code",
   "execution_count": 27,
   "metadata": {
    "id": "0f56e775-7811-4b13-9dbf-ecf0d03d6e9c"
   },
   "outputs": [
    {
     "data": {
      "text/plain": [
       "'91fa1ce0-05dd-49f3-a255-27bb009c9f40'"
      ]
     },
     "execution_count": 27,
     "metadata": {},
     "output_type": "execute_result"
    }
   ],
   "source": [
    "monitor_definition_id = \"generative_ai_quality\"\n",
    "result = wos_client.monitor_instances.list(\n",
    "    data_mart_id=data_mart_id,\n",
    "    monitor_definition_id=monitor_definition_id,\n",
    "    target_target_id=target_target_id,\n",
    "    project_id=project_id,\n",
    ").result\n",
    "result_json = result._to_dict()\n",
    "genaiquality_monitor_id = result_json[\"monitor_instances\"][0][\"metadata\"][\"id\"]\n",
    "genaiquality_monitor_id"
   ]
  },
  {
   "cell_type": "markdown",
   "metadata": {
    "id": "8d5a1e82-da67-4f19-9dc3-138ce73f0110"
   },
   "source": [
    "Display the Generative AI quality monitor metrics generated through the risk evaluation."
   ]
  },
  {
   "cell_type": "code",
   "execution_count": 28,
   "metadata": {
    "id": "411d7bf4-fa76-4681-8821-3efae4c7f610"
   },
   "outputs": [
    {
     "data": {
      "text/html": [
       "<HTML>\n",
       "        <body>\n",
       "            <h3>91fa1ce0-05dd-49f3-a255-27bb009c9f40 Monitor Runs Metrics from: 2024-10-31 23:20:42.320875  till: 2024-11-07 23:20:42.320882</h3>\n",
       "            <table style='border: 1px solid #dddddd; font-family: Courier'>\n",
       "                <th style='border: 1px solid #dddddd'>ts</th><th style='border: 1px solid #dddddd'>id</th><th style='border: 1px solid #dddddd'>measurement_id</th><th style='border: 1px solid #dddddd'>value</th><th style='border: 1px solid #dddddd'>lower_limit</th><th style='border: 1px solid #dddddd'>upper_limit</th><th style='border: 1px solid #dddddd'>tags</th><th style='border: 1px solid #dddddd'>monitor_definition_id</th><th style='border: 1px solid #dddddd'>monitor_instance_id</th><th style='border: 1px solid #dddddd'>run_id</th><th style='border: 1px solid #dddddd'>target_type</th><th style='border: 1px solid #dddddd'>target_id</th>\n",
       "                <tr><td style='border: 1px solid #dddddd'>2024-11-07 17:45:14.792247+00:00</td><td style='border: 1px solid #dddddd'>hap_input_score</td><td style='border: 1px solid #dddddd'>7763cd68-91af-4cca-965e-5da20a7b55ca</td><td style='border: 1px solid #dddddd'>0.0009</td><td style='border: 1px solid #dddddd'>None</td><td style='border: 1px solid #dddddd'>0.0</td><td style='border: 1px solid #dddddd'>['computed_on:feedback', 'field_type:subscription', 'aggregation_type:min']</td><td style='border: 1px solid #dddddd'>generative_ai_quality</td><td style='border: 1px solid #dddddd'>91fa1ce0-05dd-49f3-a255-27bb009c9f40</td><td style='border: 1px solid #dddddd'>7b6811b7-024e-4e00-be18-ce3a7b9b0600</td><td style='border: 1px solid #dddddd'>subscription</td><td style='border: 1px solid #dddddd'>e9f7ff86-bcfc-4bc8-9335-c62e9fba3c2b</td></tr><tr><td style='border: 1px solid #dddddd'>2024-11-07 17:45:14.792247+00:00</td><td style='border: 1px solid #dddddd'>rouge2</td><td style='border: 1px solid #dddddd'>7763cd68-91af-4cca-965e-5da20a7b55ca</td><td style='border: 1px solid #dddddd'>0.0</td><td style='border: 1px solid #dddddd'>0.8</td><td style='border: 1px solid #dddddd'>None</td><td style='border: 1px solid #dddddd'>['computed_on:feedback', 'field_type:subscription', 'aggregation_type:min']</td><td style='border: 1px solid #dddddd'>generative_ai_quality</td><td style='border: 1px solid #dddddd'>91fa1ce0-05dd-49f3-a255-27bb009c9f40</td><td style='border: 1px solid #dddddd'>7b6811b7-024e-4e00-be18-ce3a7b9b0600</td><td style='border: 1px solid #dddddd'>subscription</td><td style='border: 1px solid #dddddd'>e9f7ff86-bcfc-4bc8-9335-c62e9fba3c2b</td></tr><tr><td style='border: 1px solid #dddddd'>2024-11-07 17:45:14.792247+00:00</td><td style='border: 1px solid #dddddd'>faithfulness</td><td style='border: 1px solid #dddddd'>7763cd68-91af-4cca-965e-5da20a7b55ca</td><td style='border: 1px solid #dddddd'>0.2</td><td style='border: 1px solid #dddddd'>0.7</td><td style='border: 1px solid #dddddd'>None</td><td style='border: 1px solid #dddddd'>['computed_on:feedback', 'field_type:subscription', 'aggregation_type:min']</td><td style='border: 1px solid #dddddd'>generative_ai_quality</td><td style='border: 1px solid #dddddd'>91fa1ce0-05dd-49f3-a255-27bb009c9f40</td><td style='border: 1px solid #dddddd'>7b6811b7-024e-4e00-be18-ce3a7b9b0600</td><td style='border: 1px solid #dddddd'>subscription</td><td style='border: 1px solid #dddddd'>e9f7ff86-bcfc-4bc8-9335-c62e9fba3c2b</td></tr><tr><td style='border: 1px solid #dddddd'>2024-11-07 17:45:14.792247+00:00</td><td style='border: 1px solid #dddddd'>average_precision</td><td style='border: 1px solid #dddddd'>7763cd68-91af-4cca-965e-5da20a7b55ca</td><td style='border: 1px solid #dddddd'>0.3</td><td style='border: 1px solid #dddddd'>0.7</td><td style='border: 1px solid #dddddd'>None</td><td style='border: 1px solid #dddddd'>['computed_on:feedback', 'field_type:subscription', 'aggregation_type:min']</td><td style='border: 1px solid #dddddd'>generative_ai_quality</td><td style='border: 1px solid #dddddd'>91fa1ce0-05dd-49f3-a255-27bb009c9f40</td><td style='border: 1px solid #dddddd'>7b6811b7-024e-4e00-be18-ce3a7b9b0600</td><td style='border: 1px solid #dddddd'>subscription</td><td style='border: 1px solid #dddddd'>e9f7ff86-bcfc-4bc8-9335-c62e9fba3c2b</td></tr><tr><td style='border: 1px solid #dddddd'>2024-11-07 17:45:14.792247+00:00</td><td style='border: 1px solid #dddddd'>records_processed</td><td style='border: 1px solid #dddddd'>7763cd68-91af-4cca-965e-5da20a7b55ca</td><td style='border: 1px solid #dddddd'>5.0</td><td style='border: 1px solid #dddddd'>None</td><td style='border: 1px solid #dddddd'>None</td><td style='border: 1px solid #dddddd'>['computed_on:feedback', 'field_type:subscription', 'aggregation_type:min']</td><td style='border: 1px solid #dddddd'>generative_ai_quality</td><td style='border: 1px solid #dddddd'>91fa1ce0-05dd-49f3-a255-27bb009c9f40</td><td style='border: 1px solid #dddddd'>7b6811b7-024e-4e00-be18-ce3a7b9b0600</td><td style='border: 1px solid #dddddd'>subscription</td><td style='border: 1px solid #dddddd'>e9f7ff86-bcfc-4bc8-9335-c62e9fba3c2b</td></tr><tr><td style='border: 1px solid #dddddd'>2024-11-07 17:45:14.792247+00:00</td><td style='border: 1px solid #dddddd'>hit_rate</td><td style='border: 1px solid #dddddd'>7763cd68-91af-4cca-965e-5da20a7b55ca</td><td style='border: 1px solid #dddddd'>1.0</td><td style='border: 1px solid #dddddd'>0.7</td><td style='border: 1px solid #dddddd'>None</td><td style='border: 1px solid #dddddd'>['computed_on:feedback', 'field_type:subscription', 'aggregation_type:min']</td><td style='border: 1px solid #dddddd'>generative_ai_quality</td><td style='border: 1px solid #dddddd'>91fa1ce0-05dd-49f3-a255-27bb009c9f40</td><td style='border: 1px solid #dddddd'>7b6811b7-024e-4e00-be18-ce3a7b9b0600</td><td style='border: 1px solid #dddddd'>subscription</td><td style='border: 1px solid #dddddd'>e9f7ff86-bcfc-4bc8-9335-c62e9fba3c2b</td></tr><tr><td style='border: 1px solid #dddddd'>2024-11-07 17:45:14.792247+00:00</td><td style='border: 1px solid #dddddd'>rougelsum</td><td style='border: 1px solid #dddddd'>7763cd68-91af-4cca-965e-5da20a7b55ca</td><td style='border: 1px solid #dddddd'>0.0714</td><td style='border: 1px solid #dddddd'>0.8</td><td style='border: 1px solid #dddddd'>None</td><td style='border: 1px solid #dddddd'>['computed_on:feedback', 'field_type:subscription', 'aggregation_type:min']</td><td style='border: 1px solid #dddddd'>generative_ai_quality</td><td style='border: 1px solid #dddddd'>91fa1ce0-05dd-49f3-a255-27bb009c9f40</td><td style='border: 1px solid #dddddd'>7b6811b7-024e-4e00-be18-ce3a7b9b0600</td><td style='border: 1px solid #dddddd'>subscription</td><td style='border: 1px solid #dddddd'>e9f7ff86-bcfc-4bc8-9335-c62e9fba3c2b</td></tr><tr><td style='border: 1px solid #dddddd'>2024-11-07 17:45:14.792247+00:00</td><td style='border: 1px solid #dddddd'>answer_relevance</td><td style='border: 1px solid #dddddd'>7763cd68-91af-4cca-965e-5da20a7b55ca</td><td style='border: 1px solid #dddddd'>0.2</td><td style='border: 1px solid #dddddd'>0.7</td><td style='border: 1px solid #dddddd'>None</td><td style='border: 1px solid #dddddd'>['computed_on:feedback', 'field_type:subscription', 'aggregation_type:min']</td><td style='border: 1px solid #dddddd'>generative_ai_quality</td><td style='border: 1px solid #dddddd'>91fa1ce0-05dd-49f3-a255-27bb009c9f40</td><td style='border: 1px solid #dddddd'>7b6811b7-024e-4e00-be18-ce3a7b9b0600</td><td style='border: 1px solid #dddddd'>subscription</td><td style='border: 1px solid #dddddd'>e9f7ff86-bcfc-4bc8-9335-c62e9fba3c2b</td></tr><tr><td style='border: 1px solid #dddddd'>2024-11-07 17:45:14.792247+00:00</td><td style='border: 1px solid #dddddd'>hap_score</td><td style='border: 1px solid #dddddd'>7763cd68-91af-4cca-965e-5da20a7b55ca</td><td style='border: 1px solid #dddddd'>0.0004</td><td style='border: 1px solid #dddddd'>None</td><td style='border: 1px solid #dddddd'>0.0</td><td style='border: 1px solid #dddddd'>['computed_on:feedback', 'field_type:subscription', 'aggregation_type:min']</td><td style='border: 1px solid #dddddd'>generative_ai_quality</td><td style='border: 1px solid #dddddd'>91fa1ce0-05dd-49f3-a255-27bb009c9f40</td><td style='border: 1px solid #dddddd'>7b6811b7-024e-4e00-be18-ce3a7b9b0600</td><td style='border: 1px solid #dddddd'>subscription</td><td style='border: 1px solid #dddddd'>e9f7ff86-bcfc-4bc8-9335-c62e9fba3c2b</td></tr><tr><td style='border: 1px solid #dddddd'>2024-11-07 17:45:14.792247+00:00</td><td style='border: 1px solid #dddddd'>reciprocal_rank</td><td style='border: 1px solid #dddddd'>7763cd68-91af-4cca-965e-5da20a7b55ca</td><td style='border: 1px solid #dddddd'>0.3333</td><td style='border: 1px solid #dddddd'>0.7</td><td style='border: 1px solid #dddddd'>None</td><td style='border: 1px solid #dddddd'>['computed_on:feedback', 'field_type:subscription', 'aggregation_type:min']</td><td style='border: 1px solid #dddddd'>generative_ai_quality</td><td style='border: 1px solid #dddddd'>91fa1ce0-05dd-49f3-a255-27bb009c9f40</td><td style='border: 1px solid #dddddd'>7b6811b7-024e-4e00-be18-ce3a7b9b0600</td><td style='border: 1px solid #dddddd'>subscription</td><td style='border: 1px solid #dddddd'>e9f7ff86-bcfc-4bc8-9335-c62e9fba3c2b</td></tr>\n",
       "            </table>\n",
       "        </body>\n",
       "        </HTML>"
      ],
      "text/plain": [
       "<IPython.core.display.HTML object>"
      ]
     },
     "metadata": {},
     "output_type": "display_data"
    },
    {
     "name": "stdout",
     "output_type": "stream",
     "text": [
      "Note: First 10 records were displayed.\n"
     ]
    }
   ],
   "source": [
    "wos_client.monitor_instances.show_metrics(\n",
    "    monitor_instance_id=genaiquality_monitor_id, project_id=project_id\n",
    ")"
   ]
  },
  {
   "cell_type": "markdown",
   "metadata": {
    "id": "0eaf589a-3a23-4e29-be51-7aba4df22023"
   },
   "source": [
    "### Display record level metrics for Generative AI quality "
   ]
  },
  {
   "cell_type": "markdown",
   "metadata": {
    "id": "493aa938-30a3-4dbb-8a40-cb2550b5d491"
   },
   "source": [
    "Get the dataset ID for the Generative AI quality dataset:"
   ]
  },
  {
   "cell_type": "code",
   "execution_count": 29,
   "metadata": {
    "id": "f09ad225-6d99-4a78-87b4-a3d588f23cd8"
   },
   "outputs": [
    {
     "data": {
      "text/plain": [
       "'82232c13-b60a-4ee2-a951-86682ebad964'"
      ]
     },
     "execution_count": 29,
     "metadata": {},
     "output_type": "execute_result"
    }
   ],
   "source": [
    "result = wos_client.data_sets.list(\n",
    "    target_target_id=dev_subscription_id,\n",
    "    target_target_type=\"subscription\",\n",
    "    type=\"gen_ai_quality_metrics\",\n",
    ").result\n",
    "\n",
    "genaiq_dataset_id = result.data_sets[0].metadata.id\n",
    "genaiq_dataset_id"
   ]
  },
  {
   "cell_type": "markdown",
   "metadata": {
    "id": "b09e557a-8a85-4f78-9fa9-c304756a7f60"
   },
   "source": [
    "Display record level metrics for Generative AI quality:"
   ]
  },
  {
   "cell_type": "code",
   "execution_count": 30,
   "metadata": {
    "id": "deb667cf-536c-4015-8a68-14760b95f389"
   },
   "outputs": [
    {
     "data": {
      "text/html": [
       "<HTML>\n",
       "        <body>\n",
       "            <h3>Data Set 82232c13-b60a-4ee2-a951-86682ebad964 Records</h3>\n",
       "            <table style='border: 1px solid #dddddd; font-family: Courier'>\n",
       "                <th style='border: 1px solid #dddddd'>hap_input_score</th><th style='border: 1px solid #dddddd'>rouge2</th><th style='border: 1px solid #dddddd'>faithfulness</th><th style='border: 1px solid #dddddd'>pii_entities</th><th style='border: 1px solid #dddddd'>average_precision</th><th style='border: 1px solid #dddddd'>scoring_id</th><th style='border: 1px solid #dddddd'>hit_rate</th><th style='border: 1px solid #dddddd'>computed_on</th><th style='border: 1px solid #dddddd'>scoring_timestamp</th><th style='border: 1px solid #dddddd'>rougelsum</th><th style='border: 1px solid #dddddd'>answer_relevance</th><th style='border: 1px solid #dddddd'>faithfulness_attributions</th><th style='border: 1px solid #dddddd'>context_relevances</th><th style='border: 1px solid #dddddd'>hap_score</th><th style='border: 1px solid #dddddd'>reciprocal_rank</th><th style='border: 1px solid #dddddd'>pii_input_entities</th><th style='border: 1px solid #dddddd'>ndcg</th><th style='border: 1px solid #dddddd'>pii</th><th style='border: 1px solid #dddddd'>hap_input_score_entities</th><th style='border: 1px solid #dddddd'>retrieval_precision</th><th style='border: 1px solid #dddddd'>hap_score_positions</th><th style='border: 1px solid #dddddd'>bleu</th><th style='border: 1px solid #dddddd'>run_id</th><th style='border: 1px solid #dddddd'>context_relevance</th><th style='border: 1px solid #dddddd'>pii_input_positions</th><th style='border: 1px solid #dddddd'>pii_positions</th><th style='border: 1px solid #dddddd'>rougel</th><th style='border: 1px solid #dddddd'>answer_similarity</th><th style='border: 1px solid #dddddd'>exact_match</th><th style='border: 1px solid #dddddd'>unsuccessful_requests</th><th style='border: 1px solid #dddddd'>hap_score_entities</th><th style='border: 1px solid #dddddd'>pii_input</th><th style='border: 1px solid #dddddd'>hap_input_score_positions</th><th style='border: 1px solid #dddddd'>rouge1</th>\n",
       "                <tr><td style='border: 1px solid #dddddd'>0.005944382399320602</td><td style='border: 1px solid #dddddd'>0.2041</td><td style='border: 1px solid #dddddd'>0.8</td><td style='border: 1px solid #dddddd'>[]</td><td style='border: 1px solid #dddddd'>1.0</td><td style='border: 1px solid #dddddd'>MRM_c3118bc3-20fb-458c-b68e-acb25248ea0b-0</td><td style='border: 1px solid #dddddd'>1.0</td><td style='border: 1px solid #dddddd'>feedback</td><td style='border: 1px solid #dddddd'>2024-11-07T17:44:47.322Z</td><td style='border: 1px solid #dddddd'>0.2353</td><td style='border: 1px solid #dddddd'>1.0</td><td style='border: 1px solid #dddddd'>{'faithfulness': 0.8, 'faithfulness_attributions': []}</td><td style='border: 1px solid #dddddd'>{'context_columns': ['context1', 'context2', 'context3'], 'context_relevances': [0.8, 0.2, 0.2]}</td><td style='border: 1px solid #dddddd'>0.0004201263946015388</td><td style='border: 1px solid #dddddd'>1.0</td><td style='border: 1px solid #dddddd'>[]</td><td style='border: 1px solid #dddddd'>1.0</td><td style='border: 1px solid #dddddd'>0.0</td><td style='border: 1px solid #dddddd'>None</td><td style='border: 1px solid #dddddd'>0.3333</td><td style='border: 1px solid #dddddd'>None</td><td style='border: 1px solid #dddddd'>0.00010446414383170532</td><td style='border: 1px solid #dddddd'>7b6811b7-024e-4e00-be18-ce3a7b9b0600</td><td style='border: 1px solid #dddddd'>0.8</td><td style='border: 1px solid #dddddd'>None</td><td style='border: 1px solid #dddddd'>None</td><td style='border: 1px solid #dddddd'>0.2353</td><td style='border: 1px solid #dddddd'>1.0</td><td style='border: 1px solid #dddddd'>0.0</td><td style='border: 1px solid #dddddd'>0.0</td><td style='border: 1px solid #dddddd'>None</td><td style='border: 1px solid #dddddd'>0.0</td><td style='border: 1px solid #dddddd'>None</td><td style='border: 1px solid #dddddd'>0.2353</td></tr><tr><td style='border: 1px solid #dddddd'>0.0009061573073267937</td><td style='border: 1px solid #dddddd'>0.0408</td><td style='border: 1px solid #dddddd'>0.2</td><td style='border: 1px solid #dddddd'>[]</td><td style='border: 1px solid #dddddd'>1.0</td><td style='border: 1px solid #dddddd'>MRM_c3118bc3-20fb-458c-b68e-acb25248ea0b-1</td><td style='border: 1px solid #dddddd'>1.0</td><td style='border: 1px solid #dddddd'>feedback</td><td style='border: 1px solid #dddddd'>2024-11-07T17:44:47.322Z</td><td style='border: 1px solid #dddddd'>0.0784</td><td style='border: 1px solid #dddddd'>0.2</td><td style='border: 1px solid #dddddd'>{'faithfulness': 0.2, 'faithfulness_attributions': []}</td><td style='border: 1px solid #dddddd'>{'context_columns': ['context1', 'context2', 'context3'], 'context_relevances': [0.8, 0.2, 0.2]}</td><td style='border: 1px solid #dddddd'>0.0010436080629006028</td><td style='border: 1px solid #dddddd'>1.0</td><td style='border: 1px solid #dddddd'>[]</td><td style='border: 1px solid #dddddd'>1.0</td><td style='border: 1px solid #dddddd'>0.0</td><td style='border: 1px solid #dddddd'>None</td><td style='border: 1px solid #dddddd'>0.3333</td><td style='border: 1px solid #dddddd'>None</td><td style='border: 1px solid #dddddd'>0.0</td><td style='border: 1px solid #dddddd'>7b6811b7-024e-4e00-be18-ce3a7b9b0600</td><td style='border: 1px solid #dddddd'>0.8</td><td style='border: 1px solid #dddddd'>None</td><td style='border: 1px solid #dddddd'>None</td><td style='border: 1px solid #dddddd'>0.0784</td><td style='border: 1px solid #dddddd'>1.0</td><td style='border: 1px solid #dddddd'>0.0</td><td style='border: 1px solid #dddddd'>0.0</td><td style='border: 1px solid #dddddd'>None</td><td style='border: 1px solid #dddddd'>0.0</td><td style='border: 1px solid #dddddd'>None</td><td style='border: 1px solid #dddddd'>0.0784</td></tr><tr><td style='border: 1px solid #dddddd'>0.0008792144944891334</td><td style='border: 1px solid #dddddd'>0.0</td><td style='border: 1px solid #dddddd'>0.6</td><td style='border: 1px solid #dddddd'>[]</td><td style='border: 1px solid #dddddd'>1.0</td><td style='border: 1px solid #dddddd'>MRM_c3118bc3-20fb-458c-b68e-acb25248ea0b-2</td><td style='border: 1px solid #dddddd'>1.0</td><td style='border: 1px solid #dddddd'>feedback</td><td style='border: 1px solid #dddddd'>2024-11-07T17:44:47.322Z</td><td style='border: 1px solid #dddddd'>0.1818</td><td style='border: 1px solid #dddddd'>1.0</td><td style='border: 1px solid #dddddd'>{'faithfulness': 0.6, 'faithfulness_attributions': []}</td><td style='border: 1px solid #dddddd'>{'context_columns': ['context1', 'context2', 'context3'], 'context_relevances': [1.0, 0.8, 0.4]}</td><td style='border: 1px solid #dddddd'>0.0010992378229275346</td><td style='border: 1px solid #dddddd'>1.0</td><td style='border: 1px solid #dddddd'>[]</td><td style='border: 1px solid #dddddd'>1.0</td><td style='border: 1px solid #dddddd'>0.0</td><td style='border: 1px solid #dddddd'>None</td><td style='border: 1px solid #dddddd'>0.6667</td><td style='border: 1px solid #dddddd'>None</td><td style='border: 1px solid #dddddd'>0.0</td><td style='border: 1px solid #dddddd'>7b6811b7-024e-4e00-be18-ce3a7b9b0600</td><td style='border: 1px solid #dddddd'>1.0</td><td style='border: 1px solid #dddddd'>None</td><td style='border: 1px solid #dddddd'>None</td><td style='border: 1px solid #dddddd'>0.1818</td><td style='border: 1px solid #dddddd'>1.0</td><td style='border: 1px solid #dddddd'>0.0</td><td style='border: 1px solid #dddddd'>0.0</td><td style='border: 1px solid #dddddd'>None</td><td style='border: 1px solid #dddddd'>0.0</td><td style='border: 1px solid #dddddd'>None</td><td style='border: 1px solid #dddddd'>0.1818</td></tr><tr><td style='border: 1px solid #dddddd'>0.0013096387265250087</td><td style='border: 1px solid #dddddd'>0.2353</td><td style='border: 1px solid #dddddd'>0.6</td><td style='border: 1px solid #dddddd'>[]</td><td style='border: 1px solid #dddddd'>1.0</td><td style='border: 1px solid #dddddd'>MRM_c3118bc3-20fb-458c-b68e-acb25248ea0b-3</td><td style='border: 1px solid #dddddd'>1.0</td><td style='border: 1px solid #dddddd'>feedback</td><td style='border: 1px solid #dddddd'>2024-11-07T17:44:47.322Z</td><td style='border: 1px solid #dddddd'>0.3158</td><td style='border: 1px solid #dddddd'>1.0</td><td style='border: 1px solid #dddddd'>{'faithfulness': 0.6, 'faithfulness_attributions': []}</td><td style='border: 1px solid #dddddd'>{'context_columns': ['context1', 'context2', 'context3'], 'context_relevances': [0.8, 0.4, 0.2]}</td><td style='border: 1px solid #dddddd'>0.009054477326571941</td><td style='border: 1px solid #dddddd'>1.0</td><td style='border: 1px solid #dddddd'>[]</td><td style='border: 1px solid #dddddd'>1.0</td><td style='border: 1px solid #dddddd'>0.0</td><td style='border: 1px solid #dddddd'>None</td><td style='border: 1px solid #dddddd'>0.3333</td><td style='border: 1px solid #dddddd'>None</td><td style='border: 1px solid #dddddd'>0.0</td><td style='border: 1px solid #dddddd'>7b6811b7-024e-4e00-be18-ce3a7b9b0600</td><td style='border: 1px solid #dddddd'>0.8</td><td style='border: 1px solid #dddddd'>None</td><td style='border: 1px solid #dddddd'>None</td><td style='border: 1px solid #dddddd'>0.3158</td><td style='border: 1px solid #dddddd'>1.0</td><td style='border: 1px solid #dddddd'>0.0</td><td style='border: 1px solid #dddddd'>0.0</td><td style='border: 1px solid #dddddd'>None</td><td style='border: 1px solid #dddddd'>0.0</td><td style='border: 1px solid #dddddd'>None</td><td style='border: 1px solid #dddddd'>0.3158</td></tr><tr><td style='border: 1px solid #dddddd'>0.0009044734761118889</td><td style='border: 1px solid #dddddd'>0.0</td><td style='border: 1px solid #dddddd'>0.2</td><td style='border: 1px solid #dddddd'>[]</td><td style='border: 1px solid #dddddd'>0.3</td><td style='border: 1px solid #dddddd'>MRM_c3118bc3-20fb-458c-b68e-acb25248ea0b-4</td><td style='border: 1px solid #dddddd'>1.0</td><td style='border: 1px solid #dddddd'>feedback</td><td style='border: 1px solid #dddddd'>2024-11-07T17:44:47.322Z</td><td style='border: 1px solid #dddddd'>0.0714</td><td style='border: 1px solid #dddddd'>1.0</td><td style='border: 1px solid #dddddd'>{'faithfulness': 0.2, 'faithfulness_attributions': []}</td><td style='border: 1px solid #dddddd'>{'context_columns': ['context1', 'context2', 'context3'], 'context_relevances': [0.2, 0.2, 0.8]}</td><td style='border: 1px solid #dddddd'>0.0012875042157247663</td><td style='border: 1px solid #dddddd'>0.3333333333333333</td><td style='border: 1px solid #dddddd'>[]</td><td style='border: 1px solid #dddddd'>0.7459</td><td style='border: 1px solid #dddddd'>0.0</td><td style='border: 1px solid #dddddd'>None</td><td style='border: 1px solid #dddddd'>0.3333</td><td style='border: 1px solid #dddddd'>None</td><td style='border: 1px solid #dddddd'>0.0</td><td style='border: 1px solid #dddddd'>7b6811b7-024e-4e00-be18-ce3a7b9b0600</td><td style='border: 1px solid #dddddd'>0.8</td><td style='border: 1px solid #dddddd'>None</td><td style='border: 1px solid #dddddd'>None</td><td style='border: 1px solid #dddddd'>0.0714</td><td style='border: 1px solid #dddddd'>1.0</td><td style='border: 1px solid #dddddd'>0.0</td><td style='border: 1px solid #dddddd'>0.0</td><td style='border: 1px solid #dddddd'>None</td><td style='border: 1px solid #dddddd'>0.0</td><td style='border: 1px solid #dddddd'>None</td><td style='border: 1px solid #dddddd'>0.0714</td></tr>\n",
       "            </table>\n",
       "        </body>\n",
       "        </HTML>"
      ],
      "text/plain": [
       "<IPython.core.display.HTML object>"
      ]
     },
     "metadata": {},
     "output_type": "display_data"
    }
   ],
   "source": [
    "wos_client.data_sets.show_records(data_set_id=genaiq_dataset_id)"
   ]
  },
  {
   "cell_type": "markdown",
   "metadata": {
    "id": "d29060a6-a36a-4b39-9199-e393f03d5980"
   },
   "source": [
    "## Step 7 - Plot faithfulness and answer relevance metrics against records <a name=\"plotproject\"></a>"
   ]
  },
  {
   "cell_type": "markdown",
   "metadata": {},
   "source": [
    "Retrieve a list of records and extract the record IDs, faithfulness values, and answer relevance values:"
   ]
  },
  {
   "cell_type": "code",
   "execution_count": 31,
   "metadata": {
    "id": "f1e84fd1-645b-4cf5-8208-5d1f042c24bd"
   },
   "outputs": [],
   "source": [
    "result = wos_client.data_sets.get_list_of_records(data_set_id=genaiq_dataset_id).result\n",
    "result[\"records\"]\n",
    "x = []\n",
    "y_faithfulness = []\n",
    "y_answer_relevance = []\n",
    "for each in result[\"records\"]:\n",
    "    x.append(\n",
    "        each[\"metadata\"][\"id\"][-5:]\n",
    "    )  # Reading only last 5 characters to fit in the display\n",
    "    y_faithfulness.append(each[\"entity\"][\"values\"][\"faithfulness\"])\n",
    "    y_answer_relevance.append(each[\"entity\"][\"values\"][\"answer_relevance\"])"
   ]
  },
  {
   "cell_type": "markdown",
   "metadata": {
    "id": "f67e8473-ceb3-46fb-8970-35db64f388cd"
   },
   "source": [
    "Plot faithfulness metrics against the records"
   ]
  },
  {
   "cell_type": "code",
   "execution_count": 32,
   "metadata": {
    "id": "4a0a03eb-308e-4626-b6ee-25c7b829f5e9"
   },
   "outputs": [
    {
     "data": {
      "image/png": "[encoded data removed]",
      "text/plain": [
       "<Figure size 640x480 with 1 Axes>"
      ]
     },
     "metadata": {},
     "output_type": "display_data"
    }
   ],
   "source": [
    "import matplotlib.pyplot as plt\n",
    "\n",
    "plt.scatter(x, y_faithfulness, marker=\"o\")\n",
    "\n",
    "# Adding labels and title\n",
    "plt.xlabel(\"X-axis - Record id (last 5 characters)\")\n",
    "plt.ylabel(\"Y-axis - Faithfulness\")\n",
    "plt.title(\"faithfulness vs record id\")\n",
    "\n",
    "# Display the graph\n",
    "plt.show()"
   ]
  },
  {
   "cell_type": "markdown",
   "metadata": {
    "id": "c3a22aa3-a052-4c20-9216-17b7f60b8667"
   },
   "source": [
    "Plot answer relevance metrics against the records"
   ]
  },
  {
   "cell_type": "code",
   "execution_count": 33,
   "metadata": {
    "id": "e299616a-c660-432e-a410-5fe16e55f12e"
   },
   "outputs": [
    {
     "data": {
      "image/png": "[encoded data removed]",
      "text/plain": [
       "<Figure size 640x480 with 1 Axes>"
      ]
     },
     "metadata": {},
     "output_type": "display_data"
    }
   ],
   "source": [
    "import matplotlib.pyplot as plt\n",
    "\n",
    "plt.scatter(x, y_answer_relevance, marker=\"o\")\n",
    "\n",
    "# Adding labels and title\n",
    "plt.xlabel(\"X-axis - Record id (last 5 characters)\")\n",
    "plt.ylabel(\"Y-axis - Answer relevance\")\n",
    "plt.title(\"answer_relevance vs record id\")\n",
    "\n",
    "# Display the graph\n",
    "plt.show()"
   ]
  },
  {
   "cell_type": "markdown",
   "metadata": {
    "id": "e7d36530-c817-4633-a7a6-55cefbad3f36"
   },
   "source": [
    "## Step 8 - See factsheets information <a name=\"factsheetsspace\"></a>"
   ]
  },
  {
   "cell_type": "code",
   "execution_count": 34,
   "metadata": {
    "id": "0c0491e5-43ff-457a-ba2a-029cc4e4cf9b"
   },
   "outputs": [
    {
     "name": "stdout",
     "output_type": "stream",
     "text": [
      "User can navigate to the published facts in project https://dataplatform.test.cloud.ibm.com/wx/prompt-details/67abfe24-5f2c-4a30-bd54-22867e199eb0/factsheet?context=wx&project_id=5295537f-5866-4432-92fc-4bcf65970e1f\n"
     ]
    }
   ],
   "source": [
    "factsheets_url = factsheets_url = (\n",
    "    \"{}/wx/prompt-details/{}/factsheet?context=wx&project_id={}\".format(\n",
    "        FACTSHEET_URL, project_pta_id, project_id\n",
    "    )\n",
    ")\n",
    "print(\"User can navigate to the published facts in project {}\".format(factsheets_url))"
   ]
  },
  {
   "cell_type": "markdown",
   "metadata": {
    "id": "7a9a4f40-bead-4621-8b6c-9782428ae4fa"
   },
   "source": [
    "## Evaluating a Prompt Template Asset from a space <a name=\"evaluatespace\"></a>\n",
    "\n",
    "So far, you have performed the following tasks:\n",
    "\n",
    "1. Created a PTA in a project\n",
    "2. Created a `development`-type subscription for a PTA in OpenScale\n",
    "3. Configured monitors supported by OpenScale for the subscription\n",
    "4. Performed risk evaluations against the PTA subscription with a sample set of test data\n",
    "5. Displayed the metrics generated with the risk evaluation\n",
    "6. Displayed the factsheets information for the subscription\n",
    "\n",
    "Now, you will promote the created PTA to a space and perform similar actions."
   ]
  },
  {
   "cell_type": "markdown",
   "metadata": {
    "id": "6899b33c-4a94-4325-b16d-be2acc656b38"
   },
   "source": [
    "## Step 9 - Promote a PTA to a space <a name=\"promottospace\"></a> "
   ]
  },
  {
   "cell_type": "markdown",
   "metadata": {
    "id": "b232b9cb-6a1d-4926-a02b-dd2ef15995bb"
   },
   "source": [
    "The following cell promotes the prompt template asset from your project to your space."
   ]
  },
  {
   "cell_type": "code",
   "execution_count": 35,
   "metadata": {
    "id": "4c1d355b-c9a8-40f9-bed5-ed0d880f8b67"
   },
   "outputs": [
    {
     "data": {
      "text/plain": [
       "'395cc1f5-1f73-434e-97a0-f0a504d04075'"
      ]
     },
     "execution_count": 35,
     "metadata": {},
     "output_type": "execute_result"
    }
   ],
   "source": [
    "headers = {}\n",
    "headers[\"Content-Type\"] = \"application/json\"\n",
    "headers[\"Accept\"] = \"*/*\"\n",
    "headers[\"Authorization\"] = \"Bearer {}\".format(iam_access_token)\n",
    "verify = True\n",
    "\n",
    "verify = False\n",
    "url = \"{}/v2/assets/{}/promote\".format(DATAPLATFORM_URL, project_pta_id)\n",
    "\n",
    "params = {\"project_id\": project_id}\n",
    "\n",
    "payload = {\"space_id\": space_id}\n",
    "response = requests.post(\n",
    "    url, json=payload, headers=headers, params=params, verify=verify\n",
    ")\n",
    "json_data = response.json()\n",
    "json_data\n",
    "space_pta_id = json_data[\"metadata\"][\"asset_id\"]\n",
    "space_pta_id"
   ]
  },
  {
   "cell_type": "markdown",
   "metadata": {
    "id": "a60b55bb-a9e5-4c81-a99a-e7faef30313d"
   },
   "source": [
    "## Step 10 - Create a deployment for a PTA in a space <a name=\"ptadeployment\"></a>"
   ]
  },
  {
   "cell_type": "markdown",
   "metadata": {
    "id": "2e70a2f9-45af-41b0-8121-92d168aa4e2b"
   },
   "source": [
    "To create a subscription from a space, it is necessary to create a deployment for a PTA in a space."
   ]
  },
  {
   "cell_type": "code",
   "execution_count": 36,
   "metadata": {
    "id": "3d6b1b76-3201-476b-9801-71e361931333"
   },
   "outputs": [
    {
     "name": "stdout",
     "output_type": "stream",
     "text": [
      "66a41504-c943-47cd-ae1e-30aeba5f7c7f\n"
     ]
    }
   ],
   "source": [
    "DEPLOYMENTS_URL = CREDENTIALS[\"url\"] + \"/ml/v4/deployments\"\n",
    "\n",
    "serving_name = \"rag_qa_deployments\"  # eg: summary_deployment\n",
    "\n",
    "payload = {\n",
    "    \"prompt_template\": {\"id\": space_pta_id},\n",
    "    \"online\": {\"parameters\": {\"serving_name\": serving_name}},\n",
    "    \"base_model_id\": \"google/flan-t5-xl\",\n",
    "    \"description\": \"rag qa deployment\",\n",
    "    \"name\": \"rag qa deployment\",\n",
    "    \"space_id\": space_id,\n",
    "}\n",
    "\n",
    "version = \"2024-05-05\"  # The version date for the API of the form YYYY-MM-DD. Example : 2023-07-07\n",
    "params = {\"version\": version, \"space_id\": space_id}\n",
    "\n",
    "response = requests.post(\n",
    "    DEPLOYMENTS_URL, json=payload, headers=headers, params=params, verify=verify\n",
    ")\n",
    "json_data = response.json()\n",
    "\n",
    "\n",
    "if \"metadata\" in json_data:\n",
    "    deployment_id = json_data[\"metadata\"][\"id\"]\n",
    "    print(deployment_id)\n",
    "else:\n",
    "    print(json_data)"
   ]
  },
  {
   "cell_type": "markdown",
   "metadata": {
    "id": "083c1035-6220-4304-8aa4-4cc0a3b57963"
   },
   "source": [
    "## Step 11 - Set up the PTA in a space for evaluation with supported monitor parameters <a name=\"ptaspace\"></a>"
   ]
  },
  {
   "cell_type": "markdown",
   "metadata": {},
   "source": [
    "Use of a PTA in a space is only supported with `pre_production` and `production` operational space IDs. Running the following cell will create a `production`-type subscription from the PTA promoted to the space. The `problem_type` value should depend on the task type specified in the PTA."
   ]
  },
  {
   "cell_type": "code",
   "execution_count": null,
   "metadata": {
    "id": "2eb953cc-7547-431c-bb8d-3f48f519833d"
   },
   "outputs": [
    {
     "name": "stdout",
     "output_type": "stream",
     "text": [
      "\n",
      "\n",
      "=============================================================================\n",
      "\n",
      " Waiting for end of adding prompt setup 395cc1f5-1f73-434e-97a0-f0a504d04075 \n",
      "\n",
      "=============================================================================\n",
      "\n",
      "\n",
      "\n",
      "running.\n",
      "finished\n",
      "\n",
      "---------------------------------------------------------------\n",
      " Successfully finished setting up prompt template subscription \n",
      "---------------------------------------------------------------\n",
      "\n",
      "\n"
     ]
    },
    {
     "data": {
      "text/plain": [
       "{'prompt_template_asset_id': '395cc1f5-1f73-434e-97a0-f0a504d04075',\n",
       " 'space_id': '7d195a51-8938-4fc7-a2b6-cf8e254d67c5',\n",
       " 'deployment_id': '66a41504-c943-47cd-ae1e-30aeba5f7c7f',\n",
       " 'service_provider_id': '53a15d2d-9e10-4b80-b518-1d34d7315394',\n",
       " 'subscription_id': 'd83a2091-d1c9-412a-8db1-5db2378fcc40',\n",
       " 'mrm_monitor_instance_id': 'a5063da3-8766-4f63-9b30-031ffd47f512',\n",
       " 'start_time': '2024-11-07T17:51:41.012579Z',\n",
       " 'end_time': '2024-11-07T17:51:54.342244Z',\n",
       " 'status': {'state': 'FINISHED'}}"
      ]
     },
     "execution_count": 37,
     "metadata": {},
     "output_type": "execute_result"
    }
   ],
   "source": [
    "label_column = \"answer\"\n",
    "context_fields = [\"context1\", \"context2\", \"context3\"]\n",
    "question_field = \"question\"\n",
    "\n",
    "operational_space_id = \"production\"\n",
    "problem_type = \"retrieval_augmented_generation\"\n",
    "input_data_type = \"unstructured_text\"\n",
    "\n",
    "monitors = {\n",
    "    \"generative_ai_quality\": {\n",
    "        \"parameters\": {\n",
    "            \"generative_ai_evaluator\": { # global LLM as judge configuration\n",
    "               \"enabled\": True,\n",
    "               \"evaluator_id\": evaluator_id,\n",
    "            },\n",
    "            \"min_sample_size\": 5,\n",
    "            \"metrics_configuration\": {\n",
    "                \"faithfulness\": {\n",
    "                    # \"sample_size\": 2, # Not supported for LLM as Judge\n",
    "                    # \"metric_prompt_template\": \"\", # adding custom template\n",
    "                    # Uncomment generative_ai_evaluator to use a different evaluator for this metric.\n",
    "                    # Takes higher precedence than the generative_ai_evaluator specified at global level.\n",
    "                    # \"generative_ai_evaluator\": {  # metric specific LLM as judge configuration\n",
    "                    #     \"enabled\": True,\n",
    "                    #     \"evaluator_id\": evaluator_id,\n",
    "                    # },\n",
    "                },\n",
    "                \"answer_relevance\": {\n",
    "                    # \"sample_size\": 2, # Not supported for LLM as Judge\n",
    "                    # \"metric_prompt_template\": \"\", # adding custom template\n",
    "                    # Uncomment generative_ai_evaluator to use a different evaluator for this metric\n",
    "                    # Takes higher precedence than the generative_ai_evaluator specified at global level.\n",
    "                    # \"generative_ai_evaluator\": {  # metric specific LLM as judge configuration\n",
    "                    #     \"enabled\": True,\n",
    "                    #     \"evaluator_id\": evaluator_id,\n",
    "                    # },\n",
    "                },\n",
    "                \"rouge_score\": {},\n",
    "                \"exact_match\": {},\n",
    "                \"bleu\": {},\n",
    "                \"unsuccessful_requests\": {\n",
    "                    # \"unsuccessful_phrases\": []\n",
    "                },\n",
    "                \"hap_input_score\": {},\n",
    "                \"hap_score\": {},\n",
    "                \"pii\": {},\n",
    "                \"pii_input\": {},\n",
    "                \"retrieval_quality\": {\n",
    "                    # \"sample_size\": 2, # Not supported for LLM as Judge\n",
    "                    # Uncomment generative_ai_evaluator to use a different evaluator for this metric\n",
    "                    # Takes higher precedence than the generative_ai_evaluator specified at global level.\n",
    "                    # \"generative_ai_evaluator\": {  # metric specific LLM as judge configuration\n",
    "                    #     \"enabled\": True,\n",
    "                    #     \"evaluator_id\": evaluator_id,\n",
    "                    # },\n",
    "                    # The metrics computed for retrieval quality are context_relevance, retrieval_precision, average_precision, reciprocal_rank, hit_rate, normalized_discounted_cumulative_gain\n",
    "                    # \"context_relevance\": {\n",
    "                    #     \"metric_prompt_template\": \"\", # adding custom template\n",
    "                    # }\n",
    "                },\n",
    "                # Answer similarity metric is supported only when LLM as judge is configured. Uncomment only when using LLM as judge.\n",
    "                \"answer_similarity\": {\n",
    "                    # \"metric_prompt_template\": \"\", # adding custom template\n",
    "                    # Uncomment generative_ai_evaluator to use a different evaluator for this metric\n",
    "                    # Takes higher precedence than the generative_ai_evaluator specified at global level.\n",
    "                    # \"generative_ai_evaluator\": {  # metric specific LLM as judge configuration\n",
    "                    #     \"enabled\": True,\n",
    "                    #     \"evaluator_id\": evaluator_id,\n",
    "                    # },\n",
    "                },\n",
    "            },\n",
    "        }\n",
    "    }\n",
    "}\n",
    "\n",
    "response = wos_client.wos.execute_prompt_setup(\n",
    "    prompt_template_asset_id=space_pta_id,\n",
    "    space_id=space_id,\n",
    "    deployment_id=deployment_id,\n",
    "    context_fields=context_fields,\n",
    "    question_field=question_field,\n",
    "    label_column=label_column,\n",
    "    operational_space_id=operational_space_id,\n",
    "    problem_type=problem_type,\n",
    "    input_data_type=input_data_type,\n",
    "    supporting_monitors=monitors,\n",
    "    background_mode=False,\n",
    ")\n",
    "\n",
    "result = response.result\n",
    "result._to_dict()"
   ]
  },
  {
   "cell_type": "markdown",
   "metadata": {
    "id": "e4226f80-77df-4f75-9258-bc656d9867e9"
   },
   "source": [
    "With the following cell, you can read the prompt setup task and check its status:"
   ]
  },
  {
   "cell_type": "code",
   "execution_count": 38,
   "metadata": {
    "id": "9b47b8ef-6cd1-4fab-81e4-c31f6ad14ac7"
   },
   "outputs": [
    {
     "data": {
      "text/plain": [
       "{'prompt_template_asset_id': '395cc1f5-1f73-434e-97a0-f0a504d04075',\n",
       " 'space_id': '7d195a51-8938-4fc7-a2b6-cf8e254d67c5',\n",
       " 'deployment_id': '66a41504-c943-47cd-ae1e-30aeba5f7c7f',\n",
       " 'service_provider_id': '53a15d2d-9e10-4b80-b518-1d34d7315394',\n",
       " 'subscription_id': 'd83a2091-d1c9-412a-8db1-5db2378fcc40',\n",
       " 'mrm_monitor_instance_id': 'a5063da3-8766-4f63-9b30-031ffd47f512',\n",
       " 'start_time': '2024-11-07T17:51:41.012579Z',\n",
       " 'end_time': '2024-11-07T17:51:54.342244Z',\n",
       " 'status': {'state': 'FINISHED'}}"
      ]
     },
     "execution_count": 38,
     "metadata": {},
     "output_type": "execute_result"
    }
   ],
   "source": [
    "response = wos_client.wos.get_prompt_setup(\n",
    "    prompt_template_asset_id=space_pta_id,\n",
    "    deployment_id=deployment_id,\n",
    "    space_id=space_id,\n",
    ")\n",
    "\n",
    "result = response.result\n",
    "result_json = result._to_dict()\n",
    "result_json"
   ]
  },
  {
   "cell_type": "markdown",
   "metadata": {
    "id": "a55c36bf-bfc6-4369-8e0a-fd60df39cf62"
   },
   "source": [
    "### Read the subscription ID from the prompt setup\n",
    "\n",
    "Once the prompt setup status is `finished`, get the subscription ID:"
   ]
  },
  {
   "cell_type": "code",
   "execution_count": 39,
   "metadata": {
    "id": "34836d85-664b-4938-bcc6-e9d9aa39a296"
   },
   "outputs": [
    {
     "data": {
      "text/plain": [
       "'d83a2091-d1c9-412a-8db1-5db2378fcc40'"
      ]
     },
     "execution_count": 39,
     "metadata": {},
     "output_type": "execute_result"
    }
   ],
   "source": [
    "prod_subscription_id = result_json[\"subscription_id\"]\n",
    "prod_subscription_id"
   ]
  },
  {
   "cell_type": "markdown",
   "metadata": {
    "id": "ede830f8-7fd7-4aad-9bfe-0e897e139db2"
   },
   "source": [
    "### Score the PTA deployment"
   ]
  },
  {
   "cell_type": "markdown",
   "metadata": {
    "id": "2d5fc68a-347a-4422-8ce6-68ee4215d4c2"
   },
   "source": [
    "Retrieve the scoring URL of the deployment from the subscription details."
   ]
  },
  {
   "cell_type": "code",
   "execution_count": 40,
   "metadata": {
    "id": "93a56cf4-14ee-4c06-84c5-fe96e61d1b44"
   },
   "outputs": [
    {
     "name": "stdout",
     "output_type": "stream",
     "text": [
      "https://yp-qa.ml.cloud.ibm.com/ml/v1/deployments/66a41504-c943-47cd-ae1e-30aeba5f7c7f/text/generation?version=2024-05-05\n"
     ]
    }
   ],
   "source": [
    "sub_details = wos_client.subscriptions.get(prod_subscription_id).result\n",
    "sub_details = sub_details._to_dict()\n",
    "scoring_url = sub_details[\"entity\"][\"deployment\"][\"url\"]\n",
    "if not scoring_url.find(\"?version=\") != -1:\n",
    "    scoring_url = scoring_url.strip() + \"?version=2024-05-05\"\n",
    "\n",
    "scoring_url = (\n",
    "    CREDENTIALS[\"url\"]\n",
    "    + \"/ml/v1/deployments/\"\n",
    "    + deployment_id\n",
    "    + \"/text/generation?version=2024-05-05\"\n",
    ")\n",
    "print(scoring_url)"
   ]
  },
  {
   "cell_type": "markdown",
   "metadata": {
    "id": "e3aed560-6141-435e-bd74-e39c316d92bb"
   },
   "source": [
    "## Step 12 - Score the model and configure monitors <a name=\"score\"></a>"
   ]
  },
  {
   "cell_type": "markdown",
   "metadata": {},
   "source": [
    "Once the WML service has been bound and the subscription has been created, you must score the PTA. Generate the test data content in JSON format from the previously-downloaded `.CSV` file. This is used to construct the payload for scoring the deployment."
   ]
  },
  {
   "cell_type": "code",
   "execution_count": 41,
   "metadata": {
    "id": "53efcdbd-5a2d-43e8-ae90-3ae38f1c9b44"
   },
   "outputs": [],
   "source": [
    "test_data_path = \"rag_state_union.csv\""
   ]
  },
  {
   "cell_type": "code",
   "execution_count": 42,
   "metadata": {
    "id": "a7ef4670-0a90-4b5c-bfdf-73aa587c0066"
   },
   "outputs": [
    {
     "data": {
      "text/plain": [
       "[{'request': {'parameters': {'template_variables': {'context1': 'Last month, I announced our plan to supercharge  the Cancer Moonshot that President Obama asked me to lead six years ago. Our goal is to cut the cancer death rate by at least 50% over the next 25 years, turn more cancers from death sentences into treatable diseases.  More support for patients and families. To get there, I call on Congress to fund ARPA-H, the Advanced Research Projects Agency for Health. It’s based on DARPA—the Defense Department project that led to the Internet, GPS, and so much more.  ARPA-H will have a singular purpose—to drive breakthroughs in cancer, Alzheimer’s, diabetes, and more. A unity agenda for the nation. We can do this. My fellow Americans—tonight , we have gathered in a sacred space—the citadel of our democracy. In this Capitol, generation after generation, Americans have debated great questions amid great strife, and have done great things. We have fought for freedom, expanded liberty, defeated totalitarianism and terror.',\n",
       "     'context2': 'For that purpose we’ve mobilized American ground forces, air squadrons, and ship deployments to protect NATO countries including Poland, Romania, Latvia, Lithuania, and Estonia. As I have made crystal clear the United States and our Allies will defend every inch of territory of NATO countries with the full force of our collective power.  And we remain clear-eyed. The Ukrainians are fighting back with pure courage. But the next few days weeks, months, will be hard on them.  Putin has unleashed violence and chaos.  But while he may make gains on the battlefield – he will pay a continuing high price over the long run. And a proud Ukrainian people, who have known 30 years  of independence, have repeatedly shown that they will not tolerate anyone who tries to take their country backwards.  To all Americans, I will be honest with you, as I’ve always promised. A Russian dictator, invading a foreign country, has costs around the world.',\n",
       "     'context3': 'If you travel 20 miles east of Columbus, Ohio, you’ll find 1,000 empty acres of land. It won’t look like much, but if you stop and look closely, you’ll see a “Field of dreams,” the ground on which America’s future will be built. This is where Intel, the American company that helped build Silicon Valley, is going to build its $20 billion semiconductor “mega site”. Up to eight state-of-the-art factories in one place. 10,000 new good-paying jobs. Some of the most sophisticated manufacturing in the world to make computer chips the size of a fingertip that power the world and our everyday lives. Smartphones. The Internet. Technology we have yet to invent. But that’s just the beginning. Intel’s CEO, Pat Gelsinger, who is here tonight, told me they are ready to increase their investment from  $20 billion to $100 billion. That would be one of the biggest investments in manufacturing in American history. And all they’re waiting for is for you to pass this bill.',\n",
       "     'question': 'What is ARPA-H?'}}},\n",
       "  'response': {'model_id': 'google/flan-t5-xl',\n",
       "   'created_at': '2024-11-07T17:54:15.004Z',\n",
       "   'results': [{'generated_text': 'Advanced Research Projects Agency for Health',\n",
       "     'generated_token_count': 8,\n",
       "     'input_token_count': 686,\n",
       "     'stop_reason': 'eos_token'}],\n",
       "   'system': {'warnings': [{'message': 'This model is a Non-IBM Product governed by a third-party license that may impose use restrictions and other obligations. By using this model you agree to its terms as identified in the following URL.',\n",
       "      'id': 'disclaimer_warning',\n",
       "      'more_info': 'https://dataplatform.cloud.ibm.com/docs/content/wsj/analyze-data/fm-models.html?context=wx'}]}}},\n",
       " {'request': {'parameters': {'template_variables': {'context1': 'So let’s not wait any longer. Send it to my desk. I’ll sign it.  And we will really take off. And Intel is not alone. There’s something happening in America. Just look around and you’ll see an amazing story. The rebirth of the pride that comes from stamping products “Made In America.” The revitalization of American manufacturing.   Companies are choosing to build new factories here, when just a few years ago, they would have built them overseas. That’s what is happening. Ford is investing $11 billion to build electric vehicles, creating 11,000 jobs across the country. GM is making the largest investment in its history—$7 billion to build electric vehicles, creating 4,000 jobs in Michigan. All told, we created 369,000 new manufacturing jobs in America just last year. Powered by people I’ve met like JoJo Burgess, from generations of union steelworkers from Pittsburgh, who’s here with us tonight.',\n",
       "     'context2': 'If you travel 20 miles east of Columbus, Ohio, you’ll find 1,000 empty acres of land. It won’t look like much, but if you stop and look closely, you’ll see a “Field of dreams,” the ground on which America’s future will be built. This is where Intel, the American company that helped build Silicon Valley, is going to build its $20 billion semiconductor “mega site”. Up to eight state-of-the-art factories in one place. 10,000 new good-paying jobs. Some of the most sophisticated manufacturing in the world to make computer chips the size of a fingertip that power the world and our everyday lives. Smartphones. The Internet. Technology we have yet to invent. But that’s just the beginning. Intel’s CEO, Pat Gelsinger, who is here tonight, told me they are ready to increase their investment from  $20 billion to $100 billion. That would be one of the biggest investments in manufacturing in American history. And all they’re waiting for is for you to pass this bill.',\n",
       "     'context3': 'When we use taxpayer dollars to rebuild America – we are going to Buy American: buy American products to support American jobs. The federal government spends about $600 Billion a year to keep the country safe and secure. There’s been a law on the books for almost a century to make sure taxpayers’ dollars support American jobs and businesses. Every Administration says they’ll do it, but we are actually doing it. We will buy American to make sure everything from the deck of an aircraft carrier to the steel on highway guardrails are made in America. But to compete for the best jobs of the future, we also need to level the playing field with China and other competitors. That’s why it is so important to pass the Bipartisan Innovation Act sitting in Congress that will make record investments in emerging technologies and American manufacturing. Let me give you one example of why it’s so important to pass it.',\n",
       "     'question': 'What is the investment of Ford and GM to build electric vehicles?'}}},\n",
       "  'response': {'model_id': 'google/flan-t5-xl',\n",
       "   'created_at': '2024-11-07T17:54:16.902Z',\n",
       "   'results': [{'generated_text': '$11 billion',\n",
       "     'generated_token_count': 4,\n",
       "     'input_token_count': 662,\n",
       "     'stop_reason': 'eos_token'}],\n",
       "   'system': {'warnings': [{'message': 'This model is a Non-IBM Product governed by a third-party license that may impose use restrictions and other obligations. By using this model you agree to its terms as identified in the following URL.',\n",
       "      'id': 'disclaimer_warning',\n",
       "      'more_info': 'https://dataplatform.cloud.ibm.com/docs/content/wsj/analyze-data/fm-models.html?context=wx'}]}}},\n",
       " {'request': {'parameters': {'template_variables': {'context1': 'My plan will cut the cost in half for most families and help parents, including millions of women, who left the workforce during the pandemic because they couldn’t afford child care, to be able to get back to work. My plan doesn’t stop there. It also includes home and long-term care. More affordable housing. And Pre-K for every 3- and 4-year-old.  All of these will lower costs. And under my plan, nobody earning less than $400,000 a year will pay an additional penny in new taxes. Nobody.  The one thing all Americans agree on is that the tax system is not fair. We have to fix it.  I’m not looking to punish anyone. But let’s make sure corporations and the wealthiest Americans start paying their fair share. Just last year, 55 Fortune 500 corporations earned $40 billion in profits and paid zero dollars in federal income tax.  That’s simply not fair. That’s why I’ve proposed a 15% minimum tax rate for corporations.',\n",
       "     'context2': 'We got more than 130 countries to agree on a global minimum tax rate so companies can’t get out of paying their taxes at home by shipping jobs and factories overseas. That’s why I’ve proposed closing loopholes so the very wealthy don’t pay a lower tax rate than a teacher or a firefighter.  So that’s my plan. It will grow the economy and lower costs for families. So what are we waiting for? Let’s get this done. And while you’re at it, confirm my nominees to the Federal Reserve, which plays a critical role in fighting inflation.  My plan will not only lower costs to give families a fair shot, it will lower the deficit. The previous Administration not only ballooned the deficit with tax cuts for the very wealthy and corporations, it undermined the watchdogs whose job was to keep pandemic relief funds from being wasted. But in my administration, the watchdogs have been welcomed back.',\n",
       "     'context3': 'And unlike the $2 Trillion tax cut passed in the previous administration that benefitted the top 1% of Americans, the American Rescue Plan helped working people—and left no one behind. And it worked. It created jobs. Lots of jobs. In fact—our economy created over 6.5 Million new jobs just last year, more jobs created in one year  than ever before in the history of America. Our economy grew at a rate of 5.7% last year, the strongest growth in nearly 40 years, the first step in bringing fundamental change to an economy that hasn’t worked for the working people of this nation for too long.  For the past 40 years we were told that if we gave tax breaks to those at the very top, the benefits would trickle down to everyone else. But that trickle-down theory led to weaker economic growth, lower wages, bigger deficits, and the widest gap between those at the top and everyone else in nearly a century.',\n",
       "     'question': 'What is the proposed tax rate for corporations?'}}},\n",
       "  'response': {'model_id': 'google/flan-t5-xl',\n",
       "   'created_at': '2024-11-07T17:54:19.592Z',\n",
       "   'results': [{'generated_text': '15%',\n",
       "     'generated_token_count': 2,\n",
       "     'input_token_count': 657,\n",
       "     'stop_reason': 'eos_token'}],\n",
       "   'system': {'warnings': [{'message': 'This model is a Non-IBM Product governed by a third-party license that may impose use restrictions and other obligations. By using this model you agree to its terms as identified in the following URL.',\n",
       "      'id': 'disclaimer_warning',\n",
       "      'more_info': 'https://dataplatform.cloud.ibm.com/docs/content/wsj/analyze-data/fm-models.html?context=wx'}]}}},\n",
       " {'request': {'parameters': {'template_variables': {'context1': 'If you travel 20 miles east of Columbus, Ohio, you’ll find 1,000 empty acres of land. It won’t look like much, but if you stop and look closely, you’ll see a “Field of dreams,” the ground on which America’s future will be built. This is where Intel, the American company that helped build Silicon Valley, is going to build its $20 billion semiconductor “mega site”. Up to eight state-of-the-art factories in one place. 10,000 new good-paying jobs. Some of the most sophisticated manufacturing in the world to make computer chips the size of a fingertip that power the world and our everyday lives. Smartphones. The Internet. Technology we have yet to invent. But that’s just the beginning. Intel’s CEO, Pat Gelsinger, who is here tonight, told me they are ready to increase their investment from  $20 billion to $100 billion. That would be one of the biggest investments in manufacturing in American history. And all they’re waiting for is for you to pass this bill.',\n",
       "     'context2': 'So let’s not wait any longer. Send it to my desk. I’ll sign it.  And we will really take off. And Intel is not alone. There’s something happening in America. Just look around and you’ll see an amazing story. The rebirth of the pride that comes from stamping products “Made In America.” The revitalization of American manufacturing.   Companies are choosing to build new factories here, when just a few years ago, they would have built them overseas. That’s what is happening. Ford is investing $11 billion to build electric vehicles, creating 11,000 jobs across the country. GM is making the largest investment in its history—$7 billion to build electric vehicles, creating 4,000 jobs in Michigan. All told, we created 369,000 new manufacturing jobs in America just last year. Powered by people I’ve met like JoJo Burgess, from generations of union steelworkers from Pittsburgh, who’s here with us tonight.',\n",
       "     'context3': 'When we use taxpayer dollars to rebuild America – we are going to Buy American: buy American products to support American jobs. The federal government spends about $600 Billion a year to keep the country safe and secure. There’s been a law on the books for almost a century to make sure taxpayers’ dollars support American jobs and businesses. Every Administration says they’ll do it, but we are actually doing it. We will buy American to make sure everything from the deck of an aircraft carrier to the steel on highway guardrails are made in America. But to compete for the best jobs of the future, we also need to level the playing field with China and other competitors. That’s why it is so important to pass the Bipartisan Innovation Act sitting in Congress that will make record investments in emerging technologies and American manufacturing. Let me give you one example of why it’s so important to pass it.',\n",
       "     'question': 'What is Intel going to build?'}}},\n",
       "  'response': {'model_id': 'google/flan-t5-xl',\n",
       "   'created_at': '2024-11-07T17:54:20.296Z',\n",
       "   'results': [{'generated_text': 'A semiconductor mega site',\n",
       "     'generated_token_count': 5,\n",
       "     'input_token_count': 655,\n",
       "     'stop_reason': 'eos_token'}],\n",
       "   'system': {'warnings': [{'message': 'This model is a Non-IBM Product governed by a third-party license that may impose use restrictions and other obligations. By using this model you agree to its terms as identified in the following URL.',\n",
       "      'id': 'disclaimer_warning',\n",
       "      'more_info': 'https://dataplatform.cloud.ibm.com/docs/content/wsj/analyze-data/fm-models.html?context=wx'}]}}},\n",
       " {'request': {'parameters': {'template_variables': {'context1': 'So let’s not wait any longer. Send it to my desk. I’ll sign it.  And we will really take off. And Intel is not alone. There’s something happening in America. Just look around and you’ll see an amazing story. The rebirth of the pride that comes from stamping products “Made In America.” The revitalization of American manufacturing.   Companies are choosing to build new factories here, when just a few years ago, they would have built them overseas. That’s what is happening. Ford is investing $11 billion to build electric vehicles, creating 11,000 jobs across the country. GM is making the largest investment in its history—$7 billion to build electric vehicles, creating 4,000 jobs in Michigan. All told, we created 369,000 new manufacturing jobs in America just last year. Powered by people I’ve met like JoJo Burgess, from generations of union steelworkers from Pittsburgh, who’s here with us tonight.',\n",
       "     'context2': 'If you travel 20 miles east of Columbus, Ohio, you’ll find 1,000 empty acres of land. It won’t look like much, but if you stop and look closely, you’ll see a “Field of dreams,” the ground on which America’s future will be built. This is where Intel, the American company that helped build Silicon Valley, is going to build its $20 billion semiconductor “mega site”. Up to eight state-of-the-art factories in one place. 10,000 new good-paying jobs. Some of the most sophisticated manufacturing in the world to make computer chips the size of a fingertip that power the world and our everyday lives. Smartphones. The Internet. Technology we have yet to invent. But that’s just the beginning. Intel’s CEO, Pat Gelsinger, who is here tonight, told me they are ready to increase their investment from  $20 billion to $100 billion. That would be one of the biggest investments in manufacturing in American history. And all they’re waiting for is for you to pass this bill.',\n",
       "     'context3': 'It is going to transform America and put us on a path to win the economic competition of the 21st Century that we face with the rest of the world—particularly with China.  As I’ve told Xi Jinping, it is never a good bet to bet against the American people. We’ll create good jobs for millions of Americans, modernizing roads, airports, ports, and waterways all across America. And we’ll do it all to withstand the devastating effects of the climate crisis and promote environmental justice. We’ll build a national network of 500,000 electric vehicle charging stations, begin to replace poisonous lead pipes—so every child—and every American—has clean water to drink at home and at school, provide affordable high-speed internet for every American—urban, suburban, rural, and tribal communities. 4,000 projects have already been announced. And tonight, I’m announcing that this year we will start fixing over 65,000 miles of highway and 1,500 bridges in disrepair.',\n",
       "     'question': 'How many electric vehicle charging stations are built?'}}},\n",
       "  'response': {'model_id': 'google/flan-t5-xl',\n",
       "   'created_at': '2024-11-07T17:54:21.947Z',\n",
       "   'results': [{'generated_text': '500,000',\n",
       "     'generated_token_count': 3,\n",
       "     'input_token_count': 686,\n",
       "     'stop_reason': 'eos_token'}],\n",
       "   'system': {'warnings': [{'message': 'This model is a Non-IBM Product governed by a third-party license that may impose use restrictions and other obligations. By using this model you agree to its terms as identified in the following URL.',\n",
       "      'id': 'disclaimer_warning',\n",
       "      'more_info': 'https://dataplatform.cloud.ibm.com/docs/content/wsj/analyze-data/fm-models.html?context=wx'}]}}}]"
      ]
     },
     "execution_count": 42,
     "metadata": {},
     "output_type": "execute_result"
    }
   ],
   "source": [
    "import csv\n",
    "\n",
    "feature_fields = context_fields + [question_field]\n",
    "prediction = \"generated_text\"\n",
    "\n",
    "headers = {}\n",
    "headers[\"Content-Type\"] = \"application/json\"\n",
    "headers[\"Accept\"] = \"*/*\"\n",
    "headers[\"Authorization\"] = \"Bearer {}\".format(iam_access_token)\n",
    "\n",
    "pl_data = []\n",
    "prediction_list = []\n",
    "with open(test_data_path, \"r\") as csv_file:\n",
    "    csv_reader = csv.DictReader(csv_file)\n",
    "    for row in csv_reader:\n",
    "        request = {\"parameters\": {\"template_variables\": {}}}\n",
    "        for each in feature_fields:\n",
    "            request[\"parameters\"][\"template_variables\"][each] = str(row[each])\n",
    "        try:\n",
    "            response = requests.post(\n",
    "                scoring_url, json=request, headers=headers, verify=False\n",
    "            ).json()\n",
    "            predicted_val = response[\"results\"][0][prediction]\n",
    "            prediction_list.append(predicted_val)\n",
    "            record = {\"request\": request, \"response\": response}\n",
    "            pl_data.append(record)\n",
    "        except:\n",
    "            pass\n",
    "\n",
    "pl_data"
   ]
  },
  {
   "cell_type": "markdown",
   "metadata": {
    "id": "e58e046b-81ee-4c3a-a7c0-49eba5f5f160"
   },
   "source": [
    "### Add payload data\n",
    "\n",
    "The following cell reads the payload data set ID from the subscription:"
   ]
  },
  {
   "cell_type": "code",
   "execution_count": 43,
   "metadata": {
    "id": "7d9d2d6a-af01-42b0-83fb-4b9628729ead"
   },
   "outputs": [
    {
     "name": "stdout",
     "output_type": "stream",
     "text": [
      "Payload data set id:  0f7819b3-8bf1-42c7-9ab6-3ea5585e7d76\n"
     ]
    }
   ],
   "source": [
    "import time\n",
    "from ibm_watson_openscale.supporting_classes.enums import *\n",
    "\n",
    "time.sleep(5)\n",
    "payload_data_set_id = None\n",
    "payload_data_set_id = (\n",
    "    wos_client.data_sets.list(\n",
    "        type=DataSetTypes.PAYLOAD_LOGGING,\n",
    "        target_target_id=prod_subscription_id,\n",
    "        target_target_type=TargetTypes.SUBSCRIPTION,\n",
    "    )\n",
    "    .result.data_sets[0]\n",
    "    .metadata.id\n",
    ")\n",
    "if payload_data_set_id is None:\n",
    "    print(\"Payload data set not found. Please check subscription status.\")\n",
    "else:\n",
    "    print(\"Payload data set id: \", payload_data_set_id)"
   ]
  },
  {
   "cell_type": "code",
   "execution_count": 44,
   "metadata": {
    "id": "80b97587-19a5-4bcc-9d9f-cdf9cc697a7e"
   },
   "outputs": [
    {
     "data": {
      "text/plain": [
       "0"
      ]
     },
     "execution_count": 44,
     "metadata": {},
     "output_type": "execute_result"
    }
   ],
   "source": [
    "wos_client.data_sets.get_records_count(payload_data_set_id)"
   ]
  },
  {
   "cell_type": "markdown",
   "metadata": {
    "id": "8819eed2-99e7-4a0e-8e08-a55c2ffa241f"
   },
   "source": [
    "If auto payload logging fails to transmit the scored records to the payload logging table, the following code can be used to manually add payload data to the table:"
   ]
  },
  {
   "cell_type": "code",
   "execution_count": 45,
   "metadata": {
    "id": "6ae9fe1a-9df4-49cd-a8c6-c650d56a8e53"
   },
   "outputs": [
    {
     "name": "stdout",
     "output_type": "stream",
     "text": [
      "Number of records in the payload logging table: 0\n",
      "Payload logging did not happen, performing explicit payload logging.\n",
      "\n",
      "\n",
      "==========================================================================================\n",
      "\n",
      " Waiting for end of storing records with request id: 4a369dbd-2045-45ba-9779-db3ebaa2c21f \n",
      "\n",
      "==========================================================================================\n",
      "\n",
      "\n",
      "\n",
      "active\n",
      "\n",
      "---------------------------------------\n",
      " Successfully finished storing records \n",
      "---------------------------------------\n",
      "\n",
      "\n",
      "Number of records in the payload logging table: 5\n"
     ]
    }
   ],
   "source": [
    "time.sleep(5)\n",
    "pl_records_count = wos_client.data_sets.get_records_count(payload_data_set_id)\n",
    "print(\"Number of records in the payload logging table: {}\".format(pl_records_count))\n",
    "if pl_records_count < 6:\n",
    "    print(\"Payload logging did not happen, performing explicit payload logging.\")\n",
    "    wos_client.data_sets.store_records(\n",
    "        data_set_id=payload_data_set_id, request_body=pl_data, background_mode=False\n",
    "    )\n",
    "    time.sleep(5)\n",
    "    pl_records_count = wos_client.data_sets.get_records_count(payload_data_set_id)\n",
    "    print(\"Number of records in the payload logging table: {}\".format(pl_records_count))"
   ]
  },
  {
   "cell_type": "markdown",
   "metadata": {
    "id": "199af421-230d-4b52-8723-99cde8b8f382"
   },
   "source": [
    "### Add feedback data\n",
    "\n",
    "The following cell reads the feedback dataset ID from the subscription:"
   ]
  },
  {
   "cell_type": "code",
   "execution_count": 46,
   "metadata": {
    "id": "d5ed8346-0066-45a5-88fb-7c2ee097dd4b"
   },
   "outputs": [
    {
     "name": "stdout",
     "output_type": "stream",
     "text": [
      "Feedback data set id:  16da5e5b-9ef0-490d-b0de-38ea7e3395f4\n"
     ]
    }
   ],
   "source": [
    "import time\n",
    "from ibm_watson_openscale.supporting_classes.enums import *\n",
    "\n",
    "time.sleep(5)\n",
    "feedback_data_set_id = None\n",
    "feedback_data_set_id = (\n",
    "    wos_client.data_sets.list(\n",
    "        type=DataSetTypes.FEEDBACK,\n",
    "        target_target_id=prod_subscription_id,\n",
    "        target_target_type=TargetTypes.SUBSCRIPTION,\n",
    "    )\n",
    "    .result.data_sets[0]\n",
    "    .metadata.id\n",
    ")\n",
    "if feedback_data_set_id is None:\n",
    "    print(\"Feedback data set not found. Please check subscription status.\")\n",
    "else:\n",
    "    print(\"Feedback data set id: \", feedback_data_set_id)"
   ]
  },
  {
   "cell_type": "markdown",
   "metadata": {
    "id": "3615876d-941b-4cbc-802f-5b9ae202a8e7"
   },
   "source": [
    "The provided code generates feedback data based on the downloaded `.CSV` file and the scored response."
   ]
  },
  {
   "cell_type": "code",
   "execution_count": 47,
   "metadata": {
    "id": "6bab3ac3-766d-4cf7-bec7-cf6a0bf41e7f"
   },
   "outputs": [
    {
     "name": "stdout",
     "output_type": "stream",
     "text": [
      "generated feedback data from CSV\n"
     ]
    }
   ],
   "source": [
    "import csv\n",
    "\n",
    "test_data_content = []\n",
    "csv_file_path = \"rag_state_union.csv\"\n",
    "\n",
    "with open(csv_file_path, \"r\") as csv_file:\n",
    "    csv_reader = csv.DictReader(csv_file)\n",
    "    for row, prediction_val in zip(csv_reader, prediction_list):\n",
    "\n",
    "        # Read each row from the CSV and add label and prediction values\n",
    "        result_row = []\n",
    "        result_row = [row[key] for key in feature_fields if key in row]\n",
    "        result_row.append(row[label_column])\n",
    "        result_row.append(prediction_val)\n",
    "\n",
    "        test_data_content.append(result_row)\n",
    "if len(test_data_content) == 5:  # 5 records are there in the downloaded CSV\n",
    "    print(\"generated feedback data from CSV\")\n",
    "else:\n",
    "    print(\n",
    "        \"Failed to generated feedback data from CSV, Kindly verify the CSV file content\"\n",
    "    )"
   ]
  },
  {
   "cell_type": "code",
   "execution_count": 48,
   "metadata": {
    "id": "c69f8605-1273-47dc-8529-bafaa1e78e76"
   },
   "outputs": [
    {
     "data": {
      "text/plain": [
       "[{'fields': ['context1',\n",
       "   'context2',\n",
       "   'context3',\n",
       "   'question',\n",
       "   'answer',\n",
       "   '_original_prediction'],\n",
       "  'values': [['Last month, I announced our plan to supercharge  the Cancer Moonshot that President Obama asked me to lead six years ago. Our goal is to cut the cancer death rate by at least 50% over the next 25 years, turn more cancers from death sentences into treatable diseases.  More support for patients and families. To get there, I call on Congress to fund ARPA-H, the Advanced Research Projects Agency for Health. It’s based on DARPA—the Defense Department project that led to the Internet, GPS, and so much more.  ARPA-H will have a singular purpose—to drive breakthroughs in cancer, Alzheimer’s, diabetes, and more. A unity agenda for the nation. We can do this. My fellow Americans—tonight , we have gathered in a sacred space—the citadel of our democracy. In this Capitol, generation after generation, Americans have debated great questions amid great strife, and have done great things. We have fought for freedom, expanded liberty, defeated totalitarianism and terror.',\n",
       "    'For that purpose we’ve mobilized American ground forces, air squadrons, and ship deployments to protect NATO countries including Poland, Romania, Latvia, Lithuania, and Estonia. As I have made crystal clear the United States and our Allies will defend every inch of territory of NATO countries with the full force of our collective power.  And we remain clear-eyed. The Ukrainians are fighting back with pure courage. But the next few days weeks, months, will be hard on them.  Putin has unleashed violence and chaos.  But while he may make gains on the battlefield – he will pay a continuing high price over the long run. And a proud Ukrainian people, who have known 30 years  of independence, have repeatedly shown that they will not tolerate anyone who tries to take their country backwards.  To all Americans, I will be honest with you, as I’ve always promised. A Russian dictator, invading a foreign country, has costs around the world.',\n",
       "    'If you travel 20 miles east of Columbus, Ohio, you’ll find 1,000 empty acres of land. It won’t look like much, but if you stop and look closely, you’ll see a “Field of dreams,” the ground on which America’s future will be built. This is where Intel, the American company that helped build Silicon Valley, is going to build its $20 billion semiconductor “mega site”. Up to eight state-of-the-art factories in one place. 10,000 new good-paying jobs. Some of the most sophisticated manufacturing in the world to make computer chips the size of a fingertip that power the world and our everyday lives. Smartphones. The Internet. Technology we have yet to invent. But that’s just the beginning. Intel’s CEO, Pat Gelsinger, who is here tonight, told me they are ready to increase their investment from  $20 billion to $100 billion. That would be one of the biggest investments in manufacturing in American history. And all they’re waiting for is for you to pass this bill.',\n",
       "    'What is ARPA-H?',\n",
       "    \"ARPA-H is the Advanced Research Projects Agency for Health, which is an agency that aims to drive breakthroughs in cancer, Alzheimer's, diabetes, and more. It was proposed by the U.S. President to supercharge the Cancer Moonshot and cut the cancer death rate by at least 50% over the next 25 years.\",\n",
       "    'Advanced Research Projects Agency for Health'],\n",
       "   ['So let’s not wait any longer. Send it to my desk. I’ll sign it.  And we will really take off. And Intel is not alone. There’s something happening in America. Just look around and you’ll see an amazing story. The rebirth of the pride that comes from stamping products “Made In America.” The revitalization of American manufacturing.   Companies are choosing to build new factories here, when just a few years ago, they would have built them overseas. That’s what is happening. Ford is investing $11 billion to build electric vehicles, creating 11,000 jobs across the country. GM is making the largest investment in its history—$7 billion to build electric vehicles, creating 4,000 jobs in Michigan. All told, we created 369,000 new manufacturing jobs in America just last year. Powered by people I’ve met like JoJo Burgess, from generations of union steelworkers from Pittsburgh, who’s here with us tonight.',\n",
       "    'If you travel 20 miles east of Columbus, Ohio, you’ll find 1,000 empty acres of land. It won’t look like much, but if you stop and look closely, you’ll see a “Field of dreams,” the ground on which America’s future will be built. This is where Intel, the American company that helped build Silicon Valley, is going to build its $20 billion semiconductor “mega site”. Up to eight state-of-the-art factories in one place. 10,000 new good-paying jobs. Some of the most sophisticated manufacturing in the world to make computer chips the size of a fingertip that power the world and our everyday lives. Smartphones. The Internet. Technology we have yet to invent. But that’s just the beginning. Intel’s CEO, Pat Gelsinger, who is here tonight, told me they are ready to increase their investment from  $20 billion to $100 billion. That would be one of the biggest investments in manufacturing in American history. And all they’re waiting for is for you to pass this bill.',\n",
       "    'When we use taxpayer dollars to rebuild America – we are going to Buy American: buy American products to support American jobs. The federal government spends about $600 Billion a year to keep the country safe and secure. There’s been a law on the books for almost a century to make sure taxpayers’ dollars support American jobs and businesses. Every Administration says they’ll do it, but we are actually doing it. We will buy American to make sure everything from the deck of an aircraft carrier to the steel on highway guardrails are made in America. But to compete for the best jobs of the future, we also need to level the playing field with China and other competitors. That’s why it is so important to pass the Bipartisan Innovation Act sitting in Congress that will make record investments in emerging technologies and American manufacturing. Let me give you one example of why it’s so important to pass it.',\n",
       "    'What is the investment of Ford and GM to build electric vehicles?',\n",
       "    'Ford is investing $11 billion to build electric vehicles, creating 11,000 jobs across the country. GM is making the largest investment in its history—$7 billion to build electric vehicles, creating 4,000 jobs in Michigan.So, the total investment of Ford and GM to build electric vehicles is $11 billion + $7 billion = $18 billion.',\n",
       "    '$11 billion'],\n",
       "   ['My plan will cut the cost in half for most families and help parents, including millions of women, who left the workforce during the pandemic because they couldn’t afford child care, to be able to get back to work. My plan doesn’t stop there. It also includes home and long-term care. More affordable housing. And Pre-K for every 3- and 4-year-old.  All of these will lower costs. And under my plan, nobody earning less than $400,000 a year will pay an additional penny in new taxes. Nobody.  The one thing all Americans agree on is that the tax system is not fair. We have to fix it.  I’m not looking to punish anyone. But let’s make sure corporations and the wealthiest Americans start paying their fair share. Just last year, 55 Fortune 500 corporations earned $40 billion in profits and paid zero dollars in federal income tax.  That’s simply not fair. That’s why I’ve proposed a 15% minimum tax rate for corporations.',\n",
       "    'We got more than 130 countries to agree on a global minimum tax rate so companies can’t get out of paying their taxes at home by shipping jobs and factories overseas. That’s why I’ve proposed closing loopholes so the very wealthy don’t pay a lower tax rate than a teacher or a firefighter.  So that’s my plan. It will grow the economy and lower costs for families. So what are we waiting for? Let’s get this done. And while you’re at it, confirm my nominees to the Federal Reserve, which plays a critical role in fighting inflation.  My plan will not only lower costs to give families a fair shot, it will lower the deficit. The previous Administration not only ballooned the deficit with tax cuts for the very wealthy and corporations, it undermined the watchdogs whose job was to keep pandemic relief funds from being wasted. But in my administration, the watchdogs have been welcomed back.',\n",
       "    'And unlike the $2 Trillion tax cut passed in the previous administration that benefitted the top 1% of Americans, the American Rescue Plan helped working people—and left no one behind. And it worked. It created jobs. Lots of jobs. In fact—our economy created over 6.5 Million new jobs just last year, more jobs created in one year  than ever before in the history of America. Our economy grew at a rate of 5.7% last year, the strongest growth in nearly 40 years, the first step in bringing fundamental change to an economy that hasn’t worked for the working people of this nation for too long.  For the past 40 years we were told that if we gave tax breaks to those at the very top, the benefits would trickle down to everyone else. But that trickle-down theory led to weaker economic growth, lower wages, bigger deficits, and the widest gap between those at the top and everyone else in nearly a century.',\n",
       "    'What is the proposed tax rate for corporations?',\n",
       "    'The proposed tax rate for corporations is a 15% minimum tax rate.',\n",
       "    '15%'],\n",
       "   ['If you travel 20 miles east of Columbus, Ohio, you’ll find 1,000 empty acres of land. It won’t look like much, but if you stop and look closely, you’ll see a “Field of dreams,” the ground on which America’s future will be built. This is where Intel, the American company that helped build Silicon Valley, is going to build its $20 billion semiconductor “mega site”. Up to eight state-of-the-art factories in one place. 10,000 new good-paying jobs. Some of the most sophisticated manufacturing in the world to make computer chips the size of a fingertip that power the world and our everyday lives. Smartphones. The Internet. Technology we have yet to invent. But that’s just the beginning. Intel’s CEO, Pat Gelsinger, who is here tonight, told me they are ready to increase their investment from  $20 billion to $100 billion. That would be one of the biggest investments in manufacturing in American history. And all they’re waiting for is for you to pass this bill.',\n",
       "    'So let’s not wait any longer. Send it to my desk. I’ll sign it.  And we will really take off. And Intel is not alone. There’s something happening in America. Just look around and you’ll see an amazing story. The rebirth of the pride that comes from stamping products “Made In America.” The revitalization of American manufacturing.   Companies are choosing to build new factories here, when just a few years ago, they would have built them overseas. That’s what is happening. Ford is investing $11 billion to build electric vehicles, creating 11,000 jobs across the country. GM is making the largest investment in its history—$7 billion to build electric vehicles, creating 4,000 jobs in Michigan. All told, we created 369,000 new manufacturing jobs in America just last year. Powered by people I’ve met like JoJo Burgess, from generations of union steelworkers from Pittsburgh, who’s here with us tonight.',\n",
       "    'When we use taxpayer dollars to rebuild America – we are going to Buy American: buy American products to support American jobs. The federal government spends about $600 Billion a year to keep the country safe and secure. There’s been a law on the books for almost a century to make sure taxpayers’ dollars support American jobs and businesses. Every Administration says they’ll do it, but we are actually doing it. We will buy American to make sure everything from the deck of an aircraft carrier to the steel on highway guardrails are made in America. But to compete for the best jobs of the future, we also need to level the playing field with China and other competitors. That’s why it is so important to pass the Bipartisan Innovation Act sitting in Congress that will make record investments in emerging technologies and American manufacturing. Let me give you one example of why it’s so important to pass it.',\n",
       "    'What is Intel going to build?',\n",
       "    'Intel is going to build a $20 billion semiconductor \"mega site\" with up to eight state-of-the-art factories.',\n",
       "    'A semiconductor mega site'],\n",
       "   ['So let’s not wait any longer. Send it to my desk. I’ll sign it.  And we will really take off. And Intel is not alone. There’s something happening in America. Just look around and you’ll see an amazing story. The rebirth of the pride that comes from stamping products “Made In America.” The revitalization of American manufacturing.   Companies are choosing to build new factories here, when just a few years ago, they would have built them overseas. That’s what is happening. Ford is investing $11 billion to build electric vehicles, creating 11,000 jobs across the country. GM is making the largest investment in its history—$7 billion to build electric vehicles, creating 4,000 jobs in Michigan. All told, we created 369,000 new manufacturing jobs in America just last year. Powered by people I’ve met like JoJo Burgess, from generations of union steelworkers from Pittsburgh, who’s here with us tonight.',\n",
       "    'If you travel 20 miles east of Columbus, Ohio, you’ll find 1,000 empty acres of land. It won’t look like much, but if you stop and look closely, you’ll see a “Field of dreams,” the ground on which America’s future will be built. This is where Intel, the American company that helped build Silicon Valley, is going to build its $20 billion semiconductor “mega site”. Up to eight state-of-the-art factories in one place. 10,000 new good-paying jobs. Some of the most sophisticated manufacturing in the world to make computer chips the size of a fingertip that power the world and our everyday lives. Smartphones. The Internet. Technology we have yet to invent. But that’s just the beginning. Intel’s CEO, Pat Gelsinger, who is here tonight, told me they are ready to increase their investment from  $20 billion to $100 billion. That would be one of the biggest investments in manufacturing in American history. And all they’re waiting for is for you to pass this bill.',\n",
       "    'It is going to transform America and put us on a path to win the economic competition of the 21st Century that we face with the rest of the world—particularly with China.  As I’ve told Xi Jinping, it is never a good bet to bet against the American people. We’ll create good jobs for millions of Americans, modernizing roads, airports, ports, and waterways all across America. And we’ll do it all to withstand the devastating effects of the climate crisis and promote environmental justice. We’ll build a national network of 500,000 electric vehicle charging stations, begin to replace poisonous lead pipes—so every child—and every American—has clean water to drink at home and at school, provide affordable high-speed internet for every American—urban, suburban, rural, and tribal communities. 4,000 projects have already been announced. And tonight, I’m announcing that this year we will start fixing over 65,000 miles of highway and 1,500 bridges in disrepair.',\n",
       "    'How many electric vehicle charging stations are built?',\n",
       "    'The document does not provide information on the number of electric vehicle charging stations built. It only mentions the plan to build a national network of 500,000 electric vehicle charging stations.',\n",
       "    '500,000']]}]"
      ]
     },
     "execution_count": 48,
     "metadata": {},
     "output_type": "execute_result"
    }
   ],
   "source": [
    "fields = feature_fields\n",
    "fields.append(label_column)\n",
    "fields.append(\"_original_prediction\")\n",
    "feedback_data = [{\"fields\": fields, \"values\": test_data_content}]\n",
    "feedback_data"
   ]
  },
  {
   "cell_type": "markdown",
   "metadata": {
    "id": "202c461d-af94-483f-bb9e-f43e4c61f0f2"
   },
   "source": [
    "The following code can be used to manually add feedback data to the table."
   ]
  },
  {
   "cell_type": "code",
   "execution_count": 49,
   "metadata": {
    "id": "a455958d-1fc9-4e8e-a17c-35b40eacd248"
   },
   "outputs": [
    {
     "name": "stdout",
     "output_type": "stream",
     "text": [
      "\n",
      "\n",
      "==========================================================================================\n",
      "\n",
      " Waiting for end of storing records with request id: 9ff0f418-114c-42e6-bf9c-b40fa0b5c623 \n",
      "\n",
      "==========================================================================================\n",
      "\n",
      "\n",
      "\n",
      "active\n",
      "\n",
      "---------------------------------------\n",
      " Successfully finished storing records \n",
      "---------------------------------------\n",
      "\n",
      "\n",
      "Number of records in the feedback logging table: 5\n"
     ]
    }
   ],
   "source": [
    "wos_client.data_sets.store_records(\n",
    "    data_set_id=feedback_data_set_id, request_body=feedback_data, background_mode=False\n",
    ")\n",
    "time.sleep(5)\n",
    "fb_records_count = wos_client.data_sets.get_records_count(feedback_data_set_id)\n",
    "time.sleep(10)\n",
    "print(\"Number of records in the feedback logging table: {}\".format(fb_records_count))"
   ]
  },
  {
   "cell_type": "markdown",
   "metadata": {
    "id": "eed70425-e23e-408e-9f07-c717c837996b"
   },
   "source": [
    "### Show all the monitor instances in the production subscription\n",
    "The following cell lists the monitors present in the production subscription, along with their respective statuses and other details. Please wait for all the monitors to be in an active state before proceeding further:"
   ]
  },
  {
   "cell_type": "code",
   "execution_count": 50,
   "metadata": {
    "id": "2c33d97c-e7df-4950-87f1-2a5da5d8d68d"
   },
   "outputs": [
    {
     "data": {
      "text/html": [
       "<HTML>\n",
       "        <body>\n",
       "            <h3>Monitor instances</h3>\n",
       "            <table style='border: 1px solid #dddddd; font-family: Courier'>\n",
       "                <th style='border: 1px solid #dddddd'>data_mart_id</th><th style='border: 1px solid #dddddd'>status</th><th style='border: 1px solid #dddddd'>target_id</th><th style='border: 1px solid #dddddd'>target_type</th><th style='border: 1px solid #dddddd'>monitor_definition_id</th><th style='border: 1px solid #dddddd'>created_at</th><th style='border: 1px solid #dddddd'>id</th>\n",
       "                <tr><td style='border: 1px solid #dddddd'>dea2ecd3-2a6c-4fdd-8736-136b706d3707</td><td style='border: 1px solid #dddddd'>active</td><td style='border: 1px solid #dddddd'>d83a2091-d1c9-412a-8db1-5db2378fcc40</td><td style='border: 1px solid #dddddd'>subscription</td><td style='border: 1px solid #dddddd'>model_health</td><td style='border: 1px solid #dddddd'>2024-11-07 17:51:46.465000+00:00</td><td style='border: 1px solid #dddddd'>260a579f-e4dd-4f3b-8e35-ba038bc4e118</td></tr><tr><td style='border: 1px solid #dddddd'>dea2ecd3-2a6c-4fdd-8736-136b706d3707</td><td style='border: 1px solid #dddddd'>active</td><td style='border: 1px solid #dddddd'>d83a2091-d1c9-412a-8db1-5db2378fcc40</td><td style='border: 1px solid #dddddd'>subscription</td><td style='border: 1px solid #dddddd'>generative_ai_quality</td><td style='border: 1px solid #dddddd'>2024-11-07 17:51:45.805000+00:00</td><td style='border: 1px solid #dddddd'>30d0208c-a006-4ce4-bdbf-262d5c90ba8a</td></tr><tr><td style='border: 1px solid #dddddd'>dea2ecd3-2a6c-4fdd-8736-136b706d3707</td><td style='border: 1px solid #dddddd'>active</td><td style='border: 1px solid #dddddd'>d83a2091-d1c9-412a-8db1-5db2378fcc40</td><td style='border: 1px solid #dddddd'>subscription</td><td style='border: 1px solid #dddddd'>mrm</td><td style='border: 1px solid #dddddd'>2024-11-07 17:51:47.097000+00:00</td><td style='border: 1px solid #dddddd'>a5063da3-8766-4f63-9b30-031ffd47f512</td></tr>\n",
       "            </table>\n",
       "        </body>\n",
       "        </HTML>"
      ],
      "text/plain": [
       "<IPython.core.display.HTML object>"
      ]
     },
     "metadata": {},
     "output_type": "display_data"
    }
   ],
   "source": [
    "wos_client.monitor_instances.show(target_target_id=prod_subscription_id)"
   ]
  },
  {
   "cell_type": "markdown",
   "metadata": {
    "id": "b7b72260-7183-417c-b035-fdc5893cac2c"
   },
   "source": [
    "### Read the Model Risk Metrics monitor instance ID of a PTA subscription deployed in a space\n",
    "\n",
    "Evaluating the test data against the prompt template subscription requires the monitor instance ID of the Model Risk Metrics monitor."
   ]
  },
  {
   "cell_type": "code",
   "execution_count": 51,
   "metadata": {
    "id": "c0d37975-d4b0-47bf-b21f-389b01c739a8"
   },
   "outputs": [
    {
     "data": {
      "text/plain": [
       "'a5063da3-8766-4f63-9b30-031ffd47f512'"
      ]
     },
     "execution_count": 51,
     "metadata": {},
     "output_type": "execute_result"
    }
   ],
   "source": [
    "monitor_definition_id = \"mrm\"\n",
    "target_target_id = prod_subscription_id\n",
    "result = wos_client.monitor_instances.list(\n",
    "    data_mart_id=data_mart_id,\n",
    "    monitor_definition_id=monitor_definition_id,\n",
    "    target_target_id=target_target_id,\n",
    "    space_id=space_id,\n",
    ").result\n",
    "result_json = result._to_dict()\n",
    "mrm_monitor_id = result_json[\"monitor_instances\"][0][\"metadata\"][\"id\"]\n",
    "mrm_monitor_id"
   ]
  },
  {
   "cell_type": "markdown",
   "metadata": {
    "id": "248e6b81-e6d9-4091-8db5-261f86bdb17b"
   },
   "source": [
    "### Evaluate the prompt template subscription from a space\n",
    "\n",
    "The following cell will assess subscription of the prompt template asset and produce relevant measurements for the configured monitor. The data to be evaluated are already uploaded to payload and feedback table."
   ]
  },
  {
   "cell_type": "code",
   "execution_count": 52,
   "metadata": {
    "id": "9fb4af7e-635a-44db-9098-f43218c14de5"
   },
   "outputs": [
    {
     "name": "stdout",
     "output_type": "stream",
     "text": [
      "\n",
      "\n",
      "=================================================================================\n",
      "\n",
      " Waiting for risk evaluation of MRM monitor a5063da3-8766-4f63-9b30-031ffd47f512 \n",
      "\n",
      "=================================================================================\n",
      "\n",
      "\n",
      "\n",
      "running...\n",
      "finished\n",
      "\n",
      "---------------------------------------\n",
      " Successfully finished evaluating risk \n",
      "---------------------------------------\n",
      "\n",
      "\n"
     ]
    }
   ],
   "source": [
    "response = wos_client.monitor_instances.mrm.evaluate_risk(\n",
    "    monitor_instance_id=mrm_monitor_id,\n",
    "    body=body,\n",
    "    space_id=space_id,\n",
    "    background_mode=False,\n",
    ")"
   ]
  },
  {
   "cell_type": "markdown",
   "metadata": {
    "id": "8334e3a6-7df5-415a-8a61-47404ab1e996"
   },
   "source": [
    "### Read the risk evaluation response\n",
    "\n",
    "After initiating the risk evaluation, the evaluation results of the PTA from your space are now available for review:"
   ]
  },
  {
   "cell_type": "code",
   "execution_count": 53,
   "metadata": {
    "id": "c61bfbdf-f1dc-4126-b424-c599ae9f6468"
   },
   "outputs": [
    {
     "data": {
      "text/plain": [
       "{'metadata': {'id': 'dae3a2ba-b8d7-4d66-b65f-881739e1997f',\n",
       "  'created_at': '2024-11-07T17:57:36.833Z',\n",
       "  'created_by': 'iam-ServiceId-b317a8da-d926-496e-b0ca-6bcc57f556ae'},\n",
       " 'entity': {'triggered_by': 'user',\n",
       "  'parameters': {'deployment_id': '66a41504-c943-47cd-ae1e-30aeba5f7c7f',\n",
       "   'evaluation_start_time': '2024-11-07T17:57:34.911999Z',\n",
       "   'facts': {'state': 'finished'},\n",
       "   'measurement_id': 'f8e19268-38ff-45ee-ad83-0d8c46afb40d',\n",
       "   'monitors_run_status': [{'monitor_id': 'generative_ai_quality',\n",
       "     'status': {'state': 'finished'}},\n",
       "    {'monitor_id': 'model_health', 'status': {'state': 'finished'}}],\n",
       "   'prompt_template_asset_id': '395cc1f5-1f73-434e-97a0-f0a504d04075',\n",
       "   'prompt_template_details': {'pta_resource_key': 'cde366a6306d17b32453422c270b01b9d50d2a1c2bc8e20224dc43a9a76414ca'},\n",
       "   'space_id': '7d195a51-8938-4fc7-a2b6-cf8e254d67c5',\n",
       "   'user_iam_id': 'IBMid-693000DYYL',\n",
       "   'publish_metrics': 'false',\n",
       "   'evaluation_tests': []},\n",
       "  'status': {'state': 'finished',\n",
       "   'queued_at': '2024-11-07T17:57:36.813000Z',\n",
       "   'started_at': '2024-11-07T17:57:37.246000Z',\n",
       "   'updated_at': '2024-11-07T17:58:18.810000Z',\n",
       "   'completed_at': '2024-11-07T17:58:14.809000Z',\n",
       "   'message': 'Mrm evaluation complete.',\n",
       "   'operators': []}}}"
      ]
     },
     "execution_count": 53,
     "metadata": {},
     "output_type": "execute_result"
    }
   ],
   "source": [
    "response = wos_client.monitor_instances.mrm.get_risk_evaluation(\n",
    "    mrm_monitor_id, space_id=space_id\n",
    ")\n",
    "response.result.to_dict()"
   ]
  },
  {
   "cell_type": "markdown",
   "metadata": {
    "id": "ef4d80bd-cc41-40d4-810e-1049414626e5"
   },
   "source": [
    "### Display the Model Risk metrics\n",
    "\n",
    "Having calculated the measurements for the Foundation Model subscription, the MModel Risk metrics generated for this subscription are now available for your review:"
   ]
  },
  {
   "cell_type": "code",
   "execution_count": 54,
   "metadata": {
    "id": "d8e98561-89af-433d-9d1f-4352c1311395"
   },
   "outputs": [
    {
     "data": {
      "text/html": [
       "<HTML>\n",
       "        <body>\n",
       "            <h3>a5063da3-8766-4f63-9b30-031ffd47f512 Monitor Runs Metrics from: 2024-10-31 23:30:02.535569  till: 2024-11-07 23:30:02.535575</h3>\n",
       "            <table style='border: 1px solid #dddddd; font-family: Courier'>\n",
       "                <th style='border: 1px solid #dddddd'>ts</th><th style='border: 1px solid #dddddd'>id</th><th style='border: 1px solid #dddddd'>measurement_id</th><th style='border: 1px solid #dddddd'>value</th><th style='border: 1px solid #dddddd'>lower_limit</th><th style='border: 1px solid #dddddd'>upper_limit</th><th style='border: 1px solid #dddddd'>tags</th><th style='border: 1px solid #dddddd'>monitor_definition_id</th><th style='border: 1px solid #dddddd'>monitor_instance_id</th><th style='border: 1px solid #dddddd'>run_id</th><th style='border: 1px solid #dddddd'>target_type</th><th style='border: 1px solid #dddddd'>target_id</th>\n",
       "                <tr><td style='border: 1px solid #dddddd'>2024-11-07 17:57:36.928000+00:00</td><td style='border: 1px solid #dddddd'>tests_passed</td><td style='border: 1px solid #dddddd'>f8e19268-38ff-45ee-ad83-0d8c46afb40d</td><td style='border: 1px solid #dddddd'>0.0</td><td style='border: 1px solid #dddddd'>None</td><td style='border: 1px solid #dddddd'>None</td><td style='border: 1px solid #dddddd'>[]</td><td style='border: 1px solid #dddddd'>mrm</td><td style='border: 1px solid #dddddd'>a5063da3-8766-4f63-9b30-031ffd47f512</td><td style='border: 1px solid #dddddd'>dae3a2ba-b8d7-4d66-b65f-881739e1997f</td><td style='border: 1px solid #dddddd'>subscription</td><td style='border: 1px solid #dddddd'>d83a2091-d1c9-412a-8db1-5db2378fcc40</td></tr><tr><td style='border: 1px solid #dddddd'>2024-11-07 17:57:36.928000+00:00</td><td style='border: 1px solid #dddddd'>tests_run</td><td style='border: 1px solid #dddddd'>f8e19268-38ff-45ee-ad83-0d8c46afb40d</td><td style='border: 1px solid #dddddd'>1.0</td><td style='border: 1px solid #dddddd'>None</td><td style='border: 1px solid #dddddd'>None</td><td style='border: 1px solid #dddddd'>[]</td><td style='border: 1px solid #dddddd'>mrm</td><td style='border: 1px solid #dddddd'>a5063da3-8766-4f63-9b30-031ffd47f512</td><td style='border: 1px solid #dddddd'>dae3a2ba-b8d7-4d66-b65f-881739e1997f</td><td style='border: 1px solid #dddddd'>subscription</td><td style='border: 1px solid #dddddd'>d83a2091-d1c9-412a-8db1-5db2378fcc40</td></tr><tr><td style='border: 1px solid #dddddd'>2024-11-07 17:57:36.928000+00:00</td><td style='border: 1px solid #dddddd'>tests_skipped</td><td style='border: 1px solid #dddddd'>f8e19268-38ff-45ee-ad83-0d8c46afb40d</td><td style='border: 1px solid #dddddd'>3.0</td><td style='border: 1px solid #dddddd'>None</td><td style='border: 1px solid #dddddd'>None</td><td style='border: 1px solid #dddddd'>[]</td><td style='border: 1px solid #dddddd'>mrm</td><td style='border: 1px solid #dddddd'>a5063da3-8766-4f63-9b30-031ffd47f512</td><td style='border: 1px solid #dddddd'>dae3a2ba-b8d7-4d66-b65f-881739e1997f</td><td style='border: 1px solid #dddddd'>subscription</td><td style='border: 1px solid #dddddd'>d83a2091-d1c9-412a-8db1-5db2378fcc40</td></tr><tr><td style='border: 1px solid #dddddd'>2024-11-07 17:57:36.928000+00:00</td><td style='border: 1px solid #dddddd'>tests_failed</td><td style='border: 1px solid #dddddd'>f8e19268-38ff-45ee-ad83-0d8c46afb40d</td><td style='border: 1px solid #dddddd'>1.0</td><td style='border: 1px solid #dddddd'>None</td><td style='border: 1px solid #dddddd'>None</td><td style='border: 1px solid #dddddd'>[]</td><td style='border: 1px solid #dddddd'>mrm</td><td style='border: 1px solid #dddddd'>a5063da3-8766-4f63-9b30-031ffd47f512</td><td style='border: 1px solid #dddddd'>dae3a2ba-b8d7-4d66-b65f-881739e1997f</td><td style='border: 1px solid #dddddd'>subscription</td><td style='border: 1px solid #dddddd'>d83a2091-d1c9-412a-8db1-5db2378fcc40</td></tr>\n",
       "            </table>\n",
       "        </body>\n",
       "        </HTML>"
      ],
      "text/plain": [
       "<IPython.core.display.HTML object>"
      ]
     },
     "metadata": {},
     "output_type": "display_data"
    }
   ],
   "source": [
    "wos_client.monitor_instances.show_metrics(\n",
    "    monitor_instance_id=mrm_monitor_id, space_id=space_id\n",
    ")"
   ]
  },
  {
   "cell_type": "markdown",
   "metadata": {
    "id": "a60675ad-b3eb-47d9-89d3-8a559d2579af"
   },
   "source": [
    "### Display the Generative AI quality metrics"
   ]
  },
  {
   "cell_type": "markdown",
   "metadata": {},
   "source": [
    "The monitor instance ID for the Generative AI quality metrics is required for reading its metrics:"
   ]
  },
  {
   "cell_type": "code",
   "execution_count": 55,
   "metadata": {
    "id": "62035a68-6f66-44b9-9553-cb566afa0451"
   },
   "outputs": [
    {
     "data": {
      "text/plain": [
       "'30d0208c-a006-4ce4-bdbf-262d5c90ba8a'"
      ]
     },
     "execution_count": 55,
     "metadata": {},
     "output_type": "execute_result"
    }
   ],
   "source": [
    "monitor_definition_id = \"generative_ai_quality\"\n",
    "result = wos_client.monitor_instances.list(\n",
    "    data_mart_id=data_mart_id,\n",
    "    monitor_definition_id=monitor_definition_id,\n",
    "    target_target_id=target_target_id,\n",
    "    space_id=space_id,\n",
    ").result\n",
    "result_json = result._to_dict()\n",
    "genaiquality_monitor_id = result_json[\"monitor_instances\"][0][\"metadata\"][\"id\"]\n",
    "genaiquality_monitor_id"
   ]
  },
  {
   "cell_type": "markdown",
   "metadata": {
    "id": "9885cbe6-1083-4ccb-9d57-b8e8f009a0bc"
   },
   "source": [
    "Display the monitor metrics of the Generative AI quality metrics generated through the risk evaluation:"
   ]
  },
  {
   "cell_type": "code",
   "execution_count": 56,
   "metadata": {
    "id": "789ad789-f8c7-4927-bf1b-485b0addfc2b"
   },
   "outputs": [
    {
     "data": {
      "text/html": [
       "<HTML>\n",
       "        <body>\n",
       "            <h3>30d0208c-a006-4ce4-bdbf-262d5c90ba8a Monitor Runs Metrics from: 2024-10-31 23:30:11.368036  till: 2024-11-07 23:30:11.368044</h3>\n",
       "            <table style='border: 1px solid #dddddd; font-family: Courier'>\n",
       "                <th style='border: 1px solid #dddddd'>ts</th><th style='border: 1px solid #dddddd'>id</th><th style='border: 1px solid #dddddd'>measurement_id</th><th style='border: 1px solid #dddddd'>value</th><th style='border: 1px solid #dddddd'>lower_limit</th><th style='border: 1px solid #dddddd'>upper_limit</th><th style='border: 1px solid #dddddd'>tags</th><th style='border: 1px solid #dddddd'>monitor_definition_id</th><th style='border: 1px solid #dddddd'>monitor_instance_id</th><th style='border: 1px solid #dddddd'>run_id</th><th style='border: 1px solid #dddddd'>target_type</th><th style='border: 1px solid #dddddd'>target_id</th>\n",
       "                <tr><td style='border: 1px solid #dddddd'>2024-11-07 17:58:04.517325+00:00</td><td style='border: 1px solid #dddddd'>hap_input_score</td><td style='border: 1px solid #dddddd'>8490b5b3-c265-4104-9240-6ca4eef39e2e</td><td style='border: 1px solid #dddddd'>0.0</td><td style='border: 1px solid #dddddd'>None</td><td style='border: 1px solid #dddddd'>0.0</td><td style='border: 1px solid #dddddd'>['computed_on:feedback', 'field_type:subscription', 'aggregation_type:mean']</td><td style='border: 1px solid #dddddd'>generative_ai_quality</td><td style='border: 1px solid #dddddd'>30d0208c-a006-4ce4-bdbf-262d5c90ba8a</td><td style='border: 1px solid #dddddd'>f60cfe80-1b0f-4c70-ab3e-bd825977a4ed</td><td style='border: 1px solid #dddddd'>subscription</td><td style='border: 1px solid #dddddd'>d83a2091-d1c9-412a-8db1-5db2378fcc40</td></tr><tr><td style='border: 1px solid #dddddd'>2024-11-07 17:58:04.517325+00:00</td><td style='border: 1px solid #dddddd'>rouge2</td><td style='border: 1px solid #dddddd'>8490b5b3-c265-4104-9240-6ca4eef39e2e</td><td style='border: 1px solid #dddddd'>0.096</td><td style='border: 1px solid #dddddd'>0.8</td><td style='border: 1px solid #dddddd'>None</td><td style='border: 1px solid #dddddd'>['computed_on:feedback', 'field_type:subscription', 'aggregation_type:mean']</td><td style='border: 1px solid #dddddd'>generative_ai_quality</td><td style='border: 1px solid #dddddd'>30d0208c-a006-4ce4-bdbf-262d5c90ba8a</td><td style='border: 1px solid #dddddd'>f60cfe80-1b0f-4c70-ab3e-bd825977a4ed</td><td style='border: 1px solid #dddddd'>subscription</td><td style='border: 1px solid #dddddd'>d83a2091-d1c9-412a-8db1-5db2378fcc40</td></tr><tr><td style='border: 1px solid #dddddd'>2024-11-07 17:58:04.517325+00:00</td><td style='border: 1px solid #dddddd'>faithfulness</td><td style='border: 1px solid #dddddd'>8490b5b3-c265-4104-9240-6ca4eef39e2e</td><td style='border: 1px solid #dddddd'>0.48</td><td style='border: 1px solid #dddddd'>0.7</td><td style='border: 1px solid #dddddd'>None</td><td style='border: 1px solid #dddddd'>['computed_on:feedback', 'field_type:subscription', 'aggregation_type:mean']</td><td style='border: 1px solid #dddddd'>generative_ai_quality</td><td style='border: 1px solid #dddddd'>30d0208c-a006-4ce4-bdbf-262d5c90ba8a</td><td style='border: 1px solid #dddddd'>f60cfe80-1b0f-4c70-ab3e-bd825977a4ed</td><td style='border: 1px solid #dddddd'>subscription</td><td style='border: 1px solid #dddddd'>d83a2091-d1c9-412a-8db1-5db2378fcc40</td></tr><tr><td style='border: 1px solid #dddddd'>2024-11-07 17:58:04.517325+00:00</td><td style='border: 1px solid #dddddd'>average_precision</td><td style='border: 1px solid #dddddd'>8490b5b3-c265-4104-9240-6ca4eef39e2e</td><td style='border: 1px solid #dddddd'>0.86</td><td style='border: 1px solid #dddddd'>0.7</td><td style='border: 1px solid #dddddd'>None</td><td style='border: 1px solid #dddddd'>['computed_on:feedback', 'field_type:subscription', 'aggregation_type:mean']</td><td style='border: 1px solid #dddddd'>generative_ai_quality</td><td style='border: 1px solid #dddddd'>30d0208c-a006-4ce4-bdbf-262d5c90ba8a</td><td style='border: 1px solid #dddddd'>f60cfe80-1b0f-4c70-ab3e-bd825977a4ed</td><td style='border: 1px solid #dddddd'>subscription</td><td style='border: 1px solid #dddddd'>d83a2091-d1c9-412a-8db1-5db2378fcc40</td></tr><tr><td style='border: 1px solid #dddddd'>2024-11-07 17:58:04.517325+00:00</td><td style='border: 1px solid #dddddd'>records_processed</td><td style='border: 1px solid #dddddd'>8490b5b3-c265-4104-9240-6ca4eef39e2e</td><td style='border: 1px solid #dddddd'>5.0</td><td style='border: 1px solid #dddddd'>None</td><td style='border: 1px solid #dddddd'>None</td><td style='border: 1px solid #dddddd'>['computed_on:feedback', 'field_type:subscription', 'aggregation_type:mean']</td><td style='border: 1px solid #dddddd'>generative_ai_quality</td><td style='border: 1px solid #dddddd'>30d0208c-a006-4ce4-bdbf-262d5c90ba8a</td><td style='border: 1px solid #dddddd'>f60cfe80-1b0f-4c70-ab3e-bd825977a4ed</td><td style='border: 1px solid #dddddd'>subscription</td><td style='border: 1px solid #dddddd'>d83a2091-d1c9-412a-8db1-5db2378fcc40</td></tr><tr><td style='border: 1px solid #dddddd'>2024-11-07 17:58:04.517325+00:00</td><td style='border: 1px solid #dddddd'>hit_rate</td><td style='border: 1px solid #dddddd'>8490b5b3-c265-4104-9240-6ca4eef39e2e</td><td style='border: 1px solid #dddddd'>1.0</td><td style='border: 1px solid #dddddd'>0.7</td><td style='border: 1px solid #dddddd'>None</td><td style='border: 1px solid #dddddd'>['computed_on:feedback', 'field_type:subscription', 'aggregation_type:mean']</td><td style='border: 1px solid #dddddd'>generative_ai_quality</td><td style='border: 1px solid #dddddd'>30d0208c-a006-4ce4-bdbf-262d5c90ba8a</td><td style='border: 1px solid #dddddd'>f60cfe80-1b0f-4c70-ab3e-bd825977a4ed</td><td style='border: 1px solid #dddddd'>subscription</td><td style='border: 1px solid #dddddd'>d83a2091-d1c9-412a-8db1-5db2378fcc40</td></tr><tr><td style='border: 1px solid #dddddd'>2024-11-07 17:58:04.517325+00:00</td><td style='border: 1px solid #dddddd'>rougelsum</td><td style='border: 1px solid #dddddd'>8490b5b3-c265-4104-9240-6ca4eef39e2e</td><td style='border: 1px solid #dddddd'>0.1765</td><td style='border: 1px solid #dddddd'>0.8</td><td style='border: 1px solid #dddddd'>None</td><td style='border: 1px solid #dddddd'>['computed_on:feedback', 'field_type:subscription', 'aggregation_type:mean']</td><td style='border: 1px solid #dddddd'>generative_ai_quality</td><td style='border: 1px solid #dddddd'>30d0208c-a006-4ce4-bdbf-262d5c90ba8a</td><td style='border: 1px solid #dddddd'>f60cfe80-1b0f-4c70-ab3e-bd825977a4ed</td><td style='border: 1px solid #dddddd'>subscription</td><td style='border: 1px solid #dddddd'>d83a2091-d1c9-412a-8db1-5db2378fcc40</td></tr><tr><td style='border: 1px solid #dddddd'>2024-11-07 17:58:04.517325+00:00</td><td style='border: 1px solid #dddddd'>answer_relevance</td><td style='border: 1px solid #dddddd'>8490b5b3-c265-4104-9240-6ca4eef39e2e</td><td style='border: 1px solid #dddddd'>0.84</td><td style='border: 1px solid #dddddd'>0.7</td><td style='border: 1px solid #dddddd'>None</td><td style='border: 1px solid #dddddd'>['computed_on:feedback', 'field_type:subscription', 'aggregation_type:mean']</td><td style='border: 1px solid #dddddd'>generative_ai_quality</td><td style='border: 1px solid #dddddd'>30d0208c-a006-4ce4-bdbf-262d5c90ba8a</td><td style='border: 1px solid #dddddd'>f60cfe80-1b0f-4c70-ab3e-bd825977a4ed</td><td style='border: 1px solid #dddddd'>subscription</td><td style='border: 1px solid #dddddd'>d83a2091-d1c9-412a-8db1-5db2378fcc40</td></tr><tr><td style='border: 1px solid #dddddd'>2024-11-07 17:58:04.517325+00:00</td><td style='border: 1px solid #dddddd'>hap_score</td><td style='border: 1px solid #dddddd'>8490b5b3-c265-4104-9240-6ca4eef39e2e</td><td style='border: 1px solid #dddddd'>0.0</td><td style='border: 1px solid #dddddd'>None</td><td style='border: 1px solid #dddddd'>0.0</td><td style='border: 1px solid #dddddd'>['computed_on:feedback', 'field_type:subscription', 'aggregation_type:mean']</td><td style='border: 1px solid #dddddd'>generative_ai_quality</td><td style='border: 1px solid #dddddd'>30d0208c-a006-4ce4-bdbf-262d5c90ba8a</td><td style='border: 1px solid #dddddd'>f60cfe80-1b0f-4c70-ab3e-bd825977a4ed</td><td style='border: 1px solid #dddddd'>subscription</td><td style='border: 1px solid #dddddd'>d83a2091-d1c9-412a-8db1-5db2378fcc40</td></tr><tr><td style='border: 1px solid #dddddd'>2024-11-07 17:58:04.517325+00:00</td><td style='border: 1px solid #dddddd'>reciprocal_rank</td><td style='border: 1px solid #dddddd'>8490b5b3-c265-4104-9240-6ca4eef39e2e</td><td style='border: 1px solid #dddddd'>0.8667</td><td style='border: 1px solid #dddddd'>0.7</td><td style='border: 1px solid #dddddd'>None</td><td style='border: 1px solid #dddddd'>['computed_on:feedback', 'field_type:subscription', 'aggregation_type:mean']</td><td style='border: 1px solid #dddddd'>generative_ai_quality</td><td style='border: 1px solid #dddddd'>30d0208c-a006-4ce4-bdbf-262d5c90ba8a</td><td style='border: 1px solid #dddddd'>f60cfe80-1b0f-4c70-ab3e-bd825977a4ed</td><td style='border: 1px solid #dddddd'>subscription</td><td style='border: 1px solid #dddddd'>d83a2091-d1c9-412a-8db1-5db2378fcc40</td></tr>\n",
       "            </table>\n",
       "        </body>\n",
       "        </HTML>"
      ],
      "text/plain": [
       "<IPython.core.display.HTML object>"
      ]
     },
     "metadata": {},
     "output_type": "display_data"
    },
    {
     "name": "stdout",
     "output_type": "stream",
     "text": [
      "Note: First 10 records were displayed.\n"
     ]
    }
   ],
   "source": [
    "wos_client.monitor_instances.show_metrics(\n",
    "    monitor_instance_id=genaiquality_monitor_id, space_id=space_id\n",
    ")"
   ]
  },
  {
   "cell_type": "markdown",
   "metadata": {
    "id": "fb3ccd8a-4ea0-4736-b509-727dfa90abea"
   },
   "source": [
    "## Step 13 - Display the source attribution for a record"
   ]
  },
  {
   "cell_type": "markdown",
   "metadata": {
    "id": "4859d909-0be1-47bf-a522-db2a17700f46"
   },
   "source": [
    "Read the dataset ID for the Generative AI quality dataset:"
   ]
  },
  {
   "cell_type": "code",
   "execution_count": 57,
   "metadata": {
    "id": "86b51317-3848-4bd8-b87a-d2f5506c1145"
   },
   "outputs": [
    {
     "data": {
      "text/plain": [
       "'a65e37e1-cb3a-4288-924b-b83bf7067873'"
      ]
     },
     "execution_count": 57,
     "metadata": {},
     "output_type": "execute_result"
    }
   ],
   "source": [
    "result = wos_client.data_sets.list(\n",
    "    target_target_id=prod_subscription_id,\n",
    "    target_target_type=\"subscription\",\n",
    "    type=\"gen_ai_quality_metrics\",\n",
    ").result\n",
    "\n",
    "genaiq_dataset_id = result.data_sets[0].metadata.id\n",
    "genaiq_dataset_id"
   ]
  },
  {
   "cell_type": "markdown",
   "metadata": {
    "id": "8e32d064-6bd0-4eb6-b268-0ca6326606e3"
   },
   "source": [
    "Display record level metrics for Generative AI quality:"
   ]
  },
  {
   "cell_type": "code",
   "execution_count": 58,
   "metadata": {
    "id": "7200552c-43e2-4855-a346-3b4306146f3a"
   },
   "outputs": [
    {
     "data": {
      "text/html": [
       "<HTML>\n",
       "        <body>\n",
       "            <h3>Data Set a65e37e1-cb3a-4288-924b-b83bf7067873 Records</h3>\n",
       "            <table style='border: 1px solid #dddddd; font-family: Courier'>\n",
       "                <th style='border: 1px solid #dddddd'>hap_input_score</th><th style='border: 1px solid #dddddd'>rouge2</th><th style='border: 1px solid #dddddd'>faithfulness</th><th style='border: 1px solid #dddddd'>pii_entities</th><th style='border: 1px solid #dddddd'>average_precision</th><th style='border: 1px solid #dddddd'>scoring_id</th><th style='border: 1px solid #dddddd'>hit_rate</th><th style='border: 1px solid #dddddd'>computed_on</th><th style='border: 1px solid #dddddd'>scoring_timestamp</th><th style='border: 1px solid #dddddd'>rougelsum</th><th style='border: 1px solid #dddddd'>answer_relevance</th><th style='border: 1px solid #dddddd'>faithfulness_attributions</th><th style='border: 1px solid #dddddd'>context_relevances</th><th style='border: 1px solid #dddddd'>hap_score</th><th style='border: 1px solid #dddddd'>reciprocal_rank</th><th style='border: 1px solid #dddddd'>pii_input_entities</th><th style='border: 1px solid #dddddd'>ndcg</th><th style='border: 1px solid #dddddd'>pii</th><th style='border: 1px solid #dddddd'>hap_input_score_entities</th><th style='border: 1px solid #dddddd'>retrieval_precision</th><th style='border: 1px solid #dddddd'>hap_score_positions</th><th style='border: 1px solid #dddddd'>bleu</th><th style='border: 1px solid #dddddd'>run_id</th><th style='border: 1px solid #dddddd'>context_relevance</th><th style='border: 1px solid #dddddd'>pii_input_positions</th><th style='border: 1px solid #dddddd'>pii_positions</th><th style='border: 1px solid #dddddd'>rougel</th><th style='border: 1px solid #dddddd'>answer_similarity</th><th style='border: 1px solid #dddddd'>exact_match</th><th style='border: 1px solid #dddddd'>unsuccessful_requests</th><th style='border: 1px solid #dddddd'>hap_score_entities</th><th style='border: 1px solid #dddddd'>pii_input</th><th style='border: 1px solid #dddddd'>hap_input_score_positions</th><th style='border: 1px solid #dddddd'>rouge1</th>\n",
       "                <tr><td style='border: 1px solid #dddddd'>0.0009044734761118889</td><td style='border: 1px solid #dddddd'>0.0</td><td style='border: 1px solid #dddddd'>0.2</td><td style='border: 1px solid #dddddd'>[]</td><td style='border: 1px solid #dddddd'>0.3</td><td style='border: 1px solid #dddddd'>386937f1-08a6-4eed-804f-50bdbb07218e</td><td style='border: 1px solid #dddddd'>1.0</td><td style='border: 1px solid #dddddd'>feedback</td><td style='border: 1px solid #dddddd'>2024-11-07T17:56:53.668Z</td><td style='border: 1px solid #dddddd'>0.0714</td><td style='border: 1px solid #dddddd'>1.0</td><td style='border: 1px solid #dddddd'>{'faithfulness': 0.2, 'faithfulness_attributions': []}</td><td style='border: 1px solid #dddddd'>{'context_columns': ['context1', 'context2', 'context3'], 'context_relevances': [0.2, 0.2, 0.8]}</td><td style='border: 1px solid #dddddd'>0.0012875042157247663</td><td style='border: 1px solid #dddddd'>0.3333333333333333</td><td style='border: 1px solid #dddddd'>[]</td><td style='border: 1px solid #dddddd'>0.7459</td><td style='border: 1px solid #dddddd'>0.0</td><td style='border: 1px solid #dddddd'>None</td><td style='border: 1px solid #dddddd'>0.3333</td><td style='border: 1px solid #dddddd'>None</td><td style='border: 1px solid #dddddd'>0.0</td><td style='border: 1px solid #dddddd'>f60cfe80-1b0f-4c70-ab3e-bd825977a4ed</td><td style='border: 1px solid #dddddd'>0.8</td><td style='border: 1px solid #dddddd'>None</td><td style='border: 1px solid #dddddd'>None</td><td style='border: 1px solid #dddddd'>0.0714</td><td style='border: 1px solid #dddddd'>1.0</td><td style='border: 1px solid #dddddd'>0.0</td><td style='border: 1px solid #dddddd'>0.0</td><td style='border: 1px solid #dddddd'>None</td><td style='border: 1px solid #dddddd'>0.0</td><td style='border: 1px solid #dddddd'>None</td><td style='border: 1px solid #dddddd'>0.0714</td></tr><tr><td style='border: 1px solid #dddddd'>0.005944382399320602</td><td style='border: 1px solid #dddddd'>0.2041</td><td style='border: 1px solid #dddddd'>0.8</td><td style='border: 1px solid #dddddd'>[]</td><td style='border: 1px solid #dddddd'>1.0</td><td style='border: 1px solid #dddddd'>3c39727a-38f8-41ff-8953-250e2d5f76a6</td><td style='border: 1px solid #dddddd'>1.0</td><td style='border: 1px solid #dddddd'>feedback</td><td style='border: 1px solid #dddddd'>2024-11-07T17:56:53.668Z</td><td style='border: 1px solid #dddddd'>0.2353</td><td style='border: 1px solid #dddddd'>1.0</td><td style='border: 1px solid #dddddd'>{'faithfulness': 0.8, 'faithfulness_attributions': []}</td><td style='border: 1px solid #dddddd'>{'context_columns': ['context1', 'context2', 'context3'], 'context_relevances': [0.8, 0.2, 0.2]}</td><td style='border: 1px solid #dddddd'>0.0004201263946015388</td><td style='border: 1px solid #dddddd'>1.0</td><td style='border: 1px solid #dddddd'>[]</td><td style='border: 1px solid #dddddd'>1.0</td><td style='border: 1px solid #dddddd'>0.0</td><td style='border: 1px solid #dddddd'>None</td><td style='border: 1px solid #dddddd'>0.3333</td><td style='border: 1px solid #dddddd'>None</td><td style='border: 1px solid #dddddd'>0.00010446414383170532</td><td style='border: 1px solid #dddddd'>f60cfe80-1b0f-4c70-ab3e-bd825977a4ed</td><td style='border: 1px solid #dddddd'>0.8</td><td style='border: 1px solid #dddddd'>None</td><td style='border: 1px solid #dddddd'>None</td><td style='border: 1px solid #dddddd'>0.2353</td><td style='border: 1px solid #dddddd'>1.0</td><td style='border: 1px solid #dddddd'>0.0</td><td style='border: 1px solid #dddddd'>0.0</td><td style='border: 1px solid #dddddd'>None</td><td style='border: 1px solid #dddddd'>0.0</td><td style='border: 1px solid #dddddd'>None</td><td style='border: 1px solid #dddddd'>0.2353</td></tr><tr><td style='border: 1px solid #dddddd'>0.0008792144944891334</td><td style='border: 1px solid #dddddd'>0.0</td><td style='border: 1px solid #dddddd'>0.6</td><td style='border: 1px solid #dddddd'>[]</td><td style='border: 1px solid #dddddd'>1.0</td><td style='border: 1px solid #dddddd'>3d824b43-ccb9-4ac5-ba8f-4cc2f117c255</td><td style='border: 1px solid #dddddd'>1.0</td><td style='border: 1px solid #dddddd'>feedback</td><td style='border: 1px solid #dddddd'>2024-11-07T17:56:53.668Z</td><td style='border: 1px solid #dddddd'>0.1818</td><td style='border: 1px solid #dddddd'>1.0</td><td style='border: 1px solid #dddddd'>{'faithfulness': 0.6, 'faithfulness_attributions': []}</td><td style='border: 1px solid #dddddd'>{'context_columns': ['context1', 'context2', 'context3'], 'context_relevances': [1.0, 0.8, 0.4]}</td><td style='border: 1px solid #dddddd'>0.0010992378229275346</td><td style='border: 1px solid #dddddd'>1.0</td><td style='border: 1px solid #dddddd'>[]</td><td style='border: 1px solid #dddddd'>1.0</td><td style='border: 1px solid #dddddd'>0.0</td><td style='border: 1px solid #dddddd'>None</td><td style='border: 1px solid #dddddd'>0.6667</td><td style='border: 1px solid #dddddd'>None</td><td style='border: 1px solid #dddddd'>0.0</td><td style='border: 1px solid #dddddd'>f60cfe80-1b0f-4c70-ab3e-bd825977a4ed</td><td style='border: 1px solid #dddddd'>1.0</td><td style='border: 1px solid #dddddd'>None</td><td style='border: 1px solid #dddddd'>None</td><td style='border: 1px solid #dddddd'>0.1818</td><td style='border: 1px solid #dddddd'>1.0</td><td style='border: 1px solid #dddddd'>0.0</td><td style='border: 1px solid #dddddd'>0.0</td><td style='border: 1px solid #dddddd'>None</td><td style='border: 1px solid #dddddd'>0.0</td><td style='border: 1px solid #dddddd'>None</td><td style='border: 1px solid #dddddd'>0.1818</td></tr><tr><td style='border: 1px solid #dddddd'>0.0009061573073267937</td><td style='border: 1px solid #dddddd'>0.0408</td><td style='border: 1px solid #dddddd'>0.2</td><td style='border: 1px solid #dddddd'>[]</td><td style='border: 1px solid #dddddd'>1.0</td><td style='border: 1px solid #dddddd'>6d5b8795-a155-459c-a0bc-ceb53eca129b</td><td style='border: 1px solid #dddddd'>1.0</td><td style='border: 1px solid #dddddd'>feedback</td><td style='border: 1px solid #dddddd'>2024-11-07T17:56:53.668Z</td><td style='border: 1px solid #dddddd'>0.0784</td><td style='border: 1px solid #dddddd'>0.2</td><td style='border: 1px solid #dddddd'>{'faithfulness': 0.2, 'faithfulness_attributions': []}</td><td style='border: 1px solid #dddddd'>{'context_columns': ['context1', 'context2', 'context3'], 'context_relevances': [0.8, 0.2, 0.2]}</td><td style='border: 1px solid #dddddd'>0.0010436080629006028</td><td style='border: 1px solid #dddddd'>1.0</td><td style='border: 1px solid #dddddd'>[]</td><td style='border: 1px solid #dddddd'>1.0</td><td style='border: 1px solid #dddddd'>0.0</td><td style='border: 1px solid #dddddd'>None</td><td style='border: 1px solid #dddddd'>0.3333</td><td style='border: 1px solid #dddddd'>None</td><td style='border: 1px solid #dddddd'>0.0</td><td style='border: 1px solid #dddddd'>f60cfe80-1b0f-4c70-ab3e-bd825977a4ed</td><td style='border: 1px solid #dddddd'>0.8</td><td style='border: 1px solid #dddddd'>None</td><td style='border: 1px solid #dddddd'>None</td><td style='border: 1px solid #dddddd'>0.0784</td><td style='border: 1px solid #dddddd'>1.0</td><td style='border: 1px solid #dddddd'>0.0</td><td style='border: 1px solid #dddddd'>0.0</td><td style='border: 1px solid #dddddd'>None</td><td style='border: 1px solid #dddddd'>0.0</td><td style='border: 1px solid #dddddd'>None</td><td style='border: 1px solid #dddddd'>0.0784</td></tr><tr><td style='border: 1px solid #dddddd'>0.0013096387265250087</td><td style='border: 1px solid #dddddd'>0.2353</td><td style='border: 1px solid #dddddd'>0.6</td><td style='border: 1px solid #dddddd'>[]</td><td style='border: 1px solid #dddddd'>1.0</td><td style='border: 1px solid #dddddd'>a840ef0a-ea86-471b-a4e3-be14f1be376e</td><td style='border: 1px solid #dddddd'>1.0</td><td style='border: 1px solid #dddddd'>feedback</td><td style='border: 1px solid #dddddd'>2024-11-07T17:56:53.668Z</td><td style='border: 1px solid #dddddd'>0.3158</td><td style='border: 1px solid #dddddd'>1.0</td><td style='border: 1px solid #dddddd'>{'faithfulness': 0.6, 'faithfulness_attributions': []}</td><td style='border: 1px solid #dddddd'>{'context_columns': ['context1', 'context2', 'context3'], 'context_relevances': [0.8, 0.4, 0.2]}</td><td style='border: 1px solid #dddddd'>0.009054477326571941</td><td style='border: 1px solid #dddddd'>1.0</td><td style='border: 1px solid #dddddd'>[]</td><td style='border: 1px solid #dddddd'>1.0</td><td style='border: 1px solid #dddddd'>0.0</td><td style='border: 1px solid #dddddd'>None</td><td style='border: 1px solid #dddddd'>0.3333</td><td style='border: 1px solid #dddddd'>None</td><td style='border: 1px solid #dddddd'>0.0</td><td style='border: 1px solid #dddddd'>f60cfe80-1b0f-4c70-ab3e-bd825977a4ed</td><td style='border: 1px solid #dddddd'>0.8</td><td style='border: 1px solid #dddddd'>None</td><td style='border: 1px solid #dddddd'>None</td><td style='border: 1px solid #dddddd'>0.3158</td><td style='border: 1px solid #dddddd'>1.0</td><td style='border: 1px solid #dddddd'>0.0</td><td style='border: 1px solid #dddddd'>0.0</td><td style='border: 1px solid #dddddd'>None</td><td style='border: 1px solid #dddddd'>0.0</td><td style='border: 1px solid #dddddd'>None</td><td style='border: 1px solid #dddddd'>0.3158</td></tr><tr><td style='border: 1px solid #dddddd'>0.0009044734761118889</td><td style='border: 1px solid #dddddd'>nan</td><td style='border: 1px solid #dddddd'>0.2</td><td style='border: 1px solid #dddddd'>[]</td><td style='border: 1px solid #dddddd'>0.3</td><td style='border: 1px solid #dddddd'>48b7549b-5e41-4542-a46f-02edda4b2eef-1</td><td style='border: 1px solid #dddddd'>1.0</td><td style='border: 1px solid #dddddd'>payload_logging</td><td style='border: 1px solid #dddddd'>2024-11-07T17:55:21.263Z</td><td style='border: 1px solid #dddddd'>nan</td><td style='border: 1px solid #dddddd'>1.0</td><td style='border: 1px solid #dddddd'>{'faithfulness': 0.2, 'faithfulness_attributions': []}</td><td style='border: 1px solid #dddddd'>{'context_columns': ['context1', 'context2', 'context3'], 'context_relevances': [0.2, 0.2, 0.8]}</td><td style='border: 1px solid #dddddd'>0.0012875042157247663</td><td style='border: 1px solid #dddddd'>0.3333333333333333</td><td style='border: 1px solid #dddddd'>[]</td><td style='border: 1px solid #dddddd'>0.7459</td><td style='border: 1px solid #dddddd'>0.0</td><td style='border: 1px solid #dddddd'>None</td><td style='border: 1px solid #dddddd'>0.3333</td><td style='border: 1px solid #dddddd'>None</td><td style='border: 1px solid #dddddd'>nan</td><td style='border: 1px solid #dddddd'>f60cfe80-1b0f-4c70-ab3e-bd825977a4ed</td><td style='border: 1px solid #dddddd'>0.8</td><td style='border: 1px solid #dddddd'>None</td><td style='border: 1px solid #dddddd'>None</td><td style='border: 1px solid #dddddd'>nan</td><td style='border: 1px solid #dddddd'>nan</td><td style='border: 1px solid #dddddd'>nan</td><td style='border: 1px solid #dddddd'>0.0</td><td style='border: 1px solid #dddddd'>None</td><td style='border: 1px solid #dddddd'>0.0</td><td style='border: 1px solid #dddddd'>None</td><td style='border: 1px solid #dddddd'>nan</td></tr><tr><td style='border: 1px solid #dddddd'>0.0013096387265250087</td><td style='border: 1px solid #dddddd'>nan</td><td style='border: 1px solid #dddddd'>0.6</td><td style='border: 1px solid #dddddd'>[]</td><td style='border: 1px solid #dddddd'>1.0</td><td style='border: 1px solid #dddddd'>0ebd004d-80be-4e96-81b6-ba8a338f1250-1</td><td style='border: 1px solid #dddddd'>1.0</td><td style='border: 1px solid #dddddd'>payload_logging</td><td style='border: 1px solid #dddddd'>2024-11-07T17:55:21.262Z</td><td style='border: 1px solid #dddddd'>nan</td><td style='border: 1px solid #dddddd'>1.0</td><td style='border: 1px solid #dddddd'>{'faithfulness': 0.6, 'faithfulness_attributions': []}</td><td style='border: 1px solid #dddddd'>{'context_columns': ['context1', 'context2', 'context3'], 'context_relevances': [0.8, 0.4, 0.2]}</td><td style='border: 1px solid #dddddd'>0.009054477326571941</td><td style='border: 1px solid #dddddd'>1.0</td><td style='border: 1px solid #dddddd'>[]</td><td style='border: 1px solid #dddddd'>1.0</td><td style='border: 1px solid #dddddd'>0.0</td><td style='border: 1px solid #dddddd'>None</td><td style='border: 1px solid #dddddd'>0.3333</td><td style='border: 1px solid #dddddd'>None</td><td style='border: 1px solid #dddddd'>nan</td><td style='border: 1px solid #dddddd'>f60cfe80-1b0f-4c70-ab3e-bd825977a4ed</td><td style='border: 1px solid #dddddd'>0.8</td><td style='border: 1px solid #dddddd'>None</td><td style='border: 1px solid #dddddd'>None</td><td style='border: 1px solid #dddddd'>nan</td><td style='border: 1px solid #dddddd'>nan</td><td style='border: 1px solid #dddddd'>nan</td><td style='border: 1px solid #dddddd'>0.0</td><td style='border: 1px solid #dddddd'>None</td><td style='border: 1px solid #dddddd'>0.0</td><td style='border: 1px solid #dddddd'>None</td><td style='border: 1px solid #dddddd'>nan</td></tr><tr><td style='border: 1px solid #dddddd'>0.0008792144944891334</td><td style='border: 1px solid #dddddd'>nan</td><td style='border: 1px solid #dddddd'>0.6</td><td style='border: 1px solid #dddddd'>[]</td><td style='border: 1px solid #dddddd'>1.0</td><td style='border: 1px solid #dddddd'>f4c11aec-f412-4397-8305-b4681a4aae15-1</td><td style='border: 1px solid #dddddd'>1.0</td><td style='border: 1px solid #dddddd'>payload_logging</td><td style='border: 1px solid #dddddd'>2024-11-07T17:55:21.261Z</td><td style='border: 1px solid #dddddd'>nan</td><td style='border: 1px solid #dddddd'>1.0</td><td style='border: 1px solid #dddddd'>{'faithfulness': 0.6, 'faithfulness_attributions': []}</td><td style='border: 1px solid #dddddd'>{'context_columns': ['context1', 'context2', 'context3'], 'context_relevances': [1.0, 0.8, 0.4]}</td><td style='border: 1px solid #dddddd'>0.0010992378229275346</td><td style='border: 1px solid #dddddd'>1.0</td><td style='border: 1px solid #dddddd'>[]</td><td style='border: 1px solid #dddddd'>1.0</td><td style='border: 1px solid #dddddd'>0.0</td><td style='border: 1px solid #dddddd'>None</td><td style='border: 1px solid #dddddd'>0.6667</td><td style='border: 1px solid #dddddd'>None</td><td style='border: 1px solid #dddddd'>nan</td><td style='border: 1px solid #dddddd'>f60cfe80-1b0f-4c70-ab3e-bd825977a4ed</td><td style='border: 1px solid #dddddd'>1.0</td><td style='border: 1px solid #dddddd'>None</td><td style='border: 1px solid #dddddd'>None</td><td style='border: 1px solid #dddddd'>nan</td><td style='border: 1px solid #dddddd'>nan</td><td style='border: 1px solid #dddddd'>nan</td><td style='border: 1px solid #dddddd'>0.0</td><td style='border: 1px solid #dddddd'>None</td><td style='border: 1px solid #dddddd'>0.0</td><td style='border: 1px solid #dddddd'>None</td><td style='border: 1px solid #dddddd'>nan</td></tr><tr><td style='border: 1px solid #dddddd'>0.0009061573073267937</td><td style='border: 1px solid #dddddd'>nan</td><td style='border: 1px solid #dddddd'>0.2</td><td style='border: 1px solid #dddddd'>[]</td><td style='border: 1px solid #dddddd'>1.0</td><td style='border: 1px solid #dddddd'>224edcc6-8105-4ce5-b64c-4cccd329d94a-1</td><td style='border: 1px solid #dddddd'>1.0</td><td style='border: 1px solid #dddddd'>payload_logging</td><td style='border: 1px solid #dddddd'>2024-11-07T17:55:21.260Z</td><td style='border: 1px solid #dddddd'>nan</td><td style='border: 1px solid #dddddd'>0.2</td><td style='border: 1px solid #dddddd'>{'faithfulness': 0.2, 'faithfulness_attributions': []}</td><td style='border: 1px solid #dddddd'>{'context_columns': ['context1', 'context2', 'context3'], 'context_relevances': [0.8, 0.2, 0.2]}</td><td style='border: 1px solid #dddddd'>0.0010436080629006028</td><td style='border: 1px solid #dddddd'>1.0</td><td style='border: 1px solid #dddddd'>[]</td><td style='border: 1px solid #dddddd'>1.0</td><td style='border: 1px solid #dddddd'>0.0</td><td style='border: 1px solid #dddddd'>None</td><td style='border: 1px solid #dddddd'>0.3333</td><td style='border: 1px solid #dddddd'>None</td><td style='border: 1px solid #dddddd'>nan</td><td style='border: 1px solid #dddddd'>f60cfe80-1b0f-4c70-ab3e-bd825977a4ed</td><td style='border: 1px solid #dddddd'>0.8</td><td style='border: 1px solid #dddddd'>None</td><td style='border: 1px solid #dddddd'>None</td><td style='border: 1px solid #dddddd'>nan</td><td style='border: 1px solid #dddddd'>nan</td><td style='border: 1px solid #dddddd'>nan</td><td style='border: 1px solid #dddddd'>0.0</td><td style='border: 1px solid #dddddd'>None</td><td style='border: 1px solid #dddddd'>0.0</td><td style='border: 1px solid #dddddd'>None</td><td style='border: 1px solid #dddddd'>nan</td></tr><tr><td style='border: 1px solid #dddddd'>0.005944382399320602</td><td style='border: 1px solid #dddddd'>nan</td><td style='border: 1px solid #dddddd'>0.8</td><td style='border: 1px solid #dddddd'>[]</td><td style='border: 1px solid #dddddd'>1.0</td><td style='border: 1px solid #dddddd'>650e46b5-cee4-476d-9260-c03b0abcbc0c-1</td><td style='border: 1px solid #dddddd'>1.0</td><td style='border: 1px solid #dddddd'>payload_logging</td><td style='border: 1px solid #dddddd'>2024-11-07T17:55:21.259Z</td><td style='border: 1px solid #dddddd'>nan</td><td style='border: 1px solid #dddddd'>1.0</td><td style='border: 1px solid #dddddd'>{'faithfulness': 0.8, 'faithfulness_attributions': []}</td><td style='border: 1px solid #dddddd'>{'context_columns': ['context1', 'context2', 'context3'], 'context_relevances': [0.8, 0.2, 0.2]}</td><td style='border: 1px solid #dddddd'>0.0004201263946015388</td><td style='border: 1px solid #dddddd'>1.0</td><td style='border: 1px solid #dddddd'>[]</td><td style='border: 1px solid #dddddd'>1.0</td><td style='border: 1px solid #dddddd'>0.0</td><td style='border: 1px solid #dddddd'>None</td><td style='border: 1px solid #dddddd'>0.3333</td><td style='border: 1px solid #dddddd'>None</td><td style='border: 1px solid #dddddd'>nan</td><td style='border: 1px solid #dddddd'>f60cfe80-1b0f-4c70-ab3e-bd825977a4ed</td><td style='border: 1px solid #dddddd'>0.8</td><td style='border: 1px solid #dddddd'>None</td><td style='border: 1px solid #dddddd'>None</td><td style='border: 1px solid #dddddd'>nan</td><td style='border: 1px solid #dddddd'>nan</td><td style='border: 1px solid #dddddd'>nan</td><td style='border: 1px solid #dddddd'>0.0</td><td style='border: 1px solid #dddddd'>None</td><td style='border: 1px solid #dddddd'>0.0</td><td style='border: 1px solid #dddddd'>None</td><td style='border: 1px solid #dddddd'>nan</td></tr>\n",
       "            </table>\n",
       "        </body>\n",
       "        </HTML>"
      ],
      "text/plain": [
       "<IPython.core.display.HTML object>"
      ]
     },
     "metadata": {},
     "output_type": "display_data"
    }
   ],
   "source": [
    "wos_client.data_sets.show_records(data_set_id=genaiq_dataset_id)"
   ]
  },
  {
   "cell_type": "markdown",
   "metadata": {},
   "source": [
    "### Display source attributions for a record from payload or feedback data <a name=\"attributions\"></a>"
   ]
  },
  {
   "cell_type": "markdown",
   "metadata": {},
   "source": [
    "Get a record from payload table. The below method can also be used to get the record from feedback table by providing the feedback dataset id"
   ]
  },
  {
   "cell_type": "code",
   "execution_count": 59,
   "metadata": {},
   "outputs": [
    {
     "data": {
      "text/plain": [
       "'48b7549b-5e41-4542-a46f-02edda4b2eef-1'"
      ]
     },
     "execution_count": 59,
     "metadata": {},
     "output_type": "execute_result"
    }
   ],
   "source": [
    "result = wos_client.data_sets.get_list_of_records(\n",
    "    data_set_id=payload_data_set_id, limit=1\n",
    ").result\n",
    "record = result[\"records\"][0][\"entity\"][\"values\"]\n",
    "scoring_id = record.get(\"scoring_id\")\n",
    "scoring_id"
   ]
  },
  {
   "cell_type": "markdown",
   "metadata": {},
   "source": [
    "Get the source attributions from generative ai quality dataset for the scoring id"
   ]
  },
  {
   "cell_type": "code",
   "execution_count": 60,
   "metadata": {},
   "outputs": [
    {
     "name": "stdout",
     "output_type": "stream",
     "text": [
      "Question: How many electric vehicle charging stations are built?\n",
      "Answer: 500,000\n",
      "Attributions: \n"
     ]
    },
    {
     "data": {
      "text/html": [
       "<div>\n",
       "<style scoped>\n",
       "    .dataframe tbody tr th:only-of-type {\n",
       "        vertical-align: middle;\n",
       "    }\n",
       "\n",
       "    .dataframe tbody tr th {\n",
       "        vertical-align: top;\n",
       "    }\n",
       "\n",
       "    .dataframe thead th {\n",
       "        text-align: right;\n",
       "    }\n",
       "</style>\n",
       "<table border=\"1\" class=\"dataframe\">\n",
       "  <thead>\n",
       "    <tr style=\"text-align: right;\">\n",
       "      <th></th>\n",
       "      <th>faithfulness attribution</th>\n",
       "      <th>attribution score</th>\n",
       "    </tr>\n",
       "  </thead>\n",
       "  <tbody>\n",
       "  </tbody>\n",
       "</table>\n",
       "</div>"
      ],
      "text/plain": [
       "Empty DataFrame\n",
       "Columns: [faithfulness attribution, attribution score]\n",
       "Index: []"
      ]
     },
     "execution_count": 60,
     "metadata": {},
     "output_type": "execute_result"
    }
   ],
   "source": [
    "import pandas as pd\n",
    "\n",
    "metrics_result = wos_client.data_sets.get_list_of_records(\n",
    "    data_set_id=genaiq_dataset_id, filter=\"scoring_id:eq:{}\".format(scoring_id)\n",
    ").result\n",
    "record_metrics = metrics_result[\"records\"][0][\"entity\"][\"values\"]\n",
    "attributions, attribution_scores = [], []\n",
    "for i in record_metrics.get(\"faithfulness_attributions\")[\"faithfulness_attributions\"]:\n",
    "    for attr in i[\"attributions\"]:\n",
    "        attributions.extend(attr.get(\"feature_values\"))\n",
    "        attribution_scores.extend(attr.get(\"faithfulness_scores\"))\n",
    "\n",
    "attributions_df = pd.DataFrame(\n",
    "    {\"faithfulness attribution\": attributions, \"attribution score\": attribution_scores}\n",
    ")\n",
    "pd.set_option(\"display.max_colwidth\", 0)\n",
    "attributions_df.sort_values(by=[\"attribution score\"], inplace=True, ascending=False)\n",
    "print(\"Question: {}\".format(record.get(\"question\")))\n",
    "print(\"Answer: {}\".format(record.get(\"generated_text\")))\n",
    "print(\"Attributions: \")\n",
    "attributions_df"
   ]
  },
  {
   "cell_type": "markdown",
   "metadata": {
    "id": "1a72b14a-849e-45b1-a0e2-03feb5865f95"
   },
   "source": [
    "## Step 14 - Plot faithfulness and answer relevance metrics against records <a name=\"plotspace\"></a>"
   ]
  },
  {
   "cell_type": "markdown",
   "metadata": {},
   "source": [
    "Retrieve a list of records and extract the record IDs, faithfulness values, and answer relevance values:"
   ]
  },
  {
   "cell_type": "code",
   "execution_count": 61,
   "metadata": {
    "id": "73221592-5f4c-4b46-a3e1-7fc35665cad4"
   },
   "outputs": [],
   "source": [
    "result = wos_client.data_sets.get_list_of_records(data_set_id=genaiq_dataset_id).result\n",
    "result[\"records\"]\n",
    "x = []\n",
    "y_faithfulness = []\n",
    "y_answer_relevance = []\n",
    "for each in result[\"records\"]:\n",
    "    x.append(\n",
    "        each[\"metadata\"][\"id\"][-5:]\n",
    "    )  # Reading only last 5 characters to fit in the display\n",
    "    y_faithfulness.append(each[\"entity\"][\"values\"][\"faithfulness\"])\n",
    "    y_answer_relevance.append(each[\"entity\"][\"values\"][\"answer_relevance\"])"
   ]
  },
  {
   "cell_type": "markdown",
   "metadata": {
    "id": "da1026ca-ef39-46da-b54e-a4ba729358b5"
   },
   "source": [
    "Plot faithfulness metrics against the records"
   ]
  },
  {
   "cell_type": "code",
   "execution_count": 62,
   "metadata": {
    "id": "e21d678e-5e62-415d-aeb9-656a5123b010"
   },
   "outputs": [
    {
     "data": {
      "image/png": "[encoded data removed]",
      "text/plain": [
       "<Figure size 640x480 with 1 Axes>"
      ]
     },
     "metadata": {},
     "output_type": "display_data"
    }
   ],
   "source": [
    "import matplotlib.pyplot as plt\n",
    "\n",
    "plt.scatter(x, y_faithfulness, marker=\"o\")\n",
    "\n",
    "# Adding labels and title\n",
    "plt.xlabel(\"X-axis - Record id (last 5 characters)\")\n",
    "plt.ylabel(\"Y-axis - Faithfulness\")\n",
    "plt.title(\"faithfulness vs record id\")\n",
    "\n",
    "# Display the graph\n",
    "plt.show()"
   ]
  },
  {
   "cell_type": "markdown",
   "metadata": {
    "id": "1cd8f2d3-d7ed-4e61-9e3e-b82fa5e2e2e6"
   },
   "source": [
    "Plot answer_relevance metrics against the records"
   ]
  },
  {
   "cell_type": "code",
   "execution_count": 63,
   "metadata": {
    "id": "06b113eb-0958-428a-b083-503c46fa1589"
   },
   "outputs": [
    {
     "data": {
      "image/png": "[encoded data removed]",
      "text/plain": [
       "<Figure size 640x480 with 1 Axes>"
      ]
     },
     "metadata": {},
     "output_type": "display_data"
    }
   ],
   "source": [
    "import matplotlib.pyplot as plt\n",
    "\n",
    "plt.scatter(x, y_answer_relevance, marker=\"o\")\n",
    "\n",
    "# Adding labels and title\n",
    "plt.xlabel(\"X-axis - Record id (last 5 characters)\")\n",
    "plt.ylabel(\"Y-axis - Answer relevance\")\n",
    "plt.title(\"answer_relevance vs record id\")\n",
    "\n",
    "# Display the graph\n",
    "plt.show()"
   ]
  },
  {
   "cell_type": "markdown",
   "metadata": {
    "id": "e67f354c-44e8-4304-bb3a-441257e256fb"
   },
   "source": [
    "## Step 15 - See factsheets information from a space <a name=\"factsheetsproject\"></a>"
   ]
  },
  {
   "cell_type": "code",
   "execution_count": 64,
   "metadata": {
    "id": "11153994-83ac-45df-adec-004fb9e98ba1"
   },
   "outputs": [
    {
     "name": "stdout",
     "output_type": "stream",
     "text": [
      "User can navigate to the published facts in space https://dataplatform.test.cloud.ibm.com/ml-runtime/deployments/66a41504-c943-47cd-ae1e-30aeba5f7c7f/details?space_id=7d195a51-8938-4fc7-a2b6-cf8e254d67c5&context=wx&flush=true\n"
     ]
    }
   ],
   "source": [
    "factsheets_url = (\n",
    "    \"{}/ml-runtime/deployments/{}/details?space_id={}&context=wx&flush=true\".format(\n",
    "        FACTSHEET_URL, deployment_id, space_id\n",
    "    )\n",
    ")\n",
    "\n",
    "print(\"User can navigate to the published facts in space {}\".format(factsheets_url))"
   ]
  },
  {
   "cell_type": "markdown",
   "metadata": {
    "id": "27f9c379-5abb-40f9-b256-92c35a6be183"
   },
   "source": [
    "## Congratulations!\n",
    "\n",
    "You have completed this notebook. You can now navigate to the prompt template asset in your OpenScale project / space and click on the `Evaluate` tab to visualize the results in the UI."
   ]
  },
  {
   "cell_type": "markdown",
   "metadata": {},
   "source": [
    "watsonx.governance"
   ]
  },
  {
   "cell_type": "markdown",
   "metadata": {},
   "source": [
    "Copyright © 2024 IBM."
   ]
  }
 ],
 "metadata": {
  "kernelspec": {
   "display_name": "notebook_env",
   "language": "python",
   "name": "python3"
  },
  "language_info": {
   "codemirror_mode": {
    "name": "ipython",
    "version": 3
   },
   "file_extension": ".py",
   "mimetype": "text/x-python",
   "name": "python",
   "nbconvert_exporter": "python",
   "pygments_lexer": "ipython3",
   "version": "3.11.9"
  }
 },
 "nbformat": 4,
 "nbformat_minor": 4
}
