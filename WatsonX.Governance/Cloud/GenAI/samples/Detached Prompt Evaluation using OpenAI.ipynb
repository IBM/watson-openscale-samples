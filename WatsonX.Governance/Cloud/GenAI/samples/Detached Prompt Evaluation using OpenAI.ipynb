{
    "cells": [
        {
            "cell_type": "markdown",
            "metadata": {
                "id": "1431ce28-77ce-443e-9b13-1ca914e8f40d"
            },
            "source": [
                "# Working with 3rd party (detached) Prompts/Prompt Template Assets using OpenAI\n"
            ]
        },
        {
            "cell_type": "markdown",
            "metadata": {
                "id": "6fc80eab-cd96-42e6-999d-dbe5b864b28b"
            },
            "source": [
                "\n",
                "This notebook should be run using with Runtime 22.2 & Python 3.10 or greater runtime environment, if you are viewing this in Watson Studio, and do not see Python 3.10.x in the upper right corner of your screen, please update the runtime now. \n",
                "\n",
                "The notebook will create a summarization prompt template asset in a given project, configure OpenScale to monitor that PTA and evaluate generative quality metrics and model health metrics.\n",
                "\n",
                "If users wish to execute this notebook for task types other than summarization, please consult [this](https://github.com/IBM/watson-openscale-samples/blob/main/IBM%20Cloud/WML/notebooks/watsonx/README.md) document for guidance on evaluating prompt templates for the available task types.\n",
                "\n",
                "Note : User can search for `EDIT THIS` and fill the inputs needed."
            ]
        },
        {
            "cell_type": "markdown",
            "metadata": {
                "id": "e98f249b-d866-4a56-b500-e93d3dfb4a81"
            },
            "source": [
                "## Prerequisite"
            ]
        },
        {
            "cell_type": "markdown",
            "metadata": {
                "id": "c93e7764-0439-482a-ac61-835d968dd86a"
            },
            "source": [
                "* It requires service credentials for IBM Watson OpenScale:\n",
                "* Requires a CSV file containing the test data that needs to be evaluated\n",
                "* Requires the ID of project in which you want to create the prompt template asset."
            ]
        },
        {
            "cell_type": "markdown",
            "metadata": {
                "id": "95ba88a7-696b-439b-bd1c-5922e4306188"
            },
            "source": [
                "### Contents\n",
                "\n",
                "- [Setup](#settingup)\n",
                "- [Create Prompt template](#prompt)\n",
                "- [Prompt Setup](#ptatsetup)\n",
                "- [Risk evaluations for prompt template asset subscription](#evaluate)\n",
                "- [Display the Model Risk metrics](#mrmmetric)\n",
                "- [Display the Generative AI Quality metrics](#genaimetrics)\n",
                "- [Plot rougel and rougelsum metrics against records](#plotproject)\n",
                "- [See factsheets information](#factsheetsspace)"
            ]
        },
        {
            "cell_type": "markdown",
            "metadata": {
                "id": "11000d0d-a3da-463b-97b9-1f766cdac8bd"
            },
            "source": [
                "## Setup <a name=\"settingup\"></a>"
            ]
        },
        {
            "cell_type": "code",
            "execution_count": 1,
            "metadata": {
                "id": "f66daba2-fdbd-4d2f-89ae-0dead6f60bd1"
            },
            "outputs": [
                {
                    "name": "stdout",
                    "output_type": "stream",
                    "text": [
                        "Successfully installed datasets-2.10.0 dill-0.3.6 multiprocess-0.70.14 responses-0.18.0\n",
                        "Successfully installed evaluate-0.4.3\n",
                        "Successfully installed databricks-cli-0.18.0 docutils-0.15.2 entrypoints-0.4 gitdb-4.0.11 gitpython-3.1.43 ibm-aigov-facts-client-1.0.83 ibm-cloud-sdk-core-3.16.5 importlib-metadata-6.11.0 mlflow-skinny-2.7.0 python-magic-0.4.27 pytz-2023.4 smmap-5.0.1 sqlparse-0.5.1 timeout-decorator-0.5.0\n",
                        "Successfully installed ibm-watson-openscale-3.0.41\n",
                        "Successfully installed matplotlib-3.9.2\n",
                        "Requirement already satisfied: six>=1.10.0 in /opt/conda/envs/Python-RT24.1-Premium/lib/python3.11/site-packages (from lomond->ibm_watson_machine_learning) (1.16.0)\n",
                        "\u001b[31mERROR: pip's dependency resolver does not currently take into account all the packages that are installed. This behaviour is the source of the following dependency conflicts.\n",
                        "pydantic-extra-types 2.9.0 requires pydantic>=2.5.2, but you have pydantic 1.10.11 which is incompatible.\n",
                        "pydantic-settings 2.2.1 requires pydantic>=2.3.0, but you have pydantic 1.10.11 which is incompatible.\u001b[0m\u001b[31m\n",
                        "\u001b[0mSuccessfully installed pydantic-1.10.11\n",
                        "Successfully installed colorama-0.4.6 portalocker-2.10.1 sacrebleu-2.4.3\n",
                        "Successfully installed sacremoses-0.1.1\n",
                        "Successfully installed pyphen-0.16.0 textstat-0.7.4\n",
                        "Successfully installed huggingface-hub-0.25.1 tokenizers-0.20.0 transformers-4.45.1\n",
                        "Collecting openai==0.28.0\n",
                        "  Downloading openai-0.28.0-py3-none-any.whl.metadata (13 kB)\n",
                        "Requirement already satisfied: requests>=2.20 in /opt/conda/envs/Python-RT24.1-Premium/lib/python3.11/site-packages (from openai==0.28.0) (2.32.2)\n",
                        "Requirement already satisfied: tqdm in /opt/conda/envs/Python-RT24.1-Premium/lib/python3.11/site-packages (from openai==0.28.0) (4.66.4)\n",
                        "Requirement already satisfied: aiohttp in /opt/conda/envs/Python-RT24.1-Premium/lib/python3.11/site-packages (from openai==0.28.0) (3.10.5)\n",
                        "Requirement already satisfied: charset-normalizer<4,>=2 in /opt/conda/envs/Python-RT24.1-Premium/lib/python3.11/site-packages (from requests>=2.20->openai==0.28.0) (2.0.4)\n",
                        "Requirement already satisfied: idna<4,>=2.5 in /opt/conda/envs/Python-RT24.1-Premium/lib/python3.11/site-packages (from requests>=2.20->openai==0.28.0) (3.7)\n",
                        "Requirement already satisfied: urllib3<3,>=1.21.1 in /opt/conda/envs/Python-RT24.1-Premium/lib/python3.11/site-packages (from requests>=2.20->openai==0.28.0) (1.26.19)\n",
                        "Requirement already satisfied: certifi>=2017.4.17 in /opt/conda/envs/Python-RT24.1-Premium/lib/python3.11/site-packages (from requests>=2.20->openai==0.28.0) (2024.8.30)\n",
                        "Requirement already satisfied: aiohappyeyeballs>=2.3.0 in /opt/conda/envs/Python-RT24.1-Premium/lib/python3.11/site-packages (from aiohttp->openai==0.28.0) (2.4.0)\n",
                        "Requirement already satisfied: aiosignal>=1.1.2 in /opt/conda/envs/Python-RT24.1-Premium/lib/python3.11/site-packages (from aiohttp->openai==0.28.0) (1.2.0)\n",
                        "Requirement already satisfied: attrs>=17.3.0 in /opt/conda/envs/Python-RT24.1-Premium/lib/python3.11/site-packages (from aiohttp->openai==0.28.0) (23.1.0)\n",
                        "Requirement already satisfied: frozenlist>=1.1.1 in /opt/conda/envs/Python-RT24.1-Premium/lib/python3.11/site-packages (from aiohttp->openai==0.28.0) (1.4.0)\n",
                        "Requirement already satisfied: multidict<7.0,>=4.5 in /opt/conda/envs/Python-RT24.1-Premium/lib/python3.11/site-packages (from aiohttp->openai==0.28.0) (6.0.4)\n",
                        "Requirement already satisfied: yarl<2.0,>=1.0 in /opt/conda/envs/Python-RT24.1-Premium/lib/python3.11/site-packages (from aiohttp->openai==0.28.0) (1.9.3)\n",
                        "Downloading openai-0.28.0-py3-none-any.whl (76 kB)\n",
                        "\u001b[2K   \u001b[90m━━━━━━━━━━━━━━━━━━━━━━━━━━━━━━━━━━━━━━━━\u001b[0m \u001b[32m76.5/76.5 kB\u001b[0m \u001b[31m1.2 MB/s\u001b[0m eta \u001b[36m0:00:00\u001b[0ma \u001b[36m0:00:01\u001b[0m\n",
                        "\u001b[?25hInstalling collected packages: openai\n",
                        "Successfully installed openai-0.28.0\n"
                    ]
                }
            ],
            "source": [
                "!pip install --upgrade datasets==2.10.0 --no-cache | tail -n 1\n",
                "!pip install --upgrade evaluate --no-cache | tail -n 1\n",
                "!pip install --upgrade ibm-aigov-facts-client | tail -n 1\n",
                "!pip install --upgrade ibm-watson-openscale | tail -n 1\n",
                "!pip install --upgrade matplotlib | tail -n 1\n",
                "!pip install --upgrade ibm_watsonx_ai | tail -n 1\n",
                "!pip install --upgrade pydantic==1.10.11 --no-cache | tail -n 1\n",
                "!pip install --upgrade sacrebleu --no-cache | tail -n 1\n",
                "!pip install --upgrade sacremoses --no-cache | tail -n 1\n",
                "!pip install --upgrade textstat --no-cache | tail -n 1\n",
                "!pip install --upgrade transformers --no-cache | tail -n 1\n",
                "!pip install openai==0.28.0"
            ]
        },
        {
            "cell_type": "markdown",
            "metadata": {
                "id": "5068ca17-4f03-42ed-a0fc-596e9a99eb10"
            },
            "source": [
                "Note: you may need to restart the kernel to use updated packages."
            ]
        },
        {
            "cell_type": "markdown",
            "metadata": {
                "id": "bba5b408-c9bf-4b28-99da-079a4b4d7227"
            },
            "source": [
                "### Provision services and configure credentials"
            ]
        },
        {
            "cell_type": "markdown",
            "metadata": {
                "id": "41e99d64-abce-4b54-9c56-98f9cbd383df"
            },
            "source": [
                "If you have not already, provision an instance of IBM Watson OpenScale using the [OpenScale link in the Cloud catalog](https://cloud.ibm.com/catalog/services/watson-openscale)."
            ]
        },
        {
            "cell_type": "markdown",
            "metadata": {
                "id": "22d6cb8f-23aa-45c5-9707-b04440380226"
            },
            "source": [
                "Your Cloud API key can be generated by going to the [**Users** section of the Cloud console](https://cloud.ibm.com/iam#/users). From that page, click your name, scroll down to the **API Keys** section, and click **Create an IBM Cloud API key**. Give your key a name and click **Create**, then copy the created key and paste it below."
            ]
        },
        {
            "cell_type": "markdown",
            "metadata": {
                "id": "48f72d8f-fb27-42d8-b079-31b3433475b6"
            },
            "source": [
                "**NOTE:** You can also get OpenScale `API_KEY` using IBM CLOUD CLI.\n",
                "\n",
                "How to install IBM Cloud (bluemix) console: [instruction](https://console.bluemix.net/docs/cli/reference/ibmcloud/download_cli.html#install_use)\n",
                "\n",
                "How to get api key using console:\n",
                "```\n",
                "bx login --sso\n",
                "bx iam api-key-create 'my_key'\n",
                "```"
            ]
        },
        {
            "cell_type": "code",
            "execution_count": 1,
            "metadata": {
                "id": "4dceedfa-1b19-43df-b669-62839d7fb551"
            },
            "outputs": [],
            "source": [
                "use_cpd = False\n",
                "\n",
                "if use_cpd:\n",
                "    CPD_URL = \"<EDIT THIS>\"\n",
                "    CPD_USERNAME = \"<EDIT THIS>\"\n",
                "    CPD_PASSWORD = \"<EDIT THIS>\"\n",
                "    WOS_SERVICE_INSTANCE_ID = \"<EDIT THIS>\" # If None, default instance would be used\n",
                "else:\n",
                "    IAM_URL = \"https://iam.cloud.ibm.com\"\n",
                "    DATAPLATFORM_URL = \"https://api.dataplatform.cloud.ibm.com\"\n",
                "    SERVICE_URL = \"https://aiopenscale.cloud.ibm.com\"\n",
                "    CLOUD_API_KEY = \"<YOUR_API_KEY>\" # YOUR_CLOUD_API_KEY\n",
                "    WML_CREDENTIALS = {\n",
                "                    \"url\": \"https://us-south.ml.cloud.ibm.com\",\n",
                "                    \"apikey\": CLOUD_API_KEY\n",
                "    }"
            ]
        },
        {
            "cell_type": "markdown",
            "metadata": {
                "id": "ae0d0ace-a825-4bc3-9f8b-3805134a5550"
            },
            "source": [
                "## Set the project ID"
            ]
        },
        {
            "cell_type": "markdown",
            "metadata": {
                "id": "9bc2a54f-d4b3-4a99-9b1b-4e384a784da7"
            },
            "source": [
                "In order to set up a development type subscription, the PTA must be within the project. Please supply the project ID where the PTA needs to be created."
            ]
        },
        {
            "cell_type": "code",
            "execution_count": 2,
            "metadata": {
                "id": "af73802e-4777-40f8-8e44-6b581ac5fc39"
            },
            "outputs": [],
            "source": [
                "PROJECT_ID = \"<EDIT THIS>\" # YOUR_PROJECT_ID"
            ]
        },
        {
            "cell_type": "markdown",
            "metadata": {
                "id": "5c9e653f-1087-401b-9c54-fef95ac1a1ec"
            },
            "source": [
                "## Read space id from user"
            ]
        },
        {
            "cell_type": "markdown",
            "metadata": {
                "id": "8b7834eb-9a36-4b72-8ced-36db2f5b6052"
            },
            "source": [
                "User can use an existing space or can create a new space to promote the model. User should choose any of these options with the below variable."
            ]
        },
        {
            "cell_type": "code",
            "execution_count": 3,
            "metadata": {
                "id": "0c5fa8c2-327b-4e0d-90aa-0b819aa50de7"
            },
            "outputs": [],
            "source": [
                "use_existing_space = True # Set it as False if user wants to create a new space"
            ]
        },
        {
            "cell_type": "code",
            "execution_count": 4,
            "metadata": {
                "id": "fd133846-4180-43b8-b8d1-4ab7f8716a7c"
            },
            "outputs": [
                {
                    "data": {
                        "text/plain": [
                            "'1.0.360'"
                        ]
                    },
                    "execution_count": 4,
                    "metadata": {},
                    "output_type": "execute_result"
                }
            ],
            "source": [
                "import json\n",
                "from ibm_watsonx_ai import APIClient\n",
                "\n",
                "wml_client = APIClient(WML_CREDENTIALS)\n",
                "wml_client.version"
            ]
        },
        {
            "cell_type": "markdown",
            "metadata": {
                "id": "b69f5f07-7c03-45dd-9e7e-0d4df2c28c66"
            },
            "source": [
                "### Below details are required only if user choose to use an existing space"
            ]
        },
        {
            "cell_type": "markdown",
            "metadata": {
                "id": "da0eec3a-7be3-4603-a18a-48833fcf737e"
            },
            "source": [
                "In order to use an existing space, User can directly add the space id in the below cell"
            ]
        },
        {
            "cell_type": "code",
            "execution_count": 5,
            "metadata": {
                "id": "2b7997fc-0603-4e31-b148-8973f1297602"
            },
            "outputs": [
                {
                    "name": "stdout",
                    "output_type": "stream",
                    "text": [
                        "Note: 'limit' is not provided. Only first 50 records will be displayed if the number of records exceed 50\n",
                        "------------------------------------  -------------------------------------------------------------------  ------------------------\n",
                        "ID                                    NAME                                                                 CREATED\n",
                        "90a90b37-8425-45a9-9a1a-8d952800a261  watsonx                                                              2023-12-04T13:26:35.038Z\n",
                        "2db35911-c988-4308-a9b0-dbd0bbacb710  openscale-express-path-preprod-9360ac0c-1446-4717-9544-db2efdced80d  2023-09-20T20:20:58.453Z\n",
                        "528ca876-820b-4a32-aa88-e85e8e0df497  openscale-express-path-9360ac0c-1446-4717-9544-db2efdced80d          2023-09-20T20:20:37.599Z\n",
                        "0d054a92-9f15-4514-af46-795a940b7992  GCD workspace                                                        2023-09-20T19:52:40.566Z\n",
                        "------------------------------------  -------------------------------------------------------------------  ------------------------\n"
                    ]
                },
                {
                    "data": {
                        "text/html": [
                            "<div>\n",
                            "<style scoped>\n",
                            "    .dataframe tbody tr th:only-of-type {\n",
                            "        vertical-align: middle;\n",
                            "    }\n",
                            "\n",
                            "    .dataframe tbody tr th {\n",
                            "        vertical-align: top;\n",
                            "    }\n",
                            "\n",
                            "    .dataframe thead th {\n",
                            "        text-align: right;\n",
                            "    }\n",
                            "</style>\n",
                            "<table border=\"1\" class=\"dataframe\">\n",
                            "  <thead>\n",
                            "    <tr style=\"text-align: right;\">\n",
                            "      <th></th>\n",
                            "      <th>ID</th>\n",
                            "      <th>NAME</th>\n",
                            "      <th>CREATED</th>\n",
                            "    </tr>\n",
                            "  </thead>\n",
                            "  <tbody>\n",
                            "    <tr>\n",
                            "      <th>0</th>\n",
                            "      <td>90a90b37-8425-45a9-9a1a-8d952800a261</td>\n",
                            "      <td>watsonx</td>\n",
                            "      <td>2023-12-04T13:26:35.038Z</td>\n",
                            "    </tr>\n",
                            "    <tr>\n",
                            "      <th>1</th>\n",
                            "      <td>2db35911-c988-4308-a9b0-dbd0bbacb710</td>\n",
                            "      <td>openscale-express-path-preprod-9360ac0c-1446-4...</td>\n",
                            "      <td>2023-09-20T20:20:58.453Z</td>\n",
                            "    </tr>\n",
                            "    <tr>\n",
                            "      <th>2</th>\n",
                            "      <td>528ca876-820b-4a32-aa88-e85e8e0df497</td>\n",
                            "      <td>openscale-express-path-9360ac0c-1446-4717-9544...</td>\n",
                            "      <td>2023-09-20T20:20:37.599Z</td>\n",
                            "    </tr>\n",
                            "    <tr>\n",
                            "      <th>3</th>\n",
                            "      <td>0d054a92-9f15-4514-af46-795a940b7992</td>\n",
                            "      <td>GCD workspace</td>\n",
                            "      <td>2023-09-20T19:52:40.566Z</td>\n",
                            "    </tr>\n",
                            "  </tbody>\n",
                            "</table>\n",
                            "</div>"
                        ],
                        "text/plain": [
                            "                                     ID  \\\n",
                            "0  90a90b37-8425-45a9-9a1a-8d952800a261   \n",
                            "1  2db35911-c988-4308-a9b0-dbd0bbacb710   \n",
                            "2  528ca876-820b-4a32-aa88-e85e8e0df497   \n",
                            "3  0d054a92-9f15-4514-af46-795a940b7992   \n",
                            "\n",
                            "                                                NAME                   CREATED  \n",
                            "0                                            watsonx  2023-12-04T13:26:35.038Z  \n",
                            "1  openscale-express-path-preprod-9360ac0c-1446-4...  2023-09-20T20:20:58.453Z  \n",
                            "2  openscale-express-path-9360ac0c-1446-4717-9544...  2023-09-20T20:20:37.599Z  \n",
                            "3                                      GCD workspace  2023-09-20T19:52:40.566Z  "
                        ]
                    },
                    "execution_count": 5,
                    "metadata": {},
                    "output_type": "execute_result"
                }
            ],
            "source": [
                "wml_client.spaces.list()"
            ]
        },
        {
            "cell_type": "code",
            "execution_count": 6,
            "metadata": {
                "id": "76e47b7d-54ac-4860-ae9b-01d9f87bc53e"
            },
            "outputs": [],
            "source": [
                "existing_space_id = \"<EDIT THIS>\" # YOUR_SPACE_ID"
            ]
        },
        {
            "cell_type": "markdown",
            "metadata": {
                "id": "b6bbcc98-94d6-4d6d-b398-1c28f175fd69"
            },
            "source": [
                "### Below details are required only if user choose to create a new space"
            ]
        },
        {
            "cell_type": "code",
            "execution_count": 12,
            "metadata": {
                "id": "25ba0bff-bd76-4410-a4ec-81616be41ea6"
            },
            "outputs": [],
            "source": [
                "space_name = \"<EDIT THIS>\" # YOUR_SPACE_NAME"
            ]
        },
        {
            "cell_type": "markdown",
            "metadata": {
                "id": "72e5b52f-1062-4d74-82ec-a37d236ad340"
            },
            "source": [
                "Tip: `WML_INSTANCE_NAME`, `WML_CRN` and `COS_RESOURCE_CRN` are required only if you are pointing to your cloud openscale instance, Your `WML_INSTANCE_NAME` and `WML_CRN` can be read from the [Cloud console](https://cloud.ibm.com/resources). From that page, goto `Resours list`, Copy the name of your WML instance listed there. Select the row corresponding to your WML instance, and copy the CRN displayed in the popup on the right side of the page"
            ]
        },
        {
            "cell_type": "code",
            "execution_count": 314,
            "metadata": {
                "id": "41e7eee7-4917-4716-9f1c-e49b9f48360b"
            },
            "outputs": [],
            "source": [
                "#####################################################################################\n",
                "# Paste your WML_INSTANCE_NAME, WML CRN in the following field and then run this cell.\n",
                "######################################################################################\n",
                "WML_INSTANCE_NAME =  \"<EDIT THIS>\" # YOUR_WML_INSTANCE_NAME\n",
                "WML_CRN =  \"<EDIT THIS>\" # YOUR_WML_CRN"
            ]
        },
        {
            "cell_type": "markdown",
            "metadata": {
                "id": "141f8275-ce50-4b91-a3b8-0d3252d8fd8f"
            },
            "source": [
                "In next cell, you will need to paste COS_RESOURCE_CRN. If you haven't worked with COS yet please visit [getting started with COS tutorial](https://cloud.ibm.com/docs/cloud-object-storage?topic=cloud-object-storage-getting-started-cloud-object-storage).\n",
                "You can find COS_RESOURCE_CRN variable in Service Credentials in menu of your COS instance."
            ]
        },
        {
            "cell_type": "code",
            "execution_count": 315,
            "metadata": {
                "id": "e1ad8bce-6240-4832-9b36-94f817bfb51a"
            },
            "outputs": [],
            "source": [
                "COS_RESOURCE_CRN = \"<EDIT THIS>\""
            ]
        },
        {
            "cell_type": "markdown",
            "metadata": {
                "id": "c8fd8413-e640-40d1-9fac-aa51218ce636"
            },
            "source": [
                "### Setting up the space"
            ]
        },
        {
            "cell_type": "code",
            "execution_count": 7,
            "metadata": {
                "id": "44ff18e7-5f91-4931-b606-6c9ca9cb9f1c"
            },
            "outputs": [
                {
                    "name": "stdout",
                    "output_type": "stream",
                    "text": [
                        "90a90b37-8425-45a9-9a1a-8d952800a261\n"
                    ]
                }
            ],
            "source": [
                "if use_existing_space == True:\n",
                "    space_id = existing_space_id\n",
                "else:\n",
                "    space_meta_data = {\n",
                "        wml_client.spaces.ConfigurationMetaNames.NAME: space_name,\n",
                "        wml_client.spaces.ConfigurationMetaNames.STORAGE: {\"resource_crn\":COS_RESOURCE_CRN},\n",
                "        wml_client.spaces.ConfigurationMetaNames.COMPUTE: {\"name\": WML_INSTANCE_NAME, \"crn\": WML_CRN},\n",
                "        wml_client.spaces.ConfigurationMetaNames.TYPE: \"wx\"\n",
                "    }\n",
                "    space_id = wml_client.spaces.store(\n",
                "        meta_props=space_meta_data)[\"metadata\"][\"id\"]\n",
                "wml_client.set.default_space(space_id)\n",
                "print(space_id)"
            ]
        },
        {
            "cell_type": "markdown",
            "metadata": {
                "id": "eca538bc-4bc9-4866-b0fe-68b6483ddd48"
            },
            "source": [
                "## Function to create the access token"
            ]
        },
        {
            "cell_type": "markdown",
            "metadata": {
                "id": "a89c703a-8f85-4e0f-9aed-a6d806620d83"
            },
            "source": [
                "This function generates an IAM access token using the provided credentials. The API calls for creating and scoring prompt template assets utilize the token generated by this function."
            ]
        },
        {
            "cell_type": "code",
            "execution_count": 44,
            "metadata": {
                "id": "b002ae27-7cc7-456b-ab9c-a29417f68d06"
            },
            "outputs": [],
            "source": [
                "import requests, json\n",
                "def generate_access_token():\n",
                "    headers={}\n",
                "    if not use_cpd: \n",
                "        headers[\"Content-Type\"] = \"application/x-www-form-urlencoded\"\n",
                "        headers[\"Accept\"] = \"application/json\"\n",
                "        data = {\n",
                "            \"grant_type\": \"urn:ibm:params:oauth:grant-type:apikey\",\n",
                "            \"apikey\": CLOUD_API_KEY,\n",
                "            \"response_type\": \"cloud_iam\"\n",
                "        }\n",
                "        response = requests.post(IAM_URL + \"/identity/token\", data=data, headers=headers)\n",
                "        json_data = response.json()\n",
                "        iam_access_token = json_data[\"access_token\"]\n",
                "    else:\n",
                "        headers[\"Content-Type\"] = \"application/json\"\n",
                "        headers[\"Accept\"] = \"application/json\"\n",
                "        data = {\n",
                "            \"username\": CPD_USERNAME,\n",
                "            \"password\": CPD_PASSWORD\n",
                "        }\n",
                "        data = json.dumps(data).encode(\"utf-8\")\n",
                "        url = CPD_URL + \"/icp4d-api/v1/authorize\"\n",
                "        response = requests.post(url=url, data=data, headers=headers, verify=False)\n",
                "        json_data = response.json()\n",
                "        iam_access_token = json_data[\"token\"]\n",
                "        \n",
                "    return iam_access_token\n",
                "\n",
                "iam_access_token = generate_access_token()"
            ]
        },
        {
            "cell_type": "markdown",
            "metadata": {
                "id": "98ecb131-5802-4e00-bddf-9ec4091b4c53"
            },
            "source": [
                "## Test data containing the summarization output from model and the reference data"
            ]
        },
        {
            "cell_type": "code",
            "execution_count": 9,
            "metadata": {
                "id": "b4063a99-82b2-415d-ba52-dd0c6307979a"
            },
            "outputs": [
                {
                    "name": "stdout",
                    "output_type": "stream",
                    "text": [
                        "--2024-09-30 12:43:37--  https://raw.githubusercontent.com/IBM/watson-openscale-samples/main/IBM%20Cloud/WML/assets/data/watsonx/llm_content.csv\n",
                        "Resolving raw.githubusercontent.com (raw.githubusercontent.com)... 185.199.108.133, 185.199.109.133, 185.199.110.133, ...\n",
                        "Connecting to raw.githubusercontent.com (raw.githubusercontent.com)|185.199.108.133|:443... connected.\n",
                        "HTTP request sent, awaiting response... 200 OK\n",
                        "Length: 31230 (30K) [text/plain]\n",
                        "Saving to: ‘llm_content.csv’\n",
                        "\n",
                        "llm_content.csv     100%[===================>]  30.50K  --.-KB/s    in 0.002s  \n",
                        "\n",
                        "2024-09-30 12:43:37 (16.8 MB/s) - ‘llm_content.csv’ saved [31230/31230]\n",
                        "\n"
                    ]
                }
            ],
            "source": [
                "!rm -fr llm_content.csv\n",
                "!wget \"https://raw.githubusercontent.com/IBM/watson-openscale-samples/main/IBM%20Cloud/WML/assets/data/watsonx/llm_content.csv\""
            ]
        },
        {
            "cell_type": "code",
            "execution_count": 10,
            "metadata": {
                "id": "3116695d-eb19-4f21-a439-c9ef15099711"
            },
            "outputs": [
                {
                    "data": {
                        "text/html": [
                            "<div>\n",
                            "<style scoped>\n",
                            "    .dataframe tbody tr th:only-of-type {\n",
                            "        vertical-align: middle;\n",
                            "    }\n",
                            "\n",
                            "    .dataframe tbody tr th {\n",
                            "        vertical-align: top;\n",
                            "    }\n",
                            "\n",
                            "    .dataframe thead th {\n",
                            "        text-align: right;\n",
                            "    }\n",
                            "</style>\n",
                            "<table border=\"1\" class=\"dataframe\">\n",
                            "  <thead>\n",
                            "    <tr style=\"text-align: right;\">\n",
                            "      <th></th>\n",
                            "      <th>input_text</th>\n",
                            "      <th>generated_summary</th>\n",
                            "      <th>reference_summary_1</th>\n",
                            "      <th>reference_summary_2</th>\n",
                            "    </tr>\n",
                            "  </thead>\n",
                            "  <tbody>\n",
                            "    <tr>\n",
                            "      <th>0</th>\n",
                            "      <td>Scientists have discovered a new species of de...</td>\n",
                            "      <td>New bioluminescent fish species found in deep ...</td>\n",
                            "      <td>Discovery of deep-sea fish emitting soothing l...</td>\n",
                            "      <td>Scientists find new bioluminescent fish specie...</td>\n",
                            "    </tr>\n",
                            "    <tr>\n",
                            "      <th>1</th>\n",
                            "      <td>An international team of astronomers has ident...</td>\n",
                            "      <td>Distant exoplanet\\'s water vapor-filled atmosp...</td>\n",
                            "      <td>Astronomers identify exoplanet with water vapo...</td>\n",
                            "      <td>Discovery of exoplanet with water vapor in its...</td>\n",
                            "    </tr>\n",
                            "    <tr>\n",
                            "      <th>2</th>\n",
                            "      <td>Researchers have developed a novel nanotechnol...</td>\n",
                            "      <td>New nanotechnology-based cancer treatment demo...</td>\n",
                            "      <td>Researchers create cancer treatment using nano...</td>\n",
                            "      <td>Innovative cancer treatment utilizing nanotech...</td>\n",
                            "    </tr>\n",
                            "    <tr>\n",
                            "      <th>3</th>\n",
                            "      <td>A new app is aiming to reduce food waste by co...</td>\n",
                            "      <td>App connects local restaurants with customers ...</td>\n",
                            "      <td>New sustainability-focused app facilitates sal...</td>\n",
                            "      <td>Initiative to reduce food waste involves app c...</td>\n",
                            "    </tr>\n",
                            "    <tr>\n",
                            "      <th>4</th>\n",
                            "      <td>Archaeologists have uncovered an ancient city ...</td>\n",
                            "      <td>Ancient city dating back over 4,000 years disc...</td>\n",
                            "      <td>Archaeological find in Iraq reveals ancient ci...</td>\n",
                            "      <td>Discovery of 4,000-year-old ancient city in Ku...</td>\n",
                            "    </tr>\n",
                            "  </tbody>\n",
                            "</table>\n",
                            "</div>"
                        ],
                        "text/plain": [
                            "                                          input_text  \\\n",
                            "0  Scientists have discovered a new species of de...   \n",
                            "1  An international team of astronomers has ident...   \n",
                            "2  Researchers have developed a novel nanotechnol...   \n",
                            "3  A new app is aiming to reduce food waste by co...   \n",
                            "4  Archaeologists have uncovered an ancient city ...   \n",
                            "\n",
                            "                                   generated_summary  \\\n",
                            "0  New bioluminescent fish species found in deep ...   \n",
                            "1  Distant exoplanet\\'s water vapor-filled atmosp...   \n",
                            "2  New nanotechnology-based cancer treatment demo...   \n",
                            "3  App connects local restaurants with customers ...   \n",
                            "4  Ancient city dating back over 4,000 years disc...   \n",
                            "\n",
                            "                                 reference_summary_1  \\\n",
                            "0  Discovery of deep-sea fish emitting soothing l...   \n",
                            "1  Astronomers identify exoplanet with water vapo...   \n",
                            "2  Researchers create cancer treatment using nano...   \n",
                            "3  New sustainability-focused app facilitates sal...   \n",
                            "4  Archaeological find in Iraq reveals ancient ci...   \n",
                            "\n",
                            "                                 reference_summary_2  \n",
                            "0  Scientists find new bioluminescent fish specie...  \n",
                            "1  Discovery of exoplanet with water vapor in its...  \n",
                            "2  Innovative cancer treatment utilizing nanotech...  \n",
                            "3  Initiative to reduce food waste involves app c...  \n",
                            "4  Discovery of 4,000-year-old ancient city in Ku...  "
                        ]
                    },
                    "execution_count": 10,
                    "metadata": {},
                    "output_type": "execute_result"
                }
            ],
            "source": [
                "import pandas as pd\n",
                "import numpy as np\n",
                "llm_data_all = pd.read_csv(\"llm_content.csv\")\n",
                "llm_data_all.head()"
            ]
        },
        {
            "cell_type": "code",
            "execution_count": 11,
            "metadata": {
                "id": "22a2ea54-4248-4cb5-b567-73ab6c69d518"
            },
            "outputs": [
                {
                    "data": {
                        "text/html": [
                            "<div>\n",
                            "<style scoped>\n",
                            "    .dataframe tbody tr th:only-of-type {\n",
                            "        vertical-align: middle;\n",
                            "    }\n",
                            "\n",
                            "    .dataframe tbody tr th {\n",
                            "        vertical-align: top;\n",
                            "    }\n",
                            "\n",
                            "    .dataframe thead th {\n",
                            "        text-align: right;\n",
                            "    }\n",
                            "</style>\n",
                            "<table border=\"1\" class=\"dataframe\">\n",
                            "  <thead>\n",
                            "    <tr style=\"text-align: right;\">\n",
                            "      <th></th>\n",
                            "      <th>input_text</th>\n",
                            "      <th>generated_summary</th>\n",
                            "      <th>reference_summary_1</th>\n",
                            "      <th>reference_summary_2</th>\n",
                            "    </tr>\n",
                            "  </thead>\n",
                            "  <tbody>\n",
                            "    <tr>\n",
                            "      <th>0</th>\n",
                            "      <td>Scientists have discovered a new species of de...</td>\n",
                            "      <td>New bioluminescent fish species found in deep ...</td>\n",
                            "      <td>Discovery of deep-sea fish emitting soothing l...</td>\n",
                            "      <td>Scientists find new bioluminescent fish specie...</td>\n",
                            "    </tr>\n",
                            "    <tr>\n",
                            "      <th>1</th>\n",
                            "      <td>An international team of astronomers has ident...</td>\n",
                            "      <td>Distant exoplanet\\'s water vapor-filled atmosp...</td>\n",
                            "      <td>Astronomers identify exoplanet with water vapo...</td>\n",
                            "      <td>Discovery of exoplanet with water vapor in its...</td>\n",
                            "    </tr>\n",
                            "    <tr>\n",
                            "      <th>2</th>\n",
                            "      <td>Researchers have developed a novel nanotechnol...</td>\n",
                            "      <td>New nanotechnology-based cancer treatment demo...</td>\n",
                            "      <td>Researchers create cancer treatment using nano...</td>\n",
                            "      <td>Innovative cancer treatment utilizing nanotech...</td>\n",
                            "    </tr>\n",
                            "    <tr>\n",
                            "      <th>3</th>\n",
                            "      <td>A new app is aiming to reduce food waste by co...</td>\n",
                            "      <td>App connects local restaurants with customers ...</td>\n",
                            "      <td>New sustainability-focused app facilitates sal...</td>\n",
                            "      <td>Initiative to reduce food waste involves app c...</td>\n",
                            "    </tr>\n",
                            "    <tr>\n",
                            "      <th>4</th>\n",
                            "      <td>Archaeologists have uncovered an ancient city ...</td>\n",
                            "      <td>Ancient city dating back over 4,000 years disc...</td>\n",
                            "      <td>Archaeological find in Iraq reveals ancient ci...</td>\n",
                            "      <td>Discovery of 4,000-year-old ancient city in Ku...</td>\n",
                            "    </tr>\n",
                            "  </tbody>\n",
                            "</table>\n",
                            "</div>"
                        ],
                        "text/plain": [
                            "                                          input_text  \\\n",
                            "0  Scientists have discovered a new species of de...   \n",
                            "1  An international team of astronomers has ident...   \n",
                            "2  Researchers have developed a novel nanotechnol...   \n",
                            "3  A new app is aiming to reduce food waste by co...   \n",
                            "4  Archaeologists have uncovered an ancient city ...   \n",
                            "\n",
                            "                                   generated_summary  \\\n",
                            "0  New bioluminescent fish species found in deep ...   \n",
                            "1  Distant exoplanet\\'s water vapor-filled atmosp...   \n",
                            "2  New nanotechnology-based cancer treatment demo...   \n",
                            "3  App connects local restaurants with customers ...   \n",
                            "4  Ancient city dating back over 4,000 years disc...   \n",
                            "\n",
                            "                                 reference_summary_1  \\\n",
                            "0  Discovery of deep-sea fish emitting soothing l...   \n",
                            "1  Astronomers identify exoplanet with water vapo...   \n",
                            "2  Researchers create cancer treatment using nano...   \n",
                            "3  New sustainability-focused app facilitates sal...   \n",
                            "4  Archaeological find in Iraq reveals ancient ci...   \n",
                            "\n",
                            "                                 reference_summary_2  \n",
                            "0  Scientists find new bioluminescent fish specie...  \n",
                            "1  Discovery of exoplanet with water vapor in its...  \n",
                            "2  Innovative cancer treatment utilizing nanotech...  \n",
                            "3  Initiative to reduce food waste involves app c...  \n",
                            "4  Discovery of 4,000-year-old ancient city in Ku...  "
                        ]
                    },
                    "execution_count": 11,
                    "metadata": {},
                    "output_type": "execute_result"
                }
            ],
            "source": [
                "llm_data = llm_data_all.head(10)\n",
                "llm_data.head()"
            ]
        },
        {
            "cell_type": "markdown",
            "metadata": {
                "id": "35789a77-a567-4e99-99fb-8982eef7d3b9"
            },
            "source": [
                "# Azure OpenAI related"
            ]
        },
        {
            "cell_type": "code",
            "execution_count": 12,
            "metadata": {
                "id": "cee27319-f9ff-4173-86fc-dee00e9fffd2"
            },
            "outputs": [],
            "source": [
                "import os\n",
                "import openai"
            ]
        },
        {
            "cell_type": "markdown",
            "metadata": {
                "id": "13ba3150-3836-403c-ad0c-91fcf008f4a9"
            },
            "source": [
                "## Get the Azure OpenAI deployment details from Azure OpenAI Studio"
            ]
        },
        {
            "cell_type": "code",
            "execution_count": 13,
            "metadata": {
                "id": "a24de45d-d312-4669-a059-f19db214bca2"
            },
            "outputs": [],
            "source": [
                "openai.api_type = \"azure\"\n",
                "openai.api_base = \"<Replace with Azure OpenAI API Base URL>\"\n",
                "openai.api_version = \"<Replace with Azure OpenAI API Version>\"\n",
                "openai.api_key = '<Replace with Azure OpenAI API Key>'"
            ]
        },
        {
            "cell_type": "code",
            "execution_count": 14,
            "metadata": {
                "id": "9a4e3180-9848-4564-af11-b35c0d2053d1"
            },
            "outputs": [
                {
                    "data": {
                        "text/html": [
                            "<div>\n",
                            "<style scoped>\n",
                            "    .dataframe tbody tr th:only-of-type {\n",
                            "        vertical-align: middle;\n",
                            "    }\n",
                            "\n",
                            "    .dataframe tbody tr th {\n",
                            "        vertical-align: top;\n",
                            "    }\n",
                            "\n",
                            "    .dataframe thead th {\n",
                            "        text-align: right;\n",
                            "    }\n",
                            "</style>\n",
                            "<table border=\"1\" class=\"dataframe\">\n",
                            "  <thead>\n",
                            "    <tr style=\"text-align: right;\">\n",
                            "      <th></th>\n",
                            "      <th>input_text</th>\n",
                            "      <th>generated_summary</th>\n",
                            "      <th>reference_summary_1</th>\n",
                            "      <th>reference_summary_2</th>\n",
                            "    </tr>\n",
                            "  </thead>\n",
                            "  <tbody>\n",
                            "    <tr>\n",
                            "      <th>0</th>\n",
                            "      <td>Scientists have discovered a new species of de...</td>\n",
                            "      <td>New bioluminescent fish species found in deep ...</td>\n",
                            "      <td>Discovery of deep-sea fish emitting soothing l...</td>\n",
                            "      <td>Scientists find new bioluminescent fish specie...</td>\n",
                            "    </tr>\n",
                            "    <tr>\n",
                            "      <th>1</th>\n",
                            "      <td>An international team of astronomers has ident...</td>\n",
                            "      <td>Distant exoplanet\\'s water vapor-filled atmosp...</td>\n",
                            "      <td>Astronomers identify exoplanet with water vapo...</td>\n",
                            "      <td>Discovery of exoplanet with water vapor in its...</td>\n",
                            "    </tr>\n",
                            "    <tr>\n",
                            "      <th>2</th>\n",
                            "      <td>Researchers have developed a novel nanotechnol...</td>\n",
                            "      <td>New nanotechnology-based cancer treatment demo...</td>\n",
                            "      <td>Researchers create cancer treatment using nano...</td>\n",
                            "      <td>Innovative cancer treatment utilizing nanotech...</td>\n",
                            "    </tr>\n",
                            "    <tr>\n",
                            "      <th>3</th>\n",
                            "      <td>A new app is aiming to reduce food waste by co...</td>\n",
                            "      <td>App connects local restaurants with customers ...</td>\n",
                            "      <td>New sustainability-focused app facilitates sal...</td>\n",
                            "      <td>Initiative to reduce food waste involves app c...</td>\n",
                            "    </tr>\n",
                            "    <tr>\n",
                            "      <th>4</th>\n",
                            "      <td>Archaeologists have uncovered an ancient city ...</td>\n",
                            "      <td>Ancient city dating back over 4,000 years disc...</td>\n",
                            "      <td>Archaeological find in Iraq reveals ancient ci...</td>\n",
                            "      <td>Discovery of 4,000-year-old ancient city in Ku...</td>\n",
                            "    </tr>\n",
                            "  </tbody>\n",
                            "</table>\n",
                            "</div>"
                        ],
                        "text/plain": [
                            "                                          input_text  \\\n",
                            "0  Scientists have discovered a new species of de...   \n",
                            "1  An international team of astronomers has ident...   \n",
                            "2  Researchers have developed a novel nanotechnol...   \n",
                            "3  A new app is aiming to reduce food waste by co...   \n",
                            "4  Archaeologists have uncovered an ancient city ...   \n",
                            "\n",
                            "                                   generated_summary  \\\n",
                            "0  New bioluminescent fish species found in deep ...   \n",
                            "1  Distant exoplanet\\'s water vapor-filled atmosp...   \n",
                            "2  New nanotechnology-based cancer treatment demo...   \n",
                            "3  App connects local restaurants with customers ...   \n",
                            "4  Ancient city dating back over 4,000 years disc...   \n",
                            "\n",
                            "                                 reference_summary_1  \\\n",
                            "0  Discovery of deep-sea fish emitting soothing l...   \n",
                            "1  Astronomers identify exoplanet with water vapo...   \n",
                            "2  Researchers create cancer treatment using nano...   \n",
                            "3  New sustainability-focused app facilitates sal...   \n",
                            "4  Archaeological find in Iraq reveals ancient ci...   \n",
                            "\n",
                            "                                 reference_summary_2  \n",
                            "0  Scientists find new bioluminescent fish specie...  \n",
                            "1  Discovery of exoplanet with water vapor in its...  \n",
                            "2  Innovative cancer treatment utilizing nanotech...  \n",
                            "3  Initiative to reduce food waste involves app c...  \n",
                            "4  Discovery of 4,000-year-old ancient city in Ku...  "
                        ]
                    },
                    "execution_count": 14,
                    "metadata": {},
                    "output_type": "execute_result"
                }
            ],
            "source": [
                "llm_data.head()"
            ]
        },
        {
            "cell_type": "markdown",
            "metadata": {
                "id": "195dcd30-db1d-4b6f-b521-148f8eeca171"
            },
            "source": [
                "### Sample generated output"
            ]
        },
        {
            "cell_type": "code",
            "execution_count": 15,
            "metadata": {
                "id": "2eaa87f8-6f6b-4819-a396-95b629d66e82"
            },
            "outputs": [],
            "source": [
                "# Function to generate summary\n",
                "def generate_summary(text):\n",
                "    response = openai.ChatCompletion.create(\n",
                "        engine=\"gpt-4\",  # Use your deployment name here\n",
                "        messages=[\n",
                "            {\"role\": \"system\", \"content\": \"You are a helpful assistant.\"},\n",
                "            {\"role\": \"user\", \"content\": f\"Summarize the following text: {text}\"}\n",
                "        ],\n",
                "        max_tokens=150,  # Adjust the token limit as needed\n",
                "        temperature=0.5,  # Adjust for creativity\n",
                "        top_p=0.9,\n",
                "        frequency_penalty=0,\n",
                "        presence_penalty=0\n",
                "    )\n",
                "    return response['choices'][0]['message']['content'].strip()"
            ]
        },
        {
            "cell_type": "code",
            "execution_count": 16,
            "metadata": {
                "id": "523cc27e-4f25-41be-9dca-e7b86054aafc"
            },
            "outputs": [
                {
                    "name": "stderr",
                    "output_type": "stream",
                    "text": [
                        "/tmp/1000740000/ipykernel_392/963214021.py:1: SettingWithCopyWarning: \n",
                        "A value is trying to be set on a copy of a slice from a DataFrame.\n",
                        "Try using .loc[row_indexer,col_indexer] = value instead\n",
                        "\n",
                        "See the caveats in the documentation: https://pandas.pydata.org/pandas-docs/stable/user_guide/indexing.html#returning-a-view-versus-a-copy\n",
                        "  llm_data.loc[:, 'gpt_4_generated_summary'] = llm_data['input_text'].apply(generate_summary)\n"
                    ]
                }
            ],
            "source": [
                "llm_data.loc[:, 'gpt_4_generated_summary'] = llm_data['input_text'].apply(generate_summary)"
            ]
        },
        {
            "cell_type": "code",
            "execution_count": 17,
            "metadata": {
                "id": "7abdda7e-bb6b-4731-8fdf-bf816b874f50"
            },
            "outputs": [
                {
                    "data": {
                        "text/html": [
                            "<div>\n",
                            "<style scoped>\n",
                            "    .dataframe tbody tr th:only-of-type {\n",
                            "        vertical-align: middle;\n",
                            "    }\n",
                            "\n",
                            "    .dataframe tbody tr th {\n",
                            "        vertical-align: top;\n",
                            "    }\n",
                            "\n",
                            "    .dataframe thead th {\n",
                            "        text-align: right;\n",
                            "    }\n",
                            "</style>\n",
                            "<table border=\"1\" class=\"dataframe\">\n",
                            "  <thead>\n",
                            "    <tr style=\"text-align: right;\">\n",
                            "      <th></th>\n",
                            "      <th>input_text</th>\n",
                            "      <th>generated_summary</th>\n",
                            "      <th>reference_summary_1</th>\n",
                            "      <th>reference_summary_2</th>\n",
                            "      <th>gpt_4_generated_summary</th>\n",
                            "    </tr>\n",
                            "  </thead>\n",
                            "  <tbody>\n",
                            "    <tr>\n",
                            "      <th>0</th>\n",
                            "      <td>Scientists have discovered a new species of de...</td>\n",
                            "      <td>New bioluminescent fish species found in deep ...</td>\n",
                            "      <td>Discovery of deep-sea fish emitting soothing l...</td>\n",
                            "      <td>Scientists find new bioluminescent fish specie...</td>\n",
                            "      <td>Scientists have discovered a new bioluminescen...</td>\n",
                            "    </tr>\n",
                            "    <tr>\n",
                            "      <th>1</th>\n",
                            "      <td>An international team of astronomers has ident...</td>\n",
                            "      <td>Distant exoplanet\\'s water vapor-filled atmosp...</td>\n",
                            "      <td>Astronomers identify exoplanet with water vapo...</td>\n",
                            "      <td>Discovery of exoplanet with water vapor in its...</td>\n",
                            "      <td>An international group of astronomers has disc...</td>\n",
                            "    </tr>\n",
                            "    <tr>\n",
                            "      <th>2</th>\n",
                            "      <td>Researchers have developed a novel nanotechnol...</td>\n",
                            "      <td>New nanotechnology-based cancer treatment demo...</td>\n",
                            "      <td>Researchers create cancer treatment using nano...</td>\n",
                            "      <td>Innovative cancer treatment utilizing nanotech...</td>\n",
                            "      <td>Researchers have created a new cancer treatmen...</td>\n",
                            "    </tr>\n",
                            "    <tr>\n",
                            "      <th>3</th>\n",
                            "      <td>A new app is aiming to reduce food waste by co...</td>\n",
                            "      <td>App connects local restaurants with customers ...</td>\n",
                            "      <td>New sustainability-focused app facilitates sal...</td>\n",
                            "      <td>Initiative to reduce food waste involves app c...</td>\n",
                            "      <td>A new app is designed to cut down on food wast...</td>\n",
                            "    </tr>\n",
                            "    <tr>\n",
                            "      <th>4</th>\n",
                            "      <td>Archaeologists have uncovered an ancient city ...</td>\n",
                            "      <td>Ancient city dating back over 4,000 years disc...</td>\n",
                            "      <td>Archaeological find in Iraq reveals ancient ci...</td>\n",
                            "      <td>Discovery of 4,000-year-old ancient city in Ku...</td>\n",
                            "      <td>Archaeologists discovered a 4,000-year-old anc...</td>\n",
                            "    </tr>\n",
                            "    <tr>\n",
                            "      <th>5</th>\n",
                            "      <td>Researchers have developed a new type of solar...</td>\n",
                            "      <td>Scientists create highly efficient solar panel...</td>\n",
                            "      <td>New solar panels could revolutionize renewable...</td>\n",
                            "      <td>Researchers develop innovative solar panels to...</td>\n",
                            "      <td>Researchers have created a new solar panel tha...</td>\n",
                            "    </tr>\n",
                            "    <tr>\n",
                            "      <th>6</th>\n",
                            "      <td>According to a recent study, regular exercise ...</td>\n",
                            "      <td>Middle-age exercise linked to 36% lower risk o...</td>\n",
                            "      <td>New study suggests that staying physically act...</td>\n",
                            "      <td>Regular exercise during middle age may have a ...</td>\n",
                            "      <td>A recent study indicates that regular exercise...</td>\n",
                            "    </tr>\n",
                            "    <tr>\n",
                            "      <th>7</th>\n",
                            "      <td>Scientists have developed a new type of batter...</td>\n",
                            "      <td>New wireless charging battery utilizes radio w...</td>\n",
                            "      <td>Battery technology innovation enables wireless...</td>\n",
                            "      <td>Researchers create battery that can be charged...</td>\n",
                            "      <td>Scientists have created a new battery that can...</td>\n",
                            "    </tr>\n",
                            "    <tr>\n",
                            "      <th>8</th>\n",
                            "      <td>A team of engineers has designed a lightweight...</td>\n",
                            "      <td>Engineers create lightweight exoskeleton to ai...</td>\n",
                            "      <td>Newly designed exoskeleton offers mobility ass...</td>\n",
                            "      <td>Innovative exoskeleton design aims to assist p...</td>\n",
                            "      <td>A team of engineers has developed a lightweigh...</td>\n",
                            "    </tr>\n",
                            "    <tr>\n",
                            "      <th>9</th>\n",
                            "      <td>NASA\\'s latest space telescope has captured st...</td>\n",
                            "      <td>New NASA space telescope images unveil distant...</td>\n",
                            "      <td>Stunning images of distant galaxies captured b...</td>\n",
                            "      <td>Images from NASA\\'s latest space telescope off...</td>\n",
                            "      <td>NASA's new space telescope has taken remarkabl...</td>\n",
                            "    </tr>\n",
                            "  </tbody>\n",
                            "</table>\n",
                            "</div>"
                        ],
                        "text/plain": [
                            "                                          input_text  \\\n",
                            "0  Scientists have discovered a new species of de...   \n",
                            "1  An international team of astronomers has ident...   \n",
                            "2  Researchers have developed a novel nanotechnol...   \n",
                            "3  A new app is aiming to reduce food waste by co...   \n",
                            "4  Archaeologists have uncovered an ancient city ...   \n",
                            "5  Researchers have developed a new type of solar...   \n",
                            "6  According to a recent study, regular exercise ...   \n",
                            "7  Scientists have developed a new type of batter...   \n",
                            "8  A team of engineers has designed a lightweight...   \n",
                            "9  NASA\\'s latest space telescope has captured st...   \n",
                            "\n",
                            "                                   generated_summary  \\\n",
                            "0  New bioluminescent fish species found in deep ...   \n",
                            "1  Distant exoplanet\\'s water vapor-filled atmosp...   \n",
                            "2  New nanotechnology-based cancer treatment demo...   \n",
                            "3  App connects local restaurants with customers ...   \n",
                            "4  Ancient city dating back over 4,000 years disc...   \n",
                            "5  Scientists create highly efficient solar panel...   \n",
                            "6  Middle-age exercise linked to 36% lower risk o...   \n",
                            "7  New wireless charging battery utilizes radio w...   \n",
                            "8  Engineers create lightweight exoskeleton to ai...   \n",
                            "9  New NASA space telescope images unveil distant...   \n",
                            "\n",
                            "                                 reference_summary_1  \\\n",
                            "0  Discovery of deep-sea fish emitting soothing l...   \n",
                            "1  Astronomers identify exoplanet with water vapo...   \n",
                            "2  Researchers create cancer treatment using nano...   \n",
                            "3  New sustainability-focused app facilitates sal...   \n",
                            "4  Archaeological find in Iraq reveals ancient ci...   \n",
                            "5  New solar panels could revolutionize renewable...   \n",
                            "6  New study suggests that staying physically act...   \n",
                            "7  Battery technology innovation enables wireless...   \n",
                            "8  Newly designed exoskeleton offers mobility ass...   \n",
                            "9  Stunning images of distant galaxies captured b...   \n",
                            "\n",
                            "                                 reference_summary_2  \\\n",
                            "0  Scientists find new bioluminescent fish specie...   \n",
                            "1  Discovery of exoplanet with water vapor in its...   \n",
                            "2  Innovative cancer treatment utilizing nanotech...   \n",
                            "3  Initiative to reduce food waste involves app c...   \n",
                            "4  Discovery of 4,000-year-old ancient city in Ku...   \n",
                            "5  Researchers develop innovative solar panels to...   \n",
                            "6  Regular exercise during middle age may have a ...   \n",
                            "7  Researchers create battery that can be charged...   \n",
                            "8  Innovative exoskeleton design aims to assist p...   \n",
                            "9  Images from NASA\\'s latest space telescope off...   \n",
                            "\n",
                            "                             gpt_4_generated_summary  \n",
                            "0  Scientists have discovered a new bioluminescen...  \n",
                            "1  An international group of astronomers has disc...  \n",
                            "2  Researchers have created a new cancer treatmen...  \n",
                            "3  A new app is designed to cut down on food wast...  \n",
                            "4  Archaeologists discovered a 4,000-year-old anc...  \n",
                            "5  Researchers have created a new solar panel tha...  \n",
                            "6  A recent study indicates that regular exercise...  \n",
                            "7  Scientists have created a new battery that can...  \n",
                            "8  A team of engineers has developed a lightweigh...  \n",
                            "9  NASA's new space telescope has taken remarkabl...  "
                        ]
                    },
                    "execution_count": 17,
                    "metadata": {},
                    "output_type": "execute_result"
                }
            ],
            "source": [
                "llm_data"
            ]
        },
        {
            "cell_type": "markdown",
            "metadata": {
                "id": "de9f4870-e1fb-45da-8dd6-6f8d12399009"
            },
            "source": [
                "# Create Prompt template <a name=\"prompt\"></a>"
            ]
        },
        {
            "cell_type": "markdown",
            "metadata": {
                "id": "91b5fddd-d6e7-4834-b780-8c23ea0c065b"
            },
            "source": [
                "Create a prompt template for a summarization task"
            ]
        },
        {
            "cell_type": "code",
            "execution_count": 18,
            "metadata": {
                "id": "69f88bdc-efb8-4236-bfb1-9a4cdde4bbb0"
            },
            "outputs": [],
            "source": [
                "from ibm_aigov_facts_client import AIGovFactsClient\n",
                "\n",
                "if not use_cpd:\n",
                "    facts_client = AIGovFactsClient(\n",
                "        api_key=CLOUD_API_KEY,\n",
                "        container_id=PROJECT_ID,\n",
                "        container_type=\"project\",\n",
                "        disable_tracing=True\n",
                "    )\n",
                "else:\n",
                "    from ibm_aigov_facts_client import CloudPakforDataConfig\n",
                "    creds=CloudPakforDataConfig(\n",
                "        service_url=CPD_URL,\n",
                "        username=CPD_USERNAME,\n",
                "        password=CPD_PASSWORD\n",
                "    )\n",
                "    facts_client = AIGovFactsClient(\n",
                "        cloud_pak_for_data_configs=creds,\n",
                "        container_id=PROJECT_ID,\n",
                "        container_type=\"project\",\n",
                "        disable_tracing=True\n",
                "    )"
            ]
        },
        {
            "cell_type": "code",
            "execution_count": 19,
            "metadata": {
                "id": "77b7c9b8-bc7c-45c3-b8d2-a57c6cb85ae9"
            },
            "outputs": [
                {
                    "name": "stdout",
                    "output_type": "stream",
                    "text": [
                        "2024/09/30 12:44:49 INFO : ------------------------------ Detached Prompt Creation Started ------------------------------\n",
                        "2024/09/30 12:44:51 INFO : The detached prompt with ID abfc71af-aa94-4109-b8e8-5b3fe1e1121b was created successfully in container_id a3d21fd6-7b82-4d1e-bacb-0d052f7b6473.\n"
                    ]
                }
            ],
            "source": [
                "from ibm_aigov_facts_client import DetachedPromptTemplate, PromptTemplate\n",
                "\n",
                "detached_information = DetachedPromptTemplate(\n",
                "    prompt_id=\"detached_prompt\",\n",
                "    model_id=\"gpt-4\",\n",
                "    model_provider=\"OpenAI\",\n",
                "    model_name=\"gpt-4\",\n",
                "    model_url=\"https://openai.com/research/gpt-4\",\n",
                "    prompt_url=\"prompt_url\",\n",
                "    prompt_additional_info={\"model_owner\": \"openai\"}\n",
                ")\n",
                "\n",
                "task_id = \"summarization\"\n",
                "name = \"External prompt sample (openai)\"\n",
                "description = \"My first detached prompt\"\n",
                "model_id = \"gpt-4\"\n",
                "\n",
                "# define parameters for PromptTemplate\n",
                "prompt_variables = {\"original_text\": \"\"}\n",
                "input = \"{original_text}\"\n",
                "input_prefix= \"Input:\"\n",
                "output_prefix= \"Output:\"\n",
                "\n",
                "prompt_template = PromptTemplate(\n",
                "    input=input,\n",
                "    prompt_variables=prompt_variables,\n",
                "    input_prefix=input_prefix,\n",
                "    output_prefix=output_prefix\n",
                ")\n",
                "\n",
                "pta_details = facts_client.assets.create_detached_prompt(\n",
                "    model_id=model_id,\n",
                "    task_id=task_id,\n",
                "    name=name,\n",
                "    description=description,\n",
                "    prompt_details=prompt_template,\n",
                "    detached_information=detached_information\n",
                ")\n",
                "project_pta_id = pta_details.to_dict()[\"asset_id\"]"
            ]
        },
        {
            "cell_type": "markdown",
            "metadata": {
                "id": "7e955a76-f347-4659-a177-c8c0fa7cef2a"
            },
            "source": [
                "# Prompt setup <a name=\"ptatsetup\"></a>"
            ]
        },
        {
            "cell_type": "markdown",
            "metadata": {
                "id": "24949ced-6dba-4a57-ae9c-6165a84e92f3"
            },
            "source": [
                "### Configure OpenScale"
            ]
        },
        {
            "cell_type": "code",
            "execution_count": 20,
            "metadata": {
                "id": "2b1b2794-3f1f-492e-a2c1-e46f1973fd25"
            },
            "outputs": [
                {
                    "name": "stdout",
                    "output_type": "stream",
                    "text": [
                        "3.0.41\n"
                    ]
                }
            ],
            "source": [
                "from ibm_cloud_sdk_core.authenticators import IAMAuthenticator, CloudPakForDataAuthenticator\n",
                "\n",
                "from ibm_watson_openscale import *\n",
                "from ibm_watson_openscale.supporting_classes.enums import *\n",
                "from ibm_watson_openscale.supporting_classes import *\n",
                "\n",
                "if use_cpd:\n",
                "    authenticator = CloudPakForDataAuthenticator(\n",
                "        url=CPD_URL,\n",
                "        username=CPD_USERNAME,\n",
                "        password=CPD_PASSWORD,\n",
                "        disable_ssl_verification=True\n",
                "    )\n",
                "    wos_client = APIClient(\n",
                "        service_url=CPD_URL,\n",
                "        authenticator=authenticator,\n",
                "        service_instance_id=WOS_SERVICE_INSTANCE_ID\n",
                "    )\n",
                "    data_mart_id = wos_client.service_instance_id\n",
                "    print(wos_client.version)\n",
                "else:\n",
                "    service_instance_id = None # Update this to refer to a particular service instance\n",
                "    authenticator = IAMAuthenticator(\n",
                "        apikey=CLOUD_API_KEY,\n",
                "        url=IAM_URL\n",
                "    )\n",
                "    wos_client = APIClient(\n",
                "        authenticator=authenticator,\n",
                "        service_url=SERVICE_URL,\n",
                "        service_instance_id=service_instance_id\n",
                "    )\n",
                "    data_mart_id = wos_client.service_instance_id\n",
                "    print(wos_client.version)"
            ]
        },
        {
            "cell_type": "markdown",
            "metadata": {},
            "source": [
                "### Openscale instance mapping with the project"
            ]
        },
        {
            "cell_type": "markdown",
            "metadata": {},
            "source": [
                "When the authentication is on CPD then we need to add additional step of mapping the project_id/space_id to an OpenScale instance."
            ]
        },
        {
            "cell_type": "code",
            "execution_count": null,
            "metadata": {},
            "outputs": [],
            "source": [
                "from ibm_watson_openscale.base_classes import ApiRequestFailure\n",
                "\n",
                "if use_cpd:\n",
                "    try:\n",
                "      wos_client.wos.add_instance_mapping(                \n",
                "        service_instance_id=data_mart_id,\n",
                "        project_id=PROJECT_ID\n",
                "      )\n",
                "    except ApiRequestFailure as arf:\n",
                "       if arf.response.status_code == 409:\n",
                "          # Instance mapping already exists\n",
                "          pass\n",
                "       else:\n",
                "          raise arf"
            ]
        },
        {
            "cell_type": "markdown",
            "metadata": {
                "id": "6ecc0bc7-bd44-4ce1-b03d-09e36e052161"
            },
            "source": [
                "### Setup the prompt template asset in project for evaluation with supported monitor dimensions"
            ]
        },
        {
            "cell_type": "markdown",
            "metadata": {
                "id": "06ce5dab-2d5d-47ae-b049-30cd663e5eb4"
            },
            "source": [
                "The prompt template assets from project is only supported with `development` operational space ID. Running the below cell will create a development type subscription from the prompt template asset created within the project.\n",
                "\n",
                "The available parameters that can be passed for `execute_prompt_setup` function are:\n",
                "\n",
                " * `prompt_template_asset_id` : Id of prompt template asset for which subscription needs to be created.\n",
                " * `label_column` :  The name of the column containing the ground truth or actual labels.\n",
                " * `project_id` : The GUID of the project.\n",
                " * `space_id` : The GUID of the space.\n",
                " * `deployment_id` : The GUID of the deployment.\n",
                " * `operational_space_id` : The rank of the environment in which the monitoring is happening. Accepted values are `development`, `pre_production`, `production`.\n",
                " * `problem_type` : (optional) The task type to monitor for the given prompt template asset.\n",
                " * `classification_type` : The classification type `binary`/`multiclass` applicable only for `classification` problem (task) type.\n",
                " * `input_data_type` : The input data type.\n",
                " * `supporting_monitors` : Monitor configuration for the subscription to be created.\n",
                " * `background_mode` : When `True`, the promt setup operation will be executed in the background"
            ]
        },
        {
            "cell_type": "code",
            "execution_count": 24,
            "metadata": {
                "id": "1ca571ee-5de7-4fc4-8127-c1f0505b6eb0"
            },
            "outputs": [
                {
                    "name": "stdout",
                    "output_type": "stream",
                    "text": [
                        "=================================================================\n",
                        "This method will be deprecated in the next release and be replaced by wos_client.wos.execute_prompt_setup() method\n",
                        "=================================================================\n",
                        "\n",
                        "\n",
                        "=============================================================================\n",
                        "\n",
                        " Waiting for end of adding prompt setup abfc71af-aa94-4109-b8e8-5b3fe1e1121b \n",
                        "\n",
                        "=============================================================================\n",
                        "\n",
                        "\n",
                        "\n",
                        "running.\n",
                        "finished\n",
                        "\n",
                        "---------------------------------------------------------------\n",
                        " Successfully finished setting up prompt template subscription \n",
                        "---------------------------------------------------------------\n",
                        "\n",
                        "\n"
                    ]
                },
                {
                    "data": {
                        "text/plain": [
                            "{'prompt_template_asset_id': 'abfc71af-aa94-4109-b8e8-5b3fe1e1121b',\n",
                            " 'project_id': 'a3d21fd6-7b82-4d1e-bacb-0d052f7b6473',\n",
                            " 'deployment_id': '9bb7913b-0eb7-4648-8357-c1993305ddc1',\n",
                            " 'service_provider_id': '2207a1ac-3ff4-4385-91b1-eb7214facb11',\n",
                            " 'subscription_id': '9e9427c7-ff54-4aff-871d-0d002ab4ae7b',\n",
                            " 'mrm_monitor_instance_id': '4e73b376-ea7b-4c2c-a271-f23e66b89b6b',\n",
                            " 'start_time': '2024-09-30T12:47:44.323917Z',\n",
                            " 'end_time': '2024-09-30T12:47:59.508778Z',\n",
                            " 'status': {'state': 'FINISHED'}}"
                        ]
                    },
                    "execution_count": 24,
                    "metadata": {},
                    "output_type": "execute_result"
                }
            ],
            "source": [
                "label_column = \"reference_summary\"\n",
                "operational_space_id = \"development\"\n",
                "problem_type = \"summarization\"\n",
                "input_data_type = \"unstructured_text\"\n",
                "\n",
                "\n",
                "monitors = {\n",
                "    \"generative_ai_quality\": {\n",
                "        \"parameters\": {\n",
                "            \"min_sample_size\": 10,\n",
                "            \"metrics_configuration\": {                    \n",
                "            }\n",
                "        }\n",
                "    }\n",
                "}\n",
                "\n",
                "response = wos_client.monitor_instances.mrm.execute_prompt_setup(\n",
                "    prompt_template_asset_id=project_pta_id, \n",
                "    project_id=PROJECT_ID,\n",
                "    label_column=label_column,\n",
                "    operational_space_id=operational_space_id, \n",
                "    problem_type=problem_type,\n",
                "    input_data_type=input_data_type, \n",
                "    supporting_monitors=monitors, \n",
                "    background_mode=False\n",
                ")\n",
                "\n",
                "result = response.result\n",
                "result.to_dict()"
            ]
        },
        {
            "cell_type": "markdown",
            "metadata": {
                "id": "dac0bed8-0422-484e-8305-0fc041c32794"
            },
            "source": [
                "With the below cell, users can  read the  prompt setup task and check its status"
            ]
        },
        {
            "cell_type": "code",
            "execution_count": 25,
            "metadata": {
                "id": "03f033eb-296c-43c3-8881-084a1c70ab1f"
            },
            "outputs": [
                {
                    "name": "stdout",
                    "output_type": "stream",
                    "text": [
                        "=================================================================\n",
                        "This method will be deprecated in the next release and be replaced by wos_client.wos.get_prompt_setup() method\n",
                        "=================================================================\n",
                        "Finished prompt setup. The response is {'prompt_template_asset_id': 'abfc71af-aa94-4109-b8e8-5b3fe1e1121b', 'project_id': 'a3d21fd6-7b82-4d1e-bacb-0d052f7b6473', 'deployment_id': '9bb7913b-0eb7-4648-8357-c1993305ddc1', 'service_provider_id': '2207a1ac-3ff4-4385-91b1-eb7214facb11', 'subscription_id': '9e9427c7-ff54-4aff-871d-0d002ab4ae7b', 'mrm_monitor_instance_id': '4e73b376-ea7b-4c2c-a271-f23e66b89b6b', 'start_time': '2024-09-30T12:47:44.323917Z', 'end_time': '2024-09-30T12:47:59.508778Z', 'status': {'state': 'FINISHED'}}\n"
                    ]
                }
            ],
            "source": [
                "response = wos_client.monitor_instances.mrm.get_prompt_setup(\n",
                "    prompt_template_asset_id=project_pta_id,\n",
                "    project_id=PROJECT_ID\n",
                ")\n",
                "\n",
                "result = response.result\n",
                "result_json = result.to_dict()\n",
                "\n",
                "if result_json[\"status\"][\"state\"] == \"FINISHED\":\n",
                "    print(\"Finished prompt setup. The response is {}\".format(result_json))\n",
                "else:\n",
                "    print(\"Prompt setup failed. The response is {}\".format(result_json))"
            ]
        },
        {
            "cell_type": "markdown",
            "metadata": {
                "id": "85229de2-e3bd-4e06-b8cb-ebc5960dba42"
            },
            "source": [
                "### Read required IDs from prompt setup response"
            ]
        },
        {
            "cell_type": "code",
            "execution_count": 26,
            "metadata": {
                "id": "e211139d-71fa-4dd4-baff-32290233fadc"
            },
            "outputs": [],
            "source": [
                "subscription_id = result_json[\"subscription_id\"]\n",
                "mrm_monitor_instance_id = result_json[\"mrm_monitor_instance_id\"]"
            ]
        },
        {
            "cell_type": "markdown",
            "metadata": {
                "id": "3a53c1d8-69c8-496e-9aad-b6b3cca4d4e5"
            },
            "source": [
                "## Show all the monitor instances of the production subscription\n",
                "The following cell lists the monitors present in the development subscription along with their respective statuses and other details. Please wait for all the monitors to be in active state before proceeding further."
            ]
        },
        {
            "cell_type": "code",
            "execution_count": 27,
            "metadata": {
                "id": "f4550922-0f63-4584-b854-df1331126e91"
            },
            "outputs": [
                {
                    "data": {
                        "text/html": [
                            "<HTML>\n",
                            "        <body>\n",
                            "            <h3>Monitor instances</h3>\n",
                            "            <table style='border: 1px solid #dddddd; font-family: Courier'>\n",
                            "                <th style='border: 1px solid #dddddd'>data_mart_id</th><th style='border: 1px solid #dddddd'>status</th><th style='border: 1px solid #dddddd'>target_id</th><th style='border: 1px solid #dddddd'>target_type</th><th style='border: 1px solid #dddddd'>monitor_definition_id</th><th style='border: 1px solid #dddddd'>created_at</th><th style='border: 1px solid #dddddd'>id</th>\n",
                            "                <tr><td style='border: 1px solid #dddddd'>9360ac0c-1446-4717-9544-db2efdced80d</td><td style='border: 1px solid #dddddd'>active</td><td style='border: 1px solid #dddddd'>9e9427c7-ff54-4aff-871d-0d002ab4ae7b</td><td style='border: 1px solid #dddddd'>subscription</td><td style='border: 1px solid #dddddd'>generative_ai_quality</td><td style='border: 1px solid #dddddd'>2024-09-30 12:47:49.989000+00:00</td><td style='border: 1px solid #dddddd'>7732c42a-a26c-428e-a78c-98295c2cf44c</td></tr><tr><td style='border: 1px solid #dddddd'>9360ac0c-1446-4717-9544-db2efdced80d</td><td style='border: 1px solid #dddddd'>active</td><td style='border: 1px solid #dddddd'>9e9427c7-ff54-4aff-871d-0d002ab4ae7b</td><td style='border: 1px solid #dddddd'>subscription</td><td style='border: 1px solid #dddddd'>model_health</td><td style='border: 1px solid #dddddd'>2024-09-30 12:47:51.466000+00:00</td><td style='border: 1px solid #dddddd'>7309bd89-2aea-4417-b371-8bba6a84b756</td></tr><tr><td style='border: 1px solid #dddddd'>9360ac0c-1446-4717-9544-db2efdced80d</td><td style='border: 1px solid #dddddd'>active</td><td style='border: 1px solid #dddddd'>9e9427c7-ff54-4aff-871d-0d002ab4ae7b</td><td style='border: 1px solid #dddddd'>subscription</td><td style='border: 1px solid #dddddd'>mrm</td><td style='border: 1px solid #dddddd'>2024-09-30 12:47:52.122000+00:00</td><td style='border: 1px solid #dddddd'>4e73b376-ea7b-4c2c-a271-f23e66b89b6b</td></tr>\n",
                            "            </table>\n",
                            "        </body>\n",
                            "        </HTML>"
                        ],
                        "text/plain": [
                            "<IPython.core.display.HTML object>"
                        ]
                    },
                    "metadata": {},
                    "output_type": "display_data"
                }
            ],
            "source": [
                "wos_client.monitor_instances.show(target_target_id=subscription_id)"
            ]
        },
        {
            "cell_type": "markdown",
            "metadata": {
                "id": "c691231c-b658-4dbe-93b8-dc1dfce92a99"
            },
            "source": [
                "# Risk evaluations for PTA subscription <a name=\"evaluate\"></a>"
            ]
        },
        {
            "cell_type": "markdown",
            "metadata": {
                "id": "8b52a638-24fa-4164-8dc1-b0f9564a50e1"
            },
            "source": [
                "### Evaluate the prompt template subscription\n",
                "\n",
                "For the risk assessment of a development type subscription the user needs to have an evaluation dataset. The risk evaluation function takes the evaluation dataset path as a parameter for evaluation of the configured metric dimensions. If there is a discrepancy between the feature columns in the subscription and the column names in the uploading CSV, users has the option to supply a mapping JSON file to associate the CSV column names with the feature column names in the subscription.\n",
                "\n",
                "\n",
                "**Note:* If you are running this notebook from Watson studio, you may first need to upload your test data to studio and run code snippet to download feedback data file from project to local directory"
            ]
        },
        {
            "cell_type": "markdown",
            "metadata": {
                "id": "477e8506-9a05-4f05-a4ed-756f5ec6c310"
            },
            "source": [
                "The following cell will assess the test data with the subscription of the prompt template asset and produce relevant measurements for the configured monitor."
            ]
        },
        {
            "cell_type": "markdown",
            "metadata": {
                "id": "e00076f8-df3e-4084-96c4-b36fcb33864d"
            },
            "source": [
                "### Test data"
            ]
        },
        {
            "cell_type": "code",
            "execution_count": 21,
            "metadata": {
                "id": "9fdd9499-657b-4681-8db4-3abf57891076"
            },
            "outputs": [
                {
                    "name": "stdout",
                    "output_type": "stream",
                    "text": [
                        "--2024-09-30 12:46:33--  https://raw.githubusercontent.com/IBM/watson-openscale-samples/main/IBM%20Cloud/WML/assets/data/summarization/summarisation.csv\n",
                        "Resolving raw.githubusercontent.com (raw.githubusercontent.com)... 185.199.110.133, 185.199.111.133, 185.199.108.133, ...\n",
                        "Connecting to raw.githubusercontent.com (raw.githubusercontent.com)|185.199.110.133|:443... connected.\n",
                        "HTTP request sent, awaiting response... 200 OK\n",
                        "Length: 27115 (26K) [text/plain]\n",
                        "Saving to: ‘summarisation.csv’\n",
                        "\n",
                        "summarisation.csv   100%[===================>]  26.48K  --.-KB/s    in 0.002s  \n",
                        "\n",
                        "2024-09-30 12:46:33 (11.9 MB/s) - ‘summarisation.csv’ saved [27115/27115]\n",
                        "\n"
                    ]
                }
            ],
            "source": [
                "# Download summarisation data\n",
                "!rm summarisation.csv\n",
                "!wget https://raw.githubusercontent.com/IBM/watson-openscale-samples/main/IBM%20Cloud/WML/assets/data/summarization/summarisation.csv"
            ]
        },
        {
            "cell_type": "code",
            "execution_count": 22,
            "metadata": {
                "id": "5a731031-b850-42b4-89de-0863d2b33fe8"
            },
            "outputs": [
                {
                    "data": {
                        "text/html": [
                            "<div>\n",
                            "<style scoped>\n",
                            "    .dataframe tbody tr th:only-of-type {\n",
                            "        vertical-align: middle;\n",
                            "    }\n",
                            "\n",
                            "    .dataframe tbody tr th {\n",
                            "        vertical-align: top;\n",
                            "    }\n",
                            "\n",
                            "    .dataframe thead th {\n",
                            "        text-align: right;\n",
                            "    }\n",
                            "</style>\n",
                            "<table border=\"1\" class=\"dataframe\">\n",
                            "  <thead>\n",
                            "    <tr style=\"text-align: right;\">\n",
                            "      <th></th>\n",
                            "      <th>doc</th>\n",
                            "      <th>id</th>\n",
                            "      <th>original_text</th>\n",
                            "      <th>reference_summary</th>\n",
                            "      <th>title</th>\n",
                            "      <th>uid</th>\n",
                            "    </tr>\n",
                            "  </thead>\n",
                            "  <tbody>\n",
                            "    <tr>\n",
                            "      <th>0</th>\n",
                            "      <td>Pokemon GO Terms of Service</td>\n",
                            "      <td>57866df76cca83a54c0035a1</td>\n",
                            "      <td>by using our services you are agreeing to thes...</td>\n",
                            "      <td>by playing this game you agree to these terms....</td>\n",
                            "      <td>Agreement To Terms</td>\n",
                            "      <td>legalsum02</td>\n",
                            "    </tr>\n",
                            "    <tr>\n",
                            "      <th>1</th>\n",
                            "      <td>Pokemon GO Terms of Service</td>\n",
                            "      <td>5786730a6cca83a54c0035b6</td>\n",
                            "      <td>if you want to use certain features of the ser...</td>\n",
                            "      <td>you have to use google pokemon trainer club or...</td>\n",
                            "      <td>Eligibility and Account Registration</td>\n",
                            "      <td>legalsum03</td>\n",
                            "    </tr>\n",
                            "    <tr>\n",
                            "      <th>2</th>\n",
                            "      <td>Pokemon GO Terms of Service</td>\n",
                            "      <td>57866df76cca83a54c0035a0</td>\n",
                            "      <td>during game play please be aware of your surro...</td>\n",
                            "      <td>don t die or hurt others and if you do it s no...</td>\n",
                            "      <td>Safe Play</td>\n",
                            "      <td>legalsum04</td>\n",
                            "    </tr>\n",
                            "    <tr>\n",
                            "      <th>3</th>\n",
                            "      <td>Pokemon GO Terms of Service</td>\n",
                            "      <td>57866df76cca83a54c00359f</td>\n",
                            "      <td>subject to your compliance with these terms ni...</td>\n",
                            "      <td>don t copy modify resell distribute or reverse...</td>\n",
                            "      <td>Rights in App</td>\n",
                            "      <td>legalsum05</td>\n",
                            "    </tr>\n",
                            "    <tr>\n",
                            "      <th>4</th>\n",
                            "      <td>Pokemon GO Terms of Service</td>\n",
                            "      <td>57866df76cca83a54c00359e</td>\n",
                            "      <td>for purposes of these terms a content means th...</td>\n",
                            "      <td>we grant you full ownership of your user conte...</td>\n",
                            "      <td>Content and Content Rights</td>\n",
                            "      <td>legalsum06</td>\n",
                            "    </tr>\n",
                            "  </tbody>\n",
                            "</table>\n",
                            "</div>"
                        ],
                        "text/plain": [
                            "                           doc                        id  \\\n",
                            "0  Pokemon GO Terms of Service  57866df76cca83a54c0035a1   \n",
                            "1  Pokemon GO Terms of Service  5786730a6cca83a54c0035b6   \n",
                            "2  Pokemon GO Terms of Service  57866df76cca83a54c0035a0   \n",
                            "3  Pokemon GO Terms of Service  57866df76cca83a54c00359f   \n",
                            "4  Pokemon GO Terms of Service  57866df76cca83a54c00359e   \n",
                            "\n",
                            "                                       original_text  \\\n",
                            "0  by using our services you are agreeing to thes...   \n",
                            "1  if you want to use certain features of the ser...   \n",
                            "2  during game play please be aware of your surro...   \n",
                            "3  subject to your compliance with these terms ni...   \n",
                            "4  for purposes of these terms a content means th...   \n",
                            "\n",
                            "                                   reference_summary  \\\n",
                            "0  by playing this game you agree to these terms....   \n",
                            "1  you have to use google pokemon trainer club or...   \n",
                            "2  don t die or hurt others and if you do it s no...   \n",
                            "3  don t copy modify resell distribute or reverse...   \n",
                            "4  we grant you full ownership of your user conte...   \n",
                            "\n",
                            "                                  title         uid  \n",
                            "0                    Agreement To Terms  legalsum02  \n",
                            "1  Eligibility and Account Registration  legalsum03  \n",
                            "2                             Safe Play  legalsum04  \n",
                            "3                         Rights in App  legalsum05  \n",
                            "4            Content and Content Rights  legalsum06  "
                        ]
                    },
                    "execution_count": 22,
                    "metadata": {},
                    "output_type": "execute_result"
                }
            ],
            "source": [
                "import pandas as pd\n",
                "\n",
                "test_data_path = \"summarisation.csv\"\n",
                "llm_data = pd.read_csv(test_data_path)\n",
                "llm_data.head()"
            ]
        },
        {
            "cell_type": "code",
            "execution_count": 23,
            "metadata": {
                "id": "863ebec3-8df5-4fbf-8dd1-3e7aacdd6092"
            },
            "outputs": [
                {
                    "data": {
                        "text/html": [
                            "<div>\n",
                            "<style scoped>\n",
                            "    .dataframe tbody tr th:only-of-type {\n",
                            "        vertical-align: middle;\n",
                            "    }\n",
                            "\n",
                            "    .dataframe tbody tr th {\n",
                            "        vertical-align: top;\n",
                            "    }\n",
                            "\n",
                            "    .dataframe thead th {\n",
                            "        text-align: right;\n",
                            "    }\n",
                            "</style>\n",
                            "<table border=\"1\" class=\"dataframe\">\n",
                            "  <thead>\n",
                            "    <tr style=\"text-align: right;\">\n",
                            "      <th></th>\n",
                            "      <th>doc</th>\n",
                            "      <th>id</th>\n",
                            "      <th>original_text</th>\n",
                            "      <th>reference_summary</th>\n",
                            "      <th>title</th>\n",
                            "      <th>uid</th>\n",
                            "      <th>generated_text</th>\n",
                            "    </tr>\n",
                            "  </thead>\n",
                            "  <tbody>\n",
                            "    <tr>\n",
                            "      <th>0</th>\n",
                            "      <td>Pokemon GO Terms of Service</td>\n",
                            "      <td>57866df76cca83a54c0035a1</td>\n",
                            "      <td>by using our services you are agreeing to thes...</td>\n",
                            "      <td>by playing this game you agree to these terms....</td>\n",
                            "      <td>Agreement To Terms</td>\n",
                            "      <td>legalsum02</td>\n",
                            "      <td>By using our services, you agree to comply wit...</td>\n",
                            "    </tr>\n",
                            "    <tr>\n",
                            "      <th>1</th>\n",
                            "      <td>Pokemon GO Terms of Service</td>\n",
                            "      <td>5786730a6cca83a54c0035b6</td>\n",
                            "      <td>if you want to use certain features of the ser...</td>\n",
                            "      <td>you have to use google pokemon trainer club or...</td>\n",
                            "      <td>Eligibility and Account Registration</td>\n",
                            "      <td>legalsum03</td>\n",
                            "      <td>To use certain features of the services, users...</td>\n",
                            "    </tr>\n",
                            "    <tr>\n",
                            "      <th>2</th>\n",
                            "      <td>Pokemon GO Terms of Service</td>\n",
                            "      <td>57866df76cca83a54c0035a0</td>\n",
                            "      <td>during game play please be aware of your surro...</td>\n",
                            "      <td>don t die or hurt others and if you do it s no...</td>\n",
                            "      <td>Safe Play</td>\n",
                            "      <td>legalsum04</td>\n",
                            "      <td>When playing the game, be aware of your surrou...</td>\n",
                            "    </tr>\n",
                            "    <tr>\n",
                            "      <th>3</th>\n",
                            "      <td>Pokemon GO Terms of Service</td>\n",
                            "      <td>57866df76cca83a54c00359f</td>\n",
                            "      <td>subject to your compliance with these terms ni...</td>\n",
                            "      <td>don t copy modify resell distribute or reverse...</td>\n",
                            "      <td>Rights in App</td>\n",
                            "      <td>legalsum05</td>\n",
                            "      <td>Niantic provides you with a limited, nonexclus...</td>\n",
                            "    </tr>\n",
                            "    <tr>\n",
                            "      <th>4</th>\n",
                            "      <td>Pokemon GO Terms of Service</td>\n",
                            "      <td>57866df76cca83a54c00359e</td>\n",
                            "      <td>for purposes of these terms a content means th...</td>\n",
                            "      <td>we grant you full ownership of your user conte...</td>\n",
                            "      <td>Content and Content Rights</td>\n",
                            "      <td>legalsum06</td>\n",
                            "      <td>The text outlines the terms related to content...</td>\n",
                            "    </tr>\n",
                            "  </tbody>\n",
                            "</table>\n",
                            "</div>"
                        ],
                        "text/plain": [
                            "                           doc                        id  \\\n",
                            "0  Pokemon GO Terms of Service  57866df76cca83a54c0035a1   \n",
                            "1  Pokemon GO Terms of Service  5786730a6cca83a54c0035b6   \n",
                            "2  Pokemon GO Terms of Service  57866df76cca83a54c0035a0   \n",
                            "3  Pokemon GO Terms of Service  57866df76cca83a54c00359f   \n",
                            "4  Pokemon GO Terms of Service  57866df76cca83a54c00359e   \n",
                            "\n",
                            "                                       original_text  \\\n",
                            "0  by using our services you are agreeing to thes...   \n",
                            "1  if you want to use certain features of the ser...   \n",
                            "2  during game play please be aware of your surro...   \n",
                            "3  subject to your compliance with these terms ni...   \n",
                            "4  for purposes of these terms a content means th...   \n",
                            "\n",
                            "                                   reference_summary  \\\n",
                            "0  by playing this game you agree to these terms....   \n",
                            "1  you have to use google pokemon trainer club or...   \n",
                            "2  don t die or hurt others and if you do it s no...   \n",
                            "3  don t copy modify resell distribute or reverse...   \n",
                            "4  we grant you full ownership of your user conte...   \n",
                            "\n",
                            "                                  title         uid  \\\n",
                            "0                    Agreement To Terms  legalsum02   \n",
                            "1  Eligibility and Account Registration  legalsum03   \n",
                            "2                             Safe Play  legalsum04   \n",
                            "3                         Rights in App  legalsum05   \n",
                            "4            Content and Content Rights  legalsum06   \n",
                            "\n",
                            "                                      generated_text  \n",
                            "0  By using our services, you agree to comply wit...  \n",
                            "1  To use certain features of the services, users...  \n",
                            "2  When playing the game, be aware of your surrou...  \n",
                            "3  Niantic provides you with a limited, nonexclus...  \n",
                            "4  The text outlines the terms related to content...  "
                        ]
                    },
                    "execution_count": 23,
                    "metadata": {},
                    "output_type": "execute_result"
                }
            ],
            "source": [
                "llm_data[\"generated_text\"] = llm_data['original_text'].apply(generate_summary)\n",
                "llm_data.head()"
            ]
        },
        {
            "cell_type": "code",
            "execution_count": 28,
            "metadata": {
                "id": "07e04fc7-93c1-4c2c-8d6b-2e4d3c3ad822"
            },
            "outputs": [
                {
                    "name": "stdout",
                    "output_type": "stream",
                    "text": [
                        "\n",
                        "\n",
                        "=================================================================================\n",
                        "\n",
                        " Waiting for risk evaluation of MRM monitor 4e73b376-ea7b-4c2c-a271-f23e66b89b6b \n",
                        "\n",
                        "=================================================================================\n",
                        "\n",
                        "\n",
                        "\n",
                        "upload_in_progress.\n",
                        "running...\n",
                        "finished\n",
                        "\n",
                        "---------------------------------------\n",
                        " Successfully finished evaluating risk \n",
                        "---------------------------------------\n",
                        "\n",
                        "\n"
                    ]
                }
            ],
            "source": [
                "test_data_set_name = \"data\"\n",
                "content_type = \"multipart/form-data\"\n",
                "body = {}\n",
                "# Preparing the test data, removing extra columns\n",
                "cols_to_remove = [\"uid\", \"doc\", \"title\", \"id\"]\n",
                "for col in cols_to_remove:\n",
                "    if col in llm_data:\n",
                "        del llm_data[col]\n",
                "llm_data.to_csv(test_data_path, index=False)\n",
                "\n",
                "response  = wos_client.monitor_instances.mrm.evaluate_risk(\n",
                "    monitor_instance_id=mrm_monitor_instance_id,\n",
                "    test_data_set_name=test_data_set_name, \n",
                "    test_data_path=test_data_path,\n",
                "    content_type=content_type,\n",
                "    body=body,\n",
                "    project_id=PROJECT_ID,\n",
                "    includes_model_output=True,\n",
                "    background_mode=False\n",
                ")"
            ]
        },
        {
            "cell_type": "markdown",
            "metadata": {
                "id": "addc5251-3931-41b6-a389-6a6c4b433028"
            },
            "source": [
                "### Read the risk evaluation response\n",
                "\n",
                "After initiating the risk evaluation, the evaluation results are now available for review"
            ]
        },
        {
            "cell_type": "code",
            "execution_count": 29,
            "metadata": {
                "id": "565c4fcd-7e77-4de9-9517-bd52edb18d52"
            },
            "outputs": [
                {
                    "data": {
                        "text/plain": [
                            "{'metadata': {'id': 'c0f8e7f6-9788-4d2a-ae28-632401fcc0c0',\n",
                            "  'created_at': '2024-09-30T12:48:50.217Z',\n",
                            "  'created_by': 'iam-ServiceId-b317a8da-d926-496e-b0ca-6bcc57f556ae'},\n",
                            " 'entity': {'triggered_by': 'user',\n",
                            "  'parameters': {'evaluation_start_time': '2024-09-30T12:48:36.581609Z',\n",
                            "   'evaluator_user_key': 'df42666b-3476-4f24-8018-600507ae525b',\n",
                            "   'facts': {'state': 'finished'},\n",
                            "   'is_auto_evaluated': False,\n",
                            "   'measurement_id': '535753e1-e857-4184-93d2-dbbd5a245e56',\n",
                            "   'project_id': 'a3d21fd6-7b82-4d1e-bacb-0d052f7b6473',\n",
                            "   'prompt_template_asset_id': 'abfc71af-aa94-4109-b8e8-5b3fe1e1121b',\n",
                            "   'user_iam_id': 'IBMid-696000272R',\n",
                            "   'wos_created_deployment_id': '9bb7913b-0eb7-4648-8357-c1993305ddc1',\n",
                            "   'publish_metrics': 'false',\n",
                            "   'evaluation_tests': ['drift_v2',\n",
                            "    'fairness',\n",
                            "    'generative_ai_quality',\n",
                            "    'model_health',\n",
                            "    'quality']},\n",
                            "  'status': {'state': 'finished',\n",
                            "   'queued_at': '2024-09-30T12:48:50.192000Z',\n",
                            "   'started_at': '2024-09-30T12:48:50.854000Z',\n",
                            "   'updated_at': '2024-09-30T12:49:23.992000Z',\n",
                            "   'completed_at': '2024-09-30T12:49:20.927000Z',\n",
                            "   'message': 'Mrm evaluation complete.',\n",
                            "   'operators': []}}}"
                        ]
                    },
                    "execution_count": 29,
                    "metadata": {},
                    "output_type": "execute_result"
                }
            ],
            "source": [
                "response  = wos_client.monitor_instances.mrm.get_risk_evaluation(mrm_monitor_instance_id, project_id=PROJECT_ID)\n",
                "response.result.to_dict()"
            ]
        },
        {
            "cell_type": "markdown",
            "metadata": {
                "id": "c58e0314-0a54-4dfd-89f9-0c268a57ed69"
            },
            "source": [
                "# Display the Model Risk metrics <a name=\"mrmmetric\"></a>\n",
                "\n",
                "Having calculated the measurements for the Foundation Model subscription, the MRM metrics generated for this subscription are now available for your review."
            ]
        },
        {
            "cell_type": "code",
            "execution_count": 30,
            "metadata": {
                "id": "d4bd50cb-1132-43ee-86a1-efa12f5d6a61"
            },
            "outputs": [
                {
                    "data": {
                        "text/html": [
                            "<HTML>\n",
                            "        <body>\n",
                            "            <h3>4e73b376-ea7b-4c2c-a271-f23e66b89b6b Monitor Runs Metrics from: 2024-09-23 12:50:11.525148  till: 2024-09-30 12:50:11.525158</h3>\n",
                            "            <table style='border: 1px solid #dddddd; font-family: Courier'>\n",
                            "                <th style='border: 1px solid #dddddd'>ts</th><th style='border: 1px solid #dddddd'>id</th><th style='border: 1px solid #dddddd'>measurement_id</th><th style='border: 1px solid #dddddd'>value</th><th style='border: 1px solid #dddddd'>lower_limit</th><th style='border: 1px solid #dddddd'>upper_limit</th><th style='border: 1px solid #dddddd'>tags</th><th style='border: 1px solid #dddddd'>monitor_definition_id</th><th style='border: 1px solid #dddddd'>monitor_instance_id</th><th style='border: 1px solid #dddddd'>run_id</th><th style='border: 1px solid #dddddd'>target_type</th><th style='border: 1px solid #dddddd'>target_id</th>\n",
                            "                <tr><td style='border: 1px solid #dddddd'>2024-09-30 12:48:50.316000+00:00</td><td style='border: 1px solid #dddddd'>tests_passed</td><td style='border: 1px solid #dddddd'>535753e1-e857-4184-93d2-dbbd5a245e56</td><td style='border: 1px solid #dddddd'>1.0</td><td style='border: 1px solid #dddddd'>None</td><td style='border: 1px solid #dddddd'>None</td><td style='border: 1px solid #dddddd'>['test_data_set_name:data']</td><td style='border: 1px solid #dddddd'>mrm</td><td style='border: 1px solid #dddddd'>4e73b376-ea7b-4c2c-a271-f23e66b89b6b</td><td style='border: 1px solid #dddddd'>c0f8e7f6-9788-4d2a-ae28-632401fcc0c0</td><td style='border: 1px solid #dddddd'>subscription</td><td style='border: 1px solid #dddddd'>9e9427c7-ff54-4aff-871d-0d002ab4ae7b</td></tr><tr><td style='border: 1px solid #dddddd'>2024-09-30 12:48:50.316000+00:00</td><td style='border: 1px solid #dddddd'>tests_run</td><td style='border: 1px solid #dddddd'>535753e1-e857-4184-93d2-dbbd5a245e56</td><td style='border: 1px solid #dddddd'>1.0</td><td style='border: 1px solid #dddddd'>None</td><td style='border: 1px solid #dddddd'>None</td><td style='border: 1px solid #dddddd'>['test_data_set_name:data']</td><td style='border: 1px solid #dddddd'>mrm</td><td style='border: 1px solid #dddddd'>4e73b376-ea7b-4c2c-a271-f23e66b89b6b</td><td style='border: 1px solid #dddddd'>c0f8e7f6-9788-4d2a-ae28-632401fcc0c0</td><td style='border: 1px solid #dddddd'>subscription</td><td style='border: 1px solid #dddddd'>9e9427c7-ff54-4aff-871d-0d002ab4ae7b</td></tr><tr><td style='border: 1px solid #dddddd'>2024-09-30 12:48:50.316000+00:00</td><td style='border: 1px solid #dddddd'>tests_skipped</td><td style='border: 1px solid #dddddd'>535753e1-e857-4184-93d2-dbbd5a245e56</td><td style='border: 1px solid #dddddd'>3.0</td><td style='border: 1px solid #dddddd'>None</td><td style='border: 1px solid #dddddd'>None</td><td style='border: 1px solid #dddddd'>['test_data_set_name:data']</td><td style='border: 1px solid #dddddd'>mrm</td><td style='border: 1px solid #dddddd'>4e73b376-ea7b-4c2c-a271-f23e66b89b6b</td><td style='border: 1px solid #dddddd'>c0f8e7f6-9788-4d2a-ae28-632401fcc0c0</td><td style='border: 1px solid #dddddd'>subscription</td><td style='border: 1px solid #dddddd'>9e9427c7-ff54-4aff-871d-0d002ab4ae7b</td></tr><tr><td style='border: 1px solid #dddddd'>2024-09-30 12:48:50.316000+00:00</td><td style='border: 1px solid #dddddd'>tests_failed</td><td style='border: 1px solid #dddddd'>535753e1-e857-4184-93d2-dbbd5a245e56</td><td style='border: 1px solid #dddddd'>0.0</td><td style='border: 1px solid #dddddd'>None</td><td style='border: 1px solid #dddddd'>None</td><td style='border: 1px solid #dddddd'>['test_data_set_name:data']</td><td style='border: 1px solid #dddddd'>mrm</td><td style='border: 1px solid #dddddd'>4e73b376-ea7b-4c2c-a271-f23e66b89b6b</td><td style='border: 1px solid #dddddd'>c0f8e7f6-9788-4d2a-ae28-632401fcc0c0</td><td style='border: 1px solid #dddddd'>subscription</td><td style='border: 1px solid #dddddd'>9e9427c7-ff54-4aff-871d-0d002ab4ae7b</td></tr>\n",
                            "            </table>\n",
                            "        </body>\n",
                            "        </HTML>"
                        ],
                        "text/plain": [
                            "<IPython.core.display.HTML object>"
                        ]
                    },
                    "metadata": {},
                    "output_type": "display_data"
                }
            ],
            "source": [
                "wos_client.monitor_instances.show_metrics(monitor_instance_id=mrm_monitor_instance_id, project_id=PROJECT_ID)"
            ]
        },
        {
            "cell_type": "markdown",
            "metadata": {
                "id": "66a6cefc-39a8-4709-8a31-07250fed5a9d"
            },
            "source": [
                "# Display the Generative AI Quality metrics <a name=\"genaimetrics\"></a>"
            ]
        },
        {
            "cell_type": "markdown",
            "metadata": {
                "id": "76c7d1d9-b050-400a-9f80-d2c29327300a"
            },
            "source": [
                "\n",
                "\n",
                "Monitor instance ID of Generative ai quality metrics is required for reading its metrics."
            ]
        },
        {
            "cell_type": "code",
            "execution_count": 31,
            "metadata": {
                "id": "9c908f24-fa28-46d7-ba7e-b8807499ea4c"
            },
            "outputs": [
                {
                    "data": {
                        "text/plain": [
                            "'7732c42a-a26c-428e-a78c-98295c2cf44c'"
                        ]
                    },
                    "execution_count": 31,
                    "metadata": {},
                    "output_type": "execute_result"
                }
            ],
            "source": [
                "monitor_definition_id = \"generative_ai_quality\"\n",
                "result = wos_client.monitor_instances.list(\n",
                "    data_mart_id=data_mart_id,\n",
                "    monitor_definition_id=monitor_definition_id,\n",
                "    target_target_id=subscription_id,\n",
                "    project_id=PROJECT_ID\n",
                ").result\n",
                "result_json = result._to_dict()\n",
                "genaiquality_monitor_id = result_json[\"monitor_instances\"][0][\"metadata\"][\"id\"]\n",
                "genaiquality_monitor_id"
            ]
        },
        {
            "cell_type": "markdown",
            "metadata": {
                "id": "48886b40-aba5-4249-8468-4d80addf0b24"
            },
            "source": [
                "Displaying the GenAIQ monitor metrics generated through the risk evaluation."
            ]
        },
        {
            "cell_type": "code",
            "execution_count": 32,
            "metadata": {
                "id": "5ca2d329-c876-4a60-a2bd-407a32c2f09a"
            },
            "outputs": [
                {
                    "data": {
                        "text/html": [
                            "<HTML>\n",
                            "        <body>\n",
                            "            <h3>7732c42a-a26c-428e-a78c-98295c2cf44c Monitor Runs Metrics from: 2024-09-23 12:50:22.866256  till: 2024-09-30 12:50:22.866263</h3>\n",
                            "            <table style='border: 1px solid #dddddd; font-family: Courier'>\n",
                            "                <th style='border: 1px solid #dddddd'>ts</th><th style='border: 1px solid #dddddd'>id</th><th style='border: 1px solid #dddddd'>measurement_id</th><th style='border: 1px solid #dddddd'>value</th><th style='border: 1px solid #dddddd'>lower_limit</th><th style='border: 1px solid #dddddd'>upper_limit</th><th style='border: 1px solid #dddddd'>tags</th><th style='border: 1px solid #dddddd'>monitor_definition_id</th><th style='border: 1px solid #dddddd'>monitor_instance_id</th><th style='border: 1px solid #dddddd'>run_id</th><th style='border: 1px solid #dddddd'>target_type</th><th style='border: 1px solid #dddddd'>target_id</th>\n",
                            "                <tr><td style='border: 1px solid #dddddd'>2024-09-30 12:49:16.254532+00:00</td><td style='border: 1px solid #dddddd'>flesch_reading_ease</td><td style='border: 1px solid #dddddd'>cc1d32c0-5bcc-478d-8d7d-2192b28b38ea</td><td style='border: 1px solid #dddddd'>44.932</td><td style='border: 1px solid #dddddd'>None</td><td style='border: 1px solid #dddddd'>None</td><td style='border: 1px solid #dddddd'>['computed_on:feedback', 'field_type:subscription', 'aggregation_type:mean']</td><td style='border: 1px solid #dddddd'>generative_ai_quality</td><td style='border: 1px solid #dddddd'>7732c42a-a26c-428e-a78c-98295c2cf44c</td><td style='border: 1px solid #dddddd'>979bbb42-52fa-4b7e-998d-7aada31b3693</td><td style='border: 1px solid #dddddd'>subscription</td><td style='border: 1px solid #dddddd'>9e9427c7-ff54-4aff-871d-0d002ab4ae7b</td></tr><tr><td style='border: 1px solid #dddddd'>2024-09-30 12:49:16.254532+00:00</td><td style='border: 1px solid #dddddd'>normalized_recall</td><td style='border: 1px solid #dddddd'>cc1d32c0-5bcc-478d-8d7d-2192b28b38ea</td><td style='border: 1px solid #dddddd'>0.3581</td><td style='border: 1px solid #dddddd'>None</td><td style='border: 1px solid #dddddd'>None</td><td style='border: 1px solid #dddddd'>['computed_on:feedback', 'field_type:subscription', 'aggregation_type:mean']</td><td style='border: 1px solid #dddddd'>generative_ai_quality</td><td style='border: 1px solid #dddddd'>7732c42a-a26c-428e-a78c-98295c2cf44c</td><td style='border: 1px solid #dddddd'>979bbb42-52fa-4b7e-998d-7aada31b3693</td><td style='border: 1px solid #dddddd'>subscription</td><td style='border: 1px solid #dddddd'>9e9427c7-ff54-4aff-871d-0d002ab4ae7b</td></tr><tr><td style='border: 1px solid #dddddd'>2024-09-30 12:49:16.254532+00:00</td><td style='border: 1px solid #dddddd'>rouge2</td><td style='border: 1px solid #dddddd'>cc1d32c0-5bcc-478d-8d7d-2192b28b38ea</td><td style='border: 1px solid #dddddd'>0.0312</td><td style='border: 1px solid #dddddd'>None</td><td style='border: 1px solid #dddddd'>None</td><td style='border: 1px solid #dddddd'>['computed_on:feedback', 'field_type:subscription', 'aggregation_type:mean']</td><td style='border: 1px solid #dddddd'>generative_ai_quality</td><td style='border: 1px solid #dddddd'>7732c42a-a26c-428e-a78c-98295c2cf44c</td><td style='border: 1px solid #dddddd'>979bbb42-52fa-4b7e-998d-7aada31b3693</td><td style='border: 1px solid #dddddd'>subscription</td><td style='border: 1px solid #dddddd'>9e9427c7-ff54-4aff-871d-0d002ab4ae7b</td></tr><tr><td style='border: 1px solid #dddddd'>2024-09-30 12:49:16.254532+00:00</td><td style='border: 1px solid #dddddd'>records_processed</td><td style='border: 1px solid #dddddd'>cc1d32c0-5bcc-478d-8d7d-2192b28b38ea</td><td style='border: 1px solid #dddddd'>10.0</td><td style='border: 1px solid #dddddd'>None</td><td style='border: 1px solid #dddddd'>None</td><td style='border: 1px solid #dddddd'>['computed_on:feedback', 'field_type:subscription', 'aggregation_type:mean']</td><td style='border: 1px solid #dddddd'>generative_ai_quality</td><td style='border: 1px solid #dddddd'>7732c42a-a26c-428e-a78c-98295c2cf44c</td><td style='border: 1px solid #dddddd'>979bbb42-52fa-4b7e-998d-7aada31b3693</td><td style='border: 1px solid #dddddd'>subscription</td><td style='border: 1px solid #dddddd'>9e9427c7-ff54-4aff-871d-0d002ab4ae7b</td></tr><tr><td style='border: 1px solid #dddddd'>2024-09-30 12:49:16.254532+00:00</td><td style='border: 1px solid #dddddd'>jaccard_similarity</td><td style='border: 1px solid #dddddd'>cc1d32c0-5bcc-478d-8d7d-2192b28b38ea</td><td style='border: 1px solid #dddddd'>0.0797</td><td style='border: 1px solid #dddddd'>None</td><td style='border: 1px solid #dddddd'>None</td><td style='border: 1px solid #dddddd'>['computed_on:feedback', 'field_type:subscription', 'aggregation_type:mean']</td><td style='border: 1px solid #dddddd'>generative_ai_quality</td><td style='border: 1px solid #dddddd'>7732c42a-a26c-428e-a78c-98295c2cf44c</td><td style='border: 1px solid #dddddd'>979bbb42-52fa-4b7e-998d-7aada31b3693</td><td style='border: 1px solid #dddddd'>subscription</td><td style='border: 1px solid #dddddd'>9e9427c7-ff54-4aff-871d-0d002ab4ae7b</td></tr><tr><td style='border: 1px solid #dddddd'>2024-09-30 12:49:16.254532+00:00</td><td style='border: 1px solid #dddddd'>meteor</td><td style='border: 1px solid #dddddd'>cc1d32c0-5bcc-478d-8d7d-2192b28b38ea</td><td style='border: 1px solid #dddddd'>0.2057</td><td style='border: 1px solid #dddddd'>None</td><td style='border: 1px solid #dddddd'>None</td><td style='border: 1px solid #dddddd'>['computed_on:feedback', 'field_type:subscription', 'aggregation_type:mean']</td><td style='border: 1px solid #dddddd'>generative_ai_quality</td><td style='border: 1px solid #dddddd'>7732c42a-a26c-428e-a78c-98295c2cf44c</td><td style='border: 1px solid #dddddd'>979bbb42-52fa-4b7e-998d-7aada31b3693</td><td style='border: 1px solid #dddddd'>subscription</td><td style='border: 1px solid #dddddd'>9e9427c7-ff54-4aff-871d-0d002ab4ae7b</td></tr><tr><td style='border: 1px solid #dddddd'>2024-09-30 12:49:16.254532+00:00</td><td style='border: 1px solid #dddddd'>rougelsum</td><td style='border: 1px solid #dddddd'>cc1d32c0-5bcc-478d-8d7d-2192b28b38ea</td><td style='border: 1px solid #dddddd'>0.1159</td><td style='border: 1px solid #dddddd'>None</td><td style='border: 1px solid #dddddd'>None</td><td style='border: 1px solid #dddddd'>['computed_on:feedback', 'field_type:subscription', 'aggregation_type:mean']</td><td style='border: 1px solid #dddddd'>generative_ai_quality</td><td style='border: 1px solid #dddddd'>7732c42a-a26c-428e-a78c-98295c2cf44c</td><td style='border: 1px solid #dddddd'>979bbb42-52fa-4b7e-998d-7aada31b3693</td><td style='border: 1px solid #dddddd'>subscription</td><td style='border: 1px solid #dddddd'>9e9427c7-ff54-4aff-871d-0d002ab4ae7b</td></tr><tr><td style='border: 1px solid #dddddd'>2024-09-30 12:49:16.254532+00:00</td><td style='border: 1px solid #dddddd'>normalized_precision</td><td style='border: 1px solid #dddddd'>cc1d32c0-5bcc-478d-8d7d-2192b28b38ea</td><td style='border: 1px solid #dddddd'>0.0855</td><td style='border: 1px solid #dddddd'>None</td><td style='border: 1px solid #dddddd'>None</td><td style='border: 1px solid #dddddd'>['computed_on:feedback', 'field_type:subscription', 'aggregation_type:mean']</td><td style='border: 1px solid #dddddd'>generative_ai_quality</td><td style='border: 1px solid #dddddd'>7732c42a-a26c-428e-a78c-98295c2cf44c</td><td style='border: 1px solid #dddddd'>979bbb42-52fa-4b7e-998d-7aada31b3693</td><td style='border: 1px solid #dddddd'>subscription</td><td style='border: 1px solid #dddddd'>9e9427c7-ff54-4aff-871d-0d002ab4ae7b</td></tr><tr><td style='border: 1px solid #dddddd'>2024-09-30 12:49:16.254532+00:00</td><td style='border: 1px solid #dddddd'>bleu</td><td style='border: 1px solid #dddddd'>cc1d32c0-5bcc-478d-8d7d-2192b28b38ea</td><td style='border: 1px solid #dddddd'>0.0075</td><td style='border: 1px solid #dddddd'>None</td><td style='border: 1px solid #dddddd'>None</td><td style='border: 1px solid #dddddd'>['computed_on:feedback', 'field_type:subscription', 'aggregation_type:mean']</td><td style='border: 1px solid #dddddd'>generative_ai_quality</td><td style='border: 1px solid #dddddd'>7732c42a-a26c-428e-a78c-98295c2cf44c</td><td style='border: 1px solid #dddddd'>979bbb42-52fa-4b7e-998d-7aada31b3693</td><td style='border: 1px solid #dddddd'>subscription</td><td style='border: 1px solid #dddddd'>9e9427c7-ff54-4aff-871d-0d002ab4ae7b</td></tr><tr><td style='border: 1px solid #dddddd'>2024-09-30 12:49:16.254532+00:00</td><td style='border: 1px solid #dddddd'>normalized_f1</td><td style='border: 1px solid #dddddd'>cc1d32c0-5bcc-478d-8d7d-2192b28b38ea</td><td style='border: 1px solid #dddddd'>0.1331</td><td style='border: 1px solid #dddddd'>None</td><td style='border: 1px solid #dddddd'>None</td><td style='border: 1px solid #dddddd'>['computed_on:feedback', 'field_type:subscription', 'aggregation_type:mean']</td><td style='border: 1px solid #dddddd'>generative_ai_quality</td><td style='border: 1px solid #dddddd'>7732c42a-a26c-428e-a78c-98295c2cf44c</td><td style='border: 1px solid #dddddd'>979bbb42-52fa-4b7e-998d-7aada31b3693</td><td style='border: 1px solid #dddddd'>subscription</td><td style='border: 1px solid #dddddd'>9e9427c7-ff54-4aff-871d-0d002ab4ae7b</td></tr>\n",
                            "            </table>\n",
                            "        </body>\n",
                            "        </HTML>"
                        ],
                        "text/plain": [
                            "<IPython.core.display.HTML object>"
                        ]
                    },
                    "metadata": {},
                    "output_type": "display_data"
                },
                {
                    "name": "stdout",
                    "output_type": "stream",
                    "text": [
                        "Note: First 10 records were displayed.\n"
                    ]
                }
            ],
            "source": [
                "wos_client.monitor_instances.show_metrics(monitor_instance_id=genaiquality_monitor_id, project_id=PROJECT_ID)"
            ]
        },
        {
            "cell_type": "markdown",
            "metadata": {
                "id": "4c1ef306-05bf-4783-8364-30a079580f1f"
            },
            "source": [
                "## Display record level metrics for Generative AI Quality "
            ]
        },
        {
            "cell_type": "markdown",
            "metadata": {
                "id": "27d41c59-d679-4545-85a8-9c3ece486686"
            },
            "source": [
                "Read the dataset id for generative ai quality dataset"
            ]
        },
        {
            "cell_type": "code",
            "execution_count": 33,
            "metadata": {
                "id": "f5a43371-e9c3-4f07-9aee-5c3bfc041bce"
            },
            "outputs": [
                {
                    "data": {
                        "text/plain": [
                            "'c2ccaa4a-0f0b-4e8e-b1f8-32768e78f743'"
                        ]
                    },
                    "execution_count": 33,
                    "metadata": {},
                    "output_type": "execute_result"
                }
            ],
            "source": [
                "result = wos_client.data_sets.list(\n",
                "    target_target_id=subscription_id,\n",
                "    target_target_type=\"subscription\",\n",
                "    type=\"gen_ai_quality_metrics\"\n",
                ").result\n",
                "\n",
                "genaiq_dataset_id = result.data_sets[0].metadata.id\n",
                "genaiq_dataset_id"
            ]
        },
        {
            "cell_type": "markdown",
            "metadata": {
                "id": "86cc4427-8ad6-4357-a6c7-a09ac54d5485"
            },
            "source": [
                "Displaying record level metrics for generative ai quality"
            ]
        },
        {
            "cell_type": "code",
            "execution_count": 34,
            "metadata": {
                "id": "9e60d542-9530-40f4-9bb4-a961c18fc605"
            },
            "outputs": [
                {
                    "data": {
                        "text/html": [
                            "<HTML>\n",
                            "        <body>\n",
                            "            <h3>Data Set c2ccaa4a-0f0b-4e8e-b1f8-32768e78f743 Records</h3>\n",
                            "            <table style='border: 1px solid #dddddd; font-family: Courier'>\n",
                            "                <th style='border: 1px solid #dddddd'>flesch_reading_ease</th><th style='border: 1px solid #dddddd'>normalized_recall</th><th style='border: 1px solid #dddddd'>hap_input_score</th><th style='border: 1px solid #dddddd'>rouge2</th><th style='border: 1px solid #dddddd'>pii_entities</th><th style='border: 1px solid #dddddd'>scoring_id</th><th style='border: 1px solid #dddddd'>jaccard_similarity</th><th style='border: 1px solid #dddddd'>computed_on</th><th style='border: 1px solid #dddddd'>scoring_timestamp</th><th style='border: 1px solid #dddddd'>meteor</th><th style='border: 1px solid #dddddd'>rougelsum</th><th style='border: 1px solid #dddddd'>hap_score</th><th style='border: 1px solid #dddddd'>pii_input_entities</th><th style='border: 1px solid #dddddd'>pii</th><th style='border: 1px solid #dddddd'>normalized_precision</th><th style='border: 1px solid #dddddd'>hap_input_score_entities</th><th style='border: 1px solid #dddddd'>hap_score_positions</th><th style='border: 1px solid #dddddd'>bleu</th><th style='border: 1px solid #dddddd'>run_id</th><th style='border: 1px solid #dddddd'>normalized_f1</th><th style='border: 1px solid #dddddd'>pii_input_positions</th><th style='border: 1px solid #dddddd'>pii_positions</th><th style='border: 1px solid #dddddd'>rougel</th><th style='border: 1px solid #dddddd'>sari</th><th style='border: 1px solid #dddddd'>cosine_similarity</th><th style='border: 1px solid #dddddd'>hap_score_entities</th><th style='border: 1px solid #dddddd'>pii_input</th><th style='border: 1px solid #dddddd'>hap_input_score_positions</th><th style='border: 1px solid #dddddd'>rouge1</th>\n",
                            "                <tr><td style='border: 1px solid #dddddd'>66.37</td><td style='border: 1px solid #dddddd'>0.6956521739130435</td><td style='border: 1px solid #dddddd'>None</td><td style='border: 1px solid #dddddd'>0.122</td><td style='border: 1px solid #dddddd'>None</td><td style='border: 1px solid #dddddd'>MRM_99bcb7da-b65e-49ac-8a2f-a0e70d2454db-0</td><td style='border: 1px solid #dddddd'>0.23529411764705882</td><td style='border: 1px solid #dddddd'>feedback</td><td style='border: 1px solid #dddddd'>2024-09-30T12:48:39.335Z</td><td style='border: 1px solid #dddddd'>0.43983068666977515</td><td style='border: 1px solid #dddddd'>0.2857</td><td style='border: 1px solid #dddddd'>None</td><td style='border: 1px solid #dddddd'>None</td><td style='border: 1px solid #dddddd'>None</td><td style='border: 1px solid #dddddd'>0.26229508196721313</td><td style='border: 1px solid #dddddd'>None</td><td style='border: 1px solid #dddddd'>None</td><td style='border: 1px solid #dddddd'>0.0</td><td style='border: 1px solid #dddddd'>979bbb42-52fa-4b7e-998d-7aada31b3693</td><td style='border: 1px solid #dddddd'>0.38095238095238093</td><td style='border: 1px solid #dddddd'>None</td><td style='border: 1px solid #dddddd'>None</td><td style='border: 1px solid #dddddd'>0.2619</td><td style='border: 1px solid #dddddd'>37.42649374600632</td><td style='border: 1px solid #dddddd'>0.34292349589118565</td><td style='border: 1px solid #dddddd'>None</td><td style='border: 1px solid #dddddd'>None</td><td style='border: 1px solid #dddddd'>None</td><td style='border: 1px solid #dddddd'>0.381</td></tr><tr><td style='border: 1px solid #dddddd'>36.89</td><td style='border: 1px solid #dddddd'>0.41025641025641024</td><td style='border: 1px solid #dddddd'>None</td><td style='border: 1px solid #dddddd'>0.04</td><td style='border: 1px solid #dddddd'>None</td><td style='border: 1px solid #dddddd'>MRM_99bcb7da-b65e-49ac-8a2f-a0e70d2454db-1</td><td style='border: 1px solid #dddddd'>0.09482758620689655</td><td style='border: 1px solid #dddddd'>feedback</td><td style='border: 1px solid #dddddd'>2024-09-30T12:48:39.335Z</td><td style='border: 1px solid #dddddd'>0.25380721706468895</td><td style='border: 1px solid #dddddd'>0.1711</td><td style='border: 1px solid #dddddd'>None</td><td style='border: 1px solid #dddddd'>None</td><td style='border: 1px solid #dddddd'>None</td><td style='border: 1px solid #dddddd'>0.1415929203539823</td><td style='border: 1px solid #dddddd'>None</td><td style='border: 1px solid #dddddd'>None</td><td style='border: 1px solid #dddddd'>0.0</td><td style='border: 1px solid #dddddd'>979bbb42-52fa-4b7e-998d-7aada31b3693</td><td style='border: 1px solid #dddddd'>0.21052631578947367</td><td style='border: 1px solid #dddddd'>None</td><td style='border: 1px solid #dddddd'>None</td><td style='border: 1px solid #dddddd'>0.1447</td><td style='border: 1px solid #dddddd'>36.17335776942123</td><td style='border: 1px solid #dddddd'>0.20076633074937245</td><td style='border: 1px solid #dddddd'>None</td><td style='border: 1px solid #dddddd'>None</td><td style='border: 1px solid #dddddd'>None</td><td style='border: 1px solid #dddddd'>0.2105</td></tr><tr><td style='border: 1px solid #dddddd'>43.53</td><td style='border: 1px solid #dddddd'>0.3333333333333333</td><td style='border: 1px solid #dddddd'>None</td><td style='border: 1px solid #dddddd'>0.0</td><td style='border: 1px solid #dddddd'>None</td><td style='border: 1px solid #dddddd'>MRM_99bcb7da-b65e-49ac-8a2f-a0e70d2454db-2</td><td style='border: 1px solid #dddddd'>0.05952380952380952</td><td style='border: 1px solid #dddddd'>feedback</td><td style='border: 1px solid #dddddd'>2024-09-30T12:48:39.335Z</td><td style='border: 1px solid #dddddd'>0.1895619908042269</td><td style='border: 1px solid #dddddd'>0.0561</td><td style='border: 1px solid #dddddd'>None</td><td style='border: 1px solid #dddddd'>None</td><td style='border: 1px solid #dddddd'>None</td><td style='border: 1px solid #dddddd'>0.05434782608695652</td><td style='border: 1px solid #dddddd'>None</td><td style='border: 1px solid #dddddd'>None</td><td style='border: 1px solid #dddddd'>0.0</td><td style='border: 1px solid #dddddd'>979bbb42-52fa-4b7e-998d-7aada31b3693</td><td style='border: 1px solid #dddddd'>0.09345794392523363</td><td style='border: 1px solid #dddddd'>None</td><td style='border: 1px solid #dddddd'>None</td><td style='border: 1px solid #dddddd'>0.0561</td><td style='border: 1px solid #dddddd'>34.36369193261337</td><td style='border: 1px solid #dddddd'>0.1658762443510568</td><td style='border: 1px solid #dddddd'>None</td><td style='border: 1px solid #dddddd'>None</td><td style='border: 1px solid #dddddd'>None</td><td style='border: 1px solid #dddddd'>0.0935</td></tr><tr><td style='border: 1px solid #dddddd'>48.74</td><td style='border: 1px solid #dddddd'>0.6363636363636364</td><td style='border: 1px solid #dddddd'>None</td><td style='border: 1px solid #dddddd'>0.0545</td><td style='border: 1px solid #dddddd'>None</td><td style='border: 1px solid #dddddd'>MRM_99bcb7da-b65e-49ac-8a2f-a0e70d2454db-3</td><td style='border: 1px solid #dddddd'>0.05952380952380952</td><td style='border: 1px solid #dddddd'>feedback</td><td style='border: 1px solid #dddddd'>2024-09-30T12:48:39.335Z</td><td style='border: 1px solid #dddddd'>0.21984762396694216</td><td style='border: 1px solid #dddddd'>0.125</td><td style='border: 1px solid #dddddd'>None</td><td style='border: 1px solid #dddddd'>None</td><td style='border: 1px solid #dddddd'>None</td><td style='border: 1px solid #dddddd'>0.06930693069306931</td><td style='border: 1px solid #dddddd'>None</td><td style='border: 1px solid #dddddd'>None</td><td style='border: 1px solid #dddddd'>0.0</td><td style='border: 1px solid #dddddd'>979bbb42-52fa-4b7e-998d-7aada31b3693</td><td style='border: 1px solid #dddddd'>0.12500000000000003</td><td style='border: 1px solid #dddddd'>None</td><td style='border: 1px solid #dddddd'>None</td><td style='border: 1px solid #dddddd'>0.125</td><td style='border: 1px solid #dddddd'>35.698081418946416</td><td style='border: 1px solid #dddddd'>0.16563359875755435</td><td style='border: 1px solid #dddddd'>None</td><td style='border: 1px solid #dddddd'>None</td><td style='border: 1px solid #dddddd'>None</td><td style='border: 1px solid #dddddd'>0.125</td></tr><tr><td style='border: 1px solid #dddddd'>59.43</td><td style='border: 1px solid #dddddd'>0.3125</td><td style='border: 1px solid #dddddd'>None</td><td style='border: 1px solid #dddddd'>0.016</td><td style='border: 1px solid #dddddd'>None</td><td style='border: 1px solid #dddddd'>MRM_99bcb7da-b65e-49ac-8a2f-a0e70d2454db-4</td><td style='border: 1px solid #dddddd'>0.05154639175257732</td><td style='border: 1px solid #dddddd'>feedback</td><td style='border: 1px solid #dddddd'>2024-09-30T12:48:39.335Z</td><td style='border: 1px solid #dddddd'>0.13245033112582782</td><td style='border: 1px solid #dddddd'>0.0787</td><td style='border: 1px solid #dddddd'>None</td><td style='border: 1px solid #dddddd'>None</td><td style='border: 1px solid #dddddd'>None</td><td style='border: 1px solid #dddddd'>0.04504504504504504</td><td style='border: 1px solid #dddddd'>None</td><td style='border: 1px solid #dddddd'>None</td><td style='border: 1px solid #dddddd'>0.0</td><td style='border: 1px solid #dddddd'>979bbb42-52fa-4b7e-998d-7aada31b3693</td><td style='border: 1px solid #dddddd'>0.07874015748031496</td><td style='border: 1px solid #dddddd'>None</td><td style='border: 1px solid #dddddd'>None</td><td style='border: 1px solid #dddddd'>0.0472</td><td style='border: 1px solid #dddddd'>36.65937406307187</td><td style='border: 1px solid #dddddd'>0.15870107648073237</td><td style='border: 1px solid #dddddd'>None</td><td style='border: 1px solid #dddddd'>None</td><td style='border: 1px solid #dddddd'>None</td><td style='border: 1px solid #dddddd'>0.0787</td></tr><tr><td style='border: 1px solid #dddddd'>53.81</td><td style='border: 1px solid #dddddd'>0.35714285714285715</td><td style='border: 1px solid #dddddd'>None</td><td style='border: 1px solid #dddddd'>0.0</td><td style='border: 1px solid #dddddd'>None</td><td style='border: 1px solid #dddddd'>MRM_99bcb7da-b65e-49ac-8a2f-a0e70d2454db-5</td><td style='border: 1px solid #dddddd'>0.05434782608695652</td><td style='border: 1px solid #dddddd'>feedback</td><td style='border: 1px solid #dddddd'>2024-09-30T12:48:39.335Z</td><td style='border: 1px solid #dddddd'>0.13245033112582782</td><td style='border: 1px solid #dddddd'>0.0758</td><td style='border: 1px solid #dddddd'>None</td><td style='border: 1px solid #dddddd'>None</td><td style='border: 1px solid #dddddd'>None</td><td style='border: 1px solid #dddddd'>0.0423728813559322</td><td style='border: 1px solid #dddddd'>None</td><td style='border: 1px solid #dddddd'>None</td><td style='border: 1px solid #dddddd'>0.0</td><td style='border: 1px solid #dddddd'>979bbb42-52fa-4b7e-998d-7aada31b3693</td><td style='border: 1px solid #dddddd'>0.07575757575757576</td><td style='border: 1px solid #dddddd'>None</td><td style='border: 1px solid #dddddd'>None</td><td style='border: 1px solid #dddddd'>0.0606</td><td style='border: 1px solid #dddddd'>34.159915003583905</td><td style='border: 1px solid #dddddd'>0.19222347447100693</td><td style='border: 1px solid #dddddd'>None</td><td style='border: 1px solid #dddddd'>None</td><td style='border: 1px solid #dddddd'>None</td><td style='border: 1px solid #dddddd'>0.0758</td></tr><tr><td style='border: 1px solid #dddddd'>28.98</td><td style='border: 1px solid #dddddd'>0.2</td><td style='border: 1px solid #dddddd'>None</td><td style='border: 1px solid #dddddd'>0.0247</td><td style='border: 1px solid #dddddd'>None</td><td style='border: 1px solid #dddddd'>MRM_99bcb7da-b65e-49ac-8a2f-a0e70d2454db-6</td><td style='border: 1px solid #dddddd'>0.0782608695652174</td><td style='border: 1px solid #dddddd'>feedback</td><td style='border: 1px solid #dddddd'>2024-09-30T12:48:39.335Z</td><td style='border: 1px solid #dddddd'>0.1571076831963325</td><td style='border: 1px solid #dddddd'>0.122</td><td style='border: 1px solid #dddddd'>None</td><td style='border: 1px solid #dddddd'>None</td><td style='border: 1px solid #dddddd'>None</td><td style='border: 1px solid #dddddd'>0.08771929824561403</td><td style='border: 1px solid #dddddd'>None</td><td style='border: 1px solid #dddddd'>None</td><td style='border: 1px solid #dddddd'>0.0</td><td style='border: 1px solid #dddddd'>979bbb42-52fa-4b7e-998d-7aada31b3693</td><td style='border: 1px solid #dddddd'>0.12195121951219512</td><td style='border: 1px solid #dddddd'>None</td><td style='border: 1px solid #dddddd'>None</td><td style='border: 1px solid #dddddd'>0.1098</td><td style='border: 1px solid #dddddd'>34.63000406755866</td><td style='border: 1px solid #dddddd'>0.12153799646977403</td><td style='border: 1px solid #dddddd'>None</td><td style='border: 1px solid #dddddd'>None</td><td style='border: 1px solid #dddddd'>None</td><td style='border: 1px solid #dddddd'>0.122</td></tr><tr><td style='border: 1px solid #dddddd'>41.7</td><td style='border: 1px solid #dddddd'>0.2</td><td style='border: 1px solid #dddddd'>None</td><td style='border: 1px solid #dddddd'>0.013</td><td style='border: 1px solid #dddddd'>None</td><td style='border: 1px solid #dddddd'>MRM_99bcb7da-b65e-49ac-8a2f-a0e70d2454db-7</td><td style='border: 1px solid #dddddd'>0.0603448275862069</td><td style='border: 1px solid #dddddd'>feedback</td><td style='border: 1px solid #dddddd'>2024-09-30T12:48:39.335Z</td><td style='border: 1px solid #dddddd'>0.18057971449136279</td><td style='border: 1px solid #dddddd'>0.0897</td><td style='border: 1px solid #dddddd'>None</td><td style='border: 1px solid #dddddd'>None</td><td style='border: 1px solid #dddddd'>None</td><td style='border: 1px solid #dddddd'>0.05785123966942149</td><td style='border: 1px solid #dddddd'>None</td><td style='border: 1px solid #dddddd'>None</td><td style='border: 1px solid #dddddd'>0.0</td><td style='border: 1px solid #dddddd'>979bbb42-52fa-4b7e-998d-7aada31b3693</td><td style='border: 1px solid #dddddd'>0.08974358974358976</td><td style='border: 1px solid #dddddd'>None</td><td style='border: 1px solid #dddddd'>None</td><td style='border: 1px solid #dddddd'>0.0641</td><td style='border: 1px solid #dddddd'>34.77185416979911</td><td style='border: 1px solid #dddddd'>0.19046516873737473</td><td style='border: 1px solid #dddddd'>None</td><td style='border: 1px solid #dddddd'>None</td><td style='border: 1px solid #dddddd'>None</td><td style='border: 1px solid #dddddd'>0.0897</td></tr><tr><td style='border: 1px solid #dddddd'>28.17</td><td style='border: 1px solid #dddddd'>0.2692307692307692</td><td style='border: 1px solid #dddddd'>None</td><td style='border: 1px solid #dddddd'>0.0423</td><td style='border: 1px solid #dddddd'>None</td><td style='border: 1px solid #dddddd'>MRM_99bcb7da-b65e-49ac-8a2f-a0e70d2454db-8</td><td style='border: 1px solid #dddddd'>0.06930693069306931</td><td style='border: 1px solid #dddddd'>feedback</td><td style='border: 1px solid #dddddd'>2024-09-30T12:48:39.335Z</td><td style='border: 1px solid #dddddd'>0.24835109687903267</td><td style='border: 1px solid #dddddd'>0.0972</td><td style='border: 1px solid #dddddd'>None</td><td style='border: 1px solid #dddddd'>None</td><td style='border: 1px solid #dddddd'>None</td><td style='border: 1px solid #dddddd'>0.059322033898305086</td><td style='border: 1px solid #dddddd'>None</td><td style='border: 1px solid #dddddd'>None</td><td style='border: 1px solid #dddddd'>0.020159431335582723</td><td style='border: 1px solid #dddddd'>979bbb42-52fa-4b7e-998d-7aada31b3693</td><td style='border: 1px solid #dddddd'>0.09722222222222222</td><td style='border: 1px solid #dddddd'>None</td><td style='border: 1px solid #dddddd'>None</td><td style='border: 1px solid #dddddd'>0.0833</td><td style='border: 1px solid #dddddd'>48.2253628951006</td><td style='border: 1px solid #dddddd'>0.10420174696905096</td><td style='border: 1px solid #dddddd'>None</td><td style='border: 1px solid #dddddd'>None</td><td style='border: 1px solid #dddddd'>None</td><td style='border: 1px solid #dddddd'>0.0972</td></tr><tr><td style='border: 1px solid #dddddd'>41.7</td><td style='border: 1px solid #dddddd'>0.16666666666666666</td><td style='border: 1px solid #dddddd'>None</td><td style='border: 1px solid #dddddd'>0.0</td><td style='border: 1px solid #dddddd'>None</td><td style='border: 1px solid #dddddd'>MRM_99bcb7da-b65e-49ac-8a2f-a0e70d2454db-9</td><td style='border: 1px solid #dddddd'>0.03389830508474576</td><td style='border: 1px solid #dddddd'>feedback</td><td style='border: 1px solid #dddddd'>2024-09-30T12:48:39.335Z</td><td style='border: 1px solid #dddddd'>0.10309278350515468</td><td style='border: 1px solid #dddddd'>0.058</td><td style='border: 1px solid #dddddd'>None</td><td style='border: 1px solid #dddddd'>None</td><td style='border: 1px solid #dddddd'>None</td><td style='border: 1px solid #dddddd'>0.03508771929824561</td><td style='border: 1px solid #dddddd'>None</td><td style='border: 1px solid #dddddd'>None</td><td style='border: 1px solid #dddddd'>0.0</td><td style='border: 1px solid #dddddd'>979bbb42-52fa-4b7e-998d-7aada31b3693</td><td style='border: 1px solid #dddddd'>0.057971014492753624</td><td style='border: 1px solid #dddddd'>None</td><td style='border: 1px solid #dddddd'>None</td><td style='border: 1px solid #dddddd'>0.058</td><td style='border: 1px solid #dddddd'>32.87240331025165</td><td style='border: 1px solid #dddddd'>0.09114279997299037</td><td style='border: 1px solid #dddddd'>None</td><td style='border: 1px solid #dddddd'>None</td><td style='border: 1px solid #dddddd'>None</td><td style='border: 1px solid #dddddd'>0.058</td></tr>\n",
                            "            </table>\n",
                            "        </body>\n",
                            "        </HTML>"
                        ],
                        "text/plain": [
                            "<IPython.core.display.HTML object>"
                        ]
                    },
                    "metadata": {},
                    "output_type": "display_data"
                }
            ],
            "source": [
                "wos_client.data_sets.show_records(data_set_id=genaiq_dataset_id)"
            ]
        },
        {
            "cell_type": "markdown",
            "metadata": {
                "id": "456a1ba8-ed54-4eea-9ff6-21577d993b31"
            },
            "source": [
                "# Plot rougel and rougelsum metrics against records <a name=\"plotproject\"></a>"
            ]
        },
        {
            "cell_type": "code",
            "execution_count": 35,
            "metadata": {
                "id": "004589ee-dd7d-4609-91f0-70394bf548ab"
            },
            "outputs": [],
            "source": [
                "result = wos_client.data_sets.get_list_of_records(data_set_id = genaiq_dataset_id).result\n",
                "result[\"records\"]\n",
                "x = []\n",
                "y_rougel = []\n",
                "y_rougelsum = []\n",
                "for each in result[\"records\"]:\n",
                "    x.append(each[\"metadata\"][\"id\"][-5:]) # Reading only last 5 characters to fit in the display\n",
                "    y_rougel.append(each[\"entity\"][\"values\"][\"rougel\"])\n",
                "    y_rougelsum.append(each[\"entity\"][\"values\"][\"rougelsum\"])"
            ]
        },
        {
            "cell_type": "markdown",
            "metadata": {
                "id": "deac6930-652c-4815-bf67-8ed0b80d7b1a"
            },
            "source": [
                "Plot rougel metrics against records"
            ]
        },
        {
            "cell_type": "code",
            "execution_count": 36,
            "metadata": {
                "id": "c545014f-2670-41ca-9c29-78104f353f6d"
            },
            "outputs": [
                {
                    "data": {
                        "image/png": "[encoded data removed]",
                        "text/plain": [
                            "<Figure size 640x480 with 1 Axes>"
                        ]
                    },
                    "metadata": {},
                    "output_type": "display_data"
                }
            ],
            "source": [
                "import matplotlib.pyplot as plt\n",
                "plt.scatter(x, y_rougel, marker='o')\n",
                "\n",
                "# Adding labels and title\n",
                "plt.xlabel(\"X-axis - Record id (last 5 characters)\")\n",
                "plt.ylabel(\"Y-axis - ROUGEL\")\n",
                "plt.title(\"rougel vs record id\")\n",
                "\n",
                "# Display the graph\n",
                "plt.show()"
            ]
        },
        {
            "cell_type": "markdown",
            "metadata": {
                "id": "b2e0cdf2-5374-4a1c-aad1-329cc16abe8e"
            },
            "source": [
                "Plot rougelsum metrics against records"
            ]
        },
        {
            "cell_type": "code",
            "execution_count": 37,
            "metadata": {
                "id": "d815238e-291e-44a6-8154-f2608e672f52"
            },
            "outputs": [
                {
                    "data": {
                        "image/png": "[encoded data removed]",
                        "text/plain": [
                            "<Figure size 640x480 with 1 Axes>"
                        ]
                    },
                    "metadata": {},
                    "output_type": "display_data"
                }
            ],
            "source": [
                "import matplotlib.pyplot as plt\n",
                "plt.scatter(x, y_rougelsum, marker=\"o\")\n",
                "\n",
                "# Adding labels and title\n",
                "plt.xlabel(\"X-axis - Record ID (last 5 characters)\")\n",
                "plt.ylabel(\"Y-axis - ROUGELSUM\")\n",
                "plt.title(\"rougelsum vs record ID\")\n",
                "\n",
                "# Display the graph\n",
                "plt.show()"
            ]
        },
        {
            "cell_type": "markdown",
            "metadata": {
                "id": "c9e52788-f8a8-406f-b0bf-971fd50d5a03"
            },
            "source": [
                "# See factsheets information <a name=\"factsheetsspace\"></a>"
            ]
        },
        {
            "cell_type": "code",
            "execution_count": 38,
            "metadata": {
                "id": "37149ceb-70db-4956-9ae4-03b3c0c76d27"
            },
            "outputs": [
                {
                    "name": "stdout",
                    "output_type": "stream",
                    "text": [
                        "User can navigate to the published facts in project https://dataplatform.cloud.ibm.com/wx/prompt-details/abfc71af-aa94-4109-b8e8-5b3fe1e1121b/factsheet?context=wx&project_id=a3d21fd6-7b82-4d1e-bacb-0d052f7b6473\n"
                    ]
                }
            ],
            "source": [
                "if not use_cpd:\n",
                "    factsheets_url = f\"{DATAPLATFORM_URL.replace('api.', '')}/wx/prompt-details/{project_pta_id}/factsheet?context=wx&project_id={PROJECT_ID}\"\n",
                "else:\n",
                "    factsheets_url = f\"{CPD_URL}/wx/prompt-details/{project_pta_id}/factsheet?context=wx&project_id={PROJECT_ID}\"\n",
                "\n",
                "print(f\"User can navigate to the published facts in project {factsheets_url}\")"
            ]
        },
        {
            "cell_type": "markdown",
            "metadata": {
                "id": "74ee1d34-e3e2-43d9-9ded-2af2fc02f7f9"
            },
            "source": [
                "# Evaluate Prompt template from space <a name=\"evaluatespace\"></a>\n",
                "\n",
                "Now, we can promote the created prompt template asset to space and perform similar actions."
            ]
        },
        {
            "cell_type": "markdown",
            "metadata": {
                "id": "9682fbf2-b758-441e-937f-024868ee87e4"
            },
            "source": [
                "# Promote PTA to space <a name=\"promottospace\"></a> "
            ]
        },
        {
            "cell_type": "markdown",
            "metadata": {
                "id": "7a048606-2901-4360-8aaa-d920ffe64113"
            },
            "source": [
                "Below cell promotes the prompt template asset from the project to the space."
            ]
        },
        {
            "cell_type": "code",
            "execution_count": null,
            "metadata": {
                "id": "02d981ff-3bd7-4373-8c46-d358fdd68643"
            },
            "outputs": [],
            "source": [
                "headers={}\n",
                "headers[\"Content-Type\"] = \"application/json\"\n",
                "headers[\"Accept\"] = \"*/*\"\n",
                "headers[\"Authorization\"] = \"Bearer {}\".format(iam_access_token)\n",
                "verify = True\n",
                "\n",
                "url = \"{}/v2/assets/{}/promote\".format(DATAPLATFORM_URL ,project_pta_id)\n",
                "\n",
                "params = {\n",
                "    \"project_id\":PROJECT_ID\n",
                "}\n",
                "\n",
                "payload = {\n",
                "    \"space_id\": space_id\n",
                "}\n",
                "response = requests.post(url, json=payload, headers=headers, params = params, verify = verify)\n",
                "json_data = response.json()\n",
                "space_pta_id = json_data[\"metadata\"][\"asset_id\"]\n",
                "space_pta_id"
            ]
        },
        {
            "cell_type": "markdown",
            "metadata": {
                "id": "92c1e49c-41ae-42bc-ba7d-38a11a706363"
            },
            "source": [
                "# Create deployment for prompt template asset in space <a name=\"ptadeployment\"></a>"
            ]
        },
        {
            "cell_type": "markdown",
            "metadata": {
                "id": "2bc176a7-2e2b-4240-872e-46c3173071a0"
            },
            "source": [
                "To create a subscription from space, it is necessary to create a deployment for prompt template assets in spaces."
            ]
        },
        {
            "cell_type": "code",
            "execution_count": 49,
            "metadata": {
                "id": "d6beb228-fb73-47d1-a06b-35ea349ccf16"
            },
            "outputs": [
                {
                    "name": "stdout",
                    "output_type": "stream",
                    "text": [
                        "bd72b140-2693-44be-af05-c94b3dc5585a\n"
                    ]
                }
            ],
            "source": [
                "DEPLOYMENTS_URL = WML_CREDENTIALS[\"url\"] + \"/ml/v4/deployments\"\n",
                "\n",
                "# serving_name = \"summarization_deployment_detached\" # eg: summary_deployment\n",
                "\n",
                "payload = {\n",
                "    \"prompt_template\": {\n",
                "      \"id\": space_pta_id\n",
                "    },\n",
                "    \"detached\": {\n",
                "    },\n",
                "    \"base_model_id\": \"gpt-4\",\n",
                "    \"description\": \"summarization deployment\",\n",
                "    \"name\": \"summarization deployment\",\n",
                "    \"space_id\": space_id\n",
                "}\n",
                "\n",
                "version = \"2023-07-07\" # The version date for the API of the form YYYY-MM-DD. Example : 2023-07-07\n",
                "params = {\n",
                "    \"version\":version,\n",
                "    \"space_id\":space_id\n",
                "}\n",
                "\n",
                "response = requests.post(DEPLOYMENTS_URL, json=payload, headers=headers, params = params, verify = verify)\n",
                "json_data = response.json()\n",
                "\n",
                "\n",
                "if \"metadata\" in json_data:\n",
                "    deployment_id = json_data[\"metadata\"][\"id\"]\n",
                "    print(deployment_id)\n",
                "else:\n",
                "    print(json_data)"
            ]
        },
        {
            "cell_type": "code",
            "execution_count": 37,
            "metadata": {
                "id": "b939922c-4f3c-4957-8548-5971032df64e"
            },
            "outputs": [],
            "source": [
                "#     try:\n",
                "#       wos_client.wos.add_instance_mapping(                \n",
                "#         service_instance_id=data_mart_id,\n",
                "#         space_id=existing_space_id,\n",
                "#       )\n",
                "#     except ApiRequestFailure as arf:\n",
                "#        if arf.response.status_code == 409:\n",
                "#           # Instance mapping already exists\n",
                "#           pass\n",
                "#        else:\n",
                "#           raise arf"
            ]
        },
        {
            "cell_type": "markdown",
            "metadata": {
                "id": "7b8c1988-e204-4e82-9760-9c8b7e848f97"
            },
            "source": [
                "# Setup the prompt template asset in space for evaluation with supported monitor dimensions <a name=\"ptaspace\"></a>\n",
                "\n",
                "The prompt template assets from space is only supported with [`pre_production` and `production`] operational space IDs. Running the below cell will create a `pre_production` type subscription from the prompt template asset promoted to the space. The `problem_type` value should depend on the task type specified in the prompt template asset."
            ]
        },
        {
            "cell_type": "code",
            "execution_count": 51,
            "metadata": {
                "id": "af43ced4-e8b9-494e-a950-69c10dbc8244"
            },
            "outputs": [
                {
                    "name": "stdout",
                    "output_type": "stream",
                    "text": [
                        "=================================================================\n",
                        "This method will be deprecated in the next release and be replaced by wos_client.wos.execute_prompt_setup() method\n",
                        "=================================================================\n",
                        "\n",
                        "\n",
                        "=============================================================================\n",
                        "\n",
                        " Waiting for end of adding prompt setup 072bedef-1dd7-446e-808e-129525836381 \n",
                        "\n",
                        "=============================================================================\n",
                        "\n",
                        "\n",
                        "\n",
                        "running.\n",
                        "finished\n",
                        "\n",
                        "---------------------------------------------------------------\n",
                        " Successfully finished setting up prompt template subscription \n",
                        "---------------------------------------------------------------\n",
                        "\n",
                        "\n"
                    ]
                },
                {
                    "data": {
                        "text/plain": [
                            "{'prompt_template_asset_id': '072bedef-1dd7-446e-808e-129525836381',\n",
                            " 'space_id': '90a90b37-8425-45a9-9a1a-8d952800a261',\n",
                            " 'deployment_id': 'bd72b140-2693-44be-af05-c94b3dc5585a',\n",
                            " 'service_provider_id': '4bcfc4c1-daa3-4043-820d-a71ab8e15f61',\n",
                            " 'subscription_id': 'f44f6dbf-90c5-4266-8a31-8f97aed89b7f',\n",
                            " 'mrm_monitor_instance_id': '279a2f54-d0ab-4de9-875f-05d1ca8906ba',\n",
                            " 'start_time': '2024-09-30T13:00:26.503187Z',\n",
                            " 'end_time': '2024-09-30T13:00:41.643453Z',\n",
                            " 'status': {'state': 'FINISHED'}}"
                        ]
                    },
                    "execution_count": 51,
                    "metadata": {},
                    "output_type": "execute_result"
                }
            ],
            "source": [
                "label_column = \"reference_summary\"\n",
                "operational_space_id = \"pre_production\"\n",
                "problem_type= \"summarization\"\n",
                "input_data_type= \"unstructured_text\"\n",
                "monitors = {\n",
                "    \"generative_ai_quality\": {\n",
                "        \"parameters\": {\n",
                "            \"min_sample_size\": 10,\n",
                "            \"metrics_configuration\":{        \n",
                "            }\n",
                "        }\n",
                "    },\n",
                "#####################################################################################\n",
                "    #For production flow add and configure the following drift monitor\n",
                "######################################################################################\n",
                "    # \"drift_v2\": {\n",
                "    #     \"thresholds\": [\n",
                "    #         {\n",
                "    #             \"metric_id\": \"confidence_drift_score\",\n",
                "    #             \"type\": \"upper_limit\",\n",
                "    #             \"value\": 0.05\n",
                "    #         },\n",
                "    #         {\n",
                "    #             \"metric_id\": \"prediction_drift_score\",\n",
                "    #             \"type\": \"upper_limit\",\n",
                "    #             \"value\": 0.05\n",
                "    #         },\n",
                "    #         {\n",
                "    #             \"metric_id\": \"input_metadata_drift_score\",\n",
                "    #             \"specific_values\": [\n",
                "    #                 {\n",
                "    #                     \"applies_to\": [\n",
                "    #                         {\n",
                "    #                             \"type\": \"tag\",\n",
                "    #                             \"value\": \"subscription\",\n",
                "    #                             \"key\": \"field_type\"\n",
                "    #                         }\n",
                "    #                     ],\n",
                "    #                     \"value\": 0.05\n",
                "    #                 }\n",
                "    #             ],\n",
                "    #             \"type\": \"upper_limit\"\n",
                "    #         },\n",
                "    #         {\n",
                "    #             \"metric_id\": \"output_metadata_drift_score\",\n",
                "    #             \"specific_values\": [\n",
                "    #                 {\n",
                "    #                     \"applies_to\": [\n",
                "    #                         {\n",
                "    #                             \"type\": \"tag\",\n",
                "    #                             \"value\": \"subscription\",\n",
                "    #                             \"key\": \"field_type\"\n",
                "    #                         }\n",
                "    #                     ],\n",
                "    #                     \"value\": 0.05\n",
                "    #                 }\n",
                "    #             ],\n",
                "    #             \"type\": \"upper_limit\"\n",
                "    #         }\n",
                "    #     ],\n",
                "    #     \"parameters\": {\n",
                "    #         \"min_samples\": 10,\n",
                "    #         \"train_archive\": True\n",
                "    #     }\n",
                "    # }\n",
                "}\n",
                "\n",
                "\n",
                "response = wos_client.monitor_instances.mrm.execute_prompt_setup(prompt_template_asset_id = space_pta_id, \n",
                "                                                                   space_id = space_id,\n",
                "                                                                   deployment_id = deployment_id,\n",
                "                                                                   label_column = label_column, \n",
                "                                                                   operational_space_id = operational_space_id, \n",
                "                                                                   problem_type = problem_type,\n",
                "                                                                   input_data_type = input_data_type, \n",
                "                                                                   supporting_monitors = monitors, \n",
                "                                                                   background_mode = False)\n",
                "\n",
                "result = response.result\n",
                "result._to_dict()"
            ]
        },
        {
            "cell_type": "markdown",
            "metadata": {
                "id": "09a7da3d-2d0d-4cfc-858e-646c61b45c49"
            },
            "source": [
                "With the below cell, users can read the prompt setup task and check its status"
            ]
        },
        {
            "cell_type": "code",
            "execution_count": 52,
            "metadata": {
                "id": "edd92001-8d94-4c3e-8fa7-8db941e4c6c2"
            },
            "outputs": [
                {
                    "name": "stdout",
                    "output_type": "stream",
                    "text": [
                        "=================================================================\n",
                        "This method will be deprecated in the next release and be replaced by wos_client.wos.get_prompt_setup() method\n",
                        "=================================================================\n"
                    ]
                },
                {
                    "data": {
                        "text/plain": [
                            "{'prompt_template_asset_id': '072bedef-1dd7-446e-808e-129525836381',\n",
                            " 'space_id': '90a90b37-8425-45a9-9a1a-8d952800a261',\n",
                            " 'deployment_id': 'bd72b140-2693-44be-af05-c94b3dc5585a',\n",
                            " 'service_provider_id': '4bcfc4c1-daa3-4043-820d-a71ab8e15f61',\n",
                            " 'subscription_id': 'f44f6dbf-90c5-4266-8a31-8f97aed89b7f',\n",
                            " 'mrm_monitor_instance_id': '279a2f54-d0ab-4de9-875f-05d1ca8906ba',\n",
                            " 'start_time': '2024-09-30T13:00:26.503187Z',\n",
                            " 'end_time': '2024-09-30T13:00:41.643453Z',\n",
                            " 'status': {'state': 'FINISHED'}}"
                        ]
                    },
                    "execution_count": 52,
                    "metadata": {},
                    "output_type": "execute_result"
                }
            ],
            "source": [
                "response = wos_client.monitor_instances.mrm.get_prompt_setup(prompt_template_asset_id = space_pta_id,\n",
                "                                                             deployment_id = deployment_id,\n",
                "                                                             space_id = space_id)\n",
                "\n",
                "result = response.result\n",
                "result_json = result._to_dict()\n",
                "result_json"
            ]
        },
        {
            "cell_type": "markdown",
            "metadata": {
                "id": "b6d93d03-4015-4436-9917-a44e16275307"
            },
            "source": [
                "### Read subscription id from prompt setup\n",
                "\n",
                "Once prompt setup status is finished, Read the subscription id from it."
            ]
        },
        {
            "cell_type": "code",
            "execution_count": 53,
            "metadata": {
                "id": "67643ce7-cf29-4e0f-80e0-f1599fed68f5"
            },
            "outputs": [
                {
                    "data": {
                        "text/plain": [
                            "'f44f6dbf-90c5-4266-8a31-8f97aed89b7f'"
                        ]
                    },
                    "execution_count": 53,
                    "metadata": {},
                    "output_type": "execute_result"
                }
            ],
            "source": [
                "prod_subscription_id = result_json[\"subscription_id\"]\n",
                "prod_subscription_id"
            ]
        },
        {
            "cell_type": "markdown",
            "metadata": {
                "id": "a7943674-b087-408c-b1cd-092d78bb3e55"
            },
            "source": [
                "## Below segment is required only if the user chooses PRODUCTION SPACE <a name=\"Prod\"></a>\n",
                "\n",
                "Now that the WML service has been bound and the subscription has been created, we need to score the prompt template asset. The downloaded csv is used to construct the payload as well as feedback for the deployment."
            ]
        },
        {
            "cell_type": "code",
            "execution_count": 389,
            "metadata": {
                "id": "20d96e9a-0935-4270-b4b3-364a471d38ae"
            },
            "outputs": [
                {
                    "data": {
                        "text/plain": [
                            "[{'request': {'parameters': {'template_variables': {'original_text': 'by using our services you are agreeing to these terms our trainer guidelines and our privacy policy. if you are the parent or legal guardian of a child under the age of 13 the parent you are agreeing to these terms on behalf of yourself and your child ren who are authorized to use the services pursuant to these terms and in our privacy policy. if you don t agree to these terms our trainer guidelines and our privacy policy do not use the services.'}}},\n",
                            "  'response': {'results': [{'generated_text': 'Use our services if you are the parent or legal guardian of a child under the age of 13'}]}},\n",
                            " {'request': {'parameters': {'template_variables': {'original_text': 'if you want to use certain features of the services you will have to create an account with us an account. you can create an account if you have a a pre existing google account b a pre existing pok\\\\u00e9mon trainer club ptc account c a pre existing account with facebook or d such other pre existing third party accounts as we may choose to support in the future notification of which will be provided by allowing selection of such pre existing accounts on the relevant account creation screen. we will create your account by extracting from your google ptc facebook or other pre existing third party account certain personal information such as your email address that your privacy settings on the applicable account permit us to access. it s important that you provide us with accurate complete and up to date information for your account and you agree to update such information as needed to keep it accurate complete and up to date. if you don t we might have to suspend or terminate your account. you agree that you won t disclose your account password to anyone and you ll notify us immediately of any unauthorized use of your account. you re responsible for all activities that occur under your account whether or not you know about them. registration by childrenwe comply with the children s online privacy protection act coppa through the verification and consent process handled by ptc. if you are over the age of 13 and register to create an account through ptc ptc will enable you to access and use the services. the parent of each child under the age of 13 must register with the pok\\\\u00e9mon company international inc tpci through ptc before a child may use the services. tpci requires the parent to verify that he or she is the parent of the child and to consent to the creation of an account with us for the child. upon receipt of both parental verification and consent tpci will enable the parent to create an account with us for the child. if a parent does not consent to a child s access to and use of the services or does not verify the parent s consent through the consent process niantic will bar that child s registration for an account prevent the child s access to and use of the services and ensure that such child s information is not accessible through the services. if a parent has consented to a child s access to and use of the services but wishes to rescind such consent the parent should contact us at https pokemongo nianticlabs com support delete en to submit the request. we will discontinue that child s access to and use of the services and ensure that such child s information is no longer accessible through the services. parents of children under the age of 13 understand and agree that tpci and or niantic may provide information submitted to tpci and or niantic or collected via the services to third parties who use such information for the sole purpose of administering or providing services e g third party security monitoring services and web hosting companies. please see our privacy policy available athttp www nianticlabs com privacy pokemongo en for more information on how we collect use and disclose information from our users.'}}},\n",
                            "  'response': {'results': [{'generated_text': 'Create an account with us. Register for an account through ptc.'}]}},\n",
                            " {'request': {'parameters': {'template_variables': {'original_text': 'during game play please be aware of your surroundings and play safely. you agree that your use of the app and play of the game is at your own risk and it is your responsibility to maintain such health liability hazard personal injury medical life and other insurance policies as you deem reasonably necessary for any injuries that you may incur while using the services. you also agree not to use the app to violate any applicable law rule or regulation including but not limited to the laws of trespass or the trainer guidelines and you agree not to encourage or enable any other individual to violate any applicable law rule or regulation or the trainer guidelines. without limiting the foregoing you agree that in conjunction with your use of the app you will not inflict emotional distress on other people will not humiliate other people publicly or otherwise will not assault or threaten other people will not enter onto private property without permission will not impersonate any other person or misrepresent your affiliation title or authority and will not otherwise engage in any activity that may result in injury death property damage and or liability of any kind. to the extent permitted by applicable law niantic the pok\\\\u00e9mon company tpc and tpci disclaim all liability related to any property damage personal injury or death that may occur during your use of our services including any claims based on the violation of any applicable law rule or regulation or your alleged negligence or other tort liability. further in the event that you have a dispute with one or more other users of the app you release niantic tpc and tpci and our officers directors agents subsidiaries joint ventures and employees from all claims demands and damages actual and consequential of every kind and nature known and unknown suspected and unsuspected disclosed and undisclosed arising out of or in any way connected with such disputes.'}}},\n",
                            "  'response': {'results': [{'generated_text': 'Be aware of your surroundings'}]}},\n",
                            " {'request': {'parameters': {'template_variables': {'original_text': 'subject to your compliance with these terms niantic grants you a limited nonexclusive nontransferable non sublicensable license to download and install a copy of the app on a mobile device and to run such copy of the app solely for your own personal noncommercial purposes. except as expressly permitted in these terms you may not a copy modify or create derivative works based on the app b distribute transfer sublicense lease lend or rent the app to any third party c reverse engineer decompile or disassemble the app or d make the functionality of the app available to multiple users through any means. niantic reserves all rights in and to the app not expressly granted to you under these terms. if you accessed or downloaded the app from the apple store then you agree to use the app only a on an apple branded product or device that runs ios apple s proprietary operating system software and b as permitted by the usage rules set forth in the apple store terms of service. if you accessed or downloaded the app from any app store or distribution platform like the apple store google play or amazon appstore each an app provider then you acknowledge and agree that these terms are concluded between you and niantic and not with app provider and that as between us and the app provider niantic is solely responsible for the app. app provider has no obligation to furnish any maintenance and support services with respect to the app. in the event of any failure of the app to conform to any applicable warranty you may notify app provider and app provider will refund the purchase price for the app to you if applicable and to the maximum extent permitted by applicable law app provider will have no other warranty obligation whatsoever with respect to the app. any other claims losses liabilities damages costs or expenses attributable to any failure of an app to conform to any warranty will be the sole responsibility of niantic. app provider is not responsible for addressing any claims you have or any claims of any third party relating to the app or your possession and use of the app including but not limited to i product liability claims ii any claim that the app fails to conform to any applicable legal or regulatory requirement and iii claims arising under consumer protection or similar legislation. in the event of any third party claim that the app or your possession and use of the app infringes that third party s intellectual property rights niantic will be solely responsible for the investigation defense settlement and discharge of any such intellectual property infringement claim to the extent required by these terms. app provider and its subsidiaries are third party beneficiaries of these terms as related to your license of the app and that upon your acceptance of the terms and conditions of these terms app provider will have the right and will be deemed to have accepted the right to enforce these terms as related to your license of the app against you as a third party beneficiary thereof. you must also comply with all applicable third party terms of service when using the app. you agree to comply with all u s and foreign export laws and regulations to ensure that neither the app nor any technical data related thereto nor any direct product thereof is exported or re exported directly or indirectly in violation of or used for any purposes prohibited by such laws and regulations. by using the app you represent and warrant that i you are not located in a country that is subject to a u s government embargo or that has been designated by the u s government as a terrorist supporting country and ii you are not listed on any u s government list of prohibited or restricted parties.'}}},\n",
                            "  'response': {'results': [{'generated_text': 'niantic grants you a limited nonexclusive nontransferable nonsublicensable license to download and install the app on a mobile device and to run such copy of the app solely for your own personal noncommercial purposes. You agree to use the app only on an apple branded product or device that runs ios apple s proprietary operating system software and b as permitted by the usage rules set forth in the apple store terms of service. App provider is not responsible for any claims you have or any claims of any third party relating to the app or your possession and use thereof. you agree to comply with all applicable third party terms and conditions when using the app.'}]}},\n",
                            " {'request': {'parameters': {'template_variables': {'original_text': 'for purposes of these terms a content means the text software scripts graphics photos sounds music videos audiovisual combinations interactive features works of authorship of any kind and information or other materials that are posted generated provided or otherwise made available through the services and b user content means any content that account holders including you provide to be made available through the services. content includes without limitation user content. subject to your compliance with these terms niantic grants you a personal noncommercial nonexclusive nontransferable non sublicensable revocable license to download view display and use the content solely in connection with your permitted use of the services. content ownershipniantic does not claim any ownership rights in any user content and nothing in these terms will be deemed to restrict any rights that you may have to use and exploit your user content. subject to the foregoing niantic and its licensors including tpc and tpci exclusively own all right title and interest in and to the services and content including all associated intellectual property rights. you acknowledge that the services and content are protected by copyright trademark and other laws of the united states and foreign countries. you agree not to remove alter or obscure any copyright trademark service mark or other proprietary rights notices incorporated in or accompanying the services or content. rights granted by youby making any user content available through services you grant to niantic a nonexclusive perpetual irrevocable transferable sublicensable worldwide royalty free license to use copy modify create derivative works based upon publicly display publicly perform and distribute your user content in connection with operating and providing the services and content to you and to other account holders. you are solely responsible for all your user content. you represent and warrant that you own all your user content or you have all rights that are necessary to grant us the license rights in your user content under these terms. you also represent and warrant that neither your user content nor your use and provision of your user content to be made available through the services nor any use of your user content by niantic on or through the services will infringe misappropriate or violate a third party s intellectual property rights or rights of publicity or privacy or result in the violation of any applicable law or regulation. niantic may reject any submissions in which niantic believes in its sole discretion that the user content is inappropriate or violates the trainer guidelines or these terms. niantic further reserves the right to remove any user content from the services at any time and without notice and for any reason.'}}},\n",
                            "  'response': {'results': [{'generated_text': 'niniantic grants you a personal noncommercial nonexclusive nontransferable nonsublicensable revocable license to download view display and use the content solely in connection with your permitted use of the services. you acknowledge that the services and content are protected by copyright trademark and other laws of the united states and foreign countries. you grant to niantic a nonexclusive perpetual irrevocable transferable sublicendable worldwide royalty free license to use copy modify create derivative works based upon publicly display publicly perform and distribute your user content in conjunction with operating and providing the services, and content to you and to other account holders. you represent and warrant that you own all user content or you have all rights that are necessary to grant us the license rights in user content under these terms. you are solely responsible for all your User Content.'}]}},\n",
                            " {'request': {'parameters': {'template_variables': {'original_text': 'the app permits account holders to capture and trade virtual items including but not limited to pok\\\\u00e9mon characters or creatures trading items during gameplay. unlike virtual money and virtual goods see below trading items are obtained at no additional charge during gameplay. trading items are a category of content and niantic grants you a limited nontransferable non sublicensable revocable license to use such trading items in conjunction with your personal noncommercial use of the services. you acknowledge that you do not acquire any ownership rights in or to trading items and that trading items do not have monetary value. trading items may be traded with other account holders for other trading items but trading items can never be sold transferred or exchanged for virtual money virtual goods real goods real money or real services or any other compensation or consideration from us or anyone else. you also agree that you will only obtain trading items from other account holders and through means provided by us and not from or through any third party platform exchange broker or other mechanism unless expressly authorized. we may cancel any trading items sold transferred or exchanged in violation of these terms. any such sale transfer or exchange or attempt to do so is prohibited and may result in the termination of your account. as set forth below all trading items and other content are provided as is without any warranty.'}}},\n",
                            "  'response': {'results': [{'generated_text': 'niniantic reserves the right to change the terms and conditions of this Agreement at any time without notice.'}]}},\n",
                            " {'request': {'parameters': {'template_variables': {'original_text': 'we may cancel suspend or terminate your account and your access to your trading items virtual money virtual goods the content or the services in our sole discretion and without prior notice including if a your account is inactive i e not used or logged into for one year b you fail to comply with these terms c we suspect fraud or misuse by you of trading items virtual money virtual goods or other content d we suspect any other unlawful activity associated with your account or e we are acting to protect the services our systems the app any of our users or the reputation of niantic tpc or tpci. we have no obligation or responsibility to and will not reimburse or refund you for any trading items virtual money or virtual goods lost due to such cancellation suspension or termination. you acknowledge that niantic is not required to provide a refund for any reason and that you will not receive money or other compensation for unused virtual money and virtual goods when your account is closed whether such closure was voluntary or involuntary. we have the right to offer modify eliminate and or terminate trading items virtual money virtual goods the content and or the services or any portion thereof at any time without notice or liability to you. if we discontinue the use of virtual money or virtual goods we will provide at least 60 days advance notice to you by posting a notice on the site or app or through other communications.'}}},\n",
                            "  'response': {'results': [{'generated_text': 'niantic reserves the right to cancel, suspend or terminate your trading items virtual money virtual goods the content or the services at any time without prior notice'}]}},\n",
                            " {'request': {'parameters': {'template_variables': {'original_text': 'the app permits the purchase of virtual currency virtual money and use of that virtual money to purchase virtual items or services that we expressly make available for use in the app virtual goods. the purchase of virtual money and virtual goods is limited to account holders who are either a 18 years of age or older or b under the age of 18 and have the consent of a parent to make the purchase. parents of children under the age of 18 can consult the ios or google play settings for their app to restrict in app purchases but should also monitor their children s accounts for unexpected activity including the purchase of virtual money or virtual goods. purchases of virtual money and virtual goodsvirtual money is a category of content so the purchase of virtual money grants you only a limited nontransferable non sublicensable revocable license to use such virtual money to access and purchase virtual goods in conjunction with your personal noncommercial use of the services. you acknowledge that you do not acquire any ownership rights in or to the virtual money virtual goods or other content any balance of virtual goods or virtual money does not reflect any stored value. you agree that virtual money and virtual goods have no monetary value and do not constitute actual currency or property of any type. virtual money may be redeemed only for virtual goods and can never be sold transferred or exchanged for real money real goods or real services from us or anyone else. you also agree that you will only obtain virtual money and or virtual goods from us and through means provided by us and not from any third party platform exchange broker or other mechanism unless expressly authorized. once you acquire a license to virtual money or virtual goods you may not trade or transfer the virtual money or virtual goods to another individual or account unless such functionality is provided to you by us by way of a feature or service whether inside the app or through some other method e g our website. we may cancel any virtual money or virtual goods sold transferred or exchanged in violation of these terms. any such sale transfer or exchange or attempt to do so is prohibited and may result in the termination of your account. during the term of your license to your virtual money you have the right to redeem your virtual money for selected virtual goods. if you are the parent and you are accepting these terms on behalf of your child you accept and acknowledge that your child has your consent to exercise this right independently. pricing and availability of virtual money and virtual goods are subject to change without notice. we reserve the right at any time to change and update our pricing and inventory of virtual money and virtual goods. as set forth below all virtual money virtual goods and other content is provided as is without any warranty. you agree that all sales by us to you of virtual money and virtual goods are final and that we will not permit exchanges or refunds for any unused virtual money or virtual goods once the transaction has been made. purchases by end users outside the u s virtual money and virtual goods may only be purchased and held by legal residents of countries where access to and use of the services are permitted. if you live in the european union you have certain rights to withdraw from online purchases. however please note that once you download virtual money from us your right of withdrawal ends. you agree that a purchase of virtual money involves immediate download of such content and b you lose your right of withdrawal once your purchase is complete. if you live in the european union we will provide you with a vat invoice when we are required to do so by law. you agree that these invoices may be electronic in format. we reserve the right to control regulate change or remove any virtual money or virtual goods without any liability to you.'}}},\n",
                            "  'response': {'results': [{'generated_text': 'App allows the purchase of virtual money and virtual goods. You agree that you do not acquire any ownership rights in or to the virtual money virtual goods or other content. You acknowledge that virtual money is a category of content and cannot be sold, transferred or exchanged for real money real goods or services from us or anyone else. We may cancel any virtual money or virtual goods sold or transferred in violation of these terms. You accept and acknowledge that you have the right to redeem your virtual money for selected virtual goods unless such functionality is provided to you by us. We reserve the right at any time to change and update our pricing and inventory. All virtual money, virtual goods and other content is provided as is without any warranty.'}]}},\n",
                            " {'request': {'parameters': {'template_variables': {'original_text': 'you agree that you are responsible for your own conduct and user content while using the services and for any consequences thereof. please refer to our trainer guidelines https pokemongo nianticlabs com support guidelines en for information about the kinds of conduct and user content that are prohibited while using the services. by way of example and not as a limitation you agree that when using the services and content you will not defame abuse harass harm stalk threaten or otherwise violate the legal rights including the rights of privacy and publicity of others upload post email transmit or otherwise make available any unlawful inappropriate defamatory obscene pornographic vulgar offensive fraudulent false misleading or deceptive content or message promote or engage in discrimination bigotry racism hatred or harassment against any individual or group trespass or in any manner attempt to gain or gain access to any property or location where you do not have a right or permission to be violate or encourage any conduct that would violate any applicable law or regulation or would give rise to civil liability upload post or otherwise make available commercial messages or advertisements pyramid schemes or other disruptive notices impersonate or misrepresent your affiliation with another person or entity promote or provide instructional information about illegal or harmful activities or substances promote or engage in physical harm violence or injury against any group or individual transmit any viruses worms defects trojan horses or any items of a destructive nature submit fake falsified misleading or inappropriate data submissions edits or removals post upload publish submit or transmit any content that infringes misappropriates or violates a third party s patent copyright trademark trade secret moral rights or other intellectual property rights or rights of publicity or privacy use display mirror or frame the services or any individual element within the services niantic s name any niantic trademark logo or other proprietary information or the layout and design of any page or form contained on a page without niantic s express written consent access tamper with or use nonpublic areas of the services niantic s computer systems or the technical delivery systems of niantic s providers attempt to probe scan or test the vulnerability of any niantic system or network or breach any security or authentication measures avoid bypass remove deactivate impair descramble or otherwise circumvent any technological measure implemented by niantic or any of niantic s providers or any other third party including another user to protect the services or content attempt to access or search the services or content or download content from the services through the use of any technology or means other than those provided by niantic or other generally available third party web browsers including without limitation automation software bots spiders crawlers data mining tools or hacks tools agents engines or devices of any kind extract scrape index copy or mirror the services or content or portions thereof including but not limited to the pok\\\\u00e9stop database and other information about users or gameplay use any meta tags or other hidden text or metadata utilizing a niantic trademark logo url or product name without niantic s express written consent forge any tcp ip packet header or any part of the header information in any email or newsgroup posting or in any way use the services or content to send altered deceptive or false source identifying information attempt to decipher decompile disassemble or reverse engineer any of the software used to provide the services or content interfere with or attempt to interfere with the access of any user host or network including without limitation sending a virus overloading flooding spamming or mail bombing the services take any action that imposes or may impose an unreasonable or disproportionately large load on the services or niantic s infrastructure delete obscure or in any manner alter any attribution warning or link that appears in the services or the content use the services or content or any portion thereof for any commercial purpose or for the benefit of any third party or in a manner not permitted by these terms including but not limited to a gathering in app items or resources for sale outside the app b performing services in the app in exchange for payment outside the app or c sell resell rent or lease the app or your account collect or store any personally identifiable information from the services from other users of the services without their express permission violate any applicable law or regulation orencourage or enable any other individual to do any of the foregoing. although we re not obligated to monitor access to or use of the services or content or to review or edit any content we have the right to do so for the purpose of operating the services to ensure compliance with these terms and to comply with applicable law or other legal requirements. we reserve the right but are not obligated to remove or disable access to any content at any time and without notice including but not limited to if we at our sole discretion consider any content to be objectionable or in violation of these terms. we have the right to investigate violations of these terms or conduct that affects the services. we may also consult and cooperate with law enforcement authorities to prosecute users who violate the law.'}}},\n",
                            "  'response': {'results': [{'generated_text': ' you agree that you are responsible for your own conduct and user content while using the service and for any consequences thereof.'}]}},\n",
                            " {'request': {'parameters': {'template_variables': {'original_text': 'we welcome feedback comments and suggestions for improvements to the services feedback. you can submit feedback by reaching out to us on facebook twitter or google. you grant to us a nonexclusive worldwide perpetual irrevocable fully paid royalty free sublicensable and transferable license under any and all intellectual property rights that you own or control to use copy modify create derivative works based upon and otherwise exploit the feedback for any purpose.'}}},\n",
                            "  'response': {'results': [{'generated_text': 'We want to hear your feedback.'}]}}]"
                        ]
                    },
                    "execution_count": 389,
                    "metadata": {},
                    "output_type": "execute_result"
                }
            ],
            "source": [
                "import csv\n",
                "\n",
                "feature_fields = [\"original_text\"]\n",
                "prediction = \"generated_text\"\n",
                "\n",
                "pl_data = []\n",
                "prediction_list = []\n",
                "\n",
                "with open(test_data_path, 'r') as csv_file:\n",
                "    csv_reader = csv.DictReader(csv_file)\n",
                "    for row in csv_reader:\n",
                "        request = {\n",
                "            \"parameters\": {\n",
                "                \"template_variables\": {\n",
                "                }\n",
                "            }\n",
                "        }\n",
                "        for each in feature_fields:\n",
                "            request[\"parameters\"][\"template_variables\"][each] = str(row[each])\n",
                "\n",
                "        predicted_val = row[prediction]\n",
                "        prediction_list.append(predicted_val)\n",
                "        response = {\n",
                "            \"results\": [\n",
                "                {\n",
                "                    prediction: predicted_val\n",
                "                }\n",
                "            ]\n",
                "        }\n",
                "        record = {\"request\": request, \"response\": response}\n",
                "        pl_data.append(record)\n",
                "pl_data"
            ]
        },
        {
            "cell_type": "markdown",
            "metadata": {
                "id": "4ff83f17-08de-4a67-ae33-2c391e7a2e0b"
            },
            "source": [
                "### Generating additional payload data to enable drift(`Prod` only)"
            ]
        },
        {
            "cell_type": "markdown",
            "metadata": {
                "id": "6f84f798-9c0d-4be6-9d2d-8c4ce82d0eb5"
            },
            "source": [
                "To enable drift there should be minimum 100 records in the payload table. The below cell duplicates the scored records and create another 100 records for adding to the payload table"
            ]
        },
        {
            "cell_type": "code",
            "execution_count": 390,
            "metadata": {
                "id": "83940582-c58e-4fe8-a40c-83bb9e3b892f"
            },
            "outputs": [
                {
                    "name": "stdout",
                    "output_type": "stream",
                    "text": [
                        "Generated 110 additional payload data\n"
                    ]
                }
            ],
            "source": [
                "additional_pl_data = copy.copy(pl_data)\n",
                "additional_pl_data *= 11\n",
                "print(\"Generated {} additional payload data\".format(len(additional_pl_data)))"
            ]
        },
        {
            "cell_type": "markdown",
            "metadata": {
                "id": "1e0c580b-d34e-417d-8024-5770ca614d9c"
            },
            "source": [
                "### Adding payload data\n",
                "\n",
                "Below cell reads the payload data set id from the subscription. "
            ]
        },
        {
            "cell_type": "code",
            "execution_count": 391,
            "metadata": {
                "id": "14cc11ea-667c-4afc-a73d-f0103902249f"
            },
            "outputs": [
                {
                    "name": "stdout",
                    "output_type": "stream",
                    "text": [
                        "Payload data set id:  f63b482c-1c50-481d-9895-7470c0a63dbe\n"
                    ]
                }
            ],
            "source": [
                "import time\n",
                "from ibm_watson_openscale.supporting_classes.enums import *\n",
                "\n",
                "time.sleep(5)\n",
                "payload_data_set_id = None\n",
                "payload_data_set_id = wos_client.data_sets.list(type=DataSetTypes.PAYLOAD_LOGGING, \n",
                "                                                target_target_id=prod_subscription_id, \n",
                "                                                target_target_type=TargetTypes.SUBSCRIPTION).result.data_sets[0].metadata.id\n",
                "if payload_data_set_id is None:\n",
                "    print(\"Payload data set not found. Please check subscription status.\")\n",
                "else:\n",
                "    print(\"Payload data set id: \", payload_data_set_id)"
            ]
        },
        {
            "cell_type": "markdown",
            "metadata": {
                "id": "2ff8cf61-1793-408c-99ee-e57dcf5ca6ca"
            },
            "source": [
                "Add additioanl payload data to enable drift V2"
            ]
        },
        {
            "cell_type": "code",
            "execution_count": 392,
            "metadata": {
                "id": "ebb8f9c2-aad8-423a-8eb9-06406dc5875c"
            },
            "outputs": [
                {
                    "name": "stdout",
                    "output_type": "stream",
                    "text": [
                        "\n",
                        "\n",
                        "==========================================================================================\n",
                        "\n",
                        " Waiting for end of storing records with request id: 1f19d0dd-7414-4b38-9be3-f72f87c62107 \n",
                        "\n",
                        "==========================================================================================\n",
                        "\n",
                        "\n",
                        "\n",
                        "pending\n",
                        "active\n",
                        "\n",
                        "---------------------------------------\n",
                        " Successfully finished storing records \n",
                        "---------------------------------------\n",
                        "\n",
                        "\n",
                        "Number of records in the payload logging table: 10\n"
                    ]
                }
            ],
            "source": [
                "wos_client.data_sets.store_records(data_set_id=payload_data_set_id, request_body=pl_data,background_mode=False)\n",
                "time.sleep(5)\n",
                "pl_records_count = wos_client.data_sets.get_records_count(payload_data_set_id)\n",
                "print(\"Number of records in the payload logging table: {}\".format(pl_records_count))"
            ]
        },
        {
            "cell_type": "markdown",
            "metadata": {
                "id": "389651c2-333d-42ba-8943-9243be4faef3"
            },
            "source": [
                "Now a total of 110 records should be available within the payload table. But in case if auto payload logging fails to transmit the scored records to the payload logging table, the following code can be used to manually add payload data to the table."
            ]
        },
        {
            "cell_type": "code",
            "execution_count": 393,
            "metadata": {
                "id": "1cc91d81-ddc9-4189-a1d9-6694270f1226"
            },
            "outputs": [
                {
                    "name": "stdout",
                    "output_type": "stream",
                    "text": [
                        "Number of records in the payload logging table: 10\n",
                        "Payload logging did not happen, performing explicit payload logging.\n",
                        "\n",
                        "\n",
                        "==========================================================================================\n",
                        "\n",
                        " Waiting for end of storing records with request id: b1a7d54e-bab5-4b7c-b8c5-c5a0e6c385d7 \n",
                        "\n",
                        "==========================================================================================\n",
                        "\n",
                        "\n",
                        "\n",
                        "active\n",
                        "\n",
                        "---------------------------------------\n",
                        " Successfully finished storing records \n",
                        "---------------------------------------\n",
                        "\n",
                        "\n",
                        "Number of records in the payload logging table: 20\n"
                    ]
                }
            ],
            "source": [
                "import uuid\n",
                "from ibm_watson_openscale.supporting_classes.payload_record import PayloadRecord\n",
                "time.sleep(5)\n",
                "pl_records_count = wos_client.data_sets.get_records_count(payload_data_set_id)\n",
                "print(\"Number of records in the payload logging table: {}\".format(pl_records_count))\n",
                "if pl_records_count < 110:\n",
                "    print(\"Payload logging did not happen, performing explicit payload logging.\")\n",
                "    wos_client.data_sets.store_records(data_set_id=payload_data_set_id, request_body=pl_data,background_mode=False)\n",
                "    time.sleep(5)\n",
                "    pl_records_count = wos_client.data_sets.get_records_count(payload_data_set_id)\n",
                "    print(\"Number of records in the payload logging table: {}\".format(pl_records_count))"
            ]
        },
        {
            "cell_type": "markdown",
            "metadata": {
                "id": "3f6887cc-7171-40e1-94f5-e28a81f7077a"
            },
            "source": [
                "### Adding feedback data\n",
                "\n",
                "Below cell reads the feedback data set id from the subscription. "
            ]
        },
        {
            "cell_type": "code",
            "execution_count": 394,
            "metadata": {
                "id": "6a7419b7-ecf5-4e8b-8987-0fe4d5af2132"
            },
            "outputs": [
                {
                    "name": "stdout",
                    "output_type": "stream",
                    "text": [
                        "Feedback data set id:  1e624254-5e4d-459d-bdcc-4118b202d804\n"
                    ]
                }
            ],
            "source": [
                "import time\n",
                "from ibm_watson_openscale.supporting_classes.enums import *\n",
                "\n",
                "time.sleep(5)\n",
                "feedback_data_set_id = None\n",
                "feedback_data_set_id = wos_client.data_sets.list(type=DataSetTypes.FEEDBACK, \n",
                "                                                target_target_id=prod_subscription_id, \n",
                "                                                target_target_type=TargetTypes.SUBSCRIPTION).result.data_sets[0].metadata.id\n",
                "if feedback_data_set_id is None:\n",
                "    print(\"Feedback data set not found. Please check subscription status.\")\n",
                "else:\n",
                "    print(\"Feedback data set id: \", feedback_data_set_id)"
            ]
        },
        {
            "cell_type": "markdown",
            "metadata": {
                "id": "e04f49b3-83e7-4802-a316-c7dfb1e33119"
            },
            "source": [
                "The provided code generates feedback data based on the downloaded CSV file and the scored response."
            ]
        },
        {
            "cell_type": "code",
            "execution_count": null,
            "metadata": {
                "id": "b54290c7-0acc-4fad-a946-b926ce102597"
            },
            "outputs": [],
            "source": [
                "\n",
                "test_data_content = []\n",
                "prediction_list = llm_data[\"generated_text\"].tolist()\n",
                "\n",
                "for _, row in llm_data.iterrows():\n",
                "    # Read each row from the DataFrame and add label and prediction values\n",
                "    result_row = [row[key] for key in feature_fields if key in row]\n",
                "    result_row.append(row[label_column])\n",
                "    result_row.append(row[\"generated_text\"])\n",
                "    test_data_content.append(result_row)\n",
                "\n",
                "if len(test_data_content) == 10: # 10 records are there in the downloaded CSV\n",
                "    print(\"generated feedback data from DataFrame\")\n",
                "else:\n",
                "    print(\"Failed to generate feedback data from DataFrame, kindly verify the DataFrame content\")\n",
                "\n",
                "fields = feature_fields.copy()\n",
                "fields.append(label_column)\n",
                "fields.append(\"_original_prediction\")\n",
                "feedback_data = [\n",
                "    {\n",
                "        \"fields\": fields,\n",
                "        \"values\": test_data_content\n",
                "    }\n",
                "]\n",
                "\n",
                "feedback_data"
            ]
        },
        {
            "cell_type": "markdown",
            "metadata": {
                "id": "27cd4e9d-63b9-4e8b-8554-0f915926da19"
            },
            "source": [
                "The following code can be used to manually add feedback data to the table."
            ]
        },
        {
            "cell_type": "code",
            "execution_count": 396,
            "metadata": {
                "id": "f5e626ea-757a-4f4e-9aeb-96f0ccb8a913"
            },
            "outputs": [
                {
                    "name": "stdout",
                    "output_type": "stream",
                    "text": [
                        "\n",
                        "\n",
                        "==========================================================================================\n",
                        "\n",
                        " Waiting for end of storing records with request id: ba224960-66a1-4004-9ac7-bd0c14e2643e \n",
                        "\n",
                        "==========================================================================================\n",
                        "\n",
                        "\n",
                        "\n",
                        "active\n",
                        "\n",
                        "---------------------------------------\n",
                        " Successfully finished storing records \n",
                        "---------------------------------------\n",
                        "\n",
                        "\n",
                        "Number of records in the feedback logging table: 10\n"
                    ]
                }
            ],
            "source": [
                "wos_client.data_sets.store_records(data_set_id=feedback_data_set_id, request_body=feedback_data,background_mode=False)\n",
                "time.sleep(5)\n",
                "fb_records_count = wos_client.data_sets.get_records_count(feedback_data_set_id)\n",
                "time.sleep(10)\n",
                "print(\"Number of records in the feedback logging table: {}\".format(fb_records_count))"
            ]
        },
        {
            "cell_type": "markdown",
            "metadata": {
                "id": "c237b1e3-5b48-4b50-9fd4-0d341816da80"
            },
            "source": [
                "## Show all the monitor instances of the subscription\n",
                "The following cell lists the monitors present in the `pre_production`/`production` subscription along with their respective statuses and other details. Please wait for all the monitors to be in active state before proceeding further."
            ]
        },
        {
            "cell_type": "code",
            "execution_count": 42,
            "metadata": {
                "id": "04357211-e30d-4f95-aa10-7531f1a8c96d"
            },
            "outputs": [
                {
                    "data": {
                        "text/html": [
                            "<HTML>\n",
                            "        <body>\n",
                            "            <h3>Monitor instances</h3>\n",
                            "            <table style='border: 1px solid #dddddd; font-family: Courier'>\n",
                            "                <th style='border: 1px solid #dddddd'>data_mart_id</th><th style='border: 1px solid #dddddd'>status</th><th style='border: 1px solid #dddddd'>target_id</th><th style='border: 1px solid #dddddd'>target_type</th><th style='border: 1px solid #dddddd'>monitor_definition_id</th><th style='border: 1px solid #dddddd'>created_at</th><th style='border: 1px solid #dddddd'>id</th>\n",
                            "                <tr><td style='border: 1px solid #dddddd'>4761e11b-18ab-4e88-a79d-b0e26609af5f</td><td style='border: 1px solid #dddddd'>active</td><td style='border: 1px solid #dddddd'>3e1d1892-eb57-40d7-8269-577285ed1b01</td><td style='border: 1px solid #dddddd'>subscription</td><td style='border: 1px solid #dddddd'>generative_ai_quality</td><td style='border: 1px solid #dddddd'>2024-08-08 15:30:20.529000+00:00</td><td style='border: 1px solid #dddddd'>75ea9294-3034-4065-836e-9ee41becc0fe</td></tr><tr><td style='border: 1px solid #dddddd'>4761e11b-18ab-4e88-a79d-b0e26609af5f</td><td style='border: 1px solid #dddddd'>active</td><td style='border: 1px solid #dddddd'>3e1d1892-eb57-40d7-8269-577285ed1b01</td><td style='border: 1px solid #dddddd'>subscription</td><td style='border: 1px solid #dddddd'>model_health</td><td style='border: 1px solid #dddddd'>2024-08-08 15:30:21.540000+00:00</td><td style='border: 1px solid #dddddd'>18d9ee91-8047-4201-9765-2021912592c8</td></tr><tr><td style='border: 1px solid #dddddd'>4761e11b-18ab-4e88-a79d-b0e26609af5f</td><td style='border: 1px solid #dddddd'>active</td><td style='border: 1px solid #dddddd'>3e1d1892-eb57-40d7-8269-577285ed1b01</td><td style='border: 1px solid #dddddd'>subscription</td><td style='border: 1px solid #dddddd'>mrm</td><td style='border: 1px solid #dddddd'>2024-08-08 15:30:22.482000+00:00</td><td style='border: 1px solid #dddddd'>1a1aa726-1bec-41b3-9fd8-0ab57f890f46</td></tr>\n",
                            "            </table>\n",
                            "        </body>\n",
                            "        </HTML>"
                        ],
                        "text/plain": [
                            "<IPython.core.display.HTML object>"
                        ]
                    },
                    "metadata": {},
                    "output_type": "display_data"
                }
            ],
            "source": [
                "import time\n",
                "time.sleep(10)\n",
                "wos_client.monitor_instances.show(target_target_id = prod_subscription_id)"
            ]
        },
        {
            "cell_type": "markdown",
            "metadata": {
                "id": "4b5954c3-7301-40d2-8e6c-88afb170ec15"
            },
            "source": [
                "### Read the MRM monitor instance ID of PTA subscription deployed in space\n",
                "\n",
                "Evaluating the test data against the prompt template subscription requires the monitor instance ID of MRM."
            ]
        },
        {
            "cell_type": "code",
            "execution_count": 55,
            "metadata": {
                "id": "29c4d159-0608-46c2-b0ff-f61c602ee072"
            },
            "outputs": [
                {
                    "data": {
                        "text/plain": [
                            "'279a2f54-d0ab-4de9-875f-05d1ca8906ba'"
                        ]
                    },
                    "execution_count": 55,
                    "metadata": {},
                    "output_type": "execute_result"
                }
            ],
            "source": [
                "monitor_definition_id = \"mrm\"\n",
                "target_target_id = prod_subscription_id\n",
                "result = wos_client.monitor_instances.list(data_mart_id=data_mart_id,\n",
                "                                           monitor_definition_id=monitor_definition_id,\n",
                "                                           target_target_id=target_target_id,\n",
                "                                           space_id=space_id).result\n",
                "result_json = result._to_dict()\n",
                "mrm_monitor_id = result_json[\"monitor_instances\"][0][\"metadata\"][\"id\"]\n",
                "mrm_monitor_id"
            ]
        },
        {
            "cell_type": "markdown",
            "metadata": {
                "id": "0f49912b-4bf8-4acb-8946-fc5e76a25eb1"
            },
            "source": [
                "### Evaluate the prompt template subscription from space\n",
                "\n",
                "The following cell will assess subscription of the prompt template asset and produce relevant measurements for the configured monitor. The data to be evaluated are already uploaded to payload and feedback table."
            ]
        },
        {
            "cell_type": "code",
            "execution_count": null,
            "metadata": {
                "id": "03c9f27b-07ac-4a1c-88b5-a5ec61699dd6"
            },
            "outputs": [],
            "source": [
                "#####################################################################################\n",
                "        #For production flow \n",
                "######################################################################################\n",
                "# response  = wos_client.monitor_instances.mrm.evaluate_risk(monitor_instance_id=mrm_monitor_id, \n",
                "#                                                     body = body,\n",
                "#                                                     space_id = space_id,\n",
                "#                                                     evaluation_tests = [\"generative_ai_quality\", \"model_health\"],\n",
                "#                                                     background_mode = False)"
            ]
        },
        {
            "cell_type": "code",
            "execution_count": 56,
            "metadata": {
                "id": "b2235196-4960-47b2-92a8-e57acf80bc07"
            },
            "outputs": [
                {
                    "name": "stdout",
                    "output_type": "stream",
                    "text": [
                        "\n",
                        "\n",
                        "=================================================================================\n",
                        "\n",
                        " Waiting for risk evaluation of MRM monitor 279a2f54-d0ab-4de9-875f-05d1ca8906ba \n",
                        "\n",
                        "=================================================================================\n",
                        "\n",
                        "\n",
                        "\n",
                        "upload_in_progress.\n",
                        "running...\n",
                        "finished\n",
                        "\n",
                        "---------------------------------------\n",
                        " Successfully finished evaluating risk \n",
                        "---------------------------------------\n",
                        "\n",
                        "\n"
                    ]
                }
            ],
            "source": [
                "#####################################################################################\n",
                "        #For pre_production flow \n",
                "######################################################################################\n",
                "response  = wos_client.monitor_instances.mrm.evaluate_risk(\n",
                "                                                    monitor_instance_id=mrm_monitor_id,\n",
                "                                                    body=body, \n",
                "                                                    test_data_set_name=test_data_set_name,\n",
                "                                                    test_data_path=test_data_path,        \n",
                "                                                    content_type=content_type,            \n",
                "                                                    includes_model_output=True,           \n",
                "                                                    space_id = existing_space_id,\n",
                "                                                    background_mode = False\n",
                "                                                    )"
            ]
        },
        {
            "cell_type": "markdown",
            "metadata": {
                "id": "f471959a-0163-47aa-b0e0-3aad428d48c8"
            },
            "source": [
                "### Read the risk evaluation response\n",
                "\n",
                "After initiating the risk evaluation, the evaluation results of PTA from space are now available for review,"
            ]
        },
        {
            "cell_type": "code",
            "execution_count": 57,
            "metadata": {
                "id": "5cb3e5e0-d4bc-4391-90bc-e58694a06d61"
            },
            "outputs": [
                {
                    "data": {
                        "text/plain": [
                            "{'metadata': {'id': 'e15f3d92-ebea-4bf0-8366-da24f8e6b513',\n",
                            "  'created_at': '2024-09-30T13:03:04.382Z',\n",
                            "  'created_by': 'iam-ServiceId-b317a8da-d926-496e-b0ca-6bcc57f556ae'},\n",
                            " 'entity': {'triggered_by': 'user',\n",
                            "  'parameters': {'deployment_id': 'bd72b140-2693-44be-af05-c94b3dc5585a',\n",
                            "   'evaluation_start_time': '2024-09-30T13:02:50.663166Z',\n",
                            "   'evaluator_user_key': '013aaf48-d5a3-436a-9734-9c9b131f50ce',\n",
                            "   'facts': {'state': 'finished'},\n",
                            "   'is_auto_evaluated': False,\n",
                            "   'measurement_id': '3f91b24e-2fa1-4fa8-905a-2ab8b056075f',\n",
                            "   'prompt_template_asset_id': '072bedef-1dd7-446e-808e-129525836381',\n",
                            "   'prompt_template_details': {'pta_resource_key': '56c89bb9d4e51c8a0b4b64b90d939d8cdb683bcddae9d34181e185eb8eadebdc'},\n",
                            "   'space_id': '90a90b37-8425-45a9-9a1a-8d952800a261',\n",
                            "   'user_iam_id': 'IBMid-696000272R',\n",
                            "   'publish_metrics': 'false',\n",
                            "   'evaluation_tests': ['drift_v2',\n",
                            "    'fairness',\n",
                            "    'generative_ai_quality',\n",
                            "    'model_health',\n",
                            "    'quality']},\n",
                            "  'status': {'state': 'finished',\n",
                            "   'queued_at': '2024-09-30T13:03:04.338000Z',\n",
                            "   'started_at': '2024-09-30T13:03:05.061000Z',\n",
                            "   'updated_at': '2024-09-30T13:03:37.610000Z',\n",
                            "   'completed_at': '2024-09-30T13:03:34.480000Z',\n",
                            "   'message': 'Mrm evaluation complete.',\n",
                            "   'operators': []}}}"
                        ]
                    },
                    "execution_count": 57,
                    "metadata": {},
                    "output_type": "execute_result"
                }
            ],
            "source": [
                "response  = wos_client.monitor_instances.mrm.get_risk_evaluation(mrm_monitor_id, space_id = space_id)\n",
                "response.result.to_dict()"
            ]
        },
        {
            "cell_type": "markdown",
            "metadata": {
                "id": "eb0ecb60-34e5-4779-9d42-33473ac3e3fc"
            },
            "source": [
                "## Display the Model Risk metrics\n",
                "\n",
                "Having calculated the measurements for the Foundation Model subscription, the MRM metrics generated for this subscription are now available for your review."
            ]
        },
        {
            "cell_type": "code",
            "execution_count": 58,
            "metadata": {
                "id": "c43cf7a9-f2e9-4f56-8ab5-f1068aee4fe1"
            },
            "outputs": [
                {
                    "data": {
                        "text/html": [
                            "<HTML>\n",
                            "        <body>\n",
                            "            <h3>279a2f54-d0ab-4de9-875f-05d1ca8906ba Monitor Runs Metrics from: 2024-09-23 13:03:51.379049  till: 2024-09-30 13:03:51.379057</h3>\n",
                            "            <table style='border: 1px solid #dddddd; font-family: Courier'>\n",
                            "                <th style='border: 1px solid #dddddd'>ts</th><th style='border: 1px solid #dddddd'>id</th><th style='border: 1px solid #dddddd'>measurement_id</th><th style='border: 1px solid #dddddd'>value</th><th style='border: 1px solid #dddddd'>lower_limit</th><th style='border: 1px solid #dddddd'>upper_limit</th><th style='border: 1px solid #dddddd'>tags</th><th style='border: 1px solid #dddddd'>monitor_definition_id</th><th style='border: 1px solid #dddddd'>monitor_instance_id</th><th style='border: 1px solid #dddddd'>run_id</th><th style='border: 1px solid #dddddd'>target_type</th><th style='border: 1px solid #dddddd'>target_id</th>\n",
                            "                <tr><td style='border: 1px solid #dddddd'>2024-09-30 13:03:04.476000+00:00</td><td style='border: 1px solid #dddddd'>tests_passed</td><td style='border: 1px solid #dddddd'>3f91b24e-2fa1-4fa8-905a-2ab8b056075f</td><td style='border: 1px solid #dddddd'>1.0</td><td style='border: 1px solid #dddddd'>None</td><td style='border: 1px solid #dddddd'>None</td><td style='border: 1px solid #dddddd'>['test_data_set_name:data']</td><td style='border: 1px solid #dddddd'>mrm</td><td style='border: 1px solid #dddddd'>279a2f54-d0ab-4de9-875f-05d1ca8906ba</td><td style='border: 1px solid #dddddd'>e15f3d92-ebea-4bf0-8366-da24f8e6b513</td><td style='border: 1px solid #dddddd'>subscription</td><td style='border: 1px solid #dddddd'>f44f6dbf-90c5-4266-8a31-8f97aed89b7f</td></tr><tr><td style='border: 1px solid #dddddd'>2024-09-30 13:03:04.476000+00:00</td><td style='border: 1px solid #dddddd'>tests_run</td><td style='border: 1px solid #dddddd'>3f91b24e-2fa1-4fa8-905a-2ab8b056075f</td><td style='border: 1px solid #dddddd'>1.0</td><td style='border: 1px solid #dddddd'>None</td><td style='border: 1px solid #dddddd'>None</td><td style='border: 1px solid #dddddd'>['test_data_set_name:data']</td><td style='border: 1px solid #dddddd'>mrm</td><td style='border: 1px solid #dddddd'>279a2f54-d0ab-4de9-875f-05d1ca8906ba</td><td style='border: 1px solid #dddddd'>e15f3d92-ebea-4bf0-8366-da24f8e6b513</td><td style='border: 1px solid #dddddd'>subscription</td><td style='border: 1px solid #dddddd'>f44f6dbf-90c5-4266-8a31-8f97aed89b7f</td></tr><tr><td style='border: 1px solid #dddddd'>2024-09-30 13:03:04.476000+00:00</td><td style='border: 1px solid #dddddd'>tests_skipped</td><td style='border: 1px solid #dddddd'>3f91b24e-2fa1-4fa8-905a-2ab8b056075f</td><td style='border: 1px solid #dddddd'>3.0</td><td style='border: 1px solid #dddddd'>None</td><td style='border: 1px solid #dddddd'>None</td><td style='border: 1px solid #dddddd'>['test_data_set_name:data']</td><td style='border: 1px solid #dddddd'>mrm</td><td style='border: 1px solid #dddddd'>279a2f54-d0ab-4de9-875f-05d1ca8906ba</td><td style='border: 1px solid #dddddd'>e15f3d92-ebea-4bf0-8366-da24f8e6b513</td><td style='border: 1px solid #dddddd'>subscription</td><td style='border: 1px solid #dddddd'>f44f6dbf-90c5-4266-8a31-8f97aed89b7f</td></tr><tr><td style='border: 1px solid #dddddd'>2024-09-30 13:03:04.476000+00:00</td><td style='border: 1px solid #dddddd'>tests_failed</td><td style='border: 1px solid #dddddd'>3f91b24e-2fa1-4fa8-905a-2ab8b056075f</td><td style='border: 1px solid #dddddd'>0.0</td><td style='border: 1px solid #dddddd'>None</td><td style='border: 1px solid #dddddd'>None</td><td style='border: 1px solid #dddddd'>['test_data_set_name:data']</td><td style='border: 1px solid #dddddd'>mrm</td><td style='border: 1px solid #dddddd'>279a2f54-d0ab-4de9-875f-05d1ca8906ba</td><td style='border: 1px solid #dddddd'>e15f3d92-ebea-4bf0-8366-da24f8e6b513</td><td style='border: 1px solid #dddddd'>subscription</td><td style='border: 1px solid #dddddd'>f44f6dbf-90c5-4266-8a31-8f97aed89b7f</td></tr>\n",
                            "            </table>\n",
                            "        </body>\n",
                            "        </HTML>"
                        ],
                        "text/plain": [
                            "<IPython.core.display.HTML object>"
                        ]
                    },
                    "metadata": {},
                    "output_type": "display_data"
                }
            ],
            "source": [
                "wos_client.monitor_instances.show_metrics(monitor_instance_id=mrm_monitor_id, space_id=space_id)"
            ]
        },
        {
            "cell_type": "markdown",
            "metadata": {
                "id": "2a3dfbd4-1c29-4f15-b58d-9e989afd1cde"
            },
            "source": [
                "## Display the Generative AI Quality metrics"
            ]
        },
        {
            "cell_type": "markdown",
            "metadata": {
                "id": "6a9ee665-eec9-4cd1-a421-f7cb2c78328b"
            },
            "source": [
                "### Read the Generative ai quality monitor instance id\n",
                "\n",
                "Monitor instance ID of Generative ai quality metrics is required for reading its metrics."
            ]
        },
        {
            "cell_type": "code",
            "execution_count": 59,
            "metadata": {
                "id": "61b3e569-a966-4da7-9042-779c6f80a9ed"
            },
            "outputs": [
                {
                    "data": {
                        "text/plain": [
                            "'a5873994-78aa-4459-915a-bca2eb39ff6a'"
                        ]
                    },
                    "execution_count": 59,
                    "metadata": {},
                    "output_type": "execute_result"
                }
            ],
            "source": [
                "monitor_definition_id = \"generative_ai_quality\"\n",
                "result = wos_client.monitor_instances.list(data_mart_id = data_mart_id,\n",
                "                                           monitor_definition_id = monitor_definition_id,\n",
                "                                           target_target_id = target_target_id,\n",
                "                                           space_id = space_id).result\n",
                "result_json = result._to_dict()\n",
                "genaiquality_monitor_id = result_json[\"monitor_instances\"][0][\"metadata\"][\"id\"]\n",
                "genaiquality_monitor_id"
            ]
        },
        {
            "cell_type": "markdown",
            "metadata": {
                "id": "4e9d775d-8319-4ba9-a2cb-8e98e57e6e18"
            },
            "source": [
                "Displaying the monitor metrics of GenAIQ generated through the risk evaluation."
            ]
        },
        {
            "cell_type": "code",
            "execution_count": 60,
            "metadata": {
                "id": "6dc5e8eb-4f2d-4bf4-8d03-9acf72def3b1"
            },
            "outputs": [
                {
                    "data": {
                        "text/html": [
                            "<HTML>\n",
                            "        <body>\n",
                            "            <h3>a5873994-78aa-4459-915a-bca2eb39ff6a Monitor Runs Metrics from: 2024-09-23 13:03:59.591072  till: 2024-09-30 13:03:59.591082</h3>\n",
                            "            <table style='border: 1px solid #dddddd; font-family: Courier'>\n",
                            "                <th style='border: 1px solid #dddddd'>ts</th><th style='border: 1px solid #dddddd'>id</th><th style='border: 1px solid #dddddd'>measurement_id</th><th style='border: 1px solid #dddddd'>value</th><th style='border: 1px solid #dddddd'>lower_limit</th><th style='border: 1px solid #dddddd'>upper_limit</th><th style='border: 1px solid #dddddd'>tags</th><th style='border: 1px solid #dddddd'>monitor_definition_id</th><th style='border: 1px solid #dddddd'>monitor_instance_id</th><th style='border: 1px solid #dddddd'>run_id</th><th style='border: 1px solid #dddddd'>target_type</th><th style='border: 1px solid #dddddd'>target_id</th>\n",
                            "                <tr><td style='border: 1px solid #dddddd'>2024-09-30 13:03:19.697330+00:00</td><td style='border: 1px solid #dddddd'>flesch_reading_ease</td><td style='border: 1px solid #dddddd'>66a54725-9eee-4eba-97ab-ca07034bc7b2</td><td style='border: 1px solid #dddddd'>44.932</td><td style='border: 1px solid #dddddd'>None</td><td style='border: 1px solid #dddddd'>None</td><td style='border: 1px solid #dddddd'>['computed_on:feedback', 'field_type:subscription', 'aggregation_type:mean']</td><td style='border: 1px solid #dddddd'>generative_ai_quality</td><td style='border: 1px solid #dddddd'>a5873994-78aa-4459-915a-bca2eb39ff6a</td><td style='border: 1px solid #dddddd'>aa607c49-db18-4cc3-811d-2d27a174a967</td><td style='border: 1px solid #dddddd'>subscription</td><td style='border: 1px solid #dddddd'>f44f6dbf-90c5-4266-8a31-8f97aed89b7f</td></tr><tr><td style='border: 1px solid #dddddd'>2024-09-30 13:03:19.697330+00:00</td><td style='border: 1px solid #dddddd'>normalized_recall</td><td style='border: 1px solid #dddddd'>66a54725-9eee-4eba-97ab-ca07034bc7b2</td><td style='border: 1px solid #dddddd'>0.3581</td><td style='border: 1px solid #dddddd'>None</td><td style='border: 1px solid #dddddd'>None</td><td style='border: 1px solid #dddddd'>['computed_on:feedback', 'field_type:subscription', 'aggregation_type:mean']</td><td style='border: 1px solid #dddddd'>generative_ai_quality</td><td style='border: 1px solid #dddddd'>a5873994-78aa-4459-915a-bca2eb39ff6a</td><td style='border: 1px solid #dddddd'>aa607c49-db18-4cc3-811d-2d27a174a967</td><td style='border: 1px solid #dddddd'>subscription</td><td style='border: 1px solid #dddddd'>f44f6dbf-90c5-4266-8a31-8f97aed89b7f</td></tr><tr><td style='border: 1px solid #dddddd'>2024-09-30 13:03:19.697330+00:00</td><td style='border: 1px solid #dddddd'>rouge2</td><td style='border: 1px solid #dddddd'>66a54725-9eee-4eba-97ab-ca07034bc7b2</td><td style='border: 1px solid #dddddd'>0.0312</td><td style='border: 1px solid #dddddd'>None</td><td style='border: 1px solid #dddddd'>None</td><td style='border: 1px solid #dddddd'>['computed_on:feedback', 'field_type:subscription', 'aggregation_type:mean']</td><td style='border: 1px solid #dddddd'>generative_ai_quality</td><td style='border: 1px solid #dddddd'>a5873994-78aa-4459-915a-bca2eb39ff6a</td><td style='border: 1px solid #dddddd'>aa607c49-db18-4cc3-811d-2d27a174a967</td><td style='border: 1px solid #dddddd'>subscription</td><td style='border: 1px solid #dddddd'>f44f6dbf-90c5-4266-8a31-8f97aed89b7f</td></tr><tr><td style='border: 1px solid #dddddd'>2024-09-30 13:03:19.697330+00:00</td><td style='border: 1px solid #dddddd'>records_processed</td><td style='border: 1px solid #dddddd'>66a54725-9eee-4eba-97ab-ca07034bc7b2</td><td style='border: 1px solid #dddddd'>10.0</td><td style='border: 1px solid #dddddd'>None</td><td style='border: 1px solid #dddddd'>None</td><td style='border: 1px solid #dddddd'>['computed_on:feedback', 'field_type:subscription', 'aggregation_type:mean']</td><td style='border: 1px solid #dddddd'>generative_ai_quality</td><td style='border: 1px solid #dddddd'>a5873994-78aa-4459-915a-bca2eb39ff6a</td><td style='border: 1px solid #dddddd'>aa607c49-db18-4cc3-811d-2d27a174a967</td><td style='border: 1px solid #dddddd'>subscription</td><td style='border: 1px solid #dddddd'>f44f6dbf-90c5-4266-8a31-8f97aed89b7f</td></tr><tr><td style='border: 1px solid #dddddd'>2024-09-30 13:03:19.697330+00:00</td><td style='border: 1px solid #dddddd'>jaccard_similarity</td><td style='border: 1px solid #dddddd'>66a54725-9eee-4eba-97ab-ca07034bc7b2</td><td style='border: 1px solid #dddddd'>0.0797</td><td style='border: 1px solid #dddddd'>None</td><td style='border: 1px solid #dddddd'>None</td><td style='border: 1px solid #dddddd'>['computed_on:feedback', 'field_type:subscription', 'aggregation_type:mean']</td><td style='border: 1px solid #dddddd'>generative_ai_quality</td><td style='border: 1px solid #dddddd'>a5873994-78aa-4459-915a-bca2eb39ff6a</td><td style='border: 1px solid #dddddd'>aa607c49-db18-4cc3-811d-2d27a174a967</td><td style='border: 1px solid #dddddd'>subscription</td><td style='border: 1px solid #dddddd'>f44f6dbf-90c5-4266-8a31-8f97aed89b7f</td></tr><tr><td style='border: 1px solid #dddddd'>2024-09-30 13:03:19.697330+00:00</td><td style='border: 1px solid #dddddd'>meteor</td><td style='border: 1px solid #dddddd'>66a54725-9eee-4eba-97ab-ca07034bc7b2</td><td style='border: 1px solid #dddddd'>0.2057</td><td style='border: 1px solid #dddddd'>None</td><td style='border: 1px solid #dddddd'>None</td><td style='border: 1px solid #dddddd'>['computed_on:feedback', 'field_type:subscription', 'aggregation_type:mean']</td><td style='border: 1px solid #dddddd'>generative_ai_quality</td><td style='border: 1px solid #dddddd'>a5873994-78aa-4459-915a-bca2eb39ff6a</td><td style='border: 1px solid #dddddd'>aa607c49-db18-4cc3-811d-2d27a174a967</td><td style='border: 1px solid #dddddd'>subscription</td><td style='border: 1px solid #dddddd'>f44f6dbf-90c5-4266-8a31-8f97aed89b7f</td></tr><tr><td style='border: 1px solid #dddddd'>2024-09-30 13:03:19.697330+00:00</td><td style='border: 1px solid #dddddd'>rougelsum</td><td style='border: 1px solid #dddddd'>66a54725-9eee-4eba-97ab-ca07034bc7b2</td><td style='border: 1px solid #dddddd'>0.1159</td><td style='border: 1px solid #dddddd'>None</td><td style='border: 1px solid #dddddd'>None</td><td style='border: 1px solid #dddddd'>['computed_on:feedback', 'field_type:subscription', 'aggregation_type:mean']</td><td style='border: 1px solid #dddddd'>generative_ai_quality</td><td style='border: 1px solid #dddddd'>a5873994-78aa-4459-915a-bca2eb39ff6a</td><td style='border: 1px solid #dddddd'>aa607c49-db18-4cc3-811d-2d27a174a967</td><td style='border: 1px solid #dddddd'>subscription</td><td style='border: 1px solid #dddddd'>f44f6dbf-90c5-4266-8a31-8f97aed89b7f</td></tr><tr><td style='border: 1px solid #dddddd'>2024-09-30 13:03:19.697330+00:00</td><td style='border: 1px solid #dddddd'>normalized_precision</td><td style='border: 1px solid #dddddd'>66a54725-9eee-4eba-97ab-ca07034bc7b2</td><td style='border: 1px solid #dddddd'>0.0855</td><td style='border: 1px solid #dddddd'>None</td><td style='border: 1px solid #dddddd'>None</td><td style='border: 1px solid #dddddd'>['computed_on:feedback', 'field_type:subscription', 'aggregation_type:mean']</td><td style='border: 1px solid #dddddd'>generative_ai_quality</td><td style='border: 1px solid #dddddd'>a5873994-78aa-4459-915a-bca2eb39ff6a</td><td style='border: 1px solid #dddddd'>aa607c49-db18-4cc3-811d-2d27a174a967</td><td style='border: 1px solid #dddddd'>subscription</td><td style='border: 1px solid #dddddd'>f44f6dbf-90c5-4266-8a31-8f97aed89b7f</td></tr><tr><td style='border: 1px solid #dddddd'>2024-09-30 13:03:19.697330+00:00</td><td style='border: 1px solid #dddddd'>bleu</td><td style='border: 1px solid #dddddd'>66a54725-9eee-4eba-97ab-ca07034bc7b2</td><td style='border: 1px solid #dddddd'>0.0075</td><td style='border: 1px solid #dddddd'>None</td><td style='border: 1px solid #dddddd'>None</td><td style='border: 1px solid #dddddd'>['computed_on:feedback', 'field_type:subscription', 'aggregation_type:mean']</td><td style='border: 1px solid #dddddd'>generative_ai_quality</td><td style='border: 1px solid #dddddd'>a5873994-78aa-4459-915a-bca2eb39ff6a</td><td style='border: 1px solid #dddddd'>aa607c49-db18-4cc3-811d-2d27a174a967</td><td style='border: 1px solid #dddddd'>subscription</td><td style='border: 1px solid #dddddd'>f44f6dbf-90c5-4266-8a31-8f97aed89b7f</td></tr><tr><td style='border: 1px solid #dddddd'>2024-09-30 13:03:19.697330+00:00</td><td style='border: 1px solid #dddddd'>normalized_f1</td><td style='border: 1px solid #dddddd'>66a54725-9eee-4eba-97ab-ca07034bc7b2</td><td style='border: 1px solid #dddddd'>0.1331</td><td style='border: 1px solid #dddddd'>None</td><td style='border: 1px solid #dddddd'>None</td><td style='border: 1px solid #dddddd'>['computed_on:feedback', 'field_type:subscription', 'aggregation_type:mean']</td><td style='border: 1px solid #dddddd'>generative_ai_quality</td><td style='border: 1px solid #dddddd'>a5873994-78aa-4459-915a-bca2eb39ff6a</td><td style='border: 1px solid #dddddd'>aa607c49-db18-4cc3-811d-2d27a174a967</td><td style='border: 1px solid #dddddd'>subscription</td><td style='border: 1px solid #dddddd'>f44f6dbf-90c5-4266-8a31-8f97aed89b7f</td></tr>\n",
                            "            </table>\n",
                            "        </body>\n",
                            "        </HTML>"
                        ],
                        "text/plain": [
                            "<IPython.core.display.HTML object>"
                        ]
                    },
                    "metadata": {},
                    "output_type": "display_data"
                },
                {
                    "name": "stdout",
                    "output_type": "stream",
                    "text": [
                        "Note: First 10 records were displayed.\n"
                    ]
                }
            ],
            "source": [
                "wos_client.monitor_instances.show_metrics(monitor_instance_id=genaiquality_monitor_id, space_id=space_id)"
            ]
        },
        {
            "cell_type": "markdown",
            "metadata": {
                "id": "67f49c48-c44b-46eb-a717-c5060078d4bc"
            },
            "source": [
                "## Display record level metrics for Generative AI Quality "
            ]
        },
        {
            "cell_type": "markdown",
            "metadata": {
                "id": "b9ceab1b-96be-4f84-9d6c-34fce7239476"
            },
            "source": [
                "Read the dataset id for generative ai quality dataset"
            ]
        },
        {
            "cell_type": "code",
            "execution_count": 61,
            "metadata": {
                "id": "7ee9e620-1bf5-4df6-831b-74b4d9625933"
            },
            "outputs": [
                {
                    "data": {
                        "text/plain": [
                            "'b898a267-ab75-4dcc-b4dc-c8473e3551a3'"
                        ]
                    },
                    "execution_count": 61,
                    "metadata": {},
                    "output_type": "execute_result"
                }
            ],
            "source": [
                "result = wos_client.data_sets.list(target_target_id = prod_subscription_id,\n",
                "                                target_target_type = \"subscription\",\n",
                "                                type = \"gen_ai_quality_metrics\").result\n",
                "\n",
                "genaiq_dataset_id = result.data_sets[0].metadata.id\n",
                "genaiq_dataset_id"
            ]
        },
        {
            "cell_type": "markdown",
            "metadata": {
                "id": "e93db2c8-ddf7-4e0f-b20c-1b69ecbee96f"
            },
            "source": [
                "Displaying record level metrics for generative ai quality"
            ]
        },
        {
            "cell_type": "code",
            "execution_count": 62,
            "metadata": {
                "id": "262f647d-e9be-44f9-aa1a-6d901fb26d80"
            },
            "outputs": [
                {
                    "data": {
                        "text/html": [
                            "<HTML>\n",
                            "        <body>\n",
                            "            <h3>Data Set b898a267-ab75-4dcc-b4dc-c8473e3551a3 Records</h3>\n",
                            "            <table style='border: 1px solid #dddddd; font-family: Courier'>\n",
                            "                <th style='border: 1px solid #dddddd'>flesch_reading_ease</th><th style='border: 1px solid #dddddd'>normalized_recall</th><th style='border: 1px solid #dddddd'>hap_input_score</th><th style='border: 1px solid #dddddd'>rouge2</th><th style='border: 1px solid #dddddd'>pii_entities</th><th style='border: 1px solid #dddddd'>scoring_id</th><th style='border: 1px solid #dddddd'>jaccard_similarity</th><th style='border: 1px solid #dddddd'>computed_on</th><th style='border: 1px solid #dddddd'>scoring_timestamp</th><th style='border: 1px solid #dddddd'>meteor</th><th style='border: 1px solid #dddddd'>rougelsum</th><th style='border: 1px solid #dddddd'>hap_score</th><th style='border: 1px solid #dddddd'>pii_input_entities</th><th style='border: 1px solid #dddddd'>pii</th><th style='border: 1px solid #dddddd'>normalized_precision</th><th style='border: 1px solid #dddddd'>hap_input_score_entities</th><th style='border: 1px solid #dddddd'>hap_score_positions</th><th style='border: 1px solid #dddddd'>bleu</th><th style='border: 1px solid #dddddd'>run_id</th><th style='border: 1px solid #dddddd'>normalized_f1</th><th style='border: 1px solid #dddddd'>pii_input_positions</th><th style='border: 1px solid #dddddd'>pii_positions</th><th style='border: 1px solid #dddddd'>rougel</th><th style='border: 1px solid #dddddd'>sari</th><th style='border: 1px solid #dddddd'>cosine_similarity</th><th style='border: 1px solid #dddddd'>hap_score_entities</th><th style='border: 1px solid #dddddd'>pii_input</th><th style='border: 1px solid #dddddd'>hap_input_score_positions</th><th style='border: 1px solid #dddddd'>rouge1</th>\n",
                            "                <tr><td style='border: 1px solid #dddddd'>66.37</td><td style='border: 1px solid #dddddd'>0.6956521739130435</td><td style='border: 1px solid #dddddd'>None</td><td style='border: 1px solid #dddddd'>0.122</td><td style='border: 1px solid #dddddd'>None</td><td style='border: 1px solid #dddddd'>MRM_9b058c31-aeb3-40da-b74b-6237477ff657-0</td><td style='border: 1px solid #dddddd'>0.23529411764705882</td><td style='border: 1px solid #dddddd'>feedback</td><td style='border: 1px solid #dddddd'>2024-09-30T13:02:53.371Z</td><td style='border: 1px solid #dddddd'>0.43983068666977515</td><td style='border: 1px solid #dddddd'>0.2857</td><td style='border: 1px solid #dddddd'>None</td><td style='border: 1px solid #dddddd'>None</td><td style='border: 1px solid #dddddd'>None</td><td style='border: 1px solid #dddddd'>0.26229508196721313</td><td style='border: 1px solid #dddddd'>None</td><td style='border: 1px solid #dddddd'>None</td><td style='border: 1px solid #dddddd'>0.0</td><td style='border: 1px solid #dddddd'>aa607c49-db18-4cc3-811d-2d27a174a967</td><td style='border: 1px solid #dddddd'>0.38095238095238093</td><td style='border: 1px solid #dddddd'>None</td><td style='border: 1px solid #dddddd'>None</td><td style='border: 1px solid #dddddd'>0.2619</td><td style='border: 1px solid #dddddd'>37.42649374600632</td><td style='border: 1px solid #dddddd'>0.34292349589118565</td><td style='border: 1px solid #dddddd'>None</td><td style='border: 1px solid #dddddd'>None</td><td style='border: 1px solid #dddddd'>None</td><td style='border: 1px solid #dddddd'>0.381</td></tr><tr><td style='border: 1px solid #dddddd'>36.89</td><td style='border: 1px solid #dddddd'>0.41025641025641024</td><td style='border: 1px solid #dddddd'>None</td><td style='border: 1px solid #dddddd'>0.04</td><td style='border: 1px solid #dddddd'>None</td><td style='border: 1px solid #dddddd'>MRM_9b058c31-aeb3-40da-b74b-6237477ff657-1</td><td style='border: 1px solid #dddddd'>0.09482758620689655</td><td style='border: 1px solid #dddddd'>feedback</td><td style='border: 1px solid #dddddd'>2024-09-30T13:02:53.371Z</td><td style='border: 1px solid #dddddd'>0.25380721706468895</td><td style='border: 1px solid #dddddd'>0.1711</td><td style='border: 1px solid #dddddd'>None</td><td style='border: 1px solid #dddddd'>None</td><td style='border: 1px solid #dddddd'>None</td><td style='border: 1px solid #dddddd'>0.1415929203539823</td><td style='border: 1px solid #dddddd'>None</td><td style='border: 1px solid #dddddd'>None</td><td style='border: 1px solid #dddddd'>0.0</td><td style='border: 1px solid #dddddd'>aa607c49-db18-4cc3-811d-2d27a174a967</td><td style='border: 1px solid #dddddd'>0.21052631578947367</td><td style='border: 1px solid #dddddd'>None</td><td style='border: 1px solid #dddddd'>None</td><td style='border: 1px solid #dddddd'>0.1447</td><td style='border: 1px solid #dddddd'>36.17335776942123</td><td style='border: 1px solid #dddddd'>0.20076633074937245</td><td style='border: 1px solid #dddddd'>None</td><td style='border: 1px solid #dddddd'>None</td><td style='border: 1px solid #dddddd'>None</td><td style='border: 1px solid #dddddd'>0.2105</td></tr><tr><td style='border: 1px solid #dddddd'>43.53</td><td style='border: 1px solid #dddddd'>0.3333333333333333</td><td style='border: 1px solid #dddddd'>None</td><td style='border: 1px solid #dddddd'>0.0</td><td style='border: 1px solid #dddddd'>None</td><td style='border: 1px solid #dddddd'>MRM_9b058c31-aeb3-40da-b74b-6237477ff657-2</td><td style='border: 1px solid #dddddd'>0.05952380952380952</td><td style='border: 1px solid #dddddd'>feedback</td><td style='border: 1px solid #dddddd'>2024-09-30T13:02:53.371Z</td><td style='border: 1px solid #dddddd'>0.1895619908042269</td><td style='border: 1px solid #dddddd'>0.0561</td><td style='border: 1px solid #dddddd'>None</td><td style='border: 1px solid #dddddd'>None</td><td style='border: 1px solid #dddddd'>None</td><td style='border: 1px solid #dddddd'>0.05434782608695652</td><td style='border: 1px solid #dddddd'>None</td><td style='border: 1px solid #dddddd'>None</td><td style='border: 1px solid #dddddd'>0.0</td><td style='border: 1px solid #dddddd'>aa607c49-db18-4cc3-811d-2d27a174a967</td><td style='border: 1px solid #dddddd'>0.09345794392523363</td><td style='border: 1px solid #dddddd'>None</td><td style='border: 1px solid #dddddd'>None</td><td style='border: 1px solid #dddddd'>0.0561</td><td style='border: 1px solid #dddddd'>34.36369193261337</td><td style='border: 1px solid #dddddd'>0.1658762443510568</td><td style='border: 1px solid #dddddd'>None</td><td style='border: 1px solid #dddddd'>None</td><td style='border: 1px solid #dddddd'>None</td><td style='border: 1px solid #dddddd'>0.0935</td></tr><tr><td style='border: 1px solid #dddddd'>48.74</td><td style='border: 1px solid #dddddd'>0.6363636363636364</td><td style='border: 1px solid #dddddd'>None</td><td style='border: 1px solid #dddddd'>0.0545</td><td style='border: 1px solid #dddddd'>None</td><td style='border: 1px solid #dddddd'>MRM_9b058c31-aeb3-40da-b74b-6237477ff657-3</td><td style='border: 1px solid #dddddd'>0.05952380952380952</td><td style='border: 1px solid #dddddd'>feedback</td><td style='border: 1px solid #dddddd'>2024-09-30T13:02:53.371Z</td><td style='border: 1px solid #dddddd'>0.21984762396694216</td><td style='border: 1px solid #dddddd'>0.125</td><td style='border: 1px solid #dddddd'>None</td><td style='border: 1px solid #dddddd'>None</td><td style='border: 1px solid #dddddd'>None</td><td style='border: 1px solid #dddddd'>0.06930693069306931</td><td style='border: 1px solid #dddddd'>None</td><td style='border: 1px solid #dddddd'>None</td><td style='border: 1px solid #dddddd'>0.0</td><td style='border: 1px solid #dddddd'>aa607c49-db18-4cc3-811d-2d27a174a967</td><td style='border: 1px solid #dddddd'>0.12500000000000003</td><td style='border: 1px solid #dddddd'>None</td><td style='border: 1px solid #dddddd'>None</td><td style='border: 1px solid #dddddd'>0.125</td><td style='border: 1px solid #dddddd'>35.698081418946416</td><td style='border: 1px solid #dddddd'>0.16563359875755435</td><td style='border: 1px solid #dddddd'>None</td><td style='border: 1px solid #dddddd'>None</td><td style='border: 1px solid #dddddd'>None</td><td style='border: 1px solid #dddddd'>0.125</td></tr><tr><td style='border: 1px solid #dddddd'>59.43</td><td style='border: 1px solid #dddddd'>0.3125</td><td style='border: 1px solid #dddddd'>None</td><td style='border: 1px solid #dddddd'>0.016</td><td style='border: 1px solid #dddddd'>None</td><td style='border: 1px solid #dddddd'>MRM_9b058c31-aeb3-40da-b74b-6237477ff657-4</td><td style='border: 1px solid #dddddd'>0.05154639175257732</td><td style='border: 1px solid #dddddd'>feedback</td><td style='border: 1px solid #dddddd'>2024-09-30T13:02:53.371Z</td><td style='border: 1px solid #dddddd'>0.13245033112582782</td><td style='border: 1px solid #dddddd'>0.0787</td><td style='border: 1px solid #dddddd'>None</td><td style='border: 1px solid #dddddd'>None</td><td style='border: 1px solid #dddddd'>None</td><td style='border: 1px solid #dddddd'>0.04504504504504504</td><td style='border: 1px solid #dddddd'>None</td><td style='border: 1px solid #dddddd'>None</td><td style='border: 1px solid #dddddd'>0.0</td><td style='border: 1px solid #dddddd'>aa607c49-db18-4cc3-811d-2d27a174a967</td><td style='border: 1px solid #dddddd'>0.07874015748031496</td><td style='border: 1px solid #dddddd'>None</td><td style='border: 1px solid #dddddd'>None</td><td style='border: 1px solid #dddddd'>0.0472</td><td style='border: 1px solid #dddddd'>36.65937406307187</td><td style='border: 1px solid #dddddd'>0.15870107648073237</td><td style='border: 1px solid #dddddd'>None</td><td style='border: 1px solid #dddddd'>None</td><td style='border: 1px solid #dddddd'>None</td><td style='border: 1px solid #dddddd'>0.0787</td></tr><tr><td style='border: 1px solid #dddddd'>53.81</td><td style='border: 1px solid #dddddd'>0.35714285714285715</td><td style='border: 1px solid #dddddd'>None</td><td style='border: 1px solid #dddddd'>0.0</td><td style='border: 1px solid #dddddd'>None</td><td style='border: 1px solid #dddddd'>MRM_9b058c31-aeb3-40da-b74b-6237477ff657-5</td><td style='border: 1px solid #dddddd'>0.05434782608695652</td><td style='border: 1px solid #dddddd'>feedback</td><td style='border: 1px solid #dddddd'>2024-09-30T13:02:53.371Z</td><td style='border: 1px solid #dddddd'>0.13245033112582782</td><td style='border: 1px solid #dddddd'>0.0758</td><td style='border: 1px solid #dddddd'>None</td><td style='border: 1px solid #dddddd'>None</td><td style='border: 1px solid #dddddd'>None</td><td style='border: 1px solid #dddddd'>0.0423728813559322</td><td style='border: 1px solid #dddddd'>None</td><td style='border: 1px solid #dddddd'>None</td><td style='border: 1px solid #dddddd'>0.0</td><td style='border: 1px solid #dddddd'>aa607c49-db18-4cc3-811d-2d27a174a967</td><td style='border: 1px solid #dddddd'>0.07575757575757576</td><td style='border: 1px solid #dddddd'>None</td><td style='border: 1px solid #dddddd'>None</td><td style='border: 1px solid #dddddd'>0.0606</td><td style='border: 1px solid #dddddd'>34.159915003583905</td><td style='border: 1px solid #dddddd'>0.19222347447100693</td><td style='border: 1px solid #dddddd'>None</td><td style='border: 1px solid #dddddd'>None</td><td style='border: 1px solid #dddddd'>None</td><td style='border: 1px solid #dddddd'>0.0758</td></tr><tr><td style='border: 1px solid #dddddd'>28.98</td><td style='border: 1px solid #dddddd'>0.2</td><td style='border: 1px solid #dddddd'>None</td><td style='border: 1px solid #dddddd'>0.0247</td><td style='border: 1px solid #dddddd'>None</td><td style='border: 1px solid #dddddd'>MRM_9b058c31-aeb3-40da-b74b-6237477ff657-6</td><td style='border: 1px solid #dddddd'>0.0782608695652174</td><td style='border: 1px solid #dddddd'>feedback</td><td style='border: 1px solid #dddddd'>2024-09-30T13:02:53.371Z</td><td style='border: 1px solid #dddddd'>0.1571076831963325</td><td style='border: 1px solid #dddddd'>0.122</td><td style='border: 1px solid #dddddd'>None</td><td style='border: 1px solid #dddddd'>None</td><td style='border: 1px solid #dddddd'>None</td><td style='border: 1px solid #dddddd'>0.08771929824561403</td><td style='border: 1px solid #dddddd'>None</td><td style='border: 1px solid #dddddd'>None</td><td style='border: 1px solid #dddddd'>0.0</td><td style='border: 1px solid #dddddd'>aa607c49-db18-4cc3-811d-2d27a174a967</td><td style='border: 1px solid #dddddd'>0.12195121951219512</td><td style='border: 1px solid #dddddd'>None</td><td style='border: 1px solid #dddddd'>None</td><td style='border: 1px solid #dddddd'>0.1098</td><td style='border: 1px solid #dddddd'>34.63000406755866</td><td style='border: 1px solid #dddddd'>0.12153799646977403</td><td style='border: 1px solid #dddddd'>None</td><td style='border: 1px solid #dddddd'>None</td><td style='border: 1px solid #dddddd'>None</td><td style='border: 1px solid #dddddd'>0.122</td></tr><tr><td style='border: 1px solid #dddddd'>41.7</td><td style='border: 1px solid #dddddd'>0.2</td><td style='border: 1px solid #dddddd'>None</td><td style='border: 1px solid #dddddd'>0.013</td><td style='border: 1px solid #dddddd'>None</td><td style='border: 1px solid #dddddd'>MRM_9b058c31-aeb3-40da-b74b-6237477ff657-7</td><td style='border: 1px solid #dddddd'>0.0603448275862069</td><td style='border: 1px solid #dddddd'>feedback</td><td style='border: 1px solid #dddddd'>2024-09-30T13:02:53.371Z</td><td style='border: 1px solid #dddddd'>0.18057971449136279</td><td style='border: 1px solid #dddddd'>0.0897</td><td style='border: 1px solid #dddddd'>None</td><td style='border: 1px solid #dddddd'>None</td><td style='border: 1px solid #dddddd'>None</td><td style='border: 1px solid #dddddd'>0.05785123966942149</td><td style='border: 1px solid #dddddd'>None</td><td style='border: 1px solid #dddddd'>None</td><td style='border: 1px solid #dddddd'>0.0</td><td style='border: 1px solid #dddddd'>aa607c49-db18-4cc3-811d-2d27a174a967</td><td style='border: 1px solid #dddddd'>0.08974358974358976</td><td style='border: 1px solid #dddddd'>None</td><td style='border: 1px solid #dddddd'>None</td><td style='border: 1px solid #dddddd'>0.0641</td><td style='border: 1px solid #dddddd'>34.77185416979911</td><td style='border: 1px solid #dddddd'>0.19046516873737473</td><td style='border: 1px solid #dddddd'>None</td><td style='border: 1px solid #dddddd'>None</td><td style='border: 1px solid #dddddd'>None</td><td style='border: 1px solid #dddddd'>0.0897</td></tr><tr><td style='border: 1px solid #dddddd'>28.17</td><td style='border: 1px solid #dddddd'>0.2692307692307692</td><td style='border: 1px solid #dddddd'>None</td><td style='border: 1px solid #dddddd'>0.0423</td><td style='border: 1px solid #dddddd'>None</td><td style='border: 1px solid #dddddd'>MRM_9b058c31-aeb3-40da-b74b-6237477ff657-8</td><td style='border: 1px solid #dddddd'>0.06930693069306931</td><td style='border: 1px solid #dddddd'>feedback</td><td style='border: 1px solid #dddddd'>2024-09-30T13:02:53.371Z</td><td style='border: 1px solid #dddddd'>0.24835109687903267</td><td style='border: 1px solid #dddddd'>0.0972</td><td style='border: 1px solid #dddddd'>None</td><td style='border: 1px solid #dddddd'>None</td><td style='border: 1px solid #dddddd'>None</td><td style='border: 1px solid #dddddd'>0.059322033898305086</td><td style='border: 1px solid #dddddd'>None</td><td style='border: 1px solid #dddddd'>None</td><td style='border: 1px solid #dddddd'>0.020159431335582723</td><td style='border: 1px solid #dddddd'>aa607c49-db18-4cc3-811d-2d27a174a967</td><td style='border: 1px solid #dddddd'>0.09722222222222222</td><td style='border: 1px solid #dddddd'>None</td><td style='border: 1px solid #dddddd'>None</td><td style='border: 1px solid #dddddd'>0.0833</td><td style='border: 1px solid #dddddd'>48.2253628951006</td><td style='border: 1px solid #dddddd'>0.10420174696905096</td><td style='border: 1px solid #dddddd'>None</td><td style='border: 1px solid #dddddd'>None</td><td style='border: 1px solid #dddddd'>None</td><td style='border: 1px solid #dddddd'>0.0972</td></tr><tr><td style='border: 1px solid #dddddd'>41.7</td><td style='border: 1px solid #dddddd'>0.16666666666666666</td><td style='border: 1px solid #dddddd'>None</td><td style='border: 1px solid #dddddd'>0.0</td><td style='border: 1px solid #dddddd'>None</td><td style='border: 1px solid #dddddd'>MRM_9b058c31-aeb3-40da-b74b-6237477ff657-9</td><td style='border: 1px solid #dddddd'>0.03389830508474576</td><td style='border: 1px solid #dddddd'>feedback</td><td style='border: 1px solid #dddddd'>2024-09-30T13:02:53.371Z</td><td style='border: 1px solid #dddddd'>0.10309278350515468</td><td style='border: 1px solid #dddddd'>0.058</td><td style='border: 1px solid #dddddd'>None</td><td style='border: 1px solid #dddddd'>None</td><td style='border: 1px solid #dddddd'>None</td><td style='border: 1px solid #dddddd'>0.03508771929824561</td><td style='border: 1px solid #dddddd'>None</td><td style='border: 1px solid #dddddd'>None</td><td style='border: 1px solid #dddddd'>0.0</td><td style='border: 1px solid #dddddd'>aa607c49-db18-4cc3-811d-2d27a174a967</td><td style='border: 1px solid #dddddd'>0.057971014492753624</td><td style='border: 1px solid #dddddd'>None</td><td style='border: 1px solid #dddddd'>None</td><td style='border: 1px solid #dddddd'>0.058</td><td style='border: 1px solid #dddddd'>32.87240331025165</td><td style='border: 1px solid #dddddd'>0.09114279997299037</td><td style='border: 1px solid #dddddd'>None</td><td style='border: 1px solid #dddddd'>None</td><td style='border: 1px solid #dddddd'>None</td><td style='border: 1px solid #dddddd'>0.058</td></tr>\n",
                            "            </table>\n",
                            "        </body>\n",
                            "        </HTML>"
                        ],
                        "text/plain": [
                            "<IPython.core.display.HTML object>"
                        ]
                    },
                    "metadata": {},
                    "output_type": "display_data"
                }
            ],
            "source": [
                "wos_client.data_sets.show_records(data_set_id = genaiq_dataset_id)"
            ]
        },
        {
            "cell_type": "markdown",
            "metadata": {
                "id": "060500b6-ff97-4ac3-aa3c-a06b8e84d125"
            },
            "source": [
                "# Plot rougel and rougelsum metrics against records <a name=\"plotspace\"></a>"
            ]
        },
        {
            "cell_type": "code",
            "execution_count": 63,
            "metadata": {
                "id": "6322914a-2922-4a02-9d22-b8b9126410f1"
            },
            "outputs": [],
            "source": [
                "result = wos_client.data_sets.get_list_of_records(data_set_id = genaiq_dataset_id).result\n",
                "result[\"records\"]\n",
                "x = []\n",
                "y_rougel = []\n",
                "y_rougelsum = []\n",
                "for each in result[\"records\"]:\n",
                "    x.append(each[\"metadata\"][\"id\"][-5:]) # Reading only last 5 characters to fit in the display\n",
                "    y_rougel.append(each[\"entity\"][\"values\"][\"rougel\"])\n",
                "    y_rougelsum.append(each[\"entity\"][\"values\"][\"rougelsum\"])"
            ]
        },
        {
            "cell_type": "markdown",
            "metadata": {
                "id": "07419d40-5763-4969-aed4-4b34ee8457e3"
            },
            "source": [
                "Plot rougel metrics against records"
            ]
        },
        {
            "cell_type": "code",
            "execution_count": 64,
            "metadata": {
                "id": "b9923ce4-e89a-49a0-a2b3-b31282e2e01e"
            },
            "outputs": [
                {
                    "data": {
                        "image/png": "[encoded data removed]",
                        "text/plain": [
                            "<Figure size 640x480 with 1 Axes>"
                        ]
                    },
                    "metadata": {},
                    "output_type": "display_data"
                }
            ],
            "source": [
                "import matplotlib.pyplot as plt\n",
                "plt.scatter(x, y_rougel, marker='o')\n",
                "\n",
                "# Adding labels and title\n",
                "plt.xlabel('X-axis - Record id (last 5 characters)')\n",
                "plt.ylabel('Y-axis - ROUGEL')\n",
                "plt.title('rougel vs record id')\n",
                "\n",
                "# Display the graph\n",
                "plt.show()"
            ]
        },
        {
            "cell_type": "markdown",
            "metadata": {
                "id": "6f75aab4-765b-47d5-aa9b-12ebbc6a558e"
            },
            "source": [
                "Plot rougelsum metrics against records"
            ]
        },
        {
            "cell_type": "code",
            "execution_count": 65,
            "metadata": {
                "id": "a94d51e7-e521-47fc-87ac-c21a2c662e16"
            },
            "outputs": [
                {
                    "data": {
                        "image/png": "[encoded data removed]",
                        "text/plain": [
                            "<Figure size 640x480 with 1 Axes>"
                        ]
                    },
                    "metadata": {},
                    "output_type": "display_data"
                }
            ],
            "source": [
                "import matplotlib.pyplot as plt\n",
                "plt.scatter(x, y_rougelsum, marker='o')\n",
                "\n",
                "# Adding labels and title\n",
                "plt.xlabel('X-axis - Record id (last 5 characters)')\n",
                "plt.ylabel('Y-axis - ROUGELSUM')\n",
                "plt.title('rougelsum vs record id')\n",
                "\n",
                "# Display the graph\n",
                "plt.show()"
            ]
        },
        {
            "cell_type": "markdown",
            "metadata": {
                "id": "39f76628-a190-4fe9-be0a-b29559579c05"
            },
            "source": [
                "## Display the Drift V2 metrics (`Prod` only)"
            ]
        },
        {
            "cell_type": "markdown",
            "metadata": {
                "id": "11c598fd-cc85-477b-b36d-dc822da4a214"
            },
            "source": [
                "### Read the Drift V2 monitor instance id\n",
                "\n",
                "Monitor instance ID of Drift V2 metrics is required for reading its metrics."
            ]
        },
        {
            "cell_type": "code",
            "execution_count": null,
            "metadata": {
                "id": "9fe12e4e-8a59-4c08-a7fe-ca52fea3607c"
            },
            "outputs": [],
            "source": [
                "monitor_definition_id = \"drift_v2\"\n",
                "result = wos_client.monitor_instances.list(data_mart_id = data_mart_id,\n",
                "                                           monitor_definition_id = monitor_definition_id,\n",
                "                                           target_target_id = target_target_id,\n",
                "                                           space_id = space_id).result\n",
                "result_json = result._to_dict()\n",
                "drift_monitor_id = result_json[\"monitor_instances\"][0][\"metadata\"][\"id\"]\n",
                "drift_monitor_id"
            ]
        },
        {
            "cell_type": "markdown",
            "metadata": {
                "id": "ba2e45d0-f5ed-46d8-966a-a777eabb4f37"
            },
            "source": [
                "Displaying the monitor metrics of Drift V2 generated through the risk evaluation."
            ]
        },
        {
            "cell_type": "code",
            "execution_count": null,
            "metadata": {
                "id": "7d48f035-b2ff-4281-9a5f-00fc1bafb7d1"
            },
            "outputs": [],
            "source": [
                "time.sleep(15)\n",
                "wos_client.monitor_instances.show_metrics(monitor_instance_id=drift_monitor_id, space_id=space_id)"
            ]
        },
        {
            "cell_type": "markdown",
            "metadata": {
                "id": "fe2d4c8d-b77c-4e1c-b6e2-b3adc480cb34"
            },
            "source": [
                "# User can navigate to see the published facts in space <a name=\"factsheetsproject\"></a>"
            ]
        },
        {
            "cell_type": "code",
            "execution_count": 66,
            "metadata": {
                "id": "e6edc963-7ea7-4e87-b48b-d7a5dcaf1b8d"
            },
            "outputs": [
                {
                    "name": "stdout",
                    "output_type": "stream",
                    "text": [
                        "User can navigate to the published facts in space https://dataplatform.cloud.ibm.com/ml-runtime/deployments/bd72b140-2693-44be-af05-c94b3dc5585a/details?space_id=90a90b37-8425-45a9-9a1a-8d952800a261&context=wx&flush=true\n"
                    ]
                }
            ],
            "source": [
                "factsheets_url = \"https://dataplatform.cloud.ibm.com/ml-runtime/deployments/{}/details?space_id={}&context=wx&flush=true\".format(deployment_id, space_id)\n",
                "print(\"User can navigate to the published facts in space {}\".format(factsheets_url))"
            ]
        },
        {
            "cell_type": "markdown",
            "metadata": {
                "id": "4030e483-1f39-4c07-b68b-8f2a0a890aac"
            },
            "source": [
                "## Congratulations!\n",
                "\n",
                "You have finished the hands-on lab for IBM Watson OpenScale. You can now navigate to the prompt template asset in your project / spaceand click on the Evaluate tab to visualise the results on the UI."
            ]
        }
    ],
    "metadata": {
        "kernelspec": {
            "display_name": "Python 3.11",
            "language": "python",
            "name": "python3"
        },
        "language_info": {
            "codemirror_mode": {
                "name": "ipython",
                "version": 3
            },
            "file_extension": ".py",
            "mimetype": "text/x-python",
            "name": "python",
            "nbconvert_exporter": "python",
            "pygments_lexer": "ipython3",
            "version": "3.11.9"
        }
    },
    "nbformat": 4,
    "nbformat_minor": 4
}