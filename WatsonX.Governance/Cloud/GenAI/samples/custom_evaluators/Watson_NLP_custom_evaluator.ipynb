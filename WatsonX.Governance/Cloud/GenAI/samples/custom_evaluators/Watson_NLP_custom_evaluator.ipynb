{
    "cells": [
        {
            "cell_type": "markdown",
            "metadata": {},
            "source": [
                "# Custom generative AI evaluators using python function wrappers on watsonx.governance fine tuned models.\n",
                "\n",
                "This notebook illustrates how to create custom generative AI evaluators by deploying python functions in the Cloud using a custom runtime environment built on runtime-24.1. These python functions invoke the fine tuned RAG models using watson nlp to perform specified metric evaluations."
            ]
        },
        {
            "cell_type": "markdown",
            "metadata": {},
            "source": [
                "## Learning goals\n",
                "\n",
                "- Custom evaluators creation using fine tuned models for computing RAG metrics"
            ]
        },
        {
            "cell_type": "markdown",
            "metadata": {},
            "source": [
                "## Prerequisites\n",
                "\n",
                "- IBM Cloud credentials\n",
                "- Space id in which you want to create python function deployments"
            ]
        },
        {
            "cell_type": "markdown",
            "metadata": {},
            "source": [
                "## Contents\n",
                "\n",
                "- [Step 1 - Setup](#setup)\n",
                "- [Step 2 - Generative AI Evaluators creation](#evaluator)"
            ]
        },
        {
            "cell_type": "markdown",
            "metadata": {},
            "source": [
                "## Step 1 - Setup <a id=\"setup\"></a>"
            ]
        },
        {
            "cell_type": "markdown",
            "metadata": {},
            "source": [
                "### Install the necessary libraries"
            ]
        },
        {
            "cell_type": "code",
            "execution_count": null,
            "metadata": {
                "id": "a7f99409-f98b-4a72-981b-439dcb1b9cc8"
            },
            "outputs": [
                {
                    "name": "stdout",
                    "output_type": "stream",
                    "text": [
                        "Requirement already satisfied: ibm-watsonx-ai==1.1.11 in /opt/conda/envs/Python-RT24.1/lib/python3.11/site-packages (1.1.11)\n",
                        "Requirement already satisfied: requests in /opt/conda/envs/Python-RT24.1/lib/python3.11/site-packages (from ibm-watsonx-ai==1.1.11) (2.32.2)\n",
                        "Requirement already satisfied: httpx in /opt/conda/envs/Python-RT24.1/lib/python3.11/site-packages (from ibm-watsonx-ai==1.1.11) (0.26.0)\n",
                        "Requirement already satisfied: urllib3 in /opt/conda/envs/Python-RT24.1/lib/python3.11/site-packages (from ibm-watsonx-ai==1.1.11) (1.26.19)\n",
                        "Requirement already satisfied: pandas<2.2.0,>=0.24.2 in /opt/conda/envs/Python-RT24.1/lib/python3.11/site-packages (from ibm-watsonx-ai==1.1.11) (2.1.4)\n",
                        "Requirement already satisfied: certifi in /opt/conda/envs/Python-RT24.1/lib/python3.11/site-packages (from ibm-watsonx-ai==1.1.11) (2024.8.30)\n",
                        "Requirement already satisfied: lomond in /opt/conda/envs/Python-RT24.1/lib/python3.11/site-packages (from ibm-watsonx-ai==1.1.11) (0.3.3)\n",
                        "Requirement already satisfied: tabulate in /opt/conda/envs/Python-RT24.1/lib/python3.11/site-packages (from ibm-watsonx-ai==1.1.11) (0.8.10)\n",
                        "Requirement already satisfied: packaging in /opt/conda/envs/Python-RT24.1/lib/python3.11/site-packages (from ibm-watsonx-ai==1.1.11) (23.2)\n",
                        "Requirement already satisfied: ibm-cos-sdk<2.14.0,>=2.12.0 in /opt/conda/envs/Python-RT24.1/lib/python3.11/site-packages (from ibm-watsonx-ai==1.1.11) (2.13.4)\n",
                        "Requirement already satisfied: importlib-metadata in /opt/conda/envs/Python-RT24.1/lib/python3.11/site-packages (from ibm-watsonx-ai==1.1.11) (7.0.1)\n",
                        "Requirement already satisfied: ibm-cos-sdk-core==2.13.4 in /opt/conda/envs/Python-RT24.1/lib/python3.11/site-packages (from ibm-cos-sdk<2.14.0,>=2.12.0->ibm-watsonx-ai==1.1.11) (2.13.4)\n",
                        "Requirement already satisfied: ibm-cos-sdk-s3transfer==2.13.4 in /opt/conda/envs/Python-RT24.1/lib/python3.11/site-packages (from ibm-cos-sdk<2.14.0,>=2.12.0->ibm-watsonx-ai==1.1.11) (2.13.4)\n",
                        "Requirement already satisfied: jmespath<=1.0.1,>=0.10.0 in /opt/conda/envs/Python-RT24.1/lib/python3.11/site-packages (from ibm-cos-sdk<2.14.0,>=2.12.0->ibm-watsonx-ai==1.1.11) (1.0.1)\n",
                        "Requirement already satisfied: python-dateutil<3.0.0,>=2.8.2 in /opt/conda/envs/Python-RT24.1/lib/python3.11/site-packages (from ibm-cos-sdk-core==2.13.4->ibm-cos-sdk<2.14.0,>=2.12.0->ibm-watsonx-ai==1.1.11) (2.8.2)\n",
                        "Requirement already satisfied: numpy<2,>=1.23.2 in /opt/conda/envs/Python-RT24.1/lib/python3.11/site-packages (from pandas<2.2.0,>=0.24.2->ibm-watsonx-ai==1.1.11) (1.26.4)\n",
                        "Requirement already satisfied: pytz>=2020.1 in /opt/conda/envs/Python-RT24.1/lib/python3.11/site-packages (from pandas<2.2.0,>=0.24.2->ibm-watsonx-ai==1.1.11) (2024.1)\n",
                        "Requirement already satisfied: tzdata>=2022.1 in /opt/conda/envs/Python-RT24.1/lib/python3.11/site-packages (from pandas<2.2.0,>=0.24.2->ibm-watsonx-ai==1.1.11) (2023.3)\n",
                        "Requirement already satisfied: charset-normalizer<4,>=2 in /opt/conda/envs/Python-RT24.1/lib/python3.11/site-packages (from requests->ibm-watsonx-ai==1.1.11) (2.0.4)\n",
                        "Requirement already satisfied: idna<4,>=2.5 in /opt/conda/envs/Python-RT24.1/lib/python3.11/site-packages (from requests->ibm-watsonx-ai==1.1.11) (3.7)\n",
                        "Requirement already satisfied: anyio in /opt/conda/envs/Python-RT24.1/lib/python3.11/site-packages (from httpx->ibm-watsonx-ai==1.1.11) (3.5.0)\n",
                        "Requirement already satisfied: httpcore==1.* in /opt/conda/envs/Python-RT24.1/lib/python3.11/site-packages (from httpx->ibm-watsonx-ai==1.1.11) (1.0.2)\n",
                        "Requirement already satisfied: sniffio in /opt/conda/envs/Python-RT24.1/lib/python3.11/site-packages (from httpx->ibm-watsonx-ai==1.1.11) (1.3.0)\n",
                        "Requirement already satisfied: h11<0.15,>=0.13 in /opt/conda/envs/Python-RT24.1/lib/python3.11/site-packages (from httpcore==1.*->httpx->ibm-watsonx-ai==1.1.11) (0.14.0)\n",
                        "Requirement already satisfied: zipp>=0.5 in /opt/conda/envs/Python-RT24.1/lib/python3.11/site-packages (from importlib-metadata->ibm-watsonx-ai==1.1.11) (3.20.2)\n",
                        "Requirement already satisfied: six>=1.10.0 in /opt/conda/envs/Python-RT24.1/lib/python3.11/site-packages (from lomond->ibm-watsonx-ai==1.1.11) (1.16.0)\n",
                        "Looking in indexes: https://test.pypi.org/simple/\n",
                        "Requirement already satisfied: ibm-watson-openscale==3.0.41.12 in /opt/conda/envs/Python-RT24.1/lib/python3.11/site-packages (3.0.41.12)\n",
                        "Requirement already satisfied: requests<3.0,>=2.0 in /opt/conda/envs/Python-RT24.1/lib/python3.11/site-packages (from ibm-watson-openscale==3.0.41.12) (2.32.2)\n",
                        "Requirement already satisfied: python-dateutil>=2.5.3 in /opt/conda/envs/Python-RT24.1/lib/python3.11/site-packages (from ibm-watson-openscale==3.0.41.12) (2.8.2)\n",
                        "Requirement already satisfied: ibm-cloud-sdk-core<=3.19.2,>=3.16.5 in /opt/conda/envs/Python-RT24.1/lib/python3.11/site-packages (from ibm-watson-openscale==3.0.41.12) (3.16.7)\n",
                        "Requirement already satisfied: pandas<=2.1.9,>=1.4.3 in /opt/conda/envs/Python-RT24.1/lib/python3.11/site-packages (from ibm-watson-openscale==3.0.41.12) (2.1.4)\n",
                        "Requirement already satisfied: urllib3<2.0.0,>=1.26.0 in /opt/conda/envs/Python-RT24.1/lib/python3.11/site-packages (from ibm-cloud-sdk-core<=3.19.2,>=3.16.5->ibm-watson-openscale==3.0.41.12) (1.26.19)\n",
                        "Requirement already satisfied: PyJWT<3.0.0,>=2.4.0 in /opt/conda/envs/Python-RT24.1/lib/python3.11/site-packages (from ibm-cloud-sdk-core<=3.19.2,>=3.16.5->ibm-watson-openscale==3.0.41.12) (2.4.0)\n",
                        "Requirement already satisfied: numpy<2,>=1.23.2 in /opt/conda/envs/Python-RT24.1/lib/python3.11/site-packages (from pandas<=2.1.9,>=1.4.3->ibm-watson-openscale==3.0.41.12) (1.26.4)\n",
                        "Requirement already satisfied: pytz>=2020.1 in /opt/conda/envs/Python-RT24.1/lib/python3.11/site-packages (from pandas<=2.1.9,>=1.4.3->ibm-watson-openscale==3.0.41.12) (2024.1)\n",
                        "Requirement already satisfied: tzdata>=2022.1 in /opt/conda/envs/Python-RT24.1/lib/python3.11/site-packages (from pandas<=2.1.9,>=1.4.3->ibm-watson-openscale==3.0.41.12) (2023.3)\n",
                        "Requirement already satisfied: six>=1.5 in /opt/conda/envs/Python-RT24.1/lib/python3.11/site-packages (from python-dateutil>=2.5.3->ibm-watson-openscale==3.0.41.12) (1.16.0)\n",
                        "Requirement already satisfied: charset-normalizer<4,>=2 in /opt/conda/envs/Python-RT24.1/lib/python3.11/site-packages (from requests<3.0,>=2.0->ibm-watson-openscale==3.0.41.12) (2.0.4)\n",
                        "Requirement already satisfied: idna<4,>=2.5 in /opt/conda/envs/Python-RT24.1/lib/python3.11/site-packages (from requests<3.0,>=2.0->ibm-watson-openscale==3.0.41.12) (3.7)\n",
                        "Requirement already satisfied: certifi>=2017.4.17 in /opt/conda/envs/Python-RT24.1/lib/python3.11/site-packages (from requests<3.0,>=2.0->ibm-watson-openscale==3.0.41.12) (2024.8.30)\n"
                    ]
                }
            ],
            "source": [
                "!pip install ibm-watsonx-ai==1.1.11\n",
                "!pip install ibm-watson-openscale>=3.0.43"
            ]
        },
        {
            "cell_type": "markdown",
            "metadata": {},
            "source": [
                "**Note**: you may need to restart the kernel to use updated libraries."
            ]
        },
        {
            "cell_type": "markdown",
            "metadata": {},
            "source": [
                "### Configure your credentials"
            ]
        },
        {
            "cell_type": "code",
            "execution_count": 2,
            "metadata": {
                "id": "7fca1fbb-c9a3-4a80-984c-a6c6dd052dce"
            },
            "outputs": [],
            "source": [
                "# Cloud credentials\n",
                "IAM_URL = \"https://iam.cloud.ibm.com\"\n",
                "CLOUD_API_KEY = \"<EDIT THIS>\"  # YOUR_CLOUD_API_KEY\n",
                "SERVICE_URL = \"https://aiopenscale.cloud.ibm.com\"\n",
                "\n",
                "WX_AI_CREDENTIALS = {\n",
                "    \"url\": \"https://us-south.ml.cloud.ibm.com\",\n",
                "    \"apikey\": CLOUD_API_KEY,\n",
                "}"
            ]
        },
        {
            "cell_type": "markdown",
            "metadata": {},
            "source": [
                "### Verify client version"
            ]
        },
        {
            "cell_type": "code",
            "execution_count": 3,
            "metadata": {
                "id": "50ed54c9-db48-4edf-95d6-1e86a366a32d"
            },
            "outputs": [
                {
                    "name": "stdout",
                    "output_type": "stream",
                    "text": [
                        "3.0.41.12\n"
                    ]
                }
            ],
            "source": [
                "import json\n",
                "\n",
                "from ibm_cloud_sdk_core.authenticators import IAMAuthenticator\n",
                "\n",
                "from ibm_watson_openscale import *\n",
                "from ibm_watson_openscale.supporting_classes.enums import *\n",
                "from ibm_watson_openscale.supporting_classes import *\n",
                "\n",
                "service_instance_id = None  # Update this to refer to a particular service instance\n",
                "authenticator = IAMAuthenticator(apikey=CLOUD_API_KEY, url=IAM_URL)\n",
                "wos_client = APIClient(\n",
                "    authenticator=authenticator,\n",
                "    service_url=SERVICE_URL,\n",
                "    service_instance_id=service_instance_id,\n",
                ")\n",
                "print(wos_client.version)"
            ]
        },
        {
            "cell_type": "markdown",
            "metadata": {},
            "source": [
                "## Step 2 - Generative AI Evaluators creation <a id=\"evaluator\"></a>"
            ]
        },
        {
            "cell_type": "markdown",
            "metadata": {},
            "source": [
                "The custom evaluators are created as a python function which is deployed in a custom runtime environment built on `RT24.1`."
            ]
        },
        {
            "cell_type": "markdown",
            "metadata": {},
            "source": [
                "#### Evaluator parameters\n",
                "| Parameter | Description | Default Value | Possible Value(s) |\n",
                "|:-|:-|:-|:-|\n",
                "| `metric_type` | The name of the metric for which evaluator is created. |  | `retrieval_quality`, `faithfulness`, `answer_relevance` |\n",
                "| `wx_ai_credentials` | Watsonx AI credentials. |  |  |\n",
                "| `space_id` | ID of the space in which you want to create python function deployment. |  |  |\n",
                "| `context_columns` [Optional]| The list of context column names in the input data frame. |  |  |\n",
                "| `question_column` | The name of the question column in the input data frame. |  |  |\n",
                "| `hardware_spec` [Optional]| Hardware specifications for deploying the python function. The metrics computation performance can be improved by providing larger hardware specification. | `M` | `M`, `L`, `XL` |\n",
                "| `metric_parameters` [Optional]| Additional parameter specific to each metric.  |  |  |\n",
                "| `func_name` [Optional]| The name of python function. | `<metric_type>`_with_nlp |  |\n",
                "| `create_integrated_system` [Optional]| Flag for restricting creation of associated integrated system. | `True` | `True` or `False` |\n",
                "\n",
                "#### Faithfulness parameters\n",
                "| Parameter | Description | Default Value | Possible Value(s) |\n",
                "|:-|:-|:-|:-|\n",
                "| attributions_count [Optional]| Source attributions are computed for each sentence in the generated answer. Source attribution for a sentence is the set of sentences in the context which contributed to the LLM generating that sentence in the answer.  The attributions_count parameter specifies the number of sentences in the context which need to be identified for attributions.  E.g., if the value is set to 2, then we will find the top 2 sentences from the context as source attributions. | `3` |  |\n",
                "| ngrams [Optional]| The number of sentences to be grouped from the context when computing faithfulness score. These grouped sentences will be shown in the attributions. Having a very high value of ngrams might lead to having lower faithfulness scores due to dispersion of data and inclusion of unrelated sentences in the attributions. Having a very low value might lead to increase in metric computation time and attributions not capturing the all the aspects of the answer. | `2` |  |\n",
                "\n",
                "#### Context relevance parameters\n",
                "| Parameter | Description | Default Value | Possible Value(s) |\n",
                "|:-|:-|:-|:-|\n",
                "| ngrams [Optional]| The number of sentences to be grouped from the context when computing context relevance score. Having a very high value of ngrams might lead to having lower context relevance scores due to dispersion of data and inclusion of unrelated sentences. | `5` |  |"
            ]
        },
        {
            "cell_type": "code",
            "execution_count": 4,
            "metadata": {
                "id": "4c0837a2-7d7d-4ff5-bd11-32acbf4b33c5"
            },
            "outputs": [],
            "source": [
                "space_id = \"<EDIT_THIS>\"  # space in which python function should be deployed"
            ]
        },
        {
            "cell_type": "code",
            "execution_count": 5,
            "metadata": {
                "id": "b253efa9-5fa7-4f76-a621-8a81d6070045"
            },
            "outputs": [],
            "source": [
                "# Edit below values based on the input data\n",
                "context_columns = [] # EDIT_THIS\n",
                "question_column = \"<EDIT_THIS>\""
            ]
        },
        {
            "cell_type": "markdown",
            "metadata": {},
            "source": [
                "### Evaluator creation for retrieval quality"
            ]
        },
        {
            "cell_type": "code",
            "execution_count": null,
            "metadata": {
                "id": "10887bd4-395a-4359-850e-e029c67b32f1"
            },
            "outputs": [
                {
                    "name": "stdout",
                    "output_type": "stream",
                    "text": [
                        "\n",
                        "\n",
                        "######################################################################################\n",
                        "\n",
                        "Synchronous deployment creation for id: '4ee6b7ec-41cb-49ab-87cd-1125c57f9868' started\n",
                        "\n",
                        "######################################################################################\n",
                        "\n",
                        "\n",
                        "initializing\n",
                        "Note: online_url and serving_urls are deprecated and will be removed in a future release. Use inference instead.\n",
                        "...........\n",
                        "ready\n",
                        "\n",
                        "\n",
                        "-----------------------------------------------------------------------------------------------\n",
                        "Successfully finished deployment creation, deployment_id='32b3d59e-5a4d-49f0-83f0-2e35ed89fbb1'\n",
                        "-----------------------------------------------------------------------------------------------\n",
                        "\n",
                        "\n",
                        "Retrieval quality evaluator ID:2bcf7f9a-c31c-4126-9455-574d74898a88\n"
                    ]
                }
            ],
            "source": [
                "rq_evaluator_dtls = wos_client.llm_metrics.evaluators.add(\n",
                "    metric_type=\"retrieval_quality\",\n",
                "    wx_ai_credentials=WX_AI_CREDENTIALS,\n",
                "    space_id=space_id,\n",
                "    question_column=question_column,\n",
                "    context_columns=context_columns,\n",
                "    hardware_spec=\"M\",\n",
                "    metric_parameters={\n",
                "        # The metrics computed for retrieval quality are context_relevance, retrieval_precision, average_precision, reciprocal_rank, hit_rate, normalized_discounted_cumulative_gain\n",
                "        # \"context_relevance\": {\n",
                "        #     \"ngrams\": 5\n",
                "        # },\n",
                "    },\n",
                "    func_name=\"retrieval_quality_with_nlp\",\n",
                "    create_integrated_system=True,\n",
                ")\n",
                "print(\"Retrieval quality evaluator ID: \" + rq_evaluator_dtls[\"evaluator_id\"])"
            ]
        },
        {
            "cell_type": "markdown",
            "metadata": {},
            "source": [
                "### Evaluator creation for faithfulness"
            ]
        },
        {
            "cell_type": "code",
            "execution_count": null,
            "metadata": {
                "id": "1d65a386-7f1b-4393-8565-2453662f9a93"
            },
            "outputs": [
                {
                    "name": "stdout",
                    "output_type": "stream",
                    "text": [
                        "\n",
                        "\n",
                        "######################################################################################\n",
                        "\n",
                        "Synchronous deployment creation for id: '859e8355-d5fa-4265-9b9a-170ab0b0f135' started\n",
                        "\n",
                        "######################################################################################\n",
                        "\n",
                        "\n",
                        "initializing\n",
                        "Note: online_url and serving_urls are deprecated and will be removed in a future release. Use inference instead.\n",
                        "..............\n",
                        "ready\n",
                        "\n",
                        "\n",
                        "-----------------------------------------------------------------------------------------------\n",
                        "Successfully finished deployment creation, deployment_id='9f209cd0-2db6-4879-a790-5d32d3e6976f'\n",
                        "-----------------------------------------------------------------------------------------------\n",
                        "\n",
                        "\n",
                        "Faithfulness evaluator ID:f8cd71f1-1a0c-4cda-b538-d395287d13e2\n"
                    ]
                }
            ],
            "source": [
                "faith_evaluator_dtls = wos_client.llm_metrics.evaluators.add(\n",
                "    metric_type=\"faithfulness\",\n",
                "    wx_ai_credentials=WX_AI_CREDENTIALS,\n",
                "    space_id=space_id,\n",
                "    question_column=question_column,\n",
                "    context_columns=context_columns,\n",
                "    hardware_spec=\"XL\",\n",
                "    metric_parameters={\n",
                "        # \"attributions_count\": 3,\n",
                "        # \"ngrams\": 2,\n",
                "    },\n",
                "    func_name=\"faithfulness_with_nlp\",\n",
                "    create_integrated_system=True,\n",
                ")\n",
                "print(\"Faithfulness evaluator ID: \" + faith_evaluator_dtls[\"evaluator_id\"])"
            ]
        },
        {
            "cell_type": "markdown",
            "metadata": {},
            "source": [
                "### Evaluator creation for answer relevance"
            ]
        },
        {
            "cell_type": "code",
            "execution_count": null,
            "metadata": {
                "id": "9b882970-6a3c-4995-9314-49ecc5d9ff36"
            },
            "outputs": [
                {
                    "name": "stdout",
                    "output_type": "stream",
                    "text": [
                        "\n",
                        "\n",
                        "######################################################################################\n",
                        "\n",
                        "Synchronous deployment creation for id: '008a8a18-74d4-43f1-be64-a5bd0e4b6147' started\n",
                        "\n",
                        "######################################################################################\n",
                        "\n",
                        "\n",
                        "initializing\n",
                        "Note: online_url and serving_urls are deprecated and will be removed in a future release. Use inference instead.\n",
                        "............\n",
                        "ready\n",
                        "\n",
                        "\n",
                        "-----------------------------------------------------------------------------------------------\n",
                        "Successfully finished deployment creation, deployment_id='1411609f-d6fd-4a03-b5ea-8bfedd21dfe8'\n",
                        "-----------------------------------------------------------------------------------------------\n",
                        "\n",
                        "\n",
                        "Answer relevance evaluator ID:a193964b-fce9-4441-8cf5-5ed7c27871aa\n"
                    ]
                }
            ],
            "source": [
                "ar_evaluator_dtls = wos_client.llm_metrics.evaluators.add(\n",
                "    metric_type=\"answer_relevance\",\n",
                "    wx_ai_credentials=WX_AI_CREDENTIALS,\n",
                "    space_id=space_id,\n",
                "    question_column=question_column,\n",
                "    hardware_spec=\"M\",\n",
                "    metric_parameters={\n",
                "    },\n",
                "    func_name=\"answer_relevance_with_nlp\",\n",
                "    create_integrated_system=True,\n",
                ")\n",
                "print(\"Answer relevance evaluator ID: \" + ar_evaluator_dtls[\"evaluator_id\"])"
            ]
        },
        {
            "cell_type": "markdown",
            "metadata": {
                "id": "ec020549-ae5e-49f2-8c27-d287162d7990"
            },
            "source": [
                "## Next steps\n",
                "Use the above generative ai evaluator ids created for each metric and configure them during prompt setup creation."
            ]
        }
    ],
    "metadata": {
        "kernelspec": {
            "display_name": "notebook_env",
            "language": "python",
            "name": "python3"
        },
        "language_info": {
            "codemirror_mode": {
                "name": "ipython",
                "version": 3
            },
            "file_extension": ".py",
            "mimetype": "text/x-python",
            "name": "python",
            "nbconvert_exporter": "python",
            "pygments_lexer": "ipython3",
            "version": "3.11.9"
        }
    },
    "nbformat": 4,
    "nbformat_minor": 4
}
