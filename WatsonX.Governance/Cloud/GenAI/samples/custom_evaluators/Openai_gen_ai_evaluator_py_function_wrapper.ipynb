{
 "cells": [
  {
   "cell_type": "markdown",
   "metadata": {},
   "source": [
    "# Custom generative ai evaluator using python function wrapper on OpenAI model.\n",
    "\n",
    "The notebook demonstrates the creation of custom generative ai evaluator by creating a python function deployment in Cloud/CPD which wraps an OpenAI model.\n",
    "Here the OpenAI model is used as the evaluator. Any other model from providers like AWS or VertexAI etc.. can be used instead of the OpenAI model.\n",
    "\n",
    "The custom generative ai evaluator endpoint should support the input, output formats described below.\n",
    "\n",
    "Input format\n",
    "```json\n",
    "{\n",
    "  \"input_data\": [\n",
    "    {\n",
    "      \"fields\": [\"input\"],\n",
    "      \"values\": [[\"<prompt_1>\"], [\"<prompt_2>\"]]\n",
    "    }\n",
    "  ]\n",
    "}\n",
    "```\n",
    "e.g: `{\"input_data\": [{\"fields\": [\"input\"], \"values\": [[\"tell me about IBM\"], [\"tell me about openscale\"]]}]}`\n",
    "\n",
    "Output format\n",
    "```json\n",
    "{\n",
    "  \"predictions\": [\n",
    "    {\n",
    "      \"fields\": [\"generated_text\"],\n",
    "      \"values\": [\n",
    "        [\n",
    "          \"<generated_text_value_1>\"\n",
    "        ],\n",
    "        [\n",
    "          \"<generated_text_value_2>\"\n",
    "        ]\n",
    "      ]\n",
    "    }\n",
    "  ]\n",
    "```\n",
    "e.g: `{\"predictions\": [{\"fields\": [\"generated_text\"], \"values\": [[\"International Business Machines Corporation (IBM) is a multinational technology company...\"], [\"IBM Watson OpenScale is a machine learning model ....\"]]}]}`\n",
    "\n",
    "**Note**: In the output response, generated_text field name is mandatory."
   ]
  },
  {
   "cell_type": "markdown",
   "metadata": {},
   "source": [
    "## Learning goals\n",
    "- Configure OpenAI model \n",
    "- Create python function\n",
    "- Deploy python function\n",
    "- Test the Deployment"
   ]
  },
  {
   "cell_type": "markdown",
   "metadata": {},
   "source": [
    "## Contents\n",
    "\n",
    "- [Step 1 - Setup](#step-1)\n",
    "- [Step 2 - Python function creation and deployment in watsonx.ai](#step-2)\n",
    "- [Step 3 - Testing python function deployment](#step-3)"
   ]
  },
  {
   "cell_type": "markdown",
   "metadata": {},
   "source": [
    "## Step 1 - Setup <a id=\"step-1\"></a>"
   ]
  },
  {
   "cell_type": "markdown",
   "metadata": {},
   "source": [
    "### Install the necessary libraries"
   ]
  },
  {
   "cell_type": "code",
   "execution_count": null,
   "metadata": {},
   "outputs": [],
   "source": [
    "!pip install --upgrade ibm-watsonx-ai | tail -n 1\n",
    "!pip install openai | tail -n 1"
   ]
  },
  {
   "cell_type": "markdown",
   "metadata": {},
   "source": [
    "### Configure credentials"
   ]
  },
  {
   "cell_type": "code",
   "execution_count": null,
   "metadata": {},
   "outputs": [],
   "source": [
    "CLOUD_API_KEY = \"<API_KEY>\"\n",
    "\n",
    "CREDENTIALS = {\n",
    "    \"url\": \"https://us-south.ml.cloud.ibm.com\",\n",
    "    \"apikey\": CLOUD_API_KEY,\n",
    "}"
   ]
  },
  {
   "cell_type": "markdown",
   "metadata": {},
   "source": [
    "Uncomment the code and execute the cell below only if the Python function needs to be deployed in the CPD."
   ]
  },
  {
   "cell_type": "code",
   "execution_count": null,
   "metadata": {},
   "outputs": [],
   "source": [
    "# CREDENTIALS = {\n",
    "#     \"url\": \"<CPD_URL>\",\n",
    "#     \"username\": \"<USERNAME>\",\n",
    "#     \"password\": \"<PASSWORD>\",\n",
    "#     \"instance_id\": \"openshift\",\n",
    "#     \"apikey\": \"<API_KEY>\",\n",
    "#     \"version\": \"5.0\",\n",
    "# }"
   ]
  },
  {
   "cell_type": "code",
   "execution_count": 2,
   "metadata": {},
   "outputs": [
    {
     "data": {
      "text/plain": [
       "'1.1.22'"
      ]
     },
     "execution_count": 2,
     "metadata": {},
     "output_type": "execute_result"
    }
   ],
   "source": [
    "from ibm_watsonx_ai import APIClient\n",
    "\n",
    "watsonx_ai_client = APIClient(CREDENTIALS)\n",
    "watsonx_ai_client.version"
   ]
  },
  {
   "cell_type": "code",
   "execution_count": null,
   "metadata": {},
   "outputs": [
    {
     "data": {
      "text/plain": [
       "'SUCCESS'"
      ]
     },
     "execution_count": 3,
     "metadata": {},
     "output_type": "execute_result"
    }
   ],
   "source": [
    "space_id = \"<DEPLOYMENT_SPACE_ID>\"\n",
    "watsonx_ai_client.set.default_space(space_id)"
   ]
  },
  {
   "cell_type": "markdown",
   "metadata": {},
   "source": [
    "### OpenAI model credentials"
   ]
  },
  {
   "cell_type": "code",
   "execution_count": null,
   "metadata": {},
   "outputs": [],
   "source": [
    "OPENAI_CREDENTIALS = {\n",
    "    \"api_key\": \"<API_KEY>\",\n",
    "    \"api_version\": \"<API_VERSION>\",\n",
    "    \"azure_endpoint\": \"<ENDPOINT>\",\n",
    "}"
   ]
  },
  {
   "cell_type": "markdown",
   "metadata": {},
   "source": [
    "## Step 2 - Python function creation and deployment in watsonx.ai <a id=\"step-2\"></a>"
   ]
  },
  {
   "cell_type": "markdown",
   "metadata": {},
   "source": [
    "This wrapper function asynchronously scores against the OpenAI `gpt-4` model. The model's response is then converted into the required output format."
   ]
  },
  {
   "cell_type": "code",
   "execution_count": 5,
   "metadata": {},
   "outputs": [],
   "source": [
    "def scoring_wrapper(params=OPENAI_CREDENTIALS):\n",
    "    import subprocess\n",
    "    import sys\n",
    "    import asyncio\n",
    "\n",
    "    try:\n",
    "        import openai\n",
    "    except ImportError:\n",
    "        subprocess.check_call([sys.executable, \"-m\", \"pip\", \"install\", \"openai\"])\n",
    "    finally:\n",
    "        import openai\n",
    "\n",
    "    chunk_size = 32\n",
    "\n",
    "    def score(payload):\n",
    "        client = openai.AsyncAzureOpenAI(\n",
    "            api_key=params[\"api_key\"],\n",
    "            api_version=params[\"api_version\"],\n",
    "            azure_endpoint=params[\"azure_endpoint\"],\n",
    "        )\n",
    "        values = payload[\"input_data\"][0][\"values\"]\n",
    "        inputs = [value[0] for value in values]\n",
    "\n",
    "        async def score_async_wrap():\n",
    "            async def send_completion(client, chunk):\n",
    "                chunks = \"\\n\".join(\n",
    "                    [\n",
    "                        f\"{i}. {content}\"\n",
    "                        for i, content in enumerate(\n",
    "                            inputs[chunk : chunk + chunk_size], chunk + 1\n",
    "                        )\n",
    "                    ]\n",
    "                )\n",
    "                chat_completion = await client.chat.completions.create(\n",
    "                    model=\"gpt-4\",\n",
    "                    messages=[\n",
    "                        {\n",
    "                            \"role\": \"system\",\n",
    "                            \"content\": \"You will be given multiple numbered requests. For each one, provide an accurate and numbered response. Ensure that the number of responses exactly matches the number of requests, and format each response on a separate line corresponding to its request number.\",\n",
    "                        },\n",
    "                        {\"role\": \"user\", \"content\": chunks},\n",
    "                    ],\n",
    "                )\n",
    "                results = []\n",
    "                responses = chat_completion.choices[0].message.content.split(\"\\n\")\n",
    "                for response in responses:\n",
    "                    star_rating = response.split(\".\", 1)[1].strip()\n",
    "                    results.append(star_rating)\n",
    "                return results\n",
    "\n",
    "            tasks = [\n",
    "                send_completion(client, chunk)\n",
    "                for chunk in range(0, len(inputs), chunk_size)\n",
    "            ]\n",
    "            responses = await asyncio.gather(*tasks)\n",
    "            results = []\n",
    "            for response in responses:\n",
    "                results += response\n",
    "            return {\n",
    "                \"predictions\": [\n",
    "                    {\n",
    "                        \"fields\": [\"generated_text\"],\n",
    "                        \"values\": [[result] for result in results],\n",
    "                    }\n",
    "                ]\n",
    "            }\n",
    "\n",
    "        return asyncio.run(score_async_wrap())\n",
    "\n",
    "    return score"
   ]
  },
  {
   "cell_type": "markdown",
   "metadata": {},
   "source": [
    "### Storing python function"
   ]
  },
  {
   "cell_type": "code",
   "execution_count": null,
   "metadata": {},
   "outputs": [],
   "source": [
    "sofware_spec_uid = watsonx_ai_client.software_specifications.get_id_by_name(\n",
    "    \"runtime-24.1-py3.11\"\n",
    ")\n",
    "\n",
    "func_name = \"<FUNCTION_NAME>\"\n",
    "meta_data = {\n",
    "    watsonx_ai_client.repository.FunctionMetaNames.NAME: func_name,\n",
    "    watsonx_ai_client.repository.FunctionMetaNames.SOFTWARE_SPEC_UID: sofware_spec_uid,\n",
    "}\n",
    "\n",
    "function_details = watsonx_ai_client.repository.store_function(\n",
    "    meta_props=meta_data, function=scoring_wrapper\n",
    ")"
   ]
  },
  {
   "cell_type": "code",
   "execution_count": 7,
   "metadata": {},
   "outputs": [
    {
     "data": {
      "text/plain": [
       "{'entity': {'software_spec': {'id': '45f12dfe-aa78-5b8d-9f38-0ee223c47309',\n",
       "   'name': 'runtime-24.1-py3.11'},\n",
       "  'type': 'python'},\n",
       " 'metadata': {'created_at': '2024-11-08T11:01:01.975Z',\n",
       "  'id': '2e942158-db7e-4fd2-bb5b-b1b583d194ae',\n",
       "  'modified_at': '2024-11-08T11:01:01.975Z',\n",
       "  'name': 'test_openai',\n",
       "  'owner': 'IBMid-693000DYYL',\n",
       "  'space_id': '74557a01-62df-49f8-9be1-571f7d26ee28'},\n",
       " 'system': {'warnings': []}}"
      ]
     },
     "execution_count": 7,
     "metadata": {},
     "output_type": "execute_result"
    }
   ],
   "source": [
    "function_details"
   ]
  },
  {
   "cell_type": "code",
   "execution_count": 8,
   "metadata": {},
   "outputs": [
    {
     "name": "stdout",
     "output_type": "stream",
     "text": [
      "Function UID:2e942158-db7e-4fd2-bb5b-b1b583d194ae\n"
     ]
    }
   ],
   "source": [
    "function_uid = function_details[\"metadata\"][\"id\"]\n",
    "print(\"Function UID:\" + function_uid)"
   ]
  },
  {
   "cell_type": "markdown",
   "metadata": {},
   "source": [
    "### Deploying the function"
   ]
  },
  {
   "cell_type": "code",
   "execution_count": 9,
   "metadata": {},
   "outputs": [
    {
     "name": "stdout",
     "output_type": "stream",
     "text": [
      "\n",
      "\n",
      "######################################################################################\n",
      "\n",
      "Synchronous deployment creation for id: '2e942158-db7e-4fd2-bb5b-b1b583d194ae' started\n",
      "\n",
      "######################################################################################\n",
      "\n",
      "\n",
      "initializing\n",
      "Note: online_url and serving_urls are deprecated and will be removed in a future release. Use inference instead.\n",
      "..\n",
      "ready\n",
      "\n",
      "\n",
      "-----------------------------------------------------------------------------------------------\n",
      "Successfully finished deployment creation, deployment_id='f77c54e4-a14c-4543-a269-170260a9343f'\n",
      "-----------------------------------------------------------------------------------------------\n",
      "\n",
      "\n"
     ]
    }
   ],
   "source": [
    "function_deployment_details = watsonx_ai_client.deployments.create(\n",
    "    function_uid,\n",
    "    {\n",
    "        watsonx_ai_client.deployments.ConfigurationMetaNames.NAME: func_name + \"_deployment\",\n",
    "        watsonx_ai_client.deployments.ConfigurationMetaNames.ONLINE: {},\n",
    "    },\n",
    ")"
   ]
  },
  {
   "cell_type": "code",
   "execution_count": 10,
   "metadata": {},
   "outputs": [
    {
     "name": "stdout",
     "output_type": "stream",
     "text": [
      "Function Deployment UID:f77c54e4-a14c-4543-a269-170260a9343f\n"
     ]
    }
   ],
   "source": [
    "func_deployment_uid = watsonx_ai_client.deployments.get_uid(function_deployment_details)\n",
    "print(\"Function Deployment UID:\" + func_deployment_uid)"
   ]
  },
  {
   "cell_type": "markdown",
   "metadata": {},
   "source": [
    "## Step 3 - Testing python function deployment <a id=\"step-3\"></a>"
   ]
  },
  {
   "cell_type": "code",
   "execution_count": 11,
   "metadata": {},
   "outputs": [
    {
     "name": "stdout",
     "output_type": "stream",
     "text": [
      "Scoring URL:https://us-south.ml.cloud.ibm.com/ml/v4/deployments/f77c54e4-a14c-4543-a269-170260a9343f/predictions\n"
     ]
    }
   ],
   "source": [
    "func_scoring_url = watsonx_ai_client.deployments.get_scoring_href(function_deployment_details)\n",
    "print(\"Scoring URL:\" + func_scoring_url)"
   ]
  },
  {
   "cell_type": "code",
   "execution_count": 12,
   "metadata": {},
   "outputs": [
    {
     "name": "stdout",
     "output_type": "stream",
     "text": [
      "{'predictions': [{'fields': ['generated_text'], 'values': [['Hello!'], ['1+1 equals 2.']]}]}\n"
     ]
    }
   ],
   "source": [
    "payload_scoring = {\n",
    "    \"input_data\": [{\"fields\": [\"input\"], \"values\": [[\"hi\"], [\"what is 1+1\"]]}]\n",
    "}\n",
    "\n",
    "scores_function_response = watsonx_ai_client.deployments.score(\n",
    "    func_deployment_uid, payload_scoring\n",
    ")\n",
    "print(scores_function_response)"
   ]
  },
  {
   "cell_type": "code",
   "execution_count": null,
   "metadata": {},
   "outputs": [],
   "source": []
  }
 ],
 "metadata": {
  "kernelspec": {
   "display_name": "notebook_env",
   "language": "python",
   "name": "python3"
  },
  "language_info": {
   "codemirror_mode": {
    "name": "ipython",
    "version": 3
   },
   "file_extension": ".py",
   "mimetype": "text/x-python",
   "name": "python",
   "nbconvert_exporter": "python",
   "pygments_lexer": "ipython3",
   "version": "3.11.9"
  }
 },
 "nbformat": 4,
 "nbformat_minor": 2
}
