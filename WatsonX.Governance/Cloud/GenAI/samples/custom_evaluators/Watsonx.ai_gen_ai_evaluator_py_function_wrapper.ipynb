{
 "cells": [
  {
   "cell_type": "markdown",
   "metadata": {},
   "source": [
    "# Custom generative ai evaluator using python function wrapper on Watsonx.ai foundation model.\n",
    "\n",
    "The notebook demonstrates the creation of custom generative ai evaluator by creating a python function deployment in Cloud/CPD which wraps an Watsonx.ai foundation model.\n",
    "Here the wrapped foundation model is used as the evaluator.\n",
    "\n",
    "The custom generative ai evaluator endpoint should support the input, output formats described below.\n",
    "\n",
    "Input format\n",
    "```json\n",
    "{\n",
    "  \"input_data\": [\n",
    "    {\n",
    "      \"fields\": [\"input\"],\n",
    "      \"values\": [[\"<prompt_1>\"], [\"<prompt_2>\"]]\n",
    "    }\n",
    "  ]\n",
    "}\n",
    "```\n",
    "e.g: `{\"input_data\": [{\"fields\": [\"input\"], \"values\": [[\"tell me about IBM\"], [\"tell me about openscale\"]]}]}`\n",
    "\n",
    "Output format\n",
    "```json\n",
    "{\n",
    "  \"predictions\": [\n",
    "    {\n",
    "      \"fields\": [\"generated_text\"],\n",
    "      \"values\": [\n",
    "        [\n",
    "          \"<generated_text_value_1>\"\n",
    "        ],\n",
    "        [\n",
    "          \"<generated_text_value_2>\"\n",
    "        ]\n",
    "      ]\n",
    "    }\n",
    "  ]\n",
    "```\n",
    "e.g: `{\"predictions\": [{\"fields\": [\"generated_text\"], \"values\": [[\"International Business Machines Corporation (IBM) is a multinational technology company...\"], [\"IBM Watson OpenScale is a machine learning model ....\"]]}]}`\n",
    "\n",
    "**Note**: In the output response, generated_text field name is mandatory."
   ]
  },
  {
   "cell_type": "markdown",
   "metadata": {},
   "source": [
    "## Learning goals\n",
    "- Configure foundation model \n",
    "- Create python function\n",
    "- Deploy python function\n",
    "- Test the Deployment"
   ]
  },
  {
   "cell_type": "markdown",
   "metadata": {},
   "source": [
    "## Contents\n",
    "\n",
    "- [Step 1 - Setup](#step-1)\n",
    "- [Step 2 - Python function creation and deployment in watsonx.ai](#step-2)\n",
    "- [Step 3 - Testing python function deployment](#step-3)"
   ]
  },
  {
   "cell_type": "markdown",
   "metadata": {},
   "source": [
    "## Step 1 - Setup <a id=\"step-1\"></a>"
   ]
  },
  {
   "cell_type": "markdown",
   "metadata": {},
   "source": [
    "### Install the necessary libraries"
   ]
  },
  {
   "cell_type": "code",
   "execution_count": null,
   "metadata": {},
   "outputs": [],
   "source": [
    "!pip install --upgrade ibm-watsonx-ai | tail -n 1"
   ]
  },
  {
   "cell_type": "markdown",
   "metadata": {},
   "source": [
    "### Configure credentials"
   ]
  },
  {
   "cell_type": "code",
   "execution_count": null,
   "metadata": {},
   "outputs": [],
   "source": [
    "CLOUD_API_KEY = \"<API_KEY>\"\n",
    "\n",
    "CREDENTIALS = {\n",
    "    \"url\": \"https://us-south.ml.cloud.ibm.com\",\n",
    "    \"apikey\": CLOUD_API_KEY,\n",
    "}"
   ]
  },
  {
   "cell_type": "markdown",
   "metadata": {},
   "source": [
    "Uncomment the code and execute the cell below only if the Python function needs to be deployed in the CPD."
   ]
  },
  {
   "cell_type": "code",
   "execution_count": null,
   "metadata": {},
   "outputs": [],
   "source": [
    "# CREDENTIALS = {\n",
    "#     \"url\": \"<CPD_URL>\",\n",
    "#     \"username\": \"<USERNAME>\",\n",
    "#     \"password\": \"<PASSWORD>\",\n",
    "#     \"instance_id\": \"openshift\",\n",
    "#     \"apikey\": \"<API_KEY>\",\n",
    "#     \"version\": \"5.0\",\n",
    "# }"
   ]
  },
  {
   "cell_type": "code",
   "execution_count": 2,
   "metadata": {},
   "outputs": [
    {
     "data": {
      "text/plain": [
       "'1.1.22'"
      ]
     },
     "execution_count": 2,
     "metadata": {},
     "output_type": "execute_result"
    }
   ],
   "source": [
    "from ibm_watsonx_ai import APIClient\n",
    "\n",
    "watsonx_ai_client = APIClient(CREDENTIALS)\n",
    "watsonx_ai_client.version"
   ]
  },
  {
   "cell_type": "code",
   "execution_count": null,
   "metadata": {},
   "outputs": [
    {
     "data": {
      "text/plain": [
       "'SUCCESS'"
      ]
     },
     "execution_count": 3,
     "metadata": {},
     "output_type": "execute_result"
    }
   ],
   "source": [
    "space_id = \"<DEPLOYMENT_SPACE_ID>\"\n",
    "watsonx_ai_client.set.default_space(space_id)"
   ]
  },
  {
   "cell_type": "markdown",
   "metadata": {},
   "source": [
    "### Foundation model credentials"
   ]
  },
  {
   "cell_type": "code",
   "execution_count": null,
   "metadata": {},
   "outputs": [],
   "source": [
    "FM_CREDENTIALS = {  # credentials to score the foundation model in cloud\n",
    "    \"url\": \"https://us-south.ml.cloud.ibm.com\",\n",
    "    \"iamurl\": \"https://iam.cloud.ibm.com\",\n",
    "    \"apikey\": \"<API_KEY>\",\n",
    "}"
   ]
  },
  {
   "cell_type": "markdown",
   "metadata": {},
   "source": [
    "Uncomment the code and run the below cell only if foundation model is present in CPD"
   ]
  },
  {
   "cell_type": "code",
   "execution_count": null,
   "metadata": {},
   "outputs": [],
   "source": [
    "# FM_CREDENTIALS = {  # credential to score the foundation model in CPD\n",
    "#     \"url\": \"<CPD_URL>\",\n",
    "#     \"username\": \"<USERNAME>\",\n",
    "#     \"password\": \"<PASSWORD>\",\n",
    "#     \"instance_id\": \"openshift\",\n",
    "#     \"apikey\": \"<API_KEY>\",\n",
    "#     \"version\": \"5.0\",\n",
    "# }"
   ]
  },
  {
   "cell_type": "code",
   "execution_count": null,
   "metadata": {},
   "outputs": [],
   "source": [
    "params = {\n",
    "    \"fm_credentials\": FM_CREDENTIALS,\n",
    "    \"space_id\": \"<SPACE_ID>\",\n",
    "    # \"project_id\": \"<PROJECT_ID>\"\n",
    "}"
   ]
  },
  {
   "cell_type": "markdown",
   "metadata": {},
   "source": [
    "## Python function creation and deployment in watsonx.ai <a id=\"step-2\"></a>"
   ]
  },
  {
   "cell_type": "markdown",
   "metadata": {},
   "source": [
    "This wrapper function asynchronously scores against the `google/flan-ul2` foundation model. The model's response is then converted into the required output format."
   ]
  },
  {
   "cell_type": "code",
   "execution_count": 6,
   "metadata": {},
   "outputs": [],
   "source": [
    "def scoring_wrapper(params=params):\n",
    "    import requests\n",
    "    import json\n",
    "    import asyncio\n",
    "    import aiohttp\n",
    "\n",
    "    space_id = params.get(\"space_id\")\n",
    "    api_key = params[\"fm_credentials\"][\"apikey\"]\n",
    "    score_endpoint = params[\"fm_credentials\"][\"url\"]\n",
    "    url = f\"{score_endpoint}/ml/v1/text/generation?version=2023-05-29\"\n",
    "    retries = 3\n",
    "    delay = 2\n",
    "\n",
    "    if iam_url := params[\"fm_credentials\"].get(\"iamurl\"):\n",
    "        auth_headers = {\"Content-Type\": \"application/x-www-form-urlencoded\"}\n",
    "        auth_url = f\"{iam_url}/oidc/token\"\n",
    "        auth_body = {\n",
    "            \"apikey\": api_key,\n",
    "            \"grant_type\": \"urn:ibm:params:oauth:grant-type:apikey\",\n",
    "        }\n",
    "        token_str = \"access_token\"\n",
    "    else:\n",
    "        auth_headers = {\"Content-Type\": \"application/json\"}\n",
    "        auth_url = f\"{score_endpoint}/icp4d-api/v1/authorize\"\n",
    "        auth_body = json.dumps(\n",
    "            {\"username\": params[\"fm_credentials\"].get(\"username\"), \"api_key\": api_key}\n",
    "        )\n",
    "        token_str = \"token\"\n",
    "\n",
    "    def score(payload):\n",
    "        auth_resp = requests.post(\n",
    "            auth_url,\n",
    "            verify=False,\n",
    "            headers=auth_headers,\n",
    "            data=auth_body,\n",
    "        )\n",
    "        token = auth_resp.json().get(token_str)\n",
    "        headers = {\n",
    "            \"Accept\": \"application/json\",\n",
    "            \"Content-Type\": \"application/json\",\n",
    "            \"Authorization\": f\"Bearer {token}\",\n",
    "        }\n",
    "        values = payload[\"input_data\"][0][\"values\"]\n",
    "        inputs = [value[0] for value in values]\n",
    "\n",
    "        async def score_async_wrap():\n",
    "            async def parallel_request(session, input, retries=retries, delay=delay):\n",
    "                attempt = 0\n",
    "                body = {\n",
    "                    \"input\": f\"{input}\",\n",
    "                    \"parameters\": {\n",
    "                        \"decoding_method\": \"greedy\",\n",
    "                        \"max_new_tokens\": 900,\n",
    "                        \"repetition_penalty\": 1,\n",
    "                    },\n",
    "                    \"model_id\": \"google/flan-ul2\",\n",
    "                    \"space_id\": space_id,\n",
    "                }\n",
    "                while attempt < retries:\n",
    "                    async with session.post(\n",
    "                        url, headers=headers, json=body, verify_ssl=False\n",
    "                    ) as response:\n",
    "                        try:\n",
    "                            result = await response.json()\n",
    "                            result = result[\"results\"][0][\"generated_text\"]\n",
    "                            return result\n",
    "                        except Exception as e:\n",
    "                            attempt += 1\n",
    "                            if attempt < retries:\n",
    "                                await asyncio.sleep(delay)\n",
    "                            else:\n",
    "                                return e\n",
    "\n",
    "            async with aiohttp.ClientSession() as session:\n",
    "                tasks = [parallel_request(session, input) for input in inputs]\n",
    "                responses = await asyncio.gather(*tasks)\n",
    "\n",
    "            return {\n",
    "                \"predictions\": [\n",
    "                    {\n",
    "                        \"fields\": [\"generated_text\"],\n",
    "                        \"values\": [[response] for response in responses],\n",
    "                    }\n",
    "                ]\n",
    "            }\n",
    "\n",
    "        return asyncio.run(score_async_wrap())\n",
    "\n",
    "    return score"
   ]
  },
  {
   "cell_type": "markdown",
   "metadata": {},
   "source": [
    "### Storing python function"
   ]
  },
  {
   "cell_type": "code",
   "execution_count": null,
   "metadata": {},
   "outputs": [],
   "source": [
    "sofware_spec_uid = watsonx_ai_client.software_specifications.get_id_by_name(\n",
    "    \"runtime-24.1-py3.11\"\n",
    ")\n",
    "\n",
    "func_name = \"<FUNCTION_NAME>\"\n",
    "meta_data = {\n",
    "    watsonx_ai_client.repository.FunctionMetaNames.NAME: func_name,\n",
    "    watsonx_ai_client.repository.FunctionMetaNames.SOFTWARE_SPEC_UID: sofware_spec_uid,\n",
    "}\n",
    "\n",
    "function_details = watsonx_ai_client.repository.store_function(\n",
    "    meta_props=meta_data, function=scoring_wrapper\n",
    ")"
   ]
  },
  {
   "cell_type": "code",
   "execution_count": 8,
   "metadata": {},
   "outputs": [
    {
     "data": {
      "text/plain": [
       "{'entity': {'software_spec': {'id': '45f12dfe-aa78-5b8d-9f38-0ee223c47309',\n",
       "   'name': 'runtime-24.1-py3.11'},\n",
       "  'type': 'python'},\n",
       " 'metadata': {'created_at': '2024-11-08T10:56:10.538Z',\n",
       "  'id': '1114792c-3f0c-4e43-a0f9-a80846ddeafd',\n",
       "  'modified_at': '2024-11-08T10:56:10.538Z',\n",
       "  'name': 'cloud_test',\n",
       "  'owner': 'IBMid-693000DYYL',\n",
       "  'space_id': '74557a01-62df-49f8-9be1-571f7d26ee28'},\n",
       " 'system': {'warnings': []}}"
      ]
     },
     "execution_count": 8,
     "metadata": {},
     "output_type": "execute_result"
    }
   ],
   "source": [
    "function_details"
   ]
  },
  {
   "cell_type": "code",
   "execution_count": 9,
   "metadata": {},
   "outputs": [
    {
     "name": "stdout",
     "output_type": "stream",
     "text": [
      "Function UID:1114792c-3f0c-4e43-a0f9-a80846ddeafd\n"
     ]
    }
   ],
   "source": [
    "function_uid = function_details[\"metadata\"][\"id\"]\n",
    "print(\"Function UID:\" + function_uid)"
   ]
  },
  {
   "cell_type": "markdown",
   "metadata": {},
   "source": [
    "### Deploying the function"
   ]
  },
  {
   "cell_type": "code",
   "execution_count": 10,
   "metadata": {},
   "outputs": [
    {
     "name": "stdout",
     "output_type": "stream",
     "text": [
      "\n",
      "\n",
      "######################################################################################\n",
      "\n",
      "Synchronous deployment creation for id: '1114792c-3f0c-4e43-a0f9-a80846ddeafd' started\n",
      "\n",
      "######################################################################################\n",
      "\n",
      "\n",
      "initializing\n",
      "Note: online_url and serving_urls are deprecated and will be removed in a future release. Use inference instead.\n",
      "..\n",
      "ready\n",
      "\n",
      "\n",
      "-----------------------------------------------------------------------------------------------\n",
      "Successfully finished deployment creation, deployment_id='abed00f4-a5d8-4826-8083-5bc5ded3a9b2'\n",
      "-----------------------------------------------------------------------------------------------\n",
      "\n",
      "\n"
     ]
    }
   ],
   "source": [
    "function_deployment_details = watsonx_ai_client.deployments.create(\n",
    "    function_uid,\n",
    "    {\n",
    "        watsonx_ai_client.deployments.ConfigurationMetaNames.NAME: func_name + \"_deployment\",\n",
    "        watsonx_ai_client.deployments.ConfigurationMetaNames.ONLINE: {},\n",
    "    },\n",
    ")"
   ]
  },
  {
   "cell_type": "code",
   "execution_count": 11,
   "metadata": {},
   "outputs": [
    {
     "name": "stdout",
     "output_type": "stream",
     "text": [
      "Function Deployment UID:abed00f4-a5d8-4826-8083-5bc5ded3a9b2\n"
     ]
    }
   ],
   "source": [
    "func_deployment_uid = watsonx_ai_client.deployments.get_uid(function_deployment_details)\n",
    "print(\"Function Deployment UID:\" + func_deployment_uid)"
   ]
  },
  {
   "cell_type": "markdown",
   "metadata": {},
   "source": [
    "## Step 3 - Testing python function deployment <a id=\"step-3\"></a>"
   ]
  },
  {
   "cell_type": "code",
   "execution_count": 12,
   "metadata": {},
   "outputs": [
    {
     "name": "stdout",
     "output_type": "stream",
     "text": [
      "Scoring URL:https://us-south.ml.cloud.ibm.com/ml/v4/deployments/abed00f4-a5d8-4826-8083-5bc5ded3a9b2/predictions\n"
     ]
    }
   ],
   "source": [
    "func_scoring_url = watsonx_ai_client.deployments.get_scoring_href(function_deployment_details)\n",
    "print(\"Scoring URL:\" + func_scoring_url)"
   ]
  },
  {
   "cell_type": "code",
   "execution_count": 13,
   "metadata": {},
   "outputs": [
    {
     "name": "stdout",
     "output_type": "stream",
     "text": [
      "{'predictions': [{'fields': ['generated_text'], 'values': [['hi'], ['2']]}]}\n"
     ]
    }
   ],
   "source": [
    "payload_scoring = {\n",
    "    \"input_data\": [{\"fields\": [\"input\"], \"values\": [[\"hi\"], [\"what is 1+1\"]]}]\n",
    "}\n",
    "\n",
    "scores_function_response = watsonx_ai_client.deployments.score(\n",
    "    func_deployment_uid, payload_scoring\n",
    ")\n",
    "print(scores_function_response)"
   ]
  },
  {
   "cell_type": "code",
   "execution_count": null,
   "metadata": {},
   "outputs": [],
   "source": []
  }
 ],
 "metadata": {
  "kernelspec": {
   "display_name": "notebook_env",
   "language": "python",
   "name": "python3"
  },
  "language_info": {
   "codemirror_mode": {
    "name": "ipython",
    "version": 3
   },
   "file_extension": ".py",
   "mimetype": "text/x-python",
   "name": "python",
   "nbconvert_exporter": "python",
   "pygments_lexer": "ipython3",
   "version": "3.11.9"
  }
 },
 "nbformat": 4,
 "nbformat_minor": 2
}
