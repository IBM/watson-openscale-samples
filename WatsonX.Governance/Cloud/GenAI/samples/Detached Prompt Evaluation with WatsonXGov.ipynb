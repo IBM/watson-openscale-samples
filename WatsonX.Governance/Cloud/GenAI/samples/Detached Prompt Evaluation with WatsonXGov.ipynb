{
 "cells": [
  {
   "cell_type": "markdown",
   "metadata": {},
   "source": [
    "# Working with 3rd party (detached) Prompts/Prompt Template Assets"
   ]
  },
  {
   "cell_type": "markdown",
   "metadata": {},
   "source": [
    "\n",
    "This notebook should be run using with Runtime 22.2 & Python 3.10 or greater runtime environment, if you are viewing this in Watson Studio, and do not see Python 3.10.x in the upper right corner of your screen, please update the runtime now. \n",
    "\n",
    "The notebook will create a summarization prompt template asset in a given project, configure OpenScale to monitor that PTA and evaluate generative quality metrics and model health metrics.\n",
    "\n",
    "If users wish to execute this notebook for task types other than summarization, please consult [this](https://github.com/IBM/watson-openscale-samples/blob/main/IBM%20Cloud/WML/notebooks/watsonx/README.md) document for guidance on evaluating prompt templates for the available task types.\n",
    "\n",
    "Note : User can search for `EDIT THIS` and fill the inputs needed."
   ]
  },
  {
   "cell_type": "markdown",
   "metadata": {},
   "source": [
    "## Prerequisite"
   ]
  },
  {
   "cell_type": "markdown",
   "metadata": {},
   "source": [
    "* It requires service credentials for IBM Watson OpenScale:\n",
    "* Requires a CSV file containing the test data that needs to be evaluated\n",
    "* Requires the ID of project in which you want to create the prompt template asset."
   ]
  },
  {
   "cell_type": "markdown",
   "metadata": {},
   "source": [
    "### Contents\n",
    "\n",
    "- [Setup](#settingup)\n",
    "- [Create Prompt template](#prompt)\n",
    "- [Prompt Setup](#ptatsetup)\n",
    "- [Risk evaluations for prompt template asset subscription](#evaluate)\n",
    "- [Display the Model Risk metrics](#mrmmetric)\n",
    "- [Display the Generative AI Quality metrics](#genaimetrics)\n",
    "- [Plot rougel and rougelsum metrics against records](#plotproject)\n",
    "- [See factsheets information](#factsheetsspace)"
   ]
  },
  {
   "cell_type": "markdown",
   "metadata": {},
   "source": [
    "## Setup <a name=\"settingup\"></a>"
   ]
  },
  {
   "cell_type": "code",
   "execution_count": 1,
   "metadata": {},
   "outputs": [
    {
     "name": "stdout",
     "output_type": "stream",
     "text": [
      "Requirement already satisfied: six>=1.5 in /opt/conda/envs/Python-RT23.1/lib/python3.10/site-packages (from python-dateutil>=2.8.1->pandas->datasets==2.10.0) (1.16.0)\n",
      "Requirement already satisfied: six>=1.5 in /opt/conda/envs/Python-RT23.1/lib/python3.10/site-packages (from python-dateutil>=2.8.1->pandas->evaluate) (1.16.0)\n",
      "Requirement already satisfied: smmap<6,>=3.0.1 in /opt/conda/envs/Python-RT23.1/lib/python3.10/site-packages (from gitdb<5,>=4.0.1->gitpython<4,>=2.1.0->mlflow-skinny==2.7.0->ibm-aigov-facts-client) (5.0.1)\n",
      "Requirement already satisfied: certifi>=2017.4.17 in /opt/conda/envs/Python-RT23.1/lib/python3.10/site-packages (from requests<3.0,>=2.0->ibm-watson-openscale) (2024.2.2)\n",
      "Requirement already satisfied: six>=1.5 in /opt/conda/envs/Python-RT23.1/lib/python3.10/site-packages (from python-dateutil>=2.7->matplotlib) (1.16.0)\n",
      "Requirement already satisfied: typing-extensions>=4.2.0 in /opt/conda/envs/Python-RT23.1/lib/python3.10/site-packages (from pydantic==1.10.11) (4.4.0)\n",
      "Requirement already satisfied: lxml in /opt/conda/envs/Python-RT23.1/lib/python3.10/site-packages (from sacrebleu) (4.9.2)\n",
      "Requirement already satisfied: tqdm in /opt/conda/envs/Python-RT23.1/lib/python3.10/site-packages (from sacremoses) (4.66.4)\n",
      "Requirement already satisfied: pyphen in /opt/conda/envs/Python-RT23.1/lib/python3.10/site-packages (from textstat) (0.15.0)\n",
      "Requirement already satisfied: certifi>=2017.4.17 in /opt/conda/envs/Python-RT23.1/lib/python3.10/site-packages (from requests->transformers) (2024.2.2)\n"
     ]
    }
   ],
   "source": [
    "!pip install --upgrade datasets==2.10.0 --no-cache | tail -n 1\n",
    "!pip install --upgrade evaluate --no-cache | tail -n 1\n",
    "!pip install --upgrade --extra-index-url https://test.pypi.org/simple/ ibm-aigov-facts-client | tail -n 1\n",
    "!pip install --upgrade ibm-watson-openscale | tail -n 1\n",
    "!pip install --upgrade matplotlib | tail -n 1\n",
    "!pip install --upgrade pydantic==1.10.11 --no-cache | tail -n 1\n",
    "!pip install --upgrade sacrebleu --no-cache | tail -n 1\n",
    "!pip install --upgrade sacremoses --no-cache | tail -n 1\n",
    "!pip install --upgrade textstat --no-cache | tail -n 1\n",
    "!pip install --upgrade transformers --no-cache | tail -n 1"
   ]
  },
  {
   "cell_type": "markdown",
   "metadata": {},
   "source": [
    "Note: you may need to restart the kernel to use updated packages."
   ]
  },
  {
   "cell_type": "markdown",
   "metadata": {},
   "source": [
    "### Provision services and configure credentials"
   ]
  },
  {
   "cell_type": "markdown",
   "metadata": {},
   "source": [
    "If you have not already, provision an instance of IBM Watson OpenScale using the [OpenScale link in the Cloud catalog](https://cloud.ibm.com/catalog/services/watson-openscale)."
   ]
  },
  {
   "cell_type": "markdown",
   "metadata": {},
   "source": [
    "Your Cloud API key can be generated by going to the [**Users** section of the Cloud console](https://cloud.ibm.com/iam#/users). From that page, click your name, scroll down to the **API Keys** section, and click **Create an IBM Cloud API key**. Give your key a name and click **Create**, then copy the created key and paste it below."
   ]
  },
  {
   "cell_type": "markdown",
   "metadata": {},
   "source": [
    "**NOTE:** You can also get OpenScale `API_KEY` using IBM CLOUD CLI.\n",
    "\n",
    "How to install IBM Cloud (bluemix) console: [instruction](https://console.bluemix.net/docs/cli/reference/ibmcloud/download_cli.html#install_use)\n",
    "\n",
    "How to get api key using console:\n",
    "```\n",
    "bx login --sso\n",
    "bx iam api-key-create 'my_key'\n",
    "```"
   ]
  },
  {
   "cell_type": "code",
   "execution_count": 3,
   "metadata": {},
   "outputs": [],
   "source": [
    "use_cpd = False\n",
    "\n",
    "if use_cpd:\n",
    "    CPD_URL = \"<EDIT THIS>\"\n",
    "    CPD_USERNAME = \"<EDIT THIS>\"\n",
    "    CPD_PASSWORD = \"<EDIT THIS>\"\n",
    "    WOS_SERVICE_INSTANCE_ID = \"<EDIT THIS>\" # If None, default instance would be used\n",
    "else:\n",
    "    IAM_URL = \"https://iam.cloud.ibm.com\"\n",
    "    DATAPLATFORM_URL = \"https://api.dataplatform.cloud.ibm.com\"\n",
    "    SERVICE_URL = \"https://aiopenscale.cloud.ibm.com\"\n",
    "    CLOUD_API_KEY = \"<YOUR_API_KEY>\" # YOUR_CLOUD_API_KEY"
   ]
  },
  {
   "cell_type": "markdown",
   "metadata": {},
   "source": [
    "## Set the project ID"
   ]
  },
  {
   "cell_type": "markdown",
   "metadata": {},
   "source": [
    "In order to set up a development type subscription, the PTA must be within the project. Please supply the project ID where the PTA needs to be created."
   ]
  },
  {
   "cell_type": "code",
   "execution_count": 4,
   "metadata": {},
   "outputs": [],
   "source": [
    "PROJECT_ID = \"<PROJECT_ID>\" # YOUR_PROJECT_ID"
   ]
  },
  {
   "cell_type": "markdown",
   "metadata": {},
   "source": [
    "## Function to create the access token"
   ]
  },
  {
   "cell_type": "markdown",
   "metadata": {},
   "source": [
    "This function generates an IAM access token using the provided credentials. The API calls for creating and scoring prompt template assets utilize the token generated by this function."
   ]
  },
  {
   "cell_type": "code",
   "execution_count": 5,
   "metadata": {},
   "outputs": [],
   "source": [
    "import requests, json\n",
    "def generate_access_token():\n",
    "    headers={}\n",
    "    if not use_cpd: \n",
    "        headers[\"Content-Type\"] = \"application/x-www-form-urlencoded\"\n",
    "        headers[\"Accept\"] = \"application/json\"\n",
    "        data = {\n",
    "            \"grant_type\": \"urn:ibm:params:oauth:grant-type:apikey\",\n",
    "            \"apikey\": CLOUD_API_KEY,\n",
    "            \"response_type\": \"cloud_iam\"\n",
    "        }\n",
    "        response = requests.post(IAM_URL + \"/identity/token\", data=data, headers=headers)\n",
    "        json_data = response.json()\n",
    "        iam_access_token = json_data[\"access_token\"]\n",
    "    else:\n",
    "        headers[\"Content-Type\"] = \"application/json\"\n",
    "        headers[\"Accept\"] = \"application/json\"\n",
    "        data = {\n",
    "            \"username\": CPD_USERNAME,\n",
    "            \"password\": CPD_PASSWORD\n",
    "        }\n",
    "        data = json.dumps(data).encode(\"utf-8\")\n",
    "        url = CPD_URL + \"/icp4d-api/v1/authorize\"\n",
    "        response = requests.post(url=url, data=data, headers=headers, verify=False)\n",
    "        json_data = response.json()\n",
    "        iam_access_token = json_data[\"token\"]\n",
    "        \n",
    "    return iam_access_token\n",
    "\n",
    "iam_access_token = generate_access_token()"
   ]
  },
  {
   "cell_type": "markdown",
   "metadata": {},
   "source": [
    "# HuggingFace model"
   ]
  },
  {
   "cell_type": "code",
   "execution_count": 6,
   "metadata": {},
   "outputs": [
    {
     "data": {
      "application/vnd.jupyter.widget-view+json": {
       "model_id": "4d678e2e753248aebf6da9723a19498f",
       "version_major": 2,
       "version_minor": 0
      },
      "text/plain": [
       "config.json:   0%|          | 0.00/1.40k [00:00<?, ?B/s]"
      ]
     },
     "metadata": {},
     "output_type": "display_data"
    },
    {
     "data": {
      "application/vnd.jupyter.widget-view+json": {
       "model_id": "78a2a75e26bc46838a911c180ba6ca43",
       "version_major": 2,
       "version_minor": 0
      },
      "text/plain": [
       "model.safetensors:   0%|          | 0.00/990M [00:00<?, ?B/s]"
      ]
     },
     "metadata": {},
     "output_type": "display_data"
    },
    {
     "data": {
      "application/vnd.jupyter.widget-view+json": {
       "model_id": "61c1825e546a447a8fd35e27c4192747",
       "version_major": 2,
       "version_minor": 0
      },
      "text/plain": [
       "generation_config.json:   0%|          | 0.00/147 [00:00<?, ?B/s]"
      ]
     },
     "metadata": {},
     "output_type": "display_data"
    },
    {
     "data": {
      "application/vnd.jupyter.widget-view+json": {
       "model_id": "942cccb9770543fbb7b2317d144cd823",
       "version_major": 2,
       "version_minor": 0
      },
      "text/plain": [
       "tokenizer_config.json:   0%|          | 0.00/2.54k [00:00<?, ?B/s]"
      ]
     },
     "metadata": {},
     "output_type": "display_data"
    },
    {
     "data": {
      "application/vnd.jupyter.widget-view+json": {
       "model_id": "d8065fe1f20f42c5873030561366cb08",
       "version_major": 2,
       "version_minor": 0
      },
      "text/plain": [
       "spiece.model:   0%|          | 0.00/792k [00:00<?, ?B/s]"
      ]
     },
     "metadata": {},
     "output_type": "display_data"
    },
    {
     "data": {
      "application/vnd.jupyter.widget-view+json": {
       "model_id": "85040d0781954122924af15b8fc33879",
       "version_major": 2,
       "version_minor": 0
      },
      "text/plain": [
       "tokenizer.json:   0%|          | 0.00/2.42M [00:00<?, ?B/s]"
      ]
     },
     "metadata": {},
     "output_type": "display_data"
    },
    {
     "data": {
      "application/vnd.jupyter.widget-view+json": {
       "model_id": "ead4038b48c44c98bef0cd33503127d7",
       "version_major": 2,
       "version_minor": 0
      },
      "text/plain": [
       "special_tokens_map.json:   0%|          | 0.00/2.20k [00:00<?, ?B/s]"
      ]
     },
     "metadata": {},
     "output_type": "display_data"
    }
   ],
   "source": [
    "from transformers import pipeline\n",
    "\n",
    "summarizer = pipeline(\n",
    "    \"summarization\",\n",
    "    model=\"google/flan-t5-base\",\n",
    "    tokenizer=\"google/flan-t5-base\"\n",
    ")"
   ]
  },
  {
   "cell_type": "code",
   "execution_count": 7,
   "metadata": {},
   "outputs": [
    {
     "name": "stdout",
     "output_type": "stream",
     "text": [
      "rm: cannot remove 'summarisation.csv': No such file or directory\n",
      "--2024-06-10 14:12:24--  https://raw.githubusercontent.com/IBM/watson-openscale-samples/main/IBM%20Cloud/WML/assets/data/summarization/summarisation.csv\n",
      "Resolving raw.githubusercontent.com (raw.githubusercontent.com)... 185.199.108.133, 185.199.110.133, 185.199.109.133, ...\n",
      "Connecting to raw.githubusercontent.com (raw.githubusercontent.com)|185.199.108.133|:443... connected.\n",
      "HTTP request sent, awaiting response... 200 OK\n",
      "Length: 27115 (26K) [text/plain]\n",
      "Saving to: ‘summarisation.csv’\n",
      "\n",
      "summarisation.csv   100%[===================>]  26.48K  --.-KB/s    in 0.002s  \n",
      "\n",
      "2024-06-10 14:12:24 (16.4 MB/s) - ‘summarisation.csv’ saved [27115/27115]\n",
      "\n"
     ]
    }
   ],
   "source": [
    "# Download summarisation data\n",
    "!rm summarisation.csv\n",
    "!wget https://raw.githubusercontent.com/IBM/watson-openscale-samples/main/IBM%20Cloud/WML/assets/data/summarization/summarisation.csv"
   ]
  },
  {
   "cell_type": "code",
   "execution_count": 8,
   "metadata": {},
   "outputs": [
    {
     "data": {
      "text/html": [
       "<div>\n",
       "<style scoped>\n",
       "    .dataframe tbody tr th:only-of-type {\n",
       "        vertical-align: middle;\n",
       "    }\n",
       "\n",
       "    .dataframe tbody tr th {\n",
       "        vertical-align: top;\n",
       "    }\n",
       "\n",
       "    .dataframe thead th {\n",
       "        text-align: right;\n",
       "    }\n",
       "</style>\n",
       "<table border=\"1\" class=\"dataframe\">\n",
       "  <thead>\n",
       "    <tr style=\"text-align: right;\">\n",
       "      <th></th>\n",
       "      <th>doc</th>\n",
       "      <th>id</th>\n",
       "      <th>original_text</th>\n",
       "      <th>reference_summary</th>\n",
       "      <th>title</th>\n",
       "      <th>uid</th>\n",
       "    </tr>\n",
       "  </thead>\n",
       "  <tbody>\n",
       "    <tr>\n",
       "      <th>0</th>\n",
       "      <td>Pokemon GO Terms of Service</td>\n",
       "      <td>57866df76cca83a54c0035a1</td>\n",
       "      <td>by using our services you are agreeing to thes...</td>\n",
       "      <td>by playing this game you agree to these terms....</td>\n",
       "      <td>Agreement To Terms</td>\n",
       "      <td>legalsum02</td>\n",
       "    </tr>\n",
       "    <tr>\n",
       "      <th>1</th>\n",
       "      <td>Pokemon GO Terms of Service</td>\n",
       "      <td>5786730a6cca83a54c0035b6</td>\n",
       "      <td>if you want to use certain features of the ser...</td>\n",
       "      <td>you have to use google pokemon trainer club or...</td>\n",
       "      <td>Eligibility and Account Registration</td>\n",
       "      <td>legalsum03</td>\n",
       "    </tr>\n",
       "    <tr>\n",
       "      <th>2</th>\n",
       "      <td>Pokemon GO Terms of Service</td>\n",
       "      <td>57866df76cca83a54c0035a0</td>\n",
       "      <td>during game play please be aware of your surro...</td>\n",
       "      <td>don t die or hurt others and if you do it s no...</td>\n",
       "      <td>Safe Play</td>\n",
       "      <td>legalsum04</td>\n",
       "    </tr>\n",
       "    <tr>\n",
       "      <th>3</th>\n",
       "      <td>Pokemon GO Terms of Service</td>\n",
       "      <td>57866df76cca83a54c00359f</td>\n",
       "      <td>subject to your compliance with these terms ni...</td>\n",
       "      <td>don t copy modify resell distribute or reverse...</td>\n",
       "      <td>Rights in App</td>\n",
       "      <td>legalsum05</td>\n",
       "    </tr>\n",
       "    <tr>\n",
       "      <th>4</th>\n",
       "      <td>Pokemon GO Terms of Service</td>\n",
       "      <td>57866df76cca83a54c00359e</td>\n",
       "      <td>for purposes of these terms a content means th...</td>\n",
       "      <td>we grant you full ownership of your user conte...</td>\n",
       "      <td>Content and Content Rights</td>\n",
       "      <td>legalsum06</td>\n",
       "    </tr>\n",
       "  </tbody>\n",
       "</table>\n",
       "</div>"
      ],
      "text/plain": [
       "                           doc                        id  \\\n",
       "0  Pokemon GO Terms of Service  57866df76cca83a54c0035a1   \n",
       "1  Pokemon GO Terms of Service  5786730a6cca83a54c0035b6   \n",
       "2  Pokemon GO Terms of Service  57866df76cca83a54c0035a0   \n",
       "3  Pokemon GO Terms of Service  57866df76cca83a54c00359f   \n",
       "4  Pokemon GO Terms of Service  57866df76cca83a54c00359e   \n",
       "\n",
       "                                       original_text  \\\n",
       "0  by using our services you are agreeing to thes...   \n",
       "1  if you want to use certain features of the ser...   \n",
       "2  during game play please be aware of your surro...   \n",
       "3  subject to your compliance with these terms ni...   \n",
       "4  for purposes of these terms a content means th...   \n",
       "\n",
       "                                   reference_summary  \\\n",
       "0  by playing this game you agree to these terms....   \n",
       "1  you have to use google pokemon trainer club or...   \n",
       "2  don t die or hurt others and if you do it s no...   \n",
       "3  don t copy modify resell distribute or reverse...   \n",
       "4  we grant you full ownership of your user conte...   \n",
       "\n",
       "                                  title         uid  \n",
       "0                    Agreement To Terms  legalsum02  \n",
       "1  Eligibility and Account Registration  legalsum03  \n",
       "2                             Safe Play  legalsum04  \n",
       "3                         Rights in App  legalsum05  \n",
       "4            Content and Content Rights  legalsum06  "
      ]
     },
     "execution_count": 8,
     "metadata": {},
     "output_type": "execute_result"
    }
   ],
   "source": [
    "import pandas as pd\n",
    "\n",
    "test_data_path = \"summarisation.csv\"\n",
    "llm_data = pd.read_csv(test_data_path)\n",
    "llm_data.head()"
   ]
  },
  {
   "cell_type": "markdown",
   "metadata": {},
   "source": [
    "## Set the generated_summary with the summary from HF Google Flan model prompt evaluation"
   ]
  },
  {
   "cell_type": "code",
   "execution_count": 9,
   "metadata": {},
   "outputs": [
    {
     "name": "stderr",
     "output_type": "stream",
     "text": [
      "Your max_length is set to 450, but your input_length is only 101. Since this is a summarization task, where outputs shorter than the input are typically wanted, you might consider decreasing max_length manually, e.g. summarizer('...', max_length=50)\n",
      "Token indices sequence length is longer than the specified maximum sequence length for this model (705 > 512). Running this sequence through the model will result in indexing errors\n",
      "Your max_length is set to 3180, but your input_length is only 705. Since this is a summarization task, where outputs shorter than the input are typically wanted, you might consider decreasing max_length manually, e.g. summarizer('...', max_length=352)\n",
      "Your max_length is set to 1935, but your input_length is only 387. Since this is a summarization task, where outputs shorter than the input are typically wanted, you might consider decreasing max_length manually, e.g. summarizer('...', max_length=193)\n",
      "Your max_length is set to 3721, but your input_length is only 756. Since this is a summarization task, where outputs shorter than the input are typically wanted, you might consider decreasing max_length manually, e.g. summarizer('...', max_length=378)\n",
      "Your max_length is set to 2815, but your input_length is only 533. Since this is a summarization task, where outputs shorter than the input are typically wanted, you might consider decreasing max_length manually, e.g. summarizer('...', max_length=266)\n",
      "Your max_length is set to 1448, but your input_length is only 275. Since this is a summarization task, where outputs shorter than the input are typically wanted, you might consider decreasing max_length manually, e.g. summarizer('...', max_length=137)\n",
      "Your max_length is set to 1441, but your input_length is only 293. Since this is a summarization task, where outputs shorter than the input are typically wanted, you might consider decreasing max_length manually, e.g. summarizer('...', max_length=146)\n",
      "Your max_length is set to 3914, but your input_length is only 764. Since this is a summarization task, where outputs shorter than the input are typically wanted, you might consider decreasing max_length manually, e.g. summarizer('...', max_length=382)\n",
      "Your max_length is set to 5522, but your input_length is only 1062. Since this is a summarization task, where outputs shorter than the input are typically wanted, you might consider decreasing max_length manually, e.g. summarizer('...', max_length=531)\n",
      "Your max_length is set to 467, but your input_length is only 88. Since this is a summarization task, where outputs shorter than the input are typically wanted, you might consider decreasing max_length manually, e.g. summarizer('...', max_length=44)\n"
     ]
    },
    {
     "data": {
      "text/html": [
       "<div>\n",
       "<style scoped>\n",
       "    .dataframe tbody tr th:only-of-type {\n",
       "        vertical-align: middle;\n",
       "    }\n",
       "\n",
       "    .dataframe tbody tr th {\n",
       "        vertical-align: top;\n",
       "    }\n",
       "\n",
       "    .dataframe thead th {\n",
       "        text-align: right;\n",
       "    }\n",
       "</style>\n",
       "<table border=\"1\" class=\"dataframe\">\n",
       "  <thead>\n",
       "    <tr style=\"text-align: right;\">\n",
       "      <th></th>\n",
       "      <th>doc</th>\n",
       "      <th>id</th>\n",
       "      <th>original_text</th>\n",
       "      <th>reference_summary</th>\n",
       "      <th>title</th>\n",
       "      <th>uid</th>\n",
       "      <th>generated_text</th>\n",
       "    </tr>\n",
       "  </thead>\n",
       "  <tbody>\n",
       "    <tr>\n",
       "      <th>0</th>\n",
       "      <td>Pokemon GO Terms of Service</td>\n",
       "      <td>57866df76cca83a54c0035a1</td>\n",
       "      <td>by using our services you are agreeing to thes...</td>\n",
       "      <td>by playing this game you agree to these terms....</td>\n",
       "      <td>Agreement To Terms</td>\n",
       "      <td>legalsum02</td>\n",
       "      <td>Use our services if you are the parent or lega...</td>\n",
       "    </tr>\n",
       "    <tr>\n",
       "      <th>1</th>\n",
       "      <td>Pokemon GO Terms of Service</td>\n",
       "      <td>5786730a6cca83a54c0035b6</td>\n",
       "      <td>if you want to use certain features of the ser...</td>\n",
       "      <td>you have to use google pokemon trainer club or...</td>\n",
       "      <td>Eligibility and Account Registration</td>\n",
       "      <td>legalsum03</td>\n",
       "      <td>Create an account with us. Register for an acc...</td>\n",
       "    </tr>\n",
       "    <tr>\n",
       "      <th>2</th>\n",
       "      <td>Pokemon GO Terms of Service</td>\n",
       "      <td>57866df76cca83a54c0035a0</td>\n",
       "      <td>during game play please be aware of your surro...</td>\n",
       "      <td>don t die or hurt others and if you do it s no...</td>\n",
       "      <td>Safe Play</td>\n",
       "      <td>legalsum04</td>\n",
       "      <td>Be aware of your surroundings</td>\n",
       "    </tr>\n",
       "    <tr>\n",
       "      <th>3</th>\n",
       "      <td>Pokemon GO Terms of Service</td>\n",
       "      <td>57866df76cca83a54c00359f</td>\n",
       "      <td>subject to your compliance with these terms ni...</td>\n",
       "      <td>don t copy modify resell distribute or reverse...</td>\n",
       "      <td>Rights in App</td>\n",
       "      <td>legalsum05</td>\n",
       "      <td>niantic grants you a limited nonexclusive nont...</td>\n",
       "    </tr>\n",
       "    <tr>\n",
       "      <th>4</th>\n",
       "      <td>Pokemon GO Terms of Service</td>\n",
       "      <td>57866df76cca83a54c00359e</td>\n",
       "      <td>for purposes of these terms a content means th...</td>\n",
       "      <td>we grant you full ownership of your user conte...</td>\n",
       "      <td>Content and Content Rights</td>\n",
       "      <td>legalsum06</td>\n",
       "      <td>niniantic grants you a personal noncommercial ...</td>\n",
       "    </tr>\n",
       "  </tbody>\n",
       "</table>\n",
       "</div>"
      ],
      "text/plain": [
       "                           doc                        id  \\\n",
       "0  Pokemon GO Terms of Service  57866df76cca83a54c0035a1   \n",
       "1  Pokemon GO Terms of Service  5786730a6cca83a54c0035b6   \n",
       "2  Pokemon GO Terms of Service  57866df76cca83a54c0035a0   \n",
       "3  Pokemon GO Terms of Service  57866df76cca83a54c00359f   \n",
       "4  Pokemon GO Terms of Service  57866df76cca83a54c00359e   \n",
       "\n",
       "                                       original_text  \\\n",
       "0  by using our services you are agreeing to thes...   \n",
       "1  if you want to use certain features of the ser...   \n",
       "2  during game play please be aware of your surro...   \n",
       "3  subject to your compliance with these terms ni...   \n",
       "4  for purposes of these terms a content means th...   \n",
       "\n",
       "                                   reference_summary  \\\n",
       "0  by playing this game you agree to these terms....   \n",
       "1  you have to use google pokemon trainer club or...   \n",
       "2  don t die or hurt others and if you do it s no...   \n",
       "3  don t copy modify resell distribute or reverse...   \n",
       "4  we grant you full ownership of your user conte...   \n",
       "\n",
       "                                  title         uid  \\\n",
       "0                    Agreement To Terms  legalsum02   \n",
       "1  Eligibility and Account Registration  legalsum03   \n",
       "2                             Safe Play  legalsum04   \n",
       "3                         Rights in App  legalsum05   \n",
       "4            Content and Content Rights  legalsum06   \n",
       "\n",
       "                                      generated_text  \n",
       "0  Use our services if you are the parent or lega...  \n",
       "1  Create an account with us. Register for an acc...  \n",
       "2                      Be aware of your surroundings  \n",
       "3  niantic grants you a limited nonexclusive nont...  \n",
       "4  niniantic grants you a personal noncommercial ...  "
      ]
     },
     "execution_count": 9,
     "metadata": {},
     "output_type": "execute_result"
    }
   ],
   "source": [
    "def get_completion(prompt_text):\n",
    "    summary = (summarizer(prompt_text, max_length=len(prompt_text), min_length=1))\n",
    "    summary_text = summary[0][\"summary_text\"]\n",
    "    return summary_text\n",
    "\n",
    "llm_data[\"generated_text\"] = llm_data[\"original_text\"].apply(get_completion)\n",
    "llm_data.head()"
   ]
  },
  {
   "cell_type": "markdown",
   "metadata": {},
   "source": [
    "# Create Prompt template <a name=\"prompt\"></a>"
   ]
  },
  {
   "cell_type": "markdown",
   "metadata": {},
   "source": [
    "Create a prompt template for a summarization task"
   ]
  },
  {
   "cell_type": "code",
   "execution_count": 10,
   "metadata": {},
   "outputs": [],
   "source": [
    "from ibm_aigov_facts_client import AIGovFactsClient\n",
    "\n",
    "if not use_cpd:\n",
    "    facts_client = AIGovFactsClient(\n",
    "        api_key=CLOUD_API_KEY,\n",
    "        container_id=PROJECT_ID,\n",
    "        container_type=\"project\",\n",
    "        disable_tracing=True\n",
    "    )\n",
    "else:\n",
    "    from ibm_aigov_facts_client import CloudPakforDataConfig\n",
    "    creds=CloudPakforDataConfig(\n",
    "        service_url=CPD_URL,\n",
    "        username=CPD_USERNAME,\n",
    "        password=CPD_PASSWORD\n",
    "    )\n",
    "    facts_client = AIGovFactsClient(\n",
    "        cloud_pak_for_data_configs=creds,\n",
    "        container_id=PROJECT_ID,\n",
    "        container_type=\"project\",\n",
    "        disable_tracing=True\n",
    "    )"
   ]
  },
  {
   "cell_type": "code",
   "execution_count": 13,
   "metadata": {},
   "outputs": [
    {
     "name": "stdout",
     "output_type": "stream",
     "text": [
      "2024/06/10 14:15:51 INFO : The prompt with ID 36aaa4f6-0c3d-4c9b-a784-85f04e27b6bc was created successfully in container_id b2e4ff1b-94ae-4a11-ab32-ab2323b12fbb.\n"
     ]
    }
   ],
   "source": [
    "from ibm_aigov_facts_client import DetachedPromptTemplate, PromptTemplate\n",
    "\n",
    "detached_information = DetachedPromptTemplate(\n",
    "    prompt_id=\"detached_prompt\",\n",
    "    model_id=\"google/flan-t5-base\",\n",
    "    model_provider=\"Hugging Face\",\n",
    "    model_name=\"google/flan-t5-base\",\n",
    "    model_url=\"https://huggingface.co/google/flan-t5-base\",\n",
    "    prompt_url=\"prompt_url\",\n",
    "    prompt_additional_info={\"model_owner\": \"huggingface\"}\n",
    ")\n",
    "\n",
    "task_id = \"summarization\"\n",
    "name = \"External prompt sample (google/flan-t5-base HF)\"\n",
    "description = \"My first detached prompt\"\n",
    "model_id = \"google/flan-t5-base\"\n",
    "\n",
    "# define parameters for PromptTemplate\n",
    "prompt_variables = {\"original_text\": \"\"}\n",
    "input = \"{original_text}\"\n",
    "input_prefix= \"Input:\"\n",
    "output_prefix= \"Output:\"\n",
    "\n",
    "prompt_template = PromptTemplate(\n",
    "    input=input,\n",
    "    prompt_variables=prompt_variables,\n",
    "    input_prefix=input_prefix,\n",
    "    output_prefix=output_prefix\n",
    ")\n",
    "\n",
    "pta_details = facts_client.assets.create_detached_prompt(\n",
    "    model_id=model_id,\n",
    "    task_id=task_id,\n",
    "    name=name,\n",
    "    description=description,\n",
    "    prompt_details=prompt_template,\n",
    "    detached_information=detached_information\n",
    ")\n",
    "project_pta_id = pta_details.to_dict()[\"asset_id\"]"
   ]
  },
  {
   "cell_type": "markdown",
   "metadata": {},
   "source": [
    "# Prompt setup <a name=\"ptatsetup\"></a>"
   ]
  },
  {
   "cell_type": "markdown",
   "metadata": {},
   "source": [
    "### Configure OpenScale"
   ]
  },
  {
   "cell_type": "code",
   "execution_count": 14,
   "metadata": {},
   "outputs": [
    {
     "name": "stdout",
     "output_type": "stream",
     "text": [
      "3.0.37\n"
     ]
    }
   ],
   "source": [
    "from ibm_cloud_sdk_core.authenticators import IAMAuthenticator, CloudPakForDataAuthenticator\n",
    "\n",
    "from ibm_watson_openscale import *\n",
    "from ibm_watson_openscale.supporting_classes.enums import *\n",
    "from ibm_watson_openscale.supporting_classes import *\n",
    "\n",
    "if use_cpd:\n",
    "    authenticator = CloudPakForDataAuthenticator(\n",
    "        url=CPD_URL,\n",
    "        username=CPD_USERNAME,\n",
    "        password=CPD_PASSWORD,\n",
    "        disable_ssl_verification=True\n",
    "    )\n",
    "    wos_client = APIClient(\n",
    "        service_url=CPD_URL,\n",
    "        authenticator=authenticator,\n",
    "        service_instance_id=WOS_SERVICE_INSTANCE_ID\n",
    "    )\n",
    "    data_mart_id = wos_client.service_instance_id\n",
    "    print(wos_client.version)\n",
    "else:\n",
    "    service_instance_id = None # Update this to refer to a particular service instance\n",
    "    authenticator = IAMAuthenticator(\n",
    "        apikey=CLOUD_API_KEY,\n",
    "        url=IAM_URL\n",
    "    )\n",
    "    wos_client = APIClient(\n",
    "        authenticator=authenticator,\n",
    "        service_url=SERVICE_URL,\n",
    "        service_instance_id=service_instance_id\n",
    "    )\n",
    "    data_mart_id = wos_client.service_instance_id\n",
    "    print(wos_client.version)"
   ]
  },
  {
   "cell_type": "markdown",
   "metadata": {},
   "source": [
    "### Openscale instance mapping with the project"
   ]
  },
  {
   "cell_type": "markdown",
   "metadata": {},
   "source": [
    "When the authentication is on CPD then we need to add additional step of mapping the project_id/space_id to an OpenScale instance."
   ]
  },
  {
   "cell_type": "code",
   "execution_count": 15,
   "metadata": {},
   "outputs": [],
   "source": [
    "from ibm_watson_openscale.base_classes import ApiRequestFailure\n",
    "\n",
    "if use_cpd:\n",
    "    try:\n",
    "      wos_client.wos.add_instance_mapping(                \n",
    "        service_instance_id=data_mart_id,\n",
    "        project_id=PROJECT_ID\n",
    "      )\n",
    "    except ApiRequestFailure as arf:\n",
    "       if arf.response.status_code == 409:\n",
    "          # Instance mapping already exists\n",
    "          pass\n",
    "       else:\n",
    "          raise arf"
   ]
  },
  {
   "cell_type": "markdown",
   "metadata": {},
   "source": [
    "### Setup the prompt template asset in project for evaluation with supported monitor dimensions"
   ]
  },
  {
   "cell_type": "markdown",
   "metadata": {},
   "source": [
    "The prompt template assets from project is only supported with `development` operational space ID. Running the below cell will create a development type subscription from the prompt template asset created within the project.\n",
    "\n",
    "The available parameters that can be passed for `execute_prompt_setup` function are:\n",
    "\n",
    " * `prompt_template_asset_id` : Id of prompt template asset for which subscription needs to be created.\n",
    " * `label_column` :  The name of the column containing the ground truth or actual labels.\n",
    " * `project_id` : The GUID of the project.\n",
    " * `space_id` : The GUID of the space.\n",
    " * `deployment_id` : (optional) The GUID of the deployment.\n",
    " * `operational_space_id` : The rank of the environment in which the monitoring is happening. Accepted values are `development`, `pre_production`, `production`.\n",
    " * `problem_type` : (optional) The task type to monitor for the given prompt template asset.\n",
    " * `classification_type` : The classification type `binary`/`multiclass` applicable only for `classification` problem (task) type.\n",
    " * `input_data_type` : The input data type.\n",
    " * `supporting_monitors` : Monitor configuration for the subscription to be created.\n",
    " * `background_mode` : When `True`, the promt setup operation will be executed in the background"
   ]
  },
  {
   "cell_type": "code",
   "execution_count": 17,
   "metadata": {},
   "outputs": [
    {
     "name": "stdout",
     "output_type": "stream",
     "text": [
      "=================================================================\n",
      "This method will be deprecated in the next release and be replaced by wos_client.wos.execute_prompt_setup() method\n",
      "=================================================================\n",
      "\n",
      "\n",
      "=============================================================================\n",
      "\n",
      " Waiting for end of adding prompt setup 36aaa4f6-0c3d-4c9b-a784-85f04e27b6bc \n",
      "\n",
      "=============================================================================\n",
      "\n",
      "\n",
      "\n",
      "running..\n",
      "finished\n",
      "\n",
      "---------------------------------------------------------------\n",
      " Successfully finished setting up prompt template subscription \n",
      "---------------------------------------------------------------\n",
      "\n",
      "\n"
     ]
    },
    {
     "data": {
      "text/plain": [
       "{'prompt_template_asset_id': '36aaa4f6-0c3d-4c9b-a784-85f04e27b6bc',\n",
       " 'project_id': 'b2e4ff1b-94ae-4a11-ab32-ab2323b12fbb',\n",
       " 'deployment_id': '492d4d32-542e-4a61-95af-e95c1470c313',\n",
       " 'service_provider_id': 'fac464d0-1aa9-4cb1-8c99-3c01d2972d91',\n",
       " 'subscription_id': 'a7f5ed1b-0240-453c-90d7-e47569e6b518',\n",
       " 'mrm_monitor_instance_id': '088f2a65-cb12-4e37-840a-2febe6955979',\n",
       " 'start_time': '2024-06-10T14:17:02.539393Z',\n",
       " 'end_time': '2024-06-10T14:17:22.051198Z',\n",
       " 'status': {'state': 'FINISHED'}}"
      ]
     },
     "execution_count": 17,
     "metadata": {},
     "output_type": "execute_result"
    }
   ],
   "source": [
    "label_column = \"reference_summary\"\n",
    "operational_space_id = \"development\"\n",
    "problem_type = \"summarization\"\n",
    "input_data_type = \"unstructured_text\"\n",
    "\n",
    "\n",
    "monitors = {\n",
    "    \"generative_ai_quality\": {\n",
    "        \"parameters\": {\n",
    "            \"min_sample_size\": 10,\n",
    "            \"metrics_configuration\": {                    \n",
    "            }\n",
    "        }\n",
    "    }\n",
    "}\n",
    "\n",
    "response = wos_client.monitor_instances.mrm.execute_prompt_setup(\n",
    "    prompt_template_asset_id=project_pta_id, \n",
    "    project_id=PROJECT_ID,\n",
    "    label_column=label_column,\n",
    "    operational_space_id=operational_space_id, \n",
    "    problem_type=problem_type,\n",
    "    input_data_type=input_data_type, \n",
    "    supporting_monitors=monitors, \n",
    "    background_mode=False\n",
    ")\n",
    "\n",
    "result = response.result\n",
    "result.to_dict()"
   ]
  },
  {
   "cell_type": "markdown",
   "metadata": {},
   "source": [
    "With the below cell, users can  read the  prompt setup task and check its status"
   ]
  },
  {
   "cell_type": "code",
   "execution_count": 18,
   "metadata": {},
   "outputs": [
    {
     "name": "stdout",
     "output_type": "stream",
     "text": [
      "=================================================================\n",
      "This method will be deprecated in the next release and be replaced by wos_client.wos.get_prompt_setup() method\n",
      "=================================================================\n",
      "Finished prompt setup. The response is {'prompt_template_asset_id': '36aaa4f6-0c3d-4c9b-a784-85f04e27b6bc', 'project_id': 'b2e4ff1b-94ae-4a11-ab32-ab2323b12fbb', 'deployment_id': '492d4d32-542e-4a61-95af-e95c1470c313', 'service_provider_id': 'fac464d0-1aa9-4cb1-8c99-3c01d2972d91', 'subscription_id': 'a7f5ed1b-0240-453c-90d7-e47569e6b518', 'mrm_monitor_instance_id': '088f2a65-cb12-4e37-840a-2febe6955979', 'start_time': '2024-06-10T14:17:02.539393Z', 'end_time': '2024-06-10T14:17:22.051198Z', 'status': {'state': 'FINISHED'}}\n"
     ]
    }
   ],
   "source": [
    "response = wos_client.monitor_instances.mrm.get_prompt_setup(\n",
    "    prompt_template_asset_id=project_pta_id,\n",
    "    project_id=PROJECT_ID\n",
    ")\n",
    "\n",
    "result = response.result\n",
    "result_json = result.to_dict()\n",
    "\n",
    "if result_json[\"status\"][\"state\"] == \"FINISHED\":\n",
    "    print(\"Finished prompt setup. The response is {}\".format(result_json))\n",
    "else:\n",
    "    print(\"Prompt setup failed. The response is {}\".format(result_json))"
   ]
  },
  {
   "cell_type": "markdown",
   "metadata": {},
   "source": [
    "### Read required IDs from prompt setup response"
   ]
  },
  {
   "cell_type": "code",
   "execution_count": 19,
   "metadata": {},
   "outputs": [],
   "source": [
    "subscription_id = result_json[\"subscription_id\"]\n",
    "mrm_monitor_instance_id = result_json[\"mrm_monitor_instance_id\"]"
   ]
  },
  {
   "cell_type": "markdown",
   "metadata": {},
   "source": [
    "## Show all the monitor instances of the production subscription\n",
    "The following cell lists the monitors present in the development subscription along with their respective statuses and other details. Please wait for all the monitors to be in active state before proceeding further."
   ]
  },
  {
   "cell_type": "code",
   "execution_count": 20,
   "metadata": {},
   "outputs": [
    {
     "data": {
      "text/html": [
       "<HTML>\n",
       "        <body>\n",
       "            <h3>Monitor instances</h3>\n",
       "            <table style='border: 1px solid #dddddd; font-family: Courier'>\n",
       "                <th style='border: 1px solid #dddddd'>data_mart_id</th><th style='border: 1px solid #dddddd'>status</th><th style='border: 1px solid #dddddd'>target_id</th><th style='border: 1px solid #dddddd'>target_type</th><th style='border: 1px solid #dddddd'>monitor_definition_id</th><th style='border: 1px solid #dddddd'>created_at</th><th style='border: 1px solid #dddddd'>id</th>\n",
       "                <tr><td style='border: 1px solid #dddddd'>3a17ad43-b167-4b68-9309-390d1ae7ee38</td><td style='border: 1px solid #dddddd'>active</td><td style='border: 1px solid #dddddd'>a7f5ed1b-0240-453c-90d7-e47569e6b518</td><td style='border: 1px solid #dddddd'>subscription</td><td style='border: 1px solid #dddddd'>generative_ai_quality</td><td style='border: 1px solid #dddddd'>2024-06-10 14:17:14.191000+00:00</td><td style='border: 1px solid #dddddd'>1ee7a8fe-294d-4e87-b1f4-11621f30852f</td></tr><tr><td style='border: 1px solid #dddddd'>3a17ad43-b167-4b68-9309-390d1ae7ee38</td><td style='border: 1px solid #dddddd'>active</td><td style='border: 1px solid #dddddd'>a7f5ed1b-0240-453c-90d7-e47569e6b518</td><td style='border: 1px solid #dddddd'>subscription</td><td style='border: 1px solid #dddddd'>model_health</td><td style='border: 1px solid #dddddd'>2024-06-10 14:17:14.762000+00:00</td><td style='border: 1px solid #dddddd'>f2cad6e1-570c-4ffc-868d-b9a1d01b73b2</td></tr><tr><td style='border: 1px solid #dddddd'>3a17ad43-b167-4b68-9309-390d1ae7ee38</td><td style='border: 1px solid #dddddd'>active</td><td style='border: 1px solid #dddddd'>a7f5ed1b-0240-453c-90d7-e47569e6b518</td><td style='border: 1px solid #dddddd'>subscription</td><td style='border: 1px solid #dddddd'>mrm</td><td style='border: 1px solid #dddddd'>2024-06-10 14:17:15.172000+00:00</td><td style='border: 1px solid #dddddd'>088f2a65-cb12-4e37-840a-2febe6955979</td></tr>\n",
       "            </table>\n",
       "        </body>\n",
       "        </HTML>"
      ],
      "text/plain": [
       "<IPython.core.display.HTML object>"
      ]
     },
     "metadata": {},
     "output_type": "display_data"
    }
   ],
   "source": [
    "wos_client.monitor_instances.show(target_target_id=subscription_id)"
   ]
  },
  {
   "cell_type": "markdown",
   "metadata": {},
   "source": [
    "# Risk evaluations for PTA subscription <a name=\"evaluate\"></a>"
   ]
  },
  {
   "cell_type": "markdown",
   "metadata": {},
   "source": [
    "### Evaluate the prompt template subscription\n",
    "\n",
    "For the risk assessment of a development type subscription the user needs to have an evaluation dataset. The risk evaluation function takes the evaluation dataset path as a parameter for evaluation of the configured metric dimensions. If there is a discrepancy between the feature columns in the subscription and the column names in the uploading CSV, users has the option to supply a mapping JSON file to associate the CSV column names with the feature column names in the subscription.\n",
    "\n",
    "\n",
    "**Note:* If you are running this notebook from Watson studio, you may first need to upload your test data to studio and run code snippet to download feedback data file from project to local directory"
   ]
  },
  {
   "cell_type": "markdown",
   "metadata": {},
   "source": [
    "The following cell will assess the test data with the subscription of the prompt template asset and produce relevant measurements for the configured monitor."
   ]
  },
  {
   "cell_type": "code",
   "execution_count": 21,
   "metadata": {},
   "outputs": [
    {
     "name": "stdout",
     "output_type": "stream",
     "text": [
      "\n",
      "\n",
      "=================================================================================\n",
      "\n",
      " Waiting for risk evaluation of MRM monitor 088f2a65-cb12-4e37-840a-2febe6955979 \n",
      "\n",
      "=================================================================================\n",
      "\n",
      "\n",
      "\n",
      "upload_in_progress\n",
      "running...\n",
      "finished\n",
      "\n",
      "---------------------------------------\n",
      " Successfully finished evaluating risk \n",
      "---------------------------------------\n",
      "\n",
      "\n"
     ]
    }
   ],
   "source": [
    "test_data_set_name = \"data\"\n",
    "content_type = \"multipart/form-data\"\n",
    "body = {}\n",
    "\n",
    "# Preparing the test data, removing extra columns\n",
    "cols_to_remove = [\"uid\", \"doc\", \"title\", \"id\"]\n",
    "for col in cols_to_remove:\n",
    "    if col in llm_data:\n",
    "        del llm_data[col]\n",
    "llm_data.to_csv(test_data_path, index=False)\n",
    "\n",
    "response  = wos_client.monitor_instances.mrm.evaluate_risk(\n",
    "    monitor_instance_id=mrm_monitor_instance_id,\n",
    "    test_data_set_name=test_data_set_name, \n",
    "    test_data_path=test_data_path,\n",
    "    content_type=content_type,\n",
    "    body=body,\n",
    "    project_id=PROJECT_ID,\n",
    "    includes_model_output=True,\n",
    "    background_mode=False\n",
    ")"
   ]
  },
  {
   "cell_type": "markdown",
   "metadata": {},
   "source": [
    "### Read the risk evaluation response\n",
    "\n",
    "After initiating the risk evaluation, the evaluation results are now available for review"
   ]
  },
  {
   "cell_type": "code",
   "execution_count": 22,
   "metadata": {},
   "outputs": [
    {
     "data": {
      "text/plain": [
       "{'metadata': {'id': '95b2bd75-aa4c-4f84-9324-706add95f3d5',\n",
       "  'created_at': '2024-06-10T14:17:49.725Z',\n",
       "  'created_by': 'iam-ServiceId-b317a8da-d926-496e-b0ca-6bcc57f556ae'},\n",
       " 'entity': {'triggered_by': 'user',\n",
       "  'parameters': {'evaluation_start_time': '2024-06-10T14:17:41.192948Z',\n",
       "   'evaluator_user_key': '2398a601-9742-400f-81f5-79e50f7d0048',\n",
       "   'facts': {'state': 'finished'},\n",
       "   'is_auto_evaluated': False,\n",
       "   'measurement_id': 'fc52bb8a-6fe3-45f1-9900-68daf1930a27',\n",
       "   'project_id': 'b2e4ff1b-94ae-4a11-ab32-ab2323b12fbb',\n",
       "   'prompt_template_asset_id': '36aaa4f6-0c3d-4c9b-a784-85f04e27b6bc',\n",
       "   'user_iam_id': 'IBMid-50P0BSQW1S',\n",
       "   'wos_created_deployment_id': '492d4d32-542e-4a61-95af-e95c1470c313',\n",
       "   'publish_metrics': 'false',\n",
       "   'evaluation_tests': ['drift_v2',\n",
       "    'generative_ai_quality',\n",
       "    'model_health',\n",
       "    'quality']},\n",
       "  'status': {'state': 'finished',\n",
       "   'queued_at': '2024-06-10T14:17:49.715000Z',\n",
       "   'started_at': '2024-06-10T14:17:50.168000Z',\n",
       "   'updated_at': '2024-06-10T14:18:22.329000Z',\n",
       "   'completed_at': '2024-06-10T14:18:19.435000Z',\n",
       "   'message': 'Mrm evaluation complete.',\n",
       "   'operators': []}}}"
      ]
     },
     "execution_count": 22,
     "metadata": {},
     "output_type": "execute_result"
    }
   ],
   "source": [
    "response  = wos_client.monitor_instances.mrm.get_risk_evaluation(mrm_monitor_instance_id, project_id=PROJECT_ID)\n",
    "response.result.to_dict()"
   ]
  },
  {
   "cell_type": "markdown",
   "metadata": {},
   "source": [
    "# Display the Model Risk metrics <a name=\"mrmmetric\"></a>\n",
    "\n",
    "Having calculated the measurements for the Foundation Model subscription, the MRM metrics generated for this subscription are now available for your review."
   ]
  },
  {
   "cell_type": "code",
   "execution_count": 23,
   "metadata": {},
   "outputs": [
    {
     "data": {
      "text/html": [
       "<HTML>\n",
       "        <body>\n",
       "            <h3>088f2a65-cb12-4e37-840a-2febe6955979 Monitor Runs Metrics from: 2024-06-03 14:18:25.581200  till: 2024-06-10 14:18:25.581221</h3>\n",
       "            <table style='border: 1px solid #dddddd; font-family: Courier'>\n",
       "                <th style='border: 1px solid #dddddd'>ts</th><th style='border: 1px solid #dddddd'>id</th><th style='border: 1px solid #dddddd'>measurement_id</th><th style='border: 1px solid #dddddd'>value</th><th style='border: 1px solid #dddddd'>lower_limit</th><th style='border: 1px solid #dddddd'>upper_limit</th><th style='border: 1px solid #dddddd'>tags</th><th style='border: 1px solid #dddddd'>monitor_definition_id</th><th style='border: 1px solid #dddddd'>monitor_instance_id</th><th style='border: 1px solid #dddddd'>run_id</th><th style='border: 1px solid #dddddd'>target_type</th><th style='border: 1px solid #dddddd'>target_id</th>\n",
       "                <tr><td style='border: 1px solid #dddddd'>2024-06-10 14:17:49.800000+00:00</td><td style='border: 1px solid #dddddd'>tests_passed</td><td style='border: 1px solid #dddddd'>fc52bb8a-6fe3-45f1-9900-68daf1930a27</td><td style='border: 1px solid #dddddd'>1.0</td><td style='border: 1px solid #dddddd'>None</td><td style='border: 1px solid #dddddd'>None</td><td style='border: 1px solid #dddddd'>['test_data_set_name:data']</td><td style='border: 1px solid #dddddd'>mrm</td><td style='border: 1px solid #dddddd'>088f2a65-cb12-4e37-840a-2febe6955979</td><td style='border: 1px solid #dddddd'>95b2bd75-aa4c-4f84-9324-706add95f3d5</td><td style='border: 1px solid #dddddd'>subscription</td><td style='border: 1px solid #dddddd'>a7f5ed1b-0240-453c-90d7-e47569e6b518</td></tr><tr><td style='border: 1px solid #dddddd'>2024-06-10 14:17:49.800000+00:00</td><td style='border: 1px solid #dddddd'>tests_run</td><td style='border: 1px solid #dddddd'>fc52bb8a-6fe3-45f1-9900-68daf1930a27</td><td style='border: 1px solid #dddddd'>1.0</td><td style='border: 1px solid #dddddd'>None</td><td style='border: 1px solid #dddddd'>None</td><td style='border: 1px solid #dddddd'>['test_data_set_name:data']</td><td style='border: 1px solid #dddddd'>mrm</td><td style='border: 1px solid #dddddd'>088f2a65-cb12-4e37-840a-2febe6955979</td><td style='border: 1px solid #dddddd'>95b2bd75-aa4c-4f84-9324-706add95f3d5</td><td style='border: 1px solid #dddddd'>subscription</td><td style='border: 1px solid #dddddd'>a7f5ed1b-0240-453c-90d7-e47569e6b518</td></tr><tr><td style='border: 1px solid #dddddd'>2024-06-10 14:17:49.800000+00:00</td><td style='border: 1px solid #dddddd'>tests_skipped</td><td style='border: 1px solid #dddddd'>fc52bb8a-6fe3-45f1-9900-68daf1930a27</td><td style='border: 1px solid #dddddd'>2.0</td><td style='border: 1px solid #dddddd'>None</td><td style='border: 1px solid #dddddd'>None</td><td style='border: 1px solid #dddddd'>['test_data_set_name:data']</td><td style='border: 1px solid #dddddd'>mrm</td><td style='border: 1px solid #dddddd'>088f2a65-cb12-4e37-840a-2febe6955979</td><td style='border: 1px solid #dddddd'>95b2bd75-aa4c-4f84-9324-706add95f3d5</td><td style='border: 1px solid #dddddd'>subscription</td><td style='border: 1px solid #dddddd'>a7f5ed1b-0240-453c-90d7-e47569e6b518</td></tr><tr><td style='border: 1px solid #dddddd'>2024-06-10 14:17:49.800000+00:00</td><td style='border: 1px solid #dddddd'>tests_failed</td><td style='border: 1px solid #dddddd'>fc52bb8a-6fe3-45f1-9900-68daf1930a27</td><td style='border: 1px solid #dddddd'>0.0</td><td style='border: 1px solid #dddddd'>None</td><td style='border: 1px solid #dddddd'>None</td><td style='border: 1px solid #dddddd'>['test_data_set_name:data']</td><td style='border: 1px solid #dddddd'>mrm</td><td style='border: 1px solid #dddddd'>088f2a65-cb12-4e37-840a-2febe6955979</td><td style='border: 1px solid #dddddd'>95b2bd75-aa4c-4f84-9324-706add95f3d5</td><td style='border: 1px solid #dddddd'>subscription</td><td style='border: 1px solid #dddddd'>a7f5ed1b-0240-453c-90d7-e47569e6b518</td></tr>\n",
       "            </table>\n",
       "        </body>\n",
       "        </HTML>"
      ],
      "text/plain": [
       "<IPython.core.display.HTML object>"
      ]
     },
     "metadata": {},
     "output_type": "display_data"
    }
   ],
   "source": [
    "wos_client.monitor_instances.show_metrics(monitor_instance_id=mrm_monitor_instance_id, project_id=PROJECT_ID)"
   ]
  },
  {
   "cell_type": "markdown",
   "metadata": {},
   "source": [
    "# Display the Generative AI Quality metrics <a name=\"genaimetrics\"></a>"
   ]
  },
  {
   "cell_type": "markdown",
   "metadata": {},
   "source": [
    "\n",
    "\n",
    "Monitor instance ID of Generative ai quality metrics is required for reading its metrics."
   ]
  },
  {
   "cell_type": "code",
   "execution_count": 24,
   "metadata": {},
   "outputs": [
    {
     "data": {
      "text/plain": [
       "'1ee7a8fe-294d-4e87-b1f4-11621f30852f'"
      ]
     },
     "execution_count": 24,
     "metadata": {},
     "output_type": "execute_result"
    }
   ],
   "source": [
    "monitor_definition_id = \"generative_ai_quality\"\n",
    "result = wos_client.monitor_instances.list(\n",
    "    data_mart_id=data_mart_id,\n",
    "    monitor_definition_id=monitor_definition_id,\n",
    "    target_target_id=subscription_id,\n",
    "    project_id=PROJECT_ID\n",
    ").result\n",
    "result_json = result._to_dict()\n",
    "genaiquality_monitor_id = result_json[\"monitor_instances\"][0][\"metadata\"][\"id\"]\n",
    "genaiquality_monitor_id"
   ]
  },
  {
   "cell_type": "markdown",
   "metadata": {},
   "source": [
    "Displaying the GenAIQ monitor metrics generated through the risk evaluation."
   ]
  },
  {
   "cell_type": "code",
   "execution_count": 25,
   "metadata": {},
   "outputs": [
    {
     "data": {
      "text/html": [
       "<HTML>\n",
       "        <body>\n",
       "            <h3>1ee7a8fe-294d-4e87-b1f4-11621f30852f Monitor Runs Metrics from: 2024-06-03 14:18:28.210449  till: 2024-06-10 14:18:28.210470</h3>\n",
       "            <table style='border: 1px solid #dddddd; font-family: Courier'>\n",
       "                <th style='border: 1px solid #dddddd'>ts</th><th style='border: 1px solid #dddddd'>id</th><th style='border: 1px solid #dddddd'>measurement_id</th><th style='border: 1px solid #dddddd'>value</th><th style='border: 1px solid #dddddd'>lower_limit</th><th style='border: 1px solid #dddddd'>upper_limit</th><th style='border: 1px solid #dddddd'>tags</th><th style='border: 1px solid #dddddd'>monitor_definition_id</th><th style='border: 1px solid #dddddd'>monitor_instance_id</th><th style='border: 1px solid #dddddd'>run_id</th><th style='border: 1px solid #dddddd'>target_type</th><th style='border: 1px solid #dddddd'>target_id</th>\n",
       "                <tr><td style='border: 1px solid #dddddd'>2024-06-10 14:18:04.564470+00:00</td><td style='border: 1px solid #dddddd'>flesch_reading_ease</td><td style='border: 1px solid #dddddd'>1f835863-3bc0-4fc7-86a3-d38b01f6c387</td><td style='border: 1px solid #dddddd'>65.183</td><td style='border: 1px solid #dddddd'>None</td><td style='border: 1px solid #dddddd'>None</td><td style='border: 1px solid #dddddd'>['computed_on:feedback', 'field_type:subscription', 'aggregation_type:mean']</td><td style='border: 1px solid #dddddd'>generative_ai_quality</td><td style='border: 1px solid #dddddd'>1ee7a8fe-294d-4e87-b1f4-11621f30852f</td><td style='border: 1px solid #dddddd'>61e2da82-fe7e-40cb-acf4-7a7ab95d589c</td><td style='border: 1px solid #dddddd'>subscription</td><td style='border: 1px solid #dddddd'>a7f5ed1b-0240-453c-90d7-e47569e6b518</td></tr><tr><td style='border: 1px solid #dddddd'>2024-06-10 14:18:04.564470+00:00</td><td style='border: 1px solid #dddddd'>normalized_recall</td><td style='border: 1px solid #dddddd'>1f835863-3bc0-4fc7-86a3-d38b01f6c387</td><td style='border: 1px solid #dddddd'>0.1837</td><td style='border: 1px solid #dddddd'>None</td><td style='border: 1px solid #dddddd'>None</td><td style='border: 1px solid #dddddd'>['computed_on:feedback', 'field_type:subscription', 'aggregation_type:mean']</td><td style='border: 1px solid #dddddd'>generative_ai_quality</td><td style='border: 1px solid #dddddd'>1ee7a8fe-294d-4e87-b1f4-11621f30852f</td><td style='border: 1px solid #dddddd'>61e2da82-fe7e-40cb-acf4-7a7ab95d589c</td><td style='border: 1px solid #dddddd'>subscription</td><td style='border: 1px solid #dddddd'>a7f5ed1b-0240-453c-90d7-e47569e6b518</td></tr><tr><td style='border: 1px solid #dddddd'>2024-06-10 14:18:04.564470+00:00</td><td style='border: 1px solid #dddddd'>rouge2</td><td style='border: 1px solid #dddddd'>1f835863-3bc0-4fc7-86a3-d38b01f6c387</td><td style='border: 1px solid #dddddd'>0.0239</td><td style='border: 1px solid #dddddd'>None</td><td style='border: 1px solid #dddddd'>None</td><td style='border: 1px solid #dddddd'>['computed_on:feedback', 'field_type:subscription', 'aggregation_type:mean']</td><td style='border: 1px solid #dddddd'>generative_ai_quality</td><td style='border: 1px solid #dddddd'>1ee7a8fe-294d-4e87-b1f4-11621f30852f</td><td style='border: 1px solid #dddddd'>61e2da82-fe7e-40cb-acf4-7a7ab95d589c</td><td style='border: 1px solid #dddddd'>subscription</td><td style='border: 1px solid #dddddd'>a7f5ed1b-0240-453c-90d7-e47569e6b518</td></tr><tr><td style='border: 1px solid #dddddd'>2024-06-10 14:18:04.564470+00:00</td><td style='border: 1px solid #dddddd'>records_processed</td><td style='border: 1px solid #dddddd'>1f835863-3bc0-4fc7-86a3-d38b01f6c387</td><td style='border: 1px solid #dddddd'>10.0</td><td style='border: 1px solid #dddddd'>None</td><td style='border: 1px solid #dddddd'>None</td><td style='border: 1px solid #dddddd'>['computed_on:feedback', 'field_type:subscription', 'aggregation_type:mean']</td><td style='border: 1px solid #dddddd'>generative_ai_quality</td><td style='border: 1px solid #dddddd'>1ee7a8fe-294d-4e87-b1f4-11621f30852f</td><td style='border: 1px solid #dddddd'>61e2da82-fe7e-40cb-acf4-7a7ab95d589c</td><td style='border: 1px solid #dddddd'>subscription</td><td style='border: 1px solid #dddddd'>a7f5ed1b-0240-453c-90d7-e47569e6b518</td></tr><tr><td style='border: 1px solid #dddddd'>2024-06-10 14:18:04.564470+00:00</td><td style='border: 1px solid #dddddd'>jaccard_similarity</td><td style='border: 1px solid #dddddd'>1f835863-3bc0-4fc7-86a3-d38b01f6c387</td><td style='border: 1px solid #dddddd'>0.0757</td><td style='border: 1px solid #dddddd'>None</td><td style='border: 1px solid #dddddd'>None</td><td style='border: 1px solid #dddddd'>['computed_on:feedback', 'field_type:subscription', 'aggregation_type:mean']</td><td style='border: 1px solid #dddddd'>generative_ai_quality</td><td style='border: 1px solid #dddddd'>1ee7a8fe-294d-4e87-b1f4-11621f30852f</td><td style='border: 1px solid #dddddd'>61e2da82-fe7e-40cb-acf4-7a7ab95d589c</td><td style='border: 1px solid #dddddd'>subscription</td><td style='border: 1px solid #dddddd'>a7f5ed1b-0240-453c-90d7-e47569e6b518</td></tr><tr><td style='border: 1px solid #dddddd'>2024-06-10 14:18:04.564470+00:00</td><td style='border: 1px solid #dddddd'>meteor</td><td style='border: 1px solid #dddddd'>1f835863-3bc0-4fc7-86a3-d38b01f6c387</td><td style='border: 1px solid #dddddd'>0.1305</td><td style='border: 1px solid #dddddd'>None</td><td style='border: 1px solid #dddddd'>None</td><td style='border: 1px solid #dddddd'>['computed_on:feedback', 'field_type:subscription', 'aggregation_type:mean']</td><td style='border: 1px solid #dddddd'>generative_ai_quality</td><td style='border: 1px solid #dddddd'>1ee7a8fe-294d-4e87-b1f4-11621f30852f</td><td style='border: 1px solid #dddddd'>61e2da82-fe7e-40cb-acf4-7a7ab95d589c</td><td style='border: 1px solid #dddddd'>subscription</td><td style='border: 1px solid #dddddd'>a7f5ed1b-0240-453c-90d7-e47569e6b518</td></tr><tr><td style='border: 1px solid #dddddd'>2024-06-10 14:18:04.564470+00:00</td><td style='border: 1px solid #dddddd'>rougelsum</td><td style='border: 1px solid #dddddd'>1f835863-3bc0-4fc7-86a3-d38b01f6c387</td><td style='border: 1px solid #dddddd'>0.1052</td><td style='border: 1px solid #dddddd'>None</td><td style='border: 1px solid #dddddd'>None</td><td style='border: 1px solid #dddddd'>['computed_on:feedback', 'field_type:subscription', 'aggregation_type:mean']</td><td style='border: 1px solid #dddddd'>generative_ai_quality</td><td style='border: 1px solid #dddddd'>1ee7a8fe-294d-4e87-b1f4-11621f30852f</td><td style='border: 1px solid #dddddd'>61e2da82-fe7e-40cb-acf4-7a7ab95d589c</td><td style='border: 1px solid #dddddd'>subscription</td><td style='border: 1px solid #dddddd'>a7f5ed1b-0240-453c-90d7-e47569e6b518</td></tr><tr><td style='border: 1px solid #dddddd'>2024-06-10 14:18:04.564470+00:00</td><td style='border: 1px solid #dddddd'>pii</td><td style='border: 1px solid #dddddd'>1f835863-3bc0-4fc7-86a3-d38b01f6c387</td><td style='border: 1px solid #dddddd'>0.0</td><td style='border: 1px solid #dddddd'>None</td><td style='border: 1px solid #dddddd'>None</td><td style='border: 1px solid #dddddd'>['computed_on:feedback', 'field_type:subscription', 'aggregation_type:mean']</td><td style='border: 1px solid #dddddd'>generative_ai_quality</td><td style='border: 1px solid #dddddd'>1ee7a8fe-294d-4e87-b1f4-11621f30852f</td><td style='border: 1px solid #dddddd'>61e2da82-fe7e-40cb-acf4-7a7ab95d589c</td><td style='border: 1px solid #dddddd'>subscription</td><td style='border: 1px solid #dddddd'>a7f5ed1b-0240-453c-90d7-e47569e6b518</td></tr><tr><td style='border: 1px solid #dddddd'>2024-06-10 14:18:04.564470+00:00</td><td style='border: 1px solid #dddddd'>normalized_precision</td><td style='border: 1px solid #dddddd'>1f835863-3bc0-4fc7-86a3-d38b01f6c387</td><td style='border: 1px solid #dddddd'>0.1666</td><td style='border: 1px solid #dddddd'>None</td><td style='border: 1px solid #dddddd'>None</td><td style='border: 1px solid #dddddd'>['computed_on:feedback', 'field_type:subscription', 'aggregation_type:mean']</td><td style='border: 1px solid #dddddd'>generative_ai_quality</td><td style='border: 1px solid #dddddd'>1ee7a8fe-294d-4e87-b1f4-11621f30852f</td><td style='border: 1px solid #dddddd'>61e2da82-fe7e-40cb-acf4-7a7ab95d589c</td><td style='border: 1px solid #dddddd'>subscription</td><td style='border: 1px solid #dddddd'>a7f5ed1b-0240-453c-90d7-e47569e6b518</td></tr><tr><td style='border: 1px solid #dddddd'>2024-06-10 14:18:04.564470+00:00</td><td style='border: 1px solid #dddddd'>bleu</td><td style='border: 1px solid #dddddd'>1f835863-3bc0-4fc7-86a3-d38b01f6c387</td><td style='border: 1px solid #dddddd'>0.0</td><td style='border: 1px solid #dddddd'>None</td><td style='border: 1px solid #dddddd'>None</td><td style='border: 1px solid #dddddd'>['computed_on:feedback', 'field_type:subscription', 'aggregation_type:mean']</td><td style='border: 1px solid #dddddd'>generative_ai_quality</td><td style='border: 1px solid #dddddd'>1ee7a8fe-294d-4e87-b1f4-11621f30852f</td><td style='border: 1px solid #dddddd'>61e2da82-fe7e-40cb-acf4-7a7ab95d589c</td><td style='border: 1px solid #dddddd'>subscription</td><td style='border: 1px solid #dddddd'>a7f5ed1b-0240-453c-90d7-e47569e6b518</td></tr>\n",
       "            </table>\n",
       "        </body>\n",
       "        </HTML>"
      ],
      "text/plain": [
       "<IPython.core.display.HTML object>"
      ]
     },
     "metadata": {},
     "output_type": "display_data"
    },
    {
     "name": "stdout",
     "output_type": "stream",
     "text": [
      "Note: First 10 records were displayed.\n"
     ]
    }
   ],
   "source": [
    "wos_client.monitor_instances.show_metrics(monitor_instance_id=genaiquality_monitor_id, project_id=PROJECT_ID)"
   ]
  },
  {
   "cell_type": "markdown",
   "metadata": {},
   "source": [
    "## Display record level metrics for Generative AI Quality "
   ]
  },
  {
   "cell_type": "markdown",
   "metadata": {},
   "source": [
    "Read the dataset id for generative ai quality dataset"
   ]
  },
  {
   "cell_type": "code",
   "execution_count": 26,
   "metadata": {},
   "outputs": [
    {
     "data": {
      "text/plain": [
       "'440cc34d-973f-4bc2-b444-20b1a5fadf3d'"
      ]
     },
     "execution_count": 26,
     "metadata": {},
     "output_type": "execute_result"
    }
   ],
   "source": [
    "result = wos_client.data_sets.list(\n",
    "    target_target_id=subscription_id,\n",
    "    target_target_type=\"subscription\",\n",
    "    type=\"gen_ai_quality_metrics\"\n",
    ").result\n",
    "\n",
    "genaiq_dataset_id = result.data_sets[0].metadata.id\n",
    "genaiq_dataset_id"
   ]
  },
  {
   "cell_type": "markdown",
   "metadata": {},
   "source": [
    "Displaying record level metrics for generative ai quality"
   ]
  },
  {
   "cell_type": "code",
   "execution_count": 27,
   "metadata": {},
   "outputs": [
    {
     "data": {
      "text/html": [
       "<HTML>\n",
       "        <body>\n",
       "            <h3>Data Set 440cc34d-973f-4bc2-b444-20b1a5fadf3d Records</h3>\n",
       "            <table style='border: 1px solid #dddddd; font-family: Courier'>\n",
       "                <th style='border: 1px solid #dddddd'>flesch_reading_ease</th><th style='border: 1px solid #dddddd'>normalized_recall</th><th style='border: 1px solid #dddddd'>hap_input_score</th><th style='border: 1px solid #dddddd'>rouge2</th><th style='border: 1px solid #dddddd'>pii_entities</th><th style='border: 1px solid #dddddd'>scoring_id</th><th style='border: 1px solid #dddddd'>jaccard_similarity</th><th style='border: 1px solid #dddddd'>computed_on</th><th style='border: 1px solid #dddddd'>scoring_timestamp</th><th style='border: 1px solid #dddddd'>meteor</th><th style='border: 1px solid #dddddd'>rougelsum</th><th style='border: 1px solid #dddddd'>hap_score</th><th style='border: 1px solid #dddddd'>pii_input_entities</th><th style='border: 1px solid #dddddd'>pii</th><th style='border: 1px solid #dddddd'>normalized_precision</th><th style='border: 1px solid #dddddd'>bleu</th><th style='border: 1px solid #dddddd'>run_id</th><th style='border: 1px solid #dddddd'>normalized_f1</th><th style='border: 1px solid #dddddd'>rougel</th><th style='border: 1px solid #dddddd'>sari</th><th style='border: 1px solid #dddddd'>cosine_similarity</th><th style='border: 1px solid #dddddd'>pii_input</th><th style='border: 1px solid #dddddd'>rouge1</th>\n",
       "                <tr><td style='border: 1px solid #dddddd'>86.03</td><td style='border: 1px solid #dddddd'>0.2608695652173913</td><td style='border: 1px solid #dddddd'>None</td><td style='border: 1px solid #dddddd'>0.05</td><td style='border: 1px solid #dddddd'>[]</td><td style='border: 1px solid #dddddd'>MRM_9b620d32-eb68-4c9c-aae3-4f39711c22d9-0</td><td style='border: 1px solid #dddddd'>0.1935483870967742</td><td style='border: 1px solid #dddddd'>feedback</td><td style='border: 1px solid #dddddd'>2024-06-10T14:17:44.077Z</td><td style='border: 1px solid #dddddd'>0.17474954462659378</td><td style='border: 1px solid #dddddd'>0.1905</td><td style='border: 1px solid #dddddd'>None</td><td style='border: 1px solid #dddddd'>[]</td><td style='border: 1px solid #dddddd'>0.0</td><td style='border: 1px solid #dddddd'>0.375</td><td style='border: 1px solid #dddddd'>0.0</td><td style='border: 1px solid #dddddd'>61e2da82-fe7e-40cb-acf4-7a7ab95d589c</td><td style='border: 1px solid #dddddd'>0.30769230769230765</td><td style='border: 1px solid #dddddd'>0.1905</td><td style='border: 1px solid #dddddd'>33.91369848315974</td><td style='border: 1px solid #dddddd'>0.16389768322906012</td><td style='border: 1px solid #dddddd'>0.0</td><td style='border: 1px solid #dddddd'>0.2857</td></tr><tr><td style='border: 1px solid #dddddd'>74.35</td><td style='border: 1px solid #dddddd'>0.05128205128205128</td><td style='border: 1px solid #dddddd'>None</td><td style='border: 1px solid #dddddd'>0.0</td><td style='border: 1px solid #dddddd'>[]</td><td style='border: 1px solid #dddddd'>MRM_9b620d32-eb68-4c9c-aae3-4f39711c22d9-1</td><td style='border: 1px solid #dddddd'>0.05</td><td style='border: 1px solid #dddddd'>feedback</td><td style='border: 1px solid #dddddd'>2024-06-10T14:17:44.077Z</td><td style='border: 1px solid #dddddd'>0.051150895140664954</td><td style='border: 1px solid #dddddd'>0.08</td><td style='border: 1px solid #dddddd'>None</td><td style='border: 1px solid #dddddd'>[]</td><td style='border: 1px solid #dddddd'>0.0</td><td style='border: 1px solid #dddddd'>0.2222222222222222</td><td style='border: 1px solid #dddddd'>0.0</td><td style='border: 1px solid #dddddd'>61e2da82-fe7e-40cb-acf4-7a7ab95d589c</td><td style='border: 1px solid #dddddd'>0.08333333333333333</td><td style='border: 1px solid #dddddd'>0.08</td><td style='border: 1px solid #dddddd'>34.083949495641114</td><td style='border: 1px solid #dddddd'>0.056327917829350205</td><td style='border: 1px solid #dddddd'>0.0</td><td style='border: 1px solid #dddddd'>0.08</td></tr><tr><td style='border: 1px solid #dddddd'>83.32</td><td style='border: 1px solid #dddddd'>0.0</td><td style='border: 1px solid #dddddd'>None</td><td style='border: 1px solid #dddddd'>0.0</td><td style='border: 1px solid #dddddd'>[]</td><td style='border: 1px solid #dddddd'>MRM_9b620d32-eb68-4c9c-aae3-4f39711c22d9-2</td><td style='border: 1px solid #dddddd'>0.0</td><td style='border: 1px solid #dddddd'>feedback</td><td style='border: 1px solid #dddddd'>2024-06-10T14:17:44.077Z</td><td style='border: 1px solid #dddddd'>0.0</td><td style='border: 1px solid #dddddd'>0.0</td><td style='border: 1px solid #dddddd'>None</td><td style='border: 1px solid #dddddd'>[]</td><td style='border: 1px solid #dddddd'>0.0</td><td style='border: 1px solid #dddddd'>0.0</td><td style='border: 1px solid #dddddd'>0.0</td><td style='border: 1px solid #dddddd'>61e2da82-fe7e-40cb-acf4-7a7ab95d589c</td><td style='border: 1px solid #dddddd'>0.0</td><td style='border: 1px solid #dddddd'>0.0</td><td style='border: 1px solid #dddddd'>33.22384463952611</td><td style='border: 1px solid #dddddd'>0.0</td><td style='border: 1px solid #dddddd'>0.0</td><td style='border: 1px solid #dddddd'>0.0</td></tr><tr><td style='border: 1px solid #dddddd'>50.2</td><td style='border: 1px solid #dddddd'>0.2727272727272727</td><td style='border: 1px solid #dddddd'>None</td><td style='border: 1px solid #dddddd'>0.0</td><td style='border: 1px solid #dddddd'>[]</td><td style='border: 1px solid #dddddd'>MRM_9b620d32-eb68-4c9c-aae3-4f39711c22d9-3</td><td style='border: 1px solid #dddddd'>0.03529411764705882</td><td style='border: 1px solid #dddddd'>feedback</td><td style='border: 1px solid #dddddd'>2024-06-10T14:17:44.077Z</td><td style='border: 1px solid #dddddd'>0.13782751091703058</td><td style='border: 1px solid #dddddd'>0.0469</td><td style='border: 1px solid #dddddd'>None</td><td style='border: 1px solid #dddddd'>[]</td><td style='border: 1px solid #dddddd'>0.0</td><td style='border: 1px solid #dddddd'>0.028037383177570093</td><td style='border: 1px solid #dddddd'>0.0</td><td style='border: 1px solid #dddddd'>61e2da82-fe7e-40cb-acf4-7a7ab95d589c</td><td style='border: 1px solid #dddddd'>0.05084745762711864</td><td style='border: 1px solid #dddddd'>0.0469</td><td style='border: 1px solid #dddddd'>33.620290360848195</td><td style='border: 1px solid #dddddd'>0.10792471903042938</td><td style='border: 1px solid #dddddd'>0.0</td><td style='border: 1px solid #dddddd'>0.0469</td></tr><tr><td style='border: 1px solid #dddddd'>34.8</td><td style='border: 1px solid #dddddd'>0.4375</td><td style='border: 1px solid #dddddd'>None</td><td style='border: 1px solid #dddddd'>0.0261</td><td style='border: 1px solid #dddddd'>[]</td><td style='border: 1px solid #dddddd'>MRM_9b620d32-eb68-4c9c-aae3-4f39711c22d9-4</td><td style='border: 1px solid #dddddd'>0.07692307692307693</td><td style='border: 1px solid #dddddd'>feedback</td><td style='border: 1px solid #dddddd'>2024-06-10T14:17:44.077Z</td><td style='border: 1px solid #dddddd'>0.26986970684039097</td><td style='border: 1px solid #dddddd'>0.0903</td><td style='border: 1px solid #dddddd'>None</td><td style='border: 1px solid #dddddd'>[]</td><td style='border: 1px solid #dddddd'>0.0</td><td style='border: 1px solid #dddddd'>0.05343511450381679</td><td style='border: 1px solid #dddddd'>0.0</td><td style='border: 1px solid #dddddd'>61e2da82-fe7e-40cb-acf4-7a7ab95d589c</td><td style='border: 1px solid #dddddd'>0.09523809523809525</td><td style='border: 1px solid #dddddd'>0.0645</td><td style='border: 1px solid #dddddd'>34.32122843046947</td><td style='border: 1px solid #dddddd'>0.20846623018644764</td><td style='border: 1px solid #dddddd'>0.0</td><td style='border: 1px solid #dddddd'>0.0903</td></tr><tr><td style='border: 1px solid #dddddd'>70.13</td><td style='border: 1px solid #dddddd'>0.07142857142857142</td><td style='border: 1px solid #dddddd'>None</td><td style='border: 1px solid #dddddd'>0.0</td><td style='border: 1px solid #dddddd'>[]</td><td style='border: 1px solid #dddddd'>MRM_9b620d32-eb68-4c9c-aae3-4f39711c22d9-5</td><td style='border: 1px solid #dddddd'>0.03225806451612903</td><td style='border: 1px solid #dddddd'>feedback</td><td style='border: 1px solid #dddddd'>2024-06-10T14:17:44.077Z</td><td style='border: 1px solid #dddddd'>0.05524861878453038</td><td style='border: 1px solid #dddddd'>0.0606</td><td style='border: 1px solid #dddddd'>None</td><td style='border: 1px solid #dddddd'>[]</td><td style='border: 1px solid #dddddd'>0.0</td><td style='border: 1px solid #dddddd'>0.0625</td><td style='border: 1px solid #dddddd'>0.0</td><td style='border: 1px solid #dddddd'>61e2da82-fe7e-40cb-acf4-7a7ab95d589c</td><td style='border: 1px solid #dddddd'>0.06666666666666667</td><td style='border: 1px solid #dddddd'>0.0606</td><td style='border: 1px solid #dddddd'>51.763659708946555</td><td style='border: 1px solid #dddddd'>0.0337914049066477</td><td style='border: 1px solid #dddddd'>0.0</td><td style='border: 1px solid #dddddd'>0.0606</td></tr><tr><td style='border: 1px solid #dddddd'>44.07</td><td style='border: 1px solid #dddddd'>0.14</td><td style='border: 1px solid #dddddd'>None</td><td style='border: 1px solid #dddddd'>0.0263</td><td style='border: 1px solid #dddddd'>[]</td><td style='border: 1px solid #dddddd'>MRM_9b620d32-eb68-4c9c-aae3-4f39711c22d9-6</td><td style='border: 1px solid #dddddd'>0.10714285714285714</td><td style='border: 1px solid #dddddd'>feedback</td><td style='border: 1px solid #dddddd'>2024-06-10T14:17:44.077Z</td><td style='border: 1px solid #dddddd'>0.1035080252918288</td><td style='border: 1px solid #dddddd'>0.1795</td><td style='border: 1px solid #dddddd'>None</td><td style='border: 1px solid #dddddd'>[]</td><td style='border: 1px solid #dddddd'>0.0</td><td style='border: 1px solid #dddddd'>0.2916666666666667</td><td style='border: 1px solid #dddddd'>0.0</td><td style='border: 1px solid #dddddd'>61e2da82-fe7e-40cb-acf4-7a7ab95d589c</td><td style='border: 1px solid #dddddd'>0.1891891891891892</td><td style='border: 1px solid #dddddd'>0.1538</td><td style='border: 1px solid #dddddd'>34.827813661635076</td><td style='border: 1px solid #dddddd'>0.11163469958675025</td><td style='border: 1px solid #dddddd'>0.0</td><td style='border: 1px solid #dddddd'>0.1795</td></tr><tr><td style='border: 1px solid #dddddd'>52.09</td><td style='border: 1px solid #dddddd'>0.3142857142857143</td><td style='border: 1px solid #dddddd'>None</td><td style='border: 1px solid #dddddd'>0.0119</td><td style='border: 1px solid #dddddd'>[]</td><td style='border: 1px solid #dddddd'>MRM_9b620d32-eb68-4c9c-aae3-4f39711c22d9-7</td><td style='border: 1px solid #dddddd'>0.10309278350515463</td><td style='border: 1px solid #dddddd'>feedback</td><td style='border: 1px solid #dddddd'>2024-06-10T14:17:44.077Z</td><td style='border: 1px solid #dddddd'>0.19157088122605362</td><td style='border: 1px solid #dddddd'>0.1412</td><td style='border: 1px solid #dddddd'>None</td><td style='border: 1px solid #dddddd'>[]</td><td style='border: 1px solid #dddddd'>0.0</td><td style='border: 1px solid #dddddd'>0.08527131782945736</td><td style='border: 1px solid #dddddd'>0.0</td><td style='border: 1px solid #dddddd'>61e2da82-fe7e-40cb-acf4-7a7ab95d589c</td><td style='border: 1px solid #dddddd'>0.13414634146341464</td><td style='border: 1px solid #dddddd'>0.0941</td><td style='border: 1px solid #dddddd'>34.509107192707916</td><td style='border: 1px solid #dddddd'>0.21702688678524676</td><td style='border: 1px solid #dddddd'>0.0</td><td style='border: 1px solid #dddddd'>0.1412</td></tr><tr><td style='border: 1px solid #dddddd'>57.61</td><td style='border: 1px solid #dddddd'>0.038461538461538464</td><td style='border: 1px solid #dddddd'>None</td><td style='border: 1px solid #dddddd'>0.0</td><td style='border: 1px solid #dddddd'>[]</td><td style='border: 1px solid #dddddd'>MRM_9b620d32-eb68-4c9c-aae3-4f39711c22d9-8</td><td style='border: 1px solid #dddddd'>0.02564102564102564</td><td style='border: 1px solid #dddddd'>feedback</td><td style='border: 1px solid #dddddd'>2024-06-10T14:17:44.077Z</td><td style='border: 1px solid #dddddd'>0.0662251655629139</td><td style='border: 1px solid #dddddd'>0.0408</td><td style='border: 1px solid #dddddd'>None</td><td style='border: 1px solid #dddddd'>[]</td><td style='border: 1px solid #dddddd'>0.0</td><td style='border: 1px solid #dddddd'>0.047619047619047616</td><td style='border: 1px solid #dddddd'>0.0</td><td style='border: 1px solid #dddddd'>61e2da82-fe7e-40cb-acf4-7a7ab95d589c</td><td style='border: 1px solid #dddddd'>0.0425531914893617</td><td style='border: 1px solid #dddddd'>0.0408</td><td style='border: 1px solid #dddddd'>33.87265831197073</td><td style='border: 1px solid #dddddd'>0.03378670554106448</td><td style='border: 1px solid #dddddd'>0.0</td><td style='border: 1px solid #dddddd'>0.0408</td></tr><tr><td style='border: 1px solid #dddddd'>99.23</td><td style='border: 1px solid #dddddd'>0.25</td><td style='border: 1px solid #dddddd'>None</td><td style='border: 1px solid #dddddd'>0.125</td><td style='border: 1px solid #dddddd'>[]</td><td style='border: 1px solid #dddddd'>MRM_9b620d32-eb68-4c9c-aae3-4f39711c22d9-9</td><td style='border: 1px solid #dddddd'>0.13333333333333333</td><td style='border: 1px solid #dddddd'>feedback</td><td style='border: 1px solid #dddddd'>2024-06-10T14:17:44.077Z</td><td style='border: 1px solid #dddddd'>0.2545362903225807</td><td style='border: 1px solid #dddddd'>0.2222</td><td style='border: 1px solid #dddddd'>None</td><td style='border: 1px solid #dddddd'>[]</td><td style='border: 1px solid #dddddd'>0.0</td><td style='border: 1px solid #dddddd'>0.5</td><td style='border: 1px solid #dddddd'>0.0</td><td style='border: 1px solid #dddddd'>61e2da82-fe7e-40cb-acf4-7a7ab95d589c</td><td style='border: 1px solid #dddddd'>0.3333333333333333</td><td style='border: 1px solid #dddddd'>0.2222</td><td style='border: 1px solid #dddddd'>57.44781940553999</td><td style='border: 1px solid #dddddd'>0.28673249921806804</td><td style='border: 1px solid #dddddd'>0.0</td><td style='border: 1px solid #dddddd'>0.3333</td></tr>\n",
       "            </table>\n",
       "        </body>\n",
       "        </HTML>"
      ],
      "text/plain": [
       "<IPython.core.display.HTML object>"
      ]
     },
     "metadata": {},
     "output_type": "display_data"
    }
   ],
   "source": [
    "wos_client.data_sets.show_records(data_set_id=genaiq_dataset_id)"
   ]
  },
  {
   "cell_type": "markdown",
   "metadata": {},
   "source": [
    "# Plot rougel and rougelsum metrics against records <a name=\"plotproject\"></a>"
   ]
  },
  {
   "cell_type": "code",
   "execution_count": 28,
   "metadata": {},
   "outputs": [],
   "source": [
    "result = wos_client.data_sets.get_list_of_records(data_set_id = genaiq_dataset_id).result\n",
    "result[\"records\"]\n",
    "x = []\n",
    "y_rougel = []\n",
    "y_rougelsum = []\n",
    "for each in result[\"records\"]:\n",
    "    x.append(each[\"metadata\"][\"id\"][-5:]) # Reading only last 5 characters to fit in the display\n",
    "    y_rougel.append(each[\"entity\"][\"values\"][\"rougel\"])\n",
    "    y_rougelsum.append(each[\"entity\"][\"values\"][\"rougelsum\"])"
   ]
  },
  {
   "cell_type": "markdown",
   "metadata": {},
   "source": [
    "Plot rougel metrics against records"
   ]
  },
  {
   "cell_type": "code",
   "execution_count": 29,
   "metadata": {},
   "outputs": [
    {
     "data": {
      "image/png": "[encoded data removed]",
      "text/plain": [
       "<Figure size 640x480 with 1 Axes>"
      ]
     },
     "metadata": {},
     "output_type": "display_data"
    }
   ],
   "source": [
    "import matplotlib.pyplot as plt\n",
    "plt.scatter(x, y_rougel, marker='o')\n",
    "\n",
    "# Adding labels and title\n",
    "plt.xlabel(\"X-axis - Record id (last 5 characters)\")\n",
    "plt.ylabel(\"Y-axis - ROUGEL\")\n",
    "plt.title(\"rougel vs record id\")\n",
    "\n",
    "# Display the graph\n",
    "plt.show()"
   ]
  },
  {
   "cell_type": "markdown",
   "metadata": {},
   "source": [
    "Plot rougelsum metrics against records"
   ]
  },
  {
   "cell_type": "code",
   "execution_count": 30,
   "metadata": {},
   "outputs": [
    {
     "data": {
      "image/png": "[encoded data removed]",
      "text/plain": [
       "<Figure size 640x480 with 1 Axes>"
      ]
     },
     "metadata": {},
     "output_type": "display_data"
    }
   ],
   "source": [
    "import matplotlib.pyplot as plt\n",
    "plt.scatter(x, y_rougelsum, marker=\"o\")\n",
    "\n",
    "# Adding labels and title\n",
    "plt.xlabel(\"X-axis - Record ID (last 5 characters)\")\n",
    "plt.ylabel(\"Y-axis - ROUGELSUM\")\n",
    "plt.title(\"rougelsum vs record ID\")\n",
    "\n",
    "# Display the graph\n",
    "plt.show()"
   ]
  },
  {
   "cell_type": "markdown",
   "metadata": {},
   "source": [
    "# See factsheets information <a name=\"factsheetsspace\"></a>"
   ]
  },
  {
   "cell_type": "code",
   "execution_count": 31,
   "metadata": {},
   "outputs": [
    {
     "name": "stdout",
     "output_type": "stream",
     "text": [
      "User can navigate to the published facts in project https://dataplatform.cloud.ibm.com/wx/prompt-details/36aaa4f6-0c3d-4c9b-a784-85f04e27b6bc/factsheet?context=wx&project_id=b2e4ff1b-94ae-4a11-ab32-ab2323b12fbb\n"
     ]
    }
   ],
   "source": [
    "if not use_cpd:\n",
    "    factsheets_url = f\"{DATAPLATFORM_URL.replace('api.', '')}/wx/prompt-details/{project_pta_id}/factsheet?context=wx&project_id={PROJECT_ID}\"\n",
    "else:\n",
    "    factsheets_url = f\"{CPD_URL}/wx/prompt-details/{project_pta_id}/factsheet?context=wx&project_id={PROJECT_ID}\"\n",
    "\n",
    "print(f\"User can navigate to the published facts in project {factsheets_url}\")"
   ]
  },
  {
   "cell_type": "markdown",
   "metadata": {},
   "source": [
    "## Congratulations!\n",
    "\n",
    "You have finished the hands-on lab for IBM Watson OpenScale. You can now navigate to the prompt template asset in your project and click on the Evaluate tab to visualize the results on the UI."
   ]
  }
 ],
 "metadata": {
  "kernelspec": {
   "display_name": "Python 3.10",
   "language": "python",
   "name": "python3"
  },
  "language_info": {
   "codemirror_mode": {
    "name": "ipython",
    "version": 3
   },
   "file_extension": ".py",
   "mimetype": "text/x-python",
   "name": "python",
   "nbconvert_exporter": "python",
   "pygments_lexer": "ipython3",
   "version": "3.10.14"
  }
 },
 "nbformat": 4,
 "nbformat_minor": 4
}
