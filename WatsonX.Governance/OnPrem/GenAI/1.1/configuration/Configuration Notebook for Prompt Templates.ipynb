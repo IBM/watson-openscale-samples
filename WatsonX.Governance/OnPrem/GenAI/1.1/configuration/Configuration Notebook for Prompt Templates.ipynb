{
 "cells": [
  {
   "cell_type": "markdown",
   "id": "ad6afb5a-fb4d-4129-a11c-ccbe932a12ce",
   "metadata": {},
   "source": [
    "## IBM Watson OpenScale - Generate DriftV2 Baseline Archive \n",
    "\n",
    "This notebook can be used to generate the driftV2 baseline archives for LLMs.\n",
    "\n",
    "**Contents:**\n",
    "1. [Setting up the environment](#setting-up-the-environment) - Pre-requisites: Install Libraries and required dependencies\n",
    "2. [Training Data](#Training-Data) - Read the training data as a pandas DataFrame\n",
    "3. [User Inputs Section](#user-inputs-section) - Provide Model Details, IBM Watson OpenScale Services and their configuration\n",
    "4. [Generate Configuration Archive](#generate-configuration-archive)\n",
    "5. [Helper Methods](#helper-methods)\n",
    "6. [Definitions](#definitions)"
   ]
  },
  {
   "cell_type": "markdown",
   "id": "01b69964",
   "metadata": {},
   "source": [
    "## Setting up the environment\n",
    "\n",
    "<b> Installing required packages </b>"
   ]
  },
  {
   "cell_type": "code",
   "execution_count": null,
   "id": "9f2bcecd",
   "metadata": {},
   "outputs": [],
   "source": "%pip install --upgrade \"ibm-metrics-plugin~=4.8.7\" \"ibm-watson-openscale~=3.0.34\" --no-cache | tail -n 1"
  },
  {
   "cell_type": "code",
   "execution_count": 1,
   "id": "852650f6",
   "metadata": {},
   "outputs": [],
   "source": [
    "# ----------------------------------------------------------------------------------------------------\n",
    "# IBM Confidential\n",
    "# OCO Source Materials\n",
    "# 5900-A3Q, 5737-H76\n",
    "# Copyright IBM Corp. 2023, 2024\n",
    "# The source code for this Notebook is not published or other-wise divested of its trade \n",
    "# secrets, irrespective of what has been deposited with the U.S.Copyright Office.\n",
    "# ----------------------------------------------------------------------------------------------------\n",
    "\n",
    "VERSION = \"1.0\""
   ]
  },
  {
   "cell_type": "markdown",
   "id": "38e53fac",
   "metadata": {},
   "source": [
    "<b> Action: Please restart the kernel </b>"
   ]
  },
  {
   "cell_type": "code",
   "execution_count": 2,
   "id": "8d311e1b",
   "metadata": {},
   "outputs": [],
   "source": [
    "import json\n",
    "import asyncio\n",
    "import aiohttp\n",
    "import pandas as pd\n",
    "import requests\n",
    "from cachetools import TTLCache, cached\n",
    "\n",
    "from ibm_watson_openscale.utils.configuration_utility import \\\n",
    "    ConfigurationUtilityLLM\n",
    "from tqdm.asyncio import tqdm_asyncio"
   ]
  },
  {
   "cell_type": "markdown",
   "id": "4736bd4f",
   "metadata": {},
   "source": [
    "## Training Data\n",
    "\n",
    "The training data can be either scored/un-scored.\n",
    "\n",
    "*Note: Pandas' read\\_csv method converts the columns to its data types. If you want the column type to not be interpreted, specify the dtype param to read_csv method in this cell. More on this method [here](https://pandas.pydata.org/pandas-docs/stable/reference/api/pandas.read_csv.html)*"
   ]
  },
  {
   "cell_type": "code",
   "execution_count": 3,
   "id": "f9189ad4-c9a1-4f20-9cc4-e564c72b62f1",
   "metadata": {},
   "outputs": [
    {
     "name": "stdout",
     "output_type": "stream",
     "text": [
      "          Location   News Agency  \\\n",
      "0   MIAMI, Florida           CNN   \n",
      "1  LONDON, England           CNN   \n",
      "2  FLINT, Michigan           CNN   \n",
      "3              NaN           CNN   \n",
      "4              NaN  Mental Floss   \n",
      "\n",
      "                                             article  \\\n",
      "0  Four suspects indicted on murder and burglary ...   \n",
      "1  Queen Elizabeth helped launch Heathrow's $8.6 ...   \n",
      "2  Sen. Barack Obama Monday proposed spending bil...   \n",
      "3  Steven Spielberg led the FBI straight to a sto...   \n",
      "4  Starting a legitimate business is hard, boring...   \n",
      "\n",
      "                                          highlights  \n",
      "0  NEW: 17-year-old alleged shooter appears in Mi...  \n",
      "1  Queen Elizabeth opens Heathrow Airport's $8.6 ...  \n",
      "2  Sen. Obama offers plan to spend $10B on school...  \n",
      "3  Stolen art can be lost for decades . Soft targ...  \n",
      "4  When a business scam fails, it tends to fail i...  \n",
      "Columns:['Location', 'News Agency', 'article', 'highlights']\n"
     ]
    }
   ],
   "source": [
    "training_data_df = pd.read_csv(\"TO BE EDITED\")\n",
    "\n",
    "print(training_data_df.head())\n",
    "print(\"Columns:{}\".format(list(training_data_df.columns.values)))"
   ]
  },
  {
   "cell_type": "markdown",
   "id": "e27b60cf",
   "metadata": {},
   "source": [
    "## User Inputs Section\n",
    "\n",
    "##### _1. Provide Common Parameters_:\n",
    "\n",
    "Provide the common parameters like the basic problem type, asset type, prompt variable columns, etc. Read more about these [here](#definitions). \n",
    "\n",
    "##### _2. Provide a scoring function_\n",
    "\n",
    "The scoring function should adhere to the following guidelines.\n",
    "\n",
    "- The input of the scoring function should accept a `pandas.DataFrame` comprising of all the `prompt_variable_columns`.\n",
    "- The output of the scoring function should return:\n",
    "    - a `pandas.DataFrame` comprising of:\n",
    "        - all columns of input `pandas.DataFrame`\n",
    "        - `prediction_column`\n",
    "        - `input_token_count` if available\n",
    "        - `generated_token_count` if available\n",
    "        - `prediction_probability` by aggregating the log probabilities.\n"
   ]
  },
  {
   "cell_type": "code",
   "execution_count": 4,
   "id": "ae76a796",
   "metadata": {},
   "outputs": [],
   "source": [
    "#See 'Definitions' section to know more.\n",
    "\n",
    "problem_type = \"summarization\" # Supported problem types are classification, extraction, generation, \\\n",
    "                                #question_answering and summarization.\n",
    "asset_type = \"prompt\"\n",
    "input_data_type = \"unstructured_text\"\n",
    "prompt_variable_columns = [\"TO BE EDITED\"] #Mandatory parameter.\n",
    "meta_columns = []\n",
    "prediction_column = \"generated_text\"\n",
    "input_token_count_column = \"input_token_count\"\n",
    "output_token_count_column = \"generated_token_count\"\n",
    "prediction_probability_column = \"prediction_probability\"\n",
    "\n",
    "common_parameters = {\n",
    "    \"asset_type\": asset_type,\n",
    "    \"input_data_type\": input_data_type,\n",
    "    \"problem_type\" : problem_type, \n",
    "    \"prompt_variable_columns\": prompt_variable_columns,\n",
    "    \"meta_columns\": meta_columns,\n",
    "    \"prediction_column\": prediction_column,\n",
    "    \"input_token_count_column\": input_token_count_column,\n",
    "    \"output_token_count_column\": output_token_count_column,\n",
    "    \"prediction_probability_column\": prediction_probability_column\n",
    "}\n",
    "\n",
    "drift_v2_parameters = {}\n"
   ]
  },
  {
   "cell_type": "code",
   "execution_count": 5,
   "id": "54d3b7af",
   "metadata": {},
   "outputs": [],
   "source": [
    "SCORING_URL = \"Your deployment scoring URL\" #Example: https://us-south.ml.cloud.ibm.com/ml/v1-beta/deployments/{deployment_id}/generation/text?version=2021-05-01\n",
    "SCORING_BATCH_SIZE = 15\n",
    "\n",
    "API_KEY = \"Your API Key\"\n",
    "TOKEN_GENERATION_URL = \"https://iam.cloud.ibm.com/identity/token\"\n",
    "# USERNAME = \"\"   #Uncomment and edit this line if you are using CPD cluster."
   ]
  },
  {
   "cell_type": "markdown",
   "id": "7598987a",
   "metadata": {},
   "source": [
    "\n",
    "<b> The helper function below will be used to create the IAM token required for scoring <b>"
   ]
  },
  {
   "cell_type": "code",
   "execution_count": 6,
   "id": "262ee709",
   "metadata": {},
   "outputs": [],
   "source": [
    "@cached(cache=TTLCache(maxsize=1024, ttl=1800))\n",
    "def get_iam_token(apikey=API_KEY,\n",
    "                  url=TOKEN_GENERATION_URL):\n",
    "\n",
    "    headers = {\n",
    "        \"Content-Type\": \"application/x-www-form-urlencoded\",\n",
    "        \"Accept\": \"application/json\",\n",
    "    }\n",
    "    data = \"grant_type=urn%3Aibm%3Aparams%3Aoauth%3Agrant-type%3Aapikey&apikey=\" + apikey\n",
    "\n",
    "    resp = requests.post(url=url, headers=headers, data=data)\n",
    "    if resp.status_code != 200:\n",
    "        raise Exception(\n",
    "            \"Error creating IAM Token. Status Code: \", resp.status_code)\n",
    "\n",
    "    resp_data = resp.json()\n",
    "    return resp_data[\"access_token\"]\n",
    "\n",
    "# Uncomment the following if you are using a CPD cluster\n",
    "\n",
    "# @cached(cache=TTLCache(maxsize=1024, ttl=1800))\n",
    "# def get_iam_token(apikey=API_KEY,\n",
    "#                   url=TOKEN_GENERATION_URL, username=USERNAME):\n",
    "\n",
    "#     headers = {\n",
    "#         \"Content-Type\": \"application/json\",\n",
    "#         \"Accept\": \"application/json\",\n",
    "#     }\n",
    "#     data = {\"username\": username, \"api_key\": apikey}\n",
    "\n",
    "#     resp = requests.post(url=url, headers=headers, json=data)\n",
    "#     if resp.status_code != 200:\n",
    "#         raise Exception(\n",
    "#             \"Error creating IAM Token. Status Code: \", resp.status_code)\n",
    "\n",
    "#     resp_data = resp.json()\n",
    "#     return resp_data[\"token\"]"
   ]
  },
  {
   "cell_type": "code",
   "execution_count": 7,
   "id": "e5cec169",
   "metadata": {},
   "outputs": [],
   "source": [
    "SCORING_DELAY = False #Set it to True if you are on Lite plan.\n",
    "SCORING_DELAY_THRESHOLD = 2"
   ]
  },
  {
   "cell_type": "markdown",
   "id": "f99ab407",
   "metadata": {},
   "source": [
    "The scoring function defined below scores all rows of the data frame in batches of size <i>SCORING_BATCH_SIZE </i> defined in the setup\n"
   ]
  },
  {
   "cell_type": "code",
   "execution_count": 8,
   "id": "32ad9fda",
   "metadata": {},
   "outputs": [],
   "source": [
    "async def scoring_fn(training_data, schema):\n",
    "    \"\"\"\n",
    "    Perform scoring on the given training data using the schema provided.\n",
    "\n",
    "    Parameters:\n",
    "    training_data (DataFrame): The training data.\n",
    "    schema (dict): The schema containing column names for predictions and token counts.\n",
    "\n",
    "    Returns:\n",
    "    DataFrame: The training data with updated scores.\n",
    "    \"\"\"\n",
    "    # Extract required columns from the schema\n",
    "    required_columns = [\"prediction_column\", \"input_token_count_column\",\n",
    "                        \"output_token_count_column\", \"prediction_probability_column\",\n",
    "                        \"prompt_variable_columns\"]\n",
    "\n",
    "    for col in required_columns:\n",
    "        if schema.get(col) is None:\n",
    "            raise ValueError(f\"'{col}' must be present in schema\")\n",
    "\n",
    "    async def score_single_row(row):\n",
    "        \"\"\"\n",
    "        Perform scoring for a single row of data.\n",
    "\n",
    "        Parameters:\n",
    "        row (dict): A single row of training data.\n",
    "\n",
    "        Returns:\n",
    "        tuple: Tuple containing values for prediction, prediction_probability, input_token_count, output_token_count.\n",
    "        \"\"\"\n",
    "        token = get_iam_token()\n",
    "        headers = {\n",
    "            \"Content-Type\": \"application/json\",\n",
    "            \"Authorization\": f\"Bearer {token}\"\n",
    "        }\n",
    "\n",
    "        prompt_variables = {field: str(row[field])\n",
    "                            for field in schema[\"prompt_variable_columns\"]}\n",
    "        scoring_payload = json.dumps({\n",
    "            \"parameters\": {\n",
    "                \"prompt_variables\": prompt_variables,\n",
    "                \"return_options\": {\n",
    "                    \"generated_tokens\": True,\n",
    "                    \"token_logprobs\": True\n",
    "                }\n",
    "            }\n",
    "        })\n",
    "\n",
    "        try:\n",
    "            result = await session.post(SCORING_URL, headers=headers, data=scoring_payload)\n",
    "            if not result.ok: \n",
    "                if result.status == 401:\n",
    "                    token = get_iam_token()\n",
    "                    headers[\"Authorization\"] = f\"Bearer {token}\"\n",
    "                    result = await session.post(SCORING_URL, headers=headers, data=scoring_payload)\n",
    "                    result = await result.json()\n",
    "                else:\n",
    "                    raise Exception(f\"Failed while scoring: Reason: {result.status}: {await result.text()}\")\n",
    "            result = await result.json()\n",
    "        except aiohttp.ClientError as err:\n",
    "            raise Exception(f\"{err.status}: {err.message}\")\n",
    "\n",
    "        if SCORING_DELAY:\n",
    "            await asyncio.sleep(SCORING_DELAY_THRESHOLD)\n",
    "\n",
    "        result_data = result[\"results\"][0]\n",
    "        prediction = result_data.get(\"generated_text\", \"\")\n",
    "        prediction_probability = sum(\n",
    "            token.get(\"logprob\", 0) for token in result_data.get(\"generated_tokens\", [])\n",
    "        )\n",
    "        input_token_count = result_data.get(\"input_token_count\", None)\n",
    "        output_token_count = result_data.get(\"generated_token_count\", None)\n",
    "        return {\n",
    "            schema[\"prediction_column\"]: prediction,\n",
    "            schema[\"prediction_probability_column\"]: prediction_probability,\n",
    "            schema[\"input_token_count_column\"]: input_token_count,\n",
    "            schema[\"output_token_count_column\"]: output_token_count\n",
    "        }\n",
    "\n",
    "    async with aiohttp.ClientSession(connector=aiohttp.TCPConnector(limit=SCORING_BATCH_SIZE)) as session:\n",
    "        tasks = [\n",
    "            score_single_row(row)\n",
    "            for row in training_data.to_dict(orient=\"records\")\n",
    "        ]\n",
    "        results = await tqdm_asyncio.gather(*tasks, desc=\"Scoring training data... \", unit=\"rows\")\n",
    "\n",
    "    training_data = pd.concat([training_data, pd.DataFrame(results)], axis=1)\n",
    "    return training_data"
   ]
  },
  {
   "cell_type": "markdown",
   "id": "5b36f697",
   "metadata": {},
   "source": [
    "## Generate Configuration Archive\n",
    "\n",
    "Run the following code to generate the drift v2 baseline archive for LLMs"
   ]
  },
  {
   "cell_type": "code",
   "execution_count": 9,
   "id": "3d40f9d5",
   "metadata": {},
   "outputs": [
    {
     "name": "stdout",
     "output_type": "stream",
     "text": [
      "Scoring data..\n"
     ]
    },
    {
     "name": "stderr",
     "output_type": "stream",
     "text": [
      "Scoring training data... : 100%|██████████| 50/50 [00:17<00:00,  2.93rows/s]\n"
     ]
    },
    {
     "name": "stdout",
     "output_type": "stream",
     "text": [
      "Please install correct version of ibm-metrics-plugin[\"notebook\"] to compute embeddings.\n",
      "{\"component_id\": \"metrics-plugin\", \"log_level\": \"WARNING\", \"message_details\": \"Disabling operations and insights for generated_text, Reason: The ratio of number of unique values [49] to the total count [50] is 0.98. Please adjust 'categorical_unique_threshold' [0.8] in advanced_controls.\", \"timestamp\": \"2024-08-06T04:09:08.997003Z\", \"logSourceCRN\": \"\", \"saveServiceCopy\": false, \"filename\": \"/usr/local/Cellar/python@3.10/3.10.14_1/Frameworks/Python.framework/Versions/3.10/lib/python3.10/asyncio/events.py\", \"method\": \"_run\", \"line_number\": \"80\", \"worker_id\": 54352, \"column\": \"generated_text\", \"drift_data_set_id\": \"c19f5682-dd51-46bf-b723-408ae30011bf\"}\n",
      "Baseline archive created at path:  /Users/prempiyush/work/code/python-playground/notebooks/baseline__c19f5682-dd51-46bf-b723-408ae30011bf.tar.gz\n"
     ]
    },
    {
     "data": {
      "text/html": [
       "<a download=\"/Users/prempiyush/work/code/python-playground/notebooks/baseline__c19f5682-dd51-46bf-b723-408ae30011bf.tar.gz\" href=\"data:text/json;base64,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\" target=\"_blank\">Download Baseline Archive</a>"
      ],
      "text/plain": [
       "<IPython.core.display.HTML object>"
      ]
     },
     "metadata": {},
     "output_type": "display_data"
    }
   ],
   "source": [
    "drift_config = ConfigurationUtilityLLM(training_data_df, common_parameters, scoring_fn=scoring_fn)\n",
    "drift_config.generate_drift_v2_archive_llm(drift_v2_parameters)"
   ]
  },
  {
   "cell_type": "markdown",
   "id": "62d452cd",
   "metadata": {},
   "source": [
    "## Helper Methods"
   ]
  },
  {
   "cell_type": "markdown",
   "id": "9e2ccef2",
   "metadata": {},
   "source": [
    "### Read file in COS to pandas dataframe"
   ]
  },
  {
   "cell_type": "code",
   "execution_count": null,
   "id": "5547de1f",
   "metadata": {},
   "outputs": [],
   "source": [
    "%pip install ibm-cos-sdk\n",
    "\n",
    "import ibm_boto3\n",
    "import pandas as pd\n",
    "import sys\n",
    "import types\n",
    "\n",
    "from ibm_botocore.client import Config\n",
    "\n",
    "def __iter__(self): return 0\n",
    "\n",
    "api_key = \"TO_BE_EDITED\" # cos api key\n",
    "resource_instance_id = \"TO_BE_EDITED\" # cos resource instance id\n",
    "service_endpoint =  \"TO_BE_EDITED\" # cos service region endpoint\n",
    "bucket =  \"TO_BE_EDITED\" # cos bucket name\n",
    "file_name= \"TO_BE_EDITED\" # cos file name\n",
    "auth_endpoint = \"https://iam.ng.bluemix.net/oidc/token\"\n",
    "\n",
    "cos_client = ibm_boto3.client(service_name=\"s3\",\n",
    "    ibm_api_key_id=api_key,\n",
    "    ibm_auth_endpoint=auth_endpoint,\n",
    "    config=Config(signature_version=\"oauth\"),\n",
    "    endpoint_url=service_endpoint)\n",
    "\n",
    "body = cos_client.get_object(Bucket=bucket,Key=file_name)[\"Body\"]\n",
    "\n",
    "# add missing __iter__ method, so pandas accepts body as file-like object\n",
    "if not hasattr(body, \"__iter__\"): body.__iter__ = types.MethodType( __iter__, body )\n",
    "\n",
    "training_data_df = pd.read_csv(body)"
   ]
  },
  {
   "cell_type": "markdown",
   "id": "9bb36b47",
   "metadata": {},
   "source": [
    "## Definitions"
   ]
  },
  {
   "cell_type": "markdown",
   "id": "4c69510e",
   "metadata": {},
   "source": [
    "### Common Parameters\n",
    "\n",
    "| Parameter | Description | Default Value | Possible Value(s) |\n",
    "| :- | :- | :- | :- |\n",
    "| problem_type | One of the prompt task types supported by drift v2 |  | classification, extraction, generation, question_answering, summarization|\n",
    "| asset_type | The asset type | prompt | prompt |\n",
    "| input_data_type | The type of input from the dataframe | unstructured_text | unstructured_text |\n",
    "| prompt_variable_columns | The names of all prompt variable columns | | |\n",
    "| meta_columns | Optional parameter. List of all meta data columns | | |\n",
    "| label_column | Optional parameter. The name of label column| reference_output | |\n",
    "| prediction_column | Optional parameter. | generated_text | |\n",
    "| input_token_count_column | Optional parameter. The name of column representing token counts of input| input_token_count | |\n",
    "| output_token_count_column | Optional parameter. The name of column representing token counts of output | generated_token_count | |\n",
    "| prediction_probability_column | Optional parameter. The name of prediction probability column| prediction_probability | |\n",
    "\n",
    "Example:\n",
    "```html\n",
    "problem_type = \"classification\"\n",
    "asset_type = \"prompt\"\n",
    "input_data_type = \"unstructured_text\"\n",
    "prompt_variable_columns = [\"text\"]\n",
    "meta_columns = []\n",
    "prediction_column = \"prediction\"\n",
    "input_token_count_column = \"input_token_count\"\n",
    "output_token_count_column = \"generated_token_count\"\n",
    "prediction_probability_column = \"prediction_probability\"\n",
    "```"
   ]
  }
 ],
 "metadata": {
  "kernelspec": {
   "display_name": "Python 3 (ipykernel)",
   "language": "python",
   "name": "python3"
  },
  "language_info": {
   "codemirror_mode": {
    "name": "ipython",
    "version": 3
   },
   "file_extension": ".py",
   "mimetype": "text/x-python",
   "name": "python",
   "nbconvert_exporter": "python",
   "pygments_lexer": "ipython3",
   "version": "3.10.14"
  }
 },
 "nbformat": 4,
 "nbformat_minor": 5
}
