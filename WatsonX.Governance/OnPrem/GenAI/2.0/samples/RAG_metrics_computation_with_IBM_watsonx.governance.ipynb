{
    "cells": [
        {
            "cell_type": "markdown",
            "id": "89e2f336",
            "metadata": {
                "id": "2555ff99-0d46-47f7-9dc6-99aa0a06201c"
            },
            "source": [
                "# Computing Answer Quality and Retrieval Quality Metrics using IBM watsonx.governance for RAG task\n",
                "\n",
                "This notebook demonstrates the creation of a Retrieval Augumented Generation (RAG) pattern using watsonx.ai and computations of reference-free Answer Quality metrics, such as **Faithfulness**, **Answer relevance**, **Unsuccessful requests**, Content Analysis metrics such as **Coverage**, **Density**, **Abstractness** and Retrieval Quality Metrics such as **Context Relevance**, **Retrieval Precision**, **Average Precision**, **Reciprocal Rank**, **Hit Rate** and **Normalized Discounted Cumulative Gain** for the RAG task type. It also identifies the source attribution using watsonx.governance.\n",
                "\n",
                "- **Faithfulness** measures how faithful the model output or generated text is to the context sent to the LLM input. The faithfulness score is a value between 0 and 1. A value closer to 1 indicates that the output is more faithful - or grounded - and less hallucinated. A value closer to 0 indicates that the output is less faithful and more hallucinated.\n",
                "\n",
                "- **Answer relevance** measures how relevant the answer or generated text is to the question. This is one of the ways to determine the quality of your model. The answer relevance score is a value between 0 and 1. A value closer to 1 indicates that the answer is more relevant to the given question. A value closer to 0 indicates that the answer is less relevant to the question.\n",
                "\n",
                "- **Unsuccessful requests** measures the ratio of questions answered unsuccessfully out of the total number of questions. The unsuccessful requests score is a value between 0 and 1. A value closer to 0 indicates that the model is successfully answering the questions. A value closer to 1 indicates the model is not able to answer the questions.\n",
                "\n",
                "- **Coverage** metric quantifies the extent to which the model output. It measures the percentage of output words that are also in the input text. The coverage score is a value between 0 and 1. A higher score close to 1 indicates that higher percentage of output words are within the input text.\n",
                "\n",
                "- **Density** quantifies how well the summary or the answer in the model output can be described as a series of extractions from the model input or context. A lower value of density metric indicates that on average the extractive fragments do not closely resemble verbatim extractions from the original source or context text. Abstractive summarization involves generating new, concise sentences that convey the main ideas of the source text but may not be directly copied from it. This is in contrast to extractive summarization, where the summary consists mainly of sentences directly lifted from the source. The lower the score the more abstractive the model output is.\n",
                "\n",
                "- **Abstractness** measures the abstractness of the model generated text by measuring the new n-grams generated in the model output compared to the model input. The metric computes the ratio of n-grams in the generated text that do not appear in the source content or context send to the model. The abstractness score is a value between 0 and 1. A higher score close to 1 indicates high abstractness in the generated text.\n",
                "\n",
                "- **Context Relevance** assesses the degree to which the retrieved context is relevant to the question sent to the LLM. This is one of the ways to determine the quality of your retrieval system. The context relevance score is a value between 0 and 1. A value closer to 1 indicates that the context is more relevant to your question in the prompt. A value closer to 0 indicates that the context is less relevant to your question in the prompt.\n",
                "\n",
                "- **Retrieval Precision** measures the quantity of relevant contexts from the total contexts retrieved. The retrieval precision is a value between 0 and 1. A value of 1 indicates that all the retrieved contexts are relevant. A value of 0 indicates that none of the retrieved contexts are relevant.\n",
                "\n",
                "- **Average Precision** evaluates whether all the relevant contexts are ranked higher or not. It is the mean of the precision scores of relevant contexts. The average precision is a value between 0 and 1. A value of 1 indicates that all the relevant contexts are ranked higher. A value of 0 indicates that none of the retrieved contexts are relevant.\n",
                "\n",
                "- **Reciprocal Rank** is the reciprocal of the rank of the first relevant context. The retrieval reciprocal rank is a value between 0 and 1. A value of 1 indicates that the first relevant context is at first position. A value of 0 indicates that none of the relevant contexts are retrieved.\n",
                "\n",
                "- **Hit Rate** Hit Rate measures whether there is atleast one relevant context among the retrieved contexts. The hit rate value is either 0 or 1. A value of 1 indicates that there is at least one relevant context. A value of 0 indicates that there is no relevant context in the retrieved contexts.\n",
                "\n",
                "- **Normalized Discounted Cumulative Gain** Normalized Discounted Cumulative Gain or NDCG measures the ranking quality of the retrieved contexts. The ndcg is a value between 0 and 1. A value of 1 indicates that the retrieved contexts are ranked in the correct order.\n",
                "\n",
                "**Note**: Please run this notebook in an environment with memory greater than 6GB."
            ]
        },
        {
            "cell_type": "markdown",
            "id": "54fdd2f8",
            "metadata": {
                "id": "679ad1f0-5804-41a0-a438-f6926d2d9d3d"
            },
            "source": [
                "## Learning goals\n",
                "\n",
                "- Read data into a vector database\n",
                "- Initialize foundation model\n",
                "- Generate RAG responses\n",
                "- Configure and compute Answer Quality and Retrieval Quality metrics"
            ]
        },
        {
            "cell_type": "markdown",
            "id": "190664b6",
            "metadata": {
                "id": "1c82b37a-6a7c-41c2-9cd9-f4afc0501e0c"
            },
            "source": [
                "\n",
                "## Contents\n",
                "\n",
                "- [Step 1 - Setup](#setup)\n",
                "- [Step 2 - Read and store data in a vector database](#data)\n",
                "- [Step 3 - Initialize a foundation model using watsonx.ai](#model)\n",
                "- [Step 4 - Generate retrieval-augmented responses to questions](#predict)\n",
                "- [Step 5 - Configure Answer Quality & Retrieval Quality metrics](#config)\n",
                "- [Step 6 - Compute Answer Quality & Retrieval Quality metrics](#compute)\n",
                "- [Step 7 - Display the results](#results)"
            ]
        },
        {
            "cell_type": "markdown",
            "id": "b48e55a5-6a38-4cce-a043-990da6cadb6e",
            "metadata": {
                "id": "34a48630-a591-4d9e-92cd-7c4fd22ad37b"
            },
            "source": [
                "## Step 1 - Setup <a id=\"setup\"></a>"
            ]
        },
        {
            "cell_type": "markdown",
            "id": "ccd0c957-b76c-4ab9-bba9-467cd78638e5",
            "metadata": {
                "id": "2deecf49-0075-4b5c-af05-94208e642299"
            },
            "source": [
                "### Install the necessary libraries"
            ]
        },
        {
            "cell_type": "code",
            "execution_count": null,
            "id": "a9a66f96",
            "metadata": {
                "id": "79c58c18-ac59-4cc9-9aa9-f355257b22b2",
                "scrolled": true
            },
            "outputs": [
                {
                    "name": "stdout",
                    "output_type": "stream",
                    "text": [
                        "Successfully installed huggingface-hub-0.26.2 langchain-core-0.3.21 langchain-huggingface-0.1.2 sentence-transformers-3.3.1 tokenizers-0.20.3 transformers-4.46.3\r\n"
                    ]
                },
                {
                    "name": "stdout",
                    "output_type": "stream",
                    "text": [
                        "Requirement already satisfied: wget in /opt/conda/envs/Python-RT24.1-Premium/lib/python3.11/site-packages (3.2)\r\n"
                    ]
                },
                {
                    "name": "stdout",
                    "output_type": "stream",
                    "text": [
                        "Requirement already satisfied: mpmath>=0.19 in /opt/conda/envs/Python-RT24.1-Premium/lib/python3.11/site-packages (from sympy->torch>=1.11.0->sentence-transformers) (1.3.0)\r\n"
                    ]
                },
                {
                    "name": "stdout",
                    "output_type": "stream",
                    "text": [
                        "Requirement already satisfied: mdurl~=0.1 in /opt/conda/envs/Python-RT24.1-Premium/lib/python3.11/site-packages (from markdown-it-py>=2.2.0->rich>=10.11.0->typer>=0.9.0->chromadb) (0.1.2)\r\n"
                    ]
                },
                {
                    "name": "stdout",
                    "output_type": "stream",
                    "text": [
                        "Requirement already satisfied: typing-extensions>=4.6.1 in /opt/conda/envs/Python-RT24.1-Premium/lib/python3.11/site-packages (from pydantic) (4.11.0)\r\n"
                    ]
                },
                {
                    "name": "stdout",
                    "output_type": "stream",
                    "text": [
                        "Requirement already satisfied: nltk in /opt/conda/envs/Python-RT24.1-Premium/lib/python3.11/site-packages (3.9.1)\r\n"
                    ]
                },
                {
                    "name": "stdout",
                    "output_type": "stream",
                    "text": [
                        "Requirement already satisfied: click in /opt/conda/envs/Python-RT24.1-Premium/lib/python3.11/site-packages (from nltk) (8.1.7)\r\n",
                        "Requirement already satisfied: joblib in /opt/conda/envs/Python-RT24.1-Premium/lib/python3.11/site-packages (from nltk) (1.3.2)\r\n",
                        "Requirement already satisfied: regex>=2021.8.3 in /opt/conda/envs/Python-RT24.1-Premium/lib/python3.11/site-packages (from nltk) (2023.10.3)\r\n",
                        "Requirement already satisfied: tqdm in /opt/conda/envs/Python-RT24.1-Premium/lib/python3.11/site-packages (from nltk) (4.66.4)\r\n"
                    ]
                }
            ],
            "source": [
                "!pip install -U \"ibm-metrics-plugin~=5.1.0\" | tail -n 1\n",
                "!pip install -U ibm-watson-openscale>=3.0.40 | tail -n 1\n",
                "!pip install -U ibm-watsonx-ai | tail -n 1\n",
                "!pip install nest_asyncio unitxt torch==2.1.0 | tail -n 1\n",
                "!pip install langchain==0.3.4 | tail -n 1\n",
                "!pip install langchain-huggingface==0.1.2 | tail -n 1\n",
                "!pip install wget | tail -n 1\n",
                "!pip install sentence-transformers | tail -n 1\n",
                "!pip install chromadb==0.4.13 | tail -n 1\n",
                "!pip install pydantic | tail -n 1\n",
                "!pip install -qU langchain-ibm\n",
                "!pip install nltk\n",
                "\n",
                "import warnings\n",
                "warnings.filterwarnings(\"ignore\")"
            ]
        },
        {
            "cell_type": "markdown",
            "id": "13cbf37b",
            "metadata": {
                "id": "ad24d6fe-ec62-4e8d-8df0-2f37991c1f90"
            },
            "source": [
                "**Note**: you may need to restart the kernel to use updated libraries."
            ]
        },
        {
            "cell_type": "markdown",
            "id": "d9266c40",
            "metadata": {
                "id": "da88ac4f-de52-40de-a6fb-da46541b5624"
            },
            "source": [
                "### Configure your credentials"
            ]
        },
        {
            "cell_type": "code",
            "execution_count": null,
            "id": "ec7036fa",
            "metadata": {
                "id": "73c01592-268c-4e5e-985c-89a10e491d89"
            },
            "outputs": [],
            "source": [
                "# CPD credentials\n",
                "credentials = {\n",
                "    \"url\": \"<EDIT THIS>\",\n",
                "    \"username\": \"<EDIT THIS>\",\n",
                "    \"password\" : \"<EDIT THIS>\",\n",
                "    \"instance_id\": \"openshift\",\n",
                "    \"apikey\": \"<EDIT THIS>\",\n",
                "    \"version\" : \"5.0\"\n",
                "}"
            ]
        },
        {
            "cell_type": "markdown",
            "id": "3c181c4e-2b54-4bf0-9070-223bf7837c76",
            "metadata": {
                "id": "f6db9a45-62d5-444d-bcdc-130efd038f4a"
            },
            "source": [
                "### Configure your project id\n",
                "Provide the project id to provide the context needed to run the inference against the watsonx.ai model.\n",
                "\n",
                "***Hint***: You can find the `project_id` as follows. Open the prompt lab in watsonx.ai. At the very top of the UI, there will be \"Projects / *project name* /\". Click on the \"*project name*\" link, then get the `project_id` from the project's \"Manage\" tab (\"Project -> Manage -> General -> Details\")."
            ]
        },
        {
            "cell_type": "code",
            "execution_count": null,
            "id": "de23d9b2-fd37-454a-82d9-c0f37b2766ac",
            "metadata": {
                "id": "a9b16ec3-828c-41f9-b806-dc82e45391ac"
            },
            "outputs": [],
            "source": [
                "project_id = \"<EDIT THIS>\""
            ]
        },
        {
            "cell_type": "markdown",
            "id": "ec65a592-7608-45bb-bae2-bb4cf5fccc88",
            "metadata": {
                "id": "ca196933-c5ad-4589-98af-dddc81ca2d8b"
            },
            "source": [
                "## Step 2 - Read and store data in a vector database <a id=\"data\"></a>"
            ]
        },
        {
            "cell_type": "markdown",
            "id": "cfa3e02d",
            "metadata": {
                "id": "072b209c-8f38-41ef-b5cd-691d92130203"
            },
            "source": [
                "### Read the data\n",
                "\n",
                "Download the sample \"State of the Union\" file."
            ]
        },
        {
            "cell_type": "code",
            "execution_count": 3,
            "id": "8d2ddc58-7909-4a03-8089-4261cba5876f",
            "metadata": {
                "id": "3cc76f83-efe2-4af6-85a9-9502493d23e7"
            },
            "outputs": [],
            "source": [
                "import wget\n",
                "import os\n",
                "\n",
                "data = 'state_of_the_union.txt'\n",
                "url = 'https://raw.github.com/IBM/watson-machine-learning-samples/master/cloud/data/foundation_models/state_of_the_union.txt'\n",
                "\n",
                "if not os.path.isfile(data):\n",
                "    wget.download(url, out=data)"
            ]
        },
        {
            "cell_type": "markdown",
            "id": "bb70d1af-2750-41de-85b0-815ad3758ee5",
            "metadata": {
                "id": "5ef2845a-7895-4a65-8141-f407dc43e0b9"
            },
            "source": [
                "### Prepare the data for the vector database\n",
                "\n",
                "Take the `state_of_the_union.txt` speech content data and split it into chunks. "
            ]
        },
        {
            "cell_type": "code",
            "execution_count": 4,
            "id": "4a64a21d-437e-421a-be84-ff605e02d142",
            "metadata": {
                "id": "94aefd94-1b8d-4d5c-bfaa-3cdad681a10a"
            },
            "outputs": [],
            "source": [
                "from langchain.document_loaders import TextLoader\n",
                "from langchain.text_splitter import CharacterTextSplitter\n",
                "from langchain.vectorstores import Chroma\n",
                "\n",
                "loader = TextLoader(data)\n",
                "documents = loader.load()\n",
                "text_splitter = CharacterTextSplitter(chunk_size=1000, chunk_overlap=0)\n",
                "texts = text_splitter.split_documents(documents)"
            ]
        },
        {
            "cell_type": "markdown",
            "id": "030bbb37-7e24-43d5-821e-a1da1ac7c656",
            "metadata": {
                "id": "87996481-64dd-4877-aa49-016cb567050b"
            },
            "source": [
                "### Create an embedding function to store the data in a vector database\n",
                "\n",
                "Embed the chunked data using an open-source embedding model and load it into Chromadb, a vector database.\n",
                "\n",
                "**Note**: You can also provide a custom embedding function to be used by Chromadb; the performance of Chromadb may differ depending on the embedding model used."
            ]
        },
        {
            "cell_type": "code",
            "execution_count": 5,
            "id": "6efbbb44-57ca-4c19-949f-756b15a86c41",
            "metadata": {
                "id": "42f6c8cb-985b-424c-b04b-9579c2846567"
            },
            "outputs": [
                {
                    "name": "stderr",
                    "output_type": "stream",
                    "text": [
                        "/opt/conda/envs/Python-RT24.1-Premium/lib/python3.11/site-packages/torchvision/io/image.py:13: UserWarning: Failed to load image Python extension: '/opt/conda/envs/Python-RT24.1-Premium/lib/python3.11/site-packages/torchvision/image.so: undefined symbol: _ZN5torch3jit17parseSchemaOrNameERKNSt7__cxx1112basic_stringIcSt11char_traitsIcESaIcEEE'If you don't plan on using image functionality from `torchvision.io`, you can ignore this warning. Otherwise, there might be something wrong with your environment. Did you have `libjpeg` or `libpng` installed before building `torchvision` from source?\n",
                        "  warn(\n"
                    ]
                },
                {
                    "data": {
                        "application/vnd.jupyter.widget-view+json": {
                            "model_id": "712d561903d24523bb0a04ceac8ac03d",
                            "version_major": 2,
                            "version_minor": 0
                        },
                        "text/plain": [
                            "modules.json:   0%|          | 0.00/349 [00:00<?, ?B/s]"
                        ]
                    },
                    "metadata": {},
                    "output_type": "display_data"
                },
                {
                    "data": {
                        "application/vnd.jupyter.widget-view+json": {
                            "model_id": "8ef6d4f49aa2476da3aec7fb844148bd",
                            "version_major": 2,
                            "version_minor": 0
                        },
                        "text/plain": [
                            "config_sentence_transformers.json:   0%|          | 0.00/116 [00:00<?, ?B/s]"
                        ]
                    },
                    "metadata": {},
                    "output_type": "display_data"
                },
                {
                    "data": {
                        "application/vnd.jupyter.widget-view+json": {
                            "model_id": "1ef2891d46c143da9c1f98f29e6861a8",
                            "version_major": 2,
                            "version_minor": 0
                        },
                        "text/plain": [
                            "README.md:   0%|          | 0.00/10.6k [00:00<?, ?B/s]"
                        ]
                    },
                    "metadata": {},
                    "output_type": "display_data"
                },
                {
                    "data": {
                        "application/vnd.jupyter.widget-view+json": {
                            "model_id": "73a194881bbf413c98d5c643397af650",
                            "version_major": 2,
                            "version_minor": 0
                        },
                        "text/plain": [
                            "sentence_bert_config.json:   0%|          | 0.00/53.0 [00:00<?, ?B/s]"
                        ]
                    },
                    "metadata": {},
                    "output_type": "display_data"
                },
                {
                    "data": {
                        "application/vnd.jupyter.widget-view+json": {
                            "model_id": "9b428237f4234f6cb68a3f223f79974b",
                            "version_major": 2,
                            "version_minor": 0
                        },
                        "text/plain": [
                            "config.json:   0%|          | 0.00/571 [00:00<?, ?B/s]"
                        ]
                    },
                    "metadata": {},
                    "output_type": "display_data"
                },
                {
                    "data": {
                        "application/vnd.jupyter.widget-view+json": {
                            "model_id": "a02fe44413e6498b83ded5281a110830",
                            "version_major": 2,
                            "version_minor": 0
                        },
                        "text/plain": [
                            "model.safetensors:   0%|          | 0.00/438M [00:00<?, ?B/s]"
                        ]
                    },
                    "metadata": {},
                    "output_type": "display_data"
                },
                {
                    "data": {
                        "application/vnd.jupyter.widget-view+json": {
                            "model_id": "ef98367ee3984463a4d5144b8d9de1fd",
                            "version_major": 2,
                            "version_minor": 0
                        },
                        "text/plain": [
                            "tokenizer_config.json:   0%|          | 0.00/363 [00:00<?, ?B/s]"
                        ]
                    },
                    "metadata": {},
                    "output_type": "display_data"
                },
                {
                    "data": {
                        "application/vnd.jupyter.widget-view+json": {
                            "model_id": "c0ca61459732454e8cafc710180cce20",
                            "version_major": 2,
                            "version_minor": 0
                        },
                        "text/plain": [
                            "vocab.txt:   0%|          | 0.00/232k [00:00<?, ?B/s]"
                        ]
                    },
                    "metadata": {},
                    "output_type": "display_data"
                },
                {
                    "data": {
                        "application/vnd.jupyter.widget-view+json": {
                            "model_id": "b6e29d23692d4c10b6e6e1e9a1961a5f",
                            "version_major": 2,
                            "version_minor": 0
                        },
                        "text/plain": [
                            "tokenizer.json:   0%|          | 0.00/466k [00:00<?, ?B/s]"
                        ]
                    },
                    "metadata": {},
                    "output_type": "display_data"
                },
                {
                    "data": {
                        "application/vnd.jupyter.widget-view+json": {
                            "model_id": "5564e39bc1144ca2bc28fbfdcd3ddba1",
                            "version_major": 2,
                            "version_minor": 0
                        },
                        "text/plain": [
                            "special_tokens_map.json:   0%|          | 0.00/239 [00:00<?, ?B/s]"
                        ]
                    },
                    "metadata": {},
                    "output_type": "display_data"
                },
                {
                    "data": {
                        "application/vnd.jupyter.widget-view+json": {
                            "model_id": "073e45deadaf4bbc8b38160e54fec2c3",
                            "version_major": 2,
                            "version_minor": 0
                        },
                        "text/plain": [
                            "1_Pooling/config.json:   0%|          | 0.00/190 [00:00<?, ?B/s]"
                        ]
                    },
                    "metadata": {},
                    "output_type": "display_data"
                }
            ],
            "source": [
                "from langchain_huggingface import HuggingFaceEmbeddings\n",
                "\n",
                "embeddings = HuggingFaceEmbeddings()\n",
                "docsearch = Chroma.from_documents(texts, embeddings)"
            ]
        },
        {
            "cell_type": "markdown",
            "id": "0e9197fe-53ba-4e29-b481-4811859e07ef",
            "metadata": {
                "id": "5c3891c3-f210-4f69-8294-cc3348a9739e"
            },
            "source": [
                "## Step 3 - Initialize a foundation model using `watsonx.ai`\n",
                "<a id=\"model\"></a>"
            ]
        },
        {
            "cell_type": "markdown",
            "id": "f958a4e0-72e7-4683-a952-c769c62ed379",
            "metadata": {
                "id": "6eb3f5a9-5fdd-4d34-a07a-b128165caeb2"
            },
            "source": [
                "IBM watsonx foundation models are among the <a href=\"https://python.langchain.com/docs/integrations/llms/watsonxllm\" target=\"_blank\" rel=\"noopener no referrer\">list of LLM models supported by Langchain</a>. This example shows how to communicate with <a href=\"https://newsroom.ibm.com/2023-09-28-IBM-Announces-Availability-of-watsonx-Granite-Model-Series,-Client-Protections-for-IBM-watsonx-Models\" target=\"_blank\" rel=\"noopener no referrer\">the Granite Model Series</a> using <a href=\"https://python.langchain.com/docs/get_started/introduction\" target=\"_blank\" rel=\"noopener no referrer\">Langchain</a>."
            ]
        },
        {
            "cell_type": "markdown",
            "id": "98b1fa6b-63b5-4d85-ae3d-1b6b275aa5a9",
            "metadata": {
                "id": "4ab3f5c7-e8cc-4797-b689-9499e3f6d53d"
            },
            "source": [
                "### Define a model\n",
                "Specify a `model_id` that will be used for inferencing:"
            ]
        },
        {
            "cell_type": "code",
            "execution_count": 6,
            "id": "a5c7cd4b-cd8f-40b8-be46-cce1a92c1e97",
            "metadata": {
                "id": "782c1c42-d13b-4e42-97f3-881f04f7ffcd"
            },
            "outputs": [],
            "source": [
                "model_id = \"ibm/granite-3-8b-instruct\""
            ]
        },
        {
            "cell_type": "markdown",
            "id": "72840462-39cc-4d3a-a39e-acffe2fd8ee3",
            "metadata": {
                "id": "c0392bad-9ebb-4f4f-83e5-f73517bfa7b8"
            },
            "source": [
                "### Define the model parameters\n",
                "Provide a set of model parameters that will influence the result:"
            ]
        },
        {
            "cell_type": "code",
            "execution_count": 7,
            "id": "1c65c4db-49aa-493c-82ea-bdf224551f27",
            "metadata": {
                "id": "07bd021a-25cf-4e66-98ce-180fdd54c5dc"
            },
            "outputs": [],
            "source": [
                "from ibm_watsonx_ai.metanames import GenTextParamsMetaNames as GenParams\n",
                "from ibm_watsonx_ai.foundation_models.utils.enums import DecodingMethods\n",
                "\n",
                "parameters = {\n",
                "    GenParams.DECODING_METHOD: DecodingMethods.GREEDY,\n",
                "    GenParams.MIN_NEW_TOKENS: 1,\n",
                "    GenParams.MAX_NEW_TOKENS: 100,\n",
                "    GenParams.STOP_SEQUENCES: [\"<|endoftext|>\"]\n",
                "}"
            ]
        },
        {
            "cell_type": "markdown",
            "id": "f600c734-37d0-47ef-9a5d-8291783d0e79",
            "metadata": {
                "id": "d7a2257f-7025-4f05-b22c-e061d6e112fc"
            },
            "source": [
                "### Set LangChain custom LLM wrapper for watsonx model\n",
                "Initialize the `WatsonxLLM` class from LangChain with defined parameters, and using `ibm/granite-13b-chat-v2`. "
            ]
        },
        {
            "cell_type": "code",
            "execution_count": 8,
            "id": "07e1616d-9fce-40d2-a4a1-f2285f04eee3",
            "metadata": {
                "id": "28c3de95-dbc1-4411-9977-73bea48bffd7"
            },
            "outputs": [],
            "source": [
                "from langchain_ibm import WatsonxLLM\n",
                "\n",
                "# For CPD\n",
                "watsonx_llm = WatsonxLLM(\n",
                "    model_id=model_id,\n",
                "    url=credentials.get(\"url\"),\n",
                "    username=credentials.get(\"username\"),\n",
                "    password=credentials.get(\"password\"),\n",
                "    instance_id=credentials.get(\"instance_id\"),\n",
                "    version=\"5.1\",\n",
                "    project_id=project_id,\n",
                "    params=parameters,\n",
                ")"
            ]
        },
        {
            "cell_type": "markdown",
            "id": "59e5c9e5-079f-44de-acb3-39c691b72114",
            "metadata": {
                "id": "d1da8bd7-33fb-4623-9974-c49db88960c0"
            },
            "source": [
                "## Step 4 - Generate retrieval-augmented responses to questions\n",
                "<a id=\"predict\"></a>"
            ]
        },
        {
            "cell_type": "markdown",
            "id": "00bbb5f0-001c-432d-b0ac-5938309b0259",
            "metadata": {
                "id": "a09491f2-ca04-4a8a-8b31-c962390b4ff3"
            },
            "source": [
                "### Build a `RetrievalQA` (question answering chain) to automate the RAG task."
            ]
        },
        {
            "cell_type": "code",
            "execution_count": 9,
            "id": "06aa4835-e5ec-460a-970f-7db358d20951",
            "metadata": {
                "id": "48764ae0-8ce9-430b-834e-53f32d748760"
            },
            "outputs": [],
            "source": [
                "from langchain.chains import RetrievalQA\n",
                "\n",
                "qa = RetrievalQA.from_chain_type(llm=watsonx_llm, chain_type=\"stuff\", retriever=docsearch.as_retriever())"
            ]
        },
        {
            "cell_type": "code",
            "execution_count": 10,
            "id": "35b21c62-6502-45d9-93cc-345dfc441ba2",
            "metadata": {
                "id": "a093c372-2d18-463b-a397-5b50445bbb29"
            },
            "outputs": [],
            "source": [
                "query1 = \"What is ARPA-H?\"\n",
                "query2 = \"What is the investment of Ford and GM to build electric vehicles?\"\n",
                "query3 = \"What is the proposed tax rate for corporations?\"\n",
                "query4 = \"What is Intel going to build?\"\n",
                "query5 = \"How many new manufacturing jobs are created last year?\"\n",
                "query6 = \"How many electric vehicle charging stations are built?\"\n",
                "\n",
                "questions = [query1 , query2, query3, query4, query5, query6]"
            ]
        },
        {
            "cell_type": "markdown",
            "id": "c509fc55-43a6-40d6-92fa-04afbe932697",
            "metadata": {
                "id": "8f839a83-c624-4bfe-94c1-031e4b65563d"
            },
            "source": [
                "### Generate retrieval-augmented responses to the questions"
            ]
        },
        {
            "cell_type": "code",
            "execution_count": 11,
            "id": "b0acedda-0754-49bd-a811-099d375f932a",
            "metadata": {
                "id": "eb2063ca-8362-437f-9c8b-3492dc0a8cc1"
            },
            "outputs": [],
            "source": [
                "responses = []\n",
                "contexts = []\n",
                "for query in questions:\n",
                "    #Retrive relevant context for each question from the vector db\n",
                "    docs = docsearch.as_retriever().invoke(query)\n",
                "\n",
                "    context = []\n",
                "    #Extract the needed information\n",
                "    for doc in docs:\n",
                "        context.append(doc.to_json()['kwargs']['page_content'])\n",
                "\n",
                "    #Capture the context\n",
                "    contexts.append(context)\n",
                "\n",
                "    #Run the prompt and get the response\n",
                "    response = qa.invoke(query)\n",
                "    responses.append(response.get(\"result\"))\n",
                "    "
            ]
        },
        {
            "cell_type": "code",
            "execution_count": 12,
            "id": "fb5e60dd-e5cf-4241-8f09-47c855313844",
            "metadata": {
                "id": "06e088b0-c661-4310-8545-fdcce6bfe808"
            },
            "outputs": [
                {
                    "name": "stdout",
                    "output_type": "stream",
                    "text": [
                        "Question:What is ARPA-H?\n",
                        " context:['Last month, I announced our plan to supercharge  \\nthe Cancer Moonshot that President Obama asked me to lead six years ago. \\n\\nOur goal is to cut the cancer death rate by at least 50% over the next 25 years, turn more cancers from death sentences into treatable diseases.  \\n\\nMore support for patients and families. \\n\\nTo get there, I call on Congress to fund ARPA-H, the Advanced Research Projects Agency for Health. \\n\\nIt’s based on DARPA—the Defense Department project that led to the Internet, GPS, and so much more.  \\n\\nARPA-H will have a singular purpose—to drive breakthroughs in cancer, Alzheimer’s, diabetes, and more. \\n\\nA unity agenda for the nation. \\n\\nWe can do this. \\n\\nMy fellow Americans—tonight , we have gathered in a sacred space—the citadel of our democracy. \\n\\nIn this Capitol, generation after generation, Americans have debated great questions amid great strife, and have done great things. \\n\\nWe have fought for freedom, expanded liberty, defeated totalitarianism and terror.', 'For that purpose we’ve mobilized American ground forces, air squadrons, and ship deployments to protect NATO countries including Poland, Romania, Latvia, Lithuania, and Estonia. \\n\\nAs I have made crystal clear the United States and our Allies will defend every inch of territory of NATO countries with the full force of our collective power.  \\n\\nAnd we remain clear-eyed. The Ukrainians are fighting back with pure courage. But the next few days weeks, months, will be hard on them.  \\n\\nPutin has unleashed violence and chaos.  But while he may make gains on the battlefield – he will pay a continuing high price over the long run. \\n\\nAnd a proud Ukrainian people, who have known 30 years  of independence, have repeatedly shown that they will not tolerate anyone who tries to take their country backwards.  \\n\\nTo all Americans, I will be honest with you, as I’ve always promised. A Russian dictator, invading a foreign country, has costs around the world.', 'But cancer from prolonged exposure to burn pits ravaged Heath’s lungs and body. \\n\\nDanielle says Heath was a fighter to the very end. \\n\\nHe didn’t know how to stop fighting, and neither did she. \\n\\nThrough her pain she found purpose to demand we do better. \\n\\nTonight, Danielle—we are. \\n\\nThe VA is pioneering new ways of linking toxic exposures to diseases, already helping more veterans get benefits. \\n\\nAnd tonight, I’m announcing we’re expanding eligibility to veterans suffering from nine respiratory cancers. \\n\\nI’m also calling on Congress: pass a law to make sure veterans devastated by toxic exposures in Iraq and Afghanistan finally get the benefits and comprehensive health care they deserve. \\n\\nAnd fourth, let’s end cancer as we know it. \\n\\nThis is personal to me and Jill, to Kamala, and to so many of you. \\n\\nCancer is the #2 cause of death in America–second only to heart disease.', 'And let’s pass the PRO Act when a majority of workers want to form a union—they shouldn’t be stopped.  \\n\\nWhen we invest in our workers, when we build the economy from the bottom up and the middle out together, we can do something we haven’t done in a long time: build a better America. \\n\\nFor more than two years, COVID-19 has impacted every decision in our lives and the life of the nation. \\n\\nAnd I know you’re tired, frustrated, and exhausted. \\n\\nBut I also know this. \\n\\nBecause of the progress we’ve made, because of your resilience and the tools we have, tonight I can say  \\nwe are moving forward safely, back to more normal routines.  \\n\\nWe’ve reached a new moment in the fight against COVID-19, with severe cases down to a level not seen since last July.  \\n\\nJust a few days ago, the Centers for Disease Control and Prevention—the CDC—issued new mask guidelines. \\n\\nUnder these new guidelines, most Americans in most of the country can now be mask free.']\n"
                    ]
                }
            ],
            "source": [
                "#Print a sample context retrieved for a query \n",
                "print(f\"Question:{questions[0]}\\n context:{contexts[0]}\")"
            ]
        },
        {
            "cell_type": "code",
            "execution_count": 13,
            "id": "378b3bfe-ad64-4e6d-8b40-9939a2545800",
            "metadata": {
                "id": "2d8514b0-d484-4092-81fa-349501172d7e"
            },
            "outputs": [
                {
                    "name": "stdout",
                    "output_type": "stream",
                    "text": [
                        "What is ARPA-H? \n",
                        " \n",
                        "\n",
                        "ARPA-H, or the Advanced Research Projects Agency for Health, is a proposed agency that would be based on DARPA, the Defense Department project that led to the Internet, GPS, and other technologies. ARPA-H would have a singular purpose of driving breakthroughs in cancer, Alzheimer's, diabetes, and other diseases. The speaker of the text is calling on Congress to fund ARPA-H as part of \n",
                        "\n",
                        "What is the investment of Ford and GM to build electric vehicles? \n",
                        " \n",
                        "\n",
                        "Ford is investing $11 billion to build electric vehicles, creating 11,000 jobs across the country. GM is making the largest investment in its history—$7 billion to build electric vehicles, creating 4,000 jobs in Michigan. \n",
                        "\n",
                        "What is the proposed tax rate for corporations? \n",
                        " \n",
                        "\n",
                        "The proposed tax rate for corporations is 15%. \n",
                        "\n",
                        "What is Intel going to build? \n",
                        " \n",
                        "\n",
                        "Intel is going to build up to eight state-of-the-art factories in one place, which will be a $20 billion semiconductor \"mega site\". These factories will produce computer chips that power various technologies, including smartphones and the Internet. The company is also considering increasing its investment from $20 billion to $100 billion. \n",
                        "\n",
                        "How many new manufacturing jobs are created last year? \n",
                        " \n",
                        "\n",
                        "369,000 new manufacturing jobs were created in America last year. \n",
                        "\n",
                        "How many electric vehicle charging stations are built? \n",
                        " \n",
                        "\n",
                        "The text does not provide specific information on the number of electric vehicle charging stations built. It mentions the plan to build a national network of 500,000 electric vehicle charging stations, but it does not state how many have been built so far. \n",
                        "\n"
                    ]
                }
            ],
            "source": [
                "#Print the result\n",
                "for query in questions:\n",
                "    print(f\"{query} \\n {responses[questions.index(query)]} \\n\")"
            ]
        },
        {
            "cell_type": "markdown",
            "id": "b2fbd5cc-8847-4b80-8ff7-54dd4938f957",
            "metadata": {
                "id": "ddc252c3-2b48-49fc-930f-1faaae026ada"
            },
            "source": [
                "### Construct a dataframe with question, contexts, and answer to be used for metrics computation"
            ]
        },
        {
            "cell_type": "code",
            "execution_count": 14,
            "id": "42686499-4197-48f2-8164-34f5d2b1ce5a",
            "metadata": {
                "id": "8566ff2d-e379-4450-87c6-f49858690d39"
            },
            "outputs": [
                {
                    "data": {
                        "text/html": [
                            "<div>\n",
                            "<style scoped>\n",
                            "    .dataframe tbody tr th:only-of-type {\n",
                            "        vertical-align: middle;\n",
                            "    }\n",
                            "\n",
                            "    .dataframe tbody tr th {\n",
                            "        vertical-align: top;\n",
                            "    }\n",
                            "\n",
                            "    .dataframe thead th {\n",
                            "        text-align: right;\n",
                            "    }\n",
                            "</style>\n",
                            "<table border=\"1\" class=\"dataframe\">\n",
                            "  <thead>\n",
                            "    <tr style=\"text-align: right;\">\n",
                            "      <th></th>\n",
                            "      <th>context1</th>\n",
                            "      <th>context2</th>\n",
                            "      <th>context3</th>\n",
                            "      <th>context4</th>\n",
                            "      <th>question</th>\n",
                            "      <th>answer</th>\n",
                            "    </tr>\n",
                            "  </thead>\n",
                            "  <tbody>\n",
                            "    <tr>\n",
                            "      <th>0</th>\n",
                            "      <td>Last month, I announced our plan to supercharg...</td>\n",
                            "      <td>For that purpose we’ve mobilized American grou...</td>\n",
                            "      <td>But cancer from prolonged exposure to burn pit...</td>\n",
                            "      <td>And let’s pass the PRO Act when a majority of ...</td>\n",
                            "      <td>What is ARPA-H?</td>\n",
                            "      <td>\\n\\nARPA-H, or the Advanced Research Projects ...</td>\n",
                            "    </tr>\n",
                            "    <tr>\n",
                            "      <th>1</th>\n",
                            "      <td>So let’s not wait any longer. Send it to my de...</td>\n",
                            "      <td>If you travel 20 miles east of Columbus, Ohio,...</td>\n",
                            "      <td>When we use taxpayer dollars to rebuild Americ...</td>\n",
                            "      <td>It is going to transform America and put us on...</td>\n",
                            "      <td>What is the investment of Ford and GM to build...</td>\n",
                            "      <td>\\n\\nFord is investing $11 billion to build ele...</td>\n",
                            "    </tr>\n",
                            "    <tr>\n",
                            "      <th>2</th>\n",
                            "      <td>My plan will cut the cost in half for most fam...</td>\n",
                            "      <td>We got more than 130 countries to agree on a g...</td>\n",
                            "      <td>And unlike the $2 Trillion tax cut passed in t...</td>\n",
                            "      <td>We’re going after the criminals who stole bill...</td>\n",
                            "      <td>What is the proposed tax rate for corporations?</td>\n",
                            "      <td>\\n\\nThe proposed tax rate for corporations is ...</td>\n",
                            "    </tr>\n",
                            "    <tr>\n",
                            "      <th>3</th>\n",
                            "      <td>If you travel 20 miles east of Columbus, Ohio,...</td>\n",
                            "      <td>So let’s not wait any longer. Send it to my de...</td>\n",
                            "      <td>When we use taxpayer dollars to rebuild Americ...</td>\n",
                            "      <td>It is going to transform America and put us on...</td>\n",
                            "      <td>What is Intel going to build?</td>\n",
                            "      <td>\\n\\nIntel is going to build up to eight state-...</td>\n",
                            "    </tr>\n",
                            "    <tr>\n",
                            "      <th>4</th>\n",
                            "      <td>So let’s not wait any longer. Send it to my de...</td>\n",
                            "      <td>If you travel 20 miles east of Columbus, Ohio,...</td>\n",
                            "      <td>When we use taxpayer dollars to rebuild Americ...</td>\n",
                            "      <td>As Ohio Senator Sherrod Brown says, “It’s time...</td>\n",
                            "      <td>How many new manufacturing jobs are created la...</td>\n",
                            "      <td>\\n\\n369,000 new manufacturing jobs were create...</td>\n",
                            "    </tr>\n",
                            "    <tr>\n",
                            "      <th>5</th>\n",
                            "      <td>So let’s not wait any longer. Send it to my de...</td>\n",
                            "      <td>If you travel 20 miles east of Columbus, Ohio,...</td>\n",
                            "      <td>It is going to transform America and put us on...</td>\n",
                            "      <td>Vice President Harris and I ran for office wit...</td>\n",
                            "      <td>How many electric vehicle charging stations ar...</td>\n",
                            "      <td>\\n\\nThe text does not provide specific informa...</td>\n",
                            "    </tr>\n",
                            "  </tbody>\n",
                            "</table>\n",
                            "</div>"
                        ],
                        "text/plain": [
                            "                                            context1  \\\n",
                            "0  Last month, I announced our plan to supercharg...   \n",
                            "1  So let’s not wait any longer. Send it to my de...   \n",
                            "2  My plan will cut the cost in half for most fam...   \n",
                            "3  If you travel 20 miles east of Columbus, Ohio,...   \n",
                            "4  So let’s not wait any longer. Send it to my de...   \n",
                            "5  So let’s not wait any longer. Send it to my de...   \n",
                            "\n",
                            "                                            context2  \\\n",
                            "0  For that purpose we’ve mobilized American grou...   \n",
                            "1  If you travel 20 miles east of Columbus, Ohio,...   \n",
                            "2  We got more than 130 countries to agree on a g...   \n",
                            "3  So let’s not wait any longer. Send it to my de...   \n",
                            "4  If you travel 20 miles east of Columbus, Ohio,...   \n",
                            "5  If you travel 20 miles east of Columbus, Ohio,...   \n",
                            "\n",
                            "                                            context3  \\\n",
                            "0  But cancer from prolonged exposure to burn pit...   \n",
                            "1  When we use taxpayer dollars to rebuild Americ...   \n",
                            "2  And unlike the $2 Trillion tax cut passed in t...   \n",
                            "3  When we use taxpayer dollars to rebuild Americ...   \n",
                            "4  When we use taxpayer dollars to rebuild Americ...   \n",
                            "5  It is going to transform America and put us on...   \n",
                            "\n",
                            "                                            context4  \\\n",
                            "0  And let’s pass the PRO Act when a majority of ...   \n",
                            "1  It is going to transform America and put us on...   \n",
                            "2  We’re going after the criminals who stole bill...   \n",
                            "3  It is going to transform America and put us on...   \n",
                            "4  As Ohio Senator Sherrod Brown says, “It’s time...   \n",
                            "5  Vice President Harris and I ran for office wit...   \n",
                            "\n",
                            "                                            question  \\\n",
                            "0                                    What is ARPA-H?   \n",
                            "1  What is the investment of Ford and GM to build...   \n",
                            "2    What is the proposed tax rate for corporations?   \n",
                            "3                      What is Intel going to build?   \n",
                            "4  How many new manufacturing jobs are created la...   \n",
                            "5  How many electric vehicle charging stations ar...   \n",
                            "\n",
                            "                                              answer  \n",
                            "0  \\n\\nARPA-H, or the Advanced Research Projects ...  \n",
                            "1  \\n\\nFord is investing $11 billion to build ele...  \n",
                            "2  \\n\\nThe proposed tax rate for corporations is ...  \n",
                            "3  \\n\\nIntel is going to build up to eight state-...  \n",
                            "4  \\n\\n369,000 new manufacturing jobs were create...  \n",
                            "5  \\n\\nThe text does not provide specific informa...  "
                        ]
                    },
                    "execution_count": 14,
                    "metadata": {},
                    "output_type": "execute_result"
                }
            ],
            "source": [
                "import pandas as pd\n",
                "data = pd.DataFrame(contexts, columns=[\"context1\", \"context2\", \"context3\", \"context4\"])\n",
                "data[\"question\"] = questions\n",
                "data[\"answer\"] = responses\n",
                "data"
            ]
        },
        {
            "cell_type": "markdown",
            "id": "360c6ecd",
            "metadata": {
                "id": "711cecf8-3ae8-4fdd-8e27-30357688b205"
            },
            "source": [
                "## Step 5 - Configure Answer Quality metrics & Retrieval Quality metrics\n",
                "<a id=\"config\"></a>"
            ]
        },
        {
            "cell_type": "markdown",
            "id": "459a6a50",
            "metadata": {
                "id": "9c7467ff-a8cb-4d5c-b472-9a6330731037"
            },
            "source": [
                "### Parameters"
            ]
        },
        {
            "cell_type": "markdown",
            "id": "842541f3-4518-4c5d-a2d9-b06fbe566c22",
            "metadata": {
                "id": "ad8149ec-bafa-4de4-845d-92a4501d7b2d"
            },
            "source": [
                "#### Common parameters\n",
                "\n",
                "| Parameter | Description | Default Value | Possible Value(s) |\n",
                "|:-|:-|:-|:-|\n",
                "| context_columns | The list of context column names in the input data frame. |  |  |\n",
                "| question_column | the name of the question column in the input data frame. |  |  |\n",
                "| answer_column | The name of the answer column in the input data frame |  |  |\n",
                "| record_level | The flag to return the record level metrics values. Set the flag under configuration to generate record level metrics for all the metrics. Set the flag under specific metric to generate record level metrics for that metric alone. | `False` | `True`, `False` |"
            ]
        },
        {
            "cell_type": "markdown",
            "id": "98db5074",
            "metadata": {
                "id": "5351d347-0fc0-4dc3-a601-2089b2a282ab"
            },
            "source": [
                "#### Faithfulness parameters\n",
                "| Parameter | Description | Default Value | Possible Value(s) |\n",
                "|:-|:-|:-|:-|\n",
                "| attributions_count [Optional]| Source attributions are computed for each sentence in the generated answer. Source attribution for a sentence is the set of sentences in the context which contributed to the LLM generating that sentence in the answer.  The attributions_count parameter specifies the number of sentences in the context which need to be identified for attributions.  E.g., if the value is set to 2, then we will find the top 2 sentences from the context as source attributions. | `3` |  |\n",
                "| ngrams [Optional]| The number of sentences to be grouped from the context when computing faithfulness score. These grouped sentences will be shown in the attributions. Having a very high value of ngrams might lead to having lower faithfulness scores due to dispersion of data and inclusion of unrelated sentences in the attributions. Having a very low value might lead to increase in metric computation time and attributions not capturing the all the aspects of the answer. | `2` |  |\n",
                "| sample_size [Optional]| The faithfulness metric is computed for a maximum of 50 LLM responses.  If you wish to compute it for a smaller number of responses, set the sample_size value to a lower number. If the number of records in the input data frame are more than the sample size, a uniform random sample will taken for computation. | `50` | Integer between 0 to 50. Max value supported is 50 |\n",
                "| record_level [Optional]| Set the flag to generate record level metrics for the specific metric. | `False` | `True`, `False` |\n"
            ]
        },
        {
            "cell_type": "markdown",
            "id": "a263c025",
            "metadata": {
                "id": "beedad2c-ad63-4ad5-a990-970f8ae895b3"
            },
            "source": [
                "#### Context relevance parameters\n",
                "| Parameter | Description | Default Value | Possible Value(s) |\n",
                "|:-|:-|:-|:-|\n",
                "| ngrams [Optional]| The number of sentences to be grouped from the context when computing context relevance score. Having a very high value of ngrams might lead to having lower context relevance scores due to dispersion of data and inclusion of unrelated sentences. | `5` |  |"
            ]
        },
        {
            "cell_type": "markdown",
            "id": "43ff4b2b",
            "metadata": {
                "id": "b7b7e4e1-d5d6-49a1-95d5-9cc5ba3420c5"
            },
            "source": [
                "\n",
                "#### Unsuccessful requests parameters\n",
                "| Parameter | Description | Default Value |\n",
                "|:-|:-|:-|\n",
                "| unsuccessful_phrases [Optional]| The list of phrases to be used for comparing the model output to determine whether the request is unsuccessful or not. | `[\"i don't know\", \"i do not know\", \"i'm not sure\", \"i am not sure\", \"i'm unsure\", \"i am unsure\", \"i'm uncertain\", \"i am uncertain\", \"i'm not certain\", \"i am not certain\", \"i can't fulfill\", \"i cannot fulfill\"]` |"
            ]
        },
        {
            "cell_type": "markdown",
            "id": "5efb6dc4",
            "metadata": {
                "id": "3fb380b7-dd37-473b-82f9-9d75a23ff7cd"
            },
            "source": [
                "### Verify client version"
            ]
        },
        {
            "cell_type": "code",
            "execution_count": 15,
            "id": "aa0d7844-5c99-40dd-8c03-eb60a3790707",
            "metadata": {
                "id": "62f5a577-9394-47a1-af3b-1d421027cc45"
            },
            "outputs": [
                {
                    "name": "stdout",
                    "output_type": "stream",
                    "text": [
                        "3.0.41\n"
                    ]
                }
            ],
            "source": [
                "from ibm_cloud_sdk_core.authenticators import CloudPakForDataAuthenticator\n",
                "\n",
                "from ibm_watson_openscale import *\n",
                "from ibm_watson_openscale.supporting_classes.enums import *\n",
                "from ibm_watson_openscale.supporting_classes import *\n",
                "\n",
                "authenticator = CloudPakForDataAuthenticator(\n",
                "        url=credentials['url'],\n",
                "        username=credentials['username'],\n",
                "        apikey=credentials['apikey'],\n",
                "        disable_ssl_verification=True,\n",
                "    )\n",
                "\n",
                "client = APIClient(service_url=credentials['url'],authenticator=authenticator)\n",
                "\n",
                "client.version\n",
                "\n",
                "print(client.version)"
            ]
        },
        {
            "cell_type": "markdown",
            "id": "78f8dc0a",
            "metadata": {
                "id": "ba5f54ce-4fd6-4813-b770-cb57792dc344"
            },
            "source": [
                "### Configure faithfulness, answer relevance, and unsuccessful requests parameters"
            ]
        },
        {
            "cell_type": "code",
            "execution_count": 16,
            "id": "35bbce5e",
            "metadata": {
                "id": "c6874bdb-b521-4497-a90d-7ccd864e69f1"
            },
            "outputs": [],
            "source": [
                "from ibm_metrics_plugin.metrics.llm.utils.constants import LLMTextMetricGroup, LLMCommonMetrics, LLMQAMetrics, LLMRAGMetrics, RetrievalQualityMetric\n",
                "\n",
                "# Edit below values based on the input data\n",
                "context_columns = [\"context1\", \"context2\", \"context3\", \"context4\"]\n",
                "question_column = \"question\"\n",
                "answer_column = \"answer\"\n",
                "\n",
                "config_json = {\n",
                "            \"configuration\": {\n",
                "                \"record_level\": True,\n",
                "                \"context_columns\": context_columns,\n",
                "                \"question_column\": question_column,\n",
                "                 LLMTextMetricGroup.RAG.value: {\n",
                "                        LLMCommonMetrics.FAITHFULNESS.value: {\n",
                "                            # \"record_level\": True\n",
                "                            #\"attributions_count\": 3,\n",
                "                            #\"ngrams\": 2,\n",
                "                            #\"sample_size\": 10,\n",
                "                        },\n",
                "                        LLMCommonMetrics.ANSWER_RELEVANCE.value: {\n",
                "                            # \"record_level\": True\n",
                "                        },\n",
                "                        LLMQAMetrics.UNSUCCESSFUL_REQUESTS.value: {\n",
                "                        },\n",
                "                        LLMCommonMetrics.CONTENT_ANALYSIS.value: {\n",
                "                            # \"record_level\": True\n",
                "                        },\n",
                "                        LLMRAGMetrics.RETRIEVAL_QUALITY.value: {\n",
                "                            # \"record_level\": True,\n",
                "                            RetrievalQualityMetric.CONTEXT_RELEVANCE.value: {\n",
                "                            \"ngrams\": 5\n",
                "                            },\n",
                "                            RetrievalQualityMetric.RETRIEVAL_PRECISION.value: {},\n",
                "                            RetrievalQualityMetric.AVERAGE_PRECISION.value: {},\n",
                "                            RetrievalQualityMetric.RECIPROCAL_RANK.value: {},\n",
                "                            RetrievalQualityMetric.HIT_RATE.value: {},\n",
                "                            RetrievalQualityMetric.NDCG.value: {}\n",
                "                        }\n",
                "                }\n",
                "            }\n",
                "        }"
            ]
        },
        {
            "cell_type": "markdown",
            "id": "8a7d2879",
            "metadata": {
                "id": "180bba35-afc7-40a2-ad38-c66fc5201e04"
            },
            "source": [
                "### Create the input, output and reference data frames and send them as input to compute metrics"
            ]
        },
        {
            "cell_type": "code",
            "execution_count": 17,
            "id": "436c949c",
            "metadata": {
                "id": "ca083bc0-8b84-4f7f-ac0e-3a2d56b70a6b"
            },
            "outputs": [],
            "source": [
                "df_input = pd.DataFrame(data, columns=context_columns+[question_column])\n",
                "df_output = pd.DataFrame(data, columns=[answer_column])"
            ]
        },
        {
            "cell_type": "markdown",
            "id": "60d126ea-7429-4f8e-961b-8ebabae26a2d",
            "metadata": {
                "id": "78997e2a-caa4-4d9d-9268-7f87d02eb834"
            },
            "source": [
                "## Step 6 - Compute Answer Quality & Retrieval Quality metrics <a id=\"compute\"></a>"
            ]
        },
        {
            "cell_type": "markdown",
            "id": "757bee37",
            "metadata": {
                "id": "8fa3315f-6975-4feb-bbef-8e2e91e1e0a1"
            },
            "source": [
                "The Answer Quality and Retrieval Quality metrics will be computed on the server (watsonx.governance instance) in asynchronous manner, by default. The details of the computation tasks submitted, and the responses from them, are returned in the response. The `get_metrics_result` method shown in the following cells can be used to get the response from the server.\n",
                "\n",
                "To execute the metrics in synchronous manner, send the parameter `background_mode=False` to the compute_metrics method.\n",
                "\n",
                "**Note**: Each computation of the metrics will consume 1 Resource Unit when your Cloud watsonx.governance instance is used."
            ]
        },
        {
            "cell_type": "code",
            "execution_count": 18,
            "id": "824ab7d5",
            "metadata": {
                "id": "7e3a88b5-2db8-4ba5-8042-1fd48de8f45e"
            },
            "outputs": [
                {
                    "name": "stderr",
                    "output_type": "stream",
                    "text": [
                        "[nltk_data] Downloading package punkt_tab to /home/wsuser/nltk_data...\n",
                        "[nltk_data]   Unzipping tokenizers/punkt_tab.zip.\n",
                        "2024-11-26T04:36:27.479792 [MDLMN:ERRR] <COR80419785E> exception raised: FileNotFoundError('Module load path `/opt/ibm/nlpmodels/classification_transformer_en_slate.125m.answer-relevance` does not contain a `config.yml` file.')\n",
                        "2024-11-26T04:36:27.481340 [MDLMN:ERRR] <COR80419785E> exception raised: FileNotFoundError('Module load path `/opt/ibm/nlpmodels/classification_transformer_en_slate.125m.groundedness` does not contain a `config.yml` file.')\n",
                        "2024-11-26T04:36:27.482388 [MDLMN:ERRR] <COR80419785E> exception raised: FileNotFoundError('Module load path `/opt/ibm/nlpmodels/classification_transformer_en_slate.125m.context-relevance` does not contain a `config.yml` file.')\n"
                    ]
                },
                {
                    "name": "stdout",
                    "output_type": "stream",
                    "text": [
                        "{\n",
                        "  \"computation_tasks\": [\n",
                        "    {\n",
                        "      \"entity\": {\n",
                        "        \"status\": {\n",
                        "          \"state\": \"in_progress\"\n",
                        "        }\n",
                        "      },\n",
                        "      \"metadata\": {\n",
                        "        \"created_at\": \"2024-11-26T04:36:27.733600Z\",\n",
                        "        \"created_by\": \"1000331001\",\n",
                        "        \"id\": \"5b8052d3-cd17-46cf-8366-354b0c7d6ea3\",\n",
                        "        \"updated_at\": \"2024-11-26T04:36:27.733641Z\"\n",
                        "      }\n",
                        "    }\n",
                        "  ],\n",
                        "  \"content_analysis\": {\n",
                        "    \"record_level_metrics\": [\n",
                        "      {\n",
                        "        \"record_id\": \"d6664051-0fc1-4f3e-bc49-1734da10bd58\",\n",
                        "        \"coverage\": 0.3611,\n",
                        "        \"density\": 0.0542,\n",
                        "        \"abstractness\": 0.2222\n",
                        "      },\n",
                        "      {\n",
                        "        \"record_id\": \"cb4a612f-f69a-4aff-a204-f5a980dfc14f\",\n",
                        "        \"coverage\": 0.272,\n",
                        "        \"density\": 1.0,\n",
                        "        \"abstractness\": 0.0294\n",
                        "      },\n",
                        "      {\n",
                        "        \"record_id\": \"6173fb9c-15fe-4e71-aca8-5c5416be122c\",\n",
                        "        \"coverage\": 0.1512,\n",
                        "        \"density\": 0.24,\n",
                        "        \"abstractness\": 0.125\n",
                        "      },\n",
                        "      {\n",
                        "        \"record_id\": \"21fb1989-a812-4bc9-ad72-51671e35494a\",\n",
                        "        \"coverage\": 0.3377,\n",
                        "        \"density\": 0.0626,\n",
                        "        \"abstractness\": 0.2157\n",
                        "      },\n",
                        "      {\n",
                        "        \"record_id\": \"c5c19645-80d9-426b-b4cb-c0c3432a62e5\",\n",
                        "        \"coverage\": 0.1138,\n",
                        "        \"density\": 0.2479,\n",
                        "        \"abstractness\": 0.1\n",
                        "      },\n",
                        "      {\n",
                        "        \"record_id\": \"de23dd74-cb88-4771-a0b9-6b011709dd37\",\n",
                        "        \"coverage\": 0.2743,\n",
                        "        \"density\": 0.0662,\n",
                        "        \"abstractness\": 0.2558\n",
                        "      }\n",
                        "    ],\n",
                        "    \"coverage\": {\n",
                        "      \"metric_value\": 0.2517,\n",
                        "      \"mean\": 0.2517,\n",
                        "      \"min\": 0.1138,\n",
                        "      \"max\": 0.3611,\n",
                        "      \"std\": 0.0907\n",
                        "    },\n",
                        "    \"density\": {\n",
                        "      \"metric_value\": 0.2785,\n",
                        "      \"mean\": 0.2785,\n",
                        "      \"min\": 0.0542,\n",
                        "      \"max\": 1.0,\n",
                        "      \"std\": 0.3329\n",
                        "    },\n",
                        "    \"abstractness\": {\n",
                        "      \"metric_value\": 0.158,\n",
                        "      \"mean\": 0.158,\n",
                        "      \"min\": 0.0294,\n",
                        "      \"max\": 0.2558,\n",
                        "      \"std\": 0.0796\n",
                        "    }\n",
                        "  },\n",
                        "  \"unsuccessful_requests\": {\n",
                        "    \"record_level_metrics\": [\n",
                        "      {\n",
                        "        \"record_id\": \"d6664051-0fc1-4f3e-bc49-1734da10bd58\",\n",
                        "        \"unsuccessful_requests\": 0\n",
                        "      },\n",
                        "      {\n",
                        "        \"record_id\": \"cb4a612f-f69a-4aff-a204-f5a980dfc14f\",\n",
                        "        \"unsuccessful_requests\": 0\n",
                        "      },\n",
                        "      {\n",
                        "        \"record_id\": \"6173fb9c-15fe-4e71-aca8-5c5416be122c\",\n",
                        "        \"unsuccessful_requests\": 0\n",
                        "      },\n",
                        "      {\n",
                        "        \"record_id\": \"21fb1989-a812-4bc9-ad72-51671e35494a\",\n",
                        "        \"unsuccessful_requests\": 0\n",
                        "      },\n",
                        "      {\n",
                        "        \"record_id\": \"c5c19645-80d9-426b-b4cb-c0c3432a62e5\",\n",
                        "        \"unsuccessful_requests\": 0\n",
                        "      },\n",
                        "      {\n",
                        "        \"record_id\": \"de23dd74-cb88-4771-a0b9-6b011709dd37\",\n",
                        "        \"unsuccessful_requests\": 0\n",
                        "      }\n",
                        "    ],\n",
                        "    \"metric_value\": 0.0,\n",
                        "    \"mean\": 0.0,\n",
                        "    \"min\": 0,\n",
                        "    \"max\": 0,\n",
                        "    \"std\": 0.0\n",
                        "  }\n",
                        "}\n"
                    ]
                }
            ],
            "source": [
                "import json\n",
                "metrics_result = client.llm_metrics.compute_metrics(config_json, \n",
                "                                                    sources=df_input, \n",
                "                                                    predictions=df_output,\n",
                "                                                    references=None,\n",
                "                                                    # background_mode=False\n",
                "                                                   )\n",
                "\n",
                "print(json.dumps(metrics_result, indent=2))"
            ]
        },
        {
            "cell_type": "markdown",
            "id": "e62383a5-7096-4a4c-9175-58d4cc765412",
            "metadata": {
                "id": "5527dc35-b49b-4963-990a-703c90c1616d"
            },
            "source": [
                "#### Re-run the following cell until all computation tasks are finished, and results are returned"
            ]
        },
        {
            "cell_type": "code",
            "execution_count": 19,
            "id": "aa2ec468",
            "metadata": {
                "id": "77a6d371-1067-46fa-b002-20aad502ef28"
            },
            "outputs": [
                {
                    "name": "stdout",
                    "output_type": "stream",
                    "text": [
                        "{\n",
                        "  \"answer_relevance\": {\n",
                        "    \"total_records\": 6,\n",
                        "    \"max\": 0.9955,\n",
                        "    \"mean\": 0.9497,\n",
                        "    \"metric_value\": 0.9497,\n",
                        "    \"min\": 0.7459,\n",
                        "    \"record_level_metrics\": [\n",
                        "      {\n",
                        "        \"answer_relevance\": 0.7459,\n",
                        "        \"record_id\": \"7363b39d-4637-473f-99d7-6ba111c4ff99\"\n",
                        "      },\n",
                        "      {\n",
                        "        \"answer_relevance\": 0.9846,\n",
                        "        \"record_id\": \"71d5a76b-8991-4798-9329-580b9f5b6b27\"\n",
                        "      },\n",
                        "      {\n",
                        "        \"answer_relevance\": 0.9951,\n",
                        "        \"record_id\": \"e93fa978-413e-4cf9-919f-c5befbba184f\"\n",
                        "      },\n",
                        "      {\n",
                        "        \"answer_relevance\": 0.9849,\n",
                        "        \"record_id\": \"d7df0dfb-9903-4839-9ab5-a165b6a7ab4a\"\n",
                        "      },\n",
                        "      {\n",
                        "        \"answer_relevance\": 0.9955,\n",
                        "        \"record_id\": \"a4ae306e-37a2-46b5-8e6a-bc53ac73eb1a\"\n",
                        "      },\n",
                        "      {\n",
                        "        \"answer_relevance\": 0.992,\n",
                        "        \"record_id\": \"90ab3503-6ef1-49a9-868b-cd65c24c6a85\"\n",
                        "      }\n",
                        "    ]\n",
                        "  },\n",
                        "  \"faithfulness\": {\n",
                        "    \"total_records\": 6,\n",
                        "    \"max\": 0.9956,\n",
                        "    \"mean\": 0.7327,\n",
                        "    \"metric_value\": 0.7327,\n",
                        "    \"min\": 0.0436,\n",
                        "    \"record_level_metrics\": [\n",
                        "      {\n",
                        "        \"faithfulness\": 0.7238,\n",
                        "        \"faithfulness_attributions\": [\n",
                        "          {\n",
                        "            \"attributions\": [\n",
                        "              {\n",
                        "                \"faithfulness_scores\": [\n",
                        "                  0.9272,\n",
                        "                  0.7358\n",
                        "                ],\n",
                        "                \"feature_name\": \"context1\",\n",
                        "                \"feature_values\": [\n",
                        "                  \"To get there, I call on Congress to fund ARPA-H, the Advanced Research Projects Agency for Health. \\n\\nIt\\u2019s based on DARPA\\u2014the Defense Department project that led to the Internet, GPS, and so much more.\",\n",
                        "                  \"It\\u2019s based on DARPA\\u2014the Defense Department project that led to the Internet, GPS, and so much more.  \\n\\nARPA-H will have a singular purpose\\u2014to drive breakthroughs in cancer, Alzheimer\\u2019s, diabetes, and more.\"\n",
                        "                ]\n",
                        "              },\n",
                        "              {\n",
                        "                \"faithfulness_scores\": [\n",
                        "                  0.0028\n",
                        "                ],\n",
                        "                \"feature_name\": \"context4\",\n",
                        "                \"feature_values\": [\n",
                        "                  \"When we invest in our workers, when we build the economy from the bottom up and the middle out together, we can do something we haven\\u2019t done in a long time: build a better America. \\n\\nFor more than two years, COVID-19 has impacted every decision in our lives and the life of the nation.\"\n",
                        "                ]\n",
                        "              }\n",
                        "            ],\n",
                        "            \"faithfulness_score\": 0.9272,\n",
                        "            \"output_text\": \"  ARPA-H, or the Advanced Research Projects Agency for Health, is a proposed agency that would be based on DARPA, the Defense Department project that led to the Internet, GPS, and other technologies.\"\n",
                        "          },\n",
                        "          {\n",
                        "            \"attributions\": [\n",
                        "              {\n",
                        "                \"faithfulness_scores\": [\n",
                        "                  0.9778,\n",
                        "                  0.9414,\n",
                        "                  0.0026\n",
                        "                ],\n",
                        "                \"feature_name\": \"context1\",\n",
                        "                \"feature_values\": [\n",
                        "                  \"It\\u2019s based on DARPA\\u2014the Defense Department project that led to the Internet, GPS, and so much more.  \\n\\nARPA-H will have a singular purpose\\u2014to drive breakthroughs in cancer, Alzheimer\\u2019s, diabetes, and more.\",\n",
                        "                  \"ARPA-H will have a singular purpose\\u2014to drive breakthroughs in cancer, Alzheimer\\u2019s, diabetes, and more. \\n\\nA unity agenda for the nation.\",\n",
                        "                  \"My fellow Americans\\u2014tonight , we have gathered in a sacred space\\u2014the citadel of our democracy. \\n\\nIn this Capitol, generation after generation, Americans have debated great questions amid great strife, and have done great things.\"\n",
                        "                ]\n",
                        "              }\n",
                        "            ],\n",
                        "            \"faithfulness_score\": 0.9778,\n",
                        "            \"output_text\": \"ARPA-H would have a singular purpose of driving breakthroughs in cancer, Alzheimer's, diabetes, and other diseases.\"\n",
                        "          },\n",
                        "          {\n",
                        "            \"attributions\": [\n",
                        "              {\n",
                        "                \"faithfulness_scores\": [\n",
                        "                  0.2666,\n",
                        "                  0.0742\n",
                        "                ],\n",
                        "                \"feature_name\": \"context1\",\n",
                        "                \"feature_values\": [\n",
                        "                  \"To get there, I call on Congress to fund ARPA-H, the Advanced Research Projects Agency for Health. \\n\\nIt\\u2019s based on DARPA\\u2014the Defense Department project that led to the Internet, GPS, and so much more.\",\n",
                        "                  \"More support for patients and families. \\n\\nTo get there, I call on Congress to fund ARPA-H, the Advanced Research Projects Agency for Health.\"\n",
                        "                ]\n",
                        "              },\n",
                        "              {\n",
                        "                \"faithfulness_scores\": [\n",
                        "                  0.004\n",
                        "                ],\n",
                        "                \"feature_name\": \"context3\",\n",
                        "                \"feature_values\": [\n",
                        "                  \"Through her pain she found purpose to demand we do better. \\n\\nTonight, Danielle\\u2014we are.\"\n",
                        "                ]\n",
                        "              }\n",
                        "            ],\n",
                        "            \"faithfulness_score\": 0.2666,\n",
                        "            \"output_text\": \"The speaker of the text is calling on Congress to fund ARPA-H as part of\"\n",
                        "          }\n",
                        "        ],\n",
                        "        \"record_id\": \"7363b39d-4637-473f-99d7-6ba111c4ff99\"\n",
                        "      },\n",
                        "      {\n",
                        "        \"faithfulness\": 0.9937,\n",
                        "        \"faithfulness_attributions\": [\n",
                        "          {\n",
                        "            \"attributions\": [\n",
                        "              {\n",
                        "                \"faithfulness_scores\": [\n",
                        "                  0.9938,\n",
                        "                  0.9928\n",
                        "                ],\n",
                        "                \"feature_name\": \"context1\",\n",
                        "                \"feature_values\": [\n",
                        "                  \"Ford is investing $11 billion to build electric vehicles, creating 11,000 jobs across the country. \\n\\nGM is making the largest investment in its history\\u2014$7 billion to build electric vehicles, creating 4,000 jobs in Michigan.\",\n",
                        "                  \"That\\u2019s what is happening. Ford is investing $11 billion to build electric vehicles, creating 11,000 jobs across the country.\"\n",
                        "                ]\n",
                        "              },\n",
                        "              {\n",
                        "                \"faithfulness_scores\": [\n",
                        "                  0.0015\n",
                        "                ],\n",
                        "                \"feature_name\": \"context3\",\n",
                        "                \"feature_values\": [\n",
                        "                  \"That\\u2019s why it is so important to pass the Bipartisan Innovation Act sitting in Congress that will make record investments in emerging technologies and American manufacturing. \\n\\nLet me give you one example of why it\\u2019s so important to pass it.\"\n",
                        "                ]\n",
                        "              }\n",
                        "            ],\n",
                        "            \"faithfulness_score\": 0.9938,\n",
                        "            \"output_text\": \"  Ford is investing $11 billion to build electric vehicles, creating 11,000 jobs across the country.\"\n",
                        "          },\n",
                        "          {\n",
                        "            \"attributions\": [\n",
                        "              {\n",
                        "                \"faithfulness_scores\": [\n",
                        "                  0.9936,\n",
                        "                  0.9896\n",
                        "                ],\n",
                        "                \"feature_name\": \"context1\",\n",
                        "                \"feature_values\": [\n",
                        "                  \"GM is making the largest investment in its history\\u2014$7 billion to build electric vehicles, creating 4,000 jobs in Michigan. \\n\\nAll told, we created 369,000 new manufacturing jobs in America just last year.\",\n",
                        "                  \"Ford is investing $11 billion to build electric vehicles, creating 11,000 jobs across the country. \\n\\nGM is making the largest investment in its history\\u2014$7 billion to build electric vehicles, creating 4,000 jobs in Michigan.\"\n",
                        "                ]\n",
                        "              },\n",
                        "              {\n",
                        "                \"faithfulness_scores\": [\n",
                        "                  0.002\n",
                        "                ],\n",
                        "                \"feature_name\": \"context3\",\n",
                        "                \"feature_values\": [\n",
                        "                  \"That\\u2019s why it is so important to pass the Bipartisan Innovation Act sitting in Congress that will make record investments in emerging technologies and American manufacturing. \\n\\nLet me give you one example of why it\\u2019s so important to pass it.\"\n",
                        "                ]\n",
                        "              }\n",
                        "            ],\n",
                        "            \"faithfulness_score\": 0.9936,\n",
                        "            \"output_text\": \"GM is making the largest investment in its history\\u2014$7 billion to build electric vehicles, creating 4,000 jobs in Michigan.\"\n",
                        "          }\n",
                        "        ],\n",
                        "        \"record_id\": \"71d5a76b-8991-4798-9329-580b9f5b6b27\"\n",
                        "      },\n",
                        "      {\n",
                        "        \"faithfulness\": 0.993,\n",
                        "        \"faithfulness_attributions\": [\n",
                        "          {\n",
                        "            \"attributions\": [\n",
                        "              {\n",
                        "                \"faithfulness_scores\": [\n",
                        "                  0.993,\n",
                        "                  0.9929\n",
                        "                ],\n",
                        "                \"feature_name\": \"context1\",\n",
                        "                \"feature_values\": [\n",
                        "                  \"That\\u2019s why I\\u2019ve proposed a 15% minimum tax rate for corporations.\",\n",
                        "                  \"That\\u2019s simply not fair. That\\u2019s why I\\u2019ve proposed a 15% minimum tax rate for corporations.\"\n",
                        "                ]\n",
                        "              },\n",
                        "              {\n",
                        "                \"faithfulness_scores\": [\n",
                        "                  0.993\n",
                        "                ],\n",
                        "                \"feature_name\": \"context2\",\n",
                        "                \"feature_values\": [\n",
                        "                  \"We got more than 130 countries to agree on a global minimum tax rate so companies can\\u2019t get out of paying their taxes at home by shipping jobs and factories overseas.\"\n",
                        "                ]\n",
                        "              },\n",
                        "              {\n",
                        "                \"faithfulness_scores\": [\n",
                        "                  0.0021\n",
                        "                ],\n",
                        "                \"feature_name\": \"context3\",\n",
                        "                \"feature_values\": [\n",
                        "                  \"It created jobs. Lots of jobs.\"\n",
                        "                ]\n",
                        "              }\n",
                        "            ],\n",
                        "            \"faithfulness_score\": 0.993,\n",
                        "            \"output_text\": \"  The proposed tax rate for corporations is 15%.\"\n",
                        "          }\n",
                        "        ],\n",
                        "        \"record_id\": \"e93fa978-413e-4cf9-919f-c5befbba184f\"\n",
                        "      },\n",
                        "      {\n",
                        "        \"faithfulness\": 0.6467,\n",
                        "        \"faithfulness_attributions\": [\n",
                        "          {\n",
                        "            \"attributions\": [\n",
                        "              {\n",
                        "                \"faithfulness_scores\": [\n",
                        "                  0.991,\n",
                        "                  0.0074\n",
                        "                ],\n",
                        "                \"feature_name\": \"context1\",\n",
                        "                \"feature_values\": [\n",
                        "                  \"This is where Intel, the American company that helped build Silicon Valley, is going to build its $20 billion semiconductor \\u201cmega site\\u201d. \\n\\nUp to eight state-of-the-art factories in one place.\",\n",
                        "                  \"It won\\u2019t look like much, but if you stop and look closely, you\\u2019ll see a \\u201cField of dreams,\\u201d the ground on which America\\u2019s future will be built. \\n\\nThis is where Intel, the American company that helped build Silicon Valley, is going to build its $20 billion semiconductor \\u201cmega site\\u201d.\"\n",
                        "                ]\n",
                        "              },\n",
                        "              {\n",
                        "                \"faithfulness_scores\": [\n",
                        "                  0.0021\n",
                        "                ],\n",
                        "                \"feature_name\": \"context3\",\n",
                        "                \"feature_values\": [\n",
                        "                  \"That\\u2019s why it is so important to pass the Bipartisan Innovation Act sitting in Congress that will make record investments in emerging technologies and American manufacturing. \\n\\nLet me give you one example of why it\\u2019s so important to pass it.\"\n",
                        "                ]\n",
                        "              }\n",
                        "            ],\n",
                        "            \"faithfulness_score\": 0.991,\n",
                        "            \"output_text\": \"  Intel is going to build up to eight state-of-the-art factories in one place, which will be a $20 billion semiconductor \\\"mega site\\\".\"\n",
                        "          },\n",
                        "          {\n",
                        "            \"attributions\": [\n",
                        "              {\n",
                        "                \"faithfulness_scores\": [\n",
                        "                  0.0658,\n",
                        "                  0.0515,\n",
                        "                  0.0026\n",
                        "                ],\n",
                        "                \"feature_name\": \"context1\",\n",
                        "                \"feature_values\": [\n",
                        "                  \"Smartphones. The Internet.\",\n",
                        "                  \"Some of the most sophisticated manufacturing in the world to make computer chips the size of a fingertip that power the world and our everyday lives. \\n\\nSmartphones.\",\n",
                        "                  \"The Internet. Technology we have yet to invent.\"\n",
                        "                ]\n",
                        "              }\n",
                        "            ],\n",
                        "            \"faithfulness_score\": 0.0658,\n",
                        "            \"output_text\": \"These factories will produce computer chips that power various technologies, including smartphones and the Internet.\"\n",
                        "          },\n",
                        "          {\n",
                        "            \"attributions\": [\n",
                        "              {\n",
                        "                \"faithfulness_scores\": [\n",
                        "                  0.8834,\n",
                        "                  0.8455\n",
                        "                ],\n",
                        "                \"feature_name\": \"context1\",\n",
                        "                \"feature_values\": [\n",
                        "                  \"Intel\\u2019s CEO, Pat Gelsinger, who is here tonight, told me they are ready to increase their investment from  \\n$20 billion to $100 billion. \\n\\nThat would be one of the biggest investments in manufacturing in American history.\",\n",
                        "                  \"But that\\u2019s just the beginning. \\n\\nIntel\\u2019s CEO, Pat Gelsinger, who is here tonight, told me they are ready to increase their investment from  \\n$20 billion to $100 billion.\"\n",
                        "                ]\n",
                        "              },\n",
                        "              {\n",
                        "                \"faithfulness_scores\": [\n",
                        "                  0.0018\n",
                        "                ],\n",
                        "                \"feature_name\": \"context3\",\n",
                        "                \"feature_values\": [\n",
                        "                  \"That\\u2019s why it is so important to pass the Bipartisan Innovation Act sitting in Congress that will make record investments in emerging technologies and American manufacturing. \\n\\nLet me give you one example of why it\\u2019s so important to pass it.\"\n",
                        "                ]\n",
                        "              }\n",
                        "            ],\n",
                        "            \"faithfulness_score\": 0.8834,\n",
                        "            \"output_text\": \"The company is also considering increasing its investment from $20 billion to $100 billion.\"\n",
                        "          }\n",
                        "        ],\n",
                        "        \"record_id\": \"d7df0dfb-9903-4839-9ab5-a165b6a7ab4a\"\n",
                        "      },\n",
                        "      {\n",
                        "        \"faithfulness\": 0.9956,\n",
                        "        \"faithfulness_attributions\": [\n",
                        "          {\n",
                        "            \"attributions\": [\n",
                        "              {\n",
                        "                \"faithfulness_scores\": [\n",
                        "                  0.9956,\n",
                        "                  0.9944\n",
                        "                ],\n",
                        "                \"feature_name\": \"context1\",\n",
                        "                \"feature_values\": [\n",
                        "                  \"All told, we created 369,000 new manufacturing jobs in America just last year. \\n\\nPowered by people I\\u2019ve met like JoJo Burgess, from generations of union steelworkers from Pittsburgh, who\\u2019s here with us tonight.\",\n",
                        "                  \"GM is making the largest investment in its history\\u2014$7 billion to build electric vehicles, creating 4,000 jobs in Michigan. \\n\\nAll told, we created 369,000 new manufacturing jobs in America just last year.\"\n",
                        "                ]\n",
                        "              },\n",
                        "              {\n",
                        "                \"faithfulness_scores\": [\n",
                        "                  0.0217\n",
                        "                ],\n",
                        "                \"feature_name\": \"context3\",\n",
                        "                \"feature_values\": [\n",
                        "                  \"Let me give you one example of why it\\u2019s so important to pass it.\"\n",
                        "                ]\n",
                        "              },\n",
                        "              {\n",
                        "                \"faithfulness_scores\": [\n",
                        "                  0.0217\n",
                        "                ],\n",
                        "                \"feature_name\": \"context4\",\n",
                        "                \"feature_values\": [\n",
                        "                  \"As Ohio Senator Sherrod Brown says, \\u201cIt\\u2019s time to bury the label \\u201cRust Belt.\\u201d \\n\\nIt\\u2019s time.\"\n",
                        "                ]\n",
                        "              }\n",
                        "            ],\n",
                        "            \"faithfulness_score\": 0.9956,\n",
                        "            \"output_text\": \"  369,000 new manufacturing jobs were created in America last year.\"\n",
                        "          }\n",
                        "        ],\n",
                        "        \"record_id\": \"a4ae306e-37a2-46b5-8e6a-bc53ac73eb1a\"\n",
                        "      },\n",
                        "      {\n",
                        "        \"faithfulness\": 0.0436,\n",
                        "        \"faithfulness_attributions\": [\n",
                        "          {\n",
                        "            \"attributions\": [\n",
                        "              {\n",
                        "                \"faithfulness_scores\": [\n",
                        "                  0.0067\n",
                        "                ],\n",
                        "                \"feature_name\": \"context2\",\n",
                        "                \"feature_values\": [\n",
                        "                  \"It won\\u2019t look like much, but if you stop and look closely, you\\u2019ll see a \\u201cField of dreams,\\u201d the ground on which America\\u2019s future will be built. \\n\\nThis is where Intel, the American company that helped build Silicon Valley, is going to build its $20 billion semiconductor \\u201cmega site\\u201d.\"\n",
                        "                ]\n",
                        "              },\n",
                        "              {\n",
                        "                \"faithfulness_scores\": [\n",
                        "                  0.0681,\n",
                        "                  0.0478\n",
                        "                ],\n",
                        "                \"feature_name\": \"context3\",\n",
                        "                \"feature_values\": [\n",
                        "                  \"And we\\u2019ll do it all to withstand the devastating effects of the climate crisis and promote environmental justice. \\n\\nWe\\u2019ll build a national network of 500,000 electric vehicle charging stations, begin to replace poisonous lead pipes\\u2014so every child\\u2014and every American\\u2014has clean water to drink at home and at school, provide affordable high-speed internet for every American\\u2014urban, suburban, rural, and tribal communities.\",\n",
                        "                  \"We\\u2019ll build a national network of 500,000 electric vehicle charging stations, begin to replace poisonous lead pipes\\u2014so every child\\u2014and every American\\u2014has clean water to drink at home and at school, provide affordable high-speed internet for every American\\u2014urban, suburban, rural, and tribal communities. \\n\\n4,000 projects have already been announced.\"\n",
                        "                ]\n",
                        "              }\n",
                        "            ],\n",
                        "            \"faithfulness_score\": 0.0681,\n",
                        "            \"output_text\": \"  The text does not provide specific information on the number of electric vehicle charging stations built.\"\n",
                        "          },\n",
                        "          {\n",
                        "            \"attributions\": [\n",
                        "              {\n",
                        "                \"faithfulness_scores\": [\n",
                        "                  0.0192,\n",
                        "                  0.0044\n",
                        "                ],\n",
                        "                \"feature_name\": \"context3\",\n",
                        "                \"feature_values\": [\n",
                        "                  \"And we\\u2019ll do it all to withstand the devastating effects of the climate crisis and promote environmental justice. \\n\\nWe\\u2019ll build a national network of 500,000 electric vehicle charging stations, begin to replace poisonous lead pipes\\u2014so every child\\u2014and every American\\u2014has clean water to drink at home and at school, provide affordable high-speed internet for every American\\u2014urban, suburban, rural, and tribal communities.\",\n",
                        "                  \"We\\u2019ll build a national network of 500,000 electric vehicle charging stations, begin to replace poisonous lead pipes\\u2014so every child\\u2014and every American\\u2014has clean water to drink at home and at school, provide affordable high-speed internet for every American\\u2014urban, suburban, rural, and tribal communities. \\n\\n4,000 projects have already been announced.\"\n",
                        "                ]\n",
                        "              },\n",
                        "              {\n",
                        "                \"faithfulness_scores\": [\n",
                        "                  0.0092\n",
                        "                ],\n",
                        "                \"feature_name\": \"context4\",\n",
                        "                \"feature_values\": [\n",
                        "                  \"Grow the workforce. Build the economy from the bottom up  \\nand the middle out, not from the top down.\"\n",
                        "                ]\n",
                        "              }\n",
                        "            ],\n",
                        "            \"faithfulness_score\": 0.0192,\n",
                        "            \"output_text\": \"It mentions the plan to build a national network of 500,000 electric vehicle charging stations, but it does not state how many have been built so far.\"\n",
                        "          }\n",
                        "        ],\n",
                        "        \"record_id\": \"90ab3503-6ef1-49a9-868b-cd65c24c6a85\"\n",
                        "      }\n",
                        "    ]\n",
                        "  },\n",
                        "  \"retrieval_quality\": {\n",
                        "    \"average_precision\": {\n",
                        "      \"max\": 1.0,\n",
                        "      \"mean\": 0.5,\n",
                        "      \"metric_value\": 0.5,\n",
                        "      \"min\": 0.0\n",
                        "    },\n",
                        "    \"total_records\": 6,\n",
                        "    \"context_relevance\": {\n",
                        "      \"max\": 0.9029,\n",
                        "      \"mean\": 0.6297,\n",
                        "      \"metric_value\": 0.6297,\n",
                        "      \"min\": 0.2083\n",
                        "    },\n",
                        "    \"hit_rate\": {\n",
                        "      \"max\": 1,\n",
                        "      \"mean\": 0.5,\n",
                        "      \"metric_value\": 0.5,\n",
                        "      \"min\": 0\n",
                        "    },\n",
                        "    \"ndcg\": {\n",
                        "      \"max\": 1.0,\n",
                        "      \"mean\": 0.9394,\n",
                        "      \"metric_value\": 0.9394,\n",
                        "      \"min\": 0.6455\n",
                        "    },\n",
                        "    \"reciprocal_rank\": {\n",
                        "      \"max\": 1.0,\n",
                        "      \"mean\": 0.5,\n",
                        "      \"metric_value\": 0.5,\n",
                        "      \"min\": 0.0\n",
                        "    },\n",
                        "    \"retrieval_precision\": {\n",
                        "      \"max\": 0.25,\n",
                        "      \"mean\": 0.125,\n",
                        "      \"metric_value\": 0.125,\n",
                        "      \"min\": 0.0\n",
                        "    },\n",
                        "    \"record_level_metrics\": [\n",
                        "      {\n",
                        "        \"average_precision\": 1.0,\n",
                        "        \"context_relevance\": 0.879,\n",
                        "        \"context_relevances\": {\n",
                        "          \"context_columns\": [\n",
                        "            \"context1\",\n",
                        "            \"context2\",\n",
                        "            \"context3\",\n",
                        "            \"context4\"\n",
                        "          ],\n",
                        "          \"context_relevances\": [\n",
                        "            0.879,\n",
                        "            0.5956,\n",
                        "            0.7031,\n",
                        "            0.6499\n",
                        "          ]\n",
                        "        },\n",
                        "        \"hit_rate\": 1,\n",
                        "        \"ndcg\": 0.9924,\n",
                        "        \"reciprocal_rank\": 1.0,\n",
                        "        \"record_id\": \"7363b39d-4637-473f-99d7-6ba111c4ff99\",\n",
                        "        \"retrieval_precision\": 0.25\n",
                        "      },\n",
                        "      {\n",
                        "        \"average_precision\": 0,\n",
                        "        \"context_relevance\": 0.2083,\n",
                        "        \"context_relevances\": {\n",
                        "          \"context_columns\": [\n",
                        "            \"context1\",\n",
                        "            \"context2\",\n",
                        "            \"context3\",\n",
                        "            \"context4\"\n",
                        "          ],\n",
                        "          \"context_relevances\": [\n",
                        "            0.2083,\n",
                        "            0.0703,\n",
                        "            0.034,\n",
                        "            0.027\n",
                        "          ]\n",
                        "        },\n",
                        "        \"hit_rate\": 0,\n",
                        "        \"ndcg\": 1.0,\n",
                        "        \"reciprocal_rank\": 0,\n",
                        "        \"record_id\": \"71d5a76b-8991-4798-9329-580b9f5b6b27\",\n",
                        "        \"retrieval_precision\": 0.0\n",
                        "      },\n",
                        "      {\n",
                        "        \"average_precision\": 0,\n",
                        "        \"context_relevance\": 0.246,\n",
                        "        \"context_relevances\": {\n",
                        "          \"context_columns\": [\n",
                        "            \"context1\",\n",
                        "            \"context2\",\n",
                        "            \"context3\",\n",
                        "            \"context4\"\n",
                        "          ],\n",
                        "          \"context_relevances\": [\n",
                        "            0.246,\n",
                        "            0.014,\n",
                        "            0.0056,\n",
                        "            0.0082\n",
                        "          ]\n",
                        "        },\n",
                        "        \"hit_rate\": 0,\n",
                        "        \"ndcg\": 0.9993,\n",
                        "        \"reciprocal_rank\": 0,\n",
                        "        \"record_id\": \"e93fa978-413e-4cf9-919f-c5befbba184f\",\n",
                        "        \"retrieval_precision\": 0.0\n",
                        "      },\n",
                        "      {\n",
                        "        \"average_precision\": 1.0,\n",
                        "        \"context_relevance\": 0.9029,\n",
                        "        \"context_relevances\": {\n",
                        "          \"context_columns\": [\n",
                        "            \"context1\",\n",
                        "            \"context2\",\n",
                        "            \"context3\",\n",
                        "            \"context4\"\n",
                        "          ],\n",
                        "          \"context_relevances\": [\n",
                        "            0.9029,\n",
                        "            0.6386,\n",
                        "            0.2736,\n",
                        "            0.2069\n",
                        "          ]\n",
                        "        },\n",
                        "        \"hit_rate\": 1,\n",
                        "        \"ndcg\": 1.0,\n",
                        "        \"reciprocal_rank\": 1.0,\n",
                        "        \"record_id\": \"d7df0dfb-9903-4839-9ab5-a165b6a7ab4a\",\n",
                        "        \"retrieval_precision\": 0.25\n",
                        "      },\n",
                        "      {\n",
                        "        \"average_precision\": 1.0,\n",
                        "        \"context_relevance\": 0.8468,\n",
                        "        \"context_relevances\": {\n",
                        "          \"context_columns\": [\n",
                        "            \"context1\",\n",
                        "            \"context2\",\n",
                        "            \"context3\",\n",
                        "            \"context4\"\n",
                        "          ],\n",
                        "          \"context_relevances\": [\n",
                        "            0.8468,\n",
                        "            0.1428,\n",
                        "            0.0495,\n",
                        "            0.0595\n",
                        "          ]\n",
                        "        },\n",
                        "        \"hit_rate\": 1,\n",
                        "        \"ndcg\": 0.9993,\n",
                        "        \"reciprocal_rank\": 1.0,\n",
                        "        \"record_id\": \"a4ae306e-37a2-46b5-8e6a-bc53ac73eb1a\",\n",
                        "        \"retrieval_precision\": 0.25\n",
                        "      },\n",
                        "      {\n",
                        "        \"average_precision\": 0,\n",
                        "        \"context_relevance\": 0.6952,\n",
                        "        \"context_relevances\": {\n",
                        "          \"context_columns\": [\n",
                        "            \"context1\",\n",
                        "            \"context2\",\n",
                        "            \"context3\",\n",
                        "            \"context4\"\n",
                        "          ],\n",
                        "          \"context_relevances\": [\n",
                        "            0.0516,\n",
                        "            0.0066,\n",
                        "            0.6952,\n",
                        "            0.0058\n",
                        "          ]\n",
                        "        },\n",
                        "        \"hit_rate\": 0,\n",
                        "        \"ndcg\": 0.6455,\n",
                        "        \"reciprocal_rank\": 0,\n",
                        "        \"record_id\": \"90ab3503-6ef1-49a9-868b-cd65c24c6a85\",\n",
                        "        \"retrieval_precision\": 0.0\n",
                        "      }\n",
                        "    ]\n",
                        "  },\n",
                        "  \"content_analysis\": {\n",
                        "    \"record_level_metrics\": [\n",
                        "      {\n",
                        "        \"record_id\": \"d6664051-0fc1-4f3e-bc49-1734da10bd58\",\n",
                        "        \"coverage\": 0.3611,\n",
                        "        \"density\": 0.0542,\n",
                        "        \"abstractness\": 0.2222\n",
                        "      },\n",
                        "      {\n",
                        "        \"record_id\": \"cb4a612f-f69a-4aff-a204-f5a980dfc14f\",\n",
                        "        \"coverage\": 0.272,\n",
                        "        \"density\": 1.0,\n",
                        "        \"abstractness\": 0.0294\n",
                        "      },\n",
                        "      {\n",
                        "        \"record_id\": \"6173fb9c-15fe-4e71-aca8-5c5416be122c\",\n",
                        "        \"coverage\": 0.1512,\n",
                        "        \"density\": 0.24,\n",
                        "        \"abstractness\": 0.125\n",
                        "      },\n",
                        "      {\n",
                        "        \"record_id\": \"21fb1989-a812-4bc9-ad72-51671e35494a\",\n",
                        "        \"coverage\": 0.3377,\n",
                        "        \"density\": 0.0626,\n",
                        "        \"abstractness\": 0.2157\n",
                        "      },\n",
                        "      {\n",
                        "        \"record_id\": \"c5c19645-80d9-426b-b4cb-c0c3432a62e5\",\n",
                        "        \"coverage\": 0.1138,\n",
                        "        \"density\": 0.2479,\n",
                        "        \"abstractness\": 0.1\n",
                        "      },\n",
                        "      {\n",
                        "        \"record_id\": \"de23dd74-cb88-4771-a0b9-6b011709dd37\",\n",
                        "        \"coverage\": 0.2743,\n",
                        "        \"density\": 0.0662,\n",
                        "        \"abstractness\": 0.2558\n",
                        "      }\n",
                        "    ],\n",
                        "    \"coverage\": {\n",
                        "      \"metric_value\": 0.2517,\n",
                        "      \"mean\": 0.2517,\n",
                        "      \"min\": 0.1138,\n",
                        "      \"max\": 0.3611,\n",
                        "      \"std\": 0.0907\n",
                        "    },\n",
                        "    \"density\": {\n",
                        "      \"metric_value\": 0.2785,\n",
                        "      \"mean\": 0.2785,\n",
                        "      \"min\": 0.0542,\n",
                        "      \"max\": 1.0,\n",
                        "      \"std\": 0.3329\n",
                        "    },\n",
                        "    \"abstractness\": {\n",
                        "      \"metric_value\": 0.158,\n",
                        "      \"mean\": 0.158,\n",
                        "      \"min\": 0.0294,\n",
                        "      \"max\": 0.2558,\n",
                        "      \"std\": 0.0796\n",
                        "    }\n",
                        "  },\n",
                        "  \"unsuccessful_requests\": {\n",
                        "    \"record_level_metrics\": [\n",
                        "      {\n",
                        "        \"record_id\": \"d6664051-0fc1-4f3e-bc49-1734da10bd58\",\n",
                        "        \"unsuccessful_requests\": 0\n",
                        "      },\n",
                        "      {\n",
                        "        \"record_id\": \"cb4a612f-f69a-4aff-a204-f5a980dfc14f\",\n",
                        "        \"unsuccessful_requests\": 0\n",
                        "      },\n",
                        "      {\n",
                        "        \"record_id\": \"6173fb9c-15fe-4e71-aca8-5c5416be122c\",\n",
                        "        \"unsuccessful_requests\": 0\n",
                        "      },\n",
                        "      {\n",
                        "        \"record_id\": \"21fb1989-a812-4bc9-ad72-51671e35494a\",\n",
                        "        \"unsuccessful_requests\": 0\n",
                        "      },\n",
                        "      {\n",
                        "        \"record_id\": \"c5c19645-80d9-426b-b4cb-c0c3432a62e5\",\n",
                        "        \"unsuccessful_requests\": 0\n",
                        "      },\n",
                        "      {\n",
                        "        \"record_id\": \"de23dd74-cb88-4771-a0b9-6b011709dd37\",\n",
                        "        \"unsuccessful_requests\": 0\n",
                        "      }\n",
                        "    ],\n",
                        "    \"metric_value\": 0.0,\n",
                        "    \"mean\": 0.0,\n",
                        "    \"min\": 0,\n",
                        "    \"max\": 0,\n",
                        "    \"std\": 0.0\n",
                        "  }\n",
                        "}\n"
                    ]
                }
            ],
            "source": [
                "final_results = client.llm_metrics.get_metrics_result(configuration=config_json, metrics_result=metrics_result)\n",
                "print(json.dumps(final_results, indent=2))"
            ]
        },
        {
            "cell_type": "markdown",
            "id": "f32268ba-56ec-43d6-a91d-97c9d59105b5",
            "metadata": {
                "id": "c12617f1-1ac8-4b97-88f8-ffd9291e5cdb"
            },
            "source": [
                "## Step 7 - Display the results <a id=\"results\"></a>"
            ]
        },
        {
            "cell_type": "markdown",
            "id": "42dca741-bc78-4550-a5e7-cd33e068e562",
            "metadata": {
                "id": "c34bbc12-094e-421b-9541-41e94b49c1c2"
            },
            "source": [
                "### Get metric results for all records"
            ]
        },
        {
            "cell_type": "code",
            "execution_count": 20,
            "id": "6aafc7a1",
            "metadata": {
                "id": "00a59c5b-c4d9-4b92-b22b-b10ebeae097c"
            },
            "outputs": [
                {
                    "data": {
                        "text/html": [
                            "<div>\n",
                            "<style scoped>\n",
                            "    .dataframe tbody tr th:only-of-type {\n",
                            "        vertical-align: middle;\n",
                            "    }\n",
                            "\n",
                            "    .dataframe tbody tr th {\n",
                            "        vertical-align: top;\n",
                            "    }\n",
                            "\n",
                            "    .dataframe thead th {\n",
                            "        text-align: right;\n",
                            "    }\n",
                            "</style>\n",
                            "<table border=\"1\" class=\"dataframe\">\n",
                            "  <thead>\n",
                            "    <tr style=\"text-align: right;\">\n",
                            "      <th></th>\n",
                            "      <th>context1</th>\n",
                            "      <th>context2</th>\n",
                            "      <th>context3</th>\n",
                            "      <th>context4</th>\n",
                            "      <th>question</th>\n",
                            "      <th>answer</th>\n",
                            "      <th>answer_relevance</th>\n",
                            "      <th>faithfulness</th>\n",
                            "      <th>average_precision</th>\n",
                            "      <th>context_relevance</th>\n",
                            "      <th>hit_rate</th>\n",
                            "      <th>ndcg</th>\n",
                            "      <th>reciprocal_rank</th>\n",
                            "      <th>retrieval_precision</th>\n",
                            "      <th>coverage</th>\n",
                            "      <th>density</th>\n",
                            "      <th>abstractness</th>\n",
                            "      <th>unsuccessful_requests</th>\n",
                            "    </tr>\n",
                            "  </thead>\n",
                            "  <tbody>\n",
                            "    <tr>\n",
                            "      <th>0</th>\n",
                            "      <td>Last month, I announced our plan to supercharg...</td>\n",
                            "      <td>For that purpose we’ve mobilized American grou...</td>\n",
                            "      <td>But cancer from prolonged exposure to burn pit...</td>\n",
                            "      <td>And let’s pass the PRO Act when a majority of ...</td>\n",
                            "      <td>What is ARPA-H?</td>\n",
                            "      <td>\\n\\nARPA-H, or the Advanced Research Projects ...</td>\n",
                            "      <td>0.7459</td>\n",
                            "      <td>0.7238</td>\n",
                            "      <td>1.0</td>\n",
                            "      <td>0.8790</td>\n",
                            "      <td>1</td>\n",
                            "      <td>0.9924</td>\n",
                            "      <td>1.0</td>\n",
                            "      <td>0.25</td>\n",
                            "      <td>0.3611</td>\n",
                            "      <td>0.0542</td>\n",
                            "      <td>0.2222</td>\n",
                            "      <td>0</td>\n",
                            "    </tr>\n",
                            "    <tr>\n",
                            "      <th>1</th>\n",
                            "      <td>So let’s not wait any longer. Send it to my de...</td>\n",
                            "      <td>If you travel 20 miles east of Columbus, Ohio,...</td>\n",
                            "      <td>When we use taxpayer dollars to rebuild Americ...</td>\n",
                            "      <td>It is going to transform America and put us on...</td>\n",
                            "      <td>What is the investment of Ford and GM to build...</td>\n",
                            "      <td>\\n\\nFord is investing $11 billion to build ele...</td>\n",
                            "      <td>0.9846</td>\n",
                            "      <td>0.9937</td>\n",
                            "      <td>0.0</td>\n",
                            "      <td>0.2083</td>\n",
                            "      <td>0</td>\n",
                            "      <td>1.0000</td>\n",
                            "      <td>0.0</td>\n",
                            "      <td>0.00</td>\n",
                            "      <td>0.2720</td>\n",
                            "      <td>1.0000</td>\n",
                            "      <td>0.0294</td>\n",
                            "      <td>0</td>\n",
                            "    </tr>\n",
                            "    <tr>\n",
                            "      <th>2</th>\n",
                            "      <td>My plan will cut the cost in half for most fam...</td>\n",
                            "      <td>We got more than 130 countries to agree on a g...</td>\n",
                            "      <td>And unlike the $2 Trillion tax cut passed in t...</td>\n",
                            "      <td>We’re going after the criminals who stole bill...</td>\n",
                            "      <td>What is the proposed tax rate for corporations?</td>\n",
                            "      <td>\\n\\nThe proposed tax rate for corporations is ...</td>\n",
                            "      <td>0.9951</td>\n",
                            "      <td>0.9930</td>\n",
                            "      <td>0.0</td>\n",
                            "      <td>0.2460</td>\n",
                            "      <td>0</td>\n",
                            "      <td>0.9993</td>\n",
                            "      <td>0.0</td>\n",
                            "      <td>0.00</td>\n",
                            "      <td>0.1512</td>\n",
                            "      <td>0.2400</td>\n",
                            "      <td>0.1250</td>\n",
                            "      <td>0</td>\n",
                            "    </tr>\n",
                            "    <tr>\n",
                            "      <th>3</th>\n",
                            "      <td>If you travel 20 miles east of Columbus, Ohio,...</td>\n",
                            "      <td>So let’s not wait any longer. Send it to my de...</td>\n",
                            "      <td>When we use taxpayer dollars to rebuild Americ...</td>\n",
                            "      <td>It is going to transform America and put us on...</td>\n",
                            "      <td>What is Intel going to build?</td>\n",
                            "      <td>\\n\\nIntel is going to build up to eight state-...</td>\n",
                            "      <td>0.9849</td>\n",
                            "      <td>0.6467</td>\n",
                            "      <td>1.0</td>\n",
                            "      <td>0.9029</td>\n",
                            "      <td>1</td>\n",
                            "      <td>1.0000</td>\n",
                            "      <td>1.0</td>\n",
                            "      <td>0.25</td>\n",
                            "      <td>0.3377</td>\n",
                            "      <td>0.0626</td>\n",
                            "      <td>0.2157</td>\n",
                            "      <td>0</td>\n",
                            "    </tr>\n",
                            "    <tr>\n",
                            "      <th>4</th>\n",
                            "      <td>So let’s not wait any longer. Send it to my de...</td>\n",
                            "      <td>If you travel 20 miles east of Columbus, Ohio,...</td>\n",
                            "      <td>When we use taxpayer dollars to rebuild Americ...</td>\n",
                            "      <td>As Ohio Senator Sherrod Brown says, “It’s time...</td>\n",
                            "      <td>How many new manufacturing jobs are created la...</td>\n",
                            "      <td>\\n\\n369,000 new manufacturing jobs were create...</td>\n",
                            "      <td>0.9955</td>\n",
                            "      <td>0.9956</td>\n",
                            "      <td>1.0</td>\n",
                            "      <td>0.8468</td>\n",
                            "      <td>1</td>\n",
                            "      <td>0.9993</td>\n",
                            "      <td>1.0</td>\n",
                            "      <td>0.25</td>\n",
                            "      <td>0.1138</td>\n",
                            "      <td>0.2479</td>\n",
                            "      <td>0.1000</td>\n",
                            "      <td>0</td>\n",
                            "    </tr>\n",
                            "    <tr>\n",
                            "      <th>5</th>\n",
                            "      <td>So let’s not wait any longer. Send it to my de...</td>\n",
                            "      <td>If you travel 20 miles east of Columbus, Ohio,...</td>\n",
                            "      <td>It is going to transform America and put us on...</td>\n",
                            "      <td>Vice President Harris and I ran for office wit...</td>\n",
                            "      <td>How many electric vehicle charging stations ar...</td>\n",
                            "      <td>\\n\\nThe text does not provide specific informa...</td>\n",
                            "      <td>0.9920</td>\n",
                            "      <td>0.0436</td>\n",
                            "      <td>0.0</td>\n",
                            "      <td>0.6952</td>\n",
                            "      <td>0</td>\n",
                            "      <td>0.6455</td>\n",
                            "      <td>0.0</td>\n",
                            "      <td>0.00</td>\n",
                            "      <td>0.2743</td>\n",
                            "      <td>0.0662</td>\n",
                            "      <td>0.2558</td>\n",
                            "      <td>0</td>\n",
                            "    </tr>\n",
                            "  </tbody>\n",
                            "</table>\n",
                            "</div>"
                        ],
                        "text/plain": [
                            "                                            context1  \\\n",
                            "0  Last month, I announced our plan to supercharg...   \n",
                            "1  So let’s not wait any longer. Send it to my de...   \n",
                            "2  My plan will cut the cost in half for most fam...   \n",
                            "3  If you travel 20 miles east of Columbus, Ohio,...   \n",
                            "4  So let’s not wait any longer. Send it to my de...   \n",
                            "5  So let’s not wait any longer. Send it to my de...   \n",
                            "\n",
                            "                                            context2  \\\n",
                            "0  For that purpose we’ve mobilized American grou...   \n",
                            "1  If you travel 20 miles east of Columbus, Ohio,...   \n",
                            "2  We got more than 130 countries to agree on a g...   \n",
                            "3  So let’s not wait any longer. Send it to my de...   \n",
                            "4  If you travel 20 miles east of Columbus, Ohio,...   \n",
                            "5  If you travel 20 miles east of Columbus, Ohio,...   \n",
                            "\n",
                            "                                            context3  \\\n",
                            "0  But cancer from prolonged exposure to burn pit...   \n",
                            "1  When we use taxpayer dollars to rebuild Americ...   \n",
                            "2  And unlike the $2 Trillion tax cut passed in t...   \n",
                            "3  When we use taxpayer dollars to rebuild Americ...   \n",
                            "4  When we use taxpayer dollars to rebuild Americ...   \n",
                            "5  It is going to transform America and put us on...   \n",
                            "\n",
                            "                                            context4  \\\n",
                            "0  And let’s pass the PRO Act when a majority of ...   \n",
                            "1  It is going to transform America and put us on...   \n",
                            "2  We’re going after the criminals who stole bill...   \n",
                            "3  It is going to transform America and put us on...   \n",
                            "4  As Ohio Senator Sherrod Brown says, “It’s time...   \n",
                            "5  Vice President Harris and I ran for office wit...   \n",
                            "\n",
                            "                                            question  \\\n",
                            "0                                    What is ARPA-H?   \n",
                            "1  What is the investment of Ford and GM to build...   \n",
                            "2    What is the proposed tax rate for corporations?   \n",
                            "3                      What is Intel going to build?   \n",
                            "4  How many new manufacturing jobs are created la...   \n",
                            "5  How many electric vehicle charging stations ar...   \n",
                            "\n",
                            "                                              answer  answer_relevance  \\\n",
                            "0  \\n\\nARPA-H, or the Advanced Research Projects ...            0.7459   \n",
                            "1  \\n\\nFord is investing $11 billion to build ele...            0.9846   \n",
                            "2  \\n\\nThe proposed tax rate for corporations is ...            0.9951   \n",
                            "3  \\n\\nIntel is going to build up to eight state-...            0.9849   \n",
                            "4  \\n\\n369,000 new manufacturing jobs were create...            0.9955   \n",
                            "5  \\n\\nThe text does not provide specific informa...            0.9920   \n",
                            "\n",
                            "   faithfulness  average_precision  context_relevance  hit_rate    ndcg  \\\n",
                            "0        0.7238                1.0             0.8790         1  0.9924   \n",
                            "1        0.9937                0.0             0.2083         0  1.0000   \n",
                            "2        0.9930                0.0             0.2460         0  0.9993   \n",
                            "3        0.6467                1.0             0.9029         1  1.0000   \n",
                            "4        0.9956                1.0             0.8468         1  0.9993   \n",
                            "5        0.0436                0.0             0.6952         0  0.6455   \n",
                            "\n",
                            "   reciprocal_rank  retrieval_precision  coverage  density  abstractness  \\\n",
                            "0              1.0                 0.25    0.3611   0.0542        0.2222   \n",
                            "1              0.0                 0.00    0.2720   1.0000        0.0294   \n",
                            "2              0.0                 0.00    0.1512   0.2400        0.1250   \n",
                            "3              1.0                 0.25    0.3377   0.0626        0.2157   \n",
                            "4              1.0                 0.25    0.1138   0.2479        0.1000   \n",
                            "5              0.0                 0.00    0.2743   0.0662        0.2558   \n",
                            "\n",
                            "   unsuccessful_requests  \n",
                            "0                      0  \n",
                            "1                      0  \n",
                            "2                      0  \n",
                            "3                      0  \n",
                            "4                      0  \n",
                            "5                      0  "
                        ]
                    },
                    "execution_count": 20,
                    "metadata": {},
                    "output_type": "execute_result"
                }
            ],
            "source": [
                "results_df = data.copy()\n",
                "\n",
                "for metric_name, metric_data in final_results.items():\n",
                "    vals = {}\n",
                "    if \"record_level_metrics\" in metric_data:\n",
                "        for rm in metric_data[\"record_level_metrics\"]:\n",
                "            for m, mv in rm.items():\n",
                "                if m != \"record_id\" and m!= \"faithfulness_attributions\" and m!= \"context_relevances\":  # Excluding columns\n",
                "                    if m in vals:\n",
                "                        vals[m].append(mv)\n",
                "                    else:\n",
                "                        vals[m] = [mv]\n",
                "\n",
                "    if vals:\n",
                "        for k, v in vals.items():\n",
                "            results_df[k] = v\n",
                "\n",
                "results_df"
            ]
        },
        {
            "cell_type": "markdown",
            "id": "638f295c-4bb0-489b-b55e-204d44cc34c3",
            "metadata": {
                "id": "7b1a5459-75ce-4db0-aead-e8ed4f9497ec"
            },
            "source": [
                "### Show attributions for the first record\n",
                "\n",
                "Attributions are the most important sentences in the context that contributed to the faithfulness score."
            ]
        },
        {
            "cell_type": "code",
            "execution_count": 21,
            "id": "79d7329c-5f8b-427b-9236-28fb795fb350",
            "metadata": {
                "id": "465f9eea-840a-4fad-9722-0a3b642519d0"
            },
            "outputs": [
                {
                    "name": "stdout",
                    "output_type": "stream",
                    "text": [
                        "Question: What is ARPA-H?\n",
                        "Answer: \n",
                        "\n",
                        "ARPA-H, or the Advanced Research Projects Agency for Health, is a proposed agency that would be based on DARPA, the Defense Department project that led to the Internet, GPS, and other technologies. ARPA-H would have a singular purpose of driving breakthroughs in cancer, Alzheimer's, diabetes, and other diseases. The speaker of the text is calling on Congress to fund ARPA-H as part of\n",
                        "Attributions: \n"
                    ]
                },
                {
                    "data": {
                        "text/html": [
                            "<div>\n",
                            "<style scoped>\n",
                            "    .dataframe tbody tr th:only-of-type {\n",
                            "        vertical-align: middle;\n",
                            "    }\n",
                            "\n",
                            "    .dataframe tbody tr th {\n",
                            "        vertical-align: top;\n",
                            "    }\n",
                            "\n",
                            "    .dataframe thead th {\n",
                            "        text-align: right;\n",
                            "    }\n",
                            "</style>\n",
                            "<table border=\"1\" class=\"dataframe\">\n",
                            "  <thead>\n",
                            "    <tr style=\"text-align: right;\">\n",
                            "      <th></th>\n",
                            "      <th>faithfulness attribution</th>\n",
                            "      <th>attribution score</th>\n",
                            "    </tr>\n",
                            "  </thead>\n",
                            "  <tbody>\n",
                            "    <tr>\n",
                            "      <th>3</th>\n",
                            "      <td>It’s based on DARPA—the Defense Department project that led to the Internet, GPS, and so much more.  \\n\\nARPA-H will have a singular purpose—to drive breakthroughs in cancer, Alzheimer’s, diabetes, and more.</td>\n",
                            "      <td>0.9778</td>\n",
                            "    </tr>\n",
                            "    <tr>\n",
                            "      <th>4</th>\n",
                            "      <td>ARPA-H will have a singular purpose—to drive breakthroughs in cancer, Alzheimer’s, diabetes, and more. \\n\\nA unity agenda for the nation.</td>\n",
                            "      <td>0.9414</td>\n",
                            "    </tr>\n",
                            "    <tr>\n",
                            "      <th>0</th>\n",
                            "      <td>To get there, I call on Congress to fund ARPA-H, the Advanced Research Projects Agency for Health. \\n\\nIt’s based on DARPA—the Defense Department project that led to the Internet, GPS, and so much more.</td>\n",
                            "      <td>0.9272</td>\n",
                            "    </tr>\n",
                            "    <tr>\n",
                            "      <th>1</th>\n",
                            "      <td>It’s based on DARPA—the Defense Department project that led to the Internet, GPS, and so much more.  \\n\\nARPA-H will have a singular purpose—to drive breakthroughs in cancer, Alzheimer’s, diabetes, and more.</td>\n",
                            "      <td>0.7358</td>\n",
                            "    </tr>\n",
                            "    <tr>\n",
                            "      <th>6</th>\n",
                            "      <td>To get there, I call on Congress to fund ARPA-H, the Advanced Research Projects Agency for Health. \\n\\nIt’s based on DARPA—the Defense Department project that led to the Internet, GPS, and so much more.</td>\n",
                            "      <td>0.2666</td>\n",
                            "    </tr>\n",
                            "    <tr>\n",
                            "      <th>7</th>\n",
                            "      <td>More support for patients and families. \\n\\nTo get there, I call on Congress to fund ARPA-H, the Advanced Research Projects Agency for Health.</td>\n",
                            "      <td>0.0742</td>\n",
                            "    </tr>\n",
                            "    <tr>\n",
                            "      <th>8</th>\n",
                            "      <td>Through her pain she found purpose to demand we do better. \\n\\nTonight, Danielle—we are.</td>\n",
                            "      <td>0.0040</td>\n",
                            "    </tr>\n",
                            "    <tr>\n",
                            "      <th>2</th>\n",
                            "      <td>When we invest in our workers, when we build the economy from the bottom up and the middle out together, we can do something we haven’t done in a long time: build a better America. \\n\\nFor more than two years, COVID-19 has impacted every decision in our lives and the life of the nation.</td>\n",
                            "      <td>0.0028</td>\n",
                            "    </tr>\n",
                            "    <tr>\n",
                            "      <th>5</th>\n",
                            "      <td>My fellow Americans—tonight , we have gathered in a sacred space—the citadel of our democracy. \\n\\nIn this Capitol, generation after generation, Americans have debated great questions amid great strife, and have done great things.</td>\n",
                            "      <td>0.0026</td>\n",
                            "    </tr>\n",
                            "  </tbody>\n",
                            "</table>\n",
                            "</div>"
                        ],
                        "text/plain": [
                            "                                                                                                                                                                                                                                                                          faithfulness attribution  \\\n",
                            "3  It’s based on DARPA—the Defense Department project that led to the Internet, GPS, and so much more.  \\n\\nARPA-H will have a singular purpose—to drive breakthroughs in cancer, Alzheimer’s, diabetes, and more.                                                                                   \n",
                            "4  ARPA-H will have a singular purpose—to drive breakthroughs in cancer, Alzheimer’s, diabetes, and more. \\n\\nA unity agenda for the nation.                                                                                                                                                         \n",
                            "0  To get there, I call on Congress to fund ARPA-H, the Advanced Research Projects Agency for Health. \\n\\nIt’s based on DARPA—the Defense Department project that led to the Internet, GPS, and so much more.                                                                                        \n",
                            "1  It’s based on DARPA—the Defense Department project that led to the Internet, GPS, and so much more.  \\n\\nARPA-H will have a singular purpose—to drive breakthroughs in cancer, Alzheimer’s, diabetes, and more.                                                                                   \n",
                            "6  To get there, I call on Congress to fund ARPA-H, the Advanced Research Projects Agency for Health. \\n\\nIt’s based on DARPA—the Defense Department project that led to the Internet, GPS, and so much more.                                                                                        \n",
                            "7  More support for patients and families. \\n\\nTo get there, I call on Congress to fund ARPA-H, the Advanced Research Projects Agency for Health.                                                                                                                                                    \n",
                            "8  Through her pain she found purpose to demand we do better. \\n\\nTonight, Danielle—we are.                                                                                                                                                                                                          \n",
                            "2  When we invest in our workers, when we build the economy from the bottom up and the middle out together, we can do something we haven’t done in a long time: build a better America. \\n\\nFor more than two years, COVID-19 has impacted every decision in our lives and the life of the nation.   \n",
                            "5  My fellow Americans—tonight , we have gathered in a sacred space—the citadel of our democracy. \\n\\nIn this Capitol, generation after generation, Americans have debated great questions amid great strife, and have done great things.                                                            \n",
                            "\n",
                            "   attribution score  \n",
                            "3  0.9778             \n",
                            "4  0.9414             \n",
                            "0  0.9272             \n",
                            "1  0.7358             \n",
                            "6  0.2666             \n",
                            "7  0.0742             \n",
                            "8  0.0040             \n",
                            "2  0.0028             \n",
                            "5  0.0026             "
                        ]
                    },
                    "execution_count": 21,
                    "metadata": {},
                    "output_type": "execute_result"
                }
            ],
            "source": [
                "record_idx = 0\n",
                "attributions, attribution_scores = [], []\n",
                "for i in final_results.get(\"faithfulness\")[\"record_level_metrics\"][record_idx][\"faithfulness_attributions\"]:\n",
                "    for attr in i[\"attributions\"]:\n",
                "        attributions.extend(attr.get(\"feature_values\"))\n",
                "        attribution_scores.extend(attr.get(\"faithfulness_scores\"))\n",
                "\n",
                "attributions_df = pd.DataFrame({\"faithfulness attribution\": attributions, \"attribution score\": attribution_scores})\n",
                "pd.set_option('display.max_colwidth', 0)\n",
                "attributions_df.sort_values(by=[\"attribution score\"], inplace=True, ascending=False)\n",
                "print(\"Question: {}\".format(results_df[question_column][0]))\n",
                "print(\"Answer: {}\".format(results_df[answer_column][0]))\n",
                "print(\"Attributions: \")\n",
                "attributions_df"
            ]
        },
        {
            "cell_type": "markdown",
            "id": "2f7a5d46-b78e-4945-878e-53dd4b5936ba",
            "metadata": {
                "id": "1f1ddc65-e2e1-4538-bc0e-54269598af48"
            },
            "source": [
                "Author: <a href=\"mailto:pvemulam@in.ibm.com\">Pratap Kishore Varma V</a>"
            ]
        },
        {
            "cell_type": "markdown",
            "id": "2cc84acc",
            "metadata": {
                "id": "6a705784-8d0f-4b3f-a004-031c8c84a681"
            },
            "source": [
                "Copyright © 2024 IBM."
            ]
        }
    ],
    "metadata": {
        "kernelspec": {
            "display_name": "Python 3.11",
            "language": "python",
            "name": "python3"
        },
        "language_info": {
            "codemirror_mode": {
                "name": "ipython",
                "version": 3
            },
            "file_extension": ".py",
            "mimetype": "text/x-python",
            "name": "python",
            "nbconvert_exporter": "python",
            "pygments_lexer": "ipython3",
            "version": "3.11.9"
        }
    },
    "nbformat": 4,
    "nbformat_minor": 5
}