{
 "cells": [
  {
   "cell_type": "markdown",
   "id": "a43ff1e9-8fbb-4365-a9ac-01b8e2b75492",
   "metadata": {
    "id": "45ad24a4-7a22-44bd-98f9-7adcda37f016"
   },
   "source": [
    "## Notebook to demonstrate use of GuardRails API for HAP, PII and RAG\n",
    "This notebook should be run using with Runtime 24.1 & Python 3.11.x or greater runtime environment in IBM Watson Studio. If you do not see Python 3.11.x in the upper right corner of your screen, please update the runtime now. This notebook can also be executed with any notebook env which support Python 3.11.x\n",
    "\n",
    "This notebook will run against CP4D >=5.1.0 or WXG>=2.1.0 version only.\n",
    "\n",
    "This notebook will demonstrates how to use Text Detection API for computing the following metrics\n",
    "\n",
    "1. HAP/PII\n",
    "2. Faithfullness\n",
    "3. Context Relevance\n",
    "4. Answer Relevance"
   ]
  },
  {
   "cell_type": "markdown",
   "id": "4eb9c869-1481-48c2-b331-f7bd86fb1a78",
   "metadata": {},
   "source": [
    "## Set up CP4D environment information "
   ]
  },
  {
   "cell_type": "code",
   "execution_count": 1,
   "id": "78ce826b-2207-4278-afdf-3bc22afeb889",
   "metadata": {},
   "outputs": [],
   "source": [
    "cp4d_host = \"<CP4D_CLUSTER_URL\"\n",
    "username = \"<USERNAME>\"\n",
    "password = \"<PASSWORD>\"\n",
    "project_id = \"<PROJECT_ID>\"\n",
    "service_instance_id = \"<OPENSCALE_SERVICE_INSTANCE_ID>\" # Needed if you want to compute RAG based metrics"
   ]
  },
  {
   "cell_type": "code",
   "execution_count": 2,
   "id": "14da9592-6824-4541-aaf8-3f3e37e2aa31",
   "metadata": {
    "id": "89d84714-0d36-4b58-ad70-95ad9c687e39"
   },
   "outputs": [],
   "source": [
    "# Get the access token\n",
    "import requests\n",
    "import json\n",
    "\n",
    "import urllib3,time\n",
    "urllib3.disable_warnings()\n",
    "\n",
    "headers = {}\n",
    "headers[\"Content-Type\"] = \"application/json\"\n",
    "headers[\"Accept\"] = \"application/json\"\n",
    "\n",
    "def get_access_token():\n",
    "    url = '{}/icp4d-api/v1/authorize'.format(cp4d_host)\n",
    "    payload = {\n",
    "        'username': username,\n",
    "        'password': password\n",
    "    }\n",
    "    response = requests.post(url, headers=headers, json=payload, verify=False)\n",
    "    return response.json()['token']"
   ]
  },
  {
   "cell_type": "code",
   "execution_count": 3,
   "id": "8d193a5b-1965-4878-b831-f11946383a0e",
   "metadata": {
    "id": "c0a35cdb-e2fa-4da8-a922-31291781b60b"
   },
   "outputs": [],
   "source": [
    "token = get_access_token()\n",
    "headers['Authorization'] =  \"Bearer {}\".format(token)\n",
    "headers['x-governance-instance-id'] = service_instance_id"
   ]
  },
  {
   "cell_type": "markdown",
   "id": "1157f145-2c16-46d4-bf49-1262b92c744e",
   "metadata": {
    "id": "635775e1-9b07-4ab1-a539-05e26fd7037b"
   },
   "source": [
    "# Detection tasks on input content\n",
    "\n",
    "<p class=\"has-line-data\" data-line-start=\"0\" data-line-end=\"2\"><b>API:</b> POST on “/ml/v1/text/detection”<br><br>\n",
    "<b>Description:</b> This endpoint is used for detecting Hate and profanity (HAP) and Personal identifiable information (PII) information in your input. It allows you to compute either one also.</p>\n",
    "<b>Payload:</b>\n",
    "<pre><code class=\"has-line-data\" data-line-start=\"3\" data-line-end=\"14\">{\n",
    "    &quot;input&quot;: &quot;my text to check&quot;,\n",
    "    &quot;project_id&quot;: &quot;&lt;YOUR_PROJECT_ID&gt;&quot;,\n",
    "    &quot;detectors&quot;: {\n",
    "        &quot;pii&quot;: {},\n",
    "        &quot;hap&quot;: {\n",
    "        &quot;threshold&quot;: 0.6\n",
    "    }\n",
    "  }\n",
    "}\n",
    "</code></pre>\n",
    "<p class=\"has-line-data\" data-line-start=\"14\" data-line-end=\"15\">The input is analyzed as-is and the model will return any detections that it found.</p>"
   ]
  },
  {
   "cell_type": "markdown",
   "id": "4f8ba57e-1207-4a38-bae5-5c402b121fd0",
   "metadata": {
    "id": "5a50bc5f-6b70-4626-8e1a-1568516666fa"
   },
   "source": [
    " # HAP and PII"
   ]
  },
  {
   "cell_type": "code",
   "execution_count": 4,
   "id": "3ab2eb10-33ea-4f58-b012-ba0ae1e30395",
   "metadata": {
    "id": "5cda7ddc-875c-4e3f-90d6-65db44f73d52"
   },
   "outputs": [
    {
     "name": "stdout",
     "output_type": "stream",
     "text": [
      "{\n",
      "    \"detections\": [\n",
      "        {\n",
      "            \"start\": 0,\n",
      "            \"end\": 15,\n",
      "            \"text\": \"I hate pigmies.\",\n",
      "            \"detection_type\": \"hap\",\n",
      "            \"detection\": \"has_HAP\",\n",
      "            \"score\": 0.969690442085266\n",
      "        },\n",
      "        {\n",
      "            \"start\": 36,\n",
      "            \"end\": 56,\n",
      "            \"text\": \"kpatel_abc@gmail.com\",\n",
      "            \"detection_type\": \"pii\",\n",
      "            \"detection\": \"EmailAddress\",\n",
      "            \"score\": 0.8\n",
      "        }\n",
      "    ]\n",
      "}\n"
     ]
    }
   ],
   "source": [
    "# HAP and PII\n",
    "\n",
    "input = \"I hate pigmies. I can be reached on kpatel_abc@gmail.com\"\n",
    "payload = {\n",
    "  \"input\": input,\n",
    "  \"project_id\": project_id,\n",
    "  \"detectors\": {\n",
    "    \"hap\": {\n",
    "      \n",
    "    },\n",
    "    \"pii\": {\n",
    "      \n",
    "    }\n",
    "  }\n",
    "}\n",
    "\n",
    "hap_pii_url = \"{0}/ml/v1/text/detection?version=2023-07-07\".format(cp4d_host)\n",
    "response = requests.post(hap_pii_url, headers=headers, json=payload,verify=False) \n",
    "print(json.dumps(response.json(), indent=4))"
   ]
  },
  {
   "cell_type": "markdown",
   "id": "06459e73-f7aa-4b85-99a3-600d05b65bcb",
   "metadata": {
    "id": "d7c79bf7-225a-41f3-8a13-82257f577785"
   },
   "source": [
    "# Detection task on input content based on context documents\n",
    "<b>API:</b> POST /ml/v1/text/detection/context<br>\n",
    "\n",
    "<b>Description:</b>This operation supports context relevance and faithfulness. The input is analyzed, along with the context information, and the model will return any detections that it found. \n",
    "<br><br><b>Payload:</br>\n",
    "```\n",
    "{\n",
    "    \"input\": \"my text to check\",\n",
    "    \"context_type\": <CONTEXT_TYPE>, #Allowable values: [docs]\n",
    "    \"context\": <CONTEXT> \n",
    "    \"faithfulness\": {\n",
    "      \n",
    "    }\n",
    "  }\n",
    "}\n",
    "```"
   ]
  },
  {
   "cell_type": "markdown",
   "id": "27f5c1ae-31fe-4565-bc97-ac8527a95924",
   "metadata": {
    "id": "bd821318-2f00-45e9-a19f-1615dbde2072"
   },
   "source": [
    "# Faithfulness"
   ]
  },
  {
   "cell_type": "code",
   "execution_count": 5,
   "id": "5371c5e6-7f62-4e91-b26f-af6adda48dc3",
   "metadata": {
    "id": "7d1da7be-e917-48ad-93f5-5fb169902000"
   },
   "outputs": [
    {
     "name": "stdout",
     "output_type": "stream",
     "text": [
      "{\n",
      "    \"detections\": [\n",
      "        {\n",
      "            \"detection_type\": \"faithfulness\",\n",
      "            \"detection\": \"faithful\",\n",
      "            \"score\": 0.8438993692398071,\n",
      "            \"evidence\": [\n",
      "                {\n",
      "                    \"name\": \"content_chunk\",\n",
      "                    \"value\": \"ARPA-H is the Advanced Research Projects Agency for Health, which is an agency that aims to drive breakthroughs in cancer, Alzheimer's, diabetes, and more.\",\n",
      "                    \"score\": 0.7463699579238892,\n",
      "                    \"evidence\": [\n",
      "                        {\n",
      "                            \"name\": \"context_chunk\",\n",
      "                            \"value\": \"It\\u201a\\u00c4\\u00f4s based on DARPA\\u201a\\u00c4\\u00eethe Defense Department project that led to the Internet, GPS, and so much more. ARPA-H will have a singular purpose\\u201a\\u00c4\\u00eeto drive breakthroughs in cancer, Alzheimer\\u201a\\u00c4\\u00f4s, diabetes, and more.\",\n",
      "                            \"score\": 0.7463699579238892\n",
      "                        },\n",
      "                        {\n",
      "                            \"name\": \"context_chunk\",\n",
      "                            \"value\": \"ARPA-H will have a singular purpose\\u201a\\u00c4\\u00eeto drive breakthroughs in cancer, Alzheimer\\u201a\\u00c4\\u00f4s, diabetes, and more. A unity agenda for the nation.\",\n",
      "                            \"score\": 0.4023917019367218\n",
      "                        },\n",
      "                        {\n",
      "                            \"name\": \"context_chunk\",\n",
      "                            \"value\": \"Through her pain she found purpose to demand we do better. Tonight, Danielle\\u201a\\u00c4\\u00eewe are.\",\n",
      "                            \"score\": 0.008679859340190887\n",
      "                        }\n",
      "                    ]\n",
      "                },\n",
      "                {\n",
      "                    \"name\": \"content_chunk\",\n",
      "                    \"value\": \"It was proposed by the U.S. President to supercharge the Cancer Moonshot and cut the cancer death rate by at least 50% over the next 25 years.\",\n",
      "                    \"score\": 0.9414287805557252,\n",
      "                    \"evidence\": [\n",
      "                        {\n",
      "                            \"name\": \"context_chunk\",\n",
      "                            \"value\": \"Last month, I announced our plan to supercharge  the Cancer Moonshot that President Obama asked me to lead six years ago. Our goal is to cut the cancer death rate by at least 50% over the next 25 years, turn more cancers from death sentences into treatable diseases.\",\n",
      "                            \"score\": 0.9414287805557252\n",
      "                        },\n",
      "                        {\n",
      "                            \"name\": \"context_chunk\",\n",
      "                            \"value\": \"Through her pain she found purpose to demand we do better. Tonight, Danielle\\u201a\\u00c4\\u00eewe are.\",\n",
      "                            \"score\": 0.0092623895034194\n",
      "                        },\n",
      "                        {\n",
      "                            \"name\": \"context_chunk\",\n",
      "                            \"value\": \"A unity agenda for the nation. We can do this.\",\n",
      "                            \"score\": 0.0017256521387025714\n",
      "                        }\n",
      "                    ]\n",
      "                }\n",
      "            ]\n",
      "        }\n",
      "    ]\n",
      "}\n"
     ]
    }
   ],
   "source": [
    "input = \"ARPA-H is the Advanced Research Projects Agency for Health, which is an agency that aims to drive breakthroughs in cancer, Alzheimer's, diabetes, and more. It was proposed by the U.S. President to supercharge the Cancer Moonshot and cut the cancer death rate by at least 50% over the next 25 years.\"\n",
    "context_type = \"docs\"\n",
    "context = [\"Last month, I announced our plan to supercharge  the Cancer Moonshot that President Obama asked me to lead six years ago. Our goal is to cut the cancer death rate by at least 50% over the next 25 years, turn more cancers from death sentences into treatable diseases.  More support for patients and families. To get there, I call on Congress to fund ARPA-H, the Advanced Research Projects Agency for Health. It‚Äôs based on DARPA‚Äîthe Defense Department project that led to the Internet, GPS, and so much more.  ARPA-H will have a singular purpose‚Äîto drive breakthroughs in cancer, Alzheimer‚Äôs, diabetes, and more. A unity agenda for the nation. We can do this. My fellow Americans‚Äîtonight , we have gathered in a sacred space‚Äîthe citadel of our democracy. In this Capitol, generation after generation, Americans have debated great questions amid great strife, and have done great things. We have fought for freedom, expanded liberty, defeated totalitarianism and terror.\",\n",
    "           \"For that purpose we‚Äôve mobilized American ground forces, air squadrons, and ship deployments to protect NATO countries including Poland, Romania, Latvia, Lithuania, and Estonia. As I have made crystal clear the United States and our Allies will defend every inch of territory of NATO countries with the full force of our collective power.  And we remain clear-eyed. The Ukrainians are fighting back with pure courage. But the next few days weeks, months, will be hard on them.  Putin has unleashed violence and chaos.  But while he may make gains on the battlefield ‚Äì he will pay a continuing high price over the long run. And a proud Ukrainian people, who have known 30 years  of independence, have repeatedly shown that they will not tolerate anyone who tries to take their country backwards.  To all Americans, I will be honest with you, as I‚Äôve always promised. A Russian dictator, invading a foreign country, has costs around the world.\",\n",
    "           \"If you travel 20 miles east of Columbus, Ohio, you‚Äôll find 1,000 empty acres of land. It won‚Äôt look like much, but if you stop and look closely, you‚Äôll see a ‚ÄúField of dreams,‚Äù the ground on which America‚Äôs future will be built. This is where Intel, the American company that helped build Silicon Valley, is going to build its $20 billion semiconductor ‚Äúmega site‚Äù. Up to eight state-of-the-art factories in one place. 10,000 new good-paying jobs. Some of the most sophisticated manufacturing in the world to make computer chips the size of a fingertip that power the world and our everyday lives. Smartphones. The Internet. Technology we have yet to invent. But that‚Äôs just the beginning. Intel‚Äôs CEO, Pat Gelsinger, who is here tonight, told me they are ready to increase their investment from  $20 billion to $100 billion. That would be one of the biggest investments in manufacturing in American history. And all they‚Äôre waiting for is for you to pass this bill.\",\n",
    "           \"But cancer from prolonged exposure to burn pits ravaged Heath‚Äôs lungs and body. Danielle says Heath was a fighter to the very end. He didn‚Äôt know how to stop fighting, and neither did she. Through her pain she found purpose to demand we do better. Tonight, Danielle‚Äîwe are. The VA is pioneering new ways of linking toxic exposures to diseases, already helping more veterans get benefits. And tonight, I‚Äôm announcing we‚Äôre expanding eligibility to veterans suffering from nine respiratory cancers. I‚Äôm also calling on Congress: pass a law to make sure veterans devastated by toxic exposures in Iraq and Afghanistan finally get the benefits and comprehensive health care they deserve. And fourth, let‚Äôs end cancer as we know it. This is personal to me and Jill, to Kamala, and to so many of you. Cancer is the #2 cause of death in America‚Äìsecond only to heart disease.\"\n",
    "          ]\n",
    "payload = {\n",
    "  \"input\": input,  \n",
    "  \"context_type\": context_type,\n",
    "  \"context\": context,  \n",
    "  \"detectors\": {\n",
    "    \"faithfulness\": {\n",
    "      \n",
    "    }\n",
    "  }\n",
    "}\n",
    "\n",
    "faithfulness_url = \"{0}/ml/v1/text/detection/context?version=2024-08-25\".format(cp4d_host)\n",
    "response = requests.post(faithfulness_url, headers=headers, json=payload,verify=False) \n",
    "print(json.dumps(response.json(), indent=4))\n"
   ]
  },
  {
   "cell_type": "markdown",
   "id": "7cba012e-bd15-46c3-98bd-1ba41ff820b7",
   "metadata": {
    "id": "2fcf2e75-1c23-4f3f-b1bd-ecf92f5c3be7"
   },
   "source": [
    "# Context Relevance"
   ]
  },
  {
   "cell_type": "code",
   "execution_count": 6,
   "id": "44ca3d1d-8ea5-45be-98da-9ff8c48ba657",
   "metadata": {
    "id": "aff201e3-5055-4025-8956-0d6aade5a112"
   },
   "outputs": [
    {
     "name": "stdout",
     "output_type": "stream",
     "text": [
      "{\n",
      "    \"detections\": [\n",
      "        {\n",
      "            \"detection_type\": \"context_relevance\",\n",
      "            \"detection\": \"relevant\",\n",
      "            \"score\": 0.893649160861969,\n",
      "            \"evidence\": [\n",
      "                {\n",
      "                    \"name\": \"context\",\n",
      "                    \"value\": \"\",\n",
      "                    \"score\": 0.8296607136726379,\n",
      "                    \"evidence\": [\n",
      "                        {\n",
      "                            \"name\": \"context_chunk\",\n",
      "                            \"value\": \"To get there, I call on Congress to fund ARPA-H, the Advanced Research Projects Agency for Health. It's based on DARPA\\u2014the Defense Department project that led to the Internet, GPS, and so much more.\",\n",
      "                            \"score\": 0.8296607136726379\n",
      "                        },\n",
      "                        {\n",
      "                            \"name\": \"context_chunk\",\n",
      "                            \"value\": \"We can do this. My fellow Americans\\u2014tonight , we have gathered in a sacred space\\u2014the citadel of our democracy.\",\n",
      "                            \"score\": 0.776604413986206\n",
      "                        },\n",
      "                        {\n",
      "                            \"name\": \"context_chunk\",\n",
      "                            \"value\": \"My fellow Americans\\u2014tonight , we have gathered in a sacred space\\u2014the citadel of our democracy. In this Capitol, generation after generation, Americans have debated great questions amid great strife, and have done great things.\",\n",
      "                            \"score\": 0.7333039045333862\n",
      "                        }\n",
      "                    ]\n",
      "                },\n",
      "                {\n",
      "                    \"name\": \"context\",\n",
      "                    \"value\": \"\",\n",
      "                    \"score\": 0.641129195690155,\n",
      "                    \"evidence\": [\n",
      "                        {\n",
      "                            \"name\": \"context_chunk\",\n",
      "                            \"value\": \"But the next few days weeks, months, will be hard on them. Putin has unleashed violence and chaos.\",\n",
      "                            \"score\": 0.641129195690155\n",
      "                        },\n",
      "                        {\n",
      "                            \"name\": \"context_chunk\",\n",
      "                            \"value\": \"And we remain clear-eyed. The Ukrainians are fighting back with pure courage.\",\n",
      "                            \"score\": 0.6343539953231812\n",
      "                        },\n",
      "                        {\n",
      "                            \"name\": \"context_chunk\",\n",
      "                            \"value\": \"To all Americans, I will be honest with you, as I've always promised. A Russian dictator, invading a foreign country, has costs around the world.\",\n",
      "                            \"score\": 0.602575957775116\n",
      "                        }\n",
      "                    ]\n",
      "                },\n",
      "                {\n",
      "                    \"name\": \"context\",\n",
      "                    \"value\": \"\",\n",
      "                    \"score\": 0.603012204170227,\n",
      "                    \"evidence\": [\n",
      "                        {\n",
      "                            \"name\": \"context_chunk\",\n",
      "                            \"value\": \"That would be one of the biggest investments in manufacturing in American history. And all they are waiting for is for you to pass this bill.\",\n",
      "                            \"score\": 0.603012204170227\n",
      "                        },\n",
      "                        {\n",
      "                            \"name\": \"context_chunk\",\n",
      "                            \"value\": \"It won't look like much, but if you stop and look closely, you'll see a Field of dreams, the ground on which America's future will be built. This is where Intel, the American company that helped build Silicon Valley, is going to build its $20 billion semiconductor mega site.\",\n",
      "                            \"score\": 0.5616620779037476\n",
      "                        },\n",
      "                        {\n",
      "                            \"name\": \"context_chunk\",\n",
      "                            \"value\": \"The Internet. Technology we have yet to invent.\",\n",
      "                            \"score\": 0.4923250377178192\n",
      "                        }\n",
      "                    ]\n",
      "                },\n",
      "                {\n",
      "                    \"name\": \"context\",\n",
      "                    \"value\": \"\",\n",
      "                    \"score\": 0.893649160861969,\n",
      "                    \"evidence\": [\n",
      "                        {\n",
      "                            \"name\": \"context_chunk\",\n",
      "                            \"value\": \"And tonight, I'm announcing we're expanding eligibility to veterans suffering from nine respiratory cancers. I'm also calling on Congress: pass a law to make sure veterans devastated by toxic exposures in Iraq and Afghanistan finally get the benefits and comprehensive health care they deserve.\",\n",
      "                            \"score\": 0.893649160861969\n",
      "                        },\n",
      "                        {\n",
      "                            \"name\": \"context_chunk\",\n",
      "                            \"value\": \"I'm also calling on Congress: pass a law to make sure veterans devastated by toxic exposures in Iraq and Afghanistan finally get the benefits and comprehensive health care they deserve. And fourth, let's end cancer as we know it.\",\n",
      "                            \"score\": 0.5900588631629944\n",
      "                        },\n",
      "                        {\n",
      "                            \"name\": \"context_chunk\",\n",
      "                            \"value\": \"He didn't know how to stop fighting, and neither did she. Through her pain she found purpose to demand we do better.\",\n",
      "                            \"score\": 0.5861348509788513\n",
      "                        }\n",
      "                    ]\n",
      "                }\n",
      "            ]\n",
      "        }\n",
      "    ]\n",
      "}\n"
     ]
    }
   ],
   "source": [
    "input = \"What is ARPA-H?\"\n",
    "context_type = \"docs\"\n",
    "context = [\n",
    "    \"Last month, I announced our plan to supercharge  \\nthe Cancer Moonshot that President Obama asked me to lead six years ago. \\n\\nOur goal is to cut the cancer death rate by at least 50% over the next 25 years, turn more cancers from death sentences into treatable diseases.  \\n\\nMore support for patients and families. \\n\\nTo get there, I call on Congress to fund ARPA-H, the Advanced Research Projects Agency for Health. \\n\\nIt's based on DARPA—the Defense Department project that led to the Internet, GPS, and so much more.  \\n\\nARPA-H will have a singular purpose—to drive breakthroughs in cancer, Alzheimer's, diabetes, and more. \\n\\nA unity agenda for the nation. \\n\\nWe can do this. \\n\\nMy fellow Americans—tonight , we have gathered in a sacred space—the citadel of our democracy. \\n\\nIn this Capitol, generation after generation, Americans have debated great questions amid great strife, and have done great things. \\n\\nWe have fought for freedom, expanded liberty, defeated totalitarianism and terror.\",\n",
    "    \"For that purpose we've mobilized American ground forces, air squadrons, and ship deployments to protect NATO countries including Poland, Romania, Latvia, Lithuania, and Estonia. \\n\\nAs I have made crystal clear the United States and our Allies will defend every inch of territory of NATO countries with the full force of our collective power.  \\n\\nAnd we remain clear-eyed. The Ukrainians are fighting back with pure courage. But the next few days weeks, months, will be hard on them.  \\n\\nPutin has unleashed violence and chaos.  But while he may make gains on the battlefield – he will pay a continuing high price over the long run. \\n\\nAnd a proud Ukrainian people, who have known 30 years  of independence, have repeatedly shown that they will not tolerate anyone who tries to take their country backwards.  \\n\\nTo all Americans, I will be honest with you, as I've always promised. A Russian dictator, invading a foreign country, has costs around the world.\",\n",
    "    \"If you travel 20 miles east of Columbus, Ohio, you'll find 1,000 empty acres of land. \\n\\nIt won't look like much, but if you stop and look closely, you'll see a Field of dreams, the ground on which America's future will be built. \\n\\nThis is where Intel, the American company that helped build Silicon Valley, is going to build its $20 billion semiconductor mega site. \\n\\nUp to eight state-of-the-art factories in one place. 10,000 new good-paying jobs. \\n\\nSome of the most sophisticated manufacturing in the world to make computer chips the size of a fingertip that power the world and our everyday lives. \\n\\nSmartphones. The Internet. Technology we have yet to invent. \\n\\nBut that's just the beginning. \\n\\nIntel's CEO, Pat Gelsinger, who is here tonight, told me they are ready to increase their investment from  \\n$20 billion to $100 billion. \\n\\nThat would be one of the biggest investments in manufacturing in American history. \\n\\nAnd all they are waiting for is for you to pass this bill.\",\n",
    "    \"But cancer from prolonged exposure to burn pits ravaged Heath s lungs and body. \\n\\nDanielle says Heath was a fighter to the very end. \\n\\nHe didn't know how to stop fighting, and neither did she. \\n\\nThrough her pain she found purpose to demand we do better. \\n\\nTonight, Danielle—we are. \\n\\nThe VA is pioneering new ways of linking toxic exposures to diseases, already helping more veterans get benefits. \\n\\nAnd tonight, I'm announcing we're expanding eligibility to veterans suffering from nine respiratory cancers. \\n\\nI'm also calling on Congress: pass a law to make sure veterans devastated by toxic exposures in Iraq and Afghanistan finally get the benefits and comprehensive health care they deserve. \\n\\nAnd fourth, let's end cancer as we know it. \\n\\nThis is personal to me and Jill, to Kamala, and to so many of you. \\n\\nCancer is the #2 cause of death in America–second only to heart disease.\"\n",
    "  ]\n",
    "payload = {\n",
    "  \"input\": input,  \n",
    "  \"context_type\": context_type,\n",
    "  \"context\": context,  \n",
    "  \"detectors\": {\n",
    "    \"context_relevance\": {\n",
    "      \n",
    "    }\n",
    "  }\n",
    "}\n",
    "\n",
    "context_relevance_url = \"{0}/ml/v1/text/detection/context?version=2024-08-25\".format(cp4d_host)\n",
    "response = requests.post(context_relevance_url, headers=headers, json=payload,verify=False) \n",
    "print(json.dumps(response.json(), indent=4))\n"
   ]
  },
  {
   "cell_type": "markdown",
   "id": "b52c3afe-c4a1-4cc7-8102-249e13af4687",
   "metadata": {
    "id": "75c81108-cf15-4299-ba0c-d1343bbf71dd"
   },
   "source": [
    "# Detection task performing detection on prompt and generated text\n",
    "<b>API:</b> POST /ml/v1/text/detection/generated<br>\n",
    "\n",
    "<b>Description:</b>This operation supports answer relevance. The prompt is analyzed, along with the generated text, and the model will return any detections that it found.\n",
    "<br><br><b>Payload:</br>\n",
    "```\n",
    "{\n",
    "    \"input\": \"<INPUT_TEXT>\",\n",
    "    \"prompt\": <PROMPT_TEXT>,\n",
    "    \"generated_text\": <GENERATED_TEXT>, \n",
    "    \"answer_relevance\": {\n",
    "      \n",
    "    }\n",
    "  }\n",
    "}\n",
    "```\n"
   ]
  },
  {
   "cell_type": "markdown",
   "id": "9eb0e6c8-8aea-40fc-a818-a34b9c3e9c55",
   "metadata": {
    "id": "8df8c253-6e44-4a5e-b9be-6d0ec9247a6a"
   },
   "source": [
    "# Answer Relevance"
   ]
  },
  {
   "cell_type": "code",
   "execution_count": 7,
   "id": "b957056e-b1fa-43b0-8850-137b4809ff02",
   "metadata": {
    "id": "1f55586d-82b1-4eb2-9f3a-6ef99a017217"
   },
   "outputs": [
    {
     "name": "stdout",
     "output_type": "stream",
     "text": [
      "{\n",
      "    \"detections\": [\n",
      "        {\n",
      "            \"detection_type\": \"answer_relevance\",\n",
      "            \"detection\": \"relevant\",\n",
      "            \"score\": 0.9906142950057985\n",
      "        }\n",
      "    ]\n",
      "}\n"
     ]
    }
   ],
   "source": [
    "prompt = \"What are the dangers faced by troops in Iraq and Afganistan?\"\n",
    "generated_text =  \"The troops in Iraq and Afghanistan faced the danger of toxic exposure due to burn pits. These burn pits were used to incinerate wastes of war, including medical and hazard material, jet fuel, and more. The toxic smoke from these burn pits led to various health issues such as headaches, numbness, dizziness, and even cancer.\"\n",
    "\n",
    "payload = {\n",
    "    \"prompt\" : prompt,\n",
    "    \"generated_text\" :  generated_text,\n",
    "    \"detectors\": {\n",
    "        \"answer_relevance\": {\n",
    "        }\n",
    "    },    \n",
    "}\n",
    "\n",
    "answer_relevance_url = \"{0}/ml/v1/text/detection/generated?version=2024-08-25\".format(cp4d_host)\n",
    "response = requests.post(answer_relevance_url, headers=headers, json=payload,verify=False) \n",
    "print(json.dumps(response.json(), indent=4))"
   ]
  },
  {
   "cell_type": "markdown",
   "id": "8c446490-69d1-4f2b-89b2-6dd20262f315",
   "metadata": {
    "id": "667371ba-ff0f-45f2-bb4a-9cfdde33686e"
   },
   "source": [
    "Author: <a href=\"mailto:kishore.patel@in.ibm.com\">Kishore Patel</a>"
   ]
  },
  {
   "cell_type": "markdown",
   "id": "aed11631-4a9f-4528-a09e-634b241ebe8a",
   "metadata": {},
   "source": [
    "Copyright © 2025 IBM."
   ]
  },
  {
   "cell_type": "code",
   "execution_count": null,
   "id": "58909cf4-21d8-4ad4-8dcc-a1a353f93069",
   "metadata": {},
   "outputs": [],
   "source": []
  }
 ],
 "metadata": {
  "kernelspec": {
   "display_name": "Python 3 (ipykernel)",
   "language": "python",
   "name": "python3"
  },
  "language_info": {
   "codemirror_mode": {
    "name": "ipython",
    "version": 3
   },
   "file_extension": ".py",
   "mimetype": "text/x-python",
   "name": "python",
   "nbconvert_exporter": "python",
   "pygments_lexer": "ipython3",
   "version": "3.10.0"
  }
 },
 "nbformat": 4,
 "nbformat_minor": 5
}
