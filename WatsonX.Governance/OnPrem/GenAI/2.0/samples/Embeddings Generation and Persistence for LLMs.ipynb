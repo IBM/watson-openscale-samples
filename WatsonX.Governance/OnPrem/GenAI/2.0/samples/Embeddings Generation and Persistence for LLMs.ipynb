{
 "cells": [
  {
   "cell_type": "markdown",
   "metadata": {},
   "source": [
    "# Embeddings Generation and Persistence for LLMs"
   ]
  },
  {
   "cell_type": "markdown",
   "metadata": {},
   "source": [
    "This notebook can be used to generate embeddings for a given data.\n",
    "\n",
    "#### Contents\n",
    "\n",
    "**Contents:**\n",
    "1. [Setting up the environment](#setting-up-the-environment) - Pre-requisites: Install Libraries and required dependencies\n",
    "2. [Input Data](#Input-Data) - Read the training data as a pandas DataFrame\n",
    "3. [User Inputs Section](#user-inputs-section) - Provide Model Details, IBM watsonx.governance Services and their configuration\n",
    "4. [Generate Embeddings](#generate-embeddings)\n",
    "5. [Optional: Configure Drift v2](#optional-configure-drift-v2)\n",
    "6. [Optional: Store Runtime Records with Embeddings](#optional-store-runtime-records-with-embeddings)\n",
    "7. [Optional: Evaluate Drift v2 monitor](#optional-evaluate-drift-v2-monitor)"
   ]
  },
  {
   "cell_type": "markdown",
   "metadata": {},
   "source": [
    "## Setting up the environment\n",
    "\n",
    "**Installing required packages**"
   ]
  },
  {
   "cell_type": "code",
   "execution_count": null,
   "metadata": {},
   "outputs": [],
   "source": [
    "%pip install --upgrade \"ibm-metrics-plugin[notebook]~=5.0.3\" \"ibm-watson-openscale~=3.0.36\" \"sentence-transformers\" | tail -n 1"
   ]
  },
  {
   "cell_type": "code",
   "execution_count": 89,
   "metadata": {},
   "outputs": [],
   "source": [
    "# ----------------------------------------------------------------------------------------------------\n",
    "# IBM Confidential\n",
    "# OCO Source Materials\n",
    "# 5900-A3Q, 5737-H76\n",
    "# Copyright IBM Corp. 2024\n",
    "# The source code for this Notebook is not published or other-wise divested of its trade \n",
    "# secrets, irrespective of what has been deposited with the U.S.Copyright Office.\n",
    "# ----------------------------------------------------------------------------------------------------\n",
    "\n",
    "VERSION = \"1.0\"\n",
    "\n",
    "#Version History\n",
    "#1.0: Initial release"
   ]
  },
  {
   "cell_type": "code",
   "execution_count": 90,
   "metadata": {},
   "outputs": [],
   "source": [
    "from datetime import datetime\n",
    "\n",
    "import pandas as pd\n",
    "from ibm_cloud_sdk_core.authenticators import CloudPakForDataAuthenticator\n",
    "from ibm_watson_openscale import APIClient\n",
    "from ibm_watson_openscale.utils.embeddings_generation_utility import \\\n",
    "    EmbeddingsGenerationUtility\n",
    "from ibm_watson_openscale.utils.drift_v2_utility import DriftV2Utility\n",
    "from sentence_transformers import SentenceTransformer\n"
   ]
  },
  {
   "cell_type": "markdown",
   "metadata": {},
   "source": [
    "## Input Data\n",
    "\n",
    "The notebook supports two modes:\n",
    "1. Fetch dataset records from WatsonX.Governance.\n",
    "1. Read the input scored data as a pandas dataframe. Although the sample here reads a CSV file into a dataframe, this could be a table, etc.\n",
    "1. The input scored data should contain the following columns:\n",
    "    - The feature _aka_ prompt variable columns\n",
    "    - The model output/prediction _aka_ generated text column\n",
    "    - Optional: The meta columns\n",
    "    - Optional: The input token count column\n",
    "    - Optional: The output token count column\n",
    "    - Optional: The prediction probability column\n",
    "\n",
    "*Note: Pandas' read\\_csv method converts the columns to its data types. If you want the column type to not be interpreted, specify the dtype param to read_csv method in this cell. More on this method [here](https://pandas.pydata.org/pandas-docs/stable/reference/api/pandas.read_csv.html)*"
   ]
  },
  {
   "cell_type": "code",
   "execution_count": 122,
   "metadata": {},
   "outputs": [
    {
     "name": "stdout",
     "output_type": "stream",
     "text": [
      "<class 'pandas.core.frame.DataFrame'>\n",
      "RangeIndex: 110 entries, 0 to 109\n",
      "Data columns (total 9 columns):\n",
      " #   Column                                  Non-Null Count  Dtype  \n",
      "---  ------                                  --------------  -----  \n",
      " 0   original_text                           110 non-null    object \n",
      " 1   reference_summary                       110 non-null    object \n",
      " 2   generated_text                          110 non-null    object \n",
      " 3   input_token_count                       110 non-null    int64  \n",
      " 4   generated_token_count                   110 non-null    int64  \n",
      " 5   prediction_probability                  110 non-null    float64\n",
      " 6   wos_feature_original_text_embeddings__  110 non-null    object \n",
      " 7   wos_input_embeddings__                  110 non-null    object \n",
      " 8   wos_output_embeddings__                 110 non-null    object \n",
      "dtypes: float64(1), int64(2), object(6)\n",
      "memory usage: 7.9+ KB\n",
      "None\n"
     ]
    }
   ],
   "source": [
    "df = None\n",
    "\n",
    "# Uncomment these lines if you want to compute and store embeddings for local data\n",
    "# df = pd.read_csv(\"<EDIT THIS>\")\n",
    "# print(df.info())"
   ]
  },
  {
   "cell_type": "markdown",
   "metadata": {},
   "source": [
    "## User Inputs Section\n",
    "\n",
    "##### _1. Provide watsonx.governance parameters_:\n",
    "\n",
    "Provide the watsonx.governance parameters - the api key, and the subscription id.\n",
    "\n",
    "##### _2. Provide an embedding function_\n",
    "\n",
    "The embedding function should adhere to the following guidelines.\n",
    "\n",
    "- The input of the embedding function should accept a `list`.\n",
    "- The output of the embedding function should return a `list` comprising of the embeddings for all the inputs.\n",
    "\n",
    "A few samples of the embedding function have been provided [here](https://github.com/IBM/watson-openscale-samples/wiki/Embedding-Function-Templates-for-unstructured-text-data)"
   ]
  },
  {
   "cell_type": "code",
   "execution_count": 123,
   "metadata": {},
   "outputs": [],
   "source": [
    "CPD_URL = \"<EDIT THIS>\"\n",
    "CPD_USERNAME = \"<EDIT THIS>\"\n",
    "CPD_PASSWORD = \"<EDIT THIS>\"\n",
    "WOS_SERVICE_INSTANCE_ID = \"00000000-0000-0000-0000-000000000000\" # If None, default instance would be used\n",
    "subscription_id = \"<EDIT THIS>\"\n",
    "\n",
    "# 1. Load a pretrained Sentence Transformer model\n",
    "model = SentenceTransformer(\"all-MiniLM-L12-v2\")\n",
    "\n",
    "# 2. Calculate embeddings by calling model.encode()\n",
    "embeddings_fn = model.encode"
   ]
  },
  {
   "cell_type": "code",
   "execution_count": 124,
   "metadata": {},
   "outputs": [],
   "source": [
    "# Initialize the client\n",
    "\n",
    "authenticator = CloudPakForDataAuthenticator(\n",
    "    url=CPD_URL,\n",
    "    username=CPD_USERNAME,\n",
    "    password=CPD_PASSWORD,\n",
    "    disable_ssl_verification=True\n",
    ")\n",
    "wos_client = APIClient(\n",
    "    service_url=CPD_URL,\n",
    "    authenticator=authenticator,\n",
    "    service_instance_id=WOS_SERVICE_INSTANCE_ID\n",
    ")"
   ]
  },
  {
   "cell_type": "markdown",
   "metadata": {},
   "source": [
    "## Generate and persist embeddings\n",
    "\n",
    "Generate the embeddings and persist them in watsonx.governance. Use `embeddings_chunk_size` to control, how many records are sent to the `embeddings_fn` at a given time.\n",
    "\n",
    "The `compute_and_store_embeddings` method takes the following arguments:\n",
    "1. `embeddings_fn` : The embeddings function to generate embeddings\n",
    "2. `embeddings_chunk_size`: The maximum number of records with which to call the embeddings function.\n",
    "3. `scored_data`: The pandas dataframe containing the scored data with at least the prompt variables and the generated text. This is to be given, when a dataframe is to be uploaded along with embeddings\n",
    "4. `start`, `end`: The time interval which is used to read the payload records. \n",
    "5. `force`: If `force` is set to `True`, all the records between the above timestamps are read. If `force` is set to `False`, only the payload records, which do not contain embeddings are read.\n",
    "6. `limit`: The `limit` controls how many records will be read for generating embeddings in total."
   ]
  },
  {
   "cell_type": "code",
   "execution_count": 125,
   "metadata": {},
   "outputs": [
    {
     "data": {
      "application/vnd.jupyter.widget-view+json": {
       "model_id": "4b783f7ac91c42608dd1d487bafea0ab",
       "version_major": 2,
       "version_minor": 0
      },
      "text/plain": [
       "Storing records... :   0%|          | 0/110 [00:00<?, ?records/s]"
      ]
     },
     "metadata": {},
     "output_type": "display_data"
    },
    {
     "data": {
      "application/vnd.jupyter.widget-view+json": {
       "model_id": "225dfbdfcc134734acb77d445b564193",
       "version_major": 2,
       "version_minor": 0
      },
      "text/plain": [
       "Computing embeddings... :   0%|          | 0/330 [00:00<?, ?values/s]"
      ]
     },
     "metadata": {},
     "output_type": "display_data"
    },
    {
     "data": {
      "application/vnd.jupyter.widget-view+json": {
       "model_id": "5b1fa55bc7ac42faae808f14172300df",
       "version_major": 2,
       "version_minor": 0
      },
      "text/plain": [
       "Storing embeddings... :   0%|          | 0/110 [00:00<?, ?records/s]"
      ]
     },
     "metadata": {},
     "output_type": "display_data"
    }
   ],
   "source": [
    "embedding_util = EmbeddingsGenerationUtility(client=wos_client, subscription_id=subscription_id)\n",
    "\n",
    "# baseline_df = embedding_util.compute_and_store_embeddings(start=datetime(2024, 7, 23, 18, 1),\n",
    "#                                             end=datetime(2024, 7, 25, 18, 2),\n",
    "#                                             embeddings_fn=embeddings_fn,\n",
    "#                                             embeddings_chunk_size=500,\n",
    "#                                             limit=1000,\n",
    "#                                             force=True)\n",
    "\n",
    "# Use this snippet, if the local data has been read in dataframe\n",
    "baseline_df = embedding_util.compute_and_store_embeddings(scored_data=df,\n",
    "                                            embeddings_fn=embeddings_fn,\n",
    "                                            embeddings_chunk_size=100)\n"
   ]
  },
  {
   "cell_type": "code",
   "execution_count": 126,
   "metadata": {},
   "outputs": [
    {
     "name": "stdout",
     "output_type": "stream",
     "text": [
      "<class 'pandas.core.frame.DataFrame'>\n",
      "RangeIndex: 110 entries, 0 to 109\n",
      "Data columns (total 10 columns):\n",
      " #   Column                                  Non-Null Count  Dtype  \n",
      "---  ------                                  --------------  -----  \n",
      " 0   original_text                           110 non-null    object \n",
      " 1   reference_summary                       110 non-null    object \n",
      " 2   generated_text                          110 non-null    object \n",
      " 3   input_token_count                       110 non-null    int64  \n",
      " 4   generated_token_count                   110 non-null    int64  \n",
      " 5   prediction_probability                  110 non-null    float64\n",
      " 6   wos_feature_original_text_embeddings__  110 non-null    object \n",
      " 7   wos_input_embeddings__                  110 non-null    object \n",
      " 8   wos_output_embeddings__                 110 non-null    object \n",
      " 9   scoring_id                              110 non-null    object \n",
      "dtypes: float64(1), int64(2), object(7)\n",
      "memory usage: 8.7+ KB\n"
     ]
    }
   ],
   "source": [
    "baseline_df.info()"
   ]
  },
  {
   "cell_type": "markdown",
   "metadata": {},
   "source": [
    "## Optional: Configure Drift v2\n",
    "\n",
    "In the below cell, user can configure Drift v2 monitor by using the dataframe generated above with embeddings"
   ]
  },
  {
   "cell_type": "code",
   "execution_count": 127,
   "metadata": {},
   "outputs": [
    {
     "name": "stdout",
     "output_type": "stream",
     "text": [
      "The subscription '25f1dab8-1adf-4a5b-9e73-f4c991554e68' has Drift v2 monitor configured with id 'cf5dd636-a26d-4b02-8b01-36a34458e4f0'\n",
      "The utility will re-configure Drift v2.\n",
      "Generating Drift v2 Archive...\n",
      "Baseline archive created at path:  /Users/soumyajyotibiswas/Desktop/Sample Notebooks/notebooks/WatsonX.Governance/OnPrem/GenAI/2.0/samples/baseline__8d4c9e91-3383-4aae-8702-67073215a7c7.tar.gz\n",
      "Generated Drift v2 Archive in 0:00:01.417305...\n",
      "Uploading Drift v2 Archive...\n",
      "Uploaded Drift v2 Archive in 0:00:09.443958...\n",
      "Updating Drift v2 monitor...\n",
      "Updating Drift v2 monitor. state: preparing. Time elapsed: 0:00:00.922608...\n",
      "Updating Drift v2 monitor. state: active. Time elapsed: 0:00:03.273687...\n"
     ]
    }
   ],
   "source": [
    "drift_v2_utility = DriftV2Utility(client=wos_client, subscription_id=subscription_id)\n",
    "drift_v2_utility.configure(scored_data=baseline_df, embeddings_fn=embeddings_fn)"
   ]
  },
  {
   "cell_type": "markdown",
   "metadata": {},
   "source": [
    "## Optional: Store Runtime Records with \n",
    "\n",
    "Read another scored data csv, to be persisted as runtime data."
   ]
  },
  {
   "cell_type": "code",
   "execution_count": 128,
   "metadata": {},
   "outputs": [
    {
     "name": "stdout",
     "output_type": "stream",
     "text": [
      "<class 'pandas.core.frame.DataFrame'>\n",
      "RangeIndex: 110 entries, 0 to 109\n",
      "Data columns (total 6 columns):\n",
      " #   Column                  Non-Null Count  Dtype  \n",
      "---  ------                  --------------  -----  \n",
      " 0   original_text           110 non-null    object \n",
      " 1   reference_summary       110 non-null    object \n",
      " 2   generated_text          110 non-null    object \n",
      " 3   input_token_count       110 non-null    int64  \n",
      " 4   generated_token_count   110 non-null    int64  \n",
      " 5   prediction_probability  110 non-null    float64\n",
      "dtypes: float64(1), int64(2), object(3)\n",
      "memory usage: 5.3+ KB\n",
      "None\n"
     ]
    },
    {
     "data": {
      "application/vnd.jupyter.widget-view+json": {
       "model_id": "ea0da09f3b224e299794270035da6cbd",
       "version_major": 2,
       "version_minor": 0
      },
      "text/plain": [
       "Storing records... :   0%|          | 0/110 [00:00<?, ?records/s]"
      ]
     },
     "metadata": {},
     "output_type": "display_data"
    },
    {
     "data": {
      "application/vnd.jupyter.widget-view+json": {
       "model_id": "ca80fc89768d4e91b962391a59415f70",
       "version_major": 2,
       "version_minor": 0
      },
      "text/plain": [
       "Computing embeddings... :   0%|          | 0/330 [00:00<?, ?values/s]"
      ]
     },
     "metadata": {},
     "output_type": "display_data"
    },
    {
     "data": {
      "application/vnd.jupyter.widget-view+json": {
       "model_id": "3f355721386c4f8da9d1554b2acdf9e4",
       "version_major": 2,
       "version_minor": 0
      },
      "text/plain": [
       "Storing embeddings... :   0%|          | 0/110 [00:00<?, ?records/s]"
      ]
     },
     "metadata": {},
     "output_type": "display_data"
    }
   ],
   "source": [
    "runtime_df = pd.read_csv(\"<EDIT THIS>\")\n",
    "print(runtime_df.info())\n",
    "\n",
    "embedding_util = EmbeddingsGenerationUtility(\n",
    "    client=wos_client, subscription_id=subscription_id)\n",
    "runtime_df = embedding_util.compute_and_store_embeddings(scored_data=runtime_df,\n",
    "                                                         embeddings_fn=embeddings_fn,\n",
    "                                                         embeddings_chunk_size=100)"
   ]
  },
  {
   "cell_type": "markdown",
   "metadata": {},
   "source": [
    "## Optional: Evaluate Drift v2 monitor"
   ]
  },
  {
   "cell_type": "code",
   "execution_count": 129,
   "metadata": {},
   "outputs": [
    {
     "name": "stdout",
     "output_type": "stream",
     "text": [
      "Running Drift v2 monitor...\n",
      "Running Drift v2 monitor. state: running. Time elapsed: 0:00:00.649101...\n",
      "Running Drift v2 monitor. state: running. Time elapsed: 0:00:11.100097...\n",
      "Running Drift v2 monitor. state: running. Time elapsed: 0:00:21.600146...\n",
      "Running Drift v2 monitor. state: running. Time elapsed: 0:00:31.974034...\n",
      "Running Drift v2 monitor. state: running. Time elapsed: 0:00:42.397013...\n",
      "Running Drift v2 monitor. state: running. Time elapsed: 0:00:52.742539...\n",
      "Running Drift v2 monitor. state: running. Time elapsed: 0:01:03.087831...\n",
      "Running Drift v2 monitor. state: running. Time elapsed: 0:01:13.437764...\n",
      "Running Drift v2 monitor. state: running. Time elapsed: 0:01:23.788788...\n",
      "Running Drift v2 monitor. state: running. Time elapsed: 0:01:34.212243...\n",
      "Running Drift v2 monitor. state: running. Time elapsed: 0:01:44.552081...\n",
      "Running Drift v2 monitor. state: finished. Time elapsed: 0:01:54.905307...\n"
     ]
    }
   ],
   "source": [
    "drift_v2_utility = DriftV2Utility(client=wos_client, subscription_id=subscription_id)\n",
    "drift_v2_utility.evaluate()"
   ]
  },
  {
   "cell_type": "markdown",
   "metadata": {},
   "source": [
    "#### Authors\n",
    "Developed by [Prem Piyush Goyal](mailto:prempiyush@in.ibm.com)"
   ]
  }
 ],
 "metadata": {
  "kernelspec": {
   "display_name": ".venv",
   "language": "python",
   "name": "python3"
  },
  "language_info": {
   "codemirror_mode": {
    "name": "ipython",
    "version": 3
   },
   "file_extension": ".py",
   "mimetype": "text/x-python",
   "name": "python",
   "nbconvert_exporter": "python",
   "pygments_lexer": "ipython3",
   "version": "3.10.14"
  }
 },
 "nbformat": 4,
 "nbformat_minor": 2
}
