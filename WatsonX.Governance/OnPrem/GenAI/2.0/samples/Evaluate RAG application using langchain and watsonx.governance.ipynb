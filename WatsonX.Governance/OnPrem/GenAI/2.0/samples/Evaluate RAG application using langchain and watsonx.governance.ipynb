{
    "cells": [
        {
            "cell_type": "markdown",
            "id": "72e30227-4902-4500-a659-b79717befdb5",
            "metadata": {
                "id": "f7e28a78-d158-40c1-92de-56937f84ad7d"
            },
            "source": [
                "# Evaluate RAG application using langchain and watsonx.governance\n",
                "\n",
                "This notebook demonstrates the creation of Retrieval Augumented Generation(RAG) application using langchain and watsonx.ai, evaluation of the application using watsonx.governance callback handler.\n",
                "\n",
                "## Learning goals\n",
                "\n",
                "- Read data into a vector database\n",
                "- Initialize foundation model\n",
                "- Generate RAG responses\n",
                "- Configure and compute metrics\n",
                "\n",
                "\n",
                "**Note:** Search for `<EDIT THIS>` and provide the inputs.\n",
                "\n",
                "**Please run the notebook in an environment with memory greater than 4GB**\n",
                "\n",
                "## Contents\n",
                "\n",
                "- [Step 1 - Setup](#setup)\n",
                "- [Step 2 - Read and store data in a vector database](#data)\n",
                "- [Step 3 - Initialize a foundation model using `watsonx.ai`](#model)\n",
                "- [Step 4 - Create the prompt and inputs for the prompt template](#predict)\n",
                "- [Step 5 - Configure the `watsonx.governance` metrics](#config)\n",
                "- [Step 6 - Run the LLMChain to generate response and compute the watsonx.governance metrics using callback](#compute)\n",
                "- [Step 7 - Display the results](#results)"
            ]
        },
        {
            "cell_type": "markdown",
            "id": "b48e55a5-6a38-4cce-a043-990da6cadb6e",
            "metadata": {
                "id": "2f499fdf-8d8c-40ce-ab43-652f2c97812e"
            },
            "source": [
                "## Step 1 - Setup <a id=\"setup\"></a>"
            ]
        },
        {
            "cell_type": "markdown",
            "id": "ccd0c957-b76c-4ab9-bba9-467cd78638e5",
            "metadata": {
                "id": "ac6a95af-dabd-487b-96cd-f2f9a3b45478"
            },
            "source": [
                "### Install the necessary libraries"
            ]
        },
        {
            "cell_type": "code",
            "execution_count": null,
            "id": "a9a66f96",
            "metadata": {
                "id": "79c58c18-ac59-4cc9-9aa9-f355257b22b2"
            },
            "outputs": [],
            "source": [
                "!pip install ibm-metrics-plugin~=5.0.3.0\n",
                "!pip install -U ibm-watson-openscale\n",
                "!pip install -U ibm-watsonx-ai\n",
                "!pip install nest_asyncio unitxt torch==2.1.0 \n",
                "!pip install \"langchain==0.0.345\" \n",
                "!pip install wget \n",
                "!pip install sentence-transformers \n",
                "!pip install \"chromadb==0.3.26\" \n",
                "!pip install \"pydantic==1.10.0\" \n",
                "\n",
                "import warnings\n",
                "warnings.filterwarnings(\"ignore\")"
            ]
        },
        {
            "cell_type": "markdown",
            "id": "4d42b608-30ce-4ded-a806-7fc3905d53de",
            "metadata": {
                "id": "06382180-fcf1-4af4-9b15-dcbaba191d51"
            },
            "source": [
                "**Note**: you may need to restart the kernel to use updated libraries."
            ]
        },
        {
            "cell_type": "markdown",
            "id": "d9266c40",
            "metadata": {
                "id": "da88ac4f-de52-40de-a6fb-da46541b5624"
            },
            "source": [
                "### Configure your credentials"
            ]
        },
        {
            "cell_type": "code",
            "execution_count": 1,
            "id": "ec7036fa",
            "metadata": {
                "id": "73c01592-268c-4e5e-985c-89a10e491d89"
            },
            "outputs": [],
            "source": [
                "# CPD credentials\n",
                "credentials = {\n",
                "    \"url\": \"<EDIT THIS>\",\n",
                "    \"username\": \"<EDIT THIS>\",\n",
                "    \"password\" : \"<EDIT THIS>\",\n",
                "    \"instance_id\": \"openshift\",\n",
                "    \"apikey\": \"<EDIT THIS>\",\n",
                "    \"version\" : \"5.0\"\n",
                "}"
            ]
        },
        {
            "cell_type": "markdown",
            "id": "3c181c4e-2b54-4bf0-9070-223bf7837c76",
            "metadata": {
                "id": "61bbdc4e-12c9-4da7-9749-c93363dfc2eb"
            },
            "source": [
                "### Configure your project id\n",
                "Provide the project id to provide the context needed to run the inference against the watsonx.ai model.\n",
                "\n",
                "***Hint***: You can find the `project_id` as follows. Open the prompt lab in watsonx.ai. At the very top of the UI, there will be \"Projects / *project name* /\". Click on the \"*project name*\" link, then get the `project_id` from the project's \"Manage\" tab (\"Project -> Manage -> General -> Details\")."
            ]
        },
        {
            "cell_type": "code",
            "execution_count": 2,
            "id": "de23d9b2-fd37-454a-82d9-c0f37b2766ac",
            "metadata": {
                "id": "a309deb2-8a3b-4215-a8d1-c72c8400abf7"
            },
            "outputs": [],
            "source": [
                "project_id = \"<EDIT THIS>\""
            ]
        },
        {
            "cell_type": "markdown",
            "id": "d1b22745",
            "metadata": {
                "id": "3c265b1f-d1aa-4f08-8e01-2e586c1f4427"
            },
            "source": [
                "## Step 2 - Read and store data in a vector database <a id=\"data\"></a>"
            ]
        },
        {
            "cell_type": "markdown",
            "id": "ec65a592-7608-45bb-bae2-bb4cf5fccc88",
            "metadata": {
                "id": "42acb76a-3102-45fa-a3dc-1072c2cd60ab"
            },
            "source": [
                "### Read the data\n",
                "\n",
                "Download the sample \"State of the Union\" file."
            ]
        },
        {
            "cell_type": "code",
            "execution_count": 3,
            "id": "8d2ddc58-7909-4a03-8089-4261cba5876f",
            "metadata": {
                "id": "1ee5b2f9-fae1-4ad2-9334-ca3a44b6efbd"
            },
            "outputs": [],
            "source": [
                "import wget\n",
                "import os\n",
                "\n",
                "data = 'state_of_the_union.txt'\n",
                "url = 'https://raw.github.com/IBM/watson-machine-learning-samples/master/cloud/data/foundation_models/state_of_the_union.txt'\n",
                "\n",
                "if not os.path.isfile(data):\n",
                "    wget.download(url, out=data)"
            ]
        },
        {
            "cell_type": "markdown",
            "id": "bb70d1af-2750-41de-85b0-815ad3758ee5",
            "metadata": {
                "id": "03228104-6862-4bda-b203-e94bcc65eb5a"
            },
            "source": [
                "### Prepare the data for the vector database\n",
                "\n",
                "Take the `state_of_the_union.txt` speech content data and split it into chunks. "
            ]
        },
        {
            "cell_type": "code",
            "execution_count": 4,
            "id": "4a64a21d-437e-421a-be84-ff605e02d142",
            "metadata": {
                "id": "dad16597-6416-492b-9d0a-cc988d680e5f"
            },
            "outputs": [],
            "source": [
                "from langchain.document_loaders import TextLoader\n",
                "from langchain.text_splitter import CharacterTextSplitter\n",
                "from langchain.vectorstores import Chroma\n",
                "\n",
                "loader = TextLoader(data)\n",
                "documents = loader.load()\n",
                "text_splitter = CharacterTextSplitter(chunk_size=1000, chunk_overlap=0)\n",
                "texts = text_splitter.split_documents(documents)"
            ]
        },
        {
            "cell_type": "markdown",
            "id": "030bbb37-7e24-43d5-821e-a1da1ac7c656",
            "metadata": {
                "id": "2eff055e-995d-4e43-82cd-fcd6e77b4554"
            },
            "source": [
                "### Create an embedding function to store the data in a vector database\n",
                "\n",
                "Embed the chunked data using an open-source embedding model and load it into Chromadb, a vector database.\n",
                "\n",
                "**Note**: You can also provide a custom embedding function to be used by Chromadb; the performance of Chromadb may differ depending on the embedding model used."
            ]
        },
        {
            "cell_type": "code",
            "execution_count": null,
            "id": "6efbbb44-57ca-4c19-949f-756b15a86c41",
            "metadata": {
                "id": "1a488f8f-985e-41d2-91b2-5b5226700e42"
            },
            "outputs": [],
            "source": [
                "from langchain.embeddings import HuggingFaceEmbeddings\n",
                "\n",
                "embeddings = HuggingFaceEmbeddings()\n",
                "docsearch = Chroma.from_documents(texts, embeddings)"
            ]
        },
        {
            "cell_type": "markdown",
            "id": "0e9197fe-53ba-4e29-b481-4811859e07ef",
            "metadata": {
                "id": "15e5ab8b-ec50-4615-8152-2e766667a7d0"
            },
            "source": [
                "## Step 3 - Initialize a foundation model using `watsonx.ai`\n",
                "<a id=\"model\"></a>"
            ]
        },
        {
            "cell_type": "markdown",
            "id": "f958a4e0-72e7-4683-a952-c769c62ed379",
            "metadata": {
                "id": "393a842a-c967-4a22-84de-fe29f869b441"
            },
            "source": [
                "IBM watsonx foundation models are among the <a href=\"https://python.langchain.com/docs/integrations/llms/watsonxllm\" target=\"_blank\" rel=\"noopener no referrer\">list of LLM models supported by Langchain</a>. This example shows how to communicate with <a href=\"https://newsroom.ibm.com/2023-09-28-IBM-Announces-Availability-of-watsonx-Granite-Model-Series,-Client-Protections-for-IBM-watsonx-Models\" target=\"_blank\" rel=\"noopener no referrer\">the Granite Model Series</a> using <a href=\"https://python.langchain.com/docs/get_started/introduction\" target=\"_blank\" rel=\"noopener no referrer\">Langchain</a>."
            ]
        },
        {
            "cell_type": "markdown",
            "id": "98b1fa6b-63b5-4d85-ae3d-1b6b275aa5a9",
            "metadata": {
                "id": "5eb53cd8-6daa-41f9-8e79-a75d54be8a11"
            },
            "source": [
                "### Define a model\n",
                "Specify a `model_id` that will be used for inferencing:"
            ]
        },
        {
            "cell_type": "code",
            "execution_count": 6,
            "id": "a5c7cd4b-cd8f-40b8-be46-cce1a92c1e97",
            "metadata": {
                "id": "812cfd0c-8859-4d16-ae7d-a54beac4d960"
            },
            "outputs": [],
            "source": [
                "from ibm_watsonx_ai.foundation_models.utils.enums import ModelTypes\n",
                "model_id = ModelTypes.GRANITE_13B_CHAT_V2"
            ]
        },
        {
            "cell_type": "markdown",
            "id": "72840462-39cc-4d3a-a39e-acffe2fd8ee3",
            "metadata": {
                "id": "ed05d5d2-1a23-487c-b3d5-efc68e84d5a9"
            },
            "source": [
                "### Define the model parameters\n",
                "Provide a set of model parameters that will influence the result:"
            ]
        },
        {
            "cell_type": "code",
            "execution_count": 7,
            "id": "1c65c4db-49aa-493c-82ea-bdf224551f27",
            "metadata": {
                "id": "4038d9e6-9a11-4f05-9f3b-4bd824fe57cd"
            },
            "outputs": [],
            "source": [
                "from ibm_watsonx_ai.metanames import GenTextParamsMetaNames as GenParams\n",
                "from ibm_watsonx_ai.foundation_models.utils.enums import DecodingMethods\n",
                "\n",
                "parameters = {\n",
                "    GenParams.DECODING_METHOD: DecodingMethods.GREEDY.value,\n",
                "    GenParams.MIN_NEW_TOKENS: 1,\n",
                "    GenParams.MAX_NEW_TOKENS: 100,\n",
                "    GenParams.STOP_SEQUENCES: [\"<|endoftext|>\"]\n",
                "}"
            ]
        },
        {
            "cell_type": "markdown",
            "id": "f600c734-37d0-47ef-9a5d-8291783d0e79",
            "metadata": {
                "id": "6db27e62-044d-4de5-9e6f-beb996624800"
            },
            "source": [
                "### Create watsonx model\n",
                "Initialize the model from watsonx.ai with required parameters, and using `ibm/granite-13b-chat-v2`."
            ]
        },
        {
            "cell_type": "code",
            "execution_count": 8,
            "id": "07e1616d-9fce-40d2-a4a1-f2285f04eee3",
            "metadata": {
                "id": "0e2b977c-04cd-449c-aeb1-aadb3173e90c"
            },
            "outputs": [
                {
                    "name": "stderr",
                    "output_type": "stream",
                    "text": [
                        "/opt/conda/envs/Python-RT24.1-Premium/lib/python3.11/site-packages/ibm_watsonx_ai/foundation_models/utils/utils.py:415: LifecycleWarning: Model 'ibm/granite-13b-chat-v2' is in deprecated state from 2024-11-04 until 2025-02-03. IDs of alternative models: None. Further details: https://dataplatform.cloud.ibm.com/docs/content/wsj/analyze-data/fm-model-lifecycle.html?context=wx&audience=wdp\n",
                        "  warnings.warn(\n"
                    ]
                }
            ],
            "source": [
                "from ibm_watsonx_ai.foundation_models import Model\n",
                "\n",
                "watsonx_model = Model(\n",
                "    model_id=model_id,\n",
                "    params={\n",
                "        \"decoding_method\": \"sample\",\n",
                "        \"max_new_tokens\": 10,\n",
                "        \"min_new_tokens\": 0,\n",
                "        \"temperature\":0.0\n",
                "    },\n",
                "    credentials=cloud_credentials,\n",
                "    project_id=project_id)"
            ]
        },
        {
            "cell_type": "markdown",
            "id": "70abbbe0",
            "metadata": {
                "id": "9396312b-c5d8-4b40-a382-822b64a22c20"
            },
            "source": [
                "## Step 4 - Create the prompt and inputs for the prompt template\n",
                "<a id=\"predict\"></a>"
            ]
        },
        {
            "cell_type": "markdown",
            "id": "a180e268",
            "metadata": {
                "id": "3ee4dd02-aa9e-48ca-afca-77681de2f941"
            },
            "source": [
                "### Create questions and contexts data"
            ]
        },
        {
            "cell_type": "code",
            "execution_count": 9,
            "id": "35b21c62-6502-45d9-93cc-345dfc441ba2",
            "metadata": {
                "id": "3326852a-0c7f-45a8-830e-d0a67cbf8852"
            },
            "outputs": [],
            "source": [
                "query1 = \"What is ARPA-H?\"\n",
                "query2 = \"What is the investment of Ford and GM to build electric vehicles?\"\n",
                "query3 = \"What is the proposed tax rate for corporations?\"\n",
                "query4 = \"What is Intel going to build?\"\n",
                "query5 = \"How many new manufacturing jobs are created last year?\"\n",
                "query6 = \"How many electric vehicle charging stations are built?\"\n",
                "\n",
                "questions = [query1 , query2, query3, query4, query5, query6]"
            ]
        },
        {
            "cell_type": "code",
            "execution_count": 10,
            "id": "cd27e567-3ebc-4ffb-8d28-7c2f93720ef2",
            "metadata": {
                "id": "cd27e567-3ebc-4ffb-8d28-7c2f93720ef2"
            },
            "outputs": [],
            "source": [
                "contexts = []\n",
                "for query in questions:\n",
                "    #Retrive relevant context for each question from the vector db\n",
                "    docs = docsearch.as_retriever().get_relevant_documents(query)\n",
                "\n",
                "    context = []\n",
                "    #Extract the needed information\n",
                "    for doc in docs:\n",
                "        context.append(doc.to_json()['kwargs']['page_content'])\n",
                "\n",
                "    #Capture the context\n",
                "    contexts.append(context)"
            ]
        },
        {
            "cell_type": "markdown",
            "id": "b2fbd5cc-8847-4b80-8ff7-54dd4938f957",
            "metadata": {
                "id": "b2fbd5cc-8847-4b80-8ff7-54dd4938f957"
            },
            "source": [
                "### Construct a dataframe with question, contexts and answer to be used for metrics computation\n",
                "<a id=\"predict\"><a>"
            ]
        },
        {
            "cell_type": "code",
            "execution_count": 11,
            "id": "42686499-4197-48f2-8164-34f5d2b1ce5a",
            "metadata": {
                "id": "42686499-4197-48f2-8164-34f5d2b1ce5a"
            },
            "outputs": [
                {
                    "data": {
                        "text/html": [
                            "<div>\n",
                            "<style scoped>\n",
                            "    .dataframe tbody tr th:only-of-type {\n",
                            "        vertical-align: middle;\n",
                            "    }\n",
                            "\n",
                            "    .dataframe tbody tr th {\n",
                            "        vertical-align: top;\n",
                            "    }\n",
                            "\n",
                            "    .dataframe thead th {\n",
                            "        text-align: right;\n",
                            "    }\n",
                            "</style>\n",
                            "<table border=\"1\" class=\"dataframe\">\n",
                            "  <thead>\n",
                            "    <tr style=\"text-align: right;\">\n",
                            "      <th></th>\n",
                            "      <th>context1</th>\n",
                            "      <th>context2</th>\n",
                            "      <th>context3</th>\n",
                            "      <th>context4</th>\n",
                            "      <th>question</th>\n",
                            "    </tr>\n",
                            "  </thead>\n",
                            "  <tbody>\n",
                            "    <tr>\n",
                            "      <th>0</th>\n",
                            "      <td>Last month, I announced our plan to supercharg...</td>\n",
                            "      <td>For that purpose we’ve mobilized American grou...</td>\n",
                            "      <td>If you travel 20 miles east of Columbus, Ohio,...</td>\n",
                            "      <td>But cancer from prolonged exposure to burn pit...</td>\n",
                            "      <td>What is ARPA-H?</td>\n",
                            "    </tr>\n",
                            "    <tr>\n",
                            "      <th>1</th>\n",
                            "      <td>So let’s not wait any longer. Send it to my de...</td>\n",
                            "      <td>If you travel 20 miles east of Columbus, Ohio,...</td>\n",
                            "      <td>When we use taxpayer dollars to rebuild Americ...</td>\n",
                            "      <td>It is going to transform America and put us on...</td>\n",
                            "      <td>What is the investment of Ford and GM to build...</td>\n",
                            "    </tr>\n",
                            "    <tr>\n",
                            "      <th>2</th>\n",
                            "      <td>My plan will cut the cost in half for most fam...</td>\n",
                            "      <td>We got more than 130 countries to agree on a g...</td>\n",
                            "      <td>And unlike the $2 Trillion tax cut passed in t...</td>\n",
                            "      <td>We’re going after the criminals who stole bill...</td>\n",
                            "      <td>What is the proposed tax rate for corporations?</td>\n",
                            "    </tr>\n",
                            "    <tr>\n",
                            "      <th>3</th>\n",
                            "      <td>If you travel 20 miles east of Columbus, Ohio,...</td>\n",
                            "      <td>So let’s not wait any longer. Send it to my de...</td>\n",
                            "      <td>When we use taxpayer dollars to rebuild Americ...</td>\n",
                            "      <td>It is going to transform America and put us on...</td>\n",
                            "      <td>What is Intel going to build?</td>\n",
                            "    </tr>\n",
                            "    <tr>\n",
                            "      <th>4</th>\n",
                            "      <td>So let’s not wait any longer. Send it to my de...</td>\n",
                            "      <td>If you travel 20 miles east of Columbus, Ohio,...</td>\n",
                            "      <td>When we use taxpayer dollars to rebuild Americ...</td>\n",
                            "      <td>As Ohio Senator Sherrod Brown says, “It’s time...</td>\n",
                            "      <td>How many new manufacturing jobs are created la...</td>\n",
                            "    </tr>\n",
                            "    <tr>\n",
                            "      <th>5</th>\n",
                            "      <td>So let’s not wait any longer. Send it to my de...</td>\n",
                            "      <td>If you travel 20 miles east of Columbus, Ohio,...</td>\n",
                            "      <td>It is going to transform America and put us on...</td>\n",
                            "      <td>Vice President Harris and I ran for office wit...</td>\n",
                            "      <td>How many electric vehicle charging stations ar...</td>\n",
                            "    </tr>\n",
                            "  </tbody>\n",
                            "</table>\n",
                            "</div>"
                        ],
                        "text/plain": [
                            "                                            context1  \\\n",
                            "0  Last month, I announced our plan to supercharg...   \n",
                            "1  So let’s not wait any longer. Send it to my de...   \n",
                            "2  My plan will cut the cost in half for most fam...   \n",
                            "3  If you travel 20 miles east of Columbus, Ohio,...   \n",
                            "4  So let’s not wait any longer. Send it to my de...   \n",
                            "5  So let’s not wait any longer. Send it to my de...   \n",
                            "\n",
                            "                                            context2  \\\n",
                            "0  For that purpose we’ve mobilized American grou...   \n",
                            "1  If you travel 20 miles east of Columbus, Ohio,...   \n",
                            "2  We got more than 130 countries to agree on a g...   \n",
                            "3  So let’s not wait any longer. Send it to my de...   \n",
                            "4  If you travel 20 miles east of Columbus, Ohio,...   \n",
                            "5  If you travel 20 miles east of Columbus, Ohio,...   \n",
                            "\n",
                            "                                            context3  \\\n",
                            "0  If you travel 20 miles east of Columbus, Ohio,...   \n",
                            "1  When we use taxpayer dollars to rebuild Americ...   \n",
                            "2  And unlike the $2 Trillion tax cut passed in t...   \n",
                            "3  When we use taxpayer dollars to rebuild Americ...   \n",
                            "4  When we use taxpayer dollars to rebuild Americ...   \n",
                            "5  It is going to transform America and put us on...   \n",
                            "\n",
                            "                                            context4  \\\n",
                            "0  But cancer from prolonged exposure to burn pit...   \n",
                            "1  It is going to transform America and put us on...   \n",
                            "2  We’re going after the criminals who stole bill...   \n",
                            "3  It is going to transform America and put us on...   \n",
                            "4  As Ohio Senator Sherrod Brown says, “It’s time...   \n",
                            "5  Vice President Harris and I ran for office wit...   \n",
                            "\n",
                            "                                            question  \n",
                            "0                                    What is ARPA-H?  \n",
                            "1  What is the investment of Ford and GM to build...  \n",
                            "2    What is the proposed tax rate for corporations?  \n",
                            "3                      What is Intel going to build?  \n",
                            "4  How many new manufacturing jobs are created la...  \n",
                            "5  How many electric vehicle charging stations ar...  "
                        ]
                    },
                    "execution_count": 11,
                    "metadata": {},
                    "output_type": "execute_result"
                }
            ],
            "source": [
                "import pandas as pd\n",
                "data = pd.DataFrame(contexts, columns=[\"context1\", \"context2\", \"context3\", \"context4\"])\n",
                "data[\"question\"] = questions\n",
                "data"
            ]
        },
        {
            "cell_type": "code",
            "execution_count": 12,
            "id": "436c949c",
            "metadata": {
                "id": "436c949c"
            },
            "outputs": [],
            "source": [
                "df_input = pd.DataFrame(data, columns=[\"context1\", \"context2\", \"context3\", \"context4\", \"question\"])\n",
                "\n",
                "sources = df_input[[\"context1\", \"context2\", \"context3\", \"context4\", \"question\"]].to_dict(orient='records')"
            ]
        },
        {
            "cell_type": "markdown",
            "id": "53acec5f-dd80-4525-a28d-5435b4607500",
            "metadata": {
                "id": "53acec5f-dd80-4525-a28d-5435b4607500"
            },
            "source": [
                "### Create the prompt template and prompt variable"
            ]
        },
        {
            "cell_type": "code",
            "execution_count": 13,
            "id": "50c2a2df-888b-4dd7-a375-cbd76c79622e",
            "metadata": {
                "id": "50c2a2df-888b-4dd7-a375-cbd76c79622e"
            },
            "outputs": [],
            "source": [
                "from langchain import PromptTemplate\n",
                "\n",
                "rag_prompt_text = \"\"\"\n",
                "Based on the contexts provided, answer the question. Provide the answer in a complete sentence.\n",
                "\n",
                "{context1}\n",
                "\n",
                "{context2}\n",
                "\n",
                "{context3}\n",
                "\n",
                "{context4}\n",
                "\n",
                "Question : {question}\n",
                "Answer: \n",
                "\"\"\"\n",
                "\n",
                "rag_prompt = PromptTemplate(\n",
                "    input_variables=[\"context1\",\"context2\",\"context3\",\"context4\",\"question\"],\n",
                "    template=rag_prompt_text\n",
                ")"
            ]
        },
        {
            "cell_type": "markdown",
            "id": "360c6ecd",
            "metadata": {
                "id": "711cecf8-3ae8-4fdd-8e27-30357688b205"
            },
            "source": [
                "## Step 5 - Configure the `watsonx.governance` metrics\n",
                "<a id=\"config\"></a>\n",
                "\n",
                "Configure the required metrics"
            ]
        },
        {
            "cell_type": "code",
            "execution_count": 14,
            "id": "35bbce5e",
            "metadata": {
                "id": "35bbce5e"
            },
            "outputs": [],
            "source": [
                "from ibm_metrics_plugin.metrics.llm.utils.constants import LLMTextMetricGroup, LLMCommonMetrics, LLMQAMetrics, LLMRAGMetrics\n",
                "\n",
                "# Edit below values based on the input data\n",
                "context_columns = [\"context1\", \"context2\", \"context3\", \"context4\"]\n",
                "question_column = \"question\"\n",
                "answer_column = \"answer\"\n",
                "\n",
                "config_json = {\n",
                "            \"configuration\": {\n",
                "                \"context_columns\": context_columns,\n",
                "                \"question_column\": question_column,\n",
                "                \"record_level\": True,\n",
                "                 LLMTextMetricGroup.RAG.value: {\n",
                "                    LLMCommonMetrics.FAITHFULNESS.value: {\n",
                "                    },\n",
                "                    LLMCommonMetrics.ANSWER_RELEVANCE.value: {\n",
                "                    },\n",
                "                    LLMQAMetrics.UNSUCCESSFUL_REQUESTS.value: {\n",
                "                    },\n",
                "                    LLMRAGMetrics.RETRIEVAL_QUALITY.value: {\n",
                "                    },\n",
                "                    LLMCommonMetrics.CONTENT_ANALYSIS.value: {},\n",
                "                    LLMCommonMetrics.UNSUCCESSFUL_REQUESTS.value: {\n",
                "                        # \"unsuccessful_phrases\": []\n",
                "                    }\n",
                "                }\n",
                "            }\n",
                "        }"
            ]
        },
        {
            "cell_type": "markdown",
            "id": "c7ad1dbc-84cc-4c3b-a786-149a2457fefe",
            "metadata": {
                "id": "c7ad1dbc-84cc-4c3b-a786-149a2457fefe"
            },
            "source": [
                "### Create watsonx.governance client "
            ]
        },
        {
            "cell_type": "code",
            "execution_count": 15,
            "id": "aa0d7844-5c99-40dd-8c03-eb60a3790707",
            "metadata": {
                "id": "aa0d7844-5c99-40dd-8c03-eb60a3790707"
            },
            "outputs": [
                {
                    "name": "stdout",
                    "output_type": "stream",
                    "text": [
                        "3.0.41\n"
                    ]
                }
            ],
            "source": [
                "from ibm_cloud_sdk_core.authenticators import CloudPakForDataAuthenticator\n",
                "\n",
                "from ibm_watson_openscale import *\n",
                "from ibm_watson_openscale.supporting_classes.enums import *\n",
                "from ibm_watson_openscale.supporting_classes import *\n",
                "\n",
                "authenticator = CloudPakForDataAuthenticator(\n",
                "        url=credentials['url'],\n",
                "        username=credentials['username'],\n",
                "        apikey=credentials['apikey'],\n",
                "        disable_ssl_verification=True,\n",
                "    )\n",
                "\n",
                "client = APIClient(service_url=credentials['url'],authenticator=authenticator)\n",
                "\n",
                "client.version\n",
                "\n",
                "print(client.version)"
            ]
        },
        {
            "cell_type": "markdown",
            "id": "60d126ea-7429-4f8e-961b-8ebabae26a2d",
            "metadata": {
                "id": "a7fe7e26-a85b-4f1b-b648-0d2a9620eac1"
            },
            "source": [
                "### Step 6 - Run the LLMChain to generate response and compute the watsonx.governance metrics using callback"
            ]
        },
        {
            "cell_type": "markdown",
            "id": "7a9fa985-32b4-4688-9b66-e270625d873b",
            "metadata": {
                "id": "7a9fa985-32b4-4688-9b66-e270625d873b"
            },
            "source": [
                "#### Intialize LLMChain"
            ]
        },
        {
            "cell_type": "code",
            "execution_count": 16,
            "id": "683068ae",
            "metadata": {
                "id": "6b3def4c-8a0e-48eb-8a42-076bc90b7b28"
            },
            "outputs": [],
            "source": [
                "from langchain.chains import LLMChain\n",
                "rag_chain = LLMChain(llm=watsonx_model.to_langchain(), prompt=rag_prompt)"
            ]
        },
        {
            "cell_type": "markdown",
            "id": "a3c62f41-3812-435a-b756-eae19e30f59d",
            "metadata": {
                "id": "a3c62f41-3812-435a-b756-eae19e30f59d"
            },
            "source": [
                "#### WatsonxGovCallbackHandler parameters\n",
                "| Parameter | Description | Type | Default Value  |\n",
                "|:-|:-|:-|:-|\n",
                "| configuration* | Configuration of metrics to be evaluated | dictionary |  |\n",
                "| watsonxgov_client* | watsonx client objects |  |  |\n",
                "| source | The context from which the model answers the question | dictionary |  |\n",
                "| reference | The reference for the response generated for the model | dictionary |  |\n",
                "| record_id | record id for the record getting evaluated | string |  |\n",
                "| debug | flag variable to handle the debugs during the execution | boolean | false |"
            ]
        },
        {
            "cell_type": "code",
            "execution_count": 17,
            "id": "0331ce38-1a03-4737-a1da-eaacabe83f0d",
            "metadata": {
                "id": "0331ce38-1a03-4737-a1da-eaacabe83f0d"
            },
            "outputs": [
                {
                    "name": "stdout",
                    "output_type": "stream",
                    "text": [
                        "Evaluating for record 8a9dc4c0-4bde-43a8-b4e9-7809b264e18e\n"
                    ]
                },
                {
                    "name": "stderr",
                    "output_type": "stream",
                    "text": [
                        "[nltk_data] Downloading package punkt_tab to /home/wsuser/nltk_data...\n",
                        "[nltk_data]   Unzipping tokenizers/punkt_tab.zip.\n"
                    ]
                },
                {
                    "name": "stdout",
                    "output_type": "stream",
                    "text": [
                        "Evaluating for record 195d226b-a4ea-47ee-a04c-16781c35231e\n",
                        "Evaluating for record a6862cef-131d-47f1-94b8-997034988785\n",
                        "Evaluating for record f94f253f-4b90-4fe7-a0c3-8f102e5ab344\n",
                        "Evaluating for record 956c43be-f7b1-42ff-a5e5-e1470c89bb5a\n",
                        "Evaluating for record 68c4793c-d2a0-45ae-a4c2-ba2a1e3d77c1\n"
                    ]
                }
            ],
            "source": [
                "from ibm_watson_openscale.callbacks.langchain import WatsonxGovCallbackHandler\n",
                "\n",
                "answers=[]\n",
                "record_level_metrics=[]\n",
                "\n",
                "for input_text in sources:\n",
                "    handler=WatsonxGovCallbackHandler(configuration=config_json, watsonxgov_client=client, source=input_text)\n",
                "    result=rag_chain.run(input_text, callbacks=[handler])\n",
                "    answers.append(result)\n",
                "    record_level_metrics.append(handler.computed_metrics)"
            ]
        },
        {
            "cell_type": "markdown",
            "id": "e62383a5-7096-4a4c-9175-58d4cc765412",
            "metadata": {
                "id": "16d5c11a-162d-4bab-8d24-4c2205b41c98"
            },
            "source": [
                "#### Run this cell to get the combined metrics results"
            ]
        },
        {
            "cell_type": "code",
            "execution_count": 18,
            "id": "8b852f77",
            "metadata": {
                "id": "951359159a5a49eaae11f3280f27ad63"
            },
            "outputs": [
                {
                    "name": "stdout",
                    "output_type": "stream",
                    "text": [
                        "{\n",
                        "  \"answer_relevance\": {\n",
                        "    \"record_level_metrics\": [\n",
                        "      {\n",
                        "        \"answer_relevance\": 0.3717,\n",
                        "        \"record_id\": \"db482f2d-12b8-40f8-9df3-c0e35801fc90\"\n",
                        "      },\n",
                        "      {\n",
                        "        \"answer_relevance\": 0.0108,\n",
                        "        \"record_id\": \"abb973be-c3f5-4001-a4df-9d61b7ea3c2a\"\n",
                        "      },\n",
                        "      {\n",
                        "        \"answer_relevance\": 0.5363,\n",
                        "        \"record_id\": \"9f1b8cb8-9859-4a2a-8fc0-12c1dd311f0f\"\n",
                        "      },\n",
                        "      {\n",
                        "        \"answer_relevance\": 0.993,\n",
                        "        \"record_id\": \"a2237b85-c204-4b81-8934-d37c986db194\"\n",
                        "      },\n",
                        "      {\n",
                        "        \"answer_relevance\": 0.9903,\n",
                        "        \"record_id\": \"9371b36e-a165-4e54-9e14-25d7a8d53ec6\"\n",
                        "      },\n",
                        "      {\n",
                        "        \"answer_relevance\": 0.0036,\n",
                        "        \"record_id\": \"d79771d2-2e63-4bfa-affc-4c925b0b03dd\"\n",
                        "      }\n",
                        "    ],\n",
                        "    \"metric_value\": 0.48428333333333334,\n",
                        "    \"mean\": 0.48428333333333334,\n",
                        "    \"min\": 0.0036,\n",
                        "    \"max\": 0.993,\n",
                        "    \"std\": 0.4052713470284104\n",
                        "  },\n",
                        "  \"faithfulness\": {\n",
                        "    \"record_level_metrics\": [\n",
                        "      {\n",
                        "        \"faithfulness\": 0.9847,\n",
                        "        \"faithfulness_attributions\": [\n",
                        "          {\n",
                        "            \"attributions\": [\n",
                        "              {\n",
                        "                \"faithfulness_scores\": [\n",
                        "                  0.9897\n",
                        "                ],\n",
                        "                \"feature_name\": \"context2\",\n",
                        "                \"feature_values\": [\n",
                        "                  \"But while he may make gains on the battlefield \\u2013 he will pay a continuing high price over the long run. And a proud Ukrainian people, who have known 30 years  of independence, have repeatedly shown that they will not tolerate anyone who tries to take their country backwards.\"\n",
                        "                ]\n",
                        "              },\n",
                        "              {\n",
                        "                \"faithfulness_scores\": [\n",
                        "                  0.984\n",
                        "                ],\n",
                        "                \"feature_name\": \"context3\",\n",
                        "                \"feature_values\": [\n",
                        "                  \"If you travel 20 miles east of Columbus, Ohio, you\\u2019ll find 1,000 empty acres of land. It won\\u2019t look like much, but if you stop and look closely, you\\u2019ll see a \\u201cField of dreams,\\u201d the ground on which America\\u2019s future will be built.\"\n",
                        "                ]\n",
                        "              }\n",
                        "            ],\n",
                        "            \"faithfulness_score\": 0.9897,\n",
                        "            \"output_text\": \" A.\"\n",
                        "          },\n",
                        "          {\n",
                        "            \"attributions\": [\n",
                        "              {\n",
                        "                \"faithfulness_scores\": [\n",
                        "                  0.9796,\n",
                        "                  0.9534,\n",
                        "                  0.8426\n",
                        "                ],\n",
                        "                \"feature_name\": \"context1\",\n",
                        "                \"feature_values\": [\n",
                        "                  \"More support for patients and families. To get there, I call on Congress to fund ARPA-H, the Advanced Research Projects Agency for Health.\",\n",
                        "                  \"To get there, I call on Congress to fund ARPA-H, the Advanced Research Projects Agency for Health. It\\u2019s based on DARPA\\u2014the Defense Department project that led to the Internet, GPS, and so much more.\",\n",
                        "                  \"ARPA-H will have a singular purpose\\u2014to drive breakthroughs in cancer, Alzheimer\\u2019s, diabetes, and more. A unity agenda for the nation.\"\n",
                        "                ]\n",
                        "              }\n",
                        "            ],\n",
                        "            \"faithfulness_score\": 0.9796,\n",
                        "            \"output_text\": \"The Advanced Research Projects Agency for Health\"\n",
                        "          }\n",
                        "        ],\n",
                        "        \"record_id\": \"db482f2d-12b8-40f8-9df3-c0e35801fc90\"\n",
                        "      },\n",
                        "      {\n",
                        "        \"faithfulness\": 0.4419,\n",
                        "        \"faithfulness_attributions\": [\n",
                        "          {\n",
                        "            \"attributions\": [\n",
                        "              {\n",
                        "                \"faithfulness_scores\": [\n",
                        "                  0.4419,\n",
                        "                  0.0028\n",
                        "                ],\n",
                        "                \"feature_name\": \"context1\",\n",
                        "                \"feature_values\": [\n",
                        "                  \"Ford is investing $11 billion to build electric vehicles, creating 11,000 jobs across the country. GM is making the largest investment in its history\\u2014$7 billion to build electric vehicles, creating 4,000 jobs in Michigan.\",\n",
                        "                  \"That\\u2019s what is happening. Ford is investing $11 billion to build electric vehicles, creating 11,000 jobs across the country.\"\n",
                        "                ]\n",
                        "              },\n",
                        "              {\n",
                        "                \"faithfulness_scores\": [\n",
                        "                  0.0014\n",
                        "                ],\n",
                        "                \"feature_name\": \"context2\",\n",
                        "                \"feature_values\": [\n",
                        "                  \"The Internet. Technology we have yet to invent.\"\n",
                        "                ]\n",
                        "              }\n",
                        "            ],\n",
                        "            \"faithfulness_score\": 0.4419,\n",
                        "            \"output_text\": \" $11 billion by Ford and $7 billion\"\n",
                        "          }\n",
                        "        ],\n",
                        "        \"record_id\": \"abb973be-c3f5-4001-a4df-9d61b7ea3c2a\"\n",
                        "      },\n",
                        "      {\n",
                        "        \"faithfulness\": 0.9056,\n",
                        "        \"faithfulness_attributions\": [\n",
                        "          {\n",
                        "            \"attributions\": [\n",
                        "              {\n",
                        "                \"faithfulness_scores\": [\n",
                        "                  0.9056\n",
                        "                ],\n",
                        "                \"feature_name\": \"context1\",\n",
                        "                \"feature_values\": [\n",
                        "                  \"That\\u2019s simply not fair. That\\u2019s why I\\u2019ve proposed a 15% minimum tax rate for corporations.\"\n",
                        "                ]\n",
                        "              },\n",
                        "              {\n",
                        "                \"faithfulness_scores\": [\n",
                        "                  0.0121\n",
                        "                ],\n",
                        "                \"feature_name\": \"context3\",\n",
                        "                \"feature_values\": [\n",
                        "                  \"It created jobs. Lots of jobs.\"\n",
                        "                ]\n",
                        "              }\n",
                        "            ],\n",
                        "            \"faithfulness_score\": 0.9056,\n",
                        "            \"output_text\": \" A 15% minimum tax rate for corporations has\"\n",
                        "          }\n",
                        "        ],\n",
                        "        \"record_id\": \"9f1b8cb8-9859-4a2a-8fc0-12c1dd311f0f\"\n",
                        "      },\n",
                        "      {\n",
                        "        \"faithfulness\": 0.3836,\n",
                        "        \"faithfulness_attributions\": [\n",
                        "          {\n",
                        "            \"attributions\": [\n",
                        "              {\n",
                        "                \"faithfulness_scores\": [\n",
                        "                  0.3836,\n",
                        "                  0.0201,\n",
                        "                  0.0173\n",
                        "                ],\n",
                        "                \"feature_name\": \"context1\",\n",
                        "                \"feature_values\": [\n",
                        "                  \"This is where Intel, the American company that helped build Silicon Valley, is going to build its $20 billion semiconductor \\u201cmega site\\u201d. Up to eight state-of-the-art factories in one place.\",\n",
                        "                  \"But that\\u2019s just the beginning. Intel\\u2019s CEO, Pat Gelsinger, who is here tonight, told me they are ready to increase their investment from  \\n$20 billion to $100 billion.\",\n",
                        "                  \"Intel\\u2019s CEO, Pat Gelsinger, who is here tonight, told me they are ready to increase their investment from  \\n$20 billion to $100 billion. That would be one of the biggest investments in manufacturing in American history.\"\n",
                        "                ]\n",
                        "              }\n",
                        "            ],\n",
                        "            \"faithfulness_score\": 0.3836,\n",
                        "            \"output_text\": \" Intel is going to build a $20\"\n",
                        "          }\n",
                        "        ],\n",
                        "        \"record_id\": \"a2237b85-c204-4b81-8934-d37c986db194\"\n",
                        "      },\n",
                        "      {\n",
                        "        \"faithfulness\": 0.7552,\n",
                        "        \"faithfulness_attributions\": [\n",
                        "          {\n",
                        "            \"attributions\": [\n",
                        "              {\n",
                        "                \"faithfulness_scores\": [\n",
                        "                  0.7552,\n",
                        "                  0.3119\n",
                        "                ],\n",
                        "                \"feature_name\": \"context1\",\n",
                        "                \"feature_values\": [\n",
                        "                  \"All told, we created 369,000 new manufacturing jobs in America just last year. Powered by people I\\u2019ve met like JoJo Burgess, from generations of union steelworkers from Pittsburgh, who\\u2019s here with us tonight.\",\n",
                        "                  \"GM is making the largest investment in its history\\u2014$7 billion to build electric vehicles, creating 4,000 jobs in Michigan. All told, we created 369,000 new manufacturing jobs in America just last year.\"\n",
                        "                ]\n",
                        "              }\n",
                        "            ],\n",
                        "            \"faithfulness_score\": 0.7552,\n",
                        "            \"output_text\": \" 369,000 new manufacturing jobs are created last\"\n",
                        "          }\n",
                        "        ],\n",
                        "        \"record_id\": \"9371b36e-a165-4e54-9e14-25d7a8d53ec6\"\n",
                        "      },\n",
                        "      {\n",
                        "        \"faithfulness\": 0.042,\n",
                        "        \"faithfulness_attributions\": [\n",
                        "          {\n",
                        "            \"attributions\": [\n",
                        "              {\n",
                        "                \"faithfulness_scores\": [\n",
                        "                  0.042,\n",
                        "                  0.0373\n",
                        "                ],\n",
                        "                \"feature_name\": \"context1\",\n",
                        "                \"feature_values\": [\n",
                        "                  \"Ford is investing $11 billion to build electric vehicles, creating 11,000 jobs across the country. GM is making the largest investment in its history\\u2014$7 billion to build electric vehicles, creating 4,000 jobs in Michigan.\",\n",
                        "                  \"The rebirth of the pride that comes from stamping products \\u201cMade In America.\\u201d The revitalization of American manufacturing. Companies are choosing to build new factories here, when just a few years ago, they would have built them overseas.\"\n",
                        "                ]\n",
                        "              },\n",
                        "              {\n",
                        "                \"faithfulness_scores\": [\n",
                        "                  0.0366\n",
                        "                ],\n",
                        "                \"feature_name\": \"context2\",\n",
                        "                \"feature_values\": [\n",
                        "                  \"Technology we have yet to invent. But that\\u2019s just the beginning.\"\n",
                        "                ]\n",
                        "              }\n",
                        "            ],\n",
                        "            \"faithfulness_score\": 0.042,\n",
                        "            \"output_text\": \" The response is not accurate based on the information\"\n",
                        "          }\n",
                        "        ],\n",
                        "        \"record_id\": \"d79771d2-2e63-4bfa-affc-4c925b0b03dd\"\n",
                        "      }\n",
                        "    ],\n",
                        "    \"metric_value\": 0.5855,\n",
                        "    \"mean\": 0.5855,\n",
                        "    \"min\": 0.042,\n",
                        "    \"max\": 0.9847,\n",
                        "    \"std\": 0.3284812424883142\n",
                        "  },\n",
                        "  \"retrieval_quality\": {\n",
                        "    \"record_level_metrics\": [\n",
                        "      {\n",
                        "        \"average_precision\": 0.8,\n",
                        "        \"context_relevance\": 0.8103,\n",
                        "        \"context_relevances\": {\n",
                        "          \"context_columns\": [\n",
                        "            \"context1\",\n",
                        "            \"context2\",\n",
                        "            \"context3\",\n",
                        "            \"context4\"\n",
                        "          ],\n",
                        "          \"context_relevances\": [\n",
                        "            0.8103,\n",
                        "            0.6411,\n",
                        "            0.6468,\n",
                        "            0.806\n",
                        "          ]\n",
                        "        },\n",
                        "        \"hit_rate\": 1,\n",
                        "        \"ndcg\": 0.9828,\n",
                        "        \"reciprocal_rank\": 1.0,\n",
                        "        \"record_id\": \"db482f2d-12b8-40f8-9df3-c0e35801fc90\",\n",
                        "        \"retrieval_precision\": 0.5\n",
                        "      },\n",
                        "      {\n",
                        "        \"average_precision\": 0,\n",
                        "        \"context_relevance\": 0.2005,\n",
                        "        \"context_relevances\": {\n",
                        "          \"context_columns\": [\n",
                        "            \"context1\",\n",
                        "            \"context2\",\n",
                        "            \"context3\",\n",
                        "            \"context4\"\n",
                        "          ],\n",
                        "          \"context_relevances\": [\n",
                        "            0.2005,\n",
                        "            0.0982,\n",
                        "            0.034,\n",
                        "            0.0215\n",
                        "          ]\n",
                        "        },\n",
                        "        \"hit_rate\": 0,\n",
                        "        \"ndcg\": 1.0,\n",
                        "        \"reciprocal_rank\": 0,\n",
                        "        \"record_id\": \"abb973be-c3f5-4001-a4df-9d61b7ea3c2a\",\n",
                        "        \"retrieval_precision\": 0.0\n",
                        "      },\n",
                        "      {\n",
                        "        \"average_precision\": 0,\n",
                        "        \"context_relevance\": 0.1992,\n",
                        "        \"context_relevances\": {\n",
                        "          \"context_columns\": [\n",
                        "            \"context1\",\n",
                        "            \"context2\",\n",
                        "            \"context3\",\n",
                        "            \"context4\"\n",
                        "          ],\n",
                        "          \"context_relevances\": [\n",
                        "            0.1992,\n",
                        "            0.0133,\n",
                        "            0.0074,\n",
                        "            0.0082\n",
                        "          ]\n",
                        "        },\n",
                        "        \"hit_rate\": 0,\n",
                        "        \"ndcg\": 0.9997,\n",
                        "        \"reciprocal_rank\": 0,\n",
                        "        \"record_id\": \"9f1b8cb8-9859-4a2a-8fc0-12c1dd311f0f\",\n",
                        "        \"retrieval_precision\": 0.0\n",
                        "      },\n",
                        "      {\n",
                        "        \"average_precision\": 1.0,\n",
                        "        \"context_relevance\": 0.8737,\n",
                        "        \"context_relevances\": {\n",
                        "          \"context_columns\": [\n",
                        "            \"context1\",\n",
                        "            \"context2\",\n",
                        "            \"context3\",\n",
                        "            \"context4\"\n",
                        "          ],\n",
                        "          \"context_relevances\": [\n",
                        "            0.8737,\n",
                        "            0.7133,\n",
                        "            0.4553,\n",
                        "            0.2424\n",
                        "          ]\n",
                        "        },\n",
                        "        \"hit_rate\": 1,\n",
                        "        \"ndcg\": 1.0,\n",
                        "        \"reciprocal_rank\": 1.0,\n",
                        "        \"record_id\": \"a2237b85-c204-4b81-8934-d37c986db194\",\n",
                        "        \"retrieval_precision\": 0.25\n",
                        "      },\n",
                        "      {\n",
                        "        \"average_precision\": 1.0,\n",
                        "        \"context_relevance\": 0.8313,\n",
                        "        \"context_relevances\": {\n",
                        "          \"context_columns\": [\n",
                        "            \"context1\",\n",
                        "            \"context2\",\n",
                        "            \"context3\",\n",
                        "            \"context4\"\n",
                        "          ],\n",
                        "          \"context_relevances\": [\n",
                        "            0.8313,\n",
                        "            0.3272,\n",
                        "            0.0495,\n",
                        "            0.0962\n",
                        "          ]\n",
                        "        },\n",
                        "        \"hit_rate\": 1,\n",
                        "        \"ndcg\": 0.9971,\n",
                        "        \"reciprocal_rank\": 1.0,\n",
                        "        \"record_id\": \"9371b36e-a165-4e54-9e14-25d7a8d53ec6\",\n",
                        "        \"retrieval_precision\": 0.25\n",
                        "      },\n",
                        "      {\n",
                        "        \"average_precision\": 0,\n",
                        "        \"context_relevance\": 0.5984,\n",
                        "        \"context_relevances\": {\n",
                        "          \"context_columns\": [\n",
                        "            \"context1\",\n",
                        "            \"context2\",\n",
                        "            \"context3\",\n",
                        "            \"context4\"\n",
                        "          ],\n",
                        "          \"context_relevances\": [\n",
                        "            0.0602,\n",
                        "            0.0134,\n",
                        "            0.5984,\n",
                        "            0.0058\n",
                        "          ]\n",
                        "        },\n",
                        "        \"hit_rate\": 0,\n",
                        "        \"ndcg\": 0.6561,\n",
                        "        \"reciprocal_rank\": 0,\n",
                        "        \"record_id\": \"d79771d2-2e63-4bfa-affc-4c925b0b03dd\",\n",
                        "        \"retrieval_precision\": 0.0\n",
                        "      }\n",
                        "    ],\n",
                        "    \"average_precision\": {\n",
                        "      \"metric_value\": 0.4666666666666666,\n",
                        "      \"mean\": 0.4666666666666666,\n",
                        "      \"min\": 0.0,\n",
                        "      \"max\": 1.0,\n",
                        "      \"std\": 0.4714045207910317\n",
                        "    },\n",
                        "    \"context_relevance\": {\n",
                        "      \"metric_value\": 0.5855666666666668,\n",
                        "      \"mean\": 0.5855666666666668,\n",
                        "      \"min\": 0.1992,\n",
                        "      \"max\": 0.8737,\n",
                        "      \"std\": 0.28624901552475057\n",
                        "    },\n",
                        "    \"hit_rate\": {\n",
                        "      \"metric_value\": 0.5,\n",
                        "      \"mean\": 0.5,\n",
                        "      \"min\": 0,\n",
                        "      \"max\": 1,\n",
                        "      \"std\": 0.5\n",
                        "    },\n",
                        "    \"ndcg\": {\n",
                        "      \"metric_value\": 0.9392833333333334,\n",
                        "      \"mean\": 0.9392833333333334,\n",
                        "      \"min\": 0.6561,\n",
                        "      \"max\": 1.0,\n",
                        "      \"std\": 0.1267888456800869\n",
                        "    },\n",
                        "    \"reciprocal_rank\": {\n",
                        "      \"metric_value\": 0.5,\n",
                        "      \"mean\": 0.5,\n",
                        "      \"min\": 0.0,\n",
                        "      \"max\": 1.0,\n",
                        "      \"std\": 0.5\n",
                        "    },\n",
                        "    \"retrieval_precision\": {\n",
                        "      \"metric_value\": 0.16666666666666666,\n",
                        "      \"mean\": 0.16666666666666666,\n",
                        "      \"min\": 0.0,\n",
                        "      \"max\": 0.5,\n",
                        "      \"std\": 0.1863389981249825\n",
                        "    }\n",
                        "  },\n",
                        "  \"content_analysis\": {\n",
                        "    \"record_level_metrics\": [\n",
                        "      {\n",
                        "        \"record_id\": \"8a9dc4c0-4bde-43a8-b4e9-7809b264e18e\",\n",
                        "        \"coverage\": 0.1245,\n",
                        "        \"density\": 0.5062,\n",
                        "        \"abstractness\": 0.125\n",
                        "      },\n",
                        "      {\n",
                        "        \"record_id\": \"195d226b-a4ea-47ee-a04c-16781c35231e\",\n",
                        "        \"coverage\": 0.0447,\n",
                        "        \"density\": 0.2593,\n",
                        "        \"abstractness\": 0.1429\n",
                        "      },\n",
                        "      {\n",
                        "        \"record_id\": \"a6862cef-131d-47f1-94b8-997034988785\",\n",
                        "        \"coverage\": 0.0637,\n",
                        "        \"density\": 0.7901,\n",
                        "        \"abstractness\": 0.0\n",
                        "      },\n",
                        "      {\n",
                        "        \"record_id\": \"f94f253f-4b90-4fe7-a0c3-8f102e5ab344\",\n",
                        "        \"coverage\": 0.0907,\n",
                        "        \"density\": 0.2812,\n",
                        "        \"abstractness\": 0.0\n",
                        "      },\n",
                        "      {\n",
                        "        \"record_id\": \"956c43be-f7b1-42ff-a5e5-e1470c89bb5a\",\n",
                        "        \"coverage\": 0.032,\n",
                        "        \"density\": 0.3878,\n",
                        "        \"abstractness\": 0.1429\n",
                        "      },\n",
                        "      {\n",
                        "        \"record_id\": \"68c4793c-d2a0-45ae-a4c2-ba2a1e3d77c1\",\n",
                        "        \"coverage\": 0.0682,\n",
                        "        \"density\": 0.0864,\n",
                        "        \"abstractness\": 0.4444\n",
                        "      }\n",
                        "    ],\n",
                        "    \"coverage\": {\n",
                        "      \"metric_value\": 0.07063333333333334,\n",
                        "      \"mean\": 0.07063333333333334,\n",
                        "      \"min\": 0.032,\n",
                        "      \"max\": 0.1245,\n",
                        "      \"std\": 0.030340713387936168\n",
                        "    },\n",
                        "    \"density\": {\n",
                        "      \"metric_value\": 0.38516666666666666,\n",
                        "      \"mean\": 0.38516666666666666,\n",
                        "      \"min\": 0.0864,\n",
                        "      \"max\": 0.7901,\n",
                        "      \"std\": 0.22156263724333627\n",
                        "    },\n",
                        "    \"abstractness\": {\n",
                        "      \"metric_value\": 0.14253333333333335,\n",
                        "      \"mean\": 0.14253333333333335,\n",
                        "      \"min\": 0.0,\n",
                        "      \"max\": 0.4444,\n",
                        "      \"std\": 0.1483591775238578\n",
                        "    }\n",
                        "  },\n",
                        "  \"unsuccessful_requests\": {\n",
                        "    \"record_level_metrics\": [\n",
                        "      {\n",
                        "        \"record_id\": \"8a9dc4c0-4bde-43a8-b4e9-7809b264e18e\",\n",
                        "        \"unsuccessful_requests\": 0\n",
                        "      },\n",
                        "      {\n",
                        "        \"record_id\": \"195d226b-a4ea-47ee-a04c-16781c35231e\",\n",
                        "        \"unsuccessful_requests\": 0\n",
                        "      },\n",
                        "      {\n",
                        "        \"record_id\": \"a6862cef-131d-47f1-94b8-997034988785\",\n",
                        "        \"unsuccessful_requests\": 0\n",
                        "      },\n",
                        "      {\n",
                        "        \"record_id\": \"f94f253f-4b90-4fe7-a0c3-8f102e5ab344\",\n",
                        "        \"unsuccessful_requests\": 0\n",
                        "      },\n",
                        "      {\n",
                        "        \"record_id\": \"956c43be-f7b1-42ff-a5e5-e1470c89bb5a\",\n",
                        "        \"unsuccessful_requests\": 0\n",
                        "      },\n",
                        "      {\n",
                        "        \"record_id\": \"68c4793c-d2a0-45ae-a4c2-ba2a1e3d77c1\",\n",
                        "        \"unsuccessful_requests\": 0\n",
                        "      }\n",
                        "    ],\n",
                        "    \"metric_value\": 0.0,\n",
                        "    \"mean\": 0.0,\n",
                        "    \"min\": 0,\n",
                        "    \"max\": 0,\n",
                        "    \"std\": 0.0\n",
                        "  }\n",
                        "}\n"
                    ]
                }
            ],
            "source": [
                "import json\n",
                "metric_result = WatsonxGovCallbackHandler.aggregate_result(record_level_metrics)\n",
                "print(json.dumps(metric_result,indent=2))"
            ]
        },
        {
            "cell_type": "markdown",
            "id": "f32268ba-56ec-43d6-a91d-97c9d59105b5",
            "metadata": {
                "id": "e412ee11-ae78-43e6-a5e3-27abe3bbc9a2"
            },
            "source": [
                "## Step 7 - Display the results <a id=\"results\"></a>"
            ]
        },
        {
            "cell_type": "markdown",
            "id": "42dca741-bc78-4550-a5e7-cd33e068e562",
            "metadata": {
                "id": "0e1c1845-e090-4b4c-a013-831758426df2"
            },
            "source": [
                "### Metric results for all the records"
            ]
        },
        {
            "cell_type": "code",
            "execution_count": 19,
            "id": "9b4fb1f3-840b-43f9-9e0e-74597f29b0f0",
            "metadata": {
                "id": "0804ce9c-4bd8-4ff4-bd49-aacc2e611e16"
            },
            "outputs": [
                {
                    "data": {
                        "text/html": [
                            "<div>\n",
                            "<style scoped>\n",
                            "    .dataframe tbody tr th:only-of-type {\n",
                            "        vertical-align: middle;\n",
                            "    }\n",
                            "\n",
                            "    .dataframe tbody tr th {\n",
                            "        vertical-align: top;\n",
                            "    }\n",
                            "\n",
                            "    .dataframe thead th {\n",
                            "        text-align: right;\n",
                            "    }\n",
                            "</style>\n",
                            "<table border=\"1\" class=\"dataframe\">\n",
                            "  <thead>\n",
                            "    <tr style=\"text-align: right;\">\n",
                            "      <th></th>\n",
                            "      <th>context1</th>\n",
                            "      <th>context2</th>\n",
                            "      <th>context3</th>\n",
                            "      <th>context4</th>\n",
                            "      <th>question</th>\n",
                            "      <th>answer</th>\n",
                            "      <th>answer_relevance</th>\n",
                            "      <th>faithfulness</th>\n",
                            "      <th>faithfulness_attributions</th>\n",
                            "      <th>average_precision</th>\n",
                            "      <th>context_relevance</th>\n",
                            "      <th>context_relevances</th>\n",
                            "      <th>hit_rate</th>\n",
                            "      <th>ndcg</th>\n",
                            "      <th>reciprocal_rank</th>\n",
                            "      <th>retrieval_precision</th>\n",
                            "      <th>coverage</th>\n",
                            "      <th>density</th>\n",
                            "      <th>abstractness</th>\n",
                            "      <th>unsuccessful_requests</th>\n",
                            "    </tr>\n",
                            "  </thead>\n",
                            "  <tbody>\n",
                            "    <tr>\n",
                            "      <th>0</th>\n",
                            "      <td>Last month, I announced our plan to supercharg...</td>\n",
                            "      <td>For that purpose we’ve mobilized American grou...</td>\n",
                            "      <td>If you travel 20 miles east of Columbus, Ohio,...</td>\n",
                            "      <td>But cancer from prolonged exposure to burn pit...</td>\n",
                            "      <td>What is ARPA-H?</td>\n",
                            "      <td>\\nA. The Advanced Research Projects Agency for...</td>\n",
                            "      <td>0.3717</td>\n",
                            "      <td>0.9847</td>\n",
                            "      <td>[{'attributions': [{'faithfulness_scores': [0....</td>\n",
                            "      <td>0.8</td>\n",
                            "      <td>0.8103</td>\n",
                            "      <td>{'context_columns': ['context1', 'context2', '...</td>\n",
                            "      <td>1</td>\n",
                            "      <td>0.9828</td>\n",
                            "      <td>1.0</td>\n",
                            "      <td>0.50</td>\n",
                            "      <td>0.1245</td>\n",
                            "      <td>0.5062</td>\n",
                            "      <td>0.1250</td>\n",
                            "      <td>0</td>\n",
                            "    </tr>\n",
                            "    <tr>\n",
                            "      <th>1</th>\n",
                            "      <td>So let’s not wait any longer. Send it to my de...</td>\n",
                            "      <td>If you travel 20 miles east of Columbus, Ohio,...</td>\n",
                            "      <td>When we use taxpayer dollars to rebuild Americ...</td>\n",
                            "      <td>It is going to transform America and put us on...</td>\n",
                            "      <td>What is the investment of Ford and GM to build...</td>\n",
                            "      <td>\\n$11 billion by Ford and $7 billion</td>\n",
                            "      <td>0.0108</td>\n",
                            "      <td>0.4419</td>\n",
                            "      <td>[{'attributions': [{'faithfulness_scores': [0....</td>\n",
                            "      <td>0.0</td>\n",
                            "      <td>0.2005</td>\n",
                            "      <td>{'context_columns': ['context1', 'context2', '...</td>\n",
                            "      <td>0</td>\n",
                            "      <td>1.0000</td>\n",
                            "      <td>0.0</td>\n",
                            "      <td>0.00</td>\n",
                            "      <td>0.0447</td>\n",
                            "      <td>0.2593</td>\n",
                            "      <td>0.1429</td>\n",
                            "      <td>0</td>\n",
                            "    </tr>\n",
                            "    <tr>\n",
                            "      <th>2</th>\n",
                            "      <td>My plan will cut the cost in half for most fam...</td>\n",
                            "      <td>We got more than 130 countries to agree on a g...</td>\n",
                            "      <td>And unlike the $2 Trillion tax cut passed in t...</td>\n",
                            "      <td>We’re going after the criminals who stole bill...</td>\n",
                            "      <td>What is the proposed tax rate for corporations?</td>\n",
                            "      <td>\\nA 15% minimum tax rate for corporations has</td>\n",
                            "      <td>0.5363</td>\n",
                            "      <td>0.9056</td>\n",
                            "      <td>[{'attributions': [{'faithfulness_scores': [0....</td>\n",
                            "      <td>0.0</td>\n",
                            "      <td>0.1992</td>\n",
                            "      <td>{'context_columns': ['context1', 'context2', '...</td>\n",
                            "      <td>0</td>\n",
                            "      <td>0.9997</td>\n",
                            "      <td>0.0</td>\n",
                            "      <td>0.00</td>\n",
                            "      <td>0.0637</td>\n",
                            "      <td>0.7901</td>\n",
                            "      <td>0.0000</td>\n",
                            "      <td>0</td>\n",
                            "    </tr>\n",
                            "    <tr>\n",
                            "      <th>3</th>\n",
                            "      <td>If you travel 20 miles east of Columbus, Ohio,...</td>\n",
                            "      <td>So let’s not wait any longer. Send it to my de...</td>\n",
                            "      <td>When we use taxpayer dollars to rebuild Americ...</td>\n",
                            "      <td>It is going to transform America and put us on...</td>\n",
                            "      <td>What is Intel going to build?</td>\n",
                            "      <td>\\nIntel is going to build a $20</td>\n",
                            "      <td>0.9930</td>\n",
                            "      <td>0.3836</td>\n",
                            "      <td>[{'attributions': [{'faithfulness_scores': [0....</td>\n",
                            "      <td>1.0</td>\n",
                            "      <td>0.8737</td>\n",
                            "      <td>{'context_columns': ['context1', 'context2', '...</td>\n",
                            "      <td>1</td>\n",
                            "      <td>1.0000</td>\n",
                            "      <td>1.0</td>\n",
                            "      <td>0.25</td>\n",
                            "      <td>0.0907</td>\n",
                            "      <td>0.2812</td>\n",
                            "      <td>0.0000</td>\n",
                            "      <td>0</td>\n",
                            "    </tr>\n",
                            "    <tr>\n",
                            "      <th>4</th>\n",
                            "      <td>So let’s not wait any longer. Send it to my de...</td>\n",
                            "      <td>If you travel 20 miles east of Columbus, Ohio,...</td>\n",
                            "      <td>When we use taxpayer dollars to rebuild Americ...</td>\n",
                            "      <td>As Ohio Senator Sherrod Brown says, “It’s time...</td>\n",
                            "      <td>How many new manufacturing jobs are created la...</td>\n",
                            "      <td>\\n369,000 new manufacturing jobs are created last</td>\n",
                            "      <td>0.9903</td>\n",
                            "      <td>0.7552</td>\n",
                            "      <td>[{'attributions': [{'faithfulness_scores': [0....</td>\n",
                            "      <td>1.0</td>\n",
                            "      <td>0.8313</td>\n",
                            "      <td>{'context_columns': ['context1', 'context2', '...</td>\n",
                            "      <td>1</td>\n",
                            "      <td>0.9971</td>\n",
                            "      <td>1.0</td>\n",
                            "      <td>0.25</td>\n",
                            "      <td>0.0320</td>\n",
                            "      <td>0.3878</td>\n",
                            "      <td>0.1429</td>\n",
                            "      <td>0</td>\n",
                            "    </tr>\n",
                            "    <tr>\n",
                            "      <th>5</th>\n",
                            "      <td>So let’s not wait any longer. Send it to my de...</td>\n",
                            "      <td>If you travel 20 miles east of Columbus, Ohio,...</td>\n",
                            "      <td>It is going to transform America and put us on...</td>\n",
                            "      <td>Vice President Harris and I ran for office wit...</td>\n",
                            "      <td>How many electric vehicle charging stations ar...</td>\n",
                            "      <td>\\nThe response is not accurate based on the in...</td>\n",
                            "      <td>0.0036</td>\n",
                            "      <td>0.0420</td>\n",
                            "      <td>[{'attributions': [{'faithfulness_scores': [0....</td>\n",
                            "      <td>0.0</td>\n",
                            "      <td>0.5984</td>\n",
                            "      <td>{'context_columns': ['context1', 'context2', '...</td>\n",
                            "      <td>0</td>\n",
                            "      <td>0.6561</td>\n",
                            "      <td>0.0</td>\n",
                            "      <td>0.00</td>\n",
                            "      <td>0.0682</td>\n",
                            "      <td>0.0864</td>\n",
                            "      <td>0.4444</td>\n",
                            "      <td>0</td>\n",
                            "    </tr>\n",
                            "  </tbody>\n",
                            "</table>\n",
                            "</div>"
                        ],
                        "text/plain": [
                            "                                            context1  \\\n",
                            "0  Last month, I announced our plan to supercharg...   \n",
                            "1  So let’s not wait any longer. Send it to my de...   \n",
                            "2  My plan will cut the cost in half for most fam...   \n",
                            "3  If you travel 20 miles east of Columbus, Ohio,...   \n",
                            "4  So let’s not wait any longer. Send it to my de...   \n",
                            "5  So let’s not wait any longer. Send it to my de...   \n",
                            "\n",
                            "                                            context2  \\\n",
                            "0  For that purpose we’ve mobilized American grou...   \n",
                            "1  If you travel 20 miles east of Columbus, Ohio,...   \n",
                            "2  We got more than 130 countries to agree on a g...   \n",
                            "3  So let’s not wait any longer. Send it to my de...   \n",
                            "4  If you travel 20 miles east of Columbus, Ohio,...   \n",
                            "5  If you travel 20 miles east of Columbus, Ohio,...   \n",
                            "\n",
                            "                                            context3  \\\n",
                            "0  If you travel 20 miles east of Columbus, Ohio,...   \n",
                            "1  When we use taxpayer dollars to rebuild Americ...   \n",
                            "2  And unlike the $2 Trillion tax cut passed in t...   \n",
                            "3  When we use taxpayer dollars to rebuild Americ...   \n",
                            "4  When we use taxpayer dollars to rebuild Americ...   \n",
                            "5  It is going to transform America and put us on...   \n",
                            "\n",
                            "                                            context4  \\\n",
                            "0  But cancer from prolonged exposure to burn pit...   \n",
                            "1  It is going to transform America and put us on...   \n",
                            "2  We’re going after the criminals who stole bill...   \n",
                            "3  It is going to transform America and put us on...   \n",
                            "4  As Ohio Senator Sherrod Brown says, “It’s time...   \n",
                            "5  Vice President Harris and I ran for office wit...   \n",
                            "\n",
                            "                                            question  \\\n",
                            "0                                    What is ARPA-H?   \n",
                            "1  What is the investment of Ford and GM to build...   \n",
                            "2    What is the proposed tax rate for corporations?   \n",
                            "3                      What is Intel going to build?   \n",
                            "4  How many new manufacturing jobs are created la...   \n",
                            "5  How many electric vehicle charging stations ar...   \n",
                            "\n",
                            "                                              answer  answer_relevance  \\\n",
                            "0  \\nA. The Advanced Research Projects Agency for...            0.3717   \n",
                            "1               \\n$11 billion by Ford and $7 billion            0.0108   \n",
                            "2      \\nA 15% minimum tax rate for corporations has            0.5363   \n",
                            "3                    \\nIntel is going to build a $20            0.9930   \n",
                            "4  \\n369,000 new manufacturing jobs are created last            0.9903   \n",
                            "5  \\nThe response is not accurate based on the in...            0.0036   \n",
                            "\n",
                            "   faithfulness                          faithfulness_attributions  \\\n",
                            "0        0.9847  [{'attributions': [{'faithfulness_scores': [0....   \n",
                            "1        0.4419  [{'attributions': [{'faithfulness_scores': [0....   \n",
                            "2        0.9056  [{'attributions': [{'faithfulness_scores': [0....   \n",
                            "3        0.3836  [{'attributions': [{'faithfulness_scores': [0....   \n",
                            "4        0.7552  [{'attributions': [{'faithfulness_scores': [0....   \n",
                            "5        0.0420  [{'attributions': [{'faithfulness_scores': [0....   \n",
                            "\n",
                            "   average_precision  context_relevance  \\\n",
                            "0                0.8             0.8103   \n",
                            "1                0.0             0.2005   \n",
                            "2                0.0             0.1992   \n",
                            "3                1.0             0.8737   \n",
                            "4                1.0             0.8313   \n",
                            "5                0.0             0.5984   \n",
                            "\n",
                            "                                  context_relevances  hit_rate    ndcg  \\\n",
                            "0  {'context_columns': ['context1', 'context2', '...         1  0.9828   \n",
                            "1  {'context_columns': ['context1', 'context2', '...         0  1.0000   \n",
                            "2  {'context_columns': ['context1', 'context2', '...         0  0.9997   \n",
                            "3  {'context_columns': ['context1', 'context2', '...         1  1.0000   \n",
                            "4  {'context_columns': ['context1', 'context2', '...         1  0.9971   \n",
                            "5  {'context_columns': ['context1', 'context2', '...         0  0.6561   \n",
                            "\n",
                            "   reciprocal_rank  retrieval_precision  coverage  density  abstractness  \\\n",
                            "0              1.0                 0.50    0.1245   0.5062        0.1250   \n",
                            "1              0.0                 0.00    0.0447   0.2593        0.1429   \n",
                            "2              0.0                 0.00    0.0637   0.7901        0.0000   \n",
                            "3              1.0                 0.25    0.0907   0.2812        0.0000   \n",
                            "4              1.0                 0.25    0.0320   0.3878        0.1429   \n",
                            "5              0.0                 0.00    0.0682   0.0864        0.4444   \n",
                            "\n",
                            "   unsuccessful_requests  \n",
                            "0                      0  \n",
                            "1                      0  \n",
                            "2                      0  \n",
                            "3                      0  \n",
                            "4                      0  \n",
                            "5                      0  "
                        ]
                    },
                    "execution_count": 19,
                    "metadata": {},
                    "output_type": "execute_result"
                }
            ],
            "source": [
                "# Display results\n",
                "results_df = data.copy()\n",
                "results_df['answer'] = answers\n",
                "for k, v in metric_result.items():\n",
                "    for rm in v.get(\"record_level_metrics\"):\n",
                "        for m, mv in rm.items():\n",
                "            if m != \"record_id\":\n",
                "                results_df[m] = [r.get(m) for r in v.get(\"record_level_metrics\")]\n",
                "results_df"
            ]
        }
    ],
    "metadata": {
        "kernelspec": {
            "display_name": "Python 3.11",
            "language": "python",
            "name": "python3"
        },
        "language_info": {
            "codemirror_mode": {
                "name": "ipython",
                "version": 3
            },
            "file_extension": ".py",
            "mimetype": "text/x-python",
            "name": "python",
            "nbconvert_exporter": "python",
            "pygments_lexer": "ipython3",
            "version": "3.11.9"
        }
    },
    "nbformat": 4,
    "nbformat_minor": 5
}