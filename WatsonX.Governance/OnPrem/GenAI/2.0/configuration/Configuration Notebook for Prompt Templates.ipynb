{
 "cells": [
  {
   "cell_type": "markdown",
   "id": "ad6afb5a-fb4d-4129-a11c-ccbe932a12ce",
   "metadata": {},
   "source": [
    "## IBM watsonx.governance - Generate Configuration Archive for LLMs.\n",
    "\n",
    "This notebook can be used to generate the driftV2 baseline archives for LLMs.\n",
    "\n",
    "**Contents:**\n",
    "1. [Setting up the environment](#setting-up-the-environment) - Pre-requisites: Install Libraries and required dependencies\n",
    "2. [Training Data](#Training-Data) - Read the training data as a pandas DataFrame\n",
    "3. [User Inputs Section](#user-inputs-section) - Provide Model Details, IBM watsonx.governance Services and their configuration\n",
    "4. [Generate Configuration Archive](#generate-configuration-archive)\n",
    "5. [Helper Methods](#helper-methods)\n",
    "6. [Definitions](#definitions)"
   ]
  },
  {
   "cell_type": "markdown",
   "id": "01b69964",
   "metadata": {},
   "source": [
    "## Setting up the environment\n",
    "\n",
    "<b> Installing required packages </b>"
   ]
  },
  {
   "cell_type": "code",
   "execution_count": null,
   "id": "9f2bcecd",
   "metadata": {},
   "outputs": [],
   "source": [
    "%pip install --upgrade \"ibm-metrics-plugin~=5.0.0\" \"ibm-watson-openscale~=3.0.34\" | tail -n 1"
   ]
  },
  {
   "cell_type": "code",
   "execution_count": 1,
   "id": "852650f6",
   "metadata": {},
   "outputs": [],
   "source": [
    "# ----------------------------------------------------------------------------------------------------\n",
    "# IBM Confidential\n",
    "# OCO Source Materials\n",
    "# 5900-A3Q, 5737-H76\n",
    "# Copyright IBM Corp. 2023, 2024\n",
    "# The source code for this Notebook is not published or other-wise divested of its trade \n",
    "# secrets, irrespective of what has been deposited with the U.S.Copyright Office.\n",
    "# ----------------------------------------------------------------------------------------------------\n",
    "\n",
    "VERSION = \"1.1\"\n",
    "#Version History\n",
    "#1.1: Added support for RAG\n",
    "#1.0: Initial release"
   ]
  },
  {
   "cell_type": "markdown",
   "id": "38e53fac",
   "metadata": {},
   "source": [
    "<b> Action: Please restart the kernel </b>"
   ]
  },
  {
   "cell_type": "code",
   "execution_count": 2,
   "id": "8d311e1b",
   "metadata": {},
   "outputs": [],
   "source": [
    "import json\n",
    "import asyncio\n",
    "import aiohttp\n",
    "import pandas as pd\n",
    "import requests\n",
    "from cachetools import TTLCache, cached\n",
    "\n",
    "from ibm_metrics_plugin.metrics.drift_v2.utils.async_utils import \\\n",
    "    gather_with_concurrency\n",
    "from ibm_watson_openscale.utils.configuration_utility import \\\n",
    "    ConfigurationUtilityLLM"
   ]
  },
  {
   "cell_type": "markdown",
   "id": "4736bd4f",
   "metadata": {},
   "source": [
    "## Training Data\n",
    "\n",
    "The training data can be either scored/un-scored.\n",
    "\n",
    "*Note: Pandas' read\\_csv method converts the columns to its data types. If you want the column type to not be interpreted, specify the dtype param to read_csv method in this cell. More on this method [here](https://pandas.pydata.org/pandas-docs/stable/reference/api/pandas.read_csv.html)*"
   ]
  },
  {
   "cell_type": "code",
   "execution_count": 3,
   "id": "f9189ad4-c9a1-4f20-9cc4-e564c72b62f1",
   "metadata": {},
   "outputs": [
    {
     "name": "stdout",
     "output_type": "stream",
     "text": [
      "                                                text  humor\n",
      "0  What does a fastidious female call a condom? g...   True\n",
      "1  Tennis legend althea gibson to be honored with...  False\n",
      "2  I heard of a new sex position that i want to t...   True\n",
      "3  Facebook's trending news topics will now be au...  False\n",
      "4         Til the w in wnba dosen't stand for worse.   True\n",
      "Columns:['text', 'humor']\n"
     ]
    }
   ],
   "source": [
    "training_data_df = pd.read_csv(\"TO BE EDITED\")\n",
    "print(training_data_df.head())\n",
    "print(\"Columns:{}\".format(list(training_data_df.columns.values)))"
   ]
  },
  {
   "cell_type": "markdown",
   "id": "e27b60cf",
   "metadata": {},
   "source": [
    "## User Inputs Section\n",
    "\n",
    "##### _1. Provide Common Parameters_:\n",
    "\n",
    "Provide the common parameters like the basic problem type, asset type, prompt variable columns, etc. Read more about these [here](#definitions). \n",
    "\n",
    "##### _2. Provide a scoring function_\n",
    "\n",
    "The scoring function should adhere to the following guidelines.\n",
    "\n",
    "- The input of the scoring function should accept a `pandas.DataFrame` comprising of all the `prompt_variable_columns`.\n",
    "- The output of the scoring function should return:\n",
    "    - a `pandas.DataFrame` comprising of:\n",
    "        - all columns of input `pandas.DataFrame`\n",
    "        - `prediction_column`\n",
    "        - `input_token_count` if available\n",
    "        - `generated_token_count` if available\n",
    "        - `prediction_probability` by aggregating the log probabilities.\n"
   ]
  },
  {
   "cell_type": "code",
   "execution_count": 4,
   "id": "ae76a796",
   "metadata": {},
   "outputs": [],
   "source": [
    "#See 'Definitions' section to know more.\n",
    "\n",
    "problem_type = \"classification\" # Supported problem types are classification, extraction, generation, \\\n",
    "                                #question_answering, summarization and retrieval_augmented_generation.\n",
    "asset_type = \"prompt\"\n",
    "input_data_type = \"unstructured_text\"\n",
    "prompt_variable_columns = [\"text\"] #Mandatory parameter.\n",
    "meta_columns = []\n",
    "prediction_column = \"generated_text\"\n",
    "input_token_count_column = \"input_token_count\"\n",
    "output_token_count_column = \"generated_token_count\"\n",
    "prediction_probability_column = \"prediction_probability\"\n",
    "\n",
    "common_parameters = {\n",
    "    \"asset_type\": asset_type,\n",
    "    \"input_data_type\": input_data_type,\n",
    "    \"problem_type\" : problem_type, \n",
    "    \"prompt_variable_columns\": prompt_variable_columns,\n",
    "    \"meta_columns\": meta_columns,\n",
    "    \"prediction_column\": prediction_column,\n",
    "    \"input_token_count_column\": input_token_count_column,\n",
    "    \"output_token_count_column\": output_token_count_column,\n",
    "    \"prediction_probability_column\": prediction_probability_column\n",
    "}\n",
    "\n",
    "drift_v2_parameters = {}\n"
   ]
  },
  {
   "cell_type": "code",
   "execution_count": 5,
   "id": "54d3b7af",
   "metadata": {},
   "outputs": [],
   "source": [
    "SCORING_URL = \"Your deployment scoring URL\" #Example: https://us-south.ml.cloud.ibm.com/ml/v1-beta/deployments/{deployment_id}/generation/text?version=2021-05-01\n",
    "SCORING_BATCH_SIZE = 15\n",
    "\n",
    "API_KEY = \"Your API Key\"\n",
    "TOKEN_GENERATION_URL = \"https://iam.cloud.ibm.com/identity/token\"\n",
    "# USERNAME = \"\"   #Uncomment and edit this line if you are using CPD cluster."
   ]
  },
  {
   "cell_type": "markdown",
   "id": "7598987a",
   "metadata": {},
   "source": [
    "\n",
    "<b> The helper function below will be used to create the IAM token required for scoring <b>"
   ]
  },
  {
   "cell_type": "code",
   "execution_count": 6,
   "id": "262ee709",
   "metadata": {},
   "outputs": [],
   "source": [
    "@cached(cache=TTLCache(maxsize=1024, ttl=1800))\n",
    "def get_iam_token(apikey=API_KEY,\n",
    "                  url=TOKEN_GENERATION_URL):\n",
    "\n",
    "    headers = {\n",
    "        \"Content-Type\": \"application/x-www-form-urlencoded\",\n",
    "        \"Accept\": \"application/json\",\n",
    "    }\n",
    "    data = \"grant_type=urn%3Aibm%3Aparams%3Aoauth%3Agrant-type%3Aapikey&apikey=\" + apikey\n",
    "\n",
    "    resp = requests.post(url=url, headers=headers, data=data)\n",
    "    if resp.status_code != 200:\n",
    "        raise Exception(\n",
    "            \"Error creating IAM Token. Status Code: \", resp.status_code)\n",
    "\n",
    "    resp_data = resp.json()\n",
    "    return resp_data[\"access_token\"]\n",
    "\n",
    "# Uncomment the following if you are using a CPD cluster\n",
    "\n",
    "# @cached(cache=TTLCache(maxsize=1024, ttl=1800))\n",
    "# def get_iam_token(apikey=API_KEY,\n",
    "#                   url=TOKEN_GENERATION_URL, username=USERNAME):\n",
    "\n",
    "#     headers = {\n",
    "#         \"Content-Type\": \"application/json\",\n",
    "#         \"Accept\": \"application/json\",\n",
    "#     }\n",
    "#     data = {\"username\": username, \"api_key\": apikey}\n",
    "\n",
    "#     resp = requests.post(url=url, headers=headers, json=data)\n",
    "#     if resp.status_code != 200:\n",
    "#         raise Exception(\n",
    "#             \"Error creating IAM Token. Status Code: \", resp.status_code)\n",
    "\n",
    "#     resp_data = resp.json()\n",
    "#     return resp_data[\"token\"]"
   ]
  },
  {
   "cell_type": "code",
   "execution_count": 7,
   "id": "e5cec169",
   "metadata": {},
   "outputs": [],
   "source": [
    "SCORING_DELAY = False #Set it to True if you are on Lite plan.\n",
    "SCORING_DELAY_THRESHOLD = 2"
   ]
  },
  {
   "cell_type": "markdown",
   "id": "f99ab407",
   "metadata": {},
   "source": [
    "The scoring function defined below scores all rows of the data frame in batches of size <i>SCORING_BATCH_SIZE </i> defined in the setup\n"
   ]
  },
  {
   "cell_type": "code",
   "execution_count": 8,
   "id": "32ad9fda",
   "metadata": {},
   "outputs": [],
   "source": [
    "async def scoring_fn(training_data, schema):\n",
    "    data_df_size = len(training_data)\n",
    "\n",
    "    prediction_column = schema.get(\"prediction_column\")\n",
    "    input_token_count_column = schema.get(\"input_token_count_column\")\n",
    "    output_token_count_column = schema.get(\"output_token_count_column\")\n",
    "    prediction_probability_column = schema.get(\"prediction_probability_column\")\n",
    "    prompt_variable_columns = schema.get(\"prompt_variable_columns\")\n",
    "\n",
    "    if prediction_column is None:\n",
    "        raise ValueError(\"'prediction_column' must be present in schema\")\n",
    "    if input_token_count_column is None:\n",
    "        raise ValueError(\"'input_token_count_column' must be present in schema\")\n",
    "    if prediction_probability_column is None:\n",
    "        raise ValueError(\"'prediction_probability_column' must be present in schema\")\n",
    "    if output_token_count_column is None:\n",
    "        raise ValueError(\"'output_token_count_column' must be present in schema\")\n",
    "    \n",
    "    async def perform_scoring(session, training_data, row, index):\n",
    "\n",
    "        token = get_iam_token()\n",
    "        headers = {\"Content-Type\": \"application/json\",\n",
    "                   \"Authorization\": f\"Bearer {token}\"}\n",
    "\n",
    "        values = [row[col] for col in prompt_variable_columns]\n",
    "        scoring_payload = {}\n",
    "        prompts = {}\n",
    "\n",
    "        #Generating payload \n",
    "        for field, value in zip(prompt_variable_columns, values):\n",
    "            prompts[field] = value\n",
    "        scoring_payload[\"parameters\"] = {}\n",
    "        scoring_payload[\"parameters\"][\"prompt_variables\"] = prompts\n",
    "        scoring_payload[\"parameters\"][\"return_options\"] = {}\n",
    "        scoring_payload[\"parameters\"][\"return_options\"][\"generated_tokens\"] = True\n",
    "        scoring_payload[\"parameters\"][\"return_options\"][\"token_logprobs\"] = True\n",
    "\n",
    "        scoring_payload = json.dumps(scoring_payload)\n",
    "\n",
    "        try:\n",
    "            result = await session.post(SCORING_URL, headers=headers, data=scoring_payload)\n",
    "            try:\n",
    "                result = await result.json()\n",
    "            except Exception as e:\n",
    "                print(str(e))\n",
    "                return\n",
    "        except aiohttp.ClientResponseError as err:\n",
    "            if err.status == 401:  # IAM Token expired, regenerate and retry\n",
    "                token = get_iam_token()\n",
    "                headers[\"Authorization\"] = f\"Bearer {token}\"\n",
    "\n",
    "                result = await session.post(\n",
    "                    SCORING_URL, headers=headers, data=scoring_payload)\n",
    "                result = await result.json()\n",
    "        \n",
    "        if SCORING_DELAY is True:\n",
    "            await asyncio.sleep(SCORING_DELAY_THRESHOLD)\n",
    "        try:\n",
    "            output_token_count = result[\"results\"][0][\"generated_token_count\"]\n",
    "            training_data.at[index, output_token_count_column] = output_token_count\n",
    "        except KeyError:\n",
    "            pass\n",
    "\n",
    "        try:\n",
    "            input_token_count = result[\"results\"][0][\"input_token_count\"]\n",
    "            training_data.at[index, input_token_count_column] = input_token_count\n",
    "        except KeyError:\n",
    "            pass\n",
    "            \n",
    "        generated_text = result[\"results\"][0][\"generated_text\"]\n",
    "\n",
    "        result_set = result[\"results\"][0][\"generated_tokens\"]\n",
    "        log_probabilities = [token[\"logprob\"]\n",
    "                     for token in result_set if \"logprob\" in token]\n",
    "        \n",
    "        training_data.at[index, prediction_probability_column] = sum(log_probabilities)\n",
    "        training_data.at[index, prediction_column] = generated_text\n",
    "        \n",
    "        print(f\"Scored {index}th row of total {data_df_size} rows.\", end=\"\\r\")\n",
    "        return training_data\n",
    "    \n",
    "    coros = []\n",
    "    connector = aiohttp.TCPConnector(limit=20)\n",
    "    \n",
    "    async with aiohttp.ClientSession(connector=connector) as session:\n",
    "        scored, index = 0, 0\n",
    "        for row in training_data.to_dict(orient=\"records\"):\n",
    "            if scored == SCORING_BATCH_SIZE:\n",
    "                data = await gather_with_concurrency(*coros) #Wait till a batch is finished before beginning next\n",
    "                coros.clear()\n",
    "                scored = 0\n",
    "            coros.append(perform_scoring(\n",
    "                session, training_data, row, index=index))\n",
    "            scored += 1\n",
    "            index += 1\n",
    "        if coros:\n",
    "            data = await gather_with_concurrency(*coros)\n",
    "\n",
    "    print(\"\\nScoring has been completed.\")\n",
    "    return data[-1]\n",
    "\n"
   ]
  },
  {
   "cell_type": "markdown",
   "id": "5b36f697",
   "metadata": {},
   "source": [
    "## Generate Configuration Archive\n",
    "\n",
    "Run the following code to generate the drift v2 baseline archive for LLMs"
   ]
  },
  {
   "cell_type": "code",
   "execution_count": 9,
   "id": "3d40f9d5",
   "metadata": {
    "tags": []
   },
   "outputs": [
    {
     "name": "stdout",
     "output_type": "stream",
     "text": [
      "Scoring data..\n",
      "Scored 45th row of total 50 rows.\n",
      "Scoring has been completed.\n",
      "Baseline archive created at path:  /Users/nelwin/Desktop/-/Code/Issues/ntbk-updt/fix/notebooks/t/Cloud/baseline__a76e55be-ce97-4d7e-b0e3-2ce0c1256efd.tar.gz\n"
     ]
    },
    {
     "data": {
      "text/html": [
       "<a download=\"/Users/nelwin/Desktop/-/Code/Issues/ntbk-updt/fix/notebooks/t/Cloud/baseline__a76e55be-ce97-4d7e-b0e3-2ce0c1256efd.tar.gz\" href=\"data:text/json;base64,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\" target=\"_blank\">Download Baseline Archive</a>"
      ],
      "text/plain": [
       "<IPython.core.display.HTML object>"
      ]
     },
     "metadata": {},
     "output_type": "display_data"
    }
   ],
   "source": [
    "drift_config = ConfigurationUtilityLLM(training_data_df, common_parameters, scoring_fn=scoring_fn)\n",
    "drift_config.generate_drift_v2_archive_llm(drift_v2_parameters)"
   ]
  },
  {
   "cell_type": "markdown",
   "id": "62d452cd",
   "metadata": {},
   "source": [
    "## Helper Methods"
   ]
  },
  {
   "cell_type": "markdown",
   "id": "9e2ccef2",
   "metadata": {},
   "source": [
    "### Read file in COS to pandas dataframe"
   ]
  },
  {
   "cell_type": "code",
   "execution_count": null,
   "id": "5547de1f",
   "metadata": {},
   "outputs": [],
   "source": [
    "%pip install ibm-cos-sdk\n",
    "\n",
    "import ibm_boto3\n",
    "import pandas as pd\n",
    "import sys\n",
    "import types\n",
    "\n",
    "from ibm_botocore.client import Config\n",
    "\n",
    "def __iter__(self): return 0\n",
    "\n",
    "api_key = \"TO_BE_EDITED\" # cos api key\n",
    "resource_instance_id = \"TO_BE_EDITED\" # cos resource instance id\n",
    "service_endpoint =  \"TO_BE_EDITED\" # cos service region endpoint\n",
    "bucket =  \"TO_BE_EDITED\" # cos bucket name\n",
    "file_name= \"TO_BE_EDITED\" # cos file name\n",
    "auth_endpoint = \"https://iam.ng.bluemix.net/oidc/token\"\n",
    "\n",
    "cos_client = ibm_boto3.client(service_name=\"s3\",\n",
    "    ibm_api_key_id=api_key,\n",
    "    ibm_auth_endpoint=auth_endpoint,\n",
    "    config=Config(signature_version=\"oauth\"),\n",
    "    endpoint_url=service_endpoint)\n",
    "\n",
    "body = cos_client.get_object(Bucket=bucket,Key=file_name)[\"Body\"]\n",
    "\n",
    "# add missing __iter__ method, so pandas accepts body as file-like object\n",
    "if not hasattr(body, \"__iter__\"): body.__iter__ = types.MethodType( __iter__, body )\n",
    "\n",
    "training_data_df = pd.read_csv(body)"
   ]
  },
  {
   "cell_type": "markdown",
   "id": "9bb36b47",
   "metadata": {},
   "source": [
    "## Definitions"
   ]
  },
  {
   "cell_type": "markdown",
   "id": "4c69510e",
   "metadata": {},
   "source": [
    "### Common Parameters\n",
    "\n",
    "| Parameter | Description | Default Value | Possible Value(s) |\n",
    "| :- | :- | :- | :- |\n",
    "| problem_type | One of the prompt task types supported by drift v2 |  | classification, extraction, generation, question_answering, summarization, retrieval_augmented_generation|\n",
    "| asset_type | The asset type | prompt | prompt |\n",
    "| input_data_type | The type of input from the dataframe | unstructured_text | unstructured_text |\n",
    "| prompt_variable_columns | The names of all prompt variable columns | | |\n",
    "| meta_columns | Optional parameter. List of all meta data columns | | |\n",
    "| label_column | Optional parameter. The name of label column| reference_output | |\n",
    "| prediction_column | Optional parameter. | generated_text | |\n",
    "| input_token_count_column | Optional parameter. The name of column representing token counts of input| input_token_count | |\n",
    "| output_token_count_column | Optional parameter. The name of column representing token counts of output | generated_token_count | |\n",
    "| prediction_probability_column | Optional parameter. The name of prediction probability column| prediction_probability | |\n",
    "\n",
    "Example:\n",
    "```html\n",
    "problem_type = \"classification\"\n",
    "asset_type = \"prompt\"\n",
    "input_data_type = \"unstructured_text\"\n",
    "prompt_variable_columns = [\"text\"]\n",
    "meta_columns = []\n",
    "prediction_column = \"prediction\"\n",
    "input_token_count_column = \"input_token_count\"\n",
    "output_token_count_column = \"generated_token_count\"\n",
    "prediction_probability_column = \"prediction_probability\"\n",
    "```"
   ]
  }
 ],
 "metadata": {
  "kernelspec": {
   "display_name": "Python 3 (ipykernel)",
   "language": "python",
   "name": "python3"
  },
  "language_info": {
   "codemirror_mode": {
    "name": "ipython",
    "version": 3
   },
   "file_extension": ".py",
   "mimetype": "text/x-python",
   "name": "python",
   "nbconvert_exporter": "python",
   "pygments_lexer": "ipython3",
   "version": "3.10.14"
  }
 },
 "nbformat": 4,
 "nbformat_minor": 5
}
