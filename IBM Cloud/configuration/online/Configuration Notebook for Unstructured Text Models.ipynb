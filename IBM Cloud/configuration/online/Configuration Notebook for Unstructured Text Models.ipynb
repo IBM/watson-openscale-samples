{
 "cells": [
  {
   "cell_type": "markdown",
   "id": "345cc5d9",
   "metadata": {},
   "source": [
    "<img src=\"https://github.com/pmservice/ai-openscale-tutorials/raw/master/notebooks/images/banner.png\" align=\"left\" alt=\"banner\">"
   ]
  },
  {
   "cell_type": "markdown",
   "id": "a867c1b4",
   "metadata": {},
   "source": [
    "# IBM watsonx.governance - Generate Configuration Archive for Unstructured Text models\n",
    "\n",
    "This notebook demonstrates how to generate a configuration archive for monitoring deployments in IBM watsonx.governance. This configuration is targetted for `System-Managed` monitored deployments.\n",
    "\n",
    "***Target audience for this notebook:***\n",
    "This notebook is targetted for users who fall in the below category:\n",
    "- Users who want to monitor their subscriptions created on unstructured text data in IBM watsonx.governance\n",
    "\n",
    "User must provide the necessary inputs where marked. Generated configuration package can be used in IBM watsonx.governance UI while configuring monitoring of a model deployment in IBM watsonx.governance.\n",
    "\n",
    "**Contents:**\n",
    "1. [Setting up the environment](#setting-up-the-environment) - Pre-requisites: Install Libraries and required dependencies\n",
    "2. [Training Data](#training-data) - Read the training data as a pandas DataFrame\n",
    "3. [User Inputs Section](#user-inputs-section) - Provide Model Details, IBM watsonx.governance Services and their configuration\n",
    "4. [Generate Configuration Archive](#generate-configuration-archive)\n",
    "5. [Helper Methods](#helper-methods)\n",
    "6. [Definitions](#definitions)"
   ]
  },
  {
   "cell_type": "markdown",
   "id": "4fcd79c5",
   "metadata": {},
   "source": [
    "## Setting up the environment"
   ]
  },
  {
   "cell_type": "code",
   "execution_count": null,
   "id": "553280f4",
   "metadata": {},
   "outputs": [],
   "source": "%pip install --upgrade \"ibm-metrics-plugin[notebook]~=3.0.9\" \"ibm-watson-openscale~=3.0.34\" | tail -n 1"
  },
  {
   "cell_type": "code",
   "execution_count": 1,
   "id": "57774483",
   "metadata": {},
   "outputs": [],
   "source": [
    "# ----------------------------------------------------------------------------------------------------\n",
    "# IBM Confidential\n",
    "# OCO Source Materials\n",
    "# 5900-A3Q, 5737-H76\n",
    "# Copyright IBM Corp. 2024\n",
    "# The source code for this Notebook is not published or other-wise divested of its trade \n",
    "# secrets, irrespective of what has been deposited with the U.S.Copyright Office.\n",
    "# ----------------------------------------------------------------------------------------------------\n",
    "\n",
    "VERSION = \"1.0.0\""
   ]
  },
  {
   "cell_type": "markdown",
   "id": "e5a737d3",
   "metadata": {},
   "source": [
    "## Training Data\n",
    "*Note: Pandas' read\\_csv method converts the columns to its data types. If you want the column type to not be interpreted, specify the dtype param to read_csv method in this cell. More on this method [here](https://pandas.pydata.org/pandas-docs/stable/reference/api/pandas.read_csv.html)*\n",
    "\n",
    "*Note: By default NA values will be dropped while computing training data distribution. Please ensure to handle the NA values during Pandas' read\\_csv method*"
   ]
  },
  {
   "cell_type": "code",
   "execution_count": 2,
   "id": "6be428b1",
   "metadata": {},
   "outputs": [
    {
     "name": "stdout",
     "output_type": "stream",
     "text": [
      "  BrandName   Price  Rating  \\\n",
      "0   Samsung  199.99       5   \n",
      "1   Samsung  199.99       4   \n",
      "2   Samsung  199.99       5   \n",
      "3   Samsung  199.99       4   \n",
      "4   Samsung  199.99       4   \n",
      "\n",
      "                                             Reviews  ReviewVotes  \n",
      "0  I feel so LUCKY to have found this used (phone...            1  \n",
      "1  nice phone, nice up grade from my pantach revu...            0  \n",
      "2                                       Very pleased            0  \n",
      "3  It works good but it goes slow sometimes but i...            0  \n",
      "4  Great phone to replace my lost phone. The only...            0  \n",
      "Columns:['BrandName', 'Price', 'Rating', 'Reviews', 'ReviewVotes']\n"
     ]
    }
   ],
   "source": [
    "import pandas as pd\n",
    "training_data_df = pd.read_csv(\"TO BE EDITED\")\n",
    "\n",
    "print(training_data_df.head())\n",
    "print(\"Columns:{}\".format(list(training_data_df.columns.values)))"
   ]
  },
  {
   "cell_type": "markdown",
   "id": "5f0c4767",
   "metadata": {},
   "source": [
    "## User Inputs Section\n",
    "\n",
    "##### _1. Provide Common Parameters_:\n",
    "\n",
    "Provide the common parameters like the basic model details like type, feature columns, etc. Read more about these [here](#common-parameters). \n",
    "\n",
    "##### _2. Provide Drift v2 Parameters_\n",
    "Read more about these parameters [here](#drift-v2-parameters)\n",
    "\n",
    "\n",
    "##### _3. Provide a scoring function_\n",
    "The scoring function is required and it should adhere to the following guidelines.\n",
    "\n",
    "- The input of the scoring function should accept `training_data`, which can be either a local file path to images or a `pandas.DataFrame`, with sub-folders acting as labels for the images. The `schema` parameter is a dictionary specifying the column names for various components in the scoring response, such as `prediction_column`, `probability_column`, `input_token_count_column`, `output_token_count_column`, `prediction_probability_column`, and `label_column`, depending on the input data type, whether it's structured/prompt/unstructured image data.\n",
    "- The output of the scoring function should return:\n",
    "    - a `pandas.DataFrame` with all columns of the input DataFrame, with additional columns varying based on the `problem_type`.\n",
    "    - For binary and multiclass problems, both `probability_column` and `prediction_column` are included. \n",
    "    - For regression, only `prediction_column` is included.\n",
    "    - Prompt asset related problems may include columns like `input_token_count_column`, `output_token_count_column`, and `prediction_probability_column`.\n",
    "    - For unstructured_image input types, the `label_column` is also included in the output DataFrame.\n",
    "- The data type of the label column and prediction column should be same. Moreover, the label column and the prediction column array should have the same unique class labels\n",
    "- A host of different scoring function templates are provided [here](https://github.com/IBM/watson-openscale-samples/wiki/Score-function-templates-for-IBM-Watson-OpenScale)"
   ]
  },
  {
   "cell_type": "code",
   "execution_count": 3,
   "id": "97033396",
   "metadata": {},
   "outputs": [],
   "source": [
    "\n",
    "common_parameters = {\n",
    "    \"problem_type\" : \"TO_BE_EDITED\",\n",
    "    \"input_data_type\": \"unstructured_text\",\n",
    "    \"asset_type\": \"model\",\n",
    "    \"meta_columns\": [\"TO_BE_EDITED\"], # <- Not required if the model doesn't have any meta columns\n",
    "    \"label_column\": \"TO_BE_EDITED\",\n",
    "    \"prediction_column\": \"TO_BE_EDITED\",\n",
    "    \"probability_column\": \"TO_BE_EDITED\", # <- Not required for Regression problems.\n",
    "    \"enable_drift_v2\": True,\n",
    "    \"notebook_version\": VERSION\n",
    "}\n",
    "\n",
    "drift_v2_parameters = {\n",
    "    # \"max_samples\": 10000\n",
    "    \"important_input_metadata_columns\" : [\"TO_BE_EDITED\"] # <- Add this if input metadata drift to be calculated and meta columns are available\n",
    "}\n",
    "\n",
    "scoring_fn = None\n",
    "scoring_batch_size = None #Change this to control how many rows get score at a time. Default values for image models is 50 and for others, it is 5000"
   ]
  },
  {
   "cell_type": "markdown",
   "id": "6abb2879",
   "metadata": {},
   "source": [
    "## Drift v2 Archive\n",
    "\n",
    "Run the following code to generate the drift v2 archive for the IBM watsonx.governance monitors. This archive is used as is by IBM watsonx.governance UI/SDK to onboard model for monitoring. UI/SDK will identify the drift v2 artifacts and appropriately upload to the monitor."
   ]
  },
  {
   "cell_type": "code",
   "execution_count": 4,
   "id": "0fc16aef",
   "metadata": {
    "tags": []
   },
   "outputs": [
    {
     "data": {
      "text/html": [
       "<a download=\"configuration_archive.tar.gz\" href=\"data:text/json;base64,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\" target=\"_blank\">Download Common Configuration Package</a>"
      ],
      "text/plain": [
       "<IPython.core.display.HTML object>"
      ]
     },
     "metadata": {},
     "output_type": "display_data"
    }
   ],
   "source": [
    "from ibm_watson_openscale.utils.configuration_utility import ConfigurationUtility\n",
    "\n",
    "config_util = ConfigurationUtility(\n",
    "    training_data=training_data_df,\n",
    "    common_parameters=common_parameters,\n",
    "    scoring_fn=scoring_fn,\n",
    "    batch_size=scoring_batch_size)\n",
    "\n",
    "config_util.create_drift_configuration_package(\n",
    "    drift_v2_parameters=drift_v2_parameters if \"drift_v2_parameters\" in locals() else {},\n",
    "    display_link=True)"
   ]
  },
  {
   "cell_type": "markdown",
   "id": "eef6737a-d0fa-43f5-9d55-3f5eb1a87d8d",
   "metadata": {},
   "source": [
    "## Helper Methods"
   ]
  },
  {
   "cell_type": "markdown",
   "id": "c48f3ac3",
   "metadata": {},
   "source": [
    "### Read file in COS to pandas dataframe"
   ]
  },
  {
   "cell_type": "code",
   "execution_count": null,
   "id": "ed5ca92e",
   "metadata": {},
   "outputs": [],
   "source": [
    "%pip install ibm-cos-sdk\n",
    "\n",
    "import ibm_boto3\n",
    "import pandas as pd\n",
    "import sys\n",
    "import types\n",
    "\n",
    "from ibm_botocore.client import Config\n",
    "\n",
    "def __iter__(self): return 0\n",
    "\n",
    "api_key = \"TO_BE_EDITED\" # cos api key\n",
    "resource_instance_id = \"TO_BE_EDITED\" # cos resource instance id\n",
    "service_endpoint =  \"TO_BE_EDITED\" # cos service region endpoint\n",
    "bucket =  \"TO_BE_EDITED\" # cos bucket name\n",
    "file_name= \"TO_BE_EDITED\" # cos file name\n",
    "auth_endpoint = \"https://iam.ng.bluemix.net/oidc/token\"\n",
    "\n",
    "cos_client = ibm_boto3.client(service_name=\"s3\",\n",
    "    ibm_api_key_id=api_key,\n",
    "    ibm_auth_endpoint=auth_endpoint,\n",
    "    config=Config(signature_version=\"oauth\"),\n",
    "    endpoint_url=service_endpoint)\n",
    "\n",
    "body = cos_client.get_object(Bucket=bucket,Key=file_name)[\"Body\"]\n",
    "\n",
    "# add missing __iter__ method, so pandas accepts body as file-like object\n",
    "if not hasattr(body, \"__iter__\"): body.__iter__ = types.MethodType( __iter__, body )\n",
    "\n",
    "training_data_df = pd.read_csv(body)"
   ]
  },
  {
   "cell_type": "markdown",
   "id": "58012329",
   "metadata": {},
   "source": [
    "## Definitions"
   ]
  },
  {
   "cell_type": "markdown",
   "id": "4681fcdd",
   "metadata": {},
   "source": [
    "### Common Parameters\n",
    "\n",
    "| Parameter | Description | Default Value | Possible Value(s) |\n",
    "|:-|:-|:-|:-|\n",
    "| problem_type | Enumeration classifying if your model is a binary or a multi-class classifier or a regressor. |  | `binary`, `multiclass`, `regression` |\n",
    "| asset_type | The type of your asset. |  | `model`|\n",
    "| input_data_type | The type of your input data. |  | `unstructured_text`|\n",
    "| label_column | The column which contains the target field (also known as label column or the class label). |  | A string value referring column name |\n",
    "| feature_columns | Columns identified as features by model. The order of the feature columns should be same as that of the subscription. Use helper methods to compute these if required. |  | A list of column names |\n",
    "| categorical_columns | Feature columns identified as categorical by model. Use helper methods to compute these if required. |  | A list of column names |\n",
    "| prediction_column | The column containing the model output. This should be of the same data type as the label column. |  | A string value referring column name |\n",
    "| probability_column | The column (of type array) containing the model probabilities for all the possible prediction outcomes. This is not required for regression models. One of `probability_column` or `class_probabilities` must be specified for classification models. If both are specified, `class_probabilities` is preferred.|  | A string value referring column name |\n",
    "| class_probabilities | The columns (of type double) containing the model probabilities of class labels. This is not required for regression models. For example, for Go Sales model deployed in MS Azure ML Studio, value of this property would be `[\"Scored Probabilities for Class \\\"Camping Equipment\\\"\", \"Scored Probabilities for Class \\\"Mountaineering Equipment\\\"\", \"Scored Probabilities for Class \\\"Personal Accessories\\\"\"]`. Please note escaping double quotes is a must-have requirement for above example. One of `probability_column` or `class_probabilities` must be specified for classification models. If both are specified, `class_probabilities` is preferred. |  | A list of column names |\n",
    "| enable_drift_v2 | Boolean value to allow generation of Drift v2 Archive. | `True` | `True` or `False` |\n",
    "\n",
    "\n",
    "### Drift v2 Parameters\n",
    "\n",
    "| Parameter | Description | Default Value | Possible Value(s) |\n",
    "| :- | :- | :- | :- |\n",
    "| max_samples | Defines maximum sample size on which the drift v2 archive is created. | None | |"
   ]
  }
 ],
 "metadata": {
  "kernelspec": {
   "display_name": "Python 3 (ipykernel)",
   "language": "python",
   "name": "python3"
  },
  "language_info": {
   "codemirror_mode": {
    "name": "ipython",
    "version": 3
   },
   "file_extension": ".py",
   "mimetype": "text/x-python",
   "name": "python",
   "nbconvert_exporter": "python",
   "pygments_lexer": "ipython3",
   "version": "3.10.14"
  }
 },
 "nbformat": 4,
 "nbformat_minor": 5
}
