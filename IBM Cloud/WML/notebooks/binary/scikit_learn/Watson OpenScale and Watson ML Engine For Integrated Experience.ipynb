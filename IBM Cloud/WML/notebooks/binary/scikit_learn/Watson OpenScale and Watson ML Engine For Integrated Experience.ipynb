{
 "cells": [
  {
   "cell_type": "markdown",
   "metadata": {},
   "source": [
    "<img src=\"https://github.com/pmservice/ai-openscale-tutorials/raw/master/notebooks/images/banner.png\" align=\"left\" alt=\"banner\">"
   ]
  },
  {
   "cell_type": "markdown",
   "metadata": {},
   "source": "# Working with Watson Machine Learning and watson openscale for Integrated Experience"
  },
  {
   "cell_type": "markdown",
   "metadata": {},
   "source": [
    "This notebook should be run in a Watson Studio project, using **IBM Runtime 23.1 on Python 3.10 XS** runtime environment. **If you are viewing this in Watson Studio and do not see the required runtime env in the upper right corner of your screen, please update the runtime now.** It requires service credentials for the following Cloud services:\n",
    "  * Watson OpenScale \n",
    "  * Watson Machine Learning \n",
    "  * Cloud Object Storage\n",
    "  \n",
    "If you have a paid Cloud account, you may also provision a **Databases for PostgreSQL** or **Db2 Warehouse** service to take full advantage of integration with Watson Studio. If you choose not to provision this paid service, you can use the free internal PostgreSQL storage with OpenScale, but will not be able to configure continuous learning for your model.\n",
    "\n",
    "The notebook will train, create and deploy a German Credit Risk model, configure OpenScale to monitor that deployment."
   ]
  },
  {
   "cell_type": "markdown",
   "metadata": {},
   "source": [
    "## Contents\n",
    "\n",
    "- [Installing required packages used by this notebook](#Installing-required-packages-used-by-this-notebook)\n",
    "- [Provision services and configure credentials](#Provision-services-and-configure-credentials)\n",
    "- [Configuring dataset and store dataset it Cloud Object Storage](#Configuring-dataset-and-store-it-Cloud-Object-Storage)\n",
    "- [Creating watsonx_ai client ](#Creating-watsonx_ai-client)\n",
    "- [Creating watson openscale client ](#Creating-watson-openscale-client)\n",
    "- [Creating and training wml model](#Creating-and-training-wml-model)\n",
    "- [Creating configuration for watson openscale](#Creating-configuration-for-watson-openscale)\n",
    "- [Storing wml model in pre_production space](#Storing-wml-model-in-pre_production-space)\n",
    "- [OpenScale configuration using Intergrated Expirence for a pre_production model](#OpenScale-configuration-using-Intergrated-Expirence-for-a-pre_production-model)\n",
    "- [Storing wml model in production space](#Storing-wml-model-in-production-space)\n",
    "- [OpenScale configuration using Intergrated Expirence for a production model](#OpenScale-configuration-using-Intergrated-Expirence-for-a-production-model)\n",
    "- [Dashboard url for both production and pre-production model](#Dashboard-url-of-both-production-and-pre-production-model)"
   ]
  },
  {
   "cell_type": "markdown",
   "metadata": {},
   "source": "# Installing required packages used by this notebook"
  },
  {
   "cell_type": "code",
   "metadata": {
    "id": "6274b59c-1d9e-499d-9088-d24018f8c9e4",
    "ExecuteTime": {
     "end_time": "2024-10-30T06:14:16.943075Z",
     "start_time": "2024-10-30T06:13:28.851408Z"
    }
   },
   "source": [
    "# If you are executing this notebook in non IBM Watson Studio env then uncomment the pip install statements\n",
    "# !pip install --upgrade scikit-learn==1.3 --no-cache | tail -n 1\n",
    "# !pip install --upgrade joblib==1.3 --no-cache | tail -n 1\n",
    "# !pip install --upgrade SciPy==1.14.0  --no-cache | tail -n 1\n",
    "# !pip install --upgrade ibm-db --no-cache | tail -n 1\n",
    "# !pip install ibm_cloud_sdk_core --no-cache | tail -n 1\n",
    "\n",
    "!pip install --upgrade retrying --no-cache | tail -n 1  \n",
    "!pip install --upgrade ibm-watsonx-ai | tail -n 1 \n",
    "# !pip install --upgrade ibm-watson-openscale>=3.0.42 --no-cache | tail -n 1  "
   ],
   "outputs": [
    {
     "name": "stdout",
     "output_type": "stream",
     "text": [
      "Successfully installed joblib-1.4.2 numpy-2.1.2 scikit-learn-1.3.0 scipy-1.14.1 threadpoolctl-3.5.0\r\n",
      "Successfully installed joblib-1.3.0\r\n",
      "Successfully installed SciPy-1.14.0\r\n",
      "Successfully installed ibm-db-3.2.3\r\n",
      "Successfully installed PyJWT-2.9.0 ibm_cloud_sdk_core-3.22.0\r\n",
      "Successfully installed retrying-1.3.4\r\n",
      "Successfully installed ibm-cos-sdk-2.13.6 ibm-cos-sdk-core-2.13.6 ibm-cos-sdk-s3transfer-2.13.6 ibm-watsonx-ai-1.1.20 importlib-metadata-8.5.0 jmespath-1.0.1 lomond-0.3.3 numpy-1.26.4 pandas-2.1.4 pytz-2024.2 requests-2.32.2 tabulate-0.9.0 tzdata-2024.2 zipp-3.20.2\r\n"
     ]
    }
   ],
   "execution_count": 1
  },
  {
   "cell_type": "markdown",
   "metadata": {},
   "source": "<h3> Make sure you have ibm-watson-openscale package version greater than or Equal 3.0.42 </h3>"
  },
  {
   "cell_type": "code",
   "metadata": {
    "id": "df52ab1d-ff00-4c48-85f2-634fa6bd2883",
    "ExecuteTime": {
     "end_time": "2024-10-30T06:14:17.435958Z",
     "start_time": "2024-10-30T06:14:16.945512Z"
    }
   },
   "source": [
    "!pip list | grep ibm-watson-openscale"
   ],
   "outputs": [],
   "execution_count": 2
  },
  {
   "cell_type": "markdown",
   "metadata": {},
   "source": [
    "# Provision services and configure credentials\n",
    "If you have not already, provision an instance of IBM Watson OpenScale using the [OpenScale link in the Cloud catalog](https://cloud.ibm.com/catalog/services/watson-openscale)."
   ]
  },
  {
   "cell_type": "markdown",
   "metadata": {},
   "source": [
    "Your Cloud API key can be generated by going to the [**Users** section of the Cloud console](https://cloud.ibm.com/iam#/users). From that page, click your name, scroll down to the **API Keys** section, and click **Create an IBM Cloud API key**. Give your key a name and click **Create**, then copy the created key, generate an IAM token using that key and paste it below.\n",
    "\n",
    "**NOTE:** You can also get OpenScale `API_KEY` using IBM CLOUD CLI.\n",
    "\n",
    "How to install IBM Cloud (bluemix) console: [instruction](https://console.bluemix.net/docs/cli/reference/ibmcloud/download_cli.html#install_use)\n",
    "\n",
    "How to get api key using console:\n",
    "```\n",
    "bx login --sso\n",
    "bx iam api-key-create 'my_key'\n",
    "```\n",
    "__Please replace <'EDIT THIS'> to your values *__"
   ]
  },
  {
   "cell_type": "code",
   "metadata": {
    "id": "e83b8e03-7bc4-47f4-92cf-3f633804eaf3",
    "ExecuteTime": {
     "end_time": "2024-10-30T06:14:17.441471Z",
     "start_time": "2024-10-30T06:14:17.437897Z"
    }
   },
   "source": [
    "CLOUD_API_KEY = \"<EDIT THIS>\"\n",
    "IAM_URL = \"https://iam.cloud.ibm.com/oidc/token\""
   ],
   "outputs": [],
   "execution_count": 3
  },
  {
   "cell_type": "markdown",
   "metadata": {},
   "source": "## WML credentials"
  },
  {
   "cell_type": "code",
   "metadata": {
    "id": "e7986d4e-4ab7-45ef-9922-98cf3851d354",
    "ExecuteTime": {
     "end_time": "2024-10-30T06:14:17.444998Z",
     "start_time": "2024-10-30T06:14:17.442506Z"
    }
   },
   "source": [
    "WML_CREDENTIALS = {\n",
    "    \"url\": \"https://us-south.ml.cloud.ibm.com\",\n",
    "    \"apikey\": CLOUD_API_KEY\n",
    "}"
   ],
   "outputs": [],
   "execution_count": 4
  },
  {
   "cell_type": "markdown",
   "metadata": {},
   "source": [
    "This tutorial can use Databases for PostgreSQL, Db2 Warehouse, or a free internal verison of PostgreSQL to create a datamart for OpenScale.\n",
    "\n",
    "If you have previously configured OpenScale, it will use your existing datamart, and not interfere with any models you are currently monitoring. Do not update the cell below.\n",
    "\n",
    "If you do not have a paid Cloud account or would prefer not to provision this paid service, you may use the free internal PostgreSQL service with OpenScale. Do not update the cell below.\n",
    "\n",
    "To provision a new instance of Db2 Warehouse, locate [Db2 Warehouse in the Cloud catalog](https://cloud.ibm.com/catalog/services/db2-warehouse), give your service a name, and click **Create**. Once your instance is created, click the **Service Credentials** link on the left side of the screen. Click the **New credential** button, give your credentials a name, and click **Add**. Your new credentials can be accessed by clicking the **View credentials** button. Copy and paste your Db2 Warehouse credentials into the cell below."
   ]
  },
  {
   "cell_type": "code",
   "metadata": {
    "id": "86af7afe-a4d6-4852-9e4c-ba3da49ec68b",
    "ExecuteTime": {
     "end_time": "2024-10-30T06:14:17.449345Z",
     "start_time": "2024-10-30T06:14:17.447234Z"
    }
   },
   "source": [
    "# Configure DB_CREDENTIALS to create datamart with an external database\n",
    "# DB_CREDENTIALS = {\n",
    "#     \"database_type\"='postgresql' # Mention db2 as database_type if Database is DB2\n",
    "#     \"hostname\":\"\",\n",
    "#     \"username\":\"\",\n",
    "#     \"password\":\"\",\n",
    "#     \"database\":\"\",\n",
    "#     \"port\":31876,\n",
    "#     \"ssl\":False,\n",
    "#     \"sslmode\":None,\n",
    "#     \"certificate_base64\":None\n",
    "#     }\n",
    "\n",
    "DB_CREDENTIALS = None\n",
    "SCHEMA_NAME = None"
   ],
   "outputs": [],
   "execution_count": 5
  },
  {
   "cell_type": "markdown",
   "metadata": {},
   "source": [
    "__If you previously configured OpenScale to use the free internal version of PostgreSQL, you can switch to a new datamart using a paid database service.__ If you would like to delete the internal PostgreSQL configuration and create a new one using service credentials supplied in the cell above, set the __KEEP_MY_INTERNAL_POSTGRES__ variable below to __False__ below. In this case, the notebook will remove your existing internal PostgreSQL datamart and create a new one with the supplied credentials. __*NO DATA MIGRATION WILL OCCUR.*__ This NoteBook configured OpenScale to use the free internal version of PostgreSQL*"
   ]
  },
  {
   "cell_type": "code",
   "metadata": {
    "id": "ca204415-8d15-4017-b8ac-0ad8ee0f64b4",
    "ExecuteTime": {
     "end_time": "2024-10-30T06:14:17.452083Z",
     "start_time": "2024-10-30T06:14:17.450201Z"
    }
   },
   "source": [
    "KEEP_MY_INTERNAL_POSTGRES = True"
   ],
   "outputs": [],
   "execution_count": 6
  },
  {
   "cell_type": "markdown",
   "metadata": {},
   "source": [
    "In next cells, you will need to paste some credentials to Cloud Object Storage. If you haven't worked with COS yet please visit [getting started with COS tutorial](https://cloud.ibm.com/docs/cloud-object-storage?topic=cloud-object-storage-getting-started). \n",
    "You can find `COS_API_KEY_ID` and `COS_RESOURCE_CRN` variables in **_Service Credentials_** in menu of your COS instance. Used COS Service Credentials must be created with _Role_ parameter set as Writer. Later training data file will be loaded to the bucket of your instance and used as training refecence in subsription.  \n",
    "`COS_ENDPOINT` variable can be found in **_Endpoint_** field of the menu."
   ]
  },
  {
   "cell_type": "code",
   "metadata": {
    "id": "cdc51378-f43f-4471-972c-f914973ed298",
    "ExecuteTime": {
     "end_time": "2024-10-30T06:14:17.454883Z",
     "start_time": "2024-10-30T06:14:17.452982Z"
    }
   },
   "source": [
    "COS_API_KEY_ID = \"<EDIT THIS>\"\n",
    "COS_RESOURCE_CRN = \"<EDIT THIS>\"  # eg \"crn:v1:bluemix:public:cloud-object-storage:global:a/3bf0d9003abfb5d29761c3e97696b71c:d6f04d83-6c4f-4a62-a165-696756d63903::\"\n",
    "COS_ENDPOINT = \"<EDIT THIS>\" # \"https://s3.us-south.cloud-object-storage.appdomain.cloud\""
   ],
   "outputs": [],
   "execution_count": 7
  },
  {
   "cell_type": "code",
   "metadata": {
    "id": "9c5619af-5113-4d4d-9114-b7d1f3713512",
    "ExecuteTime": {
     "end_time": "2024-10-30T06:14:17.457809Z",
     "start_time": "2024-10-30T06:14:17.455834Z"
    }
   },
   "source": "BUCKET_NAME = \"<EDIT THIS>\" # example: \"credit-risk-training-data\"",
   "outputs": [],
   "execution_count": 8
  },
  {
   "cell_type": "markdown",
   "metadata": {},
   "source": [
    "# Configuring dataset and store it Cloud Object Storage\n",
    "## Load the training data from github"
   ]
  },
  {
   "cell_type": "code",
   "metadata": {
    "id": "facf8e35-1e99-4d20-8bcb-e9fda037b0e8",
    "ExecuteTime": {
     "end_time": "2024-10-30T06:14:18.331448Z",
     "start_time": "2024-10-30T06:14:17.458802Z"
    }
   },
   "source": [
    "!rm german_credit_data_biased_training.csv\n",
    "!wget https://raw.githubusercontent.com/IBM/watson-openscale-samples/main/IBM%20Cloud/WML/assets/data/credit_risk/german_credit_data_biased_training.csv -O german_credit_data_biased_training.csv"
   ],
   "outputs": [
    {
     "name": "stdout",
     "output_type": "stream",
     "text": [
      "--2024-10-30 11:44:17--  https://raw.githubusercontent.com/IBM/watson-openscale-samples/main/IBM%20Cloud/WML/assets/data/credit_risk/german_credit_data_biased_training.csv\r\n",
      "Resolving raw.githubusercontent.com (raw.githubusercontent.com)... 2606:50c0:8003::154, 2606:50c0:8002::154, 2606:50c0:8001::154, ...\r\n",
      "Connecting to raw.githubusercontent.com (raw.githubusercontent.com)|2606:50c0:8003::154|:443... connected.\r\n",
      "HTTP request sent, awaiting response... 200 OK\r\n",
      "Length: 689622 (673K) [text/plain]\r\n",
      "Saving to: ‘german_credit_data_biased_training.csv’\r\n",
      "\r\n",
      "german_credit_data_ 100%[===================>] 673.46K  --.-KB/s    in 0.07s   \r\n",
      "\r\n",
      "2024-10-30 11:44:18 (9.45 MB/s) - ‘german_credit_data_biased_training.csv’ saved [689622/689622]\r\n",
      "\r\n"
     ]
    }
   ],
   "execution_count": 9
  },
  {
   "cell_type": "code",
   "metadata": {
    "id": "7ed9c1e1-63df-476d-ab34-61b25ba1231a",
    "ExecuteTime": {
     "end_time": "2024-10-30T06:14:51.738834Z",
     "start_time": "2024-10-30T06:14:18.333237Z"
    }
   },
   "source": [
    "import numpy as np\n",
    "import pandas as pd\n",
    "\n",
    "training_data_file_name = \"german_credit_data_biased_training.csv\"\n",
    "data_df = pd.read_csv(training_data_file_name)\n",
    "print(data_df.head())\n",
    "print('Columns: ', list(data_df.columns))\n",
    "print('Number of columns: ', len(data_df.columns))"
   ],
   "outputs": [
    {
     "data": {
      "text/plain": [
       "  CheckingStatus  LoanDuration           CreditHistory LoanPurpose  \\\n",
       "0       0_to_200            31    credits_paid_to_date       other   \n",
       "1         less_0            18    credits_paid_to_date     car_new   \n",
       "2         less_0            15  prior_payments_delayed   furniture   \n",
       "3       0_to_200            28    credits_paid_to_date  retraining   \n",
       "4    no_checking            28  prior_payments_delayed   education   \n",
       "\n",
       "   LoanAmount ExistingSavings EmploymentDuration  InstallmentPercent     Sex  \\\n",
       "0        1889      100_to_500             less_1                   3  female   \n",
       "1         462        less_100             1_to_4                   2  female   \n",
       "2         250        less_100             1_to_4                   2    male   \n",
       "3        3693        less_100          greater_7                   3    male   \n",
       "4        6235     500_to_1000          greater_7                   3    male   \n",
       "\n",
       "  OthersOnLoan  ...       OwnsProperty Age  InstallmentPlans Housing  \\\n",
       "0         none  ...  savings_insurance  32              none     own   \n",
       "1         none  ...  savings_insurance  37            stores     own   \n",
       "2         none  ...        real_estate  28              none     own   \n",
       "3         none  ...  savings_insurance  32              none     own   \n",
       "4         none  ...            unknown  57              none     own   \n",
       "\n",
       "  ExistingCreditsCount      Job Dependents  Telephone ForeignWorker     Risk  \n",
       "0                    1  skilled          1       none           yes  No Risk  \n",
       "1                    2  skilled          1       none           yes  No Risk  \n",
       "2                    2  skilled          1        yes            no  No Risk  \n",
       "3                    1  skilled          1       none           yes  No Risk  \n",
       "4                    2  skilled          1       none           yes     Risk  \n",
       "\n",
       "[5 rows x 21 columns]"
      ],
      "text/html": [
       "<div>\n",
       "<style scoped>\n",
       "    .dataframe tbody tr th:only-of-type {\n",
       "        vertical-align: middle;\n",
       "    }\n",
       "\n",
       "    .dataframe tbody tr th {\n",
       "        vertical-align: top;\n",
       "    }\n",
       "\n",
       "    .dataframe thead th {\n",
       "        text-align: right;\n",
       "    }\n",
       "</style>\n",
       "<table border=\"1\" class=\"dataframe\">\n",
       "  <thead>\n",
       "    <tr style=\"text-align: right;\">\n",
       "      <th></th>\n",
       "      <th>CheckingStatus</th>\n",
       "      <th>LoanDuration</th>\n",
       "      <th>CreditHistory</th>\n",
       "      <th>LoanPurpose</th>\n",
       "      <th>LoanAmount</th>\n",
       "      <th>ExistingSavings</th>\n",
       "      <th>EmploymentDuration</th>\n",
       "      <th>InstallmentPercent</th>\n",
       "      <th>Sex</th>\n",
       "      <th>OthersOnLoan</th>\n",
       "      <th>...</th>\n",
       "      <th>OwnsProperty</th>\n",
       "      <th>Age</th>\n",
       "      <th>InstallmentPlans</th>\n",
       "      <th>Housing</th>\n",
       "      <th>ExistingCreditsCount</th>\n",
       "      <th>Job</th>\n",
       "      <th>Dependents</th>\n",
       "      <th>Telephone</th>\n",
       "      <th>ForeignWorker</th>\n",
       "      <th>Risk</th>\n",
       "    </tr>\n",
       "  </thead>\n",
       "  <tbody>\n",
       "    <tr>\n",
       "      <th>0</th>\n",
       "      <td>0_to_200</td>\n",
       "      <td>31</td>\n",
       "      <td>credits_paid_to_date</td>\n",
       "      <td>other</td>\n",
       "      <td>1889</td>\n",
       "      <td>100_to_500</td>\n",
       "      <td>less_1</td>\n",
       "      <td>3</td>\n",
       "      <td>female</td>\n",
       "      <td>none</td>\n",
       "      <td>...</td>\n",
       "      <td>savings_insurance</td>\n",
       "      <td>32</td>\n",
       "      <td>none</td>\n",
       "      <td>own</td>\n",
       "      <td>1</td>\n",
       "      <td>skilled</td>\n",
       "      <td>1</td>\n",
       "      <td>none</td>\n",
       "      <td>yes</td>\n",
       "      <td>No Risk</td>\n",
       "    </tr>\n",
       "    <tr>\n",
       "      <th>1</th>\n",
       "      <td>less_0</td>\n",
       "      <td>18</td>\n",
       "      <td>credits_paid_to_date</td>\n",
       "      <td>car_new</td>\n",
       "      <td>462</td>\n",
       "      <td>less_100</td>\n",
       "      <td>1_to_4</td>\n",
       "      <td>2</td>\n",
       "      <td>female</td>\n",
       "      <td>none</td>\n",
       "      <td>...</td>\n",
       "      <td>savings_insurance</td>\n",
       "      <td>37</td>\n",
       "      <td>stores</td>\n",
       "      <td>own</td>\n",
       "      <td>2</td>\n",
       "      <td>skilled</td>\n",
       "      <td>1</td>\n",
       "      <td>none</td>\n",
       "      <td>yes</td>\n",
       "      <td>No Risk</td>\n",
       "    </tr>\n",
       "    <tr>\n",
       "      <th>2</th>\n",
       "      <td>less_0</td>\n",
       "      <td>15</td>\n",
       "      <td>prior_payments_delayed</td>\n",
       "      <td>furniture</td>\n",
       "      <td>250</td>\n",
       "      <td>less_100</td>\n",
       "      <td>1_to_4</td>\n",
       "      <td>2</td>\n",
       "      <td>male</td>\n",
       "      <td>none</td>\n",
       "      <td>...</td>\n",
       "      <td>real_estate</td>\n",
       "      <td>28</td>\n",
       "      <td>none</td>\n",
       "      <td>own</td>\n",
       "      <td>2</td>\n",
       "      <td>skilled</td>\n",
       "      <td>1</td>\n",
       "      <td>yes</td>\n",
       "      <td>no</td>\n",
       "      <td>No Risk</td>\n",
       "    </tr>\n",
       "    <tr>\n",
       "      <th>3</th>\n",
       "      <td>0_to_200</td>\n",
       "      <td>28</td>\n",
       "      <td>credits_paid_to_date</td>\n",
       "      <td>retraining</td>\n",
       "      <td>3693</td>\n",
       "      <td>less_100</td>\n",
       "      <td>greater_7</td>\n",
       "      <td>3</td>\n",
       "      <td>male</td>\n",
       "      <td>none</td>\n",
       "      <td>...</td>\n",
       "      <td>savings_insurance</td>\n",
       "      <td>32</td>\n",
       "      <td>none</td>\n",
       "      <td>own</td>\n",
       "      <td>1</td>\n",
       "      <td>skilled</td>\n",
       "      <td>1</td>\n",
       "      <td>none</td>\n",
       "      <td>yes</td>\n",
       "      <td>No Risk</td>\n",
       "    </tr>\n",
       "    <tr>\n",
       "      <th>4</th>\n",
       "      <td>no_checking</td>\n",
       "      <td>28</td>\n",
       "      <td>prior_payments_delayed</td>\n",
       "      <td>education</td>\n",
       "      <td>6235</td>\n",
       "      <td>500_to_1000</td>\n",
       "      <td>greater_7</td>\n",
       "      <td>3</td>\n",
       "      <td>male</td>\n",
       "      <td>none</td>\n",
       "      <td>...</td>\n",
       "      <td>unknown</td>\n",
       "      <td>57</td>\n",
       "      <td>none</td>\n",
       "      <td>own</td>\n",
       "      <td>2</td>\n",
       "      <td>skilled</td>\n",
       "      <td>1</td>\n",
       "      <td>none</td>\n",
       "      <td>yes</td>\n",
       "      <td>Risk</td>\n",
       "    </tr>\n",
       "  </tbody>\n",
       "</table>\n",
       "<p>5 rows × 21 columns</p>\n",
       "</div>"
      ]
     },
     "metadata": {},
     "output_type": "display_data"
    },
    {
     "name": "stdout",
     "output_type": "stream",
     "text": [
      "Columns:  ['CheckingStatus', 'LoanDuration', 'CreditHistory', 'LoanPurpose', 'LoanAmount', 'ExistingSavings', 'EmploymentDuration', 'InstallmentPercent', 'Sex', 'OthersOnLoan', 'CurrentResidenceDuration', 'OwnsProperty', 'Age', 'InstallmentPlans', 'Housing', 'ExistingCreditsCount', 'Job', 'Dependents', 'Telephone', 'ForeignWorker', 'Risk']\n",
      "Number of columns:  21\n"
     ]
    }
   ],
   "execution_count": 10
  },
  {
   "cell_type": "markdown",
   "metadata": {},
   "source": "#### As you can see, the data contains twenty one fields. ```Risk``` field is the one you would like to predict using feedback data."
  },
  {
   "cell_type": "code",
   "metadata": {
    "id": "bac75c4d-a45a-4b3a-86f3-824ec78adf6d",
    "ExecuteTime": {
     "end_time": "2024-10-30T06:14:51.744510Z",
     "start_time": "2024-10-30T06:14:51.739935Z"
    }
   },
   "source": [
    "print('Number of records: ', data_df.Risk.count())\n",
    "target_count = data_df.groupby('Risk')['Risk'].count()\n",
    "print('Target count: ', target_count)"
   ],
   "outputs": [
    {
     "name": "stdout",
     "output_type": "stream",
     "text": [
      "Number of records:  5000\n",
      "Target count:  Risk\n",
      "No Risk    3330\n",
      "Risk       1670\n",
      "Name: Risk, dtype: int64\n"
     ]
    }
   ],
   "execution_count": 11
  },
  {
   "cell_type": "markdown",
   "metadata": {},
   "source": "## Save training data to Cloud Object Storage"
  },
  {
   "cell_type": "code",
   "metadata": {
    "id": "24e5ace9-3d20-41b8-8a41-efa0b1f990ff",
    "ExecuteTime": {
     "end_time": "2024-10-30T06:14:57.156923Z",
     "start_time": "2024-10-30T06:14:51.745446Z"
    }
   },
   "source": [
    "import ibm_boto3\n",
    "from ibm_botocore.client import Config\n",
    "\n",
    "cos_client = ibm_boto3.resource(\"s3\",\n",
    "                                ibm_api_key_id=COS_API_KEY_ID,\n",
    "                                ibm_service_instance_id=COS_RESOURCE_CRN,\n",
    "                                ibm_auth_endpoint=IAM_URL,\n",
    "                                config=Config(signature_version=\"oauth\"),\n",
    "                                endpoint_url=COS_ENDPOINT\n",
    "                                )\n",
    "with open(training_data_file_name, \"rb\") as file_data:\n",
    "    cos_client.Object(BUCKET_NAME, training_data_file_name).upload_fileobj(\n",
    "        Fileobj=file_data\n",
    "    )"
   ],
   "outputs": [],
   "execution_count": 12
  },
  {
   "cell_type": "markdown",
   "metadata": {},
   "source": "# Creating watsonx_ai client"
  },
  {
   "cell_type": "code",
   "metadata": {
    "id": "fc1bbdc8-27ef-4e0e-b90a-1b5132b6ae26",
    "ExecuteTime": {
     "end_time": "2024-10-30T06:15:45.576950Z",
     "start_time": "2024-10-30T06:14:57.159843Z"
    }
   },
   "source": [
    "from ibm_watsonx_ai import APIClient\n",
    "\n",
    "wml_client = APIClient(WML_CREDENTIALS)\n",
    "wml_client.version"
   ],
   "outputs": [
    {
     "data": {
      "text/plain": [
       "'1.1.20'"
      ]
     },
     "execution_count": 13,
     "metadata": {},
     "output_type": "execute_result"
    }
   ],
   "execution_count": 13
  },
  {
   "cell_type": "markdown",
   "metadata": {},
   "source": "# Creating watson openscale client"
  },
  {
   "cell_type": "code",
   "metadata": {
    "id": "1cf008d6-5a6f-4f42-9528-a74e10425e74",
    "ExecuteTime": {
     "end_time": "2024-10-30T06:16:05.193098Z",
     "start_time": "2024-10-30T06:15:45.585654Z"
    }
   },
   "source": [
    "from ibm_cloud_sdk_core.authenticators import IAMAuthenticator\n",
    "from ibm_watson_openscale import *\n",
    "\n",
    "authenticator = IAMAuthenticator(apikey=CLOUD_API_KEY)\n",
    "pre_prod_ai_client = APIClient(authenticator=authenticator)\n",
    "prod_ai_client = APIClient(authenticator=authenticator)"
   ],
   "outputs": [],
   "execution_count": 14
  },
  {
   "metadata": {},
   "cell_type": "markdown",
   "source": [
    "# Creating and training wml model\n",
    "## Importing required libraries and creating model"
   ]
  },
  {
   "metadata": {
    "ExecuteTime": {
     "end_time": "2024-10-30T06:16:21.359451Z",
     "start_time": "2024-10-30T06:16:05.194603Z"
    }
   },
   "cell_type": "code",
   "source": [
    "# You will start with importing required libraries\n",
    "from sklearn.linear_model import SGDClassifier\n",
    "from sklearn.preprocessing import OneHotEncoder\n",
    "from sklearn.compose import ColumnTransformer\n",
    "from sklearn.pipeline import Pipeline\n",
    "from sklearn.model_selection import train_test_split\n",
    "from sklearn.metrics import roc_auc_score\n",
    "from sklearn.inspection import permutation_importance"
   ],
   "outputs": [],
   "execution_count": 15
  },
  {
   "metadata": {
    "ExecuteTime": {
     "end_time": "2024-10-30T06:16:21.411566Z",
     "start_time": "2024-10-30T06:16:21.360559Z"
    }
   },
   "cell_type": "code",
   "source": [
    "# Splitting the data into train and test\n",
    "train_data, test_data = train_test_split(data_df, test_size=0.2)\n",
    "\n",
    "# Preparing the pipeline\n",
    "features_idx = np.s_[0:-1]\n",
    "first_record_idx = np.s_[0]\n",
    "\n",
    "# In this step, you will encode target column labels into numeric values. You can use `inverse_transform` to decode numeric predictions into labels.\n",
    "string_fields = [type(fld) is str for fld in train_data.iloc[first_record_idx, features_idx]]\n",
    "ct = ColumnTransformer([(\"ohe\", OneHotEncoder(), list(np.array(train_data.columns)[features_idx][string_fields]))])\n",
    "clf_linear = SGDClassifier(loss='log_loss', penalty='l2', max_iter=1000, tol=1e-5)\n",
    "pipeline_linear = Pipeline([('ct', ct), ('clf_linear', clf_linear)])\n",
    "\n",
    "# Train a model\n",
    "print(\"Training a model\")\n",
    "risk_model = pipeline_linear.fit(train_data.drop('Risk', axis=1), train_data.Risk)\n",
    "\n",
    "# Evaluate the model\n",
    "print(\"Evaluating the model\")\n",
    "predictions = risk_model.predict(test_data.drop('Risk', axis=1))\n",
    "indexed_preds = [0 if prediction == 'No Risk' else 1 for prediction in predictions]\n",
    "real_observations = test_data.Risk.replace('Risk', 1)\n",
    "real_observations = real_observations.replace('No Risk', 0).values\n",
    "auc = roc_auc_score(real_observations, indexed_preds)\n",
    "print(auc)"
   ],
   "outputs": [
    {
     "name": "stdout",
     "output_type": "stream",
     "text": [
      "Training a model\n",
      "Evaluating the model\n",
      "0.7363105115071062\n"
     ]
    }
   ],
   "execution_count": 16
  },
  {
   "metadata": {},
   "cell_type": "markdown",
   "source": "## Finding feature importance for a model deployed in Watson Machine Learning (WML) to understand feature impact on predictions."
  },
  {
   "metadata": {
    "ExecuteTime": {
     "end_time": "2024-10-30T06:16:22.775694Z",
     "start_time": "2024-10-30T06:16:21.412634Z"
    }
   },
   "cell_type": "code",
   "source": [
    "# This is done because we will deduce the important and most important features to the model. This will help in narrowing down the analysis of Drift v2 evaluation in the UI\n",
    "per_res = permutation_importance(risk_model, train_data.drop('Risk', axis=1), train_data.Risk, random_state=0)\n",
    "per_res = np.mean(np.abs(per_res.importances), axis=1)\n",
    "fields = [col for col in train_data.columns if col != \"Risk\"]\n",
    "feature_importance = dict(zip(fields, per_res))\n",
    "print(feature_importance)"
   ],
   "outputs": [
    {
     "name": "stdout",
     "output_type": "stream",
     "text": [
      "{'CheckingStatus': 0.012600000000000056, 'LoanDuration': 0.0, 'CreditHistory': 0.002049999999999974, 'LoanPurpose': 0.002800000000000047, 'LoanAmount': 0.0, 'ExistingSavings': 0.0020500000000000405, 'EmploymentDuration': 0.02185000000000008, 'InstallmentPercent': 0.0, 'Sex': 0.006350000000000034, 'OthersOnLoan': 0.0025500000000000522, 'CurrentResidenceDuration': 0.0, 'OwnsProperty': 0.01700000000000006, 'Age': 0.0, 'InstallmentPlans': 0.0024000000000000245, 'Housing': 0.001350000000000029, 'ExistingCreditsCount': 0.0, 'Job': 0.0025000000000000135, 'Dependents': 0.0, 'Telephone': 0.0021999999999999797, 'ForeignWorker': 0.0006999999999999895}\n"
     ]
    }
   ],
   "execution_count": 17
  },
  {
   "metadata": {},
   "cell_type": "markdown",
   "source": [
    "# Creating configuration for watson openscale\n",
    "## Database configuration"
   ]
  },
  {
   "metadata": {
    "ExecuteTime": {
     "end_time": "2024-10-30T06:16:22.780744Z",
     "start_time": "2024-10-30T06:16:22.776722Z"
    }
   },
   "cell_type": "code",
   "source": [
    "from ibm_watson_openscale.base_classes.watson_open_scale_v2 import DatabaseConfigurationRequest, \\\n",
    "    PrimaryStorageCredentialsLong, LocationSchemaName\n",
    "\n",
    "db_credentials = None\n",
    "location = None\n",
    "\n",
    "# Below Code is set up External Datamart Configuration\n",
    "if DB_CREDENTIALS is not None:\n",
    "    if SCHEMA_NAME is not None:\n",
    "        location = LocationSchemaName(\n",
    "            schema_name=SCHEMA_NAME\n",
    "        )\n",
    "    if DB_CREDENTIALS[\"ssl\"] is True and DB_CREDENTIALS[\"sslmode\"] is None and DB_CREDENTIALS[\n",
    "        \"certificate_base64\"] is None:\n",
    "        raise Exception(\"If SSL is enabled, SSL mode and SSL certificate must be provided \")\n",
    "\n",
    "    db_credentials = DatabaseConfigurationRequest(\n",
    "        database_type=DB_CREDENTIALS[\"database_type\"],  \n",
    "        credentials=PrimaryStorageCredentialsLong(\n",
    "            hostname=DB_CREDENTIALS[\"hostname\"],\n",
    "            username=DB_CREDENTIALS[\"username\"],\n",
    "            password=DB_CREDENTIALS[\"password\"],\n",
    "            db=DB_CREDENTIALS[\"database\"],\n",
    "            port=DB_CREDENTIALS[\"port\"],\n",
    "            ssl=DB_CREDENTIALS[\"ssl\"],\n",
    "            sslmode=DB_CREDENTIALS[\"sslmode\"],\n",
    "            certificate_base64=DB_CREDENTIALS[\"certificate_base64\"]\n",
    "        ),\n",
    "        location=location)"
   ],
   "outputs": [],
   "execution_count": 18
  },
  {
   "metadata": {},
   "cell_type": "markdown",
   "source": "## Configure label column"
  },
  {
   "metadata": {
    "ExecuteTime": {
     "end_time": "2024-10-30T06:16:22.783497Z",
     "start_time": "2024-10-30T06:16:22.781731Z"
    }
   },
   "cell_type": "code",
   "source": "label_column = \"Risk\"",
   "outputs": [],
   "execution_count": 19
  },
  {
   "metadata": {},
   "cell_type": "markdown",
   "source": "## Configure fields"
  },
  {
   "metadata": {
    "ExecuteTime": {
     "end_time": "2024-10-30T06:16:22.786684Z",
     "start_time": "2024-10-30T06:16:22.784401Z"
    }
   },
   "cell_type": "code",
   "source": [
    "fields = [\"CheckingStatus\", \"LoanDuration\", \"CreditHistory\", \"LoanPurpose\", \"LoanAmount\", \"ExistingSavings\",\n",
    "          \"EmploymentDuration\", \"InstallmentPercent\", \"Sex\", \"OthersOnLoan\", \"CurrentResidenceDuration\",\n",
    "          \"OwnsProperty\", \"Age\", \"InstallmentPlans\", \"Housing\", \"ExistingCreditsCount\", \"Job\", \"Dependents\",\n",
    "          \"Telephone\", \"ForeignWorker\"]"
   ],
   "outputs": [],
   "execution_count": 20
  },
  {
   "metadata": {},
   "cell_type": "markdown",
   "source": "## Configure feature columns values"
  },
  {
   "metadata": {
    "ExecuteTime": {
     "end_time": "2024-10-30T06:16:22.790017Z",
     "start_time": "2024-10-30T06:16:22.787726Z"
    }
   },
   "cell_type": "code",
   "source": [
    "feature_columns = [\"CheckingStatus\", \"LoanDuration\", \"CreditHistory\", \"LoanPurpose\", \"LoanAmount\", \"ExistingSavings\",\n",
    "                   \"EmploymentDuration\", \"InstallmentPercent\", \"Sex\", \"OthersOnLoan\", \"CurrentResidenceDuration\",\n",
    "                   \"OwnsProperty\", \"Age\", \"InstallmentPlans\", \"Housing\", \"ExistingCreditsCount\", \"Job\", \"Dependents\",\n",
    "                   \"Telephone\", \"ForeignWorker\"]"
   ],
   "outputs": [],
   "execution_count": 21
  },
  {
   "metadata": {},
   "cell_type": "markdown",
   "source": "## Configure categorical column values"
  },
  {
   "metadata": {
    "ExecuteTime": {
     "end_time": "2024-10-30T06:16:22.792788Z",
     "start_time": "2024-10-30T06:16:22.790899Z"
    }
   },
   "cell_type": "code",
   "source": [
    "categorical_columns = [\"CheckingStatus\", \"CreditHistory\", \"LoanPurpose\", \"ExistingSavings\", \"EmploymentDuration\", \"Sex\",\n",
    "                       \"OthersOnLoan\", \"OwnsProperty\", \"InstallmentPlans\", \"Housing\", \"Job\", \"Telephone\",\n",
    "                       \"ForeignWorker\"]"
   ],
   "outputs": [],
   "execution_count": 22
  },
  {
   "metadata": {},
   "cell_type": "markdown",
   "source": "## Configure COS details"
  },
  {
   "metadata": {
    "ExecuteTime": {
     "end_time": "2024-10-30T06:16:22.795824Z",
     "start_time": "2024-10-30T06:16:22.793694Z"
    }
   },
   "cell_type": "code",
   "source": [
    "cos_training_data = {\n",
    "    \"type\": \"cos\",\n",
    "    \"connection\": {\n",
    "        \"resource_instance_id\": COS_RESOURCE_CRN,\n",
    "        \"url\": COS_ENDPOINT,\n",
    "        \"api_key\": COS_API_KEY_ID,\n",
    "        \"iam_url\": IAM_URL\n",
    "    },\n",
    "    \"location\": {\n",
    "        \"bucket\": BUCKET_NAME,\n",
    "        \"file_name\": training_data_file_name\n",
    "    }\n",
    "}"
   ],
   "outputs": [],
   "execution_count": 23
  },
  {
   "metadata": {},
   "cell_type": "markdown",
   "source": "## Configure quality monitor details"
  },
  {
   "metadata": {
    "ExecuteTime": {
     "end_time": "2024-10-30T06:16:22.798630Z",
     "start_time": "2024-10-30T06:16:22.796688Z"
    }
   },
   "cell_type": "code",
   "source": [
    "quality_config = {\n",
    "    \"min_records\": 50,\n",
    "    \"max_records\": 1000,\n",
    "    \"threshold\": [\n",
    "        {\n",
    "            \"metric_id\": \"area_under_roc\",\n",
    "            \"type\": \"lower_limit\",\n",
    "            \"value\": .80\n",
    "        }\n",
    "    ]\n",
    "}"
   ],
   "outputs": [],
   "execution_count": 24
  },
  {
   "metadata": {},
   "cell_type": "markdown",
   "source": "## Configure fairness monitor details"
  },
  {
   "metadata": {
    "ExecuteTime": {
     "end_time": "2024-10-30T06:16:22.802365Z",
     "start_time": "2024-10-30T06:16:22.799761Z"
    }
   },
   "cell_type": "code",
   "source": [
    "fairness_config = {\n",
    "    \"favorable_classes\": [\"No Risk\"],\n",
    "    \"unfavorable_classes\": [\"Risk\"],\n",
    "    \"min_records\": 50,\n",
    "    \"features\": [\n",
    "        {\"name\": \"Sex\",\n",
    "         \"majority\": ['male'],\n",
    "         \"minority\": ['female'],\n",
    "         \"threshold\": 0.95\n",
    "         },\n",
    "        {\"name\": \"Age\",\n",
    "         \"majority\": [[26, 75]],\n",
    "         \"minority\": [[18, 25]],\n",
    "         \"threshold\": 0.95\n",
    "         }]\n",
    "}"
   ],
   "outputs": [],
   "execution_count": 25
  },
  {
   "metadata": {},
   "cell_type": "markdown",
   "source": "## Configure drift_v2 monitor details"
  },
  {
   "metadata": {
    "ExecuteTime": {
     "end_time": "2024-10-30T06:16:22.805872Z",
     "start_time": "2024-10-30T06:16:22.803500Z"
    }
   },
   "cell_type": "code",
   "source": [
    "drift_v2_config = {\n",
    "    \"min_records\": 50,\n",
    "    \"max_records\": 1000,\n",
    "    \"train_archive\": True,\n",
    "    \"fields\": fields,\n",
    "    \"importance\":feature_importance,\n",
    "    \"thresholds\": [\n",
    "        {\n",
    "            \"metric_id\": \"confidence_drift_score\",\n",
    "            \"type\": \"lower_limit\",\n",
    "            \"value\": 0.8\n",
    "        }\n",
    "    ]\n",
    "}"
   ],
   "outputs": [],
   "execution_count": 26
  },
  {
   "cell_type": "markdown",
   "metadata": {},
   "source": [
    "# Storing model and configure watson openscale in pre_production WML instance\n",
    "## Storing wml model in pre_production space"
   ]
  },
  {
   "cell_type": "code",
   "metadata": {
    "id": "4244377f-5f5e-4d4b-a347-51f55658cfe0",
    "ExecuteTime": {
     "end_time": "2024-10-30T06:16:22.808506Z",
     "start_time": "2024-10-30T06:16:22.806773Z"
    }
   },
   "source": [
    "PRE_PROD_MODEL_NAME = \"Scikit German Risk Model WML V4 pre-production Model\"\n",
    "PRE_PROD_DEPLOYMENT_NAME = \"Scikit German Risk Deployment WML V4 pre-production Model\""
   ],
   "outputs": [],
   "execution_count": 27
  },
  {
   "cell_type": "markdown",
   "metadata": {},
   "source": "## Listing all the available spaces"
  },
  {
   "cell_type": "code",
   "metadata": {
    "id": "58431c52-9f2b-481d-a619-86bbb4768e1d",
    "ExecuteTime": {
     "end_time": "2024-10-30T06:16:23.544784Z",
     "start_time": "2024-10-30T06:16:22.809282Z"
    }
   },
   "source": [
    "wml_client.spaces.list(limit=10)"
   ],
   "outputs": [
    {
     "data": {
      "text/plain": [
       "                                     ID                  NAME  \\\n",
       "0  d86b598d-a69d-4fdc-89a6-3c6c5cd7a428     v2-e2e-test-space   \n",
       "1  d8b93cb6-2caa-49f4-b08e-6a6b6521adee            Prod_space   \n",
       "2  fc5257ff-f3a2-4fe9-a8d8-0f759e1f8007        Pre_prod_space   \n",
       "3  d5613787-9178-435b-a8f8-590b9a9c47f2              sampl123   \n",
       "4  bc592530-1cf0-4e56-9fab-70e0924f6907  prompt_evaluvation_s   \n",
       "5  00883863-b2ef-4b90-b797-f5917a6618bc              Notebook   \n",
       "6  523c8856-6d1e-49aa-b371-5dab42cd322c        sdk-test-space   \n",
       "\n",
       "                    CREATED  \n",
       "0  2024-10-23T06:25:57.849Z  \n",
       "1  2024-10-22T08:52:41.226Z  \n",
       "2  2024-10-22T08:38:44.167Z  \n",
       "3  2024-10-11T06:16:10.258Z  \n",
       "4  2024-09-17T15:39:39.598Z  \n",
       "5  2024-07-16T09:30:02.576Z  \n",
       "6  2024-06-27T09:19:53.318Z  "
      ],
      "text/html": [
       "<div>\n",
       "<style scoped>\n",
       "    .dataframe tbody tr th:only-of-type {\n",
       "        vertical-align: middle;\n",
       "    }\n",
       "\n",
       "    .dataframe tbody tr th {\n",
       "        vertical-align: top;\n",
       "    }\n",
       "\n",
       "    .dataframe thead th {\n",
       "        text-align: right;\n",
       "    }\n",
       "</style>\n",
       "<table border=\"1\" class=\"dataframe\">\n",
       "  <thead>\n",
       "    <tr style=\"text-align: right;\">\n",
       "      <th></th>\n",
       "      <th>ID</th>\n",
       "      <th>NAME</th>\n",
       "      <th>CREATED</th>\n",
       "    </tr>\n",
       "  </thead>\n",
       "  <tbody>\n",
       "    <tr>\n",
       "      <th>0</th>\n",
       "      <td>d86b598d-a69d-4fdc-89a6-3c6c5cd7a428</td>\n",
       "      <td>v2-e2e-test-space</td>\n",
       "      <td>2024-10-23T06:25:57.849Z</td>\n",
       "    </tr>\n",
       "    <tr>\n",
       "      <th>1</th>\n",
       "      <td>d8b93cb6-2caa-49f4-b08e-6a6b6521adee</td>\n",
       "      <td>Prod_space</td>\n",
       "      <td>2024-10-22T08:52:41.226Z</td>\n",
       "    </tr>\n",
       "    <tr>\n",
       "      <th>2</th>\n",
       "      <td>fc5257ff-f3a2-4fe9-a8d8-0f759e1f8007</td>\n",
       "      <td>Pre_prod_space</td>\n",
       "      <td>2024-10-22T08:38:44.167Z</td>\n",
       "    </tr>\n",
       "    <tr>\n",
       "      <th>3</th>\n",
       "      <td>d5613787-9178-435b-a8f8-590b9a9c47f2</td>\n",
       "      <td>sampl123</td>\n",
       "      <td>2024-10-11T06:16:10.258Z</td>\n",
       "    </tr>\n",
       "    <tr>\n",
       "      <th>4</th>\n",
       "      <td>bc592530-1cf0-4e56-9fab-70e0924f6907</td>\n",
       "      <td>prompt_evaluvation_s</td>\n",
       "      <td>2024-09-17T15:39:39.598Z</td>\n",
       "    </tr>\n",
       "    <tr>\n",
       "      <th>5</th>\n",
       "      <td>00883863-b2ef-4b90-b797-f5917a6618bc</td>\n",
       "      <td>Notebook</td>\n",
       "      <td>2024-07-16T09:30:02.576Z</td>\n",
       "    </tr>\n",
       "    <tr>\n",
       "      <th>6</th>\n",
       "      <td>523c8856-6d1e-49aa-b371-5dab42cd322c</td>\n",
       "      <td>sdk-test-space</td>\n",
       "      <td>2024-06-27T09:19:53.318Z</td>\n",
       "    </tr>\n",
       "  </tbody>\n",
       "</table>\n",
       "</div>"
      ]
     },
     "execution_count": 28,
     "metadata": {},
     "output_type": "execute_result"
    }
   ],
   "execution_count": 28
  },
  {
   "metadata": {},
   "cell_type": "markdown",
   "source": "## Setting up default space Id"
  },
  {
   "cell_type": "code",
   "metadata": {
    "id": "053db3b8-0fca-4d49-a760-e43840fd49e2",
    "ExecuteTime": {
     "end_time": "2024-10-30T06:16:24.628021Z",
     "start_time": "2024-10-30T06:16:23.546273Z"
    }
   },
   "source": [
    "WML_PRE_PROD_SPACE_ID = \"<EDIT THIS>\"\n",
    "wml_client.set.default_space(WML_PRE_PROD_SPACE_ID)"
   ],
   "outputs": [
    {
     "data": {
      "text/plain": [
       "'SUCCESS'"
      ]
     },
     "execution_count": 29,
     "metadata": {},
     "output_type": "execute_result"
    }
   ],
   "execution_count": 29
  },
  {
   "metadata": {},
   "cell_type": "markdown",
   "source": [
    "## Publish the model in wml\n",
    "### Remove existing model and deployment from default space"
   ]
  },
  {
   "cell_type": "code",
   "metadata": {
    "id": "ef272779-efc0-4d19-8af8-c8e88c05d72b",
    "ExecuteTime": {
     "end_time": "2024-10-30T06:16:25.446890Z",
     "start_time": "2024-10-30T06:16:24.629058Z"
    }
   },
   "source": [
    "print(\"Removing existing model and deployment....\")\n",
    "deployments_list = wml_client.deployments.get_details()\n",
    "for deployment in deployments_list[\"resources\"]:\n",
    "    model_id = deployment[\"entity\"][\"asset\"][\"id\"]\n",
    "    deployment_id = deployment[\"metadata\"][\"id\"]\n",
    "    if deployment[\"metadata\"][\"name\"] == PRE_PROD_DEPLOYMENT_NAME:\n",
    "        print(\"Deleting deployment id\", deployment_id)\n",
    "        wml_client.deployments.delete(deployment_id)\n",
    "        print(\"Deleting model id\", model_id)\n",
    "        wml_client.repository.delete(model_id)\n",
    "        display(wml_client.repository.list_models())"
   ],
   "outputs": [
    {
     "name": "stdout",
     "output_type": "stream",
     "text": [
      "Removing existing model and deployment....\n"
     ]
    }
   ],
   "execution_count": 30
  },
  {
   "cell_type": "code",
   "metadata": {
    "id": "05a16e7d-cf0c-4b85-a9b1-58e97bd08fe1",
    "ExecuteTime": {
     "end_time": "2024-10-30T06:16:29.372552Z",
     "start_time": "2024-10-30T06:16:25.449730Z"
    }
   },
   "source": [
    "datasource_type = wml_client.connections.get_datasource_type_uid_by_name('bluemixcloudobjectstorage')\n",
    "conn_meta_props = {\n",
    "    wml_client.connections.ConfigurationMetaNames.NAME: \"Connection My COS \",\n",
    "    wml_client.connections.ConfigurationMetaNames.DATASOURCE_TYPE: datasource_type,\n",
    "    wml_client.connections.ConfigurationMetaNames.DESCRIPTION: \"Connection to my COS\",\n",
    "    wml_client.connections.ConfigurationMetaNames.PROPERTIES: {\n",
    "        'bucket': BUCKET_NAME,\n",
    "        'api_key': COS_API_KEY_ID,\n",
    "        'resource_instance_id': COS_RESOURCE_CRN,\n",
    "        'iam_url': IAM_URL,\n",
    "        'url': COS_ENDPOINT\n",
    "    }\n",
    "}\n",
    "\n",
    "conn_details = wml_client.connections.create(meta_props=conn_meta_props)\n",
    "connection_id = wml_client.connections.get_uid(conn_details)\n",
    "\n",
    "training_data_references = [\n",
    "    {\n",
    "        \"id\": \"German Credit Risk\",\n",
    "        \"type\": \"connection_asset\",\n",
    "        \"connection\": {\n",
    "            \"id\": connection_id,\n",
    "            \"href\": \"/v2/connections/\" + connection_id + \"?space_id=\" + WML_PRE_PROD_SPACE_ID\n",
    "\n",
    "        },\n",
    "        \"location\": {\n",
    "            \"bucket\": BUCKET_NAME,\n",
    "            \"file_name\": training_data_file_name\n",
    "        }\n",
    "    }\n",
    "]"
   ],
   "outputs": [
    {
     "name": "stdout",
     "output_type": "stream",
     "text": [
      "Creating connections...\n",
      "SUCCESS\n"
     ]
    }
   ],
   "execution_count": 31
  },
  {
   "cell_type": "code",
   "metadata": {
    "id": "6db13667-8b07-4246-aeeb-5f9c35af6e70",
    "ExecuteTime": {
     "end_time": "2024-10-30T06:16:29.950808Z",
     "start_time": "2024-10-30T06:16:29.373803Z"
    }
   },
   "source": [
    "software_spec_uid = wml_client.software_specifications.get_id_by_name(\"runtime-24.1-py3.11\")\n",
    "print(\"Software Specification ID: {}\".format(software_spec_uid))\n",
    "\n",
    "model_props = {\n",
    "    wml_client._models.ConfigurationMetaNames.NAME: \"{}\".format(PRE_PROD_MODEL_NAME),\n",
    "    wml_client._models.ConfigurationMetaNames.TYPE: \"scikit-learn_1.3\",\n",
    "    wml_client._models.ConfigurationMetaNames.SOFTWARE_SPEC_UID: software_spec_uid,\n",
    "    wml_client._models.ConfigurationMetaNames.TRAINING_DATA_REFERENCES: training_data_references,\n",
    "    wml_client._models.ConfigurationMetaNames.LABEL_FIELD: \"Risk\",\n",
    "}"
   ],
   "outputs": [
    {
     "name": "stdout",
     "output_type": "stream",
     "text": [
      "Software Specification ID: 45f12dfe-aa78-5b8d-9f38-0ee223c47309\n"
     ]
    }
   ],
   "execution_count": 32
  },
  {
   "cell_type": "markdown",
   "metadata": {},
   "source": "## Storing model in wml"
  },
  {
   "cell_type": "code",
   "metadata": {
    "id": "51ed5bce-8011-42e1-b243-b22ddae84c50",
    "ExecuteTime": {
     "end_time": "2024-10-30T06:16:35.380749Z",
     "start_time": "2024-10-30T06:16:29.952013Z"
    }
   },
   "source": [
    "print(\"Storing model....\")\n",
    "published_model_details = wml_client.repository.store_model(model=risk_model, meta_props=model_props,\n",
    "                                                            training_data=data_df.drop([\"Risk\"], axis=1),\n",
    "                                                            training_target=data_df.Risk)\n",
    "pre_prod_model_uid = wml_client.repository.get_model_id(published_model_details)\n",
    "print(\"Done \\nModel ID: {}\".format(pre_prod_model_uid))"
   ],
   "outputs": [
    {
     "name": "stdout",
     "output_type": "stream",
     "text": [
      "Storing model....\n",
      "Done \n",
      "Model ID: 62ae27d6-7df8-4d76-b507-aee9121459af\n"
     ]
    }
   ],
   "execution_count": 33
  },
  {
   "cell_type": "markdown",
   "metadata": {},
   "source": "## Deploy model in wml"
  },
  {
   "cell_type": "code",
   "metadata": {
    "id": "408a4a9c-c548-4eb1-98b2-f1186b905b63",
    "ExecuteTime": {
     "end_time": "2024-10-30T06:16:43.015162Z",
     "start_time": "2024-10-30T06:16:35.383299Z"
    }
   },
   "source": [
    "print(\"Deploying model....\")\n",
    "deployment_details = wml_client.deployments.create(\n",
    "    pre_prod_model_uid,\n",
    "    meta_props={\n",
    "        wml_client.deployments.ConfigurationMetaNames.NAME: \"{}\".format(PRE_PROD_DEPLOYMENT_NAME),\n",
    "        wml_client.deployments.ConfigurationMetaNames.ONLINE: {}\n",
    "    }\n",
    ")\n",
    "pre_prod_scoring_url = wml_client.deployments.get_scoring_href(deployment_details)\n",
    "pre_prod_deployment_uid = wml_client.deployments.get_uid(deployment_details)\n",
    "print(\"Scoring URL: {} \\nModel id: {} \\nDeployment id: {}\".format(pre_prod_scoring_url, pre_prod_model_uid,\n",
    "                                                                  pre_prod_deployment_uid))"
   ],
   "outputs": [
    {
     "name": "stdout",
     "output_type": "stream",
     "text": [
      "Deploying model....\n",
      "\n",
      "\n",
      "######################################################################################\n",
      "\n",
      "Synchronous deployment creation for id: '62ae27d6-7df8-4d76-b507-aee9121459af' started\n",
      "\n",
      "######################################################################################\n",
      "\n",
      "\n",
      "initializing\n",
      "Note: online_url and serving_urls are deprecated and will be removed in a future release. Use inference instead.\n",
      "\n",
      "ready\n",
      "\n",
      "\n",
      "-----------------------------------------------------------------------------------------------\n",
      "Successfully finished deployment creation, deployment_id='c44269c8-7e2c-4ab5-acd8-1ea36a046b28'\n",
      "-----------------------------------------------------------------------------------------------\n",
      "\n",
      "\n",
      "Scoring URL: https://us-south.ml.cloud.ibm.com/ml/v4/deployments/c44269c8-7e2c-4ab5-acd8-1ea36a046b28/predictions \n",
      "Model id: 62ae27d6-7df8-4d76-b507-aee9121459af \n",
      "Deployment id: c44269c8-7e2c-4ab5-acd8-1ea36a046b28\n"
     ]
    }
   ],
   "execution_count": 34
  },
  {
   "cell_type": "markdown",
   "metadata": {},
   "source": "## Scoring the wml model"
  },
  {
   "cell_type": "code",
   "metadata": {
    "id": "ba154dc8-7b6b-485a-be5d-027732fa8239",
    "ExecuteTime": {
     "end_time": "2024-10-30T06:16:43.591798Z",
     "start_time": "2024-10-30T06:16:43.017897Z"
    }
   },
   "source": [
    "print(\"Scoring model....\")\n",
    "fields = [\"CheckingStatus\", \"LoanDuration\", \"CreditHistory\", \"LoanPurpose\", \"LoanAmount\", \"ExistingSavings\",\n",
    "          \"EmploymentDuration\", \"InstallmentPercent\", \"Sex\", \"OthersOnLoan\", \"CurrentResidenceDuration\",\n",
    "          \"OwnsProperty\", \"Age\", \"InstallmentPlans\", \"Housing\", \"ExistingCreditsCount\", \"Job\", \"Dependents\",\n",
    "          \"Telephone\", \"ForeignWorker\"]\n",
    "values = [\n",
    "    [\"no_checking\", 13, \"credits_paid_to_date\", \"car_new\", 1343, \"100_to_500\", \"1_to_4\", 2, \"female\", \"none\", 3,\n",
    "     \"savings_insurance\", 46, \"none\", \"own\", 2, \"skilled\", 1, \"none\", \"yes\"],\n",
    "    [\"no_checking\", 24, \"prior_payments_delayed\", \"furniture\", 4567, \"500_to_1000\", \"1_to_4\", 4, \"male\", \"none\",\n",
    "     4, \"savings_insurance\", 36, \"none\", \"free\", 2, \"management_self-employed\", 1, \"none\", \"yes\"],\n",
    "]\n",
    "scoring_payload = {\"input_data\": [{\"fields\": fields, \"values\": values}]}\n",
    "predictions = wml_client.deployments.score(pre_prod_deployment_uid, scoring_payload)\n",
    "print(predictions)"
   ],
   "outputs": [
    {
     "name": "stdout",
     "output_type": "stream",
     "text": [
      "Scoring model....\n",
      "{'predictions': [{'fields': ['prediction', 'probability'], 'values': [['Risk', [0.4882215859973983, 0.5117784140026017]], ['No Risk', [0.6142450995034986, 0.3857549004965014]]]}]}\n"
     ]
    }
   ],
   "execution_count": 35
  },
  {
   "cell_type": "markdown",
   "metadata": {},
   "source": [
    "# OpenScale configuration using Intergrated Expirence for a pre_production model\n",
    "### Setting up operational_space_id to either \"pre_production\" or \"production\" based on your Watson Machine Learning (WML) model environment."
   ]
  },
  {
   "cell_type": "code",
   "metadata": {
    "id": "14da34e5-a35e-4c5c-a757-cbc23c9fb98b",
    "ExecuteTime": {
     "end_time": "2024-10-30T06:16:43.597922Z",
     "start_time": "2024-10-30T06:16:43.594035Z"
    }
   },
   "source": [
    "operational_space_id = \"pre_production\""
   ],
   "outputs": [],
   "execution_count": 36
  },
  {
   "cell_type": "markdown",
   "metadata": {},
   "source": "## Below cell create object of Watson Machine Learning Model Configuration details used in evaluate function"
  },
  {
   "cell_type": "code",
   "metadata": {
    "id": "8552c7c9-fcd8-436c-9101-33d318de5a46",
    "ExecuteTime": {
     "end_time": "2024-10-30T06:16:47.215862Z",
     "start_time": "2024-10-30T06:16:43.600633Z"
    }
   },
   "source": [
    "from ibm_watson_openscale.base_classes.models.engine_models.wml import WatsonMachineLearningModel\n",
    "\n",
    "model = WatsonMachineLearningModel(model_uid=pre_prod_model_uid,\n",
    "                                   deployment_uid=pre_prod_deployment_uid,\n",
    "                                   space_uid=WML_PRE_PROD_SPACE_ID,\n",
    "                                   label_column=label_column,\n",
    "                                   training_data_reference=cos_training_data,\n",
    "                                   test_data_df=data_df,\n",
    "                                   favorable_classes=['No Risk'],\n",
    "                                   unfavorable_classes=['Risk'],\n",
    "                                   quality_config=quality_config,\n",
    "                                   fairness_config=fairness_config,\n",
    "                                   drift_v2_config=drift_v2_config,\n",
    "                                   prediction_column=\"prediction\",\n",
    "                                   probability_column=\"probability\",\n",
    "                                   feature_columns=feature_columns,\n",
    "                                   categorical_columns=categorical_columns\n",
    "                                   )"
   ],
   "outputs": [],
   "execution_count": 37
  },
  {
   "cell_type": "markdown",
   "metadata": {},
   "source": "## The following cell execute evaluate function which automatically creates datamart , service provider , subscription and enables monitors - fairness , quality, drift v2. "
  },
  {
   "cell_type": "code",
   "metadata": {
    "id": "a8af12f5-3104-4883-8084-199d3e121ba5",
    "ExecuteTime": {
     "end_time": "2024-10-30T06:26:42.418251Z",
     "start_time": "2024-10-30T06:16:47.216890Z"
    }
   },
   "source": [
    "result = pre_prod_ai_client.model.evaluate(model, engine_credentials=WML_CREDENTIALS, db_credentials=db_credentials,\n",
    "                                           operational_space_id=operational_space_id)\n",
    "subscription_id = result[1]"
   ],
   "outputs": [
    {
     "name": "stdout",
     "output_type": "stream",
     "text": [
      "Setting up Datamart...\n",
      "Using existing datamart\n",
      "Setting up Service Binding...\n",
      "Using existing binding 6ba953e5-a0c4-4008-9a72-3eef7316350a\n",
      "Validating model...\n",
      "Existence check for deployment finished. Deployment is Scikit German Risk Model WML V4 pre-production Model\n",
      "Existence check for Model finished.\n",
      "Finished reading training data...\n",
      "Finished inferring model details\n",
      "Creating Subscription...\n",
      "\n",
      "\n",
      "===============================================================================\n",
      "\n",
      " Waiting for end of deleting subscription ec994c09-59ea-46e6-97f2-fdba735a1b9f \n",
      "\n",
      "===============================================================================\n",
      "\n",
      "\n",
      "\n",
      "finished\n",
      "\n",
      "---------------------------------------------\n",
      " Successfully finished deleting subscription \n",
      "---------------------------------------------\n",
      "\n",
      "\n",
      "Deleted existing subscription for Scikit German Risk Model WML V4 pre-production Model\n",
      "\n",
      "\n",
      "=============================================================================\n",
      "\n",
      " Waiting for end of adding subscription af373042-e600-4c0a-b2fd-04981cfdb0e0 \n",
      "\n",
      "=============================================================================\n",
      "\n",
      "\n",
      "\n",
      "active\n",
      "\n",
      "-------------------------------------------\n",
      " Successfully finished adding subscription \n",
      "-------------------------------------------\n",
      "\n",
      "\n",
      "Subscription created successfully. Id af373042-e600-4c0a-b2fd-04981cfdb0e0\n",
      "Adding payload record...\n",
      "Sending Payload records to Datamart\n",
      "Waiting 30 seconds for payload records to reach datamart\n",
      "Total payload logging records 1\n",
      "Asset properties updated in subscription\n",
      "Enabling Monitors...\n",
      "\n",
      "\n",
      "===================================================================================\n",
      "\n",
      " Waiting for end of monitor instance creation 966c5191-8ce4-4675-854e-8c2367aabb52 \n",
      "\n",
      "===================================================================================\n",
      "\n",
      "\n",
      "\n",
      "active\n",
      "\n",
      "---------------------------------------\n",
      " Monitor instance successfully created \n",
      "---------------------------------------\n",
      "\n",
      "\n",
      "Enabled Fairness monitor successfully\n",
      "\n",
      "\n",
      "===================================================================================\n",
      "\n",
      " Waiting for end of monitor instance creation f322fff4-2ae1-4fab-a894-0677a82a61ae \n",
      "\n",
      "===================================================================================\n",
      "\n",
      "\n",
      "\n",
      "preparing\n",
      "active\n",
      "\n",
      "---------------------------------------\n",
      " Monitor instance successfully created \n",
      "---------------------------------------\n",
      "\n",
      "\n",
      "Enabled Quality monitor successfully\n",
      "\n",
      "\n",
      "===================================================================================\n",
      "\n",
      " Waiting for end of monitor instance creation 1258a533-154e-42da-b576-04f6f66b48b8 \n",
      "\n",
      "===================================================================================\n",
      "\n",
      "\n",
      "\n",
      "preparing.\n",
      "active\n",
      "\n",
      "---------------------------------------\n",
      " Monitor instance successfully created \n",
      "---------------------------------------\n",
      "\n",
      "\n",
      "Enabled Explaination monitor successfully\n",
      "\n",
      "\n",
      "===================================================================================\n",
      "\n",
      " Waiting for end of monitor instance creation 0ba6c52e-402f-4402-ba19-4f67ec052f26 \n",
      "\n",
      "===================================================================================\n",
      "\n",
      "\n",
      "\n",
      "preparing......................\n",
      "active\n",
      "\n",
      "---------------------------------------\n",
      " Monitor instance successfully created \n",
      "---------------------------------------\n",
      "\n",
      "\n",
      "Enabled Drift_v2 monitor successfully\n",
      "\n",
      "\n",
      "===================================================================================\n",
      "\n",
      " Waiting for end of monitor instance creation a944cb6c-ac17-4be6-ae16-5aa5e1ef6bf8 \n",
      "\n",
      "===================================================================================\n",
      "\n",
      "\n",
      "\n",
      "active\n",
      "\n",
      "---------------------------------------\n",
      " Monitor instance successfully created \n",
      "---------------------------------------\n",
      "\n",
      "\n",
      "Triggering Mrm risk evaluations request...\n",
      "Grabbing Mrm risk evaluations results...\n",
      "Checking for status of risk evaluation run\n",
      "06:21:06 upload_in_progress\n",
      "06:21:18 upload_in_progress\n",
      "06:21:30 upload_in_progress\n",
      "06:21:42 running\n",
      "06:21:55 running\n",
      "06:22:07 running\n",
      "06:22:20 running\n",
      "06:22:32 running\n",
      "06:22:46 running\n",
      "06:22:59 running\n",
      "06:23:11 running\n",
      "06:23:24 running\n",
      "06:23:40 running\n",
      "06:23:52 running\n",
      "06:24:05 running\n",
      "06:24:17 running\n",
      "06:24:30 running\n",
      "06:24:42 running\n",
      "06:24:54 running\n",
      "06:25:10 running\n",
      "06:25:23 running\n",
      "06:25:35 running\n",
      "06:25:48 running\n",
      "06:26:00 running\n",
      "06:26:13 running\n",
      "06:26:26 running\n",
      "06:26:41 finished\n",
      "Mrm risk evaluation finished successfully\n"
     ]
    }
   ],
   "execution_count": 38
  },
  {
   "cell_type": "markdown",
   "metadata": {},
   "source": "## To evaluate monitors again, run the below cell"
  },
  {
   "cell_type": "code",
   "metadata": {
    "id": "8c9b72c8-a6b5-403c-a6f1-270093f2f456"
   },
   "source": "# pre_prod_ai_client.model.run_evaluation()",
   "outputs": [],
   "execution_count": null
  },
  {
   "cell_type": "markdown",
   "metadata": {},
   "source": [
    "## Get monitor instance details for the configured monitors\n",
    " The following cell will collect monitor_instance_id details for particular subscription_Id from ibm_watson_opscale SDK."
   ]
  },
  {
   "cell_type": "code",
   "metadata": {
    "id": "46f8485c-8a70-49a5-bb96-cecb4cf15670",
    "ExecuteTime": {
     "end_time": "2024-10-30T06:33:32.439931Z",
     "start_time": "2024-10-30T06:33:30.906046Z"
    }
   },
   "source": [
    "monitor_instance_ids = {}\n",
    "monitor_instance_list = pre_prod_ai_client.monitor_instances.list(target_target_id=subscription_id).result\n",
    "for instance in monitor_instance_list.monitor_instances:\n",
    "    monitor_instance_ids.update({instance.entity.monitor_definition_id: instance.metadata.id})\n",
    "monitor_instance_ids"
   ],
   "outputs": [
    {
     "data": {
      "text/plain": [
       "{'quality': 'f322fff4-2ae1-4fab-a894-0677a82a61ae',\n",
       " 'fairness': '966c5191-8ce4-4675-854e-8c2367aabb52',\n",
       " 'mrm': 'a944cb6c-ac17-4be6-ae16-5aa5e1ef6bf8',\n",
       " 'drift_v2': '0ba6c52e-402f-4402-ba19-4f67ec052f26',\n",
       " 'explainability': '1258a533-154e-42da-b576-04f6f66b48b8',\n",
       " 'performance': 'faafabea-86a1-4444-96eb-8c32602ddb1e'}"
      ]
     },
     "execution_count": 40,
     "metadata": {},
     "output_type": "execute_result"
    }
   ],
   "execution_count": 40
  },
  {
   "cell_type": "markdown",
   "metadata": {},
   "source": "## Fairness monitor details"
  },
  {
   "cell_type": "code",
   "metadata": {
    "id": "efb546ab-70a2-4295-8350-bae11c07564d",
    "ExecuteTime": {
     "end_time": "2024-10-30T06:33:35.391157Z",
     "start_time": "2024-10-30T06:33:32.451264Z"
    }
   },
   "source": [
    "pre_prod_ai_client.monitor_instances.show_metrics(monitor_instance_id=monitor_instance_ids['fairness'])"
   ],
   "outputs": [
    {
     "data": {
      "text/plain": [
       "<IPython.core.display.HTML object>"
      ],
      "text/html": [
       "<HTML>\n",
       "        <body>\n",
       "            <h3>966c5191-8ce4-4675-854e-8c2367aabb52 Monitor Runs Metrics from: 2024-10-23 12:03:32.452624  till: 2024-10-30 12:03:32.452638</h3>\n",
       "            <table style='border: 1px solid #dddddd; font-family: Courier'>\n",
       "                <th style='border: 1px solid #dddddd'>ts</th><th style='border: 1px solid #dddddd'>id</th><th style='border: 1px solid #dddddd'>measurement_id</th><th style='border: 1px solid #dddddd'>value</th><th style='border: 1px solid #dddddd'>lower_limit</th><th style='border: 1px solid #dddddd'>upper_limit</th><th style='border: 1px solid #dddddd'>tags</th><th style='border: 1px solid #dddddd'>monitor_definition_id</th><th style='border: 1px solid #dddddd'>monitor_instance_id</th><th style='border: 1px solid #dddddd'>run_id</th><th style='border: 1px solid #dddddd'>target_type</th><th style='border: 1px solid #dddddd'>target_id</th>\n",
       "                <tr><td style='border: 1px solid #dddddd'>2024-10-30 06:27:35.763033+00:00</td><td style='border: 1px solid #dddddd'>fairness_value</td><td style='border: 1px solid #dddddd'>f00ffe2c-da35-4af2-883e-4d5c6d077d4b</td><td style='border: 1px solid #dddddd'>90.0</td><td style='border: 1px solid #dddddd'>95.0</td><td style='border: 1px solid #dddddd'>None</td><td style='border: 1px solid #dddddd'>['feature:Sex', 'fairness_metric_type:fairness', 'feature_value:female']</td><td style='border: 1px solid #dddddd'>fairness</td><td style='border: 1px solid #dddddd'>966c5191-8ce4-4675-854e-8c2367aabb52</td><td style='border: 1px solid #dddddd'>8f436fec-c728-4c31-8584-fef4e1315643</td><td style='border: 1px solid #dddddd'>subscription</td><td style='border: 1px solid #dddddd'>af373042-e600-4c0a-b2fd-04981cfdb0e0</td></tr><tr><td style='border: 1px solid #dddddd'>2024-10-30 06:27:35.763033+00:00</td><td style='border: 1px solid #dddddd'>fairness_value</td><td style='border: 1px solid #dddddd'>f00ffe2c-da35-4af2-883e-4d5c6d077d4b</td><td style='border: 1px solid #dddddd'>100.0</td><td style='border: 1px solid #dddddd'>95.0</td><td style='border: 1px solid #dddddd'>None</td><td style='border: 1px solid #dddddd'>['feature:Age', 'fairness_metric_type:fairness', 'feature_value:18-25']</td><td style='border: 1px solid #dddddd'>fairness</td><td style='border: 1px solid #dddddd'>966c5191-8ce4-4675-854e-8c2367aabb52</td><td style='border: 1px solid #dddddd'>8f436fec-c728-4c31-8584-fef4e1315643</td><td style='border: 1px solid #dddddd'>subscription</td><td style='border: 1px solid #dddddd'>af373042-e600-4c0a-b2fd-04981cfdb0e0</td></tr><tr><td style='border: 1px solid #dddddd'>2024-10-30 06:21:52.999022+00:00</td><td style='border: 1px solid #dddddd'>fairness_value</td><td style='border: 1px solid #dddddd'>dbf5c7fc-64b7-48e8-a8d0-70b665eddcf8</td><td style='border: 1px solid #dddddd'>90.0</td><td style='border: 1px solid #dddddd'>95.0</td><td style='border: 1px solid #dddddd'>None</td><td style='border: 1px solid #dddddd'>['feature:Sex', 'fairness_metric_type:fairness', 'feature_value:female']</td><td style='border: 1px solid #dddddd'>fairness</td><td style='border: 1px solid #dddddd'>966c5191-8ce4-4675-854e-8c2367aabb52</td><td style='border: 1px solid #dddddd'>16a80f20-f583-434a-a63b-977f32142be4</td><td style='border: 1px solid #dddddd'>subscription</td><td style='border: 1px solid #dddddd'>af373042-e600-4c0a-b2fd-04981cfdb0e0</td></tr><tr><td style='border: 1px solid #dddddd'>2024-10-30 06:21:52.999022+00:00</td><td style='border: 1px solid #dddddd'>fairness_value</td><td style='border: 1px solid #dddddd'>dbf5c7fc-64b7-48e8-a8d0-70b665eddcf8</td><td style='border: 1px solid #dddddd'>100.0</td><td style='border: 1px solid #dddddd'>95.0</td><td style='border: 1px solid #dddddd'>None</td><td style='border: 1px solid #dddddd'>['feature:Age', 'fairness_metric_type:fairness', 'feature_value:18-25']</td><td style='border: 1px solid #dddddd'>fairness</td><td style='border: 1px solid #dddddd'>966c5191-8ce4-4675-854e-8c2367aabb52</td><td style='border: 1px solid #dddddd'>16a80f20-f583-434a-a63b-977f32142be4</td><td style='border: 1px solid #dddddd'>subscription</td><td style='border: 1px solid #dddddd'>af373042-e600-4c0a-b2fd-04981cfdb0e0</td></tr>\n",
       "            </table>\n",
       "        </body>\n",
       "        </HTML>"
      ]
     },
     "metadata": {},
     "output_type": "display_data"
    }
   ],
   "execution_count": 41
  },
  {
   "cell_type": "markdown",
   "metadata": {},
   "source": "## Quality monitor details"
  },
  {
   "cell_type": "code",
   "metadata": {
    "id": "d919b925-ad0b-4616-894f-e60828e0a751",
    "ExecuteTime": {
     "end_time": "2024-10-30T06:33:38.169289Z",
     "start_time": "2024-10-30T06:33:35.393618Z"
    }
   },
   "source": [
    "pre_prod_ai_client.monitor_instances.show_metrics(monitor_instance_id=monitor_instance_ids['quality'])"
   ],
   "outputs": [
    {
     "data": {
      "text/plain": [
       "<IPython.core.display.HTML object>"
      ],
      "text/html": [
       "<HTML>\n",
       "        <body>\n",
       "            <h3>f322fff4-2ae1-4fab-a894-0677a82a61ae Monitor Runs Metrics from: 2024-10-23 12:03:35.396158  till: 2024-10-30 12:03:35.396171</h3>\n",
       "            <table style='border: 1px solid #dddddd; font-family: Courier'>\n",
       "                <th style='border: 1px solid #dddddd'>ts</th><th style='border: 1px solid #dddddd'>id</th><th style='border: 1px solid #dddddd'>measurement_id</th><th style='border: 1px solid #dddddd'>value</th><th style='border: 1px solid #dddddd'>lower_limit</th><th style='border: 1px solid #dddddd'>upper_limit</th><th style='border: 1px solid #dddddd'>tags</th><th style='border: 1px solid #dddddd'>monitor_definition_id</th><th style='border: 1px solid #dddddd'>monitor_instance_id</th><th style='border: 1px solid #dddddd'>run_id</th><th style='border: 1px solid #dddddd'>target_type</th><th style='border: 1px solid #dddddd'>target_id</th>\n",
       "                <tr><td style='border: 1px solid #dddddd'>2024-10-30 06:27:33.643000+00:00</td><td style='border: 1px solid #dddddd'>true_positive_rate</td><td style='border: 1px solid #dddddd'>03588d2c-8f47-4a89-8e42-b13d9e005621</td><td style='border: 1px solid #dddddd'>0.6685714285714286</td><td style='border: 1px solid #dddddd'>None</td><td style='border: 1px solid #dddddd'>None</td><td style='border: 1px solid #dddddd'>['model_type:original']</td><td style='border: 1px solid #dddddd'>quality</td><td style='border: 1px solid #dddddd'>f322fff4-2ae1-4fab-a894-0677a82a61ae</td><td style='border: 1px solid #dddddd'>f7136e5b-a611-428b-8707-0b3a55dace0e</td><td style='border: 1px solid #dddddd'>subscription</td><td style='border: 1px solid #dddddd'>af373042-e600-4c0a-b2fd-04981cfdb0e0</td></tr><tr><td style='border: 1px solid #dddddd'>2024-10-30 06:27:33.643000+00:00</td><td style='border: 1px solid #dddddd'>area_under_roc</td><td style='border: 1px solid #dddddd'>03588d2c-8f47-4a89-8e42-b13d9e005621</td><td style='border: 1px solid #dddddd'>0.7427472527472527</td><td style='border: 1px solid #dddddd'>0.8</td><td style='border: 1px solid #dddddd'>None</td><td style='border: 1px solid #dddddd'>['model_type:original']</td><td style='border: 1px solid #dddddd'>quality</td><td style='border: 1px solid #dddddd'>f322fff4-2ae1-4fab-a894-0677a82a61ae</td><td style='border: 1px solid #dddddd'>f7136e5b-a611-428b-8707-0b3a55dace0e</td><td style='border: 1px solid #dddddd'>subscription</td><td style='border: 1px solid #dddddd'>af373042-e600-4c0a-b2fd-04981cfdb0e0</td></tr><tr><td style='border: 1px solid #dddddd'>2024-10-30 06:27:33.643000+00:00</td><td style='border: 1px solid #dddddd'>precision</td><td style='border: 1px solid #dddddd'>03588d2c-8f47-4a89-8e42-b13d9e005621</td><td style='border: 1px solid #dddddd'>0.6628895184135978</td><td style='border: 1px solid #dddddd'>None</td><td style='border: 1px solid #dddddd'>None</td><td style='border: 1px solid #dddddd'>['model_type:original']</td><td style='border: 1px solid #dddddd'>quality</td><td style='border: 1px solid #dddddd'>f322fff4-2ae1-4fab-a894-0677a82a61ae</td><td style='border: 1px solid #dddddd'>f7136e5b-a611-428b-8707-0b3a55dace0e</td><td style='border: 1px solid #dddddd'>subscription</td><td style='border: 1px solid #dddddd'>af373042-e600-4c0a-b2fd-04981cfdb0e0</td></tr><tr><td style='border: 1px solid #dddddd'>2024-10-30 06:27:33.643000+00:00</td><td style='border: 1px solid #dddddd'>matthews_correlation_coefficient</td><td style='border: 1px solid #dddddd'>03588d2c-8f47-4a89-8e42-b13d9e005621</td><td style='border: 1px solid #dddddd'>0.4845465733937984</td><td style='border: 1px solid #dddddd'>None</td><td style='border: 1px solid #dddddd'>None</td><td style='border: 1px solid #dddddd'>['model_type:original']</td><td style='border: 1px solid #dddddd'>quality</td><td style='border: 1px solid #dddddd'>f322fff4-2ae1-4fab-a894-0677a82a61ae</td><td style='border: 1px solid #dddddd'>f7136e5b-a611-428b-8707-0b3a55dace0e</td><td style='border: 1px solid #dddddd'>subscription</td><td style='border: 1px solid #dddddd'>af373042-e600-4c0a-b2fd-04981cfdb0e0</td></tr><tr><td style='border: 1px solid #dddddd'>2024-10-30 06:27:33.643000+00:00</td><td style='border: 1px solid #dddddd'>f1_measure</td><td style='border: 1px solid #dddddd'>03588d2c-8f47-4a89-8e42-b13d9e005621</td><td style='border: 1px solid #dddddd'>0.6657183499288764</td><td style='border: 1px solid #dddddd'>None</td><td style='border: 1px solid #dddddd'>None</td><td style='border: 1px solid #dddddd'>['model_type:original']</td><td style='border: 1px solid #dddddd'>quality</td><td style='border: 1px solid #dddddd'>f322fff4-2ae1-4fab-a894-0677a82a61ae</td><td style='border: 1px solid #dddddd'>f7136e5b-a611-428b-8707-0b3a55dace0e</td><td style='border: 1px solid #dddddd'>subscription</td><td style='border: 1px solid #dddddd'>af373042-e600-4c0a-b2fd-04981cfdb0e0</td></tr><tr><td style='border: 1px solid #dddddd'>2024-10-30 06:27:33.643000+00:00</td><td style='border: 1px solid #dddddd'>accuracy</td><td style='border: 1px solid #dddddd'>03588d2c-8f47-4a89-8e42-b13d9e005621</td><td style='border: 1px solid #dddddd'>0.765</td><td style='border: 1px solid #dddddd'>None</td><td style='border: 1px solid #dddddd'>None</td><td style='border: 1px solid #dddddd'>['model_type:original']</td><td style='border: 1px solid #dddddd'>quality</td><td style='border: 1px solid #dddddd'>f322fff4-2ae1-4fab-a894-0677a82a61ae</td><td style='border: 1px solid #dddddd'>f7136e5b-a611-428b-8707-0b3a55dace0e</td><td style='border: 1px solid #dddddd'>subscription</td><td style='border: 1px solid #dddddd'>af373042-e600-4c0a-b2fd-04981cfdb0e0</td></tr><tr><td style='border: 1px solid #dddddd'>2024-10-30 06:27:33.643000+00:00</td><td style='border: 1px solid #dddddd'>label_skew</td><td style='border: 1px solid #dddddd'>03588d2c-8f47-4a89-8e42-b13d9e005621</td><td style='border: 1px solid #dddddd'>0.6289709020331526</td><td style='border: 1px solid #dddddd'>None</td><td style='border: 1px solid #dddddd'>None</td><td style='border: 1px solid #dddddd'>['model_type:original']</td><td style='border: 1px solid #dddddd'>quality</td><td style='border: 1px solid #dddddd'>f322fff4-2ae1-4fab-a894-0677a82a61ae</td><td style='border: 1px solid #dddddd'>f7136e5b-a611-428b-8707-0b3a55dace0e</td><td style='border: 1px solid #dddddd'>subscription</td><td style='border: 1px solid #dddddd'>af373042-e600-4c0a-b2fd-04981cfdb0e0</td></tr><tr><td style='border: 1px solid #dddddd'>2024-10-30 06:27:33.643000+00:00</td><td style='border: 1px solid #dddddd'>gini_coefficient</td><td style='border: 1px solid #dddddd'>03588d2c-8f47-4a89-8e42-b13d9e005621</td><td style='border: 1px solid #dddddd'>0.48549450549450546</td><td style='border: 1px solid #dddddd'>None</td><td style='border: 1px solid #dddddd'>None</td><td style='border: 1px solid #dddddd'>['model_type:original']</td><td style='border: 1px solid #dddddd'>quality</td><td style='border: 1px solid #dddddd'>f322fff4-2ae1-4fab-a894-0677a82a61ae</td><td style='border: 1px solid #dddddd'>f7136e5b-a611-428b-8707-0b3a55dace0e</td><td style='border: 1px solid #dddddd'>subscription</td><td style='border: 1px solid #dddddd'>af373042-e600-4c0a-b2fd-04981cfdb0e0</td></tr><tr><td style='border: 1px solid #dddddd'>2024-10-30 06:27:33.643000+00:00</td><td style='border: 1px solid #dddddd'>log_loss</td><td style='border: 1px solid #dddddd'>03588d2c-8f47-4a89-8e42-b13d9e005621</td><td style='border: 1px solid #dddddd'>0.45635328736659064</td><td style='border: 1px solid #dddddd'>None</td><td style='border: 1px solid #dddddd'>None</td><td style='border: 1px solid #dddddd'>['model_type:original']</td><td style='border: 1px solid #dddddd'>quality</td><td style='border: 1px solid #dddddd'>f322fff4-2ae1-4fab-a894-0677a82a61ae</td><td style='border: 1px solid #dddddd'>f7136e5b-a611-428b-8707-0b3a55dace0e</td><td style='border: 1px solid #dddddd'>subscription</td><td style='border: 1px solid #dddddd'>af373042-e600-4c0a-b2fd-04981cfdb0e0</td></tr><tr><td style='border: 1px solid #dddddd'>2024-10-30 06:27:33.643000+00:00</td><td style='border: 1px solid #dddddd'>false_positive_rate</td><td style='border: 1px solid #dddddd'>03588d2c-8f47-4a89-8e42-b13d9e005621</td><td style='border: 1px solid #dddddd'>0.18307692307692308</td><td style='border: 1px solid #dddddd'>None</td><td style='border: 1px solid #dddddd'>None</td><td style='border: 1px solid #dddddd'>['model_type:original']</td><td style='border: 1px solid #dddddd'>quality</td><td style='border: 1px solid #dddddd'>f322fff4-2ae1-4fab-a894-0677a82a61ae</td><td style='border: 1px solid #dddddd'>f7136e5b-a611-428b-8707-0b3a55dace0e</td><td style='border: 1px solid #dddddd'>subscription</td><td style='border: 1px solid #dddddd'>af373042-e600-4c0a-b2fd-04981cfdb0e0</td></tr>\n",
       "            </table>\n",
       "        </body>\n",
       "        </HTML>"
      ]
     },
     "metadata": {},
     "output_type": "display_data"
    },
    {
     "name": "stdout",
     "output_type": "stream",
     "text": [
      "Note: First 10 records were displayed.\n"
     ]
    }
   ],
   "execution_count": 42
  },
  {
   "cell_type": "markdown",
   "metadata": {},
   "source": "## Drift_v2 monitor details"
  },
  {
   "cell_type": "code",
   "metadata": {
    "id": "f4757083-e348-4acf-a2e6-35348b2878b6",
    "ExecuteTime": {
     "end_time": "2024-10-30T06:33:41.763563Z",
     "start_time": "2024-10-30T06:33:38.172380Z"
    }
   },
   "source": [
    "pre_prod_ai_client.monitor_instances.show_metrics(monitor_instance_id=monitor_instance_ids['drift_v2'])"
   ],
   "outputs": [
    {
     "data": {
      "text/plain": [
       "<IPython.core.display.HTML object>"
      ],
      "text/html": [
       "<HTML>\n",
       "        <body>\n",
       "            <h3>0ba6c52e-402f-4402-ba19-4f67ec052f26 Monitor Runs Metrics from: 2024-10-23 12:03:38.174784  till: 2024-10-30 12:03:38.174798</h3>\n",
       "            <table style='border: 1px solid #dddddd; font-family: Courier'>\n",
       "                <th style='border: 1px solid #dddddd'>ts</th><th style='border: 1px solid #dddddd'>id</th><th style='border: 1px solid #dddddd'>measurement_id</th><th style='border: 1px solid #dddddd'>value</th><th style='border: 1px solid #dddddd'>lower_limit</th><th style='border: 1px solid #dddddd'>upper_limit</th><th style='border: 1px solid #dddddd'>tags</th><th style='border: 1px solid #dddddd'>monitor_definition_id</th><th style='border: 1px solid #dddddd'>monitor_instance_id</th><th style='border: 1px solid #dddddd'>run_id</th><th style='border: 1px solid #dddddd'>target_type</th><th style='border: 1px solid #dddddd'>target_id</th>\n",
       "                <tr><td style='border: 1px solid #dddddd'>2024-10-30 06:28:06.767386+00:00</td><td style='border: 1px solid #dddddd'>records_processed</td><td style='border: 1px solid #dddddd'>287a2738-6cc4-42d1-86a5-e10dcfb50cf0</td><td style='border: 1px solid #dddddd'>1000.0</td><td style='border: 1px solid #dddddd'>None</td><td style='border: 1px solid #dddddd'>None</td><td style='border: 1px solid #dddddd'>['algorithm_used:total_variation', 'computed_on:payload', 'field_type:class', 'field_name:Class Probability for No Risk']</td><td style='border: 1px solid #dddddd'>drift_v2</td><td style='border: 1px solid #dddddd'>0ba6c52e-402f-4402-ba19-4f67ec052f26</td><td style='border: 1px solid #dddddd'>fd20e756-8f1a-4503-aba5-10e0641fb669</td><td style='border: 1px solid #dddddd'>subscription</td><td style='border: 1px solid #dddddd'>af373042-e600-4c0a-b2fd-04981cfdb0e0</td></tr><tr><td style='border: 1px solid #dddddd'>2024-10-30 06:28:06.767386+00:00</td><td style='border: 1px solid #dddddd'>confidence_drift_score</td><td style='border: 1px solid #dddddd'>287a2738-6cc4-42d1-86a5-e10dcfb50cf0</td><td style='border: 1px solid #dddddd'>0.0867</td><td style='border: 1px solid #dddddd'>0.8</td><td style='border: 1px solid #dddddd'>None</td><td style='border: 1px solid #dddddd'>['algorithm_used:total_variation', 'computed_on:payload', 'field_type:class', 'field_name:Class Probability for No Risk']</td><td style='border: 1px solid #dddddd'>drift_v2</td><td style='border: 1px solid #dddddd'>0ba6c52e-402f-4402-ba19-4f67ec052f26</td><td style='border: 1px solid #dddddd'>fd20e756-8f1a-4503-aba5-10e0641fb669</td><td style='border: 1px solid #dddddd'>subscription</td><td style='border: 1px solid #dddddd'>af373042-e600-4c0a-b2fd-04981cfdb0e0</td></tr><tr><td style='border: 1px solid #dddddd'>2024-10-30 06:28:06.767386+00:00</td><td style='border: 1px solid #dddddd'>records_processed</td><td style='border: 1px solid #dddddd'>287a2738-6cc4-42d1-86a5-e10dcfb50cf0</td><td style='border: 1px solid #dddddd'>1000.0</td><td style='border: 1px solid #dddddd'>None</td><td style='border: 1px solid #dddddd'>None</td><td style='border: 1px solid #dddddd'>['algorithm_used:overlap_coefficient', 'computed_on:payload', 'field_type:class', 'field_name:Class Probability for No Risk']</td><td style='border: 1px solid #dddddd'>drift_v2</td><td style='border: 1px solid #dddddd'>0ba6c52e-402f-4402-ba19-4f67ec052f26</td><td style='border: 1px solid #dddddd'>fd20e756-8f1a-4503-aba5-10e0641fb669</td><td style='border: 1px solid #dddddd'>subscription</td><td style='border: 1px solid #dddddd'>af373042-e600-4c0a-b2fd-04981cfdb0e0</td></tr><tr><td style='border: 1px solid #dddddd'>2024-10-30 06:28:06.767386+00:00</td><td style='border: 1px solid #dddddd'>confidence_drift_score</td><td style='border: 1px solid #dddddd'>287a2738-6cc4-42d1-86a5-e10dcfb50cf0</td><td style='border: 1px solid #dddddd'>0.0876</td><td style='border: 1px solid #dddddd'>0.8</td><td style='border: 1px solid #dddddd'>None</td><td style='border: 1px solid #dddddd'>['algorithm_used:overlap_coefficient', 'computed_on:payload', 'field_type:class', 'field_name:Class Probability for No Risk']</td><td style='border: 1px solid #dddddd'>drift_v2</td><td style='border: 1px solid #dddddd'>0ba6c52e-402f-4402-ba19-4f67ec052f26</td><td style='border: 1px solid #dddddd'>fd20e756-8f1a-4503-aba5-10e0641fb669</td><td style='border: 1px solid #dddddd'>subscription</td><td style='border: 1px solid #dddddd'>af373042-e600-4c0a-b2fd-04981cfdb0e0</td></tr><tr><td style='border: 1px solid #dddddd'>2024-10-30 06:28:17.279686+00:00</td><td style='border: 1px solid #dddddd'>records_processed</td><td style='border: 1px solid #dddddd'>9c864a34-dd6d-418a-b584-27d31aac0461</td><td style='border: 1px solid #dddddd'>1000.0</td><td style='border: 1px solid #dddddd'>None</td><td style='border: 1px solid #dddddd'>None</td><td style='border: 1px solid #dddddd'>['algorithm_used:total_variation', 'computed_on:payload', 'field_type:class', 'field_name:Class Probability for Risk']</td><td style='border: 1px solid #dddddd'>drift_v2</td><td style='border: 1px solid #dddddd'>0ba6c52e-402f-4402-ba19-4f67ec052f26</td><td style='border: 1px solid #dddddd'>fd20e756-8f1a-4503-aba5-10e0641fb669</td><td style='border: 1px solid #dddddd'>subscription</td><td style='border: 1px solid #dddddd'>af373042-e600-4c0a-b2fd-04981cfdb0e0</td></tr><tr><td style='border: 1px solid #dddddd'>2024-10-30 06:28:17.279686+00:00</td><td style='border: 1px solid #dddddd'>confidence_drift_score</td><td style='border: 1px solid #dddddd'>9c864a34-dd6d-418a-b584-27d31aac0461</td><td style='border: 1px solid #dddddd'>0.0782</td><td style='border: 1px solid #dddddd'>0.8</td><td style='border: 1px solid #dddddd'>None</td><td style='border: 1px solid #dddddd'>['algorithm_used:total_variation', 'computed_on:payload', 'field_type:class', 'field_name:Class Probability for Risk']</td><td style='border: 1px solid #dddddd'>drift_v2</td><td style='border: 1px solid #dddddd'>0ba6c52e-402f-4402-ba19-4f67ec052f26</td><td style='border: 1px solid #dddddd'>fd20e756-8f1a-4503-aba5-10e0641fb669</td><td style='border: 1px solid #dddddd'>subscription</td><td style='border: 1px solid #dddddd'>af373042-e600-4c0a-b2fd-04981cfdb0e0</td></tr><tr><td style='border: 1px solid #dddddd'>2024-10-30 06:28:17.279686+00:00</td><td style='border: 1px solid #dddddd'>records_processed</td><td style='border: 1px solid #dddddd'>9c864a34-dd6d-418a-b584-27d31aac0461</td><td style='border: 1px solid #dddddd'>1000.0</td><td style='border: 1px solid #dddddd'>None</td><td style='border: 1px solid #dddddd'>None</td><td style='border: 1px solid #dddddd'>['algorithm_used:overlap_coefficient', 'computed_on:payload', 'field_type:class', 'field_name:Class Probability for Risk']</td><td style='border: 1px solid #dddddd'>drift_v2</td><td style='border: 1px solid #dddddd'>0ba6c52e-402f-4402-ba19-4f67ec052f26</td><td style='border: 1px solid #dddddd'>fd20e756-8f1a-4503-aba5-10e0641fb669</td><td style='border: 1px solid #dddddd'>subscription</td><td style='border: 1px solid #dddddd'>af373042-e600-4c0a-b2fd-04981cfdb0e0</td></tr><tr><td style='border: 1px solid #dddddd'>2024-10-30 06:28:17.279686+00:00</td><td style='border: 1px solid #dddddd'>confidence_drift_score</td><td style='border: 1px solid #dddddd'>9c864a34-dd6d-418a-b584-27d31aac0461</td><td style='border: 1px solid #dddddd'>0.0802</td><td style='border: 1px solid #dddddd'>0.8</td><td style='border: 1px solid #dddddd'>None</td><td style='border: 1px solid #dddddd'>['algorithm_used:overlap_coefficient', 'computed_on:payload', 'field_type:class', 'field_name:Class Probability for Risk']</td><td style='border: 1px solid #dddddd'>drift_v2</td><td style='border: 1px solid #dddddd'>0ba6c52e-402f-4402-ba19-4f67ec052f26</td><td style='border: 1px solid #dddddd'>fd20e756-8f1a-4503-aba5-10e0641fb669</td><td style='border: 1px solid #dddddd'>subscription</td><td style='border: 1px solid #dddddd'>af373042-e600-4c0a-b2fd-04981cfdb0e0</td></tr><tr><td style='border: 1px solid #dddddd'>2024-10-30 06:28:17.677174+00:00</td><td style='border: 1px solid #dddddd'>records_processed</td><td style='border: 1px solid #dddddd'>20228d06-f077-4b92-bd18-7531f33e8d90</td><td style='border: 1px solid #dddddd'>1000.0</td><td style='border: 1px solid #dddddd'>None</td><td style='border: 1px solid #dddddd'>None</td><td style='border: 1px solid #dddddd'>['algorithm_used:jensen_shannon', 'computed_on:payload', 'field_type:class', 'field_name:prediction']</td><td style='border: 1px solid #dddddd'>drift_v2</td><td style='border: 1px solid #dddddd'>0ba6c52e-402f-4402-ba19-4f67ec052f26</td><td style='border: 1px solid #dddddd'>fd20e756-8f1a-4503-aba5-10e0641fb669</td><td style='border: 1px solid #dddddd'>subscription</td><td style='border: 1px solid #dddddd'>af373042-e600-4c0a-b2fd-04981cfdb0e0</td></tr><tr><td style='border: 1px solid #dddddd'>2024-10-30 06:28:17.677174+00:00</td><td style='border: 1px solid #dddddd'>prediction_drift_score</td><td style='border: 1px solid #dddddd'>20228d06-f077-4b92-bd18-7531f33e8d90</td><td style='border: 1px solid #dddddd'>0.0222</td><td style='border: 1px solid #dddddd'>None</td><td style='border: 1px solid #dddddd'>None</td><td style='border: 1px solid #dddddd'>['algorithm_used:jensen_shannon', 'computed_on:payload', 'field_type:class', 'field_name:prediction']</td><td style='border: 1px solid #dddddd'>drift_v2</td><td style='border: 1px solid #dddddd'>0ba6c52e-402f-4402-ba19-4f67ec052f26</td><td style='border: 1px solid #dddddd'>fd20e756-8f1a-4503-aba5-10e0641fb669</td><td style='border: 1px solid #dddddd'>subscription</td><td style='border: 1px solid #dddddd'>af373042-e600-4c0a-b2fd-04981cfdb0e0</td></tr>\n",
       "            </table>\n",
       "        </body>\n",
       "        </HTML>"
      ]
     },
     "metadata": {},
     "output_type": "display_data"
    },
    {
     "name": "stdout",
     "output_type": "stream",
     "text": [
      "Note: First 10 records were displayed.\n"
     ]
    }
   ],
   "execution_count": 43
  },
  {
   "cell_type": "markdown",
   "metadata": {},
   "source": [
    "## User can navigate to see an evaluated result in the UI \n",
    "### Configure dashboard url"
   ]
  },
  {
   "cell_type": "code",
   "metadata": {
    "id": "89400f25-fb5b-4303-accc-a369fed00108",
    "ExecuteTime": {
     "end_time": "2024-10-30T06:33:41.768891Z",
     "start_time": "2024-10-30T06:33:41.765017Z"
    }
   },
   "source": [
    "pre_prod_integrated_url = pre_prod_ai_client.service_url[0:pre_prod_ai_client.service_url.index(\"/openscale\")].replace(\n",
    "    \"api.aiopenscale\",\n",
    "    \"dataplatform\") + f\"/ml-runtime/deployments/{pre_prod_deployment_uid}/evaluations?space_id={WML_PRE_PROD_SPACE_ID}\"\n",
    "print(f\"DashBoard URL: \\nIntegrated Experience url: {pre_prod_integrated_url}\")"
   ],
   "outputs": [
    {
     "name": "stdout",
     "output_type": "stream",
     "text": [
      "DashBoard URL: \n",
      "Integrated Experience url: https://dataplatform.cloud.ibm.com/ml-runtime/deployments/c44269c8-7e2c-4ab5-acd8-1ea36a046b28/evaluations?space_id=fc5257ff-f3a2-4fe9-a8d8-0f759e1f8007\n"
     ]
    }
   ],
   "execution_count": 44
  },
  {
   "cell_type": "markdown",
   "metadata": {},
   "source": [
    "#\n",
    "# Promote pre-production model to production model\n",
    "\n",
    "#### After you have reviewed the evaluation results of the PreProd and if you make the decision to promote the PreProd model to Production, the first thing you need to do is to deploy the model into a WML instance that is designated as Production instance"
   ]
  },
  {
   "cell_type": "markdown",
   "metadata": {},
   "source": [
    "# Storing model and configure watson openscale in production WML instance\n",
    "## Storing wml model in production space"
   ]
  },
  {
   "cell_type": "code",
   "metadata": {
    "id": "36a1541c-dd41-470e-8c03-4033c3c6e64d",
    "ExecuteTime": {
     "end_time": "2024-10-30T06:33:41.772334Z",
     "start_time": "2024-10-30T06:33:41.770058Z"
    }
   },
   "source": [
    "PROD_MODEL_NAME = \"Scikit German Risk Model WML V4 production Model\"\n",
    "PROD_DEPLOYMENT_NAME = \"Scikit German Risk Deployment WML V4 production Model\""
   ],
   "outputs": [],
   "execution_count": 45
  },
  {
   "cell_type": "markdown",
   "metadata": {},
   "source": "## Listing all the available spaces"
  },
  {
   "cell_type": "code",
   "metadata": {
    "id": "226fb8af-ad4d-4400-826a-4eeb10103850",
    "ExecuteTime": {
     "end_time": "2024-10-30T06:33:42.842140Z",
     "start_time": "2024-10-30T06:33:41.773397Z"
    }
   },
   "source": [
    "wml_client.spaces.list(limit=10)"
   ],
   "outputs": [
    {
     "data": {
      "text/plain": [
       "                                     ID                  NAME  \\\n",
       "0  d86b598d-a69d-4fdc-89a6-3c6c5cd7a428     v2-e2e-test-space   \n",
       "1  d8b93cb6-2caa-49f4-b08e-6a6b6521adee            Prod_space   \n",
       "2  fc5257ff-f3a2-4fe9-a8d8-0f759e1f8007        Pre_prod_space   \n",
       "3  d5613787-9178-435b-a8f8-590b9a9c47f2              sampl123   \n",
       "4  bc592530-1cf0-4e56-9fab-70e0924f6907  prompt_evaluvation_s   \n",
       "5  00883863-b2ef-4b90-b797-f5917a6618bc              Notebook   \n",
       "6  523c8856-6d1e-49aa-b371-5dab42cd322c        sdk-test-space   \n",
       "\n",
       "                    CREATED  \n",
       "0  2024-10-23T06:25:57.849Z  \n",
       "1  2024-10-22T08:52:41.226Z  \n",
       "2  2024-10-22T08:38:44.167Z  \n",
       "3  2024-10-11T06:16:10.258Z  \n",
       "4  2024-09-17T15:39:39.598Z  \n",
       "5  2024-07-16T09:30:02.576Z  \n",
       "6  2024-06-27T09:19:53.318Z  "
      ],
      "text/html": [
       "<div>\n",
       "<style scoped>\n",
       "    .dataframe tbody tr th:only-of-type {\n",
       "        vertical-align: middle;\n",
       "    }\n",
       "\n",
       "    .dataframe tbody tr th {\n",
       "        vertical-align: top;\n",
       "    }\n",
       "\n",
       "    .dataframe thead th {\n",
       "        text-align: right;\n",
       "    }\n",
       "</style>\n",
       "<table border=\"1\" class=\"dataframe\">\n",
       "  <thead>\n",
       "    <tr style=\"text-align: right;\">\n",
       "      <th></th>\n",
       "      <th>ID</th>\n",
       "      <th>NAME</th>\n",
       "      <th>CREATED</th>\n",
       "    </tr>\n",
       "  </thead>\n",
       "  <tbody>\n",
       "    <tr>\n",
       "      <th>0</th>\n",
       "      <td>d86b598d-a69d-4fdc-89a6-3c6c5cd7a428</td>\n",
       "      <td>v2-e2e-test-space</td>\n",
       "      <td>2024-10-23T06:25:57.849Z</td>\n",
       "    </tr>\n",
       "    <tr>\n",
       "      <th>1</th>\n",
       "      <td>d8b93cb6-2caa-49f4-b08e-6a6b6521adee</td>\n",
       "      <td>Prod_space</td>\n",
       "      <td>2024-10-22T08:52:41.226Z</td>\n",
       "    </tr>\n",
       "    <tr>\n",
       "      <th>2</th>\n",
       "      <td>fc5257ff-f3a2-4fe9-a8d8-0f759e1f8007</td>\n",
       "      <td>Pre_prod_space</td>\n",
       "      <td>2024-10-22T08:38:44.167Z</td>\n",
       "    </tr>\n",
       "    <tr>\n",
       "      <th>3</th>\n",
       "      <td>d5613787-9178-435b-a8f8-590b9a9c47f2</td>\n",
       "      <td>sampl123</td>\n",
       "      <td>2024-10-11T06:16:10.258Z</td>\n",
       "    </tr>\n",
       "    <tr>\n",
       "      <th>4</th>\n",
       "      <td>bc592530-1cf0-4e56-9fab-70e0924f6907</td>\n",
       "      <td>prompt_evaluvation_s</td>\n",
       "      <td>2024-09-17T15:39:39.598Z</td>\n",
       "    </tr>\n",
       "    <tr>\n",
       "      <th>5</th>\n",
       "      <td>00883863-b2ef-4b90-b797-f5917a6618bc</td>\n",
       "      <td>Notebook</td>\n",
       "      <td>2024-07-16T09:30:02.576Z</td>\n",
       "    </tr>\n",
       "    <tr>\n",
       "      <th>6</th>\n",
       "      <td>523c8856-6d1e-49aa-b371-5dab42cd322c</td>\n",
       "      <td>sdk-test-space</td>\n",
       "      <td>2024-06-27T09:19:53.318Z</td>\n",
       "    </tr>\n",
       "  </tbody>\n",
       "</table>\n",
       "</div>"
      ]
     },
     "execution_count": 46,
     "metadata": {},
     "output_type": "execute_result"
    }
   ],
   "execution_count": 46
  },
  {
   "cell_type": "code",
   "metadata": {
    "id": "1d9f3767-381f-404c-8e70-1738066979b7",
    "ExecuteTime": {
     "end_time": "2024-10-30T06:33:43.591519Z",
     "start_time": "2024-10-30T06:33:42.844405Z"
    }
   },
   "source": [
    "WML_PROD_SPACE_ID = \"<EDIT THIS>\"\n",
    "wml_client.set.default_space(WML_PROD_SPACE_ID)"
   ],
   "outputs": [
    {
     "data": {
      "text/plain": [
       "'SUCCESS'"
      ]
     },
     "execution_count": 47,
     "metadata": {},
     "output_type": "execute_result"
    }
   ],
   "execution_count": 47
  },
  {
   "cell_type": "markdown",
   "metadata": {},
   "source": "## Remove existing model and deployment from default space"
  },
  {
   "cell_type": "code",
   "metadata": {
    "id": "6071f8a4-da4a-4e9a-a0bf-a666f973f0cb",
    "ExecuteTime": {
     "end_time": "2024-10-30T06:34:46.873854Z",
     "start_time": "2024-10-30T06:34:46.146637Z"
    }
   },
   "source": [
    "print(\"Removing existing model and deployment....\")\n",
    "deployments_list = wml_client.deployments.get_details()\n",
    "for deployment in deployments_list[\"resources\"]:\n",
    "    model_id = deployment[\"entity\"][\"asset\"][\"id\"]\n",
    "    deployment_id = deployment[\"metadata\"][\"id\"]\n",
    "    if deployment[\"metadata\"][\"name\"] == PROD_DEPLOYMENT_NAME:\n",
    "        print(\"Deleting deployment id\", deployment_id)\n",
    "        wml_client.deployments.delete(deployment_id)\n",
    "        print(\"Deleting model id\", model_id)\n",
    "        wml_client.repository.delete(model_id)\n",
    "        display(wml_client.repository.list_models())"
   ],
   "outputs": [
    {
     "name": "stdout",
     "output_type": "stream",
     "text": [
      "Removing existing model and deployment....\n"
     ]
    }
   ],
   "execution_count": 49
  },
  {
   "metadata": {},
   "cell_type": "markdown",
   "source": "## Publish the model in wml"
  },
  {
   "cell_type": "code",
   "metadata": {
    "id": "603139e9-2851-4e69-8c14-46c5c6b7baa1",
    "ExecuteTime": {
     "end_time": "2024-10-30T06:34:51.177913Z",
     "start_time": "2024-10-30T06:34:46.875577Z"
    }
   },
   "source": [
    "datasource_type = wml_client.connections.get_datasource_type_uid_by_name('bluemixcloudobjectstorage')\n",
    "conn_meta_props = {\n",
    "    wml_client.connections.ConfigurationMetaNames.NAME: \"Connection My COS \",\n",
    "    wml_client.connections.ConfigurationMetaNames.DATASOURCE_TYPE: datasource_type,\n",
    "    wml_client.connections.ConfigurationMetaNames.DESCRIPTION: \"Connection to my COS\",\n",
    "    wml_client.connections.ConfigurationMetaNames.PROPERTIES: {\n",
    "        'bucket': BUCKET_NAME,\n",
    "        'api_key': COS_API_KEY_ID,\n",
    "        'resource_instance_id': COS_RESOURCE_CRN,\n",
    "        'iam_url': \"https://iam.ng.bluemix.net/oidc/token\",\n",
    "        'url': COS_ENDPOINT\n",
    "    }\n",
    "}\n",
    "\n",
    "conn_details = wml_client.connections.create(meta_props=conn_meta_props)\n",
    "connection_id = wml_client.connections.get_uid(conn_details)\n",
    "\n",
    "training_data_references = [\n",
    "    {\n",
    "        \"id\": \"German Credit Risk\",\n",
    "        \"type\": \"connection_asset\",\n",
    "        \"connection\": {\n",
    "            \"id\": connection_id,\n",
    "            \"href\": \"/v2/connections/\" + connection_id + \"?space_id=\" + WML_PROD_SPACE_ID\n",
    "\n",
    "        },\n",
    "        \"location\": {\n",
    "            \"bucket\": BUCKET_NAME,\n",
    "            \"file_name\": training_data_file_name\n",
    "        }\n",
    "    }\n",
    "]"
   ],
   "outputs": [
    {
     "name": "stdout",
     "output_type": "stream",
     "text": [
      "Creating connections...\n",
      "SUCCESS\n"
     ]
    }
   ],
   "execution_count": 50
  },
  {
   "cell_type": "code",
   "metadata": {
    "id": "66c272a8-cf37-4f32-83f0-d131ab781d0d",
    "ExecuteTime": {
     "end_time": "2024-10-30T06:34:51.946269Z",
     "start_time": "2024-10-30T06:34:51.180843Z"
    }
   },
   "source": [
    "software_spec_uid = wml_client.software_specifications.get_id_by_name(\"runtime-24.1-py3.11\")\n",
    "print(\"Software Specification ID: {}\".format(software_spec_uid))\n",
    "\n",
    "model_props = {\n",
    "    wml_client._models.ConfigurationMetaNames.NAME: \"{}\".format(PROD_MODEL_NAME),\n",
    "    wml_client._models.ConfigurationMetaNames.TYPE: \"scikit-learn_1.3\",\n",
    "    wml_client._models.ConfigurationMetaNames.SOFTWARE_SPEC_UID: software_spec_uid,\n",
    "    wml_client._models.ConfigurationMetaNames.TRAINING_DATA_REFERENCES: training_data_references,\n",
    "    wml_client._models.ConfigurationMetaNames.LABEL_FIELD: \"Risk\",\n",
    "}"
   ],
   "outputs": [
    {
     "name": "stdout",
     "output_type": "stream",
     "text": [
      "Software Specification ID: 45f12dfe-aa78-5b8d-9f38-0ee223c47309\n"
     ]
    }
   ],
   "execution_count": 51
  },
  {
   "cell_type": "markdown",
   "metadata": {},
   "source": "## Storing model in wml"
  },
  {
   "cell_type": "code",
   "metadata": {
    "id": "28587de5-a57c-41a9-af15-5d6e6fd4fc91",
    "ExecuteTime": {
     "end_time": "2024-10-30T06:34:56.505494Z",
     "start_time": "2024-10-30T06:34:51.950411Z"
    }
   },
   "source": [
    "print(\"Storing model....\")\n",
    "published_model_details = wml_client.repository.store_model(model=risk_model, meta_props=model_props,\n",
    "                                                            training_data=data_df.drop([\"Risk\"], axis=1),\n",
    "                                                            training_target=data_df.Risk)\n",
    "prod_model_uid = wml_client.repository.get_model_id(published_model_details)\n",
    "print(\"Done \\nModel ID: {}\".format(prod_model_uid))"
   ],
   "outputs": [
    {
     "name": "stdout",
     "output_type": "stream",
     "text": [
      "Storing model....\n",
      "Done \n",
      "Model ID: e5005ee3-14dd-46d0-b313-f61689bcd9cc\n"
     ]
    }
   ],
   "execution_count": 52
  },
  {
   "cell_type": "markdown",
   "metadata": {},
   "source": "## Deploy model in wml"
  },
  {
   "cell_type": "code",
   "metadata": {
    "id": "57b9ab1a-c888-4f51-8142-ce8fae4d0442",
    "ExecuteTime": {
     "end_time": "2024-10-30T06:35:10.841702Z",
     "start_time": "2024-10-30T06:34:56.508582Z"
    }
   },
   "source": [
    "print(\"Deploying model....\")\n",
    "deployment_details = wml_client.deployments.create(\n",
    "    prod_model_uid,\n",
    "    meta_props={\n",
    "        wml_client.deployments.ConfigurationMetaNames.NAME: \"{}\".format(PROD_DEPLOYMENT_NAME),\n",
    "        wml_client.deployments.ConfigurationMetaNames.ONLINE: {}\n",
    "    }\n",
    ")\n",
    "prod_scoring_url = wml_client.deployments.get_scoring_href(deployment_details)\n",
    "prod_deployment_uid = wml_client.deployments.get_uid(deployment_details)\n",
    "print(\"Scoring URL: {} \\nModel id: {} \\nDeployment id: {}\".format(prod_scoring_url, prod_model_uid, prod_deployment_uid))"
   ],
   "outputs": [
    {
     "name": "stdout",
     "output_type": "stream",
     "text": [
      "Deploying model....\n",
      "\n",
      "\n",
      "######################################################################################\n",
      "\n",
      "Synchronous deployment creation for id: 'e5005ee3-14dd-46d0-b313-f61689bcd9cc' started\n",
      "\n",
      "######################################################################################\n",
      "\n",
      "\n",
      "initializing\n",
      "Note: online_url and serving_urls are deprecated and will be removed in a future release. Use inference instead.\n",
      ".\n",
      "ready\n",
      "\n",
      "\n",
      "-----------------------------------------------------------------------------------------------\n",
      "Successfully finished deployment creation, deployment_id='30c56a1f-ad47-4de2-95b0-41ce84447f76'\n",
      "-----------------------------------------------------------------------------------------------\n",
      "\n",
      "\n",
      "Scoring URL: https://us-south.ml.cloud.ibm.com/ml/v4/deployments/30c56a1f-ad47-4de2-95b0-41ce84447f76/predictions \n",
      "Model id: e5005ee3-14dd-46d0-b313-f61689bcd9cc \n",
      "Deployment id: 30c56a1f-ad47-4de2-95b0-41ce84447f76\n"
     ]
    }
   ],
   "execution_count": 53
  },
  {
   "cell_type": "markdown",
   "metadata": {},
   "source": "## Scoring the wml model"
  },
  {
   "cell_type": "code",
   "metadata": {
    "id": "d8f6db84-4047-4d1d-a31f-b6ce37348670",
    "ExecuteTime": {
     "end_time": "2024-10-30T06:35:11.285693Z",
     "start_time": "2024-10-30T06:35:10.844354Z"
    }
   },
   "source": [
    "print(\"Scoring model....\")\n",
    "fields = [\"CheckingStatus\", \"LoanDuration\", \"CreditHistory\", \"LoanPurpose\", \"LoanAmount\", \"ExistingSavings\",\n",
    "          \"EmploymentDuration\", \"InstallmentPercent\", \"Sex\", \"OthersOnLoan\", \"CurrentResidenceDuration\",\n",
    "          \"OwnsProperty\", \"Age\", \"InstallmentPlans\", \"Housing\", \"ExistingCreditsCount\", \"Job\", \"Dependents\",\n",
    "          \"Telephone\", \"ForeignWorker\"]\n",
    "values = [\n",
    "    [\"no_checking\", 13, \"credits_paid_to_date\", \"car_new\", 1343, \"100_to_500\", \"1_to_4\", 2, \"female\", \"none\", 3,\n",
    "     \"savings_insurance\", 46, \"none\", \"own\", 2, \"skilled\", 1, \"none\", \"yes\"],\n",
    "    [\"no_checking\", 24, \"prior_payments_delayed\", \"furniture\", 4567, \"500_to_1000\", \"1_to_4\", 4, \"male\", \"none\",\n",
    "     4, \"savings_insurance\", 36, \"none\", \"free\", 2, \"management_self-employed\", 1, \"none\", \"yes\"],\n",
    "]\n",
    "scoring_payload = {\"input_data\": [{\"fields\": fields, \"values\": values}]}\n",
    "predictions = wml_client.deployments.score(prod_deployment_uid, scoring_payload)\n",
    "print(predictions)"
   ],
   "outputs": [
    {
     "name": "stdout",
     "output_type": "stream",
     "text": [
      "Scoring model....\n",
      "{'predictions': [{'fields': ['prediction', 'probability'], 'values': [['Risk', [0.4882215859973983, 0.5117784140026017]], ['No Risk', [0.6142450995034986, 0.3857549004965014]]]}]}\n"
     ]
    }
   ],
   "execution_count": 54
  },
  {
   "cell_type": "markdown",
   "metadata": {},
   "source": "# OpenScale configuration using Intergrated Expirence for a production model"
  },
  {
   "cell_type": "code",
   "metadata": {
    "id": "1856d7cf-e82c-4e19-b8f4-a2b6892ad99b",
    "ExecuteTime": {
     "end_time": "2024-10-30T06:35:11.289493Z",
     "start_time": "2024-10-30T06:35:11.286898Z"
    }
   },
   "source": [
    "operational_space_id = \"production\""
   ],
   "outputs": [],
   "execution_count": 55
  },
  {
   "cell_type": "markdown",
   "metadata": {},
   "source": "## Below cell create object of Watson Machine Learning Model Configuration details used in evaluate function"
  },
  {
   "cell_type": "code",
   "metadata": {
    "id": "cde40ece-ed99-4b34-8160-955e44098a5f",
    "ExecuteTime": {
     "end_time": "2024-10-30T06:35:11.293722Z",
     "start_time": "2024-10-30T06:35:11.290603Z"
    }
   },
   "source": [
    "from ibm_watson_openscale.base_classes.models.engine_models.wml import WatsonMachineLearningModel\n",
    "\n",
    "model = WatsonMachineLearningModel(model_uid=prod_model_uid,\n",
    "                                   deployment_uid=prod_deployment_uid,\n",
    "                                   space_uid=WML_PROD_SPACE_ID,\n",
    "                                   label_column=label_column,\n",
    "                                   training_data_reference=cos_training_data,\n",
    "                                   test_data_df=data_df,\n",
    "                                   favorable_classes=['No Risk'],\n",
    "                                   unfavorable_classes=['Risk'],\n",
    "                                   quality_config=quality_config,\n",
    "                                   fairness_config=fairness_config,\n",
    "                                   drift_v2_config=drift_v2_config,\n",
    "                                   prediction_column=\"prediction\",\n",
    "                                   probability_column=\"probability\",\n",
    "                                   feature_columns=feature_columns,\n",
    "                                   categorical_columns=categorical_columns\n",
    "                                   )"
   ],
   "outputs": [],
   "execution_count": 56
  },
  {
   "cell_type": "markdown",
   "metadata": {},
   "source": "## The following cell execute evaluate function which automatically creates datamart , service provider , subscription and enables monitors - fairness , quality, drift v2. "
  },
  {
   "cell_type": "code",
   "metadata": {
    "id": "9e88a6b7-e854-43a5-8df7-3e95c571653b",
    "ExecuteTime": {
     "end_time": "2024-10-30T06:39:42.805182Z",
     "start_time": "2024-10-30T06:35:11.294749Z"
    }
   },
   "source": [
    "result = prod_ai_client.model.evaluate(model, engine_credentials=WML_CREDENTIALS, db_credentials=db_credentials,\n",
    "                                       operational_space_id=operational_space_id)\n",
    "subscription_id = result[1]"
   ],
   "outputs": [
    {
     "name": "stdout",
     "output_type": "stream",
     "text": [
      "Setting up Datamart...\n",
      "Using existing datamart\n",
      "Setting up Service Binding...\n",
      "Using existing binding a0ec97b4-4414-410c-980b-7b11828a01eb\n",
      "Validating model...\n",
      "Existence check for deployment finished. Deployment is Scikit German Risk Model WML V4 production Model\n",
      "Existence check for Model finished.\n",
      "Finished reading training data...\n",
      "Finished inferring model details\n",
      "Creating Subscription...\n",
      "\n",
      "\n",
      "===============================================================================\n",
      "\n",
      " Waiting for end of deleting subscription 756c8a29-cd57-49fb-8cbc-3ccb25257d39 \n",
      "\n",
      "===============================================================================\n",
      "\n",
      "\n",
      "\n",
      "finished\n",
      "\n",
      "---------------------------------------------\n",
      " Successfully finished deleting subscription \n",
      "---------------------------------------------\n",
      "\n",
      "\n",
      "Deleted existing subscription for Scikit German Risk Model WML V4 production Model\n",
      "\n",
      "\n",
      "=============================================================================\n",
      "\n",
      " Waiting for end of adding subscription d821adac-5eb1-40f5-948d-e47edc7db1a2 \n",
      "\n",
      "=============================================================================\n",
      "\n",
      "\n",
      "\n",
      "active\n",
      "\n",
      "-------------------------------------------\n",
      " Successfully finished adding subscription \n",
      "-------------------------------------------\n",
      "\n",
      "\n",
      "Subscription created successfully. Id d821adac-5eb1-40f5-948d-e47edc7db1a2\n",
      "Adding payload record...\n",
      "Sending Payload records to Datamart\n",
      "Waiting 30 seconds for payload records to reach datamart\n",
      "Total payload logging records 1\n",
      "Asset properties updated in subscription\n",
      "Enabling Monitors...\n",
      "\n",
      "\n",
      "===================================================================================\n",
      "\n",
      " Waiting for end of monitor instance creation 91d62032-3224-4871-8e3b-d008bc97dc9e \n",
      "\n",
      "===================================================================================\n",
      "\n",
      "\n",
      "\n",
      "active\n",
      "\n",
      "---------------------------------------\n",
      " Monitor instance successfully created \n",
      "---------------------------------------\n",
      "\n",
      "\n",
      "Enabled Fairness monitor successfully\n",
      "\n",
      "\n",
      "===================================================================================\n",
      "\n",
      " Waiting for end of monitor instance creation 6e1d6e35-7d3b-4b12-aa19-5da7a3b7b097 \n",
      "\n",
      "===================================================================================\n",
      "\n",
      "\n",
      "\n",
      "preparing\n",
      "active\n",
      "\n",
      "---------------------------------------\n",
      " Monitor instance successfully created \n",
      "---------------------------------------\n",
      "\n",
      "\n",
      "Enabled Quality monitor successfully\n",
      "\n",
      "\n",
      "===================================================================================\n",
      "\n",
      " Waiting for end of monitor instance creation 9683b7df-ed27-4541-b150-19e35e387ce6 \n",
      "\n",
      "===================================================================================\n",
      "\n",
      "\n",
      "\n",
      "preparing.\n",
      "active\n",
      "\n",
      "---------------------------------------\n",
      " Monitor instance successfully created \n",
      "---------------------------------------\n",
      "\n",
      "\n",
      "Enabled Explaination monitor successfully\n",
      "\n",
      "\n",
      "===================================================================================\n",
      "\n",
      " Waiting for end of monitor instance creation 8401eaba-e54a-4f06-99b3-44b1d7f0da17 \n",
      "\n",
      "===================================================================================\n",
      "\n",
      "\n",
      "\n",
      "preparing...........................\n",
      "active\n",
      "\n",
      "---------------------------------------\n",
      " Monitor instance successfully created \n",
      "---------------------------------------\n",
      "\n",
      "\n",
      "Enabled Drift_v2 monitor successfully\n",
      "\n",
      "\n",
      "===================================================================================\n",
      "\n",
      " Waiting for end of monitor instance creation 6308846b-1f8b-423f-9b32-cf2ac9a75c98 \n",
      "\n",
      "===================================================================================\n",
      "\n",
      "\n",
      "\n",
      "active\n",
      "\n",
      "---------------------------------------\n",
      " Monitor instance successfully created \n",
      "---------------------------------------\n",
      "\n",
      "\n",
      "As a operational_space_id is production, all monitors are configured. Please store payload_data and feedback_data manually and run run_evaluation() function\n"
     ]
    }
   ],
   "execution_count": 57
  },
  {
   "cell_type": "markdown",
   "metadata": {},
   "source": "## Storing payload data"
  },
  {
   "cell_type": "code",
   "metadata": {
    "id": "bb8a4fb8-043a-450f-a0d3-188b2f5817ea",
    "ExecuteTime": {
     "end_time": "2024-10-30T06:40:14.870043Z",
     "start_time": "2024-10-30T06:39:42.809837Z"
    }
   },
   "source": [
    "from ibm_watson_openscale.supporting_classes.enums import DataSetTypes, TargetTypes\n",
    "from ibm_watson_openscale.supporting_classes.payload_record import PayloadRecord\n",
    "import time\n",
    "import uuid\n",
    "\n",
    "# Extracting some data from dataset \n",
    "payload_dataset = data_df.iloc[150:200].copy().drop(columns=[label_column])\n",
    "fields = list(payload_dataset.columns)\n",
    "values = payload_dataset.values.tolist()\n",
    "payload_scoring = {\"input_data\": [{\"fields\": fields, \"values\": values}]}\n",
    "# Scoring payload data, it automatically stores in payload table\n",
    "scoring_response = model.add_payload_logging_record(scoring_payload=payload_scoring)\n",
    "\n",
    "print(\"Waiting 30 seconds for payload records to reach datamart\")\n",
    "time.sleep(30)\n",
    "payload_id = prod_ai_client.data_sets.list(type=DataSetTypes.PAYLOAD_LOGGING,\n",
    "                                           target_target_id=subscription_id,\n",
    "                                           target_target_type=TargetTypes.SUBSCRIPTION).result.data_sets[0].metadata.id\n",
    "pl_records_count = prod_ai_client.data_sets.get_records_count(payload_id)\n",
    "print(\"Total payload logging records {}\".format(pl_records_count))\n",
    "\n",
    "# If scored data is not reached pl table, explicitly store in pl table \n",
    "if pl_records_count == 0:\n",
    "    print(\"Payload logging did not happen, performing explicit payload logging.\")\n",
    "    prod_ai_client.data_sets.store_records(data_set_id=payload_id, request_body=[PayloadRecord(\n",
    "        scoring_id=str(uuid.uuid4()),\n",
    "        request=payload_scoring,\n",
    "        response=scoring_response,\n",
    "        response_time=460\n",
    "    )])\n",
    "    time.sleep(5)\n",
    "    pl_records_count = prod_ai_client.data_sets.get_records_count(payload_id)\n",
    "    print(\"Number of records in the payload logging table: {}\".format(pl_records_count))"
   ],
   "outputs": [
    {
     "name": "stdout",
     "output_type": "stream",
     "text": [
      "Waiting 30 seconds for payload records to reach datamart\n",
      "Total payload logging records 51\n"
     ]
    }
   ],
   "execution_count": 58
  },
  {
   "cell_type": "markdown",
   "metadata": {},
   "source": "## Storing feedback data"
  },
  {
   "cell_type": "code",
   "metadata": {
    "id": "f1e596d4-c14d-4926-9ec7-6070c3c67b80",
    "ExecuteTime": {
     "end_time": "2024-10-30T06:40:24.185917Z",
     "start_time": "2024-10-30T06:40:14.872529Z"
    }
   },
   "source": [
    "import json\n",
    "!rm additional_feedback_data_v2.json\n",
    "!wget https://raw.githubusercontent.com/IBM/watson-openscale-samples/main/IBM%20Cloud/WML/assets/data/credit_risk/additional_feedback_data_v2.json\n",
    "\n",
    "with open('additional_feedback_data_v2.json') as feedback_file:\n",
    "    additional_feedback_data = json.load(feedback_file)\n",
    "\n",
    "feedback_dataset_id = prod_ai_client.data_sets.list(type=DataSetTypes.FEEDBACK,\n",
    "                                                    target_target_id=subscription_id,\n",
    "                                                    target_target_type=TargetTypes.SUBSCRIPTION).result.data_sets[\n",
    "    0].metadata.id\n",
    "\n",
    "prod_ai_client.data_sets.store_records(feedback_dataset_id, request_body=additional_feedback_data,\n",
    "                                       background_mode=False)\n",
    "\n",
    "feedback_count = prod_ai_client.data_sets.get_records_count(data_set_id=feedback_dataset_id)\n",
    "print(\"Number of records in the Feedback table: {}\".format(feedback_count))"
   ],
   "outputs": [
    {
     "name": "stdout",
     "output_type": "stream",
     "text": [
      "--2024-10-30 12:10:15--  https://raw.githubusercontent.com/IBM/watson-openscale-samples/main/IBM%20Cloud/WML/assets/data/credit_risk/additional_feedback_data_v2.json\r\n",
      "Resolving raw.githubusercontent.com (raw.githubusercontent.com)... 2606:50c0:8003::154, 2606:50c0:8002::154, 2606:50c0:8001::154, ...\r\n",
      "Connecting to raw.githubusercontent.com (raw.githubusercontent.com)|2606:50c0:8003::154|:443... connected.\r\n",
      "HTTP request sent, awaiting response... 200 OK\r\n",
      "Length: 50890 (50K) [text/plain]\r\n",
      "Saving to: ‘additional_feedback_data_v2.json’\r\n",
      "\r\n",
      "additional_feedback 100%[===================>]  49.70K  --.-KB/s    in 0.02s   \r\n",
      "\r\n",
      "2024-10-30 12:10:15 (2.36 MB/s) - ‘additional_feedback_data_v2.json’ saved [50890/50890]\r\n",
      "\r\n",
      "\n",
      "\n",
      "==========================================================================================\n",
      "\n",
      " Waiting for end of storing records with request id: 65f9acf4-2a92-4f71-9482-332303c62da2 \n",
      "\n",
      "==========================================================================================\n",
      "\n",
      "\n",
      "\n",
      "active\n",
      "\n",
      "---------------------------------------\n",
      " Successfully finished storing records \n",
      "---------------------------------------\n",
      "\n",
      "\n",
      "Number of records in the Feedback table: 98\n"
     ]
    }
   ],
   "execution_count": 59
  },
  {
   "cell_type": "markdown",
   "metadata": {},
   "source": "## Evaluating configure monitors"
  },
  {
   "cell_type": "code",
   "metadata": {
    "id": "bec8636f-6201-437a-826c-eff6a1184fbc",
    "ExecuteTime": {
     "end_time": "2024-10-30T06:47:26.870421Z",
     "start_time": "2024-10-30T06:40:24.188059Z"
    }
   },
   "source": [
    "prod_ai_client.model.run_evaluation()"
   ],
   "outputs": [
    {
     "name": "stdout",
     "output_type": "stream",
     "text": [
      "Triggering Mrm risk evaluations request...\n",
      "Grabbing Mrm risk evaluations results...\n",
      "Checking for status of risk evaluation run\n",
      "06:40:34 running\n",
      "06:40:46 running\n",
      "06:41:00 running\n",
      "06:41:13 running\n",
      "06:41:25 running\n",
      "06:41:37 running\n",
      "06:41:50 running\n",
      "06:42:07 running\n",
      "06:42:25 running\n",
      "06:42:37 running\n",
      "06:42:50 running\n",
      "06:43:02 running\n",
      "06:43:14 running\n",
      "06:43:27 running\n",
      "06:43:40 running\n",
      "06:43:57 running\n",
      "06:44:09 running\n",
      "06:44:21 running\n",
      "06:44:33 running\n",
      "06:44:45 running\n",
      "06:44:57 running\n",
      "06:45:09 running\n",
      "06:45:21 running\n",
      "06:45:34 running\n",
      "06:45:46 running\n",
      "06:45:58 running\n",
      "06:46:10 running\n",
      "06:46:23 running\n",
      "06:46:36 running\n",
      "06:46:51 running\n",
      "06:47:04 running\n",
      "06:47:16 running\n",
      "Mrm risk evaluation finished successfully\n"
     ]
    }
   ],
   "execution_count": 60
  },
  {
   "cell_type": "markdown",
   "metadata": {},
   "source": [
    "## Get monitor instance details for the monitors configured\n",
    " The following cell will collect monitor_instance_id details for particular subscription_Id from ibm_watson_opscale SDK."
   ]
  },
  {
   "cell_type": "code",
   "metadata": {
    "id": "03fa7ac6-73a2-48ee-9628-50228bf8b36b",
    "ExecuteTime": {
     "end_time": "2024-10-30T06:47:28.035546Z",
     "start_time": "2024-10-30T06:47:26.873792Z"
    }
   },
   "source": [
    "monitor_instance_ids = {}\n",
    "monitor_instance_list = prod_ai_client.monitor_instances.list(target_target_id=subscription_id).result\n",
    "for instance in monitor_instance_list.monitor_instances:\n",
    "    monitor_instance_ids.update({instance.entity.monitor_definition_id: instance.metadata.id})\n",
    "monitor_instance_ids"
   ],
   "outputs": [
    {
     "data": {
      "text/plain": [
       "{'fairness': '91d62032-3224-4871-8e3b-d008bc97dc9e',\n",
       " 'model_health': 'dc16e481-931a-46c8-912a-1abcee638737',\n",
       " 'quality': '6e1d6e35-7d3b-4b12-aa19-5da7a3b7b097',\n",
       " 'mrm': '6308846b-1f8b-423f-9b32-cf2ac9a75c98',\n",
       " 'drift_v2': '8401eaba-e54a-4f06-99b3-44b1d7f0da17',\n",
       " 'explainability': '9683b7df-ed27-4541-b150-19e35e387ce6',\n",
       " 'performance': '858d9bf1-77b8-4d97-a753-d53ddee2def4'}"
      ]
     },
     "execution_count": 61,
     "metadata": {},
     "output_type": "execute_result"
    }
   ],
   "execution_count": 61
  },
  {
   "cell_type": "markdown",
   "metadata": {},
   "source": "## Fairness monitor details"
  },
  {
   "cell_type": "code",
   "metadata": {
    "id": "0f424df7-02eb-40a2-8ce1-f6aa7033c9b2",
    "ExecuteTime": {
     "end_time": "2024-10-30T06:47:30.397794Z",
     "start_time": "2024-10-30T06:47:28.038168Z"
    }
   },
   "source": [
    "prod_ai_client.monitor_instances.show_metrics(monitor_instance_id=monitor_instance_ids['fairness'])"
   ],
   "outputs": [
    {
     "data": {
      "text/plain": [
       "<IPython.core.display.HTML object>"
      ],
      "text/html": [
       "<HTML>\n",
       "        <body>\n",
       "            <h3>91d62032-3224-4871-8e3b-d008bc97dc9e Monitor Runs Metrics from: 2024-10-23 12:17:28.040338  till: 2024-10-30 12:17:28.040355</h3>\n",
       "            <table style='border: 1px solid #dddddd; font-family: Courier'>\n",
       "                <th style='border: 1px solid #dddddd'>ts</th><th style='border: 1px solid #dddddd'>id</th><th style='border: 1px solid #dddddd'>measurement_id</th><th style='border: 1px solid #dddddd'>value</th><th style='border: 1px solid #dddddd'>lower_limit</th><th style='border: 1px solid #dddddd'>upper_limit</th><th style='border: 1px solid #dddddd'>tags</th><th style='border: 1px solid #dddddd'>monitor_definition_id</th><th style='border: 1px solid #dddddd'>monitor_instance_id</th><th style='border: 1px solid #dddddd'>run_id</th><th style='border: 1px solid #dddddd'>target_type</th><th style='border: 1px solid #dddddd'>target_id</th>\n",
       "                <tr><td style='border: 1px solid #dddddd'>2024-10-30 06:40:41.549039+00:00</td><td style='border: 1px solid #dddddd'>fairness_value</td><td style='border: 1px solid #dddddd'>2f6d48ce-ee24-4ab2-ba8c-43620b21754d</td><td style='border: 1px solid #dddddd'>96.774</td><td style='border: 1px solid #dddddd'>95.0</td><td style='border: 1px solid #dddddd'>None</td><td style='border: 1px solid #dddddd'>['feature:Sex', 'fairness_metric_type:fairness', 'feature_value:female']</td><td style='border: 1px solid #dddddd'>fairness</td><td style='border: 1px solid #dddddd'>91d62032-3224-4871-8e3b-d008bc97dc9e</td><td style='border: 1px solid #dddddd'>2e45b790-fef6-4c13-a370-36b2f0ed4780</td><td style='border: 1px solid #dddddd'>subscription</td><td style='border: 1px solid #dddddd'>d821adac-5eb1-40f5-948d-e47edc7db1a2</td></tr><tr><td style='border: 1px solid #dddddd'>2024-10-30 06:40:41.549039+00:00</td><td style='border: 1px solid #dddddd'>fairness_value</td><td style='border: 1px solid #dddddd'>2f6d48ce-ee24-4ab2-ba8c-43620b21754d</td><td style='border: 1px solid #dddddd'>100.0</td><td style='border: 1px solid #dddddd'>95.0</td><td style='border: 1px solid #dddddd'>None</td><td style='border: 1px solid #dddddd'>['feature:Age', 'fairness_metric_type:fairness', 'feature_value:18-25']</td><td style='border: 1px solid #dddddd'>fairness</td><td style='border: 1px solid #dddddd'>91d62032-3224-4871-8e3b-d008bc97dc9e</td><td style='border: 1px solid #dddddd'>2e45b790-fef6-4c13-a370-36b2f0ed4780</td><td style='border: 1px solid #dddddd'>subscription</td><td style='border: 1px solid #dddddd'>d821adac-5eb1-40f5-948d-e47edc7db1a2</td></tr>\n",
       "            </table>\n",
       "        </body>\n",
       "        </HTML>"
      ]
     },
     "metadata": {},
     "output_type": "display_data"
    }
   ],
   "execution_count": 62
  },
  {
   "cell_type": "markdown",
   "metadata": {},
   "source": "## Quality monitor details"
  },
  {
   "cell_type": "code",
   "metadata": {
    "id": "4e87f4a1-fad5-42b2-a23e-150a20e9fa5f",
    "ExecuteTime": {
     "end_time": "2024-10-30T06:47:32.105693Z",
     "start_time": "2024-10-30T06:47:30.400960Z"
    }
   },
   "source": [
    "prod_ai_client.monitor_instances.show_metrics(monitor_instance_id=monitor_instance_ids['quality'])"
   ],
   "outputs": [
    {
     "data": {
      "text/plain": [
       "<IPython.core.display.HTML object>"
      ],
      "text/html": [
       "<HTML>\n",
       "        <body>\n",
       "            <h3>6e1d6e35-7d3b-4b12-aa19-5da7a3b7b097 Monitor Runs Metrics from: 2024-10-23 12:17:30.403327  till: 2024-10-30 12:17:30.403339</h3>\n",
       "            <table style='border: 1px solid #dddddd; font-family: Courier'>\n",
       "                <th style='border: 1px solid #dddddd'>ts</th><th style='border: 1px solid #dddddd'>id</th><th style='border: 1px solid #dddddd'>measurement_id</th><th style='border: 1px solid #dddddd'>value</th><th style='border: 1px solid #dddddd'>lower_limit</th><th style='border: 1px solid #dddddd'>upper_limit</th><th style='border: 1px solid #dddddd'>tags</th><th style='border: 1px solid #dddddd'>monitor_definition_id</th><th style='border: 1px solid #dddddd'>monitor_instance_id</th><th style='border: 1px solid #dddddd'>run_id</th><th style='border: 1px solid #dddddd'>target_type</th><th style='border: 1px solid #dddddd'>target_id</th>\n",
       "                <tr><td style='border: 1px solid #dddddd'>2024-10-30 06:40:32.464000+00:00</td><td style='border: 1px solid #dddddd'>true_positive_rate</td><td style='border: 1px solid #dddddd'>c4fb3955-e4cb-412b-8c92-827e5105e59c</td><td style='border: 1px solid #dddddd'>0.5757575757575758</td><td style='border: 1px solid #dddddd'>None</td><td style='border: 1px solid #dddddd'>None</td><td style='border: 1px solid #dddddd'>['model_type:original']</td><td style='border: 1px solid #dddddd'>quality</td><td style='border: 1px solid #dddddd'>6e1d6e35-7d3b-4b12-aa19-5da7a3b7b097</td><td style='border: 1px solid #dddddd'>47833687-2655-4ac2-81a9-04c62d04edef</td><td style='border: 1px solid #dddddd'>subscription</td><td style='border: 1px solid #dddddd'>d821adac-5eb1-40f5-948d-e47edc7db1a2</td></tr><tr><td style='border: 1px solid #dddddd'>2024-10-30 06:40:32.464000+00:00</td><td style='border: 1px solid #dddddd'>area_under_roc</td><td style='border: 1px solid #dddddd'>c4fb3955-e4cb-412b-8c92-827e5105e59c</td><td style='border: 1px solid #dddddd'>0.7186480186480186</td><td style='border: 1px solid #dddddd'>0.8</td><td style='border: 1px solid #dddddd'>None</td><td style='border: 1px solid #dddddd'>['model_type:original']</td><td style='border: 1px solid #dddddd'>quality</td><td style='border: 1px solid #dddddd'>6e1d6e35-7d3b-4b12-aa19-5da7a3b7b097</td><td style='border: 1px solid #dddddd'>47833687-2655-4ac2-81a9-04c62d04edef</td><td style='border: 1px solid #dddddd'>subscription</td><td style='border: 1px solid #dddddd'>d821adac-5eb1-40f5-948d-e47edc7db1a2</td></tr><tr><td style='border: 1px solid #dddddd'>2024-10-30 06:40:32.464000+00:00</td><td style='border: 1px solid #dddddd'>precision</td><td style='border: 1px solid #dddddd'>c4fb3955-e4cb-412b-8c92-827e5105e59c</td><td style='border: 1px solid #dddddd'>0.6785714285714286</td><td style='border: 1px solid #dddddd'>None</td><td style='border: 1px solid #dddddd'>None</td><td style='border: 1px solid #dddddd'>['model_type:original']</td><td style='border: 1px solid #dddddd'>quality</td><td style='border: 1px solid #dddddd'>6e1d6e35-7d3b-4b12-aa19-5da7a3b7b097</td><td style='border: 1px solid #dddddd'>47833687-2655-4ac2-81a9-04c62d04edef</td><td style='border: 1px solid #dddddd'>subscription</td><td style='border: 1px solid #dddddd'>d821adac-5eb1-40f5-948d-e47edc7db1a2</td></tr><tr><td style='border: 1px solid #dddddd'>2024-10-30 06:40:32.464000+00:00</td><td style='border: 1px solid #dddddd'>matthews_correlation_coefficient</td><td style='border: 1px solid #dddddd'>c4fb3955-e4cb-412b-8c92-827e5105e59c</td><td style='border: 1px solid #dddddd'>0.4574684571392756</td><td style='border: 1px solid #dddddd'>None</td><td style='border: 1px solid #dddddd'>None</td><td style='border: 1px solid #dddddd'>['model_type:original']</td><td style='border: 1px solid #dddddd'>quality</td><td style='border: 1px solid #dddddd'>6e1d6e35-7d3b-4b12-aa19-5da7a3b7b097</td><td style='border: 1px solid #dddddd'>47833687-2655-4ac2-81a9-04c62d04edef</td><td style='border: 1px solid #dddddd'>subscription</td><td style='border: 1px solid #dddddd'>d821adac-5eb1-40f5-948d-e47edc7db1a2</td></tr><tr><td style='border: 1px solid #dddddd'>2024-10-30 06:40:32.464000+00:00</td><td style='border: 1px solid #dddddd'>f1_measure</td><td style='border: 1px solid #dddddd'>c4fb3955-e4cb-412b-8c92-827e5105e59c</td><td style='border: 1px solid #dddddd'>0.6229508196721312</td><td style='border: 1px solid #dddddd'>None</td><td style='border: 1px solid #dddddd'>None</td><td style='border: 1px solid #dddddd'>['model_type:original']</td><td style='border: 1px solid #dddddd'>quality</td><td style='border: 1px solid #dddddd'>6e1d6e35-7d3b-4b12-aa19-5da7a3b7b097</td><td style='border: 1px solid #dddddd'>47833687-2655-4ac2-81a9-04c62d04edef</td><td style='border: 1px solid #dddddd'>subscription</td><td style='border: 1px solid #dddddd'>d821adac-5eb1-40f5-948d-e47edc7db1a2</td></tr><tr><td style='border: 1px solid #dddddd'>2024-10-30 06:40:32.464000+00:00</td><td style='border: 1px solid #dddddd'>accuracy</td><td style='border: 1px solid #dddddd'>c4fb3955-e4cb-412b-8c92-827e5105e59c</td><td style='border: 1px solid #dddddd'>0.7653061224489796</td><td style='border: 1px solid #dddddd'>None</td><td style='border: 1px solid #dddddd'>None</td><td style='border: 1px solid #dddddd'>['model_type:original']</td><td style='border: 1px solid #dddddd'>quality</td><td style='border: 1px solid #dddddd'>6e1d6e35-7d3b-4b12-aa19-5da7a3b7b097</td><td style='border: 1px solid #dddddd'>47833687-2655-4ac2-81a9-04c62d04edef</td><td style='border: 1px solid #dddddd'>subscription</td><td style='border: 1px solid #dddddd'>d821adac-5eb1-40f5-948d-e47edc7db1a2</td></tr><tr><td style='border: 1px solid #dddddd'>2024-10-30 06:40:32.464000+00:00</td><td style='border: 1px solid #dddddd'>label_skew</td><td style='border: 1px solid #dddddd'>c4fb3955-e4cb-412b-8c92-827e5105e59c</td><td style='border: 1px solid #dddddd'>0.690933627340049</td><td style='border: 1px solid #dddddd'>None</td><td style='border: 1px solid #dddddd'>None</td><td style='border: 1px solid #dddddd'>['model_type:original']</td><td style='border: 1px solid #dddddd'>quality</td><td style='border: 1px solid #dddddd'>6e1d6e35-7d3b-4b12-aa19-5da7a3b7b097</td><td style='border: 1px solid #dddddd'>47833687-2655-4ac2-81a9-04c62d04edef</td><td style='border: 1px solid #dddddd'>subscription</td><td style='border: 1px solid #dddddd'>d821adac-5eb1-40f5-948d-e47edc7db1a2</td></tr><tr><td style='border: 1px solid #dddddd'>2024-10-30 06:40:32.464000+00:00</td><td style='border: 1px solid #dddddd'>gini_coefficient</td><td style='border: 1px solid #dddddd'>c4fb3955-e4cb-412b-8c92-827e5105e59c</td><td style='border: 1px solid #dddddd'>0.4372960372960373</td><td style='border: 1px solid #dddddd'>None</td><td style='border: 1px solid #dddddd'>None</td><td style='border: 1px solid #dddddd'>['model_type:original']</td><td style='border: 1px solid #dddddd'>quality</td><td style='border: 1px solid #dddddd'>6e1d6e35-7d3b-4b12-aa19-5da7a3b7b097</td><td style='border: 1px solid #dddddd'>47833687-2655-4ac2-81a9-04c62d04edef</td><td style='border: 1px solid #dddddd'>subscription</td><td style='border: 1px solid #dddddd'>d821adac-5eb1-40f5-948d-e47edc7db1a2</td></tr><tr><td style='border: 1px solid #dddddd'>2024-10-30 06:40:32.464000+00:00</td><td style='border: 1px solid #dddddd'>log_loss</td><td style='border: 1px solid #dddddd'>c4fb3955-e4cb-412b-8c92-827e5105e59c</td><td style='border: 1px solid #dddddd'>0.45766200172124494</td><td style='border: 1px solid #dddddd'>None</td><td style='border: 1px solid #dddddd'>None</td><td style='border: 1px solid #dddddd'>['model_type:original']</td><td style='border: 1px solid #dddddd'>quality</td><td style='border: 1px solid #dddddd'>6e1d6e35-7d3b-4b12-aa19-5da7a3b7b097</td><td style='border: 1px solid #dddddd'>47833687-2655-4ac2-81a9-04c62d04edef</td><td style='border: 1px solid #dddddd'>subscription</td><td style='border: 1px solid #dddddd'>d821adac-5eb1-40f5-948d-e47edc7db1a2</td></tr><tr><td style='border: 1px solid #dddddd'>2024-10-30 06:40:32.464000+00:00</td><td style='border: 1px solid #dddddd'>false_positive_rate</td><td style='border: 1px solid #dddddd'>c4fb3955-e4cb-412b-8c92-827e5105e59c</td><td style='border: 1px solid #dddddd'>0.13846153846153847</td><td style='border: 1px solid #dddddd'>None</td><td style='border: 1px solid #dddddd'>None</td><td style='border: 1px solid #dddddd'>['model_type:original']</td><td style='border: 1px solid #dddddd'>quality</td><td style='border: 1px solid #dddddd'>6e1d6e35-7d3b-4b12-aa19-5da7a3b7b097</td><td style='border: 1px solid #dddddd'>47833687-2655-4ac2-81a9-04c62d04edef</td><td style='border: 1px solid #dddddd'>subscription</td><td style='border: 1px solid #dddddd'>d821adac-5eb1-40f5-948d-e47edc7db1a2</td></tr>\n",
       "            </table>\n",
       "        </body>\n",
       "        </HTML>"
      ]
     },
     "metadata": {},
     "output_type": "display_data"
    },
    {
     "name": "stdout",
     "output_type": "stream",
     "text": [
      "Note: First 10 records were displayed.\n"
     ]
    }
   ],
   "execution_count": 63
  },
  {
   "cell_type": "markdown",
   "metadata": {},
   "source": "## Drift_v2 monitor details"
  },
  {
   "cell_type": "code",
   "metadata": {
    "id": "d3c152bf-4245-4049-91cb-275c4d1abb44",
    "ExecuteTime": {
     "end_time": "2024-10-30T06:47:34.695131Z",
     "start_time": "2024-10-30T06:47:32.107765Z"
    }
   },
   "source": [
    "prod_ai_client.monitor_instances.show_metrics(monitor_instance_id=monitor_instance_ids['drift_v2'])"
   ],
   "outputs": [
    {
     "data": {
      "text/plain": [
       "<IPython.core.display.HTML object>"
      ],
      "text/html": [
       "<HTML>\n",
       "        <body>\n",
       "            <h3>8401eaba-e54a-4f06-99b3-44b1d7f0da17 Monitor Runs Metrics from: 2024-10-23 12:17:32.109308  till: 2024-10-30 12:17:32.109321</h3>\n",
       "            <table style='border: 1px solid #dddddd; font-family: Courier'>\n",
       "                <th style='border: 1px solid #dddddd'>ts</th><th style='border: 1px solid #dddddd'>id</th><th style='border: 1px solid #dddddd'>measurement_id</th><th style='border: 1px solid #dddddd'>value</th><th style='border: 1px solid #dddddd'>lower_limit</th><th style='border: 1px solid #dddddd'>upper_limit</th><th style='border: 1px solid #dddddd'>tags</th><th style='border: 1px solid #dddddd'>monitor_definition_id</th><th style='border: 1px solid #dddddd'>monitor_instance_id</th><th style='border: 1px solid #dddddd'>run_id</th><th style='border: 1px solid #dddddd'>target_type</th><th style='border: 1px solid #dddddd'>target_id</th>\n",
       "                <tr><td style='border: 1px solid #dddddd'>2024-10-30 06:41:12.922993+00:00</td><td style='border: 1px solid #dddddd'>records_processed</td><td style='border: 1px solid #dddddd'>7c2d93bc-4543-46ae-9f97-d4c81b86c363</td><td style='border: 1px solid #dddddd'>51.0</td><td style='border: 1px solid #dddddd'>None</td><td style='border: 1px solid #dddddd'>None</td><td style='border: 1px solid #dddddd'>['algorithm_used:total_variation', 'computed_on:payload', 'field_type:class', 'field_name:Class Probability for No Risk']</td><td style='border: 1px solid #dddddd'>drift_v2</td><td style='border: 1px solid #dddddd'>8401eaba-e54a-4f06-99b3-44b1d7f0da17</td><td style='border: 1px solid #dddddd'>795f8520-4448-47b8-9207-f304a59c7991</td><td style='border: 1px solid #dddddd'>subscription</td><td style='border: 1px solid #dddddd'>d821adac-5eb1-40f5-948d-e47edc7db1a2</td></tr><tr><td style='border: 1px solid #dddddd'>2024-10-30 06:41:12.922993+00:00</td><td style='border: 1px solid #dddddd'>confidence_drift_score</td><td style='border: 1px solid #dddddd'>7c2d93bc-4543-46ae-9f97-d4c81b86c363</td><td style='border: 1px solid #dddddd'>0.2693</td><td style='border: 1px solid #dddddd'>0.8</td><td style='border: 1px solid #dddddd'>None</td><td style='border: 1px solid #dddddd'>['algorithm_used:total_variation', 'computed_on:payload', 'field_type:class', 'field_name:Class Probability for No Risk']</td><td style='border: 1px solid #dddddd'>drift_v2</td><td style='border: 1px solid #dddddd'>8401eaba-e54a-4f06-99b3-44b1d7f0da17</td><td style='border: 1px solid #dddddd'>795f8520-4448-47b8-9207-f304a59c7991</td><td style='border: 1px solid #dddddd'>subscription</td><td style='border: 1px solid #dddddd'>d821adac-5eb1-40f5-948d-e47edc7db1a2</td></tr><tr><td style='border: 1px solid #dddddd'>2024-10-30 06:41:12.922993+00:00</td><td style='border: 1px solid #dddddd'>records_processed</td><td style='border: 1px solid #dddddd'>7c2d93bc-4543-46ae-9f97-d4c81b86c363</td><td style='border: 1px solid #dddddd'>51.0</td><td style='border: 1px solid #dddddd'>None</td><td style='border: 1px solid #dddddd'>None</td><td style='border: 1px solid #dddddd'>['algorithm_used:overlap_coefficient', 'computed_on:payload', 'field_type:class', 'field_name:Class Probability for No Risk']</td><td style='border: 1px solid #dddddd'>drift_v2</td><td style='border: 1px solid #dddddd'>8401eaba-e54a-4f06-99b3-44b1d7f0da17</td><td style='border: 1px solid #dddddd'>795f8520-4448-47b8-9207-f304a59c7991</td><td style='border: 1px solid #dddddd'>subscription</td><td style='border: 1px solid #dddddd'>d821adac-5eb1-40f5-948d-e47edc7db1a2</td></tr><tr><td style='border: 1px solid #dddddd'>2024-10-30 06:41:12.922993+00:00</td><td style='border: 1px solid #dddddd'>confidence_drift_score</td><td style='border: 1px solid #dddddd'>7c2d93bc-4543-46ae-9f97-d4c81b86c363</td><td style='border: 1px solid #dddddd'>0.27</td><td style='border: 1px solid #dddddd'>0.8</td><td style='border: 1px solid #dddddd'>None</td><td style='border: 1px solid #dddddd'>['algorithm_used:overlap_coefficient', 'computed_on:payload', 'field_type:class', 'field_name:Class Probability for No Risk']</td><td style='border: 1px solid #dddddd'>drift_v2</td><td style='border: 1px solid #dddddd'>8401eaba-e54a-4f06-99b3-44b1d7f0da17</td><td style='border: 1px solid #dddddd'>795f8520-4448-47b8-9207-f304a59c7991</td><td style='border: 1px solid #dddddd'>subscription</td><td style='border: 1px solid #dddddd'>d821adac-5eb1-40f5-948d-e47edc7db1a2</td></tr><tr><td style='border: 1px solid #dddddd'>2024-10-30 06:41:25.996554+00:00</td><td style='border: 1px solid #dddddd'>records_processed</td><td style='border: 1px solid #dddddd'>78df6505-fe17-448f-aad4-6e990b7daebf</td><td style='border: 1px solid #dddddd'>51.0</td><td style='border: 1px solid #dddddd'>None</td><td style='border: 1px solid #dddddd'>None</td><td style='border: 1px solid #dddddd'>['algorithm_used:total_variation', 'computed_on:payload', 'field_type:class', 'field_name:Class Probability for Risk']</td><td style='border: 1px solid #dddddd'>drift_v2</td><td style='border: 1px solid #dddddd'>8401eaba-e54a-4f06-99b3-44b1d7f0da17</td><td style='border: 1px solid #dddddd'>795f8520-4448-47b8-9207-f304a59c7991</td><td style='border: 1px solid #dddddd'>subscription</td><td style='border: 1px solid #dddddd'>d821adac-5eb1-40f5-948d-e47edc7db1a2</td></tr><tr><td style='border: 1px solid #dddddd'>2024-10-30 06:41:25.996554+00:00</td><td style='border: 1px solid #dddddd'>confidence_drift_score</td><td style='border: 1px solid #dddddd'>78df6505-fe17-448f-aad4-6e990b7daebf</td><td style='border: 1px solid #dddddd'>0.1547</td><td style='border: 1px solid #dddddd'>0.8</td><td style='border: 1px solid #dddddd'>None</td><td style='border: 1px solid #dddddd'>['algorithm_used:total_variation', 'computed_on:payload', 'field_type:class', 'field_name:Class Probability for Risk']</td><td style='border: 1px solid #dddddd'>drift_v2</td><td style='border: 1px solid #dddddd'>8401eaba-e54a-4f06-99b3-44b1d7f0da17</td><td style='border: 1px solid #dddddd'>795f8520-4448-47b8-9207-f304a59c7991</td><td style='border: 1px solid #dddddd'>subscription</td><td style='border: 1px solid #dddddd'>d821adac-5eb1-40f5-948d-e47edc7db1a2</td></tr><tr><td style='border: 1px solid #dddddd'>2024-10-30 06:41:25.996554+00:00</td><td style='border: 1px solid #dddddd'>records_processed</td><td style='border: 1px solid #dddddd'>78df6505-fe17-448f-aad4-6e990b7daebf</td><td style='border: 1px solid #dddddd'>51.0</td><td style='border: 1px solid #dddddd'>None</td><td style='border: 1px solid #dddddd'>None</td><td style='border: 1px solid #dddddd'>['algorithm_used:overlap_coefficient', 'computed_on:payload', 'field_type:class', 'field_name:Class Probability for Risk']</td><td style='border: 1px solid #dddddd'>drift_v2</td><td style='border: 1px solid #dddddd'>8401eaba-e54a-4f06-99b3-44b1d7f0da17</td><td style='border: 1px solid #dddddd'>795f8520-4448-47b8-9207-f304a59c7991</td><td style='border: 1px solid #dddddd'>subscription</td><td style='border: 1px solid #dddddd'>d821adac-5eb1-40f5-948d-e47edc7db1a2</td></tr><tr><td style='border: 1px solid #dddddd'>2024-10-30 06:41:25.996554+00:00</td><td style='border: 1px solid #dddddd'>confidence_drift_score</td><td style='border: 1px solid #dddddd'>78df6505-fe17-448f-aad4-6e990b7daebf</td><td style='border: 1px solid #dddddd'>0.1561</td><td style='border: 1px solid #dddddd'>0.8</td><td style='border: 1px solid #dddddd'>None</td><td style='border: 1px solid #dddddd'>['algorithm_used:overlap_coefficient', 'computed_on:payload', 'field_type:class', 'field_name:Class Probability for Risk']</td><td style='border: 1px solid #dddddd'>drift_v2</td><td style='border: 1px solid #dddddd'>8401eaba-e54a-4f06-99b3-44b1d7f0da17</td><td style='border: 1px solid #dddddd'>795f8520-4448-47b8-9207-f304a59c7991</td><td style='border: 1px solid #dddddd'>subscription</td><td style='border: 1px solid #dddddd'>d821adac-5eb1-40f5-948d-e47edc7db1a2</td></tr><tr><td style='border: 1px solid #dddddd'>2024-10-30 06:41:29.492756+00:00</td><td style='border: 1px solid #dddddd'>records_processed</td><td style='border: 1px solid #dddddd'>ef9c1408-aeca-4010-b5f9-83bb9e1dcb4c</td><td style='border: 1px solid #dddddd'>51.0</td><td style='border: 1px solid #dddddd'>None</td><td style='border: 1px solid #dddddd'>None</td><td style='border: 1px solid #dddddd'>['algorithm_used:jensen_shannon', 'computed_on:payload', 'field_type:class', 'field_name:prediction']</td><td style='border: 1px solid #dddddd'>drift_v2</td><td style='border: 1px solid #dddddd'>8401eaba-e54a-4f06-99b3-44b1d7f0da17</td><td style='border: 1px solid #dddddd'>795f8520-4448-47b8-9207-f304a59c7991</td><td style='border: 1px solid #dddddd'>subscription</td><td style='border: 1px solid #dddddd'>d821adac-5eb1-40f5-948d-e47edc7db1a2</td></tr><tr><td style='border: 1px solid #dddddd'>2024-10-30 06:41:29.492756+00:00</td><td style='border: 1px solid #dddddd'>prediction_drift_score</td><td style='border: 1px solid #dddddd'>ef9c1408-aeca-4010-b5f9-83bb9e1dcb4c</td><td style='border: 1px solid #dddddd'>0.046</td><td style='border: 1px solid #dddddd'>None</td><td style='border: 1px solid #dddddd'>None</td><td style='border: 1px solid #dddddd'>['algorithm_used:jensen_shannon', 'computed_on:payload', 'field_type:class', 'field_name:prediction']</td><td style='border: 1px solid #dddddd'>drift_v2</td><td style='border: 1px solid #dddddd'>8401eaba-e54a-4f06-99b3-44b1d7f0da17</td><td style='border: 1px solid #dddddd'>795f8520-4448-47b8-9207-f304a59c7991</td><td style='border: 1px solid #dddddd'>subscription</td><td style='border: 1px solid #dddddd'>d821adac-5eb1-40f5-948d-e47edc7db1a2</td></tr>\n",
       "            </table>\n",
       "        </body>\n",
       "        </HTML>"
      ]
     },
     "metadata": {},
     "output_type": "display_data"
    },
    {
     "name": "stdout",
     "output_type": "stream",
     "text": [
      "Note: First 10 records were displayed.\n"
     ]
    }
   ],
   "execution_count": 64
  },
  {
   "cell_type": "markdown",
   "metadata": {},
   "source": "## Model_health monitor details"
  },
  {
   "cell_type": "code",
   "metadata": {
    "id": "3a516ec5-e8f0-4c34-ba91-0c4de20f0942",
    "ExecuteTime": {
     "end_time": "2024-10-30T06:47:36.891059Z",
     "start_time": "2024-10-30T06:47:34.696591Z"
    }
   },
   "source": [
    "prod_ai_client.monitor_instances.show_metrics(monitor_instance_id=monitor_instance_ids['model_health'])"
   ],
   "outputs": [
    {
     "data": {
      "text/plain": [
       "<IPython.core.display.HTML object>"
      ],
      "text/html": [
       "<HTML>\n",
       "        <body>\n",
       "            <h3>dc16e481-931a-46c8-912a-1abcee638737 Monitor Runs Metrics from: 2024-10-23 12:17:34.697900  till: 2024-10-30 12:17:34.697922</h3>\n",
       "            <table style='border: 1px solid #dddddd; font-family: Courier'>\n",
       "                <th style='border: 1px solid #dddddd'>ts</th><th style='border: 1px solid #dddddd'>id</th><th style='border: 1px solid #dddddd'>measurement_id</th><th style='border: 1px solid #dddddd'>value</th><th style='border: 1px solid #dddddd'>lower_limit</th><th style='border: 1px solid #dddddd'>upper_limit</th><th style='border: 1px solid #dddddd'>tags</th><th style='border: 1px solid #dddddd'>monitor_definition_id</th><th style='border: 1px solid #dddddd'>monitor_instance_id</th><th style='border: 1px solid #dddddd'>run_id</th><th style='border: 1px solid #dddddd'>target_type</th><th style='border: 1px solid #dddddd'>target_id</th>\n",
       "                <tr><td style='border: 1px solid #dddddd'>2024-10-30 06:40:36.024854+00:00</td><td style='border: 1px solid #dddddd'>total_records</td><td style='border: 1px solid #dddddd'>907c1b71-671a-4359-acda-7605dbde3d31</td><td style='border: 1px solid #dddddd'>50.0</td><td style='border: 1px solid #dddddd'>None</td><td style='border: 1px solid #dddddd'>None</td><td style='border: 1px solid #dddddd'>[]</td><td style='border: 1px solid #dddddd'>model_health</td><td style='border: 1px solid #dddddd'>dc16e481-931a-46c8-912a-1abcee638737</td><td style='border: 1px solid #dddddd'>28e4c418-f84c-48cb-bb04-3b791f0b22c4</td><td style='border: 1px solid #dddddd'>subscription</td><td style='border: 1px solid #dddddd'>d821adac-5eb1-40f5-948d-e47edc7db1a2</td></tr><tr><td style='border: 1px solid #dddddd'>2024-10-30 06:40:36.024854+00:00</td><td style='border: 1px solid #dddddd'>maximum_payload_size</td><td style='border: 1px solid #dddddd'>907c1b71-671a-4359-acda-7605dbde3d31</td><td style='border: 1px solid #dddddd'>7.8125</td><td style='border: 1px solid #dddddd'>None</td><td style='border: 1px solid #dddddd'>None</td><td style='border: 1px solid #dddddd'>[]</td><td style='border: 1px solid #dddddd'>model_health</td><td style='border: 1px solid #dddddd'>dc16e481-931a-46c8-912a-1abcee638737</td><td style='border: 1px solid #dddddd'>28e4c418-f84c-48cb-bb04-3b791f0b22c4</td><td style='border: 1px solid #dddddd'>subscription</td><td style='border: 1px solid #dddddd'>d821adac-5eb1-40f5-948d-e47edc7db1a2</td></tr><tr><td style='border: 1px solid #dddddd'>2024-10-30 06:40:36.024854+00:00</td><td style='border: 1px solid #dddddd'>maximum_record_throughput</td><td style='border: 1px solid #dddddd'>907c1b71-671a-4359-acda-7605dbde3d31</td><td style='border: 1px solid #dddddd'>7796.104</td><td style='border: 1px solid #dddddd'>None</td><td style='border: 1px solid #dddddd'>None</td><td style='border: 1px solid #dddddd'>[]</td><td style='border: 1px solid #dddddd'>model_health</td><td style='border: 1px solid #dddddd'>dc16e481-931a-46c8-912a-1abcee638737</td><td style='border: 1px solid #dddddd'>28e4c418-f84c-48cb-bb04-3b791f0b22c4</td><td style='border: 1px solid #dddddd'>subscription</td><td style='border: 1px solid #dddddd'>d821adac-5eb1-40f5-948d-e47edc7db1a2</td></tr><tr><td style='border: 1px solid #dddddd'>2024-10-30 06:40:36.024854+00:00</td><td style='border: 1px solid #dddddd'>median_api_throughput</td><td style='border: 1px solid #dddddd'>907c1b71-671a-4359-acda-7605dbde3d31</td><td style='border: 1px solid #dddddd'>155.922</td><td style='border: 1px solid #dddddd'>None</td><td style='border: 1px solid #dddddd'>None</td><td style='border: 1px solid #dddddd'>[]</td><td style='border: 1px solid #dddddd'>model_health</td><td style='border: 1px solid #dddddd'>dc16e481-931a-46c8-912a-1abcee638737</td><td style='border: 1px solid #dddddd'>28e4c418-f84c-48cb-bb04-3b791f0b22c4</td><td style='border: 1px solid #dddddd'>subscription</td><td style='border: 1px solid #dddddd'>d821adac-5eb1-40f5-948d-e47edc7db1a2</td></tr><tr><td style='border: 1px solid #dddddd'>2024-10-30 06:40:36.024854+00:00</td><td style='border: 1px solid #dddddd'>minimum_api_throughput</td><td style='border: 1px solid #dddddd'>907c1b71-671a-4359-acda-7605dbde3d31</td><td style='border: 1px solid #dddddd'>155.922</td><td style='border: 1px solid #dddddd'>None</td><td style='border: 1px solid #dddddd'>None</td><td style='border: 1px solid #dddddd'>[]</td><td style='border: 1px solid #dddddd'>model_health</td><td style='border: 1px solid #dddddd'>dc16e481-931a-46c8-912a-1abcee638737</td><td style='border: 1px solid #dddddd'>28e4c418-f84c-48cb-bb04-3b791f0b22c4</td><td style='border: 1px solid #dddddd'>subscription</td><td style='border: 1px solid #dddddd'>d821adac-5eb1-40f5-948d-e47edc7db1a2</td></tr><tr><td style='border: 1px solid #dddddd'>2024-10-30 06:40:36.024854+00:00</td><td style='border: 1px solid #dddddd'>median_record_latency</td><td style='border: 1px solid #dddddd'>907c1b71-671a-4359-acda-7605dbde3d31</td><td style='border: 1px solid #dddddd'>0.12826919555664062</td><td style='border: 1px solid #dddddd'>None</td><td style='border: 1px solid #dddddd'>None</td><td style='border: 1px solid #dddddd'>[]</td><td style='border: 1px solid #dddddd'>model_health</td><td style='border: 1px solid #dddddd'>dc16e481-931a-46c8-912a-1abcee638737</td><td style='border: 1px solid #dddddd'>28e4c418-f84c-48cb-bb04-3b791f0b22c4</td><td style='border: 1px solid #dddddd'>subscription</td><td style='border: 1px solid #dddddd'>d821adac-5eb1-40f5-948d-e47edc7db1a2</td></tr><tr><td style='border: 1px solid #dddddd'>2024-10-30 06:40:36.024854+00:00</td><td style='border: 1px solid #dddddd'>average_payload_size</td><td style='border: 1px solid #dddddd'>907c1b71-671a-4359-acda-7605dbde3d31</td><td style='border: 1px solid #dddddd'>7.8125</td><td style='border: 1px solid #dddddd'>None</td><td style='border: 1px solid #dddddd'>None</td><td style='border: 1px solid #dddddd'>[]</td><td style='border: 1px solid #dddddd'>model_health</td><td style='border: 1px solid #dddddd'>dc16e481-931a-46c8-912a-1abcee638737</td><td style='border: 1px solid #dddddd'>28e4c418-f84c-48cb-bb04-3b791f0b22c4</td><td style='border: 1px solid #dddddd'>subscription</td><td style='border: 1px solid #dddddd'>d821adac-5eb1-40f5-948d-e47edc7db1a2</td></tr><tr><td style='border: 1px solid #dddddd'>2024-10-30 06:40:36.024854+00:00</td><td style='border: 1px solid #dddddd'>users</td><td style='border: 1px solid #dddddd'>907c1b71-671a-4359-acda-7605dbde3d31</td><td style='border: 1px solid #dddddd'>1.0</td><td style='border: 1px solid #dddddd'>None</td><td style='border: 1px solid #dddddd'>None</td><td style='border: 1px solid #dddddd'>[]</td><td style='border: 1px solid #dddddd'>model_health</td><td style='border: 1px solid #dddddd'>dc16e481-931a-46c8-912a-1abcee638737</td><td style='border: 1px solid #dddddd'>28e4c418-f84c-48cb-bb04-3b791f0b22c4</td><td style='border: 1px solid #dddddd'>subscription</td><td style='border: 1px solid #dddddd'>d821adac-5eb1-40f5-948d-e47edc7db1a2</td></tr><tr><td style='border: 1px solid #dddddd'>2024-10-30 06:40:36.024854+00:00</td><td style='border: 1px solid #dddddd'>maximum_api_latency</td><td style='border: 1px solid #dddddd'>907c1b71-671a-4359-acda-7605dbde3d31</td><td style='border: 1px solid #dddddd'>6.413459777832031</td><td style='border: 1px solid #dddddd'>None</td><td style='border: 1px solid #dddddd'>None</td><td style='border: 1px solid #dddddd'>[]</td><td style='border: 1px solid #dddddd'>model_health</td><td style='border: 1px solid #dddddd'>dc16e481-931a-46c8-912a-1abcee638737</td><td style='border: 1px solid #dddddd'>28e4c418-f84c-48cb-bb04-3b791f0b22c4</td><td style='border: 1px solid #dddddd'>subscription</td><td style='border: 1px solid #dddddd'>d821adac-5eb1-40f5-948d-e47edc7db1a2</td></tr><tr><td style='border: 1px solid #dddddd'>2024-10-30 06:40:36.024854+00:00</td><td style='border: 1px solid #dddddd'>maximum_api_throughput</td><td style='border: 1px solid #dddddd'>907c1b71-671a-4359-acda-7605dbde3d31</td><td style='border: 1px solid #dddddd'>155.922</td><td style='border: 1px solid #dddddd'>None</td><td style='border: 1px solid #dddddd'>None</td><td style='border: 1px solid #dddddd'>[]</td><td style='border: 1px solid #dddddd'>model_health</td><td style='border: 1px solid #dddddd'>dc16e481-931a-46c8-912a-1abcee638737</td><td style='border: 1px solid #dddddd'>28e4c418-f84c-48cb-bb04-3b791f0b22c4</td><td style='border: 1px solid #dddddd'>subscription</td><td style='border: 1px solid #dddddd'>d821adac-5eb1-40f5-948d-e47edc7db1a2</td></tr>\n",
       "            </table>\n",
       "        </body>\n",
       "        </HTML>"
      ]
     },
     "metadata": {},
     "output_type": "display_data"
    },
    {
     "name": "stdout",
     "output_type": "stream",
     "text": [
      "Note: First 10 records were displayed.\n"
     ]
    }
   ],
   "execution_count": 65
  },
  {
   "cell_type": "markdown",
   "metadata": {},
   "source": [
    "## User can navigate to see an evaluated result in the UI\n",
    "### Configure dashboard url"
   ]
  },
  {
   "cell_type": "code",
   "metadata": {
    "id": "2317daba-8f82-4d37-8f08-d520027e788d",
    "ExecuteTime": {
     "end_time": "2024-10-30T06:47:36.898033Z",
     "start_time": "2024-10-30T06:47:36.892904Z"
    }
   },
   "source": [
    "prod_integrated_url = prod_ai_client.service_url[0:prod_ai_client.service_url.index(\"/openscale\")].replace(\n",
    "    \"api.aiopenscale\",\n",
    "    \"dataplatform\") + f\"/ml-runtime/deployments/{prod_deployment_uid}/evaluations?space_id={WML_PROD_SPACE_ID}\"\n",
    "print(f\"DashBoard URL: \\nIntegrated Experience url: {prod_integrated_url}\")"
   ],
   "outputs": [
    {
     "name": "stdout",
     "output_type": "stream",
     "text": [
      "DashBoard URL: \n",
      "Integrated Experience url: https://dataplatform.cloud.ibm.com/ml-runtime/deployments/30c56a1f-ad47-4de2-95b0-41ce84447f76/evaluations?space_id=d8b93cb6-2caa-49f4-b08e-6a6b6521adee\n"
     ]
    }
   ],
   "execution_count": 66
  },
  {
   "cell_type": "markdown",
   "metadata": {},
   "source": "# Dashboard url of both production and pre-production model"
  },
  {
   "cell_type": "code",
   "metadata": {
    "id": "09616f98-c3e9-4df1-b9d9-97fbe8e1dd29",
    "ExecuteTime": {
     "end_time": "2024-10-30T06:47:36.904073Z",
     "start_time": "2024-10-30T06:47:36.900144Z"
    }
   },
   "source": [
    "print(f\"Pre_production model dashBoard URL: {pre_prod_integrated_url}\")\n",
    "print(f\"Production model dashBoard URL: {prod_integrated_url}\")"
   ],
   "outputs": [
    {
     "name": "stdout",
     "output_type": "stream",
     "text": [
      "Pre_production model dashBoard URL: https://dataplatform.cloud.ibm.com/ml-runtime/deployments/c44269c8-7e2c-4ab5-acd8-1ea36a046b28/evaluations?space_id=fc5257ff-f3a2-4fe9-a8d8-0f759e1f8007\n",
      "Production model dashBoard URL: https://dataplatform.cloud.ibm.com/ml-runtime/deployments/30c56a1f-ad47-4de2-95b0-41ce84447f76/evaluations?space_id=d8b93cb6-2caa-49f4-b08e-6a6b6521adee\n"
     ]
    }
   ],
   "execution_count": 67
  }
 ],
 "metadata": {
  "kernelspec": {
   "display_name": "Python 3 (ipykernel)",
   "language": "python",
   "name": "python3"
  },
  "language_info": {
   "codemirror_mode": {
    "name": "ipython",
    "version": 3
   },
   "file_extension": ".py",
   "mimetype": "text/x-python",
   "name": "python",
   "nbconvert_exporter": "python",
   "pygments_lexer": "ipython3",
   "version": "3.10.14"
  },
  "varInspector": {
   "cols": {
    "lenName": 16,
    "lenType": 16,
    "lenVar": 40
   },
   "kernels_config": {
    "python": {
     "delete_cmd_postfix": "",
     "delete_cmd_prefix": "del ",
     "library": "var_list.py",
     "varRefreshCmd": "print(var_dic_list())"
    },
    "r": {
     "delete_cmd_postfix": ") ",
     "delete_cmd_prefix": "rm(",
     "library": "var_list.r",
     "varRefreshCmd": "cat(var_dic_list()) "
    }
   },
   "types_to_exclude": [
    "module",
    "function",
    "builtin_function_or_method",
    "instance",
    "_Feature"
   ],
   "window_display": false
  }
 },
 "nbformat": 4,
 "nbformat_minor": 4
}
