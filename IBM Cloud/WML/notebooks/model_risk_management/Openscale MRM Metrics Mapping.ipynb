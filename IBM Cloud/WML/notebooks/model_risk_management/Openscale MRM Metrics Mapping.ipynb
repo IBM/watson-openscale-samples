{
 "cells": [
  {
   "cell_type": "markdown",
   "metadata": {},
   "source": [
    "<img src=\"https://github.com/pmservice/ai-openscale-tutorials/raw/master/notebooks/images/banner.png\" align=\"left\" alt=\"banner\">"
   ]
  },
  {
   "cell_type": "markdown",
   "metadata": {},
   "source": [
    "## Demonstration of usage of mapping between OpenScale metrics and Integrated System (like OpenPages) metrics when sending metrics to the Integrated System"
   ]
  },
  {
   "cell_type": "markdown",
   "metadata": {},
   "source": [
    "This notebook should be run in a Watson Studio project, using **IBM Runtime 22.1 on Python 3.9 XS** runtime environment. **If you are viewing this in Watson Studio and do not see the required runtime env in the upper right corner of your screen, please update the runtime now.** It demonstrates an update to the payload of the `'integrated_system_metrics'` endpoint currently being used for the 'Send to OpenPages' functionality. A new attribute `'integrated_metrics'` has been added to the payload which includes mapping between OpenScale metrics and metrics already created in an integrated system like OpenPages. The rationale behind it to provide convenience to the user to re-use metrics already created in the integrated system.\n",
    "\n",
    "`'integrated_metrics'` attribute example:\n",
    "```\n",
    "integrated_metrics\": [{\n",
    "\t\t\"integrated_system_type\": \"open_pages\",\n",
    "\t\t\"mapped_metrics\": [{\n",
    "\t\t\t\t\"internal_metric_id\": \"Age\",\n",
    "\t\t\t\t\"external_metric_id\": \"7789\"\n",
    "\t\t}]\n",
    "        \n",
    "}]\n",
    "```"
   ]
  },
  {
   "cell_type": "code",
   "execution_count": null,
   "metadata": {},
   "outputs": [],
   "source": [
    "!pip install --upgrade ibm-ai-openscale --no-cache | tail -n 1"
   ]
  },
  {
   "cell_type": "markdown",
   "metadata": {},
   "source": [
    "## Credentials for IBM Cloud services\n",
    "\n",
    "### Retrieve your IBM Cloud API key\n",
    "\n",
    "1.\tFrom the IBM Cloud toolbar, click your Account name, such as <Your user name>’s Account.\n",
    "1.\tFrom the Manage menu, click Access (IAM).\n",
    "1.\tIn the navigation bar, click IBM Cloud API keys.\n",
    "1.\tClick the Create an IBM Cloud API key button.\n",
    "1.\tType a name and description and then click Save.\n",
    "1.\tCopy the newly created API key and paste it into your notebook in the following **CLOUD_API_KEY** code box, which is the first code box.\n",
    "\n",
    "    Note: replace everything between the two sets of double quotation marks (\")."
   ]
  },
  {
   "cell_type": "code",
   "execution_count": null,
   "metadata": {},
   "outputs": [],
   "source": [
    "CLOUD_API_KEY = \"XXXX\"\n",
    "IAM_URL=\"https://iam.ng.bluemix.net/oidc/token\""
   ]
  },
  {
   "cell_type": "markdown",
   "metadata": {},
   "source": [
    "### Create the OpenScale SDK Client instance"
   ]
  },
  {
   "cell_type": "code",
   "execution_count": null,
   "metadata": {},
   "outputs": [],
   "source": [
    "from ibm_cloud_sdk_core.authenticators import IAMAuthenticator\n",
    "from ibm_watson_openscale import APIClient\n",
    "\n",
    "service_credentials = {\n",
    "    \"apikey\": CLOUD_API_KEY,\n",
    "    \"url\": \"https://api.aiopenscale.cloud.ibm.com\"\n",
    "}\n",
    "\n",
    "authenticator = IAMAuthenticator(apikey=service_credentials['apikey'])\n",
    "\n",
    "wos_client = APIClient(authenticator=authenticator)\n",
    "wos_client.version"
   ]
  },
  {
   "cell_type": "markdown",
   "metadata": {},
   "source": [
    "### Listing the datamarts"
   ]
  },
  {
   "cell_type": "code",
   "execution_count": null,
   "metadata": {},
   "outputs": [],
   "source": [
    "wos_client.data_marts.show()"
   ]
  },
  {
   "cell_type": "markdown",
   "metadata": {},
   "source": [
    "### Find the data mart to use"
   ]
  },
  {
   "cell_type": "code",
   "execution_count": null,
   "metadata": {},
   "outputs": [],
   "source": [
    "data_marts = wos_client.data_marts.list().result.data_marts\n",
    "if len(data_marts) == 0:\n",
    "    if DB_CREDENTIALS is not None:\n",
    "        if SCHEMA_NAME is None: \n",
    "            print(\"Please specify the SCHEMA_NAME and rerun the cell\")\n",
    "\n",
    "        print(\"Setting up external datamart\")\n",
    "        added_data_mart_result = wos_client.data_marts.add(\n",
    "                background_mode=False,\n",
    "                name=\"WOS Data Mart\",\n",
    "                description=\"Data Mart created by WOS tutorial notebook\",\n",
    "                database_configuration=DatabaseConfigurationRequest(\n",
    "                  database_type=DatabaseType.POSTGRESQL,\n",
    "                    credentials=PrimaryStorageCredentialsLong(\n",
    "                        hostname=DB_CREDENTIALS[\"connection\"][\"postgres\"][\"hosts\"][0][\"hostname\"],\n",
    "                        username=DB_CREDENTIALS[\"connection\"][\"postgres\"][\"authentication\"][\"username\"],\n",
    "                        password=DB_CREDENTIALS[\"connection\"][\"postgres\"][\"authentication\"][\"password\"],\n",
    "                        db=DB_CREDENTIALS[\"connection\"][\"postgres\"][\"database\"],\n",
    "                        port=DB_CREDENTIALS[\"connection\"][\"postgres\"][\"hosts\"][0][\"port\"],\n",
    "                        ssl=True,\n",
    "                        sslmode=DB_CREDENTIALS[\"connection\"][\"postgres\"][\"query_options\"][\"sslmode\"],\n",
    "                        certificate_base64=DB_CREDENTIALS[\"connection\"][\"postgres\"][\"certificate\"][\"certificate_base64\"]\n",
    "                    ),\n",
    "                    location=LocationSchemaName(\n",
    "                        schema_name= SCHEMA_NAME\n",
    "                    )\n",
    "                )\n",
    "             ).result\n",
    "    else:\n",
    "        print(\"Setting up internal datamart\")\n",
    "        added_data_mart_result = wos_client.data_marts.add(\n",
    "                background_mode=False,\n",
    "                name=\"WOS Data Mart\",\n",
    "                description=\"Data Mart created by WOS tutorial notebook\", \n",
    "                internal_database = True).result\n",
    "        \n",
    "    data_mart_id = added_data_mart_result.metadata.id\n",
    "    \n",
    "else:\n",
    "    data_mart_id=data_marts[0].metadata.id\n",
    "    print(\"Using existing datamart {}\".format(data_mart_id))"
   ]
  },
  {
   "cell_type": "markdown",
   "metadata": {},
   "source": [
    "### List the subscriptions and find the specific subscription to use for this notebook"
   ]
  },
  {
   "cell_type": "code",
   "execution_count": null,
   "metadata": {},
   "outputs": [],
   "source": [
    "wos_client.subscriptions.show()"
   ]
  },
  {
   "cell_type": "markdown",
   "metadata": {},
   "source": [
    "### Select the subscription whose metrics are to be published to OpenPages and replace <subscription_id> below"
   ]
  },
  {
   "cell_type": "code",
   "execution_count": null,
   "metadata": {},
   "outputs": [],
   "source": [
    "subscription_id = \"<subscription_id>\""
   ]
  },
  {
   "cell_type": "markdown",
   "metadata": {},
   "source": [
    "### Let's print the subscription details"
   ]
  },
  {
   "cell_type": "code",
   "execution_count": null,
   "metadata": {},
   "outputs": [],
   "source": [
    "print(wos_client.subscriptions.get(subscription_id = subscription_id).result)"
   ]
  },
  {
   "cell_type": "markdown",
   "metadata": {},
   "source": [
    "### List all monitor instances"
   ]
  },
  {
   "cell_type": "code",
   "execution_count": null,
   "metadata": {},
   "outputs": [],
   "source": [
    "monitor_instances = wos_client.monitor_instances.list(target_target_id=subscription_id).result.monitor_instances\n",
    "monitor_instance_id = None\n",
    "for monitor_instance in monitor_instances:\n",
    "    monitor_def_id = monitor_instance.entity.monitor_definition_id\n",
    "    print(monitor_def_id + ' instance id: ' + monitor_instance.metadata.id)\n",
    "    if monitor_def_id == 'mrm':\n",
    "        monitor_instance_id = monitor_instance.metadata.id    "
   ]
  },
  {
   "cell_type": "markdown",
   "metadata": {},
   "source": [
    "### MRM metrics for the selected subscription below"
   ]
  },
  {
   "cell_type": "code",
   "execution_count": null,
   "metadata": {},
   "outputs": [],
   "source": [
    "wos_client.monitor_instances.show_metrics(monitor_instance_id=monitor_instance_id)"
   ]
  },
  {
   "cell_type": "markdown",
   "metadata": {},
   "source": [
    "### Instructions on how to obtain OpenPages metric IDs associated with an OpenPages model\n",
    "\n",
    "There are two ways to obtain the OpenPages metric IDs for a particular OpenPages model:\n",
    "\n",
    "1. UI Route:\n",
    "\n",
    "\n",
    "- To get the ID of a particular metric, go to OpenPages model UI and choose a metric under the 'OpenScale Metrics' section. \n",
    "- The Metric ID is the number at the end of the URL. For example, for the URL of the form '.../grc/task-view/7779', `7779` is the metric ID.\n",
    "- Check the Metric description. The OpenScale metric name is the one under single quotes. For example, for the description `Watson OpenScale drift metric for 'data_drift_magnitude'`, the OpenScale metric here is `data_drift_magnitude`.\n",
    "\n",
    "\n",
    "2. The API route is described in the next cell."
   ]
  },
  {
   "cell_type": "code",
   "execution_count": null,
   "metadata": {},
   "outputs": [],
   "source": [
    "# The method below fetches all the Metric IDs associated with the provided OpenPages model using OpenPages APIs. \n",
    "# The method definition is: get_all_metrics_for_model(model_name, openpages_url, username, password)\n",
    "\n",
    "# Method definition below --\n",
    "\n",
    "import requests\n",
    "import base64\n",
    "import json\n",
    "\n",
    "def get_all_metrics_for_model(model_name, openpages_url, username, password):\n",
    "    \n",
    "    openpages_url = openpages_url.rstrip(\"/\") + \"/grc/api/query\"\n",
    "    \n",
    "    # Prepare authorization token\n",
    "    token = base64.b64encode(bytes('{0}:{1}'.format(username, password), 'utf-8')).decode(\"ascii\")\n",
    "    \n",
    "    header = {\n",
    "        \"Content-Type\": \"application/json\",\n",
    "        \"Accept\": \"application/json\",\n",
    "        \"Authorization\": \"Basic {0}\".format(token)\n",
    "    }\n",
    "    \n",
    "    # Prepare post payload\n",
    "    get_id_payload = {\n",
    "        \"statement\": \"SELECT [Model].[Resource ID] FROM [Model] WHERE [Model].[Name]='{0}'\".format(model_name),\n",
    "        \"skipCount\": 0\n",
    "    }\n",
    "    \n",
    "    print(\"Sending request to fetch model ID given model name\")\n",
    "    \n",
    "    response = requests.post(openpages_url, json=get_id_payload, headers=header).json()\n",
    "    \n",
    "    model_id = None\n",
    "    if response is not None:\n",
    "        if response.get(\"rows\") is not None:\n",
    "            rows = response.get(\"rows\")\n",
    "            if len(rows) != 0:\n",
    "                fields = rows[0].get(\"fields\")\n",
    "                if fields is not None:\n",
    "                    field = fields.get(\"field\")\n",
    "                    if len(field) != 0:\n",
    "                        model_id = field[0][\"value\"]\n",
    "                        \n",
    "    if model_id is None:\n",
    "        print(\"Model ID not found.\")\n",
    "        print(\"--------------------------------------------------------------------------\")\n",
    "        return {}\n",
    "    \n",
    "    print(\"Model ID fetched: \" + model_id)\n",
    "    print(\"--------------------------------------------------------------------------\")\n",
    "    \n",
    "    # Fetch the metric IDs with the description for the OpenPages model\n",
    "    get_metrics_payload = {\n",
    "        \"statement\": \"SELECT [Metric].[Resource ID], [Metric].[Description] FROM [Model] JOIN [Metric] ON PARENT([Model]) WHERE [Model].[Resource ID]='{0}' AND [Metric].[MRG-Metric-Shared:Metric Type]='Watson OpenScale'\".format(model_id),\n",
    "        \"skipCount\": 0\n",
    "    }\n",
    "    \n",
    "    metric_description_id_mapping = {}\n",
    "    \n",
    "    print(\"Sending request to fetch all metrics associated with the model.\")\n",
    "    \n",
    "    response = requests.post(openpages_url, json=get_metrics_payload, headers=header).json()\n",
    "    metric_id_list = []\n",
    "    metric_description_list = []\n",
    "    \n",
    "    if response is not None:\n",
    "        if response.get(\"rows\") is not None:\n",
    "            rows = response.get(\"rows\")\n",
    "            if len(rows) != 0:\n",
    "                for i in range(len(rows)):\n",
    "                    fields = rows[i].get(\"fields\")\n",
    "                    if fields is not None:\n",
    "                        field = fields.get(\"field\")\n",
    "                        for val in field:\n",
    "                            value = val.get(\"value\")\n",
    "                            if val.get(\"name\") == \"Resource ID\":\n",
    "                                metric_id_list.append(value)\n",
    "                            else:\n",
    "                                metric_description_list.append(value)\n",
    "        \n",
    "    metric_description_id_mapping = {description:id for description, id in zip(metric_description_list, metric_id_list)}\n",
    "    print(\"Fetched all metrics\")\n",
    "    print(\"--------------------------------------------------------------------------\")\n",
    "    \n",
    "    return metric_description_id_mapping"
   ]
  },
  {
   "cell_type": "code",
   "execution_count": null,
   "metadata": {},
   "outputs": [],
   "source": [
    "# The method definition is: get_all_metrics_for_model(model_name, openpages_url, username, password)\n",
    "# Please replace 'openpages_model_name', 'openpages_url', 'username', 'password' below appropriately.\n",
    "# Example <openpages_model_name>: 'MOD_0000096'\n",
    "# Example <openpages_url>: 'https://softlayer-dev1.op-ibm.com'\n",
    "# If the response is an empty dictionary, please re-check the attributes specified.\n",
    "# ----------------------------------------------------------------------------------------------------\n",
    "\n",
    "openpages_model_name = \"MOD_XXXXXX\"\n",
    "openpages_url = \"XXXX\"\n",
    "username = \"XXX\"\n",
    "password = \"XXX\"\n",
    "\n",
    "openpages_metric_to_id_mapping = get_all_metrics_for_model(openpages_model_name, openpages_url, username, password)\n",
    "\n",
    "print(json.dumps(openpages_metric_to_id_mapping, indent=1))"
   ]
  },
  {
   "cell_type": "markdown",
   "metadata": {},
   "source": [
    "### Method to fetch all available OpenPages metric values for the metric above"
   ]
  },
  {
   "cell_type": "code",
   "execution_count": null,
   "metadata": {},
   "outputs": [],
   "source": [
    "# The method below fetches all the Metric values associated with a particular metric ---\n",
    "\n",
    "def get_metric_values_for_a_metric(openpages_metric_id, openpages_url, username, password):\n",
    "    openpages_url = openpages_url.rstrip(\"/\") + \"/grc/api/query\"\n",
    "    \n",
    "    # Prepare authorization token\n",
    "    token = base64.b64encode(bytes('{0}:{1}'.format(username, password), 'utf-8')).decode(\"ascii\")\n",
    "    \n",
    "    header = {\n",
    "        \"Content-Type\": \"application/json\",\n",
    "        \"Accept\": \"application/json\",\n",
    "        \"Authorization\": \"Basic {0}\".format(token)\n",
    "    }\n",
    "    \n",
    "    # Prepare post payload\n",
    "    get_id_payload = {\n",
    "        \"statement\": \"SELECT [MetricValue].[Name], [MetricValue].[Description] FROM [Metric] JOIN [MetricValue] ON PARENT([Metric]) WHERE [Metric].[Resource ID]='{0}'\".format(openpages_metric_id),\n",
    "        \"skipCount\": 0\n",
    "    }\n",
    "    \n",
    "    print(\"Sending request to fetch metric values\")\n",
    "    \n",
    "    response = requests.post(openpages_url, json=get_id_payload, headers=header).json()\n",
    "    \n",
    "    metric_value_name_list = []\n",
    "    metric_value_description_list = []\n",
    "    if response is not None:\n",
    "        if response.get(\"rows\") is not None:\n",
    "            rows = response.get(\"rows\")\n",
    "            if len(rows) != 0:\n",
    "                for i in range(len(rows)):\n",
    "                    fields = rows[i].get(\"fields\")\n",
    "                    if fields is not None:\n",
    "                        field = fields.get(\"field\")\n",
    "                        for val in field:\n",
    "                            value = val.get(\"value\")\n",
    "                            if val.get(\"name\") == \"Name\":\n",
    "                                metric_value_name_list.append(value)\n",
    "                            else:\n",
    "                                metric_value_description_list.append(value)\n",
    "                                \n",
    "    print(\"Fetched all metric values for the provided metric\")\n",
    "    print(\"--------------------------------------------------------------------------\")\n",
    "                        \n",
    "    return zip(metric_value_name_list, metric_value_description_list)"
   ]
  },
  {
   "cell_type": "code",
   "execution_count": null,
   "metadata": {},
   "outputs": [],
   "source": [
    "# Check if there are any existing metric value for a metric before mapping:\n",
    "\n",
    "openpages_metric_id = '<openpages_metric_id>'\n",
    "metric_values = get_metric_values_for_a_metric(openpages_metric_id, openpages_url, username, password)\n",
    "print(str(list(metric_values)))"
   ]
  },
  {
   "cell_type": "markdown",
   "metadata": {},
   "source": [
    "### Sample JSON which shows the selection of metrics to be sent and their mapping to OpenPages metrics.\n",
    "\n",
    "The json is of the form:\n",
    "```\n",
    "{\n",
    "  \"metrics\": [\n",
    "    {\n",
    "      \"type\": \"quality\",\n",
    "      \"measures\": [\n",
    "        \"recall\"\n",
    "      ],\n",
    "\t\"integrated_metrics\": [{\n",
    "\t\t\"integrated_system_type\": \"open_pages\",\n",
    "\t\t\"mapped_metrics\": [{\n",
    "\t\t\t\t\"internal_metric_id\": \"recall\",\n",
    "\t\t\t\t\"external_metric_id\": \"13758\"\n",
    "\t\t\t}]\n",
    "\t}],\n",
    "  \"send_report\": false\n",
    "}]}\n",
    "```\n",
    "\n",
    "- `'integrated_metrics'` is an optional attribute. \n",
    "- The `'internal_metric_id'` is the OpenScale metric name (for example 'Age') and the `'external_metric_id'` is the metric ID of the metric already existing in the integrated system which the user wants to map to an OpenScale metric (for example '7789').\n",
    "- Only those metrics are sent to OpenPages for which the user has decided the mapping."
   ]
  },
  {
   "cell_type": "markdown",
   "metadata": {},
   "source": [
    "### Call the MRM Send to OpenPages API\n",
    "\n",
    "Note: Please initiate an MRM evaluation if not done already "
   ]
  },
  {
   "cell_type": "markdown",
   "metadata": {},
   "source": [
    "### Get the IAM token"
   ]
  },
  {
   "cell_type": "code",
   "execution_count": null,
   "metadata": {},
   "outputs": [],
   "source": [
    "# Generate the bearer token \n",
    "get_bearer_token_header = {\n",
    "    \"Content-Type\": \"application/x-www-form-urlencoded\",\n",
    "    \"Accept\": \"application/json\"\n",
    "}\n",
    "\n",
    "params = {\n",
    "    \"grant_type\": \"urn:ibm:params:oauth:grant-type:apikey\",\n",
    "    \"apikey\": CLOUD_API_KEY\n",
    "}\n",
    "\n",
    "print(\"Generating bearer token.....\")\n",
    "bearer_token = requests.post(\"https://iam.ng.bluemix.net/oidc/token\", \n",
    "                             headers=get_bearer_token_header, params=params).json()[\"access_token\"]\n",
    "print(\"Generated bearer token successfully.\")"
   ]
  },
  {
   "cell_type": "code",
   "execution_count": null,
   "metadata": {},
   "outputs": [],
   "source": [
    "## Fetch a measurement and fetch monitor_instance_id and run_id for the monitor run from the measurement\n",
    "header = {\n",
    "    \"Content-Type\": \"application/json\",\n",
    "    \"Accept\": \"application/json\",\n",
    "    \"Authorization\": \"Bearer {0}\".format(bearer_token)\n",
    "}\n",
    "\n",
    "print(\"Fetching MRM measurement....\")\n",
    "\n",
    "get_measurements_endpoint = 'https://api.aiopenscale.cloud.ibm.com/openscale/' + \\\n",
    "                data_mart_id + '/v2/measurements?target_id=' + subscription_id + \\\n",
    "                '&target_type=subscription&monitor_definition_id=mrm&recent_count=1&format=full'\n",
    "\n",
    "get_measurements_response = requests.get(get_measurements_endpoint, headers=header).json()\n",
    "measurements = get_measurements_response[\"measurements\"]\n",
    "\n",
    "if len(measurements) == 0:\n",
    "    print(\"MRM evaluation has not completed.\")\n",
    "    print(\"--------------------------------------\")\n",
    "else:\n",
    "    print(\"Fetched MRM measurement successfully.\")\n",
    "    print(\"--------------------------------------\")\n",
    "    measurement = measurements[0]\n",
    "    monitor_instance_id = measurement[\"entity\"][\"monitor_instance_id\"]\n",
    "    monitor_run_id = measurement[\"entity\"][\"run_id\"]\n",
    "    \n",
    "    print(\"Monitor instance ID fetched: \" + monitor_instance_id)\n",
    "    print(\"Monitor run ID fetched: \" + monitor_run_id)\n",
    "    \n",
    "    post_payload = {\n",
    "      \"metrics\": [{\n",
    "          \"type\": \"quality\",\n",
    "          \"measures\": [\n",
    "            \"recall\"\n",
    "          ],\n",
    "        \"integrated_metrics\": [{\n",
    "            \"integrated_system_type\": \"open_pages\",\n",
    "            \"mapped_metrics\": [{\n",
    "                    \"internal_metric_id\": \"recall\",\n",
    "                    \"external_metric_id\": openpages_metric_id\n",
    "                }]\n",
    "        }],\n",
    "      \"send_report\": False\n",
    "    }]}\n",
    "\n",
    "    # Send metrics to openpages\n",
    "    print(\"Sending metrics to OpenPages\")    \n",
    "    \n",
    "    send_to_op_endpoint = \"https://api.aiopenscale.cloud.ibm.com/openscale/\" + data_mart_id + \\\n",
    "            \"/v2/monitoring_services/mrm/monitor_instances/\" + monitor_instance_id + \\\n",
    "            \"/runs/\" + monitor_run_id + \"/integrated_system_metrics\"\n",
    "    \n",
    "    send_to_op_response = requests.put(send_to_op_endpoint, json=post_payload, headers=header).json()\n",
    "    \n",
    "    print(\"Sent metrics to OpenPages successfully.\")\n",
    "    print(\"--------------------------------------\")"
   ]
  },
  {
   "cell_type": "code",
   "execution_count": null,
   "metadata": {},
   "outputs": [],
   "source": [
    "# Wait for couple of seconds to make sure the metrics are indeed send to OpenPages and query and list them.\n",
    "\n",
    "metric_values = get_metric_values_for_a_metric(openpages_metric_id, openpages_url, username, password)\n",
    "print(str(list(metric_values)))"
   ]
  },
  {
   "cell_type": "markdown",
   "metadata": {},
   "source": [
    "As it can be seen, the OpenPages metric value has been created for the mapped OpenPages metric"
   ]
  }
 ],
 "metadata": {
  "kernelspec": {
   "display_name": "Python 3.9",
   "language": "python",
   "name": "python3"
  },
  "language_info": {
   "codemirror_mode": {
    "name": "ipython",
    "version": 3
   },
   "file_extension": ".py",
   "mimetype": "text/x-python",
   "name": "python",
   "nbconvert_exporter": "python",
   "pygments_lexer": "ipython3",
   "version": "3.9.7"
  },
  "varInspector": {
   "cols": {
    "lenName": 16,
    "lenType": 16,
    "lenVar": 40
   },
   "kernels_config": {
    "python": {
     "delete_cmd_postfix": "",
     "delete_cmd_prefix": "del ",
     "library": "var_list.py",
     "varRefreshCmd": "print(var_dic_list())"
    },
    "r": {
     "delete_cmd_postfix": ") ",
     "delete_cmd_prefix": "rm(",
     "library": "var_list.r",
     "varRefreshCmd": "cat(var_dic_list()) "
    }
   },
   "types_to_exclude": [
    "module",
    "function",
    "builtin_function_or_method",
    "instance",
    "_Feature"
   ],
   "window_display": false
  }
 },
 "nbformat": 4,
 "nbformat_minor": 2
}
