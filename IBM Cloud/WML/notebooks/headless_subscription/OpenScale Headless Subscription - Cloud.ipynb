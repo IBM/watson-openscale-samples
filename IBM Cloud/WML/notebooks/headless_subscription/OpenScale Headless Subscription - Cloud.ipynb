{
 "cells": [
  {
   "cell_type": "markdown",
   "id": "0603aaf9-1e3d-4e21-a48a-4afbe9d6fd8b",
   "metadata": {},
   "source": [
    "<img src=\"https://github.com/pmservice/ai-openscale-tutorials/raw/master/notebooks/images/banner.png\" align=\"left\" alt=\"banner\">"
   ]
  },
  {
   "cell_type": "markdown",
   "id": "86ec7a2f-da7e-4c7d-918e-5e705b85fc63",
   "metadata": {},
   "source": [
    "This notebook should be run using with **Python 3.10** runtime environment. \n",
    "\n",
    "It requires service credentials for the following services:\n",
    "  * Watson OpenScale\n",
    "  \n",
    "# OpenScale Headless Subscription\n",
    "\n",
    "## Motivation\n",
    "For security restrictions, or air gap deployment reasons, or firewall restrictions, some Customers are unwilling to expose their Machine Learning model scoring endpoint for external applications like OpenScale for monitoring purposes. The other use is in case of Batch Scoring models, where the scoring happens asynchronously, OpenScale does not have access to the scoring end point. But customers are looking for measuring the performance of their models by logging the payload data and feedback data to OpenScale data mart and thereby configure and evaluate the OpenScale monitors against this data.\n",
    "\n",
    "## Solution\n",
    "The solution is, with OpenScale, the customers can create a custom ML provider with an empty deployment URL, and there by configure an headless subscription by describing the payload data, followed by logging the payload data and configuring the monitors.\n",
    "\n",
    "## Workflow\n",
    "The notebook will configure OpenScale with a Headless subscription, where it showcases the following aspects related to Batch Scoring Models:\n",
    "\n",
    "* Get hold of the training data and create a Pandas dataframe against it.\n",
    "* Using the Training Statistics Generation API from OpenScale SDK to generate the training statistics.\n",
    "* Create an OpenScale Headless susbcription by including the generated training statistics.\n",
    "* Get hold of the output of the batch scoring model, and transform it in the format that OpenScale payload logging API understands.\n",
    "     * This is the important step for customers who are using batch scoring models and wants to use OpenScale for monitoring the scored data.\n",
    "     * The motivation here is, the batch scoring can happen in any scoring environment. All the OpenScale needs is, fetch the scored data, transform it such that OpenScale understands and log it.\n",
    "* Log the payload data by calling the OpenScale DataSets API.\n",
    "* Configure Explain Monitor, and generate an explanation on a transaction that is randomly selected from the logged payload data.\n",
    "* Configure Fairness Monitor, and perform bias checking on the logged payload data.\n",
    "* Log scored label data for performing quality monitor analysis.\n",
    "* Configure Quality Monitor and run the quality monitor evaluation.\n",
    "* Generate the Drift Archive using the training data, following by configuring the Drift monitor\n",
    "* Run Drift evaluation."
   ]
  },
  {
   "cell_type": "markdown",
   "id": "34c13032-c75c-4157-a799-2911818b5e5c",
   "metadata": {},
   "source": [
    "# Setup <a name=\"setup\"></a>"
   ]
  },
  {
   "cell_type": "markdown",
   "id": "5916e43e-6202-4be8-bfb2-13cfde4cf05d",
   "metadata": {},
   "source": [
    "## Package installation"
   ]
  },
  {
   "cell_type": "code",
   "execution_count": null,
   "id": "211b20b9-80b0-4118-8c09-e541f82f66dc",
   "metadata": {},
   "outputs": [],
   "source": [
    "!pip install --upgrade ibm-watson-machine-learning --user | tail -n 1\n",
    "!pip install --upgrade ibm-watson-openscale --no-cache | tail -n 1\n",
    "!pip install --upgrade ibm-metrics-plugin --no-cache | tail -n 1"
   ]
  },
  {
   "cell_type": "markdown",
   "id": "0fdaf73d-6bc5-4d0e-96ac-6e56c338ea88",
   "metadata": {},
   "source": [
    "### Action: restart the kernel!"
   ]
  },
  {
   "cell_type": "code",
   "execution_count": null,
   "id": "1407645c-81ed-4cac-9e71-24c1c7c2d3f3",
   "metadata": {},
   "outputs": [],
   "source": [
    "import warnings\n",
    "warnings.filterwarnings('ignore')"
   ]
  },
  {
   "cell_type": "markdown",
   "id": "20609aaf-b49f-450e-825c-25214386ed17",
   "metadata": {},
   "source": [
    "## Configure credentials"
   ]
  },
  {
   "cell_type": "code",
   "execution_count": null,
   "id": "241f553b-9a4f-403a-af89-394ef852f7fb",
   "metadata": {},
   "outputs": [],
   "source": [
    "CLOUD_API_KEY = \"<Incldue your user API Key here>\"\n",
    "IAM_URL=\"https://iam.ng.bluemix.net/oidc/token\""
   ]
  },
  {
   "cell_type": "code",
   "execution_count": null,
   "id": "0d7bda7a-376e-496e-bcb4-a17846ce2dde",
   "metadata": {},
   "outputs": [],
   "source": [
    "#masked\n",
    "WML_CREDENTIALS = {\n",
    "    \"url\": \"https://us-south.ml.cloud.ibm.com\",\n",
    "    \"apikey\": CLOUD_API_KEY\n",
    "}"
   ]
  },
  {
   "cell_type": "markdown",
   "id": "360af99c-cae7-4e75-9dc0-139bf10cb384",
   "metadata": {},
   "source": [
    "Here, this notebook uses a credit risk model deployment in WML. This can be replaced with the scoring engine of your choice, but make sure the scoring response is in the format that OpenScale understands for monitor processing."
   ]
  },
  {
   "cell_type": "code",
   "execution_count": null,
   "id": "2e0e34d6-6d30-4fbe-b272-8aef1e81acea",
   "metadata": {},
   "outputs": [],
   "source": [
    "import json\n",
    "from ibm_watson_machine_learning import APIClient\n",
    "\n",
    "wml_client = APIClient(WML_CREDENTIALS)\n",
    "wml_client.version"
   ]
  },
  {
   "cell_type": "code",
   "execution_count": null,
   "id": "877fb763-6c3d-457e-aba7-0f9314d21baf",
   "metadata": {},
   "outputs": [],
   "source": [
    "wml_client.spaces.list(limit=10)"
   ]
  },
  {
   "cell_type": "code",
   "execution_count": null,
   "id": "6be5c7af-ae43-409f-94f5-28f97b4bd8d3",
   "metadata": {},
   "outputs": [],
   "source": [
    "space_uid = '<Include the space id>'\n",
    "wml_client.set.default_space(space_uid)"
   ]
  },
  {
   "cell_type": "code",
   "execution_count": null,
   "id": "73a228f5-b4f0-442b-bec8-8df0f4f7740b",
   "metadata": {},
   "outputs": [],
   "source": [
    "deployments_list = wml_client.deployments.get_details()\n",
    "for deployment in deployments_list[\"resources\"]:\n",
    "    deployment_uid = deployment[\"metadata\"][\"id\"]\n",
    "    deployment_name = deployment[\"entity\"][\"name\"]\n",
    "    print(deployment_name + ' : ' + deployment_uid)"
   ]
  },
  {
   "cell_type": "code",
   "execution_count": null,
   "id": "b5fc47c1-9d9d-4261-a321-db21fddd5611",
   "metadata": {},
   "outputs": [],
   "source": [
    "deployment_uid = '<Include the deployment id>'"
   ]
  },
  {
   "cell_type": "markdown",
   "id": "f75731df-dbf6-4ea2-ab17-4b8f7253e2f6",
   "metadata": {},
   "source": [
    "### Get the training data"
   ]
  },
  {
   "cell_type": "code",
   "execution_count": null,
   "id": "0cda7889-e10e-4579-9677-a41f73ac7a46",
   "metadata": {},
   "outputs": [],
   "source": [
    "!rm german_credit_data_biased_training.csv\n",
    "!wget https://raw.githubusercontent.com/pmservice/ai-openscale-tutorials/master/assets/historical_data/german_credit_risk/wml/german_credit_data_biased_training.csv"
   ]
  },
  {
   "cell_type": "code",
   "execution_count": null,
   "id": "b70e1f28-41df-4771-8446-2c69a2f4e629",
   "metadata": {},
   "outputs": [],
   "source": [
    "import pandas as pd\n",
    "data_df=pd.read_csv (\"german_credit_data_biased_training.csv\")\n",
    "data_df.head()"
   ]
  },
  {
   "cell_type": "code",
   "execution_count": null,
   "id": "93c1b683-d2bf-4966-b198-fdb24dd0aa12",
   "metadata": {},
   "outputs": [],
   "source": [
    "feature_columns=[\"CheckingStatus\",\"LoanDuration\",\"CreditHistory\",\"LoanPurpose\",\"LoanAmount\",\"ExistingSavings\",\"EmploymentDuration\",\"InstallmentPercent\",\"Sex\",\"OthersOnLoan\",\"CurrentResidenceDuration\",\"OwnsProperty\",\"Age\",\"InstallmentPlans\",\"Housing\",\"ExistingCreditsCount\",\"Job\",\"Dependents\",\"Telephone\",\"ForeignWorker\"]\n",
    "cat_features=[\"CheckingStatus\",\"CreditHistory\",\"LoanPurpose\",\"ExistingSavings\",\"EmploymentDuration\",\"Sex\",\"OthersOnLoan\",\"OwnsProperty\",\"InstallmentPlans\",\"Housing\",\"Job\",\"Telephone\",\"ForeignWorker\"]\n",
    "class_label = \"Risk\"\n",
    "prediction_column = \"predictedLabel\"\n",
    "probability_column = \"probability\""
   ]
  },
  {
   "cell_type": "markdown",
   "id": "02ed7e40-24cf-49e8-b40f-a6b1a603854f",
   "metadata": {},
   "source": [
    "# Generate the common configuration archive"
   ]
  },
  {
   "cell_type": "code",
   "execution_count": null,
   "id": "8e12f3a8-0dad-4a20-8437-9b7446feece7",
   "metadata": {},
   "outputs": [],
   "source": [
    "VERSION = \"6.0.0\"\n",
    "\n",
    "common_parameters = {\n",
    "    \"problem_type\" : \"binary\", \n",
    "    \"input_data_type\": \"structured\",\n",
    "    \"label_column\": class_label,\n",
    "    \"probability_column\": probability_column,\n",
    "    \"prediction_column\": prediction_column,\n",
    "    \"feature_columns\": feature_columns,\n",
    "    \"categorical_columns\": cat_features,\n",
    "    \"enable_quality\": False,\n",
    "    \"enable_fairness\": False,\n",
    "    \"enable_explainability\": True,\n",
    "    \"enable_drift_v2\": True,\n",
    "    \"enable_drift\": False,\n",
    "    \"notebook_version\": VERSION\n",
    "}\n",
    "\n",
    "fairness_parameters = None\n",
    "drift_v2_parameters = {\n",
    "    \"advanced_controls\": {\n",
    "        \"enable_model_quality_drift\": False\n",
    "    }\n",
    "}\n",
    "\n",
    "# Uncomment the below if you want to generate LIME global explanation\n",
    "# Score function is mandatory to be specified to generate the LIME global explanation\n",
    "'''explainability_parameters = {\n",
    "    \"global_explanation\": {\n",
    "        \"enabled\": True,\n",
    "        \"sample_size\": 50, # the sample size of the records to be considered for computing payload global explanation\n",
    "        \"explanation_method\": \"lime\" \n",
    "    }\n",
    "}'''\n",
    "\n",
    "explainability_parameters = None\n",
    "\n",
    "score = None"
   ]
  },
  {
   "cell_type": "markdown",
   "id": "deeb7029-698e-4db8-9dad-3f7ae48a958e",
   "metadata": {},
   "source": [
    "## [Optional] Score Function\n",
    "\n",
    "This is required if you are configuring :\n",
    "- Explainability (for computing LIME global explanation)\n",
    "\n",
    "Please update the score function which will be used to generate explainability archive. \n",
    "\n",
    "The output of the score function should be a 2 arrays :\n",
    "1. Array of probabilities\n",
    "2. Array of model prediction\n",
    "\n",
    "\n",
    "Please note:\n",
    "- User is expected to make sure that the data type of the \"class label\" column selected and the prediction column are same. For eg : If class label is numeric, the prediction array should also be numeric\n",
    "- Each entry of a probability array should have all the probabilities of the unique class label .\n",
    "  For eg: If the model_type=multiclass and unique class labels are A, B, C, D . Each entry in the probability array should be a array of size 4 . Eg : [ [0.50,0.30,0.10,0.10] ,[0.40,0.20,0.30,0.10]...]\n",
    "- **Please update the score function below**"
   ]
  },
  {
   "cell_type": "code",
   "execution_count": null,
   "id": "d0a6bb54-9e7f-45f2-ac64-b014206a396b",
   "metadata": {},
   "outputs": [],
   "source": [
    "def score(training_data_frame):\n",
    "      \n",
    "    #The data type of the label column and prediction column should be same .\n",
    "    #User needs to make sure that label column and prediction column array should have the same unique class labels\n",
    "    \n",
    "    feature_columns = list(training_data_frame.columns)\n",
    "    if class_label in feature_columns:\n",
    "        feature_columns.remove(class_label)\n",
    "    training_data_rows = training_data_frame[feature_columns].values.tolist()\n",
    "    \n",
    "    payload_scoring = {\n",
    "      wml_client.deployments.ScoringMetaNames.INPUT_DATA: [{\n",
    "           \"fields\": feature_columns,\n",
    "           \"values\": [x for x in training_data_rows]\n",
    "      }]\n",
    "    }\n",
    "\n",
    "    score = wml_client.deployments.score(deployment_uid, payload_scoring)\n",
    "    score_predictions = score.get('predictions')[0]\n",
    "\n",
    "    prob_col_index = list(score_predictions.get('fields')).index(probability_column)\n",
    "    predict_col_index = list(score_predictions.get('fields')).index(prediction_column)\n",
    "\n",
    "    if prob_col_index < 0 or predict_col_index < 0:\n",
    "        raise Exception(\"Missing prediction/probability column in the scoring response\")\n",
    "\n",
    "    import numpy as np\n",
    "    probability_array = np.array([value[prob_col_index] for value in score_predictions.get('values')])\n",
    "    prediction_vector = np.array([value[predict_col_index] for value in score_predictions.get('values')])\n",
    "\n",
    "    return probability_array, prediction_vector"
   ]
  },
  {
   "cell_type": "code",
   "execution_count": null,
   "id": "ecd84001-5fb0-4958-a395-f8e418a09646",
   "metadata": {},
   "outputs": [],
   "source": [
    "from ibm_watson_openscale.utils.configuration_utility import ConfigurationUtility\n",
    "\n",
    "config_util = ConfigurationUtility(\n",
    "    training_data=data_df,\n",
    "    common_parameters=common_parameters,\n",
    "    scoring_fn=score)\n",
    "\n",
    "config_util.create_configuration_package(\n",
    "    explainability_parameters=explainability_parameters if \"explainability_parameters\" in locals() else None,\n",
    "    drift_v2_parameters=drift_v2_parameters if \"drift_v2_parameters\" in locals() else None,\n",
    "    fairness_parameters=fairness_parameters if \"fairness_parameters\" in locals() else None,\n",
    "    display_link=True)"
   ]
  },
  {
   "cell_type": "markdown",
   "id": "0069199e-145b-4213-8d8c-45af085707d2",
   "metadata": {},
   "source": [
    "Download the common configuration package using the link provided above. In the next cell, we will unpack the common configuration archive and extract the files from it. "
   ]
  },
  {
   "cell_type": "code",
   "execution_count": null,
   "id": "a22bba8b-d175-4cd3-8b91-3bfbd4f2acc5",
   "metadata": {},
   "outputs": [],
   "source": [
    "import tarfile\n",
    "\n",
    "# Download \"configuration_archive.tar.gz\" from project to local directory and \n",
    "# extract the artifacts\n",
    "# from ibm_watson_studio_lib import access_project_or_space\n",
    "# wslib = access_project_or_space()\n",
    "# wslib.download_file(\"configuration_archive.tar.gz\")\n",
    "\n",
    "archive_file_path = \"configuration_archive.tar.gz\"\n",
    "with tarfile.open(archive_file_path, \"r:gz\") as tar:\n",
    "    tar.extractall('.')\n",
    "    \n",
    "# On unpacking the configuration archive, the files [common_configuration.json, drift_v2_archive.tar.gz, \n",
    "# explainability.tar.gz] will be extracted to the current directory. \n",
    "# Output may differ depending on which monitors were enabled while running the \n",
    "# common configuration notebook"
   ]
  },
  {
   "cell_type": "markdown",
   "id": "ef7597bb-6b7d-4768-8d72-1199e107c1b0",
   "metadata": {},
   "source": [
    "### This JSON contains the training statistics"
   ]
  },
  {
   "cell_type": "code",
   "execution_count": null,
   "id": "b417c09c-8e2e-48c8-8232-241ade36d15f",
   "metadata": {},
   "outputs": [],
   "source": [
    "config_json = config_util.training_stats\n",
    "config_json"
   ]
  },
  {
   "cell_type": "markdown",
   "id": "72d44841-abc5-4e95-9466-f80dab69fbb1",
   "metadata": {},
   "source": [
    "# Configure OpenScale \n",
    "\n",
    "The notebook will now import the necessary libraries and set up a Python OpenScale client."
   ]
  },
  {
   "cell_type": "code",
   "execution_count": null,
   "id": "ff9191ef-702f-4f6e-aea7-537f98f17894",
   "metadata": {},
   "outputs": [],
   "source": [
    "from ibm_watson_openscale import APIClient\n",
    "from ibm_watson_openscale.utils import *\n",
    "from ibm_watson_openscale.supporting_classes import *\n",
    "from ibm_watson_openscale.supporting_classes.enums import *\n",
    "from ibm_watson_openscale.base_classes.watson_open_scale_v2 import *\n",
    "from ibm_cloud_sdk_core.authenticators import IAMAuthenticator,BearerTokenAuthenticator\n",
    "\n",
    "import json\n",
    "import requests\n",
    "import base64\n",
    "from requests.auth import HTTPBasicAuth\n",
    "import time"
   ]
  },
  {
   "cell_type": "markdown",
   "id": "cd19555f-bfe6-4a14-80a8-84abb44a609a",
   "metadata": {},
   "source": [
    "## Get a instance of the OpenScale SDK client"
   ]
  },
  {
   "cell_type": "code",
   "execution_count": null,
   "id": "a2185057-c1e3-44e3-9e72-1e41fc8c645f",
   "metadata": {},
   "outputs": [],
   "source": [
    "authenticator = IAMAuthenticator(apikey=CLOUD_API_KEY)\n",
    "wos_client = APIClient(authenticator=authenticator)\n",
    "wos_client.version"
   ]
  },
  {
   "cell_type": "markdown",
   "id": "4f67303f-4504-4674-99b0-e82813264cb4",
   "metadata": {},
   "source": [
    "## OpenScale DataMart\n",
    "\n",
    "Watson OpenScale uses a database to store payload and feedback logs and calculated metrics. Here we are using already configured data mart in IBM Cloud."
   ]
  },
  {
   "cell_type": "code",
   "execution_count": null,
   "id": "a10c8be6-65de-4199-b5f3-29a81d79e092",
   "metadata": {},
   "outputs": [],
   "source": [
    "wos_client.data_marts.show()"
   ]
  },
  {
   "cell_type": "code",
   "execution_count": null,
   "id": "0179f3e3-0939-40df-aee1-1ec13715d6f6",
   "metadata": {},
   "outputs": [],
   "source": [
    "data_marts = wos_client.data_marts.list().result.data_marts\n",
    "data_mart_id=data_marts[0].metadata.id\n",
    "print('Using existing datamart {}'.format(data_mart_id))"
   ]
  },
  {
   "cell_type": "code",
   "execution_count": null,
   "id": "21250227-9fd3-48f2-b80a-d3890cd0f9a7",
   "metadata": {},
   "outputs": [],
   "source": [
    "data_mart_details = wos_client.data_marts.list().result.data_marts[0]\n",
    "data_mart_details.to_dict()"
   ]
  },
  {
   "cell_type": "code",
   "execution_count": null,
   "id": "667ccb5f-44a8-41c5-85d9-e99d8af0e766",
   "metadata": {},
   "outputs": [],
   "source": [
    "wos_client.service_providers.show()"
   ]
  },
  {
   "cell_type": "markdown",
   "id": "af390aa9-a0f0-4dac-9078-657c273aaebd",
   "metadata": {},
   "source": [
    "## Remove existing service provider\n",
    "\n",
    "Multiple service providers for the same engine instance are avaiable in Watson OpenScale. To avoid multiple service providers of used WML instance in the tutorial notebook the following code deletes existing service provder(s) and then adds new one."
   ]
  },
  {
   "cell_type": "code",
   "execution_count": null,
   "id": "392503d8-2ab7-4271-9019-46ea9dad8c61",
   "metadata": {},
   "outputs": [],
   "source": [
    "SERVICE_PROVIDER_NAME = \"OpenScale Headless Service Provider\"\n",
    "SERVICE_PROVIDER_DESCRIPTION = \"Added by tutorial WOS notebook to showcase Headless Subscription functionality.\""
   ]
  },
  {
   "cell_type": "code",
   "execution_count": null,
   "id": "1c0fd3b7-f730-46de-9376-b79bd77b701e",
   "metadata": {},
   "outputs": [],
   "source": [
    "service_providers = wos_client.service_providers.list().result.service_providers\n",
    "for service_provider in service_providers:\n",
    "    service_instance_name = service_provider.entity.name\n",
    "    if service_instance_name == SERVICE_PROVIDER_NAME:\n",
    "        service_provider_id = service_provider.metadata.id\n",
    "        wos_client.service_providers.delete(service_provider_id)\n",
    "        print(\"Deleted existing service_provider for WML instance: {}\".format(service_provider_id))"
   ]
  },
  {
   "cell_type": "markdown",
   "id": "8282e01a-0fef-4f58-9f69-6b280466a8d2",
   "metadata": {},
   "source": [
    "## Add service provider\n",
    "\n",
    "Watson OpenScale needs to be bound to the Watson Machine Learning instance to capture payload data into and out of the model.\n",
    "\n",
    "Note: Here the service provider is created with empty credentials, meaning no endpoint. Just to demonstrate the use case were we don't need an actual end point serving requests."
   ]
  },
  {
   "cell_type": "code",
   "execution_count": null,
   "id": "7fa215ae-df7f-490b-8ab9-89e4d149d4fd",
   "metadata": {},
   "outputs": [],
   "source": [
    "MLCredentials = {}\n",
    "added_service_provider_result = wos_client.service_providers.add(\n",
    "        name=SERVICE_PROVIDER_NAME,\n",
    "        description=SERVICE_PROVIDER_DESCRIPTION,\n",
    "        service_type=ServiceTypes.CUSTOM_MACHINE_LEARNING,\n",
    "        operational_space_id = \"production\",\n",
    "        credentials=MLCredentials,\n",
    "        background_mode=False\n",
    "    ).result\n",
    "service_provider_id = added_service_provider_result.metadata.id"
   ]
  },
  {
   "cell_type": "code",
   "execution_count": null,
   "id": "80d825ce-9c33-4edb-bc25-f12ba77b6a3a",
   "metadata": {},
   "outputs": [],
   "source": [
    "print(wos_client.service_providers.get(service_provider_id).result)"
   ]
  },
  {
   "cell_type": "markdown",
   "id": "fcb3b669-2c55-4208-88b9-5933559d7fab",
   "metadata": {},
   "source": [
    "## Subscriptions"
   ]
  },
  {
   "cell_type": "markdown",
   "id": "499a53eb-bd6e-4089-a86a-362bb793a415",
   "metadata": {},
   "source": [
    "Remove existing credit risk subscriptions\n",
    "\n",
    "This code removes previous subscriptions to the model to refresh the monitors with the new model and new data."
   ]
  },
  {
   "cell_type": "code",
   "execution_count": null,
   "id": "c3f43500-880c-46e7-a1da-4c60d9bddc82",
   "metadata": {},
   "outputs": [],
   "source": [
    "wos_client.subscriptions.show()"
   ]
  },
  {
   "cell_type": "markdown",
   "id": "b65fc5d0-9a0d-41aa-9fb2-7ed9553004ac",
   "metadata": {},
   "source": [
    "## Remove the existing subscription"
   ]
  },
  {
   "cell_type": "code",
   "execution_count": null,
   "id": "5340e31c-d961-416b-a387-111d488e9964",
   "metadata": {},
   "outputs": [],
   "source": [
    "SUBSCRIPTION_NAME = \"GCR Headless Subscription\""
   ]
  },
  {
   "cell_type": "code",
   "execution_count": null,
   "id": "4251e78b-5191-42a9-a748-09294a744ac6",
   "metadata": {},
   "outputs": [],
   "source": [
    "subscriptions = wos_client.subscriptions.list().result.subscriptions\n",
    "for subscription in subscriptions:\n",
    "    if subscription.entity.asset.name == '[asset] ' + SUBSCRIPTION_NAME:\n",
    "        sub_model_id = subscription.metadata.id\n",
    "        wos_client.subscriptions.delete(subscription.metadata.id)\n",
    "        print('Deleted existing subscription for model', sub_model_id)"
   ]
  },
  {
   "cell_type": "markdown",
   "id": "1aa0c2c0-bf99-4544-a6b0-f6faab0fb8e9",
   "metadata": {},
   "source": [
    "This code creates the model subscription in OpenScale using the Python client API. Note that we need to provide the model unique identifier, and some information about the model itself."
   ]
  },
  {
   "cell_type": "code",
   "execution_count": null,
   "id": "825fe033-b9cd-4e05-bbab-862a098a6911",
   "metadata": {},
   "outputs": [],
   "source": [
    "print(\"Data Mart ID: \" + data_mart_id)\n",
    "print(\"Service Provide ID: \" + service_provider_id)\n",
    "import uuid\n",
    "asset_id = str(uuid.uuid4())\n",
    "asset_name = '[asset] ' + SUBSCRIPTION_NAME\n",
    "url = None\n",
    "\n",
    "asset_deployment_id = str(uuid.uuid4())\n",
    "asset_deployment_name = asset_name"
   ]
  },
  {
   "cell_type": "code",
   "execution_count": null,
   "id": "d811b528-2f95-4f43-a1ca-ee3e26471fe0",
   "metadata": {},
   "outputs": [],
   "source": [
    "prediction_column = prediction_column\n",
    "probability_columns = [probability_column]\n",
    "predicted_target_column = prediction_column\n",
    "subscription_details = wos_client.subscriptions.add(data_mart_id,\n",
    "    service_provider_id,\n",
    "    asset=Asset(\n",
    "        asset_id=asset_id,\n",
    "        name=asset_name,\n",
    "        url=url,\n",
    "        asset_type=AssetTypes.MODEL,\n",
    "        input_data_type=InputDataType.STRUCTURED,\n",
    "        problem_type=ProblemType.BINARY_CLASSIFICATION\n",
    "    ),\n",
    "    deployment=None,    \n",
    "    training_data_stats=config_json,\n",
    "    prediction_field = prediction_column,\n",
    "    predicted_target_field = predicted_target_column,\n",
    "    probability_fields = probability_columns,\n",
    "    background_mode = False,\n",
    "    deployment_name = asset_name\n",
    "    ).result\n",
    "\n",
    "subscription_id = subscription_details.metadata.id\n",
    "print(\"Subscription id {}\".format(subscription_id))"
   ]
  },
  {
   "cell_type": "code",
   "execution_count": null,
   "id": "247d5f82-0c0f-4547-9554-15f6bd301a65",
   "metadata": {},
   "outputs": [],
   "source": [
    "wos_client.subscriptions.get(subscription_id).result.to_dict()"
   ]
  },
  {
   "cell_type": "markdown",
   "id": "fe2c4afe-13c0-4871-999d-e717eb080378",
   "metadata": {},
   "source": [
    "### The following code fetches the data set id, against which we would be performing the payload logging"
   ]
  },
  {
   "cell_type": "code",
   "execution_count": null,
   "id": "1ba6b0cb-0dbe-4e57-9fa7-af888669b4f2",
   "metadata": {},
   "outputs": [],
   "source": [
    "import time\n",
    "\n",
    "time.sleep(5)\n",
    "payload_data_set_id = None\n",
    "payload_data_set_id = wos_client.data_sets.list(type=DataSetTypes.PAYLOAD_LOGGING, \n",
    "                                                target_target_id=subscription_id, \n",
    "                                                target_target_type=TargetTypes.SUBSCRIPTION).result.data_sets[0].metadata.id\n",
    "if payload_data_set_id is None:\n",
    "    print(\"Payload data set not found. Please check subscription status.\")\n",
    "else:\n",
    "    print(\"Payload data set id:\", payload_data_set_id)"
   ]
  },
  {
   "cell_type": "markdown",
   "id": "18969325-3772-49ca-9954-ade1d66b6b14",
   "metadata": {},
   "source": [
    "## Push a payload record to setup the required schemas in the subscription\n",
    "\n",
    "This is the location where one needs to fetch the output of the batch scoring model and construct the payload as per the OpenScale Payload Logging format.\n",
    "\n",
    "Note : No scoring is done against the model. The PayloadRecord is constructed with the request and response from the model/deployment."
   ]
  },
  {
   "cell_type": "markdown",
   "id": "ca8848d4-d72e-4022-b15a-7314bde8d401",
   "metadata": {},
   "source": [
    "## Scoring Request Payload"
   ]
  },
  {
   "cell_type": "code",
   "execution_count": null,
   "id": "cbad8703-e250-453d-9e23-a0cfa7cbcf06",
   "metadata": {},
   "outputs": [],
   "source": [
    "scoring_request =   {\n",
    "        \"fields\": [\n",
    "            \"CheckingStatus\",\n",
    "            \"LoanDuration\",\n",
    "            \"CreditHistory\",\n",
    "            \"LoanPurpose\",\n",
    "            \"LoanAmount\",\n",
    "            \"ExistingSavings\",\n",
    "            \"EmploymentDuration\",\n",
    "            \"InstallmentPercent\",\n",
    "            \"Sex\",\n",
    "            \"OthersOnLoan\",\n",
    "            \"CurrentResidenceDuration\",\n",
    "            \"OwnsProperty\",\n",
    "            \"Age\",\n",
    "            \"InstallmentPlans\",\n",
    "            \"Housing\",\n",
    "            \"ExistingCreditsCount\",\n",
    "            \"Job\",\n",
    "            \"Dependents\",\n",
    "            \"Telephone\",\n",
    "            \"ForeignWorker\",\n",
    "            \"Risk\"\n",
    "        ],\n",
    "        \"values\": [\n",
    "            [\n",
    "                \"no_checking\",\n",
    "                28,\n",
    "                \"outstanding_credit\",\n",
    "                \"appliances\",\n",
    "                5990,\n",
    "                \"500_to_1000\",\n",
    "                \"greater_7\",\n",
    "                5,\n",
    "                \"male\",\n",
    "                \"co-applicant\",\n",
    "                3,\n",
    "                \"car_other\",\n",
    "                55,\n",
    "                \"none\",\n",
    "                \"free\",\n",
    "                2,\n",
    "                \"skilled\",\n",
    "                2,\n",
    "                \"yes\",\n",
    "                \"yes\",\n",
    "                \"Risk\"\n",
    "            ],\n",
    "            [\n",
    "                \"greater_200\",\n",
    "                22,\n",
    "                \"all_credits_paid_back\",\n",
    "                \"car_used\",\n",
    "                3376,\n",
    "                \"less_100\",\n",
    "                \"less_1\",\n",
    "                3,\n",
    "                \"female\",\n",
    "                \"none\",\n",
    "                2,\n",
    "                \"car_other\",\n",
    "                32,\n",
    "                \"none\",\n",
    "                \"own\",\n",
    "                1,\n",
    "                \"skilled\",\n",
    "                1,\n",
    "                \"none\",\n",
    "                \"yes\",\n",
    "                \"No Risk\"\n",
    "            ],\n",
    "            [\n",
    "                \"no_checking\",\n",
    "                39,\n",
    "                \"credits_paid_to_date\",\n",
    "                \"vacation\",\n",
    "                6434,\n",
    "                \"unknown\",\n",
    "                \"greater_7\",\n",
    "                5,\n",
    "                \"male\",\n",
    "                \"none\",\n",
    "                4,\n",
    "                \"car_other\",\n",
    "                39,\n",
    "                \"none\",\n",
    "                \"own\",\n",
    "                2,\n",
    "                \"skilled\",\n",
    "                2,\n",
    "                \"yes\",\n",
    "                \"yes\",\n",
    "                \"Risk\"\n",
    "            ],\n",
    "            [\n",
    "                \"0_to_200\",\n",
    "                20,\n",
    "                \"credits_paid_to_date\",\n",
    "                \"furniture\",\n",
    "                2442,\n",
    "                \"less_100\",\n",
    "                \"unemployed\",\n",
    "                3,\n",
    "                \"female\",\n",
    "                \"none\",\n",
    "                1,\n",
    "                \"real_estate\",\n",
    "                42,\n",
    "                \"none\",\n",
    "                \"own\",\n",
    "                1,\n",
    "                \"skilled\",\n",
    "                1,\n",
    "                \"none\",\n",
    "                \"yes\",\n",
    "                \"No Risk\"\n",
    "            ],\n",
    "            [\n",
    "                \"greater_200\",\n",
    "                4,\n",
    "                \"all_credits_paid_back\",\n",
    "                \"education\",\n",
    "                4206,\n",
    "                \"less_100\",\n",
    "                \"unemployed\",\n",
    "                1,\n",
    "                \"female\",\n",
    "                \"none\",\n",
    "                3,\n",
    "                \"savings_insurance\",\n",
    "                27,\n",
    "                \"none\",\n",
    "                \"own\",\n",
    "                1,\n",
    "                \"management_self-employed\",\n",
    "                1,\n",
    "                \"none\",\n",
    "                \"yes\",\n",
    "                \"No Risk\"\n",
    "            ],\n",
    "            [\n",
    "                \"greater_200\",\n",
    "                23,\n",
    "                \"credits_paid_to_date\",\n",
    "                \"car_used\",\n",
    "                2963,\n",
    "                \"greater_1000\",\n",
    "                \"greater_7\",\n",
    "                4,\n",
    "                \"male\",\n",
    "                \"none\",\n",
    "                4,\n",
    "                \"car_other\",\n",
    "                46,\n",
    "                \"none\",\n",
    "                \"own\",\n",
    "                2,\n",
    "                \"skilled\",\n",
    "                1,\n",
    "                \"none\",\n",
    "                \"yes\",\n",
    "                \"Risk\"\n",
    "            ],\n",
    "            [\n",
    "                \"no_checking\",\n",
    "                31,\n",
    "                \"prior_payments_delayed\",\n",
    "                \"vacation\",\n",
    "                2673,\n",
    "                \"500_to_1000\",\n",
    "                \"1_to_4\",\n",
    "                3,\n",
    "                \"male\",\n",
    "                \"none\",\n",
    "                2,\n",
    "                \"real_estate\",\n",
    "                35,\n",
    "                \"stores\",\n",
    "                \"rent\",\n",
    "                1,\n",
    "                \"skilled\",\n",
    "                2,\n",
    "                \"none\",\n",
    "                \"yes\",\n",
    "                \"Risk\"\n",
    "            ],\n",
    "            [\n",
    "                \"no_checking\",\n",
    "                37,\n",
    "                \"prior_payments_delayed\",\n",
    "                \"other\",\n",
    "                6971,\n",
    "                \"500_to_1000\",\n",
    "                \"1_to_4\",\n",
    "                3,\n",
    "                \"male\",\n",
    "                \"none\",\n",
    "                3,\n",
    "                \"savings_insurance\",\n",
    "                54,\n",
    "                \"none\",\n",
    "                \"own\",\n",
    "                2,\n",
    "                \"skilled\",\n",
    "                1,\n",
    "                \"yes\",\n",
    "                \"yes\",\n",
    "                \"Risk\"\n",
    "            ],\n",
    "            [\n",
    "                \"no_checking\",\n",
    "                14,\n",
    "                \"all_credits_paid_back\",\n",
    "                \"car_new\",\n",
    "                1525,\n",
    "                \"500_to_1000\",\n",
    "                \"4_to_7\",\n",
    "                3,\n",
    "                \"male\",\n",
    "                \"none\",\n",
    "                4,\n",
    "                \"real_estate\",\n",
    "                33,\n",
    "                \"none\",\n",
    "                \"own\",\n",
    "                1,\n",
    "                \"skilled\",\n",
    "                1,\n",
    "                \"none\",\n",
    "                \"yes\",\n",
    "                \"No Risk\"\n",
    "            ],\n",
    "            [\n",
    "                \"less_0\",\n",
    "                10,\n",
    "                \"prior_payments_delayed\",\n",
    "                \"furniture\",\n",
    "                4037,\n",
    "                \"less_100\",\n",
    "                \"4_to_7\",\n",
    "                3,\n",
    "                \"male\",\n",
    "                \"none\",\n",
    "                3,\n",
    "                \"savings_insurance\",\n",
    "                31,\n",
    "                \"none\",\n",
    "                \"rent\",\n",
    "                1,\n",
    "                \"skilled\",\n",
    "                1,\n",
    "                \"none\",\n",
    "                \"yes\",\n",
    "                \"Risk\"\n",
    "            ]\n",
    "        ]\n",
    "    }"
   ]
  },
  {
   "cell_type": "markdown",
   "id": "40ca942c-35b9-4aea-8a79-4b16f849598c",
   "metadata": {},
   "source": [
    "## Scoring Response Payload"
   ]
  },
  {
   "cell_type": "code",
   "execution_count": null,
   "id": "d7d035af-1efd-4502-a896-833ec64319f7",
   "metadata": {},
   "outputs": [],
   "source": [
    "scoring_response = {\n",
    "    \"predictions\": [\n",
    "        {\n",
    "            \"fields\": [\n",
    "                \"prediction\",\n",
    "                \"probability\"\n",
    "            ],\n",
    "            \"values\": [\n",
    "                [\n",
    "                    \"Risk\",\n",
    "                    [\n",
    "                        0.104642951112211,\n",
    "                        0.895357048887789\n",
    "                    ]\n",
    "                ],\n",
    "                [\n",
    "                    \"No Risk\",\n",
    "                    [\n",
    "                        0.892112895920181,\n",
    "                        0.10788710407981907\n",
    "                    ]\n",
    "                ],\n",
    "                [\n",
    "                    \"Risk\",\n",
    "                    [\n",
    "                        0.4863177905287259,\n",
    "                        0.5136822094712741\n",
    "                    ]\n",
    "                ],\n",
    "                [\n",
    "                    \"No Risk\",\n",
    "                    [\n",
    "                        0.980811537315731,\n",
    "                        0.01918846268426898\n",
    "                    ]\n",
    "                ],\n",
    "                [\n",
    "                    \"No Risk\",\n",
    "                    [\n",
    "                        0.9053052561083984,\n",
    "                        0.09469474389160164\n",
    "                    ]\n",
    "                ],\n",
    "                [\n",
    "                    \"No Risk\",\n",
    "                    [\n",
    "                        0.5315146773053994,\n",
    "                        0.4684853226946007\n",
    "                    ]\n",
    "                ],\n",
    "                [\n",
    "                    \"No Risk\",\n",
    "                    [\n",
    "                        0.7689466209701616,\n",
    "                        0.23105337902983833\n",
    "                    ]\n",
    "                ],\n",
    "                [\n",
    "                    \"Risk\",\n",
    "                    [\n",
    "                        0.41317664143643873,\n",
    "                        0.5868233585635613\n",
    "                    ]\n",
    "                ],\n",
    "                [\n",
    "                    \"No Risk\",\n",
    "                    [\n",
    "                        0.9190247585206522,\n",
    "                        0.08097524147934775\n",
    "                    ]\n",
    "                ],\n",
    "                [\n",
    "                    \"No Risk\",\n",
    "                    [\n",
    "                        0.781841942776921,\n",
    "                        0.21815805722307902\n",
    "                    ]\n",
    "                ]\n",
    "            ]\n",
    "        }\n",
    "    ]\n",
    "}"
   ]
  },
  {
   "cell_type": "markdown",
   "id": "dc0ad53a-5f29-4d37-8a0c-67a5461d3b5c",
   "metadata": {},
   "source": [
    "### Construct the payload using the scoring_request and scoring_response and then log the records"
   ]
  },
  {
   "cell_type": "code",
   "execution_count": null,
   "id": "0aade9d4-ab74-455d-b7fe-eee85f9237a8",
   "metadata": {},
   "outputs": [],
   "source": [
    "from ibm_watson_openscale.supporting_classes.payload_record import PayloadRecord\n",
    "\n",
    "records_list=[]\n",
    "for x in range(10):\n",
    "    pl_record = PayloadRecord(request=scoring_request, response=scoring_response)\n",
    "    records_list.append(pl_record)\n",
    "\n",
    "wos_client.data_sets.store_records(data_set_id=payload_data_set_id, request_body=records_list)"
   ]
  },
  {
   "cell_type": "markdown",
   "id": "522b0c84-ab8c-41b4-98c3-d6bb3318f842",
   "metadata": {},
   "source": [
    "### Make sure the records reached the payload logging table inside the OpenScale DataMart."
   ]
  },
  {
   "cell_type": "code",
   "execution_count": null,
   "id": "e4ae77a2-7132-4dbe-833e-6e1e5fd0cb4b",
   "metadata": {},
   "outputs": [],
   "source": [
    "time.sleep(5)\n",
    "pl_records_count = wos_client.data_sets.get_records_count(payload_data_set_id)\n",
    "print(\"Number of records in the payload logging table: {}\".format(pl_records_count))\n",
    "if pl_records_count == 0:\n",
    "    raise Exception(\"Payload logging did not happen!\")"
   ]
  },
  {
   "cell_type": "markdown",
   "id": "96c10ee5-c4e1-470b-86a5-79255dc6fd55",
   "metadata": {},
   "source": [
    "## Fetch the subscription details to confirm output data schemas are setup"
   ]
  },
  {
   "cell_type": "code",
   "execution_count": null,
   "id": "679716c4-0d42-4933-a298-010f55ed47d3",
   "metadata": {},
   "outputs": [],
   "source": [
    "wos_client.subscriptions.get(subscription_id).result.to_dict()"
   ]
  },
  {
   "cell_type": "markdown",
   "id": "185a8172-18fb-4a35-8084-57310335f9b1",
   "metadata": {},
   "source": [
    "# Explainability Monitor Configuration\n",
    "From the notebook, perform offline scoring against the customer model, create an explain archive and save this archive to data mart.\n",
    "\n",
    "* Only Local explanations and Lime global explanations are supported.\n",
    "* For contrastive explanations, as scoring is needed and because it is headless subscription without any deployment URL, contrastive explanations are not supported."
   ]
  },
  {
   "cell_type": "markdown",
   "id": "001493f4-36b6-4aef-801b-475b1ff4c565",
   "metadata": {},
   "source": [
    "## [Optional] Specify the Explainability Configuration\n",
    "\n",
    "Provide the following explainability configuration to enable LIME global explanation. \n",
    "Set explainability parameters to None if LIME global explanation is not required.\n",
    "\n",
    " - global_explanation: The global explanation parameters.\n",
    "     - enabled: Enable the global explanation.\n",
    "     - sample_size: The sample size of the records to be considered for computing global explanation in the payload window.\n",
    " - lime: The lime explanation parameters\n",
    "     - perturbations_count: The no of perturbations created when generating a local explanation\n",
    " - local_explanation_method: The default local explanation method to be used when generating local explanation."
   ]
  },
  {
   "cell_type": "code",
   "execution_count": null,
   "id": "7f008272-b5a1-4c7d-bccd-33b0abca1b59",
   "metadata": {},
   "outputs": [],
   "source": [
    "'''explainability_parameters = {\n",
    "    \"global_explanation\": {\n",
    "        \"enabled\": True,\n",
    "        \"sample_size\": 50, # the sample size of the records to be considered for computing payload global explanation\n",
    "        \"explanation_method\": \"lime\" \n",
    "    }\n",
    "}'''\n",
    "explainability_parameters = None"
   ]
  },
  {
   "cell_type": "markdown",
   "id": "21d5e7d1-9dd5-4c08-b3a7-096c302b7ffa",
   "metadata": {},
   "source": [
    "### Upload the explain archive generated as part of the common configuration archive to OpenScale data mart"
   ]
  },
  {
   "cell_type": "code",
   "execution_count": null,
   "id": "29910e2f-7ee9-4ca0-bae3-5aeb6ac6d5a5",
   "metadata": {},
   "outputs": [],
   "source": [
    "# Uncomment the below code if you are running the notebook from Watson Studio\n",
    "'''from ibm_watson_studio_lib import access_project_or_space\n",
    "wslib = access_project_or_space()\n",
    "\n",
    "wslib.download_file(\"explainability.tar.gz\")'''\n",
    "\n",
    "# Applicable only when global explanation is enabled\n",
    "\n",
    "with open(\"explainability.tar.gz\", mode=\"rb\") as perturbations_tar:\n",
    "    wos_client.monitor_instances.upload_explainability_archive(subscription_id=subscription_id, archive=perturbations_tar)\n",
    "\n",
    "print(\"Uploaded perturbations scoring response archive successfully.\")"
   ]
  },
  {
   "cell_type": "markdown",
   "id": "0885cb22-3024-49d4-b174-2b354bd306a1",
   "metadata": {},
   "source": [
    "## Enable the Explainability monitor"
   ]
  },
  {
   "cell_type": "code",
   "execution_count": null,
   "id": "1f69f041-37fc-4ca4-8166-2a40c4e1d72c",
   "metadata": {},
   "outputs": [],
   "source": [
    "print(\"Creating monitor instances...\")\n",
    "\n",
    "target = Target(\n",
    "    target_type=TargetTypes.SUBSCRIPTION,\n",
    "    target_id=subscription_id\n",
    ")\n",
    "\n",
    "parameters = {\n",
    "    # Please note that lime global explanation is only supported from CPD 4.6.4\n",
    "     \"global_explanation\":{\n",
    "        \"enabled\": True\n",
    "     },\n",
    "    \"training_statistics\": config_json.get(\"explainability_configuration\")\n",
    "}\n",
    "\n",
    "explain_monitor_details = wos_client.monitor_instances.create(\n",
    "    data_mart_id=data_mart_id,\n",
    "    monitor_definition_id=wos_client.monitor_definitions.MONITORS.EXPLAINABILITY.ID,\n",
    "    target=target,\n",
    "    parameters=parameters\n",
    ").result\n",
    "\n",
    "explain_monitor_instance_id = explain_monitor_details.metadata.id\n",
    "print(explain_monitor_details)"
   ]
  },
  {
   "cell_type": "markdown",
   "id": "6a9ad370-8ff5-4656-a2ec-bc086f8b4e4a",
   "metadata": {},
   "source": [
    "## Check monitor instance status"
   ]
  },
  {
   "cell_type": "code",
   "execution_count": null,
   "id": "4ff0ff91-a30a-4b81-ac52-5b06c3158465",
   "metadata": {},
   "outputs": [],
   "source": [
    "explain_status = None\n",
    "\n",
    "while explain_status not in (\"active\", \"error\"):\n",
    "    monitor_instance_details = wos_client.monitor_instances.get(monitor_instance_id=explain_monitor_instance_id).result\n",
    "    explain_status = monitor_instance_details.entity.status.state\n",
    "    if explain_status not in (\"active\", \"error\"):\n",
    "        print(datetime.utcnow().strftime('%H:%M:%S'), explain_status)\n",
    "        time.sleep(30)\n",
    "\n",
    "print(datetime.utcnow().strftime('%H:%M:%S'), explain_status)\n",
    "monitor_instance_details.to_dict()"
   ]
  },
  {
   "cell_type": "markdown",
   "id": "26f735bc-5cdd-4592-8fd0-369cffcabab6",
   "metadata": {},
   "source": [
    "## Run an on-demand evaluation.\n",
    "### This is applicable only when lime global explanation is enabled."
   ]
  },
  {
   "cell_type": "code",
   "execution_count": null,
   "id": "fa0239b0-c61d-4037-9572-0c23f1aa3d8e",
   "metadata": {},
   "outputs": [],
   "source": [
    "# Trigger on-demand run\n",
    "\n",
    "monitoring_run_details = wos_client.monitor_instances.run(monitor_instance_id=explain_monitor_instance_id).result\n",
    "monitoring_run_id=monitoring_run_details.metadata.id\n",
    "\n",
    "print(monitoring_run_details)"
   ]
  },
  {
   "cell_type": "code",
   "execution_count": null,
   "id": "7de6fd38-f0d4-4e3c-8d18-9af3d4abcde9",
   "metadata": {},
   "outputs": [],
   "source": [
    "# Check run status\n",
    "\n",
    "explainability_run_status = None\n",
    "while explainability_run_status not in (\"finished\", \"error\"):\n",
    "    monitoring_run_details = wos_client.monitor_instances.get_run_details(monitor_instance_id=explain_monitor_instance_id, monitoring_run_id=monitoring_run_id).result\n",
    "    explainability_run_status = monitoring_run_details.entity.status.state\n",
    "    if explainability_run_status not in (\"finished\", \"error\"):\n",
    "        print(datetime.utcnow().strftime(\"%H:%M:%S\"), explainability_run_status)\n",
    "        time.sleep(30)\n",
    "        \n",
    "print(datetime.utcnow().strftime(\"%H:%M:%S\"), explainability_run_status)"
   ]
  },
  {
   "cell_type": "markdown",
   "id": "c99ccc84-43f9-476f-a09a-ca81a767b75a",
   "metadata": {},
   "source": [
    "## Display Explainability metrics"
   ]
  },
  {
   "cell_type": "code",
   "execution_count": null,
   "id": "ebb71d05-40ba-4910-8f8c-9eeb75322ce3",
   "metadata": {},
   "outputs": [],
   "source": [
    "# Applicable only when global explanation is enabled\n",
    "wos_client.monitor_instances.show_metrics(monitor_instance_id=explain_monitor_instance_id)"
   ]
  },
  {
   "cell_type": "markdown",
   "id": "4f810b13-2d0b-4192-b363-5da2841e8815",
   "metadata": {},
   "source": [
    "### Trigger a local explanation."
   ]
  },
  {
   "cell_type": "code",
   "execution_count": null,
   "id": "b5ba886b-2444-4174-914c-5117ca410235",
   "metadata": {},
   "outputs": [],
   "source": [
    "payload_data = wos_client.data_sets.get_list_of_records(data_set_id=payload_data_set_id,output_type='pandas').result\n",
    "explanation_types = [\"lime\"]\n",
    "\n",
    "scoring_ids = payload_data.head(1)['scoring_id'].tolist()\n",
    "result = wos_client.monitor_instances.explanation_tasks(scoring_ids=scoring_ids, explanation_types=explanation_types, subscription_id=subscription_id).result\n",
    "\n",
    "explanation_task_ids=result.metadata.explanation_task_ids\n",
    "explanation_task_ids"
   ]
  },
  {
   "cell_type": "markdown",
   "id": "b115f411-2cf2-46e8-969e-9dd24c05c85b",
   "metadata": {},
   "source": [
    "### Wait for the local explanation to complete."
   ]
  },
  {
   "cell_type": "code",
   "execution_count": null,
   "id": "4abd0e95-b3fb-48e3-b656-3364702df6ae",
   "metadata": {},
   "outputs": [],
   "source": [
    "def finish_explanation_tasks(sample_size = 1):\n",
    "    finished_explanations = []\n",
    "    finished_explanation_task_ids = []\n",
    "    \n",
    "    # Check for the explanation task status for finished status. \n",
    "    # If it is in-progress state, then sleep for some time and check again. \n",
    "    # Perform the same for couple of times, so that all tasks get into finished state.\n",
    "    for i in range(0, 5):\n",
    "        # for each explanation\n",
    "        print('iteration ' + str(i))\n",
    "        \n",
    "        #check status for all explanation tasks\n",
    "        for explanation_task_id in explanation_task_ids:\n",
    "            if explanation_task_id not in finished_explanation_task_ids:\n",
    "                result = wos_client.monitor_instances.get_explanation_tasks(explanation_task_id=explanation_task_id, subscription_id=subscription_id ).result\n",
    "                print(explanation_task_id + ' : ' + result.entity.status.state)\n",
    "                if (result.entity.status.state == 'finished' or result.entity.status.state == 'error') and explanation_task_id not in finished_explanation_task_ids:\n",
    "                    finished_explanation_task_ids.append(explanation_task_id)\n",
    "                    finished_explanations.append(result)\n",
    "\n",
    "\n",
    "        # if there is altest one explanation task that is not yet completed, then sleep for sometime, \n",
    "        # and check for all those tasks, for which explanation is not yet completeed.\n",
    "        \n",
    "        if len(finished_explanation_task_ids) != sample_size:\n",
    "            print('sleeping for some time..')\n",
    "            time.sleep(10)\n",
    "        else:\n",
    "            break\n",
    "                    \n",
    "    return finished_explanations"
   ]
  },
  {
   "cell_type": "markdown",
   "id": "802cf8c5-267a-4471-86d9-0ff1940c7bce",
   "metadata": {},
   "source": [
    "### Find the explain task status"
   ]
  },
  {
   "cell_type": "code",
   "execution_count": null,
   "id": "2fa95e7f-0eda-405e-9fbb-fc201be27a67",
   "metadata": {},
   "outputs": [],
   "source": [
    "finished_explanations = finish_explanation_tasks(1)"
   ]
  },
  {
   "cell_type": "markdown",
   "id": "d12600b1-ccce-4162-9150-8514ce4500d2",
   "metadata": {},
   "source": [
    "## Print explain task output"
   ]
  },
  {
   "cell_type": "code",
   "execution_count": null,
   "id": "9d08a2c2-4311-4b22-986a-1a141d2bcdd1",
   "metadata": {},
   "outputs": [],
   "source": [
    "for result in finished_explanations:\n",
    "    print(result)"
   ]
  },
  {
   "cell_type": "markdown",
   "id": "613f8d2e-b486-4838-b990-909c52bf49ec",
   "metadata": {},
   "source": [
    "# Fairness configuration"
   ]
  },
  {
   "cell_type": "markdown",
   "id": "3ee8de21-88d1-477b-b81e-5286236cc17b",
   "metadata": {},
   "source": [
    "The code below configures fairness monitoring for our model. It turns on monitoring for two features, sex and age. In each case, we must specify:\n",
    "    \n",
    "Which model feature to monitor One or more majority groups, which are values of that feature that we expect to receive a higher percentage of favorable outcomes One or more minority groups, which are values of that feature that we expect to receive a higher percentage of unfavorable outcomes The threshold at which we would like OpenScale to display an alert if the fairness measurement falls below (in this case, 80%) Additionally, we must specify which outcomes from the model are favourable outcomes, and which are unfavourable. We must also provide the number of records OpenScale will use to calculate the fairness score. In this case, OpenScale's fairness monitor will run hourly, but will not calculate a new fairness rating until at least 100 records have been added. Finally, to calculate fairness, OpenScale must perform some calculations on the training data, so we provide the dataframe containing the data."
   ]
  },
  {
   "cell_type": "markdown",
   "id": "b69d9851-bbfe-4535-9fe8-41a6819c3d91",
   "metadata": {},
   "source": [
    "### Create Fairness Monitor Instance"
   ]
  },
  {
   "cell_type": "code",
   "execution_count": null,
   "id": "7dc6d0d9-14a6-4f0d-8bb7-c177942238bb",
   "metadata": {},
   "outputs": [],
   "source": [
    "target = Target(\n",
    "    target_type=TargetTypes.SUBSCRIPTION,\n",
    "    target_id=subscription_id\n",
    "\n",
    ")\n",
    "thresholds = [\n",
    "                {\n",
    "                    \"metric_id\": \"statistical_parity_difference\",\n",
    "                    \"type\": \"lower_limit\",\n",
    "                    \"value\": -0.15\n",
    "                },\n",
    "                {\n",
    "                    \"metric_id\": \"statistical_parity_difference\",\n",
    "                    \"type\": \"upper_limit\",\n",
    "                    \"value\": 0.15\n",
    "                },\n",
    "                {\n",
    "                    \"metric_id\": \"average_odds_difference\",\n",
    "                    \"type\": \"lower_limit\",\n",
    "                    \"value\": -0.15\n",
    "                },\n",
    "                {\n",
    "                    \"metric_id\": \"average_odds_difference\",\n",
    "                    \"type\": \"upper_limit\",\n",
    "                    \"value\": 0.15\n",
    "                },\n",
    "                {\n",
    "                    \"metric_id\": \"average_abs_odds_difference\",\n",
    "                    \"type\": \"lower_limit\",\n",
    "                    \"value\": -0.15\n",
    "                },\n",
    "                {\n",
    "                    \"metric_id\": \"average_abs_odds_difference\",\n",
    "                    \"type\": \"upper_limit\",\n",
    "                    \"value\": 0.15\n",
    "                },\n",
    "                {\n",
    "                    \"metric_id\": \"false_negative_rate_difference\",\n",
    "                    \"type\": \"lower_limit\",\n",
    "                    \"value\": -0.15\n",
    "                },\n",
    "                {\n",
    "                    \"metric_id\": \"false_negative_rate_difference\",\n",
    "                    \"type\": \"upper_limit\",\n",
    "                    \"value\": 0.15\n",
    "                },\n",
    "                {\n",
    "                    \"metric_id\": \"false_positive_rate_difference\",\n",
    "                    \"type\": \"lower_limit\",\n",
    "                    \"value\": -0.15\n",
    "                },\n",
    "                {\n",
    "                    \"metric_id\": \"false_positive_rate_difference\",\n",
    "                    \"type\": \"upper_limit\",\n",
    "                    \"value\": 0.15\n",
    "                },\n",
    "                {\n",
    "                    \"metric_id\": \"false_discovery_rate_difference\",\n",
    "                    \"type\": \"lower_limit\",\n",
    "                    \"value\": -0.15\n",
    "                },\n",
    "                {\n",
    "                    \"metric_id\": \"false_discovery_rate_difference\",\n",
    "                    \"type\": \"upper_limit\",\n",
    "                    \"value\": 0.15\n",
    "                },\n",
    "                {\n",
    "                    \"metric_id\": \"error_rate_difference\",\n",
    "                    \"type\": \"lower_limit\",\n",
    "                    \"value\": -0.15\n",
    "                },\n",
    "                {\n",
    "                    \"metric_id\": \"error_rate_difference\",\n",
    "                    \"type\": \"upper_limit\",\n",
    "                    \"value\": 0.15\n",
    "                },\n",
    "                {\n",
    "                    \"metric_id\": \"false_omission_rate_difference\",\n",
    "                    \"type\": \"lower_limit\",\n",
    "                    \"value\": -0.15\n",
    "                },\n",
    "                {\n",
    "                    \"metric_id\": \"false_omission_rate_difference\",\n",
    "                    \"type\": \"upper_limit\",\n",
    "                    \"value\": 0.15\n",
    "                }\n",
    "            ]\n",
    "parameters = {\n",
    "    \"features\": [\n",
    "        {\n",
    "            \"feature\": \"Sex\",\n",
    "            \"majority\": [\n",
    "                \"male\"\n",
    "            ],\n",
    "            \"metric_ids\": [\n",
    "                \"statistical_parity_difference\",\n",
    "                \"average_odds_difference\",\n",
    "                \"average_abs_odds_difference\",\n",
    "                \"false_negative_rate_difference\",\n",
    "                \"false_positive_rate_difference\",\n",
    "                \"false_discovery_rate_difference\",\n",
    "                \"error_rate_difference\",\n",
    "                \"false_omission_rate_difference\",\n",
    "                \"fairness_value\"\n",
    "            ],\n",
    "            \"minority\": [\n",
    "                \"female\"\n",
    "            ],\n",
    "            \"threshold\": 0.98\n",
    "        },\n",
    "        {\n",
    "            \"feature\": \"Age\",\n",
    "            \"majority\": [\n",
    "                [\n",
    "                    25,\n",
    "                    100\n",
    "                ]\n",
    "            ],\n",
    "            \"metric_ids\": [\n",
    "                \"statistical_parity_difference\",\n",
    "                \"average_odds_difference\",\n",
    "                \"average_abs_odds_difference\",\n",
    "                \"false_negative_rate_difference\",\n",
    "                \"false_positive_rate_difference\",\n",
    "                \"false_discovery_rate_difference\",\n",
    "                \"error_rate_difference\",\n",
    "                \"false_omission_rate_difference\",\n",
    "                \"fairness_value\"\n",
    "            ],\n",
    "            \"minority\": [\n",
    "                [\n",
    "                    18,\n",
    "                    24\n",
    "                ]\n",
    "            ],\n",
    "            \"threshold\": 0.98\n",
    "        }\n",
    "    ],\n",
    "    \"favourable_class\": [\"No Risk\"],\n",
    "    \"unfavourable_class\": [\"Risk\"],\n",
    "    \"min_records\": 100\n",
    "}\n",
    "\n",
    "fairness_monitor_details = wos_client.monitor_instances.create(\n",
    "    data_mart_id=data_mart_id,\n",
    "    background_mode=False,\n",
    "    monitor_definition_id=wos_client.monitor_definitions.MONITORS.FAIRNESS.ID,\n",
    "    target=target,\n",
    "    parameters=parameters,\n",
    "    thresholds=thresholds\n",
    ").result"
   ]
  },
  {
   "cell_type": "code",
   "execution_count": null,
   "id": "34e96edd-f061-4361-92ff-981139138a8f",
   "metadata": {},
   "outputs": [],
   "source": [
    "fairness_monitor_instance_id = fairness_monitor_details.metadata.id\n",
    "fairness_monitor_instance_id"
   ]
  },
  {
   "cell_type": "markdown",
   "id": "8009e354-02cd-4e0b-8127-f62c651f2441",
   "metadata": {},
   "source": [
    "### Get Fairness Monitor Instance"
   ]
  },
  {
   "cell_type": "code",
   "execution_count": null,
   "id": "0eafcc95-f301-4a46-9739-4504b11c71f2",
   "metadata": {},
   "outputs": [],
   "source": [
    "wos_client.monitor_instances.show()"
   ]
  },
  {
   "cell_type": "markdown",
   "id": "428777bd-a50f-45d3-9279-579ef303ed38",
   "metadata": {},
   "source": [
    "### Get run details\n",
    "In case of production subscription, initial monitoring run is triggered internally. Checking its status"
   ]
  },
  {
   "cell_type": "code",
   "execution_count": null,
   "id": "f3c9c14e-a7fa-4072-8daf-0df8085044a0",
   "metadata": {},
   "outputs": [],
   "source": [
    "runs = wos_client.monitor_instances.list_runs(fairness_monitor_instance_id, limit=1).result.to_dict()\n",
    "fairness_monitoring_run_id = runs[\"runs\"][0][\"metadata\"][\"id\"]\n",
    "run_status = None\n",
    "while(run_status not in [\"finished\", \"error\"]):\n",
    "    run_details = wos_client.monitor_instances.get_run_details(fairness_monitor_instance_id, fairness_monitoring_run_id).result.to_dict()\n",
    "    run_status = run_details[\"entity\"][\"status\"][\"state\"]\n",
    "    print('run_status: ', run_status)\n",
    "    if run_status in [\"finished\", \"error\"]:\n",
    "        break\n",
    "    time.sleep(10)"
   ]
  },
  {
   "cell_type": "markdown",
   "id": "2361939d-da34-4333-bf4e-a8f53eaa21a7",
   "metadata": {},
   "source": [
    "### Fairness run output"
   ]
  },
  {
   "cell_type": "code",
   "execution_count": null,
   "id": "069b5c11-6067-44c7-bff9-c6a7d436f04c",
   "metadata": {},
   "outputs": [],
   "source": [
    "wos_client.monitor_instances.get_run_details(fairness_monitor_instance_id, fairness_monitoring_run_id).result.to_dict()"
   ]
  },
  {
   "cell_type": "code",
   "execution_count": null,
   "id": "53d997b7-2e0c-4891-8846-617c205867fa",
   "metadata": {},
   "outputs": [],
   "source": [
    "wos_client.monitor_instances.show_metrics(monitor_instance_id=fairness_monitor_instance_id)"
   ]
  },
  {
   "cell_type": "markdown",
   "id": "f313c51e-33d2-48a0-a2c5-2d64bd23921a",
   "metadata": {},
   "source": [
    "# Quality monitoring and feedback logging"
   ]
  },
  {
   "cell_type": "markdown",
   "id": "5d7f12ee-e9f2-4791-905d-1601cb876f68",
   "metadata": {},
   "source": [
    "## Enable quality monitoring\n",
    "\n",
    "The code below waits ten seconds to allow the payload logging table to be set up before it begins enabling monitors. First, it turns on the quality (accuracy) monitor and sets an alert threshold of 70%. OpenScale will show an alert on the dashboard if the model accuracy measurement (area under the curve, in the case of a binary classifier) falls below this threshold.\n",
    "\n",
    "The second paramater supplied, min_records, specifies the minimum number of feedback records OpenScale needs before it calculates a new measurement. The quality monitor runs hourly, but the accuracy reading in the dashboard will not change until an additional 50 feedback records have been added, via the user interface, the Python client, or the supplied feedback endpoint."
   ]
  },
  {
   "cell_type": "code",
   "execution_count": null,
   "id": "9b3abbb8-cd7c-4861-af17-55557c66e478",
   "metadata": {},
   "outputs": [],
   "source": [
    "import time\n",
    "\n",
    "#time.sleep(10)\n",
    "target = Target(\n",
    "        target_type=TargetTypes.SUBSCRIPTION,\n",
    "        target_id=subscription_id\n",
    ")\n",
    "parameters = {\n",
    "    \"min_feedback_data_size\": 50\n",
    "}\n",
    "thresholds = [\n",
    "                {\n",
    "                    \"metric_id\": \"area_under_roc\",\n",
    "                    \"type\": \"lower_limit\",\n",
    "                    \"value\": .80\n",
    "                }\n",
    "            ]\n",
    "quality_monitor_details = wos_client.monitor_instances.create(\n",
    "    data_mart_id=data_mart_id,\n",
    "    background_mode=False,\n",
    "    monitor_definition_id=wos_client.monitor_definitions.MONITORS.QUALITY.ID,\n",
    "    target=target,\n",
    "    parameters=parameters,\n",
    "    thresholds=thresholds\n",
    ").result"
   ]
  },
  {
   "cell_type": "code",
   "execution_count": null,
   "id": "a9e3e667-6f17-4d96-8daa-49e0956e65cc",
   "metadata": {},
   "outputs": [],
   "source": [
    "quality_monitor_instance_id = quality_monitor_details.metadata.id\n",
    "quality_monitor_instance_id"
   ]
  },
  {
   "cell_type": "markdown",
   "id": "203127bc-68f9-4eb7-978a-1d799b5b6cdb",
   "metadata": {},
   "source": [
    "## Get feedback logging dataset ID"
   ]
  },
  {
   "cell_type": "code",
   "execution_count": null,
   "id": "13ed32ed-d0be-4de6-a33a-6526bbe51449",
   "metadata": {},
   "outputs": [],
   "source": [
    "feedback_dataset_id = None\n",
    "feedback_dataset = wos_client.data_sets.list(type=DataSetTypes.FEEDBACK, \n",
    "                                                target_target_id=subscription_id, \n",
    "                                                target_target_type=TargetTypes.SUBSCRIPTION).result\n",
    "feedback_dataset_id = feedback_dataset.data_sets[0].metadata.id\n",
    "if feedback_dataset_id is None:\n",
    "    print(\"Feedback data set not found. Please check quality monitor status.\")"
   ]
  },
  {
   "cell_type": "code",
   "execution_count": null,
   "id": "74ef7f97-92e2-4581-a682-ffc633db084a",
   "metadata": {},
   "outputs": [],
   "source": [
    "feedback_dataset_id"
   ]
  },
  {
   "cell_type": "code",
   "execution_count": null,
   "id": "6da319a3-74a2-4c62-b1c8-76f9bab70415",
   "metadata": {},
   "outputs": [],
   "source": [
    "feedback_payload = {\n",
    "    \"fields\": [\n",
    "        \"CheckingStatus\",\n",
    "        \"LoanDuration\",\n",
    "        \"CreditHistory\",\n",
    "        \"LoanPurpose\",\n",
    "        \"LoanAmount\",\n",
    "        \"ExistingSavings\",\n",
    "        \"EmploymentDuration\",\n",
    "        \"InstallmentPercent\",\n",
    "        \"Sex\",\n",
    "        \"OthersOnLoan\",\n",
    "        \"CurrentResidenceDuration\",\n",
    "        \"OwnsProperty\",\n",
    "        \"Age\",\n",
    "        \"InstallmentPlans\",\n",
    "        \"Housing\",\n",
    "        \"ExistingCreditsCount\",\n",
    "        \"Job\",\n",
    "        \"Dependents\",\n",
    "        \"Telephone\",\n",
    "        \"ForeignWorker\",\n",
    "        \"Risk\",\n",
    "        \"_original_probability\",\n",
    "        \"_original_prediction\",\n",
    "        \"_debiased_probability\",\n",
    "        \"_debiased_prediction\"        \n",
    "    ],\n",
    "    \"values\": [\n",
    "        [\n",
    "            \"less_0\",\n",
    "            18,\n",
    "            \"credits_paid_to_date\",\n",
    "            \"car_new\",\n",
    "            462,\n",
    "            \"less_100\",\n",
    "            \"1_to_4\",\n",
    "            2,\n",
    "            \"female\",\n",
    "            \"none\",\n",
    "            2,\n",
    "            \"savings_insurance\",\n",
    "            37,\n",
    "            \"stores\",\n",
    "            \"own\",\n",
    "            2,\n",
    "            \"skilled\",\n",
    "            1,\n",
    "            \"none\",\n",
    "            \"yes\",\n",
    "            \"No Risk\",\n",
    "            [\n",
    "                0.767955712021837,\n",
    "                0.23204428797816307\n",
    "            ],\n",
    "            \"Risk\",\n",
    "            [\n",
    "                0.767955712021837,\n",
    "                0.23204428797816307\n",
    "            ],\n",
    "            \"Risk\"\n",
    "        ],\n",
    "        [\n",
    "            \"less_0\",\n",
    "            15,\n",
    "            \"prior_payments_delayed\",\n",
    "            \"furniture\",\n",
    "            250,\n",
    "            \"less_100\",\n",
    "            \"1_to_4\",\n",
    "            2,\n",
    "            \"male\",\n",
    "            \"none\",\n",
    "            3,\n",
    "            \"real_estate\",\n",
    "            28,\n",
    "            \"none\",\n",
    "            \"own\",\n",
    "            2,\n",
    "            \"skilled\",\n",
    "            1,\n",
    "            \"yes\",\n",
    "            \"no\",\n",
    "            \"No Risk\",\n",
    "            [\n",
    "                0.7419002139563244,\n",
    "                0.25809978604367556\n",
    "            ],\n",
    "            \"Risk\",\n",
    "            [\n",
    "                0.767955712021837,\n",
    "                0.23204428797816307\n",
    "            ],\n",
    "            \"Risk\"\n",
    "        ],\n",
    "        [\n",
    "            \"0_to_200\",\n",
    "            28,\n",
    "            \"credits_paid_to_date\",\n",
    "            \"retraining\",\n",
    "            3693,\n",
    "            \"less_100\",\n",
    "            \"greater_7\",\n",
    "            3,\n",
    "            \"male\",\n",
    "            \"none\",\n",
    "            2,\n",
    "            \"savings_insurance\",\n",
    "            32,\n",
    "            \"none\",\n",
    "            \"own\",\n",
    "            1,\n",
    "            \"skilled\",\n",
    "            1,\n",
    "            \"none\",\n",
    "            \"yes\",\n",
    "            \"No Risk\",\n",
    "            [\n",
    "                0.6935080115729353,\n",
    "                0.3064919884270647\n",
    "            ],\n",
    "            \"Risk\",\n",
    "            [\n",
    "                0.8,\n",
    "                0.2\n",
    "            ],\n",
    "            \"Risk\"\n",
    "        ],\n",
    "        [\n",
    "            \"no_checking\",\n",
    "            28,\n",
    "            \"prior_payments_delayed\",\n",
    "            \"education\",\n",
    "            6235,\n",
    "            \"500_to_1000\",\n",
    "            \"greater_7\",\n",
    "            3,\n",
    "            \"male\",\n",
    "            \"none\",\n",
    "            3,\n",
    "            \"unknown\",\n",
    "            57,\n",
    "            \"none\",\n",
    "            \"own\",\n",
    "            2,\n",
    "            \"skilled\",\n",
    "            1,\n",
    "            \"none\",\n",
    "            \"yes\",\n",
    "            \"Risk\",\n",
    "            [\n",
    "                0.331110352092386,\n",
    "                0.668889647907614\n",
    "            ],\n",
    "            \"Risk\",\n",
    "            [\n",
    "                0.9,\n",
    "                0.1\n",
    "            ],\n",
    "            \"Risk\"\n",
    "        ],\n",
    "        [\n",
    "            \"no_checking\",\n",
    "            32,\n",
    "            \"outstanding_credit\",\n",
    "            \"vacation\",\n",
    "            9604,\n",
    "            \"500_to_1000\",\n",
    "            \"greater_7\",\n",
    "            6,\n",
    "            \"male\",\n",
    "            \"co-applicant\",\n",
    "            5,\n",
    "            \"unknown\",\n",
    "            57,\n",
    "            \"none\",\n",
    "            \"free\",\n",
    "            2,\n",
    "            \"skilled\",\n",
    "            2,\n",
    "            \"yes\",\n",
    "            \"yes\",\n",
    "            \"Risk\",\n",
    "            [\n",
    "                0.11270206970758759,\n",
    "                0.8872979302924124\n",
    "            ],\n",
    "            \"Risk\",\n",
    "            [\n",
    "                0.1,\n",
    "                0.9\n",
    "            ],\n",
    "            \"Risk\"\n",
    "        ],\n",
    "        [\n",
    "            \"no_checking\",\n",
    "            9,\n",
    "            \"prior_payments_delayed\",\n",
    "            \"car_new\",\n",
    "            1032,\n",
    "            \"100_to_500\",\n",
    "            \"4_to_7\",\n",
    "            3,\n",
    "            \"male\",\n",
    "            \"none\",\n",
    "            4,\n",
    "            \"savings_insurance\",\n",
    "            41,\n",
    "            \"none\",\n",
    "            \"own\",\n",
    "            1,\n",
    "            \"management_self-employed\",\n",
    "            1,\n",
    "            \"none\",\n",
    "            \"yes\",\n",
    "            \"No Risk\",\n",
    "            [\n",
    "                0.6704819620865308,\n",
    "                0.32951803791346923\n",
    "            ],\n",
    "            \"Risk\",\n",
    "            [\n",
    "                0.767955712021837,\n",
    "                0.23204428797816307\n",
    "            ],\n",
    "            \"Risk\"\n",
    "        ],\n",
    "        [\n",
    "            \"less_0\",\n",
    "            16,\n",
    "            \"credits_paid_to_date\",\n",
    "            \"vacation\",\n",
    "            3109,\n",
    "            \"less_100\",\n",
    "            \"4_to_7\",\n",
    "            3,\n",
    "            \"female\",\n",
    "            \"none\",\n",
    "            1,\n",
    "            \"car_other\",\n",
    "            36,\n",
    "            \"none\",\n",
    "            \"own\",\n",
    "            2,\n",
    "            \"skilled\",\n",
    "            1,\n",
    "            \"none\",\n",
    "            \"yes\",\n",
    "            \"No Risk\",\n",
    "            [\n",
    "                0.6735810290914039,\n",
    "                0.3264189709085961\n",
    "            ],\n",
    "            \"Risk\",\n",
    "            [\n",
    "                0.6,\n",
    "                0.4\n",
    "            ],\n",
    "            \"Risk\"\n",
    "        ],\n",
    "        [\n",
    "            \"0_to_200\",\n",
    "            11,\n",
    "            \"credits_paid_to_date\",\n",
    "            \"car_new\",\n",
    "            4553,\n",
    "            \"less_100\",\n",
    "            \"less_1\",\n",
    "            3,\n",
    "            \"female\",\n",
    "            \"none\",\n",
    "            3,\n",
    "            \"savings_insurance\",\n",
    "            22,\n",
    "            \"none\",\n",
    "            \"own\",\n",
    "            1,\n",
    "            \"management_self-employed\",\n",
    "            1,\n",
    "            \"none\",\n",
    "            \"yes\",\n",
    "            \"No Risk\",\n",
    "            [\n",
    "                0.637964656269084,\n",
    "                0.362035343730916\n",
    "            ],\n",
    "            \"Risk\",\n",
    "            [\n",
    "                0.767955712021837,\n",
    "                0.23204428797816307\n",
    "            ],\n",
    "            \"Risk\"\n",
    "        ],\n",
    "        [\n",
    "            \"no_checking\",\n",
    "            35,\n",
    "            \"outstanding_credit\",\n",
    "            \"appliances\",\n",
    "            7138,\n",
    "            \"500_to_1000\",\n",
    "            \"greater_7\",\n",
    "            5,\n",
    "            \"male\",\n",
    "            \"co-applicant\",\n",
    "            4,\n",
    "            \"unknown\",\n",
    "            49,\n",
    "            \"none\",\n",
    "            \"free\",\n",
    "            2,\n",
    "            \"skilled\",\n",
    "            2,\n",
    "            \"yes\",\n",
    "            \"yes\",\n",
    "            \"Risk\",\n",
    "            [\n",
    "                0.11270206970758759,\n",
    "                0.8872979302924124\n",
    "            ],\n",
    "            \"Risk\",\n",
    "            [\n",
    "                0.767955712021837,\n",
    "                0.23204428797816307\n",
    "            ],\n",
    "            \"Risk\"\n",
    "        ],\n",
    "        [\n",
    "            \"less_0\",\n",
    "            5,\n",
    "            \"all_credits_paid_back\",\n",
    "            \"car_new\",\n",
    "            1523,\n",
    "            \"less_100\",\n",
    "            \"unemployed\",\n",
    "            2,\n",
    "            \"female\",\n",
    "            \"none\",\n",
    "            2,\n",
    "            \"real_estate\",\n",
    "            19,\n",
    "            \"none\",\n",
    "            \"rent\",\n",
    "            1,\n",
    "            \"management_self-employed\",\n",
    "            1,\n",
    "            \"none\",\n",
    "            \"yes\",\n",
    "            \"No Risk\",\n",
    "            [\n",
    "                0.7304597628653227,\n",
    "                0.26954023713467745\n",
    "            ],\n",
    "            \"Risk\",\n",
    "            [\n",
    "                0.767955712021837,\n",
    "                0.23204428797816307\n",
    "            ],\n",
    "            \"Risk\"\n",
    "        ]\n",
    "    ]\n",
    "}"
   ]
  },
  {
   "cell_type": "code",
   "execution_count": null,
   "id": "2a808f3b-7dbc-4887-80be-9645e373ea27",
   "metadata": {},
   "outputs": [],
   "source": [
    "import urllib3, requests, json\n",
    "def generate_access_token():\n",
    "    headers={}\n",
    "    headers[\"Content-Type\"] = \"application/x-www-form-urlencoded\"\n",
    "    headers[\"Accept\"] = \"application/json\"\n",
    "    auth = HTTPBasicAuth(\"bx\", \"bx\")\n",
    "    data = {\n",
    "        \"grant_type\": \"urn:ibm:params:oauth:grant-type:apikey\",\n",
    "        \"apikey\": CLOUD_API_KEY\n",
    "    }\n",
    "    response = requests.post(IAM_URL, data=data, headers=headers, auth=auth)\n",
    "    json_data = response.json()\n",
    "    iam_access_token = json_data['access_token']\n",
    "    return iam_access_token"
   ]
  },
  {
   "cell_type": "code",
   "execution_count": null,
   "id": "27b70052-b786-41d8-be05-384cd74f3c58",
   "metadata": {},
   "outputs": [],
   "source": [
    "headers = {}\n",
    "headers[\"Content-Type\"] = \"application/json\"\n",
    "headers[\"Authorization\"] = \"Bearer {}\".format(generate_access_token())\n",
    "WOS_GUID=data_mart_id"
   ]
  },
  {
   "cell_type": "markdown",
   "id": "040ab671-c1f0-4152-aa1a-d1953cd43bdc",
   "metadata": {},
   "source": [
    "### Store the feedback payload using the data sets API\n",
    "\n",
    "There are two ways OpenScale APIs can be used - a) using OpenScale Python SDK b) using OpenScale REST APIs.\n",
    "\n",
    "For any reason if in the customer environment one cannot use the SDK, then the alternative is to use the REST APIs. The below cell demostrates to invoke one such OpenScale REST API, to log the feedback records to the OpenScale DataMart."
   ]
  },
  {
   "cell_type": "code",
   "execution_count": null,
   "id": "d687a441-dea8-46b9-92b9-fc5475a36a7b",
   "metadata": {},
   "outputs": [],
   "source": [
    "DATASETS_STORE_RECORDS_URL = \"https://api.aiopenscale.cloud.ibm.com/openscale/{0}/v2/data_sets/{1}/records\".format(data_mart_id, feedback_dataset_id)\n",
    "for x in range(10):\n",
    "    response = requests.post(DATASETS_STORE_RECORDS_URL, json=feedback_payload, headers=headers, verify=False)\n",
    "    json_data = response.json()\n",
    "    print(json_data)"
   ]
  },
  {
   "cell_type": "markdown",
   "id": "c2fade41-5ab2-4439-b683-09b37001010c",
   "metadata": {},
   "source": [
    "### Wait for sometime, and make sure the records have reached to data sets related table."
   ]
  },
  {
   "cell_type": "code",
   "execution_count": null,
   "id": "0f34a197-9a92-4aef-af72-a09cddac9e7e",
   "metadata": {},
   "outputs": [],
   "source": [
    "time.sleep(10)\n",
    "DATASETS_STORE_RECORDS_URL = \"https://api.aiopenscale.cloud.ibm.com/openscale/{0}/v2/data_sets/{1}/records?limit={2}&include_total_count={3}\".format(data_mart_id, feedback_dataset_id, 1, \"true\")\n",
    "response = requests.get(DATASETS_STORE_RECORDS_URL, headers=headers, verify=False)\n",
    "json_data = response.json()\n",
    "print(json_data['total_count'])"
   ]
  },
  {
   "cell_type": "markdown",
   "id": "466e7865-8d67-46a6-9f83-8f8040800ea5",
   "metadata": {},
   "source": [
    "## Run Quality Monitor"
   ]
  },
  {
   "cell_type": "code",
   "execution_count": null,
   "id": "f1f3aedc-47cc-406f-abfc-41fbd0040546",
   "metadata": {},
   "outputs": [],
   "source": [
    "run_details = wos_client.monitor_instances.run(monitor_instance_id=quality_monitor_instance_id, background_mode=False).result"
   ]
  },
  {
   "cell_type": "code",
   "execution_count": null,
   "id": "8a2ea579-4fcd-4ef3-9163-da61d066866b",
   "metadata": {},
   "outputs": [],
   "source": [
    "run_details.to_dict()"
   ]
  },
  {
   "cell_type": "code",
   "execution_count": null,
   "id": "814f3723-90a6-446c-8cd5-1ee94ecfb750",
   "metadata": {},
   "outputs": [],
   "source": [
    "wos_client.monitor_instances.show_metrics(monitor_instance_id=quality_monitor_instance_id)"
   ]
  },
  {
   "cell_type": "markdown",
   "id": "6071786e-2db5-4057-964f-b47b9ddc1d0c",
   "metadata": {},
   "source": [
    "# Drift Configuration"
   ]
  },
  {
   "cell_type": "markdown",
   "id": "23c1cb80-f2b1-443f-afa1-ab6e219af314",
   "metadata": {},
   "source": [
    "## Upload the drift detection model archive generated as part of the common configuration archive"
   ]
  },
  {
   "cell_type": "code",
   "execution_count": null,
   "id": "4b050055-f6c9-4388-b6da-3d6d57d8ece3",
   "metadata": {},
   "outputs": [],
   "source": [
    "# Upload the drift archive to the subscription\n",
    "'''from ibm_watson_studio_lib import access_project_or_space\n",
    "wslib = access_project_or_space()\n",
    "\n",
    "wslib.download_file(\"drift_v2_archive.tar.gz\")'''\n",
    "\n",
    "wos_client.monitor_instances.upload_drift_v2_archive(\n",
    "    archive_path=\"drift_v2_archive.tar.gz\",\n",
    "    subscription_id=subscription_id\n",
    ").result"
   ]
  },
  {
   "cell_type": "markdown",
   "id": "478a0c42-a526-4ca9-b708-a89501ee5e89",
   "metadata": {},
   "source": [
    "### Enable the drift monitor"
   ]
  },
  {
   "cell_type": "markdown",
   "id": "ec3f1ed7-eac5-4cf4-a59d-160ce3daa253",
   "metadata": {},
   "source": [
    "In the following code cell, type a path to the drift configuration tar ball."
   ]
  },
  {
   "cell_type": "markdown",
   "id": "f7df7e5c-52dc-4d46-a721-c864189077c7",
   "metadata": {},
   "source": [
    "In the following code cell, default values are set for the drift monitor. You can change the default values by updating the values in the parameters section. The min_samples parameter controls the number of records that triggers the drift monitor to run. The drift_threshold parameter sets the threshold in decimal format for the drift percentage to trigger an alert. The train_drift_model parameter controls whether to re-train the model based on the drift analysis."
   ]
  },
  {
   "cell_type": "code",
   "execution_count": null,
   "id": "76e79871-46db-449f-be9d-645ccffefbb0",
   "metadata": {},
   "outputs": [],
   "source": [
    "import time\n",
    "\n",
    "target = Target(\n",
    "    target_type=TargetTypes.SUBSCRIPTION,\n",
    "    target_id=subscription_id\n",
    ")\n",
    "\n",
    "parameters = {\n",
    "        \"min_samples\": 10,\n",
    "        \"max_samples\": 1000,\n",
    "        \"train_archive\": False\n",
    "    }\n",
    "\n",
    "drift_monitor_details = wos_client.monitor_instances.create(\n",
    "    data_mart_id=data_mart_id,\n",
    "    monitor_definition_id=wos_client.monitor_definitions.MONITORS.DRIFT_V2.ID,\n",
    "    target=target,\n",
    "    parameters=parameters\n",
    ").result\n",
    "\n",
    "drift_monitor_instance_id = drift_monitor_details.metadata.id\n",
    "print(drift_monitor_details)"
   ]
  },
  {
   "cell_type": "markdown",
   "id": "80bad1c2-c6de-4f9d-b98e-71af23c12ae1",
   "metadata": {},
   "source": [
    "## Check monitor instance status"
   ]
  },
  {
   "cell_type": "code",
   "execution_count": null,
   "id": "dd31b168-5db9-4f10-aa31-0a428bffcdec",
   "metadata": {},
   "outputs": [],
   "source": [
    "drift_status = None\n",
    "\n",
    "while drift_status not in (\"active\", \"error\"):\n",
    "    monitor_instance_details = wos_client.monitor_instances.get(monitor_instance_id=drift_monitor_instance_id).result\n",
    "    drift_status = monitor_instance_details.entity.status.state\n",
    "    if drift_status not in (\"active\", \"error\"):\n",
    "        print(datetime.utcnow().strftime('%H:%M:%S'), drift_status)\n",
    "        time.sleep(30)\n",
    "\n",
    "print(datetime.utcnow().strftime('%H:%M:%S'), drift_status)"
   ]
  },
  {
   "cell_type": "code",
   "execution_count": null,
   "id": "bcdfcd9e-0c30-418a-9e51-bb1434b1db7f",
   "metadata": {},
   "outputs": [],
   "source": [
    "monitor_instance_details.to_dict()"
   ]
  },
  {
   "cell_type": "markdown",
   "id": "7fc66298-c964-45e0-9f77-beba32973672",
   "metadata": {},
   "source": [
    "## Run an on-demand evaluation"
   ]
  },
  {
   "cell_type": "code",
   "execution_count": null,
   "id": "5d608067-da4e-48e7-86b7-43de7728c6a0",
   "metadata": {},
   "outputs": [],
   "source": [
    "# Check Drift monitor instance details\n",
    "\n",
    "monitor_instance_details = wos_client.monitor_instances.get(monitor_instance_id=drift_monitor_instance_id).result\n",
    "print(monitor_instance_details)"
   ]
  },
  {
   "cell_type": "code",
   "execution_count": null,
   "id": "959d6605-a4e3-4837-81c0-caf081bd3522",
   "metadata": {},
   "outputs": [],
   "source": [
    "# Trigger on-demand run\n",
    "\n",
    "monitoring_run_details = wos_client.monitor_instances.run(monitor_instance_id=drift_monitor_instance_id).result\n",
    "monitoring_run_id=monitoring_run_details.metadata.id\n",
    "\n",
    "print(monitoring_run_details)"
   ]
  },
  {
   "cell_type": "code",
   "execution_count": null,
   "id": "be57223a-f3c8-4c9d-a138-294053e9f370",
   "metadata": {},
   "outputs": [],
   "source": [
    "# Check run status\n",
    "\n",
    "drift_run_status = None\n",
    "while drift_run_status not in (\"finished\", \"error\"):\n",
    "    monitoring_run_details = wos_client.monitor_instances.get_run_details(monitor_instance_id=drift_monitor_instance_id, monitoring_run_id=monitoring_run_id).result\n",
    "    drift_run_status = monitoring_run_details.entity.status.state\n",
    "    if drift_run_status not in (\"finished\", \"error\"):\n",
    "        print(datetime.utcnow().strftime(\"%H:%M:%S\"), drift_run_status)\n",
    "        time.sleep(30)\n",
    "        \n",
    "print(datetime.utcnow().strftime(\"%H:%M:%S\"), drift_run_status)"
   ]
  },
  {
   "cell_type": "markdown",
   "id": "94d9ab10-d6bc-461d-9cc5-9fa9fdf90174",
   "metadata": {},
   "source": [
    "## Display drift metrics"
   ]
  },
  {
   "cell_type": "code",
   "execution_count": null,
   "id": "5d405a0a-72ec-4e37-980d-8cce0d91d058",
   "metadata": {},
   "outputs": [],
   "source": [
    "wos_client.monitor_instances.show_metrics(monitor_instance_id=drift_monitor_instance_id)"
   ]
  },
  {
   "cell_type": "markdown",
   "id": "8e0e2376-16cd-41b7-be09-ce5e2410207f",
   "metadata": {},
   "source": [
    "## Cleanup the untarred files"
   ]
  },
  {
   "cell_type": "code",
   "execution_count": null,
   "id": "654b8842-c7b9-44f5-88e3-39daadd7ae6b",
   "metadata": {},
   "outputs": [],
   "source": [
    "import os\n",
    "files = [\"common_configuration.json\", \"explainability.tar.gz\", \"drift_v2_archive.tar.gz\"]\n",
    "for file in files:\n",
    "    if os.path.isfile(file):\n",
    "        os.remove(file)"
   ]
  },
  {
   "cell_type": "markdown",
   "id": "dec79ce7-17ba-4fb4-bff7-3fa8d652f792",
   "metadata": {},
   "source": [
    "Author: Ravi Chamarthy (ravi.chamarthy@in.ibm.com)"
   ]
  }
 ],
 "metadata": {
  "kernelspec": {
   "display_name": "Python 3 (ipykernel)",
   "language": "python",
   "name": "python3"
  },
  "language_info": {
   "codemirror_mode": {
    "name": "ipython",
    "version": 3
   },
   "file_extension": ".py",
   "mimetype": "text/x-python",
   "name": "python",
   "nbconvert_exporter": "python",
   "pygments_lexer": "ipython3",
   "version": "3.9.7"
  }
 },
 "nbformat": 4,
 "nbformat_minor": 5
}
