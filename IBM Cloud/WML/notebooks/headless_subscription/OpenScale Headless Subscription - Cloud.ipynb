{
 "cells": [
  {
   "cell_type": "markdown",
   "metadata": {
    "collapsed": true,
    "id": "75feab07-55ef-4436-ab6c-48d5c2d133e4"
   },
   "source": [
    "<img src=\"https://github.com/pmservice/ai-openscale-tutorials/raw/master/notebooks/images/banner.png\" align=\"left\" alt=\"banner\">"
   ]
  },
  {
   "cell_type": "markdown",
   "metadata": {
    "id": "b18c0eec7d1c46f6b8fe4c779c478b7b"
   },
   "source": [
    "# Working with Watson OpenScale - Headless Subscription"
   ]
  },
  {
   "cell_type": "markdown",
   "metadata": {
    "id": "fc3ebd630e524b3e812e2d17d603e5c9"
   },
   "source": [
    "This notebook should be run using with **Python 3.9** runtime environment. \n",
    "\n",
    "It requires service credentials for the following services:\n",
    "  * Watson OpenScale\n",
    "  \n",
    "# OpenScale Headless Subscription\n",
    "\n",
    "## Motivation\n",
    "For security restrictions, or air gap deployment reasons, or firewall restrictions, some Customers are unwilling to expose their Machine Learning model scoring endpoint for external applications like OpenScale for monitoring purposes. The other use is in case of Batch Scoring models, where the scoring happens asynchronously, OpenScale does not have access to the scoring end point. But customers are looking for measuring the performance of their models by logging the payload data and feedback data to OpenScale data mart and thereby configure and evaluate the OpenScale monitors against this data.\n",
    "\n",
    "## Solution\n",
    "The solution is, with OpenScale, the customers can create a custom ML provider with an empty deployment URL, and there by configure an headless subscription by describing the payload data, followed by logging the payload data and configuring the monitors.\n",
    "\n",
    "## Workflow\n",
    "The notebook will configure OpenScale with a Headless subscription, where it showcases the following aspects related to Batch Scoring Models:\n",
    "\n",
    "* Get hold of the training data and create a Pandas dataframe against it.\n",
    "* Using the Training Statistics Generation API from OpenScale SDK to generate the training statistics.\n",
    "* Create an OpenScale Headless susbcription by including the generated training statistics.\n",
    "* Get hold of the output of the batch scoring model, and transform it in the format that OpenScale payload logging API understands.\n",
    "     * This is the important step for customers who are using batch scoring models and wants to use OpenScale for monitoring the scored data.\n",
    "     * The motivation here is, the batch scoring can happen in any scoring environment. All the OpenScale needs is, fetch the scored data, transform it such that OpenScale understands and log it.\n",
    "* Log the payload data by calling the OpenScale DataSets API.\n",
    "* Configure Explain Monitor, and generate an explanation on a transaction that is randomly selected from the logged payload data.\n",
    "* Configure Fairness Monitor, and perform bias checking on the logged payload data.\n",
    "* Log scored label data for performing quality monitor analysis.\n",
    "* Configure Quality Monitor and run the quality monitor evaluation.\n",
    "* Generate the Drift Archive using the training data, following by configuring the Drift monitor\n",
    "* Run Drift evaluation."
   ]
  },
  {
   "cell_type": "markdown",
   "metadata": {
    "id": "262ffb75c64b4523bfda24ea95d4b8f5"
   },
   "source": [
    "# Setup <a name=\"setup\"></a>"
   ]
  },
  {
   "cell_type": "markdown",
   "metadata": {
    "id": "3b7c0a42ac1e43139057e5d78abfe075"
   },
   "source": [
    "## Package installation"
   ]
  },
  {
   "cell_type": "code",
   "execution_count": 1,
   "metadata": {
    "id": "dc441429a8ad4aada3fa29d81e98e5cf"
   },
   "outputs": [
    {
     "name": "stdout",
     "output_type": "stream",
     "text": [
      "\n",
      "\u001b[1m[\u001b[0m\u001b[34;49mnotice\u001b[0m\u001b[1;39;49m]\u001b[0m\u001b[39;49m A new release of pip available: \u001b[0m\u001b[31;49m22.3.1\u001b[0m\u001b[39;49m -> \u001b[0m\u001b[32;49m23.0.1\u001b[0m\n",
      "\u001b[1m[\u001b[0m\u001b[34;49mnotice\u001b[0m\u001b[1;39;49m]\u001b[0m\u001b[39;49m To update, run: \u001b[0m\u001b[32;49mpip install --upgrade pip\u001b[0m\n",
      "Successfully installed ibm-cos-sdk-2.12.2 ibm-cos-sdk-core-2.12.2 ibm-cos-sdk-s3transfer-2.12.2 ibm-watson-machine-learning-1.0.283 importlib-metadata-6.0.0 jmespath-1.0.0 lomond-0.3.3 urllib3-1.26.14 zipp-3.14.0\n",
      "\n",
      "\u001b[1m[\u001b[0m\u001b[34;49mnotice\u001b[0m\u001b[1;39;49m]\u001b[0m\u001b[39;49m A new release of pip available: \u001b[0m\u001b[31;49m22.3.1\u001b[0m\u001b[39;49m -> \u001b[0m\u001b[32;49m23.0.1\u001b[0m\n",
      "\u001b[1m[\u001b[0m\u001b[34;49mnotice\u001b[0m\u001b[1;39;49m]\u001b[0m\u001b[39;49m To update, run: \u001b[0m\u001b[32;49mpip install --upgrade pip\u001b[0m\n",
      "Successfully installed ibm-cloud-sdk-core-3.10.1 ibm-watson-openscale-3.0.27\n"
     ]
    }
   ],
   "source": [
    "!pip install --upgrade ibm-watson-machine-learning --user | tail -n 1\n",
    "!pip install --upgrade ibm-watson-openscale --no-cache | tail -n 1"
   ]
  },
  {
   "cell_type": "markdown",
   "metadata": {
    "id": "44f0e2adc53c4f04ba9647b031d88cb9"
   },
   "source": [
    "### Action: restart the kernel!"
   ]
  },
  {
   "cell_type": "code",
   "execution_count": 2,
   "metadata": {
    "id": "827d92b4b8e1491e81d23153816f555c"
   },
   "outputs": [],
   "source": [
    "import warnings\n",
    "warnings.filterwarnings('ignore')"
   ]
  },
  {
   "cell_type": "markdown",
   "metadata": {
    "id": "f8cdd3fa70d94b9c8e3bea9fc4c65e9f"
   },
   "source": [
    "## Configure credentials"
   ]
  },
  {
   "cell_type": "code",
   "execution_count": 3,
   "metadata": {},
   "outputs": [],
   "source": [
    "CLOUD_API_KEY = \"<Incldue your user API Key here>\"\n",
    "IAM_URL=\"https://iam.ng.bluemix.net/oidc/token\""
   ]
  },
  {
   "cell_type": "code",
   "execution_count": 4,
   "metadata": {
    "id": "c470852b2bf14f7caeef5d025c8d64c7"
   },
   "outputs": [],
   "source": [
    "#masked\n",
    "WML_CREDENTIALS = {\n",
    "    \"url\": \"https://us-south.ml.cloud.ibm.com\",\n",
    "    \"apikey\": CLOUD_API_KEY\n",
    "}"
   ]
  },
  {
   "cell_type": "markdown",
   "metadata": {
    "id": "2963bb1dc0064426839aa24a0ea45150"
   },
   "source": [
    "# Get training data statistics"
   ]
  },
  {
   "cell_type": "code",
   "execution_count": 5,
   "metadata": {
    "id": "5abbe05c50fe46f28d692cb36fcfb81d"
   },
   "outputs": [],
   "source": [
    "feature_columns=[\"CheckingStatus\",\"LoanDuration\",\"CreditHistory\",\"LoanPurpose\",\"LoanAmount\",\"ExistingSavings\",\"EmploymentDuration\",\"InstallmentPercent\",\"Sex\",\"OthersOnLoan\",\"CurrentResidenceDuration\",\"OwnsProperty\",\"Age\",\"InstallmentPlans\",\"Housing\",\"ExistingCreditsCount\",\"Job\",\"Dependents\",\"Telephone\",\"ForeignWorker\"]\n",
    "cat_features=[\"CheckingStatus\",\"CreditHistory\",\"LoanPurpose\",\"ExistingSavings\",\"EmploymentDuration\",\"Sex\",\"OthersOnLoan\",\"OwnsProperty\",\"InstallmentPlans\",\"Housing\",\"Job\",\"Telephone\",\"ForeignWorker\"]\n",
    "class_label = \"Risk\""
   ]
  },
  {
   "cell_type": "markdown",
   "metadata": {
    "id": "636c77c1db4a48da85ed3dd8c6846a45"
   },
   "source": [
    "### Get the training data"
   ]
  },
  {
   "cell_type": "code",
   "execution_count": null,
   "metadata": {
    "id": "d6bbdd544c8d471b91eb5ef7a49cd645"
   },
   "outputs": [],
   "source": [
    "!rm german_credit_data_biased_training.csv\n",
    "!wget https://raw.githubusercontent.com/pmservice/ai-openscale-tutorials/master/assets/historical_data/german_credit_risk/wml/german_credit_data_biased_training.csv"
   ]
  },
  {
   "cell_type": "code",
   "execution_count": null,
   "metadata": {
    "id": "3681d34f301c4b559ca8730bf04bf47b"
   },
   "outputs": [],
   "source": [
    "import pandas as pd\n",
    "data_df=pd.read_csv (\"german_credit_data_biased_training.csv\")\n",
    "data_df.head()"
   ]
  },
  {
   "cell_type": "markdown",
   "metadata": {
    "id": "b5afc1d931da4c6495a10f497b5c4d52"
   },
   "source": [
    "### Generate the training data stats"
   ]
  },
  {
   "cell_type": "code",
   "execution_count": null,
   "metadata": {
    "id": "49a11fd0e1734d6789c54ebb58977f43"
   },
   "outputs": [],
   "source": [
    "from ibm_watson_openscale.utils.training_stats import TrainingStats"
   ]
  },
  {
   "cell_type": "code",
   "execution_count": null,
   "metadata": {
    "id": "0fbc59045de043258af88cb0d65beef2"
   },
   "outputs": [],
   "source": [
    "input_parameters = {\n",
    "    \"label_column\": class_label,\n",
    "    \"feature_columns\": feature_columns,\n",
    "    \"categorical_columns\": cat_features,\n",
    "    \"fairness_inputs\": None,  \n",
    "    \"problem_type\" : \"binary\",\n",
    "    \"prediction\": prediction_column,\n",
    "    \"probability\": \"probability\"\n",
    "}"
   ]
  },
  {
   "cell_type": "code",
   "execution_count": null,
   "metadata": {
    "id": "b0ddac7d43784eff8f51faac32315fb7"
   },
   "outputs": [],
   "source": [
    "training_stats = TrainingStats(data_df,input_parameters, explain=True, fairness=False, drop_na=True)"
   ]
  },
  {
   "cell_type": "code",
   "execution_count": null,
   "metadata": {
    "id": "69f30aa6275a45c1aabee80b8bc91ba2"
   },
   "outputs": [],
   "source": [
    "config_json = training_stats.get_training_statistics()"
   ]
  },
  {
   "cell_type": "code",
   "execution_count": null,
   "metadata": {
    "id": "ba14fdd0d5fc42148ffa0c70318e0bc0"
   },
   "outputs": [],
   "source": [
    "config_json[\"notebook_version\"] = 5.0"
   ]
  },
  {
   "cell_type": "markdown",
   "metadata": {},
   "source": [
    "### This JSON contains the training statistics"
   ]
  },
  {
   "cell_type": "code",
   "execution_count": null,
   "metadata": {
    "id": "b76d8c0b08f8411884a8d04ceccb4677"
   },
   "outputs": [],
   "source": [
    "config_json"
   ]
  },
  {
   "cell_type": "markdown",
   "metadata": {
    "id": "9b0707ac1440466492c933e7069aa015"
   },
   "source": [
    "# Configure OpenScale \n",
    "\n",
    "The notebook will now import the necessary libraries and set up a Python OpenScale client."
   ]
  },
  {
   "cell_type": "code",
   "execution_count": null,
   "metadata": {
    "id": "6b03734389aa45fb84321fadc60743e8"
   },
   "outputs": [],
   "source": [
    "from ibm_watson_openscale import APIClient\n",
    "from ibm_watson_openscale.utils import *\n",
    "from ibm_watson_openscale.supporting_classes import *\n",
    "from ibm_watson_openscale.supporting_classes.enums import *\n",
    "from ibm_watson_openscale.base_classes.watson_open_scale_v2 import *\n",
    "from ibm_cloud_sdk_core.authenticators import IAMAuthenticator,BearerTokenAuthenticator\n",
    "\n",
    "import json\n",
    "import requests\n",
    "import base64\n",
    "from requests.auth import HTTPBasicAuth\n",
    "import time"
   ]
  },
  {
   "cell_type": "markdown",
   "metadata": {
    "id": "3043544c667e49d38cd70855d8ccb5ad"
   },
   "source": [
    "## Get a instance of the OpenScale SDK client"
   ]
  },
  {
   "cell_type": "code",
   "execution_count": null,
   "metadata": {
    "id": "d3d5b4df0a9f4d598a6cbd595700ae53"
   },
   "outputs": [],
   "source": [
    "authenticator = IAMAuthenticator(apikey=CLOUD_API_KEY)\n",
    "wos_client = APIClient(authenticator=authenticator)\n",
    "wos_client.version"
   ]
  },
  {
   "cell_type": "markdown",
   "metadata": {
    "id": "5dbc59b8112144b8a06e6c41a8301f0a"
   },
   "source": [
    "## OpenScale DataMart\n",
    "\n",
    "Watson OpenScale uses a database to store payload and feedback logs and calculated metrics. Here we are using already configured data mart in IBM Cloud."
   ]
  },
  {
   "cell_type": "code",
   "execution_count": null,
   "metadata": {
    "id": "ca368ed3793443da944e24b8b5e0d281"
   },
   "outputs": [],
   "source": [
    "wos_client.data_marts.show()"
   ]
  },
  {
   "cell_type": "code",
   "execution_count": null,
   "metadata": {
    "id": "2966db92a2994a958136635144f05572"
   },
   "outputs": [],
   "source": [
    "data_marts = wos_client.data_marts.list().result.data_marts\n",
    "data_mart_id=data_marts[0].metadata.id\n",
    "print('Using existing datamart {}'.format(data_mart_id))"
   ]
  },
  {
   "cell_type": "code",
   "execution_count": null,
   "metadata": {
    "id": "5862cdb82a534375b7e290cee338774e"
   },
   "outputs": [],
   "source": [
    "data_mart_details = wos_client.data_marts.list().result.data_marts[0]\n",
    "data_mart_details.to_dict()"
   ]
  },
  {
   "cell_type": "code",
   "execution_count": null,
   "metadata": {
    "id": "b61551bb00fa430b8595748c93a2dfb9"
   },
   "outputs": [],
   "source": [
    "wos_client.service_providers.show()"
   ]
  },
  {
   "cell_type": "markdown",
   "metadata": {
    "id": "b1ecf806072240cd89af4324cb844744"
   },
   "source": [
    "## Remove existing service provider\n",
    "\n",
    "Multiple service providers for the same engine instance are avaiable in Watson OpenScale. To avoid multiple service providers of used WML instance in the tutorial notebook the following code deletes existing service provder(s) and then adds new one."
   ]
  },
  {
   "cell_type": "code",
   "execution_count": null,
   "metadata": {
    "id": "34534f784ac845438b54c6947d227ccb"
   },
   "outputs": [],
   "source": [
    "SERVICE_PROVIDER_NAME = \"OpenScale Headless Service Provider\"\n",
    "SERVICE_PROVIDER_DESCRIPTION = \"Added by tutorial WOS notebook to showcase Headless Subscription functionality.\""
   ]
  },
  {
   "cell_type": "code",
   "execution_count": null,
   "metadata": {
    "id": "ebd41ed59d0a44b3837152bdd67e10fc"
   },
   "outputs": [],
   "source": [
    "service_providers = wos_client.service_providers.list().result.service_providers\n",
    "for service_provider in service_providers:\n",
    "    service_instance_name = service_provider.entity.name\n",
    "    if service_instance_name == SERVICE_PROVIDER_NAME:\n",
    "        service_provider_id = service_provider.metadata.id\n",
    "        wos_client.service_providers.delete(service_provider_id)\n",
    "        print(\"Deleted existing service_provider for WML instance: {}\".format(service_provider_id))"
   ]
  },
  {
   "cell_type": "markdown",
   "metadata": {
    "id": "48cf5770290744c28274669a5af0103b"
   },
   "source": [
    "## Add service provider\n",
    "\n",
    "Watson OpenScale needs to be bound to the Watson Machine Learning instance to capture payload data into and out of the model.\n",
    "\n",
    "Note: Here the service provider is created with empty credentials, meaning no endpoint. Just to demonstrate the use case were we don't need an actual end point serving requests."
   ]
  },
  {
   "cell_type": "code",
   "execution_count": null,
   "metadata": {
    "id": "2d260d321cad475682aea0857c9b1054"
   },
   "outputs": [],
   "source": [
    "MLCredentials = {}\n",
    "added_service_provider_result = wos_client.service_providers.add(\n",
    "        name=SERVICE_PROVIDER_NAME,\n",
    "        description=SERVICE_PROVIDER_DESCRIPTION,\n",
    "        service_type=ServiceTypes.CUSTOM_MACHINE_LEARNING,\n",
    "        operational_space_id = \"production\",\n",
    "        credentials=MLCredentials,\n",
    "        background_mode=False\n",
    "    ).result\n",
    "service_provider_id = added_service_provider_result.metadata.id"
   ]
  },
  {
   "cell_type": "code",
   "execution_count": null,
   "metadata": {
    "id": "eae202864f724fb9880ed31fadf75ac0"
   },
   "outputs": [],
   "source": [
    "print(wos_client.service_providers.get(service_provider_id).result)"
   ]
  },
  {
   "cell_type": "markdown",
   "metadata": {
    "id": "09f4993d2caa48269b9832c7e9b145d6"
   },
   "source": [
    "## Subscriptions"
   ]
  },
  {
   "cell_type": "markdown",
   "metadata": {
    "id": "2e59906593c44bda97f79a9c35e728f6"
   },
   "source": [
    "Remove existing credit risk subscriptions\n",
    "\n",
    "This code removes previous subscriptions to the model to refresh the monitors with the new model and new data."
   ]
  },
  {
   "cell_type": "code",
   "execution_count": null,
   "metadata": {
    "id": "6b97d781684b401095188860bd0a3c96"
   },
   "outputs": [],
   "source": [
    "wos_client.subscriptions.show()"
   ]
  },
  {
   "cell_type": "markdown",
   "metadata": {
    "id": "b0d085c8a875458b834992abd3577219"
   },
   "source": [
    "## Remove the existing subscription"
   ]
  },
  {
   "cell_type": "code",
   "execution_count": null,
   "metadata": {
    "id": "3084501d8ecc482282eaa59a7c4327f9"
   },
   "outputs": [],
   "source": [
    "SUBSCRIPTION_NAME = \"GCR Headless Subscription\""
   ]
  },
  {
   "cell_type": "code",
   "execution_count": null,
   "metadata": {
    "id": "f5ef621a07cb4e468fca6cc62d22595e"
   },
   "outputs": [],
   "source": [
    "subscriptions = wos_client.subscriptions.list().result.subscriptions\n",
    "for subscription in subscriptions:\n",
    "    if subscription.entity.asset.name == '[asset] ' + SUBSCRIPTION_NAME:\n",
    "        sub_model_id = subscription.metadata.id\n",
    "        wos_client.subscriptions.delete(subscription.metadata.id)\n",
    "        print('Deleted existing subscription for model', sub_model_id)"
   ]
  },
  {
   "cell_type": "markdown",
   "metadata": {
    "id": "d117477d751b4d6380d2feceac14450e"
   },
   "source": [
    "This code creates the model subscription in OpenScale using the Python client API. Note that we need to provide the model unique identifier, and some information about the model itself."
   ]
  },
  {
   "cell_type": "code",
   "execution_count": null,
   "metadata": {
    "id": "e2df727978ef4fbe8062c30a63944b6d"
   },
   "outputs": [],
   "source": [
    "print(\"Data Mart ID: \" + data_mart_id)\n",
    "print(\"Service Provide ID: \" + service_provider_id)\n",
    "import uuid\n",
    "asset_id = str(uuid.uuid4())\n",
    "asset_name = '[asset] ' + SUBSCRIPTION_NAME\n",
    "url = None\n",
    "\n",
    "asset_deployment_id = str(uuid.uuid4())\n",
    "asset_deployment_name = asset_name"
   ]
  },
  {
   "cell_type": "code",
   "execution_count": null,
   "metadata": {
    "id": "1de20abba6d84c6c8ba84cd3ed3bc96e"
   },
   "outputs": [],
   "source": [
    "prediction_column = \"prediction\"\n",
    "probability_columns = ['probability']\n",
    "predicted_target_column = \"prediction\"\n",
    "subscription_details = wos_client.subscriptions.add(data_mart_id,\n",
    "    service_provider_id,\n",
    "    asset=Asset(\n",
    "        asset_id=asset_id,\n",
    "        name=asset_name,\n",
    "        url=url,\n",
    "        asset_type=AssetTypes.MODEL,\n",
    "        input_data_type=InputDataType.STRUCTURED,\n",
    "        problem_type=ProblemType.BINARY_CLASSIFICATION\n",
    "    ),\n",
    "    deployment=None,    \n",
    "    training_data_stats=config_json,\n",
    "    prediction_field = prediction_column,\n",
    "    predicted_target_field = predicted_target_column,\n",
    "    probability_fields = probability_columns,background_mode = False\n",
    "    ,deployment_name = asset_name\n",
    "    ).result\n",
    "\n",
    "subscription_id = subscription_details.metadata.id\n",
    "print(\"Subscription id {}\".format(subscription_id))"
   ]
  },
  {
   "cell_type": "code",
   "execution_count": null,
   "metadata": {},
   "outputs": [],
   "source": [
    "wos_client.subscriptions.get(subscription_id).result.to_dict()"
   ]
  },
  {
   "cell_type": "markdown",
   "metadata": {},
   "source": [
    "### The following code fetches the data set id, against which we would be performing the payload logging"
   ]
  },
  {
   "cell_type": "code",
   "execution_count": null,
   "metadata": {
    "id": "9dee41fc8ae2407483f7d08f7ecd9663"
   },
   "outputs": [],
   "source": [
    "import time\n",
    "\n",
    "time.sleep(5)\n",
    "payload_data_set_id = None\n",
    "payload_data_set_id = wos_client.data_sets.list(type=DataSetTypes.PAYLOAD_LOGGING, \n",
    "                                                target_target_id=subscription_id, \n",
    "                                                target_target_type=TargetTypes.SUBSCRIPTION).result.data_sets[0].metadata.id\n",
    "if payload_data_set_id is None:\n",
    "    print(\"Payload data set not found. Please check subscription status.\")\n",
    "else:\n",
    "    print(\"Payload data set id:\", payload_data_set_id)"
   ]
  },
  {
   "cell_type": "markdown",
   "metadata": {
    "id": "2d75c57ab8914d70acdc3ed523675b1b"
   },
   "source": [
    "## Push a payload record to setup the required schemas in the subscription\n",
    "\n",
    "This is the location where one needs to fetch the output of the batch scoring model and construct the payload as per the OpenScale Payload Logging format.\n",
    "\n",
    "Note : No scoring is done against the model. The PayloadRecord is constructed with the request and response from the model/deployment."
   ]
  },
  {
   "cell_type": "markdown",
   "metadata": {
    "id": "7ea1d04fe73a452685847cfc4f780256"
   },
   "source": [
    "## Scoring Request Payload"
   ]
  },
  {
   "cell_type": "code",
   "execution_count": null,
   "metadata": {
    "id": "cb53d8ad950146bda2fd9ad017112835"
   },
   "outputs": [],
   "source": [
    "scoring_request =   {\n",
    "        \"fields\": [\n",
    "            \"CheckingStatus\",\n",
    "            \"LoanDuration\",\n",
    "            \"CreditHistory\",\n",
    "            \"LoanPurpose\",\n",
    "            \"LoanAmount\",\n",
    "            \"ExistingSavings\",\n",
    "            \"EmploymentDuration\",\n",
    "            \"InstallmentPercent\",\n",
    "            \"Sex\",\n",
    "            \"OthersOnLoan\",\n",
    "            \"CurrentResidenceDuration\",\n",
    "            \"OwnsProperty\",\n",
    "            \"Age\",\n",
    "            \"InstallmentPlans\",\n",
    "            \"Housing\",\n",
    "            \"ExistingCreditsCount\",\n",
    "            \"Job\",\n",
    "            \"Dependents\",\n",
    "            \"Telephone\",\n",
    "            \"ForeignWorker\",\n",
    "            \"Risk\"\n",
    "        ],\n",
    "        \"values\": [\n",
    "            [\n",
    "                \"no_checking\",\n",
    "                28,\n",
    "                \"outstanding_credit\",\n",
    "                \"appliances\",\n",
    "                5990,\n",
    "                \"500_to_1000\",\n",
    "                \"greater_7\",\n",
    "                5,\n",
    "                \"male\",\n",
    "                \"co-applicant\",\n",
    "                3,\n",
    "                \"car_other\",\n",
    "                55,\n",
    "                \"none\",\n",
    "                \"free\",\n",
    "                2,\n",
    "                \"skilled\",\n",
    "                2,\n",
    "                \"yes\",\n",
    "                \"yes\",\n",
    "                \"Risk\"\n",
    "            ],\n",
    "            [\n",
    "                \"greater_200\",\n",
    "                22,\n",
    "                \"all_credits_paid_back\",\n",
    "                \"car_used\",\n",
    "                3376,\n",
    "                \"less_100\",\n",
    "                \"less_1\",\n",
    "                3,\n",
    "                \"female\",\n",
    "                \"none\",\n",
    "                2,\n",
    "                \"car_other\",\n",
    "                32,\n",
    "                \"none\",\n",
    "                \"own\",\n",
    "                1,\n",
    "                \"skilled\",\n",
    "                1,\n",
    "                \"none\",\n",
    "                \"yes\",\n",
    "                \"No Risk\"\n",
    "            ],\n",
    "            [\n",
    "                \"no_checking\",\n",
    "                39,\n",
    "                \"credits_paid_to_date\",\n",
    "                \"vacation\",\n",
    "                6434,\n",
    "                \"unknown\",\n",
    "                \"greater_7\",\n",
    "                5,\n",
    "                \"male\",\n",
    "                \"none\",\n",
    "                4,\n",
    "                \"car_other\",\n",
    "                39,\n",
    "                \"none\",\n",
    "                \"own\",\n",
    "                2,\n",
    "                \"skilled\",\n",
    "                2,\n",
    "                \"yes\",\n",
    "                \"yes\",\n",
    "                \"Risk\"\n",
    "            ],\n",
    "            [\n",
    "                \"0_to_200\",\n",
    "                20,\n",
    "                \"credits_paid_to_date\",\n",
    "                \"furniture\",\n",
    "                2442,\n",
    "                \"less_100\",\n",
    "                \"unemployed\",\n",
    "                3,\n",
    "                \"female\",\n",
    "                \"none\",\n",
    "                1,\n",
    "                \"real_estate\",\n",
    "                42,\n",
    "                \"none\",\n",
    "                \"own\",\n",
    "                1,\n",
    "                \"skilled\",\n",
    "                1,\n",
    "                \"none\",\n",
    "                \"yes\",\n",
    "                \"No Risk\"\n",
    "            ],\n",
    "            [\n",
    "                \"greater_200\",\n",
    "                4,\n",
    "                \"all_credits_paid_back\",\n",
    "                \"education\",\n",
    "                4206,\n",
    "                \"less_100\",\n",
    "                \"unemployed\",\n",
    "                1,\n",
    "                \"female\",\n",
    "                \"none\",\n",
    "                3,\n",
    "                \"savings_insurance\",\n",
    "                27,\n",
    "                \"none\",\n",
    "                \"own\",\n",
    "                1,\n",
    "                \"management_self-employed\",\n",
    "                1,\n",
    "                \"none\",\n",
    "                \"yes\",\n",
    "                \"No Risk\"\n",
    "            ],\n",
    "            [\n",
    "                \"greater_200\",\n",
    "                23,\n",
    "                \"credits_paid_to_date\",\n",
    "                \"car_used\",\n",
    "                2963,\n",
    "                \"greater_1000\",\n",
    "                \"greater_7\",\n",
    "                4,\n",
    "                \"male\",\n",
    "                \"none\",\n",
    "                4,\n",
    "                \"car_other\",\n",
    "                46,\n",
    "                \"none\",\n",
    "                \"own\",\n",
    "                2,\n",
    "                \"skilled\",\n",
    "                1,\n",
    "                \"none\",\n",
    "                \"yes\",\n",
    "                \"Risk\"\n",
    "            ],\n",
    "            [\n",
    "                \"no_checking\",\n",
    "                31,\n",
    "                \"prior_payments_delayed\",\n",
    "                \"vacation\",\n",
    "                2673,\n",
    "                \"500_to_1000\",\n",
    "                \"1_to_4\",\n",
    "                3,\n",
    "                \"male\",\n",
    "                \"none\",\n",
    "                2,\n",
    "                \"real_estate\",\n",
    "                35,\n",
    "                \"stores\",\n",
    "                \"rent\",\n",
    "                1,\n",
    "                \"skilled\",\n",
    "                2,\n",
    "                \"none\",\n",
    "                \"yes\",\n",
    "                \"Risk\"\n",
    "            ],\n",
    "            [\n",
    "                \"no_checking\",\n",
    "                37,\n",
    "                \"prior_payments_delayed\",\n",
    "                \"other\",\n",
    "                6971,\n",
    "                \"500_to_1000\",\n",
    "                \"1_to_4\",\n",
    "                3,\n",
    "                \"male\",\n",
    "                \"none\",\n",
    "                3,\n",
    "                \"savings_insurance\",\n",
    "                54,\n",
    "                \"none\",\n",
    "                \"own\",\n",
    "                2,\n",
    "                \"skilled\",\n",
    "                1,\n",
    "                \"yes\",\n",
    "                \"yes\",\n",
    "                \"Risk\"\n",
    "            ],\n",
    "            [\n",
    "                \"no_checking\",\n",
    "                14,\n",
    "                \"all_credits_paid_back\",\n",
    "                \"car_new\",\n",
    "                1525,\n",
    "                \"500_to_1000\",\n",
    "                \"4_to_7\",\n",
    "                3,\n",
    "                \"male\",\n",
    "                \"none\",\n",
    "                4,\n",
    "                \"real_estate\",\n",
    "                33,\n",
    "                \"none\",\n",
    "                \"own\",\n",
    "                1,\n",
    "                \"skilled\",\n",
    "                1,\n",
    "                \"none\",\n",
    "                \"yes\",\n",
    "                \"No Risk\"\n",
    "            ],\n",
    "            [\n",
    "                \"less_0\",\n",
    "                10,\n",
    "                \"prior_payments_delayed\",\n",
    "                \"furniture\",\n",
    "                4037,\n",
    "                \"less_100\",\n",
    "                \"4_to_7\",\n",
    "                3,\n",
    "                \"male\",\n",
    "                \"none\",\n",
    "                3,\n",
    "                \"savings_insurance\",\n",
    "                31,\n",
    "                \"none\",\n",
    "                \"rent\",\n",
    "                1,\n",
    "                \"skilled\",\n",
    "                1,\n",
    "                \"none\",\n",
    "                \"yes\",\n",
    "                \"Risk\"\n",
    "            ]\n",
    "        ]\n",
    "    }"
   ]
  },
  {
   "cell_type": "markdown",
   "metadata": {
    "id": "3e469b9bf6cc4baa855d4954b28b5ff7"
   },
   "source": [
    "## Scoring Response Payload"
   ]
  },
  {
   "cell_type": "code",
   "execution_count": null,
   "metadata": {
    "id": "12303ea22a7146b2ab77b898a3fdffe2"
   },
   "outputs": [],
   "source": [
    "scoring_response = {\n",
    "    \"predictions\": [\n",
    "        {\n",
    "            \"fields\": [\n",
    "                \"prediction\",\n",
    "                \"probability\"\n",
    "            ],\n",
    "            \"values\": [\n",
    "                [\n",
    "                    \"Risk\",\n",
    "                    [\n",
    "                        0.104642951112211,\n",
    "                        0.895357048887789\n",
    "                    ]\n",
    "                ],\n",
    "                [\n",
    "                    \"No Risk\",\n",
    "                    [\n",
    "                        0.892112895920181,\n",
    "                        0.10788710407981907\n",
    "                    ]\n",
    "                ],\n",
    "                [\n",
    "                    \"Risk\",\n",
    "                    [\n",
    "                        0.4863177905287259,\n",
    "                        0.5136822094712741\n",
    "                    ]\n",
    "                ],\n",
    "                [\n",
    "                    \"No Risk\",\n",
    "                    [\n",
    "                        0.980811537315731,\n",
    "                        0.01918846268426898\n",
    "                    ]\n",
    "                ],\n",
    "                [\n",
    "                    \"No Risk\",\n",
    "                    [\n",
    "                        0.9053052561083984,\n",
    "                        0.09469474389160164\n",
    "                    ]\n",
    "                ],\n",
    "                [\n",
    "                    \"No Risk\",\n",
    "                    [\n",
    "                        0.5315146773053994,\n",
    "                        0.4684853226946007\n",
    "                    ]\n",
    "                ],\n",
    "                [\n",
    "                    \"No Risk\",\n",
    "                    [\n",
    "                        0.7689466209701616,\n",
    "                        0.23105337902983833\n",
    "                    ]\n",
    "                ],\n",
    "                [\n",
    "                    \"Risk\",\n",
    "                    [\n",
    "                        0.41317664143643873,\n",
    "                        0.5868233585635613\n",
    "                    ]\n",
    "                ],\n",
    "                [\n",
    "                    \"No Risk\",\n",
    "                    [\n",
    "                        0.9190247585206522,\n",
    "                        0.08097524147934775\n",
    "                    ]\n",
    "                ],\n",
    "                [\n",
    "                    \"No Risk\",\n",
    "                    [\n",
    "                        0.781841942776921,\n",
    "                        0.21815805722307902\n",
    "                    ]\n",
    "                ]\n",
    "            ]\n",
    "        }\n",
    "    ]\n",
    "}"
   ]
  },
  {
   "cell_type": "markdown",
   "metadata": {},
   "source": [
    "### Construct the payload using the scoring_request and scoring_response and then log the records"
   ]
  },
  {
   "cell_type": "code",
   "execution_count": null,
   "metadata": {
    "id": "edb0cf12b0164869879f0ea101f520e0"
   },
   "outputs": [],
   "source": [
    "from ibm_watson_openscale.supporting_classes.payload_record import PayloadRecord\n",
    "\n",
    "records_list=[]\n",
    "for x in range(10):\n",
    "    pl_record = PayloadRecord(request=scoring_request, response=scoring_response)\n",
    "    records_list.append(pl_record)\n",
    "\n",
    "wos_client.data_sets.store_records(data_set_id=payload_data_set_id, request_body=records_list)"
   ]
  },
  {
   "cell_type": "markdown",
   "metadata": {},
   "source": [
    "### Make sure the records reached the payload logging table inside the OpenScale DataMart."
   ]
  },
  {
   "cell_type": "code",
   "execution_count": null,
   "metadata": {
    "id": "933b5220cd9d4c5681f54308ce266ade"
   },
   "outputs": [],
   "source": [
    "time.sleep(5)\n",
    "pl_records_count = wos_client.data_sets.get_records_count(payload_data_set_id)\n",
    "print(\"Number of records in the payload logging table: {}\".format(pl_records_count))\n",
    "if pl_records_count == 0:\n",
    "    raise Exception(\"Payload logging did not happen!\")"
   ]
  },
  {
   "cell_type": "markdown",
   "metadata": {
    "id": "9383640e6ca5477b9d0f2f3c9ea46885"
   },
   "source": [
    "## Fetch the subscription details to confirm output data schemas are setup"
   ]
  },
  {
   "cell_type": "code",
   "execution_count": null,
   "metadata": {
    "id": "f8fa3697195d4f02895b042e6add28b4"
   },
   "outputs": [],
   "source": [
    "wos_client.subscriptions.get(subscription_id).result.to_dict()"
   ]
  },
  {
   "cell_type": "markdown",
   "metadata": {
    "id": "c9154f4c69ad4c4db3c14d8f0bc6236c"
   },
   "source": [
    "# Explainability Monitor Configuration\n",
    "From the notebook, perform offline scoring against the customer model, create an explain archive and save this archive to data mart.\n",
    "\n",
    "* Only Local explanations and Lime global explanations are supported.\n",
    "* For contrastive explanations, as scoring is needed and because it is headless subscription without any deployment URL, contrastive explanations are not supported."
   ]
  },
  {
   "cell_type": "markdown",
   "metadata": {
    "id": "aac1dc85b142421290d5096d9646982b"
   },
   "source": [
    "## Score the perturbations\n",
    "\n",
    "Here, this notebook uses a credit risk model deployment in WML. This can be replaced with the scoring engine of your choice, but making sure the scoring response is in the format that OpenScale understands for monitor processing."
   ]
  },
  {
   "cell_type": "code",
   "execution_count": null,
   "metadata": {
    "id": "a8cfbd042be041cd8f807ada9a55c477"
   },
   "outputs": [],
   "source": [
    "import json\n",
    "from ibm_watson_machine_learning import APIClient\n",
    "\n",
    "wml_client = APIClient(WML_CREDENTIALS)\n",
    "wml_client.version"
   ]
  },
  {
   "cell_type": "markdown",
   "metadata": {},
   "source": [
    "### Listing all the available spaces"
   ]
  },
  {
   "cell_type": "code",
   "execution_count": null,
   "metadata": {},
   "outputs": [],
   "source": [
    "wml_client.spaces.list(limit=10)"
   ]
  },
  {
   "cell_type": "code",
   "execution_count": null,
   "metadata": {
    "id": "56e8566e7dd64d778bce3623b35ad834"
   },
   "outputs": [],
   "source": [
    "space_uid = '<Include the space id>'"
   ]
  },
  {
   "cell_type": "code",
   "execution_count": null,
   "metadata": {
    "id": "d0c28b3f1dea46e0b1e1b52ea6b90a73"
   },
   "outputs": [],
   "source": [
    "wml_client.set.default_space(space_uid)"
   ]
  },
  {
   "cell_type": "code",
   "execution_count": null,
   "metadata": {},
   "outputs": [],
   "source": [
    "deployments_list = wml_client.deployments.get_details()\n",
    "for deployment in deployments_list[\"resources\"]:\n",
    "    deployment_id = deployment[\"metadata\"][\"id\"]\n",
    "    deployment_name = deployment[\"entity\"][\"name\"]\n",
    "    print(deployment_name + ' : ' + deployment_id)"
   ]
  },
  {
   "cell_type": "code",
   "execution_count": null,
   "metadata": {},
   "outputs": [],
   "source": [
    "deployment_uid = '<Include the deployment id>'"
   ]
  },
  {
   "cell_type": "markdown",
   "metadata": {},
   "source": [
    "## [Optional] Score Function\n",
    "\n",
    "This is required if you are configuring :\n",
    "- Explainability (for computing LIME global explanation)\n",
    "\n",
    "Please update the score function which will be used to generate explainability archive. \n",
    "\n",
    "The output of the score function should be a 2 arrays :\n",
    "1. Array of probabilities\n",
    "2. Array of model prediction\n",
    "\n",
    "\n",
    "Please note:\n",
    "- User is expected to make sure that the data type of the \"class label\" column selected and the prediction column are same. For eg : If class label is numeric, the prediction array should also be numeric\n",
    "- Each entry of a probability array should have all the probabilities of the unique class label .\n",
    "  For eg: If the model_type=multiclass and unique class labels are A, B, C, D . Each entry in the probability array should be a array of size 4 . Eg : [ [0.50,0.30,0.10,0.10] ,[0.40,0.20,0.30,0.10]...]\n",
    "- **Please update the score function below**"
   ]
  },
  {
   "cell_type": "code",
   "execution_count": 1,
   "metadata": {},
   "outputs": [],
   "source": [
    "import numpy as np\n",
    "'''def score(training_data_frame):\n",
    "    # To be filled by the user\n",
    "    WML_CREDENTIALS = {\n",
    "                   \"url\": \"\",\n",
    "                   \"apikey\": CLOUD_API_KEY\n",
    "    }\n",
    "    try:\n",
    "        deployment_id = \"\"\n",
    "        space_id = \"\"\n",
    "\n",
    "        # The data type of the label column and prediction column should be same .\n",
    "        # User needs to make sure that label column and prediction column array \n",
    "        # should have the same unique class labels\n",
    "        # edit these if your prediction column has different name\n",
    "        prediction_column_name = \"\"\n",
    "        probability_column_name = \"\"\n",
    "\n",
    "        feature_columns = list(training_data_frame.columns)\n",
    "        training_data_rows = training_data_frame[feature_columns].values.tolist()\n",
    "        # print(training_data_rows)\n",
    "\n",
    "        # Load the WML model in local object\n",
    "        from ibm_watson_machine_learning import APIClient\n",
    "        wml_client = APIClient(WML_CREDENTIALS)\n",
    "        wml_client.set.default_space(space_id)\n",
    "\n",
    "        payload_scoring = {\n",
    "            wml_client.deployments.ScoringMetaNames.INPUT_DATA: [{\n",
    "                \"fields\": feature_columns,\n",
    "                \"values\": [x for x in training_data_rows]\n",
    "            }]\n",
    "        }\n",
    "\n",
    "        score = wml_client.deployments.score(deployment_id, payload_scoring)\n",
    "        score_predictions = score.get('predictions')[0]\n",
    "\n",
    "        prob_col_index = list(score_predictions.get('fields')).index(probability_column_name)\n",
    "        predict_col_index = list(score_predictions.get('fields')).index(prediction_column_name)\n",
    "\n",
    "        if prob_col_index < 0 or predict_col_index < 0:\n",
    "            raise Exception(\"Missing prediction/probability column in the scoring response\")\n",
    "            \n",
    "        import numpy as np\n",
    "        probability_array = np.array([value[prob_col_index] for value in score_predictions.get('values')])\n",
    "        prediction_vector = np.array([value[predict_col_index] for value in score_predictions.get('values')])\n",
    "\n",
    "        return probability_array, prediction_vector\n",
    "    except Exception as ex:\n",
    "        raise Exception(\"Scoring failed. Error: {}\".format(str(ex)))'''\n",
    "score = None"
   ]
  },
  {
   "cell_type": "markdown",
   "metadata": {},
   "source": [
    "## [Optional] Specify the Explainability Configuration\n",
    "\n",
    "Provide the following explainability configuration to enable LIME global explanation. \n",
    "Set explainability parameters to None if LIME global explanation is not required.\n",
    "\n",
    " - global_explanation: The global explanation parameters.\n",
    "     - enabled: Enable the global explanation.\n",
    "     - sample_size: The sample size of the records to be considered for computing global explanation in the payload window.\n",
    " - lime: The lime explanation parameters\n",
    "     - perturbations_count: The no of perturbations created when generating a local explanation\n",
    " - local_explanation_method: The default local explanation method to be used when generating local explanation."
   ]
  },
  {
   "cell_type": "code",
   "execution_count": null,
   "metadata": {
    "id": "5fed94a6e294421880af25ad6170eb1a"
   },
   "outputs": [],
   "source": [
    "'''explainability_parameters = {\n",
    "    \"global_explanation\": {\n",
    "        \"enabled\": True,\n",
    "        \"sample_size\": 50, # the sample size of the records to be considered for computing payload global explanation\n",
    "        \"explanation_method\": \"lime\" \n",
    "    }\n",
    "}'''\n",
    "explainability_parameters = None"
   ]
  },
  {
   "cell_type": "markdown",
   "metadata": {},
   "source": [
    "## Construct the explain archive"
   ]
  },
  {
   "cell_type": "code",
   "execution_count": null,
   "metadata": {},
   "outputs": [],
   "source": [
    "sample_size = explainability_parameters.get(\"sample_size\")\n",
    "if len(data_df) > sample_size:\n",
    "    training_data = data_df.sample(sample_size)\n",
    "else:\n",
    "    training_data = data_df\n",
    "\n",
    "explainability_archive = wos_client.config_util.create_explainability_archive(config=config_json, \n",
    "                                                                       training_data=training_data, \n",
    "                                                                       parameters=explainability_parameters, \n",
    "                                                                       scoring_fn=score)\n",
    "display(explainability_archive)"
   ]
  },
  {
   "cell_type": "markdown",
   "metadata": {
    "id": "f53e45aa9848403e83089a093e2bdd40"
   },
   "source": [
    "## Upload the explain archive to OpenScale data mart"
   ]
  },
  {
   "cell_type": "code",
   "execution_count": null,
   "metadata": {
    "id": "d506960881a6436a93b090dc9ce9a2e6"
   },
   "outputs": [],
   "source": [
    "with open(\"explainability.tar.gz\", mode=\"rb\") as perturbations_tar:\n",
    "    wos_client.monitor_instances.upload_explainability_archive(subscription_id=subscription_id, archive=perturbations_tar)\n",
    "\n",
    "print(\"Uploaded perturbations scoring response archive successfully.\")"
   ]
  },
  {
   "cell_type": "markdown",
   "metadata": {
    "id": "d6b2e9d4c4fe498c86eb6bc170be72e7"
   },
   "source": [
    "## Enable the Explainability monitor"
   ]
  },
  {
   "cell_type": "code",
   "execution_count": null,
   "metadata": {
    "id": "7cc25b98422c44bf8d02b253d3246f07"
   },
   "outputs": [],
   "source": [
    "print(\"Creating monitor instances...\")\n",
    "response = wos_client.monitor_instances.create(monitor_definition_id = None, \n",
    "                        target = None, data_mart_id = data_mart_id, training_data_stats=config_json, \n",
    "                        subscription_id=subscription_id, background_mode=False)\n",
    "print(response)"
   ]
  },
  {
   "cell_type": "markdown",
   "metadata": {
    "id": "2d1c3230c47946e780d450d12132d083"
   },
   "source": [
    "### Trigger a local explanation."
   ]
  },
  {
   "cell_type": "code",
   "execution_count": null,
   "metadata": {
    "id": "7ec4862bc34442429bb196699a6496cb"
   },
   "outputs": [],
   "source": [
    "payload_data = wos_client.data_sets.get_list_of_records(data_set_id=payload_data_set_id,output_type='pandas').result\n",
    "explanation_types = [\"lime\"]\n",
    "\n",
    "scoring_ids = payload_data.head(1)['scoring_id'].tolist()\n",
    "result = wos_client.monitor_instances.explanation_tasks(scoring_ids=scoring_ids, explanation_types=explanation_types, subscription_id=subscription_id).result\n",
    "\n",
    "explanation_task_ids=result.metadata.explanation_task_ids\n",
    "explanation_task_ids"
   ]
  },
  {
   "cell_type": "markdown",
   "metadata": {},
   "source": [
    "### Wait for the local explanation to complete."
   ]
  },
  {
   "cell_type": "code",
   "execution_count": null,
   "metadata": {
    "id": "08118985179d4f698b1c7dd7f3d140a7"
   },
   "outputs": [],
   "source": [
    "def finish_explanation_tasks(sample_size = 1):\n",
    "    finished_explanations = []\n",
    "    finished_explanation_task_ids = []\n",
    "    \n",
    "    # Check for the explanation task status for finished status. \n",
    "    # If it is in-progress state, then sleep for some time and check again. \n",
    "    # Perform the same for couple of times, so that all tasks get into finished state.\n",
    "    for i in range(0, 5):\n",
    "        # for each explanation\n",
    "        print('iteration ' + str(i))\n",
    "        \n",
    "        #check status for all explanation tasks\n",
    "        for explanation_task_id in explanation_task_ids:\n",
    "            if explanation_task_id not in finished_explanation_task_ids:\n",
    "                result = wos_client.monitor_instances.get_explanation_tasks(explanation_task_id=explanation_task_id, subscription_id=subscription_id ).result\n",
    "                print(explanation_task_id + ' : ' + result.entity.status.state)\n",
    "                if (result.entity.status.state == 'finished' or result.entity.status.state == 'error') and explanation_task_id not in finished_explanation_task_ids:\n",
    "                    finished_explanation_task_ids.append(explanation_task_id)\n",
    "                    finished_explanations.append(result)\n",
    "\n",
    "\n",
    "        # if there is altest one explanation task that is not yet completed, then sleep for sometime, \n",
    "        # and check for all those tasks, for which explanation is not yet completeed.\n",
    "        \n",
    "        if len(finished_explanation_task_ids) != sample_size:\n",
    "            print('sleeping for some time..')\n",
    "            time.sleep(10)\n",
    "        else:\n",
    "            break\n",
    "                    \n",
    "    return finished_explanations"
   ]
  },
  {
   "cell_type": "markdown",
   "metadata": {
    "id": "c913ceab53ad4aa1a9da66a2f6ad3820"
   },
   "source": [
    "### Find the explain task status"
   ]
  },
  {
   "cell_type": "code",
   "execution_count": null,
   "metadata": {
    "id": "3917c1c26e93442182a9830d956dfed1"
   },
   "outputs": [],
   "source": [
    "finished_explanations = finish_explanation_tasks(1)"
   ]
  },
  {
   "cell_type": "markdown",
   "metadata": {
    "id": "d2aae51b02a248228474c84950ac1c95"
   },
   "source": [
    "## Print explain task output"
   ]
  },
  {
   "cell_type": "code",
   "execution_count": null,
   "metadata": {
    "id": "eef3927e9f634bdd923c318ebab2e6c1"
   },
   "outputs": [],
   "source": [
    "for result in finished_explanations:\n",
    "    print(result)"
   ]
  },
  {
   "cell_type": "markdown",
   "metadata": {
    "id": "09c318b2e5c54b839eb6f3ac8b247ca4"
   },
   "source": [
    "# Fairness configuration"
   ]
  },
  {
   "cell_type": "markdown",
   "metadata": {
    "id": "3d73b84061cc494a8ea5a19e897b981f"
   },
   "source": [
    "The code below configures fairness monitoring for our model. It turns on monitoring for two features, sex and age. In each case, we must specify:\n",
    "    \n",
    "Which model feature to monitor One or more majority groups, which are values of that feature that we expect to receive a higher percentage of favorable outcomes One or more minority groups, which are values of that feature that we expect to receive a higher percentage of unfavorable outcomes The threshold at which we would like OpenScale to display an alert if the fairness measurement falls below (in this case, 80%) Additionally, we must specify which outcomes from the model are favourable outcomes, and which are unfavourable. We must also provide the number of records OpenScale will use to calculate the fairness score. In this case, OpenScale's fairness monitor will run hourly, but will not calculate a new fairness rating until at least 100 records have been added. Finally, to calculate fairness, OpenScale must perform some calculations on the training data, so we provide the dataframe containing the data."
   ]
  },
  {
   "cell_type": "markdown",
   "metadata": {
    "id": "f59d4d82ca7d4aa7978e7a777416c281"
   },
   "source": [
    "### Create Fairness Monitor Instance"
   ]
  },
  {
   "cell_type": "code",
   "execution_count": null,
   "metadata": {
    "id": "1864c05c176f4a718e36059628d7f0ed"
   },
   "outputs": [],
   "source": [
    "target = Target(\n",
    "    target_type=TargetTypes.SUBSCRIPTION,\n",
    "    target_id=subscription_id\n",
    "\n",
    ")\n",
    "parameters = {\n",
    "    \"features\": [\n",
    "        {\"feature\": \"Sex\",\n",
    "         \"majority\": ['female'],\n",
    "         \"minority\": ['male'],\n",
    "         \"correlated_attributes\": []\n",
    "         }\n",
    "    ],\n",
    "    \"favourable_class\": [\"No Risk\"],\n",
    "    \"unfavourable_class\": [\"Risk\"],\n",
    "    \"min_records\": 95\n",
    "}\n",
    "thresholds = [{\n",
    "    \"metric_id\": \"fairness_value\",\n",
    "    \"specific_values\": [\n",
    "        {\n",
    "            \"applies_to\": [{\n",
    "                \"key\": \"feature\",\n",
    "                \"type\": \"tag\",\n",
    "                \"value\": \"Sex\"\n",
    "            }],\n",
    "            \"value\": 98\n",
    "        }\n",
    "    ],\n",
    "    \"type\": \"lower_limit\",\n",
    "    \"value\": 80.0\n",
    "}]\n",
    "\n",
    "fairness_monitor_details = wos_client.monitor_instances.create(\n",
    "    data_mart_id=data_mart_id,\n",
    "    background_mode=False,\n",
    "    monitor_definition_id=wos_client.monitor_definitions.MONITORS.FAIRNESS.ID,\n",
    "    target=target,\n",
    "    parameters=parameters,\n",
    "    thresholds=thresholds).result"
   ]
  },
  {
   "cell_type": "code",
   "execution_count": null,
   "metadata": {
    "id": "50d51a9c080d4a55aed61a79b768b0df"
   },
   "outputs": [],
   "source": [
    "fairness_monitor_instance_id = fairness_monitor_details.metadata.id"
   ]
  },
  {
   "cell_type": "markdown",
   "metadata": {
    "id": "ae999234ea39453e82c74169ac7d74a8"
   },
   "source": [
    "### Get Fairness Monitor Instance"
   ]
  },
  {
   "cell_type": "code",
   "execution_count": null,
   "metadata": {
    "id": "812cdeea78af4ca8ba38ea5f07efd990"
   },
   "outputs": [],
   "source": [
    "wos_client.monitor_instances.show()"
   ]
  },
  {
   "cell_type": "markdown",
   "metadata": {
    "id": "03e3bf32570d4bb5816b860d58db555d"
   },
   "source": [
    "### Get run details\n",
    "In case of production subscription, initial monitoring run is triggered internally. Checking its status"
   ]
  },
  {
   "cell_type": "code",
   "execution_count": null,
   "metadata": {
    "id": "6af6098a23384c93b88f113f6b5024b7"
   },
   "outputs": [],
   "source": [
    "runs = wos_client.monitor_instances.list_runs(fairness_monitor_instance_id, limit=1).result.to_dict()\n",
    "fairness_monitoring_run_id = runs[\"runs\"][0][\"metadata\"][\"id\"]\n",
    "run_status = None\n",
    "while(run_status not in [\"finished\", \"error\"]):\n",
    "    run_details = wos_client.monitor_instances.get_run_details(fairness_monitor_instance_id, fairness_monitoring_run_id).result.to_dict()\n",
    "    run_status = run_details[\"entity\"][\"status\"][\"state\"]\n",
    "    print('run_status: ', run_status)\n",
    "    if run_status in [\"finished\", \"error\"]:\n",
    "        break\n",
    "    time.sleep(10)"
   ]
  },
  {
   "cell_type": "markdown",
   "metadata": {
    "id": "13e80670e3474f5581ef4de516e19d70"
   },
   "source": [
    "### Fairness run output"
   ]
  },
  {
   "cell_type": "code",
   "execution_count": null,
   "metadata": {
    "id": "8b9b909ce8104fc4ad51ed3b7f388c5e"
   },
   "outputs": [],
   "source": [
    "wos_client.monitor_instances.get_run_details(fairness_monitor_instance_id, fairness_monitoring_run_id).result.to_dict()"
   ]
  },
  {
   "cell_type": "code",
   "execution_count": null,
   "metadata": {
    "id": "cd87098c263343c88302caf6c6a7fe67"
   },
   "outputs": [],
   "source": [
    "wos_client.monitor_instances.show_metrics(monitor_instance_id=fairness_monitor_instance_id)"
   ]
  },
  {
   "cell_type": "markdown",
   "metadata": {
    "id": "864da785a62b4bb782651e7a89b04837"
   },
   "source": [
    "# Quality monitoring and feedback logging"
   ]
  },
  {
   "cell_type": "markdown",
   "metadata": {
    "id": "2cfa62a024bd4951827899957267c0ae"
   },
   "source": [
    "## Enable quality monitoring\n",
    "\n",
    "The code below waits ten seconds to allow the payload logging table to be set up before it begins enabling monitors. First, it turns on the quality (accuracy) monitor and sets an alert threshold of 70%. OpenScale will show an alert on the dashboard if the model accuracy measurement (area under the curve, in the case of a binary classifier) falls below this threshold.\n",
    "\n",
    "The second paramater supplied, min_records, specifies the minimum number of feedback records OpenScale needs before it calculates a new measurement. The quality monitor runs hourly, but the accuracy reading in the dashboard will not change until an additional 50 feedback records have been added, via the user interface, the Python client, or the supplied feedback endpoint."
   ]
  },
  {
   "cell_type": "code",
   "execution_count": null,
   "metadata": {
    "id": "315eff5637f3499789af5bff0e952c27"
   },
   "outputs": [],
   "source": [
    "import time\n",
    "\n",
    "#time.sleep(10)\n",
    "target = Target(\n",
    "        target_type=TargetTypes.SUBSCRIPTION,\n",
    "        target_id=subscription_id\n",
    ")\n",
    "parameters = {\n",
    "    \"min_feedback_data_size\": 100\n",
    "}\n",
    "thresholds = [\n",
    "                {\n",
    "                    \"metric_id\": \"area_under_roc\",\n",
    "                    \"type\": \"lower_limit\",\n",
    "                    \"value\": .80\n",
    "                }\n",
    "            ]\n",
    "quality_monitor_details = wos_client.monitor_instances.create(\n",
    "    data_mart_id=data_mart_id,\n",
    "    background_mode=False,\n",
    "    monitor_definition_id=wos_client.monitor_definitions.MONITORS.QUALITY.ID,\n",
    "    target=target,\n",
    "    parameters=parameters,\n",
    "    thresholds=thresholds\n",
    ").result"
   ]
  },
  {
   "cell_type": "code",
   "execution_count": null,
   "metadata": {
    "id": "4854f81d452a4e41804bf69fffd23793"
   },
   "outputs": [],
   "source": [
    "quality_monitor_instance_id = quality_monitor_details.metadata.id\n",
    "quality_monitor_instance_id"
   ]
  },
  {
   "cell_type": "markdown",
   "metadata": {
    "id": "37088b2299714a2d8a7ff123dca6f67b"
   },
   "source": [
    "## Get feedback logging dataset ID"
   ]
  },
  {
   "cell_type": "code",
   "execution_count": null,
   "metadata": {
    "id": "eb0240054545408e886dc81e11073107"
   },
   "outputs": [],
   "source": [
    "feedback_dataset_id = None\n",
    "feedback_dataset = wos_client.data_sets.list(type=DataSetTypes.FEEDBACK, \n",
    "                                                target_target_id=subscription_id, \n",
    "                                                target_target_type=TargetTypes.SUBSCRIPTION).result\n",
    "feedback_dataset_id = feedback_dataset.data_sets[0].metadata.id\n",
    "if feedback_dataset_id is None:\n",
    "    print(\"Feedback data set not found. Please check quality monitor status.\")"
   ]
  },
  {
   "cell_type": "code",
   "execution_count": null,
   "metadata": {
    "id": "d3440261ffba406589148380ed0296a9"
   },
   "outputs": [],
   "source": [
    "feedback_dataset_id"
   ]
  },
  {
   "cell_type": "code",
   "execution_count": null,
   "metadata": {
    "id": "37812e16eee44208819af7dec9d14986"
   },
   "outputs": [],
   "source": [
    "feedback_payload = {\n",
    "    \"fields\": [\n",
    "        \"CheckingStatus\",\n",
    "        \"LoanDuration\",\n",
    "        \"CreditHistory\",\n",
    "        \"LoanPurpose\",\n",
    "        \"LoanAmount\",\n",
    "        \"ExistingSavings\",\n",
    "        \"EmploymentDuration\",\n",
    "        \"InstallmentPercent\",\n",
    "        \"Sex\",\n",
    "        \"OthersOnLoan\",\n",
    "        \"CurrentResidenceDuration\",\n",
    "        \"OwnsProperty\",\n",
    "        \"Age\",\n",
    "        \"InstallmentPlans\",\n",
    "        \"Housing\",\n",
    "        \"ExistingCreditsCount\",\n",
    "        \"Job\",\n",
    "        \"Dependents\",\n",
    "        \"Telephone\",\n",
    "        \"ForeignWorker\",\n",
    "        \"Risk\",\n",
    "        \"_original_probability\",\n",
    "        \"_original_prediction\",\n",
    "        \"_debiased_probability\",\n",
    "        \"_debiased_prediction\"        \n",
    "    ],\n",
    "    \"values\": [\n",
    "        [\n",
    "            \"less_0\",\n",
    "            18,\n",
    "            \"credits_paid_to_date\",\n",
    "            \"car_new\",\n",
    "            462,\n",
    "            \"less_100\",\n",
    "            \"1_to_4\",\n",
    "            2,\n",
    "            \"female\",\n",
    "            \"none\",\n",
    "            2,\n",
    "            \"savings_insurance\",\n",
    "            37,\n",
    "            \"stores\",\n",
    "            \"own\",\n",
    "            2,\n",
    "            \"skilled\",\n",
    "            1,\n",
    "            \"none\",\n",
    "            \"yes\",\n",
    "            \"No Risk\",\n",
    "            [\n",
    "                0.767955712021837,\n",
    "                0.23204428797816307\n",
    "            ],\n",
    "            \"Risk\",\n",
    "            [\n",
    "                0.767955712021837,\n",
    "                0.23204428797816307\n",
    "            ],\n",
    "            \"Risk\"\n",
    "        ],\n",
    "        [\n",
    "            \"less_0\",\n",
    "            15,\n",
    "            \"prior_payments_delayed\",\n",
    "            \"furniture\",\n",
    "            250,\n",
    "            \"less_100\",\n",
    "            \"1_to_4\",\n",
    "            2,\n",
    "            \"male\",\n",
    "            \"none\",\n",
    "            3,\n",
    "            \"real_estate\",\n",
    "            28,\n",
    "            \"none\",\n",
    "            \"own\",\n",
    "            2,\n",
    "            \"skilled\",\n",
    "            1,\n",
    "            \"yes\",\n",
    "            \"no\",\n",
    "            \"No Risk\",\n",
    "            [\n",
    "                0.7419002139563244,\n",
    "                0.25809978604367556\n",
    "            ],\n",
    "            \"Risk\",\n",
    "            [\n",
    "                0.767955712021837,\n",
    "                0.23204428797816307\n",
    "            ],\n",
    "            \"Risk\"\n",
    "        ],\n",
    "        [\n",
    "            \"0_to_200\",\n",
    "            28,\n",
    "            \"credits_paid_to_date\",\n",
    "            \"retraining\",\n",
    "            3693,\n",
    "            \"less_100\",\n",
    "            \"greater_7\",\n",
    "            3,\n",
    "            \"male\",\n",
    "            \"none\",\n",
    "            2,\n",
    "            \"savings_insurance\",\n",
    "            32,\n",
    "            \"none\",\n",
    "            \"own\",\n",
    "            1,\n",
    "            \"skilled\",\n",
    "            1,\n",
    "            \"none\",\n",
    "            \"yes\",\n",
    "            \"No Risk\",\n",
    "            [\n",
    "                0.6935080115729353,\n",
    "                0.3064919884270647\n",
    "            ],\n",
    "            \"Risk\",\n",
    "            [\n",
    "                0.8,\n",
    "                0.2\n",
    "            ],\n",
    "            \"Risk\"\n",
    "        ],\n",
    "        [\n",
    "            \"no_checking\",\n",
    "            28,\n",
    "            \"prior_payments_delayed\",\n",
    "            \"education\",\n",
    "            6235,\n",
    "            \"500_to_1000\",\n",
    "            \"greater_7\",\n",
    "            3,\n",
    "            \"male\",\n",
    "            \"none\",\n",
    "            3,\n",
    "            \"unknown\",\n",
    "            57,\n",
    "            \"none\",\n",
    "            \"own\",\n",
    "            2,\n",
    "            \"skilled\",\n",
    "            1,\n",
    "            \"none\",\n",
    "            \"yes\",\n",
    "            \"Risk\",\n",
    "            [\n",
    "                0.331110352092386,\n",
    "                0.668889647907614\n",
    "            ],\n",
    "            \"Risk\",\n",
    "            [\n",
    "                0.9,\n",
    "                0.1\n",
    "            ],\n",
    "            \"Risk\"\n",
    "        ],\n",
    "        [\n",
    "            \"no_checking\",\n",
    "            32,\n",
    "            \"outstanding_credit\",\n",
    "            \"vacation\",\n",
    "            9604,\n",
    "            \"500_to_1000\",\n",
    "            \"greater_7\",\n",
    "            6,\n",
    "            \"male\",\n",
    "            \"co-applicant\",\n",
    "            5,\n",
    "            \"unknown\",\n",
    "            57,\n",
    "            \"none\",\n",
    "            \"free\",\n",
    "            2,\n",
    "            \"skilled\",\n",
    "            2,\n",
    "            \"yes\",\n",
    "            \"yes\",\n",
    "            \"Risk\",\n",
    "            [\n",
    "                0.11270206970758759,\n",
    "                0.8872979302924124\n",
    "            ],\n",
    "            \"Risk\",\n",
    "            [\n",
    "                0.1,\n",
    "                0.9\n",
    "            ],\n",
    "            \"Risk\"\n",
    "        ],\n",
    "        [\n",
    "            \"no_checking\",\n",
    "            9,\n",
    "            \"prior_payments_delayed\",\n",
    "            \"car_new\",\n",
    "            1032,\n",
    "            \"100_to_500\",\n",
    "            \"4_to_7\",\n",
    "            3,\n",
    "            \"male\",\n",
    "            \"none\",\n",
    "            4,\n",
    "            \"savings_insurance\",\n",
    "            41,\n",
    "            \"none\",\n",
    "            \"own\",\n",
    "            1,\n",
    "            \"management_self-employed\",\n",
    "            1,\n",
    "            \"none\",\n",
    "            \"yes\",\n",
    "            \"No Risk\",\n",
    "            [\n",
    "                0.6704819620865308,\n",
    "                0.32951803791346923\n",
    "            ],\n",
    "            \"Risk\",\n",
    "            [\n",
    "                0.767955712021837,\n",
    "                0.23204428797816307\n",
    "            ],\n",
    "            \"Risk\"\n",
    "        ],\n",
    "        [\n",
    "            \"less_0\",\n",
    "            16,\n",
    "            \"credits_paid_to_date\",\n",
    "            \"vacation\",\n",
    "            3109,\n",
    "            \"less_100\",\n",
    "            \"4_to_7\",\n",
    "            3,\n",
    "            \"female\",\n",
    "            \"none\",\n",
    "            1,\n",
    "            \"car_other\",\n",
    "            36,\n",
    "            \"none\",\n",
    "            \"own\",\n",
    "            2,\n",
    "            \"skilled\",\n",
    "            1,\n",
    "            \"none\",\n",
    "            \"yes\",\n",
    "            \"No Risk\",\n",
    "            [\n",
    "                0.6735810290914039,\n",
    "                0.3264189709085961\n",
    "            ],\n",
    "            \"Risk\",\n",
    "            [\n",
    "                0.6,\n",
    "                0.4\n",
    "            ],\n",
    "            \"Risk\"\n",
    "        ],\n",
    "        [\n",
    "            \"0_to_200\",\n",
    "            11,\n",
    "            \"credits_paid_to_date\",\n",
    "            \"car_new\",\n",
    "            4553,\n",
    "            \"less_100\",\n",
    "            \"less_1\",\n",
    "            3,\n",
    "            \"female\",\n",
    "            \"none\",\n",
    "            3,\n",
    "            \"savings_insurance\",\n",
    "            22,\n",
    "            \"none\",\n",
    "            \"own\",\n",
    "            1,\n",
    "            \"management_self-employed\",\n",
    "            1,\n",
    "            \"none\",\n",
    "            \"yes\",\n",
    "            \"No Risk\",\n",
    "            [\n",
    "                0.637964656269084,\n",
    "                0.362035343730916\n",
    "            ],\n",
    "            \"Risk\",\n",
    "            [\n",
    "                0.767955712021837,\n",
    "                0.23204428797816307\n",
    "            ],\n",
    "            \"Risk\"\n",
    "        ],\n",
    "        [\n",
    "            \"no_checking\",\n",
    "            35,\n",
    "            \"outstanding_credit\",\n",
    "            \"appliances\",\n",
    "            7138,\n",
    "            \"500_to_1000\",\n",
    "            \"greater_7\",\n",
    "            5,\n",
    "            \"male\",\n",
    "            \"co-applicant\",\n",
    "            4,\n",
    "            \"unknown\",\n",
    "            49,\n",
    "            \"none\",\n",
    "            \"free\",\n",
    "            2,\n",
    "            \"skilled\",\n",
    "            2,\n",
    "            \"yes\",\n",
    "            \"yes\",\n",
    "            \"Risk\",\n",
    "            [\n",
    "                0.11270206970758759,\n",
    "                0.8872979302924124\n",
    "            ],\n",
    "            \"Risk\",\n",
    "            [\n",
    "                0.767955712021837,\n",
    "                0.23204428797816307\n",
    "            ],\n",
    "            \"Risk\"\n",
    "        ],\n",
    "        [\n",
    "            \"less_0\",\n",
    "            5,\n",
    "            \"all_credits_paid_back\",\n",
    "            \"car_new\",\n",
    "            1523,\n",
    "            \"less_100\",\n",
    "            \"unemployed\",\n",
    "            2,\n",
    "            \"female\",\n",
    "            \"none\",\n",
    "            2,\n",
    "            \"real_estate\",\n",
    "            19,\n",
    "            \"none\",\n",
    "            \"rent\",\n",
    "            1,\n",
    "            \"management_self-employed\",\n",
    "            1,\n",
    "            \"none\",\n",
    "            \"yes\",\n",
    "            \"No Risk\",\n",
    "            [\n",
    "                0.7304597628653227,\n",
    "                0.26954023713467745\n",
    "            ],\n",
    "            \"Risk\",\n",
    "            [\n",
    "                0.767955712021837,\n",
    "                0.23204428797816307\n",
    "            ],\n",
    "            \"Risk\"\n",
    "        ]\n",
    "    ]\n",
    "}"
   ]
  },
  {
   "cell_type": "code",
   "execution_count": null,
   "metadata": {
    "id": "f0240e34c1fe4b4c931406954b410eb1"
   },
   "outputs": [],
   "source": [
    "import urllib3, requests, json\n",
    "def generate_access_token():\n",
    "    headers={}\n",
    "    headers[\"Content-Type\"] = \"application/x-www-form-urlencoded\"\n",
    "    headers[\"Accept\"] = \"application/json\"\n",
    "    auth = HTTPBasicAuth(\"bx\", \"bx\")\n",
    "    data = {\n",
    "        \"grant_type\": \"urn:ibm:params:oauth:grant-type:apikey\",\n",
    "        \"apikey\": CLOUD_API_KEY\n",
    "    }\n",
    "    response = requests.post(IAM_URL, data=data, headers=headers, auth=auth)\n",
    "    json_data = response.json()\n",
    "    iam_access_token = json_data['access_token']\n",
    "    return iam_access_token"
   ]
  },
  {
   "cell_type": "code",
   "execution_count": null,
   "metadata": {
    "id": "c9917cd69a9d4b22a8a27f0ebb1423da"
   },
   "outputs": [],
   "source": [
    "headers = {}\n",
    "headers[\"Content-Type\"] = \"application/json\"\n",
    "headers[\"Authorization\"] = \"Bearer {}\".format(generate_access_token())\n",
    "WOS_GUID=data_mart_id"
   ]
  },
  {
   "cell_type": "markdown",
   "metadata": {
    "id": "8e2cf6e368ee414d8ffe8f178bbf4294"
   },
   "source": [
    "### Store the feedback payload using the data sets API\n",
    "\n",
    "There are two ways OpenScale APIs can be used - a) using OpenScale Python SDK b) using OpenScale REST APIs.\n",
    "\n",
    "For any reason if in the customer environment one cannot use the SDK, then the alternative is to use the REST APIs. The below cell demostrates to invoke one such OpenScale REST API, to log the feedback records to the OpenScale DataMart."
   ]
  },
  {
   "cell_type": "code",
   "execution_count": null,
   "metadata": {
    "id": "f2a376a7df1642c189f1920445012f6a"
   },
   "outputs": [],
   "source": [
    "DATASETS_STORE_RECORDS_URL =   \"https://api.aiopenscale.cloud.ibm.com/openscale/{0}/v2/data_sets/{1}/records\".format(data_mart_id, feedback_dataset_id)\n",
    "for x in range(10):\n",
    "    response = requests.post(DATASETS_STORE_RECORDS_URL, json=feedback_payload, headers=headers, verify=False)\n",
    "    json_data = response.json()\n",
    "    print(json_data)"
   ]
  },
  {
   "cell_type": "markdown",
   "metadata": {
    "id": "373ef04bff5b4772833b6b1120fd2314"
   },
   "source": [
    "### Wait for sometime, and make sure the records have reached to data sets related table."
   ]
  },
  {
   "cell_type": "code",
   "execution_count": null,
   "metadata": {
    "id": "88c162434aa24e018a131ca10c188d5c"
   },
   "outputs": [],
   "source": [
    "time.sleep(10)\n",
    "DATASETS_STORE_RECORDS_URL =   \"https://api.aiopenscale.cloud.ibm.com/openscale/{0}/v2/data_sets/{1}/records?limit={2}&include_total_count={3}\".format(data_mart_id, feedback_dataset_id, 1, \"true\")\n",
    "response = requests.get(DATASETS_STORE_RECORDS_URL, headers=headers, verify=False)\n",
    "json_data = response.json()\n",
    "print(json_data['total_count'])"
   ]
  },
  {
   "cell_type": "markdown",
   "metadata": {
    "id": "96bdfc3a376d44a585432889b033f060"
   },
   "source": [
    "## Run Quality Monitor"
   ]
  },
  {
   "cell_type": "code",
   "execution_count": null,
   "metadata": {
    "id": "adfd17e52f3e4c4f88c4fe8016c4d6b0"
   },
   "outputs": [],
   "source": [
    "run_details = wos_client.monitor_instances.run(monitor_instance_id=quality_monitor_instance_id, background_mode=False).result"
   ]
  },
  {
   "cell_type": "code",
   "execution_count": null,
   "metadata": {
    "id": "9067577f098247d6bceb49f733097b75"
   },
   "outputs": [],
   "source": [
    "wos_client.monitor_instances.show_metrics(monitor_instance_id=quality_monitor_instance_id)"
   ]
  },
  {
   "cell_type": "markdown",
   "metadata": {
    "id": "37c0967b10a1460c817d7eebe273d549"
   },
   "source": [
    "# Drift Configuration"
   ]
  },
  {
   "cell_type": "markdown",
   "metadata": {
    "id": "033d1ee83da3498ab2b1981ea9d3f144"
   },
   "source": [
    "## Create the drift detection model archive"
   ]
  },
  {
   "cell_type": "code",
   "execution_count": null,
   "metadata": {
    "id": "5d37de5934d5473e81d1b1b946b2676a"
   },
   "outputs": [],
   "source": [
    "def score(training_data_frame):\n",
    "      \n",
    "    #The data type of the label column and prediction column should be same .\n",
    "    #User needs to make sure that label column and prediction column array should have the same unique class labels\n",
    "    prediction_column_name = \"predictedLabel\"\n",
    "    probability_column_name = \"probability\"\n",
    "        \n",
    "    feature_columns = list(training_data_frame.columns)\n",
    "    training_data_rows = training_data_frame[feature_columns].values.tolist()\n",
    "    \n",
    "    payload_scoring = {\n",
    "      wml_client.deployments.ScoringMetaNames.INPUT_DATA: [{\n",
    "           \"fields\": feature_columns,\n",
    "           \"values\": [x for x in training_data_rows]\n",
    "      }]\n",
    "    }\n",
    "\n",
    "    score = wml_client.deployments.score(deployment_uid, payload_scoring)\n",
    "    score_predictions = score.get('predictions')[0]\n",
    "\n",
    "    prob_col_index = list(score_predictions.get('fields')).index(probability_column_name)\n",
    "    predict_col_index = list(score_predictions.get('fields')).index(prediction_column_name)\n",
    "\n",
    "    if prob_col_index < 0 or predict_col_index < 0:\n",
    "        raise Exception(\"Missing prediction/probability column in the scoring response\")\n",
    "\n",
    "    import numpy as np\n",
    "    probability_array = np.array([value[prob_col_index] for value in score_predictions.get('values')])\n",
    "    prediction_vector = np.array([value[predict_col_index] for value in score_predictions.get('values')])\n",
    "\n",
    "    return probability_array, prediction_vector"
   ]
  },
  {
   "cell_type": "code",
   "execution_count": null,
   "metadata": {
    "id": "018d764554af48c887e28f33f3c6ece9"
   },
   "outputs": [],
   "source": [
    "import pandas as pd\n",
    "training_data_frame=pd.read_csv(\"german_credit_data_biased_training.csv\")\n",
    "training_data_frame.head()"
   ]
  },
  {
   "cell_type": "code",
   "execution_count": null,
   "metadata": {
    "id": "226adfb1fd1c4e628582a894746bf9be"
   },
   "outputs": [],
   "source": [
    "probability_array, prediction_vector = score(training_data_frame)\n",
    "prediction_vector"
   ]
  },
  {
   "cell_type": "code",
   "execution_count": null,
   "metadata": {
    "id": "f2d3db7dd4cc489d8ab484f396ac5085"
   },
   "outputs": [],
   "source": [
    "from ibm_wos_utils.drift.drift_trainer import DriftTrainer\n",
    "\n",
    "drift_detection_input = {\n",
    "    \"feature_columns\": feature_columns,\n",
    "    \"categorical_columns\":cat_features,\n",
    "    \"label_column\": class_label,\n",
    "    \"problem_type\": \"binary\"\n",
    "}\n",
    "\n",
    "drift_trainer = DriftTrainer(training_data_frame, drift_detection_input)\n",
    "drift_trainer.generate_drift_detection_model(score, batch_size=training_data_frame.shape[0], check_for_ddm_quality=False)\n",
    "drift_trainer.learn_constraints(\n",
    "    two_column_learner_limit=200, categorical_unique_threshold=0.8, user_overrides=[])\n",
    "drift_trainer.create_archive()"
   ]
  },
  {
   "cell_type": "markdown",
   "metadata": {
    "id": "aec8b83613724a8f8d3360fe46df5c0a"
   },
   "source": [
    "### Enable the drift monitor"
   ]
  },
  {
   "cell_type": "markdown",
   "metadata": {
    "id": "3b9117de377943948135cc3717ccd500"
   },
   "source": [
    "In the following code cell, type a path to the drift configuration tar ball."
   ]
  },
  {
   "cell_type": "code",
   "execution_count": null,
   "metadata": {
    "id": "a34f983fbb2a472083a3dfadc5eb9c65"
   },
   "outputs": [],
   "source": [
    "wos_client.monitor_instances.upload_drift_model(\n",
    "    model_path=\"drift_detection_model.tar.gz\",\n",
    "    data_mart_id=data_mart_id,\n",
    "    subscription_id=subscription_id\n",
    ").result"
   ]
  },
  {
   "cell_type": "markdown",
   "metadata": {
    "id": "8fe2184b01ff4b1888fe77bf9a5abbb6"
   },
   "source": [
    "In the following code cell, default values are set for the drift monitor. You can change the default values by updating the values in the parameters section. The min_samples parameter controls the number of records that triggers the drift monitor to run. The drift_threshold parameter sets the threshold in decimal format for the drift percentage to trigger an alert. The train_drift_model parameter controls whether to re-train the model based on the drift analysis."
   ]
  },
  {
   "cell_type": "code",
   "execution_count": null,
   "metadata": {
    "id": "f7f34159743e492b84e447fa1a3e4dac"
   },
   "outputs": [],
   "source": [
    "import time\n",
    "\n",
    "target = Target(\n",
    "    target_type=TargetTypes.SUBSCRIPTION,\n",
    "    target_id=subscription_id\n",
    ")\n",
    "\n",
    "parameters = {\n",
    "    \"min_samples\": 100,\n",
    "    \"drift_threshold\": 0.05,\n",
    "    \"train_drift_model\": False\n",
    "}\n",
    "\n",
    "drift_monitor_details = wos_client.monitor_instances.create(\n",
    "    data_mart_id=data_mart_id,\n",
    "    monitor_definition_id=wos_client.monitor_definitions.MONITORS.DRIFT.ID,\n",
    "    target=target,\n",
    "    parameters=parameters\n",
    ").result\n",
    "\n",
    "drift_monitor_instance_id = drift_monitor_details.metadata.id\n",
    "print(drift_monitor_details)"
   ]
  },
  {
   "cell_type": "markdown",
   "metadata": {
    "id": "cd5009b2aae34f8d858881c4d579a55f"
   },
   "source": [
    "## Check monitor instance status"
   ]
  },
  {
   "cell_type": "code",
   "execution_count": null,
   "metadata": {
    "id": "c6bb901ae33e4712a379e5c905c11dfc"
   },
   "outputs": [],
   "source": [
    "drift_status = None\n",
    "\n",
    "while drift_status not in (\"active\", \"error\"):\n",
    "    monitor_instance_details = wos_client.monitor_instances.get(monitor_instance_id=drift_monitor_instance_id).result\n",
    "    drift_status = monitor_instance_details.entity.status.state\n",
    "    if drift_status not in (\"active\", \"error\"):\n",
    "        print(datetime.utcnow().strftime('%H:%M:%S'), drift_status)\n",
    "        time.sleep(30)\n",
    "\n",
    "print(datetime.utcnow().strftime('%H:%M:%S'), drift_status)"
   ]
  },
  {
   "cell_type": "markdown",
   "metadata": {
    "id": "946296294929480180f1ab60b0336dfa"
   },
   "source": [
    "## Run an on-demand evaluation"
   ]
  },
  {
   "cell_type": "code",
   "execution_count": null,
   "metadata": {
    "id": "41c8a3d5548e4d97b8a87c69e31e9520"
   },
   "outputs": [],
   "source": [
    "# Check Drift monitor instance details\n",
    "\n",
    "monitor_instance_details = wos_client.monitor_instances.get(monitor_instance_id=drift_monitor_instance_id).result\n",
    "print(monitor_instance_details)"
   ]
  },
  {
   "cell_type": "code",
   "execution_count": null,
   "metadata": {
    "id": "a0cd274bbe47418583ca873246683e73"
   },
   "outputs": [],
   "source": [
    "# Trigger on-demand run\n",
    "\n",
    "monitoring_run_details = wos_client.monitor_instances.run(monitor_instance_id=drift_monitor_instance_id).result\n",
    "monitoring_run_id=monitoring_run_details.metadata.id\n",
    "\n",
    "print(monitoring_run_details)"
   ]
  },
  {
   "cell_type": "code",
   "execution_count": null,
   "metadata": {
    "id": "806c9a4638934d13b347f686670996ca"
   },
   "outputs": [],
   "source": [
    "# Check run status\n",
    "\n",
    "drift_run_status = None\n",
    "while drift_run_status not in (\"finished\", \"error\"):\n",
    "    monitoring_run_details = wos_client.monitor_instances.get_run_details(monitor_instance_id=drift_monitor_instance_id, monitoring_run_id=monitoring_run_id).result\n",
    "    drift_run_status = monitoring_run_details.entity.status.state\n",
    "    if drift_run_status not in (\"finished\", \"error\"):\n",
    "        print(datetime.utcnow().strftime(\"%H:%M:%S\"), drift_run_status)\n",
    "        time.sleep(30)\n",
    "        \n",
    "print(datetime.utcnow().strftime(\"%H:%M:%S\"), drift_run_status)"
   ]
  },
  {
   "cell_type": "markdown",
   "metadata": {
    "id": "e5e0387d165e423fb62edda0d6021ed9"
   },
   "source": [
    "## Display drift metrics"
   ]
  },
  {
   "cell_type": "code",
   "execution_count": null,
   "metadata": {
    "id": "1b089c7ecbea4a8382f63d162c53773f"
   },
   "outputs": [],
   "source": [
    "wos_client.monitor_instances.show_metrics(monitor_instance_id=drift_monitor_instance_id)"
   ]
  },
  {
   "cell_type": "markdown",
   "metadata": {
    "id": "03db2a8db59c417b89348fa82c665260"
   },
   "source": [
    "<!-- ### Run on-demand Fairness\n",
    "If you would like to peform an on-demand fairness check, then we need to score a fresh set of data with meta-fields, so that they would be used for indirect bias checking. So the below two cells will score and make sure these records are reached to payload logging table. -->"
   ]
  },
  {
   "cell_type": "markdown",
   "metadata": {
    "id": "48c3a513d1a44de782f747574f431d66"
   },
   "source": [
    "Author: Ravi Chamarthy (ravi.chamarthy@in.ibm.com)"
   ]
  }
 ],
 "metadata": {
  "kernelspec": {
   "display_name": "Python 3 (ipykernel)",
   "language": "python",
   "name": "python3"
  },
  "language_info": {
   "codemirror_mode": {
    "name": "ipython",
    "version": 3
   },
   "file_extension": ".py",
   "mimetype": "text/x-python",
   "name": "python",
   "nbconvert_exporter": "python",
   "pygments_lexer": "ipython3",
   "version": "3.9.7"
  },
  "vscode": {
   "interpreter": {
    "hash": "dbf53fce1b4f805dfa7248c873cd5919f94c1d61eaf85ef20024e88fdf9444a6"
   }
  }
 },
 "nbformat": 4,
 "nbformat_minor": 1
}
