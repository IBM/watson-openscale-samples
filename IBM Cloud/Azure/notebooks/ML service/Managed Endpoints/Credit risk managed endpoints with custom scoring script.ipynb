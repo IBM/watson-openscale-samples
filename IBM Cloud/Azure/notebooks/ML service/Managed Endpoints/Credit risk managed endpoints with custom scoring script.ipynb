{
  "cells": [
    {
      "cell_type": "markdown",
      "metadata": {},
      "source": [
        "<img src=\"https://github.com/pmservice/ai-openscale-tutorials/raw/master/notebooks/images/banner.png\" align=\"left\" alt=\"banner\">"
      ]
    },
    {
      "cell_type": "markdown",
      "metadata": {},
      "source": [
        "This notebook shows how to deploy a managed endpoint with custom scoring script and monitor using Watson OpenScale python sdk.\n",
        "\n",
        "### Contents\n",
        "\n",
        "1. <a href=\"#createmanagedep\">Deploy the model as Managed endpoint in azure machine learning platform</a>\n",
        "2. [Openscale Setup](#setup)\n",
        "3. [Binding machine learning engine](#binding)\n",
        "4. [Subscriptions](#subsciption)\n",
        "5. [Performance monitor, scoring and payload logging](#scoring)\n",
        "6. [Quality monitor and feedback logging](#feedback)\n",
        "7. [Drift monitor and explainability](#monitors)"
      ]
    },
    {
      "attachments": {},
      "cell_type": "markdown",
      "metadata": {},
      "source": [
        "# Deploy GCR MLflow model to online endpoints with a custom environment and scoring script"
      ]
    },
    {
      "cell_type": "markdown",
      "metadata": {},
      "source": [
        "## 1. Connect to Azure Machine Learning Workspace\n",
        "The [workspace](https://docs.microsoft.com/azure/machine-learning/concept-workspace) is the top-level resource for Azure Machine Learning, providing a centralized place to work with all the artifacts you create when you use Azure Machine Learning. In this section we will connect to the workspace in which the job will be run."
      ]
    },
    {
      "cell_type": "markdown",
      "metadata": {},
      "source": [
        "### 1.1 Import the required libraries"
      ]
    },
    {
      "cell_type": "code",
      "execution_count": 1,
      "metadata": {
        "gather": {
          "logged": 1723178242254
        },
        "jupyter": {
          "outputs_hidden": false,
          "source_hidden": false
        },
        "nteract": {
          "transient": {
            "deleting": false
          }
        }
      },
      "outputs": [],
      "source": [
        "!pip install azure-ai-ml | tail -n 1"
      ]
    },
    {
      "cell_type": "code",
      "execution_count": 2,
      "metadata": {
        "gather": {
          "logged": 1723179171135
        }
      },
      "outputs": [],
      "source": [
        "# import required libraries\n",
        "from azure.ai.ml import MLClient\n",
        "from azure.ai.ml.entities import (\n",
        "    ManagedOnlineEndpoint,\n",
        "    ManagedOnlineDeployment,\n",
        "    Model,\n",
        "    Environment,\n",
        "    CodeConfiguration,\n",
        ")\n",
        "from azure.identity import DefaultAzureCredential\n",
        "from azure.ai.ml.constants import AssetTypes\n",
        "import os\n",
        "import json"
      ]
    },
    {
      "cell_type": "markdown",
      "metadata": {},
      "source": [
        "### 1.2 Configure workspace details and get a handle to the workspace\n",
        "\n",
        "To connect to a workspace, we need identifier parameters - a subscription, resource group and workspace name. We will use these details in the `MLClient` from `azure.ai.ml` to get a handle to the required Azure Machine Learning workspace. We use the default [default azure authentication](https://docs.microsoft.com/en-us/python/api/azure-identity/azure.identity.defaultazurecredential?view=azure-python) for this tutorial. Check the [configuration notebook](../../jobs/configuration.ipynb) for more details on how to configure credentials and connect to a workspace."
      ]
    },
    {
      "cell_type": "code",
      "execution_count": 3,
      "metadata": {
        "gather": {
          "logged": 1723178261758
        }
      },
      "outputs": [],
      "source": [
        "# enter details of your AML workspace\n",
        "subscription_id = \"<EDIT THIS>\"\n",
        "resource_group = \"<EDIT THIS>\"\n",
        "workspace = \"<EDIT THIS>\""
      ]
    },
    {
      "cell_type": "code",
      "execution_count": 4,
      "metadata": {
        "gather": {
          "logged": 1723178265327
        }
      },
      "outputs": [],
      "source": [
        "ml_client = MLClient(\n",
        "    DefaultAzureCredential(), subscription_id, resource_group, workspace\n",
        ")\n",
        "\n",
        "# Or if you are working in a compute instance in Azure Machine Learning, uncomment the below code\n",
        "\n",
        "# ml_client = MLClient.from_config(DefaultAzureCredential())"
      ]
    },
    {
      "cell_type": "markdown",
      "metadata": {},
      "source": [
        "## 2. Create Online Endpoint\n",
        "\n",
        "Online endpoints are endpoints that are used for online (real-time) inferencing. Online endpoints contain deployments that are ready to receive data from clients and can send responses back in real time.\n",
        "\n",
        "To create an online endpoint we will use `ManagedOnlineEndpoint`. This class allows user to configure the following key aspects:\n",
        "\n",
        "- `name` - Name of the endpoint. Needs to be unique at the Azure region level\n",
        "- `auth_mode` - The authentication method for the endpoint. Key-based authentication and Azure ML token-based authentication are supported. Key-based authentication doesn't expire but Azure ML token-based authentication does. Possible values are `key` or `aml_token`.\n",
        "- `identity`- The managed identity configuration for accessing Azure resources for endpoint provisioning and inference.\n",
        "    - `type`- The type of managed identity. Azure Machine Learning supports `system_assigned` or `user_assigned identity`.\n",
        "    - `user_assigned_identities` - List (array) of fully qualified resource IDs of the user-assigned identities. This property is required is `identity.type` is user_assigned.\n",
        "- `description`- Description of the endpoint."
      ]
    },
    {
      "cell_type": "markdown",
      "metadata": {},
      "source": [
        "### 2.1 Configure the endpoint"
      ]
    },
    {
      "cell_type": "code",
      "execution_count": 6,
      "metadata": {
        "gather": {
          "logged": 1723178295541
        }
      },
      "outputs": [],
      "source": [
        "endpoint_name=\"binary-gcr-endpint-notebook\"\n",
        "\n",
        "endpoint = ManagedOnlineEndpoint(\n",
        "    name=endpoint_name,\n",
        "    description=\"Managed endpoint for binary german credit risk\",\n",
        "    auth_mode=\"key\",\n",
        "    tags={\"foo\": \"bar\"},\n",
        ")"
      ]
    },
    {
      "cell_type": "markdown",
      "metadata": {},
      "source": [
        "### 2.2 Create the endpoint\n",
        "Using the `MLClient` created earlier, we will now create the Endpoint in the workspace. This command will start the endpoint creation and return a confirmation response while the endpoint creation continues."
      ]
    },
    {
      "cell_type": "code",
      "execution_count": 7,
      "metadata": {
        "gather": {
          "logged": 1723178337480
        }
      },
      "outputs": [
        {
          "data": {
            "text/plain": [
              "ManagedOnlineEndpoint({'public_network_access': 'Enabled', 'provisioning_state': 'Succeeded', 'scoring_uri': 'https://binary-gcr-endpint-notebook.southcentralus.inference.ml.azure.com/score', 'openapi_uri': 'https://binary-gcr-endpint-notebook.southcentralus.inference.ml.azure.com/swagger.json', 'name': 'binary-gcr-endpint-notebook', 'description': 'Managed endpoint for binary german credit risk', 'tags': {'foo': 'bar'}, 'properties': {'createdBy': 'c943757b-86e7-417c-b3e4-45e2738fe59c', 'createdAt': '2024-08-08T19:01:03.715368+0000', 'lastModifiedAt': '2024-08-08T19:01:03.715368+0000', 'azureml.onlineendpointid': '/subscriptions/744bca72-2299-451c-b682-ed6fb75fb671/resourcegroups/bias_explainability/providers/microsoft.machinelearningservices/workspaces/bias_dev/onlineendpoints/binary-gcr-endpint-notebook', 'AzureAsyncOperationUri': 'https://management.azure.com/subscriptions/744bca72-2299-451c-b682-ed6fb75fb671/providers/Microsoft.MachineLearningServices/locations/southcentralus/mfeOperationsStatus/oeidp:83ebcacc-4777-42f5-b4f0-04f9aa0aaedb:45fa7b92-6ad2-482c-bbe9-af92b59d3ef8?api-version=2022-02-01-preview'}, 'print_as_yaml': False, 'id': '/subscriptions/744bca72-2299-451c-b682-ed6fb75fb671/resourceGroups/bias_explainability/providers/Microsoft.MachineLearningServices/workspaces/bias_dev/onlineEndpoints/binary-gcr-endpint-notebook', 'Resource__source_path': '', 'base_path': '/mnt/batch/tasks/shared/LS_root/mounts/clusters/mlg-test/code/Users/bibybinu', 'creation_context': None, 'serialize': <msrest.serialization.Serializer object at 0x7fa05c97d640>, 'auth_mode': 'key', 'location': 'southcentralus', 'identity': <azure.ai.ml.entities._credentials.IdentityConfiguration object at 0x7fa05c97d940>, 'traffic': {}, 'mirror_traffic': {}, 'kind': 'Managed'})"
            ]
          },
          "execution_count": 8,
          "metadata": {},
          "output_type": "execute_result"
        }
      ],
      "source": [
        "ml_client.online_endpoints.begin_create_or_update(endpoint).result()"
      ]
    },
    {
      "cell_type": "markdown",
      "metadata": {},
      "source": [
        "## 3. Create a blue deployment\n",
        "\n",
        "A deployment is a set of resources required for hosting the model that does the actual inferencing. We will create a deployment for our endpoint using the `ManagedOnlineDeployment` class. This class allows user to configure the following key aspects.\n",
        "\n",
        "- `name` - Name of the deployment.\n",
        "- `endpoint_name` - Name of the endpoint to create the deployment under.\n",
        "- `model` - The model to use for the deployment. This value can be either a reference to an existing versioned model in the workspace or an inline model specification.\n",
        "- `environment` - The environment where the model will run.\n",
        "- `code_configuration` - The scoring script used to serve the model.\n",
        "- `instance_type` - The VM size to use for the deployment. For the list of supported sizes, see [Managed online endpoints SKU list](https://docs.microsoft.com/azure/machine-learning/reference-managed-online-endpoints-vm-sku-list).\n",
        "- `instance_count` - The number of instances to use for the deployment"
      ]
    },
    {
      "cell_type": "markdown",
      "metadata": {},
      "source": [
        "### 3.1 Configure the deployment"
      ]
    },
    {
      "attachments": {},
      "cell_type": "markdown",
      "metadata": {},
      "source": [
        "Registering the model:"
      ]
    },
    {
      "cell_type": "code",
      "execution_count": 8,
      "metadata": {
        "gather": {
          "logged": 1723178411991
        },
        "jupyter": {
          "outputs_hidden": false,
          "source_hidden": false
        },
        "nteract": {
          "transient": {
            "deleting": false
          }
        }
      },
      "outputs": [],
      "source": [
        "from azure.ai.ml.entities import ManagedOnlineDeployment\n",
        "\n",
        "registered_model_name=\"<EDIT THIS>\"\n",
        "latest_model_version=\"<EDIT THIS>\"\n",
        "\n",
        "# Choose the latest version of the registered model for deployment\n",
        "model = ml_client.models.get(name=registered_model_name, version=latest_model_version)"
      ]
    },
    {
      "attachments": {},
      "cell_type": "markdown",
      "metadata": {},
      "source": [
        "**Creating an environment to perform inference:**\n",
        "\n",
        "- Add the path to the conda.yaml file (Can be accessed from the artifacts of the model selected)\n",
        "- Use ubuntu image available in azure. Refer [Customize mlflow model deployments](https://learn.microsoft.com/en-us/azure/machine-learning/how-to-deploy-mlflow-models-online-endpoints?view=azureml-api-2&tabs=cli#customize-mlflow-model-deployments) for more details"
      ]
    },
    {
      "cell_type": "code",
      "execution_count": 9,
      "metadata": {
        "gather": {
          "logged": 1723178608862
        },
        "jupyter": {
          "outputs_hidden": false,
          "source_hidden": false
        },
        "nteract": {
          "transient": {
            "deleting": false
          }
        }
      },
      "outputs": [],
      "source": [
        "environment = Environment(\n",
        "    conda_file=\"conda.yaml\",\n",
        "    image=\"mcr.microsoft.com/azureml/openmpi4.1.0-ubuntu22.04:latest\",\n",
        ")"
      ]
    },
    {
      "attachments": {},
      "cell_type": "markdown",
      "metadata": {},
      "source": [
        "Creating the deployment:"
      ]
    },
    {
      "cell_type": "code",
      "execution_count": 10,
      "metadata": {},
      "outputs": [
        {
          "name": "stdout",
          "output_type": "stream",
          "text": [
            "Writing custom_scoring_script.py\n"
          ]
        }
      ],
      "source": [
        "%%writefile custom_scoring_script.py\n",
        "import json\n",
        "import logging\n",
        "import os\n",
        "import pickle\n",
        "import numpy as np\n",
        "import pandas as pd\n",
        "\n",
        "import mlflow\n",
        "import mlflow.sklearn\n",
        "from io import StringIO\n",
        "from mlflow.pyfunc.scoring_server import infer_and_parse_json_input, predictions_to_json\n",
        "\n",
        "def init():\n",
        "    global model\n",
        "    global input_schema\n",
        "    # \"model\" is the path of the mlflow artifacts when the model was registered. For automl\n",
        "    # models, this is generally \"mlflow-model\".\n",
        "    model_path = os.path.join(os.getenv(\"AZUREML_MODEL_DIR\"), \"mlflow-model\")\n",
        "    model = mlflow.sklearn.load_model(model_path)\n",
        "\n",
        "def run(input_data):\n",
        "    import json\n",
        "    if type(input_data) is str:\n",
        "        dict_data = json.loads(input_data)\n",
        "    else:\n",
        "        dict_data = input_data\n",
        "\n",
        "    data = pd.DataFrame.from_dict(dict_data['input'])\n",
        "    result_probas = model.predict_proba(data)\n",
        "    results = model.predict(data)\n",
        "\n",
        "    if isinstance(results, pd.DataFrame):\n",
        "        results = results.values.tolist()\n",
        "    if isinstance(result_probas, pd.DataFrame):\n",
        "        result_probas = result_probas.values.tolist()\n",
        "    result_vector = []\n",
        "    for result, result_proba in zip(results, result_probas):\n",
        "        result_vector.append(\n",
        "            {\"Scored Labels\": result, \"Scored Probabilities\": result_proba})\n",
        "\n",
        "    output = {'output': result_vector}\n",
        "    return json.dumps(output)"
      ]
    },
    {
      "cell_type": "code",
      "execution_count": 11,
      "metadata": {
        "gather": {
          "logged": 1723178694930
        },
        "name": "blue_deployment"
      },
      "outputs": [],
      "source": [
        "blue_deployment = ManagedOnlineDeployment(\n",
        "    name=\"gcr-deployment-1\",\n",
        "    endpoint_name=endpoint_name,\n",
        "    model=model,\n",
        "    environment=environment,\n",
        "    code_configuration=CodeConfiguration(\n",
        "        code=\"./\", scoring_script=\"score.py\"\n",
        "    ),\n",
        "    instance_type=\"Standard_F4s_v2\",\n",
        "    instance_count=1,\n",
        ")\n"
      ]
    },
    {
      "cell_type": "markdown",
      "metadata": {},
      "source": [
        "### 3.2 Create the deployment\n",
        "\n",
        "Using the `MLClient` created earlier, we will now create the deployment in the workspace. This command will start the deployment creation and return a confirmation response while the deployment creation continues."
      ]
    },
    {
      "cell_type": "code",
      "execution_count": 12,
      "metadata": {
        "gather": {
          "logged": 1723178939387
        },
        "name": "ml_client"
      },
      "outputs": [
        {
          "name": "stderr",
          "output_type": "stream",
          "text": [
            "Check: endpoint binary-gcr-endpint-notebook exists\n",
            "\u001b[32mUploading bibybinu (0.54 MBs): 100%|██████████| 542951/542951 [00:00<00:00, 1663732.12it/s]\n",
            "\u001b[39m\n",
            "\n"
          ]
        },
        {
          "name": "stdout",
          "output_type": "stream",
          "text": [
            "..........................................."
          ]
        },
        {
          "data": {
            "text/plain": [
              "ManagedOnlineDeployment({'private_network_connection': None, 'package_model': False, 'provisioning_state': 'Succeeded', 'endpoint_name': 'binary-gcr-endpint-notebook', 'type': 'Managed', 'name': 'gcr-deployment-1', 'description': None, 'tags': {}, 'properties': {'AzureAsyncOperationUri': 'https://management.azure.com/subscriptions/744bca72-2299-451c-b682-ed6fb75fb671/providers/Microsoft.MachineLearningServices/locations/southcentralus/mfeOperationsStatus/odidp:83ebcacc-4777-42f5-b4f0-04f9aa0aaedb:27572388-01df-4a19-bc1e-bbe0d69d37d8?api-version=2023-04-01-preview'}, 'print_as_yaml': False, 'id': '/subscriptions/744bca72-2299-451c-b682-ed6fb75fb671/resourceGroups/bias_explainability/providers/Microsoft.MachineLearningServices/workspaces/bias_dev/onlineEndpoints/binary-gcr-endpint-notebook/deployments/gcr-deployment-1', 'Resource__source_path': '', 'base_path': '/mnt/batch/tasks/shared/LS_root/mounts/clusters/mlg-test/code/Users/bibybinu', 'creation_context': <azure.ai.ml._restclient.v2023_04_01_preview.models._models_py3.SystemData object at 0x7fa05c080610>, 'serialize': <msrest.serialization.Serializer object at 0x7fa05fa36ac0>, 'model': '/subscriptions/744bca72-2299-451c-b682-ed6fb75fb671/resourceGroups/bias_explainability/providers/Microsoft.MachineLearningServices/workspaces/bias_dev/models/divyagcr18/versions/1', 'code_configuration': {'code': '/subscriptions/744bca72-2299-451c-b682-ed6fb75fb671/resourceGroups/bias_explainability/providers/Microsoft.MachineLearningServices/workspaces/bias_dev/codes/ee8a8ac0-d369-40e3-9691-d47840ed74bf/versions/1'}, 'environment': '/subscriptions/744bca72-2299-451c-b682-ed6fb75fb671/resourceGroups/bias_explainability/providers/Microsoft.MachineLearningServices/workspaces/bias_dev/environments/CliV2AnonymousEnvironment/versions/5fc54deeb2e2b138a7cef5dfecb95810', 'environment_variables': {'AZUREML_MODEL_DIR': '/var/azureml-app/azureml-models/divyagcr18/1', 'AZUREML_ENTRY_SCRIPT': 'score.py', 'AML_APP_ROOT': '/var/azureml-app/bibybinu'}, 'app_insights_enabled': False, 'scale_settings': <azure.ai.ml.entities._deployment.scale_settings.DefaultScaleSettings object at 0x7fa05c08bbe0>, 'request_settings': <azure.ai.ml.entities._deployment.deployment_settings.OnlineRequestSettings object at 0x7fa05c8c1dc0>, 'liveness_probe': <azure.ai.ml.entities._deployment.deployment_settings.ProbeSettings object at 0x7fa05c08b190>, 'readiness_probe': <azure.ai.ml.entities._deployment.deployment_settings.ProbeSettings object at 0x7fa05c08b4c0>, 'instance_count': 1, 'arm_type': 'online_deployment', 'model_mount_path': None, 'instance_type': 'Standard_F4s_v2', 'data_collector': None, 'egress_public_network_access': 'Enabled'})"
            ]
          },
          "execution_count": 12,
          "metadata": {},
          "output_type": "execute_result"
        }
      ],
      "source": [
        "ml_client.online_deployments.begin_create_or_update(blue_deployment).result()"
      ]
    },
    {
      "cell_type": "code",
      "execution_count": 13,
      "metadata": {
        "gather": {
          "logged": 1723178985136
        },
        "name": "endpoint.traffic"
      },
      "outputs": [
        {
          "data": {
            "text/plain": [
              "ManagedOnlineEndpoint({'public_network_access': 'Enabled', 'provisioning_state': 'Succeeded', 'scoring_uri': 'https://binary-gcr-endpint-notebook.southcentralus.inference.ml.azure.com/score', 'openapi_uri': 'https://binary-gcr-endpint-notebook.southcentralus.inference.ml.azure.com/swagger.json', 'name': 'binary-gcr-endpint-notebook', 'description': 'Managed endpoint for binary german credit risk', 'tags': {'foo': 'bar'}, 'properties': {'createdBy': 'c943757b-86e7-417c-b3e4-45e2738fe59c', 'createdAt': '2024-08-08T19:01:03.715368+0000', 'lastModifiedAt': '2024-08-08T19:01:03.715368+0000', 'azureml.onlineendpointid': '/subscriptions/744bca72-2299-451c-b682-ed6fb75fb671/resourcegroups/bias_explainability/providers/microsoft.machinelearningservices/workspaces/bias_dev/onlineendpoints/binary-gcr-endpint-notebook', 'AzureAsyncOperationUri': 'https://management.azure.com/subscriptions/744bca72-2299-451c-b682-ed6fb75fb671/providers/Microsoft.MachineLearningServices/locations/southcentralus/mfeOperationsStatus/oeidp:83ebcacc-4777-42f5-b4f0-04f9aa0aaedb:ced41025-af9f-445f-a72e-efdc96386c5c?api-version=2022-02-01-preview'}, 'print_as_yaml': False, 'id': '/subscriptions/744bca72-2299-451c-b682-ed6fb75fb671/resourceGroups/bias_explainability/providers/Microsoft.MachineLearningServices/workspaces/bias_dev/onlineEndpoints/binary-gcr-endpint-notebook', 'Resource__source_path': '', 'base_path': '/mnt/batch/tasks/shared/LS_root/mounts/clusters/mlg-test/code/Users/bibybinu', 'creation_context': None, 'serialize': <msrest.serialization.Serializer object at 0x7fa05c08b280>, 'auth_mode': 'key', 'location': 'southcentralus', 'identity': <azure.ai.ml.entities._credentials.IdentityConfiguration object at 0x7fa05c9acc40>, 'traffic': {'gcr-deployment-1': 100}, 'mirror_traffic': {}, 'kind': 'Managed'})"
            ]
          },
          "execution_count": 17,
          "metadata": {},
          "output_type": "execute_result"
        }
      ],
      "source": [
        "endpoint.traffic = {blue_deployment.name: 100}\n",
        "ml_client.begin_create_or_update(endpoint).result()"
      ]
    },
    {
      "cell_type": "markdown",
      "metadata": {},
      "source": [
        "## 4. Test the deployment\n",
        "\n",
        "Using the `MLClient` created earlier, we will get a handle to the endpoint. The endpoint can be invoked using the invoke command with the following parameters:\n",
        "\n",
        "- `endpoint_name` - Name of the endpoint\n",
        "- `request_file` - File with request data\n",
        "- `deployment_name` - Name of the specific deployment to test in an endpoint\n",
        "\n",
        "We will send a sample request using a [sample-request-sklearn-custom.json](sample-request-sklearn-custom.json) file."
      ]
    },
    {
      "cell_type": "code",
      "execution_count": 14,
      "metadata": {
        "gather": {
          "logged": 1723179204003
        }
      },
      "outputs": [
        {
          "data": {
            "text/plain": [
              "'\"{\\\\\"output\\\\\": [{\\\\\"Scored Labels\\\\\": \\\\\"No Risk\\\\\", \\\\\"Scored Probabilities\\\\\": [0.7951253652572632, 0.2048746645450592]}]}\"'"
            ]
          },
          "execution_count": 26,
          "metadata": {},
          "output_type": "execute_result"
        }
      ],
      "source": [
        "ml_client.online_endpoints.invoke(\n",
        "    endpoint_name=endpoint_name,\n",
        "    deployment_name=\"gcr-deployment-1\",\n",
        "    request_file=\"scoring_payload.json\",\n",
        ")"
      ]
    },
    {
      "cell_type": "markdown",
      "metadata": {},
      "source": [
        "## 5. Get endpoint details"
      ]
    },
    {
      "cell_type": "code",
      "execution_count": 15,
      "metadata": {
        "gather": {
          "logged": 1723179210982
        }
      },
      "outputs": [
        {
          "name": "stdout",
          "output_type": "stream",
          "text": [
            "{'gcr-deployment-1': 100}\n",
            "https://binary-gcr-endpint-notebook.southcentralus.inference.ml.azure.com/score\n"
          ]
        }
      ],
      "source": [
        "# Get the details for online endpoint\n",
        "endpoint = ml_client.online_endpoints.get(name=endpoint_name)\n",
        "\n",
        "# existing traffic details\n",
        "print(endpoint.traffic)\n",
        "\n",
        "# Get the scoring URI\n",
        "print(endpoint.scoring_uri)"
      ]
    },
    {
      "cell_type": "markdown",
      "metadata": {},
      "source": [
        "# Configure Azure managed endpoints with Openscale - Azure Machine Learning service engine\n",
        "\n",
        "This notebook shows how to monitor the designer based endpoints deployed on Azure Machine Learning Studio using Watson OpenScale python sdk."
      ]
    },
    {
      "cell_type": "markdown",
      "metadata": {},
      "source": [
        "## 1. Setup"
      ]
    },
    {
      "cell_type": "code",
      "execution_count": 16,
      "metadata": {},
      "outputs": [
        {
          "name": "stdout",
          "output_type": "stream",
          "text": [
            "Requirement already satisfied: certifi>=2017.4.17 in /Users/bibybinu/miniconda3/envs/metrics_copy/lib/python3.10/site-packages (from requests<3.0,>=2.0->ibm-watson-openscale==3.0.39) (2024.2.2)\n"
          ]
        }
      ],
      "source": [
        "!pip install --upgrade --upgrade ibm-watson-openscale==3.0.39 --no-cache | tail -n 1"
      ]
    },
    {
      "cell_type": "markdown",
      "metadata": {},
      "source": [
        "**Action:** Restart the kernel (Kernel->Restart)\n",
        "\n",
        "#### ACTION: Get Watson OpenScale `apikey`\n",
        "\n",
        "How to install IBM Cloud (bluemix) console: [instruction](https://console.bluemix.net/docs/cli/reference/ibmcloud/download_cli.html#install_use)\n",
        "\n",
        "How to get api key using bluemix console:\n",
        "```\n",
        "bx login --sso\n",
        "bx iam api-key-create 'my_key'\n",
        "```"
      ]
    },
    {
      "cell_type": "code",
      "execution_count": 17,
      "metadata": {},
      "outputs": [],
      "source": [
        "CLOUD_API_KEY = '<EDIT THIS>'"
      ]
    },
    {
      "cell_type": "code",
      "execution_count": 18,
      "metadata": {},
      "outputs": [
        {
          "data": {
            "text/plain": [
              "'3.0.39'"
            ]
          },
          "execution_count": 5,
          "metadata": {},
          "output_type": "execute_result"
        }
      ],
      "source": [
        "from ibm_cloud_sdk_core.authenticators import IAMAuthenticator,BearerTokenAuthenticator\n",
        "\n",
        "from ibm_watson_openscale import *\n",
        "from ibm_watson_openscale.supporting_classes.enums import *\n",
        "from ibm_watson_openscale.supporting_classes import *\n",
        "\n",
        "authenticator = IAMAuthenticator(apikey=CLOUD_API_KEY)\n",
        "#authenticator = BearerTokenAuthenticator(bearer_token=IAM_TOKEN) ## uncomment if using IAM token\n",
        "\n",
        "wos_client = APIClient(authenticator=authenticator)\n",
        "\n",
        "wos_client.version\n",
        "\n"
      ]
    },
    {
      "cell_type": "markdown",
      "metadata": {},
      "source": [
        "#### Download and preview training data set"
      ]
    },
    {
      "cell_type": "code",
      "execution_count": 19,
      "metadata": {},
      "outputs": [],
      "source": [
        "!rm -rf credit_risk_training.csv\n",
        "!wget \"https://raw.githubusercontent.com/IBM/watson-openscale-samples/main/IBM%20Cloud/WML/assets/data/credit_risk/credit_risk_training.csv\""
      ]
    },
    {
      "cell_type": "code",
      "execution_count": 20,
      "metadata": {},
      "outputs": [
        {
          "data": {
            "text/html": [
              "<div>\n",
              "<style scoped>\n",
              "    .dataframe tbody tr th:only-of-type {\n",
              "        vertical-align: middle;\n",
              "    }\n",
              "\n",
              "    .dataframe tbody tr th {\n",
              "        vertical-align: top;\n",
              "    }\n",
              "\n",
              "    .dataframe thead th {\n",
              "        text-align: right;\n",
              "    }\n",
              "</style>\n",
              "<table border=\"1\" class=\"dataframe\">\n",
              "  <thead>\n",
              "    <tr style=\"text-align: right;\">\n",
              "      <th></th>\n",
              "      <th>CheckingStatus</th>\n",
              "      <th>LoanDuration</th>\n",
              "      <th>CreditHistory</th>\n",
              "      <th>LoanPurpose</th>\n",
              "      <th>LoanAmount</th>\n",
              "      <th>ExistingSavings</th>\n",
              "      <th>EmploymentDuration</th>\n",
              "      <th>InstallmentPercent</th>\n",
              "      <th>Sex</th>\n",
              "      <th>OthersOnLoan</th>\n",
              "      <th>...</th>\n",
              "      <th>OwnsProperty</th>\n",
              "      <th>Age</th>\n",
              "      <th>InstallmentPlans</th>\n",
              "      <th>Housing</th>\n",
              "      <th>ExistingCreditsCount</th>\n",
              "      <th>Job</th>\n",
              "      <th>Dependents</th>\n",
              "      <th>Telephone</th>\n",
              "      <th>ForeignWorker</th>\n",
              "      <th>Risk</th>\n",
              "    </tr>\n",
              "  </thead>\n",
              "  <tbody>\n",
              "    <tr>\n",
              "      <th>0</th>\n",
              "      <td>0_to_200</td>\n",
              "      <td>31</td>\n",
              "      <td>credits_paid_to_date</td>\n",
              "      <td>other</td>\n",
              "      <td>1889</td>\n",
              "      <td>100_to_500</td>\n",
              "      <td>less_1</td>\n",
              "      <td>3</td>\n",
              "      <td>female</td>\n",
              "      <td>none</td>\n",
              "      <td>...</td>\n",
              "      <td>savings_insurance</td>\n",
              "      <td>32</td>\n",
              "      <td>none</td>\n",
              "      <td>own</td>\n",
              "      <td>1</td>\n",
              "      <td>skilled</td>\n",
              "      <td>1</td>\n",
              "      <td>none</td>\n",
              "      <td>yes</td>\n",
              "      <td>No Risk</td>\n",
              "    </tr>\n",
              "    <tr>\n",
              "      <th>1</th>\n",
              "      <td>less_0</td>\n",
              "      <td>18</td>\n",
              "      <td>credits_paid_to_date</td>\n",
              "      <td>car_new</td>\n",
              "      <td>462</td>\n",
              "      <td>less_100</td>\n",
              "      <td>1_to_4</td>\n",
              "      <td>2</td>\n",
              "      <td>female</td>\n",
              "      <td>none</td>\n",
              "      <td>...</td>\n",
              "      <td>savings_insurance</td>\n",
              "      <td>37</td>\n",
              "      <td>stores</td>\n",
              "      <td>own</td>\n",
              "      <td>2</td>\n",
              "      <td>skilled</td>\n",
              "      <td>1</td>\n",
              "      <td>none</td>\n",
              "      <td>yes</td>\n",
              "      <td>No Risk</td>\n",
              "    </tr>\n",
              "    <tr>\n",
              "      <th>2</th>\n",
              "      <td>less_0</td>\n",
              "      <td>15</td>\n",
              "      <td>prior_payments_delayed</td>\n",
              "      <td>furniture</td>\n",
              "      <td>250</td>\n",
              "      <td>less_100</td>\n",
              "      <td>1_to_4</td>\n",
              "      <td>2</td>\n",
              "      <td>male</td>\n",
              "      <td>none</td>\n",
              "      <td>...</td>\n",
              "      <td>real_estate</td>\n",
              "      <td>28</td>\n",
              "      <td>none</td>\n",
              "      <td>own</td>\n",
              "      <td>2</td>\n",
              "      <td>skilled</td>\n",
              "      <td>1</td>\n",
              "      <td>yes</td>\n",
              "      <td>no</td>\n",
              "      <td>No Risk</td>\n",
              "    </tr>\n",
              "    <tr>\n",
              "      <th>3</th>\n",
              "      <td>0_to_200</td>\n",
              "      <td>28</td>\n",
              "      <td>credits_paid_to_date</td>\n",
              "      <td>retraining</td>\n",
              "      <td>3693</td>\n",
              "      <td>less_100</td>\n",
              "      <td>greater_7</td>\n",
              "      <td>3</td>\n",
              "      <td>male</td>\n",
              "      <td>none</td>\n",
              "      <td>...</td>\n",
              "      <td>savings_insurance</td>\n",
              "      <td>32</td>\n",
              "      <td>none</td>\n",
              "      <td>own</td>\n",
              "      <td>1</td>\n",
              "      <td>skilled</td>\n",
              "      <td>1</td>\n",
              "      <td>none</td>\n",
              "      <td>yes</td>\n",
              "      <td>No Risk</td>\n",
              "    </tr>\n",
              "    <tr>\n",
              "      <th>4</th>\n",
              "      <td>no_checking</td>\n",
              "      <td>28</td>\n",
              "      <td>prior_payments_delayed</td>\n",
              "      <td>education</td>\n",
              "      <td>6235</td>\n",
              "      <td>500_to_1000</td>\n",
              "      <td>greater_7</td>\n",
              "      <td>3</td>\n",
              "      <td>male</td>\n",
              "      <td>none</td>\n",
              "      <td>...</td>\n",
              "      <td>unknown</td>\n",
              "      <td>57</td>\n",
              "      <td>none</td>\n",
              "      <td>own</td>\n",
              "      <td>2</td>\n",
              "      <td>skilled</td>\n",
              "      <td>1</td>\n",
              "      <td>none</td>\n",
              "      <td>yes</td>\n",
              "      <td>Risk</td>\n",
              "    </tr>\n",
              "  </tbody>\n",
              "</table>\n",
              "<p>5 rows × 21 columns</p>\n",
              "</div>"
            ],
            "text/plain": [
              "  CheckingStatus  LoanDuration           CreditHistory LoanPurpose  \\\n",
              "0       0_to_200            31    credits_paid_to_date       other   \n",
              "1         less_0            18    credits_paid_to_date     car_new   \n",
              "2         less_0            15  prior_payments_delayed   furniture   \n",
              "3       0_to_200            28    credits_paid_to_date  retraining   \n",
              "4    no_checking            28  prior_payments_delayed   education   \n",
              "\n",
              "   LoanAmount ExistingSavings EmploymentDuration  InstallmentPercent     Sex  \\\n",
              "0        1889      100_to_500             less_1                   3  female   \n",
              "1         462        less_100             1_to_4                   2  female   \n",
              "2         250        less_100             1_to_4                   2    male   \n",
              "3        3693        less_100          greater_7                   3    male   \n",
              "4        6235     500_to_1000          greater_7                   3    male   \n",
              "\n",
              "  OthersOnLoan  ...       OwnsProperty Age  InstallmentPlans Housing  \\\n",
              "0         none  ...  savings_insurance  32              none     own   \n",
              "1         none  ...  savings_insurance  37            stores     own   \n",
              "2         none  ...        real_estate  28              none     own   \n",
              "3         none  ...  savings_insurance  32              none     own   \n",
              "4         none  ...            unknown  57              none     own   \n",
              "\n",
              "  ExistingCreditsCount      Job Dependents  Telephone ForeignWorker     Risk  \n",
              "0                    1  skilled          1       none           yes  No Risk  \n",
              "1                    2  skilled          1       none           yes  No Risk  \n",
              "2                    2  skilled          1        yes            no  No Risk  \n",
              "3                    1  skilled          1       none           yes  No Risk  \n",
              "4                    2  skilled          1       none           yes     Risk  \n",
              "\n",
              "[5 rows x 21 columns]"
            ]
          },
          "execution_count": 6,
          "metadata": {},
          "output_type": "execute_result"
        }
      ],
      "source": [
        "import pandas as pd\n",
        "import json\n",
        "\n",
        "training_data_pd = pd.read_csv(\n",
        "        \"credit_risk_training.csv\",\n",
        "        dtype={'LoanDuration': int, 'LoanAmount': int, 'InstallmentPercent': int, 'CurrentResidenceDuration': int, 'Age': int, 'ExistingCreditsCount': int, 'Dependents': int})\n",
        "\n",
        "training_data_pd.head()"
      ]
    },
    {
      "cell_type": "markdown",
      "metadata": {},
      "source": [
        "## Save training data to IBM Cloud Object Storage"
      ]
    },
    {
      "cell_type": "markdown",
      "metadata": {},
      "source": [
        "In next cells, you will need to paste some credentials to Cloud Object Storage. If you haven't worked with COS yet please visit getting started with COS tutorial. You can find COS_API_KEY_ID and COS_RESOURCE_CRN variables in Service Credentials in menu of your COS instance. Used COS Service Credentials must be created with Role parameter set as Writer. Later training data file will be loaded to the bucket of your instance and used as training refecence in subsription. COS_ENDPOINT variable can be found in Endpoint field of the menu."
      ]
    },
    {
      "cell_type": "code",
      "execution_count": 24,
      "metadata": {},
      "outputs": [],
      "source": [
        "IAM_URL=\"https://iam.cloud.ibm.com/identity/token\"\n",
        "\n",
        "COS_API_KEY_ID = \"<EDIT THIS>\"\n",
        "COS_RESOURCE_CRN = \"<EDIT THIS>\" # eg \"crn:v1:bluemix:public:cloud-object-storage:global:a/3bf0d9003abfb5d29761c3e97696b71c:d6f04d83-6c4f-4a62-a165-696756d63903::\"\n",
        "COS_ENDPOINT = \"<EDIT THIS>\" # Current list avaiable at https://control.cloud-object-storage.cloud.ibm.com/v2/endpoints\n",
        "\n",
        "BUCKET_NAME = \"<EDIT THIS>\" #example: \"credit-risk-training-data\"\n",
        "training_data_file_name=\"credit_risk_training.csv\""
      ]
    },
    {
      "cell_type": "code",
      "execution_count": 25,
      "metadata": {},
      "outputs": [],
      "source": [
        "import ibm_boto3\n",
        "from ibm_botocore.client import Config, ClientError\n",
        "\n",
        "cos_client = ibm_boto3.resource(\"s3\",\n",
        "    ibm_api_key_id=COS_API_KEY_ID,\n",
        "    ibm_service_instance_id=COS_RESOURCE_CRN,\n",
        "    ibm_auth_endpoint=\"https://iam.cloud.ibm.com/identity/token\",\n",
        "    config=Config(signature_version=\"oauth\"),\n",
        "    endpoint_url=COS_ENDPOINT\n",
        ")"
      ]
    },
    {
      "cell_type": "code",
      "execution_count": 26,
      "metadata": {},
      "outputs": [],
      "source": [
        "with open(training_data_file_name, \"rb\") as file_data:\n",
        "    cos_client.Object(BUCKET_NAME, training_data_file_name).upload_fileobj(\n",
        "        Fileobj=file_data\n",
        "    )"
      ]
    },
    {
      "cell_type": "markdown",
      "metadata": {},
      "source": [
        "### DataMart setup"
      ]
    },
    {
      "cell_type": "code",
      "execution_count": 28,
      "metadata": {},
      "outputs": [
        {
          "data": {
            "text/html": [
              "<HTML>\n",
              "        <body>\n",
              "            <h3>Data Marts</h3>\n",
              "            <table style='border: 1px solid #dddddd; font-family: Courier'>\n",
              "                <th style='border: 1px solid #dddddd'>name</th><th style='border: 1px solid #dddddd'>description</th><th style='border: 1px solid #dddddd'>internal_database</th><th style='border: 1px solid #dddddd'>status</th><th style='border: 1px solid #dddddd'>created_at</th><th style='border: 1px solid #dddddd'>id</th>\n",
              "                <tr><td style='border: 1px solid #dddddd'>None</td><td style='border: 1px solid #dddddd'>None</td><td style='border: 1px solid #dddddd'>True</td><td style='border: 1px solid #dddddd'>active</td><td style='border: 1px solid #dddddd'>2023-12-15 02:33:56.440000+00:00</td><td style='border: 1px solid #dddddd'>da5d7981-0363-4155-a373-70edcf4bda6f</td></tr>\n",
              "            </table>\n",
              "        </body>\n",
              "        </HTML>"
            ],
            "text/plain": [
              "<IPython.core.display.HTML object>"
            ]
          },
          "metadata": {},
          "output_type": "display_data"
        }
      ],
      "source": [
        "wos_client.data_marts.show()"
      ]
    },
    {
      "cell_type": "code",
      "execution_count": 29,
      "metadata": {},
      "outputs": [
        {
          "name": "stdout",
          "output_type": "stream",
          "text": [
            "Using existing datamart da5d7981-0363-4155-a373-70edcf4bda6f\n"
          ]
        }
      ],
      "source": [
        "data_marts = wos_client.data_marts.list().result.data_marts\n",
        "if len(data_marts) == 0:\n",
        "    if DB_CREDENTIALS is not None:\n",
        "        if SCHEMA_NAME is None: \n",
        "            print(\"Please specify the SCHEMA_NAME and rerun the cell\")\n",
        "\n",
        "        print('Setting up external datamart')\n",
        "        added_data_mart_result = wos_client.data_marts.add(\n",
        "                background_mode=False,\n",
        "                name=\"WOS Data Mart\",\n",
        "                description=\"Data Mart created by WOS tutorial notebook\",\n",
        "                database_configuration=DatabaseConfigurationRequest(\n",
        "                  database_type=DatabaseType.POSTGRESQL,\n",
        "                    credentials=PrimaryStorageCredentialsLong(\n",
        "                        hostname=DB_CREDENTIALS['hostname'],\n",
        "                        username=DB_CREDENTIALS['username'],\n",
        "                        password=DB_CREDENTIALS['password'],\n",
        "                        db=DB_CREDENTIALS['database'],\n",
        "                        port=DB_CREDENTIALS['port'],\n",
        "                        ssl=True,\n",
        "                        sslmode=DB_CREDENTIALS['sslmode'],\n",
        "                        certificate_base64=DB_CREDENTIALS['certificate_base64']\n",
        "                    ),\n",
        "                    location=LocationSchemaName(\n",
        "                        schema_name= SCHEMA_NAME\n",
        "                    )\n",
        "                )\n",
        "             ).result\n",
        "    else:\n",
        "        print('Setting up internal datamart')\n",
        "        added_data_mart_result = wos_client.data_marts.add(\n",
        "                background_mode=False,\n",
        "                name=\"WOS Data Mart\",\n",
        "                description=\"Data Mart created by WOS tutorial notebook\", \n",
        "                internal_database = True).result\n",
        "        \n",
        "    data_mart_id = added_data_mart_result.metadata.id\n",
        "    \n",
        "else:\n",
        "    data_mart_id=data_marts[0].metadata.id\n",
        "    print('Using existing datamart {}'.format(data_mart_id))"
      ]
    },
    {
      "cell_type": "markdown",
      "metadata": {},
      "source": [
        "<a id=\"binding\"></a>\n",
        "## 2. Bind machine learning engines"
      ]
    },
    {
      "cell_type": "markdown",
      "metadata": {},
      "source": [
        "### Bind  `Azure` machine learning studio\n",
        "\n",
        "Provide credentials using following fields:\n",
        "- `client_id`\n",
        "- `client_secret`\n",
        "- `subscription_id`\n",
        "- `tenant`"
      ]
    },
    {
      "cell_type": "code",
      "execution_count": 32,
      "metadata": {},
      "outputs": [],
      "source": [
        "AZURE_ENGINE_CREDENTIALS = {\n",
        "   \"client_id\": \"<EDIT THIS>\",\n",
        "    \"client_secret\": \"<EDIT THIS>\",\n",
        "    \"subscription_id\": \"<EDIT THIS>\",\n",
        "    \"tenant\": \"<EDIT THIS>\"\n",
        "}"
      ]
    },
    {
      "cell_type": "code",
      "execution_count": 34,
      "metadata": {},
      "outputs": [],
      "source": [
        "SERVICE_PROVIDER_NAME = \"Azure Service\"\n",
        "SERVICE_PROVIDER_DESCRIPTION = \"Added by Azure service tutorial WOS notebook.\""
      ]
    },
    {
      "cell_type": "code",
      "execution_count": 35,
      "metadata": {},
      "outputs": [
        {
          "name": "stdout",
          "output_type": "stream",
          "text": [
            "Deleted existing service_provider for WML instance: 65d33b89-6823-4062-9407-6cae33f668c3\n"
          ]
        }
      ],
      "source": [
        "service_providers = wos_client.service_providers.list().result.service_providers\n",
        "for service_provider in service_providers:\n",
        "    service_instance_name = service_provider.entity.name\n",
        "    if service_instance_name == SERVICE_PROVIDER_NAME:\n",
        "        service_provider_id = service_provider.metadata.id\n",
        "        wos_client.service_providers.delete(service_provider_id)\n",
        "        print(\"Deleted existing service_provider for WML instance: {}\".format(service_provider_id))"
      ]
    },
    {
      "cell_type": "code",
      "execution_count": 36,
      "metadata": {},
      "outputs": [
        {
          "name": "stdout",
          "output_type": "stream",
          "text": [
            "\n",
            "\n",
            "=================================================================================\n",
            "\n",
            " Waiting for end of adding service provider 653a6e1b-c8c8-4b60-801b-974aa7b23bf8 \n",
            "\n",
            "=================================================================================\n",
            "\n",
            "\n",
            "\n",
            "active\n",
            "\n",
            "-----------------------------------------------\n",
            " Successfully finished adding service provider \n",
            "-----------------------------------------------\n",
            "\n",
            "\n"
          ]
        }
      ],
      "source": [
        "added_service_provider_result = wos_client.service_providers.add(\n",
        "        name=SERVICE_PROVIDER_NAME,\n",
        "        description=SERVICE_PROVIDER_DESCRIPTION,\n",
        "        service_type=ServiceTypes.AZURE_MACHINE_LEARNING_SERVICE,\n",
        "        operational_space_id = \"production\",\n",
        "        credentials=AzureCredentials(\n",
        "            subscription_id= AZURE_ENGINE_CREDENTIALS['subscription_id'], \n",
        "            client_id = AZURE_ENGINE_CREDENTIALS['client_id'], \n",
        "            client_secret= AZURE_ENGINE_CREDENTIALS['client_secret'],\n",
        "            tenant = AZURE_ENGINE_CREDENTIALS['tenant']\n",
        "        ),\n",
        "        background_mode=False\n",
        "    ).result\n",
        "service_provider_id = added_service_provider_result.metadata.id"
      ]
    },
    {
      "cell_type": "code",
      "execution_count": 37,
      "metadata": {},
      "outputs": [
        {
          "data": {
            "text/html": [
              "<HTML>\n",
              "        <body>\n",
              "            <h3>Service Providers</h3>\n",
              "            <table style='border: 1px solid #dddddd; font-family: Courier'>\n",
              "                <th style='border: 1px solid #dddddd'>instance_id</th><th style='border: 1px solid #dddddd'>status</th><th style='border: 1px solid #dddddd'>name</th><th style='border: 1px solid #dddddd'>service_type</th><th style='border: 1px solid #dddddd'>created_at</th><th style='border: 1px solid #dddddd'>id</th>\n",
              "                <tr><td style='border: 1px solid #dddddd'>None</td><td style='border: 1px solid #dddddd'>active</td><td style='border: 1px solid #dddddd'>Azure Service</td><td style='border: 1px solid #dddddd'>azure_machine_learning_service</td><td style='border: 1px solid #dddddd'>2024-08-19 18:20:40.053000+00:00</td><td style='border: 1px solid #dddddd'>653a6e1b-c8c8-4b60-801b-974aa7b23bf8</td></tr>\n",
              "            </table>\n",
              "        </body>\n",
              "        </HTML>"
            ],
            "text/plain": [
              "<IPython.core.display.HTML object>"
            ]
          },
          "metadata": {},
          "output_type": "display_data"
        },
        {
          "name": "stdout",
          "output_type": "stream",
          "text": [
            "Note: First 1 records were displayed.\n"
          ]
        }
      ],
      "source": [
        "wos_client.service_providers.show(limit=1)\n",
        "\n",
        "### uncomment below code to get the details of the service provider\n",
        "# print(wos_client.service_providers.get(service_provider_id=service_provider_id).result)"
      ]
    },
    {
      "cell_type": "code",
      "execution_count": 39,
      "metadata": {},
      "outputs": [],
      "source": [
        "asset_deployment_details = wos_client.service_providers.list_assets(data_mart_id=data_mart_id, service_provider_id=service_provider_id).result"
      ]
    },
    {
      "cell_type": "code",
      "execution_count": 40,
      "metadata": {},
      "outputs": [],
      "source": [
        "print(json.dumps(asset_deployment_details,indent=2))"
      ]
    },
    {
      "cell_type": "code",
      "execution_count": 42,
      "metadata": {},
      "outputs": [],
      "source": [
        "## select your model deployment GUID and get model asset details\n",
        "\n",
        "deployment_id='<<EDIT THIS>>'\n",
        "for model_asset_details in asset_deployment_details['resources']:\n",
        "    if model_asset_details['metadata']['guid']==deployment_id:\n",
        "        break"
      ]
    },
    {
      "cell_type": "markdown",
      "metadata": {},
      "source": [
        "### Sample Scoring"
      ]
    },
    {
      "cell_type": "code",
      "execution_count": 45,
      "metadata": {},
      "outputs": [
        {
          "name": "stdout",
          "output_type": "stream",
          "text": [
            "\"{\\\"output\\\": [{\\\"Scored Labels\\\": \\\"No Risk\\\", \\\"Scored Probabilities\\\": [0.7951253652572632, 0.2048746645450592]}]}\"\n"
          ]
        }
      ],
      "source": [
        "import requests\n",
        "import time\n",
        "import json\n",
        "\n",
        "scoring_url = model_asset_details['entity']['scoring_endpoint']['url']\n",
        "\n",
        "data = {\n",
        "          \"input\": [\n",
        "            {\n",
        "              \"CheckingStatus\": \"0_to_200\",\n",
        "              \"LoanDuration\": 31,\n",
        "              \"CreditHistory\": \"credits_paid_to_date\",\n",
        "              \"LoanPurpose\": \"other\",\n",
        "              \"LoanAmount\": 1889,\n",
        "              \"ExistingSavings\": \"100_to_500\",\n",
        "              \"EmploymentDuration\": \"less_1\",\n",
        "              \"InstallmentPercent\": 3,\n",
        "              \"Sex\": \"female\",\n",
        "              \"OthersOnLoan\": \"none\",\n",
        "              \"CurrentResidenceDuration\": 3,\n",
        "              \"OwnsProperty\": \"savings_insurance\",\n",
        "              \"Age\": 32,\n",
        "              \"InstallmentPlans\": \"none\",\n",
        "              \"Housing\": \"own\",\n",
        "              \"ExistingCreditsCount\": 1,\n",
        "              \"Job\": \"skilled\",\n",
        "              \"Dependents\": 1,\n",
        "              \"Telephone\": \"none\",\n",
        "              \"ForeignWorker\": \"yes\"\n",
        "            }\n",
        "          ]\n",
        "        }\n",
        "\n",
        "body = str.encode(json.dumps(data))\n",
        "\n",
        "\n",
        "token = model_asset_details['entity']['scoring_endpoint']['credentials']['token']\n",
        "headers = model_asset_details['entity']['scoring_endpoint']['request_headers']\n",
        "headers['Authorization'] = ('Bearer ' + token)\n",
        "\n",
        "start_time = time.time()\n",
        "response = requests.post(url=scoring_url, data=body, headers=headers)\n",
        "response_time = int(time.time() - start_time)*1000\n",
        "result = response.json()\n",
        "\n",
        "print(json.dumps(result, indent=2))"
      ]
    },
    {
      "cell_type": "markdown",
      "metadata": {},
      "source": [
        "## 3. Subscription"
      ]
    },
    {
      "cell_type": "code",
      "execution_count": 47,
      "metadata": {},
      "outputs": [],
      "source": [
        "feature_columns = ['CheckingStatus', 'LoanDuration', 'CreditHistory', 'LoanPurpose', 'LoanAmount', 'ExistingSavings', 'EmploymentDuration', 'InstallmentPercent', 'Sex', 'OthersOnLoan', 'CurrentResidenceDuration', 'OwnsProperty', 'Age', 'InstallmentPlans', 'Housing', 'ExistingCreditsCount', 'Job', 'Dependents', 'Telephone', 'ForeignWorker']\n",
        "categorical_columns = ['CheckingStatus', 'CreditHistory', 'LoanPurpose', 'ExistingSavings', 'EmploymentDuration', 'Sex', 'OthersOnLoan', 'OwnsProperty', 'InstallmentPlans', 'Housing', 'Job', 'Telephone', 'ForeignWorker']"
      ]
    },
    {
      "cell_type": "code",
      "execution_count": 48,
      "metadata": {},
      "outputs": [],
      "source": [
        "azure_asset = Asset(\n",
        "            asset_id=model_asset_details[\"entity\"][\"asset\"][\"asset_id\"],\n",
        "            name=model_asset_details[\"entity\"][\"asset\"][\"name\"],\n",
        "            url=model_asset_details[\"entity\"][\"asset\"][\"url\"],\n",
        "            asset_type=AssetTypes.MODEL,\n",
        "            input_data_type=InputDataType.STRUCTURED,\n",
        "            problem_type=ProblemType.BINARY_CLASSIFICATION\n",
        "        )"
      ]
    },
    {
      "cell_type": "code",
      "execution_count": 49,
      "metadata": {},
      "outputs": [],
      "source": [
        "from ibm_watson_openscale.base_classes.watson_open_scale_v2 import ScoringEndpointRequest,ScoringEndpointCredentialsAzureScoringEndpointCredentials\n",
        "deployment_scoring_endpoint = model_asset_details['entity']['scoring_endpoint']\n",
        "\n",
        "scoring_endpoint = ScoringEndpointRequest(url = model_asset_details['entity']['scoring_endpoint']['url']\n",
        "                                          ,request_headers = model_asset_details['entity']['scoring_endpoint']['request_headers'],\n",
        "                                          credentials= ScoringEndpointCredentialsAzureScoringEndpointCredentials(model_asset_details['entity']['scoring_endpoint']['credentials']['token']) )\n",
        "\n",
        "\n",
        "deployment = AssetDeploymentRequest(\n",
        "    deployment_id=model_asset_details['metadata']['guid'],\n",
        "    url=model_asset_details['metadata']['url'],\n",
        "    name=model_asset_details['entity']['name'],\n",
        "    deployment_type=model_asset_details['entity']['type'],\n",
        "    scoring_endpoint = scoring_endpoint\n",
        ") "
      ]
    },
    {
      "cell_type": "code",
      "execution_count": 50,
      "metadata": {},
      "outputs": [],
      "source": [
        "training_data_reference = TrainingDataReference(type='cos',\n",
        "                                              location=COSTrainingDataReferenceLocation(bucket = BUCKET_NAME,\n",
        "                                                                                        file_name = training_data_file_name),\n",
        "                                              connection=COSTrainingDataReferenceConnection(\n",
        "                                                                        resource_instance_id= COS_RESOURCE_CRN,\n",
        "                                                                        url= COS_ENDPOINT,\n",
        "                                                                        api_key= COS_API_KEY_ID,\n",
        "                                                                        iam_url=IAM_URL)\n",
        "                                               )"
      ]
    },
    {
      "cell_type": "code",
      "execution_count": 52,
      "metadata": {},
      "outputs": [],
      "source": [
        "asset_properties = AssetPropertiesRequest(\n",
        "        label_column=\"Risk\",\n",
        "        prediction_field='Scored Labels',\n",
        "        probability_fields=['Scored Probabilities'],\n",
        "        training_data_reference=training_data_reference,\n",
        "        training_data_schema=None,\n",
        "        input_data_schema=None,\n",
        "        output_data_schema=None,\n",
        "    )\n"
      ]
    },
    {
      "cell_type": "code",
      "execution_count": 53,
      "metadata": {},
      "outputs": [
        {
          "name": "stdout",
          "output_type": "stream",
          "text": [
            "\n",
            "\n",
            "=============================================================================\n",
            "\n",
            " Waiting for end of adding subscription 6039a35b-1f92-4dda-b8a0-fc8d8e8662a3 \n",
            "\n",
            "=============================================================================\n",
            "\n",
            "\n",
            "\n",
            "active\n",
            "\n",
            "-------------------------------------------\n",
            " Successfully finished adding subscription \n",
            "-------------------------------------------\n",
            "\n",
            "\n"
          ]
        },
        {
          "data": {
            "text/plain": [
              "'6039a35b-1f92-4dda-b8a0-fc8d8e8662a3'"
            ]
          },
          "execution_count": 55,
          "metadata": {},
          "output_type": "execute_result"
        }
      ],
      "source": [
        "subscription_details = wos_client.subscriptions.add(\n",
        "        data_mart_id=data_mart_id,\n",
        "        service_provider_id=service_provider_id,\n",
        "        asset=azure_asset,\n",
        "        training_data_reference=training_data_reference,\n",
        "        deployment=deployment,\n",
        "        asset_properties=asset_properties,\n",
        "        background_mode=False\n",
        ").result\n",
        "subscription_id = subscription_details.metadata.id\n",
        "subscription_id"
      ]
    },
    {
      "cell_type": "markdown",
      "metadata": {},
      "source": [
        "List the subscription in the service provided created"
      ]
    },
    {
      "cell_type": "code",
      "execution_count": 55,
      "metadata": {},
      "outputs": [
        {
          "data": {
            "text/html": [
              "<HTML>\n",
              "        <body>\n",
              "            <h3>Subscriptions</h3>\n",
              "            <table style='border: 1px solid #dddddd; font-family: Courier'>\n",
              "                <th style='border: 1px solid #dddddd'>asset_id</th><th style='border: 1px solid #dddddd'>asset_type</th><th style='border: 1px solid #dddddd'>asset_name</th><th style='border: 1px solid #dddddd'>data_mart_id</th><th style='border: 1px solid #dddddd'>deployment_id</th><th style='border: 1px solid #dddddd'>deployment_name</th><th style='border: 1px solid #dddddd'>service_provider_id</th><th style='border: 1px solid #dddddd'>status</th><th style='border: 1px solid #dddddd'>created_at</th><th style='border: 1px solid #dddddd'>id</th>\n",
              "                <tr><td style='border: 1px solid #dddddd'>f5ac576aad20d0ce237ff940bbe0dd2a</td><td style='border: 1px solid #dddddd'>model</td><td style='border: 1px solid #dddddd'>binary-german-credit-risk</td><td style='border: 1px solid #dddddd'>da5d7981-0363-4155-a373-70edcf4bda6f</td><td style='border: 1px solid #dddddd'>957d63a12e70eb90eb4b5bbe78c2c562</td><td style='border: 1px solid #dddddd'>binary-german-credit-risk</td><td style='border: 1px solid #dddddd'>653a6e1b-c8c8-4b60-801b-974aa7b23bf8</td><td style='border: 1px solid #dddddd'>active</td><td style='border: 1px solid #dddddd'>2024-08-19 18:29:08.334000+00:00</td><td style='border: 1px solid #dddddd'>6039a35b-1f92-4dda-b8a0-fc8d8e8662a3</td></tr>\n",
              "            </table>\n",
              "        </body>\n",
              "        </HTML>"
            ],
            "text/plain": [
              "<IPython.core.display.HTML object>"
            ]
          },
          "metadata": {},
          "output_type": "display_data"
        }
      ],
      "source": [
        "wos_client.subscriptions.show(service_provider_id=service_provider_id)\n",
        "\n",
        "## uncomment below code to get the details of the subscription\n",
        "# print(wos_client.subscriptions.get(subscription_id=subscription_id).result)"
      ]
    },
    {
      "cell_type": "markdown",
      "metadata": {},
      "source": [
        "<a id=\"scoring\"></a>\n",
        "## 4. Scoring and payload logging\n",
        "\n",
        "### Score the credit risk model and measure response time"
      ]
    },
    {
      "cell_type": "code",
      "execution_count": 57,
      "metadata": {},
      "outputs": [
        {
          "name": "stdout",
          "output_type": "stream",
          "text": [
            "Payload data set id:  28b9eb61-2e68-4568-9ba6-eca6b4113f75\n"
          ]
        }
      ],
      "source": [
        "import time\n",
        "\n",
        "time.sleep(5)\n",
        "payload_data_set_id = None\n",
        "payload_data_set_id = wos_client.data_sets.list(type=DataSetTypes.PAYLOAD_LOGGING, \n",
        "                                                target_target_id=subscription_id, \n",
        "                                                target_target_type=TargetTypes.SUBSCRIPTION).result.data_sets[0].metadata.id\n",
        "if payload_data_set_id is None:\n",
        "    print(\"Payload data set not found. Please check subscription status.\")\n",
        "else:\n",
        "    print(\"Payload data set id: \", payload_data_set_id)"
      ]
    },
    {
      "cell_type": "code",
      "execution_count": 58,
      "metadata": {},
      "outputs": [
        {
          "name": "stdout",
          "output_type": "stream",
          "text": [
            "\"{\\\"output\\\": [{\\\"Scored Labels\\\": \\\"No Risk\\\", \\\"Scored Probabilities\\\": [0.7240934371948242, 0.27590659260749817]}, {\\\"Scored Labels\\\": \\\"No Risk\\\", \\\"Scored Probabilities\\\": [0.9423964619636536, 0.057603538036346436]}]}\"\n"
          ]
        }
      ],
      "source": [
        "import requests\n",
        "import time\n",
        "import json\n",
        "\n",
        "subscription_details=wos_client.subscriptions.get(subscription_id).result.to_dict()\n",
        "scoring_url = subscription_details['entity']['deployment']['scoring_endpoint']['url']\n",
        "\n",
        "data = {\n",
        "            \"input\": training_data_pd.sample(2).drop(['Risk'],axis=1).to_dict('records'),\n",
        "        }\n",
        "\n",
        "body = str.encode(json.dumps(data))\n",
        "\n",
        "token = model_asset_details['entity']['scoring_endpoint']['credentials']['token']\n",
        "headers = subscription_details['entity']['deployment']['scoring_endpoint']['request_headers']\n",
        "headers['Authorization'] = ('Bearer ' + token)\n",
        "\n",
        "start_time = time.time()\n",
        "response = requests.post(url=scoring_url, data=body, headers=headers)\n",
        "response_time = int(time.time() - start_time)*1000\n",
        "result = response.json()\n",
        "\n",
        "print(json.dumps(result, indent=2))"
      ]
    },
    {
      "cell_type": "markdown",
      "metadata": {},
      "source": [
        "### Functions to adjust payload data format for OpenScale "
      ]
    },
    {
      "cell_type": "code",
      "execution_count": 60,
      "metadata": {},
      "outputs": [],
      "source": [
        "def convert_user_input_2_openscale(input_data):\n",
        "    users_records = input_data['input']\n",
        "    openscale_fields = list(users_records[0])\n",
        "    openscale_values = [[rec[k] for k in openscale_fields] for rec in users_records] \n",
        "\n",
        "    return {'fields':openscale_fields, 'values':openscale_values}"
      ]
    },
    {
      "cell_type": "code",
      "execution_count": 61,
      "metadata": {},
      "outputs": [],
      "source": [
        "import numpy as np\n",
        "def convert_user_output_2_openscale(output_data):\n",
        "    output_data=json.loads(output_data)\n",
        "    users_records = output_data['output']\n",
        "    openscale_fields = [\"Scored Labels\",\"Scored Probabilities\"]\n",
        "    openscale_values = []\n",
        "    for record in users_records:\n",
        "        openscale_values.append([record['Scored Labels'],record['Scored Probabilities'][0]])\n",
        "    return {'fields':openscale_fields, 'values':openscale_values}"
      ]
    },
    {
      "cell_type": "code",
      "execution_count": 62,
      "metadata": {},
      "outputs": [],
      "source": [
        "openscale_input=convert_user_input_2_openscale(data)\n",
        "openscale_output=convert_user_output_2_openscale(result)"
      ]
    },
    {
      "cell_type": "markdown",
      "metadata": {},
      "source": [
        "### Store the request and response in payload logging table"
      ]
    },
    {
      "cell_type": "code",
      "execution_count": 64,
      "metadata": {},
      "outputs": [
        {
          "name": "stdout",
          "output_type": "stream",
          "text": [
            "Performing explicit payload logging.....\n",
            "Number of records in the payload logging table: 2\n"
          ]
        }
      ],
      "source": [
        "import uuid\n",
        "from ibm_watson_openscale.supporting_classes.payload_record import PayloadRecord\n",
        "\n",
        "print(\"Performing explicit payload logging.....\")\n",
        "wos_client.data_sets.store_records(data_set_id=payload_data_set_id, request_body=[PayloadRecord(\n",
        "           scoring_id=str(uuid.uuid4()),\n",
        "           request=openscale_input,\n",
        "           response=openscale_output,\n",
        "           response_time=460\n",
        ")])\n",
        "time.sleep(10)\n",
        "pl_records_count = wos_client.data_sets.get_records_count(payload_data_set_id)\n",
        "print(\"Number of records in the payload logging table: {}\".format(pl_records_count))"
      ]
    },
    {
      "cell_type": "code",
      "execution_count": 65,
      "metadata": {},
      "outputs": [
        {
          "data": {
            "text/html": [
              "<HTML>\n",
              "        <body>\n",
              "            <h3>Data Set 28b9eb61-2e68-4568-9ba6-eca6b4113f75 Records</h3>\n",
              "            <table style='border: 1px solid #dddddd; font-family: Courier'>\n",
              "                <th style='border: 1px solid #dddddd'>asset_revision</th><th style='border: 1px solid #dddddd'>LoanAmount</th><th style='border: 1px solid #dddddd'>scoring_id</th><th style='border: 1px solid #dddddd'>InstallmentPercent</th><th style='border: 1px solid #dddddd'>ExistingSavings</th><th style='border: 1px solid #dddddd'>scoring_timestamp</th><th style='border: 1px solid #dddddd'>prediction_probability</th><th style='border: 1px solid #dddddd'>ProbabilityVector</th><th style='border: 1px solid #dddddd'>CheckingStatus</th><th style='border: 1px solid #dddddd'>LoanPurpose</th><th style='border: 1px solid #dddddd'>Scored Probabilities</th><th style='border: 1px solid #dddddd'>Job</th><th style='border: 1px solid #dddddd'>InstallmentPlans</th><th style='border: 1px solid #dddddd'>OthersOnLoan</th><th style='border: 1px solid #dddddd'>LoanDuration</th><th style='border: 1px solid #dddddd'>Age</th><th style='border: 1px solid #dddddd'>CreditHistory</th><th style='border: 1px solid #dddddd'>CurrentResidenceDuration</th><th style='border: 1px solid #dddddd'>ForeignWorker</th><th style='border: 1px solid #dddddd'>Housing</th><th style='border: 1px solid #dddddd'>ExistingCreditsCount</th><th style='border: 1px solid #dddddd'>deployment_id</th><th style='border: 1px solid #dddddd'>Telephone</th><th style='border: 1px solid #dddddd'>Scored Labels</th><th style='border: 1px solid #dddddd'>Sex</th><th style='border: 1px solid #dddddd'>Dependents</th><th style='border: 1px solid #dddddd'>OwnsProperty</th><th style='border: 1px solid #dddddd'>EmploymentDuration</th>\n",
              "                <tr><td style='border: 1px solid #dddddd'>None</td><td style='border: 1px solid #dddddd'>1981</td><td style='border: 1px solid #dddddd'>df5ace73-bf8e-4a99-a683-879b38ec9a08-1</td><td style='border: 1px solid #dddddd'>1</td><td style='border: 1px solid #dddddd'>less_100</td><td style='border: 1px solid #dddddd'>2024-08-19T18:29:36.936Z</td><td style='border: 1px solid #dddddd'>0.9274464249610901</td><td style='border: 1px solid #dddddd'>[0.9274464249610901, 0.0725535750389099]</td><td style='border: 1px solid #dddddd'>0_to_200</td><td style='border: 1px solid #dddddd'>furniture</td><td style='border: 1px solid #dddddd'>0.9274464249610901</td><td style='border: 1px solid #dddddd'>skilled</td><td style='border: 1px solid #dddddd'>stores</td><td style='border: 1px solid #dddddd'>none</td><td style='border: 1px solid #dddddd'>10</td><td style='border: 1px solid #dddddd'>19</td><td style='border: 1px solid #dddddd'>credits_paid_to_date</td><td style='border: 1px solid #dddddd'>1</td><td style='border: 1px solid #dddddd'>yes</td><td style='border: 1px solid #dddddd'>rent</td><td style='border: 1px solid #dddddd'>1</td><td style='border: 1px solid #dddddd'>957d63a12e70eb90eb4b5bbe78c2c562</td><td style='border: 1px solid #dddddd'>none</td><td style='border: 1px solid #dddddd'>No Risk</td><td style='border: 1px solid #dddddd'>female</td><td style='border: 1px solid #dddddd'>1</td><td style='border: 1px solid #dddddd'>real_estate</td><td style='border: 1px solid #dddddd'>1_to_4</td></tr><tr><td style='border: 1px solid #dddddd'>None</td><td style='border: 1px solid #dddddd'>1060</td><td style='border: 1px solid #dddddd'>df5ace73-bf8e-4a99-a683-879b38ec9a08-2</td><td style='border: 1px solid #dddddd'>2</td><td style='border: 1px solid #dddddd'>100_to_500</td><td style='border: 1px solid #dddddd'>2024-08-19T18:29:36.936Z</td><td style='border: 1px solid #dddddd'>0.7047558426856995</td><td style='border: 1px solid #dddddd'>[0.7047558426856995, 0.2952441573143005]</td><td style='border: 1px solid #dddddd'>0_to_200</td><td style='border: 1px solid #dddddd'>radio_tv</td><td style='border: 1px solid #dddddd'>0.7047558426856995</td><td style='border: 1px solid #dddddd'>skilled</td><td style='border: 1px solid #dddddd'>none</td><td style='border: 1px solid #dddddd'>none</td><td style='border: 1px solid #dddddd'>23</td><td style='border: 1px solid #dddddd'>44</td><td style='border: 1px solid #dddddd'>prior_payments_delayed</td><td style='border: 1px solid #dddddd'>2</td><td style='border: 1px solid #dddddd'>yes</td><td style='border: 1px solid #dddddd'>free</td><td style='border: 1px solid #dddddd'>1</td><td style='border: 1px solid #dddddd'>957d63a12e70eb90eb4b5bbe78c2c562</td><td style='border: 1px solid #dddddd'>yes</td><td style='border: 1px solid #dddddd'>No Risk</td><td style='border: 1px solid #dddddd'>male</td><td style='border: 1px solid #dddddd'>1</td><td style='border: 1px solid #dddddd'>car_other</td><td style='border: 1px solid #dddddd'>4_to_7</td></tr>\n",
              "            </table>\n",
              "        </body>\n",
              "        </HTML>"
            ],
            "text/plain": [
              "<IPython.core.display.HTML object>"
            ]
          },
          "metadata": {},
          "output_type": "display_data"
        }
      ],
      "source": [
        "wos_client.data_sets.show_records(data_set_id=payload_data_set_id)"
      ]
    },
    {
      "cell_type": "markdown",
      "metadata": {},
      "source": [
        "<a id=\"feedback\"></a>\n",
        "## 5. Feedback logging & quality (accuracy) monitoring\n",
        "\n",
        "### Enable quality monitoring"
      ]
    },
    {
      "cell_type": "code",
      "execution_count": 66,
      "metadata": {},
      "outputs": [
        {
          "name": "stdout",
          "output_type": "stream",
          "text": [
            "\n",
            "\n",
            "===================================================================================\n",
            "\n",
            " Waiting for end of monitor instance creation 5fa6c5fd-75af-44ff-a8fe-f1d5f9ea5224 \n",
            "\n",
            "===================================================================================\n",
            "\n",
            "\n",
            "\n",
            "preparing\n",
            "active\n",
            "\n",
            "---------------------------------------\n",
            " Monitor instance successfully created \n",
            "---------------------------------------\n",
            "\n",
            "\n"
          ]
        }
      ],
      "source": [
        "import time\n",
        "\n",
        "time.sleep(10)\n",
        "target = Target(\n",
        "        target_type=TargetTypes.SUBSCRIPTION,\n",
        "        target_id=subscription_id\n",
        ")\n",
        "parameters = {\n",
        "    \"min_feedback_data_size\": 10\n",
        "}\n",
        "thresholds = [\n",
        "                {\n",
        "                    \"metric_id\": \"area_under_roc\",\n",
        "                    \"type\": \"lower_limit\",\n",
        "                    \"value\": .80\n",
        "                }\n",
        "            ]\n",
        "quality_monitor_details = wos_client.monitor_instances.create(\n",
        "    data_mart_id=data_mart_id,\n",
        "    background_mode=False,\n",
        "    monitor_definition_id=wos_client.monitor_definitions.MONITORS.QUALITY.ID,\n",
        "    target=target,\n",
        "    parameters=parameters,\n",
        "    thresholds=thresholds\n",
        ").result"
      ]
    },
    {
      "cell_type": "code",
      "execution_count": 67,
      "metadata": {},
      "outputs": [
        {
          "data": {
            "text/plain": [
              "'5fa6c5fd-75af-44ff-a8fe-f1d5f9ea5224'"
            ]
          },
          "execution_count": 54,
          "metadata": {},
          "output_type": "execute_result"
        }
      ],
      "source": [
        "quality_monitor_instance_id = quality_monitor_details.metadata.id\n",
        "quality_monitor_instance_id"
      ]
    },
    {
      "cell_type": "markdown",
      "metadata": {},
      "source": [
        "### Feedback records logging\n",
        "Feedback records are used to evaluate your model. The predicted values are compared to real values (feedback records)."
      ]
    },
    {
      "cell_type": "code",
      "execution_count": 69,
      "metadata": {},
      "outputs": [],
      "source": [
        "!rm additional_feedback_data_v2.json\n",
        "!wget https://raw.githubusercontent.com/IBM/watson-openscale-samples/main/IBM%20Cloud/WML/assets/data/credit_risk/additional_feedback_data_v2.json"
      ]
    },
    {
      "cell_type": "markdown",
      "metadata": {},
      "source": [
        "### Get feedback logging dataset ID"
      ]
    },
    {
      "cell_type": "code",
      "execution_count": 70,
      "metadata": {},
      "outputs": [],
      "source": [
        "feedback_dataset_id = None\n",
        "feedback_dataset = wos_client.data_sets.list(type=DataSetTypes.FEEDBACK, \n",
        "                                                target_target_id=subscription_id, \n",
        "                                                target_target_type=TargetTypes.SUBSCRIPTION).result\n",
        "#print(feedback_dataset)\n",
        "feedback_dataset_id = feedback_dataset.data_sets[0].metadata.id\n",
        "if feedback_dataset_id is None:\n",
        "    print(\"Feedback data set not found. Please check quality monitor status.\")"
      ]
    },
    {
      "cell_type": "code",
      "execution_count": 72,
      "metadata": {},
      "outputs": [
        {
          "name": "stdout",
          "output_type": "stream",
          "text": [
            "\n",
            "\n",
            "==========================================================================================\n",
            "\n",
            " Waiting for end of storing records with request id: b5445dfb-9b47-4e90-976c-7d615bdbf5bc \n",
            "\n",
            "==========================================================================================\n",
            "\n",
            "\n",
            "\n",
            "active\n",
            "\n",
            "---------------------------------------\n",
            " Successfully finished storing records \n",
            "---------------------------------------\n",
            "\n",
            "\n"
          ]
        },
        {
          "data": {
            "text/plain": [
              "<ibm_cloud_sdk_core.detailed_response.DetailedResponse at 0x7f7b08e57490>"
            ]
          },
          "execution_count": 57,
          "metadata": {},
          "output_type": "execute_result"
        }
      ],
      "source": [
        "with open('additional_feedback_data_v2.json') as feedback_file:\n",
        "    additional_feedback_data = json.load(feedback_file)\n",
        "\n",
        "wos_client.data_sets.store_records(feedback_dataset_id, request_body=additional_feedback_data, background_mode=False)"
      ]
    },
    {
      "cell_type": "code",
      "execution_count": 73,
      "metadata": {},
      "outputs": [
        {
          "data": {
            "text/plain": [
              "98"
            ]
          },
          "execution_count": 58,
          "metadata": {},
          "output_type": "execute_result"
        }
      ],
      "source": [
        "wos_client.data_sets.get_records_count(data_set_id=feedback_dataset_id)"
      ]
    },
    {
      "cell_type": "code",
      "execution_count": 74,
      "metadata": {},
      "outputs": [
        {
          "name": "stdout",
          "output_type": "stream",
          "text": [
            "\n",
            "\n",
            "========================================================================\n",
            "\n",
            " Waiting for end of monitoring run b7a3a7e2-424e-4851-bd08-88b184d3b98f \n",
            "\n",
            "========================================================================\n",
            "\n",
            "\n",
            "\n",
            "finished\n",
            "\n",
            "---------------------------\n",
            " Successfully finished run \n",
            "---------------------------\n",
            "\n",
            "\n"
          ]
        }
      ],
      "source": [
        "run_details = wos_client.monitor_instances.run(monitor_instance_id=quality_monitor_instance_id, background_mode=False).result"
      ]
    },
    {
      "cell_type": "code",
      "execution_count": 75,
      "metadata": {},
      "outputs": [
        {
          "data": {
            "text/html": [
              "<HTML>\n",
              "        <body>\n",
              "            <h3>5fa6c5fd-75af-44ff-a8fe-f1d5f9ea5224 Monitor Runs Metrics from: 2024-08-13 00:01:49.993755  till: 2024-08-20 00:01:49.993778</h3>\n",
              "            <table style='border: 1px solid #dddddd; font-family: Courier'>\n",
              "                <th style='border: 1px solid #dddddd'>ts</th><th style='border: 1px solid #dddddd'>id</th><th style='border: 1px solid #dddddd'>measurement_id</th><th style='border: 1px solid #dddddd'>value</th><th style='border: 1px solid #dddddd'>lower_limit</th><th style='border: 1px solid #dddddd'>upper_limit</th><th style='border: 1px solid #dddddd'>tags</th><th style='border: 1px solid #dddddd'>monitor_definition_id</th><th style='border: 1px solid #dddddd'>monitor_instance_id</th><th style='border: 1px solid #dddddd'>run_id</th><th style='border: 1px solid #dddddd'>target_type</th><th style='border: 1px solid #dddddd'>target_id</th>\n",
              "                <tr><td style='border: 1px solid #dddddd'>2024-08-19 18:31:35.386000+00:00</td><td style='border: 1px solid #dddddd'>true_positive_rate</td><td style='border: 1px solid #dddddd'>af538176-9a8d-4af9-b019-309d7f08ab0d</td><td style='border: 1px solid #dddddd'>0.9692307692307692</td><td style='border: 1px solid #dddddd'>None</td><td style='border: 1px solid #dddddd'>None</td><td style='border: 1px solid #dddddd'>['model_type:original']</td><td style='border: 1px solid #dddddd'>quality</td><td style='border: 1px solid #dddddd'>5fa6c5fd-75af-44ff-a8fe-f1d5f9ea5224</td><td style='border: 1px solid #dddddd'>b7a3a7e2-424e-4851-bd08-88b184d3b98f</td><td style='border: 1px solid #dddddd'>subscription</td><td style='border: 1px solid #dddddd'>6039a35b-1f92-4dda-b8a0-fc8d8e8662a3</td></tr><tr><td style='border: 1px solid #dddddd'>2024-08-19 18:31:35.386000+00:00</td><td style='border: 1px solid #dddddd'>area_under_roc</td><td style='border: 1px solid #dddddd'>af538176-9a8d-4af9-b019-309d7f08ab0d</td><td style='border: 1px solid #dddddd'>0.6815850815850816</td><td style='border: 1px solid #dddddd'>0.8</td><td style='border: 1px solid #dddddd'>None</td><td style='border: 1px solid #dddddd'>['model_type:original']</td><td style='border: 1px solid #dddddd'>quality</td><td style='border: 1px solid #dddddd'>5fa6c5fd-75af-44ff-a8fe-f1d5f9ea5224</td><td style='border: 1px solid #dddddd'>b7a3a7e2-424e-4851-bd08-88b184d3b98f</td><td style='border: 1px solid #dddddd'>subscription</td><td style='border: 1px solid #dddddd'>6039a35b-1f92-4dda-b8a0-fc8d8e8662a3</td></tr><tr><td style='border: 1px solid #dddddd'>2024-08-19 18:31:35.386000+00:00</td><td style='border: 1px solid #dddddd'>precision</td><td style='border: 1px solid #dddddd'>af538176-9a8d-4af9-b019-309d7f08ab0d</td><td style='border: 1px solid #dddddd'>0.7590361445783133</td><td style='border: 1px solid #dddddd'>None</td><td style='border: 1px solid #dddddd'>None</td><td style='border: 1px solid #dddddd'>['model_type:original']</td><td style='border: 1px solid #dddddd'>quality</td><td style='border: 1px solid #dddddd'>5fa6c5fd-75af-44ff-a8fe-f1d5f9ea5224</td><td style='border: 1px solid #dddddd'>b7a3a7e2-424e-4851-bd08-88b184d3b98f</td><td style='border: 1px solid #dddddd'>subscription</td><td style='border: 1px solid #dddddd'>6039a35b-1f92-4dda-b8a0-fc8d8e8662a3</td></tr><tr><td style='border: 1px solid #dddddd'>2024-08-19 18:31:35.386000+00:00</td><td style='border: 1px solid #dddddd'>matthews_correlation_coefficient</td><td style='border: 1px solid #dddddd'>af538176-9a8d-4af9-b019-309d7f08ab0d</td><td style='border: 1px solid #dddddd'>0.4766933941810702</td><td style='border: 1px solid #dddddd'>None</td><td style='border: 1px solid #dddddd'>None</td><td style='border: 1px solid #dddddd'>['model_type:original']</td><td style='border: 1px solid #dddddd'>quality</td><td style='border: 1px solid #dddddd'>5fa6c5fd-75af-44ff-a8fe-f1d5f9ea5224</td><td style='border: 1px solid #dddddd'>b7a3a7e2-424e-4851-bd08-88b184d3b98f</td><td style='border: 1px solid #dddddd'>subscription</td><td style='border: 1px solid #dddddd'>6039a35b-1f92-4dda-b8a0-fc8d8e8662a3</td></tr><tr><td style='border: 1px solid #dddddd'>2024-08-19 18:31:35.386000+00:00</td><td style='border: 1px solid #dddddd'>f1_measure</td><td style='border: 1px solid #dddddd'>af538176-9a8d-4af9-b019-309d7f08ab0d</td><td style='border: 1px solid #dddddd'>0.8513513513513513</td><td style='border: 1px solid #dddddd'>None</td><td style='border: 1px solid #dddddd'>None</td><td style='border: 1px solid #dddddd'>['model_type:original']</td><td style='border: 1px solid #dddddd'>quality</td><td style='border: 1px solid #dddddd'>5fa6c5fd-75af-44ff-a8fe-f1d5f9ea5224</td><td style='border: 1px solid #dddddd'>b7a3a7e2-424e-4851-bd08-88b184d3b98f</td><td style='border: 1px solid #dddddd'>subscription</td><td style='border: 1px solid #dddddd'>6039a35b-1f92-4dda-b8a0-fc8d8e8662a3</td></tr><tr><td style='border: 1px solid #dddddd'>2024-08-19 18:31:35.386000+00:00</td><td style='border: 1px solid #dddddd'>accuracy</td><td style='border: 1px solid #dddddd'>af538176-9a8d-4af9-b019-309d7f08ab0d</td><td style='border: 1px solid #dddddd'>0.7755102040816326</td><td style='border: 1px solid #dddddd'>None</td><td style='border: 1px solid #dddddd'>None</td><td style='border: 1px solid #dddddd'>['model_type:original']</td><td style='border: 1px solid #dddddd'>quality</td><td style='border: 1px solid #dddddd'>5fa6c5fd-75af-44ff-a8fe-f1d5f9ea5224</td><td style='border: 1px solid #dddddd'>b7a3a7e2-424e-4851-bd08-88b184d3b98f</td><td style='border: 1px solid #dddddd'>subscription</td><td style='border: 1px solid #dddddd'>6039a35b-1f92-4dda-b8a0-fc8d8e8662a3</td></tr><tr><td style='border: 1px solid #dddddd'>2024-08-19 18:31:35.386000+00:00</td><td style='border: 1px solid #dddddd'>label_skew</td><td style='border: 1px solid #dddddd'>af538176-9a8d-4af9-b019-309d7f08ab0d</td><td style='border: 1px solid #dddddd'>0.690933627340049</td><td style='border: 1px solid #dddddd'>None</td><td style='border: 1px solid #dddddd'>None</td><td style='border: 1px solid #dddddd'>['model_type:original']</td><td style='border: 1px solid #dddddd'>quality</td><td style='border: 1px solid #dddddd'>5fa6c5fd-75af-44ff-a8fe-f1d5f9ea5224</td><td style='border: 1px solid #dddddd'>b7a3a7e2-424e-4851-bd08-88b184d3b98f</td><td style='border: 1px solid #dddddd'>subscription</td><td style='border: 1px solid #dddddd'>6039a35b-1f92-4dda-b8a0-fc8d8e8662a3</td></tr><tr><td style='border: 1px solid #dddddd'>2024-08-19 18:31:35.386000+00:00</td><td style='border: 1px solid #dddddd'>gini_coefficient</td><td style='border: 1px solid #dddddd'>af538176-9a8d-4af9-b019-309d7f08ab0d</td><td style='border: 1px solid #dddddd'>0.36317016317016315</td><td style='border: 1px solid #dddddd'>None</td><td style='border: 1px solid #dddddd'>None</td><td style='border: 1px solid #dddddd'>['model_type:original']</td><td style='border: 1px solid #dddddd'>quality</td><td style='border: 1px solid #dddddd'>5fa6c5fd-75af-44ff-a8fe-f1d5f9ea5224</td><td style='border: 1px solid #dddddd'>b7a3a7e2-424e-4851-bd08-88b184d3b98f</td><td style='border: 1px solid #dddddd'>subscription</td><td style='border: 1px solid #dddddd'>6039a35b-1f92-4dda-b8a0-fc8d8e8662a3</td></tr><tr><td style='border: 1px solid #dddddd'>2024-08-19 18:31:35.386000+00:00</td><td style='border: 1px solid #dddddd'>false_positive_rate</td><td style='border: 1px solid #dddddd'>af538176-9a8d-4af9-b019-309d7f08ab0d</td><td style='border: 1px solid #dddddd'>0.6060606060606061</td><td style='border: 1px solid #dddddd'>None</td><td style='border: 1px solid #dddddd'>None</td><td style='border: 1px solid #dddddd'>['model_type:original']</td><td style='border: 1px solid #dddddd'>quality</td><td style='border: 1px solid #dddddd'>5fa6c5fd-75af-44ff-a8fe-f1d5f9ea5224</td><td style='border: 1px solid #dddddd'>b7a3a7e2-424e-4851-bd08-88b184d3b98f</td><td style='border: 1px solid #dddddd'>subscription</td><td style='border: 1px solid #dddddd'>6039a35b-1f92-4dda-b8a0-fc8d8e8662a3</td></tr><tr><td style='border: 1px solid #dddddd'>2024-08-19 18:31:35.386000+00:00</td><td style='border: 1px solid #dddddd'>area_under_pr</td><td style='border: 1px solid #dddddd'>af538176-9a8d-4af9-b019-309d7f08ab0d</td><td style='border: 1px solid #dddddd'>0.7575627470636076</td><td style='border: 1px solid #dddddd'>None</td><td style='border: 1px solid #dddddd'>None</td><td style='border: 1px solid #dddddd'>['model_type:original']</td><td style='border: 1px solid #dddddd'>quality</td><td style='border: 1px solid #dddddd'>5fa6c5fd-75af-44ff-a8fe-f1d5f9ea5224</td><td style='border: 1px solid #dddddd'>b7a3a7e2-424e-4851-bd08-88b184d3b98f</td><td style='border: 1px solid #dddddd'>subscription</td><td style='border: 1px solid #dddddd'>6039a35b-1f92-4dda-b8a0-fc8d8e8662a3</td></tr>\n",
              "            </table>\n",
              "        </body>\n",
              "        </HTML>"
            ],
            "text/plain": [
              "<IPython.core.display.HTML object>"
            ]
          },
          "metadata": {},
          "output_type": "display_data"
        },
        {
          "name": "stdout",
          "output_type": "stream",
          "text": [
            "Note: First 10 records were displayed.\n"
          ]
        }
      ],
      "source": [
        "time.sleep(5)\n",
        "wos_client.monitor_instances.show_metrics(monitor_instance_id=quality_monitor_instance_id)"
      ]
    },
    {
      "cell_type": "markdown",
      "metadata": {},
      "source": [
        "# 7. Drift monitoring and explanations <a id=\"monitors\"></a>"
      ]
    },
    {
      "cell_type": "markdown",
      "metadata": {},
      "source": [
        "### Explainability configuration"
      ]
    },
    {
      "cell_type": "code",
      "execution_count": 76,
      "metadata": {},
      "outputs": [
        {
          "name": "stdout",
          "output_type": "stream",
          "text": [
            "\n",
            "\n",
            "===================================================================================\n",
            "\n",
            " Waiting for end of monitor instance creation ddceace0-afce-49d3-9c66-698b0d6db26b\n",
            "\n",
            "===================================================================================\n",
            "\n",
            "\n",
            "\n",
            "preparing.\n",
            "active\n",
            "\n",
            "---------------------------------------\n",
            " Monitor instance successfully created \n",
            "---------------------------------------\n"
          ]
        }
      ],
      "source": [
        "target = Target(\n",
        "    target_type=TargetTypes.SUBSCRIPTION,\n",
        "    target_id=subscription_id\n",
        ")\n",
        "parameters = {\n",
        "    \"enabled\": True\n",
        "}\n",
        "explainability_details = wos_client.monitor_instances.create(\n",
        "    data_mart_id=data_mart_id,\n",
        "    background_mode=False,\n",
        "    monitor_definition_id=wos_client.monitor_definitions.MONITORS.EXPLAINABILITY.ID,\n",
        "    target=target,\n",
        "    parameters=parameters\n",
        ").result"
      ]
    },
    {
      "cell_type": "code",
      "execution_count": 77,
      "metadata": {},
      "outputs": [
        {
          "data": {
            "text/plain": [
              "'ddceace0-afce-49d3-9c66-698b0d6db26b'"
            ]
          },
          "execution_count": 63,
          "metadata": {},
          "output_type": "execute_result"
        }
      ],
      "source": [
        "explainability_monitor_id = explainability_details.metadata.id\n",
        "explainability_monitor_id"
      ]
    },
    {
      "cell_type": "markdown",
      "metadata": {},
      "source": [
        "### Run explanation"
      ]
    },
    {
      "cell_type": "code",
      "execution_count": 80,
      "metadata": {},
      "outputs": [
        {
          "data": {
            "text/html": [
              "<HTML>\n",
              "        <body>\n",
              "            <h3>Data Set 28b9eb61-2e68-4568-9ba6-eca6b4113f75 Records</h3>\n",
              "            <table style='border: 1px solid #dddddd; font-family: Courier'>\n",
              "                <th style='border: 1px solid #dddddd'>asset_revision</th><th style='border: 1px solid #dddddd'>LoanAmount</th><th style='border: 1px solid #dddddd'>scoring_id</th><th style='border: 1px solid #dddddd'>InstallmentPercent</th><th style='border: 1px solid #dddddd'>ExistingSavings</th><th style='border: 1px solid #dddddd'>scoring_timestamp</th><th style='border: 1px solid #dddddd'>prediction_probability</th><th style='border: 1px solid #dddddd'>ProbabilityVector</th><th style='border: 1px solid #dddddd'>CheckingStatus</th><th style='border: 1px solid #dddddd'>LoanPurpose</th><th style='border: 1px solid #dddddd'>Scored Probabilities</th><th style='border: 1px solid #dddddd'>Job</th><th style='border: 1px solid #dddddd'>InstallmentPlans</th><th style='border: 1px solid #dddddd'>OthersOnLoan</th><th style='border: 1px solid #dddddd'>LoanDuration</th><th style='border: 1px solid #dddddd'>Age</th><th style='border: 1px solid #dddddd'>CreditHistory</th><th style='border: 1px solid #dddddd'>CurrentResidenceDuration</th><th style='border: 1px solid #dddddd'>ForeignWorker</th><th style='border: 1px solid #dddddd'>Housing</th><th style='border: 1px solid #dddddd'>ExistingCreditsCount</th><th style='border: 1px solid #dddddd'>deployment_id</th><th style='border: 1px solid #dddddd'>Telephone</th><th style='border: 1px solid #dddddd'>Scored Labels</th><th style='border: 1px solid #dddddd'>Sex</th><th style='border: 1px solid #dddddd'>Dependents</th><th style='border: 1px solid #dddddd'>OwnsProperty</th><th style='border: 1px solid #dddddd'>EmploymentDuration</th>\n",
              "                <tr><td style='border: 1px solid #dddddd'>None</td><td style='border: 1px solid #dddddd'>626</td><td style='border: 1px solid #dddddd'>9885fa6b-5c1c-421f-8ceb-70bdbe0d72e2-1</td><td style='border: 1px solid #dddddd'>2</td><td style='border: 1px solid #dddddd'>500_to_1000</td><td style='border: 1px solid #dddddd'>2024-08-19T18:42:50.903Z</td><td style='border: 1px solid #dddddd'>0.920011043548584</td><td style='border: 1px solid #dddddd'>[0.920011043548584, 0.079988956451416]</td><td style='border: 1px solid #dddddd'>less_0</td><td style='border: 1px solid #dddddd'>furniture</td><td style='border: 1px solid #dddddd'>0.920011043548584</td><td style='border: 1px solid #dddddd'>skilled</td><td style='border: 1px solid #dddddd'>none</td><td style='border: 1px solid #dddddd'>none</td><td style='border: 1px solid #dddddd'>17</td><td style='border: 1px solid #dddddd'>28</td><td style='border: 1px solid #dddddd'>credits_paid_to_date</td><td style='border: 1px solid #dddddd'>2</td><td style='border: 1px solid #dddddd'>yes</td><td style='border: 1px solid #dddddd'>rent</td><td style='border: 1px solid #dddddd'>1</td><td style='border: 1px solid #dddddd'>957d63a12e70eb90eb4b5bbe78c2c562</td><td style='border: 1px solid #dddddd'>none</td><td style='border: 1px solid #dddddd'>No Risk</td><td style='border: 1px solid #dddddd'>male</td><td style='border: 1px solid #dddddd'>1</td><td style='border: 1px solid #dddddd'>car_other</td><td style='border: 1px solid #dddddd'>less_1</td></tr><tr><td style='border: 1px solid #dddddd'>None</td><td style='border: 1px solid #dddddd'>250</td><td style='border: 1px solid #dddddd'>9885fa6b-5c1c-421f-8ceb-70bdbe0d72e2-10</td><td style='border: 1px solid #dddddd'>2</td><td style='border: 1px solid #dddddd'>less_100</td><td style='border: 1px solid #dddddd'>2024-08-19T18:42:50.903Z</td><td style='border: 1px solid #dddddd'>0.9511843919754028</td><td style='border: 1px solid #dddddd'>[0.9511843919754028, 0.0488156080245972]</td><td style='border: 1px solid #dddddd'>less_0</td><td style='border: 1px solid #dddddd'>furniture</td><td style='border: 1px solid #dddddd'>0.9511843919754028</td><td style='border: 1px solid #dddddd'>skilled</td><td style='border: 1px solid #dddddd'>stores</td><td style='border: 1px solid #dddddd'>none</td><td style='border: 1px solid #dddddd'>10</td><td style='border: 1px solid #dddddd'>23</td><td style='border: 1px solid #dddddd'>prior_payments_delayed</td><td style='border: 1px solid #dddddd'>1</td><td style='border: 1px solid #dddddd'>yes</td><td style='border: 1px solid #dddddd'>rent</td><td style='border: 1px solid #dddddd'>1</td><td style='border: 1px solid #dddddd'>957d63a12e70eb90eb4b5bbe78c2c562</td><td style='border: 1px solid #dddddd'>none</td><td style='border: 1px solid #dddddd'>No Risk</td><td style='border: 1px solid #dddddd'>male</td><td style='border: 1px solid #dddddd'>1</td><td style='border: 1px solid #dddddd'>real_estate</td><td style='border: 1px solid #dddddd'>less_1</td></tr><tr><td style='border: 1px solid #dddddd'>None</td><td style='border: 1px solid #dddddd'>2476</td><td style='border: 1px solid #dddddd'>9885fa6b-5c1c-421f-8ceb-70bdbe0d72e2-2</td><td style='border: 1px solid #dddddd'>3</td><td style='border: 1px solid #dddddd'>less_100</td><td style='border: 1px solid #dddddd'>2024-08-19T18:42:50.903Z</td><td style='border: 1px solid #dddddd'>0.8365631103515625</td><td style='border: 1px solid #dddddd'>[0.8365631103515625, 0.1634368896484375]</td><td style='border: 1px solid #dddddd'>0_to_200</td><td style='border: 1px solid #dddddd'>furniture</td><td style='border: 1px solid #dddddd'>0.8365631103515625</td><td style='border: 1px solid #dddddd'>skilled</td><td style='border: 1px solid #dddddd'>none</td><td style='border: 1px solid #dddddd'>none</td><td style='border: 1px solid #dddddd'>14</td><td style='border: 1px solid #dddddd'>28</td><td style='border: 1px solid #dddddd'>credits_paid_to_date</td><td style='border: 1px solid #dddddd'>3</td><td style='border: 1px solid #dddddd'>yes</td><td style='border: 1px solid #dddddd'>own</td><td style='border: 1px solid #dddddd'>2</td><td style='border: 1px solid #dddddd'>957d63a12e70eb90eb4b5bbe78c2c562</td><td style='border: 1px solid #dddddd'>yes</td><td style='border: 1px solid #dddddd'>No Risk</td><td style='border: 1px solid #dddddd'>male</td><td style='border: 1px solid #dddddd'>2</td><td style='border: 1px solid #dddddd'>real_estate</td><td style='border: 1px solid #dddddd'>1_to_4</td></tr><tr><td style='border: 1px solid #dddddd'>None</td><td style='border: 1px solid #dddddd'>4131</td><td style='border: 1px solid #dddddd'>9885fa6b-5c1c-421f-8ceb-70bdbe0d72e2-3</td><td style='border: 1px solid #dddddd'>4</td><td style='border: 1px solid #dddddd'>100_to_500</td><td style='border: 1px solid #dddddd'>2024-08-19T18:42:50.903Z</td><td style='border: 1px solid #dddddd'>0.5958502292633057</td><td style='border: 1px solid #dddddd'>[0.5958502292633057, 0.4041497707366943]</td><td style='border: 1px solid #dddddd'>less_0</td><td style='border: 1px solid #dddddd'>appliances</td><td style='border: 1px solid #dddddd'>0.5958502292633057</td><td style='border: 1px solid #dddddd'>unskilled</td><td style='border: 1px solid #dddddd'>bank</td><td style='border: 1px solid #dddddd'>none</td><td style='border: 1px solid #dddddd'>39</td><td style='border: 1px solid #dddddd'>29</td><td style='border: 1px solid #dddddd'>outstanding_credit</td><td style='border: 1px solid #dddddd'>4</td><td style='border: 1px solid #dddddd'>yes</td><td style='border: 1px solid #dddddd'>own</td><td style='border: 1px solid #dddddd'>1</td><td style='border: 1px solid #dddddd'>957d63a12e70eb90eb4b5bbe78c2c562</td><td style='border: 1px solid #dddddd'>yes</td><td style='border: 1px solid #dddddd'>No Risk</td><td style='border: 1px solid #dddddd'>male</td><td style='border: 1px solid #dddddd'>1</td><td style='border: 1px solid #dddddd'>unknown</td><td style='border: 1px solid #dddddd'>1_to_4</td></tr><tr><td style='border: 1px solid #dddddd'>None</td><td style='border: 1px solid #dddddd'>3643</td><td style='border: 1px solid #dddddd'>9885fa6b-5c1c-421f-8ceb-70bdbe0d72e2-4</td><td style='border: 1px solid #dddddd'>4</td><td style='border: 1px solid #dddddd'>greater_1000</td><td style='border: 1px solid #dddddd'>2024-08-19T18:42:50.903Z</td><td style='border: 1px solid #dddddd'>0.5111302137374878</td><td style='border: 1px solid #dddddd'>[0.4888697862625122, 0.5111302137374878]</td><td style='border: 1px solid #dddddd'>no_checking</td><td style='border: 1px solid #dddddd'>repairs</td><td style='border: 1px solid #dddddd'>0.4888697862625122</td><td style='border: 1px solid #dddddd'>skilled</td><td style='border: 1px solid #dddddd'>none</td><td style='border: 1px solid #dddddd'>none</td><td style='border: 1px solid #dddddd'>45</td><td style='border: 1px solid #dddddd'>34</td><td style='border: 1px solid #dddddd'>outstanding_credit</td><td style='border: 1px solid #dddddd'>5</td><td style='border: 1px solid #dddddd'>yes</td><td style='border: 1px solid #dddddd'>own</td><td style='border: 1px solid #dddddd'>2</td><td style='border: 1px solid #dddddd'>957d63a12e70eb90eb4b5bbe78c2c562</td><td style='border: 1px solid #dddddd'>none</td><td style='border: 1px solid #dddddd'>Risk</td><td style='border: 1px solid #dddddd'>male</td><td style='border: 1px solid #dddddd'>1</td><td style='border: 1px solid #dddddd'>savings_insurance</td><td style='border: 1px solid #dddddd'>4_to_7</td></tr><tr><td style='border: 1px solid #dddddd'>None</td><td style='border: 1px solid #dddddd'>3243</td><td style='border: 1px solid #dddddd'>9885fa6b-5c1c-421f-8ceb-70bdbe0d72e2-5</td><td style='border: 1px solid #dddddd'>3</td><td style='border: 1px solid #dddddd'>less_100</td><td style='border: 1px solid #dddddd'>2024-08-19T18:42:50.903Z</td><td style='border: 1px solid #dddddd'>0.6805847883224487</td><td style='border: 1px solid #dddddd'>[0.6805847883224487, 0.3194152116775513]</td><td style='border: 1px solid #dddddd'>less_0</td><td style='border: 1px solid #dddddd'>car_used</td><td style='border: 1px solid #dddddd'>0.6805847883224487</td><td style='border: 1px solid #dddddd'>skilled</td><td style='border: 1px solid #dddddd'>none</td><td style='border: 1px solid #dddddd'>none</td><td style='border: 1px solid #dddddd'>26</td><td style='border: 1px solid #dddddd'>36</td><td style='border: 1px solid #dddddd'>credits_paid_to_date</td><td style='border: 1px solid #dddddd'>3</td><td style='border: 1px solid #dddddd'>yes</td><td style='border: 1px solid #dddddd'>own</td><td style='border: 1px solid #dddddd'>1</td><td style='border: 1px solid #dddddd'>957d63a12e70eb90eb4b5bbe78c2c562</td><td style='border: 1px solid #dddddd'>none</td><td style='border: 1px solid #dddddd'>No Risk</td><td style='border: 1px solid #dddddd'>male</td><td style='border: 1px solid #dddddd'>1</td><td style='border: 1px solid #dddddd'>car_other</td><td style='border: 1px solid #dddddd'>1_to_4</td></tr><tr><td style='border: 1px solid #dddddd'>None</td><td style='border: 1px solid #dddddd'>5375</td><td style='border: 1px solid #dddddd'>9885fa6b-5c1c-421f-8ceb-70bdbe0d72e2-6</td><td style='border: 1px solid #dddddd'>4</td><td style='border: 1px solid #dddddd'>500_to_1000</td><td style='border: 1px solid #dddddd'>2024-08-19T18:42:50.903Z</td><td style='border: 1px solid #dddddd'>0.8744866847991943</td><td style='border: 1px solid #dddddd'>[0.12551331520080566, 0.8744866847991943]</td><td style='border: 1px solid #dddddd'>no_checking</td><td style='border: 1px solid #dddddd'>radio_tv</td><td style='border: 1px solid #dddddd'>0.12551331520080566</td><td style='border: 1px solid #dddddd'>unskilled</td><td style='border: 1px solid #dddddd'>stores</td><td style='border: 1px solid #dddddd'>co-applicant</td><td style='border: 1px solid #dddddd'>29</td><td style='border: 1px solid #dddddd'>59</td><td style='border: 1px solid #dddddd'>outstanding_credit</td><td style='border: 1px solid #dddddd'>3</td><td style='border: 1px solid #dddddd'>yes</td><td style='border: 1px solid #dddddd'>free</td><td style='border: 1px solid #dddddd'>2</td><td style='border: 1px solid #dddddd'>957d63a12e70eb90eb4b5bbe78c2c562</td><td style='border: 1px solid #dddddd'>yes</td><td style='border: 1px solid #dddddd'>Risk</td><td style='border: 1px solid #dddddd'>male</td><td style='border: 1px solid #dddddd'>1</td><td style='border: 1px solid #dddddd'>unknown</td><td style='border: 1px solid #dddddd'>greater_7</td></tr><tr><td style='border: 1px solid #dddddd'>None</td><td style='border: 1px solid #dddddd'>5866</td><td style='border: 1px solid #dddddd'>9885fa6b-5c1c-421f-8ceb-70bdbe0d72e2-7</td><td style='border: 1px solid #dddddd'>4</td><td style='border: 1px solid #dddddd'>500_to_1000</td><td style='border: 1px solid #dddddd'>2024-08-19T18:42:50.903Z</td><td style='border: 1px solid #dddddd'>0.5357937812805176</td><td style='border: 1px solid #dddddd'>[0.5357937812805176, 0.4642062187194824]</td><td style='border: 1px solid #dddddd'>no_checking</td><td style='border: 1px solid #dddddd'>appliances</td><td style='border: 1px solid #dddddd'>0.5357937812805176</td><td style='border: 1px solid #dddddd'>skilled</td><td style='border: 1px solid #dddddd'>none</td><td style='border: 1px solid #dddddd'>none</td><td style='border: 1px solid #dddddd'>33</td><td style='border: 1px solid #dddddd'>41</td><td style='border: 1px solid #dddddd'>prior_payments_delayed</td><td style='border: 1px solid #dddddd'>4</td><td style='border: 1px solid #dddddd'>yes</td><td style='border: 1px solid #dddddd'>free</td><td style='border: 1px solid #dddddd'>3</td><td style='border: 1px solid #dddddd'>957d63a12e70eb90eb4b5bbe78c2c562</td><td style='border: 1px solid #dddddd'>yes</td><td style='border: 1px solid #dddddd'>No Risk</td><td style='border: 1px solid #dddddd'>male</td><td style='border: 1px solid #dddddd'>2</td><td style='border: 1px solid #dddddd'>car_other</td><td style='border: 1px solid #dddddd'>4_to_7</td></tr><tr><td style='border: 1px solid #dddddd'>None</td><td style='border: 1px solid #dddddd'>546</td><td style='border: 1px solid #dddddd'>9885fa6b-5c1c-421f-8ceb-70bdbe0d72e2-8</td><td style='border: 1px solid #dddddd'>2</td><td style='border: 1px solid #dddddd'>less_100</td><td style='border: 1px solid #dddddd'>2024-08-19T18:42:50.903Z</td><td style='border: 1px solid #dddddd'>0.951320230960846</td><td style='border: 1px solid #dddddd'>[0.951320230960846, 0.048679769039154]</td><td style='border: 1px solid #dddddd'>0_to_200</td><td style='border: 1px solid #dddddd'>car_used</td><td style='border: 1px solid #dddddd'>0.951320230960846</td><td style='border: 1px solid #dddddd'>management_self-employed</td><td style='border: 1px solid #dddddd'>none</td><td style='border: 1px solid #dddddd'>none</td><td style='border: 1px solid #dddddd'>4</td><td style='border: 1px solid #dddddd'>26</td><td style='border: 1px solid #dddddd'>all_credits_paid_back</td><td style='border: 1px solid #dddddd'>1</td><td style='border: 1px solid #dddddd'>yes</td><td style='border: 1px solid #dddddd'>own</td><td style='border: 1px solid #dddddd'>1</td><td style='border: 1px solid #dddddd'>957d63a12e70eb90eb4b5bbe78c2c562</td><td style='border: 1px solid #dddddd'>none</td><td style='border: 1px solid #dddddd'>No Risk</td><td style='border: 1px solid #dddddd'>female</td><td style='border: 1px solid #dddddd'>1</td><td style='border: 1px solid #dddddd'>real_estate</td><td style='border: 1px solid #dddddd'>less_1</td></tr><tr><td style='border: 1px solid #dddddd'>None</td><td style='border: 1px solid #dddddd'>1355</td><td style='border: 1px solid #dddddd'>9885fa6b-5c1c-421f-8ceb-70bdbe0d72e2-9</td><td style='border: 1px solid #dddddd'>2</td><td style='border: 1px solid #dddddd'>less_100</td><td style='border: 1px solid #dddddd'>2024-08-19T18:42:50.903Z</td><td style='border: 1px solid #dddddd'>0.7092019319534302</td><td style='border: 1px solid #dddddd'>[0.7092019319534302, 0.2907980680465698]</td><td style='border: 1px solid #dddddd'>0_to_200</td><td style='border: 1px solid #dddddd'>radio_tv</td><td style='border: 1px solid #dddddd'>0.7092019319534302</td><td style='border: 1px solid #dddddd'>skilled</td><td style='border: 1px solid #dddddd'>none</td><td style='border: 1px solid #dddddd'>none</td><td style='border: 1px solid #dddddd'>24</td><td style='border: 1px solid #dddddd'>19</td><td style='border: 1px solid #dddddd'>credits_paid_to_date</td><td style='border: 1px solid #dddddd'>3</td><td style='border: 1px solid #dddddd'>yes</td><td style='border: 1px solid #dddddd'>own</td><td style='border: 1px solid #dddddd'>1</td><td style='border: 1px solid #dddddd'>957d63a12e70eb90eb4b5bbe78c2c562</td><td style='border: 1px solid #dddddd'>none</td><td style='border: 1px solid #dddddd'>No Risk</td><td style='border: 1px solid #dddddd'>male</td><td style='border: 1px solid #dddddd'>1</td><td style='border: 1px solid #dddddd'>savings_insurance</td><td style='border: 1px solid #dddddd'>less_1</td></tr>\n",
              "            </table>\n",
              "        </body>\n",
              "        </HTML>"
            ],
            "text/plain": [
              "<IPython.core.display.HTML object>"
            ]
          },
          "metadata": {},
          "output_type": "display_data"
        }
      ],
      "source": [
        "wos_client.data_sets.show_records(data_set_id=payload_data_set_id)"
      ]
    },
    {
      "cell_type": "code",
      "execution_count": 84,
      "metadata": {},
      "outputs": [
        {
          "name": "stdout",
          "output_type": "stream",
          "text": [
            "Running explanations on scoring IDs: ['9885fa6b-5c1c-421f-8ceb-70bdbe0d72e2-1']\n",
            "{\n",
            "  \"metadata\": {\n",
            "    \"explanation_task_ids\": [\n",
            "      \"a1f2f9b9-1771-4f1f-890b-b5e8924f9343\"\n",
            "    ],\n",
            "    \"created_by\": \"IBMid-666003NI0G\",\n",
            "    \"created_at\": \"2024-08-20T01:05:23.342399Z\"\n",
            "  }\n",
            "}\n"
          ]
        }
      ],
      "source": [
        "pl_records_resp = wos_client.data_sets.get_list_of_records(data_set_id=payload_data_set_id, limit=1, offset=0).result\n",
        "scoring_ids = [pl_records_resp[\"records\"][0][\"entity\"][\"values\"][\"scoring_id\"]]\n",
        "print(\"Running explanations on scoring IDs: {}\".format(scoring_ids))\n",
        "explanation_types = [\"lime\", \"contrastive\"]\n",
        "result = wos_client.monitor_instances.explanation_tasks(scoring_ids=scoring_ids, explanation_types=explanation_types, subscription_id=subscription_id).result\n",
        "print(result)\n",
        "explanation_task_id=result.to_dict()['metadata']['explanation_task_ids'][0]"
      ]
    },
    {
      "cell_type": "code",
      "execution_count": 88,
      "metadata": {},
      "outputs": [],
      "source": [
        "wos_client.data_sets.show_records(data_set_id=payload_data_set_id)"
      ]
    },
    {
      "cell_type": "code",
      "execution_count": 89,
      "metadata": {},
      "outputs": [
        {
          "name": "stdout",
          "output_type": "stream",
          "text": [
            "\"{\\\"output\\\": [{\\\"Scored Labels\\\": \\\"No Risk\\\", \\\"Scored Probabilities\\\": [0.5055540800094604, 0.49444594979286194]}, {\\\"Scored Labels\\\": \\\"No Risk\\\", \\\"Scored Probabilities\\\": [0.9287057518959045, 0.07129423320293427]}, {\\\"Scored Labels\\\": \\\"No Risk\\\", \\\"Scored Probabilities\\\": [0.9513672590255737, 0.048632752150297165]}, {\\\"Scored Labels\\\": \\\"No Risk\\\", \\\"Scored Probabilities\\\": [0.8164966702461243, 0.18350332975387573]}, {\\\"Scored Labels\\\": \\\"No Risk\\\", \\\"Scored Probabilities\\\": [0.7056454420089722, 0.29435455799102783]}, {\\\"Scored Labels\\\": \\\"No Risk\\\", \\\"Scored Probabilities\\\": [0.5642480850219727, 0.43575191497802734]}, {\\\"Scored Labels\\\": \\\"Risk\\\", \\\"Scored Probabilities\\\": [0.18871283531188965, 0.8112871646881104]}, {\\\"Scored Labels\\\": \\\"No Risk\\\", \\\"Scored Probabilities\\\": [0.6658697128295898, 0.33413028717041016]}, {\\\"Scored Labels\\\": \\\"No Risk\\\", \\\"Scored Probabilities\\\": [0.9089884757995605, 0.09101152420043945]}, {\\\"Scored Labels\\\": \\\"No Risk\\\", \\\"Scored Probabilities\\\": [0.6493590474128723, 0.3506409525871277]}]}\"\n"
          ]
        }
      ],
      "source": [
        "import requests\n",
        "import time\n",
        "import json\n",
        "\n",
        "scoring_url = subscription_details['entity']['deployment']['scoring_endpoint']['url']\n",
        "\n",
        "payload_data = {\n",
        "            \"input\": \n",
        "                    training_data_pd.sample(10).drop(['Risk'],axis=1).to_dict('records'),\n",
        "        }\n",
        "\n",
        "pl_body = str.encode(json.dumps(payload_data))\n",
        "\n",
        "\n",
        "token = model_asset_details['entity']['scoring_endpoint']['credentials']['token']\n",
        "headers = subscription_details['entity']['deployment']['scoring_endpoint']['request_headers']\n",
        "headers['Authorization'] = ('Bearer ' + token)\n",
        "\n",
        "start_time = time.time()\n",
        "response = requests.post(url=scoring_url, data=pl_body, headers=headers)\n",
        "response_time = int(time.time() - start_time)*1000\n",
        "result = response.json()\n",
        "\n",
        "print(json.dumps(result, indent=2))"
      ]
    },
    {
      "cell_type": "code",
      "execution_count": 90,
      "metadata": {},
      "outputs": [],
      "source": [
        "openscale_paylod_input=convert_user_input_2_openscale(payload_data)\n",
        "openscale_payload_output=convert_user_output_2_openscale(result)"
      ]
    },
    {
      "cell_type": "code",
      "execution_count": 93,
      "metadata": {},
      "outputs": [
        {
          "name": "stdout",
          "output_type": "stream",
          "text": [
            "Performing explicit payload logging.....\n",
            "Number of records in the payload logging table: 22\n"
          ]
        }
      ],
      "source": [
        "import uuid\n",
        "from ibm_watson_openscale.supporting_classes.payload_record import PayloadRecord\n",
        "\n",
        "print(\"Performing explicit payload logging.....\")\n",
        "wos_client.data_sets.store_records(data_set_id=payload_data_set_id, request_body=[PayloadRecord(\n",
        "           scoring_id=str(uuid.uuid4()),\n",
        "           request=openscale_paylod_input,\n",
        "           response=openscale_payload_output,\n",
        "           response_time=460\n",
        ")])\n",
        "time.sleep(5)\n",
        "pl_records_count = wos_client.data_sets.get_records_count(payload_data_set_id)\n",
        "print(\"Number of records in the payload logging table: {}\".format(pl_records_count))"
      ]
    },
    {
      "cell_type": "code",
      "execution_count": 96,
      "metadata": {},
      "outputs": [],
      "source": [
        "monitor_instances = wos_client.monitor_instances.list().result.monitor_instances\n",
        "for monitor_instance in monitor_instances:\n",
        "    monitor_def_id=monitor_instance.entity.monitor_definition_id\n",
        "    if monitor_def_id == \"drift_v2\" and monitor_instance.entity.target.target_id == subscription_id:\n",
        "        wos_client.monitor_instances.delete(monitor_instance.metadata.id)\n",
        "        print('Deleted existing drift monitor instance with id: ', monitor_instance.metadata.id)"
      ]
    },
    {
      "cell_type": "code",
      "execution_count": 97,
      "metadata": {},
      "outputs": [
        {
          "name": "stdout",
          "output_type": "stream",
          "text": [
            "{'CheckingStatus': 0.12077687935313486, 'LoanDuration': 0.4862844694569116, 'CreditHistory': 0.9140352698180274, 'LoanPurpose': 0.1581220027836978, 'LoanAmount': 0.1554882147348282, 'ExistingSavings': 0.5588505770683856, 'EmploymentDuration': 0.8341504367254685, 'InstallmentPercent': 0.9788834254828491, 'Sex': 0.40976221239238164, 'OthersOnLoan': 0.5981423101319839, 'CurrentResidenceDuration': 0.5852946801422452, 'OwnsProperty': 0.4791434713335374, 'Age': 0.2609681411545819, 'InstallmentPlans': 0.3154679912621383, 'Housing': 0.624027919503637, 'ExistingCreditsCount': 0.8070870800378268, 'Job': 0.20134441854401408, 'Dependents': 0.0606629126071655, 'Telephone': 0.13178995963587792, 'ForeignWorker': 0.8351050878586475}\n"
          ]
        }
      ],
      "source": [
        "# Setting up the features and its importances\n",
        "import random\n",
        "feature_importances = [random.random() for _ in feature_columns]\n",
        "\n",
        "# Create the dictionary\n",
        "feature_importance_dict = dict(zip(feature_columns, feature_importances))\n",
        "print(feature_importance_dict)"
      ]
    },
    {
      "cell_type": "code",
      "execution_count": 98,
      "metadata": {},
      "outputs": [
        {
          "data": {
            "text/plain": [
              "'8f414fd6-3d51-4fe9-b32a-c0609ee15ecb'"
            ]
          },
          "execution_count": 72,
          "metadata": {},
          "output_type": "execute_result"
        }
      ],
      "source": [
        "target = Target(\n",
        "    target_type=TargetTypes.SUBSCRIPTION,\n",
        "    target_id=subscription_id\n",
        ")\n",
        "\n",
        "parameters = {\n",
        "        \"min_samples\": 10,\n",
        "        \"max_samples\": 1000,\n",
        "        \"train_archive\": True,\n",
        "        \"features\": {\n",
        "            \"fields\": feature_columns,\n",
        "            \"importances\": feature_importance_dict\n",
        "        }\n",
        "    }\n",
        "drift_v2_monitor_details = wos_client.monitor_instances.create(\n",
        "    data_mart_id=data_mart_id,\n",
        "    monitor_definition_id=wos_client.monitor_definitions.MONITORS.DRIFT_V2.ID,\n",
        "    target=target,\n",
        "    parameters=parameters\n",
        ").result\n",
        "\n",
        "drift_v2_monitor_instance_id = drift_v2_monitor_details.metadata.id\n",
        "drift_v2_monitor_instance_id"
      ]
    },
    {
      "cell_type": "markdown",
      "metadata": {},
      "source": [
        "### Run Drift monitor on demand"
      ]
    },
    {
      "cell_type": "code",
      "execution_count": 99,
      "metadata": {},
      "outputs": [
        {
          "name": "stdout",
          "output_type": "stream",
          "text": [
            "\n",
            "\n",
            "========================================================================\n",
            "\n",
            " Waiting for end of monitoring run 343f6b2e-933d-4b73-9ccf-a186299d3f45\n",
            "\n",
            "========================================================================\n",
            "\n",
            "\n",
            "\n",
            "running........................\n",
            "finished\n",
            "\n",
            "---------------------------\n",
            " Successfully finished run \n",
            "---------------------------\n",
            "\n"
          ]
        }
      ],
      "source": [
        "time.sleep(45)\n",
        "drift_run_details = wos_client.monitor_instances.run(monitor_instance_id=drift_v2_monitor_instance_id, background_mode=False)"
      ]
    },
    {
      "cell_type": "code",
      "execution_count": 102,
      "metadata": {},
      "outputs": [
        {
          "data": {
            "text/html": [
              "<HTML>\n",
              "        <body>\n",
              "            <h3>ffb9a6fb-d762-4a23-8036-7f2d5cfec010 Monitor Runs Metrics from: 2024-08-13 09:48:29.846893  till: 2024-08-20 09:48:29.846941</h3>\n",
              "            <table style='border: 1px solid #dddddd; font-family: Courier'>\n",
              "                <th style='border: 1px solid #dddddd'>ts</th><th style='border: 1px solid #dddddd'>id</th><th style='border: 1px solid #dddddd'>measurement_id</th><th style='border: 1px solid #dddddd'>value</th><th style='border: 1px solid #dddddd'>lower_limit</th><th style='border: 1px solid #dddddd'>upper_limit</th><th style='border: 1px solid #dddddd'>tags</th><th style='border: 1px solid #dddddd'>monitor_definition_id</th><th style='border: 1px solid #dddddd'>monitor_instance_id</th><th style='border: 1px solid #dddddd'>run_id</th><th style='border: 1px solid #dddddd'>target_type</th><th style='border: 1px solid #dddddd'>target_id</th>\n",
              "                <tr><td style='border: 1px solid #dddddd'>2024-08-20 04:16:05.633343+00:00</td><td style='border: 1px solid #dddddd'>records_processed</td><td style='border: 1px solid #dddddd'>8fc0ce36-7880-428d-82f4-9942bbbcee57</td><td style='border: 1px solid #dddddd'>10.0</td><td style='border: 1px solid #dddddd'>None</td><td style='border: 1px solid #dddddd'>None</td><td style='border: 1px solid #dddddd'>['algorithm_used:total_variation', 'computed_on:payload', 'field_type:class', 'field_name:Class Probability for No Risk']</td><td style='border: 1px solid #dddddd'>drift_v2</td><td style='border: 1px solid #dddddd'>8f414fd6-3d51-4fe9-b32a-c0609ee15ecb</td><td style='border: 1px solid #dddddd'>13633d9b-918b-4bf4-b82e-b4a2b569fe35</td><td style='border: 1px solid #dddddd'>subscription</td><td style='border: 1px solid #dddddd'>6039a35b-1f92-4dda-b8a0-fc8d8e8662a3</td></tr><tr><td style='border: 1px solid #dddddd'>2024-08-20 04:16:05.633343+00:00</td><td style='border: 1px solid #dddddd'>confidence_drift_score</td><td style='border: 1px solid #dddddd'>8fc0ce36-7880-428d-82f4-9942bbbcee57</td><td style='border: 1px solid #dddddd'>0.4279</td><td style='border: 1px solid #dddddd'>None</td><td style='border: 1px solid #dddddd'>0.05</td><td style='border: 1px solid #dddddd'>['algorithm_used:total_variation', 'computed_on:payload', 'field_type:class', 'field_name:Class Probability for No Risk']</td><td style='border: 1px solid #dddddd'>drift_v2</td><td style='border: 1px solid #dddddd'>8f414fd6-3d51-4fe9-b32a-c0609ee15ecb</td><td style='border: 1px solid #dddddd'>13633d9b-918b-4bf4-b82e-b4a2b569fe35</td><td style='border: 1px solid #dddddd'>subscription</td><td style='border: 1px solid #dddddd'>6039a35b-1f92-4dda-b8a0-fc8d8e8662a3</td></tr><tr><td style='border: 1px solid #dddddd'>2024-08-20 04:16:05.633343+00:00</td><td style='border: 1px solid #dddddd'>records_processed</td><td style='border: 1px solid #dddddd'>8fc0ce36-7880-428d-82f4-9942bbbcee57</td><td style='border: 1px solid #dddddd'>10.0</td><td style='border: 1px solid #dddddd'>None</td><td style='border: 1px solid #dddddd'>None</td><td style='border: 1px solid #dddddd'>['algorithm_used:overlap_coefficient', 'computed_on:payload', 'field_type:class', 'field_name:Class Probability for No Risk']</td><td style='border: 1px solid #dddddd'>drift_v2</td><td style='border: 1px solid #dddddd'>8f414fd6-3d51-4fe9-b32a-c0609ee15ecb</td><td style='border: 1px solid #dddddd'>13633d9b-918b-4bf4-b82e-b4a2b569fe35</td><td style='border: 1px solid #dddddd'>subscription</td><td style='border: 1px solid #dddddd'>6039a35b-1f92-4dda-b8a0-fc8d8e8662a3</td></tr><tr><td style='border: 1px solid #dddddd'>2024-08-20 04:16:05.633343+00:00</td><td style='border: 1px solid #dddddd'>confidence_drift_score</td><td style='border: 1px solid #dddddd'>8fc0ce36-7880-428d-82f4-9942bbbcee57</td><td style='border: 1px solid #dddddd'>0.4282</td><td style='border: 1px solid #dddddd'>None</td><td style='border: 1px solid #dddddd'>0.05</td><td style='border: 1px solid #dddddd'>['algorithm_used:overlap_coefficient', 'computed_on:payload', 'field_type:class', 'field_name:Class Probability for No Risk']</td><td style='border: 1px solid #dddddd'>drift_v2</td><td style='border: 1px solid #dddddd'>8f414fd6-3d51-4fe9-b32a-c0609ee15ecb</td><td style='border: 1px solid #dddddd'>13633d9b-918b-4bf4-b82e-b4a2b569fe35</td><td style='border: 1px solid #dddddd'>subscription</td><td style='border: 1px solid #dddddd'>6039a35b-1f92-4dda-b8a0-fc8d8e8662a3</td></tr><tr><td style='border: 1px solid #dddddd'>2024-08-20 04:16:11.190640+00:00</td><td style='border: 1px solid #dddddd'>records_processed</td><td style='border: 1px solid #dddddd'>016724c5-80a1-4b6b-a778-2ac1178f57bf</td><td style='border: 1px solid #dddddd'>10.0</td><td style='border: 1px solid #dddddd'>None</td><td style='border: 1px solid #dddddd'>None</td><td style='border: 1px solid #dddddd'>['algorithm_used:total_variation', 'computed_on:payload', 'field_type:class', 'field_name:Class Probability for Risk']</td><td style='border: 1px solid #dddddd'>drift_v2</td><td style='border: 1px solid #dddddd'>8f414fd6-3d51-4fe9-b32a-c0609ee15ecb</td><td style='border: 1px solid #dddddd'>13633d9b-918b-4bf4-b82e-b4a2b569fe35</td><td style='border: 1px solid #dddddd'>subscription</td><td style='border: 1px solid #dddddd'>6039a35b-1f92-4dda-b8a0-fc8d8e8662a3</td></tr><tr><td style='border: 1px solid #dddddd'>2024-08-20 04:16:11.190640+00:00</td><td style='border: 1px solid #dddddd'>confidence_drift_score</td><td style='border: 1px solid #dddddd'>016724c5-80a1-4b6b-a778-2ac1178f57bf</td><td style='border: 1px solid #dddddd'>0.4417</td><td style='border: 1px solid #dddddd'>None</td><td style='border: 1px solid #dddddd'>0.05</td><td style='border: 1px solid #dddddd'>['algorithm_used:total_variation', 'computed_on:payload', 'field_type:class', 'field_name:Class Probability for Risk']</td><td style='border: 1px solid #dddddd'>drift_v2</td><td style='border: 1px solid #dddddd'>8f414fd6-3d51-4fe9-b32a-c0609ee15ecb</td><td style='border: 1px solid #dddddd'>13633d9b-918b-4bf4-b82e-b4a2b569fe35</td><td style='border: 1px solid #dddddd'>subscription</td><td style='border: 1px solid #dddddd'>6039a35b-1f92-4dda-b8a0-fc8d8e8662a3</td></tr><tr><td style='border: 1px solid #dddddd'>2024-08-20 04:16:11.190640+00:00</td><td style='border: 1px solid #dddddd'>records_processed</td><td style='border: 1px solid #dddddd'>016724c5-80a1-4b6b-a778-2ac1178f57bf</td><td style='border: 1px solid #dddddd'>10.0</td><td style='border: 1px solid #dddddd'>None</td><td style='border: 1px solid #dddddd'>None</td><td style='border: 1px solid #dddddd'>['algorithm_used:overlap_coefficient', 'computed_on:payload', 'field_type:class', 'field_name:Class Probability for Risk']</td><td style='border: 1px solid #dddddd'>drift_v2</td><td style='border: 1px solid #dddddd'>8f414fd6-3d51-4fe9-b32a-c0609ee15ecb</td><td style='border: 1px solid #dddddd'>13633d9b-918b-4bf4-b82e-b4a2b569fe35</td><td style='border: 1px solid #dddddd'>subscription</td><td style='border: 1px solid #dddddd'>6039a35b-1f92-4dda-b8a0-fc8d8e8662a3</td></tr><tr><td style='border: 1px solid #dddddd'>2024-08-20 04:16:11.190640+00:00</td><td style='border: 1px solid #dddddd'>confidence_drift_score</td><td style='border: 1px solid #dddddd'>016724c5-80a1-4b6b-a778-2ac1178f57bf</td><td style='border: 1px solid #dddddd'>0.4423</td><td style='border: 1px solid #dddddd'>None</td><td style='border: 1px solid #dddddd'>0.05</td><td style='border: 1px solid #dddddd'>['algorithm_used:overlap_coefficient', 'computed_on:payload', 'field_type:class', 'field_name:Class Probability for Risk']</td><td style='border: 1px solid #dddddd'>drift_v2</td><td style='border: 1px solid #dddddd'>8f414fd6-3d51-4fe9-b32a-c0609ee15ecb</td><td style='border: 1px solid #dddddd'>13633d9b-918b-4bf4-b82e-b4a2b569fe35</td><td style='border: 1px solid #dddddd'>subscription</td><td style='border: 1px solid #dddddd'>6039a35b-1f92-4dda-b8a0-fc8d8e8662a3</td></tr><tr><td style='border: 1px solid #dddddd'>2024-08-20 04:16:17.810159+00:00</td><td style='border: 1px solid #dddddd'>records_processed</td><td style='border: 1px solid #dddddd'>f70e2442-8322-4be9-93e0-ccafab8d74fe</td><td style='border: 1px solid #dddddd'>10.0</td><td style='border: 1px solid #dddddd'>None</td><td style='border: 1px solid #dddddd'>None</td><td style='border: 1px solid #dddddd'>['algorithm_used:jensen_shannon', 'computed_on:payload', 'field_type:class', 'field_name:Scored Labels']</td><td style='border: 1px solid #dddddd'>drift_v2</td><td style='border: 1px solid #dddddd'>8f414fd6-3d51-4fe9-b32a-c0609ee15ecb</td><td style='border: 1px solid #dddddd'>13633d9b-918b-4bf4-b82e-b4a2b569fe35</td><td style='border: 1px solid #dddddd'>subscription</td><td style='border: 1px solid #dddddd'>6039a35b-1f92-4dda-b8a0-fc8d8e8662a3</td></tr><tr><td style='border: 1px solid #dddddd'>2024-08-20 04:16:17.810159+00:00</td><td style='border: 1px solid #dddddd'>prediction_drift_score</td><td style='border: 1px solid #dddddd'>f70e2442-8322-4be9-93e0-ccafab8d74fe</td><td style='border: 1px solid #dddddd'>0.0616</td><td style='border: 1px solid #dddddd'>None</td><td style='border: 1px solid #dddddd'>0.05</td><td style='border: 1px solid #dddddd'>['algorithm_used:jensen_shannon', 'computed_on:payload', 'field_type:class', 'field_name:Scored Labels']</td><td style='border: 1px solid #dddddd'>drift_v2</td><td style='border: 1px solid #dddddd'>8f414fd6-3d51-4fe9-b32a-c0609ee15ecb</td><td style='border: 1px solid #dddddd'>13633d9b-918b-4bf4-b82e-b4a2b569fe35</td><td style='border: 1px solid #dddddd'>subscription</td><td style='border: 1px solid #dddddd'>6039a35b-1f92-4dda-b8a0-fc8d8e8662a3</td></tr>\n",
              "            </table>\n",
              "        </body>\n",
              "        </HTML>"
            ],
            "text/plain": [
              "<IPython.core.display.HTML object>"
            ]
          },
          "metadata": {},
          "output_type": "display_data"
        },
        {
          "name": "stdout",
          "output_type": "stream",
          "text": [
            "Note: First 10 records were displayed.\n"
          ]
        }
      ],
      "source": [
        "time.sleep(5)\n",
        "wos_client.monitor_instances.show_metrics(monitor_instance_id=drift_v2_monitor_instance_id)"
      ]
    },
    {
      "cell_type": "markdown",
      "metadata": {},
      "source": [
        "## Congratulations!"
      ]
    },
    {
      "cell_type": "markdown",
      "metadata": {},
      "source": [
        "You have finished the tutorial for IBM Watson OpenScale and Azure Machine Learning Studio. You can now view the [OpenScale Dashboard](https://aiopenscale.cloud.ibm.com/). Click on the tile for the German Credit model to see fairness, accuracy, and performance monitors. Click on the timeseries graph to get detailed information on transactions during a specific time window.\n",
        "\n"
      ]
    }
  ],
  "metadata": {
    "description": {
      "description": "Deploy an mlflow model to an online endpoint. This will be a no-code-deployment. It doesn't require scoring script and environment."
    },
    "kernel_info": {
      "name": "python38-azureml"
    },
    "kernelspec": {
      "display_name": "azure_notebook",
      "language": "python",
      "name": "python3"
    },
    "language_info": {
      "codemirror_mode": {
        "name": "ipython",
        "version": 3
      },
      "file_extension": ".py",
      "mimetype": "text/x-python",
      "name": "python",
      "nbconvert_exporter": "python",
      "pygments_lexer": "ipython3",
      "version": "3.10.14"
    },
    "microsoft": {
      "host": {
        "AzureML": {
          "notebookHasBeenCompleted": true
        }
      },
      "ms_spell_check": {
        "ms_spell_check_language": "en"
      }
    },
    "nteract": {
      "version": "nteract-front-end@1.0.0"
    },
    "orig_nbformat": 4
  },
  "nbformat": 4,
  "nbformat_minor": 2
}
