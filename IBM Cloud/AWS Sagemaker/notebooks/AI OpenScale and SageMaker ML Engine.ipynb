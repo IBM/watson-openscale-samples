{
 "cells": [
  {
   "cell_type": "markdown",
   "metadata": {},
   "source": [
    "<img src=\"https://github.com/pmservice/ai-openscale-tutorials/raw/master/notebooks/images/banner.png\" align=\"left\" alt=\"banner\">"
   ]
  },
  {
   "cell_type": "markdown",
   "metadata": {},
   "source": [
    "# Working with SageMaker Machine Learning engine"
   ]
  },
  {
   "cell_type": "markdown",
   "metadata": {},
   "source": [
    "This notebook works correctly with kernel **`IBM Runtime 23.1 on Python 3.10 XS`** if using IBM Watson Studio or else use standard Python 3.10 runtime. It shows how to log the payload for the model deployed on custom model serving engine using Watson OpenScale python sdk."
   ]
  },
  {
   "cell_type": "markdown",
   "metadata": {},
   "source": [
    "Contents\n",
    "- Setup\n",
    "- Binding machine learning engine\n",
    "- Subscriptions\n",
    "- Performance monitor, scoring and payload logging\n",
    "- Quality monitor and feedback logging\n",
    "- Fairness, Drift monitoring and explanations"
   ]
  },
  {
   "cell_type": "markdown",
   "metadata": {},
   "source": [
    "<a id=\"setup\"></a>\n",
    "## 1. Setup"
   ]
  },
  {
   "cell_type": "markdown",
   "metadata": {},
   "source": [
    "### Requirements installation"
   ]
  },
  {
   "cell_type": "code",
   "execution_count": null,
   "metadata": {},
   "outputs": [],
   "source": [
    "# Install following dependencies if you are not running notebook in IBM Watson Studio Env\n",
    "\n",
    "#!pip install --upgrade \"ibm-watson-openscale~=3.0.34\" --no-cache | tail -n 1\n",
    "#!pip install --upgrade boto3 --no-cache | tail -n 1\n",
    "#!pip install --upgrade pandas --no-cache | tail -n 1"
   ]
  },
  {
   "cell_type": "code",
   "execution_count": null,
   "metadata": {},
   "outputs": [],
   "source": [
    "!pip3 install sagemaker --no-cache | tail -n 1"
   ]
  },
  {
   "cell_type": "markdown",
   "metadata": {},
   "source": [
    "**Action:** Restart the kernel."
   ]
  },
  {
   "cell_type": "markdown",
   "metadata": {},
   "source": [
    "### Sample model creation using [Amazon SageMaker](https://aws.amazon.com/sagemaker/)"
   ]
  },
  {
   "cell_type": "markdown",
   "metadata": {},
   "source": [
    "- Download this [notebook](https://github.com/IBM/watson-openscale-samples/blob/main/IBM%20Cloud/AWS%20Sagemaker/notebooks/Credit%20%20model%20with%20SageMaker%20linear-learner%20.ipynb) to create SageMaker model\n",
    "- Run the notebook to train a SageMaker model and create deployment endpoint for online inference"
   ]
  },
  {
   "cell_type": "markdown",
   "metadata": {},
   "source": [
    "### 1.2 Authentication"
   ]
  },
  {
   "cell_type": "markdown",
   "metadata": {},
   "source": [
    "Import and initiate."
   ]
  },
  {
   "cell_type": "markdown",
   "metadata": {},
   "source": [
    "#### ACTION: Get OpenScale `instance_guid` and `apikey`\n",
    "\n",
    "How to install IBM Cloud (bluemix) console: [instruction](https://console.bluemix.net/docs/cli/reference/ibmcloud/download_cli.html#install_use)\n",
    "\n",
    "How to get api key using bluemix console:\n",
    "```bash\n",
    "ibmcloud login --sso\n",
    "ibmcloud iam api-key-create 'my_key'\n",
    "```\n",
    "\n",
    "How to get your OpenScale instance GUID\n",
    "\n",
    "- if your resource group is different than `default` switch to resource group containing OpenScale instance\n",
    "```bash\n",
    "ibmcloud target -g <myResourceGroup>\n",
    "```\n",
    "- get details of the instance\n",
    "```bash\n",
    "ibmcloud resource service-instance 'AI-OpenScale-instance_name'\n",
    "```"
   ]
  },
  {
   "cell_type": "code",
   "execution_count": 1,
   "metadata": {},
   "outputs": [],
   "source": [
    "CLOUD_API_KEY = '<CLOUD_API_KEY>'"
   ]
  },
  {
   "cell_type": "code",
   "execution_count": 2,
   "metadata": {},
   "outputs": [],
   "source": [
    "\n",
    "DB_CREDENTIALS=None\n",
    "#DB_CREDENTIALS= {\"hostname\":\"\",\"username\":\"\",\"password\":\"\",\"database\":\"\",\"port\":\"\",\"ssl\":True,\"sslmode\":\"\",\"certificate_base64\":\"\"}"
   ]
  },
  {
   "cell_type": "code",
   "execution_count": 3,
   "metadata": {},
   "outputs": [],
   "source": [
    "SCHEMA_NAME = 'data_mart_for_aws_sagemaker'"
   ]
  },
  {
   "cell_type": "code",
   "execution_count": 4,
   "metadata": {},
   "outputs": [],
   "source": [
    "IAM_URL=\"https://iam.ng.bluemix.net/oidc/token\"\n",
    "COS_RESOURCE_CRN=\"<COS_RESOURCE_CRN>\"\n",
    "COS_API_KEY_ID = \"<COS_API_KEY_ID>\"\n",
    "COS_ENDPOINT = \"https://s3-api.us-geo.objectstorage.softlayer.net\" # Current list avaiable at https://control.cloud-object-storage.cloud.ibm.com/v2/endpoints\n"
   ]
  },
  {
   "cell_type": "code",
   "execution_count": 5,
   "metadata": {},
   "outputs": [],
   "source": [
    "BUCKET_NAME = \"<BUCKET_NAME>\" #example: \"credit-risk-training-data\"\n",
    "training_data_file_name=\"credit_risk_training_recoded.csv\""
   ]
  },
  {
   "cell_type": "code",
   "execution_count": 6,
   "metadata": {},
   "outputs": [
    {
     "name": "stdout",
     "output_type": "stream",
     "text": [
      "--2024-07-11 14:59:09--  https://raw.githubusercontent.com/IBM/watson-openscale-samples/main/IBM%20Cloud/AWS%20Sagemaker/assets/data/credit_risk_aws/credit_risk_training_recoded.csv\n",
      "Resolving raw.githubusercontent.com (raw.githubusercontent.com)... 2606:50c0:8003::154, 2606:50c0:8000::154, 2606:50c0:8001::154, ...\n",
      "Connecting to raw.githubusercontent.com (raw.githubusercontent.com)|2606:50c0:8003::154|:443... connected.\n",
      "HTTP request sent, awaiting response... 200 OK\n",
      "Length: 639376 (624K) [text/plain]\n",
      "Saving to: ‘credit_risk_training_recoded.csv’\n",
      "\n",
      "credit_risk_trainin 100%[===================>] 624.39K  1.88MB/s    in 0.3s    \n",
      "\n",
      "2024-07-11 14:59:10 (1.88 MB/s) - ‘credit_risk_training_recoded.csv’ saved [639376/639376]\n",
      "\n"
     ]
    }
   ],
   "source": [
    "!rm credit_risk_training_recoded.csv\n",
    "!wget \"https://raw.githubusercontent.com/IBM/watson-openscale-samples/main/IBM%20Cloud/AWS%20Sagemaker/assets/data/credit_risk_aws/credit_risk_training_recoded.csv\""
   ]
  },
  {
   "cell_type": "markdown",
   "metadata": {},
   "source": [
    "### Store training data in COS for OpenScale reference"
   ]
  },
  {
   "cell_type": "code",
   "execution_count": 7,
   "metadata": {},
   "outputs": [],
   "source": [
    "import ibm_boto3\n",
    "from ibm_botocore.client import Config, ClientError\n",
    "\n",
    "cos_client = ibm_boto3.resource(\"s3\",\n",
    "    ibm_api_key_id=COS_API_KEY_ID,\n",
    "    ibm_service_instance_id=COS_RESOURCE_CRN,\n",
    "    ibm_auth_endpoint=\"https://iam.bluemix.net/oidc/token\",\n",
    "    config=Config(signature_version=\"oauth\"),\n",
    "    endpoint_url=COS_ENDPOINT\n",
    ")"
   ]
  },
  {
   "cell_type": "code",
   "execution_count": 8,
   "metadata": {},
   "outputs": [
    {
     "name": "stderr",
     "output_type": "stream",
     "text": [
      "/Users/nelwin/Desktop/-/drift/drift/mynv/lib/python3.10/site-packages/urllib3/connectionpool.py:1063: InsecureRequestWarning: Unverified HTTPS request is being made to host 'iam.bluemix.net'. Adding certificate verification is strongly advised. See: https://urllib3.readthedocs.io/en/1.26.x/advanced-usage.html#ssl-warnings\n",
      "  warnings.warn(\n"
     ]
    }
   ],
   "source": [
    "with open(training_data_file_name, \"rb\") as file_data:\n",
    "    cos_client.Object(BUCKET_NAME, training_data_file_name).upload_fileobj(\n",
    "        Fileobj=file_data\n",
    "    )"
   ]
  },
  {
   "cell_type": "markdown",
   "metadata": {},
   "source": [
    "### Initiate OpenScale client"
   ]
  },
  {
   "cell_type": "code",
   "execution_count": 9,
   "metadata": {},
   "outputs": [
    {
     "data": {
      "text/plain": [
       "'3.0.37'"
      ]
     },
     "execution_count": 9,
     "metadata": {},
     "output_type": "execute_result"
    }
   ],
   "source": [
    "from ibm_cloud_sdk_core.authenticators import IAMAuthenticator,CloudPakForDataAuthenticator\n",
    "\n",
    "from ibm_watson_openscale import *\n",
    "from ibm_watson_openscale.supporting_classes.enums import *\n",
    "from ibm_watson_openscale.supporting_classes import *\n",
    "authenticator = IAMAuthenticator(apikey=CLOUD_API_KEY)\n",
    "wos_client = APIClient(authenticator=authenticator,service_url=\"https://aiopenscale.cloud.ibm.com\")\n",
    "wos_client.version"
   ]
  },
  {
   "cell_type": "markdown",
   "metadata": {},
   "source": [
    "Create schema for data mart."
   ]
  },
  {
   "cell_type": "code",
   "execution_count": 10,
   "metadata": {},
   "outputs": [
    {
     "data": {
      "text/html": [
       "<HTML>\n",
       "        <body>\n",
       "            <h3>Data Marts</h3>\n",
       "            <table style='border: 1px solid #dddddd; font-family: Courier'>\n",
       "                <th style='border: 1px solid #dddddd'>name</th><th style='border: 1px solid #dddddd'>description</th><th style='border: 1px solid #dddddd'>internal_database</th><th style='border: 1px solid #dddddd'>status</th><th style='border: 1px solid #dddddd'>created_at</th><th style='border: 1px solid #dddddd'>id</th>\n",
       "                <tr><td style='border: 1px solid #dddddd'>AIOSFASTPATH-80E6093F-5ACF-4EB7-9DA6-7BA9BF56A929</td><td style='border: 1px solid #dddddd'>None</td><td style='border: 1px solid #dddddd'>True</td><td style='border: 1px solid #dddddd'>active</td><td style='border: 1px solid #dddddd'>2024-05-16 06:09:07.089000+00:00</td><td style='border: 1px solid #dddddd'>80e6093f-5acf-4eb7-9da6-7ba9bf56a929</td></tr>\n",
       "            </table>\n",
       "        </body>\n",
       "        </HTML>"
      ],
      "text/plain": [
       "<IPython.core.display.HTML object>"
      ]
     },
     "metadata": {},
     "output_type": "display_data"
    }
   ],
   "source": [
    "wos_client.data_marts.show()"
   ]
  },
  {
   "cell_type": "code",
   "execution_count": 11,
   "metadata": {},
   "outputs": [
    {
     "name": "stdout",
     "output_type": "stream",
     "text": [
      "Using existing datamart 80e6093f-5acf-4eb7-9da6-7ba9bf56a929\n"
     ]
    }
   ],
   "source": [
    "data_marts = wos_client.data_marts.list().result.data_marts\n",
    "if len(data_marts) == 0:\n",
    "    if DB_CREDENTIALS is not None:\n",
    "        if SCHEMA_NAME is None: \n",
    "            print(\"Please specify the SCHEMA_NAME and rerun the cell\")\n",
    "\n",
    "        print('Setting up external datamart')\n",
    "        added_data_mart_result = wos_client.data_marts.add(\n",
    "                background_mode=False,\n",
    "                name=\"WOS Data Mart\",\n",
    "                description=\"Data Mart created by WOS tutorial notebook\",\n",
    "                database_configuration=DatabaseConfigurationRequest(\n",
    "                  database_type=DatabaseType.DB2, # For DB2 use DatabaseType.DB2\n",
    "                    credentials=PrimaryStorageCredentialsLong(\n",
    "                        hostname=DB_CREDENTIALS['hostname'],\n",
    "                        username=DB_CREDENTIALS['username'],\n",
    "                        password=DB_CREDENTIALS['password'],\n",
    "                        db=DB_CREDENTIALS['database'],\n",
    "                        port=DB_CREDENTIALS['port'],\n",
    "                        ssl=True,\n",
    "                        sslmode=DB_CREDENTIALS['sslmode'],\n",
    "                        certificate_base64=DB_CREDENTIALS['certificate_base64']\n",
    "                    ),\n",
    "                    location=LocationSchemaName(\n",
    "                        schema_name= SCHEMA_NAME\n",
    "                    )\n",
    "                )\n",
    "             ).result\n",
    "    else:\n",
    "        print('Setting up internal datamart')\n",
    "        added_data_mart_result = wos_client.data_marts.add(\n",
    "                background_mode=False,\n",
    "                name=\"WOS Data Mart\",\n",
    "                description=\"Data Mart created by WOS tutorial notebook\", \n",
    "                internal_database = True).result\n",
    "        \n",
    "    data_mart_id = added_data_mart_result.metadata.id\n",
    "    \n",
    "else:\n",
    "    data_mart_id=data_marts[0].metadata.id\n",
    "    print('Using existing datamart {}'.format(data_mart_id))"
   ]
  },
  {
   "cell_type": "code",
   "execution_count": 12,
   "metadata": {},
   "outputs": [
    {
     "data": {
      "text/plain": [
       "{'metadata': {'id': '80e6093f-5acf-4eb7-9da6-7ba9bf56a929',\n",
       "  'crn': 'crn:v1:bluemix:public:aiopenscale:us-south:a/0a3c25959fab4ecea2768fa6b8d61595:80e6093f-5acf-4eb7-9da6-7ba9bf56a929:data_mart:80e6093f-5acf-4eb7-9da6-7ba9bf56a929',\n",
       "  'url': '/v2/data_marts/80e6093f-5acf-4eb7-9da6-7ba9bf56a929',\n",
       "  'created_at': '2024-05-16T06:09:07.089000Z',\n",
       "  'created_by': 'IBMid-662005298W',\n",
       "  'modified_at': '2024-05-16T06:09:08.796000Z',\n",
       "  'modified_by': 'IBMid-662005298W'},\n",
       " 'entity': {'name': 'AIOSFASTPATH-80E6093F-5ACF-4EB7-9DA6-7BA9BF56A929',\n",
       "  'service_instance_crn': 'crn:v1:bluemix:public:aiopenscale:us-south:a/0a3c25959fab4ecea2768fa6b8d61595:80e6093f-5acf-4eb7-9da6-7ba9bf56a929::',\n",
       "  'internal_database': True,\n",
       "  'database_configuration': {'database_type': 'postgresql',\n",
       "   'credentials': {'secret_id': '3538c3d0-1265-4092-8592-d3a928bbc1d7'},\n",
       "   'location': {'schema_name': '80e6093f-5acf-4eb7-9da6-7ba9bf56a929'}},\n",
       "  'status': {'state': 'active'}}}"
      ]
     },
     "execution_count": 12,
     "metadata": {},
     "output_type": "execute_result"
    }
   ],
   "source": [
    "wos_client.data_marts.get(data_mart_id).result.to_dict()"
   ]
  },
  {
   "cell_type": "markdown",
   "metadata": {},
   "source": [
    "<a id=\"binding\"></a>\n",
    "## 2. Bind machine learning engines"
   ]
  },
  {
   "cell_type": "markdown",
   "metadata": {},
   "source": [
    "### Bind  `SageMaker` machine learning engine\n",
    "\n",
    "Provide credentials using following fields:\n",
    "- `access_key_id`\n",
    "- `secret_access_key`\n",
    "- `region`"
   ]
  },
  {
   "cell_type": "code",
   "execution_count": 13,
   "metadata": {},
   "outputs": [],
   "source": [
    "SAGEMAKER_ENGINE_CREDENTIALS = {\n",
    "                   'access_key_id': '<ACCESS_KEY_ID>', \n",
    "                   'secret_access_key': '<SECRET_ACCESS_KEY>', \n",
    "                   'region': '<REGION>'}"
   ]
  },
  {
   "cell_type": "code",
   "execution_count": 14,
   "metadata": {},
   "outputs": [],
   "source": [
    "SERVICE_PROVIDER_NAME = \"AWS Machine Learning\"\n",
    "SERVICE_PROVIDER_DESCRIPTION = \"Added by AWS tutorial WOS notebook.\""
   ]
  },
  {
   "cell_type": "code",
   "execution_count": 15,
   "metadata": {},
   "outputs": [],
   "source": [
    "service_providers = wos_client.service_providers.list().result.service_providers\n",
    "for service_provider in service_providers:\n",
    "    service_instance_name = service_provider.entity.name\n",
    "    if service_instance_name == SERVICE_PROVIDER_NAME:\n",
    "        service_provider_id = service_provider.metadata.id\n",
    "        wos_client.service_providers.delete(service_provider_id)\n",
    "        print(\"Deleted existing service_provider for WML instance: {}\".format(service_provider_id))"
   ]
  },
  {
   "cell_type": "code",
   "execution_count": 16,
   "metadata": {},
   "outputs": [
    {
     "name": "stdout",
     "output_type": "stream",
     "text": [
      "\n",
      "\n",
      "=================================================================================\n",
      "\n",
      " Waiting for end of adding service provider 4fa5625b-5401-4a31-a423-d480ea184cda \n",
      "\n",
      "=================================================================================\n",
      "\n",
      "\n",
      "\n",
      "active\n",
      "\n",
      "-----------------------------------------------\n",
      " Successfully finished adding service provider \n",
      "-----------------------------------------------\n",
      "\n",
      "\n",
      "Service Provider id  4fa5625b-5401-4a31-a423-d480ea184cda\n"
     ]
    }
   ],
   "source": [
    "added_service_provider_result=wos_client.service_providers.add(\n",
    "        name=SERVICE_PROVIDER_NAME,\n",
    "        description=\"AWS Service Provider\",\n",
    "        service_type=ServiceTypes.AMAZON_SAGEMAKER,\n",
    "        operational_space_id = \"production\", \n",
    "        credentials=SageMakerCredentials(\n",
    "            access_key_id=SAGEMAKER_ENGINE_CREDENTIALS['access_key_id'],\n",
    "            secret_access_key=SAGEMAKER_ENGINE_CREDENTIALS['secret_access_key'],\n",
    "            region=SAGEMAKER_ENGINE_CREDENTIALS['region']\n",
    "        ),\n",
    "        background_mode=False\n",
    "    ).result\n",
    "\n",
    "\n",
    "\n",
    "service_provider_id = added_service_provider_result.metadata.id\n",
    "print(\"Service Provider id \", service_provider_id)"
   ]
  },
  {
   "cell_type": "code",
   "execution_count": 17,
   "metadata": {
    "scrolled": true
   },
   "outputs": [
    {
     "data": {
      "text/html": [
       "<HTML>\n",
       "        <body>\n",
       "            <h3>Service Providers</h3>\n",
       "            <table style='border: 1px solid #dddddd; font-family: Courier'>\n",
       "                <th style='border: 1px solid #dddddd'>instance_id</th><th style='border: 1px solid #dddddd'>status</th><th style='border: 1px solid #dddddd'>name</th><th style='border: 1px solid #dddddd'>service_type</th><th style='border: 1px solid #dddddd'>created_at</th><th style='border: 1px solid #dddddd'>id</th>\n",
       "                <tr><td style='border: 1px solid #dddddd'>None</td><td style='border: 1px solid #dddddd'>active</td><td style='border: 1px solid #dddddd'>AWS Machine Learning</td><td style='border: 1px solid #dddddd'>amazon_sagemaker</td><td style='border: 1px solid #dddddd'>2024-07-11 09:29:39.272000+00:00</td><td style='border: 1px solid #dddddd'>4fa5625b-5401-4a31-a423-d480ea184cda</td></tr><tr><td style='border: 1px solid #dddddd'>None</td><td style='border: 1px solid #dddddd'>active</td><td style='border: 1px solid #dddddd'>OpenScale Headless Service Provider</td><td style='border: 1px solid #dddddd'>custom_machine_learning</td><td style='border: 1px solid #dddddd'>2024-07-05 13:55:20.532000+00:00</td><td style='border: 1px solid #dddddd'>0bf0f943-24cf-487e-b971-4a6f586effc0</td></tr><tr><td style='border: 1px solid #dddddd'>89cbf463-87d9-4032-9c0c-e371dd68d156</td><td style='border: 1px solid #dddddd'>active</td><td style='border: 1px solid #dddddd'>aWatson Machine Learning V2_amzon</td><td style='border: 1px solid #dddddd'>watson_machine_learning</td><td style='border: 1px solid #dddddd'>2024-06-06 06:03:03.459000+00:00</td><td style='border: 1px solid #dddddd'>84265de0-8f4b-4257-8743-7c2525e86b00</td></tr><tr><td style='border: 1px solid #dddddd'>89cbf463-87d9-4032-9c0c-e371dd68d156</td><td style='border: 1px solid #dddddd'>active</td><td style='border: 1px solid #dddddd'>Watson Machine Learning V2</td><td style='border: 1px solid #dddddd'>watson_machine_learning</td><td style='border: 1px solid #dddddd'>2024-06-02 08:24:57.362000+00:00</td><td style='border: 1px solid #dddddd'>e13bfbbb-e639-4875-bbd5-6d2de8e834d0</td></tr><tr><td style='border: 1px solid #dddddd'>89cbf463-87d9-4032-9c0c-e371dd68d156</td><td style='border: 1px solid #dddddd'>active</td><td style='border: 1px solid #dddddd'>WOS ExpressPath WML pre_production binding</td><td style='border: 1px solid #dddddd'>watson_machine_learning</td><td style='border: 1px solid #dddddd'>2024-05-16 06:09:28.464000+00:00</td><td style='border: 1px solid #dddddd'>19fc94cc-9ed2-4ac6-a98e-1acf1a9e729e</td></tr><tr><td style='border: 1px solid #dddddd'>89cbf463-87d9-4032-9c0c-e371dd68d156</td><td style='border: 1px solid #dddddd'>active</td><td style='border: 1px solid #dddddd'>WOS ExpressPath WML production binding</td><td style='border: 1px solid #dddddd'>watson_machine_learning</td><td style='border: 1px solid #dddddd'>2024-05-16 06:09:12.960000+00:00</td><td style='border: 1px solid #dddddd'>7ef8cc5f-65b1-4f83-9d1b-d2d508420958</td></tr>\n",
       "            </table>\n",
       "        </body>\n",
       "        </HTML>"
      ],
      "text/plain": [
       "<IPython.core.display.HTML object>"
      ]
     },
     "metadata": {},
     "output_type": "display_data"
    }
   ],
   "source": [
    "wos_client.service_providers.show()"
   ]
  },
  {
   "cell_type": "code",
   "execution_count": 18,
   "metadata": {},
   "outputs": [
    {
     "data": {
      "text/plain": [
       "{'resources': [{'metadata': {'guid': 'cc7acf711b19c689d67e7b2a01b88ca2',\n",
       "    'url': 'Credit-risk-endpoint-scoring-2021-06-24-05-32',\n",
       "    'created_at': '2021-06-24T05:40:41.734Z',\n",
       "    'modified_at': '2023-04-25T07:04:18.041Z'},\n",
       "   'entity': {'name': 'Credit-risk-endpoint-scoring-2021-06-24-05-32',\n",
       "    'deployment_rn': 'arn:aws:sagemaker:us-east-2:014862798213:endpoint/credit-risk-endpoint-scoring-2021-06-24-05-32',\n",
       "    'type': 'online',\n",
       "    'scoring_endpoint': {'url': 'Credit-risk-endpoint-scoring-2021-06-24-05-32'},\n",
       "    'asset': {'asset_id': '98783e76b0aedefc06c70bd74fa2356e',\n",
       "     'asset_rn': 'arn:aws:sagemaker:us-east-2:014862798213:model/credit-risk-linear-learner-2021-06-24-05-32',\n",
       "     'url': 's3://sagemaker-us-east-2-014862798213/credit-risk/output/Credit-risk-linear-learner-2021-06-24-05-32/output/model.tar.gz',\n",
       "     'name': 'Credit-risk-linear-learner-2021-06-24-05-32',\n",
       "     'asset_type': 'model',\n",
       "     'created_at': '2021-06-24T05:40:27.363Z'},\n",
       "    'asset_properties': {'asset_revision': '1682406258041'}}},\n",
       "  {'metadata': {'guid': '155b20136d20663b08010f148e279a8c',\n",
       "    'url': 'admit-predict-regression-endpoint-201911081437',\n",
       "    'created_at': '2019-11-08T14:37:22.643Z',\n",
       "    'modified_at': '2023-07-06T07:13:52.636Z'},\n",
       "   'entity': {'name': 'admit-predict-regression-endpoint-201911081437',\n",
       "    'deployment_rn': 'arn:aws:sagemaker:us-east-2:014862798213:endpoint/admit-predict-regression-endpoint-201911081437',\n",
       "    'type': 'online',\n",
       "    'scoring_endpoint': {'url': 'admit-predict-regression-endpoint-201911081437'},\n",
       "    'asset': {'asset_id': 'b330874076d0c41969a82aff7de5835f',\n",
       "     'asset_rn': 'arn:aws:sagemaker:us-east-2:014862798213:model/neelima-admit-predict-linear-regression-2019-11-08-14-31-02',\n",
       "     'url': 's3://arsuryan-s3-bucket/sagemaker/admission-predict/neelima-admit-predict-linear-regression-2019-11-08-14-31-02/output/model.tar.gz',\n",
       "     'name': 'neelima-admit-predict-linear-regression-2019-11-08-14-31-02',\n",
       "     'asset_type': 'model',\n",
       "     'created_at': '2019-11-08T14:36:09.116Z'},\n",
       "    'asset_properties': {'asset_revision': '1688627632636'}}},\n",
       "  {'metadata': {'guid': 'ab8317befd5263a37669d65a16eb9299',\n",
       "    'url': 'h20-demo-2019-07-22-20-02-13-098',\n",
       "    'created_at': '2019-07-22T20:08:01.307Z',\n",
       "    'modified_at': '2023-04-25T05:38:53.142Z'},\n",
       "   'entity': {'name': 'h20-demo-2019-07-22-20-02-13-098',\n",
       "    'deployment_rn': 'arn:aws:sagemaker:us-east-2:014862798213:endpoint/h20-demo-2019-07-22-20-02-13-098',\n",
       "    'type': 'online',\n",
       "    'scoring_endpoint': {'url': 'h20-demo-2019-07-22-20-02-13-098'},\n",
       "    'asset': {'asset_id': 'ab8317befd5263a37669d65a16eb9299',\n",
       "     'asset_rn': 'arn:aws:sagemaker:us-east-2:014862798213:model/h20-demo-2019-07-22-20-02-13-098',\n",
       "     'url': 's3://sagemaker-us-east-2-014862798213/output/h20-demo-2019-07-22-20-02-13-098/output/model.tar.gz',\n",
       "     'name': 'h20-demo-2019-07-22-20-02-13-098',\n",
       "     'asset_type': 'model',\n",
       "     'created_at': '2019-07-22T20:08:00.680Z'},\n",
       "    'asset_properties': {'asset_revision': '1682401133142',\n",
       "     'training_data_reference': {'type': 'cos',\n",
       "      'connection': {'url': 's3://sagemaker-data-h20/credit_risk_training.csv'}}}}},\n",
       "  {'metadata': {'guid': '795379da8028b23e67b8b14b8c7c198f',\n",
       "    'url': 'bike-rental-regression-endpoint-201906140707',\n",
       "    'created_at': '2019-06-14T07:07:42.081Z',\n",
       "    'modified_at': '2023-04-25T06:58:49.242Z'},\n",
       "   'entity': {'name': 'bike-rental-regression-endpoint-201906140707',\n",
       "    'deployment_rn': 'arn:aws:sagemaker:us-east-2:014862798213:endpoint/bike-rental-regression-endpoint-201906140707',\n",
       "    'type': 'online',\n",
       "    'scoring_endpoint': {'url': 'bike-rental-regression-endpoint-201906140707'},\n",
       "    'asset': {'asset_id': '652e045599800b196fbc7f5ff7c0bc33',\n",
       "     'asset_rn': 'arn:aws:sagemaker:us-east-2:014862798213:model/neelima-bike-sharing-linear-regression-2019-06-14-07-03-40',\n",
       "     'url': 's3://neelima-s3-bucket-ohio/sagemaker/bike-rental/neelima-bike-sharing-linear-regression-2019-06-14-07-03-40/output/model.tar.gz',\n",
       "     'name': 'neelima-bike-sharing-linear-regression-2019-06-14-07-03-40',\n",
       "     'asset_type': 'model',\n",
       "     'created_at': '2019-06-14T07:07:41.712Z'},\n",
       "    'asset_properties': {'asset_revision': '1682405929242'}}},\n",
       "  {'metadata': {'guid': 'f15dbc4c30207622bf7eed6041d6a1fd',\n",
       "    'url': 'fastpath-credit-risk-endpoint-scoring-2019-02-19-07-01',\n",
       "    'created_at': '2019-02-19T07:07:03.651Z',\n",
       "    'modified_at': '2023-04-25T06:58:46.001Z'},\n",
       "   'entity': {'name': 'fastpath-credit-risk-endpoint-scoring-2019-02-19-07-01',\n",
       "    'deployment_rn': 'arn:aws:sagemaker:us-east-2:014862798213:endpoint/fastpath-credit-risk-endpoint-scoring-2019-02-19-07-01',\n",
       "    'type': 'online',\n",
       "    'scoring_endpoint': {'url': 'fastpath-credit-risk-endpoint-scoring-2019-02-19-07-01'},\n",
       "    'asset': {'asset_id': '5fd08dc799c044f7dba8bcd50fadbb47',\n",
       "     'asset_rn': 'arn:aws:sagemaker:us-east-2:014862798213:model/fastpath-credit-risk-linear-learner-2019-02-19-07-01',\n",
       "     'url': 's3://rohit-aws-bucket/credit-risk/output/fastpath-credit-risk-linear-learner-2019-02-19-07-01/output/model.tar.gz',\n",
       "     'name': 'fastpath-credit-risk-linear-learner-2019-02-19-07-01',\n",
       "     'asset_type': 'model',\n",
       "     'created_at': '2019-02-19T07:06:36.560Z'},\n",
       "    'asset_properties': {'asset_revision': '1682405926001'}}},\n",
       "  {'metadata': {'guid': '17a69e4e5eacda5a7945c72a201edc12',\n",
       "    'url': 'GoSales-linear-biased-binary-classifier-201902061031',\n",
       "    'created_at': '2019-02-06T10:31:52.412Z',\n",
       "    'modified_at': '2023-06-22T04:49:15.280Z'},\n",
       "   'entity': {'name': 'GoSales-linear-biased-binary-classifier-201902061031',\n",
       "    'deployment_rn': 'arn:aws:sagemaker:us-east-2:014862798213:endpoint/gosales-linear-biased-binary-classifier-201902061031',\n",
       "    'type': 'online',\n",
       "    'scoring_endpoint': {'url': 'GoSales-linear-biased-binary-classifier-201902061031'},\n",
       "    'asset': {'asset_id': 'd10471aeca920644842576e70867300d',\n",
       "     'asset_rn': 'arn:aws:sagemaker:us-east-2:014862798213:model/gosales-linear-binary-classifier-2019-02-06-10-24-31',\n",
       "     'url': 's3://kazuki-us-east-2/GoSales/linear/GoSales-linear-binary-classifier-2019-02-06-10-24-31/output/model.tar.gz',\n",
       "     'name': 'GoSales-linear-binary-classifier-2019-02-06-10-24-31',\n",
       "     'asset_type': 'model',\n",
       "     'created_at': '2019-02-06T10:31:47.048Z'},\n",
       "    'asset_properties': {'asset_revision': '1687409355280'}}},\n",
       "  {'metadata': {'guid': '865ac8c78c11d062c76138af425834ca',\n",
       "    'url': 'Breast-cancer-endpoint-scoring-2019-01-28-16-13',\n",
       "    'created_at': '2019-01-28T16:24:37.361Z',\n",
       "    'modified_at': '2023-06-22T03:25:20.919Z'},\n",
       "   'entity': {'name': 'Breast-cancer-endpoint-scoring-2019-01-28-16-13',\n",
       "    'deployment_rn': 'arn:aws:sagemaker:us-east-2:014862798213:endpoint/breast-cancer-endpoint-scoring-2019-01-28-16-13',\n",
       "    'type': 'online',\n",
       "    'scoring_endpoint': {'url': 'Breast-cancer-endpoint-scoring-2019-01-28-16-13'},\n",
       "    'asset': {'asset_id': '70b2a1a8cb6b8950ffd2b65afb9236de',\n",
       "     'asset_rn': 'arn:aws:sagemaker:us-east-2:014862798213:model/breast-cancer-linear-learner-2019-01-28-16-13',\n",
       "     'url': 's3://scottda-sagemaker-us-east-2/breast-cancer/output/Breast-cancer-linear-learner-2019-01-28-16-13/output/model.tar.gz',\n",
       "     'name': 'Breast-cancer-linear-learner-2019-01-28-16-13',\n",
       "     'asset_type': 'model',\n",
       "     'created_at': '2019-01-28T16:19:02.652Z'},\n",
       "    'asset_properties': {'asset_revision': '1687404320919'}}},\n",
       "  {'metadata': {'guid': '03ee0c9c6062e5c61b1c79f669a029e2',\n",
       "    'url': 'GoSales-linear-binary-classifier-201901220308',\n",
       "    'created_at': '2019-01-22T03:08:37.621Z',\n",
       "    'modified_at': '2023-04-25T07:35:48.322Z'},\n",
       "   'entity': {'name': 'GoSales-linear-binary-classifier-201901220308',\n",
       "    'deployment_rn': 'arn:aws:sagemaker:us-east-2:014862798213:endpoint/gosales-linear-binary-classifier-201901220308',\n",
       "    'type': 'online',\n",
       "    'scoring_endpoint': {'url': 'GoSales-linear-binary-classifier-201901220308'},\n",
       "    'asset': {'asset_id': '1e97982799d7bae6a15f5c98f79d601c',\n",
       "     'asset_rn': 'arn:aws:sagemaker:us-east-2:014862798213:model/gosales-linear-binary-classifier-2019-01-22-03-04-36',\n",
       "     'url': 's3://kazuki-us-east-2/GoSales/linear/GoSales-linear-binary-classifier-2019-01-22-03-04-36/output/model.tar.gz',\n",
       "     'name': 'GoSales-linear-binary-classifier-2019-01-22-03-04-36',\n",
       "     'asset_type': 'model',\n",
       "     'created_at': '2019-01-22T03:08:37.167Z'},\n",
       "    'asset_properties': {'asset_revision': '1682408148322'}}},\n",
       "  {'metadata': {'guid': 'b13c1f54658887bf5756889e2eb26ee7',\n",
       "    'url': 'arsuryan-product-line-endpoint-scoring-2019-01-21-17-56',\n",
       "    'created_at': '2019-01-21T18:05:27.139Z',\n",
       "    'modified_at': '2023-06-22T03:33:48.873Z'},\n",
       "   'entity': {'name': 'arsuryan-product-line-endpoint-scoring-2019-01-21-17-56',\n",
       "    'deployment_rn': 'arn:aws:sagemaker:us-east-2:014862798213:endpoint/arsuryan-product-line-endpoint-scoring-2019-01-21-17-56',\n",
       "    'type': 'online',\n",
       "    'scoring_endpoint': {'url': 'arsuryan-product-line-endpoint-scoring-2019-01-21-17-56'},\n",
       "    'asset': {'asset_id': 'b9231df5c2fe47bd5ed5d8a25cd84366',\n",
       "     'asset_rn': 'arn:aws:sagemaker:us-east-2:014862798213:model/product-line-linear-learner-2019-01-21-17-56',\n",
       "     'url': 's3://arsuryan-s3-bucket/product-line/output/Product-line-linear-learner-2019-01-21-17-56/output/model.tar.gz',\n",
       "     'name': 'Product-line-linear-learner-2019-01-21-17-56',\n",
       "     'asset_type': 'model',\n",
       "     'created_at': '2019-01-21T18:04:39.969Z'},\n",
       "    'asset_properties': {'asset_revision': '1687404828873'}}},\n",
       "  {'metadata': {'guid': '5e4c363bf0c3e68bda37a3420fe1a624',\n",
       "    'url': 'linear-learner-multiclass',\n",
       "    'created_at': '2019-01-16T16:10:24.928Z',\n",
       "    'modified_at': '2023-04-25T06:06:46.255Z'},\n",
       "   'entity': {'name': 'linear-learner-multiclass',\n",
       "    'deployment_rn': 'arn:aws:sagemaker:us-east-2:014862798213:endpoint/linear-learner-multiclass',\n",
       "    'type': 'online',\n",
       "    'scoring_endpoint': {'url': 'linear-learner-multiclass'},\n",
       "    'asset': {'asset_id': '39dbc78bd91473aae1494627e297c9e3',\n",
       "     'asset_rn': 'arn:aws:sagemaker:us-east-2:014862798213:model/linear-learner-2019-01-16-14-39-18-576',\n",
       "     'url': 's3://sagemaker-us-east-2-014862798213/linear-learner-2019-01-16-09-45-02-514/output/model.tar.gz',\n",
       "     'name': 'linear-learner-2019-01-16-14-39-18-576',\n",
       "     'asset_type': 'model',\n",
       "     'created_at': '2019-01-16T14:39:18.653Z'},\n",
       "    'asset_properties': {'asset_revision': '1682402806255'}}},\n",
       "  {'metadata': {'guid': '159f8d69db0e59e271576022b48d715e',\n",
       "    'url': 'arsuryan-iris-mc-endpoint-2019-01-10',\n",
       "    'created_at': '2019-01-10T06:46:10.616Z',\n",
       "    'modified_at': '2023-05-23T04:37:51.227Z'},\n",
       "   'entity': {'name': 'arsuryan-iris-mc-endpoint-2019-01-10',\n",
       "    'deployment_rn': 'arn:aws:sagemaker:us-east-2:014862798213:endpoint/arsuryan-iris-mc-endpoint-2019-01-10',\n",
       "    'type': 'online',\n",
       "    'scoring_endpoint': {'url': 'arsuryan-iris-mc-endpoint-2019-01-10'},\n",
       "    'asset': {'asset_id': '9742b71413c0feefe6de831afc8775ca',\n",
       "     'asset_rn': 'arn:aws:sagemaker:us-east-2:014862798213:model/linear-learner-2018-11-29-05-37-34-440',\n",
       "     'url': 's3://sagemaker-us-east-2-014862798213/arsuryan-iris-mc-linear-2018-11-29-05-33-50/output/model.tar.gz',\n",
       "     'name': 'linear-learner-2018-11-29-05-37-34-440',\n",
       "     'asset_type': 'model',\n",
       "     'created_at': '2018-11-29T05:37:34.555Z'},\n",
       "    'asset_properties': {'asset_revision': '1684816671227'}}},\n",
       "  {'metadata': {'guid': '76291db490a50329dd6f70fb3ed6372f',\n",
       "    'url': 'xgboost-2019-01-09-09-52-53-307',\n",
       "    'created_at': '2019-01-09T09:56:05.598Z',\n",
       "    'modified_at': '2023-04-25T05:36:16.998Z'},\n",
       "   'entity': {'name': 'xgboost-2019-01-09-09-52-53-307',\n",
       "    'deployment_rn': 'arn:aws:sagemaker:us-east-2:014862798213:endpoint/xgboost-2019-01-09-09-52-53-307',\n",
       "    'type': 'online',\n",
       "    'scoring_endpoint': {'url': 'xgboost-2019-01-09-09-52-53-307'},\n",
       "    'asset': {'asset_id': '86eae234d9e3655e67a1f6c24b5c0aea',\n",
       "     'asset_rn': 'arn:aws:sagemaker:us-east-2:014862798213:model/xgboost-2019-01-09-09-56-05-050',\n",
       "     'url': 's3://kazuki-us-east-2/GoSales/xgboost/output/xgboost-2019-01-09-09-52-53-307/output/model.tar.gz',\n",
       "     'name': 'xgboost-2019-01-09-09-56-05-050',\n",
       "     'asset_type': 'model',\n",
       "     'created_at': '2019-01-09T09:56:05.180Z'},\n",
       "    'asset_properties': {'asset_revision': '1682400976998',\n",
       "     'training_data_reference': {'type': 'cos',\n",
       "      'connection': {'url': 's3://kazuki-us-east-2/GoSales/xgboost/train/train.csv'}}}}},\n",
       "  {'metadata': {'guid': '6444a65f1c304864d9533e780f76f704',\n",
       "    'url': 'GoSales-xgboost-binary-ypprod',\n",
       "    'created_at': '2019-01-09T04:33:36.761Z',\n",
       "    'modified_at': '2023-04-25T06:21:02.235Z'},\n",
       "   'entity': {'name': 'GoSales-xgboost-binary-ypprod',\n",
       "    'deployment_rn': 'arn:aws:sagemaker:us-east-2:014862798213:endpoint/gosales-xgboost-binary-ypprod',\n",
       "    'type': 'online',\n",
       "    'scoring_endpoint': {'url': 'GoSales-xgboost-binary-ypprod'},\n",
       "    'asset': {'asset_id': 'e27ca462d33209d04f326a576bd6c380',\n",
       "     'asset_rn': 'arn:aws:sagemaker:us-east-2:014862798213:model/xgboost-2019-01-09-03-33-14-252',\n",
       "     'url': 's3://kazuki-us-east-2/GoSales/xgboost/output/xgboost-2019-01-09-03-30-02-659/output/model.tar.gz',\n",
       "     'name': 'xgboost-2019-01-09-03-33-14-252',\n",
       "     'asset_type': 'model',\n",
       "     'created_at': '2019-01-09T03:33:14.391Z'},\n",
       "    'asset_properties': {'asset_revision': '1682403662235'}}},\n",
       "  {'metadata': {'guid': '2f5ab43bf43394ef3523fe4531f9cbf9',\n",
       "    'url': 'GoSales-linear-binary-classifier-endpoint-201901071436',\n",
       "    'created_at': '2019-01-07T14:36:03.279Z',\n",
       "    'modified_at': '2023-04-25T06:30:18.062Z'},\n",
       "   'entity': {'name': 'GoSales-linear-binary-classifier-endpoint-201901071436',\n",
       "    'deployment_rn': 'arn:aws:sagemaker:us-east-2:014862798213:endpoint/gosales-linear-binary-classifier-endpoint-201901071436',\n",
       "    'type': 'online',\n",
       "    'scoring_endpoint': {'url': 'GoSales-linear-binary-classifier-endpoint-201901071436'},\n",
       "    'asset': {'asset_id': 'ec8e2b0c24dcc141f0d3e98f7fc3895f',\n",
       "     'asset_rn': 'arn:aws:sagemaker:us-east-2:014862798213:model/gosales-linear-binary-classifier-2019-01-07-14-31-14',\n",
       "     'url': 's3://kazuki-us-east-2/GoSales/linear/GoSales-linear-binary-classifier-2019-01-07-14-31-14/output/model.tar.gz',\n",
       "     'name': 'GoSales-linear-binary-classifier-2019-01-07-14-31-14',\n",
       "     'asset_type': 'model',\n",
       "     'created_at': '2019-01-07T14:35:21.457Z'},\n",
       "    'asset_properties': {'asset_revision': '1682404218062'}}},\n",
       "  {'metadata': {'guid': '90680b01acfb61cca334e3f457d433b2',\n",
       "    'url': 'DEMO-linear-endpoint-DPJC',\n",
       "    'created_at': '2018-12-14T12:14:46.640Z',\n",
       "    'modified_at': '2023-05-23T04:37:46.406Z'},\n",
       "   'entity': {'name': 'DEMO-linear-endpoint-DPJC',\n",
       "    'deployment_rn': 'arn:aws:sagemaker:us-east-2:014862798213:endpoint/demo-linear-endpoint-dpjc',\n",
       "    'type': 'online',\n",
       "    'scoring_endpoint': {'url': 'DEMO-linear-endpoint-DPJC'},\n",
       "    'asset': {'asset_id': 'e2bd79e9359e07ce8a679cbebb67ec11',\n",
       "     'asset_rn': 'arn:aws:sagemaker:us-east-2:014862798213:model/demo-linear-dpjc',\n",
       "     'url': 's3://dpjc-s3-bucket/sagemaker/DEMO-breast-cancer-prediction/DEMO-linear-DPJC/output/model.tar.gz',\n",
       "     'name': 'DEMO-linear-DPJC',\n",
       "     'asset_type': 'model',\n",
       "     'created_at': '2018-12-14T12:14:40.485Z'},\n",
       "    'asset_properties': {'asset_revision': '1684816666406'}}},\n",
       "  {'metadata': {'guid': 'db6e25cde012a15f4d8723a7519e0f3d',\n",
       "    'url': 'DEMO-videogames-xgboost-endpoint-201812131630',\n",
       "    'created_at': '2018-12-13T16:30:17.513Z',\n",
       "    'modified_at': '2023-04-25T05:58:20.292Z'},\n",
       "   'entity': {'name': 'DEMO-videogames-xgboost-endpoint-201812131630',\n",
       "    'deployment_rn': 'arn:aws:sagemaker:us-east-2:014862798213:endpoint/demo-videogames-xgboost-endpoint-201812131630',\n",
       "    'type': 'online',\n",
       "    'scoring_endpoint': {'url': 'DEMO-videogames-xgboost-endpoint-201812131630'},\n",
       "    'asset': {'asset_id': '6455e8fd08d6a178695bda476bfd97cb',\n",
       "     'asset_rn': 'arn:aws:sagemaker:us-east-2:014862798213:model/demo-videogames-xgboost-2018-12-13-16-17-39',\n",
       "     'url': 's3://ww-b134e89f-64cf-4eab-95f5-94b1314a66a4/sagemaker/DEMO-videogames-xgboost/xgboost-video-games/output/DEMO-videogames-xgboost-2018-12-13-16-17-39/output/model.tar.gz',\n",
       "     'name': 'DEMO-videogames-xgboost-2018-12-13-16-17-39',\n",
       "     'asset_type': 'model',\n",
       "     'created_at': '2018-12-13T16:21:41.249Z'},\n",
       "    'asset_properties': {'asset_revision': '1682402300292'}}},\n",
       "  {'metadata': {'guid': '049e662cec44e1fbcf967c93bad297a8',\n",
       "    'url': 'DEMO-linear-endpoint-201812061605',\n",
       "    'created_at': '2018-12-06T16:05:25.852Z',\n",
       "    'modified_at': '2023-07-06T04:21:52.500Z'},\n",
       "   'entity': {'name': 'DEMO-linear-endpoint-201812061605',\n",
       "    'deployment_rn': 'arn:aws:sagemaker:us-east-2:014862798213:endpoint/demo-linear-endpoint-201812061605',\n",
       "    'type': 'online',\n",
       "    'scoring_endpoint': {'url': 'DEMO-linear-endpoint-201812061605'},\n",
       "    'asset': {'asset_id': 'd2c991680ad36cd65886745d656cd440',\n",
       "     'asset_rn': 'arn:aws:sagemaker:us-east-2:014862798213:model/demo-linear-2018-12-06-15-44-46',\n",
       "     'url': 's3://ww-222e20e8-3b98-4bcf-8232-b0edda365797/sagemaker/DEMO-breast-cancer-prediction/DEMO-linear-2018-12-06-15-44-46/output/model.tar.gz',\n",
       "     'name': 'DEMO-linear-2018-12-06-15-44-46',\n",
       "     'asset_type': 'model',\n",
       "     'created_at': '2018-12-06T16:04:30.073Z'},\n",
       "    'asset_properties': {'asset_revision': '1688617312500'}}},\n",
       "  {'metadata': {'guid': '0ec2ec14591e9bc72e08713f8f9aed3b',\n",
       "    'url': 'xgboost-2018-12-06-12-51-13-597',\n",
       "    'created_at': '2018-12-06T12:57:24.058Z',\n",
       "    'modified_at': '2023-04-25T05:27:54.557Z'},\n",
       "   'entity': {'name': 'xgboost-2018-12-06-12-51-13-597',\n",
       "    'deployment_rn': 'arn:aws:sagemaker:us-east-2:014862798213:endpoint/xgboost-2018-12-06-12-51-13-597',\n",
       "    'type': 'online',\n",
       "    'scoring_endpoint': {'url': 'xgboost-2018-12-06-12-51-13-597'},\n",
       "    'asset': {'asset_id': 'f2f5361ef6cd6938720a5c3eb755e4be',\n",
       "     'asset_rn': 'arn:aws:sagemaker:us-east-2:014862798213:model/xgboost-2018-12-06-12-57-23-468',\n",
       "     'url': 's3://ww-7a24de4d-99eb-421b-8e85-41b92255701e/sagemaker/DEMO-xgboost-dm/output/xgboost-2018-12-06-12-51-13-597/output/model.tar.gz',\n",
       "     'name': 'xgboost-2018-12-06-12-57-23-468',\n",
       "     'asset_type': 'model',\n",
       "     'created_at': '2018-12-06T12:57:23.609Z'},\n",
       "    'asset_properties': {'asset_revision': '1682400474557',\n",
       "     'training_data_reference': {'type': 'cos',\n",
       "      'connection': {'url': 's3://ww-7a24de4d-99eb-421b-8e85-41b92255701e/sagemaker/DEMO-xgboost-dm/train'}}}}},\n",
       "  {'metadata': {'guid': '99019b49f64ec332a5a999bad1ec1dfd',\n",
       "    'url': 'kmeans-2018-12-05-05-51-52-426',\n",
       "    'created_at': '2018-12-05T06:27:44.596Z',\n",
       "    'modified_at': '2023-04-25T07:17:38.213Z'},\n",
       "   'entity': {'name': 'kmeans-2018-12-05-05-51-52-426',\n",
       "    'deployment_rn': 'arn:aws:sagemaker:us-east-2:014862798213:endpoint/kmeans-2018-12-05-05-51-52-426',\n",
       "    'type': 'online',\n",
       "    'scoring_endpoint': {'url': 'kmeans-2018-12-05-05-51-52-426'},\n",
       "    'asset': {'asset_id': 'c83505c7ab2f749c542627afb07760c8',\n",
       "     'asset_rn': 'arn:aws:sagemaker:us-east-2:014862798213:model/kmeans-2018-12-05-06-27-43-947',\n",
       "     'url': 's3://yana-sagemaker-us-east-2-20181108/kmeans_highlevel_example/output/kmeans-2018-12-05-05-51-52-426/output/model.tar.gz',\n",
       "     'name': 'kmeans-2018-12-05-06-27-43-947',\n",
       "     'asset_type': 'model',\n",
       "     'created_at': '2018-12-05T06:27:44.096Z'},\n",
       "    'asset_properties': {'asset_revision': '1682407058213',\n",
       "     'training_data_reference': {'type': 'cos',\n",
       "      'connection': {'url': 's3://yana-sagemaker-us-east-2-20181108/kmeans_highlevel_example/data/KMeans-2018-12-05-05-51-42-812/.amazon.manifest'}}}}},\n",
       "  {'metadata': {'guid': '622e05e5d6156603e600d903b376ea32',\n",
       "    'url': 'DEMO-linear-binary-classifier-endpoint-201811281646',\n",
       "    'created_at': '2018-11-28T16:46:22.820Z',\n",
       "    'modified_at': '2023-07-06T06:12:59.362Z'},\n",
       "   'entity': {'name': 'DEMO-linear-binary-classifier-endpoint-201811281646',\n",
       "    'deployment_rn': 'arn:aws:sagemaker:us-east-2:014862798213:endpoint/demo-linear-binary-classifier-endpoint-201811281646',\n",
       "    'type': 'online',\n",
       "    'scoring_endpoint': {'url': 'DEMO-linear-binary-classifier-endpoint-201811281646'},\n",
       "    'asset': {'asset_id': 'f79dec934e4b17a038692c435f0eb8a3',\n",
       "     'asset_rn': 'arn:aws:sagemaker:us-east-2:014862798213:model/demo-linear-binary-classifier-2018-11-28-16-41-38',\n",
       "     'url': 's3://arsuryan-s3-bucket/sagemaker/DEMO-breast-cancer-prediction/DEMO-linear-binary-classifier-2018-11-28-16-41-38/output/model.tar.gz',\n",
       "     'name': 'DEMO-linear-binary-classifier-2018-11-28-16-41-38',\n",
       "     'asset_type': 'model',\n",
       "     'created_at': '2018-11-28T16:45:55.503Z'},\n",
       "    'asset_properties': {'asset_revision': '1688623979362'}}}],\n",
       " 'count': 20}"
      ]
     },
     "execution_count": 18,
     "metadata": {},
     "output_type": "execute_result"
    }
   ],
   "source": [
    "asset_deployment_details = wos_client.service_providers.list_assets(data_mart_id=data_mart_id, service_provider_id=service_provider_id).result\n",
    "asset_deployment_details"
   ]
  },
  {
   "cell_type": "code",
   "execution_count": 19,
   "metadata": {},
   "outputs": [
    {
     "data": {
      "text/plain": [
       "{'metadata': {'guid': 'cc7acf711b19c689d67e7b2a01b88ca2',\n",
       "  'url': 'Credit-risk-endpoint-scoring-2021-06-24-05-32',\n",
       "  'created_at': '2021-06-24T05:40:41.734Z',\n",
       "  'modified_at': '2023-04-25T07:04:18.041Z'},\n",
       " 'entity': {'name': 'Credit-risk-endpoint-scoring-2021-06-24-05-32',\n",
       "  'deployment_rn': 'arn:aws:sagemaker:us-east-2:014862798213:endpoint/credit-risk-endpoint-scoring-2021-06-24-05-32',\n",
       "  'type': 'online',\n",
       "  'scoring_endpoint': {'url': 'Credit-risk-endpoint-scoring-2021-06-24-05-32'},\n",
       "  'asset': {'asset_id': '98783e76b0aedefc06c70bd74fa2356e',\n",
       "   'asset_rn': 'arn:aws:sagemaker:us-east-2:014862798213:model/credit-risk-linear-learner-2021-06-24-05-32',\n",
       "   'url': 's3://sagemaker-us-east-2-014862798213/credit-risk/output/Credit-risk-linear-learner-2021-06-24-05-32/output/model.tar.gz',\n",
       "   'name': 'Credit-risk-linear-learner-2021-06-24-05-32',\n",
       "   'asset_type': 'model',\n",
       "   'created_at': '2021-06-24T05:40:27.363Z'},\n",
       "  'asset_properties': {'asset_revision': '1682406258041'}}}"
      ]
     },
     "execution_count": 19,
     "metadata": {},
     "output_type": "execute_result"
    }
   ],
   "source": [
    "deployment_id='***' # Get GUID for the deployment created using the other notebook \"Credit model with SageMaker linear-learner.ipynb\"\n",
    "for model_asset_details in asset_deployment_details['resources']:\n",
    "    if model_asset_details['metadata']['guid']==deployment_id:\n",
    "        break\n",
    "model_asset_details"
   ]
  },
  {
   "cell_type": "markdown",
   "metadata": {},
   "source": [
    "<a id=\"subsciption\"></a>\n",
    "## 3. Subscriptions"
   ]
  },
  {
   "cell_type": "markdown",
   "metadata": {},
   "source": [
    "### Add subscriptions"
   ]
  },
  {
   "cell_type": "markdown",
   "metadata": {},
   "source": [
    "List available deployments.\n",
    "\n",
    "**Note:** Depending on number of assets it may take some time."
   ]
  },
  {
   "cell_type": "code",
   "execution_count": 20,
   "metadata": {},
   "outputs": [],
   "source": [
    "aws_asset = Asset(\n",
    "        asset_id=model_asset_details['entity']['asset']['asset_id'],\n",
    "        name=model_asset_details['entity']['asset']['name'],\n",
    "        url=model_asset_details['entity']['asset']['url'],\n",
    "        asset_type=model_asset_details['entity']['asset']['asset_type'] if 'asset_type' in model_asset_details['entity']['asset'] else 'model',\n",
    "        problem_type=ProblemType.BINARY_CLASSIFICATION,\n",
    "        input_data_type=InputDataType.STRUCTURED,\n",
    "    )"
   ]
  },
  {
   "cell_type": "code",
   "execution_count": 21,
   "metadata": {},
   "outputs": [],
   "source": [
    "from ibm_watson_openscale.base_classes.watson_open_scale_v2 import ScoringEndpointRequest\n",
    "deployment_scoring_endpoint = model_asset_details['entity']['scoring_endpoint']\n",
    "scoring_endpoint = ScoringEndpointRequest(url = model_asset_details['entity']['scoring_endpoint']['url'] )"
   ]
  },
  {
   "cell_type": "code",
   "execution_count": 22,
   "metadata": {},
   "outputs": [],
   "source": [
    "deployment = AssetDeploymentRequest(\n",
    "        deployment_id=model_asset_details['metadata']['guid'],\n",
    "        url=model_asset_details['metadata']['url'],\n",
    "        name=model_asset_details['entity']['name'],\n",
    "        deployment_type=model_asset_details['entity']['type'],\n",
    "        scoring_endpoint =  scoring_endpoint\n",
    "    )"
   ]
  },
  {
   "cell_type": "code",
   "execution_count": 23,
   "metadata": {},
   "outputs": [],
   "source": [
    "training_data_reference = TrainingDataReference(type='cos',\n",
    "                                              location=COSTrainingDataReferenceLocation(bucket = BUCKET_NAME,\n",
    "                                                                                        file_name = training_data_file_name),\n",
    "                                              connection=COSTrainingDataReferenceConnection(\n",
    "                                                                        resource_instance_id= COS_RESOURCE_CRN,\n",
    "                                                                        url= COS_ENDPOINT,\n",
    "                                                                        api_key= COS_API_KEY_ID,\n",
    "                                                                        iam_url=IAM_URL)\n",
    "                                               )"
   ]
  },
  {
   "cell_type": "code",
   "execution_count": 24,
   "metadata": {},
   "outputs": [],
   "source": [
    "feature_columns = ['CheckingStatus_0_to_200', 'CheckingStatus_greater_200', 'CheckingStatus_less_0', 'CheckingStatus_no_checking', 'CreditHistory_all_credits_paid_back', 'CreditHistory_credits_paid_to_date', 'CreditHistory_no_credits', 'CreditHistory_outstanding_credit', 'CreditHistory_prior_payments_delayed', 'LoanPurpose_appliances', 'LoanPurpose_business', 'LoanPurpose_car_new', 'LoanPurpose_car_used', 'LoanPurpose_education', 'LoanPurpose_furniture', 'LoanPurpose_other', 'LoanPurpose_radio_tv', 'LoanPurpose_repairs', 'LoanPurpose_retraining', 'LoanPurpose_vacation', 'ExistingSavings_100_to_500', 'ExistingSavings_500_to_1000', 'ExistingSavings_greater_1000', 'ExistingSavings_less_100', 'ExistingSavings_unknown', 'EmploymentDuration_1_to_4', 'EmploymentDuration_4_to_7', 'EmploymentDuration_greater_7', 'EmploymentDuration_less_1', 'EmploymentDuration_unemployed', 'Sex_female', 'Sex_male', 'OthersOnLoan_co-applicant', 'OthersOnLoan_guarantor', 'OthersOnLoan_none', 'OwnsProperty_car_other', 'OwnsProperty_real_estate', 'OwnsProperty_savings_insurance', 'OwnsProperty_unknown', 'InstallmentPlans_bank', 'InstallmentPlans_none', 'InstallmentPlans_stores', 'Housing_free', 'Housing_own', 'Housing_rent', 'Job_management_self-employed', 'Job_skilled', 'Job_unemployed', 'Job_unskilled', 'Telephone_none', 'Telephone_yes', 'ForeignWorker_no', 'ForeignWorker_yes', 'LoanDuration', 'LoanAmount', 'InstallmentPercent', 'CurrentResidenceDuration', 'Age', 'ExistingCreditsCount', 'Dependents']\n",
    "categorical_columns = ['CheckingStatus_0_to_200', 'CheckingStatus_greater_200', 'CheckingStatus_less_0', 'CheckingStatus_no_checking', 'CreditHistory_all_credits_paid_back', 'CreditHistory_credits_paid_to_date', 'CreditHistory_no_credits', 'CreditHistory_outstanding_credit', 'CreditHistory_prior_payments_delayed', 'LoanPurpose_appliances', 'LoanPurpose_business', 'LoanPurpose_car_new', 'LoanPurpose_car_used', 'LoanPurpose_education', 'LoanPurpose_furniture', 'LoanPurpose_other', 'LoanPurpose_radio_tv', 'LoanPurpose_repairs', 'LoanPurpose_retraining', 'LoanPurpose_vacation', 'ExistingSavings_100_to_500', 'ExistingSavings_500_to_1000', 'ExistingSavings_greater_1000', 'ExistingSavings_less_100', 'ExistingSavings_unknown', 'EmploymentDuration_1_to_4', 'EmploymentDuration_4_to_7', 'EmploymentDuration_greater_7', 'EmploymentDuration_less_1', 'EmploymentDuration_unemployed', 'Sex_female', 'Sex_male', 'OthersOnLoan_co-applicant', 'OthersOnLoan_guarantor', 'OthersOnLoan_none', 'OwnsProperty_car_other', 'OwnsProperty_real_estate', 'OwnsProperty_savings_insurance', 'OwnsProperty_unknown', 'InstallmentPlans_bank', 'InstallmentPlans_none', 'InstallmentPlans_stores', 'Housing_free', 'Housing_own', 'Housing_rent', 'Job_management_self-employed', 'Job_skilled', 'Job_unemployed', 'Job_unskilled', 'Telephone_none', 'Telephone_yes', 'ForeignWorker_no', 'ForeignWorker_yes']"
   ]
  },
  {
   "cell_type": "code",
   "execution_count": 25,
   "metadata": {},
   "outputs": [],
   "source": [
    "asset_properties = AssetPropertiesRequest(\n",
    "        label_column=\"Risk\",\n",
    "        prediction_field='predicted_label',\n",
    "        probability_fields=['score'],\n",
    "        training_data_reference=training_data_reference,\n",
    "        training_data_schema=None,\n",
    "        input_data_schema=None,\n",
    "        output_data_schema=None,\n",
    "        feature_fields=feature_columns,\n",
    "        categorical_fields=categorical_columns\n",
    "    )"
   ]
  },
  {
   "cell_type": "code",
   "execution_count": 26,
   "metadata": {},
   "outputs": [
    {
     "name": "stdout",
     "output_type": "stream",
     "text": [
      "\n",
      "\n",
      "=============================================================================\n",
      "\n",
      " Waiting for end of adding subscription 95e480af-2fec-43ef-b34e-b3a24572b35d \n",
      "\n",
      "=============================================================================\n",
      "\n",
      "\n",
      "\n",
      "active\n",
      "\n",
      "-------------------------------------------\n",
      " Successfully finished adding subscription \n",
      "-------------------------------------------\n",
      "\n",
      "\n"
     ]
    },
    {
     "data": {
      "text/plain": [
       "'95e480af-2fec-43ef-b34e-b3a24572b35d'"
      ]
     },
     "execution_count": 26,
     "metadata": {},
     "output_type": "execute_result"
    }
   ],
   "source": [
    "subscription_details = wos_client.subscriptions.add(\n",
    "        data_mart_id=data_mart_id,\n",
    "        service_provider_id=service_provider_id,\n",
    "        asset=aws_asset,\n",
    "        deployment=deployment,\n",
    "        asset_properties=asset_properties,\n",
    "        background_mode=False\n",
    ").result\n",
    "subscription_id = subscription_details.metadata.id\n",
    "subscription_id"
   ]
  },
  {
   "cell_type": "markdown",
   "metadata": {},
   "source": [
    "#### List subscriptions"
   ]
  },
  {
   "cell_type": "code",
   "execution_count": 27,
   "metadata": {},
   "outputs": [
    {
     "data": {
      "text/html": [
       "<HTML>\n",
       "        <body>\n",
       "            <h3>Subscriptions</h3>\n",
       "            <table style='border: 1px solid #dddddd; font-family: Courier'>\n",
       "                <th style='border: 1px solid #dddddd'>asset_id</th><th style='border: 1px solid #dddddd'>asset_type</th><th style='border: 1px solid #dddddd'>asset_name</th><th style='border: 1px solid #dddddd'>data_mart_id</th><th style='border: 1px solid #dddddd'>deployment_id</th><th style='border: 1px solid #dddddd'>deployment_name</th><th style='border: 1px solid #dddddd'>service_provider_id</th><th style='border: 1px solid #dddddd'>status</th><th style='border: 1px solid #dddddd'>created_at</th><th style='border: 1px solid #dddddd'>id</th>\n",
       "                <tr><td style='border: 1px solid #dddddd'>98783e76b0aedefc06c70bd74fa2356e</td><td style='border: 1px solid #dddddd'>model</td><td style='border: 1px solid #dddddd'>Credit-risk-linear-learner-2021-06-24-05-32</td><td style='border: 1px solid #dddddd'>80e6093f-5acf-4eb7-9da6-7ba9bf56a929</td><td style='border: 1px solid #dddddd'>cc7acf711b19c689d67e7b2a01b88ca2</td><td style='border: 1px solid #dddddd'>Credit-risk-endpoint-scoring-2021-06-24-05-32</td><td style='border: 1px solid #dddddd'>4fa5625b-5401-4a31-a423-d480ea184cda</td><td style='border: 1px solid #dddddd'>active</td><td style='border: 1px solid #dddddd'>2024-07-11 09:30:10.069000+00:00</td><td style='border: 1px solid #dddddd'>95e480af-2fec-43ef-b34e-b3a24572b35d</td></tr><tr><td style='border: 1px solid #dddddd'>d4259f6b-e5a1-4a33-a862-d2788e5289ef</td><td style='border: 1px solid #dddddd'>model</td><td style='border: 1px solid #dddddd'>[asset] GCR Headless Subscription</td><td style='border: 1px solid #dddddd'>80e6093f-5acf-4eb7-9da6-7ba9bf56a929</td><td style='border: 1px solid #dddddd'>aa8bd973-d680-496b-923d-f9bcbcc0bc7a</td><td style='border: 1px solid #dddddd'>[asset] GCR Headless Subscription</td><td style='border: 1px solid #dddddd'>0bf0f943-24cf-487e-b971-4a6f586effc0</td><td style='border: 1px solid #dddddd'>active</td><td style='border: 1px solid #dddddd'>2024-07-05 13:57:01.523000+00:00</td><td style='border: 1px solid #dddddd'>345f4646-871a-4e0c-b30f-abcf9a83ea71</td></tr><tr><td style='border: 1px solid #dddddd'>ad45394c-0cfb-403c-81f6-a20f44cded7a</td><td style='border: 1px solid #dddddd'>model</td><td style='border: 1px solid #dddddd'>Spark German Risk Model - Final</td><td style='border: 1px solid #dddddd'>80e6093f-5acf-4eb7-9da6-7ba9bf56a929</td><td style='border: 1px solid #dddddd'>8db12c5c-94cf-486e-937a-6f17dadf8a56</td><td style='border: 1px solid #dddddd'>New - Spark German Risk Deployment - Final</td><td style='border: 1px solid #dddddd'>e13bfbbb-e639-4875-bbd5-6d2de8e834d0</td><td style='border: 1px solid #dddddd'>active</td><td style='border: 1px solid #dddddd'>2024-07-04 09:15:28.269000+00:00</td><td style='border: 1px solid #dddddd'>59622413-a37f-4e76-a4d5-46967f3cf12b</td></tr><tr><td style='border: 1px solid #dddddd'>43870a88-5fb5-425a-9099-078b0469dd2a</td><td style='border: 1px solid #dddddd'>model</td><td style='border: 1px solid #dddddd'>Amazon Mobile Review Classifier</td><td style='border: 1px solid #dddddd'>80e6093f-5acf-4eb7-9da6-7ba9bf56a929</td><td style='border: 1px solid #dddddd'>8edfc920-a4bc-47cd-83fd-9e9674476dec</td><td style='border: 1px solid #dddddd'>Amazon Mobile Review Classifier deployment2</td><td style='border: 1px solid #dddddd'>84265de0-8f4b-4257-8743-7c2525e86b00</td><td style='border: 1px solid #dddddd'>active</td><td style='border: 1px solid #dddddd'>2024-06-06 06:04:06.732000+00:00</td><td style='border: 1px solid #dddddd'>7828e5f6-9cc7-4cc6-b20b-7bf844c38ccc</td></tr><tr><td style='border: 1px solid #dddddd'>699a18fc-1d52-4a1b-9a25-87d9362cd3dc</td><td style='border: 1px solid #dddddd'>model</td><td style='border: 1px solid #dddddd'>Scikit German Risk Model WML V4</td><td style='border: 1px solid #dddddd'>80e6093f-5acf-4eb7-9da6-7ba9bf56a929</td><td style='border: 1px solid #dddddd'>2de6645d-c6a9-42ae-a884-4e2bb646ad33</td><td style='border: 1px solid #dddddd'>Scikit German Risk Deployment WML V4-1</td><td style='border: 1px solid #dddddd'>e13bfbbb-e639-4875-bbd5-6d2de8e834d0</td><td style='border: 1px solid #dddddd'>active</td><td style='border: 1px solid #dddddd'>2024-06-02 08:26:51.212000+00:00</td><td style='border: 1px solid #dddddd'>91a07f4c-50b6-426d-93da-94438a7edc9a</td></tr><tr><td style='border: 1px solid #dddddd'>a7fc7ed9-f000-4f27-988a-54fbc8e397e6</td><td style='border: 1px solid #dddddd'>model</td><td style='border: 1px solid #dddddd'>GermanCreditRiskModelChallenger</td><td style='border: 1px solid #dddddd'>80e6093f-5acf-4eb7-9da6-7ba9bf56a929</td><td style='border: 1px solid #dddddd'>38059feb-e4c5-4037-90ea-a18f77a8ec5b</td><td style='border: 1px solid #dddddd'>GermanCreditRiskModelChallenger</td><td style='border: 1px solid #dddddd'>19fc94cc-9ed2-4ac6-a98e-1acf1a9e729e</td><td style='border: 1px solid #dddddd'>active</td><td style='border: 1px solid #dddddd'>2024-05-16 06:09:55.832000+00:00</td><td style='border: 1px solid #dddddd'>81044f9c-27a8-42f2-90be-9cef8b33fe39</td></tr>\n",
       "            </table>\n",
       "        </body>\n",
       "        </HTML>"
      ],
      "text/plain": [
       "<IPython.core.display.HTML object>"
      ]
     },
     "metadata": {},
     "output_type": "display_data"
    }
   ],
   "source": [
    "wos_client.subscriptions.show()"
   ]
  },
  {
   "cell_type": "markdown",
   "metadata": {},
   "source": [
    "<a id=\"scoring\"></a>\n",
    "## 4. Performance metrics, scoring and payload logging"
   ]
  },
  {
   "cell_type": "markdown",
   "metadata": {},
   "source": [
    "### Score the credit risk model and measure response time"
   ]
  },
  {
   "cell_type": "code",
   "execution_count": 28,
   "metadata": {},
   "outputs": [],
   "source": [
    "import requests\n",
    "import time\n",
    "import json\n",
    "import boto3"
   ]
  },
  {
   "cell_type": "code",
   "execution_count": 29,
   "metadata": {},
   "outputs": [
    {
     "data": {
      "text/plain": [
       "{'metadata': {'id': '95e480af-2fec-43ef-b34e-b3a24572b35d',\n",
       "  'crn': 'crn:v1:bluemix:public:aiopenscale:us-south:a/0a3c25959fab4ecea2768fa6b8d61595:80e6093f-5acf-4eb7-9da6-7ba9bf56a929:subscription:95e480af-2fec-43ef-b34e-b3a24572b35d',\n",
       "  'url': '/v2/subscriptions/95e480af-2fec-43ef-b34e-b3a24572b35d',\n",
       "  'created_at': '2024-07-11T09:30:10.069000Z',\n",
       "  'created_by': 'IBMid-662005298W',\n",
       "  'modified_at': '2024-07-11T09:30:12.124000Z',\n",
       "  'modified_by': 'IBMid-662005298W'},\n",
       " 'entity': {'data_mart_id': '80e6093f-5acf-4eb7-9da6-7ba9bf56a929',\n",
       "  'service_provider_id': '4fa5625b-5401-4a31-a423-d480ea184cda',\n",
       "  'asset': {'asset_id': '98783e76b0aedefc06c70bd74fa2356e',\n",
       "   'url': 's3://sagemaker-us-east-2-014862798213/credit-risk/output/Credit-risk-linear-learner-2021-06-24-05-32/output/model.tar.gz',\n",
       "   'name': 'Credit-risk-linear-learner-2021-06-24-05-32',\n",
       "   'asset_type': 'model',\n",
       "   'problem_type': 'binary',\n",
       "   'input_data_type': 'structured'},\n",
       "  'asset_properties': {'training_data_reference': {'secret_id': 'f69c7c8a-ecda-4b6b-9a5e-2746762f2d26'},\n",
       "   'output_data_schema': {'type': 'struct',\n",
       "    'fields': [{'metadata': {'modeling_role': 'record-id',\n",
       "       'primary_key': True},\n",
       "      'name': 'scoring_id',\n",
       "      'nullable': False,\n",
       "      'type': 'string'},\n",
       "     {'metadata': {'modeling_role': 'record-timestamp'},\n",
       "      'name': 'scoring_timestamp',\n",
       "      'nullable': False,\n",
       "      'type': 'timestamp'},\n",
       "     {'metadata': {},\n",
       "      'name': 'deployment_id',\n",
       "      'nullable': False,\n",
       "      'type': 'string'},\n",
       "     {'metadata': {},\n",
       "      'name': 'asset_revision',\n",
       "      'nullable': True,\n",
       "      'type': 'string'}]},\n",
       "   'label_column': 'Risk',\n",
       "   'prediction_field': 'predicted_label',\n",
       "   'feature_fields': ['CheckingStatus_0_to_200',\n",
       "    'CheckingStatus_greater_200',\n",
       "    'CheckingStatus_less_0',\n",
       "    'CheckingStatus_no_checking',\n",
       "    'CreditHistory_all_credits_paid_back',\n",
       "    'CreditHistory_credits_paid_to_date',\n",
       "    'CreditHistory_no_credits',\n",
       "    'CreditHistory_outstanding_credit',\n",
       "    'CreditHistory_prior_payments_delayed',\n",
       "    'LoanPurpose_appliances',\n",
       "    'LoanPurpose_business',\n",
       "    'LoanPurpose_car_new',\n",
       "    'LoanPurpose_car_used',\n",
       "    'LoanPurpose_education',\n",
       "    'LoanPurpose_furniture',\n",
       "    'LoanPurpose_other',\n",
       "    'LoanPurpose_radio_tv',\n",
       "    'LoanPurpose_repairs',\n",
       "    'LoanPurpose_retraining',\n",
       "    'LoanPurpose_vacation',\n",
       "    'ExistingSavings_100_to_500',\n",
       "    'ExistingSavings_500_to_1000',\n",
       "    'ExistingSavings_greater_1000',\n",
       "    'ExistingSavings_less_100',\n",
       "    'ExistingSavings_unknown',\n",
       "    'EmploymentDuration_1_to_4',\n",
       "    'EmploymentDuration_4_to_7',\n",
       "    'EmploymentDuration_greater_7',\n",
       "    'EmploymentDuration_less_1',\n",
       "    'EmploymentDuration_unemployed',\n",
       "    'Sex_female',\n",
       "    'Sex_male',\n",
       "    'OthersOnLoan_co-applicant',\n",
       "    'OthersOnLoan_guarantor',\n",
       "    'OthersOnLoan_none',\n",
       "    'OwnsProperty_car_other',\n",
       "    'OwnsProperty_real_estate',\n",
       "    'OwnsProperty_savings_insurance',\n",
       "    'OwnsProperty_unknown',\n",
       "    'InstallmentPlans_bank',\n",
       "    'InstallmentPlans_none',\n",
       "    'InstallmentPlans_stores',\n",
       "    'Housing_free',\n",
       "    'Housing_own',\n",
       "    'Housing_rent',\n",
       "    'Job_management_self-employed',\n",
       "    'Job_skilled',\n",
       "    'Job_unemployed',\n",
       "    'Job_unskilled',\n",
       "    'Telephone_none',\n",
       "    'Telephone_yes',\n",
       "    'ForeignWorker_no',\n",
       "    'ForeignWorker_yes',\n",
       "    'LoanDuration',\n",
       "    'LoanAmount',\n",
       "    'InstallmentPercent',\n",
       "    'CurrentResidenceDuration',\n",
       "    'Age',\n",
       "    'ExistingCreditsCount',\n",
       "    'Dependents'],\n",
       "   'categorical_fields': ['CheckingStatus_0_to_200',\n",
       "    'CheckingStatus_greater_200',\n",
       "    'CheckingStatus_less_0',\n",
       "    'CheckingStatus_no_checking',\n",
       "    'CreditHistory_all_credits_paid_back',\n",
       "    'CreditHistory_credits_paid_to_date',\n",
       "    'CreditHistory_no_credits',\n",
       "    'CreditHistory_outstanding_credit',\n",
       "    'CreditHistory_prior_payments_delayed',\n",
       "    'LoanPurpose_appliances',\n",
       "    'LoanPurpose_business',\n",
       "    'LoanPurpose_car_new',\n",
       "    'LoanPurpose_car_used',\n",
       "    'LoanPurpose_education',\n",
       "    'LoanPurpose_furniture',\n",
       "    'LoanPurpose_other',\n",
       "    'LoanPurpose_radio_tv',\n",
       "    'LoanPurpose_repairs',\n",
       "    'LoanPurpose_retraining',\n",
       "    'LoanPurpose_vacation',\n",
       "    'ExistingSavings_100_to_500',\n",
       "    'ExistingSavings_500_to_1000',\n",
       "    'ExistingSavings_greater_1000',\n",
       "    'ExistingSavings_less_100',\n",
       "    'ExistingSavings_unknown',\n",
       "    'EmploymentDuration_1_to_4',\n",
       "    'EmploymentDuration_4_to_7',\n",
       "    'EmploymentDuration_greater_7',\n",
       "    'EmploymentDuration_less_1',\n",
       "    'EmploymentDuration_unemployed',\n",
       "    'Sex_female',\n",
       "    'Sex_male',\n",
       "    'OthersOnLoan_co-applicant',\n",
       "    'OthersOnLoan_guarantor',\n",
       "    'OthersOnLoan_none',\n",
       "    'OwnsProperty_car_other',\n",
       "    'OwnsProperty_real_estate',\n",
       "    'OwnsProperty_savings_insurance',\n",
       "    'OwnsProperty_unknown',\n",
       "    'InstallmentPlans_bank',\n",
       "    'InstallmentPlans_none',\n",
       "    'InstallmentPlans_stores',\n",
       "    'Housing_free',\n",
       "    'Housing_own',\n",
       "    'Housing_rent',\n",
       "    'Job_management_self-employed',\n",
       "    'Job_skilled',\n",
       "    'Job_unemployed',\n",
       "    'Job_unskilled',\n",
       "    'Telephone_none',\n",
       "    'Telephone_yes',\n",
       "    'ForeignWorker_no',\n",
       "    'ForeignWorker_yes'],\n",
       "   'probability_fields': ['score']},\n",
       "  'deployment': {'deployment_id': 'cc7acf711b19c689d67e7b2a01b88ca2',\n",
       "   'url': 'Credit-risk-endpoint-scoring-2021-06-24-05-32',\n",
       "   'name': 'Credit-risk-endpoint-scoring-2021-06-24-05-32',\n",
       "   'deployment_type': 'online',\n",
       "   'scoring_endpoint': {'url': 'Credit-risk-endpoint-scoring-2021-06-24-05-32'}},\n",
       "  'status': {'state': 'active'}}}"
      ]
     },
     "execution_count": 29,
     "metadata": {},
     "output_type": "execute_result"
    }
   ],
   "source": [
    "subscription_details=wos_client.subscriptions.get(subscription_id).result.to_dict()\n",
    "subscription_details"
   ]
  },
  {
   "cell_type": "code",
   "execution_count": 30,
   "metadata": {},
   "outputs": [],
   "source": [
    "endpoint_name = subscription_details['entity']['deployment']['name']\n",
    "\n",
    "payload = \"0,0,1,0,1,0,0,0,0,0,0,1,0,0,0,0,0,0,0,0,0,0,0,1,0,1,0,0,0,0,0,1,0,0,1,0,0,1,0,0,1,0,0,1,0,0,1,0,0,1,0,0,1,12,4152,2,3,29,2,1\""
   ]
  },
  {
   "cell_type": "code",
   "execution_count": 31,
   "metadata": {},
   "outputs": [
    {
     "name": "stdout",
     "output_type": "stream",
     "text": [
      "{\n",
      "  \"predictions\": [\n",
      "    {\n",
      "      \"score\": 0.19936884939670563,\n",
      "      \"predicted_label\": 0\n",
      "    }\n",
      "  ]\n",
      "}\n"
     ]
    }
   ],
   "source": [
    "runtime = boto3.client('sagemaker-runtime',\n",
    "                       region_name=SAGEMAKER_ENGINE_CREDENTIALS['region'],\n",
    "                       aws_access_key_id=SAGEMAKER_ENGINE_CREDENTIALS['access_key_id'],\n",
    "                       aws_secret_access_key=SAGEMAKER_ENGINE_CREDENTIALS['secret_access_key'])\n",
    "\n",
    "start_time = time.time()\n",
    "response = runtime.invoke_endpoint(EndpointName=endpoint_name, ContentType='text/csv', Body=payload)\n",
    "response_time = int((time.time() - start_time)*1000)\n",
    "result = json.loads(response['Body'].read().decode())\n",
    "\n",
    "print(json.dumps(result, indent=2))"
   ]
  },
  {
   "cell_type": "markdown",
   "metadata": {},
   "source": [
    "### Store the request and response in payload logging table"
   ]
  },
  {
   "cell_type": "markdown",
   "metadata": {},
   "source": [
    "#### Transform the model's input and output to the format compatible with OpenScale standard."
   ]
  },
  {
   "cell_type": "code",
   "execution_count": 32,
   "metadata": {},
   "outputs": [
    {
     "name": "stdout",
     "output_type": "stream",
     "text": [
      "Payload data set id:  d06ef733-fc03-46a6-9988-89e9446e7760\n"
     ]
    }
   ],
   "source": [
    "import time\n",
    "\n",
    "time.sleep(5)\n",
    "payload_data_set_id = None\n",
    "payload_data_set_id = wos_client.data_sets.list(type=DataSetTypes.PAYLOAD_LOGGING, \n",
    "                                                target_target_id=subscription_id, \n",
    "                                                target_target_type=TargetTypes.SUBSCRIPTION).result.data_sets[0].metadata.id\n",
    "if payload_data_set_id is None:\n",
    "    print(\"Payload data set not found. Please check subscription status.\")\n",
    "else:\n",
    "    print(\"Payload data set id: \", payload_data_set_id)"
   ]
  },
  {
   "cell_type": "code",
   "execution_count": 33,
   "metadata": {},
   "outputs": [],
   "source": [
    "values = [float(s) for s in payload.split(',')]\n",
    "\n",
    "request_data = {'fields': feature_columns, \n",
    "                'values': values}\n",
    "\n",
    "response_data = {'fields': list(result['predictions'][0]),\n",
    "                 'values': [list(x.values()) for x in result['predictions']]}"
   ]
  },
  {
   "cell_type": "markdown",
   "metadata": {},
   "source": [
    "#### Store the payload using Python SDK"
   ]
  },
  {
   "cell_type": "markdown",
   "metadata": {},
   "source": [
    "**Hint:** You can embed payload logging code into your custom deployment so it is logged automatically each time you score the model."
   ]
  },
  {
   "cell_type": "code",
   "execution_count": 34,
   "metadata": {},
   "outputs": [
    {
     "name": "stdout",
     "output_type": "stream",
     "text": [
      "Performing explicit payload logging.....\n",
      "\n",
      "\n",
      "==========================================================================================\n",
      "\n",
      " Waiting for end of storing records with request id: c4951a50-b2d1-42b0-9a98-27c581a0c8b4 \n",
      "\n",
      "==========================================================================================\n",
      "\n",
      "\n",
      "\n",
      "active\n",
      "\n",
      "---------------------------------------\n",
      " Successfully finished storing records \n",
      "---------------------------------------\n",
      "\n",
      "\n",
      "Number of records in the payload logging table: 1\n"
     ]
    }
   ],
   "source": [
    "import uuid\n",
    "from ibm_watson_openscale.supporting_classes.payload_record import PayloadRecord\n",
    "\n",
    "print(\"Performing explicit payload logging.....\")\n",
    "wos_client.data_sets.store_records(data_set_id=payload_data_set_id, background_mode=False,request_body=[PayloadRecord(\n",
    "           scoring_id=str(uuid.uuid4()),\n",
    "           request=request_data,\n",
    "           response=response_data,\n",
    "           response_time=460\n",
    ")])\n",
    "time.sleep(5)\n",
    "pl_records_count = wos_client.data_sets.get_records_count(payload_data_set_id)\n",
    "print(\"Number of records in the payload logging table: {}\".format(pl_records_count))"
   ]
  },
  {
   "cell_type": "code",
   "execution_count": 35,
   "metadata": {},
   "outputs": [
    {
     "data": {
      "text/html": [
       "<HTML>\n",
       "        <body>\n",
       "            <h3>Data Set d06ef733-fc03-46a6-9988-89e9446e7760 Records</h3>\n",
       "            <table style='border: 1px solid #dddddd; font-family: Courier'>\n",
       "                <th style='border: 1px solid #dddddd'>Sex_male</th><th style='border: 1px solid #dddddd'>asset_revision</th><th style='border: 1px solid #dddddd'>LoanPurpose_vacation</th><th style='border: 1px solid #dddddd'>CreditHistory_prior_payments_delayed</th><th style='border: 1px solid #dddddd'>OwnsProperty_real_estate</th><th style='border: 1px solid #dddddd'>CreditHistory_no_credits</th><th style='border: 1px solid #dddddd'>LoanAmount</th><th style='border: 1px solid #dddddd'>scoring_id</th><th style='border: 1px solid #dddddd'>OthersOnLoan_co-applicant</th><th style='border: 1px solid #dddddd'>Housing_free</th><th style='border: 1px solid #dddddd'>Housing_own</th><th style='border: 1px solid #dddddd'>InstallmentPercent</th><th style='border: 1px solid #dddddd'>predicted_label</th><th style='border: 1px solid #dddddd'>LoanPurpose_retraining</th><th style='border: 1px solid #dddddd'>scoring_timestamp</th><th style='border: 1px solid #dddddd'>ExistingSavings_less_100</th><th style='border: 1px solid #dddddd'>OthersOnLoan_none</th><th style='border: 1px solid #dddddd'>Job_unskilled</th><th style='border: 1px solid #dddddd'>prediction_probability</th><th style='border: 1px solid #dddddd'>LoanPurpose_repairs</th><th style='border: 1px solid #dddddd'>ProbabilityVector</th><th style='border: 1px solid #dddddd'>LoanPurpose_business</th><th style='border: 1px solid #dddddd'>OwnsProperty_unknown</th><th style='border: 1px solid #dddddd'>score</th><th style='border: 1px solid #dddddd'>CreditHistory_all_credits_paid_back</th><th style='border: 1px solid #dddddd'>Sex_female</th><th style='border: 1px solid #dddddd'>CheckingStatus_no_checking</th><th style='border: 1px solid #dddddd'>LoanPurpose_car_new</th><th style='border: 1px solid #dddddd'>InstallmentPlans_none</th><th style='border: 1px solid #dddddd'>LoanPurpose_other</th><th style='border: 1px solid #dddddd'>OwnsProperty_savings_insurance</th><th style='border: 1px solid #dddddd'>Telephone_none</th><th style='border: 1px solid #dddddd'>OthersOnLoan_guarantor</th><th style='border: 1px solid #dddddd'>InstallmentPlans_stores</th><th style='border: 1px solid #dddddd'>LoanPurpose_appliances</th><th style='border: 1px solid #dddddd'>EmploymentDuration_unemployed</th><th style='border: 1px solid #dddddd'>ExistingSavings_greater_1000</th><th style='border: 1px solid #dddddd'>Job_skilled</th><th style='border: 1px solid #dddddd'>Telephone_yes</th><th style='border: 1px solid #dddddd'>CheckingStatus_0_to_200</th><th style='border: 1px solid #dddddd'>ExistingSavings_500_to_1000</th><th style='border: 1px solid #dddddd'>LoanPurpose_radio_tv</th><th style='border: 1px solid #dddddd'>EmploymentDuration_less_1</th><th style='border: 1px solid #dddddd'>CreditHistory_credits_paid_to_date</th><th style='border: 1px solid #dddddd'>EmploymentDuration_1_to_4</th><th style='border: 1px solid #dddddd'>LoanDuration</th><th style='border: 1px solid #dddddd'>Age</th><th style='border: 1px solid #dddddd'>CheckingStatus_greater_200</th><th style='border: 1px solid #dddddd'>ForeignWorker_yes</th><th style='border: 1px solid #dddddd'>CurrentResidenceDuration</th><th style='border: 1px solid #dddddd'>LoanPurpose_education</th><th style='border: 1px solid #dddddd'>Housing_rent</th><th style='border: 1px solid #dddddd'>Job_unemployed</th><th style='border: 1px solid #dddddd'>CheckingStatus_less_0</th><th style='border: 1px solid #dddddd'>OwnsProperty_car_other</th><th style='border: 1px solid #dddddd'>ExistingCreditsCount</th><th style='border: 1px solid #dddddd'>deployment_id</th><th style='border: 1px solid #dddddd'>Job_management_self-employed</th><th style='border: 1px solid #dddddd'>ExistingSavings_100_to_500</th><th style='border: 1px solid #dddddd'>LoanPurpose_car_used</th><th style='border: 1px solid #dddddd'>EmploymentDuration_4_to_7</th><th style='border: 1px solid #dddddd'>LoanPurpose_furniture</th><th style='border: 1px solid #dddddd'>Dependents</th><th style='border: 1px solid #dddddd'>ExistingSavings_unknown</th><th style='border: 1px solid #dddddd'>CreditHistory_outstanding_credit</th><th style='border: 1px solid #dddddd'>InstallmentPlans_bank</th><th style='border: 1px solid #dddddd'>ForeignWorker_no</th><th style='border: 1px solid #dddddd'>EmploymentDuration_greater_7</th>\n",
       "                <tr><td style='border: 1px solid #dddddd'>1.0</td><td style='border: 1px solid #dddddd'>None</td><td style='border: 1px solid #dddddd'>0.0</td><td style='border: 1px solid #dddddd'>0.0</td><td style='border: 1px solid #dddddd'>0.0</td><td style='border: 1px solid #dddddd'>0.0</td><td style='border: 1px solid #dddddd'>4152.0</td><td style='border: 1px solid #dddddd'>f1406015-8360-42aa-9f2a-42de5bb0b81b-1</td><td style='border: 1px solid #dddddd'>0.0</td><td style='border: 1px solid #dddddd'>0.0</td><td style='border: 1px solid #dddddd'>1.0</td><td style='border: 1px solid #dddddd'>2.0</td><td style='border: 1px solid #dddddd'>0</td><td style='border: 1px solid #dddddd'>0.0</td><td style='border: 1px solid #dddddd'>2024-07-11T09:30:42.450Z</td><td style='border: 1px solid #dddddd'>1.0</td><td style='border: 1px solid #dddddd'>1.0</td><td style='border: 1px solid #dddddd'>0.0</td><td style='border: 1px solid #dddddd'>0.8006311506032944</td><td style='border: 1px solid #dddddd'>0.0</td><td style='border: 1px solid #dddddd'>[0.8006311506032944, 0.19936884939670563]</td><td style='border: 1px solid #dddddd'>0.0</td><td style='border: 1px solid #dddddd'>0.0</td><td style='border: 1px solid #dddddd'>0.19936884939670563</td><td style='border: 1px solid #dddddd'>1.0</td><td style='border: 1px solid #dddddd'>0.0</td><td style='border: 1px solid #dddddd'>0.0</td><td style='border: 1px solid #dddddd'>1.0</td><td style='border: 1px solid #dddddd'>1.0</td><td style='border: 1px solid #dddddd'>0.0</td><td style='border: 1px solid #dddddd'>1.0</td><td style='border: 1px solid #dddddd'>1.0</td><td style='border: 1px solid #dddddd'>0.0</td><td style='border: 1px solid #dddddd'>0.0</td><td style='border: 1px solid #dddddd'>0.0</td><td style='border: 1px solid #dddddd'>0.0</td><td style='border: 1px solid #dddddd'>0.0</td><td style='border: 1px solid #dddddd'>1.0</td><td style='border: 1px solid #dddddd'>0.0</td><td style='border: 1px solid #dddddd'>0.0</td><td style='border: 1px solid #dddddd'>0.0</td><td style='border: 1px solid #dddddd'>0.0</td><td style='border: 1px solid #dddddd'>0.0</td><td style='border: 1px solid #dddddd'>0.0</td><td style='border: 1px solid #dddddd'>1.0</td><td style='border: 1px solid #dddddd'>12.0</td><td style='border: 1px solid #dddddd'>29.0</td><td style='border: 1px solid #dddddd'>0.0</td><td style='border: 1px solid #dddddd'>1.0</td><td style='border: 1px solid #dddddd'>3.0</td><td style='border: 1px solid #dddddd'>0.0</td><td style='border: 1px solid #dddddd'>0.0</td><td style='border: 1px solid #dddddd'>0.0</td><td style='border: 1px solid #dddddd'>1.0</td><td style='border: 1px solid #dddddd'>0.0</td><td style='border: 1px solid #dddddd'>2.0</td><td style='border: 1px solid #dddddd'>cc7acf711b19c689d67e7b2a01b88ca2</td><td style='border: 1px solid #dddddd'>0.0</td><td style='border: 1px solid #dddddd'>0.0</td><td style='border: 1px solid #dddddd'>0.0</td><td style='border: 1px solid #dddddd'>0.0</td><td style='border: 1px solid #dddddd'>0.0</td><td style='border: 1px solid #dddddd'>1.0</td><td style='border: 1px solid #dddddd'>0.0</td><td style='border: 1px solid #dddddd'>0.0</td><td style='border: 1px solid #dddddd'>0.0</td><td style='border: 1px solid #dddddd'>0.0</td><td style='border: 1px solid #dddddd'>0.0</td></tr>\n",
       "            </table>\n",
       "        </body>\n",
       "        </HTML>"
      ],
      "text/plain": [
       "<IPython.core.display.HTML object>"
      ]
     },
     "metadata": {},
     "output_type": "display_data"
    }
   ],
   "source": [
    "wos_client.data_sets.show_records(data_set_id=payload_data_set_id)"
   ]
  },
  {
   "cell_type": "markdown",
   "metadata": {},
   "source": [
    "<a id=\"feedback\"></a>\n",
    "## 5. Feedback logging & quality (accuracy) monitoring"
   ]
  },
  {
   "cell_type": "markdown",
   "metadata": {},
   "source": [
    "### Enable quality monitoring"
   ]
  },
  {
   "cell_type": "markdown",
   "metadata": {},
   "source": [
    "You need to provide the monitoring `threshold` and `min_records` (minimal number of feedback records)."
   ]
  },
  {
   "cell_type": "code",
   "execution_count": 36,
   "metadata": {},
   "outputs": [
    {
     "name": "stdout",
     "output_type": "stream",
     "text": [
      "\n",
      "\n",
      "===================================================================================\n",
      "\n",
      " Waiting for end of monitor instance creation 5fca0414-5453-44ed-8eee-3b90e3695627 \n",
      "\n",
      "===================================================================================\n",
      "\n",
      "\n",
      "\n",
      "preparing\n",
      "active\n",
      "\n",
      "---------------------------------------\n",
      " Monitor instance successfully created \n",
      "---------------------------------------\n",
      "\n",
      "\n"
     ]
    }
   ],
   "source": [
    "import time\n",
    "\n",
    "time.sleep(10)\n",
    "target = Target(\n",
    "        target_type=TargetTypes.SUBSCRIPTION,\n",
    "        target_id=subscription_id\n",
    ")\n",
    "parameters = {\n",
    "    \"min_feedback_data_size\": 10\n",
    "}\n",
    "thresholds = [\n",
    "                {\n",
    "                    \"metric_id\": \"area_under_roc\",\n",
    "                    \"type\": \"lower_limit\",\n",
    "                    \"value\": .80\n",
    "                }\n",
    "            ]\n",
    "quality_monitor_details = wos_client.monitor_instances.create(\n",
    "    data_mart_id=data_mart_id,\n",
    "    background_mode=False,\n",
    "    monitor_definition_id=wos_client.monitor_definitions.MONITORS.QUALITY.ID,\n",
    "    target=target,\n",
    "    parameters=parameters,\n",
    "    thresholds=thresholds\n",
    ").result"
   ]
  },
  {
   "cell_type": "code",
   "execution_count": 37,
   "metadata": {},
   "outputs": [
    {
     "data": {
      "text/plain": [
       "'5fca0414-5453-44ed-8eee-3b90e3695627'"
      ]
     },
     "execution_count": 37,
     "metadata": {},
     "output_type": "execute_result"
    }
   ],
   "source": [
    "quality_monitor_instance_id = quality_monitor_details.metadata.id\n",
    "quality_monitor_instance_id"
   ]
  },
  {
   "cell_type": "markdown",
   "metadata": {},
   "source": [
    "### Feedback records logging"
   ]
  },
  {
   "cell_type": "markdown",
   "metadata": {},
   "source": [
    "Feedback records are used to evaluate your model. The predicted values are compared to real values (feedback records)."
   ]
  },
  {
   "cell_type": "markdown",
   "metadata": {},
   "source": [
    "You can check the schema of feedback table using below method."
   ]
  },
  {
   "cell_type": "code",
   "execution_count": 38,
   "metadata": {},
   "outputs": [
    {
     "data": {
      "text/plain": [
       "'ebce88fb-722f-4fd2-9ace-f43302b96f1d'"
      ]
     },
     "execution_count": 38,
     "metadata": {},
     "output_type": "execute_result"
    }
   ],
   "source": [
    "feedback_dataset_id = None\n",
    "feedback_dataset = wos_client.data_sets.list(type=DataSetTypes.FEEDBACK, \n",
    "                                                target_target_id=subscription_id, \n",
    "                                                target_target_type=TargetTypes.SUBSCRIPTION).result\n",
    "feedback_dataset_id = feedback_dataset.data_sets[0].metadata.id\n",
    "if feedback_dataset_id is None:\n",
    "    print(\"Feedback data set not found. Please check quality monitor status.\")\n",
    "feedback_dataset_id"
   ]
  },
  {
   "cell_type": "markdown",
   "metadata": {},
   "source": [
    "The feedback records can be send to feedback table using below code."
   ]
  },
  {
   "cell_type": "code",
   "execution_count": 39,
   "metadata": {},
   "outputs": [
    {
     "name": "stdout",
     "output_type": "stream",
     "text": [
      "\n",
      "\n",
      "==========================================================================================\n",
      "\n",
      " Waiting for end of storing records with request id: a802af07-7413-4339-82dc-e64e5a87dfa0 \n",
      "\n",
      "==========================================================================================\n",
      "\n",
      "\n",
      "\n",
      "active\n",
      "\n",
      "---------------------------------------\n",
      " Successfully finished storing records \n",
      "---------------------------------------\n",
      "\n",
      "\n"
     ]
    },
    {
     "data": {
      "text/plain": [
       "<ibm_cloud_sdk_core.detailed_response.DetailedResponse at 0x136ec3e20>"
      ]
     },
     "execution_count": 7,
     "metadata": {},
     "output_type": "execute_result"
    }
   ],
   "source": [
    "import requests\n",
    "import pandas as pd\n",
    "import numpy as np\n",
    "import time\n",
    "\n",
    "time.sleep(10) #It gives enough time for dataset creation\n",
    "\n",
    "data = pd.read_csv('https://raw.githubusercontent.com/IBM/watson-openscale-samples/main/IBM%20Cloud/AWS%20Sagemaker/assets/data/credit_risk_aws/credit_risk_feedback_recoded.csv',header=0,dtype=float)\n",
    "feedback_columns = data.columns.tolist()\n",
    "feedback_records = data.values.tolist()\n",
    "\n",
    "payload_scoring =  [{\"fields\": feedback_columns, \"values\": feedback_records}]\n",
    "wos_client.data_sets.store_records(feedback_dataset_id, request_body=payload_scoring, background_mode=False)"
   ]
  },
  {
   "cell_type": "code",
   "execution_count": 40,
   "metadata": {},
   "outputs": [
    {
     "data": {
      "text/html": [
       "<HTML>\n",
       "        <body>\n",
       "            <h3>Schema of ebce88fb-722f-4fd2-9ace-f43302b96f1d data set</h3>\n",
       "            <table style='border: 1px solid #dddddd; font-family: Courier'>\n",
       "                <th style='border: 1px solid #dddddd'>name</th><th style='border: 1px solid #dddddd'>type</th><th style='border: 1px solid #dddddd'>nullable</th>\n",
       "                <tr><td style='border: 1px solid #dddddd'>CheckingStatus</td><td style='border: 1px solid #dddddd'>string</td><td style='border: 1px solid #dddddd'>True</td></tr><tr><td style='border: 1px solid #dddddd'>LoanDuration</td><td style='border: 1px solid #dddddd'>double</td><td style='border: 1px solid #dddddd'>True</td></tr><tr><td style='border: 1px solid #dddddd'>CreditHistory</td><td style='border: 1px solid #dddddd'>string</td><td style='border: 1px solid #dddddd'>True</td></tr><tr><td style='border: 1px solid #dddddd'>LoanPurpose</td><td style='border: 1px solid #dddddd'>string</td><td style='border: 1px solid #dddddd'>True</td></tr><tr><td style='border: 1px solid #dddddd'>LoanAmount</td><td style='border: 1px solid #dddddd'>double</td><td style='border: 1px solid #dddddd'>True</td></tr><tr><td style='border: 1px solid #dddddd'>ExistingSavings</td><td style='border: 1px solid #dddddd'>string</td><td style='border: 1px solid #dddddd'>True</td></tr><tr><td style='border: 1px solid #dddddd'>EmploymentDuration</td><td style='border: 1px solid #dddddd'>string</td><td style='border: 1px solid #dddddd'>True</td></tr><tr><td style='border: 1px solid #dddddd'>InstallmentPercent</td><td style='border: 1px solid #dddddd'>double</td><td style='border: 1px solid #dddddd'>True</td></tr><tr><td style='border: 1px solid #dddddd'>Sex</td><td style='border: 1px solid #dddddd'>string</td><td style='border: 1px solid #dddddd'>True</td></tr><tr><td style='border: 1px solid #dddddd'>OthersOnLoan</td><td style='border: 1px solid #dddddd'>string</td><td style='border: 1px solid #dddddd'>True</td></tr><tr><td style='border: 1px solid #dddddd'>CurrentResidenceDuration</td><td style='border: 1px solid #dddddd'>double</td><td style='border: 1px solid #dddddd'>True</td></tr><tr><td style='border: 1px solid #dddddd'>OwnsProperty</td><td style='border: 1px solid #dddddd'>string</td><td style='border: 1px solid #dddddd'>True</td></tr><tr><td style='border: 1px solid #dddddd'>Age</td><td style='border: 1px solid #dddddd'>double</td><td style='border: 1px solid #dddddd'>True</td></tr><tr><td style='border: 1px solid #dddddd'>InstallmentPlans</td><td style='border: 1px solid #dddddd'>string</td><td style='border: 1px solid #dddddd'>True</td></tr><tr><td style='border: 1px solid #dddddd'>Housing</td><td style='border: 1px solid #dddddd'>string</td><td style='border: 1px solid #dddddd'>True</td></tr><tr><td style='border: 1px solid #dddddd'>ExistingCreditsCount</td><td style='border: 1px solid #dddddd'>double</td><td style='border: 1px solid #dddddd'>True</td></tr><tr><td style='border: 1px solid #dddddd'>Job</td><td style='border: 1px solid #dddddd'>string</td><td style='border: 1px solid #dddddd'>True</td></tr><tr><td style='border: 1px solid #dddddd'>Dependents</td><td style='border: 1px solid #dddddd'>double</td><td style='border: 1px solid #dddddd'>True</td></tr><tr><td style='border: 1px solid #dddddd'>Telephone</td><td style='border: 1px solid #dddddd'>string</td><td style='border: 1px solid #dddddd'>True</td></tr><tr><td style='border: 1px solid #dddddd'>ForeignWorker</td><td style='border: 1px solid #dddddd'>string</td><td style='border: 1px solid #dddddd'>True</td></tr><tr><td style='border: 1px solid #dddddd'>Risk</td><td style='border: 1px solid #dddddd'>double</td><td style='border: 1px solid #dddddd'>True</td></tr><tr><td style='border: 1px solid #dddddd'>record_id</td><td style='border: 1px solid #dddddd'>string</td><td style='border: 1px solid #dddddd'>False</td></tr><tr><td style='border: 1px solid #dddddd'>record_timestamp</td><td style='border: 1px solid #dddddd'>timestamp</td><td style='border: 1px solid #dddddd'>False</td></tr><tr><td style='border: 1px solid #dddddd'>transaction_id</td><td style='border: 1px solid #dddddd'>string</td><td style='border: 1px solid #dddddd'>True</td></tr><tr><td style='border: 1px solid #dddddd'>_original_prediction</td><td style='border: 1px solid #dddddd'>string</td><td style='border: 1px solid #dddddd'>True</td></tr><tr><td style='border: 1px solid #dddddd'>_original_probability</td><td style='border: 1px solid #dddddd'>{'containsNull': True, 'elementType': 'double', 'type': 'array'}</td><td style='border: 1px solid #dddddd'>True</td></tr><tr><td style='border: 1px solid #dddddd'>_debiased_prediction</td><td style='border: 1px solid #dddddd'>string</td><td style='border: 1px solid #dddddd'>True</td></tr><tr><td style='border: 1px solid #dddddd'>_debiased_probability</td><td style='border: 1px solid #dddddd'>{'containsNull': True, 'elementType': 'double', 'type': 'array'}</td><td style='border: 1px solid #dddddd'>True</td></tr><tr><td style='border: 1px solid #dddddd'>CheckingStatus_0_to_200</td><td style='border: 1px solid #dddddd'>double</td><td style='border: 1px solid #dddddd'>True</td></tr><tr><td style='border: 1px solid #dddddd'>CheckingStatus_greater_200</td><td style='border: 1px solid #dddddd'>double</td><td style='border: 1px solid #dddddd'>True</td></tr><tr><td style='border: 1px solid #dddddd'>CheckingStatus_less_0</td><td style='border: 1px solid #dddddd'>double</td><td style='border: 1px solid #dddddd'>True</td></tr><tr><td style='border: 1px solid #dddddd'>CheckingStatus_no_checking</td><td style='border: 1px solid #dddddd'>double</td><td style='border: 1px solid #dddddd'>True</td></tr><tr><td style='border: 1px solid #dddddd'>CreditHistory_all_credits_paid_back</td><td style='border: 1px solid #dddddd'>double</td><td style='border: 1px solid #dddddd'>True</td></tr><tr><td style='border: 1px solid #dddddd'>CreditHistory_credits_paid_to_date</td><td style='border: 1px solid #dddddd'>double</td><td style='border: 1px solid #dddddd'>True</td></tr><tr><td style='border: 1px solid #dddddd'>CreditHistory_no_credits</td><td style='border: 1px solid #dddddd'>double</td><td style='border: 1px solid #dddddd'>True</td></tr><tr><td style='border: 1px solid #dddddd'>CreditHistory_outstanding_credit</td><td style='border: 1px solid #dddddd'>double</td><td style='border: 1px solid #dddddd'>True</td></tr><tr><td style='border: 1px solid #dddddd'>CreditHistory_prior_payments_delayed</td><td style='border: 1px solid #dddddd'>double</td><td style='border: 1px solid #dddddd'>True</td></tr><tr><td style='border: 1px solid #dddddd'>EmploymentDuration_1_to_4</td><td style='border: 1px solid #dddddd'>double</td><td style='border: 1px solid #dddddd'>True</td></tr><tr><td style='border: 1px solid #dddddd'>EmploymentDuration_4_to_7</td><td style='border: 1px solid #dddddd'>double</td><td style='border: 1px solid #dddddd'>True</td></tr><tr><td style='border: 1px solid #dddddd'>EmploymentDuration_greater_7</td><td style='border: 1px solid #dddddd'>double</td><td style='border: 1px solid #dddddd'>True</td></tr><tr><td style='border: 1px solid #dddddd'>EmploymentDuration_less_1</td><td style='border: 1px solid #dddddd'>double</td><td style='border: 1px solid #dddddd'>True</td></tr><tr><td style='border: 1px solid #dddddd'>EmploymentDuration_unemployed</td><td style='border: 1px solid #dddddd'>double</td><td style='border: 1px solid #dddddd'>True</td></tr><tr><td style='border: 1px solid #dddddd'>ExistingSavings_100_to_500</td><td style='border: 1px solid #dddddd'>double</td><td style='border: 1px solid #dddddd'>True</td></tr><tr><td style='border: 1px solid #dddddd'>ExistingSavings_500_to_1000</td><td style='border: 1px solid #dddddd'>double</td><td style='border: 1px solid #dddddd'>True</td></tr><tr><td style='border: 1px solid #dddddd'>ExistingSavings_greater_1000</td><td style='border: 1px solid #dddddd'>double</td><td style='border: 1px solid #dddddd'>True</td></tr><tr><td style='border: 1px solid #dddddd'>ExistingSavings_less_100</td><td style='border: 1px solid #dddddd'>double</td><td style='border: 1px solid #dddddd'>True</td></tr><tr><td style='border: 1px solid #dddddd'>ExistingSavings_unknown</td><td style='border: 1px solid #dddddd'>double</td><td style='border: 1px solid #dddddd'>True</td></tr><tr><td style='border: 1px solid #dddddd'>ForeignWorker_no</td><td style='border: 1px solid #dddddd'>double</td><td style='border: 1px solid #dddddd'>True</td></tr><tr><td style='border: 1px solid #dddddd'>ForeignWorker_yes</td><td style='border: 1px solid #dddddd'>double</td><td style='border: 1px solid #dddddd'>True</td></tr><tr><td style='border: 1px solid #dddddd'>Housing_free</td><td style='border: 1px solid #dddddd'>double</td><td style='border: 1px solid #dddddd'>True</td></tr><tr><td style='border: 1px solid #dddddd'>Housing_own</td><td style='border: 1px solid #dddddd'>double</td><td style='border: 1px solid #dddddd'>True</td></tr><tr><td style='border: 1px solid #dddddd'>Housing_rent</td><td style='border: 1px solid #dddddd'>double</td><td style='border: 1px solid #dddddd'>True</td></tr><tr><td style='border: 1px solid #dddddd'>InstallmentPlans_bank</td><td style='border: 1px solid #dddddd'>double</td><td style='border: 1px solid #dddddd'>True</td></tr><tr><td style='border: 1px solid #dddddd'>InstallmentPlans_none</td><td style='border: 1px solid #dddddd'>double</td><td style='border: 1px solid #dddddd'>True</td></tr><tr><td style='border: 1px solid #dddddd'>InstallmentPlans_stores</td><td style='border: 1px solid #dddddd'>double</td><td style='border: 1px solid #dddddd'>True</td></tr><tr><td style='border: 1px solid #dddddd'>Job_management_self-employed</td><td style='border: 1px solid #dddddd'>double</td><td style='border: 1px solid #dddddd'>True</td></tr><tr><td style='border: 1px solid #dddddd'>Job_skilled</td><td style='border: 1px solid #dddddd'>double</td><td style='border: 1px solid #dddddd'>True</td></tr><tr><td style='border: 1px solid #dddddd'>Job_unemployed</td><td style='border: 1px solid #dddddd'>double</td><td style='border: 1px solid #dddddd'>True</td></tr><tr><td style='border: 1px solid #dddddd'>Job_unskilled</td><td style='border: 1px solid #dddddd'>double</td><td style='border: 1px solid #dddddd'>True</td></tr><tr><td style='border: 1px solid #dddddd'>LoanPurpose_appliances</td><td style='border: 1px solid #dddddd'>double</td><td style='border: 1px solid #dddddd'>True</td></tr><tr><td style='border: 1px solid #dddddd'>LoanPurpose_business</td><td style='border: 1px solid #dddddd'>double</td><td style='border: 1px solid #dddddd'>True</td></tr><tr><td style='border: 1px solid #dddddd'>LoanPurpose_car_new</td><td style='border: 1px solid #dddddd'>double</td><td style='border: 1px solid #dddddd'>True</td></tr><tr><td style='border: 1px solid #dddddd'>LoanPurpose_car_used</td><td style='border: 1px solid #dddddd'>double</td><td style='border: 1px solid #dddddd'>True</td></tr><tr><td style='border: 1px solid #dddddd'>LoanPurpose_education</td><td style='border: 1px solid #dddddd'>double</td><td style='border: 1px solid #dddddd'>True</td></tr><tr><td style='border: 1px solid #dddddd'>LoanPurpose_furniture</td><td style='border: 1px solid #dddddd'>double</td><td style='border: 1px solid #dddddd'>True</td></tr><tr><td style='border: 1px solid #dddddd'>LoanPurpose_other</td><td style='border: 1px solid #dddddd'>double</td><td style='border: 1px solid #dddddd'>True</td></tr><tr><td style='border: 1px solid #dddddd'>LoanPurpose_radio_tv</td><td style='border: 1px solid #dddddd'>double</td><td style='border: 1px solid #dddddd'>True</td></tr><tr><td style='border: 1px solid #dddddd'>LoanPurpose_repairs</td><td style='border: 1px solid #dddddd'>double</td><td style='border: 1px solid #dddddd'>True</td></tr><tr><td style='border: 1px solid #dddddd'>LoanPurpose_retraining</td><td style='border: 1px solid #dddddd'>double</td><td style='border: 1px solid #dddddd'>True</td></tr><tr><td style='border: 1px solid #dddddd'>LoanPurpose_vacation</td><td style='border: 1px solid #dddddd'>double</td><td style='border: 1px solid #dddddd'>True</td></tr><tr><td style='border: 1px solid #dddddd'>OthersOnLoan_co-applicant</td><td style='border: 1px solid #dddddd'>double</td><td style='border: 1px solid #dddddd'>True</td></tr><tr><td style='border: 1px solid #dddddd'>OthersOnLoan_guarantor</td><td style='border: 1px solid #dddddd'>double</td><td style='border: 1px solid #dddddd'>True</td></tr><tr><td style='border: 1px solid #dddddd'>OthersOnLoan_none</td><td style='border: 1px solid #dddddd'>double</td><td style='border: 1px solid #dddddd'>True</td></tr><tr><td style='border: 1px solid #dddddd'>OwnsProperty_car_other</td><td style='border: 1px solid #dddddd'>double</td><td style='border: 1px solid #dddddd'>True</td></tr><tr><td style='border: 1px solid #dddddd'>OwnsProperty_real_estate</td><td style='border: 1px solid #dddddd'>double</td><td style='border: 1px solid #dddddd'>True</td></tr><tr><td style='border: 1px solid #dddddd'>OwnsProperty_savings_insurance</td><td style='border: 1px solid #dddddd'>double</td><td style='border: 1px solid #dddddd'>True</td></tr><tr><td style='border: 1px solid #dddddd'>OwnsProperty_unknown</td><td style='border: 1px solid #dddddd'>double</td><td style='border: 1px solid #dddddd'>True</td></tr><tr><td style='border: 1px solid #dddddd'>Sex_female</td><td style='border: 1px solid #dddddd'>double</td><td style='border: 1px solid #dddddd'>True</td></tr><tr><td style='border: 1px solid #dddddd'>Sex_male</td><td style='border: 1px solid #dddddd'>double</td><td style='border: 1px solid #dddddd'>True</td></tr><tr><td style='border: 1px solid #dddddd'>Telephone_none</td><td style='border: 1px solid #dddddd'>double</td><td style='border: 1px solid #dddddd'>True</td></tr><tr><td style='border: 1px solid #dddddd'>Telephone_yes</td><td style='border: 1px solid #dddddd'>double</td><td style='border: 1px solid #dddddd'>True</td></tr>\n",
       "            </table>\n",
       "        </body>\n",
       "        </HTML>"
      ],
      "text/plain": [
       "<IPython.core.display.HTML object>"
      ]
     },
     "metadata": {},
     "output_type": "display_data"
    }
   ],
   "source": [
    "wos_client.data_sets.print_records_schema(data_set_id=feedback_dataset_id)"
   ]
  },
  {
   "cell_type": "code",
   "execution_count": 41,
   "metadata": {},
   "outputs": [
    {
     "data": {
      "text/plain": [
       "196"
      ]
     },
     "execution_count": 8,
     "metadata": {},
     "output_type": "execute_result"
    }
   ],
   "source": [
    "wos_client.data_sets.get_records_count(data_set_id=feedback_dataset_id)"
   ]
  },
  {
   "cell_type": "code",
   "execution_count": 42,
   "metadata": {},
   "outputs": [
    {
     "name": "stdout",
     "output_type": "stream",
     "text": [
      "\n",
      "\n",
      "========================================================================\n",
      "\n",
      " Waiting for end of monitoring run 52821088-b20b-4756-b67e-a28f0773db97 \n",
      "\n",
      "========================================================================\n",
      "\n",
      "\n",
      "\n",
      "finished\n",
      "\n",
      "---------------------------\n",
      " Successfully finished run \n",
      "---------------------------\n",
      "\n",
      "\n"
     ]
    }
   ],
   "source": [
    "run_details = wos_client.monitor_instances.run(monitor_instance_id=quality_monitor_instance_id, background_mode=False).result"
   ]
  },
  {
   "cell_type": "code",
   "execution_count": 43,
   "metadata": {},
   "outputs": [
    {
     "data": {
      "text/html": [
       "<HTML>\n",
       "        <body>\n",
       "            <h3>30065556-8bab-4edb-85e4-f5b260bf0a3d Monitor Runs Metrics from: 2024-07-31 15:53:34.291446  till: 2024-08-07 15:53:34.291470</h3>\n",
       "            <table style='border: 1px solid #dddddd; font-family: Courier'>\n",
       "                <th style='border: 1px solid #dddddd'>ts</th><th style='border: 1px solid #dddddd'>id</th><th style='border: 1px solid #dddddd'>measurement_id</th><th style='border: 1px solid #dddddd'>value</th><th style='border: 1px solid #dddddd'>lower_limit</th><th style='border: 1px solid #dddddd'>upper_limit</th><th style='border: 1px solid #dddddd'>tags</th><th style='border: 1px solid #dddddd'>monitor_definition_id</th><th style='border: 1px solid #dddddd'>monitor_instance_id</th><th style='border: 1px solid #dddddd'>run_id</th><th style='border: 1px solid #dddddd'>target_type</th><th style='border: 1px solid #dddddd'>target_id</th>\n",
       "                <tr><td style='border: 1px solid #dddddd'>2024-08-07 10:23:22.965000+00:00</td><td style='border: 1px solid #dddddd'>true_positive_rate</td><td style='border: 1px solid #dddddd'>f8d88915-b45f-4a61-bba0-09b9f58bf0f2</td><td style='border: 1px solid #dddddd'>0.42424242424242425</td><td style='border: 1px solid #dddddd'>None</td><td style='border: 1px solid #dddddd'>None</td><td style='border: 1px solid #dddddd'>['model_type:original']</td><td style='border: 1px solid #dddddd'>quality</td><td style='border: 1px solid #dddddd'>30065556-8bab-4edb-85e4-f5b260bf0a3d</td><td style='border: 1px solid #dddddd'>52821088-b20b-4756-b67e-a28f0773db97</td><td style='border: 1px solid #dddddd'>subscription</td><td style='border: 1px solid #dddddd'>ad19393e-2078-4316-ac19-7de0ddfd7937</td></tr><tr><td style='border: 1px solid #dddddd'>2024-08-07 10:23:22.965000+00:00</td><td style='border: 1px solid #dddddd'>area_under_roc</td><td style='border: 1px solid #dddddd'>f8d88915-b45f-4a61-bba0-09b9f58bf0f2</td><td style='border: 1px solid #dddddd'>0.6813519813519814</td><td style='border: 1px solid #dddddd'>0.8</td><td style='border: 1px solid #dddddd'>None</td><td style='border: 1px solid #dddddd'>['model_type:original']</td><td style='border: 1px solid #dddddd'>quality</td><td style='border: 1px solid #dddddd'>30065556-8bab-4edb-85e4-f5b260bf0a3d</td><td style='border: 1px solid #dddddd'>52821088-b20b-4756-b67e-a28f0773db97</td><td style='border: 1px solid #dddddd'>subscription</td><td style='border: 1px solid #dddddd'>ad19393e-2078-4316-ac19-7de0ddfd7937</td></tr><tr><td style='border: 1px solid #dddddd'>2024-08-07 10:23:22.965000+00:00</td><td style='border: 1px solid #dddddd'>precision</td><td style='border: 1px solid #dddddd'>f8d88915-b45f-4a61-bba0-09b9f58bf0f2</td><td style='border: 1px solid #dddddd'>0.7777777777777778</td><td style='border: 1px solid #dddddd'>None</td><td style='border: 1px solid #dddddd'>None</td><td style='border: 1px solid #dddddd'>['model_type:original']</td><td style='border: 1px solid #dddddd'>quality</td><td style='border: 1px solid #dddddd'>30065556-8bab-4edb-85e4-f5b260bf0a3d</td><td style='border: 1px solid #dddddd'>52821088-b20b-4756-b67e-a28f0773db97</td><td style='border: 1px solid #dddddd'>subscription</td><td style='border: 1px solid #dddddd'>ad19393e-2078-4316-ac19-7de0ddfd7937</td></tr><tr><td style='border: 1px solid #dddddd'>2024-08-07 10:23:22.965000+00:00</td><td style='border: 1px solid #dddddd'>matthews_correlation_coefficient</td><td style='border: 1px solid #dddddd'>f8d88915-b45f-4a61-bba0-09b9f58bf0f2</td><td style='border: 1px solid #dddddd'>0.4426747010626324</td><td style='border: 1px solid #dddddd'>None</td><td style='border: 1px solid #dddddd'>None</td><td style='border: 1px solid #dddddd'>['model_type:original']</td><td style='border: 1px solid #dddddd'>quality</td><td style='border: 1px solid #dddddd'>30065556-8bab-4edb-85e4-f5b260bf0a3d</td><td style='border: 1px solid #dddddd'>52821088-b20b-4756-b67e-a28f0773db97</td><td style='border: 1px solid #dddddd'>subscription</td><td style='border: 1px solid #dddddd'>ad19393e-2078-4316-ac19-7de0ddfd7937</td></tr><tr><td style='border: 1px solid #dddddd'>2024-08-07 10:23:22.965000+00:00</td><td style='border: 1px solid #dddddd'>f1_measure</td><td style='border: 1px solid #dddddd'>f8d88915-b45f-4a61-bba0-09b9f58bf0f2</td><td style='border: 1px solid #dddddd'>0.5490196078431373</td><td style='border: 1px solid #dddddd'>None</td><td style='border: 1px solid #dddddd'>None</td><td style='border: 1px solid #dddddd'>['model_type:original']</td><td style='border: 1px solid #dddddd'>quality</td><td style='border: 1px solid #dddddd'>30065556-8bab-4edb-85e4-f5b260bf0a3d</td><td style='border: 1px solid #dddddd'>52821088-b20b-4756-b67e-a28f0773db97</td><td style='border: 1px solid #dddddd'>subscription</td><td style='border: 1px solid #dddddd'>ad19393e-2078-4316-ac19-7de0ddfd7937</td></tr><tr><td style='border: 1px solid #dddddd'>2024-08-07 10:23:22.965000+00:00</td><td style='border: 1px solid #dddddd'>accuracy</td><td style='border: 1px solid #dddddd'>f8d88915-b45f-4a61-bba0-09b9f58bf0f2</td><td style='border: 1px solid #dddddd'>0.7653061224489796</td><td style='border: 1px solid #dddddd'>None</td><td style='border: 1px solid #dddddd'>None</td><td style='border: 1px solid #dddddd'>['model_type:original']</td><td style='border: 1px solid #dddddd'>quality</td><td style='border: 1px solid #dddddd'>30065556-8bab-4edb-85e4-f5b260bf0a3d</td><td style='border: 1px solid #dddddd'>52821088-b20b-4756-b67e-a28f0773db97</td><td style='border: 1px solid #dddddd'>subscription</td><td style='border: 1px solid #dddddd'>ad19393e-2078-4316-ac19-7de0ddfd7937</td></tr><tr><td style='border: 1px solid #dddddd'>2024-08-07 10:23:22.965000+00:00</td><td style='border: 1px solid #dddddd'>label_skew</td><td style='border: 1px solid #dddddd'>f8d88915-b45f-4a61-bba0-09b9f58bf0f2</td><td style='border: 1px solid #dddddd'>0.6909336273400487</td><td style='border: 1px solid #dddddd'>None</td><td style='border: 1px solid #dddddd'>None</td><td style='border: 1px solid #dddddd'>['model_type:original']</td><td style='border: 1px solid #dddddd'>quality</td><td style='border: 1px solid #dddddd'>30065556-8bab-4edb-85e4-f5b260bf0a3d</td><td style='border: 1px solid #dddddd'>52821088-b20b-4756-b67e-a28f0773db97</td><td style='border: 1px solid #dddddd'>subscription</td><td style='border: 1px solid #dddddd'>ad19393e-2078-4316-ac19-7de0ddfd7937</td></tr><tr><td style='border: 1px solid #dddddd'>2024-08-07 10:23:22.965000+00:00</td><td style='border: 1px solid #dddddd'>gini_coefficient</td><td style='border: 1px solid #dddddd'>f8d88915-b45f-4a61-bba0-09b9f58bf0f2</td><td style='border: 1px solid #dddddd'>0.36270396270396277</td><td style='border: 1px solid #dddddd'>None</td><td style='border: 1px solid #dddddd'>None</td><td style='border: 1px solid #dddddd'>['model_type:original']</td><td style='border: 1px solid #dddddd'>quality</td><td style='border: 1px solid #dddddd'>30065556-8bab-4edb-85e4-f5b260bf0a3d</td><td style='border: 1px solid #dddddd'>52821088-b20b-4756-b67e-a28f0773db97</td><td style='border: 1px solid #dddddd'>subscription</td><td style='border: 1px solid #dddddd'>ad19393e-2078-4316-ac19-7de0ddfd7937</td></tr><tr><td style='border: 1px solid #dddddd'>2024-08-07 10:23:22.965000+00:00</td><td style='border: 1px solid #dddddd'>log_loss</td><td style='border: 1px solid #dddddd'>f8d88915-b45f-4a61-bba0-09b9f58bf0f2</td><td style='border: 1px solid #dddddd'>0.4547315703073752</td><td style='border: 1px solid #dddddd'>None</td><td style='border: 1px solid #dddddd'>None</td><td style='border: 1px solid #dddddd'>['model_type:original']</td><td style='border: 1px solid #dddddd'>quality</td><td style='border: 1px solid #dddddd'>30065556-8bab-4edb-85e4-f5b260bf0a3d</td><td style='border: 1px solid #dddddd'>52821088-b20b-4756-b67e-a28f0773db97</td><td style='border: 1px solid #dddddd'>subscription</td><td style='border: 1px solid #dddddd'>ad19393e-2078-4316-ac19-7de0ddfd7937</td></tr><tr><td style='border: 1px solid #dddddd'>2024-08-07 10:23:22.965000+00:00</td><td style='border: 1px solid #dddddd'>false_positive_rate</td><td style='border: 1px solid #dddddd'>f8d88915-b45f-4a61-bba0-09b9f58bf0f2</td><td style='border: 1px solid #dddddd'>0.06153846153846154</td><td style='border: 1px solid #dddddd'>None</td><td style='border: 1px solid #dddddd'>None</td><td style='border: 1px solid #dddddd'>['model_type:original']</td><td style='border: 1px solid #dddddd'>quality</td><td style='border: 1px solid #dddddd'>30065556-8bab-4edb-85e4-f5b260bf0a3d</td><td style='border: 1px solid #dddddd'>52821088-b20b-4756-b67e-a28f0773db97</td><td style='border: 1px solid #dddddd'>subscription</td><td style='border: 1px solid #dddddd'>ad19393e-2078-4316-ac19-7de0ddfd7937</td></tr>\n",
       "            </table>\n",
       "        </body>\n",
       "        </HTML>"
      ],
      "text/plain": [
       "<IPython.core.display.HTML object>"
      ]
     },
     "metadata": {},
     "output_type": "display_data"
    },
    {
     "name": "stdout",
     "output_type": "stream",
     "text": [
      "Note: First 10 records were displayed.\n"
     ]
    }
   ],
   "source": [
    "time.sleep(5)\n",
    "wos_client.monitor_instances.show_metrics(monitor_instance_id=quality_monitor_instance_id)"
   ]
  },
  {
   "cell_type": "markdown",
   "metadata": {},
   "source": [
    "<a id=\"datamart\"></a>\n",
    "## 6. Get the logged data"
   ]
  },
  {
   "cell_type": "markdown",
   "metadata": {},
   "source": [
    "### Payload logging"
   ]
  },
  {
   "cell_type": "markdown",
   "metadata": {},
   "source": [
    "#### Print schema of payload_logging table"
   ]
  },
  {
   "cell_type": "code",
   "execution_count": 44,
   "metadata": {},
   "outputs": [
    {
     "data": {
      "text/html": [
       "<HTML>\n",
       "        <body>\n",
       "            <h3>Schema of 6405b132-9c0e-4685-bf12-2d97d80f76f2 data set</h3>\n",
       "            <table style='border: 1px solid #dddddd; font-family: Courier'>\n",
       "                <th style='border: 1px solid #dddddd'>name</th><th style='border: 1px solid #dddddd'>type</th><th style='border: 1px solid #dddddd'>nullable</th>\n",
       "                <tr><td style='border: 1px solid #dddddd'>scoring_id</td><td style='border: 1px solid #dddddd'>string</td><td style='border: 1px solid #dddddd'>False</td></tr><tr><td style='border: 1px solid #dddddd'>scoring_timestamp</td><td style='border: 1px solid #dddddd'>timestamp</td><td style='border: 1px solid #dddddd'>False</td></tr><tr><td style='border: 1px solid #dddddd'>deployment_id</td><td style='border: 1px solid #dddddd'>string</td><td style='border: 1px solid #dddddd'>False</td></tr><tr><td style='border: 1px solid #dddddd'>asset_revision</td><td style='border: 1px solid #dddddd'>string</td><td style='border: 1px solid #dddddd'>True</td></tr><tr><td style='border: 1px solid #dddddd'>CheckingStatus</td><td style='border: 1px solid #dddddd'>string</td><td style='border: 1px solid #dddddd'>True</td></tr><tr><td style='border: 1px solid #dddddd'>LoanDuration</td><td style='border: 1px solid #dddddd'>integer</td><td style='border: 1px solid #dddddd'>True</td></tr><tr><td style='border: 1px solid #dddddd'>CreditHistory</td><td style='border: 1px solid #dddddd'>string</td><td style='border: 1px solid #dddddd'>True</td></tr><tr><td style='border: 1px solid #dddddd'>LoanPurpose</td><td style='border: 1px solid #dddddd'>string</td><td style='border: 1px solid #dddddd'>True</td></tr><tr><td style='border: 1px solid #dddddd'>LoanAmount</td><td style='border: 1px solid #dddddd'>integer</td><td style='border: 1px solid #dddddd'>True</td></tr><tr><td style='border: 1px solid #dddddd'>ExistingSavings</td><td style='border: 1px solid #dddddd'>string</td><td style='border: 1px solid #dddddd'>True</td></tr><tr><td style='border: 1px solid #dddddd'>EmploymentDuration</td><td style='border: 1px solid #dddddd'>string</td><td style='border: 1px solid #dddddd'>True</td></tr><tr><td style='border: 1px solid #dddddd'>InstallmentPercent</td><td style='border: 1px solid #dddddd'>integer</td><td style='border: 1px solid #dddddd'>True</td></tr><tr><td style='border: 1px solid #dddddd'>Sex</td><td style='border: 1px solid #dddddd'>string</td><td style='border: 1px solid #dddddd'>True</td></tr><tr><td style='border: 1px solid #dddddd'>OthersOnLoan</td><td style='border: 1px solid #dddddd'>string</td><td style='border: 1px solid #dddddd'>True</td></tr><tr><td style='border: 1px solid #dddddd'>CurrentResidenceDuration</td><td style='border: 1px solid #dddddd'>integer</td><td style='border: 1px solid #dddddd'>True</td></tr><tr><td style='border: 1px solid #dddddd'>OwnsProperty</td><td style='border: 1px solid #dddddd'>string</td><td style='border: 1px solid #dddddd'>True</td></tr><tr><td style='border: 1px solid #dddddd'>Age</td><td style='border: 1px solid #dddddd'>integer</td><td style='border: 1px solid #dddddd'>True</td></tr><tr><td style='border: 1px solid #dddddd'>InstallmentPlans</td><td style='border: 1px solid #dddddd'>string</td><td style='border: 1px solid #dddddd'>True</td></tr><tr><td style='border: 1px solid #dddddd'>Housing</td><td style='border: 1px solid #dddddd'>string</td><td style='border: 1px solid #dddddd'>True</td></tr><tr><td style='border: 1px solid #dddddd'>ExistingCreditsCount</td><td style='border: 1px solid #dddddd'>integer</td><td style='border: 1px solid #dddddd'>True</td></tr><tr><td style='border: 1px solid #dddddd'>Job</td><td style='border: 1px solid #dddddd'>string</td><td style='border: 1px solid #dddddd'>True</td></tr><tr><td style='border: 1px solid #dddddd'>Dependents</td><td style='border: 1px solid #dddddd'>integer</td><td style='border: 1px solid #dddddd'>True</td></tr><tr><td style='border: 1px solid #dddddd'>Telephone</td><td style='border: 1px solid #dddddd'>string</td><td style='border: 1px solid #dddddd'>True</td></tr><tr><td style='border: 1px solid #dddddd'>ForeignWorker</td><td style='border: 1px solid #dddddd'>string</td><td style='border: 1px solid #dddddd'>True</td></tr><tr><td style='border: 1px solid #dddddd'>prediction</td><td style='border: 1px solid #dddddd'>string</td><td style='border: 1px solid #dddddd'>True</td></tr><tr><td style='border: 1px solid #dddddd'>probability</td><td style='border: 1px solid #dddddd'>{'containsNull': True, 'elementType': 'double', 'type': 'array'}</td><td style='border: 1px solid #dddddd'>True</td></tr><tr><td style='border: 1px solid #dddddd'>prediction_probability</td><td style='border: 1px solid #dddddd'>double</td><td style='border: 1px solid #dddddd'>True</td></tr>\n",
       "            </table>\n",
       "        </body>\n",
       "        </HTML>"
      ],
      "text/plain": [
       "<IPython.core.display.HTML object>"
      ]
     },
     "metadata": {},
     "output_type": "display_data"
    }
   ],
   "source": [
    "wos_client.data_sets.print_records_schema(data_set_id=payload_data_set_id)"
   ]
  },
  {
   "cell_type": "markdown",
   "metadata": {},
   "source": [
    "<a id=\"fairness_and_explainability\"></a>\n",
    "## 7. Fairness, Drift monitoring and explanations"
   ]
  },
  {
   "cell_type": "markdown",
   "metadata": {},
   "source": [
    "### Get payload data"
   ]
  },
  {
   "cell_type": "code",
   "execution_count": 45,
   "metadata": {},
   "outputs": [],
   "source": [
    "scoring_data_filename='credit_risk_scoring_recoded.csv'\n",
    "scoring_data_filename_json='credit_risk_scoring_recoded.json'"
   ]
  },
  {
   "cell_type": "code",
   "execution_count": 46,
   "metadata": {},
   "outputs": [
    {
     "name": "stdout",
     "output_type": "stream",
     "text": [
      "--2024-08-07 15:54:25--  https://raw.githubusercontent.com/IBM/watson-openscale-samples/main/IBM%20Cloud/AWS%20Sagemaker/assets/data/credit_risk_aws/credit_risk_scoring_recoded.json\n",
      "Resolving raw.githubusercontent.com (raw.githubusercontent.com)... 185.199.111.133, 185.199.110.133, 185.199.109.133, ...\n",
      "Connecting to raw.githubusercontent.com (raw.githubusercontent.com)|185.199.111.133|:443... connected.\n",
      "HTTP request sent, awaiting response... 200 OK\n",
      "Length: 5108 (5.0K) [text/plain]\n",
      "Saving to: ‘credit_risk_scoring_recoded.json’\n",
      "\n",
      "credit_risk_scoring 100%[===================>]   4.99K  --.-KB/s    in 0.03s   \n",
      "\n",
      "2024-08-07 15:54:25 (156 KB/s) - ‘credit_risk_scoring_recoded.json’ saved [5108/5108]\n",
      "\n",
      "--2024-08-07 15:54:25--  https://raw.githubusercontent.com/IBM/watson-openscale-samples/main/IBM%20Cloud/AWS%20Sagemaker/assets/data/credit_risk_aws/credit_risk_scoring_recoded.csv\n",
      "Resolving raw.githubusercontent.com (raw.githubusercontent.com)... 185.199.110.133, 185.199.109.133, 185.199.108.133, ...\n",
      "Connecting to raw.githubusercontent.com (raw.githubusercontent.com)|185.199.110.133|:443... connected.\n",
      "HTTP request sent, awaiting response... 200 OK\n",
      "Length: 4984 (4.9K) [text/plain]\n",
      "Saving to: ‘credit_risk_scoring_recoded.csv’\n",
      "\n",
      "credit_risk_scoring 100%[===================>]   4.87K  --.-KB/s    in 0s      \n",
      "\n",
      "2024-08-07 15:54:25 (19.2 MB/s) - ‘credit_risk_scoring_recoded.csv’ saved [4984/4984]\n",
      "\n"
     ]
    }
   ],
   "source": [
    "!rm credit_risk_scoring_recoded.json\n",
    "!rm credit_risk_scoring_recoded.csv\n",
    "!wget \"https://raw.githubusercontent.com/IBM/watson-openscale-samples/main/IBM%20Cloud/AWS%20Sagemaker/assets/data/credit_risk_aws/credit_risk_scoring_recoded.json\"\n",
    "!wget \"https://raw.githubusercontent.com/IBM/watson-openscale-samples/main/IBM%20Cloud/AWS%20Sagemaker/assets/data/credit_risk_aws/credit_risk_scoring_recoded.csv\""
   ]
  },
  {
   "cell_type": "code",
   "execution_count": 47,
   "metadata": {},
   "outputs": [],
   "source": [
    "sm_runtime = boto3.client('sagemaker-runtime',\n",
    "                       region_name=SAGEMAKER_ENGINE_CREDENTIALS['region'],\n",
    "                       aws_access_key_id=SAGEMAKER_ENGINE_CREDENTIALS['access_key_id'],\n",
    "                       aws_secret_access_key=SAGEMAKER_ENGINE_CREDENTIALS['secret_access_key'])\n",
    "\n",
    "with open(scoring_data_filename) as f_payload:\n",
    "    scoring_response = sm_runtime.invoke_endpoint(EndpointName = endpoint_name,\n",
    "                                                  ContentType = 'text/csv',\n",
    "                                                  Body = f_payload.read().encode())\n",
    "    \n",
    "    result = json.loads(scoring_response['Body'].read().decode())\n",
    "    print(json.dumps(result, indent=2))"
   ]
  },
  {
   "cell_type": "code",
   "execution_count": 48,
   "metadata": {},
   "outputs": [],
   "source": [
    "f = open(scoring_data_filename_json,\"r\")\n",
    "payload_values = json.load(f)\n",
    "request_data = {'fields': feature_columns, \n",
    "                'values': payload_values}\n",
    "\n",
    "response_data = {'fields': list(result['predictions'][0]),\n",
    "                 'values': [list(x.values()) for x in result['predictions']]}\n"
   ]
  },
  {
   "cell_type": "code",
   "execution_count": 49,
   "metadata": {},
   "outputs": [
    {
     "name": "stdout",
     "output_type": "stream",
     "text": [
      "Performing explicit payload logging.....\n",
      "Number of records in the payload logging table: 208\n"
     ]
    }
   ],
   "source": [
    "import uuid\n",
    "from ibm_watson_openscale.supporting_classes.payload_record import PayloadRecord\n",
    "print(\"Performing explicit payload logging.....\")\n",
    "wos_client.data_sets.store_records(data_set_id=payload_data_set_id, request_body=[PayloadRecord(\n",
    "           scoring_id=str(uuid.uuid4()),\n",
    "           request=request_data,\n",
    "           response=response_data,\n",
    "           response_time=460\n",
    ")])\n",
    "time.sleep(5)\n",
    "pl_records_count = wos_client.data_sets.get_records_count(payload_data_set_id)\n",
    "print(\"Number of records in the payload logging table: {}\".format(pl_records_count))"
   ]
  },
  {
   "cell_type": "code",
   "execution_count": 50,
   "metadata": {},
   "outputs": [
    {
     "data": {
      "text/html": [
       "<HTML>\n",
       "        <body>\n",
       "            <h3>Data Set 6405b132-9c0e-4685-bf12-2d97d80f76f2 Records</h3>\n",
       "            <table style='border: 1px solid #dddddd; font-family: Courier'>\n",
       "                <th style='border: 1px solid #dddddd'>asset_revision</th><th style='border: 1px solid #dddddd'>LoanAmount</th><th style='border: 1px solid #dddddd'>scoring_id</th><th style='border: 1px solid #dddddd'>InstallmentPercent</th><th style='border: 1px solid #dddddd'>ExistingSavings</th><th style='border: 1px solid #dddddd'>scoring_timestamp</th><th style='border: 1px solid #dddddd'>prediction_probability</th><th style='border: 1px solid #dddddd'>CheckingStatus</th><th style='border: 1px solid #dddddd'>LoanPurpose</th><th style='border: 1px solid #dddddd'>prediction</th><th style='border: 1px solid #dddddd'>Job</th><th style='border: 1px solid #dddddd'>InstallmentPlans</th><th style='border: 1px solid #dddddd'>OthersOnLoan</th><th style='border: 1px solid #dddddd'>LoanDuration</th><th style='border: 1px solid #dddddd'>Age</th><th style='border: 1px solid #dddddd'>CreditHistory</th><th style='border: 1px solid #dddddd'>CurrentResidenceDuration</th><th style='border: 1px solid #dddddd'>ForeignWorker</th><th style='border: 1px solid #dddddd'>Housing</th><th style='border: 1px solid #dddddd'>ExistingCreditsCount</th><th style='border: 1px solid #dddddd'>deployment_id</th><th style='border: 1px solid #dddddd'>Telephone</th><th style='border: 1px solid #dddddd'>Sex</th><th style='border: 1px solid #dddddd'>Dependents</th><th style='border: 1px solid #dddddd'>OwnsProperty</th><th style='border: 1px solid #dddddd'>EmploymentDuration</th><th style='border: 1px solid #dddddd'>probability</th>\n",
       "                <tr><td style='border: 1px solid #dddddd'></td><td style='border: 1px solid #dddddd'>250</td><td style='border: 1px solid #dddddd'>ce94d7419c28c598543294fbc4f5f864-1</td><td style='border: 1px solid #dddddd'>1</td><td style='border: 1px solid #dddddd'>less_100</td><td style='border: 1px solid #dddddd'>2024-08-07T09:59:07.624427Z</td><td style='border: 1px solid #dddddd'>0.971782546473715</td><td style='border: 1px solid #dddddd'>less_0</td><td style='border: 1px solid #dddddd'>car_new</td><td style='border: 1px solid #dddddd'>No Risk</td><td style='border: 1px solid #dddddd'>skilled</td><td style='border: 1px solid #dddddd'>stores</td><td style='border: 1px solid #dddddd'>none</td><td style='border: 1px solid #dddddd'>4</td><td style='border: 1px solid #dddddd'>19</td><td style='border: 1px solid #dddddd'>all_credits_paid_back</td><td style='border: 1px solid #dddddd'>2</td><td style='border: 1px solid #dddddd'>yes</td><td style='border: 1px solid #dddddd'>rent</td><td style='border: 1px solid #dddddd'>1</td><td style='border: 1px solid #dddddd'>edc1e06c-7bf9-4522-8893-05a919a35ca0</td><td style='border: 1px solid #dddddd'>none</td><td style='border: 1px solid #dddddd'>female</td><td style='border: 1px solid #dddddd'>1</td><td style='border: 1px solid #dddddd'>savings_insurance</td><td style='border: 1px solid #dddddd'>unemployed</td><td style='border: 1px solid #dddddd'>[0.971782546473715, 0.028217453526285]</td></tr><tr><td style='border: 1px solid #dddddd'></td><td style='border: 1px solid #dddddd'>250</td><td style='border: 1px solid #dddddd'>ce94d7419c28c598543294fbc4f5f864-10</td><td style='border: 1px solid #dddddd'>2</td><td style='border: 1px solid #dddddd'>100_to_500</td><td style='border: 1px solid #dddddd'>2024-08-07T09:59:07.624427Z</td><td style='border: 1px solid #dddddd'>0.9699113373984984</td><td style='border: 1px solid #dddddd'>0_to_200</td><td style='border: 1px solid #dddddd'>car_new</td><td style='border: 1px solid #dddddd'>No Risk</td><td style='border: 1px solid #dddddd'>skilled</td><td style='border: 1px solid #dddddd'>stores</td><td style='border: 1px solid #dddddd'>none</td><td style='border: 1px solid #dddddd'>15</td><td style='border: 1px solid #dddddd'>19</td><td style='border: 1px solid #dddddd'>credits_paid_to_date</td><td style='border: 1px solid #dddddd'>2</td><td style='border: 1px solid #dddddd'>yes</td><td style='border: 1px solid #dddddd'>rent</td><td style='border: 1px solid #dddddd'>1</td><td style='border: 1px solid #dddddd'>edc1e06c-7bf9-4522-8893-05a919a35ca0</td><td style='border: 1px solid #dddddd'>none</td><td style='border: 1px solid #dddddd'>male</td><td style='border: 1px solid #dddddd'>1</td><td style='border: 1px solid #dddddd'>real_estate</td><td style='border: 1px solid #dddddd'>1_to_4</td><td style='border: 1px solid #dddddd'>[0.9699113373984984, 0.030088662601501545]</td></tr><tr><td style='border: 1px solid #dddddd'></td><td style='border: 1px solid #dddddd'>5461</td><td style='border: 1px solid #dddddd'>ce94d7419c28c598543294fbc4f5f864-100</td><td style='border: 1px solid #dddddd'>4</td><td style='border: 1px solid #dddddd'>unknown</td><td style='border: 1px solid #dddddd'>2024-08-07T09:59:07.624427Z</td><td style='border: 1px solid #dddddd'>0.6003104464290147</td><td style='border: 1px solid #dddddd'>no_checking</td><td style='border: 1px solid #dddddd'>appliances</td><td style='border: 1px solid #dddddd'>No Risk</td><td style='border: 1px solid #dddddd'>skilled</td><td style='border: 1px solid #dddddd'>none</td><td style='border: 1px solid #dddddd'>none</td><td style='border: 1px solid #dddddd'>36</td><td style='border: 1px solid #dddddd'>43</td><td style='border: 1px solid #dddddd'>prior_payments_delayed</td><td style='border: 1px solid #dddddd'>4</td><td style='border: 1px solid #dddddd'>yes</td><td style='border: 1px solid #dddddd'>free</td><td style='border: 1px solid #dddddd'>2</td><td style='border: 1px solid #dddddd'>edc1e06c-7bf9-4522-8893-05a919a35ca0</td><td style='border: 1px solid #dddddd'>yes</td><td style='border: 1px solid #dddddd'>male</td><td style='border: 1px solid #dddddd'>2</td><td style='border: 1px solid #dddddd'>car_other</td><td style='border: 1px solid #dddddd'>4_to_7</td><td style='border: 1px solid #dddddd'>[0.6003104464290147, 0.39968955357098535]</td></tr><tr><td style='border: 1px solid #dddddd'></td><td style='border: 1px solid #dddddd'>2885</td><td style='border: 1px solid #dddddd'>ce94d7419c28c598543294fbc4f5f864-101</td><td style='border: 1px solid #dddddd'>3</td><td style='border: 1px solid #dddddd'>less_100</td><td style='border: 1px solid #dddddd'>2024-08-07T09:59:07.624427Z</td><td style='border: 1px solid #dddddd'>0.8271092517948442</td><td style='border: 1px solid #dddddd'>0_to_200</td><td style='border: 1px solid #dddddd'>car_used</td><td style='border: 1px solid #dddddd'>No Risk</td><td style='border: 1px solid #dddddd'>skilled</td><td style='border: 1px solid #dddddd'>none</td><td style='border: 1px solid #dddddd'>none</td><td style='border: 1px solid #dddddd'>11</td><td style='border: 1px solid #dddddd'>42</td><td style='border: 1px solid #dddddd'>prior_payments_delayed</td><td style='border: 1px solid #dddddd'>2</td><td style='border: 1px solid #dddddd'>yes</td><td style='border: 1px solid #dddddd'>own</td><td style='border: 1px solid #dddddd'>2</td><td style='border: 1px solid #dddddd'>edc1e06c-7bf9-4522-8893-05a919a35ca0</td><td style='border: 1px solid #dddddd'>none</td><td style='border: 1px solid #dddddd'>female</td><td style='border: 1px solid #dddddd'>1</td><td style='border: 1px solid #dddddd'>car_other</td><td style='border: 1px solid #dddddd'>less_1</td><td style='border: 1px solid #dddddd'>[0.8271092517948442, 0.17289074820515588]</td></tr><tr><td style='border: 1px solid #dddddd'></td><td style='border: 1px solid #dddddd'>250</td><td style='border: 1px solid #dddddd'>ce94d7419c28c598543294fbc4f5f864-102</td><td style='border: 1px solid #dddddd'>2</td><td style='border: 1px solid #dddddd'>less_100</td><td style='border: 1px solid #dddddd'>2024-08-07T09:59:07.624427Z</td><td style='border: 1px solid #dddddd'>0.98649525682623</td><td style='border: 1px solid #dddddd'>less_0</td><td style='border: 1px solid #dddddd'>car_new</td><td style='border: 1px solid #dddddd'>No Risk</td><td style='border: 1px solid #dddddd'>skilled</td><td style='border: 1px solid #dddddd'>none</td><td style='border: 1px solid #dddddd'>none</td><td style='border: 1px solid #dddddd'>6</td><td style='border: 1px solid #dddddd'>19</td><td style='border: 1px solid #dddddd'>all_credits_paid_back</td><td style='border: 1px solid #dddddd'>2</td><td style='border: 1px solid #dddddd'>yes</td><td style='border: 1px solid #dddddd'>own</td><td style='border: 1px solid #dddddd'>1</td><td style='border: 1px solid #dddddd'>edc1e06c-7bf9-4522-8893-05a919a35ca0</td><td style='border: 1px solid #dddddd'>none</td><td style='border: 1px solid #dddddd'>female</td><td style='border: 1px solid #dddddd'>1</td><td style='border: 1px solid #dddddd'>real_estate</td><td style='border: 1px solid #dddddd'>less_1</td><td style='border: 1px solid #dddddd'>[0.98649525682623, 0.01350474317377005]</td></tr><tr><td style='border: 1px solid #dddddd'></td><td style='border: 1px solid #dddddd'>7607</td><td style='border: 1px solid #dddddd'>ce94d7419c28c598543294fbc4f5f864-103</td><td style='border: 1px solid #dddddd'>4</td><td style='border: 1px solid #dddddd'>500_to_1000</td><td style='border: 1px solid #dddddd'>2024-08-07T09:59:07.624427Z</td><td style='border: 1px solid #dddddd'>0.840687670958204</td><td style='border: 1px solid #dddddd'>no_checking</td><td style='border: 1px solid #dddddd'>appliances</td><td style='border: 1px solid #dddddd'>Risk</td><td style='border: 1px solid #dddddd'>management_self-employed</td><td style='border: 1px solid #dddddd'>none</td><td style='border: 1px solid #dddddd'>co-applicant</td><td style='border: 1px solid #dddddd'>29</td><td style='border: 1px solid #dddddd'>31</td><td style='border: 1px solid #dddddd'>outstanding_credit</td><td style='border: 1px solid #dddddd'>3</td><td style='border: 1px solid #dddddd'>yes</td><td style='border: 1px solid #dddddd'>free</td><td style='border: 1px solid #dddddd'>2</td><td style='border: 1px solid #dddddd'>edc1e06c-7bf9-4522-8893-05a919a35ca0</td><td style='border: 1px solid #dddddd'>none</td><td style='border: 1px solid #dddddd'>male</td><td style='border: 1px solid #dddddd'>1</td><td style='border: 1px solid #dddddd'>car_other</td><td style='border: 1px solid #dddddd'>greater_7</td><td style='border: 1px solid #dddddd'>[0.15931232904179604, 0.840687670958204]</td></tr><tr><td style='border: 1px solid #dddddd'></td><td style='border: 1px solid #dddddd'>4513</td><td style='border: 1px solid #dddddd'>ce94d7419c28c598543294fbc4f5f864-104</td><td style='border: 1px solid #dddddd'>3</td><td style='border: 1px solid #dddddd'>less_100</td><td style='border: 1px solid #dddddd'>2024-08-07T09:59:07.624427Z</td><td style='border: 1px solid #dddddd'>0.9772421560353008</td><td style='border: 1px solid #dddddd'>less_0</td><td style='border: 1px solid #dddddd'>furniture</td><td style='border: 1px solid #dddddd'>No Risk</td><td style='border: 1px solid #dddddd'>unskilled</td><td style='border: 1px solid #dddddd'>bank</td><td style='border: 1px solid #dddddd'>none</td><td style='border: 1px solid #dddddd'>13</td><td style='border: 1px solid #dddddd'>22</td><td style='border: 1px solid #dddddd'>all_credits_paid_back</td><td style='border: 1px solid #dddddd'>2</td><td style='border: 1px solid #dddddd'>yes</td><td style='border: 1px solid #dddddd'>rent</td><td style='border: 1px solid #dddddd'>1</td><td style='border: 1px solid #dddddd'>edc1e06c-7bf9-4522-8893-05a919a35ca0</td><td style='border: 1px solid #dddddd'>none</td><td style='border: 1px solid #dddddd'>female</td><td style='border: 1px solid #dddddd'>1</td><td style='border: 1px solid #dddddd'>savings_insurance</td><td style='border: 1px solid #dddddd'>less_1</td><td style='border: 1px solid #dddddd'>[0.9772421560353008, 0.0227578439646992]</td></tr><tr><td style='border: 1px solid #dddddd'></td><td style='border: 1px solid #dddddd'>3596</td><td style='border: 1px solid #dddddd'>ce94d7419c28c598543294fbc4f5f864-105</td><td style='border: 1px solid #dddddd'>2</td><td style='border: 1px solid #dddddd'>500_to_1000</td><td style='border: 1px solid #dddddd'>2024-08-07T09:59:07.624427Z</td><td style='border: 1px solid #dddddd'>0.9881226863409517</td><td style='border: 1px solid #dddddd'>0_to_200</td><td style='border: 1px solid #dddddd'>furniture</td><td style='border: 1px solid #dddddd'>No Risk</td><td style='border: 1px solid #dddddd'>skilled</td><td style='border: 1px solid #dddddd'>none</td><td style='border: 1px solid #dddddd'>none</td><td style='border: 1px solid #dddddd'>26</td><td style='border: 1px solid #dddddd'>23</td><td style='border: 1px solid #dddddd'>all_credits_paid_back</td><td style='border: 1px solid #dddddd'>2</td><td style='border: 1px solid #dddddd'>yes</td><td style='border: 1px solid #dddddd'>own</td><td style='border: 1px solid #dddddd'>1</td><td style='border: 1px solid #dddddd'>edc1e06c-7bf9-4522-8893-05a919a35ca0</td><td style='border: 1px solid #dddddd'>none</td><td style='border: 1px solid #dddddd'>male</td><td style='border: 1px solid #dddddd'>1</td><td style='border: 1px solid #dddddd'>real_estate</td><td style='border: 1px solid #dddddd'>1_to_4</td><td style='border: 1px solid #dddddd'>[0.9881226863409517, 0.011877313659048358]</td></tr><tr><td style='border: 1px solid #dddddd'></td><td style='border: 1px solid #dddddd'>250</td><td style='border: 1px solid #dddddd'>ce94d7419c28c598543294fbc4f5f864-106</td><td style='border: 1px solid #dddddd'>2</td><td style='border: 1px solid #dddddd'>less_100</td><td style='border: 1px solid #dddddd'>2024-08-07T09:59:07.624427Z</td><td style='border: 1px solid #dddddd'>0.8937549052583218</td><td style='border: 1px solid #dddddd'>less_0</td><td style='border: 1px solid #dddddd'>furniture</td><td style='border: 1px solid #dddddd'>No Risk</td><td style='border: 1px solid #dddddd'>skilled</td><td style='border: 1px solid #dddddd'>none</td><td style='border: 1px solid #dddddd'>none</td><td style='border: 1px solid #dddddd'>19</td><td style='border: 1px solid #dddddd'>29</td><td style='border: 1px solid #dddddd'>credits_paid_to_date</td><td style='border: 1px solid #dddddd'>2</td><td style='border: 1px solid #dddddd'>yes</td><td style='border: 1px solid #dddddd'>own</td><td style='border: 1px solid #dddddd'>1</td><td style='border: 1px solid #dddddd'>edc1e06c-7bf9-4522-8893-05a919a35ca0</td><td style='border: 1px solid #dddddd'>none</td><td style='border: 1px solid #dddddd'>female</td><td style='border: 1px solid #dddddd'>1</td><td style='border: 1px solid #dddddd'>savings_insurance</td><td style='border: 1px solid #dddddd'>less_1</td><td style='border: 1px solid #dddddd'>[0.8937549052583218, 0.10624509474167822]</td></tr><tr><td style='border: 1px solid #dddddd'></td><td style='border: 1px solid #dddddd'>250</td><td style='border: 1px solid #dddddd'>ce94d7419c28c598543294fbc4f5f864-107</td><td style='border: 1px solid #dddddd'>2</td><td style='border: 1px solid #dddddd'>100_to_500</td><td style='border: 1px solid #dddddd'>2024-08-07T09:59:07.624427Z</td><td style='border: 1px solid #dddddd'>0.9710072852398339</td><td style='border: 1px solid #dddddd'>less_0</td><td style='border: 1px solid #dddddd'>car_new</td><td style='border: 1px solid #dddddd'>No Risk</td><td style='border: 1px solid #dddddd'>skilled</td><td style='border: 1px solid #dddddd'>stores</td><td style='border: 1px solid #dddddd'>none</td><td style='border: 1px solid #dddddd'>11</td><td style='border: 1px solid #dddddd'>21</td><td style='border: 1px solid #dddddd'>prior_payments_delayed</td><td style='border: 1px solid #dddddd'>1</td><td style='border: 1px solid #dddddd'>yes</td><td style='border: 1px solid #dddddd'>own</td><td style='border: 1px solid #dddddd'>1</td><td style='border: 1px solid #dddddd'>edc1e06c-7bf9-4522-8893-05a919a35ca0</td><td style='border: 1px solid #dddddd'>none</td><td style='border: 1px solid #dddddd'>female</td><td style='border: 1px solid #dddddd'>1</td><td style='border: 1px solid #dddddd'>real_estate</td><td style='border: 1px solid #dddddd'>1_to_4</td><td style='border: 1px solid #dddddd'>[0.9710072852398339, 0.028992714760166103]</td></tr>\n",
       "            </table>\n",
       "        </body>\n",
       "        </HTML>"
      ],
      "text/plain": [
       "<IPython.core.display.HTML object>"
      ]
     },
     "metadata": {},
     "output_type": "display_data"
    }
   ],
   "source": [
    "wos_client.data_sets.show_records(payload_data_set_id)"
   ]
  },
  {
   "cell_type": "markdown",
   "metadata": {
    "tags": [
     "parameters"
    ]
   },
   "source": [
    "### Enable and run fairness monitoring"
   ]
  },
  {
   "cell_type": "code",
   "execution_count": 51,
   "metadata": {},
   "outputs": [
    {
     "name": "stdout",
     "output_type": "stream",
     "text": [
      "\n",
      "\n",
      "===================================================================================\n",
      "\n",
      " Waiting for end of monitor instance creation da94306a-8542-4b49-b04d-f27b7ae77ec1 \n",
      "\n",
      "===================================================================================\n",
      "\n",
      "\n",
      "\n",
      "active\n",
      "\n",
      "---------------------------------------\n",
      " Monitor instance successfully created \n",
      "---------------------------------------\n",
      "\n",
      "\n"
     ]
    }
   ],
   "source": [
    "target = Target(\n",
    "    target_type=TargetTypes.SUBSCRIPTION,\n",
    "    target_id=subscription_id\n",
    "\n",
    ")\n",
    "parameters = {\n",
    "    \"features\": [\n",
    "        {\"feature\": \"Sex_female\",\n",
    "         \"majority\": [[0,0]],\n",
    "         \"minority\": [[1,1]],\n",
    "         \"threshold\": 0.95\n",
    "         },\n",
    "        {\"feature\": \"Age\",\n",
    "         \"majority\": [[26, 75]],\n",
    "         \"minority\": [[18, 25]],\n",
    "         \"threshold\": 0.95\n",
    "         }\n",
    "    ],\n",
    "    \"favourable_class\": [0],\n",
    "    \"unfavourable_class\": [1],\n",
    "    \"min_records\": 30\n",
    "}\n",
    "\n",
    "fairness_monitor_details = wos_client.monitor_instances.create(\n",
    "    data_mart_id=data_mart_id,\n",
    "    background_mode=False,\n",
    "    monitor_definition_id=wos_client.monitor_definitions.MONITORS.FAIRNESS.ID,\n",
    "    target=target,\n",
    "    parameters=parameters).result\n",
    "fairness_monitor_instance_id =fairness_monitor_details.metadata.id\n",
    "fairness_monitor_instance_id"
   ]
  },
  {
   "cell_type": "markdown",
   "metadata": {},
   "source": [
    "### Run fairness monitor"
   ]
  },
  {
   "cell_type": "code",
   "execution_count": 52,
   "metadata": {},
   "outputs": [
    {
     "data": {
      "text/html": [
       "<HTML>\n",
       "        <body>\n",
       "            <h3>da94306a-8542-4b49-b04d-f27b7ae77ec1 Monitor Runs Metrics from: 2024-07-31 16:04:09.167234  till: 2024-08-07 16:04:09.167243</h3>\n",
       "            <table style='border: 1px solid #dddddd; font-family: Courier'>\n",
       "                <th style='border: 1px solid #dddddd'>ts</th><th style='border: 1px solid #dddddd'>id</th><th style='border: 1px solid #dddddd'>measurement_id</th><th style='border: 1px solid #dddddd'>value</th><th style='border: 1px solid #dddddd'>lower_limit</th><th style='border: 1px solid #dddddd'>upper_limit</th><th style='border: 1px solid #dddddd'>tags</th><th style='border: 1px solid #dddddd'>monitor_definition_id</th><th style='border: 1px solid #dddddd'>monitor_instance_id</th><th style='border: 1px solid #dddddd'>run_id</th><th style='border: 1px solid #dddddd'>target_type</th><th style='border: 1px solid #dddddd'>target_id</th>\n",
       "                <tr><td style='border: 1px solid #dddddd'>2024-08-07 09:59:24.165078+00:00</td><td style='border: 1px solid #dddddd'>fairness_value</td><td style='border: 1px solid #dddddd'>c9333fb3-82cd-431d-9eb5-65bd64c9f7bd</td><td style='border: 1px solid #dddddd'>82.716</td><td style='border: 1px solid #dddddd'>80.0</td><td style='border: 1px solid #dddddd'>None</td><td style='border: 1px solid #dddddd'>['feature:Sex', 'fairness_metric_type:fairness', 'feature_value:female']</td><td style='border: 1px solid #dddddd'>fairness</td><td style='border: 1px solid #dddddd'>da94306a-8542-4b49-b04d-f27b7ae77ec1</td><td style='border: 1px solid #dddddd'>aff300d0-f16a-45cc-8201-a00790c1df94</td><td style='border: 1px solid #dddddd'>subscription</td><td style='border: 1px solid #dddddd'>ad19393e-2078-4316-ac19-7de0ddfd7937</td></tr><tr><td style='border: 1px solid #dddddd'>2024-08-07 09:59:24.165078+00:00</td><td style='border: 1px solid #dddddd'>fairness_value</td><td style='border: 1px solid #dddddd'>c9333fb3-82cd-431d-9eb5-65bd64c9f7bd</td><td style='border: 1px solid #dddddd'>100.0</td><td style='border: 1px solid #dddddd'>80.0</td><td style='border: 1px solid #dddddd'>None</td><td style='border: 1px solid #dddddd'>['feature:Age', 'fairness_metric_type:fairness', 'feature_value:18-25']</td><td style='border: 1px solid #dddddd'>fairness</td><td style='border: 1px solid #dddddd'>da94306a-8542-4b49-b04d-f27b7ae77ec1</td><td style='border: 1px solid #dddddd'>aff300d0-f16a-45cc-8201-a00790c1df94</td><td style='border: 1px solid #dddddd'>subscription</td><td style='border: 1px solid #dddddd'>ad19393e-2078-4316-ac19-7de0ddfd7937</td></tr>\n",
       "            </table>\n",
       "        </body>\n",
       "        </HTML>"
      ],
      "text/plain": [
       "<IPython.core.display.HTML object>"
      ]
     },
     "metadata": {},
     "output_type": "display_data"
    }
   ],
   "source": [
    "time.sleep(20)\n",
    "#Note: When you create fairness monitor, initial run is also created\n",
    "wos_client.monitor_instances.show_metrics(monitor_instance_id=fairness_monitor_instance_id)"
   ]
  },
  {
   "cell_type": "markdown",
   "metadata": {},
   "source": [
    "### Enable and run Drift monitoring"
   ]
  },
  {
   "cell_type": "markdown",
   "metadata": {},
   "source": [
    "#### Drift requires a trained model to be uploaded manually for AWS. You can train, create and download a drift detection model using template given ( check for Drift detection model generation) [here](https://github.com/IBM/watson-openscale-samples/blob/main/training%20statistics/4.5/training_statistics_notebook.ipynb)"
   ]
  },
  {
   "cell_type": "code",
   "execution_count": 53,
   "metadata": {},
   "outputs": [
    {
     "name": "stdout",
     "output_type": "stream",
     "text": [
      "zsh:1: no matches found: https://github.com/IBM/watson-openscale-samples/blob/main/IBM%20Cloud/AWS%20Sagemaker/assets/models/credit_risk/aws_creditrisk_drift_detection_model.tar.gz?raw=true\n"
     ]
    }
   ],
   "source": [
    "!rm -rf creditrisk_aws_drift_detection_model.tar.gz\n",
    "!wget -O creditrisk_aws_drift_detection_model.tar.gz https://github.com/IBM/watson-openscale-samples/blob/main/IBM%20Cloud/AWS%20Sagemaker/assets/models/credit_risk/aws_creditrisk_drift_detection_model.tar.gz?raw=true "
   ]
  },
  {
   "cell_type": "code",
   "execution_count": 54,
   "metadata": {},
   "outputs": [],
   "source": [
    "wos_client.monitor_instances.upload_drift_model(\n",
    "        model_path='creditrisk_aws_drift_detection_model.tar.gz',\n",
    "        data_mart_id=data_mart_id,\n",
    "        subscription_id=subscription_id\n",
    "     )"
   ]
  },
  {
   "cell_type": "code",
   "execution_count": 55,
   "metadata": {},
   "outputs": [],
   "source": [
    "monitor_instances = wos_client.monitor_instances.list().result.monitor_instances\n",
    "for monitor_instance in monitor_instances:\n",
    "    monitor_def_id=monitor_instance.entity.monitor_definition_id\n",
    "    if monitor_def_id == \"drift\" and monitor_instance.entity.target.target_id == subscription_id:\n",
    "        wos_client.monitor_instances.delete(monitor_instance.metadata.id)\n",
    "        print('Deleted existing drift monitor instance with id: ', monitor_instance.metadata.id)"
   ]
  },
  {
   "cell_type": "code",
   "execution_count": 56,
   "metadata": {},
   "outputs": [
    {
     "name": "stdout",
     "output_type": "stream",
     "text": [
      "\n",
      "\n",
      "===================================================================================\n",
      "\n",
      " Waiting for end of monitor instance creation a62debeb-03ad-4841-98ff-32a8c7b10c8e \n",
      "\n",
      "===================================================================================\n",
      "\n",
      "\n",
      "\n",
      "active\n",
      "\n",
      "---------------------------------------\n",
      " Monitor instance successfully created \n",
      "---------------------------------------\n",
      "\n",
      "\n"
     ]
    },
    {
     "data": {
      "text/plain": [
       "'a62debeb-03ad-4841-98ff-32a8c7b10c8e'"
      ]
     },
     "execution_count": 63,
     "metadata": {},
     "output_type": "execute_result"
    }
   ],
   "source": [
    "target = Target(\n",
    "    target_type=TargetTypes.SUBSCRIPTION,\n",
    "    target_id=subscription_id\n",
    "\n",
    ")\n",
    "parameters = {\n",
    "    \"min_samples\": 30,\n",
    "    \"drift_threshold\": 0.1,\n",
    "    \"train_drift_model\": False,\n",
    "    \"enable_model_drift\": True,\n",
    "    \"enable_data_drift\": True\n",
    "}\n",
    "\n",
    "drift_monitor_details = wos_client.monitor_instances.create(\n",
    "    data_mart_id=data_mart_id,\n",
    "    background_mode=False,\n",
    "    monitor_definition_id=wos_client.monitor_definitions.MONITORS.DRIFT.ID,\n",
    "    target=target,\n",
    "    parameters=parameters\n",
    ").result\n",
    "\n",
    "drift_monitor_instance_id = drift_monitor_details.metadata.id\n",
    "drift_monitor_instance_id"
   ]
  },
  {
   "cell_type": "code",
   "execution_count": 57,
   "metadata": {},
   "outputs": [
    {
     "name": "stdout",
     "output_type": "stream",
     "text": [
      "\n",
      "\n",
      "========================================================================\n",
      "\n",
      " Waiting for end of monitoring run aff300d0-f16a-45cc-8201-a00790c1df94 \n",
      "\n",
      "========================================================================\n",
      "\n",
      "\n",
      "\n",
      "running.\n",
      "finished\n",
      "\n",
      "---------------------------\n",
      " Successfully finished run \n",
      "---------------------------\n",
      "\n",
      "\n"
     ]
    }
   ],
   "source": [
    "drift_run_details = wos_client.monitor_instances.run(monitor_instance_id=drift_monitor_instance_id, background_mode=False)"
   ]
  },
  {
   "cell_type": "code",
   "execution_count": 58,
   "metadata": {},
   "outputs": [
    {
     "data": {
      "text/html": [
       "<HTML>\n",
       "        <body>\n",
       "            <h3>505f727e-fa36-473e-91a5-e7f21cbabfc7 Monitor Runs Metrics from: 2024-07-31 16:07:51.953741  till: 2024-08-07 16:07:51.953771</h3>\n",
       "            <table style='border: 1px solid #dddddd; font-family: Courier'>\n",
       "                <th style='border: 1px solid #dddddd'>ts</th><th style='border: 1px solid #dddddd'>id</th><th style='border: 1px solid #dddddd'>measurement_id</th><th style='border: 1px solid #dddddd'>value</th><th style='border: 1px solid #dddddd'>lower_limit</th><th style='border: 1px solid #dddddd'>upper_limit</th><th style='border: 1px solid #dddddd'>tags</th><th style='border: 1px solid #dddddd'>monitor_definition_id</th><th style='border: 1px solid #dddddd'>monitor_instance_id</th><th style='border: 1px solid #dddddd'>run_id</th><th style='border: 1px solid #dddddd'>target_type</th><th style='border: 1px solid #dddddd'>target_id</th>\n",
       "                <tr><td style='border: 1px solid #dddddd'>2024-08-07 09:59:46.400114+00:00</td><td style='border: 1px solid #dddddd'>data_drift_magnitude</td><td style='border: 1px solid #dddddd'>2080115b-d1d8-4bc5-aa20-56251ca634e5</td><td style='border: 1px solid #dddddd'>0.0673076923076923</td><td style='border: 1px solid #dddddd'>None</td><td style='border: 1px solid #dddddd'>0.1</td><td style='border: 1px solid #dddddd'>[]</td><td style='border: 1px solid #dddddd'>drift</td><td style='border: 1px solid #dddddd'>505f727e-fa36-473e-91a5-e7f21cbabfc7</td><td style='border: 1px solid #dddddd'>bdbf70f7-e301-497c-a135-c49a4dec9d0b</td><td style='border: 1px solid #dddddd'>subscription</td><td style='border: 1px solid #dddddd'>ad19393e-2078-4316-ac19-7de0ddfd7937</td></tr>\n",
       "            </table>\n",
       "        </body>\n",
       "        </HTML>"
      ],
      "text/plain": [
       "<IPython.core.display.HTML object>"
      ]
     },
     "metadata": {},
     "output_type": "display_data"
    }
   ],
   "source": [
    "time.sleep(5)\n",
    "wos_client.monitor_instances.show_metrics(monitor_instance_id=drift_monitor_instance_id)"
   ]
  },
  {
   "cell_type": "markdown",
   "metadata": {},
   "source": [
    "### Enable Explainability and run explanation on sample record"
   ]
  },
  {
   "cell_type": "code",
   "execution_count": 59,
   "metadata": {},
   "outputs": [
    {
     "name": "stdout",
     "output_type": "stream",
     "text": [
      "\n",
      "\n",
      "========================================================================\n",
      "\n",
      " Waiting for end of monitoring run bdbf70f7-e301-497c-a135-c49a4dec9d0b \n",
      "\n",
      "========================================================================\n",
      "\n",
      "\n",
      "\n",
      "finished\n",
      "\n",
      "---------------------------\n",
      " Successfully finished run \n",
      "---------------------------\n",
      "\n",
      "\n"
     ]
    }
   ],
   "source": [
    "target = Target(\n",
    "    target_type=TargetTypes.SUBSCRIPTION,\n",
    "    target_id=subscription_id\n",
    ")\n",
    "parameters = {\n",
    "    \"enabled\": True\n",
    "}\n",
    "explainability_details = wos_client.monitor_instances.create(\n",
    "    data_mart_id=data_mart_id,\n",
    "    background_mode=False,\n",
    "    monitor_definition_id=wos_client.monitor_definitions.MONITORS.EXPLAINABILITY.ID,\n",
    "    target=target,\n",
    "    parameters=parameters\n",
    ").result"
   ]
  },
  {
   "cell_type": "markdown",
   "metadata": {},
   "source": [
    "Getting a `transaction_id` to run explanation on"
   ]
  },
  {
   "cell_type": "code",
   "execution_count": 60,
   "metadata": {},
   "outputs": [
    {
     "name": "stdout",
     "output_type": "stream",
     "text": [
      "021be1fb-c3a0-49dc-a841-8edd11749f70\n"
     ]
    }
   ],
   "source": [
    "explainability_monitor_id = explainability_details.metadata.id\n",
    "explainability_monitor_id"
   ]
  },
  {
   "cell_type": "code",
   "execution_count": 61,
   "metadata": {},
   "outputs": [
    {
     "data": {
      "text/html": [
       "<HTML>\n",
       "        <body>\n",
       "            <h3>Data Set 6405b132-9c0e-4685-bf12-2d97d80f76f2 Records</h3>\n",
       "            <table style='border: 1px solid #dddddd; font-family: Courier'>\n",
       "                <th style='border: 1px solid #dddddd'>asset_revision</th><th style='border: 1px solid #dddddd'>LoanAmount</th><th style='border: 1px solid #dddddd'>scoring_id</th><th style='border: 1px solid #dddddd'>InstallmentPercent</th><th style='border: 1px solid #dddddd'>ExistingSavings</th><th style='border: 1px solid #dddddd'>scoring_timestamp</th><th style='border: 1px solid #dddddd'>prediction_probability</th><th style='border: 1px solid #dddddd'>CheckingStatus</th><th style='border: 1px solid #dddddd'>LoanPurpose</th><th style='border: 1px solid #dddddd'>prediction</th><th style='border: 1px solid #dddddd'>Job</th><th style='border: 1px solid #dddddd'>InstallmentPlans</th><th style='border: 1px solid #dddddd'>OthersOnLoan</th><th style='border: 1px solid #dddddd'>LoanDuration</th><th style='border: 1px solid #dddddd'>Age</th><th style='border: 1px solid #dddddd'>CreditHistory</th><th style='border: 1px solid #dddddd'>CurrentResidenceDuration</th><th style='border: 1px solid #dddddd'>ForeignWorker</th><th style='border: 1px solid #dddddd'>Housing</th><th style='border: 1px solid #dddddd'>ExistingCreditsCount</th><th style='border: 1px solid #dddddd'>deployment_id</th><th style='border: 1px solid #dddddd'>Telephone</th><th style='border: 1px solid #dddddd'>Sex</th><th style='border: 1px solid #dddddd'>Dependents</th><th style='border: 1px solid #dddddd'>OwnsProperty</th><th style='border: 1px solid #dddddd'>EmploymentDuration</th><th style='border: 1px solid #dddddd'>probability</th>\n",
       "                <tr><td style='border: 1px solid #dddddd'></td><td style='border: 1px solid #dddddd'>250</td><td style='border: 1px solid #dddddd'>ce94d7419c28c598543294fbc4f5f864-1</td><td style='border: 1px solid #dddddd'>1</td><td style='border: 1px solid #dddddd'>less_100</td><td style='border: 1px solid #dddddd'>2024-08-07T09:59:07.624427Z</td><td style='border: 1px solid #dddddd'>0.971782546473715</td><td style='border: 1px solid #dddddd'>less_0</td><td style='border: 1px solid #dddddd'>car_new</td><td style='border: 1px solid #dddddd'>No Risk</td><td style='border: 1px solid #dddddd'>skilled</td><td style='border: 1px solid #dddddd'>stores</td><td style='border: 1px solid #dddddd'>none</td><td style='border: 1px solid #dddddd'>4</td><td style='border: 1px solid #dddddd'>19</td><td style='border: 1px solid #dddddd'>all_credits_paid_back</td><td style='border: 1px solid #dddddd'>2</td><td style='border: 1px solid #dddddd'>yes</td><td style='border: 1px solid #dddddd'>rent</td><td style='border: 1px solid #dddddd'>1</td><td style='border: 1px solid #dddddd'>edc1e06c-7bf9-4522-8893-05a919a35ca0</td><td style='border: 1px solid #dddddd'>none</td><td style='border: 1px solid #dddddd'>female</td><td style='border: 1px solid #dddddd'>1</td><td style='border: 1px solid #dddddd'>savings_insurance</td><td style='border: 1px solid #dddddd'>unemployed</td><td style='border: 1px solid #dddddd'>[0.971782546473715, 0.028217453526285]</td></tr><tr><td style='border: 1px solid #dddddd'></td><td style='border: 1px solid #dddddd'>250</td><td style='border: 1px solid #dddddd'>ce94d7419c28c598543294fbc4f5f864-10</td><td style='border: 1px solid #dddddd'>2</td><td style='border: 1px solid #dddddd'>100_to_500</td><td style='border: 1px solid #dddddd'>2024-08-07T09:59:07.624427Z</td><td style='border: 1px solid #dddddd'>0.9699113373984984</td><td style='border: 1px solid #dddddd'>0_to_200</td><td style='border: 1px solid #dddddd'>car_new</td><td style='border: 1px solid #dddddd'>No Risk</td><td style='border: 1px solid #dddddd'>skilled</td><td style='border: 1px solid #dddddd'>stores</td><td style='border: 1px solid #dddddd'>none</td><td style='border: 1px solid #dddddd'>15</td><td style='border: 1px solid #dddddd'>19</td><td style='border: 1px solid #dddddd'>credits_paid_to_date</td><td style='border: 1px solid #dddddd'>2</td><td style='border: 1px solid #dddddd'>yes</td><td style='border: 1px solid #dddddd'>rent</td><td style='border: 1px solid #dddddd'>1</td><td style='border: 1px solid #dddddd'>edc1e06c-7bf9-4522-8893-05a919a35ca0</td><td style='border: 1px solid #dddddd'>none</td><td style='border: 1px solid #dddddd'>male</td><td style='border: 1px solid #dddddd'>1</td><td style='border: 1px solid #dddddd'>real_estate</td><td style='border: 1px solid #dddddd'>1_to_4</td><td style='border: 1px solid #dddddd'>[0.9699113373984984, 0.030088662601501545]</td></tr><tr><td style='border: 1px solid #dddddd'></td><td style='border: 1px solid #dddddd'>5461</td><td style='border: 1px solid #dddddd'>ce94d7419c28c598543294fbc4f5f864-100</td><td style='border: 1px solid #dddddd'>4</td><td style='border: 1px solid #dddddd'>unknown</td><td style='border: 1px solid #dddddd'>2024-08-07T09:59:07.624427Z</td><td style='border: 1px solid #dddddd'>0.6003104464290147</td><td style='border: 1px solid #dddddd'>no_checking</td><td style='border: 1px solid #dddddd'>appliances</td><td style='border: 1px solid #dddddd'>No Risk</td><td style='border: 1px solid #dddddd'>skilled</td><td style='border: 1px solid #dddddd'>none</td><td style='border: 1px solid #dddddd'>none</td><td style='border: 1px solid #dddddd'>36</td><td style='border: 1px solid #dddddd'>43</td><td style='border: 1px solid #dddddd'>prior_payments_delayed</td><td style='border: 1px solid #dddddd'>4</td><td style='border: 1px solid #dddddd'>yes</td><td style='border: 1px solid #dddddd'>free</td><td style='border: 1px solid #dddddd'>2</td><td style='border: 1px solid #dddddd'>edc1e06c-7bf9-4522-8893-05a919a35ca0</td><td style='border: 1px solid #dddddd'>yes</td><td style='border: 1px solid #dddddd'>male</td><td style='border: 1px solid #dddddd'>2</td><td style='border: 1px solid #dddddd'>car_other</td><td style='border: 1px solid #dddddd'>4_to_7</td><td style='border: 1px solid #dddddd'>[0.6003104464290147, 0.39968955357098535]</td></tr><tr><td style='border: 1px solid #dddddd'></td><td style='border: 1px solid #dddddd'>2885</td><td style='border: 1px solid #dddddd'>ce94d7419c28c598543294fbc4f5f864-101</td><td style='border: 1px solid #dddddd'>3</td><td style='border: 1px solid #dddddd'>less_100</td><td style='border: 1px solid #dddddd'>2024-08-07T09:59:07.624427Z</td><td style='border: 1px solid #dddddd'>0.8271092517948442</td><td style='border: 1px solid #dddddd'>0_to_200</td><td style='border: 1px solid #dddddd'>car_used</td><td style='border: 1px solid #dddddd'>No Risk</td><td style='border: 1px solid #dddddd'>skilled</td><td style='border: 1px solid #dddddd'>none</td><td style='border: 1px solid #dddddd'>none</td><td style='border: 1px solid #dddddd'>11</td><td style='border: 1px solid #dddddd'>42</td><td style='border: 1px solid #dddddd'>prior_payments_delayed</td><td style='border: 1px solid #dddddd'>2</td><td style='border: 1px solid #dddddd'>yes</td><td style='border: 1px solid #dddddd'>own</td><td style='border: 1px solid #dddddd'>2</td><td style='border: 1px solid #dddddd'>edc1e06c-7bf9-4522-8893-05a919a35ca0</td><td style='border: 1px solid #dddddd'>none</td><td style='border: 1px solid #dddddd'>female</td><td style='border: 1px solid #dddddd'>1</td><td style='border: 1px solid #dddddd'>car_other</td><td style='border: 1px solid #dddddd'>less_1</td><td style='border: 1px solid #dddddd'>[0.8271092517948442, 0.17289074820515588]</td></tr><tr><td style='border: 1px solid #dddddd'></td><td style='border: 1px solid #dddddd'>250</td><td style='border: 1px solid #dddddd'>ce94d7419c28c598543294fbc4f5f864-102</td><td style='border: 1px solid #dddddd'>2</td><td style='border: 1px solid #dddddd'>less_100</td><td style='border: 1px solid #dddddd'>2024-08-07T09:59:07.624427Z</td><td style='border: 1px solid #dddddd'>0.98649525682623</td><td style='border: 1px solid #dddddd'>less_0</td><td style='border: 1px solid #dddddd'>car_new</td><td style='border: 1px solid #dddddd'>No Risk</td><td style='border: 1px solid #dddddd'>skilled</td><td style='border: 1px solid #dddddd'>none</td><td style='border: 1px solid #dddddd'>none</td><td style='border: 1px solid #dddddd'>6</td><td style='border: 1px solid #dddddd'>19</td><td style='border: 1px solid #dddddd'>all_credits_paid_back</td><td style='border: 1px solid #dddddd'>2</td><td style='border: 1px solid #dddddd'>yes</td><td style='border: 1px solid #dddddd'>own</td><td style='border: 1px solid #dddddd'>1</td><td style='border: 1px solid #dddddd'>edc1e06c-7bf9-4522-8893-05a919a35ca0</td><td style='border: 1px solid #dddddd'>none</td><td style='border: 1px solid #dddddd'>female</td><td style='border: 1px solid #dddddd'>1</td><td style='border: 1px solid #dddddd'>real_estate</td><td style='border: 1px solid #dddddd'>less_1</td><td style='border: 1px solid #dddddd'>[0.98649525682623, 0.01350474317377005]</td></tr><tr><td style='border: 1px solid #dddddd'></td><td style='border: 1px solid #dddddd'>7607</td><td style='border: 1px solid #dddddd'>ce94d7419c28c598543294fbc4f5f864-103</td><td style='border: 1px solid #dddddd'>4</td><td style='border: 1px solid #dddddd'>500_to_1000</td><td style='border: 1px solid #dddddd'>2024-08-07T09:59:07.624427Z</td><td style='border: 1px solid #dddddd'>0.840687670958204</td><td style='border: 1px solid #dddddd'>no_checking</td><td style='border: 1px solid #dddddd'>appliances</td><td style='border: 1px solid #dddddd'>Risk</td><td style='border: 1px solid #dddddd'>management_self-employed</td><td style='border: 1px solid #dddddd'>none</td><td style='border: 1px solid #dddddd'>co-applicant</td><td style='border: 1px solid #dddddd'>29</td><td style='border: 1px solid #dddddd'>31</td><td style='border: 1px solid #dddddd'>outstanding_credit</td><td style='border: 1px solid #dddddd'>3</td><td style='border: 1px solid #dddddd'>yes</td><td style='border: 1px solid #dddddd'>free</td><td style='border: 1px solid #dddddd'>2</td><td style='border: 1px solid #dddddd'>edc1e06c-7bf9-4522-8893-05a919a35ca0</td><td style='border: 1px solid #dddddd'>none</td><td style='border: 1px solid #dddddd'>male</td><td style='border: 1px solid #dddddd'>1</td><td style='border: 1px solid #dddddd'>car_other</td><td style='border: 1px solid #dddddd'>greater_7</td><td style='border: 1px solid #dddddd'>[0.15931232904179604, 0.840687670958204]</td></tr><tr><td style='border: 1px solid #dddddd'></td><td style='border: 1px solid #dddddd'>4513</td><td style='border: 1px solid #dddddd'>ce94d7419c28c598543294fbc4f5f864-104</td><td style='border: 1px solid #dddddd'>3</td><td style='border: 1px solid #dddddd'>less_100</td><td style='border: 1px solid #dddddd'>2024-08-07T09:59:07.624427Z</td><td style='border: 1px solid #dddddd'>0.9772421560353008</td><td style='border: 1px solid #dddddd'>less_0</td><td style='border: 1px solid #dddddd'>furniture</td><td style='border: 1px solid #dddddd'>No Risk</td><td style='border: 1px solid #dddddd'>unskilled</td><td style='border: 1px solid #dddddd'>bank</td><td style='border: 1px solid #dddddd'>none</td><td style='border: 1px solid #dddddd'>13</td><td style='border: 1px solid #dddddd'>22</td><td style='border: 1px solid #dddddd'>all_credits_paid_back</td><td style='border: 1px solid #dddddd'>2</td><td style='border: 1px solid #dddddd'>yes</td><td style='border: 1px solid #dddddd'>rent</td><td style='border: 1px solid #dddddd'>1</td><td style='border: 1px solid #dddddd'>edc1e06c-7bf9-4522-8893-05a919a35ca0</td><td style='border: 1px solid #dddddd'>none</td><td style='border: 1px solid #dddddd'>female</td><td style='border: 1px solid #dddddd'>1</td><td style='border: 1px solid #dddddd'>savings_insurance</td><td style='border: 1px solid #dddddd'>less_1</td><td style='border: 1px solid #dddddd'>[0.9772421560353008, 0.0227578439646992]</td></tr><tr><td style='border: 1px solid #dddddd'></td><td style='border: 1px solid #dddddd'>3596</td><td style='border: 1px solid #dddddd'>ce94d7419c28c598543294fbc4f5f864-105</td><td style='border: 1px solid #dddddd'>2</td><td style='border: 1px solid #dddddd'>500_to_1000</td><td style='border: 1px solid #dddddd'>2024-08-07T09:59:07.624427Z</td><td style='border: 1px solid #dddddd'>0.9881226863409517</td><td style='border: 1px solid #dddddd'>0_to_200</td><td style='border: 1px solid #dddddd'>furniture</td><td style='border: 1px solid #dddddd'>No Risk</td><td style='border: 1px solid #dddddd'>skilled</td><td style='border: 1px solid #dddddd'>none</td><td style='border: 1px solid #dddddd'>none</td><td style='border: 1px solid #dddddd'>26</td><td style='border: 1px solid #dddddd'>23</td><td style='border: 1px solid #dddddd'>all_credits_paid_back</td><td style='border: 1px solid #dddddd'>2</td><td style='border: 1px solid #dddddd'>yes</td><td style='border: 1px solid #dddddd'>own</td><td style='border: 1px solid #dddddd'>1</td><td style='border: 1px solid #dddddd'>edc1e06c-7bf9-4522-8893-05a919a35ca0</td><td style='border: 1px solid #dddddd'>none</td><td style='border: 1px solid #dddddd'>male</td><td style='border: 1px solid #dddddd'>1</td><td style='border: 1px solid #dddddd'>real_estate</td><td style='border: 1px solid #dddddd'>1_to_4</td><td style='border: 1px solid #dddddd'>[0.9881226863409517, 0.011877313659048358]</td></tr><tr><td style='border: 1px solid #dddddd'></td><td style='border: 1px solid #dddddd'>250</td><td style='border: 1px solid #dddddd'>ce94d7419c28c598543294fbc4f5f864-106</td><td style='border: 1px solid #dddddd'>2</td><td style='border: 1px solid #dddddd'>less_100</td><td style='border: 1px solid #dddddd'>2024-08-07T09:59:07.624427Z</td><td style='border: 1px solid #dddddd'>0.8937549052583218</td><td style='border: 1px solid #dddddd'>less_0</td><td style='border: 1px solid #dddddd'>furniture</td><td style='border: 1px solid #dddddd'>No Risk</td><td style='border: 1px solid #dddddd'>skilled</td><td style='border: 1px solid #dddddd'>none</td><td style='border: 1px solid #dddddd'>none</td><td style='border: 1px solid #dddddd'>19</td><td style='border: 1px solid #dddddd'>29</td><td style='border: 1px solid #dddddd'>credits_paid_to_date</td><td style='border: 1px solid #dddddd'>2</td><td style='border: 1px solid #dddddd'>yes</td><td style='border: 1px solid #dddddd'>own</td><td style='border: 1px solid #dddddd'>1</td><td style='border: 1px solid #dddddd'>edc1e06c-7bf9-4522-8893-05a919a35ca0</td><td style='border: 1px solid #dddddd'>none</td><td style='border: 1px solid #dddddd'>female</td><td style='border: 1px solid #dddddd'>1</td><td style='border: 1px solid #dddddd'>savings_insurance</td><td style='border: 1px solid #dddddd'>less_1</td><td style='border: 1px solid #dddddd'>[0.8937549052583218, 0.10624509474167822]</td></tr><tr><td style='border: 1px solid #dddddd'></td><td style='border: 1px solid #dddddd'>250</td><td style='border: 1px solid #dddddd'>ce94d7419c28c598543294fbc4f5f864-107</td><td style='border: 1px solid #dddddd'>2</td><td style='border: 1px solid #dddddd'>100_to_500</td><td style='border: 1px solid #dddddd'>2024-08-07T09:59:07.624427Z</td><td style='border: 1px solid #dddddd'>0.9710072852398339</td><td style='border: 1px solid #dddddd'>less_0</td><td style='border: 1px solid #dddddd'>car_new</td><td style='border: 1px solid #dddddd'>No Risk</td><td style='border: 1px solid #dddddd'>skilled</td><td style='border: 1px solid #dddddd'>stores</td><td style='border: 1px solid #dddddd'>none</td><td style='border: 1px solid #dddddd'>11</td><td style='border: 1px solid #dddddd'>21</td><td style='border: 1px solid #dddddd'>prior_payments_delayed</td><td style='border: 1px solid #dddddd'>1</td><td style='border: 1px solid #dddddd'>yes</td><td style='border: 1px solid #dddddd'>own</td><td style='border: 1px solid #dddddd'>1</td><td style='border: 1px solid #dddddd'>edc1e06c-7bf9-4522-8893-05a919a35ca0</td><td style='border: 1px solid #dddddd'>none</td><td style='border: 1px solid #dddddd'>female</td><td style='border: 1px solid #dddddd'>1</td><td style='border: 1px solid #dddddd'>real_estate</td><td style='border: 1px solid #dddddd'>1_to_4</td><td style='border: 1px solid #dddddd'>[0.9710072852398339, 0.028992714760166103]</td></tr>\n",
       "            </table>\n",
       "        </body>\n",
       "        </HTML>"
      ],
      "text/plain": [
       "<IPython.core.display.HTML object>"
      ]
     },
     "metadata": {},
     "output_type": "display_data"
    }
   ],
   "source": [
    "wos_client.data_sets.show_records(data_set_id=payload_data_set_id)"
   ]
  },
  {
   "cell_type": "code",
   "execution_count": 62,
   "metadata": {},
   "outputs": [
    {
     "name": "stdout",
     "output_type": "stream",
     "text": [
      "Running explanations on scoring IDs: ['ce94d7419c28c598543294fbc4f5f864-1', 'ce94d7419c28c598543294fbc4f5f864-10', 'ce94d7419c28c598543294fbc4f5f864-100', 'ce94d7419c28c598543294fbc4f5f864-101', 'ce94d7419c28c598543294fbc4f5f864-102']\n",
      "{\n",
      "  \"metadata\": {\n",
      "    \"explanation_task_ids\": [\n",
      "      \"6fa53975-ddd3-446f-99b1-b4156fcb50b9\",\n",
      "      \"6caec445-5a2b-429d-ba3e-92847fbc05c9\",\n",
      "      \"2dc8dca5-a6a2-4433-b0bc-98eb61e3b559\",\n",
      "      \"e7a099b6-ceb1-4864-8536-88497cd8b033\",\n",
      "      \"a9e029fa-5fc8-4d98-b974-3d5144674768\"\n",
      "    ],\n",
      "    \"created_by\": \"1000331001\",\n",
      "    \"created_at\": \"2024-08-07T10:41:59.445949Z\"\n",
      "  }\n",
      "}\n"
     ]
    },
    {
     "data": {
      "text/plain": [
       "'6fa53975-ddd3-446f-99b1-b4156fcb50b9'"
      ]
     },
     "execution_count": 34,
     "metadata": {},
     "output_type": "execute_result"
    }
   ],
   "source": [
    "payload_data = wos_client.data_sets.get_list_of_records(limit=5,data_set_id=payload_data_set_id,output_type='pandas').result\n",
    "scoring_ids=payload_data['scoring_id'].tolist()\n",
    "print(\"Running explanations on scoring IDs: {}\".format(scoring_ids))\n",
    "explanation_types = [\"lime\", \"contrastive\"]\n",
    "result = wos_client.monitor_instances.explanation_tasks(scoring_ids=scoring_ids, explanation_types=explanation_types, subscription_id=subscription_id).result\n",
    "print(result)\n",
    "explanation_task_id=result.to_dict()['metadata']['explanation_task_ids'][0]\n",
    "explanation_task_id"
   ]
  },
  {
   "cell_type": "code",
   "execution_count": 67,
   "metadata": {},
   "outputs": [
    {
     "data": {
      "text/plain": [
       "{'metadata': {'explanation_task_id': '6fa53975-ddd3-446f-99b1-b4156fcb50b9',\n",
       "  'created_by': '1000331001',\n",
       "  'created_at': '2024-08-07T10:41:59.445949Z'},\n",
       " 'entity': {'status': {'state': 'in_progress'},\n",
       "  'asset': {'id': '1b9f22c5-ac03-4017-b40b-27969e429379',\n",
       "   'name': 'Scikit German Risk Model WML V4 - zLinux',\n",
       "   'input_data_type': 'structured',\n",
       "   'problem_type': 'binary',\n",
       "   'deployment': {'id': 'edc1e06c-7bf9-4522-8893-05a919a35ca0',\n",
       "    'name': 'Scikit German Risk Deployment WML V4 - zLinux'}},\n",
       "  'scoring_id': 'ce94d7419c28c598543294fbc4f5f864-1'}}"
      ]
     },
     "execution_count": 35,
     "metadata": {},
     "output_type": "execute_result"
    }
   ],
   "source": [
    "wos_client.monitor_instances.get_explanation_tasks(explanation_task_id=explanation_task_id, subscription_id=subscription_id).result.to_dict()"
   ]
  },
  {
   "cell_type": "markdown",
   "metadata": {},
   "source": [
    "## Congratulations\n",
    "\n",
    "You have finished the tutorial for IBM Watson OpenScale and AWS Machine Learning Studio. You can now view the [OpenScale Dashboard](https://aiopenscale.cloud.ibm.com/). Click on the tile for the German Credit AWS model to see fairness, accuracy, and performance monitors. Click on the timeseries graph to get detailed information on transactions during a specific time window."
   ]
  },
  {
   "cell_type": "markdown",
   "metadata": {},
   "source": [
    "---"
   ]
  }
 ],
 "metadata": {
  "kernelspec": {
   "display_name": "Python 3 (ipykernel)",
   "language": "python",
   "name": "python3"
  },
  "language_info": {
   "codemirror_mode": {
    "name": "ipython",
    "version": 3
   },
   "file_extension": ".py",
   "mimetype": "text/x-python",
   "name": "python",
   "nbconvert_exporter": "python",
   "pygments_lexer": "ipython3",
   "version": "3.10.14"
  },
  "varInspector": {
   "cols": {
    "lenName": 16,
    "lenType": 16,
    "lenVar": 40
   },
   "kernels_config": {
    "python": {
     "delete_cmd_postfix": "",
     "delete_cmd_prefix": "del ",
     "library": "var_list.py",
     "varRefreshCmd": "print(var_dic_list())"
    },
    "r": {
     "delete_cmd_postfix": ") ",
     "delete_cmd_prefix": "rm(",
     "library": "var_list.r",
     "varRefreshCmd": "cat(var_dic_list()) "
    }
   },
   "types_to_exclude": [
    "module",
    "function",
    "builtin_function_or_method",
    "instance",
    "_Feature"
   ],
   "window_display": false
  }
 },
 "nbformat": 4,
 "nbformat_minor": 1
}
